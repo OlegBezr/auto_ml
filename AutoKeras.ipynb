{
 "cells": [
  {
   "cell_type": "code",
   "execution_count": 12,
   "metadata": {},
   "outputs": [],
   "source": [
    "import autokeras as ak\n",
    "from pandas import read_csv\n",
    "import pandas as pd\n",
    "from sklearn.model_selection import train_test_split"
   ]
  },
  {
   "cell_type": "code",
   "execution_count": 13,
   "metadata": {
    "tags": []
   },
   "outputs": [
    {
     "name": "stdout",
     "output_type": "stream",
     "text": [
      "[name: \"/device:CPU:0\"\n",
      "device_type: \"CPU\"\n",
      "memory_limit: 268435456\n",
      "locality {\n",
      "}\n",
      "incarnation: 13011325291180170216\n",
      ", name: \"/device:XLA_CPU:0\"\n",
      "device_type: \"XLA_CPU\"\n",
      "memory_limit: 17179869184\n",
      "locality {\n",
      "}\n",
      "incarnation: 11126124205369387315\n",
      "physical_device_desc: \"device: XLA_CPU device\"\n",
      ", name: \"/device:XLA_GPU:0\"\n",
      "device_type: \"XLA_GPU\"\n",
      "memory_limit: 17179869184\n",
      "locality {\n",
      "}\n",
      "incarnation: 8552537175052242631\n",
      "physical_device_desc: \"device: XLA_GPU device\"\n",
      "]\n"
     ]
    }
   ],
   "source": [
    "from tensorflow.python.client import device_lib\n",
    "print(device_lib.list_local_devices())"
   ]
  },
  {
   "cell_type": "code",
   "execution_count": 14,
   "metadata": {},
   "outputs": [],
   "source": [
    "test = read_csv(\"NTI_data/test.csv\")\n",
    "train_target = read_csv(\"NTI_data/train_target.csv\")\n",
    "transactions_test = read_csv(\"NTI_data/transactions_test.csv\")\n",
    "transactions_train = read_csv(\"NTI_data/transactions_train.csv\")"
   ]
  },
  {
   "cell_type": "code",
   "execution_count": 15,
   "metadata": {},
   "outputs": [],
   "source": [
    "#Train\n",
    "#Признаки, связанные с суммой покупки\n",
    "agg_features=transactions_train.groupby('client_id')['amount_rur'].agg(['sum','mean','max']).reset_index()\n",
    "\n",
    "#Количество в каждой категории\n",
    "amount_of_purchase=transactions_train.groupby(['client_id','small_group'])['amount_rur'].count()\n",
    "counts_train=amount_of_purchase.reset_index().pivot(index='client_id', \\\n",
    "                                                      columns='small_group',values='amount_rur')\n",
    "counts_train=counts_train.fillna(0)\n",
    "counts_train.columns=['small_group_' + str(i) for i in counts_train.columns]\n",
    "\n",
    "#Сумма в каждой категории\n",
    "sum_of_group=transactions_train.groupby(['client_id','small_group'])['amount_rur'].sum()\n",
    "sum_train=sum_of_group.reset_index().pivot(index='client_id', \\\n",
    "                                                      columns='small_group',values='amount_rur')\n",
    "sum_train=sum_train.fillna(0)\n",
    "sum_train.columns=['small_group_sum_'+str(i) for i in sum_train.columns]\n",
    "\n",
    "#Минимум в каждой категории\n",
    "min_of_group=transactions_train.groupby(['client_id','small_group'])['amount_rur'].min()\n",
    "min_train=sum_of_group.reset_index().pivot(index='client_id', \\\n",
    "                                                      columns='small_group',values='amount_rur')\n",
    "min_train=min_train.fillna(0)\n",
    "min_train.columns=['small_group_min_'+str(i) for i in min_train.columns]\n",
    "\n",
    "#Максимум в каждой категории\n",
    "max_of_group=transactions_train.groupby(['client_id','small_group'])['amount_rur'].min()\n",
    "max_train=sum_of_group.reset_index().pivot(index='client_id', \\\n",
    "                                                      columns='small_group',values='amount_rur')\n",
    "max_train=max_train.fillna(0)\n",
    "max_train.columns=['small_group_max_'+str(i) for i in max_train.columns]\n",
    "\n",
    "#Средняя сумма в каждой категории\n",
    "avg_of_group=transactions_train.groupby(['client_id','small_group'])['amount_rur'].mean()\n",
    "avg_train=avg_of_group.reset_index().pivot(index='client_id', \\\n",
    "                                                      columns='small_group',values='amount_rur')\n",
    "avg_train=avg_train.fillna(0)\n",
    "avg_train.columns=['small_group_avg_'+str(i) for i in avg_train.columns]\n",
    "\n",
    "#Соединим все в одну таблицу\n",
    "counts_train=pd.merge(sum_train,counts_train,on='client_id')\n",
    "counts_train=pd.merge(avg_train,counts_train,on='client_id')\n",
    "counts_train=pd.merge(min_train,counts_train,on='client_id')\n",
    "counts_train=pd.merge(max_train,counts_train,on='client_id')\n",
    "train=pd.merge(train_target,agg_features,on='client_id')\n",
    "train=pd.merge(train,counts_train.reset_index(),on='client_id')"
   ]
  },
  {
   "cell_type": "code",
   "execution_count": 16,
   "metadata": {},
   "outputs": [],
   "source": [
    "train_data = train.head(1000)\n",
    "test_data = train.tail(1000)"
   ]
  },
  {
   "cell_type": "code",
   "execution_count": 17,
   "metadata": {},
   "outputs": [],
   "source": [
    "import time\n",
    "start_time = time.time()"
   ]
  },
  {
   "cell_type": "code",
   "execution_count": 18,
   "metadata": {},
   "outputs": [],
   "source": [
    "model_finder = ak.StructuredDataClassifier(overwrite=True, max_trials=50)\n",
    "X_train = train_data.drop('bins', 1)\n",
    "y_train = train_data['bins']\n",
    "X_test = test_data.drop('bins', 1)\n",
    "y_test = test_data['bins']"
   ]
  },
  {
   "cell_type": "code",
   "execution_count": 19,
   "metadata": {
    "tags": [
     "outputPrepend"
    ]
   },
   "outputs": [
    {
     "name": "stdout",
     "output_type": "stream",
     "text": [
      "WARNING:tensorflow:Unresolved object in checkpoint: (root).optimizer.iter\n",
      "WARNING:tensorflow:Unresolved object in checkpoint: (root).optimizer.beta_1\n",
      "WARNING:tensorflow:Unresolved object in checkpoint: (root).optimizer.beta_2\n",
      "WARNING:tensorflow:Unresolved object in checkpoint: (root).optimizer.decay\n",
      "WARNING:tensorflow:Unresolved object in checkpoint: (root).optimizer.learning_rate\n",
      "WARNING:tensorflow:A checkpoint was restored (e.g. tf.train.Checkpoint.restore or tf.keras.Model.load_weights) but not all checkpointed values were used. See above for specific issues. Use expect_partial() on the load status object, e.g. tf.train.Checkpoint.restore(...).expect_partial(), to silence these warnings, or use assert_consumed() to make the check explicit. See https://www.tensorflow.org/guide/checkpoint#loading_mechanics for details.\n"
     ]
    },
    {
     "data": {
      "text/html": [
       "<span style=\"color:#4527A0\"><h1 style=\"font-size:18px\">Starting new trial</h1></span>"
      ],
      "text/plain": [
       "<IPython.core.display.HTML object>"
      ]
     },
     "metadata": {},
     "output_type": "display_data"
    },
    {
     "name": "stdout",
     "output_type": "stream",
     "text": [
      "Epoch 1/1000\n",
      "26/26 [==============================] - ETA: 0s - loss: 1.8110 - accuracy: 0.28 - ETA: 0s - loss: 1.6689 - accuracy: 0.23 - ETA: 0s - loss: 1.5840 - accuracy: 0.25 - ETA: 0s - loss: 1.5463 - accuracy: 0.28 - ETA: 0s - loss: 1.5439 - accuracy: 0.29 - 6s 215ms/step - loss: 1.5372 - accuracy: 0.3017 - val_loss: 1.4119 - val_accuracy: 0.2798\n",
      "Epoch 2/1000\n",
      "26/26 [==============================] - ETA: 0s - loss: 1.5300 - accuracy: 0.40 - ETA: 0s - loss: 1.3971 - accuracy: 0.40 - ETA: 0s - loss: 1.3657 - accuracy: 0.39 - ETA: 0s - loss: 1.3289 - accuracy: 0.39 - ETA: 0s - loss: 1.3278 - accuracy: 0.40 - 1s 42ms/step - loss: 1.3222 - accuracy: 0.4111 - val_loss: 1.3250 - val_accuracy: 0.3095\n",
      "Epoch 3/1000\n",
      "26/26 [==============================] - ETA: 0s - loss: 1.2215 - accuracy: 0.53 - ETA: 0s - loss: 1.3305 - accuracy: 0.41 - ETA: 0s - loss: 1.2740 - accuracy: 0.43 - ETA: 0s - loss: 1.2696 - accuracy: 0.43 - ETA: 0s - loss: 1.2663 - accuracy: 0.42 - 1s 41ms/step - loss: 1.2549 - accuracy: 0.4363 - val_loss: 1.2986 - val_accuracy: 0.3690\n",
      "Epoch 4/1000\n",
      "26/26 [==============================] - ETA: 0s - loss: 1.0646 - accuracy: 0.68 - ETA: 0s - loss: 1.2311 - accuracy: 0.45 - ETA: 0s - loss: 1.2227 - accuracy: 0.46 - ETA: 0s - loss: 1.2191 - accuracy: 0.45 - ETA: 0s - loss: 1.2161 - accuracy: 0.45 - 1s 49ms/step - loss: 1.2071 - accuracy: 0.4615 - val_loss: 1.2054 - val_accuracy: 0.4107\n",
      "Epoch 5/1000\n",
      "26/26 [==============================] - ETA: 0s - loss: 1.0746 - accuracy: 0.50 - ETA: 0s - loss: 1.1568 - accuracy: 0.46 - ETA: 0s - loss: 1.1581 - accuracy: 0.48 - ETA: 0s - loss: 1.1515 - accuracy: 0.48 - ETA: 0s - loss: 1.1594 - accuracy: 0.48 - 1s 36ms/step - loss: 1.1534 - accuracy: 0.4868 - val_loss: 1.1500 - val_accuracy: 0.5060\n",
      "Epoch 6/1000\n",
      "26/26 [==============================] - ETA: 0s - loss: 1.0122 - accuracy: 0.50 - ETA: 0s - loss: 1.1916 - accuracy: 0.45 - ETA: 0s - loss: 1.1509 - accuracy: 0.50 - ETA: 0s - loss: 1.1300 - accuracy: 0.51 - ETA: 0s - loss: 1.1346 - accuracy: 0.50 - 1s 40ms/step - loss: 1.1175 - accuracy: 0.5156 - val_loss: 1.1027 - val_accuracy: 0.5357\n",
      "Epoch 7/1000\n",
      "26/26 [==============================] - ETA: 0s - loss: 0.9622 - accuracy: 0.71 - ETA: 0s - loss: 1.0671 - accuracy: 0.54 - ETA: 0s - loss: 1.0554 - accuracy: 0.54 - ETA: 0s - loss: 1.0421 - accuracy: 0.56 - ETA: 0s - loss: 1.0466 - accuracy: 0.55 - 1s 40ms/step - loss: 1.0399 - accuracy: 0.5577 - val_loss: 1.0799 - val_accuracy: 0.5655\n",
      "Epoch 8/1000\n",
      "26/26 [==============================] - ETA: 0s - loss: 0.9057 - accuracy: 0.62 - ETA: 0s - loss: 1.0594 - accuracy: 0.56 - ETA: 0s - loss: 1.0136 - accuracy: 0.59 - ETA: 0s - loss: 1.0122 - accuracy: 0.57 - ETA: 0s - loss: 1.0211 - accuracy: 0.58 - ETA: 0s - loss: 1.0179 - accuracy: 0.57 - 1s 43ms/step - loss: 1.0179 - accuracy: 0.5721 - val_loss: 1.0980 - val_accuracy: 0.5536\n",
      "Epoch 9/1000\n",
      "26/26 [==============================] - ETA: 0s - loss: 1.0235 - accuracy: 0.62 - ETA: 0s - loss: 1.0743 - accuracy: 0.55 - ETA: 0s - loss: 1.0361 - accuracy: 0.57 - ETA: 0s - loss: 1.0459 - accuracy: 0.55 - ETA: 0s - loss: 1.0378 - accuracy: 0.55 - 1s 47ms/step - loss: 1.0381 - accuracy: 0.5541 - val_loss: 1.0861 - val_accuracy: 0.5714\n",
      "Epoch 10/1000\n",
      "26/26 [==============================] - ETA: 0s - loss: 0.8707 - accuracy: 0.65 - ETA: 0s - loss: 1.0937 - accuracy: 0.53 - ETA: 0s - loss: 1.0294 - accuracy: 0.57 - ETA: 0s - loss: 1.0065 - accuracy: 0.56 - ETA: 0s - loss: 1.0038 - accuracy: 0.56 - 1s 54ms/step - loss: 0.9935 - accuracy: 0.5697 - val_loss: 1.0708 - val_accuracy: 0.5952\n",
      "Epoch 11/1000\n",
      "26/26 [==============================] - ETA: 0s - loss: 1.0225 - accuracy: 0.53 - ETA: 0s - loss: 1.0468 - accuracy: 0.56 - ETA: 0s - loss: 0.9798 - accuracy: 0.57 - ETA: 0s - loss: 0.9562 - accuracy: 0.59 - ETA: 0s - loss: 0.9583 - accuracy: 0.59 - 1s 42ms/step - loss: 0.9464 - accuracy: 0.5950 - val_loss: 1.0903 - val_accuracy: 0.5179\n",
      "Epoch 12/1000\n",
      "26/26 [==============================] - ETA: 0s - loss: 0.9946 - accuracy: 0.50 - ETA: 0s - loss: 1.0310 - accuracy: 0.54 - ETA: 0s - loss: 0.9535 - accuracy: 0.60 - ETA: 0s - loss: 0.9434 - accuracy: 0.61 - ETA: 0s - loss: 0.9484 - accuracy: 0.61 - 1s 43ms/step - loss: 0.9519 - accuracy: 0.6106 - val_loss: 1.0523 - val_accuracy: 0.5595\n",
      "Epoch 13/1000\n",
      "26/26 [==============================] - ETA: 0s - loss: 0.9065 - accuracy: 0.62 - ETA: 0s - loss: 1.0024 - accuracy: 0.57 - ETA: 0s - loss: 0.9274 - accuracy: 0.59 - ETA: 0s - loss: 0.9238 - accuracy: 0.60 - ETA: 0s - loss: 0.9443 - accuracy: 0.59 - 1s 40ms/step - loss: 0.9330 - accuracy: 0.5998 - val_loss: 1.0371 - val_accuracy: 0.5417\n",
      "Epoch 14/1000\n",
      "26/26 [==============================] - ETA: 0s - loss: 0.8143 - accuracy: 0.62 - ETA: 0s - loss: 0.9336 - accuracy: 0.57 - ETA: 0s - loss: 0.8990 - accuracy: 0.60 - ETA: 0s - loss: 0.8901 - accuracy: 0.61 - ETA: 0s - loss: 0.8948 - accuracy: 0.61 - 1s 41ms/step - loss: 0.8884 - accuracy: 0.6274 - val_loss: 1.0870 - val_accuracy: 0.5357\n",
      "Epoch 15/1000\n",
      "26/26 [==============================] - ETA: 0s - loss: 0.8160 - accuracy: 0.71 - ETA: 0s - loss: 0.8672 - accuracy: 0.64 - ETA: 0s - loss: 0.8638 - accuracy: 0.63 - ETA: 0s - loss: 0.8850 - accuracy: 0.60 - ETA: 0s - loss: 0.8775 - accuracy: 0.62 - 1s 40ms/step - loss: 0.8719 - accuracy: 0.6178 - val_loss: 1.1175 - val_accuracy: 0.5238\n",
      "Epoch 16/1000\n",
      "26/26 [==============================] - ETA: 0s - loss: 0.8464 - accuracy: 0.65 - ETA: 0s - loss: 0.8870 - accuracy: 0.65 - ETA: 0s - loss: 0.8510 - accuracy: 0.65 - ETA: 0s - loss: 0.8431 - accuracy: 0.65 - ETA: 0s - loss: 0.8557 - accuracy: 0.65 - 1s 45ms/step - loss: 0.8316 - accuracy: 0.6611 - val_loss: 1.0808 - val_accuracy: 0.5000\n",
      "Epoch 17/1000\n",
      "26/26 [==============================] - ETA: 0s - loss: 0.8674 - accuracy: 0.62 - ETA: 0s - loss: 0.8582 - accuracy: 0.59 - ETA: 0s - loss: 0.8002 - accuracy: 0.65 - ETA: 0s - loss: 0.7928 - accuracy: 0.67 - ETA: 0s - loss: 0.7948 - accuracy: 0.67 - ETA: 0s - loss: 0.7923 - accuracy: 0.67 - 1s 39ms/step - loss: 0.7923 - accuracy: 0.6743 - val_loss: 1.0651 - val_accuracy: 0.5179\n",
      "Epoch 18/1000\n",
      "26/26 [==============================] - ETA: 0s - loss: 0.7859 - accuracy: 0.71 - ETA: 0s - loss: 0.8221 - accuracy: 0.68 - ETA: 0s - loss: 0.7843 - accuracy: 0.69 - ETA: 0s - loss: 0.8047 - accuracy: 0.66 - ETA: 0s - loss: 0.8006 - accuracy: 0.66 - ETA: 0s - loss: 0.7975 - accuracy: 0.67 - 1s 44ms/step - loss: 0.7975 - accuracy: 0.6767 - val_loss: 1.0737 - val_accuracy: 0.5179\n",
      "Epoch 19/1000\n",
      "26/26 [==============================] - ETA: 0s - loss: 0.8381 - accuracy: 0.68 - ETA: 0s - loss: 0.7651 - accuracy: 0.70 - ETA: 0s - loss: 0.7474 - accuracy: 0.70 - ETA: 0s - loss: 0.7746 - accuracy: 0.68 - ETA: 0s - loss: 0.7813 - accuracy: 0.67 - 1s 55ms/step - loss: 0.7714 - accuracy: 0.6839 - val_loss: 1.1282 - val_accuracy: 0.4881\n",
      "Epoch 20/1000\n",
      "26/26 [==============================] - ETA: 0s - loss: 0.7060 - accuracy: 0.68 - ETA: 0s - loss: 0.8499 - accuracy: 0.63 - ETA: 0s - loss: 0.7718 - accuracy: 0.66 - ETA: 0s - loss: 0.7579 - accuracy: 0.68 - ETA: 0s - loss: 0.7648 - accuracy: 0.69 - 1s 42ms/step - loss: 0.7522 - accuracy: 0.6959 - val_loss: 1.0793 - val_accuracy: 0.5595\n",
      "Epoch 21/1000\n",
      "26/26 [==============================] - ETA: 0s - loss: 0.6800 - accuracy: 0.71 - ETA: 0s - loss: 0.8001 - accuracy: 0.65 - ETA: 0s - loss: 0.7549 - accuracy: 0.67 - ETA: 0s - loss: 0.7592 - accuracy: 0.67 - ETA: 0s - loss: 0.7184 - accuracy: 0.70 - 2s 62ms/step - loss: 0.7075 - accuracy: 0.7091 - val_loss: 1.1221 - val_accuracy: 0.5179\n",
      "Epoch 22/1000\n",
      "26/26 [==============================] - ETA: 0s - loss: 0.7857 - accuracy: 0.78 - ETA: 0s - loss: 0.8181 - accuracy: 0.69 - ETA: 0s - loss: 0.7328 - accuracy: 0.72 - ETA: 0s - loss: 0.7506 - accuracy: 0.70 - ETA: 0s - loss: 0.7311 - accuracy: 0.71 - 1s 44ms/step - loss: 0.7206 - accuracy: 0.7200 - val_loss: 1.0952 - val_accuracy: 0.5595\n",
      "Epoch 23/1000\n",
      "26/26 [==============================] - ETA: 0s - loss: 0.7523 - accuracy: 0.62 - ETA: 0s - loss: 0.7688 - accuracy: 0.69 - ETA: 0s - loss: 0.7430 - accuracy: 0.71 - ETA: 0s - loss: 0.7280 - accuracy: 0.71 - ETA: 0s - loss: 0.7311 - accuracy: 0.71 - 2s 61ms/step - loss: 0.7196 - accuracy: 0.7079 - val_loss: 1.1309 - val_accuracy: 0.5298\n"
     ]
    },
    {
     "data": {
      "text/html": [
       "<span style=\"color:#4527A0\"><h1 style=\"font-size:18px\">Trial complete</h1></span>"
      ],
      "text/plain": [
       "<IPython.core.display.HTML object>"
      ]
     },
     "metadata": {},
     "output_type": "display_data"
    },
    {
     "data": {
      "text/html": [
       "<span style=\"color:#4527A0\"><h1 style=\"font-size:18px\">Trial summary</h1></span>"
      ],
      "text/plain": [
       "<IPython.core.display.HTML object>"
      ]
     },
     "metadata": {},
     "output_type": "display_data"
    },
    {
     "data": {
      "text/html": [
       "<span style=\"color:cyan\"> |-Trial ID: ca15488babb636861b34e282df16ece3</span>"
      ],
      "text/plain": [
       "<IPython.core.display.HTML object>"
      ]
     },
     "metadata": {},
     "output_type": "display_data"
    },
    {
     "data": {
      "text/html": [
       "<span style=\"color:cyan\"> |-Score: 0.5952380895614624</span>"
      ],
      "text/plain": [
       "<IPython.core.display.HTML object>"
      ]
     },
     "metadata": {},
     "output_type": "display_data"
    },
    {
     "data": {
      "text/html": [
       "<span style=\"color:cyan\"> |-Best step: 9</span>"
      ],
      "text/plain": [
       "<IPython.core.display.HTML object>"
      ]
     },
     "metadata": {},
     "output_type": "display_data"
    },
    {
     "data": {
      "text/html": [
       "<span style=\"color:#7E57C2\"><h2 style=\"font-size:16px\">Hyperparameters:</h2></span>"
      ],
      "text/plain": [
       "<IPython.core.display.HTML object>"
      ]
     },
     "metadata": {},
     "output_type": "display_data"
    },
    {
     "data": {
      "text/html": [
       "<span style=\"color:cyan\"> |-classification_head_1/dropout: 0</span>"
      ],
      "text/plain": [
       "<IPython.core.display.HTML object>"
      ]
     },
     "metadata": {},
     "output_type": "display_data"
    },
    {
     "data": {
      "text/html": [
       "<span style=\"color:blue\"> |-learning_rate: 0.001</span>"
      ],
      "text/plain": [
       "<IPython.core.display.HTML object>"
      ]
     },
     "metadata": {},
     "output_type": "display_data"
    },
    {
     "data": {
      "text/html": [
       "<span style=\"color:cyan\"> |-optimizer: adam</span>"
      ],
      "text/plain": [
       "<IPython.core.display.HTML object>"
      ]
     },
     "metadata": {},
     "output_type": "display_data"
    },
    {
     "data": {
      "text/html": [
       "<span style=\"color:blue\"> |-structured_data_block_1/dense_block_1/dropout: 0.25</span>"
      ],
      "text/plain": [
       "<IPython.core.display.HTML object>"
      ]
     },
     "metadata": {},
     "output_type": "display_data"
    },
    {
     "data": {
      "text/html": [
       "<span style=\"color:cyan\"> |-structured_data_block_1/dense_block_1/num_layers: 3</span>"
      ],
      "text/plain": [
       "<IPython.core.display.HTML object>"
      ]
     },
     "metadata": {},
     "output_type": "display_data"
    },
    {
     "data": {
      "text/html": [
       "<span style=\"color:blue\"> |-structured_data_block_1/dense_block_1/units_0: 128</span>"
      ],
      "text/plain": [
       "<IPython.core.display.HTML object>"
      ]
     },
     "metadata": {},
     "output_type": "display_data"
    },
    {
     "data": {
      "text/html": [
       "<span style=\"color:cyan\"> |-structured_data_block_1/dense_block_1/units_1: 64</span>"
      ],
      "text/plain": [
       "<IPython.core.display.HTML object>"
      ]
     },
     "metadata": {},
     "output_type": "display_data"
    },
    {
     "data": {
      "text/html": [
       "<span style=\"color:blue\"> |-structured_data_block_1/dense_block_1/units_2: 32</span>"
      ],
      "text/plain": [
       "<IPython.core.display.HTML object>"
      ]
     },
     "metadata": {},
     "output_type": "display_data"
    },
    {
     "data": {
      "text/html": [
       "<span style=\"color:cyan\"> |-structured_data_block_1/dense_block_1/use_batchnorm: True</span>"
      ],
      "text/plain": [
       "<IPython.core.display.HTML object>"
      ]
     },
     "metadata": {},
     "output_type": "display_data"
    },
    {
     "data": {
      "text/html": [
       "<span style=\"color:#4527A0\"><h1 style=\"font-size:18px\">Starting new trial</h1></span>"
      ],
      "text/plain": [
       "<IPython.core.display.HTML object>"
      ]
     },
     "metadata": {},
     "output_type": "display_data"
    },
    {
     "name": "stdout",
     "output_type": "stream",
     "text": [
      "Epoch 1/1000\n",
      "26/26 [==============================] - ETA: 0s - loss: 1.3770 - accuracy: 0.34 - ETA: 0s - loss: 1.4694 - accuracy: 0.33 - ETA: 0s - loss: 1.4064 - accuracy: 0.37 - ETA: 0s - loss: 1.3679 - accuracy: 0.38 - ETA: 0s - loss: 1.3691 - accuracy: 0.38 - 5s 206ms/step - loss: 1.3541 - accuracy: 0.3978 - val_loss: 1.6135 - val_accuracy: 0.2976\n",
      "Epoch 2/1000\n",
      "26/26 [==============================] - ETA: 0s - loss: 0.9342 - accuracy: 0.53 - ETA: 0s - loss: 1.0816 - accuracy: 0.54 - ETA: 0s - loss: 1.0582 - accuracy: 0.54 - ETA: 0s - loss: 1.0475 - accuracy: 0.55 - ETA: 0s - loss: 1.0661 - accuracy: 0.54 - 1s 42ms/step - loss: 1.0521 - accuracy: 0.5541 - val_loss: 1.2810 - val_accuracy: 0.4048\n",
      "Epoch 3/1000\n",
      "26/26 [==============================] - ETA: 0s - loss: 0.9239 - accuracy: 0.62 - ETA: 0s - loss: 1.0901 - accuracy: 0.54 - ETA: 0s - loss: 1.0091 - accuracy: 0.56 - ETA: 0s - loss: 0.9873 - accuracy: 0.58 - ETA: 0s - loss: 0.9990 - accuracy: 0.56 - 1s 41ms/step - loss: 0.9903 - accuracy: 0.5721 - val_loss: 1.1593 - val_accuracy: 0.4643\n",
      "Epoch 4/1000\n",
      "26/26 [==============================] - ETA: 0s - loss: 0.7225 - accuracy: 0.71 - ETA: 0s - loss: 0.9051 - accuracy: 0.63 - ETA: 0s - loss: 0.8861 - accuracy: 0.63 - ETA: 0s - loss: 0.8917 - accuracy: 0.62 - ETA: 0s - loss: 0.9028 - accuracy: 0.61 - 1s 36ms/step - loss: 0.8904 - accuracy: 0.6250 - val_loss: 1.1171 - val_accuracy: 0.4762\n",
      "Epoch 5/1000\n",
      "26/26 [==============================] - ETA: 0s - loss: 0.7651 - accuracy: 0.68 - ETA: 0s - loss: 0.9212 - accuracy: 0.63 - ETA: 0s - loss: 0.8684 - accuracy: 0.65 - ETA: 0s - loss: 0.8371 - accuracy: 0.66 - ETA: 0s - loss: 0.8589 - accuracy: 0.65 - 1s 45ms/step - loss: 0.8576 - accuracy: 0.6538 - val_loss: 1.1027 - val_accuracy: 0.5000\n",
      "Epoch 6/1000\n",
      "26/26 [==============================] - ETA: 0s - loss: 0.7394 - accuracy: 0.68 - ETA: 0s - loss: 0.8510 - accuracy: 0.67 - ETA: 0s - loss: 0.7819 - accuracy: 0.71 - ETA: 0s - loss: 0.7819 - accuracy: 0.70 - ETA: 0s - loss: 0.7891 - accuracy: 0.70 - 1s 40ms/step - loss: 0.7828 - accuracy: 0.7079 - val_loss: 1.0885 - val_accuracy: 0.5357\n",
      "Epoch 7/1000\n",
      "26/26 [==============================] - ETA: 0s - loss: 0.7324 - accuracy: 0.68 - ETA: 0s - loss: 0.7842 - accuracy: 0.72 - ETA: 0s - loss: 0.7185 - accuracy: 0.76 - ETA: 0s - loss: 0.7470 - accuracy: 0.73 - ETA: 0s - loss: 0.7481 - accuracy: 0.73 - 1s 35ms/step - loss: 0.7369 - accuracy: 0.7428 - val_loss: 1.0701 - val_accuracy: 0.5655\n",
      "Epoch 8/1000\n",
      "26/26 [==============================] - ETA: 0s - loss: 0.6508 - accuracy: 0.71 - ETA: 0s - loss: 0.7903 - accuracy: 0.71 - ETA: 0s - loss: 0.7172 - accuracy: 0.73 - ETA: 0s - loss: 0.7161 - accuracy: 0.71 - ETA: 0s - loss: 0.7227 - accuracy: 0.70 - 1s 44ms/step - loss: 0.7096 - accuracy: 0.7151 - val_loss: 1.0988 - val_accuracy: 0.5119\n",
      "Epoch 9/1000\n",
      "26/26 [==============================] - ETA: 0s - loss: 0.6829 - accuracy: 0.68 - ETA: 0s - loss: 0.7531 - accuracy: 0.71 - ETA: 0s - loss: 0.6719 - accuracy: 0.75 - ETA: 0s - loss: 0.6755 - accuracy: 0.74 - ETA: 0s - loss: 0.6828 - accuracy: 0.74 - 1s 40ms/step - loss: 0.6733 - accuracy: 0.7464 - val_loss: 1.0636 - val_accuracy: 0.5833\n",
      "Epoch 10/1000\n",
      "26/26 [==============================] - ETA: 0s - loss: 0.7377 - accuracy: 0.62 - ETA: 0s - loss: 0.7388 - accuracy: 0.73 - ETA: 0s - loss: 0.6557 - accuracy: 0.75 - ETA: 0s - loss: 0.6438 - accuracy: 0.76 - ETA: 0s - loss: 0.6332 - accuracy: 0.76 - 1s 50ms/step - loss: 0.6332 - accuracy: 0.7692 - val_loss: 1.1092 - val_accuracy: 0.5595\n",
      "Epoch 11/1000\n",
      "26/26 [==============================] - ETA: 0s - loss: 0.5794 - accuracy: 0.78 - ETA: 0s - loss: 0.6878 - accuracy: 0.77 - ETA: 0s - loss: 0.6202 - accuracy: 0.80 - ETA: 0s - loss: 0.5922 - accuracy: 0.81 - ETA: 0s - loss: 0.6086 - accuracy: 0.79 - 1s 46ms/step - loss: 0.5951 - accuracy: 0.8029 - val_loss: 1.1456 - val_accuracy: 0.5536\n",
      "Epoch 12/1000\n",
      "26/26 [==============================] - ETA: 0s - loss: 0.6138 - accuracy: 0.81 - ETA: 0s - loss: 0.6410 - accuracy: 0.79 - ETA: 0s - loss: 0.5772 - accuracy: 0.81 - ETA: 0s - loss: 0.5829 - accuracy: 0.79 - ETA: 0s - loss: 0.5877 - accuracy: 0.78 - 1s 30ms/step - loss: 0.5786 - accuracy: 0.7921 - val_loss: 1.1275 - val_accuracy: 0.5714\n",
      "Epoch 13/1000\n",
      "26/26 [==============================] - ETA: 0s - loss: 0.5674 - accuracy: 0.75 - ETA: 0s - loss: 0.5898 - accuracy: 0.82 - ETA: 0s - loss: 0.5374 - accuracy: 0.83 - ETA: 0s - loss: 0.5430 - accuracy: 0.81 - ETA: 0s - loss: 0.5472 - accuracy: 0.81 - 1s 38ms/step - loss: 0.5372 - accuracy: 0.8221 - val_loss: 1.1747 - val_accuracy: 0.5298\n",
      "Epoch 14/1000\n",
      "26/26 [==============================] - ETA: 0s - loss: 0.5634 - accuracy: 0.84 - ETA: 0s - loss: 0.5922 - accuracy: 0.80 - ETA: 0s - loss: 0.5436 - accuracy: 0.82 - ETA: 0s - loss: 0.5476 - accuracy: 0.81 - ETA: 0s - loss: 0.5439 - accuracy: 0.81 - 1s 41ms/step - loss: 0.5341 - accuracy: 0.8185 - val_loss: 1.2227 - val_accuracy: 0.5119\n",
      "Epoch 15/1000\n",
      "26/26 [==============================] - ETA: 0s - loss: 0.5624 - accuracy: 0.81 - ETA: 0s - loss: 0.5958 - accuracy: 0.81 - ETA: 0s - loss: 0.5060 - accuracy: 0.85 - ETA: 0s - loss: 0.5059 - accuracy: 0.84 - ETA: 0s - loss: 0.5059 - accuracy: 0.84 - 1s 36ms/step - loss: 0.4957 - accuracy: 0.8522 - val_loss: 1.1627 - val_accuracy: 0.5476\n",
      "Epoch 16/1000\n",
      "26/26 [==============================] - ETA: 0s - loss: 0.5013 - accuracy: 0.84 - ETA: 0s - loss: 0.5720 - accuracy: 0.81 - ETA: 0s - loss: 0.5017 - accuracy: 0.84 - ETA: 0s - loss: 0.4990 - accuracy: 0.84 - ETA: 0s - loss: 0.4956 - accuracy: 0.85 - 1s 51ms/step - loss: 0.4878 - accuracy: 0.8558 - val_loss: 1.1881 - val_accuracy: 0.5476\n",
      "Epoch 17/1000\n",
      "26/26 [==============================] - ETA: 0s - loss: 0.3950 - accuracy: 0.87 - ETA: 0s - loss: 0.5280 - accuracy: 0.83 - ETA: 0s - loss: 0.4741 - accuracy: 0.84 - ETA: 0s - loss: 0.4766 - accuracy: 0.84 - ETA: 0s - loss: 0.4702 - accuracy: 0.84 - 1s 45ms/step - loss: 0.4606 - accuracy: 0.8510 - val_loss: 1.1950 - val_accuracy: 0.5298\n",
      "Epoch 18/1000\n",
      "26/26 [==============================] - ETA: 0s - loss: 0.4761 - accuracy: 0.81 - ETA: 0s - loss: 0.5009 - accuracy: 0.84 - ETA: 0s - loss: 0.4429 - accuracy: 0.86 - ETA: 0s - loss: 0.4469 - accuracy: 0.86 - ETA: 0s - loss: 0.4418 - accuracy: 0.86 - 1s 31ms/step - loss: 0.4341 - accuracy: 0.8714 - val_loss: 1.2351 - val_accuracy: 0.5595\n",
      "Epoch 19/1000\n",
      "26/26 [==============================] - ETA: 0s - loss: 0.4676 - accuracy: 0.87 - ETA: 0s - loss: 0.5062 - accuracy: 0.84 - ETA: 0s - loss: 0.4430 - accuracy: 0.87 - ETA: 0s - loss: 0.4405 - accuracy: 0.87 - ETA: 0s - loss: 0.4384 - accuracy: 0.87 - 1s 42ms/step - loss: 0.4303 - accuracy: 0.8726 - val_loss: 1.2378 - val_accuracy: 0.5417\n"
     ]
    },
    {
     "data": {
      "text/html": [
       "<span style=\"color:#4527A0\"><h1 style=\"font-size:18px\">Trial complete</h1></span>"
      ],
      "text/plain": [
       "<IPython.core.display.HTML object>"
      ]
     },
     "metadata": {},
     "output_type": "display_data"
    },
    {
     "data": {
      "text/html": [
       "<span style=\"color:#4527A0\"><h1 style=\"font-size:18px\">Trial summary</h1></span>"
      ],
      "text/plain": [
       "<IPython.core.display.HTML object>"
      ]
     },
     "metadata": {},
     "output_type": "display_data"
    },
    {
     "data": {
      "text/html": [
       "<span style=\"color:cyan\"> |-Trial ID: 61e6ede000c554f8ba8071f1d0034860</span>"
      ],
      "text/plain": [
       "<IPython.core.display.HTML object>"
      ]
     },
     "metadata": {},
     "output_type": "display_data"
    },
    {
     "data": {
      "text/html": [
       "<span style=\"color:cyan\"> |-Score: 0.5833333134651184</span>"
      ],
      "text/plain": [
       "<IPython.core.display.HTML object>"
      ]
     },
     "metadata": {},
     "output_type": "display_data"
    },
    {
     "data": {
      "text/html": [
       "<span style=\"color:cyan\"> |-Best step: 8</span>"
      ],
      "text/plain": [
       "<IPython.core.display.HTML object>"
      ]
     },
     "metadata": {},
     "output_type": "display_data"
    },
    {
     "data": {
      "text/html": [
       "<span style=\"color:#7E57C2\"><h2 style=\"font-size:16px\">Hyperparameters:</h2></span>"
      ],
      "text/plain": [
       "<IPython.core.display.HTML object>"
      ]
     },
     "metadata": {},
     "output_type": "display_data"
    },
    {
     "data": {
      "text/html": [
       "<span style=\"color:cyan\"> |-classification_head_1/dropout: 0</span>"
      ],
      "text/plain": [
       "<IPython.core.display.HTML object>"
      ]
     },
     "metadata": {},
     "output_type": "display_data"
    },
    {
     "data": {
      "text/html": [
       "<span style=\"color:blue\"> |-learning_rate: 0.001</span>"
      ],
      "text/plain": [
       "<IPython.core.display.HTML object>"
      ]
     },
     "metadata": {},
     "output_type": "display_data"
    },
    {
     "data": {
      "text/html": [
       "<span style=\"color:cyan\"> |-optimizer: adam</span>"
      ],
      "text/plain": [
       "<IPython.core.display.HTML object>"
      ]
     },
     "metadata": {},
     "output_type": "display_data"
    },
    {
     "data": {
      "text/html": [
       "<span style=\"color:blue\"> |-structured_data_block_1/dense_block_1/dropout: 0.25</span>"
      ],
      "text/plain": [
       "<IPython.core.display.HTML object>"
      ]
     },
     "metadata": {},
     "output_type": "display_data"
    },
    {
     "data": {
      "text/html": [
       "<span style=\"color:cyan\"> |-structured_data_block_1/dense_block_1/num_layers: 1</span>"
      ],
      "text/plain": [
       "<IPython.core.display.HTML object>"
      ]
     },
     "metadata": {},
     "output_type": "display_data"
    },
    {
     "data": {
      "text/html": [
       "<span style=\"color:blue\"> |-structured_data_block_1/dense_block_1/units_0: 128</span>"
      ],
      "text/plain": [
       "<IPython.core.display.HTML object>"
      ]
     },
     "metadata": {},
     "output_type": "display_data"
    },
    {
     "data": {
      "text/html": [
       "<span style=\"color:cyan\"> |-structured_data_block_1/dense_block_1/units_1: 64</span>"
      ],
      "text/plain": [
       "<IPython.core.display.HTML object>"
      ]
     },
     "metadata": {},
     "output_type": "display_data"
    },
    {
     "data": {
      "text/html": [
       "<span style=\"color:blue\"> |-structured_data_block_1/dense_block_1/units_2: 32</span>"
      ],
      "text/plain": [
       "<IPython.core.display.HTML object>"
      ]
     },
     "metadata": {},
     "output_type": "display_data"
    },
    {
     "data": {
      "text/html": [
       "<span style=\"color:cyan\"> |-structured_data_block_1/dense_block_1/use_batchnorm: True</span>"
      ],
      "text/plain": [
       "<IPython.core.display.HTML object>"
      ]
     },
     "metadata": {},
     "output_type": "display_data"
    },
    {
     "data": {
      "text/html": [
       "<span style=\"color:#4527A0\"><h1 style=\"font-size:18px\">Starting new trial</h1></span>"
      ],
      "text/plain": [
       "<IPython.core.display.HTML object>"
      ]
     },
     "metadata": {},
     "output_type": "display_data"
    },
    {
     "name": "stdout",
     "output_type": "stream",
     "text": [
      "Epoch 1/1000\n",
      "26/26 [==============================] - ETA: 0s - loss: 1.5620 - accuracy: 0.28 - ETA: 0s - loss: 1.6707 - accuracy: 0.26 - ETA: 0s - loss: 1.5598 - accuracy: 0.31 - ETA: 0s - loss: 1.4749 - accuracy: 0.33 - ETA: 0s - loss: 1.4555 - accuracy: 0.32 - 5s 207ms/step - loss: 1.4217 - accuracy: 0.3365 - val_loss: 10.9950 - val_accuracy: 0.2857\n",
      "Epoch 2/1000\n",
      "26/26 [==============================] - ETA: 0s - loss: 1.2711 - accuracy: 0.37 - ETA: 0s - loss: 1.2612 - accuracy: 0.40 - ETA: 0s - loss: 1.2698 - accuracy: 0.39 - ETA: 0s - loss: 1.2402 - accuracy: 0.41 - ETA: 0s - loss: 1.2128 - accuracy: 0.43 - 1s 41ms/step - loss: 1.2257 - accuracy: 0.4339 - val_loss: 2.4782 - val_accuracy: 0.3214\n",
      "Epoch 3/1000\n",
      "26/26 [==============================] - ETA: 0s - loss: 1.2263 - accuracy: 0.40 - ETA: 0s - loss: 1.2586 - accuracy: 0.45 - ETA: 0s - loss: 1.2524 - accuracy: 0.44 - ETA: 0s - loss: 1.2329 - accuracy: 0.44 - ETA: 0s - loss: 1.1998 - accuracy: 0.45 - ETA: 0s - loss: 1.1938 - accuracy: 0.45 - 1s 41ms/step - loss: 1.1768 - accuracy: 0.4712 - val_loss: 1.3752 - val_accuracy: 0.4405\n",
      "Epoch 4/1000\n",
      "26/26 [==============================] - ETA: 0s - loss: 1.1880 - accuracy: 0.46 - ETA: 0s - loss: 1.2511 - accuracy: 0.42 - ETA: 0s - loss: 1.2127 - accuracy: 0.41 - ETA: 0s - loss: 1.1994 - accuracy: 0.40 - ETA: 0s - loss: 1.1773 - accuracy: 0.42 - 1s 45ms/step - loss: 1.1676 - accuracy: 0.4327 - val_loss: 1.1668 - val_accuracy: 0.4940\n",
      "Epoch 5/1000\n",
      "26/26 [==============================] - ETA: 0s - loss: 1.0154 - accuracy: 0.59 - ETA: 0s - loss: 1.2405 - accuracy: 0.43 - ETA: 0s - loss: 1.1933 - accuracy: 0.43 - ETA: 0s - loss: 1.1755 - accuracy: 0.43 - ETA: 0s - loss: 1.1520 - accuracy: 0.44 - 1s 44ms/step - loss: 1.1554 - accuracy: 0.4543 - val_loss: 1.2699 - val_accuracy: 0.4107\n",
      "Epoch 6/1000\n",
      "26/26 [==============================] - ETA: 0s - loss: 0.9563 - accuracy: 0.46 - ETA: 0s - loss: 1.1625 - accuracy: 0.46 - ETA: 0s - loss: 1.1438 - accuracy: 0.47 - ETA: 0s - loss: 1.1139 - accuracy: 0.48 - ETA: 0s - loss: 1.1054 - accuracy: 0.48 - 1s 45ms/step - loss: 1.0929 - accuracy: 0.4952 - val_loss: 1.2148 - val_accuracy: 0.4762\n",
      "Epoch 7/1000\n",
      "26/26 [==============================] - ETA: 0s - loss: 1.0380 - accuracy: 0.59 - ETA: 0s - loss: 1.1445 - accuracy: 0.49 - ETA: 0s - loss: 1.1040 - accuracy: 0.50 - ETA: 0s - loss: 1.1035 - accuracy: 0.49 - ETA: 0s - loss: 1.1063 - accuracy: 0.49 - 1s 37ms/step - loss: 1.0968 - accuracy: 0.5084 - val_loss: 1.1296 - val_accuracy: 0.5357\n",
      "Epoch 8/1000\n",
      "26/26 [==============================] - ETA: 0s - loss: 1.1126 - accuracy: 0.50 - ETA: 0s - loss: 1.0974 - accuracy: 0.45 - ETA: 0s - loss: 1.1041 - accuracy: 0.44 - ETA: 0s - loss: 1.1089 - accuracy: 0.43 - ETA: 0s - loss: 1.1092 - accuracy: 0.44 - 1s 35ms/step - loss: 1.0959 - accuracy: 0.4579 - val_loss: 1.2056 - val_accuracy: 0.4643\n",
      "Epoch 9/1000\n",
      "26/26 [==============================] - ETA: 0s - loss: 1.1488 - accuracy: 0.56 - ETA: 0s - loss: 1.1764 - accuracy: 0.49 - ETA: 0s - loss: 1.1276 - accuracy: 0.50 - ETA: 0s - loss: 1.1333 - accuracy: 0.48 - ETA: 0s - loss: 1.1156 - accuracy: 0.49 - 1s 40ms/step - loss: 1.1107 - accuracy: 0.4928 - val_loss: 1.2950 - val_accuracy: 0.4524\n",
      "Epoch 10/1000\n",
      "26/26 [==============================] - ETA: 0s - loss: 1.0395 - accuracy: 0.53 - ETA: 0s - loss: 1.2485 - accuracy: 0.39 - ETA: 0s - loss: 1.1707 - accuracy: 0.43 - ETA: 0s - loss: 1.1669 - accuracy: 0.44 - ETA: 0s - loss: 1.1151 - accuracy: 0.45 - 1s 46ms/step - loss: 1.0982 - accuracy: 0.4700 - val_loss: 1.2167 - val_accuracy: 0.5357\n",
      "Epoch 11/1000\n",
      "26/26 [==============================] - ETA: 0s - loss: 1.0869 - accuracy: 0.37 - ETA: 0s - loss: 1.2231 - accuracy: 0.47 - ETA: 0s - loss: 1.1464 - accuracy: 0.47 - ETA: 0s - loss: 1.1161 - accuracy: 0.48 - ETA: 0s - loss: 1.0931 - accuracy: 0.49 - 1s 43ms/step - loss: 1.0779 - accuracy: 0.5072 - val_loss: 1.1760 - val_accuracy: 0.4821\n",
      "Epoch 12/1000\n",
      "26/26 [==============================] - ETA: 0s - loss: 1.1238 - accuracy: 0.40 - ETA: 0s - loss: 1.1496 - accuracy: 0.45 - ETA: 0s - loss: 1.0836 - accuracy: 0.48 - ETA: 0s - loss: 1.0767 - accuracy: 0.47 - ETA: 0s - loss: 1.0710 - accuracy: 0.48 - 1s 41ms/step - loss: 1.0659 - accuracy: 0.4904 - val_loss: 1.1557 - val_accuracy: 0.5179\n",
      "Epoch 13/1000\n",
      "26/26 [==============================] - ETA: 0s - loss: 1.1068 - accuracy: 0.43 - ETA: 0s - loss: 1.1713 - accuracy: 0.42 - ETA: 0s - loss: 1.1038 - accuracy: 0.46 - ETA: 0s - loss: 1.1241 - accuracy: 0.46 - ETA: 0s - loss: 1.1062 - accuracy: 0.49 - 1s 41ms/step - loss: 1.0880 - accuracy: 0.4964 - val_loss: 1.2009 - val_accuracy: 0.4524\n",
      "Epoch 14/1000\n",
      "26/26 [==============================] - ETA: 0s - loss: 0.9276 - accuracy: 0.53 - ETA: 0s - loss: 1.1142 - accuracy: 0.53 - ETA: 0s - loss: 1.0776 - accuracy: 0.52 - ETA: 0s - loss: 1.0772 - accuracy: 0.51 - ETA: 0s - loss: 1.0700 - accuracy: 0.49 - 1s 36ms/step - loss: 1.0573 - accuracy: 0.5012 - val_loss: 1.1775 - val_accuracy: 0.4643\n",
      "Epoch 15/1000\n",
      "26/26 [==============================] - ETA: 0s - loss: 1.0607 - accuracy: 0.46 - ETA: 0s - loss: 1.0274 - accuracy: 0.51 - ETA: 0s - loss: 1.0160 - accuracy: 0.50 - ETA: 0s - loss: 1.0136 - accuracy: 0.50 - ETA: 0s - loss: 1.0203 - accuracy: 0.51 - 1s 43ms/step - loss: 1.0136 - accuracy: 0.5156 - val_loss: 1.1909 - val_accuracy: 0.4702\n",
      "Epoch 16/1000\n",
      "26/26 [==============================] - ETA: 0s - loss: 0.9431 - accuracy: 0.50 - ETA: 0s - loss: 1.0717 - accuracy: 0.51 - ETA: 0s - loss: 0.9958 - accuracy: 0.53 - ETA: 0s - loss: 0.9896 - accuracy: 0.53 - ETA: 0s - loss: 0.9916 - accuracy: 0.54 - ETA: 0s - loss: 1.0039 - accuracy: 0.54 - 2s 58ms/step - loss: 1.0039 - accuracy: 0.5457 - val_loss: 1.1491 - val_accuracy: 0.4405\n",
      "Epoch 17/1000\n",
      "26/26 [==============================] - ETA: 0s - loss: 1.1237 - accuracy: 0.43 - ETA: 0s - loss: 1.1695 - accuracy: 0.49 - ETA: 0s - loss: 1.0542 - accuracy: 0.50 - ETA: 0s - loss: 1.0550 - accuracy: 0.49 - ETA: 0s - loss: 1.0639 - accuracy: 0.48 - ETA: 0s - loss: 1.0432 - accuracy: 0.48 - 1s 50ms/step - loss: 1.0255 - accuracy: 0.5012 - val_loss: 1.1434 - val_accuracy: 0.5476\n"
     ]
    },
    {
     "data": {
      "text/html": [
       "<span style=\"color:#4527A0\"><h1 style=\"font-size:18px\">Trial complete</h1></span>"
      ],
      "text/plain": [
       "<IPython.core.display.HTML object>"
      ]
     },
     "metadata": {},
     "output_type": "display_data"
    },
    {
     "data": {
      "text/html": [
       "<span style=\"color:#4527A0\"><h1 style=\"font-size:18px\">Trial summary</h1></span>"
      ],
      "text/plain": [
       "<IPython.core.display.HTML object>"
      ]
     },
     "metadata": {},
     "output_type": "display_data"
    },
    {
     "data": {
      "text/html": [
       "<span style=\"color:cyan\"> |-Trial ID: 499e120ed2754a1c182166c5a3ddea6e</span>"
      ],
      "text/plain": [
       "<IPython.core.display.HTML object>"
      ]
     },
     "metadata": {},
     "output_type": "display_data"
    },
    {
     "data": {
      "text/html": [
       "<span style=\"color:cyan\"> |-Score: 0.5476190447807312</span>"
      ],
      "text/plain": [
       "<IPython.core.display.HTML object>"
      ]
     },
     "metadata": {},
     "output_type": "display_data"
    },
    {
     "data": {
      "text/html": [
       "<span style=\"color:cyan\"> |-Best step: 16</span>"
      ],
      "text/plain": [
       "<IPython.core.display.HTML object>"
      ]
     },
     "metadata": {},
     "output_type": "display_data"
    },
    {
     "data": {
      "text/html": [
       "<span style=\"color:#7E57C2\"><h2 style=\"font-size:16px\">Hyperparameters:</h2></span>"
      ],
      "text/plain": [
       "<IPython.core.display.HTML object>"
      ]
     },
     "metadata": {},
     "output_type": "display_data"
    },
    {
     "data": {
      "text/html": [
       "<span style=\"color:cyan\"> |-classification_head_1/dropout: 0</span>"
      ],
      "text/plain": [
       "<IPython.core.display.HTML object>"
      ]
     },
     "metadata": {},
     "output_type": "display_data"
    },
    {
     "data": {
      "text/html": [
       "<span style=\"color:blue\"> |-learning_rate: 0.1</span>"
      ],
      "text/plain": [
       "<IPython.core.display.HTML object>"
      ]
     },
     "metadata": {},
     "output_type": "display_data"
    },
    {
     "data": {
      "text/html": [
       "<span style=\"color:cyan\"> |-optimizer: adam</span>"
      ],
      "text/plain": [
       "<IPython.core.display.HTML object>"
      ]
     },
     "metadata": {},
     "output_type": "display_data"
    },
    {
     "data": {
      "text/html": [
       "<span style=\"color:blue\"> |-structured_data_block_1/dense_block_1/dropout: 0.25</span>"
      ],
      "text/plain": [
       "<IPython.core.display.HTML object>"
      ]
     },
     "metadata": {},
     "output_type": "display_data"
    },
    {
     "data": {
      "text/html": [
       "<span style=\"color:cyan\"> |-structured_data_block_1/dense_block_1/num_layers: 3</span>"
      ],
      "text/plain": [
       "<IPython.core.display.HTML object>"
      ]
     },
     "metadata": {},
     "output_type": "display_data"
    },
    {
     "data": {
      "text/html": [
       "<span style=\"color:blue\"> |-structured_data_block_1/dense_block_1/units_0: 128</span>"
      ],
      "text/plain": [
       "<IPython.core.display.HTML object>"
      ]
     },
     "metadata": {},
     "output_type": "display_data"
    },
    {
     "data": {
      "text/html": [
       "<span style=\"color:cyan\"> |-structured_data_block_1/dense_block_1/units_1: 64</span>"
      ],
      "text/plain": [
       "<IPython.core.display.HTML object>"
      ]
     },
     "metadata": {},
     "output_type": "display_data"
    },
    {
     "data": {
      "text/html": [
       "<span style=\"color:blue\"> |-structured_data_block_1/dense_block_1/units_2: 32</span>"
      ],
      "text/plain": [
       "<IPython.core.display.HTML object>"
      ]
     },
     "metadata": {},
     "output_type": "display_data"
    },
    {
     "data": {
      "text/html": [
       "<span style=\"color:cyan\"> |-structured_data_block_1/dense_block_1/use_batchnorm: True</span>"
      ],
      "text/plain": [
       "<IPython.core.display.HTML object>"
      ]
     },
     "metadata": {},
     "output_type": "display_data"
    },
    {
     "data": {
      "text/html": [
       "<span style=\"color:#4527A0\"><h1 style=\"font-size:18px\">Starting new trial</h1></span>"
      ],
      "text/plain": [
       "<IPython.core.display.HTML object>"
      ]
     },
     "metadata": {},
     "output_type": "display_data"
    },
    {
     "name": "stdout",
     "output_type": "stream",
     "text": [
      "Epoch 1/1000\n",
      "26/26 [==============================] - ETA: 0s - loss: 1048.6772 - accuracy: 0.250 - ETA: 0s - loss: 1839.0916 - accuracy: 0.262 - ETA: 0s - loss: 1510.8984 - accuracy: 0.302 - ETA: 0s - loss: 1229.7312 - accuracy: 0.317 - ETA: 0s - loss: 1135.9750 - accuracy: 0.318 - ETA: 0s - loss: 1063.0786 - accuracy: 0.334 - ETA: 0s - loss: 963.9066 - accuracy: 0.330 - 6s 242ms/step - loss: 926.6249 - accuracy: 0.3293 - val_loss: 253.6442 - val_accuracy: 0.3155\n",
      "Epoch 2/1000\n",
      "26/26 [==============================] - ETA: 0s - loss: 421.5912 - accuracy: 0.31 - ETA: 0s - loss: 311.8601 - accuracy: 0.29 - ETA: 0s - loss: 262.2856 - accuracy: 0.31 - ETA: 0s - loss: 231.7252 - accuracy: 0.31 - ETA: 0s - loss: 207.2283 - accuracy: 0.32 - ETA: 0s - loss: 198.7807 - accuracy: 0.32 - ETA: 0s - loss: 184.2041 - accuracy: 0.31 - 2s 59ms/step - loss: 179.6650 - accuracy: 0.3149 - val_loss: 20.0591 - val_accuracy: 0.3214\n",
      "Epoch 3/1000\n",
      "26/26 [==============================] - ETA: 0s - loss: 52.4166 - accuracy: 0.375 - ETA: 0s - loss: 62.2078 - accuracy: 0.381 - ETA: 0s - loss: 52.9791 - accuracy: 0.354 - ETA: 0s - loss: 46.8361 - accuracy: 0.365 - ETA: 0s - loss: 44.7584 - accuracy: 0.345 - ETA: 0s - loss: 44.3277 - accuracy: 0.336 - ETA: 0s - loss: 42.6032 - accuracy: 0.318 - 1s 49ms/step - loss: 42.1709 - accuracy: 0.3209 - val_loss: 4.1338 - val_accuracy: 0.2857\n",
      "Epoch 4/1000\n",
      "26/26 [==============================] - ETA: 0s - loss: 11.6583 - accuracy: 0.406 - ETA: 0s - loss: 21.2105 - accuracy: 0.418 - ETA: 0s - loss: 19.3230 - accuracy: 0.409 - ETA: 0s - loss: 19.4244 - accuracy: 0.351 - ETA: 0s - loss: 17.0672 - accuracy: 0.347 - ETA: 0s - loss: 16.0418 - accuracy: 0.351 - ETA: 0s - loss: 14.8681 - accuracy: 0.337 - 1s 56ms/step - loss: 14.7945 - accuracy: 0.3341 - val_loss: 1.3834 - val_accuracy: 0.2321\n",
      "Epoch 5/1000\n",
      "26/26 [==============================] - ETA: 0s - loss: 1.9402 - accuracy: 0.46 - ETA: 0s - loss: 3.5592 - accuracy: 0.33 - ETA: 0s - loss: 4.7057 - accuracy: 0.31 - ETA: 0s - loss: 5.3764 - accuracy: 0.29 - ETA: 0s - loss: 5.5604 - accuracy: 0.28 - ETA: 0s - loss: 5.5462 - accuracy: 0.29 - ETA: 0s - loss: 5.0576 - accuracy: 0.28 - 2s 67ms/step - loss: 4.8374 - accuracy: 0.2837 - val_loss: 1.3862 - val_accuracy: 0.2440\n",
      "Epoch 6/1000\n",
      "26/26 [==============================] - ETA: 0s - loss: 1.3469 - accuracy: 0.37 - ETA: 0s - loss: 3.4705 - accuracy: 0.30 - ETA: 0s - loss: 7.2253 - accuracy: 0.28 - ETA: 0s - loss: 5.8328 - accuracy: 0.27 - ETA: 0s - loss: 6.1730 - accuracy: 0.29 - ETA: 0s - loss: 8.0346 - accuracy: 0.29 - ETA: 0s - loss: 7.8842 - accuracy: 0.29 - 1s 51ms/step - loss: 7.4284 - accuracy: 0.2909 - val_loss: 1.3787 - val_accuracy: 0.2500\n",
      "Epoch 7/1000\n",
      "26/26 [==============================] - ETA: 0s - loss: 2.0234 - accuracy: 0.28 - ETA: 0s - loss: 2.9316 - accuracy: 0.28 - ETA: 0s - loss: 3.5221 - accuracy: 0.29 - ETA: 0s - loss: 5.0912 - accuracy: 0.26 - ETA: 0s - loss: 4.5192 - accuracy: 0.25 - ETA: 0s - loss: 4.2528 - accuracy: 0.27 - ETA: 0s - loss: 3.8038 - accuracy: 0.26 - 1s 53ms/step - loss: 3.7181 - accuracy: 0.2656 - val_loss: 1.3862 - val_accuracy: 0.2440\n",
      "Epoch 8/1000\n",
      "26/26 [==============================] - ETA: 0s - loss: 1.5846 - accuracy: 0.34 - ETA: 0s - loss: 1.6167 - accuracy: 0.28 - ETA: 0s - loss: 1.6774 - accuracy: 0.29 - ETA: 0s - loss: 1.7220 - accuracy: 0.26 - ETA: 0s - loss: 2.8480 - accuracy: 0.25 - ETA: 0s - loss: 2.7216 - accuracy: 0.26 - ETA: 0s - loss: 2.6318 - accuracy: 0.26 - 1s 48ms/step - loss: 2.6017 - accuracy: 0.2608 - val_loss: 1.3861 - val_accuracy: 0.2440\n",
      "Epoch 9/1000\n",
      "26/26 [==============================] - ETA: 0s - loss: 1.3327 - accuracy: 0.34 - ETA: 0s - loss: 1.5827 - accuracy: 0.28 - ETA: 0s - loss: 1.8539 - accuracy: 0.26 - ETA: 0s - loss: 2.2140 - accuracy: 0.25 - ETA: 0s - loss: 2.1099 - accuracy: 0.25 - ETA: 0s - loss: 2.2136 - accuracy: 0.26 - ETA: 0s - loss: 2.3028 - accuracy: 0.25 - 2s 59ms/step - loss: 2.2902 - accuracy: 0.2548 - val_loss: 1.3859 - val_accuracy: 0.2440\n",
      "Epoch 10/1000\n",
      "26/26 [==============================] - ETA: 0s - loss: 1.3048 - accuracy: 0.31 - ETA: 0s - loss: 4.1607 - accuracy: 0.26 - ETA: 0s - loss: 3.0645 - accuracy: 0.28 - ETA: 0s - loss: 2.8907 - accuracy: 0.26 - ETA: 0s - loss: 2.7894 - accuracy: 0.27 - ETA: 0s - loss: 2.6612 - accuracy: 0.27 - ETA: 0s - loss: 2.4540 - accuracy: 0.26 - 1s 50ms/step - loss: 2.4286 - accuracy: 0.2704 - val_loss: 1.3858 - val_accuracy: 0.2440\n",
      "Epoch 11/1000\n",
      "26/26 [==============================] - ETA: 0s - loss: 1.4205 - accuracy: 0.28 - ETA: 0s - loss: 1.4008 - accuracy: 0.26 - ETA: 0s - loss: 1.4313 - accuracy: 0.27 - ETA: 0s - loss: 1.6977 - accuracy: 0.25 - ETA: 0s - loss: 1.6605 - accuracy: 0.26 - ETA: 0s - loss: 1.6569 - accuracy: 0.27 - ETA: 0s - loss: 1.6906 - accuracy: 0.26 - 2s 63ms/step - loss: 1.6847 - accuracy: 0.2692 - val_loss: 1.3857 - val_accuracy: 0.2440\n",
      "Epoch 12/1000\n",
      "26/26 [==============================] - ETA: 0s - loss: 1.6534 - accuracy: 0.28 - ETA: 0s - loss: 1.4116 - accuracy: 0.28 - ETA: 0s - loss: 1.3965 - accuracy: 0.27 - ETA: 0s - loss: 1.3882 - accuracy: 0.26 - ETA: 0s - loss: 1.4837 - accuracy: 0.26 - ETA: 0s - loss: 1.5917 - accuracy: 0.26 - ETA: 0s - loss: 1.8297 - accuracy: 0.25 - 2s 60ms/step - loss: 1.8126 - accuracy: 0.2596 - val_loss: 1.3856 - val_accuracy: 0.2440\n",
      "Epoch 13/1000\n",
      "26/26 [==============================] - ETA: 0s - loss: 1.3880 - accuracy: 0.28 - ETA: 0s - loss: 1.5306 - accuracy: 0.26 - ETA: 0s - loss: 1.4636 - accuracy: 0.27 - ETA: 0s - loss: 1.5103 - accuracy: 0.25 - ETA: 0s - loss: 1.5249 - accuracy: 0.25 - ETA: 0s - loss: 1.4982 - accuracy: 0.26 - ETA: 0s - loss: 1.4897 - accuracy: 0.25 - 1s 55ms/step - loss: 1.4937 - accuracy: 0.2572 - val_loss: 1.3855 - val_accuracy: 0.2440\n",
      "Epoch 14/1000\n",
      "26/26 [==============================] - ETA: 0s - loss: 1.9357 - accuracy: 0.28 - ETA: 0s - loss: 1.4910 - accuracy: 0.26 - ETA: 0s - loss: 1.4620 - accuracy: 0.28 - ETA: 0s - loss: 1.4374 - accuracy: 0.26 - ETA: 0s - loss: 1.4866 - accuracy: 0.26 - ETA: 0s - loss: 1.4626 - accuracy: 0.27 - ETA: 0s - loss: 1.4475 - accuracy: 0.27 - 1s 53ms/step - loss: 1.4475 - accuracy: 0.2704 - val_loss: 1.3854 - val_accuracy: 0.2440\n",
      "Epoch 15/1000\n",
      "26/26 [==============================] - ETA: 0s - loss: 1.3114 - accuracy: 0.34 - ETA: 0s - loss: 1.3584 - accuracy: 0.28 - ETA: 0s - loss: 1.5586 - accuracy: 0.28 - ETA: 0s - loss: 1.5814 - accuracy: 0.26 - ETA: 0s - loss: 1.8033 - accuracy: 0.25 - ETA: 0s - loss: 1.8317 - accuracy: 0.25 - ETA: 0s - loss: 2.0077 - accuracy: 0.25 - ETA: 0s - loss: 1.9470 - accuracy: 0.25 - 2s 61ms/step - loss: 1.9470 - accuracy: 0.2584 - val_loss: 1.3853 - val_accuracy: 0.2798\n",
      "Epoch 16/1000\n",
      "26/26 [==============================] - ETA: 0s - loss: 1.4706 - accuracy: 0.18 - ETA: 0s - loss: 1.4520 - accuracy: 0.30 - ETA: 0s - loss: 1.4340 - accuracy: 0.30 - ETA: 0s - loss: 1.4403 - accuracy: 0.30 - ETA: 0s - loss: 1.4712 - accuracy: 0.28 - ETA: 0s - loss: 1.5086 - accuracy: 0.27 - ETA: 0s - loss: 1.5020 - accuracy: 0.28 - 2s 64ms/step - loss: 1.4959 - accuracy: 0.2788 - val_loss: 1.3852 - val_accuracy: 0.2798\n"
     ]
    },
    {
     "data": {
      "text/html": [
       "<span style=\"color:#4527A0\"><h1 style=\"font-size:18px\">Trial complete</h1></span>"
      ],
      "text/plain": [
       "<IPython.core.display.HTML object>"
      ]
     },
     "metadata": {},
     "output_type": "display_data"
    },
    {
     "data": {
      "text/html": [
       "<span style=\"color:#4527A0\"><h1 style=\"font-size:18px\">Trial summary</h1></span>"
      ],
      "text/plain": [
       "<IPython.core.display.HTML object>"
      ]
     },
     "metadata": {},
     "output_type": "display_data"
    },
    {
     "data": {
      "text/html": [
       "<span style=\"color:cyan\"> |-Trial ID: 15c032fb695dc8fb305a6326077c3e97</span>"
      ],
      "text/plain": [
       "<IPython.core.display.HTML object>"
      ]
     },
     "metadata": {},
     "output_type": "display_data"
    },
    {
     "data": {
      "text/html": [
       "<span style=\"color:cyan\"> |-Score: 0.3214285671710968</span>"
      ],
      "text/plain": [
       "<IPython.core.display.HTML object>"
      ]
     },
     "metadata": {},
     "output_type": "display_data"
    },
    {
     "data": {
      "text/html": [
       "<span style=\"color:cyan\"> |-Best step: 1</span>"
      ],
      "text/plain": [
       "<IPython.core.display.HTML object>"
      ]
     },
     "metadata": {},
     "output_type": "display_data"
    },
    {
     "data": {
      "text/html": [
       "<span style=\"color:#7E57C2\"><h2 style=\"font-size:16px\">Hyperparameters:</h2></span>"
      ],
      "text/plain": [
       "<IPython.core.display.HTML object>"
      ]
     },
     "metadata": {},
     "output_type": "display_data"
    },
    {
     "data": {
      "text/html": [
       "<span style=\"color:cyan\"> |-classification_head_1/dropout: 0</span>"
      ],
      "text/plain": [
       "<IPython.core.display.HTML object>"
      ]
     },
     "metadata": {},
     "output_type": "display_data"
    },
    {
     "data": {
      "text/html": [
       "<span style=\"color:blue\"> |-learning_rate: 0.001</span>"
      ],
      "text/plain": [
       "<IPython.core.display.HTML object>"
      ]
     },
     "metadata": {},
     "output_type": "display_data"
    },
    {
     "data": {
      "text/html": [
       "<span style=\"color:cyan\"> |-optimizer: adam</span>"
      ],
      "text/plain": [
       "<IPython.core.display.HTML object>"
      ]
     },
     "metadata": {},
     "output_type": "display_data"
    },
    {
     "data": {
      "text/html": [
       "<span style=\"color:blue\"> |-structured_data_block_1/dense_block_1/dropout: 0.25</span>"
      ],
      "text/plain": [
       "<IPython.core.display.HTML object>"
      ]
     },
     "metadata": {},
     "output_type": "display_data"
    },
    {
     "data": {
      "text/html": [
       "<span style=\"color:cyan\"> |-structured_data_block_1/dense_block_1/num_layers: 3</span>"
      ],
      "text/plain": [
       "<IPython.core.display.HTML object>"
      ]
     },
     "metadata": {},
     "output_type": "display_data"
    },
    {
     "data": {
      "text/html": [
       "<span style=\"color:blue\"> |-structured_data_block_1/dense_block_1/units_0: 256</span>"
      ],
      "text/plain": [
       "<IPython.core.display.HTML object>"
      ]
     },
     "metadata": {},
     "output_type": "display_data"
    },
    {
     "data": {
      "text/html": [
       "<span style=\"color:cyan\"> |-structured_data_block_1/dense_block_1/units_1: 1024</span>"
      ],
      "text/plain": [
       "<IPython.core.display.HTML object>"
      ]
     },
     "metadata": {},
     "output_type": "display_data"
    },
    {
     "data": {
      "text/html": [
       "<span style=\"color:blue\"> |-structured_data_block_1/dense_block_1/units_2: 256</span>"
      ],
      "text/plain": [
       "<IPython.core.display.HTML object>"
      ]
     },
     "metadata": {},
     "output_type": "display_data"
    },
    {
     "data": {
      "text/html": [
       "<span style=\"color:cyan\"> |-structured_data_block_1/dense_block_1/use_batchnorm: False</span>"
      ],
      "text/plain": [
       "<IPython.core.display.HTML object>"
      ]
     },
     "metadata": {},
     "output_type": "display_data"
    },
    {
     "data": {
      "text/html": [
       "<span style=\"color:#4527A0\"><h1 style=\"font-size:18px\">Starting new trial</h1></span>"
      ],
      "text/plain": [
       "<IPython.core.display.HTML object>"
      ]
     },
     "metadata": {},
     "output_type": "display_data"
    },
    {
     "name": "stdout",
     "output_type": "stream",
     "text": [
      "Epoch 1/1000\n",
      "26/26 [==============================] - ETA: 0s - loss: 4159.8564 - accuracy: 0.156 - ETA: 0s - loss: 2447.3513 - accuracy: 0.236 - ETA: 0s - loss: 1827.0377 - accuracy: 0.271 - ETA: 0s - loss: 1415.5703 - accuracy: 0.286 - ETA: 0s - loss: 1187.5701 - accuracy: 0.310 - 6s 215ms/step - loss: 1166.0924 - accuracy: 0.3065 - val_loss: 425.6121 - val_accuracy: 0.3452\n",
      "Epoch 2/1000\n",
      "26/26 [==============================] - ETA: 0s - loss: 374.9932 - accuracy: 0.34 - ETA: 0s - loss: 270.9118 - accuracy: 0.41 - ETA: 0s - loss: 251.4987 - accuracy: 0.43 - ETA: 0s - loss: 261.2348 - accuracy: 0.42 - ETA: 0s - loss: 263.9739 - accuracy: 0.42 - 1s 49ms/step - loss: 263.1353 - accuracy: 0.4195 - val_loss: 273.6231 - val_accuracy: 0.3810\n",
      "Epoch 3/1000\n",
      "26/26 [==============================] - ETA: 0s - loss: 217.2300 - accuracy: 0.37 - ETA: 0s - loss: 180.9202 - accuracy: 0.44 - ETA: 0s - loss: 159.8790 - accuracy: 0.48 - ETA: 0s - loss: 157.3683 - accuracy: 0.50 - ETA: 0s - loss: 146.9317 - accuracy: 0.50 - 1s 44ms/step - loss: 146.9317 - accuracy: 0.5060 - val_loss: 164.7812 - val_accuracy: 0.4524\n",
      "Epoch 4/1000\n",
      "26/26 [==============================] - ETA: 0s - loss: 86.6285 - accuracy: 0.593 - ETA: 0s - loss: 82.9904 - accuracy: 0.580 - ETA: 0s - loss: 90.9770 - accuracy: 0.540 - ETA: 0s - loss: 94.7835 - accuracy: 0.546 - ETA: 0s - loss: 98.6809 - accuracy: 0.546 - 1s 41ms/step - loss: 98.8313 - accuracy: 0.5457 - val_loss: 227.4467 - val_accuracy: 0.3869\n",
      "Epoch 5/1000\n",
      "26/26 [==============================] - ETA: 0s - loss: 139.4326 - accuracy: 0.43 - ETA: 0s - loss: 79.6132 - accuracy: 0.5714 - ETA: 0s - loss: 79.9901 - accuracy: 0.588 - ETA: 0s - loss: 80.7938 - accuracy: 0.567 - ETA: 0s - loss: 82.4077 - accuracy: 0.558 - 1s 56ms/step - loss: 81.6897 - accuracy: 0.5637 - val_loss: 232.8851 - val_accuracy: 0.3869\n",
      "Epoch 6/1000\n",
      "26/26 [==============================] - ETA: 0s - loss: 81.8350 - accuracy: 0.531 - ETA: 0s - loss: 68.8339 - accuracy: 0.575 - ETA: 0s - loss: 67.3575 - accuracy: 0.605 - ETA: 0s - loss: 66.9929 - accuracy: 0.587 - ETA: 0s - loss: 67.7457 - accuracy: 0.585 - 1s 36ms/step - loss: 68.5799 - accuracy: 0.5865 - val_loss: 258.2127 - val_accuracy: 0.3631\n",
      "Epoch 7/1000\n",
      "26/26 [==============================] - ETA: 0s - loss: 65.2092 - accuracy: 0.687 - ETA: 0s - loss: 57.6694 - accuracy: 0.598 - ETA: 0s - loss: 62.1254 - accuracy: 0.603 - ETA: 0s - loss: 68.0981 - accuracy: 0.597 - ETA: 0s - loss: 80.8504 - accuracy: 0.591 - 1s 50ms/step - loss: 80.0648 - accuracy: 0.5938 - val_loss: 197.0927 - val_accuracy: 0.4702\n",
      "Epoch 8/1000\n",
      "26/26 [==============================] - ETA: 0s - loss: 32.7279 - accuracy: 0.718 - ETA: 0s - loss: 84.7143 - accuracy: 0.526 - ETA: 0s - loss: 89.3874 - accuracy: 0.562 - ETA: 0s - loss: 89.8008 - accuracy: 0.566 - ETA: 0s - loss: 85.4559 - accuracy: 0.584 - 1s 41ms/step - loss: 83.3180 - accuracy: 0.5925 - val_loss: 225.7944 - val_accuracy: 0.4464\n",
      "Epoch 9/1000\n",
      "26/26 [==============================] - ETA: 0s - loss: 101.7311 - accuracy: 0.65 - ETA: 0s - loss: 65.9940 - accuracy: 0.6071 - ETA: 0s - loss: 58.4077 - accuracy: 0.653 - ETA: 0s - loss: 54.1036 - accuracy: 0.666 - ETA: 0s - loss: 56.4301 - accuracy: 0.651 - 1s 39ms/step - loss: 56.2720 - accuracy: 0.6550 - val_loss: 256.4920 - val_accuracy: 0.4524\n",
      "Epoch 10/1000\n",
      "26/26 [==============================] - ETA: 0s - loss: 57.9410 - accuracy: 0.687 - ETA: 0s - loss: 81.8444 - accuracy: 0.562 - ETA: 0s - loss: 75.5745 - accuracy: 0.576 - ETA: 0s - loss: 77.0439 - accuracy: 0.595 - ETA: 0s - loss: 70.9405 - accuracy: 0.606 - 1s 42ms/step - loss: 70.9483 - accuracy: 0.6118 - val_loss: 276.0089 - val_accuracy: 0.4167\n",
      "Epoch 11/1000\n",
      "26/26 [==============================] - ETA: 0s - loss: 50.6584 - accuracy: 0.687 - ETA: 0s - loss: 66.7785 - accuracy: 0.611 - ETA: 0s - loss: 72.0653 - accuracy: 0.603 - ETA: 0s - loss: 72.2372 - accuracy: 0.634 - ETA: 0s - loss: 67.8097 - accuracy: 0.646 - 1s 54ms/step - loss: 66.7626 - accuracy: 0.6490 - val_loss: 205.9408 - val_accuracy: 0.4405\n",
      "Epoch 12/1000\n",
      "26/26 [==============================] - ETA: 0s - loss: 53.7239 - accuracy: 0.656 - ETA: 0s - loss: 70.7409 - accuracy: 0.660 - ETA: 0s - loss: 62.0556 - accuracy: 0.658 - ETA: 0s - loss: 58.4156 - accuracy: 0.676 - ETA: 0s - loss: 54.3502 - accuracy: 0.681 - 1s 38ms/step - loss: 53.7047 - accuracy: 0.6851 - val_loss: 243.0547 - val_accuracy: 0.4167\n",
      "Epoch 13/1000\n",
      "26/26 [==============================] - ETA: 0s - loss: 84.5725 - accuracy: 0.625 - ETA: 0s - loss: 33.1469 - accuracy: 0.741 - ETA: 0s - loss: 32.8696 - accuracy: 0.738 - ETA: 0s - loss: 32.4587 - accuracy: 0.735 - ETA: 0s - loss: 29.3703 - accuracy: 0.740 - 1s 44ms/step - loss: 28.3772 - accuracy: 0.7464 - val_loss: 212.3576 - val_accuracy: 0.4762\n"
     ]
    },
    {
     "data": {
      "text/html": [
       "<span style=\"color:#4527A0\"><h1 style=\"font-size:18px\">Trial complete</h1></span>"
      ],
      "text/plain": [
       "<IPython.core.display.HTML object>"
      ]
     },
     "metadata": {},
     "output_type": "display_data"
    },
    {
     "data": {
      "text/html": [
       "<span style=\"color:#4527A0\"><h1 style=\"font-size:18px\">Trial summary</h1></span>"
      ],
      "text/plain": [
       "<IPython.core.display.HTML object>"
      ]
     },
     "metadata": {},
     "output_type": "display_data"
    },
    {
     "data": {
      "text/html": [
       "<span style=\"color:cyan\"> |-Trial ID: 0a2a8bc7680df6ab841c48d62e0e64c8</span>"
      ],
      "text/plain": [
       "<IPython.core.display.HTML object>"
      ]
     },
     "metadata": {},
     "output_type": "display_data"
    },
    {
     "data": {
      "text/html": [
       "<span style=\"color:cyan\"> |-Score: 0.4761904776096344</span>"
      ],
      "text/plain": [
       "<IPython.core.display.HTML object>"
      ]
     },
     "metadata": {},
     "output_type": "display_data"
    },
    {
     "data": {
      "text/html": [
       "<span style=\"color:cyan\"> |-Best step: 12</span>"
      ],
      "text/plain": [
       "<IPython.core.display.HTML object>"
      ]
     },
     "metadata": {},
     "output_type": "display_data"
    },
    {
     "data": {
      "text/html": [
       "<span style=\"color:#7E57C2\"><h2 style=\"font-size:16px\">Hyperparameters:</h2></span>"
      ],
      "text/plain": [
       "<IPython.core.display.HTML object>"
      ]
     },
     "metadata": {},
     "output_type": "display_data"
    },
    {
     "data": {
      "text/html": [
       "<span style=\"color:cyan\"> |-classification_head_1/dropout: 0</span>"
      ],
      "text/plain": [
       "<IPython.core.display.HTML object>"
      ]
     },
     "metadata": {},
     "output_type": "display_data"
    },
    {
     "data": {
      "text/html": [
       "<span style=\"color:blue\"> |-learning_rate: 0.001</span>"
      ],
      "text/plain": [
       "<IPython.core.display.HTML object>"
      ]
     },
     "metadata": {},
     "output_type": "display_data"
    },
    {
     "data": {
      "text/html": [
       "<span style=\"color:cyan\"> |-optimizer: adam</span>"
      ],
      "text/plain": [
       "<IPython.core.display.HTML object>"
      ]
     },
     "metadata": {},
     "output_type": "display_data"
    },
    {
     "data": {
      "text/html": [
       "<span style=\"color:blue\"> |-structured_data_block_1/dense_block_1/dropout: 0.0</span>"
      ],
      "text/plain": [
       "<IPython.core.display.HTML object>"
      ]
     },
     "metadata": {},
     "output_type": "display_data"
    },
    {
     "data": {
      "text/html": [
       "<span style=\"color:cyan\"> |-structured_data_block_1/dense_block_1/num_layers: 2</span>"
      ],
      "text/plain": [
       "<IPython.core.display.HTML object>"
      ]
     },
     "metadata": {},
     "output_type": "display_data"
    },
    {
     "data": {
      "text/html": [
       "<span style=\"color:blue\"> |-structured_data_block_1/dense_block_1/units_0: 256</span>"
      ],
      "text/plain": [
       "<IPython.core.display.HTML object>"
      ]
     },
     "metadata": {},
     "output_type": "display_data"
    },
    {
     "data": {
      "text/html": [
       "<span style=\"color:cyan\"> |-structured_data_block_1/dense_block_1/units_1: 64</span>"
      ],
      "text/plain": [
       "<IPython.core.display.HTML object>"
      ]
     },
     "metadata": {},
     "output_type": "display_data"
    },
    {
     "data": {
      "text/html": [
       "<span style=\"color:blue\"> |-structured_data_block_1/dense_block_1/units_2: 32</span>"
      ],
      "text/plain": [
       "<IPython.core.display.HTML object>"
      ]
     },
     "metadata": {},
     "output_type": "display_data"
    },
    {
     "data": {
      "text/html": [
       "<span style=\"color:cyan\"> |-structured_data_block_1/dense_block_1/use_batchnorm: False</span>"
      ],
      "text/plain": [
       "<IPython.core.display.HTML object>"
      ]
     },
     "metadata": {},
     "output_type": "display_data"
    },
    {
     "data": {
      "text/html": [
       "<span style=\"color:#4527A0\"><h1 style=\"font-size:18px\">Starting new trial</h1></span>"
      ],
      "text/plain": [
       "<IPython.core.display.HTML object>"
      ]
     },
     "metadata": {},
     "output_type": "display_data"
    },
    {
     "name": "stdout",
     "output_type": "stream",
     "text": [
      "Epoch 1/1000\n",
      "26/26 [==============================] - ETA: 0s - loss: 1.8986 - accuracy: 0.18 - ETA: 0s - loss: 1.8004 - accuracy: 0.22 - ETA: 0s - loss: 1.6608 - accuracy: 0.28 - ETA: 0s - loss: 1.6119 - accuracy: 0.29 - ETA: 0s - loss: 1.5838 - accuracy: 0.29 - 6s 230ms/step - loss: 1.5578 - accuracy: 0.3053 - val_loss: 1.4201 - val_accuracy: 0.3036\n",
      "Epoch 2/1000\n",
      "26/26 [==============================] - ETA: 0s - loss: 1.3473 - accuracy: 0.28 - ETA: 0s - loss: 1.4471 - accuracy: 0.36 - ETA: 0s - loss: 1.3704 - accuracy: 0.39 - ETA: 0s - loss: 1.3704 - accuracy: 0.38 - ETA: 0s - loss: 1.3804 - accuracy: 0.37 - 1s 41ms/step - loss: 1.3649 - accuracy: 0.3930 - val_loss: 1.3175 - val_accuracy: 0.3393\n",
      "Epoch 3/1000\n",
      "26/26 [==============================] - ETA: 0s - loss: 1.0543 - accuracy: 0.53 - ETA: 0s - loss: 1.3916 - accuracy: 0.46 - ETA: 0s - loss: 1.2738 - accuracy: 0.47 - ETA: 0s - loss: 1.2435 - accuracy: 0.47 - ETA: 0s - loss: 1.2363 - accuracy: 0.45 - 1s 43ms/step - loss: 1.2240 - accuracy: 0.4615 - val_loss: 1.2816 - val_accuracy: 0.3929\n",
      "Epoch 4/1000\n",
      "26/26 [==============================] - ETA: 0s - loss: 1.0219 - accuracy: 0.50 - ETA: 0s - loss: 1.2970 - accuracy: 0.43 - ETA: 0s - loss: 1.2209 - accuracy: 0.46 - ETA: 0s - loss: 1.2238 - accuracy: 0.46 - ETA: 0s - loss: 1.2271 - accuracy: 0.46 - 1s 56ms/step - loss: 1.2101 - accuracy: 0.4712 - val_loss: 1.1945 - val_accuracy: 0.4048\n",
      "Epoch 5/1000\n",
      "26/26 [==============================] - ETA: 0s - loss: 1.1432 - accuracy: 0.50 - ETA: 0s - loss: 1.2358 - accuracy: 0.45 - ETA: 0s - loss: 1.2113 - accuracy: 0.45 - ETA: 0s - loss: 1.1669 - accuracy: 0.47 - ETA: 0s - loss: 1.1727 - accuracy: 0.47 - 1s 35ms/step - loss: 1.1568 - accuracy: 0.4892 - val_loss: 1.1483 - val_accuracy: 0.4286\n",
      "Epoch 6/1000\n",
      "26/26 [==============================] - ETA: 0s - loss: 0.9422 - accuracy: 0.65 - ETA: 0s - loss: 1.1589 - accuracy: 0.55 - ETA: 0s - loss: 1.1238 - accuracy: 0.54 - ETA: 0s - loss: 1.0975 - accuracy: 0.55 - ETA: 0s - loss: 1.0958 - accuracy: 0.52 - 1s 46ms/step - loss: 1.0887 - accuracy: 0.5312 - val_loss: 1.1085 - val_accuracy: 0.4762\n",
      "Epoch 7/1000\n",
      "26/26 [==============================] - ETA: 0s - loss: 1.0778 - accuracy: 0.50 - ETA: 0s - loss: 1.1897 - accuracy: 0.45 - ETA: 0s - loss: 1.1244 - accuracy: 0.49 - ETA: 0s - loss: 1.1257 - accuracy: 0.50 - ETA: 0s - loss: 1.1139 - accuracy: 0.50 - 1s 35ms/step - loss: 1.1025 - accuracy: 0.5084 - val_loss: 1.0954 - val_accuracy: 0.5000\n",
      "Epoch 8/1000\n",
      "26/26 [==============================] - ETA: 0s - loss: 0.9537 - accuracy: 0.62 - ETA: 0s - loss: 1.0724 - accuracy: 0.57 - ETA: 0s - loss: 1.0332 - accuracy: 0.56 - ETA: 0s - loss: 1.0183 - accuracy: 0.56 - ETA: 0s - loss: 1.0579 - accuracy: 0.54 - 1s 35ms/step - loss: 1.0479 - accuracy: 0.5517 - val_loss: 1.0800 - val_accuracy: 0.5298\n",
      "Epoch 9/1000\n",
      "26/26 [==============================] - ETA: 0s - loss: 0.9503 - accuracy: 0.59 - ETA: 0s - loss: 1.0412 - accuracy: 0.54 - ETA: 0s - loss: 0.9991 - accuracy: 0.54 - ETA: 0s - loss: 1.0066 - accuracy: 0.56 - ETA: 0s - loss: 0.9975 - accuracy: 0.57 - 1s 40ms/step - loss: 0.9842 - accuracy: 0.5877 - val_loss: 1.0627 - val_accuracy: 0.5357\n",
      "Epoch 10/1000\n",
      "26/26 [==============================] - ETA: 0s - loss: 0.9104 - accuracy: 0.62 - ETA: 0s - loss: 1.0104 - accuracy: 0.57 - ETA: 0s - loss: 0.9713 - accuracy: 0.57 - ETA: 0s - loss: 0.9668 - accuracy: 0.58 - ETA: 0s - loss: 0.9656 - accuracy: 0.58 - 1s 48ms/step - loss: 0.9530 - accuracy: 0.5913 - val_loss: 1.0600 - val_accuracy: 0.5357\n",
      "Epoch 11/1000\n",
      "26/26 [==============================] - ETA: 0s - loss: 1.0260 - accuracy: 0.53 - ETA: 0s - loss: 0.9946 - accuracy: 0.56 - ETA: 0s - loss: 0.9592 - accuracy: 0.57 - ETA: 0s - loss: 0.9777 - accuracy: 0.56 - ETA: 0s - loss: 0.9779 - accuracy: 0.55 - 1s 42ms/step - loss: 0.9639 - accuracy: 0.5685 - val_loss: 1.0693 - val_accuracy: 0.5536\n",
      "Epoch 12/1000\n",
      "26/26 [==============================] - ETA: 0s - loss: 0.9638 - accuracy: 0.56 - ETA: 0s - loss: 0.9477 - accuracy: 0.59 - ETA: 0s - loss: 0.8802 - accuracy: 0.62 - ETA: 0s - loss: 0.8986 - accuracy: 0.62 - ETA: 0s - loss: 0.9053 - accuracy: 0.61 - ETA: 0s - loss: 0.9131 - accuracy: 0.61 - 1s 46ms/step - loss: 0.9035 - accuracy: 0.6166 - val_loss: 1.0587 - val_accuracy: 0.5833\n",
      "Epoch 13/1000\n",
      "26/26 [==============================] - ETA: 0s - loss: 0.9209 - accuracy: 0.62 - ETA: 0s - loss: 0.9733 - accuracy: 0.61 - ETA: 0s - loss: 0.9027 - accuracy: 0.62 - ETA: 0s - loss: 0.8943 - accuracy: 0.61 - ETA: 0s - loss: 0.8757 - accuracy: 0.63 - ETA: 0s - loss: 0.8866 - accuracy: 0.62 - 1s 46ms/step - loss: 0.8866 - accuracy: 0.6274 - val_loss: 1.0636 - val_accuracy: 0.5833\n",
      "Epoch 14/1000\n",
      "26/26 [==============================] - ETA: 0s - loss: 0.9130 - accuracy: 0.62 - ETA: 0s - loss: 0.9592 - accuracy: 0.62 - ETA: 0s - loss: 0.8854 - accuracy: 0.62 - ETA: 0s - loss: 0.8699 - accuracy: 0.63 - ETA: 0s - loss: 0.8688 - accuracy: 0.62 - 1s 38ms/step - loss: 0.8584 - accuracy: 0.6322 - val_loss: 1.0893 - val_accuracy: 0.5714\n",
      "Epoch 15/1000\n",
      "26/26 [==============================] - ETA: 0s - loss: 0.8719 - accuracy: 0.62 - ETA: 0s - loss: 0.9297 - accuracy: 0.60 - ETA: 0s - loss: 0.9062 - accuracy: 0.62 - ETA: 0s - loss: 0.9005 - accuracy: 0.62 - ETA: 0s - loss: 0.8967 - accuracy: 0.62 - 1s 44ms/step - loss: 0.8800 - accuracy: 0.6310 - val_loss: 1.0383 - val_accuracy: 0.5417\n",
      "Epoch 16/1000\n",
      "26/26 [==============================] - ETA: 0s - loss: 0.7543 - accuracy: 0.62 - ETA: 0s - loss: 0.9056 - accuracy: 0.60 - ETA: 0s - loss: 0.8688 - accuracy: 0.63 - ETA: 0s - loss: 0.8493 - accuracy: 0.64 - ETA: 0s - loss: 0.8327 - accuracy: 0.64 - 1s 54ms/step - loss: 0.8178 - accuracy: 0.6502 - val_loss: 1.0748 - val_accuracy: 0.5298\n",
      "Epoch 17/1000\n",
      "26/26 [==============================] - ETA: 0s - loss: 0.8463 - accuracy: 0.62 - ETA: 0s - loss: 0.8531 - accuracy: 0.66 - ETA: 0s - loss: 0.8348 - accuracy: 0.66 - ETA: 0s - loss: 0.8103 - accuracy: 0.68 - ETA: 0s - loss: 0.8210 - accuracy: 0.68 - 1s 42ms/step - loss: 0.8118 - accuracy: 0.6791 - val_loss: 1.0729 - val_accuracy: 0.5298\n",
      "Epoch 18/1000\n",
      "26/26 [==============================] - ETA: 0s - loss: 0.8723 - accuracy: 0.65 - ETA: 0s - loss: 0.8494 - accuracy: 0.67 - ETA: 0s - loss: 0.7673 - accuracy: 0.70 - ETA: 0s - loss: 0.7721 - accuracy: 0.69 - ETA: 0s - loss: 0.7760 - accuracy: 0.69 - 1s 39ms/step - loss: 0.7664 - accuracy: 0.6995 - val_loss: 1.0715 - val_accuracy: 0.5595\n",
      "Epoch 19/1000\n",
      "26/26 [==============================] - ETA: 0s - loss: 0.7932 - accuracy: 0.68 - ETA: 0s - loss: 0.8426 - accuracy: 0.63 - ETA: 0s - loss: 0.7768 - accuracy: 0.67 - ETA: 0s - loss: 0.7721 - accuracy: 0.68 - ETA: 0s - loss: 0.7778 - accuracy: 0.67 - 1s 35ms/step - loss: 0.7645 - accuracy: 0.6851 - val_loss: 1.0576 - val_accuracy: 0.5417\n",
      "Epoch 20/1000\n",
      "26/26 [==============================] - ETA: 0s - loss: 0.8893 - accuracy: 0.59 - ETA: 0s - loss: 0.7930 - accuracy: 0.67 - ETA: 0s - loss: 0.7493 - accuracy: 0.70 - ETA: 0s - loss: 0.7273 - accuracy: 0.71 - ETA: 0s - loss: 0.7244 - accuracy: 0.71 - 1s 47ms/step - loss: 0.7123 - accuracy: 0.7224 - val_loss: 1.0600 - val_accuracy: 0.5476\n",
      "Epoch 21/1000\n",
      "26/26 [==============================] - ETA: 0s - loss: 0.6837 - accuracy: 0.78 - ETA: 0s - loss: 0.8066 - accuracy: 0.68 - ETA: 0s - loss: 0.7232 - accuracy: 0.73 - ETA: 0s - loss: 0.7359 - accuracy: 0.70 - ETA: 0s - loss: 0.7278 - accuracy: 0.71 - ETA: 0s - loss: 0.7264 - accuracy: 0.70 - 1s 52ms/step - loss: 0.7131 - accuracy: 0.7127 - val_loss: 1.0858 - val_accuracy: 0.5476\n",
      "Epoch 22/1000\n",
      "26/26 [==============================] - ETA: 0s - loss: 0.7169 - accuracy: 0.78 - ETA: 0s - loss: 0.8002 - accuracy: 0.70 - ETA: 0s - loss: 0.7305 - accuracy: 0.74 - ETA: 0s - loss: 0.7263 - accuracy: 0.73 - ETA: 0s - loss: 0.7105 - accuracy: 0.73 - 1s 38ms/step - loss: 0.7008 - accuracy: 0.7332 - val_loss: 1.0870 - val_accuracy: 0.5119\n",
      "Epoch 23/1000\n",
      "26/26 [==============================] - ETA: 0s - loss: 0.8271 - accuracy: 0.68 - ETA: 0s - loss: 0.7311 - accuracy: 0.72 - ETA: 0s - loss: 0.7274 - accuracy: 0.72 - ETA: 0s - loss: 0.7011 - accuracy: 0.73 - ETA: 0s - loss: 0.7029 - accuracy: 0.72 - 1s 48ms/step - loss: 0.6853 - accuracy: 0.7368 - val_loss: 1.0796 - val_accuracy: 0.5238\n"
     ]
    },
    {
     "name": "stdout",
     "output_type": "stream",
     "text": [
      "Epoch 24/1000\n",
      "26/26 [==============================] - ETA: 0s - loss: 0.6176 - accuracy: 0.68 - ETA: 0s - loss: 0.7027 - accuracy: 0.70 - ETA: 0s - loss: 0.6672 - accuracy: 0.73 - ETA: 0s - loss: 0.6582 - accuracy: 0.72 - ETA: 0s - loss: 0.6640 - accuracy: 0.72 - 1s 43ms/step - loss: 0.6562 - accuracy: 0.7296 - val_loss: 1.0773 - val_accuracy: 0.5476\n",
      "Epoch 25/1000\n",
      "26/26 [==============================] - ETA: 0s - loss: 0.6871 - accuracy: 0.81 - ETA: 0s - loss: 0.7296 - accuracy: 0.77 - ETA: 0s - loss: 0.6589 - accuracy: 0.77 - ETA: 0s - loss: 0.6605 - accuracy: 0.76 - ETA: 0s - loss: 0.6459 - accuracy: 0.76 - 1s 38ms/step - loss: 0.6362 - accuracy: 0.7704 - val_loss: 1.1036 - val_accuracy: 0.5476\n"
     ]
    },
    {
     "data": {
      "text/html": [
       "<span style=\"color:#4527A0\"><h1 style=\"font-size:18px\">Trial complete</h1></span>"
      ],
      "text/plain": [
       "<IPython.core.display.HTML object>"
      ]
     },
     "metadata": {},
     "output_type": "display_data"
    },
    {
     "data": {
      "text/html": [
       "<span style=\"color:#4527A0\"><h1 style=\"font-size:18px\">Trial summary</h1></span>"
      ],
      "text/plain": [
       "<IPython.core.display.HTML object>"
      ]
     },
     "metadata": {},
     "output_type": "display_data"
    },
    {
     "data": {
      "text/html": [
       "<span style=\"color:cyan\"> |-Trial ID: 1e45752d4a5bdd93991d06a8eba10329</span>"
      ],
      "text/plain": [
       "<IPython.core.display.HTML object>"
      ]
     },
     "metadata": {},
     "output_type": "display_data"
    },
    {
     "data": {
      "text/html": [
       "<span style=\"color:cyan\"> |-Score: 0.5833333134651184</span>"
      ],
      "text/plain": [
       "<IPython.core.display.HTML object>"
      ]
     },
     "metadata": {},
     "output_type": "display_data"
    },
    {
     "data": {
      "text/html": [
       "<span style=\"color:cyan\"> |-Best step: 11</span>"
      ],
      "text/plain": [
       "<IPython.core.display.HTML object>"
      ]
     },
     "metadata": {},
     "output_type": "display_data"
    },
    {
     "data": {
      "text/html": [
       "<span style=\"color:#7E57C2\"><h2 style=\"font-size:16px\">Hyperparameters:</h2></span>"
      ],
      "text/plain": [
       "<IPython.core.display.HTML object>"
      ]
     },
     "metadata": {},
     "output_type": "display_data"
    },
    {
     "data": {
      "text/html": [
       "<span style=\"color:cyan\"> |-classification_head_1/dropout: 0.0</span>"
      ],
      "text/plain": [
       "<IPython.core.display.HTML object>"
      ]
     },
     "metadata": {},
     "output_type": "display_data"
    },
    {
     "data": {
      "text/html": [
       "<span style=\"color:blue\"> |-learning_rate: 0.001</span>"
      ],
      "text/plain": [
       "<IPython.core.display.HTML object>"
      ]
     },
     "metadata": {},
     "output_type": "display_data"
    },
    {
     "data": {
      "text/html": [
       "<span style=\"color:cyan\"> |-optimizer: adam</span>"
      ],
      "text/plain": [
       "<IPython.core.display.HTML object>"
      ]
     },
     "metadata": {},
     "output_type": "display_data"
    },
    {
     "data": {
      "text/html": [
       "<span style=\"color:blue\"> |-structured_data_block_1/dense_block_1/dropout: 0.25</span>"
      ],
      "text/plain": [
       "<IPython.core.display.HTML object>"
      ]
     },
     "metadata": {},
     "output_type": "display_data"
    },
    {
     "data": {
      "text/html": [
       "<span style=\"color:cyan\"> |-structured_data_block_1/dense_block_1/num_layers: 3</span>"
      ],
      "text/plain": [
       "<IPython.core.display.HTML object>"
      ]
     },
     "metadata": {},
     "output_type": "display_data"
    },
    {
     "data": {
      "text/html": [
       "<span style=\"color:blue\"> |-structured_data_block_1/dense_block_1/units_0: 128</span>"
      ],
      "text/plain": [
       "<IPython.core.display.HTML object>"
      ]
     },
     "metadata": {},
     "output_type": "display_data"
    },
    {
     "data": {
      "text/html": [
       "<span style=\"color:cyan\"> |-structured_data_block_1/dense_block_1/units_1: 64</span>"
      ],
      "text/plain": [
       "<IPython.core.display.HTML object>"
      ]
     },
     "metadata": {},
     "output_type": "display_data"
    },
    {
     "data": {
      "text/html": [
       "<span style=\"color:blue\"> |-structured_data_block_1/dense_block_1/units_2: 32</span>"
      ],
      "text/plain": [
       "<IPython.core.display.HTML object>"
      ]
     },
     "metadata": {},
     "output_type": "display_data"
    },
    {
     "data": {
      "text/html": [
       "<span style=\"color:cyan\"> |-structured_data_block_1/dense_block_1/use_batchnorm: True</span>"
      ],
      "text/plain": [
       "<IPython.core.display.HTML object>"
      ]
     },
     "metadata": {},
     "output_type": "display_data"
    },
    {
     "data": {
      "text/html": [
       "<span style=\"color:#4527A0\"><h1 style=\"font-size:18px\">Starting new trial</h1></span>"
      ],
      "text/plain": [
       "<IPython.core.display.HTML object>"
      ]
     },
     "metadata": {},
     "output_type": "display_data"
    },
    {
     "name": "stdout",
     "output_type": "stream",
     "text": [
      "Epoch 1/1000\n",
      "26/26 [==============================] - ETA: 0s - loss: 1.6635 - accuracy: 0.18 - ETA: 0s - loss: 1.4651 - accuracy: 0.27 - ETA: 0s - loss: 1.4329 - accuracy: 0.32 - ETA: 0s - loss: 1.4735 - accuracy: 0.32 - ETA: 0s - loss: 1.4669 - accuracy: 0.33 - ETA: 0s - loss: 1.4569 - accuracy: 0.35 - ETA: 0s - loss: 1.4456 - accuracy: 0.36 - ETA: 0s - loss: 1.4017 - accuracy: 0.38 - 6s 241ms/step - loss: 1.4017 - accuracy: 0.3858 - val_loss: 1.6873 - val_accuracy: 0.3214\n",
      "Epoch 2/1000\n",
      "26/26 [==============================] - ETA: 0s - loss: 0.9723 - accuracy: 0.59 - ETA: 0s - loss: 1.2451 - accuracy: 0.49 - ETA: 0s - loss: 1.1992 - accuracy: 0.50 - ETA: 0s - loss: 1.2047 - accuracy: 0.50 - ETA: 0s - loss: 1.2005 - accuracy: 0.50 - ETA: 0s - loss: 1.1730 - accuracy: 0.51 - ETA: 0s - loss: 1.1680 - accuracy: 0.51 - ETA: 0s - loss: 1.1533 - accuracy: 0.51 - 1s 54ms/step - loss: 1.1533 - accuracy: 0.5168 - val_loss: 1.3282 - val_accuracy: 0.3810\n",
      "Epoch 3/1000\n",
      "26/26 [==============================] - ETA: 0s - loss: 0.9306 - accuracy: 0.62 - ETA: 0s - loss: 1.0661 - accuracy: 0.55 - ETA: 0s - loss: 1.0705 - accuracy: 0.57 - ETA: 0s - loss: 1.0866 - accuracy: 0.57 - ETA: 0s - loss: 1.0590 - accuracy: 0.56 - ETA: 0s - loss: 1.0394 - accuracy: 0.57 - ETA: 0s - loss: 1.0460 - accuracy: 0.56 - 1s 55ms/step - loss: 1.0342 - accuracy: 0.5685 - val_loss: 1.1905 - val_accuracy: 0.4762\n",
      "Epoch 4/1000\n",
      "26/26 [==============================] - ETA: 0s - loss: 0.9545 - accuracy: 0.56 - ETA: 0s - loss: 1.0855 - accuracy: 0.53 - ETA: 0s - loss: 0.9997 - accuracy: 0.58 - ETA: 0s - loss: 0.9521 - accuracy: 0.59 - ETA: 0s - loss: 0.9479 - accuracy: 0.58 - ETA: 0s - loss: 0.9684 - accuracy: 0.56 - ETA: 0s - loss: 0.9636 - accuracy: 0.57 - ETA: 0s - loss: 0.9762 - accuracy: 0.57 - 1s 49ms/step - loss: 0.9654 - accuracy: 0.5793 - val_loss: 1.1306 - val_accuracy: 0.4643\n",
      "Epoch 5/1000\n",
      "26/26 [==============================] - ETA: 0s - loss: 0.8480 - accuracy: 0.65 - ETA: 0s - loss: 1.0273 - accuracy: 0.54 - ETA: 0s - loss: 0.9081 - accuracy: 0.62 - ETA: 0s - loss: 0.8864 - accuracy: 0.62 - ETA: 0s - loss: 0.8947 - accuracy: 0.61 - ETA: 0s - loss: 0.9062 - accuracy: 0.62 - ETA: 0s - loss: 0.9075 - accuracy: 0.61 - 1s 46ms/step - loss: 0.8989 - accuracy: 0.6238 - val_loss: 1.1117 - val_accuracy: 0.4762\n",
      "Epoch 6/1000\n",
      "26/26 [==============================] - ETA: 0s - loss: 0.8776 - accuracy: 0.59 - ETA: 0s - loss: 0.8967 - accuracy: 0.60 - ETA: 0s - loss: 0.8372 - accuracy: 0.65 - ETA: 0s - loss: 0.8547 - accuracy: 0.65 - ETA: 0s - loss: 0.8359 - accuracy: 0.66 - ETA: 0s - loss: 0.8428 - accuracy: 0.65 - ETA: 0s - loss: 0.8427 - accuracy: 0.65 - 1s 57ms/step - loss: 0.8339 - accuracy: 0.6575 - val_loss: 1.0882 - val_accuracy: 0.5357\n",
      "Epoch 7/1000\n",
      "26/26 [==============================] - ETA: 0s - loss: 0.6146 - accuracy: 0.81 - ETA: 0s - loss: 0.8487 - accuracy: 0.67 - ETA: 0s - loss: 0.8021 - accuracy: 0.67 - ETA: 0s - loss: 0.7871 - accuracy: 0.66 - ETA: 0s - loss: 0.7796 - accuracy: 0.66 - ETA: 0s - loss: 0.7680 - accuracy: 0.67 - ETA: 0s - loss: 0.7577 - accuracy: 0.67 - 1s 55ms/step - loss: 0.7405 - accuracy: 0.6875 - val_loss: 1.0634 - val_accuracy: 0.5774\n",
      "Epoch 8/1000\n",
      "26/26 [==============================] - ETA: 0s - loss: 0.6393 - accuracy: 0.75 - ETA: 0s - loss: 0.7862 - accuracy: 0.67 - ETA: 0s - loss: 0.7080 - accuracy: 0.71 - ETA: 0s - loss: 0.7332 - accuracy: 0.70 - ETA: 0s - loss: 0.6988 - accuracy: 0.72 - ETA: 0s - loss: 0.6910 - accuracy: 0.72 - ETA: 0s - loss: 0.6978 - accuracy: 0.72 - 1s 52ms/step - loss: 0.6811 - accuracy: 0.7332 - val_loss: 1.0613 - val_accuracy: 0.5238\n",
      "Epoch 9/1000\n",
      "26/26 [==============================] - ETA: 0s - loss: 0.6311 - accuracy: 0.81 - ETA: 0s - loss: 0.7607 - accuracy: 0.72 - ETA: 0s - loss: 0.6787 - accuracy: 0.75 - ETA: 0s - loss: 0.6519 - accuracy: 0.76 - ETA: 0s - loss: 0.6521 - accuracy: 0.75 - ETA: 0s - loss: 0.6494 - accuracy: 0.74 - ETA: 0s - loss: 0.6506 - accuracy: 0.73 - ETA: 0s - loss: 0.6515 - accuracy: 0.73 - 2s 67ms/step - loss: 0.6402 - accuracy: 0.7380 - val_loss: 1.1025 - val_accuracy: 0.5417\n",
      "Epoch 10/1000\n",
      "26/26 [==============================] - ETA: 0s - loss: 0.6636 - accuracy: 0.78 - ETA: 0s - loss: 0.7228 - accuracy: 0.67 - ETA: 0s - loss: 0.6105 - accuracy: 0.74 - ETA: 0s - loss: 0.6127 - accuracy: 0.74 - ETA: 0s - loss: 0.5935 - accuracy: 0.76 - ETA: 0s - loss: 0.5752 - accuracy: 0.77 - ETA: 0s - loss: 0.5693 - accuracy: 0.77 - 2s 60ms/step - loss: 0.5602 - accuracy: 0.7788 - val_loss: 1.1580 - val_accuracy: 0.5417\n",
      "Epoch 11/1000\n",
      "26/26 [==============================] - ETA: 0s - loss: 0.5215 - accuracy: 0.81 - ETA: 0s - loss: 0.6275 - accuracy: 0.73 - ETA: 0s - loss: 0.5564 - accuracy: 0.79 - ETA: 0s - loss: 0.5371 - accuracy: 0.80 - ETA: 0s - loss: 0.5363 - accuracy: 0.79 - ETA: 0s - loss: 0.5541 - accuracy: 0.79 - ETA: 0s - loss: 0.5588 - accuracy: 0.79 - ETA: 0s - loss: 0.5349 - accuracy: 0.80 - 2s 62ms/step - loss: 0.5349 - accuracy: 0.8065 - val_loss: 1.2386 - val_accuracy: 0.5060\n",
      "Epoch 12/1000\n",
      "26/26 [==============================] - ETA: 0s - loss: 0.4086 - accuracy: 0.84 - ETA: 0s - loss: 0.4764 - accuracy: 0.85 - ETA: 0s - loss: 0.4393 - accuracy: 0.84 - ETA: 0s - loss: 0.4540 - accuracy: 0.83 - ETA: 0s - loss: 0.4557 - accuracy: 0.82 - ETA: 0s - loss: 0.4642 - accuracy: 0.82 - ETA: 0s - loss: 0.4757 - accuracy: 0.82 - 1s 52ms/step - loss: 0.4664 - accuracy: 0.8269 - val_loss: 1.2509 - val_accuracy: 0.5238\n",
      "Epoch 13/1000\n",
      "26/26 [==============================] - ETA: 0s - loss: 0.4045 - accuracy: 0.87 - ETA: 0s - loss: 0.4261 - accuracy: 0.83 - ETA: 0s - loss: 0.4057 - accuracy: 0.84 - ETA: 0s - loss: 0.4264 - accuracy: 0.83 - ETA: 0s - loss: 0.4187 - accuracy: 0.83 - ETA: 0s - loss: 0.4276 - accuracy: 0.83 - ETA: 0s - loss: 0.4297 - accuracy: 0.83 - 1s 51ms/step - loss: 0.4259 - accuracy: 0.8401 - val_loss: 1.3269 - val_accuracy: 0.5060\n",
      "Epoch 14/1000\n",
      "26/26 [==============================] - ETA: 0s - loss: 0.3782 - accuracy: 0.90 - ETA: 0s - loss: 0.5323 - accuracy: 0.81 - ETA: 0s - loss: 0.4168 - accuracy: 0.86 - ETA: 0s - loss: 0.4249 - accuracy: 0.84 - ETA: 0s - loss: 0.4227 - accuracy: 0.84 - ETA: 0s - loss: 0.4303 - accuracy: 0.83 - ETA: 0s - loss: 0.4143 - accuracy: 0.84 - 1s 56ms/step - loss: 0.4068 - accuracy: 0.8510 - val_loss: 1.2403 - val_accuracy: 0.5060\n",
      "Epoch 15/1000\n",
      "26/26 [==============================] - ETA: 0s - loss: 0.3715 - accuracy: 0.87 - ETA: 0s - loss: 0.4232 - accuracy: 0.82 - ETA: 0s - loss: 0.3501 - accuracy: 0.88 - ETA: 0s - loss: 0.3622 - accuracy: 0.87 - ETA: 0s - loss: 0.3724 - accuracy: 0.87 - ETA: 0s - loss: 0.3884 - accuracy: 0.87 - ETA: 0s - loss: 0.3896 - accuracy: 0.86 - 2s 74ms/step - loss: 0.3861 - accuracy: 0.8678 - val_loss: 1.2698 - val_accuracy: 0.5595\n",
      "Epoch 16/1000\n",
      "26/26 [==============================] - ETA: 0s - loss: 0.3523 - accuracy: 0.90 - ETA: 0s - loss: 0.4140 - accuracy: 0.84 - ETA: 0s - loss: 0.3794 - accuracy: 0.86 - ETA: 0s - loss: 0.3431 - accuracy: 0.87 - ETA: 0s - loss: 0.3604 - accuracy: 0.86 - ETA: 0s - loss: 0.3686 - accuracy: 0.86 - ETA: 0s - loss: 0.3716 - accuracy: 0.86 - ETA: 0s - loss: 0.3689 - accuracy: 0.86 - 1s 48ms/step - loss: 0.3626 - accuracy: 0.8642 - val_loss: 1.2707 - val_accuracy: 0.5595\n",
      "Epoch 17/1000\n",
      "26/26 [==============================] - ETA: 0s - loss: 0.2681 - accuracy: 0.93 - ETA: 0s - loss: 0.3242 - accuracy: 0.89 - ETA: 0s - loss: 0.3309 - accuracy: 0.88 - ETA: 0s - loss: 0.2975 - accuracy: 0.89 - ETA: 0s - loss: 0.3205 - accuracy: 0.87 - ETA: 0s - loss: 0.3193 - accuracy: 0.87 - ETA: 0s - loss: 0.3181 - accuracy: 0.87 - ETA: 0s - loss: 0.3197 - accuracy: 0.87 - 1s 56ms/step - loss: 0.3197 - accuracy: 0.8774 - val_loss: 1.4501 - val_accuracy: 0.5536\n",
      "Epoch 18/1000\n",
      "26/26 [==============================] - ETA: 0s - loss: 0.2734 - accuracy: 0.90 - ETA: 0s - loss: 0.3601 - accuracy: 0.88 - ETA: 0s - loss: 0.3670 - accuracy: 0.88 - ETA: 0s - loss: 0.3067 - accuracy: 0.91 - ETA: 0s - loss: 0.3082 - accuracy: 0.90 - ETA: 0s - loss: 0.3366 - accuracy: 0.88 - ETA: 0s - loss: 0.3317 - accuracy: 0.88 - ETA: 0s - loss: 0.3288 - accuracy: 0.89 - 2s 59ms/step - loss: 0.3185 - accuracy: 0.8942 - val_loss: 1.3572 - val_accuracy: 0.5655\n"
     ]
    },
    {
     "data": {
      "text/html": [
       "<span style=\"color:#4527A0\"><h1 style=\"font-size:18px\">Trial complete</h1></span>"
      ],
      "text/plain": [
       "<IPython.core.display.HTML object>"
      ]
     },
     "metadata": {},
     "output_type": "display_data"
    },
    {
     "data": {
      "text/html": [
       "<span style=\"color:#4527A0\"><h1 style=\"font-size:18px\">Trial summary</h1></span>"
      ],
      "text/plain": [
       "<IPython.core.display.HTML object>"
      ]
     },
     "metadata": {},
     "output_type": "display_data"
    },
    {
     "data": {
      "text/html": [
       "<span style=\"color:cyan\"> |-Trial ID: 31ace9341e1e8b382e0857fdd4c10a9b</span>"
      ],
      "text/plain": [
       "<IPython.core.display.HTML object>"
      ]
     },
     "metadata": {},
     "output_type": "display_data"
    },
    {
     "data": {
      "text/html": [
       "<span style=\"color:cyan\"> |-Score: 0.5773809552192688</span>"
      ],
      "text/plain": [
       "<IPython.core.display.HTML object>"
      ]
     },
     "metadata": {},
     "output_type": "display_data"
    },
    {
     "data": {
      "text/html": [
       "<span style=\"color:cyan\"> |-Best step: 6</span>"
      ],
      "text/plain": [
       "<IPython.core.display.HTML object>"
      ]
     },
     "metadata": {},
     "output_type": "display_data"
    },
    {
     "data": {
      "text/html": [
       "<span style=\"color:#7E57C2\"><h2 style=\"font-size:16px\">Hyperparameters:</h2></span>"
      ],
      "text/plain": [
       "<IPython.core.display.HTML object>"
      ]
     },
     "metadata": {},
     "output_type": "display_data"
    },
    {
     "data": {
      "text/html": [
       "<span style=\"color:cyan\"> |-classification_head_1/dropout: 0</span>"
      ],
      "text/plain": [
       "<IPython.core.display.HTML object>"
      ]
     },
     "metadata": {},
     "output_type": "display_data"
    },
    {
     "data": {
      "text/html": [
       "<span style=\"color:blue\"> |-learning_rate: 0.001</span>"
      ],
      "text/plain": [
       "<IPython.core.display.HTML object>"
      ]
     },
     "metadata": {},
     "output_type": "display_data"
    },
    {
     "data": {
      "text/html": [
       "<span style=\"color:cyan\"> |-optimizer: adam</span>"
      ],
      "text/plain": [
       "<IPython.core.display.HTML object>"
      ]
     },
     "metadata": {},
     "output_type": "display_data"
    },
    {
     "data": {
      "text/html": [
       "<span style=\"color:blue\"> |-structured_data_block_1/dense_block_1/dropout: 0.25</span>"
      ],
      "text/plain": [
       "<IPython.core.display.HTML object>"
      ]
     },
     "metadata": {},
     "output_type": "display_data"
    },
    {
     "data": {
      "text/html": [
       "<span style=\"color:cyan\"> |-structured_data_block_1/dense_block_1/num_layers: 3</span>"
      ],
      "text/plain": [
       "<IPython.core.display.HTML object>"
      ]
     },
     "metadata": {},
     "output_type": "display_data"
    },
    {
     "data": {
      "text/html": [
       "<span style=\"color:blue\"> |-structured_data_block_1/dense_block_1/units_0: 512</span>"
      ],
      "text/plain": [
       "<IPython.core.display.HTML object>"
      ]
     },
     "metadata": {},
     "output_type": "display_data"
    },
    {
     "data": {
      "text/html": [
       "<span style=\"color:cyan\"> |-structured_data_block_1/dense_block_1/units_1: 256</span>"
      ],
      "text/plain": [
       "<IPython.core.display.HTML object>"
      ]
     },
     "metadata": {},
     "output_type": "display_data"
    },
    {
     "data": {
      "text/html": [
       "<span style=\"color:blue\"> |-structured_data_block_1/dense_block_1/units_2: 256</span>"
      ],
      "text/plain": [
       "<IPython.core.display.HTML object>"
      ]
     },
     "metadata": {},
     "output_type": "display_data"
    },
    {
     "data": {
      "text/html": [
       "<span style=\"color:cyan\"> |-structured_data_block_1/dense_block_1/use_batchnorm: True</span>"
      ],
      "text/plain": [
       "<IPython.core.display.HTML object>"
      ]
     },
     "metadata": {},
     "output_type": "display_data"
    },
    {
     "data": {
      "text/html": [
       "<span style=\"color:#4527A0\"><h1 style=\"font-size:18px\">Starting new trial</h1></span>"
      ],
      "text/plain": [
       "<IPython.core.display.HTML object>"
      ]
     },
     "metadata": {},
     "output_type": "display_data"
    },
    {
     "name": "stdout",
     "output_type": "stream",
     "text": [
      "Epoch 1/1000\n",
      "26/26 [==============================] - ETA: 0s - loss: 2858.0056 - accuracy: 0.406 - ETA: 0s - loss: 3002.6321 - accuracy: 0.243 - ETA: 0s - loss: 2783.7705 - accuracy: 0.260 - ETA: 0s - loss: 2468.7087 - accuracy: 0.272 - ETA: 0s - loss: 2277.7805 - accuracy: 0.272 - ETA: 0s - loss: 2120.2883 - accuracy: 0.273 - 6s 222ms/step - loss: 2029.8068 - accuracy: 0.2680 - val_loss: 345.3294 - val_accuracy: 0.3571\n",
      "Epoch 2/1000\n",
      "26/26 [==============================] - ETA: 0s - loss: 1037.7554 - accuracy: 0.281 - ETA: 0s - loss: 1459.0255 - accuracy: 0.312 - ETA: 0s - loss: 1125.1947 - accuracy: 0.307 - ETA: 0s - loss: 1039.6665 - accuracy: 0.317 - ETA: 0s - loss: 988.4116 - accuracy: 0.312 - 1s 48ms/step - loss: 953.0453 - accuracy: 0.3149 - val_loss: 120.0698 - val_accuracy: 0.4226\n",
      "Epoch 3/1000\n",
      "26/26 [==============================] - ETA: 0s - loss: 416.8583 - accuracy: 0.43 - ETA: 0s - loss: 392.6886 - accuracy: 0.40 - ETA: 0s - loss: 472.3438 - accuracy: 0.35 - ETA: 0s - loss: 455.8490 - accuracy: 0.35 - ETA: 0s - loss: 433.2210 - accuracy: 0.32 - 1s 44ms/step - loss: 436.5731 - accuracy: 0.3293 - val_loss: 71.3272 - val_accuracy: 0.4524\n",
      "Epoch 4/1000\n",
      "26/26 [==============================] - ETA: 0s - loss: 183.4043 - accuracy: 0.18 - ETA: 0s - loss: 215.8082 - accuracy: 0.33 - ETA: 0s - loss: 201.8322 - accuracy: 0.33 - ETA: 0s - loss: 191.2132 - accuracy: 0.33 - ETA: 0s - loss: 192.4701 - accuracy: 0.35 - 1s 38ms/step - loss: 184.3244 - accuracy: 0.3498 - val_loss: 44.5969 - val_accuracy: 0.4345\n",
      "Epoch 5/1000\n",
      "26/26 [==============================] - ETA: 0s - loss: 71.2012 - accuracy: 0.343 - ETA: 0s - loss: 109.8597 - accuracy: 0.32 - ETA: 0s - loss: 126.1350 - accuracy: 0.33 - ETA: 0s - loss: 119.6222 - accuracy: 0.32 - ETA: 0s - loss: 126.6643 - accuracy: 0.31 - 1s 54ms/step - loss: 115.5003 - accuracy: 0.3137 - val_loss: 28.8470 - val_accuracy: 0.4167\n",
      "Epoch 6/1000\n",
      "26/26 [==============================] - ETA: 0s - loss: 42.4798 - accuracy: 0.312 - ETA: 0s - loss: 56.3139 - accuracy: 0.312 - ETA: 0s - loss: 319.4586 - accuracy: 0.30 - ETA: 0s - loss: 226.1377 - accuracy: 0.31 - ETA: 0s - loss: 210.4009 - accuracy: 0.29 - ETA: 0s - loss: 175.3505 - accuracy: 0.30 - 1s 46ms/step - loss: 169.0416 - accuracy: 0.3065 - val_loss: 15.9313 - val_accuracy: 0.3929\n",
      "Epoch 7/1000\n",
      "26/26 [==============================] - ETA: 0s - loss: 30.5191 - accuracy: 0.187 - ETA: 0s - loss: 29.3705 - accuracy: 0.267 - ETA: 0s - loss: 29.1894 - accuracy: 0.312 - ETA: 0s - loss: 35.4481 - accuracy: 0.307 - ETA: 0s - loss: 31.5980 - accuracy: 0.303 - 1s 41ms/step - loss: 31.1978 - accuracy: 0.3005 - val_loss: 8.9762 - val_accuracy: 0.3452\n",
      "Epoch 8/1000\n",
      "26/26 [==============================] - ETA: 0s - loss: 5.5113 - accuracy: 0.18 - ETA: 0s - loss: 38.6543 - accuracy: 0.276 - ETA: 0s - loss: 28.1009 - accuracy: 0.305 - ETA: 0s - loss: 48.4904 - accuracy: 0.296 - ETA: 0s - loss: 43.1344 - accuracy: 0.288 - 1s 38ms/step - loss: 41.8787 - accuracy: 0.2861 - val_loss: 5.7473 - val_accuracy: 0.3155\n",
      "Epoch 9/1000\n",
      "26/26 [==============================] - ETA: 0s - loss: 13.9836 - accuracy: 0.218 - ETA: 0s - loss: 23.6138 - accuracy: 0.236 - ETA: 0s - loss: 23.0289 - accuracy: 0.268 - ETA: 0s - loss: 19.3735 - accuracy: 0.272 - ETA: 0s - loss: 28.7296 - accuracy: 0.268 - 1s 41ms/step - loss: 27.1255 - accuracy: 0.2692 - val_loss: 8.0150 - val_accuracy: 0.3214\n",
      "Epoch 10/1000\n",
      "26/26 [==============================] - ETA: 0s - loss: 11.1803 - accuracy: 0.218 - ETA: 0s - loss: 22.2523 - accuracy: 0.236 - ETA: 0s - loss: 19.4205 - accuracy: 0.295 - ETA: 0s - loss: 18.0881 - accuracy: 0.289 - ETA: 0s - loss: 16.3492 - accuracy: 0.283 - 1s 35ms/step - loss: 16.0407 - accuracy: 0.2812 - val_loss: 5.4954 - val_accuracy: 0.2976\n",
      "Epoch 11/1000\n",
      "26/26 [==============================] - ETA: 0s - loss: 3.5832 - accuracy: 0.15 - ETA: 0s - loss: 9.2291 - accuracy: 0.25 - ETA: 0s - loss: 14.2698 - accuracy: 0.259 - ETA: 0s - loss: 19.3761 - accuracy: 0.291 - ETA: 0s - loss: 18.6670 - accuracy: 0.282 - ETA: 0s - loss: 18.5229 - accuracy: 0.275 - 2s 58ms/step - loss: 16.7683 - accuracy: 0.2752 - val_loss: 4.8443 - val_accuracy: 0.3155\n",
      "Epoch 12/1000\n",
      "26/26 [==============================] - ETA: 0s - loss: 4.0449 - accuracy: 0.15 - ETA: 0s - loss: 31.6273 - accuracy: 0.218 - ETA: 0s - loss: 18.0529 - accuracy: 0.276 - ETA: 0s - loss: 15.2533 - accuracy: 0.283 - ETA: 0s - loss: 27.5870 - accuracy: 0.275 - 1s 44ms/step - loss: 25.0597 - accuracy: 0.2812 - val_loss: 3.1780 - val_accuracy: 0.3095\n",
      "Epoch 13/1000\n",
      "26/26 [==============================] - ETA: 0s - loss: 8.4217 - accuracy: 0.12 - ETA: 0s - loss: 19.1606 - accuracy: 0.196 - ETA: 0s - loss: 15.2657 - accuracy: 0.257 - ETA: 0s - loss: 17.1959 - accuracy: 0.256 - ETA: 0s - loss: 14.2788 - accuracy: 0.265 - 1s 43ms/step - loss: 13.8262 - accuracy: 0.2632 - val_loss: 12.5404 - val_accuracy: 0.3155\n",
      "Epoch 14/1000\n",
      "26/26 [==============================] - ETA: 0s - loss: 9.1168 - accuracy: 0.18 - ETA: 0s - loss: 8.8396 - accuracy: 0.26 - ETA: 0s - loss: 6.9329 - accuracy: 0.29 - ETA: 0s - loss: 7.5071 - accuracy: 0.28 - ETA: 0s - loss: 8.8741 - accuracy: 0.27 - 1s 43ms/step - loss: 8.5830 - accuracy: 0.2716 - val_loss: 5.5841 - val_accuracy: 0.3036\n",
      "Epoch 15/1000\n",
      "26/26 [==============================] - ETA: 0s - loss: 5.4871 - accuracy: 0.25 - ETA: 0s - loss: 3.8068 - accuracy: 0.23 - ETA: 0s - loss: 12.5045 - accuracy: 0.237 - ETA: 0s - loss: 9.6479 - accuracy: 0.253 - ETA: 0s - loss: 8.1482 - accuracy: 0.27 - 1s 48ms/step - loss: 7.6718 - accuracy: 0.2692 - val_loss: 5.9061 - val_accuracy: 0.2857\n",
      "Epoch 16/1000\n",
      "26/26 [==============================] - ETA: 0s - loss: 6.0884 - accuracy: 0.28 - ETA: 0s - loss: 4.1451 - accuracy: 0.26 - ETA: 0s - loss: 4.6254 - accuracy: 0.26 - ETA: 0s - loss: 4.2006 - accuracy: 0.27 - ETA: 0s - loss: 3.9678 - accuracy: 0.28 - 1s 38ms/step - loss: 3.8861 - accuracy: 0.2849 - val_loss: 6.5685 - val_accuracy: 0.2798\n",
      "Epoch 17/1000\n",
      "26/26 [==============================] - ETA: 0s - loss: 8.3802 - accuracy: 0.28 - ETA: 0s - loss: 3.6614 - accuracy: 0.29 - ETA: 0s - loss: 4.5957 - accuracy: 0.26 - ETA: 0s - loss: 7.4756 - accuracy: 0.26 - ETA: 0s - loss: 13.4225 - accuracy: 0.271 - 1s 46ms/step - loss: 13.1961 - accuracy: 0.2692 - val_loss: 7.1314 - val_accuracy: 0.2798\n",
      "Epoch 18/1000\n",
      "26/26 [==============================] - ETA: 0s - loss: 3.4863 - accuracy: 0.28 - ETA: 0s - loss: 3.6981 - accuracy: 0.36 - ETA: 0s - loss: 4.7369 - accuracy: 0.32 - ETA: 0s - loss: 9.1556 - accuracy: 0.28 - ETA: 0s - loss: 16.5728 - accuracy: 0.292 - 1s 46ms/step - loss: 15.3019 - accuracy: 0.2921 - val_loss: 5.3320 - val_accuracy: 0.2798\n",
      "Epoch 19/1000\n",
      "26/26 [==============================] - ETA: 0s - loss: 7.8967 - accuracy: 0.25 - ETA: 0s - loss: 3.0537 - accuracy: 0.29 - ETA: 0s - loss: 3.3966 - accuracy: 0.27 - ETA: 0s - loss: 3.0466 - accuracy: 0.29 - ETA: 0s - loss: 3.2181 - accuracy: 0.28 - 1s 43ms/step - loss: 3.4797 - accuracy: 0.2849 - val_loss: 4.4876 - val_accuracy: 0.2738\n",
      "Epoch 20/1000\n",
      "26/26 [==============================] - ETA: 0s - loss: 2.4530 - accuracy: 0.31 - ETA: 0s - loss: 7.6685 - accuracy: 0.35 - ETA: 0s - loss: 11.1366 - accuracy: 0.335 - ETA: 0s - loss: 8.1286 - accuracy: 0.305 - ETA: 0s - loss: 6.8188 - accuracy: 0.30 - 1s 37ms/step - loss: 6.4045 - accuracy: 0.3041 - val_loss: 4.6963 - val_accuracy: 0.2738\n",
      "Epoch 21/1000\n",
      "26/26 [==============================] - ETA: 0s - loss: 2.7825 - accuracy: 0.34 - ETA: 0s - loss: 4.1173 - accuracy: 0.33 - ETA: 0s - loss: 2.8296 - accuracy: 0.27 - ETA: 0s - loss: 2.9533 - accuracy: 0.27 - ETA: 0s - loss: 5.6075 - accuracy: 0.27 - 1s 45ms/step - loss: 5.3342 - accuracy: 0.2716 - val_loss: 4.9822 - val_accuracy: 0.2798\n",
      "Epoch 22/1000\n",
      "26/26 [==============================] - ETA: 0s - loss: 4.5275 - accuracy: 0.18 - ETA: 0s - loss: 6.1978 - accuracy: 0.28 - ETA: 0s - loss: 4.1035 - accuracy: 0.28 - ETA: 0s - loss: 3.3847 - accuracy: 0.28 - ETA: 0s - loss: 2.9833 - accuracy: 0.28 - 1s 43ms/step - loss: 2.8769 - accuracy: 0.2825 - val_loss: 5.3862 - val_accuracy: 0.2857\n"
     ]
    },
    {
     "data": {
      "text/html": [
       "<span style=\"color:#4527A0\"><h1 style=\"font-size:18px\">Trial complete</h1></span>"
      ],
      "text/plain": [
       "<IPython.core.display.HTML object>"
      ]
     },
     "metadata": {},
     "output_type": "display_data"
    },
    {
     "data": {
      "text/html": [
       "<span style=\"color:#4527A0\"><h1 style=\"font-size:18px\">Trial summary</h1></span>"
      ],
      "text/plain": [
       "<IPython.core.display.HTML object>"
      ]
     },
     "metadata": {},
     "output_type": "display_data"
    },
    {
     "data": {
      "text/html": [
       "<span style=\"color:cyan\"> |-Trial ID: ed1682ca5e5e37cb9afe9955e3de1b6b</span>"
      ],
      "text/plain": [
       "<IPython.core.display.HTML object>"
      ]
     },
     "metadata": {},
     "output_type": "display_data"
    },
    {
     "data": {
      "text/html": [
       "<span style=\"color:cyan\"> |-Score: 0.4523809552192688</span>"
      ],
      "text/plain": [
       "<IPython.core.display.HTML object>"
      ]
     },
     "metadata": {},
     "output_type": "display_data"
    },
    {
     "data": {
      "text/html": [
       "<span style=\"color:cyan\"> |-Best step: 2</span>"
      ],
      "text/plain": [
       "<IPython.core.display.HTML object>"
      ]
     },
     "metadata": {},
     "output_type": "display_data"
    },
    {
     "data": {
      "text/html": [
       "<span style=\"color:#7E57C2\"><h2 style=\"font-size:16px\">Hyperparameters:</h2></span>"
      ],
      "text/plain": [
       "<IPython.core.display.HTML object>"
      ]
     },
     "metadata": {},
     "output_type": "display_data"
    },
    {
     "data": {
      "text/html": [
       "<span style=\"color:cyan\"> |-classification_head_1/dropout: 0</span>"
      ],
      "text/plain": [
       "<IPython.core.display.HTML object>"
      ]
     },
     "metadata": {},
     "output_type": "display_data"
    },
    {
     "data": {
      "text/html": [
       "<span style=\"color:blue\"> |-learning_rate: 0.001</span>"
      ],
      "text/plain": [
       "<IPython.core.display.HTML object>"
      ]
     },
     "metadata": {},
     "output_type": "display_data"
    },
    {
     "data": {
      "text/html": [
       "<span style=\"color:cyan\"> |-optimizer: adam</span>"
      ],
      "text/plain": [
       "<IPython.core.display.HTML object>"
      ]
     },
     "metadata": {},
     "output_type": "display_data"
    },
    {
     "data": {
      "text/html": [
       "<span style=\"color:blue\"> |-structured_data_block_1/dense_block_1/dropout: 0.5</span>"
      ],
      "text/plain": [
       "<IPython.core.display.HTML object>"
      ]
     },
     "metadata": {},
     "output_type": "display_data"
    },
    {
     "data": {
      "text/html": [
       "<span style=\"color:cyan\"> |-structured_data_block_1/dense_block_1/num_layers: 2</span>"
      ],
      "text/plain": [
       "<IPython.core.display.HTML object>"
      ]
     },
     "metadata": {},
     "output_type": "display_data"
    },
    {
     "data": {
      "text/html": [
       "<span style=\"color:blue\"> |-structured_data_block_1/dense_block_1/units_0: 128</span>"
      ],
      "text/plain": [
       "<IPython.core.display.HTML object>"
      ]
     },
     "metadata": {},
     "output_type": "display_data"
    },
    {
     "data": {
      "text/html": [
       "<span style=\"color:cyan\"> |-structured_data_block_1/dense_block_1/units_1: 256</span>"
      ],
      "text/plain": [
       "<IPython.core.display.HTML object>"
      ]
     },
     "metadata": {},
     "output_type": "display_data"
    },
    {
     "data": {
      "text/html": [
       "<span style=\"color:blue\"> |-structured_data_block_1/dense_block_1/units_2: 256</span>"
      ],
      "text/plain": [
       "<IPython.core.display.HTML object>"
      ]
     },
     "metadata": {},
     "output_type": "display_data"
    },
    {
     "data": {
      "text/html": [
       "<span style=\"color:cyan\"> |-structured_data_block_1/dense_block_1/use_batchnorm: False</span>"
      ],
      "text/plain": [
       "<IPython.core.display.HTML object>"
      ]
     },
     "metadata": {},
     "output_type": "display_data"
    },
    {
     "data": {
      "text/html": [
       "<span style=\"color:#4527A0\"><h1 style=\"font-size:18px\">Starting new trial</h1></span>"
      ],
      "text/plain": [
       "<IPython.core.display.HTML object>"
      ]
     },
     "metadata": {},
     "output_type": "display_data"
    },
    {
     "name": "stdout",
     "output_type": "stream",
     "text": [
      "Epoch 1/1000\n",
      "26/26 [==============================] - ETA: 0s - loss: 1.3402 - accuracy: 0.34 - ETA: 0s - loss: 1.5587 - accuracy: 0.34 - ETA: 0s - loss: 1.4185 - accuracy: 0.39 - ETA: 0s - loss: 1.3957 - accuracy: 0.40 - ETA: 0s - loss: 1.3767 - accuracy: 0.41 - 7s 251ms/step - loss: 1.3429 - accuracy: 0.4279 - val_loss: 1.4702 - val_accuracy: 0.3512\n",
      "Epoch 2/1000\n",
      "26/26 [==============================] - ETA: 0s - loss: 0.8838 - accuracy: 0.59 - ETA: 0s - loss: 0.9952 - accuracy: 0.57 - ETA: 0s - loss: 0.9197 - accuracy: 0.61 - ETA: 0s - loss: 0.9195 - accuracy: 0.61 - ETA: 0s - loss: 0.9348 - accuracy: 0.60 - 1s 55ms/step - loss: 0.9232 - accuracy: 0.6226 - val_loss: 1.2899 - val_accuracy: 0.3810\n",
      "Epoch 3/1000\n",
      "26/26 [==============================] - ETA: 0s - loss: 0.8098 - accuracy: 0.68 - ETA: 0s - loss: 0.8768 - accuracy: 0.69 - ETA: 0s - loss: 0.7897 - accuracy: 0.71 - ETA: 0s - loss: 0.7832 - accuracy: 0.71 - ETA: 0s - loss: 0.8044 - accuracy: 0.70 - 1s 48ms/step - loss: 0.7929 - accuracy: 0.7115 - val_loss: 1.2082 - val_accuracy: 0.4524\n",
      "Epoch 4/1000\n",
      "26/26 [==============================] - ETA: 0s - loss: 0.7435 - accuracy: 0.68 - ETA: 0s - loss: 0.7922 - accuracy: 0.73 - ETA: 0s - loss: 0.7046 - accuracy: 0.76 - ETA: 0s - loss: 0.7015 - accuracy: 0.75 - ETA: 0s - loss: 0.7150 - accuracy: 0.74 - 2s 61ms/step - loss: 0.6997 - accuracy: 0.7608 - val_loss: 1.1351 - val_accuracy: 0.4702\n",
      "Epoch 5/1000\n",
      "26/26 [==============================] - ETA: 0s - loss: 0.6818 - accuracy: 0.75 - ETA: 0s - loss: 0.7223 - accuracy: 0.75 - ETA: 0s - loss: 0.6311 - accuracy: 0.78 - ETA: 0s - loss: 0.6260 - accuracy: 0.77 - ETA: 0s - loss: 0.6404 - accuracy: 0.77 - 1s 49ms/step - loss: 0.6249 - accuracy: 0.7873 - val_loss: 1.0928 - val_accuracy: 0.5119\n",
      "Epoch 6/1000\n",
      "26/26 [==============================] - ETA: 0s - loss: 0.5888 - accuracy: 0.78 - ETA: 0s - loss: 0.6535 - accuracy: 0.79 - ETA: 0s - loss: 0.5732 - accuracy: 0.82 - ETA: 0s - loss: 0.5656 - accuracy: 0.81 - ETA: 0s - loss: 0.5764 - accuracy: 0.81 - 1s 53ms/step - loss: 0.5617 - accuracy: 0.8245 - val_loss: 1.0864 - val_accuracy: 0.5000\n",
      "Epoch 7/1000\n",
      "26/26 [==============================] - ETA: 0s - loss: 0.5480 - accuracy: 0.81 - ETA: 0s - loss: 0.5931 - accuracy: 0.82 - ETA: 0s - loss: 0.5149 - accuracy: 0.85 - ETA: 0s - loss: 0.5073 - accuracy: 0.84 - ETA: 0s - loss: 0.5177 - accuracy: 0.83 - 1s 49ms/step - loss: 0.5042 - accuracy: 0.8486 - val_loss: 1.1055 - val_accuracy: 0.5298\n",
      "Epoch 8/1000\n",
      "26/26 [==============================] - ETA: 0s - loss: 0.5171 - accuracy: 0.81 - ETA: 0s - loss: 0.5407 - accuracy: 0.84 - ETA: 0s - loss: 0.4651 - accuracy: 0.86 - ETA: 0s - loss: 0.4592 - accuracy: 0.86 - ETA: 0s - loss: 0.4654 - accuracy: 0.86 - 1s 46ms/step - loss: 0.4518 - accuracy: 0.8690 - val_loss: 1.1109 - val_accuracy: 0.5417\n",
      "Epoch 9/1000\n",
      "26/26 [==============================] - ETA: 0s - loss: 0.4635 - accuracy: 0.81 - ETA: 0s - loss: 0.4920 - accuracy: 0.86 - ETA: 0s - loss: 0.4179 - accuracy: 0.89 - ETA: 0s - loss: 0.4128 - accuracy: 0.89 - ETA: 0s - loss: 0.4182 - accuracy: 0.89 - 1s 56ms/step - loss: 0.4061 - accuracy: 0.9014 - val_loss: 1.1309 - val_accuracy: 0.5357\n",
      "Epoch 10/1000\n",
      "26/26 [==============================] - ETA: 0s - loss: 0.4198 - accuracy: 0.81 - ETA: 0s - loss: 0.4538 - accuracy: 0.88 - ETA: 0s - loss: 0.3806 - accuracy: 0.91 - ETA: 0s - loss: 0.3710 - accuracy: 0.91 - ETA: 0s - loss: 0.3776 - accuracy: 0.91 - 2s 63ms/step - loss: 0.3648 - accuracy: 0.9207 - val_loss: 1.1743 - val_accuracy: 0.5179\n",
      "Epoch 11/1000\n",
      "26/26 [==============================] - ETA: 0s - loss: 0.3814 - accuracy: 0.90 - ETA: 0s - loss: 0.4106 - accuracy: 0.91 - ETA: 0s - loss: 0.3410 - accuracy: 0.92 - ETA: 0s - loss: 0.3352 - accuracy: 0.92 - ETA: 0s - loss: 0.3397 - accuracy: 0.92 - 1s 41ms/step - loss: 0.3278 - accuracy: 0.9327 - val_loss: 1.2357 - val_accuracy: 0.5060\n",
      "Epoch 12/1000\n",
      "26/26 [==============================] - ETA: 0s - loss: 0.3390 - accuracy: 0.90 - ETA: 0s - loss: 0.3724 - accuracy: 0.91 - ETA: 0s - loss: 0.3121 - accuracy: 0.92 - ETA: 0s - loss: 0.3054 - accuracy: 0.93 - ETA: 0s - loss: 0.3062 - accuracy: 0.93 - 1s 45ms/step - loss: 0.2997 - accuracy: 0.9411 - val_loss: 1.3060 - val_accuracy: 0.5119\n",
      "Epoch 13/1000\n",
      "26/26 [==============================] - ETA: 0s - loss: 0.3183 - accuracy: 0.90 - ETA: 0s - loss: 0.3266 - accuracy: 0.92 - ETA: 0s - loss: 0.2782 - accuracy: 0.93 - ETA: 0s - loss: 0.2890 - accuracy: 0.93 - ETA: 0s - loss: 0.2840 - accuracy: 0.94 - 1s 44ms/step - loss: 0.2779 - accuracy: 0.9459 - val_loss: 1.3362 - val_accuracy: 0.4821\n",
      "Epoch 14/1000\n",
      "26/26 [==============================] - ETA: 0s - loss: 0.2856 - accuracy: 0.90 - ETA: 0s - loss: 0.3410 - accuracy: 0.92 - ETA: 0s - loss: 0.2804 - accuracy: 0.94 - ETA: 0s - loss: 0.2708 - accuracy: 0.94 - ETA: 0s - loss: 0.2700 - accuracy: 0.94 - 1s 44ms/step - loss: 0.2610 - accuracy: 0.9483 - val_loss: 1.4238 - val_accuracy: 0.4762\n",
      "Epoch 15/1000\n",
      "26/26 [==============================] - ETA: 0s - loss: 0.2509 - accuracy: 0.93 - ETA: 0s - loss: 0.3064 - accuracy: 0.95 - ETA: 0s - loss: 0.2521 - accuracy: 0.95 - ETA: 0s - loss: 0.2483 - accuracy: 0.95 - ETA: 0s - loss: 0.2518 - accuracy: 0.95 - 1s 37ms/step - loss: 0.2428 - accuracy: 0.9579 - val_loss: 1.4011 - val_accuracy: 0.4762\n",
      "Epoch 16/1000\n",
      "26/26 [==============================] - ETA: 0s - loss: 0.2504 - accuracy: 0.96 - ETA: 0s - loss: 0.2934 - accuracy: 0.96 - ETA: 0s - loss: 0.2491 - accuracy: 0.96 - ETA: 0s - loss: 0.2557 - accuracy: 0.95 - ETA: 0s - loss: 0.2521 - accuracy: 0.95 - 1s 54ms/step - loss: 0.2467 - accuracy: 0.9603 - val_loss: 1.4338 - val_accuracy: 0.4702\n"
     ]
    },
    {
     "data": {
      "text/html": [
       "<span style=\"color:#4527A0\"><h1 style=\"font-size:18px\">Trial complete</h1></span>"
      ],
      "text/plain": [
       "<IPython.core.display.HTML object>"
      ]
     },
     "metadata": {},
     "output_type": "display_data"
    },
    {
     "data": {
      "text/html": [
       "<span style=\"color:#4527A0\"><h1 style=\"font-size:18px\">Trial summary</h1></span>"
      ],
      "text/plain": [
       "<IPython.core.display.HTML object>"
      ]
     },
     "metadata": {},
     "output_type": "display_data"
    },
    {
     "data": {
      "text/html": [
       "<span style=\"color:cyan\"> |-Trial ID: 5ce7f6b3eb3fd9b67a77ad64df3df43e</span>"
      ],
      "text/plain": [
       "<IPython.core.display.HTML object>"
      ]
     },
     "metadata": {},
     "output_type": "display_data"
    },
    {
     "data": {
      "text/html": [
       "<span style=\"color:cyan\"> |-Score: 0.5416666865348816</span>"
      ],
      "text/plain": [
       "<IPython.core.display.HTML object>"
      ]
     },
     "metadata": {},
     "output_type": "display_data"
    },
    {
     "data": {
      "text/html": [
       "<span style=\"color:cyan\"> |-Best step: 7</span>"
      ],
      "text/plain": [
       "<IPython.core.display.HTML object>"
      ]
     },
     "metadata": {},
     "output_type": "display_data"
    },
    {
     "data": {
      "text/html": [
       "<span style=\"color:#7E57C2\"><h2 style=\"font-size:16px\">Hyperparameters:</h2></span>"
      ],
      "text/plain": [
       "<IPython.core.display.HTML object>"
      ]
     },
     "metadata": {},
     "output_type": "display_data"
    },
    {
     "data": {
      "text/html": [
       "<span style=\"color:cyan\"> |-classification_head_1/dropout: 0</span>"
      ],
      "text/plain": [
       "<IPython.core.display.HTML object>"
      ]
     },
     "metadata": {},
     "output_type": "display_data"
    },
    {
     "data": {
      "text/html": [
       "<span style=\"color:blue\"> |-learning_rate: 0.001</span>"
      ],
      "text/plain": [
       "<IPython.core.display.HTML object>"
      ]
     },
     "metadata": {},
     "output_type": "display_data"
    },
    {
     "data": {
      "text/html": [
       "<span style=\"color:cyan\"> |-optimizer: adam</span>"
      ],
      "text/plain": [
       "<IPython.core.display.HTML object>"
      ]
     },
     "metadata": {},
     "output_type": "display_data"
    },
    {
     "data": {
      "text/html": [
       "<span style=\"color:blue\"> |-structured_data_block_1/dense_block_1/dropout: 0.0</span>"
      ],
      "text/plain": [
       "<IPython.core.display.HTML object>"
      ]
     },
     "metadata": {},
     "output_type": "display_data"
    },
    {
     "data": {
      "text/html": [
       "<span style=\"color:cyan\"> |-structured_data_block_1/dense_block_1/num_layers: 1</span>"
      ],
      "text/plain": [
       "<IPython.core.display.HTML object>"
      ]
     },
     "metadata": {},
     "output_type": "display_data"
    },
    {
     "data": {
      "text/html": [
       "<span style=\"color:blue\"> |-structured_data_block_1/dense_block_1/units_0: 256</span>"
      ],
      "text/plain": [
       "<IPython.core.display.HTML object>"
      ]
     },
     "metadata": {},
     "output_type": "display_data"
    },
    {
     "data": {
      "text/html": [
       "<span style=\"color:cyan\"> |-structured_data_block_1/dense_block_1/units_1: 16</span>"
      ],
      "text/plain": [
       "<IPython.core.display.HTML object>"
      ]
     },
     "metadata": {},
     "output_type": "display_data"
    },
    {
     "data": {
      "text/html": [
       "<span style=\"color:blue\"> |-structured_data_block_1/dense_block_1/units_2: 256</span>"
      ],
      "text/plain": [
       "<IPython.core.display.HTML object>"
      ]
     },
     "metadata": {},
     "output_type": "display_data"
    },
    {
     "data": {
      "text/html": [
       "<span style=\"color:cyan\"> |-structured_data_block_1/dense_block_1/use_batchnorm: True</span>"
      ],
      "text/plain": [
       "<IPython.core.display.HTML object>"
      ]
     },
     "metadata": {},
     "output_type": "display_data"
    },
    {
     "data": {
      "text/html": [
       "<span style=\"color:#4527A0\"><h1 style=\"font-size:18px\">Starting new trial</h1></span>"
      ],
      "text/plain": [
       "<IPython.core.display.HTML object>"
      ]
     },
     "metadata": {},
     "output_type": "display_data"
    },
    {
     "name": "stdout",
     "output_type": "stream",
     "text": [
      "Epoch 1/1000\n",
      "26/26 [==============================] - ETA: 0s - loss: 354.0348 - accuracy: 0.21 - ETA: 0s - loss: 677.5210 - accuracy: 0.27 - ETA: 0s - loss: 457.0880 - accuracy: 0.30 - ETA: 0s - loss: 356.7143 - accuracy: 0.30 - ETA: 0s - loss: 295.1022 - accuracy: 0.31 - ETA: 0s - loss: 250.5219 - accuracy: 0.30 - 6s 229ms/step - loss: 250.5219 - accuracy: 0.3065 - val_loss: 61.7005 - val_accuracy: 0.2798\n",
      "Epoch 2/1000\n",
      "26/26 [==============================] - ETA: 0s - loss: 47.2637 - accuracy: 0.218 - ETA: 0s - loss: 35.5541 - accuracy: 0.281 - ETA: 0s - loss: 30.4088 - accuracy: 0.318 - ETA: 0s - loss: 24.8595 - accuracy: 0.312 - ETA: 0s - loss: 22.4132 - accuracy: 0.296 - ETA: 0s - loss: 19.0879 - accuracy: 0.292 - 1s 49ms/step - loss: 19.0879 - accuracy: 0.2921 - val_loss: 5.9135 - val_accuracy: 0.2976\n",
      "Epoch 3/1000\n",
      "26/26 [==============================] - ETA: 0s - loss: 6.4639 - accuracy: 0.18 - ETA: 0s - loss: 4.7388 - accuracy: 0.31 - ETA: 0s - loss: 3.7822 - accuracy: 0.30 - ETA: 0s - loss: 3.1528 - accuracy: 0.29 - ETA: 0s - loss: 2.8151 - accuracy: 0.29 - ETA: 0s - loss: 2.5196 - accuracy: 0.30 - 1s 55ms/step - loss: 2.3850 - accuracy: 0.3065 - val_loss: 1.6795 - val_accuracy: 0.2440\n",
      "Epoch 4/1000\n",
      "26/26 [==============================] - ETA: 0s - loss: 1.4471 - accuracy: 0.28 - ETA: 0s - loss: 1.4648 - accuracy: 0.28 - ETA: 0s - loss: 1.5604 - accuracy: 0.27 - ETA: 0s - loss: 1.5058 - accuracy: 0.26 - ETA: 0s - loss: 1.4828 - accuracy: 0.27 - ETA: 0s - loss: 1.4579 - accuracy: 0.27 - 1s 49ms/step - loss: 1.4579 - accuracy: 0.2764 - val_loss: 1.5104 - val_accuracy: 0.2440\n",
      "Epoch 5/1000\n",
      "26/26 [==============================] - ETA: 0s - loss: 1.3633 - accuracy: 0.31 - ETA: 0s - loss: 1.3450 - accuracy: 0.28 - ETA: 0s - loss: 1.4174 - accuracy: 0.28 - ETA: 0s - loss: 1.4269 - accuracy: 0.26 - ETA: 0s - loss: 1.4062 - accuracy: 0.28 - ETA: 0s - loss: 1.3966 - accuracy: 0.28 - 2s 65ms/step - loss: 1.3966 - accuracy: 0.2837 - val_loss: 1.4219 - val_accuracy: 0.2500\n",
      "Epoch 6/1000\n",
      "26/26 [==============================] - ETA: 0s - loss: 1.3467 - accuracy: 0.28 - ETA: 0s - loss: 1.3338 - accuracy: 0.28 - ETA: 0s - loss: 1.4632 - accuracy: 0.27 - ETA: 0s - loss: 1.4235 - accuracy: 0.25 - ETA: 0s - loss: 1.3991 - accuracy: 0.26 - ETA: 0s - loss: 1.3809 - accuracy: 0.26 - 1s 49ms/step - loss: 1.3809 - accuracy: 0.2644 - val_loss: 1.4888 - val_accuracy: 0.2738\n",
      "Epoch 7/1000\n",
      "26/26 [==============================] - ETA: 0s - loss: 1.3860 - accuracy: 0.18 - ETA: 0s - loss: 1.3472 - accuracy: 0.32 - ETA: 0s - loss: 1.4181 - accuracy: 0.31 - ETA: 0s - loss: 1.3909 - accuracy: 0.29 - ETA: 0s - loss: 1.3698 - accuracy: 0.29 - ETA: 0s - loss: 1.3626 - accuracy: 0.29 - 1s 48ms/step - loss: 1.3626 - accuracy: 0.2945 - val_loss: 1.4883 - val_accuracy: 0.2798\n",
      "Epoch 8/1000\n",
      "26/26 [==============================] - ETA: 0s - loss: 1.3897 - accuracy: 0.18 - ETA: 0s - loss: 1.3486 - accuracy: 0.33 - ETA: 0s - loss: 1.3455 - accuracy: 0.32 - ETA: 0s - loss: 1.3448 - accuracy: 0.30 - ETA: 0s - loss: 1.3345 - accuracy: 0.29 - ETA: 0s - loss: 1.3282 - accuracy: 0.30 - 1s 39ms/step - loss: 1.3282 - accuracy: 0.3053 - val_loss: 1.4890 - val_accuracy: 0.2738\n",
      "Epoch 9/1000\n",
      "26/26 [==============================] - ETA: 0s - loss: 1.3895 - accuracy: 0.18 - ETA: 0s - loss: 1.3349 - accuracy: 0.33 - ETA: 0s - loss: 1.3161 - accuracy: 0.32 - ETA: 0s - loss: 1.3211 - accuracy: 0.30 - ETA: 0s - loss: 1.3166 - accuracy: 0.29 - ETA: 0s - loss: 1.3244 - accuracy: 0.30 - 1s 42ms/step - loss: 1.3244 - accuracy: 0.3029 - val_loss: 1.4952 - val_accuracy: 0.2738\n",
      "Epoch 10/1000\n",
      "26/26 [==============================] - ETA: 0s - loss: 1.3899 - accuracy: 0.18 - ETA: 0s - loss: 1.3422 - accuracy: 0.33 - ETA: 0s - loss: 1.3277 - accuracy: 0.33 - ETA: 0s - loss: 1.3311 - accuracy: 0.31 - ETA: 0s - loss: 1.3278 - accuracy: 0.30 - ETA: 0s - loss: 1.3224 - accuracy: 0.30 - 1s 41ms/step - loss: 1.3224 - accuracy: 0.3089 - val_loss: 1.5137 - val_accuracy: 0.2738\n",
      "Epoch 11/1000\n",
      "26/26 [==============================] - ETA: 0s - loss: 1.3884 - accuracy: 0.18 - ETA: 0s - loss: 1.3466 - accuracy: 0.32 - ETA: 0s - loss: 1.3196 - accuracy: 0.32 - ETA: 0s - loss: 1.3267 - accuracy: 0.30 - ETA: 0s - loss: 1.3198 - accuracy: 0.30 - ETA: 0s - loss: 1.3159 - accuracy: 0.30 - 1s 54ms/step - loss: 1.3159 - accuracy: 0.3089 - val_loss: 1.5022 - val_accuracy: 0.2738\n",
      "Epoch 12/1000\n",
      "26/26 [==============================] - ETA: 0s - loss: 1.3925 - accuracy: 0.18 - ETA: 0s - loss: 1.3313 - accuracy: 0.34 - ETA: 0s - loss: 1.3066 - accuracy: 0.33 - ETA: 0s - loss: 1.3147 - accuracy: 0.31 - ETA: 0s - loss: 1.3122 - accuracy: 0.31 - ETA: 0s - loss: 1.3092 - accuracy: 0.31 - 2s 62ms/step - loss: 1.3092 - accuracy: 0.3149 - val_loss: 1.5342 - val_accuracy: 0.2679\n",
      "Epoch 13/1000\n",
      "26/26 [==============================] - ETA: 0s - loss: 1.3660 - accuracy: 0.21 - ETA: 0s - loss: 1.3763 - accuracy: 0.33 - ETA: 0s - loss: 1.3299 - accuracy: 0.33 - ETA: 0s - loss: 1.3278 - accuracy: 0.31 - ETA: 0s - loss: 1.3263 - accuracy: 0.30 - ETA: 0s - loss: 1.3208 - accuracy: 0.31 - 1s 43ms/step - loss: 1.3208 - accuracy: 0.3113 - val_loss: 1.4722 - val_accuracy: 0.2738\n",
      "Epoch 14/1000\n",
      "26/26 [==============================] - ETA: 0s - loss: 1.3977 - accuracy: 0.18 - ETA: 0s - loss: 1.3429 - accuracy: 0.33 - ETA: 0s - loss: 1.3124 - accuracy: 0.33 - ETA: 0s - loss: 1.3198 - accuracy: 0.30 - ETA: 0s - loss: 1.3133 - accuracy: 0.30 - ETA: 0s - loss: 1.3106 - accuracy: 0.30 - 1s 43ms/step - loss: 1.3106 - accuracy: 0.3065 - val_loss: 1.4904 - val_accuracy: 0.2738\n",
      "Epoch 15/1000\n",
      "26/26 [==============================] - ETA: 0s - loss: 1.4016 - accuracy: 0.18 - ETA: 0s - loss: 1.3489 - accuracy: 0.34 - ETA: 0s - loss: 1.3242 - accuracy: 0.33 - ETA: 0s - loss: 1.3269 - accuracy: 0.30 - ETA: 0s - loss: 1.3204 - accuracy: 0.30 - ETA: 0s - loss: 1.3128 - accuracy: 0.30 - 1s 48ms/step - loss: 1.3128 - accuracy: 0.3089 - val_loss: 1.4893 - val_accuracy: 0.2738\n"
     ]
    },
    {
     "data": {
      "text/html": [
       "<span style=\"color:#4527A0\"><h1 style=\"font-size:18px\">Trial complete</h1></span>"
      ],
      "text/plain": [
       "<IPython.core.display.HTML object>"
      ]
     },
     "metadata": {},
     "output_type": "display_data"
    },
    {
     "data": {
      "text/html": [
       "<span style=\"color:#4527A0\"><h1 style=\"font-size:18px\">Trial summary</h1></span>"
      ],
      "text/plain": [
       "<IPython.core.display.HTML object>"
      ]
     },
     "metadata": {},
     "output_type": "display_data"
    },
    {
     "data": {
      "text/html": [
       "<span style=\"color:cyan\"> |-Trial ID: c0e3c318cf83f0798d8159c882e25373</span>"
      ],
      "text/plain": [
       "<IPython.core.display.HTML object>"
      ]
     },
     "metadata": {},
     "output_type": "display_data"
    },
    {
     "data": {
      "text/html": [
       "<span style=\"color:cyan\"> |-Score: 0.2976190447807312</span>"
      ],
      "text/plain": [
       "<IPython.core.display.HTML object>"
      ]
     },
     "metadata": {},
     "output_type": "display_data"
    },
    {
     "data": {
      "text/html": [
       "<span style=\"color:cyan\"> |-Best step: 1</span>"
      ],
      "text/plain": [
       "<IPython.core.display.HTML object>"
      ]
     },
     "metadata": {},
     "output_type": "display_data"
    },
    {
     "data": {
      "text/html": [
       "<span style=\"color:#7E57C2\"><h2 style=\"font-size:16px\">Hyperparameters:</h2></span>"
      ],
      "text/plain": [
       "<IPython.core.display.HTML object>"
      ]
     },
     "metadata": {},
     "output_type": "display_data"
    },
    {
     "data": {
      "text/html": [
       "<span style=\"color:cyan\"> |-classification_head_1/dropout: 0</span>"
      ],
      "text/plain": [
       "<IPython.core.display.HTML object>"
      ]
     },
     "metadata": {},
     "output_type": "display_data"
    },
    {
     "data": {
      "text/html": [
       "<span style=\"color:blue\"> |-learning_rate: 0.001</span>"
      ],
      "text/plain": [
       "<IPython.core.display.HTML object>"
      ]
     },
     "metadata": {},
     "output_type": "display_data"
    },
    {
     "data": {
      "text/html": [
       "<span style=\"color:cyan\"> |-optimizer: adam</span>"
      ],
      "text/plain": [
       "<IPython.core.display.HTML object>"
      ]
     },
     "metadata": {},
     "output_type": "display_data"
    },
    {
     "data": {
      "text/html": [
       "<span style=\"color:blue\"> |-structured_data_block_1/dense_block_1/dropout: 0.0</span>"
      ],
      "text/plain": [
       "<IPython.core.display.HTML object>"
      ]
     },
     "metadata": {},
     "output_type": "display_data"
    },
    {
     "data": {
      "text/html": [
       "<span style=\"color:cyan\"> |-structured_data_block_1/dense_block_1/num_layers: 3</span>"
      ],
      "text/plain": [
       "<IPython.core.display.HTML object>"
      ]
     },
     "metadata": {},
     "output_type": "display_data"
    },
    {
     "data": {
      "text/html": [
       "<span style=\"color:blue\"> |-structured_data_block_1/dense_block_1/units_0: 256</span>"
      ],
      "text/plain": [
       "<IPython.core.display.HTML object>"
      ]
     },
     "metadata": {},
     "output_type": "display_data"
    },
    {
     "data": {
      "text/html": [
       "<span style=\"color:cyan\"> |-structured_data_block_1/dense_block_1/units_1: 64</span>"
      ],
      "text/plain": [
       "<IPython.core.display.HTML object>"
      ]
     },
     "metadata": {},
     "output_type": "display_data"
    },
    {
     "data": {
      "text/html": [
       "<span style=\"color:blue\"> |-structured_data_block_1/dense_block_1/units_2: 1024</span>"
      ],
      "text/plain": [
       "<IPython.core.display.HTML object>"
      ]
     },
     "metadata": {},
     "output_type": "display_data"
    },
    {
     "data": {
      "text/html": [
       "<span style=\"color:cyan\"> |-structured_data_block_1/dense_block_1/use_batchnorm: False</span>"
      ],
      "text/plain": [
       "<IPython.core.display.HTML object>"
      ]
     },
     "metadata": {},
     "output_type": "display_data"
    },
    {
     "data": {
      "text/html": [
       "<span style=\"color:#4527A0\"><h1 style=\"font-size:18px\">Starting new trial</h1></span>"
      ],
      "text/plain": [
       "<IPython.core.display.HTML object>"
      ]
     },
     "metadata": {},
     "output_type": "display_data"
    },
    {
     "name": "stdout",
     "output_type": "stream",
     "text": [
      "Epoch 1/1000\n",
      "26/26 [==============================] - ETA: 0s - loss: 1.4259 - accuracy: 0.31 - ETA: 0s - loss: 1.4754 - accuracy: 0.37 - ETA: 0s - loss: 1.4584 - accuracy: 0.36 - ETA: 0s - loss: 1.4515 - accuracy: 0.37 - ETA: 0s - loss: 1.4405 - accuracy: 0.37 - ETA: 0s - loss: 1.4097 - accuracy: 0.37 - 6s 225ms/step - loss: 1.4097 - accuracy: 0.3786 - val_loss: 1.3527 - val_accuracy: 0.2976\n",
      "Epoch 2/1000\n",
      "26/26 [==============================] - ETA: 0s - loss: 1.1029 - accuracy: 0.53 - ETA: 0s - loss: 1.2330 - accuracy: 0.48 - ETA: 0s - loss: 1.1528 - accuracy: 0.52 - ETA: 0s - loss: 1.1280 - accuracy: 0.54 - ETA: 0s - loss: 1.1246 - accuracy: 0.52 - ETA: 0s - loss: 1.1323 - accuracy: 0.51 - 1s 46ms/step - loss: 1.1141 - accuracy: 0.5204 - val_loss: 1.3454 - val_accuracy: 0.3631\n",
      "Epoch 3/1000\n",
      "26/26 [==============================] - ETA: 0s - loss: 0.8873 - accuracy: 0.59 - ETA: 0s - loss: 1.0353 - accuracy: 0.57 - ETA: 0s - loss: 0.9817 - accuracy: 0.60 - ETA: 0s - loss: 0.9614 - accuracy: 0.60 - ETA: 0s - loss: 0.9714 - accuracy: 0.60 - ETA: 0s - loss: 0.9536 - accuracy: 0.62 - 1s 43ms/step - loss: 0.9536 - accuracy: 0.6202 - val_loss: 1.3227 - val_accuracy: 0.3690\n",
      "Epoch 4/1000\n",
      "26/26 [==============================] - ETA: 0s - loss: 0.8245 - accuracy: 0.65 - ETA: 0s - loss: 0.8501 - accuracy: 0.67 - ETA: 0s - loss: 0.8076 - accuracy: 0.67 - ETA: 0s - loss: 0.8057 - accuracy: 0.67 - ETA: 0s - loss: 0.8017 - accuracy: 0.67 - ETA: 0s - loss: 0.7824 - accuracy: 0.68 - 1s 52ms/step - loss: 0.7824 - accuracy: 0.6875 - val_loss: 1.2992 - val_accuracy: 0.3869\n",
      "Epoch 5/1000\n",
      "26/26 [==============================] - ETA: 0s - loss: 0.8179 - accuracy: 0.68 - ETA: 0s - loss: 0.7462 - accuracy: 0.70 - ETA: 0s - loss: 0.6720 - accuracy: 0.74 - ETA: 0s - loss: 0.6657 - accuracy: 0.74 - ETA: 0s - loss: 0.6637 - accuracy: 0.73 - ETA: 0s - loss: 0.6482 - accuracy: 0.74 - 1s 36ms/step - loss: 0.6482 - accuracy: 0.7428 - val_loss: 1.2720 - val_accuracy: 0.4464\n",
      "Epoch 6/1000\n",
      "26/26 [==============================] - ETA: 0s - loss: 0.7148 - accuracy: 0.75 - ETA: 0s - loss: 0.6215 - accuracy: 0.78 - ETA: 0s - loss: 0.5590 - accuracy: 0.79 - ETA: 0s - loss: 0.5513 - accuracy: 0.79 - ETA: 0s - loss: 0.5562 - accuracy: 0.79 - ETA: 0s - loss: 0.5437 - accuracy: 0.80 - 1s 38ms/step - loss: 0.5437 - accuracy: 0.8017 - val_loss: 1.2605 - val_accuracy: 0.5060\n",
      "Epoch 7/1000\n",
      "26/26 [==============================] - ETA: 0s - loss: 0.6475 - accuracy: 0.78 - ETA: 0s - loss: 0.5833 - accuracy: 0.79 - ETA: 0s - loss: 0.5050 - accuracy: 0.81 - ETA: 0s - loss: 0.4946 - accuracy: 0.81 - ETA: 0s - loss: 0.5005 - accuracy: 0.82 - ETA: 0s - loss: 0.4814 - accuracy: 0.83 - 1s 44ms/step - loss: 0.4814 - accuracy: 0.8317 - val_loss: 1.2466 - val_accuracy: 0.4881\n",
      "Epoch 8/1000\n",
      "26/26 [==============================] - ETA: 0s - loss: 0.5414 - accuracy: 0.84 - ETA: 0s - loss: 0.5042 - accuracy: 0.82 - ETA: 0s - loss: 0.4598 - accuracy: 0.84 - ETA: 0s - loss: 0.4493 - accuracy: 0.84 - ETA: 0s - loss: 0.4564 - accuracy: 0.84 - ETA: 0s - loss: 0.4400 - accuracy: 0.85 - 1s 41ms/step - loss: 0.4400 - accuracy: 0.8522 - val_loss: 1.2709 - val_accuracy: 0.4881\n",
      "Epoch 9/1000\n",
      "26/26 [==============================] - ETA: 0s - loss: 0.4409 - accuracy: 0.84 - ETA: 0s - loss: 0.4942 - accuracy: 0.83 - ETA: 0s - loss: 0.4102 - accuracy: 0.85 - ETA: 0s - loss: 0.4047 - accuracy: 0.85 - ETA: 0s - loss: 0.4114 - accuracy: 0.85 - ETA: 0s - loss: 0.3866 - accuracy: 0.86 - 1s 55ms/step - loss: 0.3866 - accuracy: 0.8678 - val_loss: 1.2393 - val_accuracy: 0.4881\n",
      "Epoch 10/1000\n",
      "26/26 [==============================] - ETA: 0s - loss: 0.5039 - accuracy: 0.75 - ETA: 0s - loss: 0.5024 - accuracy: 0.80 - ETA: 0s - loss: 0.4402 - accuracy: 0.83 - ETA: 0s - loss: 0.4070 - accuracy: 0.84 - ETA: 0s - loss: 0.4009 - accuracy: 0.85 - ETA: 0s - loss: 0.3822 - accuracy: 0.86 - 1s 45ms/step - loss: 0.3822 - accuracy: 0.8666 - val_loss: 1.2674 - val_accuracy: 0.4702\n",
      "Epoch 11/1000\n",
      "26/26 [==============================] - ETA: 0s - loss: 0.5238 - accuracy: 0.81 - ETA: 0s - loss: 0.3473 - accuracy: 0.88 - ETA: 0s - loss: 0.3209 - accuracy: 0.91 - ETA: 0s - loss: 0.3104 - accuracy: 0.91 - ETA: 0s - loss: 0.3028 - accuracy: 0.91 - 1s 37ms/step - loss: 0.2876 - accuracy: 0.9231 - val_loss: 1.2993 - val_accuracy: 0.4821\n",
      "Epoch 12/1000\n",
      "26/26 [==============================] - ETA: 0s - loss: 0.4291 - accuracy: 0.81 - ETA: 0s - loss: 0.3162 - accuracy: 0.90 - ETA: 0s - loss: 0.2648 - accuracy: 0.92 - ETA: 0s - loss: 0.2519 - accuracy: 0.92 - ETA: 0s - loss: 0.2470 - accuracy: 0.92 - ETA: 0s - loss: 0.2283 - accuracy: 0.93 - 1s 43ms/step - loss: 0.2283 - accuracy: 0.9327 - val_loss: 1.3431 - val_accuracy: 0.4881\n",
      "Epoch 13/1000\n",
      "26/26 [==============================] - ETA: 0s - loss: 0.3282 - accuracy: 0.84 - ETA: 0s - loss: 0.2340 - accuracy: 0.92 - ETA: 0s - loss: 0.1978 - accuracy: 0.94 - ETA: 0s - loss: 0.1903 - accuracy: 0.94 - ETA: 0s - loss: 0.1976 - accuracy: 0.94 - ETA: 0s - loss: 0.1848 - accuracy: 0.94 - 1s 43ms/step - loss: 0.1848 - accuracy: 0.9459 - val_loss: 1.3373 - val_accuracy: 0.5000\n",
      "Epoch 14/1000\n",
      "26/26 [==============================] - ETA: 0s - loss: 0.2078 - accuracy: 0.90 - ETA: 0s - loss: 0.1749 - accuracy: 0.94 - ETA: 0s - loss: 0.1621 - accuracy: 0.95 - ETA: 0s - loss: 0.1503 - accuracy: 0.96 - ETA: 0s - loss: 0.1575 - accuracy: 0.95 - ETA: 0s - loss: 0.1470 - accuracy: 0.96 - 1s 38ms/step - loss: 0.1470 - accuracy: 0.9627 - val_loss: 1.4231 - val_accuracy: 0.4881\n",
      "Epoch 15/1000\n",
      "26/26 [==============================] - ETA: 0s - loss: 0.2342 - accuracy: 0.93 - ETA: 0s - loss: 0.2010 - accuracy: 0.95 - ETA: 0s - loss: 0.1624 - accuracy: 0.95 - ETA: 0s - loss: 0.1585 - accuracy: 0.95 - ETA: 0s - loss: 0.1548 - accuracy: 0.95 - ETA: 0s - loss: 0.1452 - accuracy: 0.95 - 1s 51ms/step - loss: 0.1452 - accuracy: 0.9591 - val_loss: 1.4843 - val_accuracy: 0.5060\n",
      "Epoch 16/1000\n",
      "26/26 [==============================] - ETA: 0s - loss: 0.2064 - accuracy: 0.93 - ETA: 0s - loss: 0.2024 - accuracy: 0.94 - ETA: 0s - loss: 0.1637 - accuracy: 0.96 - ETA: 0s - loss: 0.1628 - accuracy: 0.96 - ETA: 0s - loss: 0.1676 - accuracy: 0.95 - ETA: 0s - loss: 0.1607 - accuracy: 0.95 - 1s 40ms/step - loss: 0.1607 - accuracy: 0.9567 - val_loss: 1.7046 - val_accuracy: 0.4464\n",
      "Epoch 17/1000\n",
      "26/26 [==============================] - ETA: 0s - loss: 0.1622 - accuracy: 0.93 - ETA: 0s - loss: 0.1852 - accuracy: 0.94 - ETA: 0s - loss: 0.1562 - accuracy: 0.95 - ETA: 0s - loss: 0.1593 - accuracy: 0.94 - ETA: 0s - loss: 0.1654 - accuracy: 0.94 - ETA: 0s - loss: 0.1578 - accuracy: 0.95 - 1s 46ms/step - loss: 0.1578 - accuracy: 0.9531 - val_loss: 1.9195 - val_accuracy: 0.4524\n",
      "Epoch 18/1000\n",
      "26/26 [==============================] - ETA: 0s - loss: 0.3706 - accuracy: 0.90 - ETA: 0s - loss: 0.2731 - accuracy: 0.93 - ETA: 0s - loss: 0.2145 - accuracy: 0.94 - ETA: 0s - loss: 0.2255 - accuracy: 0.93 - ETA: 0s - loss: 0.2336 - accuracy: 0.93 - ETA: 0s - loss: 0.2243 - accuracy: 0.93 - 1s 47ms/step - loss: 0.2243 - accuracy: 0.9339 - val_loss: 1.8747 - val_accuracy: 0.4286\n",
      "Epoch 19/1000\n",
      "26/26 [==============================] - ETA: 0s - loss: 0.2810 - accuracy: 0.87 - ETA: 0s - loss: 0.2185 - accuracy: 0.90 - ETA: 0s - loss: 0.1898 - accuracy: 0.91 - ETA: 0s - loss: 0.1836 - accuracy: 0.92 - ETA: 0s - loss: 0.2330 - accuracy: 0.91 - ETA: 0s - loss: 0.2354 - accuracy: 0.91 - 1s 43ms/step - loss: 0.2354 - accuracy: 0.9135 - val_loss: 1.9331 - val_accuracy: 0.4167\n"
     ]
    },
    {
     "data": {
      "text/html": [
       "<span style=\"color:#4527A0\"><h1 style=\"font-size:18px\">Trial complete</h1></span>"
      ],
      "text/plain": [
       "<IPython.core.display.HTML object>"
      ]
     },
     "metadata": {},
     "output_type": "display_data"
    },
    {
     "data": {
      "text/html": [
       "<span style=\"color:#4527A0\"><h1 style=\"font-size:18px\">Trial summary</h1></span>"
      ],
      "text/plain": [
       "<IPython.core.display.HTML object>"
      ]
     },
     "metadata": {},
     "output_type": "display_data"
    },
    {
     "data": {
      "text/html": [
       "<span style=\"color:cyan\"> |-Trial ID: a9323a50e337e6e972b39196a2b7fca8</span>"
      ],
      "text/plain": [
       "<IPython.core.display.HTML object>"
      ]
     },
     "metadata": {},
     "output_type": "display_data"
    },
    {
     "data": {
      "text/html": [
       "<span style=\"color:cyan\"> |-Score: 0.5059523582458496</span>"
      ],
      "text/plain": [
       "<IPython.core.display.HTML object>"
      ]
     },
     "metadata": {},
     "output_type": "display_data"
    },
    {
     "data": {
      "text/html": [
       "<span style=\"color:cyan\"> |-Best step: 5</span>"
      ],
      "text/plain": [
       "<IPython.core.display.HTML object>"
      ]
     },
     "metadata": {},
     "output_type": "display_data"
    },
    {
     "data": {
      "text/html": [
       "<span style=\"color:#7E57C2\"><h2 style=\"font-size:16px\">Hyperparameters:</h2></span>"
      ],
      "text/plain": [
       "<IPython.core.display.HTML object>"
      ]
     },
     "metadata": {},
     "output_type": "display_data"
    },
    {
     "data": {
      "text/html": [
       "<span style=\"color:cyan\"> |-classification_head_1/dropout: 0</span>"
      ],
      "text/plain": [
       "<IPython.core.display.HTML object>"
      ]
     },
     "metadata": {},
     "output_type": "display_data"
    },
    {
     "data": {
      "text/html": [
       "<span style=\"color:blue\"> |-learning_rate: 0.001</span>"
      ],
      "text/plain": [
       "<IPython.core.display.HTML object>"
      ]
     },
     "metadata": {},
     "output_type": "display_data"
    },
    {
     "data": {
      "text/html": [
       "<span style=\"color:cyan\"> |-optimizer: adam</span>"
      ],
      "text/plain": [
       "<IPython.core.display.HTML object>"
      ]
     },
     "metadata": {},
     "output_type": "display_data"
    },
    {
     "data": {
      "text/html": [
       "<span style=\"color:blue\"> |-structured_data_block_1/dense_block_1/dropout: 0.0</span>"
      ],
      "text/plain": [
       "<IPython.core.display.HTML object>"
      ]
     },
     "metadata": {},
     "output_type": "display_data"
    },
    {
     "data": {
      "text/html": [
       "<span style=\"color:cyan\"> |-structured_data_block_1/dense_block_1/num_layers: 3</span>"
      ],
      "text/plain": [
       "<IPython.core.display.HTML object>"
      ]
     },
     "metadata": {},
     "output_type": "display_data"
    },
    {
     "data": {
      "text/html": [
       "<span style=\"color:blue\"> |-structured_data_block_1/dense_block_1/units_0: 32</span>"
      ],
      "text/plain": [
       "<IPython.core.display.HTML object>"
      ]
     },
     "metadata": {},
     "output_type": "display_data"
    },
    {
     "data": {
      "text/html": [
       "<span style=\"color:cyan\"> |-structured_data_block_1/dense_block_1/units_1: 16</span>"
      ],
      "text/plain": [
       "<IPython.core.display.HTML object>"
      ]
     },
     "metadata": {},
     "output_type": "display_data"
    },
    {
     "data": {
      "text/html": [
       "<span style=\"color:blue\"> |-structured_data_block_1/dense_block_1/units_2: 1024</span>"
      ],
      "text/plain": [
       "<IPython.core.display.HTML object>"
      ]
     },
     "metadata": {},
     "output_type": "display_data"
    },
    {
     "data": {
      "text/html": [
       "<span style=\"color:cyan\"> |-structured_data_block_1/dense_block_1/use_batchnorm: True</span>"
      ],
      "text/plain": [
       "<IPython.core.display.HTML object>"
      ]
     },
     "metadata": {},
     "output_type": "display_data"
    },
    {
     "data": {
      "text/html": [
       "<span style=\"color:#4527A0\"><h1 style=\"font-size:18px\">Starting new trial</h1></span>"
      ],
      "text/plain": [
       "<IPython.core.display.HTML object>"
      ]
     },
     "metadata": {},
     "output_type": "display_data"
    },
    {
     "name": "stdout",
     "output_type": "stream",
     "text": [
      "Epoch 1/1000\n",
      "26/26 [==============================] - ETA: 0s - loss: 4672.9170 - accuracy: 0.156 - ETA: 0s - loss: 3051.5762 - accuracy: 0.236 - ETA: 0s - loss: 2330.1799 - accuracy: 0.238 - ETA: 0s - loss: 1837.2273 - accuracy: 0.246 - 6s 224ms/step - loss: 1553.7567 - accuracy: 0.2440 - val_loss: 170.7181 - val_accuracy: 0.3214\n",
      "Epoch 2/1000\n",
      "26/26 [==============================] - ETA: 0s - loss: 555.6843 - accuracy: 0.25 - ETA: 0s - loss: 428.8128 - accuracy: 0.25 - ETA: 0s - loss: 382.8873 - accuracy: 0.25 - ETA: 0s - loss: 352.5210 - accuracy: 0.27 - 1s 29ms/step - loss: 320.9389 - accuracy: 0.2620 - val_loss: 52.3907 - val_accuracy: 0.2857\n",
      "Epoch 3/1000\n",
      "26/26 [==============================] - ETA: 0s - loss: 251.1855 - accuracy: 0.21 - ETA: 0s - loss: 160.0607 - accuracy: 0.25 - ETA: 0s - loss: 172.4121 - accuracy: 0.23 - ETA: 0s - loss: 167.8912 - accuracy: 0.24 - ETA: 0s - loss: 168.0077 - accuracy: 0.24 - 1s 35ms/step - loss: 166.1215 - accuracy: 0.2428 - val_loss: 20.8280 - val_accuracy: 0.3095\n",
      "Epoch 4/1000\n",
      "26/26 [==============================] - ETA: 0s - loss: 124.2919 - accuracy: 0.31 - ETA: 0s - loss: 92.3760 - accuracy: 0.3047 - ETA: 0s - loss: 92.9615 - accuracy: 0.285 - ETA: 0s - loss: 90.0775 - accuracy: 0.282 - 1s 35ms/step - loss: 85.1166 - accuracy: 0.2800 - val_loss: 13.1113 - val_accuracy: 0.2500\n",
      "Epoch 5/1000\n",
      "26/26 [==============================] - ETA: 0s - loss: 93.9898 - accuracy: 0.218 - ETA: 0s - loss: 101.4330 - accuracy: 0.25 - ETA: 0s - loss: 82.2767 - accuracy: 0.2500 - ETA: 0s - loss: 72.2856 - accuracy: 0.270 - 1s 38ms/step - loss: 67.5753 - accuracy: 0.2596 - val_loss: 8.9623 - val_accuracy: 0.2619\n",
      "Epoch 6/1000\n",
      "26/26 [==============================] - ETA: 0s - loss: 59.9995 - accuracy: 0.250 - ETA: 0s - loss: 43.2245 - accuracy: 0.230 - ETA: 0s - loss: 44.4505 - accuracy: 0.235 - ETA: 0s - loss: 40.8751 - accuracy: 0.241 - 1s 37ms/step - loss: 38.4691 - accuracy: 0.2392 - val_loss: 5.0659 - val_accuracy: 0.2500\n",
      "Epoch 7/1000\n",
      "26/26 [==============================] - ETA: 0s - loss: 39.1895 - accuracy: 0.312 - ETA: 0s - loss: 20.7044 - accuracy: 0.242 - ETA: 0s - loss: 18.2814 - accuracy: 0.233 - ETA: 0s - loss: 18.5319 - accuracy: 0.231 - 1s 40ms/step - loss: 19.0126 - accuracy: 0.2332 - val_loss: 3.6803 - val_accuracy: 0.2262\n",
      "Epoch 8/1000\n",
      "26/26 [==============================] - ETA: 0s - loss: 15.2642 - accuracy: 0.281 - ETA: 0s - loss: 9.8533 - accuracy: 0.250 - ETA: 0s - loss: 10.2728 - accuracy: 0.243 - ETA: 0s - loss: 11.3495 - accuracy: 0.248 - 1s 35ms/step - loss: 11.8836 - accuracy: 0.2380 - val_loss: 3.0570 - val_accuracy: 0.1964\n",
      "Epoch 9/1000\n",
      "26/26 [==============================] - ETA: 0s - loss: 30.7508 - accuracy: 0.312 - ETA: 0s - loss: 13.6576 - accuracy: 0.246 - ETA: 0s - loss: 12.1849 - accuracy: 0.223 - ETA: 0s - loss: 9.7494 - accuracy: 0.233 - 1s 34ms/step - loss: 9.3585 - accuracy: 0.2272 - val_loss: 2.1134 - val_accuracy: 0.1905\n",
      "Epoch 10/1000\n",
      "26/26 [==============================] - ETA: 0s - loss: 4.9327 - accuracy: 0.43 - ETA: 0s - loss: 3.6315 - accuracy: 0.28 - ETA: 0s - loss: 3.9042 - accuracy: 0.25 - ETA: 0s - loss: 5.0702 - accuracy: 0.25 - 1s 42ms/step - loss: 9.7828 - accuracy: 0.2536 - val_loss: 1.6933 - val_accuracy: 0.1845\n",
      "Epoch 11/1000\n",
      "26/26 [==============================] - ETA: 0s - loss: 7.4316 - accuracy: 0.31 - ETA: 0s - loss: 6.0470 - accuracy: 0.25 - ETA: 0s - loss: 6.7641 - accuracy: 0.24 - ETA: 0s - loss: 6.6486 - accuracy: 0.23 - ETA: 0s - loss: 6.1310 - accuracy: 0.23 - 1s 51ms/step - loss: 5.9517 - accuracy: 0.2308 - val_loss: 1.7267 - val_accuracy: 0.2024\n",
      "Epoch 12/1000\n",
      "26/26 [==============================] - ETA: 0s - loss: 3.8734 - accuracy: 0.28 - ETA: 0s - loss: 7.0795 - accuracy: 0.20 - ETA: 0s - loss: 6.1794 - accuracy: 0.21 - ETA: 0s - loss: 4.9458 - accuracy: 0.22 - 1s 35ms/step - loss: 4.4804 - accuracy: 0.2296 - val_loss: 1.7627 - val_accuracy: 0.2560\n",
      "Epoch 13/1000\n",
      "26/26 [==============================] - ETA: 0s - loss: 6.3236 - accuracy: 0.15 - ETA: 0s - loss: 2.5787 - accuracy: 0.21 - ETA: 0s - loss: 2.5254 - accuracy: 0.25 - ETA: 0s - loss: 2.6467 - accuracy: 0.24 - 1s 41ms/step - loss: 4.0720 - accuracy: 0.2440 - val_loss: 1.9606 - val_accuracy: 0.2500\n",
      "Epoch 14/1000\n",
      "26/26 [==============================] - ETA: 0s - loss: 3.2056 - accuracy: 0.18 - ETA: 0s - loss: 73.3247 - accuracy: 0.196 - ETA: 0s - loss: 43.5278 - accuracy: 0.229 - ETA: 0s - loss: 30.1853 - accuracy: 0.241 - ETA: 0s - loss: 23.2525 - accuracy: 0.242 - 1s 40ms/step - loss: 21.5772 - accuracy: 0.2416 - val_loss: 1.5983 - val_accuracy: 0.2560\n",
      "Epoch 15/1000\n",
      "26/26 [==============================] - ETA: 0s - loss: 4.5748 - accuracy: 0.12 - ETA: 0s - loss: 119.4772 - accuracy: 0.20 - ETA: 0s - loss: 69.0325 - accuracy: 0.2522 - ETA: 0s - loss: 46.7333 - accuracy: 0.233 - 1s 44ms/step - loss: 38.9149 - accuracy: 0.2356 - val_loss: 1.6090 - val_accuracy: 0.2560\n",
      "Epoch 16/1000\n",
      "26/26 [==============================] - ETA: 0s - loss: 6.5857 - accuracy: 0.15 - ETA: 0s - loss: 2.0975 - accuracy: 0.20 - ETA: 0s - loss: 1.8303 - accuracy: 0.24 - ETA: 0s - loss: 1.7893 - accuracy: 0.23 - 1s 47ms/step - loss: 1.9088 - accuracy: 0.2368 - val_loss: 1.5477 - val_accuracy: 0.2560\n",
      "Epoch 17/1000\n",
      "26/26 [==============================] - ETA: 0s - loss: 2.8059 - accuracy: 0.15 - ETA: 0s - loss: 1.5872 - accuracy: 0.18 - ETA: 0s - loss: 1.5537 - accuracy: 0.23 - ETA: 0s - loss: 1.6287 - accuracy: 0.22 - 1s 47ms/step - loss: 1.7368 - accuracy: 0.2356 - val_loss: 1.4921 - val_accuracy: 0.2619\n",
      "Epoch 18/1000\n",
      "26/26 [==============================] - ETA: 0s - loss: 1.9857 - accuracy: 0.15 - ETA: 0s - loss: 1.4777 - accuracy: 0.18 - ETA: 0s - loss: 1.6423 - accuracy: 0.22 - ETA: 0s - loss: 1.5910 - accuracy: 0.23 - ETA: 0s - loss: 2.1604 - accuracy: 0.23 - 1s 40ms/step - loss: 2.1042 - accuracy: 0.2320 - val_loss: 1.4576 - val_accuracy: 0.2619\n",
      "Epoch 19/1000\n",
      "26/26 [==============================] - ETA: 0s - loss: 5.3327 - accuracy: 0.12 - ETA: 0s - loss: 1.9522 - accuracy: 0.17 - ETA: 0s - loss: 1.7027 - accuracy: 0.24 - ETA: 0s - loss: 1.6461 - accuracy: 0.22 - 1s 33ms/step - loss: 1.6610 - accuracy: 0.2344 - val_loss: 1.5025 - val_accuracy: 0.2560\n",
      "Epoch 20/1000\n",
      "26/26 [==============================] - ETA: 0s - loss: 2.8399 - accuracy: 0.15 - ETA: 0s - loss: 1.5855 - accuracy: 0.18 - ETA: 0s - loss: 1.5122 - accuracy: 0.24 - ETA: 0s - loss: 1.5205 - accuracy: 0.22 - 1s 50ms/step - loss: 1.5820 - accuracy: 0.2344 - val_loss: 1.5041 - val_accuracy: 0.2560\n",
      "Epoch 21/1000\n",
      "26/26 [==============================] - ETA: 0s - loss: 7.1643 - accuracy: 0.12 - ETA: 0s - loss: 2.1201 - accuracy: 0.19 - ETA: 0s - loss: 1.7914 - accuracy: 0.23 - ETA: 0s - loss: 1.8491 - accuracy: 0.22 - 1s 38ms/step - loss: 1.7954 - accuracy: 0.2248 - val_loss: 1.4514 - val_accuracy: 0.2679\n",
      "Epoch 22/1000\n",
      "26/26 [==============================] - ETA: 0s - loss: 1.4037 - accuracy: 0.15 - ETA: 0s - loss: 1.3947 - accuracy: 0.19 - ETA: 0s - loss: 1.4463 - accuracy: 0.23 - ETA: 0s - loss: 1.4463 - accuracy: 0.22 - 1s 44ms/step - loss: 1.4461 - accuracy: 0.2284 - val_loss: 1.4365 - val_accuracy: 0.2619\n",
      "Epoch 23/1000\n",
      "26/26 [==============================] - ETA: 0s - loss: 1.2849 - accuracy: 0.25 - ETA: 0s - loss: 23.2479 - accuracy: 0.218 - ETA: 0s - loss: 12.3996 - accuracy: 0.255 - ETA: 0s - loss: 8.7819 - accuracy: 0.255 - ETA: 0s - loss: 7.0527 - accuracy: 0.25 - 1s 41ms/step - loss: 6.6168 - accuracy: 0.2500 - val_loss: 1.4487 - val_accuracy: 0.2679\n",
      "Epoch 24/1000\n",
      "26/26 [==============================] - ETA: 0s - loss: 2.7693 - accuracy: 0.18 - ETA: 0s - loss: 1.5529 - accuracy: 0.20 - ETA: 0s - loss: 1.4950 - accuracy: 0.20 - ETA: 0s - loss: 1.5751 - accuracy: 0.21 - 1s 39ms/step - loss: 1.5393 - accuracy: 0.2200 - val_loss: 1.4021 - val_accuracy: 0.2143\n",
      "Epoch 25/1000\n",
      "26/26 [==============================] - ETA: 0s - loss: 2.8959 - accuracy: 0.12 - ETA: 0s - loss: 2.9106 - accuracy: 0.17 - ETA: 0s - loss: 2.2314 - accuracy: 0.18 - ETA: 0s - loss: 1.9818 - accuracy: 0.21 - 1s 41ms/step - loss: 1.8714 - accuracy: 0.2188 - val_loss: 1.4223 - val_accuracy: 0.2143\n",
      "Epoch 26/1000\n"
     ]
    },
    {
     "name": "stdout",
     "output_type": "stream",
     "text": [
      "26/26 [==============================] - ETA: 0s - loss: 2.9689 - accuracy: 0.31 - ETA: 0s - loss: 1.6068 - accuracy: 0.25 - ETA: 0s - loss: 1.5999 - accuracy: 0.22 - ETA: 0s - loss: 1.6363 - accuracy: 0.24 - 1s 35ms/step - loss: 1.6882 - accuracy: 0.2464 - val_loss: 1.4285 - val_accuracy: 0.2619\n",
      "Epoch 27/1000\n",
      "26/26 [==============================] - ETA: 0s - loss: 2.2480 - accuracy: 0.37 - ETA: 0s - loss: 1.4781 - accuracy: 0.25 - ETA: 0s - loss: 1.5310 - accuracy: 0.25 - ETA: 0s - loss: 1.5814 - accuracy: 0.24 - 1s 42ms/step - loss: 1.5423 - accuracy: 0.2536 - val_loss: 1.4162 - val_accuracy: 0.2619\n",
      "Epoch 28/1000\n",
      "26/26 [==============================] - ETA: 0s - loss: 1.4894 - accuracy: 0.25 - ETA: 0s - loss: 1.3957 - accuracy: 0.26 - ETA: 0s - loss: 1.4247 - accuracy: 0.22 - ETA: 0s - loss: 1.4096 - accuracy: 0.24 - ETA: 0s - loss: 1.4594 - accuracy: 0.24 - 1s 56ms/step - loss: 1.4565 - accuracy: 0.2452 - val_loss: 1.4166 - val_accuracy: 0.2619\n",
      "Epoch 29/1000\n",
      "26/26 [==============================] - ETA: 0s - loss: 2.5121 - accuracy: 0.15 - ETA: 0s - loss: 1.5495 - accuracy: 0.29 - ETA: 0s - loss: 1.5051 - accuracy: 0.25 - ETA: 0s - loss: 1.4762 - accuracy: 0.25 - 1s 46ms/step - loss: 1.4733 - accuracy: 0.2608 - val_loss: 1.4429 - val_accuracy: 0.2619\n",
      "Epoch 30/1000\n",
      "26/26 [==============================] - ETA: 0s - loss: 1.8394 - accuracy: 0.21 - ETA: 0s - loss: 1.4365 - accuracy: 0.28 - ETA: 0s - loss: 1.4363 - accuracy: 0.27 - ETA: 0s - loss: 1.4232 - accuracy: 0.26 - 1s 40ms/step - loss: 1.4246 - accuracy: 0.2608 - val_loss: 1.4372 - val_accuracy: 0.2619\n",
      "Epoch 31/1000\n",
      "26/26 [==============================] - ETA: 0s - loss: 1.4490 - accuracy: 0.21 - ETA: 0s - loss: 1.3874 - accuracy: 0.29 - ETA: 0s - loss: 1.4040 - accuracy: 0.27 - ETA: 0s - loss: 1.4305 - accuracy: 0.28 - 1s 39ms/step - loss: 1.4285 - accuracy: 0.2812 - val_loss: 1.4321 - val_accuracy: 0.2857\n",
      "Epoch 32/1000\n",
      "26/26 [==============================] - ETA: 0s - loss: 1.3464 - accuracy: 0.18 - ETA: 0s - loss: 1.3742 - accuracy: 0.30 - ETA: 0s - loss: 1.3934 - accuracy: 0.28 - ETA: 0s - loss: 1.4231 - accuracy: 0.27 - 1s 41ms/step - loss: 1.4162 - accuracy: 0.2728 - val_loss: 1.4264 - val_accuracy: 0.2857\n",
      "Epoch 33/1000\n",
      "26/26 [==============================] - ETA: 0s - loss: 1.6118 - accuracy: 0.21 - ETA: 0s - loss: 1.4072 - accuracy: 0.28 - ETA: 0s - loss: 1.4079 - accuracy: 0.27 - ETA: 0s - loss: 1.4027 - accuracy: 0.27 - 1s 45ms/step - loss: 1.4003 - accuracy: 0.2825 - val_loss: 1.4301 - val_accuracy: 0.2857\n",
      "Epoch 34/1000\n",
      "26/26 [==============================] - ETA: 0s - loss: 1.6575 - accuracy: 0.12 - ETA: 0s - loss: 1.4164 - accuracy: 0.25 - ETA: 0s - loss: 1.4092 - accuracy: 0.24 - ETA: 0s - loss: 1.4358 - accuracy: 0.25 - 1s 39ms/step - loss: 1.4247 - accuracy: 0.2524 - val_loss: 1.4257 - val_accuracy: 0.2857\n"
     ]
    },
    {
     "data": {
      "text/html": [
       "<span style=\"color:#4527A0\"><h1 style=\"font-size:18px\">Trial complete</h1></span>"
      ],
      "text/plain": [
       "<IPython.core.display.HTML object>"
      ]
     },
     "metadata": {},
     "output_type": "display_data"
    },
    {
     "data": {
      "text/html": [
       "<span style=\"color:#4527A0\"><h1 style=\"font-size:18px\">Trial summary</h1></span>"
      ],
      "text/plain": [
       "<IPython.core.display.HTML object>"
      ]
     },
     "metadata": {},
     "output_type": "display_data"
    },
    {
     "data": {
      "text/html": [
       "<span style=\"color:cyan\"> |-Trial ID: 271776b52190e00d7f49e46c125bcac0</span>"
      ],
      "text/plain": [
       "<IPython.core.display.HTML object>"
      ]
     },
     "metadata": {},
     "output_type": "display_data"
    },
    {
     "data": {
      "text/html": [
       "<span style=\"color:cyan\"> |-Score: 0.3214285671710968</span>"
      ],
      "text/plain": [
       "<IPython.core.display.HTML object>"
      ]
     },
     "metadata": {},
     "output_type": "display_data"
    },
    {
     "data": {
      "text/html": [
       "<span style=\"color:cyan\"> |-Best step: 0</span>"
      ],
      "text/plain": [
       "<IPython.core.display.HTML object>"
      ]
     },
     "metadata": {},
     "output_type": "display_data"
    },
    {
     "data": {
      "text/html": [
       "<span style=\"color:#7E57C2\"><h2 style=\"font-size:16px\">Hyperparameters:</h2></span>"
      ],
      "text/plain": [
       "<IPython.core.display.HTML object>"
      ]
     },
     "metadata": {},
     "output_type": "display_data"
    },
    {
     "data": {
      "text/html": [
       "<span style=\"color:cyan\"> |-classification_head_1/dropout: 0</span>"
      ],
      "text/plain": [
       "<IPython.core.display.HTML object>"
      ]
     },
     "metadata": {},
     "output_type": "display_data"
    },
    {
     "data": {
      "text/html": [
       "<span style=\"color:blue\"> |-learning_rate: 0.001</span>"
      ],
      "text/plain": [
       "<IPython.core.display.HTML object>"
      ]
     },
     "metadata": {},
     "output_type": "display_data"
    },
    {
     "data": {
      "text/html": [
       "<span style=\"color:cyan\"> |-optimizer: adam</span>"
      ],
      "text/plain": [
       "<IPython.core.display.HTML object>"
      ]
     },
     "metadata": {},
     "output_type": "display_data"
    },
    {
     "data": {
      "text/html": [
       "<span style=\"color:blue\"> |-structured_data_block_1/dense_block_1/dropout: 0.25</span>"
      ],
      "text/plain": [
       "<IPython.core.display.HTML object>"
      ]
     },
     "metadata": {},
     "output_type": "display_data"
    },
    {
     "data": {
      "text/html": [
       "<span style=\"color:cyan\"> |-structured_data_block_1/dense_block_1/num_layers: 3</span>"
      ],
      "text/plain": [
       "<IPython.core.display.HTML object>"
      ]
     },
     "metadata": {},
     "output_type": "display_data"
    },
    {
     "data": {
      "text/html": [
       "<span style=\"color:blue\"> |-structured_data_block_1/dense_block_1/units_0: 16</span>"
      ],
      "text/plain": [
       "<IPython.core.display.HTML object>"
      ]
     },
     "metadata": {},
     "output_type": "display_data"
    },
    {
     "data": {
      "text/html": [
       "<span style=\"color:cyan\"> |-structured_data_block_1/dense_block_1/units_1: 16</span>"
      ],
      "text/plain": [
       "<IPython.core.display.HTML object>"
      ]
     },
     "metadata": {},
     "output_type": "display_data"
    },
    {
     "data": {
      "text/html": [
       "<span style=\"color:blue\"> |-structured_data_block_1/dense_block_1/units_2: 32</span>"
      ],
      "text/plain": [
       "<IPython.core.display.HTML object>"
      ]
     },
     "metadata": {},
     "output_type": "display_data"
    },
    {
     "data": {
      "text/html": [
       "<span style=\"color:cyan\"> |-structured_data_block_1/dense_block_1/use_batchnorm: False</span>"
      ],
      "text/plain": [
       "<IPython.core.display.HTML object>"
      ]
     },
     "metadata": {},
     "output_type": "display_data"
    },
    {
     "data": {
      "text/html": [
       "<span style=\"color:#4527A0\"><h1 style=\"font-size:18px\">Starting new trial</h1></span>"
      ],
      "text/plain": [
       "<IPython.core.display.HTML object>"
      ]
     },
     "metadata": {},
     "output_type": "display_data"
    },
    {
     "name": "stdout",
     "output_type": "stream",
     "text": [
      "Epoch 1/1000\n",
      "26/26 [==============================] - ETA: 0s - loss: 1.6794 - accuracy: 0.25 - ETA: 0s - loss: 1.5659 - accuracy: 0.37 - ETA: 0s - loss: 1.3894 - accuracy: 0.45 - ETA: 0s - loss: 1.3764 - accuracy: 0.44 - ETA: 0s - loss: 1.4042 - accuracy: 0.43 - ETA: 0s - loss: 1.3512 - accuracy: 0.45 - ETA: 0s - loss: 1.3369 - accuracy: 0.45 - 6s 223ms/step - loss: 1.3115 - accuracy: 0.4555 - val_loss: 2.2763 - val_accuracy: 0.3274\n",
      "Epoch 2/1000\n",
      "26/26 [==============================] - ETA: 0s - loss: 0.8502 - accuracy: 0.59 - ETA: 0s - loss: 0.9848 - accuracy: 0.56 - ETA: 0s - loss: 0.9271 - accuracy: 0.62 - ETA: 0s - loss: 0.9512 - accuracy: 0.62 - ETA: 0s - loss: 0.9352 - accuracy: 0.61 - ETA: 0s - loss: 0.9336 - accuracy: 0.62 - ETA: 0s - loss: 0.9398 - accuracy: 0.62 - 2s 60ms/step - loss: 0.9266 - accuracy: 0.6250 - val_loss: 1.3697 - val_accuracy: 0.4048\n",
      "Epoch 3/1000\n",
      "26/26 [==============================] - ETA: 0s - loss: 0.6911 - accuracy: 0.78 - ETA: 0s - loss: 0.8131 - accuracy: 0.69 - ETA: 0s - loss: 0.7516 - accuracy: 0.73 - ETA: 0s - loss: 0.7486 - accuracy: 0.72 - ETA: 0s - loss: 0.7518 - accuracy: 0.71 - ETA: 0s - loss: 0.7517 - accuracy: 0.72 - ETA: 0s - loss: 0.7546 - accuracy: 0.71 - 2s 65ms/step - loss: 0.7453 - accuracy: 0.7236 - val_loss: 1.1711 - val_accuracy: 0.4702\n",
      "Epoch 4/1000\n",
      "26/26 [==============================] - ETA: 0s - loss: 0.5786 - accuracy: 0.78 - ETA: 0s - loss: 0.6421 - accuracy: 0.78 - ETA: 0s - loss: 0.5921 - accuracy: 0.81 - ETA: 0s - loss: 0.6089 - accuracy: 0.80 - ETA: 0s - loss: 0.6013 - accuracy: 0.79 - ETA: 0s - loss: 0.6037 - accuracy: 0.80 - ETA: 0s - loss: 0.5993 - accuracy: 0.80 - 1s 55ms/step - loss: 0.5877 - accuracy: 0.8101 - val_loss: 1.1178 - val_accuracy: 0.5060\n",
      "Epoch 5/1000\n",
      "26/26 [==============================] - ETA: 0s - loss: 0.4814 - accuracy: 0.81 - ETA: 0s - loss: 0.5052 - accuracy: 0.84 - ETA: 0s - loss: 0.4565 - accuracy: 0.88 - ETA: 0s - loss: 0.4544 - accuracy: 0.88 - ETA: 0s - loss: 0.4615 - accuracy: 0.87 - ETA: 0s - loss: 0.4605 - accuracy: 0.87 - ETA: 0s - loss: 0.4546 - accuracy: 0.88 - 1s 56ms/step - loss: 0.4452 - accuracy: 0.8846 - val_loss: 1.1201 - val_accuracy: 0.5357\n",
      "Epoch 6/1000\n",
      "26/26 [==============================] - ETA: 0s - loss: 0.3814 - accuracy: 0.87 - ETA: 0s - loss: 0.4094 - accuracy: 0.88 - ETA: 0s - loss: 0.3732 - accuracy: 0.91 - ETA: 0s - loss: 0.3688 - accuracy: 0.90 - ETA: 0s - loss: 0.3687 - accuracy: 0.90 - ETA: 0s - loss: 0.3667 - accuracy: 0.91 - ETA: 0s - loss: 0.3618 - accuracy: 0.91 - 1s 50ms/step - loss: 0.3546 - accuracy: 0.9195 - val_loss: 1.1312 - val_accuracy: 0.5238\n",
      "Epoch 7/1000\n",
      "26/26 [==============================] - ETA: 0s - loss: 0.3024 - accuracy: 0.90 - ETA: 0s - loss: 0.3499 - accuracy: 0.93 - ETA: 0s - loss: 0.3101 - accuracy: 0.94 - ETA: 0s - loss: 0.3051 - accuracy: 0.93 - ETA: 0s - loss: 0.2995 - accuracy: 0.94 - ETA: 0s - loss: 0.2952 - accuracy: 0.94 - ETA: 0s - loss: 0.2910 - accuracy: 0.94 - 1s 55ms/step - loss: 0.2828 - accuracy: 0.9471 - val_loss: 1.1597 - val_accuracy: 0.5119\n",
      "Epoch 8/1000\n",
      "26/26 [==============================] - ETA: 0s - loss: 0.2324 - accuracy: 0.93 - ETA: 0s - loss: 0.2692 - accuracy: 0.92 - ETA: 0s - loss: 0.2656 - accuracy: 0.94 - ETA: 0s - loss: 0.2460 - accuracy: 0.95 - ETA: 0s - loss: 0.2443 - accuracy: 0.95 - ETA: 0s - loss: 0.2436 - accuracy: 0.95 - ETA: 0s - loss: 0.2439 - accuracy: 0.95 - 1s 51ms/step - loss: 0.2330 - accuracy: 0.9603 - val_loss: 1.2334 - val_accuracy: 0.5179\n",
      "Epoch 9/1000\n",
      "26/26 [==============================] - ETA: 0s - loss: 0.2660 - accuracy: 0.93 - ETA: 0s - loss: 0.2362 - accuracy: 0.95 - ETA: 0s - loss: 0.2393 - accuracy: 0.96 - ETA: 0s - loss: 0.2275 - accuracy: 0.96 - ETA: 0s - loss: 0.2245 - accuracy: 0.96 - ETA: 0s - loss: 0.2215 - accuracy: 0.96 - ETA: 0s - loss: 0.2174 - accuracy: 0.97 - 1s 54ms/step - loss: 0.2134 - accuracy: 0.9712 - val_loss: 1.2138 - val_accuracy: 0.5000\n",
      "Epoch 10/1000\n",
      "26/26 [==============================] - ETA: 0s - loss: 0.1948 - accuracy: 0.96 - ETA: 0s - loss: 0.1967 - accuracy: 0.97 - ETA: 0s - loss: 0.2034 - accuracy: 0.97 - ETA: 0s - loss: 0.2091 - accuracy: 0.96 - ETA: 0s - loss: 0.2169 - accuracy: 0.95 - ETA: 0s - loss: 0.2220 - accuracy: 0.95 - ETA: 0s - loss: 0.2262 - accuracy: 0.95 - 2s 61ms/step - loss: 0.2201 - accuracy: 0.9531 - val_loss: 1.1807 - val_accuracy: 0.5119\n",
      "Epoch 11/1000\n",
      "26/26 [==============================] - ETA: 0s - loss: 0.2219 - accuracy: 0.93 - ETA: 0s - loss: 0.2701 - accuracy: 0.95 - ETA: 0s - loss: 0.3235 - accuracy: 0.93 - ETA: 0s - loss: 0.2700 - accuracy: 0.95 - ETA: 0s - loss: 0.2453 - accuracy: 0.95 - ETA: 0s - loss: 0.2432 - accuracy: 0.95 - ETA: 0s - loss: 0.2405 - accuracy: 0.94 - ETA: 0s - loss: 0.2289 - accuracy: 0.95 - 1s 53ms/step - loss: 0.2289 - accuracy: 0.9507 - val_loss: 1.3646 - val_accuracy: 0.5000\n",
      "Epoch 12/1000\n",
      "26/26 [==============================] - ETA: 0s - loss: 0.1335 - accuracy: 0.96 - ETA: 0s - loss: 0.1792 - accuracy: 0.96 - ETA: 0s - loss: 0.1945 - accuracy: 0.96 - ETA: 0s - loss: 0.2053 - accuracy: 0.95 - ETA: 0s - loss: 0.1961 - accuracy: 0.96 - ETA: 0s - loss: 0.2036 - accuracy: 0.95 - ETA: 0s - loss: 0.1979 - accuracy: 0.96 - 1s 51ms/step - loss: 0.1942 - accuracy: 0.9639 - val_loss: 1.2889 - val_accuracy: 0.5060\n",
      "Epoch 13/1000\n",
      "26/26 [==============================] - ETA: 0s - loss: 0.1119 - accuracy: 1.00 - ETA: 0s - loss: 0.1355 - accuracy: 0.99 - ETA: 0s - loss: 0.2162 - accuracy: 0.96 - ETA: 0s - loss: 0.1885 - accuracy: 0.97 - ETA: 0s - loss: 0.1718 - accuracy: 0.97 - ETA: 0s - loss: 0.1723 - accuracy: 0.97 - ETA: 0s - loss: 0.1619 - accuracy: 0.97 - 2s 59ms/step - loss: 0.1631 - accuracy: 0.9760 - val_loss: 1.4024 - val_accuracy: 0.4881\n",
      "Epoch 14/1000\n",
      "26/26 [==============================] - ETA: 0s - loss: 0.1161 - accuracy: 0.96 - ETA: 0s - loss: 0.1354 - accuracy: 0.98 - ETA: 0s - loss: 0.1579 - accuracy: 0.97 - ETA: 0s - loss: 0.1509 - accuracy: 0.97 - ETA: 0s - loss: 0.1435 - accuracy: 0.97 - ETA: 0s - loss: 0.1382 - accuracy: 0.97 - ETA: 0s - loss: 0.1348 - accuracy: 0.97 - 2s 59ms/step - loss: 0.1331 - accuracy: 0.9784 - val_loss: 1.4750 - val_accuracy: 0.5119\n"
     ]
    },
    {
     "data": {
      "text/html": [
       "<span style=\"color:#4527A0\"><h1 style=\"font-size:18px\">Trial complete</h1></span>"
      ],
      "text/plain": [
       "<IPython.core.display.HTML object>"
      ]
     },
     "metadata": {},
     "output_type": "display_data"
    },
    {
     "data": {
      "text/html": [
       "<span style=\"color:#4527A0\"><h1 style=\"font-size:18px\">Trial summary</h1></span>"
      ],
      "text/plain": [
       "<IPython.core.display.HTML object>"
      ]
     },
     "metadata": {},
     "output_type": "display_data"
    },
    {
     "data": {
      "text/html": [
       "<span style=\"color:cyan\"> |-Trial ID: 777cb8c10873c991d09310396eb54381</span>"
      ],
      "text/plain": [
       "<IPython.core.display.HTML object>"
      ]
     },
     "metadata": {},
     "output_type": "display_data"
    },
    {
     "data": {
      "text/html": [
       "<span style=\"color:cyan\"> |-Score: 0.5357142686843872</span>"
      ],
      "text/plain": [
       "<IPython.core.display.HTML object>"
      ]
     },
     "metadata": {},
     "output_type": "display_data"
    },
    {
     "data": {
      "text/html": [
       "<span style=\"color:cyan\"> |-Best step: 4</span>"
      ],
      "text/plain": [
       "<IPython.core.display.HTML object>"
      ]
     },
     "metadata": {},
     "output_type": "display_data"
    },
    {
     "data": {
      "text/html": [
       "<span style=\"color:#7E57C2\"><h2 style=\"font-size:16px\">Hyperparameters:</h2></span>"
      ],
      "text/plain": [
       "<IPython.core.display.HTML object>"
      ]
     },
     "metadata": {},
     "output_type": "display_data"
    },
    {
     "data": {
      "text/html": [
       "<span style=\"color:cyan\"> |-classification_head_1/dropout: 0</span>"
      ],
      "text/plain": [
       "<IPython.core.display.HTML object>"
      ]
     },
     "metadata": {},
     "output_type": "display_data"
    },
    {
     "data": {
      "text/html": [
       "<span style=\"color:blue\"> |-learning_rate: 0.001</span>"
      ],
      "text/plain": [
       "<IPython.core.display.HTML object>"
      ]
     },
     "metadata": {},
     "output_type": "display_data"
    },
    {
     "data": {
      "text/html": [
       "<span style=\"color:cyan\"> |-optimizer: adam</span>"
      ],
      "text/plain": [
       "<IPython.core.display.HTML object>"
      ]
     },
     "metadata": {},
     "output_type": "display_data"
    },
    {
     "data": {
      "text/html": [
       "<span style=\"color:blue\"> |-structured_data_block_1/dense_block_1/dropout: 0.0</span>"
      ],
      "text/plain": [
       "<IPython.core.display.HTML object>"
      ]
     },
     "metadata": {},
     "output_type": "display_data"
    },
    {
     "data": {
      "text/html": [
       "<span style=\"color:cyan\"> |-structured_data_block_1/dense_block_1/num_layers: 2</span>"
      ],
      "text/plain": [
       "<IPython.core.display.HTML object>"
      ]
     },
     "metadata": {},
     "output_type": "display_data"
    },
    {
     "data": {
      "text/html": [
       "<span style=\"color:blue\"> |-structured_data_block_1/dense_block_1/units_0: 1024</span>"
      ],
      "text/plain": [
       "<IPython.core.display.HTML object>"
      ]
     },
     "metadata": {},
     "output_type": "display_data"
    },
    {
     "data": {
      "text/html": [
       "<span style=\"color:cyan\"> |-structured_data_block_1/dense_block_1/units_1: 64</span>"
      ],
      "text/plain": [
       "<IPython.core.display.HTML object>"
      ]
     },
     "metadata": {},
     "output_type": "display_data"
    },
    {
     "data": {
      "text/html": [
       "<span style=\"color:blue\"> |-structured_data_block_1/dense_block_1/units_2: 1024</span>"
      ],
      "text/plain": [
       "<IPython.core.display.HTML object>"
      ]
     },
     "metadata": {},
     "output_type": "display_data"
    },
    {
     "data": {
      "text/html": [
       "<span style=\"color:cyan\"> |-structured_data_block_1/dense_block_1/use_batchnorm: True</span>"
      ],
      "text/plain": [
       "<IPython.core.display.HTML object>"
      ]
     },
     "metadata": {},
     "output_type": "display_data"
    },
    {
     "data": {
      "text/html": [
       "<span style=\"color:#4527A0\"><h1 style=\"font-size:18px\">Starting new trial</h1></span>"
      ],
      "text/plain": [
       "<IPython.core.display.HTML object>"
      ]
     },
     "metadata": {},
     "output_type": "display_data"
    },
    {
     "name": "stdout",
     "output_type": "stream",
     "text": [
      "Epoch 1/1000\n",
      "26/26 [==============================] - ETA: 0s - loss: 1.7626 - accuracy: 0.25 - ETA: 0s - loss: 1.5543 - accuracy: 0.30 - ETA: 0s - loss: 1.5939 - accuracy: 0.28 - ETA: 0s - loss: 1.5527 - accuracy: 0.28 - ETA: 0s - loss: 1.5569 - accuracy: 0.27 - 6s 213ms/step - loss: 1.5463 - accuracy: 0.2825 - val_loss: 1.3248 - val_accuracy: 0.3214\n",
      "Epoch 2/1000\n",
      "26/26 [==============================] - ETA: 0s - loss: 1.4822 - accuracy: 0.37 - ETA: 0s - loss: 1.4770 - accuracy: 0.35 - ETA: 0s - loss: 1.4403 - accuracy: 0.35 - ETA: 0s - loss: 1.4500 - accuracy: 0.34 - ETA: 0s - loss: 1.4174 - accuracy: 0.35 - 1s 40ms/step - loss: 1.4093 - accuracy: 0.3618 - val_loss: 1.3235 - val_accuracy: 0.3214\n",
      "Epoch 3/1000\n",
      "26/26 [==============================] - ETA: 0s - loss: 1.4616 - accuracy: 0.21 - ETA: 0s - loss: 1.3911 - accuracy: 0.35 - ETA: 0s - loss: 1.3783 - accuracy: 0.34 - ETA: 0s - loss: 1.3927 - accuracy: 0.33 - ETA: 0s - loss: 1.3941 - accuracy: 0.33 - 1s 45ms/step - loss: 1.3913 - accuracy: 0.3413 - val_loss: 1.3433 - val_accuracy: 0.3036\n",
      "Epoch 4/1000\n",
      "26/26 [==============================] - ETA: 0s - loss: 1.3585 - accuracy: 0.34 - ETA: 0s - loss: 1.4148 - accuracy: 0.36 - ETA: 0s - loss: 1.3524 - accuracy: 0.37 - ETA: 0s - loss: 1.3522 - accuracy: 0.35 - ETA: 0s - loss: 1.3427 - accuracy: 0.36 - 1s 47ms/step - loss: 1.3392 - accuracy: 0.3702 - val_loss: 1.3110 - val_accuracy: 0.3750\n",
      "Epoch 5/1000\n",
      "26/26 [==============================] - ETA: 0s - loss: 1.1485 - accuracy: 0.31 - ETA: 0s - loss: 1.3265 - accuracy: 0.37 - ETA: 0s - loss: 1.3061 - accuracy: 0.40 - ETA: 0s - loss: 1.2919 - accuracy: 0.40 - ETA: 0s - loss: 1.2968 - accuracy: 0.42 - 1s 49ms/step - loss: 1.2940 - accuracy: 0.4183 - val_loss: 1.2908 - val_accuracy: 0.4167\n",
      "Epoch 6/1000\n",
      "26/26 [==============================] - ETA: 0s - loss: 1.1851 - accuracy: 0.46 - ETA: 0s - loss: 1.2805 - accuracy: 0.42 - ETA: 0s - loss: 1.2616 - accuracy: 0.41 - ETA: 0s - loss: 1.2639 - accuracy: 0.42 - ETA: 0s - loss: 1.2737 - accuracy: 0.41 - 1s 42ms/step - loss: 1.2737 - accuracy: 0.4195 - val_loss: 1.2803 - val_accuracy: 0.4048\n",
      "Epoch 7/1000\n",
      "26/26 [==============================] - ETA: 0s - loss: 1.2279 - accuracy: 0.40 - ETA: 0s - loss: 1.2563 - accuracy: 0.43 - ETA: 0s - loss: 1.2383 - accuracy: 0.43 - ETA: 0s - loss: 1.2164 - accuracy: 0.43 - ETA: 0s - loss: 1.2167 - accuracy: 0.44 - 1s 34ms/step - loss: 1.2167 - accuracy: 0.4447 - val_loss: 1.2568 - val_accuracy: 0.4107\n",
      "Epoch 8/1000\n",
      "26/26 [==============================] - ETA: 0s - loss: 1.3045 - accuracy: 0.34 - ETA: 0s - loss: 1.2396 - accuracy: 0.45 - ETA: 0s - loss: 1.2236 - accuracy: 0.43 - ETA: 0s - loss: 1.2054 - accuracy: 0.45 - ETA: 0s - loss: 1.2027 - accuracy: 0.45 - 1s 38ms/step - loss: 1.2027 - accuracy: 0.4579 - val_loss: 1.2133 - val_accuracy: 0.4821\n",
      "Epoch 9/1000\n",
      "26/26 [==============================] - ETA: 0s - loss: 1.2312 - accuracy: 0.50 - ETA: 0s - loss: 1.2112 - accuracy: 0.43 - ETA: 0s - loss: 1.2053 - accuracy: 0.43 - ETA: 0s - loss: 1.1863 - accuracy: 0.44 - ETA: 0s - loss: 1.1796 - accuracy: 0.44 - 1s 44ms/step - loss: 1.1796 - accuracy: 0.4435 - val_loss: 1.1960 - val_accuracy: 0.4643\n",
      "Epoch 10/1000\n",
      "26/26 [==============================] - ETA: 0s - loss: 1.2325 - accuracy: 0.34 - ETA: 0s - loss: 1.2584 - accuracy: 0.41 - ETA: 0s - loss: 1.2227 - accuracy: 0.44 - ETA: 0s - loss: 1.2050 - accuracy: 0.46 - ETA: 0s - loss: 1.1981 - accuracy: 0.46 - 2s 58ms/step - loss: 1.1981 - accuracy: 0.4603 - val_loss: 1.1920 - val_accuracy: 0.4464\n",
      "Epoch 11/1000\n",
      "26/26 [==============================] - ETA: 0s - loss: 1.1452 - accuracy: 0.46 - ETA: 0s - loss: 1.1868 - accuracy: 0.48 - ETA: 0s - loss: 1.1639 - accuracy: 0.47 - ETA: 0s - loss: 1.1646 - accuracy: 0.47 - 1s 42ms/step - loss: 1.1591 - accuracy: 0.4675 - val_loss: 1.1826 - val_accuracy: 0.4583\n",
      "Epoch 12/1000\n",
      "26/26 [==============================] - ETA: 0s - loss: 1.0370 - accuracy: 0.56 - ETA: 0s - loss: 1.1735 - accuracy: 0.51 - ETA: 0s - loss: 1.1580 - accuracy: 0.49 - ETA: 0s - loss: 1.1584 - accuracy: 0.50 - 1s 49ms/step - loss: 1.1357 - accuracy: 0.5120 - val_loss: 1.1736 - val_accuracy: 0.4643\n",
      "Epoch 13/1000\n",
      "26/26 [==============================] - ETA: 0s - loss: 1.1582 - accuracy: 0.37 - ETA: 0s - loss: 1.1808 - accuracy: 0.50 - ETA: 0s - loss: 1.1619 - accuracy: 0.49 - ETA: 0s - loss: 1.1401 - accuracy: 0.49 - ETA: 0s - loss: 1.1352 - accuracy: 0.49 - 1s 45ms/step - loss: 1.1352 - accuracy: 0.4952 - val_loss: 1.1622 - val_accuracy: 0.4702\n",
      "Epoch 14/1000\n",
      "26/26 [==============================] - ETA: 0s - loss: 1.1927 - accuracy: 0.50 - ETA: 0s - loss: 1.1436 - accuracy: 0.49 - ETA: 0s - loss: 1.0918 - accuracy: 0.52 - ETA: 0s - loss: 1.1057 - accuracy: 0.50 - 1s 47ms/step - loss: 1.0945 - accuracy: 0.5180 - val_loss: 1.1625 - val_accuracy: 0.4702\n",
      "Epoch 15/1000\n",
      "26/26 [==============================] - ETA: 0s - loss: 1.0853 - accuracy: 0.53 - ETA: 0s - loss: 1.1612 - accuracy: 0.45 - ETA: 0s - loss: 1.1313 - accuracy: 0.45 - ETA: 0s - loss: 1.1206 - accuracy: 0.47 - ETA: 0s - loss: 1.1037 - accuracy: 0.50 - 1s 53ms/step - loss: 1.1037 - accuracy: 0.5000 - val_loss: 1.1394 - val_accuracy: 0.4821\n",
      "Epoch 16/1000\n",
      "26/26 [==============================] - ETA: 0s - loss: 1.0411 - accuracy: 0.53 - ETA: 0s - loss: 1.1556 - accuracy: 0.50 - ETA: 0s - loss: 1.0870 - accuracy: 0.53 - ETA: 0s - loss: 1.0690 - accuracy: 0.54 - ETA: 0s - loss: 1.0689 - accuracy: 0.54 - 1s 35ms/step - loss: 1.0689 - accuracy: 0.5409 - val_loss: 1.1130 - val_accuracy: 0.5357\n",
      "Epoch 17/1000\n",
      "26/26 [==============================] - ETA: 0s - loss: 1.0027 - accuracy: 0.59 - ETA: 0s - loss: 1.1075 - accuracy: 0.51 - ETA: 0s - loss: 1.0589 - accuracy: 0.53 - ETA: 0s - loss: 1.0474 - accuracy: 0.55 - ETA: 0s - loss: 1.0490 - accuracy: 0.54 - 1s 44ms/step - loss: 1.0450 - accuracy: 0.5445 - val_loss: 1.1219 - val_accuracy: 0.5179\n",
      "Epoch 18/1000\n",
      "26/26 [==============================] - ETA: 0s - loss: 1.0796 - accuracy: 0.50 - ETA: 0s - loss: 1.1427 - accuracy: 0.50 - ETA: 0s - loss: 1.1027 - accuracy: 0.50 - ETA: 0s - loss: 1.0817 - accuracy: 0.53 - ETA: 0s - loss: 1.0580 - accuracy: 0.55 - 1s 40ms/step - loss: 1.0580 - accuracy: 0.5553 - val_loss: 1.1529 - val_accuracy: 0.5060\n",
      "Epoch 19/1000\n",
      "26/26 [==============================] - ETA: 0s - loss: 1.0834 - accuracy: 0.50 - ETA: 0s - loss: 1.1188 - accuracy: 0.50 - ETA: 0s - loss: 1.0786 - accuracy: 0.51 - ETA: 0s - loss: 1.0588 - accuracy: 0.52 - ETA: 0s - loss: 1.0446 - accuracy: 0.54 - 1s 36ms/step - loss: 1.0446 - accuracy: 0.5409 - val_loss: 1.0833 - val_accuracy: 0.5476\n",
      "Epoch 20/1000\n",
      "26/26 [==============================] - ETA: 0s - loss: 1.0557 - accuracy: 0.46 - ETA: 0s - loss: 1.1590 - accuracy: 0.50 - ETA: 0s - loss: 1.0818 - accuracy: 0.54 - ETA: 0s - loss: 1.0536 - accuracy: 0.54 - 1s 47ms/step - loss: 1.0454 - accuracy: 0.5517 - val_loss: 1.0884 - val_accuracy: 0.5357\n",
      "Epoch 21/1000\n",
      "26/26 [==============================] - ETA: 0s - loss: 1.0142 - accuracy: 0.56 - ETA: 0s - loss: 1.1157 - accuracy: 0.54 - ETA: 0s - loss: 1.0377 - accuracy: 0.55 - ETA: 0s - loss: 1.0280 - accuracy: 0.55 - ETA: 0s - loss: 1.0077 - accuracy: 0.57 - 1s 51ms/step - loss: 1.0077 - accuracy: 0.5709 - val_loss: 1.1084 - val_accuracy: 0.5357\n",
      "Epoch 22/1000\n",
      "26/26 [==============================] - ETA: 0s - loss: 0.9941 - accuracy: 0.53 - ETA: 0s - loss: 1.1020 - accuracy: 0.54 - ETA: 0s - loss: 1.0224 - accuracy: 0.55 - ETA: 0s - loss: 1.0240 - accuracy: 0.55 - 1s 44ms/step - loss: 1.0203 - accuracy: 0.5613 - val_loss: 1.1440 - val_accuracy: 0.5060\n",
      "Epoch 23/1000\n",
      "26/26 [==============================] - ETA: 0s - loss: 1.1763 - accuracy: 0.53 - ETA: 0s - loss: 1.0826 - accuracy: 0.51 - ETA: 0s - loss: 1.0230 - accuracy: 0.54 - ETA: 0s - loss: 1.0048 - accuracy: 0.54 - ETA: 0s - loss: 0.9891 - accuracy: 0.56 - 1s 43ms/step - loss: 0.9803 - accuracy: 0.5649 - val_loss: 1.1160 - val_accuracy: 0.5119\n",
      "Epoch 24/1000\n",
      "26/26 [==============================] - ETA: 0s - loss: 0.9799 - accuracy: 0.53 - ETA: 0s - loss: 1.0568 - accuracy: 0.52 - ETA: 0s - loss: 0.9908 - accuracy: 0.56 - ETA: 0s - loss: 0.9855 - accuracy: 0.56 - 1s 47ms/step - loss: 0.9897 - accuracy: 0.5697 - val_loss: 1.1343 - val_accuracy: 0.5060\n"
     ]
    },
    {
     "name": "stdout",
     "output_type": "stream",
     "text": [
      "Epoch 25/1000\n",
      "26/26 [==============================] - ETA: 0s - loss: 0.9479 - accuracy: 0.53 - ETA: 0s - loss: 1.0656 - accuracy: 0.53 - ETA: 0s - loss: 1.0161 - accuracy: 0.54 - ETA: 0s - loss: 0.9912 - accuracy: 0.55 - 1s 39ms/step - loss: 0.9814 - accuracy: 0.5733 - val_loss: 1.1422 - val_accuracy: 0.5357\n",
      "Epoch 26/1000\n",
      "26/26 [==============================] - ETA: 0s - loss: 1.0164 - accuracy: 0.59 - ETA: 0s - loss: 1.0182 - accuracy: 0.58 - ETA: 0s - loss: 0.9760 - accuracy: 0.58 - ETA: 0s - loss: 0.9792 - accuracy: 0.59 - 1s 41ms/step - loss: 0.9693 - accuracy: 0.5998 - val_loss: 1.1462 - val_accuracy: 0.5119\n",
      "Epoch 27/1000\n",
      "26/26 [==============================] - ETA: 0s - loss: 0.9021 - accuracy: 0.68 - ETA: 0s - loss: 1.0265 - accuracy: 0.62 - ETA: 0s - loss: 0.9786 - accuracy: 0.61 - ETA: 0s - loss: 0.9702 - accuracy: 0.61 - ETA: 0s - loss: 0.9617 - accuracy: 0.60 - 1s 53ms/step - loss: 0.9562 - accuracy: 0.6118 - val_loss: 1.0907 - val_accuracy: 0.5119\n",
      "Epoch 28/1000\n",
      "26/26 [==============================] - ETA: 0s - loss: 0.8598 - accuracy: 0.59 - ETA: 0s - loss: 1.0050 - accuracy: 0.57 - ETA: 0s - loss: 0.9635 - accuracy: 0.57 - ETA: 0s - loss: 0.9655 - accuracy: 0.59 - 1s 32ms/step - loss: 0.9543 - accuracy: 0.5998 - val_loss: 1.0846 - val_accuracy: 0.5000\n",
      "Epoch 29/1000\n",
      "26/26 [==============================] - ETA: 0s - loss: 0.9979 - accuracy: 0.68 - ETA: 0s - loss: 1.0042 - accuracy: 0.56 - ETA: 0s - loss: 0.9708 - accuracy: 0.58 - ETA: 0s - loss: 0.9670 - accuracy: 0.58 - 1s 36ms/step - loss: 0.9586 - accuracy: 0.5889 - val_loss: 1.1088 - val_accuracy: 0.5179\n"
     ]
    },
    {
     "data": {
      "text/html": [
       "<span style=\"color:#4527A0\"><h1 style=\"font-size:18px\">Trial complete</h1></span>"
      ],
      "text/plain": [
       "<IPython.core.display.HTML object>"
      ]
     },
     "metadata": {},
     "output_type": "display_data"
    },
    {
     "data": {
      "text/html": [
       "<span style=\"color:#4527A0\"><h1 style=\"font-size:18px\">Trial summary</h1></span>"
      ],
      "text/plain": [
       "<IPython.core.display.HTML object>"
      ]
     },
     "metadata": {},
     "output_type": "display_data"
    },
    {
     "data": {
      "text/html": [
       "<span style=\"color:cyan\"> |-Trial ID: 2aa8d43b629e1bb96cd623edf5d12935</span>"
      ],
      "text/plain": [
       "<IPython.core.display.HTML object>"
      ]
     },
     "metadata": {},
     "output_type": "display_data"
    },
    {
     "data": {
      "text/html": [
       "<span style=\"color:cyan\"> |-Score: 0.5476190447807312</span>"
      ],
      "text/plain": [
       "<IPython.core.display.HTML object>"
      ]
     },
     "metadata": {},
     "output_type": "display_data"
    },
    {
     "data": {
      "text/html": [
       "<span style=\"color:cyan\"> |-Best step: 18</span>"
      ],
      "text/plain": [
       "<IPython.core.display.HTML object>"
      ]
     },
     "metadata": {},
     "output_type": "display_data"
    },
    {
     "data": {
      "text/html": [
       "<span style=\"color:#7E57C2\"><h2 style=\"font-size:16px\">Hyperparameters:</h2></span>"
      ],
      "text/plain": [
       "<IPython.core.display.HTML object>"
      ]
     },
     "metadata": {},
     "output_type": "display_data"
    },
    {
     "data": {
      "text/html": [
       "<span style=\"color:cyan\"> |-classification_head_1/dropout: 0</span>"
      ],
      "text/plain": [
       "<IPython.core.display.HTML object>"
      ]
     },
     "metadata": {},
     "output_type": "display_data"
    },
    {
     "data": {
      "text/html": [
       "<span style=\"color:blue\"> |-learning_rate: 0.001</span>"
      ],
      "text/plain": [
       "<IPython.core.display.HTML object>"
      ]
     },
     "metadata": {},
     "output_type": "display_data"
    },
    {
     "data": {
      "text/html": [
       "<span style=\"color:cyan\"> |-optimizer: adam</span>"
      ],
      "text/plain": [
       "<IPython.core.display.HTML object>"
      ]
     },
     "metadata": {},
     "output_type": "display_data"
    },
    {
     "data": {
      "text/html": [
       "<span style=\"color:blue\"> |-structured_data_block_1/dense_block_1/dropout: 0.25</span>"
      ],
      "text/plain": [
       "<IPython.core.display.HTML object>"
      ]
     },
     "metadata": {},
     "output_type": "display_data"
    },
    {
     "data": {
      "text/html": [
       "<span style=\"color:cyan\"> |-structured_data_block_1/dense_block_1/num_layers: 3</span>"
      ],
      "text/plain": [
       "<IPython.core.display.HTML object>"
      ]
     },
     "metadata": {},
     "output_type": "display_data"
    },
    {
     "data": {
      "text/html": [
       "<span style=\"color:blue\"> |-structured_data_block_1/dense_block_1/units_0: 16</span>"
      ],
      "text/plain": [
       "<IPython.core.display.HTML object>"
      ]
     },
     "metadata": {},
     "output_type": "display_data"
    },
    {
     "data": {
      "text/html": [
       "<span style=\"color:cyan\"> |-structured_data_block_1/dense_block_1/units_1: 64</span>"
      ],
      "text/plain": [
       "<IPython.core.display.HTML object>"
      ]
     },
     "metadata": {},
     "output_type": "display_data"
    },
    {
     "data": {
      "text/html": [
       "<span style=\"color:blue\"> |-structured_data_block_1/dense_block_1/units_2: 16</span>"
      ],
      "text/plain": [
       "<IPython.core.display.HTML object>"
      ]
     },
     "metadata": {},
     "output_type": "display_data"
    },
    {
     "data": {
      "text/html": [
       "<span style=\"color:cyan\"> |-structured_data_block_1/dense_block_1/use_batchnorm: True</span>"
      ],
      "text/plain": [
       "<IPython.core.display.HTML object>"
      ]
     },
     "metadata": {},
     "output_type": "display_data"
    },
    {
     "data": {
      "text/html": [
       "<span style=\"color:#4527A0\"><h1 style=\"font-size:18px\">Starting new trial</h1></span>"
      ],
      "text/plain": [
       "<IPython.core.display.HTML object>"
      ]
     },
     "metadata": {},
     "output_type": "display_data"
    },
    {
     "name": "stdout",
     "output_type": "stream",
     "text": [
      "Epoch 1/1000\n",
      "26/26 [==============================] - ETA: 0s - loss: 2179.6074 - accuracy: 0.156 - ETA: 0s - loss: 1972.5240 - accuracy: 0.250 - ETA: 0s - loss: 1695.1544 - accuracy: 0.265 - ETA: 0s - loss: 1565.1688 - accuracy: 0.272 - ETA: 0s - loss: 1559.0381 - accuracy: 0.316 - 6s 212ms/step - loss: 1497.3412 - accuracy: 0.3257 - val_loss: 404.4147 - val_accuracy: 0.4583\n",
      "Epoch 2/1000\n",
      "26/26 [==============================] - ETA: 0s - loss: 878.1997 - accuracy: 0.46 - ETA: 0s - loss: 866.3280 - accuracy: 0.43 - ETA: 0s - loss: 855.8379 - accuracy: 0.41 - ETA: 0s - loss: 913.4506 - accuracy: 0.40 - ETA: 0s - loss: 937.6110 - accuracy: 0.39 - 1s 44ms/step - loss: 935.8802 - accuracy: 0.3978 - val_loss: 600.9760 - val_accuracy: 0.4702\n",
      "Epoch 3/1000\n",
      "26/26 [==============================] - ETA: 0s - loss: 609.2394 - accuracy: 0.46 - ETA: 0s - loss: 723.1625 - accuracy: 0.42 - ETA: 0s - loss: 641.6818 - accuracy: 0.44 - ETA: 0s - loss: 635.7651 - accuracy: 0.46 - ETA: 0s - loss: 623.7493 - accuracy: 0.46 - 1s 44ms/step - loss: 610.4437 - accuracy: 0.4651 - val_loss: 370.8476 - val_accuracy: 0.5000\n",
      "Epoch 4/1000\n",
      "26/26 [==============================] - ETA: 0s - loss: 539.3418 - accuracy: 0.53 - ETA: 0s - loss: 530.4761 - accuracy: 0.41 - ETA: 0s - loss: 476.3506 - accuracy: 0.45 - ETA: 0s - loss: 451.4338 - accuracy: 0.47 - ETA: 0s - loss: 439.0682 - accuracy: 0.47 - 1s 47ms/step - loss: 421.5364 - accuracy: 0.4748 - val_loss: 362.4590 - val_accuracy: 0.5119\n",
      "Epoch 5/1000\n",
      "26/26 [==============================] - ETA: 0s - loss: 346.9630 - accuracy: 0.53 - ETA: 0s - loss: 260.6939 - accuracy: 0.55 - ETA: 0s - loss: 283.9671 - accuracy: 0.54 - ETA: 0s - loss: 294.3219 - accuracy: 0.53 - ETA: 0s - loss: 312.7245 - accuracy: 0.52 - 1s 54ms/step - loss: 311.0413 - accuracy: 0.5264 - val_loss: 341.4184 - val_accuracy: 0.4643\n",
      "Epoch 6/1000\n",
      "26/26 [==============================] - ETA: 0s - loss: 196.8800 - accuracy: 0.56 - ETA: 0s - loss: 276.4866 - accuracy: 0.53 - ETA: 0s - loss: 253.0792 - accuracy: 0.52 - ETA: 0s - loss: 244.2287 - accuracy: 0.52 - ETA: 0s - loss: 244.8858 - accuracy: 0.51 - 1s 40ms/step - loss: 240.4713 - accuracy: 0.5252 - val_loss: 381.8998 - val_accuracy: 0.4524\n",
      "Epoch 7/1000\n",
      "26/26 [==============================] - ETA: 0s - loss: 89.9731 - accuracy: 0.625 - ETA: 0s - loss: 195.1044 - accuracy: 0.56 - ETA: 0s - loss: 175.0166 - accuracy: 0.58 - ETA: 0s - loss: 171.2266 - accuracy: 0.60 - ETA: 0s - loss: 167.5661 - accuracy: 0.59 - 1s 35ms/step - loss: 163.3563 - accuracy: 0.5877 - val_loss: 326.0386 - val_accuracy: 0.4821\n",
      "Epoch 8/1000\n",
      "26/26 [==============================] - ETA: 0s - loss: 268.0681 - accuracy: 0.46 - ETA: 0s - loss: 189.9633 - accuracy: 0.56 - ETA: 0s - loss: 156.3545 - accuracy: 0.57 - ETA: 0s - loss: 144.7874 - accuracy: 0.58 - ETA: 0s - loss: 143.1261 - accuracy: 0.58 - 1s 43ms/step - loss: 141.5810 - accuracy: 0.5889 - val_loss: 264.2866 - val_accuracy: 0.4524\n",
      "Epoch 9/1000\n",
      "26/26 [==============================] - ETA: 0s - loss: 119.7841 - accuracy: 0.37 - ETA: 0s - loss: 127.2056 - accuracy: 0.55 - ETA: 0s - loss: 120.3484 - accuracy: 0.57 - ETA: 0s - loss: 111.3694 - accuracy: 0.59 - ETA: 0s - loss: 109.0905 - accuracy: 0.57 - 1s 36ms/step - loss: 106.2935 - accuracy: 0.5865 - val_loss: 202.8267 - val_accuracy: 0.4286\n",
      "Epoch 10/1000\n",
      "26/26 [==============================] - ETA: 0s - loss: 105.0194 - accuracy: 0.62 - ETA: 0s - loss: 110.2916 - accuracy: 0.61 - ETA: 0s - loss: 94.1786 - accuracy: 0.6510 - ETA: 0s - loss: 84.3938 - accuracy: 0.645 - ETA: 0s - loss: 78.5262 - accuracy: 0.632 - 1s 43ms/step - loss: 78.2127 - accuracy: 0.6322 - val_loss: 204.0992 - val_accuracy: 0.4107\n",
      "Epoch 11/1000\n",
      "26/26 [==============================] - ETA: 0s - loss: 51.9065 - accuracy: 0.750 - ETA: 0s - loss: 44.7724 - accuracy: 0.678 - ETA: 0s - loss: 48.7798 - accuracy: 0.687 - ETA: 0s - loss: 58.8268 - accuracy: 0.671 - ETA: 0s - loss: 59.7550 - accuracy: 0.660 - 1s 45ms/step - loss: 59.2184 - accuracy: 0.6599 - val_loss: 177.3179 - val_accuracy: 0.4226\n",
      "Epoch 12/1000\n",
      "26/26 [==============================] - ETA: 0s - loss: 58.2163 - accuracy: 0.656 - ETA: 0s - loss: 59.1494 - accuracy: 0.616 - ETA: 0s - loss: 48.9912 - accuracy: 0.651 - ETA: 0s - loss: 46.4112 - accuracy: 0.662 - ETA: 0s - loss: 44.8766 - accuracy: 0.657 - 1s 46ms/step - loss: 44.4207 - accuracy: 0.6575 - val_loss: 259.9467 - val_accuracy: 0.4345\n",
      "Epoch 13/1000\n",
      "26/26 [==============================] - ETA: 0s - loss: 28.6146 - accuracy: 0.750 - ETA: 0s - loss: 40.7486 - accuracy: 0.669 - ETA: 0s - loss: 36.1111 - accuracy: 0.689 - ETA: 0s - loss: 40.3640 - accuracy: 0.692 - ETA: 0s - loss: 41.5356 - accuracy: 0.690 - 1s 49ms/step - loss: 40.0605 - accuracy: 0.6971 - val_loss: 189.8334 - val_accuracy: 0.4345\n",
      "Epoch 14/1000\n",
      "26/26 [==============================] - ETA: 0s - loss: 37.8691 - accuracy: 0.656 - ETA: 0s - loss: 47.1185 - accuracy: 0.669 - ETA: 0s - loss: 36.6493 - accuracy: 0.689 - ETA: 0s - loss: 34.4299 - accuracy: 0.690 - ETA: 0s - loss: 31.4280 - accuracy: 0.696 - 1s 46ms/step - loss: 31.1306 - accuracy: 0.6971 - val_loss: 174.2846 - val_accuracy: 0.4107\n",
      "Epoch 15/1000\n",
      "26/26 [==============================] - ETA: 0s - loss: 12.3474 - accuracy: 0.593 - ETA: 0s - loss: 28.0125 - accuracy: 0.678 - ETA: 0s - loss: 26.3680 - accuracy: 0.687 - ETA: 0s - loss: 25.1589 - accuracy: 0.707 - ETA: 0s - loss: 25.4053 - accuracy: 0.701 - 1s 45ms/step - loss: 24.8348 - accuracy: 0.7019 - val_loss: 155.1404 - val_accuracy: 0.3810\n",
      "Epoch 16/1000\n",
      "26/26 [==============================] - ETA: 0s - loss: 27.4287 - accuracy: 0.593 - ETA: 0s - loss: 20.9427 - accuracy: 0.683 - ETA: 0s - loss: 17.6487 - accuracy: 0.687 - ETA: 0s - loss: 16.3338 - accuracy: 0.699 - ETA: 0s - loss: 18.6681 - accuracy: 0.680 - 1s 41ms/step - loss: 18.1973 - accuracy: 0.6851 - val_loss: 159.7493 - val_accuracy: 0.4226\n",
      "Epoch 17/1000\n",
      "26/26 [==============================] - ETA: 0s - loss: 10.9603 - accuracy: 0.687 - ETA: 0s - loss: 18.2769 - accuracy: 0.709 - ETA: 0s - loss: 18.1484 - accuracy: 0.701 - ETA: 0s - loss: 16.0025 - accuracy: 0.694 - ETA: 0s - loss: 15.3888 - accuracy: 0.691 - 1s 52ms/step - loss: 15.7497 - accuracy: 0.6899 - val_loss: 131.6164 - val_accuracy: 0.3810\n",
      "Epoch 18/1000\n",
      "26/26 [==============================] - ETA: 0s - loss: 37.7970 - accuracy: 0.500 - ETA: 0s - loss: 17.7206 - accuracy: 0.700 - ETA: 0s - loss: 14.0164 - accuracy: 0.694 - ETA: 0s - loss: 14.4689 - accuracy: 0.712 - ETA: 0s - loss: 13.5960 - accuracy: 0.705 - 1s 40ms/step - loss: 13.3593 - accuracy: 0.7079 - val_loss: 126.5702 - val_accuracy: 0.3810\n",
      "Epoch 19/1000\n",
      "26/26 [==============================] - ETA: 0s - loss: 4.4169 - accuracy: 0.78 - ETA: 0s - loss: 14.3595 - accuracy: 0.709 - ETA: 0s - loss: 18.0393 - accuracy: 0.697 - ETA: 0s - loss: 14.7856 - accuracy: 0.699 - ETA: 0s - loss: 14.1385 - accuracy: 0.702 - 1s 46ms/step - loss: 13.6387 - accuracy: 0.7091 - val_loss: 119.4172 - val_accuracy: 0.3452\n",
      "Epoch 20/1000\n",
      "26/26 [==============================] - ETA: 0s - loss: 2.7037 - accuracy: 0.75 - ETA: 0s - loss: 5.9886 - accuracy: 0.76 - ETA: 0s - loss: 8.8587 - accuracy: 0.72 - ETA: 0s - loss: 7.9115 - accuracy: 0.72 - ETA: 0s - loss: 7.2471 - accuracy: 0.72 - 1s 47ms/step - loss: 7.4248 - accuracy: 0.7224 - val_loss: 109.9003 - val_accuracy: 0.3631\n",
      "Epoch 21/1000\n",
      "26/26 [==============================] - ETA: 0s - loss: 14.4834 - accuracy: 0.593 - ETA: 0s - loss: 221.0812 - accuracy: 0.70 - ETA: 0s - loss: 125.5247 - accuracy: 0.69 - ETA: 0s - loss: 88.9929 - accuracy: 0.6875 - ETA: 0s - loss: 71.6107 - accuracy: 0.687 - 1s 42ms/step - loss: 69.7695 - accuracy: 0.6935 - val_loss: 121.2443 - val_accuracy: 0.3571\n",
      "Epoch 22/1000\n",
      "26/26 [==============================] - ETA: 0s - loss: 7.6872 - accuracy: 0.62 - ETA: 0s - loss: 40.2388 - accuracy: 0.606 - ETA: 0s - loss: 24.8778 - accuracy: 0.637 - ETA: 0s - loss: 19.8224 - accuracy: 0.645 - ETA: 0s - loss: 15.9133 - accuracy: 0.662 - ETA: 0s - loss: 14.3457 - accuracy: 0.657 - 1s 53ms/step - loss: 14.0974 - accuracy: 0.6611 - val_loss: 91.3504 - val_accuracy: 0.3155\n",
      "Epoch 23/1000\n"
     ]
    },
    {
     "name": "stdout",
     "output_type": "stream",
     "text": [
      "26/26 [==============================] - ETA: 0s - loss: 7.7207 - accuracy: 0.59 - ETA: 0s - loss: 16.7557 - accuracy: 0.660 - ETA: 0s - loss: 11.5005 - accuracy: 0.653 - ETA: 0s - loss: 10.1587 - accuracy: 0.646 - ETA: 0s - loss: 8.5917 - accuracy: 0.655 - 1s 46ms/step - loss: 8.3753 - accuracy: 0.6611 - val_loss: 106.5643 - val_accuracy: 0.3571\n",
      "Epoch 24/1000\n",
      "26/26 [==============================] - ETA: 0s - loss: 8.6774 - accuracy: 0.62 - ETA: 0s - loss: 9.5447 - accuracy: 0.59 - ETA: 0s - loss: 11.3278 - accuracy: 0.610 - ETA: 0s - loss: 9.3090 - accuracy: 0.611 - ETA: 0s - loss: 9.2005 - accuracy: 0.62 - 1s 36ms/step - loss: 8.8773 - accuracy: 0.6262 - val_loss: 98.4385 - val_accuracy: 0.3274\n",
      "Epoch 25/1000\n",
      "26/26 [==============================] - ETA: 0s - loss: 0.8057 - accuracy: 0.78 - ETA: 0s - loss: 8.6558 - accuracy: 0.65 - ETA: 0s - loss: 6.7972 - accuracy: 0.63 - ETA: 0s - loss: 5.8664 - accuracy: 0.64 - ETA: 0s - loss: 5.4968 - accuracy: 0.65 - 1s 39ms/step - loss: 5.4182 - accuracy: 0.6611 - val_loss: 84.2330 - val_accuracy: 0.3452\n",
      "Epoch 26/1000\n",
      "26/26 [==============================] - ETA: 0s - loss: 4.7051 - accuracy: 0.68 - ETA: 0s - loss: 4.0192 - accuracy: 0.63 - ETA: 0s - loss: 4.1661 - accuracy: 0.65 - ETA: 0s - loss: 4.6699 - accuracy: 0.63 - ETA: 0s - loss: 4.0372 - accuracy: 0.64 - 1s 45ms/step - loss: 3.9389 - accuracy: 0.6490 - val_loss: 89.3001 - val_accuracy: 0.3571\n",
      "Epoch 27/1000\n",
      "26/26 [==============================] - ETA: 0s - loss: 0.5358 - accuracy: 0.71 - ETA: 0s - loss: 4.9489 - accuracy: 0.65 - ETA: 0s - loss: 4.5163 - accuracy: 0.65 - ETA: 0s - loss: 4.2480 - accuracy: 0.63 - ETA: 0s - loss: 4.1859 - accuracy: 0.65 - 1s 46ms/step - loss: 3.9465 - accuracy: 0.6575 - val_loss: 87.6288 - val_accuracy: 0.3571\n",
      "Epoch 28/1000\n",
      "26/26 [==============================] - ETA: 0s - loss: 0.7289 - accuracy: 0.68 - ETA: 0s - loss: 4.1067 - accuracy: 0.68 - ETA: 0s - loss: 3.5436 - accuracy: 0.67 - ETA: 0s - loss: 2.9349 - accuracy: 0.65 - ETA: 0s - loss: 3.2873 - accuracy: 0.65 - 1s 43ms/step - loss: 3.2221 - accuracy: 0.6599 - val_loss: 86.2714 - val_accuracy: 0.3929\n",
      "Epoch 29/1000\n",
      "26/26 [==============================] - ETA: 0s - loss: 0.8404 - accuracy: 0.68 - ETA: 0s - loss: 1.9776 - accuracy: 0.66 - ETA: 0s - loss: 2.3012 - accuracy: 0.66 - ETA: 0s - loss: 2.6175 - accuracy: 0.65 - ETA: 0s - loss: 2.5998 - accuracy: 0.66 - 2s 58ms/step - loss: 2.5886 - accuracy: 0.6623 - val_loss: 98.5185 - val_accuracy: 0.3869\n",
      "Epoch 30/1000\n",
      "26/26 [==============================] - ETA: 0s - loss: 8.7976 - accuracy: 0.56 - ETA: 0s - loss: 3.3422 - accuracy: 0.64 - ETA: 0s - loss: 2.8089 - accuracy: 0.63 - ETA: 0s - loss: 2.4274 - accuracy: 0.63 - ETA: 0s - loss: 2.5887 - accuracy: 0.63 - 1s 43ms/step - loss: 2.5067 - accuracy: 0.6418 - val_loss: 85.8592 - val_accuracy: 0.4048\n",
      "Epoch 31/1000\n",
      "26/26 [==============================] - ETA: 0s - loss: 0.6737 - accuracy: 0.65 - ETA: 0s - loss: 3.2292 - accuracy: 0.67 - ETA: 0s - loss: 2.4971 - accuracy: 0.69 - ETA: 0s - loss: 2.4280 - accuracy: 0.68 - ETA: 0s - loss: 2.4188 - accuracy: 0.68 - 1s 42ms/step - loss: 2.5073 - accuracy: 0.6839 - val_loss: 77.6165 - val_accuracy: 0.3988\n",
      "Epoch 32/1000\n",
      "26/26 [==============================] - ETA: 0s - loss: 6.5438 - accuracy: 0.68 - ETA: 0s - loss: 3.7916 - accuracy: 0.67 - ETA: 0s - loss: 3.1439 - accuracy: 0.69 - ETA: 0s - loss: 2.5458 - accuracy: 0.69 - ETA: 0s - loss: 2.2448 - accuracy: 0.69 - 1s 41ms/step - loss: 2.1852 - accuracy: 0.6947 - val_loss: 81.8741 - val_accuracy: 0.4167\n",
      "Epoch 33/1000\n",
      "26/26 [==============================] - ETA: 0s - loss: 1.4046 - accuracy: 0.65 - ETA: 0s - loss: 1.0700 - accuracy: 0.72 - ETA: 0s - loss: 1.5681 - accuracy: 0.71 - ETA: 0s - loss: 1.5449 - accuracy: 0.71 - ETA: 0s - loss: 1.5372 - accuracy: 0.71 - 1s 45ms/step - loss: 1.4935 - accuracy: 0.7163 - val_loss: 82.9372 - val_accuracy: 0.4345\n",
      "Epoch 34/1000\n",
      "26/26 [==============================] - ETA: 0s - loss: 0.5456 - accuracy: 0.68 - ETA: 0s - loss: 2.0283 - accuracy: 0.74 - ETA: 0s - loss: 1.9694 - accuracy: 0.73 - ETA: 0s - loss: 1.9329 - accuracy: 0.73 - ETA: 0s - loss: 1.7992 - accuracy: 0.72 - 2s 61ms/step - loss: 2.0304 - accuracy: 0.7308 - val_loss: 76.2615 - val_accuracy: 0.4464\n",
      "Epoch 35/1000\n",
      "26/26 [==============================] - ETA: 0s - loss: 0.5335 - accuracy: 0.71 - ETA: 0s - loss: 2.6890 - accuracy: 0.71 - ETA: 0s - loss: 4.2412 - accuracy: 0.71 - ETA: 0s - loss: 3.3546 - accuracy: 0.71 - ETA: 0s - loss: 3.1997 - accuracy: 0.70 - ETA: 0s - loss: 2.7436 - accuracy: 0.70 - 1s 45ms/step - loss: 2.7436 - accuracy: 0.7007 - val_loss: 87.7240 - val_accuracy: 0.4464\n",
      "Epoch 36/1000\n",
      "26/26 [==============================] - ETA: 0s - loss: 0.4539 - accuracy: 0.75 - ETA: 0s - loss: 1.0619 - accuracy: 0.72 - ETA: 0s - loss: 1.0743 - accuracy: 0.71 - ETA: 0s - loss: 1.0331 - accuracy: 0.70 - ETA: 0s - loss: 1.0866 - accuracy: 0.70 - 1s 55ms/step - loss: 1.0626 - accuracy: 0.7079 - val_loss: 76.4422 - val_accuracy: 0.4286\n",
      "Epoch 37/1000\n",
      "26/26 [==============================] - ETA: 0s - loss: 0.4482 - accuracy: 0.78 - ETA: 0s - loss: 3.1426 - accuracy: 0.72 - ETA: 0s - loss: 2.0690 - accuracy: 0.73 - ETA: 0s - loss: 1.7563 - accuracy: 0.71 - ETA: 0s - loss: 1.6739 - accuracy: 0.71 - 1s 44ms/step - loss: 1.6510 - accuracy: 0.7127 - val_loss: 69.9782 - val_accuracy: 0.4107\n",
      "Epoch 38/1000\n",
      "26/26 [==============================] - ETA: 0s - loss: 1.9678 - accuracy: 0.65 - ETA: 0s - loss: 1.1774 - accuracy: 0.68 - ETA: 0s - loss: 1.0584 - accuracy: 0.71 - ETA: 0s - loss: 1.4604 - accuracy: 0.69 - ETA: 0s - loss: 1.4685 - accuracy: 0.68 - 1s 47ms/step - loss: 1.4283 - accuracy: 0.6875 - val_loss: 68.4049 - val_accuracy: 0.4167\n",
      "Epoch 39/1000\n",
      "26/26 [==============================] - ETA: 0s - loss: 0.4787 - accuracy: 0.71 - ETA: 0s - loss: 0.9391 - accuracy: 0.72 - ETA: 0s - loss: 1.5470 - accuracy: 0.73 - ETA: 0s - loss: 1.2781 - accuracy: 0.72 - ETA: 0s - loss: 1.2542 - accuracy: 0.71 - 1s 50ms/step - loss: 1.3296 - accuracy: 0.7067 - val_loss: 88.0501 - val_accuracy: 0.4345\n",
      "Epoch 40/1000\n",
      "26/26 [==============================] - ETA: 0s - loss: 1.1849 - accuracy: 0.62 - ETA: 0s - loss: 11.3259 - accuracy: 0.660 - ETA: 0s - loss: 6.7895 - accuracy: 0.656 - ETA: 0s - loss: 9.1969 - accuracy: 0.65 - ETA: 0s - loss: 7.4013 - accuracy: 0.65 - 2s 63ms/step - loss: 7.1330 - accuracy: 0.6623 - val_loss: 77.6346 - val_accuracy: 0.4226\n",
      "Epoch 41/1000\n",
      "26/26 [==============================] - ETA: 0s - loss: 0.9324 - accuracy: 0.62 - ETA: 0s - loss: 1.1487 - accuracy: 0.67 - ETA: 0s - loss: 1.5367 - accuracy: 0.68 - ETA: 0s - loss: 1.5787 - accuracy: 0.67 - ETA: 0s - loss: 1.7984 - accuracy: 0.67 - 1s 42ms/step - loss: 1.8585 - accuracy: 0.6731 - val_loss: 73.9219 - val_accuracy: 0.3988\n",
      "Epoch 42/1000\n",
      "26/26 [==============================] - ETA: 0s - loss: 2.2594 - accuracy: 0.59 - ETA: 0s - loss: 1.7311 - accuracy: 0.64 - ETA: 0s - loss: 1.3228 - accuracy: 0.67 - ETA: 0s - loss: 1.4382 - accuracy: 0.67 - ETA: 0s - loss: 1.7763 - accuracy: 0.67 - 1s 44ms/step - loss: 1.7350 - accuracy: 0.6719 - val_loss: 70.3966 - val_accuracy: 0.4048\n",
      "Epoch 43/1000\n",
      "26/26 [==============================] - ETA: 0s - loss: 0.4752 - accuracy: 0.75 - ETA: 0s - loss: 2.1364 - accuracy: 0.69 - ETA: 0s - loss: 1.7561 - accuracy: 0.69 - ETA: 0s - loss: 1.7269 - accuracy: 0.69 - ETA: 0s - loss: 1.5567 - accuracy: 0.68 - 1s 52ms/step - loss: 1.9157 - accuracy: 0.6875 - val_loss: 66.6771 - val_accuracy: 0.4048\n",
      "Epoch 44/1000\n",
      "26/26 [==============================] - ETA: 0s - loss: 0.5268 - accuracy: 0.71 - ETA: 0s - loss: 1.2906 - accuracy: 0.68 - ETA: 0s - loss: 1.3221 - accuracy: 0.69 - ETA: 0s - loss: 1.4055 - accuracy: 0.67 - ETA: 0s - loss: 1.3293 - accuracy: 0.67 - 1s 49ms/step - loss: 1.2846 - accuracy: 0.6683 - val_loss: 66.6180 - val_accuracy: 0.3929\n",
      "Epoch 45/1000\n",
      "26/26 [==============================] - ETA: 0s - loss: 2.1574 - accuracy: 0.65 - ETA: 0s - loss: 3.8648 - accuracy: 0.66 - ETA: 0s - loss: 3.6649 - accuracy: 0.70 - ETA: 0s - loss: 2.8913 - accuracy: 0.69 - ETA: 0s - loss: 2.6469 - accuracy: 0.67 - 1s 46ms/step - loss: 2.5650 - accuracy: 0.6779 - val_loss: 68.6076 - val_accuracy: 0.3929\n"
     ]
    },
    {
     "name": "stdout",
     "output_type": "stream",
     "text": [
      "Epoch 46/1000\n",
      "26/26 [==============================] - ETA: 0s - loss: 0.6736 - accuracy: 0.65 - ETA: 0s - loss: 1.0972 - accuracy: 0.68 - ETA: 0s - loss: 0.9505 - accuracy: 0.70 - ETA: 0s - loss: 2.3218 - accuracy: 0.69 - ETA: 0s - loss: 2.1581 - accuracy: 0.69 - 1s 54ms/step - loss: 1.9940 - accuracy: 0.6839 - val_loss: 69.2607 - val_accuracy: 0.3929\n",
      "Epoch 47/1000\n",
      "26/26 [==============================] - ETA: 0s - loss: 0.7800 - accuracy: 0.75 - ETA: 0s - loss: 4.4620 - accuracy: 0.66 - ETA: 0s - loss: 2.9002 - accuracy: 0.67 - ETA: 0s - loss: 2.2675 - accuracy: 0.67 - ETA: 0s - loss: 2.9806 - accuracy: 0.67 - 1s 47ms/step - loss: 2.8837 - accuracy: 0.6719 - val_loss: 66.9436 - val_accuracy: 0.3929\n",
      "Epoch 48/1000\n",
      "26/26 [==============================] - ETA: 0s - loss: 0.8102 - accuracy: 0.59 - ETA: 0s - loss: 1.3402 - accuracy: 0.64 - ETA: 0s - loss: 1.4629 - accuracy: 0.66 - ETA: 0s - loss: 1.4636 - accuracy: 0.65 - ETA: 0s - loss: 1.4449 - accuracy: 0.65 - 1s 45ms/step - loss: 1.4078 - accuracy: 0.6550 - val_loss: 57.9092 - val_accuracy: 0.3929\n",
      "Epoch 49/1000\n",
      "26/26 [==============================] - ETA: 0s - loss: 0.4532 - accuracy: 0.75 - ETA: 0s - loss: 1.0638 - accuracy: 0.69 - ETA: 0s - loss: 1.3525 - accuracy: 0.67 - ETA: 0s - loss: 1.4234 - accuracy: 0.66 - ETA: 0s - loss: 1.4103 - accuracy: 0.67 - 1s 35ms/step - loss: 1.5353 - accuracy: 0.6743 - val_loss: 60.3292 - val_accuracy: 0.3988\n",
      "Epoch 50/1000\n",
      "26/26 [==============================] - ETA: 0s - loss: 3.2374 - accuracy: 0.68 - ETA: 0s - loss: 1.1018 - accuracy: 0.69 - ETA: 0s - loss: 1.0992 - accuracy: 0.68 - ETA: 0s - loss: 1.2278 - accuracy: 0.68 - ETA: 0s - loss: 1.1603 - accuracy: 0.69 - 1s 40ms/step - loss: 1.3014 - accuracy: 0.6887 - val_loss: 59.5172 - val_accuracy: 0.3512\n",
      "Epoch 51/1000\n",
      "26/26 [==============================] - ETA: 0s - loss: 0.9352 - accuracy: 0.62 - ETA: 0s - loss: 3.8248 - accuracy: 0.64 - ETA: 0s - loss: 2.6895 - accuracy: 0.65 - ETA: 0s - loss: 2.5671 - accuracy: 0.65 - ETA: 0s - loss: 2.2166 - accuracy: 0.66 - 1s 43ms/step - loss: 2.1644 - accuracy: 0.6683 - val_loss: 58.0418 - val_accuracy: 0.3929\n",
      "Epoch 52/1000\n",
      "26/26 [==============================] - ETA: 0s - loss: 1.5531 - accuracy: 0.62 - ETA: 0s - loss: 1.2705 - accuracy: 0.63 - ETA: 0s - loss: 2.2841 - accuracy: 0.66 - ETA: 0s - loss: 2.2091 - accuracy: 0.66 - ETA: 0s - loss: 1.8676 - accuracy: 0.67 - ETA: 0s - loss: 1.6577 - accuracy: 0.67 - 2s 59ms/step - loss: 1.6577 - accuracy: 0.6719 - val_loss: 56.2776 - val_accuracy: 0.3929\n",
      "Epoch 53/1000\n",
      "26/26 [==============================] - ETA: 0s - loss: 0.5486 - accuracy: 0.75 - ETA: 0s - loss: 0.7958 - accuracy: 0.65 - ETA: 0s - loss: 1.0312 - accuracy: 0.69 - ETA: 0s - loss: 1.0677 - accuracy: 0.68 - ETA: 0s - loss: 0.9815 - accuracy: 0.68 - 1s 38ms/step - loss: 0.9558 - accuracy: 0.6827 - val_loss: 52.8046 - val_accuracy: 0.4048\n",
      "Epoch 54/1000\n",
      "26/26 [==============================] - ETA: 0s - loss: 0.7597 - accuracy: 0.68 - ETA: 0s - loss: 0.7147 - accuracy: 0.67 - ETA: 0s - loss: 1.5638 - accuracy: 0.68 - ETA: 0s - loss: 1.3080 - accuracy: 0.69 - ETA: 0s - loss: 1.1745 - accuracy: 0.68 - 1s 44ms/step - loss: 1.1490 - accuracy: 0.6875 - val_loss: 52.7997 - val_accuracy: 0.3988\n",
      "Epoch 55/1000\n",
      "26/26 [==============================] - ETA: 0s - loss: 0.5806 - accuracy: 0.65 - ETA: 0s - loss: 0.7527 - accuracy: 0.65 - ETA: 0s - loss: 0.7823 - accuracy: 0.67 - ETA: 0s - loss: 0.7462 - accuracy: 0.69 - ETA: 0s - loss: 0.7641 - accuracy: 0.69 - 1s 42ms/step - loss: 0.7485 - accuracy: 0.6983 - val_loss: 55.6737 - val_accuracy: 0.4048\n",
      "Epoch 56/1000\n",
      "26/26 [==============================] - ETA: 0s - loss: 0.6217 - accuracy: 0.68 - ETA: 0s - loss: 0.8088 - accuracy: 0.66 - ETA: 0s - loss: 0.8367 - accuracy: 0.68 - ETA: 0s - loss: 0.8246 - accuracy: 0.68 - ETA: 0s - loss: 0.9863 - accuracy: 0.68 - 1s 43ms/step - loss: 0.9647 - accuracy: 0.6863 - val_loss: 55.8360 - val_accuracy: 0.3869\n",
      "Epoch 57/1000\n",
      "26/26 [==============================] - ETA: 0s - loss: 0.6182 - accuracy: 0.68 - ETA: 0s - loss: 0.6793 - accuracy: 0.68 - ETA: 0s - loss: 0.6472 - accuracy: 0.70 - ETA: 0s - loss: 0.8146 - accuracy: 0.69 - ETA: 0s - loss: 0.8104 - accuracy: 0.69 - 1s 33ms/step - loss: 0.8001 - accuracy: 0.6899 - val_loss: 55.0086 - val_accuracy: 0.4048\n",
      "Epoch 58/1000\n",
      "26/26 [==============================] - ETA: 0s - loss: 0.7093 - accuracy: 0.62 - ETA: 0s - loss: 0.7454 - accuracy: 0.67 - ETA: 0s - loss: 0.7203 - accuracy: 0.68 - ETA: 0s - loss: 0.7038 - accuracy: 0.68 - ETA: 0s - loss: 0.6864 - accuracy: 0.69 - 1s 48ms/step - loss: 0.6786 - accuracy: 0.6911 - val_loss: 55.6704 - val_accuracy: 0.3869\n",
      "Epoch 59/1000\n",
      "26/26 [==============================] - ETA: 0s - loss: 0.5528 - accuracy: 0.71 - ETA: 0s - loss: 0.6944 - accuracy: 0.68 - ETA: 0s - loss: 0.6676 - accuracy: 0.69 - ETA: 0s - loss: 0.6467 - accuracy: 0.69 - ETA: 0s - loss: 0.7338 - accuracy: 0.70 - 1s 46ms/step - loss: 0.8588 - accuracy: 0.7031 - val_loss: 57.3132 - val_accuracy: 0.3869\n",
      "Epoch 60/1000\n",
      "26/26 [==============================] - ETA: 0s - loss: 0.6398 - accuracy: 0.68 - ETA: 0s - loss: 0.6333 - accuracy: 0.69 - ETA: 0s - loss: 0.6555 - accuracy: 0.69 - ETA: 0s - loss: 0.7943 - accuracy: 0.68 - ETA: 0s - loss: 0.7995 - accuracy: 0.69 - 1s 38ms/step - loss: 0.7854 - accuracy: 0.6995 - val_loss: 65.1198 - val_accuracy: 0.3750\n",
      "Epoch 61/1000\n",
      "26/26 [==============================] - ETA: 0s - loss: 0.6530 - accuracy: 0.68 - ETA: 0s - loss: 0.7367 - accuracy: 0.66 - ETA: 0s - loss: 4.0169 - accuracy: 0.67 - ETA: 0s - loss: 3.1532 - accuracy: 0.67 - ETA: 0s - loss: 2.7234 - accuracy: 0.67 - 1s 42ms/step - loss: 2.4774 - accuracy: 0.6743 - val_loss: 63.7644 - val_accuracy: 0.3810\n",
      "Epoch 62/1000\n",
      "26/26 [==============================] - ETA: 0s - loss: 0.6085 - accuracy: 0.65 - ETA: 0s - loss: 2.3994 - accuracy: 0.64 - ETA: 0s - loss: 3.0024 - accuracy: 0.67 - ETA: 0s - loss: 2.2156 - accuracy: 0.67 - ETA: 0s - loss: 1.9350 - accuracy: 0.67 - 1s 54ms/step - loss: 1.7426 - accuracy: 0.6767 - val_loss: 60.2783 - val_accuracy: 0.4048\n",
      "Epoch 63/1000\n",
      "26/26 [==============================] - ETA: 0s - loss: 1.3534 - accuracy: 0.62 - ETA: 0s - loss: 1.0236 - accuracy: 0.65 - ETA: 0s - loss: 0.9201 - accuracy: 0.68 - ETA: 0s - loss: 0.9668 - accuracy: 0.67 - ETA: 0s - loss: 1.0163 - accuracy: 0.67 - 1s 50ms/step - loss: 0.9986 - accuracy: 0.6731 - val_loss: 58.4243 - val_accuracy: 0.3512\n",
      "Epoch 64/1000\n",
      "26/26 [==============================] - ETA: 0s - loss: 0.9063 - accuracy: 0.62 - ETA: 0s - loss: 0.9505 - accuracy: 0.62 - ETA: 0s - loss: 0.9057 - accuracy: 0.66 - ETA: 0s - loss: 0.9323 - accuracy: 0.65 - ETA: 0s - loss: 0.9277 - accuracy: 0.67 - 1s 43ms/step - loss: 0.9465 - accuracy: 0.6695 - val_loss: 55.1243 - val_accuracy: 0.3631\n"
     ]
    },
    {
     "data": {
      "text/html": [
       "<span style=\"color:#4527A0\"><h1 style=\"font-size:18px\">Trial complete</h1></span>"
      ],
      "text/plain": [
       "<IPython.core.display.HTML object>"
      ]
     },
     "metadata": {},
     "output_type": "display_data"
    },
    {
     "data": {
      "text/html": [
       "<span style=\"color:#4527A0\"><h1 style=\"font-size:18px\">Trial summary</h1></span>"
      ],
      "text/plain": [
       "<IPython.core.display.HTML object>"
      ]
     },
     "metadata": {},
     "output_type": "display_data"
    },
    {
     "data": {
      "text/html": [
       "<span style=\"color:cyan\"> |-Trial ID: dd20efe80b1d9b99e34b2d000bf4ce4d</span>"
      ],
      "text/plain": [
       "<IPython.core.display.HTML object>"
      ]
     },
     "metadata": {},
     "output_type": "display_data"
    },
    {
     "data": {
      "text/html": [
       "<span style=\"color:cyan\"> |-Score: 0.511904776096344</span>"
      ],
      "text/plain": [
       "<IPython.core.display.HTML object>"
      ]
     },
     "metadata": {},
     "output_type": "display_data"
    },
    {
     "data": {
      "text/html": [
       "<span style=\"color:cyan\"> |-Best step: 3</span>"
      ],
      "text/plain": [
       "<IPython.core.display.HTML object>"
      ]
     },
     "metadata": {},
     "output_type": "display_data"
    },
    {
     "data": {
      "text/html": [
       "<span style=\"color:#7E57C2\"><h2 style=\"font-size:16px\">Hyperparameters:</h2></span>"
      ],
      "text/plain": [
       "<IPython.core.display.HTML object>"
      ]
     },
     "metadata": {},
     "output_type": "display_data"
    },
    {
     "data": {
      "text/html": [
       "<span style=\"color:cyan\"> |-classification_head_1/dropout: 0</span>"
      ],
      "text/plain": [
       "<IPython.core.display.HTML object>"
      ]
     },
     "metadata": {},
     "output_type": "display_data"
    },
    {
     "data": {
      "text/html": [
       "<span style=\"color:blue\"> |-learning_rate: 0.001</span>"
      ],
      "text/plain": [
       "<IPython.core.display.HTML object>"
      ]
     },
     "metadata": {},
     "output_type": "display_data"
    },
    {
     "data": {
      "text/html": [
       "<span style=\"color:cyan\"> |-optimizer: adam</span>"
      ],
      "text/plain": [
       "<IPython.core.display.HTML object>"
      ]
     },
     "metadata": {},
     "output_type": "display_data"
    },
    {
     "data": {
      "text/html": [
       "<span style=\"color:blue\"> |-structured_data_block_1/dense_block_1/dropout: 0.25</span>"
      ],
      "text/plain": [
       "<IPython.core.display.HTML object>"
      ]
     },
     "metadata": {},
     "output_type": "display_data"
    },
    {
     "data": {
      "text/html": [
       "<span style=\"color:cyan\"> |-structured_data_block_1/dense_block_1/num_layers: 1</span>"
      ],
      "text/plain": [
       "<IPython.core.display.HTML object>"
      ]
     },
     "metadata": {},
     "output_type": "display_data"
    },
    {
     "data": {
      "text/html": [
       "<span style=\"color:blue\"> |-structured_data_block_1/dense_block_1/units_0: 256</span>"
      ],
      "text/plain": [
       "<IPython.core.display.HTML object>"
      ]
     },
     "metadata": {},
     "output_type": "display_data"
    },
    {
     "data": {
      "text/html": [
       "<span style=\"color:cyan\"> |-structured_data_block_1/dense_block_1/units_1: 512</span>"
      ],
      "text/plain": [
       "<IPython.core.display.HTML object>"
      ]
     },
     "metadata": {},
     "output_type": "display_data"
    },
    {
     "data": {
      "text/html": [
       "<span style=\"color:blue\"> |-structured_data_block_1/dense_block_1/units_2: 64</span>"
      ],
      "text/plain": [
       "<IPython.core.display.HTML object>"
      ]
     },
     "metadata": {},
     "output_type": "display_data"
    },
    {
     "data": {
      "text/html": [
       "<span style=\"color:cyan\"> |-structured_data_block_1/dense_block_1/use_batchnorm: False</span>"
      ],
      "text/plain": [
       "<IPython.core.display.HTML object>"
      ]
     },
     "metadata": {},
     "output_type": "display_data"
    },
    {
     "data": {
      "text/html": [
       "<span style=\"color:#4527A0\"><h1 style=\"font-size:18px\">Starting new trial</h1></span>"
      ],
      "text/plain": [
       "<IPython.core.display.HTML object>"
      ]
     },
     "metadata": {},
     "output_type": "display_data"
    },
    {
     "name": "stdout",
     "output_type": "stream",
     "text": [
      "Epoch 1/1000\n",
      "26/26 [==============================] - ETA: 0s - loss: 1.4532 - accuracy: 0.21 - ETA: 0s - loss: 1.3820 - accuracy: 0.34 - ETA: 0s - loss: 1.3421 - accuracy: 0.38 - ETA: 0s - loss: 1.3491 - accuracy: 0.38 - ETA: 0s - loss: 1.3315 - accuracy: 0.39 - 5s 211ms/step - loss: 1.2995 - accuracy: 0.4111 - val_loss: 1.4033 - val_accuracy: 0.3869\n",
      "Epoch 2/1000\n",
      "26/26 [==============================] - ETA: 0s - loss: 0.8298 - accuracy: 0.68 - ETA: 0s - loss: 0.9883 - accuracy: 0.57 - ETA: 0s - loss: 0.9491 - accuracy: 0.59 - ETA: 0s - loss: 0.9397 - accuracy: 0.60 - ETA: 0s - loss: 0.9411 - accuracy: 0.60 - ETA: 0s - loss: 0.9435 - accuracy: 0.61 - 1s 37ms/step - loss: 0.9330 - accuracy: 0.6190 - val_loss: 1.2666 - val_accuracy: 0.4405\n",
      "Epoch 3/1000\n",
      "26/26 [==============================] - ETA: 0s - loss: 0.7633 - accuracy: 0.65 - ETA: 0s - loss: 0.8517 - accuracy: 0.66 - ETA: 0s - loss: 0.7971 - accuracy: 0.69 - ETA: 0s - loss: 0.7826 - accuracy: 0.69 - ETA: 0s - loss: 0.7869 - accuracy: 0.70 - ETA: 0s - loss: 0.7759 - accuracy: 0.71 - 1s 47ms/step - loss: 0.7759 - accuracy: 0.7127 - val_loss: 1.1957 - val_accuracy: 0.4583\n",
      "Epoch 4/1000\n",
      "26/26 [==============================] - ETA: 0s - loss: 0.6677 - accuracy: 0.84 - ETA: 0s - loss: 0.7484 - accuracy: 0.74 - ETA: 0s - loss: 0.6851 - accuracy: 0.77 - ETA: 0s - loss: 0.6667 - accuracy: 0.77 - ETA: 0s - loss: 0.6677 - accuracy: 0.77 - ETA: 0s - loss: 0.6577 - accuracy: 0.78 - 1s 45ms/step - loss: 0.6577 - accuracy: 0.7861 - val_loss: 1.1329 - val_accuracy: 0.5000\n",
      "Epoch 5/1000\n",
      "26/26 [==============================] - ETA: 0s - loss: 0.5637 - accuracy: 0.84 - ETA: 0s - loss: 0.6697 - accuracy: 0.78 - ETA: 0s - loss: 0.5945 - accuracy: 0.81 - ETA: 0s - loss: 0.5715 - accuracy: 0.82 - ETA: 0s - loss: 0.5703 - accuracy: 0.82 - ETA: 0s - loss: 0.5580 - accuracy: 0.83 - 1s 49ms/step - loss: 0.5580 - accuracy: 0.8353 - val_loss: 1.1098 - val_accuracy: 0.5298\n",
      "Epoch 6/1000\n",
      "26/26 [==============================] - ETA: 0s - loss: 0.4729 - accuracy: 0.90 - ETA: 0s - loss: 0.5539 - accuracy: 0.83 - ETA: 0s - loss: 0.4865 - accuracy: 0.87 - ETA: 0s - loss: 0.4785 - accuracy: 0.86 - ETA: 0s - loss: 0.4790 - accuracy: 0.87 - 1s 42ms/step - loss: 0.4679 - accuracy: 0.8762 - val_loss: 1.1023 - val_accuracy: 0.5417\n",
      "Epoch 7/1000\n",
      "26/26 [==============================] - ETA: 0s - loss: 0.3997 - accuracy: 0.87 - ETA: 0s - loss: 0.4921 - accuracy: 0.85 - ETA: 0s - loss: 0.4158 - accuracy: 0.89 - ETA: 0s - loss: 0.4073 - accuracy: 0.89 - ETA: 0s - loss: 0.4073 - accuracy: 0.90 - 1s 43ms/step - loss: 0.3941 - accuracy: 0.9038 - val_loss: 1.1105 - val_accuracy: 0.5179\n",
      "Epoch 8/1000\n",
      "26/26 [==============================] - ETA: 0s - loss: 0.3353 - accuracy: 0.93 - ETA: 0s - loss: 0.4070 - accuracy: 0.90 - ETA: 0s - loss: 0.3432 - accuracy: 0.93 - ETA: 0s - loss: 0.3396 - accuracy: 0.92 - ETA: 0s - loss: 0.3378 - accuracy: 0.93 - ETA: 0s - loss: 0.3273 - accuracy: 0.93 - 1s 32ms/step - loss: 0.3273 - accuracy: 0.9315 - val_loss: 1.1165 - val_accuracy: 0.5417\n",
      "Epoch 9/1000\n",
      "26/26 [==============================] - ETA: 0s - loss: 0.2885 - accuracy: 0.93 - ETA: 0s - loss: 0.3570 - accuracy: 0.93 - ETA: 0s - loss: 0.2943 - accuracy: 0.94 - ETA: 0s - loss: 0.2944 - accuracy: 0.93 - ETA: 0s - loss: 0.2970 - accuracy: 0.93 - ETA: 0s - loss: 0.2840 - accuracy: 0.94 - 1s 41ms/step - loss: 0.2840 - accuracy: 0.9459 - val_loss: 1.1746 - val_accuracy: 0.5595\n",
      "Epoch 10/1000\n",
      "26/26 [==============================] - ETA: 0s - loss: 0.2542 - accuracy: 0.93 - ETA: 0s - loss: 0.3004 - accuracy: 0.93 - ETA: 0s - loss: 0.2509 - accuracy: 0.95 - ETA: 0s - loss: 0.2513 - accuracy: 0.94 - ETA: 0s - loss: 0.2523 - accuracy: 0.95 - ETA: 0s - loss: 0.2403 - accuracy: 0.96 - 2s 59ms/step - loss: 0.2403 - accuracy: 0.9603 - val_loss: 1.1995 - val_accuracy: 0.5357\n",
      "Epoch 11/1000\n",
      "26/26 [==============================] - ETA: 0s - loss: 0.1951 - accuracy: 0.96 - ETA: 0s - loss: 0.2744 - accuracy: 0.95 - ETA: 0s - loss: 0.2177 - accuracy: 0.96 - ETA: 0s - loss: 0.2101 - accuracy: 0.96 - ETA: 0s - loss: 0.2139 - accuracy: 0.96 - ETA: 0s - loss: 0.2036 - accuracy: 0.96 - 1s 47ms/step - loss: 0.2036 - accuracy: 0.9663 - val_loss: 1.3178 - val_accuracy: 0.5179\n",
      "Epoch 12/1000\n",
      "26/26 [==============================] - ETA: 0s - loss: 0.1970 - accuracy: 0.96 - ETA: 0s - loss: 0.2708 - accuracy: 0.94 - ETA: 0s - loss: 0.2110 - accuracy: 0.96 - ETA: 0s - loss: 0.2193 - accuracy: 0.96 - ETA: 0s - loss: 0.2149 - accuracy: 0.95 - ETA: 0s - loss: 0.2056 - accuracy: 0.96 - 1s 46ms/step - loss: 0.2056 - accuracy: 0.9615 - val_loss: 1.2732 - val_accuracy: 0.5417\n",
      "Epoch 13/1000\n",
      "26/26 [==============================] - ETA: 0s - loss: 0.1785 - accuracy: 1.00 - ETA: 0s - loss: 0.2261 - accuracy: 0.96 - ETA: 0s - loss: 0.1999 - accuracy: 0.97 - ETA: 0s - loss: 0.1935 - accuracy: 0.96 - ETA: 0s - loss: 0.1972 - accuracy: 0.96 - ETA: 0s - loss: 0.1861 - accuracy: 0.96 - 1s 46ms/step - loss: 0.1861 - accuracy: 0.9675 - val_loss: 1.3120 - val_accuracy: 0.5298\n",
      "Epoch 14/1000\n",
      "26/26 [==============================] - ETA: 0s - loss: 0.2637 - accuracy: 0.93 - ETA: 0s - loss: 0.2026 - accuracy: 0.97 - ETA: 0s - loss: 0.1744 - accuracy: 0.98 - ETA: 0s - loss: 0.1672 - accuracy: 0.98 - ETA: 0s - loss: 0.1730 - accuracy: 0.97 - ETA: 0s - loss: 0.1631 - accuracy: 0.97 - 1s 40ms/step - loss: 0.1631 - accuracy: 0.9772 - val_loss: 1.4190 - val_accuracy: 0.4881\n",
      "Epoch 15/1000\n",
      "26/26 [==============================] - ETA: 0s - loss: 0.1858 - accuracy: 1.00 - ETA: 0s - loss: 0.1759 - accuracy: 0.97 - ETA: 0s - loss: 0.1452 - accuracy: 0.98 - ETA: 0s - loss: 0.1327 - accuracy: 0.98 - ETA: 0s - loss: 0.1377 - accuracy: 0.98 - 1s 40ms/step - loss: 0.1303 - accuracy: 0.9832 - val_loss: 1.4283 - val_accuracy: 0.5000\n",
      "Epoch 16/1000\n",
      "26/26 [==============================] - ETA: 0s - loss: 0.1102 - accuracy: 1.00 - ETA: 0s - loss: 0.1320 - accuracy: 0.98 - ETA: 0s - loss: 0.1062 - accuracy: 0.98 - ETA: 0s - loss: 0.1014 - accuracy: 0.99 - ETA: 0s - loss: 0.1046 - accuracy: 0.98 - ETA: 0s - loss: 0.0988 - accuracy: 0.98 - 1s 56ms/step - loss: 0.0988 - accuracy: 0.9880 - val_loss: 1.5062 - val_accuracy: 0.5179\n"
     ]
    },
    {
     "data": {
      "text/html": [
       "<span style=\"color:#4527A0\"><h1 style=\"font-size:18px\">Trial complete</h1></span>"
      ],
      "text/plain": [
       "<IPython.core.display.HTML object>"
      ]
     },
     "metadata": {},
     "output_type": "display_data"
    },
    {
     "data": {
      "text/html": [
       "<span style=\"color:#4527A0\"><h1 style=\"font-size:18px\">Trial summary</h1></span>"
      ],
      "text/plain": [
       "<IPython.core.display.HTML object>"
      ]
     },
     "metadata": {},
     "output_type": "display_data"
    },
    {
     "data": {
      "text/html": [
       "<span style=\"color:cyan\"> |-Trial ID: f7efa8672bb2f9cfcba3d1b7ed0f4ae0</span>"
      ],
      "text/plain": [
       "<IPython.core.display.HTML object>"
      ]
     },
     "metadata": {},
     "output_type": "display_data"
    },
    {
     "data": {
      "text/html": [
       "<span style=\"color:cyan\"> |-Score: 0.5595238208770752</span>"
      ],
      "text/plain": [
       "<IPython.core.display.HTML object>"
      ]
     },
     "metadata": {},
     "output_type": "display_data"
    },
    {
     "data": {
      "text/html": [
       "<span style=\"color:cyan\"> |-Best step: 8</span>"
      ],
      "text/plain": [
       "<IPython.core.display.HTML object>"
      ]
     },
     "metadata": {},
     "output_type": "display_data"
    },
    {
     "data": {
      "text/html": [
       "<span style=\"color:#7E57C2\"><h2 style=\"font-size:16px\">Hyperparameters:</h2></span>"
      ],
      "text/plain": [
       "<IPython.core.display.HTML object>"
      ]
     },
     "metadata": {},
     "output_type": "display_data"
    },
    {
     "data": {
      "text/html": [
       "<span style=\"color:cyan\"> |-classification_head_1/dropout: 0</span>"
      ],
      "text/plain": [
       "<IPython.core.display.HTML object>"
      ]
     },
     "metadata": {},
     "output_type": "display_data"
    },
    {
     "data": {
      "text/html": [
       "<span style=\"color:blue\"> |-learning_rate: 0.001</span>"
      ],
      "text/plain": [
       "<IPython.core.display.HTML object>"
      ]
     },
     "metadata": {},
     "output_type": "display_data"
    },
    {
     "data": {
      "text/html": [
       "<span style=\"color:cyan\"> |-optimizer: adam</span>"
      ],
      "text/plain": [
       "<IPython.core.display.HTML object>"
      ]
     },
     "metadata": {},
     "output_type": "display_data"
    },
    {
     "data": {
      "text/html": [
       "<span style=\"color:blue\"> |-structured_data_block_1/dense_block_1/dropout: 0.0</span>"
      ],
      "text/plain": [
       "<IPython.core.display.HTML object>"
      ]
     },
     "metadata": {},
     "output_type": "display_data"
    },
    {
     "data": {
      "text/html": [
       "<span style=\"color:cyan\"> |-structured_data_block_1/dense_block_1/num_layers: 2</span>"
      ],
      "text/plain": [
       "<IPython.core.display.HTML object>"
      ]
     },
     "metadata": {},
     "output_type": "display_data"
    },
    {
     "data": {
      "text/html": [
       "<span style=\"color:blue\"> |-structured_data_block_1/dense_block_1/units_0: 128</span>"
      ],
      "text/plain": [
       "<IPython.core.display.HTML object>"
      ]
     },
     "metadata": {},
     "output_type": "display_data"
    },
    {
     "data": {
      "text/html": [
       "<span style=\"color:cyan\"> |-structured_data_block_1/dense_block_1/units_1: 128</span>"
      ],
      "text/plain": [
       "<IPython.core.display.HTML object>"
      ]
     },
     "metadata": {},
     "output_type": "display_data"
    },
    {
     "data": {
      "text/html": [
       "<span style=\"color:blue\"> |-structured_data_block_1/dense_block_1/units_2: 256</span>"
      ],
      "text/plain": [
       "<IPython.core.display.HTML object>"
      ]
     },
     "metadata": {},
     "output_type": "display_data"
    },
    {
     "data": {
      "text/html": [
       "<span style=\"color:cyan\"> |-structured_data_block_1/dense_block_1/use_batchnorm: True</span>"
      ],
      "text/plain": [
       "<IPython.core.display.HTML object>"
      ]
     },
     "metadata": {},
     "output_type": "display_data"
    },
    {
     "data": {
      "text/html": [
       "<span style=\"color:#4527A0\"><h1 style=\"font-size:18px\">Starting new trial</h1></span>"
      ],
      "text/plain": [
       "<IPython.core.display.HTML object>"
      ]
     },
     "metadata": {},
     "output_type": "display_data"
    },
    {
     "name": "stdout",
     "output_type": "stream",
     "text": [
      "Epoch 1/1000\n",
      "26/26 [==============================] - ETA: 0s - loss: 1.8598 - accuracy: 0.21 - ETA: 0s - loss: 1.7041 - accuracy: 0.24 - ETA: 0s - loss: 1.6702 - accuracy: 0.26 - ETA: 0s - loss: 1.5799 - accuracy: 0.30 - ETA: 0s - loss: 1.5239 - accuracy: 0.31 - ETA: 0s - loss: 1.4900 - accuracy: 0.34 - ETA: 0s - loss: 1.4633 - accuracy: 0.35 - 6s 220ms/step - loss: 1.4377 - accuracy: 0.3630 - val_loss: 1.6641 - val_accuracy: 0.3512\n",
      "Epoch 2/1000\n",
      "26/26 [==============================] - ETA: 0s - loss: 0.9997 - accuracy: 0.62 - ETA: 0s - loss: 1.1481 - accuracy: 0.51 - ETA: 0s - loss: 1.1451 - accuracy: 0.48 - ETA: 0s - loss: 1.1521 - accuracy: 0.50 - ETA: 0s - loss: 1.1251 - accuracy: 0.51 - ETA: 0s - loss: 1.1232 - accuracy: 0.51 - ETA: 0s - loss: 1.1256 - accuracy: 0.51 - 1s 48ms/step - loss: 1.1132 - accuracy: 0.5252 - val_loss: 1.2314 - val_accuracy: 0.3810\n",
      "Epoch 3/1000\n",
      "26/26 [==============================] - ETA: 0s - loss: 1.2001 - accuracy: 0.59 - ETA: 0s - loss: 1.1345 - accuracy: 0.51 - ETA: 0s - loss: 1.0808 - accuracy: 0.53 - ETA: 0s - loss: 1.0738 - accuracy: 0.53 - ETA: 0s - loss: 1.0582 - accuracy: 0.53 - ETA: 0s - loss: 1.0721 - accuracy: 0.54 - ETA: 0s - loss: 1.0804 - accuracy: 0.53 - ETA: 0s - loss: 1.0522 - accuracy: 0.55 - 1s 48ms/step - loss: 1.0522 - accuracy: 0.5517 - val_loss: 1.1560 - val_accuracy: 0.4643\n",
      "Epoch 4/1000\n",
      "26/26 [==============================] - ETA: 0s - loss: 0.8884 - accuracy: 0.62 - ETA: 0s - loss: 1.0402 - accuracy: 0.55 - ETA: 0s - loss: 1.0391 - accuracy: 0.54 - ETA: 0s - loss: 1.0307 - accuracy: 0.57 - ETA: 0s - loss: 1.0280 - accuracy: 0.57 - ETA: 0s - loss: 1.0149 - accuracy: 0.58 - ETA: 0s - loss: 1.0161 - accuracy: 0.58 - 1s 56ms/step - loss: 1.0027 - accuracy: 0.5877 - val_loss: 1.1176 - val_accuracy: 0.4345\n",
      "Epoch 5/1000\n",
      "26/26 [==============================] - ETA: 0s - loss: 0.8832 - accuracy: 0.68 - ETA: 0s - loss: 0.9990 - accuracy: 0.55 - ETA: 0s - loss: 0.9166 - accuracy: 0.60 - ETA: 0s - loss: 0.9320 - accuracy: 0.60 - ETA: 0s - loss: 0.9201 - accuracy: 0.60 - ETA: 0s - loss: 0.9032 - accuracy: 0.61 - ETA: 0s - loss: 0.9184 - accuracy: 0.61 - 1s 50ms/step - loss: 0.9117 - accuracy: 0.6190 - val_loss: 1.2256 - val_accuracy: 0.4702\n",
      "Epoch 6/1000\n",
      "26/26 [==============================] - ETA: 0s - loss: 0.7661 - accuracy: 0.65 - ETA: 0s - loss: 0.9113 - accuracy: 0.65 - ETA: 0s - loss: 0.8743 - accuracy: 0.66 - ETA: 0s - loss: 0.8463 - accuracy: 0.68 - ETA: 0s - loss: 0.8398 - accuracy: 0.68 - ETA: 0s - loss: 0.8343 - accuracy: 0.68 - ETA: 0s - loss: 0.8468 - accuracy: 0.66 - 1s 54ms/step - loss: 0.8412 - accuracy: 0.6695 - val_loss: 1.0634 - val_accuracy: 0.5238\n",
      "Epoch 7/1000\n",
      "26/26 [==============================] - ETA: 0s - loss: 0.8090 - accuracy: 0.65 - ETA: 0s - loss: 0.8826 - accuracy: 0.63 - ETA: 0s - loss: 0.8587 - accuracy: 0.65 - ETA: 0s - loss: 0.7750 - accuracy: 0.70 - ETA: 0s - loss: 0.7833 - accuracy: 0.68 - ETA: 0s - loss: 0.7905 - accuracy: 0.68 - ETA: 0s - loss: 0.7924 - accuracy: 0.68 - ETA: 0s - loss: 0.7918 - accuracy: 0.69 - ETA: 0s - loss: 0.7959 - accuracy: 0.68 - 1s 54ms/step - loss: 0.7845 - accuracy: 0.6875 - val_loss: 1.1759 - val_accuracy: 0.5179\n",
      "Epoch 8/1000\n",
      "26/26 [==============================] - ETA: 0s - loss: 0.5683 - accuracy: 0.78 - ETA: 0s - loss: 0.7920 - accuracy: 0.69 - ETA: 0s - loss: 0.7558 - accuracy: 0.69 - ETA: 0s - loss: 0.7583 - accuracy: 0.69 - ETA: 0s - loss: 0.7573 - accuracy: 0.69 - ETA: 0s - loss: 0.7528 - accuracy: 0.69 - ETA: 0s - loss: 0.7616 - accuracy: 0.69 - 1s 50ms/step - loss: 0.7461 - accuracy: 0.7043 - val_loss: 1.0966 - val_accuracy: 0.5417\n",
      "Epoch 9/1000\n",
      "26/26 [==============================] - ETA: 0s - loss: 0.5509 - accuracy: 0.81 - ETA: 0s - loss: 0.7758 - accuracy: 0.68 - ETA: 0s - loss: 0.7002 - accuracy: 0.73 - ETA: 0s - loss: 0.7072 - accuracy: 0.72 - ETA: 0s - loss: 0.7055 - accuracy: 0.72 - ETA: 0s - loss: 0.7058 - accuracy: 0.71 - ETA: 0s - loss: 0.6977 - accuracy: 0.71 - 1s 55ms/step - loss: 0.6877 - accuracy: 0.7236 - val_loss: 1.0853 - val_accuracy: 0.5476\n",
      "Epoch 10/1000\n",
      "26/26 [==============================] - ETA: 0s - loss: 0.6816 - accuracy: 0.78 - ETA: 0s - loss: 0.7182 - accuracy: 0.74 - ETA: 0s - loss: 0.6494 - accuracy: 0.79 - ETA: 0s - loss: 0.6382 - accuracy: 0.78 - ETA: 0s - loss: 0.6401 - accuracy: 0.77 - ETA: 0s - loss: 0.6378 - accuracy: 0.77 - ETA: 0s - loss: 0.6342 - accuracy: 0.77 - 2s 58ms/step - loss: 0.6245 - accuracy: 0.7764 - val_loss: 1.0999 - val_accuracy: 0.5714\n",
      "Epoch 11/1000\n",
      "26/26 [==============================] - ETA: 0s - loss: 0.6307 - accuracy: 0.75 - ETA: 0s - loss: 0.8192 - accuracy: 0.69 - ETA: 0s - loss: 0.6963 - accuracy: 0.76 - ETA: 0s - loss: 0.6527 - accuracy: 0.78 - ETA: 0s - loss: 0.6664 - accuracy: 0.76 - ETA: 0s - loss: 0.6606 - accuracy: 0.77 - ETA: 0s - loss: 0.6469 - accuracy: 0.76 - 1s 44ms/step - loss: 0.6318 - accuracy: 0.7704 - val_loss: 1.0998 - val_accuracy: 0.5714\n",
      "Epoch 12/1000\n",
      "26/26 [==============================] - ETA: 0s - loss: 0.5356 - accuracy: 0.84 - ETA: 0s - loss: 0.6239 - accuracy: 0.79 - ETA: 0s - loss: 0.5625 - accuracy: 0.82 - ETA: 0s - loss: 0.5559 - accuracy: 0.80 - ETA: 0s - loss: 0.5438 - accuracy: 0.81 - ETA: 0s - loss: 0.5430 - accuracy: 0.80 - ETA: 0s - loss: 0.5424 - accuracy: 0.80 - 1s 47ms/step - loss: 0.5315 - accuracy: 0.8077 - val_loss: 1.1206 - val_accuracy: 0.5298\n",
      "Epoch 13/1000\n",
      "26/26 [==============================] - ETA: 0s - loss: 0.4475 - accuracy: 0.84 - ETA: 0s - loss: 0.5787 - accuracy: 0.80 - ETA: 0s - loss: 0.5289 - accuracy: 0.85 - ETA: 0s - loss: 0.5117 - accuracy: 0.84 - ETA: 0s - loss: 0.5055 - accuracy: 0.84 - ETA: 0s - loss: 0.4993 - accuracy: 0.83 - ETA: 0s - loss: 0.5080 - accuracy: 0.83 - 1s 50ms/step - loss: 0.4938 - accuracy: 0.8389 - val_loss: 1.1799 - val_accuracy: 0.5060\n",
      "Epoch 14/1000\n",
      "26/26 [==============================] - ETA: 0s - loss: 0.4555 - accuracy: 0.81 - ETA: 0s - loss: 0.5038 - accuracy: 0.78 - ETA: 0s - loss: 0.4769 - accuracy: 0.82 - ETA: 0s - loss: 0.4720 - accuracy: 0.82 - ETA: 0s - loss: 0.4697 - accuracy: 0.83 - ETA: 0s - loss: 0.4652 - accuracy: 0.83 - ETA: 0s - loss: 0.4737 - accuracy: 0.82 - 1s 53ms/step - loss: 0.4672 - accuracy: 0.8245 - val_loss: 1.2438 - val_accuracy: 0.5179\n",
      "Epoch 15/1000\n",
      "26/26 [==============================] - ETA: 0s - loss: 0.5589 - accuracy: 0.78 - ETA: 0s - loss: 0.5896 - accuracy: 0.78 - ETA: 0s - loss: 0.5542 - accuracy: 0.77 - ETA: 0s - loss: 0.4688 - accuracy: 0.82 - ETA: 0s - loss: 0.4597 - accuracy: 0.82 - ETA: 0s - loss: 0.4663 - accuracy: 0.82 - ETA: 0s - loss: 0.4715 - accuracy: 0.81 - ETA: 0s - loss: 0.4553 - accuracy: 0.82 - 2s 58ms/step - loss: 0.4457 - accuracy: 0.8341 - val_loss: 1.2945 - val_accuracy: 0.5000\n",
      "Epoch 16/1000\n",
      "26/26 [==============================] - ETA: 0s - loss: 0.3202 - accuracy: 0.90 - ETA: 0s - loss: 0.4440 - accuracy: 0.83 - ETA: 0s - loss: 0.3946 - accuracy: 0.86 - ETA: 0s - loss: 0.3901 - accuracy: 0.86 - ETA: 0s - loss: 0.4047 - accuracy: 0.85 - ETA: 0s - loss: 0.4057 - accuracy: 0.85 - ETA: 0s - loss: 0.4069 - accuracy: 0.85 - 2s 65ms/step - loss: 0.3975 - accuracy: 0.8630 - val_loss: 1.3401 - val_accuracy: 0.4940\n"
     ]
    },
    {
     "data": {
      "text/html": [
       "<span style=\"color:#4527A0\"><h1 style=\"font-size:18px\">Trial complete</h1></span>"
      ],
      "text/plain": [
       "<IPython.core.display.HTML object>"
      ]
     },
     "metadata": {},
     "output_type": "display_data"
    },
    {
     "data": {
      "text/html": [
       "<span style=\"color:#4527A0\"><h1 style=\"font-size:18px\">Trial summary</h1></span>"
      ],
      "text/plain": [
       "<IPython.core.display.HTML object>"
      ]
     },
     "metadata": {},
     "output_type": "display_data"
    },
    {
     "data": {
      "text/html": [
       "<span style=\"color:cyan\"> |-Trial ID: d9a0667bfd9affe56dc5c95b78690195</span>"
      ],
      "text/plain": [
       "<IPython.core.display.HTML object>"
      ]
     },
     "metadata": {},
     "output_type": "display_data"
    },
    {
     "data": {
      "text/html": [
       "<span style=\"color:cyan\"> |-Score: 0.5714285969734192</span>"
      ],
      "text/plain": [
       "<IPython.core.display.HTML object>"
      ]
     },
     "metadata": {},
     "output_type": "display_data"
    },
    {
     "data": {
      "text/html": [
       "<span style=\"color:cyan\"> |-Best step: 9</span>"
      ],
      "text/plain": [
       "<IPython.core.display.HTML object>"
      ]
     },
     "metadata": {},
     "output_type": "display_data"
    },
    {
     "data": {
      "text/html": [
       "<span style=\"color:#7E57C2\"><h2 style=\"font-size:16px\">Hyperparameters:</h2></span>"
      ],
      "text/plain": [
       "<IPython.core.display.HTML object>"
      ]
     },
     "metadata": {},
     "output_type": "display_data"
    },
    {
     "data": {
      "text/html": [
       "<span style=\"color:cyan\"> |-classification_head_1/dropout: 0</span>"
      ],
      "text/plain": [
       "<IPython.core.display.HTML object>"
      ]
     },
     "metadata": {},
     "output_type": "display_data"
    },
    {
     "data": {
      "text/html": [
       "<span style=\"color:blue\"> |-learning_rate: 0.001</span>"
      ],
      "text/plain": [
       "<IPython.core.display.HTML object>"
      ]
     },
     "metadata": {},
     "output_type": "display_data"
    },
    {
     "data": {
      "text/html": [
       "<span style=\"color:cyan\"> |-optimizer: adam</span>"
      ],
      "text/plain": [
       "<IPython.core.display.HTML object>"
      ]
     },
     "metadata": {},
     "output_type": "display_data"
    },
    {
     "data": {
      "text/html": [
       "<span style=\"color:blue\"> |-structured_data_block_1/dense_block_1/dropout: 0.25</span>"
      ],
      "text/plain": [
       "<IPython.core.display.HTML object>"
      ]
     },
     "metadata": {},
     "output_type": "display_data"
    },
    {
     "data": {
      "text/html": [
       "<span style=\"color:cyan\"> |-structured_data_block_1/dense_block_1/num_layers: 3</span>"
      ],
      "text/plain": [
       "<IPython.core.display.HTML object>"
      ]
     },
     "metadata": {},
     "output_type": "display_data"
    },
    {
     "data": {
      "text/html": [
       "<span style=\"color:blue\"> |-structured_data_block_1/dense_block_1/units_0: 512</span>"
      ],
      "text/plain": [
       "<IPython.core.display.HTML object>"
      ]
     },
     "metadata": {},
     "output_type": "display_data"
    },
    {
     "data": {
      "text/html": [
       "<span style=\"color:cyan\"> |-structured_data_block_1/dense_block_1/units_1: 256</span>"
      ],
      "text/plain": [
       "<IPython.core.display.HTML object>"
      ]
     },
     "metadata": {},
     "output_type": "display_data"
    },
    {
     "data": {
      "text/html": [
       "<span style=\"color:blue\"> |-structured_data_block_1/dense_block_1/units_2: 64</span>"
      ],
      "text/plain": [
       "<IPython.core.display.HTML object>"
      ]
     },
     "metadata": {},
     "output_type": "display_data"
    },
    {
     "data": {
      "text/html": [
       "<span style=\"color:cyan\"> |-structured_data_block_1/dense_block_1/use_batchnorm: True</span>"
      ],
      "text/plain": [
       "<IPython.core.display.HTML object>"
      ]
     },
     "metadata": {},
     "output_type": "display_data"
    },
    {
     "data": {
      "text/html": [
       "<span style=\"color:#4527A0\"><h1 style=\"font-size:18px\">Starting new trial</h1></span>"
      ],
      "text/plain": [
       "<IPython.core.display.HTML object>"
      ]
     },
     "metadata": {},
     "output_type": "display_data"
    },
    {
     "name": "stdout",
     "output_type": "stream",
     "text": [
      "Epoch 1/1000\n",
      "26/26 [==============================] - ETA: 0s - loss: 1022.0332 - accuracy: 0.281 - ETA: 0s - loss: 1210.5312 - accuracy: 0.286 - ETA: 0s - loss: 1059.7617 - accuracy: 0.304 - ETA: 0s - loss: 997.5031 - accuracy: 0.289 - ETA: 0s - loss: 1003.1481 - accuracy: 0.303 - ETA: 0s - loss: 950.9604 - accuracy: 0.296 - 6s 219ms/step - loss: 950.9604 - accuracy: 0.2969 - val_loss: 248.5474 - val_accuracy: 0.3333\n",
      "Epoch 2/1000\n",
      "26/26 [==============================] - ETA: 0s - loss: 539.0930 - accuracy: 0.31 - ETA: 0s - loss: 468.5183 - accuracy: 0.33 - ETA: 0s - loss: 449.1798 - accuracy: 0.33 - ETA: 0s - loss: 415.3257 - accuracy: 0.33 - ETA: 0s - loss: 394.2991 - accuracy: 0.35 - ETA: 0s - loss: 371.2035 - accuracy: 0.36 - 1s 44ms/step - loss: 371.2035 - accuracy: 0.3642 - val_loss: 121.0303 - val_accuracy: 0.4286\n",
      "Epoch 3/1000\n",
      "26/26 [==============================] - ETA: 0s - loss: 228.0053 - accuracy: 0.40 - ETA: 0s - loss: 363.7159 - accuracy: 0.37 - ETA: 0s - loss: 308.1570 - accuracy: 0.37 - ETA: 0s - loss: 284.3736 - accuracy: 0.36 - ETA: 0s - loss: 272.5860 - accuracy: 0.36 - ETA: 0s - loss: 260.9222 - accuracy: 0.35 - 1s 55ms/step - loss: 260.9222 - accuracy: 0.3570 - val_loss: 106.1283 - val_accuracy: 0.4345\n",
      "Epoch 4/1000\n",
      "26/26 [==============================] - ETA: 0s - loss: 117.9430 - accuracy: 0.40 - ETA: 0s - loss: 118.9425 - accuracy: 0.43 - ETA: 0s - loss: 106.3665 - accuracy: 0.47 - ETA: 0s - loss: 108.6024 - accuracy: 0.45 - ETA: 0s - loss: 109.1667 - accuracy: 0.42 - ETA: 0s - loss: 103.3305 - accuracy: 0.42 - 1s 51ms/step - loss: 103.3305 - accuracy: 0.4219 - val_loss: 72.6202 - val_accuracy: 0.4167\n",
      "Epoch 5/1000\n",
      "26/26 [==============================] - ETA: 0s - loss: 77.0534 - accuracy: 0.593 - ETA: 0s - loss: 153.6778 - accuracy: 0.40 - ETA: 0s - loss: 109.6328 - accuracy: 0.42 - ETA: 0s - loss: 95.1857 - accuracy: 0.4336 - ETA: 0s - loss: 91.0653 - accuracy: 0.425 - ETA: 0s - loss: 81.7925 - accuracy: 0.424 - 2s 61ms/step - loss: 81.7925 - accuracy: 0.4243 - val_loss: 42.4440 - val_accuracy: 0.4107\n",
      "Epoch 6/1000\n",
      "26/26 [==============================] - ETA: 0s - loss: 46.5604 - accuracy: 0.406 - ETA: 0s - loss: 47.0428 - accuracy: 0.416 - ETA: 0s - loss: 40.9663 - accuracy: 0.440 - ETA: 0s - loss: 44.3218 - accuracy: 0.429 - ETA: 0s - loss: 39.0742 - accuracy: 0.437 - ETA: 0s - loss: 36.9074 - accuracy: 0.427 - 1s 53ms/step - loss: 36.9074 - accuracy: 0.4279 - val_loss: 47.5531 - val_accuracy: 0.3810\n",
      "Epoch 7/1000\n",
      "26/26 [==============================] - ETA: 0s - loss: 80.7237 - accuracy: 0.375 - ETA: 0s - loss: 37.6700 - accuracy: 0.359 - ETA: 0s - loss: 27.8469 - accuracy: 0.428 - ETA: 0s - loss: 24.1524 - accuracy: 0.415 - ETA: 0s - loss: 24.3428 - accuracy: 0.402 - ETA: 0s - loss: 24.9685 - accuracy: 0.403 - 1s 51ms/step - loss: 24.0103 - accuracy: 0.4050 - val_loss: 21.0527 - val_accuracy: 0.4107\n",
      "Epoch 8/1000\n",
      "26/26 [==============================] - ETA: 0s - loss: 6.3199 - accuracy: 0.43 - ETA: 0s - loss: 9.2899 - accuracy: 0.36 - ETA: 0s - loss: 12.6756 - accuracy: 0.409 - ETA: 0s - loss: 12.2240 - accuracy: 0.396 - ETA: 0s - loss: 14.5640 - accuracy: 0.395 - ETA: 0s - loss: 13.3240 - accuracy: 0.391 - 1s 47ms/step - loss: 13.3240 - accuracy: 0.3918 - val_loss: 21.4984 - val_accuracy: 0.3869\n",
      "Epoch 9/1000\n",
      "26/26 [==============================] - ETA: 0s - loss: 2.8810 - accuracy: 0.50 - ETA: 0s - loss: 11.1051 - accuracy: 0.375 - ETA: 0s - loss: 8.4188 - accuracy: 0.409 - ETA: 0s - loss: 9.2401 - accuracy: 0.38 - ETA: 0s - loss: 10.2512 - accuracy: 0.400 - ETA: 0s - loss: 11.4749 - accuracy: 0.391 - 1s 52ms/step - loss: 11.4749 - accuracy: 0.3918 - val_loss: 16.4068 - val_accuracy: 0.3393\n",
      "Epoch 10/1000\n",
      "26/26 [==============================] - ETA: 0s - loss: 4.4513 - accuracy: 0.43 - ETA: 0s - loss: 6.2169 - accuracy: 0.33 - ETA: 0s - loss: 8.0267 - accuracy: 0.37 - ETA: 0s - loss: 6.9784 - accuracy: 0.37 - ETA: 0s - loss: 6.3346 - accuracy: 0.38 - ETA: 0s - loss: 6.8293 - accuracy: 0.37 - 1s 50ms/step - loss: 6.8293 - accuracy: 0.3798 - val_loss: 15.3142 - val_accuracy: 0.3393\n",
      "Epoch 11/1000\n",
      "26/26 [==============================] - ETA: 0s - loss: 2.9739 - accuracy: 0.37 - ETA: 0s - loss: 11.3530 - accuracy: 0.312 - ETA: 0s - loss: 8.1821 - accuracy: 0.337 - ETA: 0s - loss: 7.2425 - accuracy: 0.34 - ETA: 0s - loss: 9.9571 - accuracy: 0.36 - ETA: 0s - loss: 9.3492 - accuracy: 0.37 - 1s 56ms/step - loss: 9.2481 - accuracy: 0.3618 - val_loss: 9.2600 - val_accuracy: 0.3333\n",
      "Epoch 12/1000\n",
      "26/26 [==============================] - ETA: 0s - loss: 9.3852 - accuracy: 0.37 - ETA: 0s - loss: 7.7199 - accuracy: 0.35 - ETA: 0s - loss: 6.8243 - accuracy: 0.34 - ETA: 0s - loss: 7.4608 - accuracy: 0.34 - ETA: 0s - loss: 7.4774 - accuracy: 0.33 - ETA: 0s - loss: 6.8050 - accuracy: 0.34 - 1s 40ms/step - loss: 6.8050 - accuracy: 0.3486 - val_loss: 9.0529 - val_accuracy: 0.3333\n",
      "Epoch 13/1000\n",
      "26/26 [==============================] - ETA: 0s - loss: 1.5542 - accuracy: 0.31 - ETA: 0s - loss: 6.9852 - accuracy: 0.32 - ETA: 0s - loss: 7.5613 - accuracy: 0.31 - ETA: 0s - loss: 6.0677 - accuracy: 0.34 - ETA: 0s - loss: 5.2161 - accuracy: 0.35 - ETA: 0s - loss: 5.1069 - accuracy: 0.35 - 1s 39ms/step - loss: 5.1069 - accuracy: 0.3510 - val_loss: 8.9546 - val_accuracy: 0.3690\n",
      "Epoch 14/1000\n",
      "26/26 [==============================] - ETA: 0s - loss: 3.8326 - accuracy: 0.28 - ETA: 0s - loss: 2.7252 - accuracy: 0.37 - ETA: 0s - loss: 3.1622 - accuracy: 0.38 - ETA: 0s - loss: 3.0789 - accuracy: 0.38 - ETA: 0s - loss: 2.9000 - accuracy: 0.37 - ETA: 0s - loss: 2.9363 - accuracy: 0.37 - 1s 37ms/step - loss: 2.9363 - accuracy: 0.3774 - val_loss: 7.1222 - val_accuracy: 0.3631\n",
      "Epoch 15/1000\n",
      "26/26 [==============================] - ETA: 0s - loss: 11.5934 - accuracy: 0.343 - ETA: 0s - loss: 3.2443 - accuracy: 0.411 - ETA: 0s - loss: 3.6619 - accuracy: 0.40 - ETA: 0s - loss: 3.2524 - accuracy: 0.39 - ETA: 0s - loss: 3.8286 - accuracy: 0.38 - ETA: 0s - loss: 5.6010 - accuracy: 0.39 - 1s 38ms/step - loss: 5.6010 - accuracy: 0.3990 - val_loss: 7.2549 - val_accuracy: 0.3333\n",
      "Epoch 16/1000\n",
      "26/26 [==============================] - ETA: 0s - loss: 1.5236 - accuracy: 0.40 - ETA: 0s - loss: 7.9772 - accuracy: 0.39 - ETA: 0s - loss: 5.7055 - accuracy: 0.37 - ETA: 0s - loss: 4.5954 - accuracy: 0.38 - ETA: 0s - loss: 4.7108 - accuracy: 0.38 - 1s 33ms/step - loss: 4.1874 - accuracy: 0.3942 - val_loss: 5.8956 - val_accuracy: 0.3512\n",
      "Epoch 17/1000\n",
      "26/26 [==============================] - ETA: 0s - loss: 1.8695 - accuracy: 0.40 - ETA: 0s - loss: 2.7979 - accuracy: 0.41 - ETA: 0s - loss: 4.4356 - accuracy: 0.41 - ETA: 0s - loss: 3.6798 - accuracy: 0.40 - ETA: 0s - loss: 4.3872 - accuracy: 0.39 - ETA: 0s - loss: 4.0317 - accuracy: 0.39 - 1s 44ms/step - loss: 4.0317 - accuracy: 0.3930 - val_loss: 6.4468 - val_accuracy: 0.3214\n",
      "Epoch 18/1000\n",
      "26/26 [==============================] - ETA: 0s - loss: 2.1469 - accuracy: 0.34 - ETA: 0s - loss: 3.3522 - accuracy: 0.42 - ETA: 0s - loss: 3.4616 - accuracy: 0.40 - ETA: 0s - loss: 2.9323 - accuracy: 0.39 - ETA: 0s - loss: 2.6139 - accuracy: 0.38 - ETA: 0s - loss: 2.6164 - accuracy: 0.39 - 1s 51ms/step - loss: 2.6164 - accuracy: 0.3906 - val_loss: 8.7359 - val_accuracy: 0.3214\n",
      "Epoch 19/1000\n",
      "26/26 [==============================] - ETA: 0s - loss: 3.3056 - accuracy: 0.40 - ETA: 0s - loss: 2.3081 - accuracy: 0.41 - ETA: 0s - loss: 2.4185 - accuracy: 0.40 - ETA: 0s - loss: 3.9316 - accuracy: 0.38 - ETA: 0s - loss: 5.0018 - accuracy: 0.37 - ETA: 0s - loss: 4.6414 - accuracy: 0.37 - 1s 43ms/step - loss: 4.6414 - accuracy: 0.3774 - val_loss: 6.8143 - val_accuracy: 0.3274\n",
      "Epoch 20/1000\n",
      "26/26 [==============================] - ETA: 0s - loss: 4.9393 - accuracy: 0.37 - ETA: 0s - loss: 4.8898 - accuracy: 0.40 - ETA: 0s - loss: 3.3798 - accuracy: 0.39 - ETA: 0s - loss: 3.7765 - accuracy: 0.38 - ETA: 0s - loss: 3.5249 - accuracy: 0.38 - ETA: 0s - loss: 3.1538 - accuracy: 0.39 - 1s 46ms/step - loss: 3.1538 - accuracy: 0.3918 - val_loss: 3.8400 - val_accuracy: 0.3274\n",
      "Epoch 21/1000\n"
     ]
    },
    {
     "name": "stdout",
     "output_type": "stream",
     "text": [
      "26/26 [==============================] - ETA: 0s - loss: 1.0281 - accuracy: 0.46 - ETA: 0s - loss: 2.7397 - accuracy: 0.40 - ETA: 0s - loss: 2.8214 - accuracy: 0.39 - ETA: 0s - loss: 2.3848 - accuracy: 0.38 - ETA: 0s - loss: 3.3446 - accuracy: 0.38 - ETA: 0s - loss: 3.0597 - accuracy: 0.39 - 1s 42ms/step - loss: 3.0597 - accuracy: 0.3918 - val_loss: 2.8581 - val_accuracy: 0.3333\n",
      "Epoch 22/1000\n",
      "26/26 [==============================] - ETA: 0s - loss: 3.8001 - accuracy: 0.37 - ETA: 0s - loss: 1.7587 - accuracy: 0.40 - ETA: 0s - loss: 1.7570 - accuracy: 0.39 - ETA: 0s - loss: 1.5987 - accuracy: 0.38 - ETA: 0s - loss: 4.5684 - accuracy: 0.37 - ETA: 0s - loss: 4.0090 - accuracy: 0.37 - 1s 42ms/step - loss: 4.0090 - accuracy: 0.3786 - val_loss: 3.0109 - val_accuracy: 0.3333\n",
      "Epoch 23/1000\n",
      "26/26 [==============================] - ETA: 0s - loss: 1.1011 - accuracy: 0.37 - ETA: 0s - loss: 1.4338 - accuracy: 0.40 - ETA: 0s - loss: 1.5341 - accuracy: 0.39 - ETA: 0s - loss: 1.7918 - accuracy: 0.38 - ETA: 0s - loss: 1.6881 - accuracy: 0.37 - ETA: 0s - loss: 1.6203 - accuracy: 0.38 - 1s 52ms/step - loss: 1.6203 - accuracy: 0.3858 - val_loss: 2.6872 - val_accuracy: 0.3393\n",
      "Epoch 24/1000\n",
      "26/26 [==============================] - ETA: 0s - loss: 5.0996 - accuracy: 0.25 - ETA: 0s - loss: 3.0048 - accuracy: 0.36 - ETA: 0s - loss: 2.4789 - accuracy: 0.37 - ETA: 0s - loss: 2.1061 - accuracy: 0.36 - ETA: 0s - loss: 1.9587 - accuracy: 0.36 - ETA: 0s - loss: 1.8271 - accuracy: 0.37 - 1s 34ms/step - loss: 1.8271 - accuracy: 0.3750 - val_loss: 2.6616 - val_accuracy: 0.3393\n",
      "Epoch 25/1000\n",
      "26/26 [==============================] - ETA: 0s - loss: 1.1070 - accuracy: 0.37 - ETA: 0s - loss: 1.2091 - accuracy: 0.40 - ETA: 0s - loss: 2.3065 - accuracy: 0.39 - ETA: 0s - loss: 2.0536 - accuracy: 0.37 - ETA: 0s - loss: 2.3148 - accuracy: 0.37 - ETA: 0s - loss: 2.0925 - accuracy: 0.37 - 1s 35ms/step - loss: 2.0026 - accuracy: 0.3750 - val_loss: 2.7759 - val_accuracy: 0.3452\n",
      "Epoch 26/1000\n",
      "26/26 [==============================] - ETA: 0s - loss: 1.1385 - accuracy: 0.34 - ETA: 0s - loss: 1.7885 - accuracy: 0.38 - ETA: 0s - loss: 1.6267 - accuracy: 0.38 - ETA: 0s - loss: 1.5229 - accuracy: 0.38 - ETA: 0s - loss: 1.7089 - accuracy: 0.37 - ETA: 0s - loss: 1.7441 - accuracy: 0.38 - 1s 37ms/step - loss: 1.7441 - accuracy: 0.3858 - val_loss: 3.7872 - val_accuracy: 0.3512\n",
      "Epoch 27/1000\n",
      "26/26 [==============================] - ETA: 0s - loss: 1.1359 - accuracy: 0.34 - ETA: 0s - loss: 3.0475 - accuracy: 0.37 - ETA: 0s - loss: 2.4974 - accuracy: 0.38 - ETA: 0s - loss: 2.1746 - accuracy: 0.36 - ETA: 0s - loss: 1.9798 - accuracy: 0.35 - ETA: 0s - loss: 1.8419 - accuracy: 0.36 - 1s 35ms/step - loss: 1.8419 - accuracy: 0.3678 - val_loss: 2.8985 - val_accuracy: 0.3333\n",
      "Epoch 28/1000\n",
      "26/26 [==============================] - ETA: 0s - loss: 4.5982 - accuracy: 0.28 - ETA: 0s - loss: 3.1988 - accuracy: 0.35 - ETA: 0s - loss: 3.3687 - accuracy: 0.35 - ETA: 0s - loss: 2.7180 - accuracy: 0.34 - ETA: 0s - loss: 2.3640 - accuracy: 0.34 - ETA: 0s - loss: 2.1561 - accuracy: 0.35 - 1s 48ms/step - loss: 2.1561 - accuracy: 0.3522 - val_loss: 3.5411 - val_accuracy: 0.3333\n",
      "Epoch 29/1000\n",
      "26/26 [==============================] - ETA: 0s - loss: 1.4334 - accuracy: 0.34 - ETA: 0s - loss: 1.3168 - accuracy: 0.38 - ETA: 0s - loss: 1.5072 - accuracy: 0.38 - ETA: 0s - loss: 1.4204 - accuracy: 0.37 - ETA: 0s - loss: 1.3863 - accuracy: 0.36 - ETA: 0s - loss: 1.3997 - accuracy: 0.36 - 1s 42ms/step - loss: 1.3997 - accuracy: 0.3690 - val_loss: 3.5083 - val_accuracy: 0.3274\n",
      "Epoch 30/1000\n",
      "26/26 [==============================] - ETA: 0s - loss: 1.6160 - accuracy: 0.28 - ETA: 0s - loss: 1.7106 - accuracy: 0.35 - ETA: 0s - loss: 1.5641 - accuracy: 0.34 - ETA: 0s - loss: 1.5124 - accuracy: 0.35 - ETA: 0s - loss: 1.4857 - accuracy: 0.35 - ETA: 0s - loss: 1.4387 - accuracy: 0.36 - 1s 43ms/step - loss: 1.4439 - accuracy: 0.3630 - val_loss: 3.4107 - val_accuracy: 0.3274\n",
      "Epoch 31/1000\n",
      "26/26 [==============================] - ETA: 0s - loss: 4.3807 - accuracy: 0.31 - ETA: 0s - loss: 1.8583 - accuracy: 0.38 - ETA: 0s - loss: 1.5626 - accuracy: 0.38 - ETA: 0s - loss: 1.5048 - accuracy: 0.36 - ETA: 0s - loss: 1.4357 - accuracy: 0.36 - ETA: 0s - loss: 1.4094 - accuracy: 0.36 - 1s 41ms/step - loss: 1.4094 - accuracy: 0.3690 - val_loss: 3.3501 - val_accuracy: 0.3274\n",
      "Epoch 32/1000\n",
      "26/26 [==============================] - ETA: 0s - loss: 1.1822 - accuracy: 0.34 - ETA: 0s - loss: 1.6330 - accuracy: 0.38 - ETA: 0s - loss: 1.5432 - accuracy: 0.38 - ETA: 0s - loss: 1.6056 - accuracy: 0.36 - ETA: 0s - loss: 1.5245 - accuracy: 0.36 - ETA: 0s - loss: 1.4799 - accuracy: 0.36 - 1s 55ms/step - loss: 1.4799 - accuracy: 0.3654 - val_loss: 3.3924 - val_accuracy: 0.3155\n",
      "Epoch 33/1000\n",
      "26/26 [==============================] - ETA: 0s - loss: 2.6244 - accuracy: 0.34 - ETA: 0s - loss: 1.4768 - accuracy: 0.40 - ETA: 0s - loss: 1.6269 - accuracy: 0.38 - ETA: 0s - loss: 1.4967 - accuracy: 0.37 - ETA: 0s - loss: 1.4481 - accuracy: 0.36 - ETA: 0s - loss: 1.4272 - accuracy: 0.36 - 1s 45ms/step - loss: 1.4272 - accuracy: 0.3690 - val_loss: 3.3401 - val_accuracy: 0.3155\n",
      "Epoch 34/1000\n",
      "26/26 [==============================] - ETA: 0s - loss: 1.7249 - accuracy: 0.25 - ETA: 0s - loss: 1.6635 - accuracy: 0.35 - ETA: 0s - loss: 1.5037 - accuracy: 0.36 - ETA: 0s - loss: 1.4185 - accuracy: 0.35 - ETA: 0s - loss: 1.4531 - accuracy: 0.34 - ETA: 0s - loss: 1.4710 - accuracy: 0.35 - 1s 55ms/step - loss: 1.4600 - accuracy: 0.3534 - val_loss: 3.4068 - val_accuracy: 0.3155\n"
     ]
    },
    {
     "data": {
      "text/html": [
       "<span style=\"color:#4527A0\"><h1 style=\"font-size:18px\">Trial complete</h1></span>"
      ],
      "text/plain": [
       "<IPython.core.display.HTML object>"
      ]
     },
     "metadata": {},
     "output_type": "display_data"
    },
    {
     "data": {
      "text/html": [
       "<span style=\"color:#4527A0\"><h1 style=\"font-size:18px\">Trial summary</h1></span>"
      ],
      "text/plain": [
       "<IPython.core.display.HTML object>"
      ]
     },
     "metadata": {},
     "output_type": "display_data"
    },
    {
     "data": {
      "text/html": [
       "<span style=\"color:cyan\"> |-Trial ID: a9e4d9cd5d57f162d3036358e06a801b</span>"
      ],
      "text/plain": [
       "<IPython.core.display.HTML object>"
      ]
     },
     "metadata": {},
     "output_type": "display_data"
    },
    {
     "data": {
      "text/html": [
       "<span style=\"color:cyan\"> |-Score: 0.4345238208770752</span>"
      ],
      "text/plain": [
       "<IPython.core.display.HTML object>"
      ]
     },
     "metadata": {},
     "output_type": "display_data"
    },
    {
     "data": {
      "text/html": [
       "<span style=\"color:cyan\"> |-Best step: 2</span>"
      ],
      "text/plain": [
       "<IPython.core.display.HTML object>"
      ]
     },
     "metadata": {},
     "output_type": "display_data"
    },
    {
     "data": {
      "text/html": [
       "<span style=\"color:#7E57C2\"><h2 style=\"font-size:16px\">Hyperparameters:</h2></span>"
      ],
      "text/plain": [
       "<IPython.core.display.HTML object>"
      ]
     },
     "metadata": {},
     "output_type": "display_data"
    },
    {
     "data": {
      "text/html": [
       "<span style=\"color:cyan\"> |-classification_head_1/dropout: 0</span>"
      ],
      "text/plain": [
       "<IPython.core.display.HTML object>"
      ]
     },
     "metadata": {},
     "output_type": "display_data"
    },
    {
     "data": {
      "text/html": [
       "<span style=\"color:blue\"> |-learning_rate: 0.001</span>"
      ],
      "text/plain": [
       "<IPython.core.display.HTML object>"
      ]
     },
     "metadata": {},
     "output_type": "display_data"
    },
    {
     "data": {
      "text/html": [
       "<span style=\"color:cyan\"> |-optimizer: adam</span>"
      ],
      "text/plain": [
       "<IPython.core.display.HTML object>"
      ]
     },
     "metadata": {},
     "output_type": "display_data"
    },
    {
     "data": {
      "text/html": [
       "<span style=\"color:blue\"> |-structured_data_block_1/dense_block_1/dropout: 0.25</span>"
      ],
      "text/plain": [
       "<IPython.core.display.HTML object>"
      ]
     },
     "metadata": {},
     "output_type": "display_data"
    },
    {
     "data": {
      "text/html": [
       "<span style=\"color:cyan\"> |-structured_data_block_1/dense_block_1/num_layers: 2</span>"
      ],
      "text/plain": [
       "<IPython.core.display.HTML object>"
      ]
     },
     "metadata": {},
     "output_type": "display_data"
    },
    {
     "data": {
      "text/html": [
       "<span style=\"color:blue\"> |-structured_data_block_1/dense_block_1/units_0: 128</span>"
      ],
      "text/plain": [
       "<IPython.core.display.HTML object>"
      ]
     },
     "metadata": {},
     "output_type": "display_data"
    },
    {
     "data": {
      "text/html": [
       "<span style=\"color:cyan\"> |-structured_data_block_1/dense_block_1/units_1: 512</span>"
      ],
      "text/plain": [
       "<IPython.core.display.HTML object>"
      ]
     },
     "metadata": {},
     "output_type": "display_data"
    },
    {
     "data": {
      "text/html": [
       "<span style=\"color:blue\"> |-structured_data_block_1/dense_block_1/units_2: 256</span>"
      ],
      "text/plain": [
       "<IPython.core.display.HTML object>"
      ]
     },
     "metadata": {},
     "output_type": "display_data"
    },
    {
     "data": {
      "text/html": [
       "<span style=\"color:cyan\"> |-structured_data_block_1/dense_block_1/use_batchnorm: False</span>"
      ],
      "text/plain": [
       "<IPython.core.display.HTML object>"
      ]
     },
     "metadata": {},
     "output_type": "display_data"
    },
    {
     "data": {
      "text/html": [
       "<span style=\"color:#4527A0\"><h1 style=\"font-size:18px\">Starting new trial</h1></span>"
      ],
      "text/plain": [
       "<IPython.core.display.HTML object>"
      ]
     },
     "metadata": {},
     "output_type": "display_data"
    },
    {
     "name": "stdout",
     "output_type": "stream",
     "text": [
      "Epoch 1/1000\n",
      "26/26 [==============================] - ETA: 0s - loss: 1.7734 - accuracy: 0.28 - ETA: 0s - loss: 1.4727 - accuracy: 0.33 - ETA: 0s - loss: 1.4305 - accuracy: 0.35 - ETA: 0s - loss: 1.4452 - accuracy: 0.35 - ETA: 0s - loss: 1.4370 - accuracy: 0.35 - ETA: 0s - loss: 1.4021 - accuracy: 0.37 - 6s 214ms/step - loss: 1.4021 - accuracy: 0.3738 - val_loss: 2.7125 - val_accuracy: 0.3036\n",
      "Epoch 2/1000\n",
      "26/26 [==============================] - ETA: 0s - loss: 1.0936 - accuracy: 0.46 - ETA: 0s - loss: 1.2777 - accuracy: 0.41 - ETA: 0s - loss: 1.2056 - accuracy: 0.46 - ETA: 0s - loss: 1.1632 - accuracy: 0.48 - ETA: 0s - loss: 1.1565 - accuracy: 0.47 - 1s 36ms/step - loss: 1.1434 - accuracy: 0.4880 - val_loss: 1.3602 - val_accuracy: 0.3810\n",
      "Epoch 3/1000\n",
      "26/26 [==============================] - ETA: 0s - loss: 0.9291 - accuracy: 0.68 - ETA: 0s - loss: 1.2130 - accuracy: 0.47 - ETA: 0s - loss: 1.1299 - accuracy: 0.49 - ETA: 0s - loss: 1.0882 - accuracy: 0.51 - ETA: 0s - loss: 1.0800 - accuracy: 0.51 - 1s 36ms/step - loss: 1.0681 - accuracy: 0.5228 - val_loss: 1.1523 - val_accuracy: 0.4286\n",
      "Epoch 4/1000\n",
      "26/26 [==============================] - ETA: 0s - loss: 1.0434 - accuracy: 0.56 - ETA: 0s - loss: 1.1828 - accuracy: 0.44 - ETA: 0s - loss: 1.0645 - accuracy: 0.50 - ETA: 0s - loss: 1.0510 - accuracy: 0.52 - ETA: 0s - loss: 1.0294 - accuracy: 0.52 - 1s 53ms/step - loss: 1.0114 - accuracy: 0.5421 - val_loss: 1.1115 - val_accuracy: 0.4702\n",
      "Epoch 5/1000\n",
      "26/26 [==============================] - ETA: 0s - loss: 0.9248 - accuracy: 0.59 - ETA: 0s - loss: 1.0444 - accuracy: 0.56 - ETA: 0s - loss: 0.9726 - accuracy: 0.59 - ETA: 0s - loss: 0.9487 - accuracy: 0.60 - ETA: 0s - loss: 0.9492 - accuracy: 0.60 - 1s 47ms/step - loss: 0.9300 - accuracy: 0.6118 - val_loss: 1.0649 - val_accuracy: 0.5119\n",
      "Epoch 6/1000\n",
      "26/26 [==============================] - ETA: 0s - loss: 0.9349 - accuracy: 0.53 - ETA: 0s - loss: 1.0024 - accuracy: 0.55 - ETA: 0s - loss: 0.9308 - accuracy: 0.60 - ETA: 0s - loss: 0.9235 - accuracy: 0.61 - ETA: 0s - loss: 0.9248 - accuracy: 0.60 - 1s 41ms/step - loss: 0.9253 - accuracy: 0.6082 - val_loss: 1.1405 - val_accuracy: 0.5000\n",
      "Epoch 7/1000\n",
      "26/26 [==============================] - ETA: 0s - loss: 0.8783 - accuracy: 0.65 - ETA: 0s - loss: 0.9554 - accuracy: 0.63 - ETA: 0s - loss: 0.8955 - accuracy: 0.64 - ETA: 0s - loss: 0.9146 - accuracy: 0.62 - ETA: 0s - loss: 0.9150 - accuracy: 0.62 - 1s 42ms/step - loss: 0.9054 - accuracy: 0.6274 - val_loss: 1.0801 - val_accuracy: 0.5179\n",
      "Epoch 8/1000\n",
      "26/26 [==============================] - ETA: 0s - loss: 0.9297 - accuracy: 0.62 - ETA: 0s - loss: 0.8943 - accuracy: 0.64 - ETA: 0s - loss: 0.8513 - accuracy: 0.64 - ETA: 0s - loss: 0.8449 - accuracy: 0.65 - ETA: 0s - loss: 0.8574 - accuracy: 0.64 - 1s 38ms/step - loss: 0.8400 - accuracy: 0.6575 - val_loss: 1.1155 - val_accuracy: 0.5238\n",
      "Epoch 9/1000\n",
      "26/26 [==============================] - ETA: 0s - loss: 0.8758 - accuracy: 0.56 - ETA: 0s - loss: 0.9121 - accuracy: 0.59 - ETA: 0s - loss: 0.8284 - accuracy: 0.65 - ETA: 0s - loss: 0.8275 - accuracy: 0.64 - ETA: 0s - loss: 0.8199 - accuracy: 0.64 - 1s 44ms/step - loss: 0.8089 - accuracy: 0.6538 - val_loss: 1.2162 - val_accuracy: 0.4940\n",
      "Epoch 10/1000\n",
      "26/26 [==============================] - ETA: 0s - loss: 0.7821 - accuracy: 0.68 - ETA: 0s - loss: 0.9151 - accuracy: 0.65 - ETA: 0s - loss: 0.8291 - accuracy: 0.69 - ETA: 0s - loss: 0.8084 - accuracy: 0.68 - ETA: 0s - loss: 0.7888 - accuracy: 0.69 - ETA: 0s - loss: 0.7702 - accuracy: 0.69 - 1s 57ms/step - loss: 0.7702 - accuracy: 0.6995 - val_loss: 1.2209 - val_accuracy: 0.4643\n",
      "Epoch 11/1000\n",
      "26/26 [==============================] - ETA: 0s - loss: 0.8950 - accuracy: 0.62 - ETA: 0s - loss: 0.8905 - accuracy: 0.62 - ETA: 0s - loss: 0.8005 - accuracy: 0.66 - ETA: 0s - loss: 0.8037 - accuracy: 0.67 - ETA: 0s - loss: 0.7782 - accuracy: 0.68 - 1s 36ms/step - loss: 0.7557 - accuracy: 0.6947 - val_loss: 1.2537 - val_accuracy: 0.4464\n",
      "Epoch 12/1000\n",
      "26/26 [==============================] - ETA: 0s - loss: 0.7254 - accuracy: 0.62 - ETA: 0s - loss: 0.8742 - accuracy: 0.61 - ETA: 0s - loss: 0.7720 - accuracy: 0.67 - ETA: 0s - loss: 0.7399 - accuracy: 0.69 - ETA: 0s - loss: 0.7332 - accuracy: 0.69 - 1s 36ms/step - loss: 0.7205 - accuracy: 0.6947 - val_loss: 1.1927 - val_accuracy: 0.4702\n",
      "Epoch 13/1000\n",
      "26/26 [==============================] - ETA: 0s - loss: 0.7509 - accuracy: 0.68 - ETA: 0s - loss: 0.8408 - accuracy: 0.68 - ETA: 0s - loss: 0.7420 - accuracy: 0.70 - ETA: 0s - loss: 0.7046 - accuracy: 0.71 - ETA: 0s - loss: 0.7128 - accuracy: 0.71 - 1s 32ms/step - loss: 0.7056 - accuracy: 0.7139 - val_loss: 1.3221 - val_accuracy: 0.4643\n",
      "Epoch 14/1000\n",
      "26/26 [==============================] - ETA: 0s - loss: 0.6264 - accuracy: 0.71 - ETA: 0s - loss: 0.8074 - accuracy: 0.65 - ETA: 0s - loss: 0.7178 - accuracy: 0.70 - ETA: 0s - loss: 0.6972 - accuracy: 0.71 - ETA: 0s - loss: 0.6809 - accuracy: 0.73 - 1s 44ms/step - loss: 0.6731 - accuracy: 0.7356 - val_loss: 1.3896 - val_accuracy: 0.4702\n",
      "Epoch 15/1000\n",
      "26/26 [==============================] - ETA: 0s - loss: 0.6613 - accuracy: 0.81 - ETA: 0s - loss: 0.7640 - accuracy: 0.69 - ETA: 0s - loss: 0.6926 - accuracy: 0.72 - ETA: 0s - loss: 0.6503 - accuracy: 0.73 - ETA: 0s - loss: 0.6585 - accuracy: 0.73 - 1s 40ms/step - loss: 0.6518 - accuracy: 0.7368 - val_loss: 1.3064 - val_accuracy: 0.5000\n"
     ]
    },
    {
     "data": {
      "text/html": [
       "<span style=\"color:#4527A0\"><h1 style=\"font-size:18px\">Trial complete</h1></span>"
      ],
      "text/plain": [
       "<IPython.core.display.HTML object>"
      ]
     },
     "metadata": {},
     "output_type": "display_data"
    },
    {
     "data": {
      "text/html": [
       "<span style=\"color:#4527A0\"><h1 style=\"font-size:18px\">Trial summary</h1></span>"
      ],
      "text/plain": [
       "<IPython.core.display.HTML object>"
      ]
     },
     "metadata": {},
     "output_type": "display_data"
    },
    {
     "data": {
      "text/html": [
       "<span style=\"color:cyan\"> |-Trial ID: b529f4f2ac2c3ddbc29c25389fb3b2d1</span>"
      ],
      "text/plain": [
       "<IPython.core.display.HTML object>"
      ]
     },
     "metadata": {},
     "output_type": "display_data"
    },
    {
     "data": {
      "text/html": [
       "<span style=\"color:cyan\"> |-Score: 0.523809552192688</span>"
      ],
      "text/plain": [
       "<IPython.core.display.HTML object>"
      ]
     },
     "metadata": {},
     "output_type": "display_data"
    },
    {
     "data": {
      "text/html": [
       "<span style=\"color:cyan\"> |-Best step: 7</span>"
      ],
      "text/plain": [
       "<IPython.core.display.HTML object>"
      ]
     },
     "metadata": {},
     "output_type": "display_data"
    },
    {
     "data": {
      "text/html": [
       "<span style=\"color:#7E57C2\"><h2 style=\"font-size:16px\">Hyperparameters:</h2></span>"
      ],
      "text/plain": [
       "<IPython.core.display.HTML object>"
      ]
     },
     "metadata": {},
     "output_type": "display_data"
    },
    {
     "data": {
      "text/html": [
       "<span style=\"color:cyan\"> |-classification_head_1/dropout: 0</span>"
      ],
      "text/plain": [
       "<IPython.core.display.HTML object>"
      ]
     },
     "metadata": {},
     "output_type": "display_data"
    },
    {
     "data": {
      "text/html": [
       "<span style=\"color:blue\"> |-learning_rate: 0.01</span>"
      ],
      "text/plain": [
       "<IPython.core.display.HTML object>"
      ]
     },
     "metadata": {},
     "output_type": "display_data"
    },
    {
     "data": {
      "text/html": [
       "<span style=\"color:cyan\"> |-optimizer: adam</span>"
      ],
      "text/plain": [
       "<IPython.core.display.HTML object>"
      ]
     },
     "metadata": {},
     "output_type": "display_data"
    },
    {
     "data": {
      "text/html": [
       "<span style=\"color:blue\"> |-structured_data_block_1/dense_block_1/dropout: 0.25</span>"
      ],
      "text/plain": [
       "<IPython.core.display.HTML object>"
      ]
     },
     "metadata": {},
     "output_type": "display_data"
    },
    {
     "data": {
      "text/html": [
       "<span style=\"color:cyan\"> |-structured_data_block_1/dense_block_1/num_layers: 3</span>"
      ],
      "text/plain": [
       "<IPython.core.display.HTML object>"
      ]
     },
     "metadata": {},
     "output_type": "display_data"
    },
    {
     "data": {
      "text/html": [
       "<span style=\"color:blue\"> |-structured_data_block_1/dense_block_1/units_0: 128</span>"
      ],
      "text/plain": [
       "<IPython.core.display.HTML object>"
      ]
     },
     "metadata": {},
     "output_type": "display_data"
    },
    {
     "data": {
      "text/html": [
       "<span style=\"color:cyan\"> |-structured_data_block_1/dense_block_1/units_1: 64</span>"
      ],
      "text/plain": [
       "<IPython.core.display.HTML object>"
      ]
     },
     "metadata": {},
     "output_type": "display_data"
    },
    {
     "data": {
      "text/html": [
       "<span style=\"color:blue\"> |-structured_data_block_1/dense_block_1/units_2: 32</span>"
      ],
      "text/plain": [
       "<IPython.core.display.HTML object>"
      ]
     },
     "metadata": {},
     "output_type": "display_data"
    },
    {
     "data": {
      "text/html": [
       "<span style=\"color:cyan\"> |-structured_data_block_1/dense_block_1/use_batchnorm: True</span>"
      ],
      "text/plain": [
       "<IPython.core.display.HTML object>"
      ]
     },
     "metadata": {},
     "output_type": "display_data"
    },
    {
     "data": {
      "text/html": [
       "<span style=\"color:#4527A0\"><h1 style=\"font-size:18px\">Starting new trial</h1></span>"
      ],
      "text/plain": [
       "<IPython.core.display.HTML object>"
      ]
     },
     "metadata": {},
     "output_type": "display_data"
    },
    {
     "name": "stdout",
     "output_type": "stream",
     "text": [
      "Epoch 1/1000\n",
      "26/26 [==============================] - ETA: 0s - loss: 809.1570 - accuracy: 0.28 - ETA: 0s - loss: 524.9064 - accuracy: 0.29 - ETA: 0s - loss: 369.4418 - accuracy: 0.28 - ETA: 0s - loss: 322.2376 - accuracy: 0.28 - ETA: 0s - loss: 272.0229 - accuracy: 0.28 - 6s 217ms/step - loss: 272.0229 - accuracy: 0.2897 - val_loss: 97.8700 - val_accuracy: 0.3512\n",
      "Epoch 2/1000\n",
      "26/26 [==============================] - ETA: 0s - loss: 97.6648 - accuracy: 0.281 - ETA: 0s - loss: 114.6664 - accuracy: 0.36 - ETA: 0s - loss: 91.7178 - accuracy: 0.3582 - ETA: 0s - loss: 84.5565 - accuracy: 0.362 - ETA: 0s - loss: 80.1643 - accuracy: 0.365 - 1s 47ms/step - loss: 77.5862 - accuracy: 0.3630 - val_loss: 51.3175 - val_accuracy: 0.3690\n",
      "Epoch 3/1000\n",
      "26/26 [==============================] - ETA: 0s - loss: 37.0868 - accuracy: 0.562 - ETA: 0s - loss: 49.9719 - accuracy: 0.419 - ETA: 0s - loss: 44.6722 - accuracy: 0.418 - ETA: 0s - loss: 41.0885 - accuracy: 0.399 - ETA: 0s - loss: 38.1300 - accuracy: 0.403 - 1s 32ms/step - loss: 37.7012 - accuracy: 0.4026 - val_loss: 43.3147 - val_accuracy: 0.3929\n",
      "Epoch 4/1000\n",
      "26/26 [==============================] - ETA: 0s - loss: 29.2376 - accuracy: 0.562 - ETA: 0s - loss: 32.0730 - accuracy: 0.428 - ETA: 0s - loss: 28.0759 - accuracy: 0.444 - ETA: 0s - loss: 28.4877 - accuracy: 0.450 - ETA: 0s - loss: 26.2640 - accuracy: 0.446 - 1s 34ms/step - loss: 26.2069 - accuracy: 0.4471 - val_loss: 29.6897 - val_accuracy: 0.3810\n",
      "Epoch 5/1000\n",
      "26/26 [==============================] - ETA: 0s - loss: 29.8387 - accuracy: 0.437 - ETA: 0s - loss: 19.5327 - accuracy: 0.495 - ETA: 0s - loss: 17.3136 - accuracy: 0.492 - ETA: 0s - loss: 17.3788 - accuracy: 0.486 - ETA: 0s - loss: 17.6282 - accuracy: 0.485 - 1s 50ms/step - loss: 17.5617 - accuracy: 0.4856 - val_loss: 31.3676 - val_accuracy: 0.3869\n",
      "Epoch 6/1000\n",
      "26/26 [==============================] - ETA: 0s - loss: 17.8470 - accuracy: 0.562 - ETA: 0s - loss: 20.6666 - accuracy: 0.482 - ETA: 0s - loss: 17.7598 - accuracy: 0.497 - ETA: 0s - loss: 16.8472 - accuracy: 0.485 - ETA: 0s - loss: 18.9597 - accuracy: 0.483 - 1s 36ms/step - loss: 18.8107 - accuracy: 0.4856 - val_loss: 58.1650 - val_accuracy: 0.3333\n",
      "Epoch 7/1000\n",
      "26/26 [==============================] - ETA: 0s - loss: 43.0333 - accuracy: 0.406 - ETA: 0s - loss: 26.7797 - accuracy: 0.442 - ETA: 0s - loss: 23.6613 - accuracy: 0.463 - ETA: 0s - loss: 22.3411 - accuracy: 0.444 - ETA: 0s - loss: 19.4015 - accuracy: 0.460 - 1s 30ms/step - loss: 19.2125 - accuracy: 0.4700 - val_loss: 32.6300 - val_accuracy: 0.4583\n",
      "Epoch 8/1000\n",
      "26/26 [==============================] - ETA: 0s - loss: 9.9196 - accuracy: 0.65 - ETA: 0s - loss: 11.1957 - accuracy: 0.584 - ETA: 0s - loss: 9.7832 - accuracy: 0.569 - ETA: 0s - loss: 9.9460 - accuracy: 0.56 - ETA: 0s - loss: 9.4464 - accuracy: 0.56 - 1s 34ms/step - loss: 9.4925 - accuracy: 0.5685 - val_loss: 32.4541 - val_accuracy: 0.3988\n",
      "Epoch 9/1000\n",
      "26/26 [==============================] - ETA: 0s - loss: 9.2758 - accuracy: 0.62 - ETA: 0s - loss: 7.9334 - accuracy: 0.63 - ETA: 0s - loss: 7.2157 - accuracy: 0.63 - ETA: 0s - loss: 7.3540 - accuracy: 0.62 - ETA: 0s - loss: 6.8112 - accuracy: 0.61 - 1s 32ms/step - loss: 6.7138 - accuracy: 0.6118 - val_loss: 32.3486 - val_accuracy: 0.4226\n",
      "Epoch 10/1000\n",
      "26/26 [==============================] - ETA: 0s - loss: 5.9333 - accuracy: 0.65 - ETA: 0s - loss: 5.7712 - accuracy: 0.61 - ETA: 0s - loss: 4.9263 - accuracy: 0.63 - ETA: 0s - loss: 4.8943 - accuracy: 0.63 - ETA: 0s - loss: 4.7981 - accuracy: 0.62 - 1s 32ms/step - loss: 4.7552 - accuracy: 0.6346 - val_loss: 34.6226 - val_accuracy: 0.4226\n",
      "Epoch 11/1000\n",
      "26/26 [==============================] - ETA: 0s - loss: 5.4592 - accuracy: 0.65 - ETA: 0s - loss: 4.6843 - accuracy: 0.61 - ETA: 0s - loss: 4.8580 - accuracy: 0.61 - ETA: 0s - loss: 4.8916 - accuracy: 0.62 - ETA: 0s - loss: 4.7616 - accuracy: 0.61 - 1s 40ms/step - loss: 4.6998 - accuracy: 0.6190 - val_loss: 28.2863 - val_accuracy: 0.4464\n",
      "Epoch 12/1000\n",
      "26/26 [==============================] - ETA: 0s - loss: 3.2532 - accuracy: 0.84 - ETA: 0s - loss: 3.7856 - accuracy: 0.72 - ETA: 0s - loss: 3.7628 - accuracy: 0.70 - ETA: 0s - loss: 4.1345 - accuracy: 0.68 - ETA: 0s - loss: 3.9574 - accuracy: 0.67 - ETA: 0s - loss: 3.8131 - accuracy: 0.66 - 1s 42ms/step - loss: 3.8273 - accuracy: 0.6695 - val_loss: 28.1797 - val_accuracy: 0.3333\n",
      "Epoch 13/1000\n",
      "26/26 [==============================] - ETA: 0s - loss: 6.8427 - accuracy: 0.62 - ETA: 0s - loss: 4.2728 - accuracy: 0.65 - ETA: 0s - loss: 3.7037 - accuracy: 0.67 - ETA: 0s - loss: 3.7497 - accuracy: 0.65 - ETA: 0s - loss: 3.6027 - accuracy: 0.66 - 1s 45ms/step - loss: 3.5496 - accuracy: 0.6659 - val_loss: 31.0339 - val_accuracy: 0.3631\n",
      "Epoch 14/1000\n",
      "26/26 [==============================] - ETA: 0s - loss: 6.0354 - accuracy: 0.62 - ETA: 0s - loss: 4.8638 - accuracy: 0.62 - ETA: 0s - loss: 4.3653 - accuracy: 0.65 - ETA: 0s - loss: 4.2074 - accuracy: 0.65 - ETA: 0s - loss: 3.9572 - accuracy: 0.65 - 1s 41ms/step - loss: 3.8749 - accuracy: 0.6623 - val_loss: 33.3967 - val_accuracy: 0.4405\n",
      "Epoch 15/1000\n",
      "26/26 [==============================] - ETA: 0s - loss: 4.6394 - accuracy: 0.71 - ETA: 0s - loss: 2.8661 - accuracy: 0.72 - ETA: 0s - loss: 2.8708 - accuracy: 0.70 - ETA: 0s - loss: 3.2685 - accuracy: 0.69 - ETA: 0s - loss: 3.3000 - accuracy: 0.69 - 1s 40ms/step - loss: 3.4987 - accuracy: 0.6911 - val_loss: 42.4409 - val_accuracy: 0.3810\n",
      "Epoch 16/1000\n",
      "26/26 [==============================] - ETA: 0s - loss: 4.0967 - accuracy: 0.68 - ETA: 0s - loss: 3.0834 - accuracy: 0.70 - ETA: 0s - loss: 3.8289 - accuracy: 0.67 - ETA: 0s - loss: 3.6634 - accuracy: 0.68 - ETA: 0s - loss: 3.6317 - accuracy: 0.68 - 1s 42ms/step - loss: 3.5621 - accuracy: 0.6887 - val_loss: 38.6323 - val_accuracy: 0.3750\n",
      "Epoch 17/1000\n",
      "26/26 [==============================] - ETA: 0s - loss: 7.4076 - accuracy: 0.65 - ETA: 0s - loss: 6.4709 - accuracy: 0.67 - ETA: 0s - loss: 6.3440 - accuracy: 0.66 - ETA: 0s - loss: 5.9710 - accuracy: 0.64 - ETA: 0s - loss: 5.8914 - accuracy: 0.63 - 1s 45ms/step - loss: 5.7128 - accuracy: 0.6346 - val_loss: 35.5155 - val_accuracy: 0.3393\n",
      "Epoch 18/1000\n",
      "26/26 [==============================] - ETA: 0s - loss: 6.0263 - accuracy: 0.68 - ETA: 0s - loss: 3.6280 - accuracy: 0.69 - ETA: 0s - loss: 3.6011 - accuracy: 0.69 - ETA: 0s - loss: 3.8586 - accuracy: 0.69 - ETA: 0s - loss: 6.3760 - accuracy: 0.66 - 1s 39ms/step - loss: 6.3645 - accuracy: 0.6647 - val_loss: 22.1969 - val_accuracy: 0.4167\n",
      "Epoch 19/1000\n",
      "26/26 [==============================] - ETA: 0s - loss: 10.1238 - accuracy: 0.531 - ETA: 0s - loss: 8.4853 - accuracy: 0.611 - ETA: 0s - loss: 8.5137 - accuracy: 0.59 - ETA: 0s - loss: 8.7112 - accuracy: 0.58 - ETA: 0s - loss: 9.1700 - accuracy: 0.57 - 1s 35ms/step - loss: 9.0717 - accuracy: 0.5793 - val_loss: 27.9464 - val_accuracy: 0.3988\n",
      "Epoch 20/1000\n",
      "26/26 [==============================] - ETA: 0s - loss: 9.1308 - accuracy: 0.62 - ETA: 0s - loss: 9.7978 - accuracy: 0.66 - ETA: 0s - loss: 7.9566 - accuracy: 0.60 - ETA: 0s - loss: 6.8703 - accuracy: 0.60 - ETA: 0s - loss: 6.7029 - accuracy: 0.60 - 1s 40ms/step - loss: 6.4780 - accuracy: 0.6106 - val_loss: 25.4555 - val_accuracy: 0.4286\n",
      "Epoch 21/1000\n",
      "26/26 [==============================] - ETA: 0s - loss: 9.6246 - accuracy: 0.62 - ETA: 0s - loss: 6.3720 - accuracy: 0.66 - ETA: 0s - loss: 6.1336 - accuracy: 0.62 - ETA: 0s - loss: 6.3233 - accuracy: 0.63 - ETA: 0s - loss: 6.1437 - accuracy: 0.61 - 1s 44ms/step - loss: 5.9807 - accuracy: 0.6226 - val_loss: 21.0241 - val_accuracy: 0.4583\n",
      "Epoch 22/1000\n",
      "26/26 [==============================] - ETA: 0s - loss: 11.4868 - accuracy: 0.562 - ETA: 0s - loss: 5.4946 - accuracy: 0.665 - ETA: 0s - loss: 5.8430 - accuracy: 0.64 - ETA: 0s - loss: 5.1238 - accuracy: 0.65 - ETA: 0s - loss: 4.6762 - accuracy: 0.64 - 1s 43ms/step - loss: 4.5468 - accuracy: 0.6454 - val_loss: 26.2886 - val_accuracy: 0.4286\n",
      "Epoch 23/1000\n"
     ]
    },
    {
     "name": "stdout",
     "output_type": "stream",
     "text": [
      "26/26 [==============================] - ETA: 0s - loss: 2.6977 - accuracy: 0.84 - ETA: 0s - loss: 2.5849 - accuracy: 0.73 - ETA: 0s - loss: 3.0511 - accuracy: 0.70 - ETA: 0s - loss: 3.2496 - accuracy: 0.67 - ETA: 0s - loss: 3.1825 - accuracy: 0.66 - 2s 62ms/step - loss: 3.0665 - accuracy: 0.6683 - val_loss: 23.1999 - val_accuracy: 0.3929\n",
      "Epoch 24/1000\n",
      "26/26 [==============================] - ETA: 0s - loss: 2.6339 - accuracy: 0.68 - ETA: 0s - loss: 3.0263 - accuracy: 0.69 - ETA: 0s - loss: 3.4365 - accuracy: 0.67 - ETA: 0s - loss: 3.1016 - accuracy: 0.69 - ETA: 0s - loss: 2.9400 - accuracy: 0.68 - 1s 38ms/step - loss: 2.8714 - accuracy: 0.6935 - val_loss: 23.3489 - val_accuracy: 0.3988\n",
      "Epoch 25/1000\n",
      "26/26 [==============================] - ETA: 0s - loss: 4.4805 - accuracy: 0.68 - ETA: 0s - loss: 2.1616 - accuracy: 0.77 - ETA: 0s - loss: 2.6700 - accuracy: 0.70 - ETA: 0s - loss: 2.4338 - accuracy: 0.71 - ETA: 0s - loss: 2.3036 - accuracy: 0.71 - 1s 48ms/step - loss: 2.3361 - accuracy: 0.7091 - val_loss: 23.9763 - val_accuracy: 0.3512\n",
      "Epoch 26/1000\n",
      "26/26 [==============================] - ETA: 0s - loss: 4.8246 - accuracy: 0.62 - ETA: 0s - loss: 2.9301 - accuracy: 0.68 - ETA: 0s - loss: 2.2375 - accuracy: 0.73 - ETA: 0s - loss: 2.1934 - accuracy: 0.73 - ETA: 0s - loss: 1.9158 - accuracy: 0.74 - 1s 49ms/step - loss: 1.7628 - accuracy: 0.7524 - val_loss: 21.8678 - val_accuracy: 0.3393\n",
      "Epoch 27/1000\n",
      "26/26 [==============================] - ETA: 0s - loss: 0.7664 - accuracy: 0.81 - ETA: 0s - loss: 1.0371 - accuracy: 0.79 - ETA: 0s - loss: 1.0002 - accuracy: 0.79 - ETA: 0s - loss: 0.9480 - accuracy: 0.79 - ETA: 0s - loss: 0.8969 - accuracy: 0.80 - 1s 31ms/step - loss: 0.8740 - accuracy: 0.8041 - val_loss: 21.7329 - val_accuracy: 0.3571\n",
      "Epoch 28/1000\n",
      "26/26 [==============================] - ETA: 0s - loss: 0.4814 - accuracy: 0.81 - ETA: 0s - loss: 0.6512 - accuracy: 0.81 - ETA: 0s - loss: 0.6641 - accuracy: 0.82 - ETA: 0s - loss: 0.7537 - accuracy: 0.81 - ETA: 0s - loss: 0.7783 - accuracy: 0.80 - 1s 41ms/step - loss: 0.7576 - accuracy: 0.8125 - val_loss: 20.9644 - val_accuracy: 0.3929\n",
      "Epoch 29/1000\n",
      "26/26 [==============================] - ETA: 0s - loss: 0.5018 - accuracy: 0.84 - ETA: 0s - loss: 0.5826 - accuracy: 0.84 - ETA: 0s - loss: 0.5575 - accuracy: 0.85 - ETA: 0s - loss: 0.5506 - accuracy: 0.85 - ETA: 0s - loss: 0.5815 - accuracy: 0.84 - 1s 31ms/step - loss: 0.5854 - accuracy: 0.8474 - val_loss: 20.4948 - val_accuracy: 0.3274\n",
      "Epoch 30/1000\n",
      "26/26 [==============================] - ETA: 0s - loss: 0.9138 - accuracy: 0.75 - ETA: 0s - loss: 0.6393 - accuracy: 0.80 - ETA: 0s - loss: 0.9600 - accuracy: 0.79 - ETA: 0s - loss: 0.8984 - accuracy: 0.81 - ETA: 0s - loss: 0.9715 - accuracy: 0.80 - 1s 38ms/step - loss: 0.9709 - accuracy: 0.8077 - val_loss: 20.4893 - val_accuracy: 0.3393\n",
      "Epoch 31/1000\n",
      "26/26 [==============================] - ETA: 0s - loss: 1.8216 - accuracy: 0.78 - ETA: 0s - loss: 1.1268 - accuracy: 0.81 - ETA: 0s - loss: 0.9921 - accuracy: 0.83 - ETA: 0s - loss: 0.9635 - accuracy: 0.83 - ETA: 0s - loss: 0.8709 - accuracy: 0.84 - ETA: 0s - loss: 0.9509 - accuracy: 0.83 - 1s 43ms/step - loss: 0.9509 - accuracy: 0.8389 - val_loss: 21.2507 - val_accuracy: 0.3690\n",
      "Epoch 32/1000\n",
      "26/26 [==============================] - ETA: 0s - loss: 0.7992 - accuracy: 0.75 - ETA: 0s - loss: 0.6774 - accuracy: 0.81 - ETA: 0s - loss: 0.6920 - accuracy: 0.81 - ETA: 0s - loss: 0.6570 - accuracy: 0.82 - ETA: 0s - loss: 0.6544 - accuracy: 0.82 - 1s 47ms/step - loss: 0.6937 - accuracy: 0.8209 - val_loss: 21.6412 - val_accuracy: 0.3571\n",
      "Epoch 33/1000\n",
      "26/26 [==============================] - ETA: 0s - loss: 0.6624 - accuracy: 0.78 - ETA: 0s - loss: 0.5698 - accuracy: 0.85 - ETA: 0s - loss: 0.7505 - accuracy: 0.83 - ETA: 0s - loss: 0.8376 - accuracy: 0.83 - ETA: 0s - loss: 0.7979 - accuracy: 0.84 - 1s 52ms/step - loss: 0.7952 - accuracy: 0.8425 - val_loss: 22.7039 - val_accuracy: 0.3631\n",
      "Epoch 34/1000\n",
      "26/26 [==============================] - ETA: 0s - loss: 0.4800 - accuracy: 0.90 - ETA: 0s - loss: 0.5195 - accuracy: 0.88 - ETA: 0s - loss: 0.4673 - accuracy: 0.87 - ETA: 0s - loss: 0.6179 - accuracy: 0.85 - ETA: 0s - loss: 0.5741 - accuracy: 0.86 - 1s 52ms/step - loss: 0.5928 - accuracy: 0.8618 - val_loss: 19.8239 - val_accuracy: 0.3690\n",
      "Epoch 35/1000\n",
      "26/26 [==============================] - ETA: 0s - loss: 1.4292 - accuracy: 0.81 - ETA: 0s - loss: 0.9771 - accuracy: 0.84 - ETA: 0s - loss: 0.9643 - accuracy: 0.81 - ETA: 0s - loss: 1.2949 - accuracy: 0.80 - ETA: 0s - loss: 1.4033 - accuracy: 0.79 - 1s 43ms/step - loss: 1.3781 - accuracy: 0.7921 - val_loss: 22.8276 - val_accuracy: 0.4524\n",
      "Epoch 36/1000\n",
      "26/26 [==============================] - ETA: 0s - loss: 4.6794 - accuracy: 0.59 - ETA: 0s - loss: 1.8531 - accuracy: 0.78 - ETA: 0s - loss: 1.4201 - accuracy: 0.80 - ETA: 0s - loss: 1.6463 - accuracy: 0.79 - ETA: 0s - loss: 1.6326 - accuracy: 0.77 - 1s 46ms/step - loss: 1.5897 - accuracy: 0.7825 - val_loss: 24.4550 - val_accuracy: 0.4226\n",
      "Epoch 37/1000\n",
      "26/26 [==============================] - ETA: 0s - loss: 0.5888 - accuracy: 0.87 - ETA: 0s - loss: 1.0220 - accuracy: 0.81 - ETA: 0s - loss: 1.0128 - accuracy: 0.81 - ETA: 0s - loss: 0.9399 - accuracy: 0.82 - ETA: 0s - loss: 0.8892 - accuracy: 0.82 - 1s 50ms/step - loss: 0.8618 - accuracy: 0.8293 - val_loss: 23.0544 - val_accuracy: 0.3988\n",
      "Epoch 38/1000\n",
      "26/26 [==============================] - ETA: 0s - loss: 0.4015 - accuracy: 0.84 - ETA: 0s - loss: 0.7011 - accuracy: 0.83 - ETA: 0s - loss: 0.7557 - accuracy: 0.85 - ETA: 0s - loss: 0.6810 - accuracy: 0.86 - ETA: 0s - loss: 0.7341 - accuracy: 0.84 - 1s 48ms/step - loss: 0.7696 - accuracy: 0.8462 - val_loss: 21.1398 - val_accuracy: 0.3512\n",
      "Epoch 39/1000\n",
      "26/26 [==============================] - ETA: 0s - loss: 1.1393 - accuracy: 0.68 - ETA: 0s - loss: 0.9225 - accuracy: 0.78 - ETA: 0s - loss: 1.0550 - accuracy: 0.77 - ETA: 0s - loss: 0.9798 - accuracy: 0.79 - ETA: 0s - loss: 1.0265 - accuracy: 0.79 - 1s 44ms/step - loss: 1.0200 - accuracy: 0.7993 - val_loss: 24.1134 - val_accuracy: 0.3810\n",
      "Epoch 40/1000\n",
      "26/26 [==============================] - ETA: 0s - loss: 0.8098 - accuracy: 0.75 - ETA: 0s - loss: 1.1524 - accuracy: 0.75 - ETA: 0s - loss: 1.0835 - accuracy: 0.77 - ETA: 0s - loss: 1.1421 - accuracy: 0.78 - ETA: 0s - loss: 1.0873 - accuracy: 0.79 - 1s 52ms/step - loss: 1.1097 - accuracy: 0.7897 - val_loss: 22.4856 - val_accuracy: 0.3869\n",
      "Epoch 41/1000\n",
      "26/26 [==============================] - ETA: 0s - loss: 2.5295 - accuracy: 0.68 - ETA: 0s - loss: 1.1062 - accuracy: 0.78 - ETA: 0s - loss: 1.1814 - accuracy: 0.79 - ETA: 0s - loss: 1.0593 - accuracy: 0.80 - ETA: 0s - loss: 0.9600 - accuracy: 0.81 - 1s 45ms/step - loss: 0.9400 - accuracy: 0.8137 - val_loss: 22.7456 - val_accuracy: 0.3929\n",
      "Epoch 42/1000\n",
      "26/26 [==============================] - ETA: 0s - loss: 0.4530 - accuracy: 0.87 - ETA: 0s - loss: 0.5633 - accuracy: 0.86 - ETA: 0s - loss: 0.5259 - accuracy: 0.86 - ETA: 0s - loss: 0.4531 - accuracy: 0.87 - ETA: 0s - loss: 0.4530 - accuracy: 0.87 - 1s 38ms/step - loss: 0.4420 - accuracy: 0.8714 - val_loss: 23.4358 - val_accuracy: 0.4226\n",
      "Epoch 43/1000\n",
      "26/26 [==============================] - ETA: 0s - loss: 0.2232 - accuracy: 0.93 - ETA: 0s - loss: 0.5441 - accuracy: 0.84 - ETA: 0s - loss: 0.5129 - accuracy: 0.84 - ETA: 0s - loss: 0.5055 - accuracy: 0.85 - ETA: 0s - loss: 0.6110 - accuracy: 0.85 - 1s 45ms/step - loss: 0.5972 - accuracy: 0.8570 - val_loss: 23.5739 - val_accuracy: 0.4583\n",
      "Epoch 44/1000\n",
      "26/26 [==============================] - ETA: 0s - loss: 0.5135 - accuracy: 0.78 - ETA: 0s - loss: 0.5574 - accuracy: 0.83 - ETA: 0s - loss: 0.4558 - accuracy: 0.86 - ETA: 0s - loss: 0.4345 - accuracy: 0.87 - ETA: 0s - loss: 0.3910 - accuracy: 0.88 - ETA: 0s - loss: 0.3970 - accuracy: 0.88 - 1s 48ms/step - loss: 0.3970 - accuracy: 0.8834 - val_loss: 24.5545 - val_accuracy: 0.4167\n"
     ]
    },
    {
     "data": {
      "text/html": [
       "<span style=\"color:#4527A0\"><h1 style=\"font-size:18px\">Trial complete</h1></span>"
      ],
      "text/plain": [
       "<IPython.core.display.HTML object>"
      ]
     },
     "metadata": {},
     "output_type": "display_data"
    },
    {
     "data": {
      "text/html": [
       "<span style=\"color:#4527A0\"><h1 style=\"font-size:18px\">Trial summary</h1></span>"
      ],
      "text/plain": [
       "<IPython.core.display.HTML object>"
      ]
     },
     "metadata": {},
     "output_type": "display_data"
    },
    {
     "data": {
      "text/html": [
       "<span style=\"color:cyan\"> |-Trial ID: 6a681a8b18ff38a242c583254565c003</span>"
      ],
      "text/plain": [
       "<IPython.core.display.HTML object>"
      ]
     },
     "metadata": {},
     "output_type": "display_data"
    },
    {
     "data": {
      "text/html": [
       "<span style=\"color:cyan\"> |-Score: 0.4583333432674408</span>"
      ],
      "text/plain": [
       "<IPython.core.display.HTML object>"
      ]
     },
     "metadata": {},
     "output_type": "display_data"
    },
    {
     "data": {
      "text/html": [
       "<span style=\"color:cyan\"> |-Best step: 6</span>"
      ],
      "text/plain": [
       "<IPython.core.display.HTML object>"
      ]
     },
     "metadata": {},
     "output_type": "display_data"
    },
    {
     "data": {
      "text/html": [
       "<span style=\"color:#7E57C2\"><h2 style=\"font-size:16px\">Hyperparameters:</h2></span>"
      ],
      "text/plain": [
       "<IPython.core.display.HTML object>"
      ]
     },
     "metadata": {},
     "output_type": "display_data"
    },
    {
     "data": {
      "text/html": [
       "<span style=\"color:cyan\"> |-classification_head_1/dropout: 0</span>"
      ],
      "text/plain": [
       "<IPython.core.display.HTML object>"
      ]
     },
     "metadata": {},
     "output_type": "display_data"
    },
    {
     "data": {
      "text/html": [
       "<span style=\"color:blue\"> |-learning_rate: 0.001</span>"
      ],
      "text/plain": [
       "<IPython.core.display.HTML object>"
      ]
     },
     "metadata": {},
     "output_type": "display_data"
    },
    {
     "data": {
      "text/html": [
       "<span style=\"color:cyan\"> |-optimizer: adam</span>"
      ],
      "text/plain": [
       "<IPython.core.display.HTML object>"
      ]
     },
     "metadata": {},
     "output_type": "display_data"
    },
    {
     "data": {
      "text/html": [
       "<span style=\"color:blue\"> |-structured_data_block_1/dense_block_1/dropout: 0.0</span>"
      ],
      "text/plain": [
       "<IPython.core.display.HTML object>"
      ]
     },
     "metadata": {},
     "output_type": "display_data"
    },
    {
     "data": {
      "text/html": [
       "<span style=\"color:cyan\"> |-structured_data_block_1/dense_block_1/num_layers: 3</span>"
      ],
      "text/plain": [
       "<IPython.core.display.HTML object>"
      ]
     },
     "metadata": {},
     "output_type": "display_data"
    },
    {
     "data": {
      "text/html": [
       "<span style=\"color:blue\"> |-structured_data_block_1/dense_block_1/units_0: 32</span>"
      ],
      "text/plain": [
       "<IPython.core.display.HTML object>"
      ]
     },
     "metadata": {},
     "output_type": "display_data"
    },
    {
     "data": {
      "text/html": [
       "<span style=\"color:cyan\"> |-structured_data_block_1/dense_block_1/units_1: 512</span>"
      ],
      "text/plain": [
       "<IPython.core.display.HTML object>"
      ]
     },
     "metadata": {},
     "output_type": "display_data"
    },
    {
     "data": {
      "text/html": [
       "<span style=\"color:blue\"> |-structured_data_block_1/dense_block_1/units_2: 16</span>"
      ],
      "text/plain": [
       "<IPython.core.display.HTML object>"
      ]
     },
     "metadata": {},
     "output_type": "display_data"
    },
    {
     "data": {
      "text/html": [
       "<span style=\"color:cyan\"> |-structured_data_block_1/dense_block_1/use_batchnorm: False</span>"
      ],
      "text/plain": [
       "<IPython.core.display.HTML object>"
      ]
     },
     "metadata": {},
     "output_type": "display_data"
    },
    {
     "data": {
      "text/html": [
       "<span style=\"color:#4527A0\"><h1 style=\"font-size:18px\">Starting new trial</h1></span>"
      ],
      "text/plain": [
       "<IPython.core.display.HTML object>"
      ]
     },
     "metadata": {},
     "output_type": "display_data"
    },
    {
     "name": "stdout",
     "output_type": "stream",
     "text": [
      "Epoch 1/1000\n",
      "26/26 [==============================] - ETA: 0s - loss: 1.8141 - accuracy: 0.12 - ETA: 0s - loss: 1.5903 - accuracy: 0.28 - ETA: 0s - loss: 1.4163 - accuracy: 0.36 - ETA: 0s - loss: 1.4297 - accuracy: 0.37 - ETA: 0s - loss: 1.3798 - accuracy: 0.41 - ETA: 0s - loss: 1.3694 - accuracy: 0.41 - 6s 216ms/step - loss: 1.3512 - accuracy: 0.4255 - val_loss: 1.7713 - val_accuracy: 0.3571\n",
      "Epoch 2/1000\n",
      "26/26 [==============================] - ETA: 0s - loss: 0.7026 - accuracy: 0.71 - ETA: 0s - loss: 0.9226 - accuracy: 0.65 - ETA: 0s - loss: 0.8500 - accuracy: 0.69 - ETA: 0s - loss: 0.8368 - accuracy: 0.68 - ETA: 0s - loss: 0.8505 - accuracy: 0.67 - ETA: 0s - loss: 0.8659 - accuracy: 0.66 - 1s 49ms/step - loss: 0.8542 - accuracy: 0.6755 - val_loss: 1.3308 - val_accuracy: 0.4226\n",
      "Epoch 3/1000\n",
      "26/26 [==============================] - ETA: 0s - loss: 0.6653 - accuracy: 0.71 - ETA: 0s - loss: 0.7731 - accuracy: 0.72 - ETA: 0s - loss: 0.6870 - accuracy: 0.75 - ETA: 0s - loss: 0.6827 - accuracy: 0.75 - ETA: 0s - loss: 0.7046 - accuracy: 0.74 - ETA: 0s - loss: 0.6970 - accuracy: 0.75 - 1s 45ms/step - loss: 0.6970 - accuracy: 0.7536 - val_loss: 1.2642 - val_accuracy: 0.4405\n",
      "Epoch 4/1000\n",
      "26/26 [==============================] - ETA: 0s - loss: 0.6266 - accuracy: 0.71 - ETA: 0s - loss: 0.7057 - accuracy: 0.75 - ETA: 0s - loss: 0.6099 - accuracy: 0.79 - ETA: 0s - loss: 0.6034 - accuracy: 0.79 - ETA: 0s - loss: 0.6173 - accuracy: 0.79 - ETA: 0s - loss: 0.6056 - accuracy: 0.79 - 1s 39ms/step - loss: 0.6056 - accuracy: 0.7945 - val_loss: 1.2146 - val_accuracy: 0.4226\n",
      "Epoch 5/1000\n",
      "26/26 [==============================] - ETA: 0s - loss: 0.5489 - accuracy: 0.78 - ETA: 0s - loss: 0.6161 - accuracy: 0.81 - ETA: 0s - loss: 0.5290 - accuracy: 0.84 - ETA: 0s - loss: 0.5199 - accuracy: 0.85 - ETA: 0s - loss: 0.5323 - accuracy: 0.85 - ETA: 0s - loss: 0.5217 - accuracy: 0.85 - 2s 66ms/step - loss: 0.5217 - accuracy: 0.8522 - val_loss: 1.1813 - val_accuracy: 0.4643\n",
      "Epoch 6/1000\n",
      "26/26 [==============================] - ETA: 0s - loss: 0.4731 - accuracy: 0.78 - ETA: 0s - loss: 0.5470 - accuracy: 0.82 - ETA: 0s - loss: 0.4628 - accuracy: 0.86 - ETA: 0s - loss: 0.4525 - accuracy: 0.87 - ETA: 0s - loss: 0.4667 - accuracy: 0.87 - ETA: 0s - loss: 0.4636 - accuracy: 0.86 - 1s 49ms/step - loss: 0.4554 - accuracy: 0.8726 - val_loss: 1.1302 - val_accuracy: 0.5179\n",
      "Epoch 7/1000\n",
      "26/26 [==============================] - ETA: 0s - loss: 0.4077 - accuracy: 0.87 - ETA: 0s - loss: 0.4763 - accuracy: 0.86 - ETA: 0s - loss: 0.4098 - accuracy: 0.89 - ETA: 0s - loss: 0.4010 - accuracy: 0.89 - ETA: 0s - loss: 0.4111 - accuracy: 0.89 - ETA: 0s - loss: 0.4049 - accuracy: 0.89 - 1s 42ms/step - loss: 0.4049 - accuracy: 0.8966 - val_loss: 1.1297 - val_accuracy: 0.5536\n",
      "Epoch 8/1000\n",
      "26/26 [==============================] - ETA: 0s - loss: 0.3568 - accuracy: 0.90 - ETA: 0s - loss: 0.4212 - accuracy: 0.89 - ETA: 0s - loss: 0.3726 - accuracy: 0.90 - ETA: 0s - loss: 0.3622 - accuracy: 0.91 - ETA: 0s - loss: 0.3701 - accuracy: 0.91 - ETA: 0s - loss: 0.3638 - accuracy: 0.91 - 1s 42ms/step - loss: 0.3638 - accuracy: 0.9171 - val_loss: 1.2166 - val_accuracy: 0.5179\n",
      "Epoch 9/1000\n",
      "26/26 [==============================] - ETA: 0s - loss: 0.3375 - accuracy: 0.90 - ETA: 0s - loss: 0.3497 - accuracy: 0.91 - ETA: 0s - loss: 0.3364 - accuracy: 0.91 - ETA: 0s - loss: 0.3288 - accuracy: 0.91 - ETA: 0s - loss: 0.3392 - accuracy: 0.90 - ETA: 0s - loss: 0.3470 - accuracy: 0.90 - 1s 55ms/step - loss: 0.3417 - accuracy: 0.9123 - val_loss: 1.3475 - val_accuracy: 0.4643\n",
      "Epoch 10/1000\n",
      "26/26 [==============================] - ETA: 0s - loss: 0.3074 - accuracy: 0.90 - ETA: 0s - loss: 0.3789 - accuracy: 0.90 - ETA: 0s - loss: 0.3092 - accuracy: 0.92 - ETA: 0s - loss: 0.2951 - accuracy: 0.92 - ETA: 0s - loss: 0.3135 - accuracy: 0.92 - ETA: 0s - loss: 0.3020 - accuracy: 0.92 - 1s 44ms/step - loss: 0.2967 - accuracy: 0.9303 - val_loss: 1.4111 - val_accuracy: 0.4583\n",
      "Epoch 11/1000\n",
      "26/26 [==============================] - ETA: 0s - loss: 0.2965 - accuracy: 0.93 - ETA: 0s - loss: 0.3635 - accuracy: 0.90 - ETA: 0s - loss: 0.2799 - accuracy: 0.94 - ETA: 0s - loss: 0.2690 - accuracy: 0.93 - ETA: 0s - loss: 0.2834 - accuracy: 0.93 - ETA: 0s - loss: 0.2702 - accuracy: 0.93 - 2s 60ms/step - loss: 0.2702 - accuracy: 0.9387 - val_loss: 1.3585 - val_accuracy: 0.5000\n",
      "Epoch 12/1000\n",
      "26/26 [==============================] - ETA: 0s - loss: 0.2889 - accuracy: 0.93 - ETA: 0s - loss: 0.3329 - accuracy: 0.91 - ETA: 0s - loss: 0.2757 - accuracy: 0.93 - ETA: 0s - loss: 0.2522 - accuracy: 0.94 - ETA: 0s - loss: 0.2657 - accuracy: 0.94 - ETA: 0s - loss: 0.2680 - accuracy: 0.93 - 1s 49ms/step - loss: 0.2617 - accuracy: 0.9411 - val_loss: 1.2457 - val_accuracy: 0.5417\n",
      "Epoch 13/1000\n",
      "26/26 [==============================] - ETA: 0s - loss: 0.3020 - accuracy: 0.87 - ETA: 0s - loss: 0.2439 - accuracy: 0.94 - ETA: 0s - loss: 0.2560 - accuracy: 0.95 - ETA: 0s - loss: 0.2786 - accuracy: 0.94 - ETA: 0s - loss: 0.2753 - accuracy: 0.94 - ETA: 0s - loss: 0.2779 - accuracy: 0.94 - ETA: 0s - loss: 0.2906 - accuracy: 0.93 - 1s 51ms/step - loss: 0.2906 - accuracy: 0.9387 - val_loss: 1.3941 - val_accuracy: 0.5060\n",
      "Epoch 14/1000\n",
      "26/26 [==============================] - ETA: 0s - loss: 0.3742 - accuracy: 0.87 - ETA: 0s - loss: 0.3252 - accuracy: 0.89 - ETA: 0s - loss: 0.2609 - accuracy: 0.92 - ETA: 0s - loss: 0.2586 - accuracy: 0.92 - ETA: 0s - loss: 0.2874 - accuracy: 0.90 - ETA: 0s - loss: 0.2726 - accuracy: 0.91 - 1s 44ms/step - loss: 0.2711 - accuracy: 0.9195 - val_loss: 1.8263 - val_accuracy: 0.4405\n",
      "Epoch 15/1000\n",
      "26/26 [==============================] - ETA: 0s - loss: 0.6022 - accuracy: 0.87 - ETA: 0s - loss: 0.4346 - accuracy: 0.88 - ETA: 0s - loss: 0.3146 - accuracy: 0.92 - ETA: 0s - loss: 0.3145 - accuracy: 0.91 - ETA: 0s - loss: 0.3149 - accuracy: 0.91 - ETA: 0s - loss: 0.2970 - accuracy: 0.92 - 1s 43ms/step - loss: 0.2970 - accuracy: 0.9231 - val_loss: 1.2715 - val_accuracy: 0.5298\n",
      "Epoch 16/1000\n",
      "26/26 [==============================] - ETA: 0s - loss: 0.2894 - accuracy: 0.90 - ETA: 0s - loss: 0.3530 - accuracy: 0.89 - ETA: 0s - loss: 0.2934 - accuracy: 0.91 - ETA: 0s - loss: 0.2579 - accuracy: 0.92 - ETA: 0s - loss: 0.2574 - accuracy: 0.92 - ETA: 0s - loss: 0.2563 - accuracy: 0.92 - 1s 55ms/step - loss: 0.2539 - accuracy: 0.9255 - val_loss: 1.5124 - val_accuracy: 0.5298\n",
      "Epoch 17/1000\n",
      "26/26 [==============================] - ETA: 0s - loss: 0.2240 - accuracy: 0.96 - ETA: 0s - loss: 0.3136 - accuracy: 0.93 - ETA: 0s - loss: 0.2403 - accuracy: 0.95 - ETA: 0s - loss: 0.2380 - accuracy: 0.94 - ETA: 0s - loss: 0.2416 - accuracy: 0.94 - ETA: 0s - loss: 0.2330 - accuracy: 0.94 - 1s 52ms/step - loss: 0.2330 - accuracy: 0.9459 - val_loss: 1.7978 - val_accuracy: 0.4464\n"
     ]
    },
    {
     "data": {
      "text/html": [
       "<span style=\"color:#4527A0\"><h1 style=\"font-size:18px\">Trial complete</h1></span>"
      ],
      "text/plain": [
       "<IPython.core.display.HTML object>"
      ]
     },
     "metadata": {},
     "output_type": "display_data"
    },
    {
     "data": {
      "text/html": [
       "<span style=\"color:#4527A0\"><h1 style=\"font-size:18px\">Trial summary</h1></span>"
      ],
      "text/plain": [
       "<IPython.core.display.HTML object>"
      ]
     },
     "metadata": {},
     "output_type": "display_data"
    },
    {
     "data": {
      "text/html": [
       "<span style=\"color:cyan\"> |-Trial ID: 4b3b1b0cffd59a72887952c5e25ec7f1</span>"
      ],
      "text/plain": [
       "<IPython.core.display.HTML object>"
      ]
     },
     "metadata": {},
     "output_type": "display_data"
    },
    {
     "data": {
      "text/html": [
       "<span style=\"color:cyan\"> |-Score: 0.5535714030265808</span>"
      ],
      "text/plain": [
       "<IPython.core.display.HTML object>"
      ]
     },
     "metadata": {},
     "output_type": "display_data"
    },
    {
     "data": {
      "text/html": [
       "<span style=\"color:cyan\"> |-Best step: 6</span>"
      ],
      "text/plain": [
       "<IPython.core.display.HTML object>"
      ]
     },
     "metadata": {},
     "output_type": "display_data"
    },
    {
     "data": {
      "text/html": [
       "<span style=\"color:#7E57C2\"><h2 style=\"font-size:16px\">Hyperparameters:</h2></span>"
      ],
      "text/plain": [
       "<IPython.core.display.HTML object>"
      ]
     },
     "metadata": {},
     "output_type": "display_data"
    },
    {
     "data": {
      "text/html": [
       "<span style=\"color:cyan\"> |-classification_head_1/dropout: 0</span>"
      ],
      "text/plain": [
       "<IPython.core.display.HTML object>"
      ]
     },
     "metadata": {},
     "output_type": "display_data"
    },
    {
     "data": {
      "text/html": [
       "<span style=\"color:blue\"> |-learning_rate: 0.001</span>"
      ],
      "text/plain": [
       "<IPython.core.display.HTML object>"
      ]
     },
     "metadata": {},
     "output_type": "display_data"
    },
    {
     "data": {
      "text/html": [
       "<span style=\"color:cyan\"> |-optimizer: adam</span>"
      ],
      "text/plain": [
       "<IPython.core.display.HTML object>"
      ]
     },
     "metadata": {},
     "output_type": "display_data"
    },
    {
     "data": {
      "text/html": [
       "<span style=\"color:blue\"> |-structured_data_block_1/dense_block_1/dropout: 0.0</span>"
      ],
      "text/plain": [
       "<IPython.core.display.HTML object>"
      ]
     },
     "metadata": {},
     "output_type": "display_data"
    },
    {
     "data": {
      "text/html": [
       "<span style=\"color:cyan\"> |-structured_data_block_1/dense_block_1/num_layers: 1</span>"
      ],
      "text/plain": [
       "<IPython.core.display.HTML object>"
      ]
     },
     "metadata": {},
     "output_type": "display_data"
    },
    {
     "data": {
      "text/html": [
       "<span style=\"color:blue\"> |-structured_data_block_1/dense_block_1/units_0: 512</span>"
      ],
      "text/plain": [
       "<IPython.core.display.HTML object>"
      ]
     },
     "metadata": {},
     "output_type": "display_data"
    },
    {
     "data": {
      "text/html": [
       "<span style=\"color:cyan\"> |-structured_data_block_1/dense_block_1/units_1: 1024</span>"
      ],
      "text/plain": [
       "<IPython.core.display.HTML object>"
      ]
     },
     "metadata": {},
     "output_type": "display_data"
    },
    {
     "data": {
      "text/html": [
       "<span style=\"color:blue\"> |-structured_data_block_1/dense_block_1/units_2: 256</span>"
      ],
      "text/plain": [
       "<IPython.core.display.HTML object>"
      ]
     },
     "metadata": {},
     "output_type": "display_data"
    },
    {
     "data": {
      "text/html": [
       "<span style=\"color:cyan\"> |-structured_data_block_1/dense_block_1/use_batchnorm: True</span>"
      ],
      "text/plain": [
       "<IPython.core.display.HTML object>"
      ]
     },
     "metadata": {},
     "output_type": "display_data"
    },
    {
     "data": {
      "text/html": [
       "<span style=\"color:#4527A0\"><h1 style=\"font-size:18px\">Starting new trial</h1></span>"
      ],
      "text/plain": [
       "<IPython.core.display.HTML object>"
      ]
     },
     "metadata": {},
     "output_type": "display_data"
    },
    {
     "name": "stdout",
     "output_type": "stream",
     "text": [
      "Epoch 1/1000\n",
      "26/26 [==============================] - ETA: 0s - loss: 1.4445 - accuracy: 0.21 - ETA: 0s - loss: 1.4512 - accuracy: 0.33 - ETA: 0s - loss: 1.4138 - accuracy: 0.34 - ETA: 0s - loss: 1.3590 - accuracy: 0.38 - ETA: 0s - loss: 1.3301 - accuracy: 0.40 - 5s 210ms/step - loss: 1.3164 - accuracy: 0.4099 - val_loss: 1.5340 - val_accuracy: 0.2679\n",
      "Epoch 2/1000\n",
      "26/26 [==============================] - ETA: 0s - loss: 0.9488 - accuracy: 0.62 - ETA: 0s - loss: 1.0829 - accuracy: 0.55 - ETA: 0s - loss: 1.0604 - accuracy: 0.55 - ETA: 0s - loss: 1.0364 - accuracy: 0.55 - ETA: 0s - loss: 1.0372 - accuracy: 0.56 - 1s 49ms/step - loss: 1.0287 - accuracy: 0.5697 - val_loss: 1.3319 - val_accuracy: 0.3512\n",
      "Epoch 3/1000\n",
      "26/26 [==============================] - ETA: 0s - loss: 0.8842 - accuracy: 0.65 - ETA: 0s - loss: 0.9737 - accuracy: 0.61 - ETA: 0s - loss: 0.9252 - accuracy: 0.63 - ETA: 0s - loss: 0.9144 - accuracy: 0.63 - ETA: 0s - loss: 0.9208 - accuracy: 0.63 - 1s 38ms/step - loss: 0.9111 - accuracy: 0.6382 - val_loss: 1.2091 - val_accuracy: 0.4226\n",
      "Epoch 4/1000\n",
      "26/26 [==============================] - ETA: 0s - loss: 0.8187 - accuracy: 0.71 - ETA: 0s - loss: 0.8976 - accuracy: 0.67 - ETA: 0s - loss: 0.8350 - accuracy: 0.69 - ETA: 0s - loss: 0.8255 - accuracy: 0.69 - ETA: 0s - loss: 0.8270 - accuracy: 0.69 - 1s 43ms/step - loss: 0.8170 - accuracy: 0.6983 - val_loss: 1.1550 - val_accuracy: 0.4643\n",
      "Epoch 5/1000\n",
      "26/26 [==============================] - ETA: 0s - loss: 0.7624 - accuracy: 0.75 - ETA: 0s - loss: 0.8120 - accuracy: 0.72 - ETA: 0s - loss: 0.7506 - accuracy: 0.74 - ETA: 0s - loss: 0.7435 - accuracy: 0.73 - ETA: 0s - loss: 0.7437 - accuracy: 0.74 - 1s 52ms/step - loss: 0.7338 - accuracy: 0.7488 - val_loss: 1.1184 - val_accuracy: 0.5000\n",
      "Epoch 6/1000\n",
      "26/26 [==============================] - ETA: 0s - loss: 0.7072 - accuracy: 0.75 - ETA: 0s - loss: 0.7670 - accuracy: 0.72 - ETA: 0s - loss: 0.6816 - accuracy: 0.77 - ETA: 0s - loss: 0.6807 - accuracy: 0.77 - ETA: 0s - loss: 0.6795 - accuracy: 0.77 - 1s 45ms/step - loss: 0.6627 - accuracy: 0.7800 - val_loss: 1.0996 - val_accuracy: 0.5238\n",
      "Epoch 7/1000\n",
      "26/26 [==============================] - ETA: 0s - loss: 0.6393 - accuracy: 0.78 - ETA: 0s - loss: 0.6749 - accuracy: 0.78 - ETA: 0s - loss: 0.6102 - accuracy: 0.81 - ETA: 0s - loss: 0.6057 - accuracy: 0.81 - ETA: 0s - loss: 0.6002 - accuracy: 0.81 - 1s 38ms/step - loss: 0.5903 - accuracy: 0.8233 - val_loss: 1.0888 - val_accuracy: 0.5238\n",
      "Epoch 8/1000\n",
      "26/26 [==============================] - ETA: 0s - loss: 0.5881 - accuracy: 0.78 - ETA: 0s - loss: 0.6628 - accuracy: 0.78 - ETA: 0s - loss: 0.5751 - accuracy: 0.81 - ETA: 0s - loss: 0.5636 - accuracy: 0.82 - ETA: 0s - loss: 0.5529 - accuracy: 0.83 - 1s 38ms/step - loss: 0.5419 - accuracy: 0.8389 - val_loss: 1.0909 - val_accuracy: 0.5298\n",
      "Epoch 9/1000\n",
      "26/26 [==============================] - ETA: 0s - loss: 0.5396 - accuracy: 0.81 - ETA: 0s - loss: 0.5853 - accuracy: 0.84 - ETA: 0s - loss: 0.5242 - accuracy: 0.85 - ETA: 0s - loss: 0.5071 - accuracy: 0.86 - ETA: 0s - loss: 0.4985 - accuracy: 0.87 - 1s 47ms/step - loss: 0.4804 - accuracy: 0.8786 - val_loss: 1.1034 - val_accuracy: 0.5000\n",
      "Epoch 10/1000\n",
      "26/26 [==============================] - ETA: 0s - loss: 0.4986 - accuracy: 0.78 - ETA: 0s - loss: 0.5136 - accuracy: 0.86 - ETA: 0s - loss: 0.4516 - accuracy: 0.88 - ETA: 0s - loss: 0.4449 - accuracy: 0.88 - ETA: 0s - loss: 0.4470 - accuracy: 0.89 - 2s 65ms/step - loss: 0.4284 - accuracy: 0.9026 - val_loss: 1.1038 - val_accuracy: 0.5238\n",
      "Epoch 11/1000\n",
      "26/26 [==============================] - ETA: 0s - loss: 0.4563 - accuracy: 0.84 - ETA: 0s - loss: 0.4529 - accuracy: 0.89 - ETA: 0s - loss: 0.4006 - accuracy: 0.90 - ETA: 0s - loss: 0.3990 - accuracy: 0.90 - ETA: 0s - loss: 0.3990 - accuracy: 0.91 - 1s 49ms/step - loss: 0.3904 - accuracy: 0.9135 - val_loss: 1.1272 - val_accuracy: 0.5298\n",
      "Epoch 12/1000\n",
      "26/26 [==============================] - ETA: 0s - loss: 0.4083 - accuracy: 0.87 - ETA: 0s - loss: 0.4159 - accuracy: 0.90 - ETA: 0s - loss: 0.3582 - accuracy: 0.92 - ETA: 0s - loss: 0.3647 - accuracy: 0.91 - ETA: 0s - loss: 0.3548 - accuracy: 0.92 - 1s 44ms/step - loss: 0.3464 - accuracy: 0.9231 - val_loss: 1.1584 - val_accuracy: 0.5179\n",
      "Epoch 13/1000\n",
      "26/26 [==============================] - ETA: 0s - loss: 0.3476 - accuracy: 0.87 - ETA: 0s - loss: 0.3549 - accuracy: 0.92 - ETA: 0s - loss: 0.3111 - accuracy: 0.93 - ETA: 0s - loss: 0.3120 - accuracy: 0.94 - ETA: 0s - loss: 0.3062 - accuracy: 0.94 - 1s 42ms/step - loss: 0.2994 - accuracy: 0.9495 - val_loss: 1.1834 - val_accuracy: 0.4881\n",
      "Epoch 14/1000\n",
      "26/26 [==============================] - ETA: 0s - loss: 0.2946 - accuracy: 0.90 - ETA: 0s - loss: 0.3051 - accuracy: 0.94 - ETA: 0s - loss: 0.2771 - accuracy: 0.94 - ETA: 0s - loss: 0.2779 - accuracy: 0.93 - ETA: 0s - loss: 0.2720 - accuracy: 0.94 - 1s 41ms/step - loss: 0.2663 - accuracy: 0.9483 - val_loss: 1.2094 - val_accuracy: 0.5119\n",
      "Epoch 15/1000\n",
      "26/26 [==============================] - ETA: 0s - loss: 0.2840 - accuracy: 0.87 - ETA: 0s - loss: 0.2971 - accuracy: 0.94 - ETA: 0s - loss: 0.2616 - accuracy: 0.95 - ETA: 0s - loss: 0.2646 - accuracy: 0.94 - 1s 41ms/step - loss: 0.2509 - accuracy: 0.9519 - val_loss: 1.2232 - val_accuracy: 0.5119\n",
      "Epoch 16/1000\n",
      "26/26 [==============================] - ETA: 0s - loss: 0.2438 - accuracy: 0.93 - ETA: 0s - loss: 0.2644 - accuracy: 0.95 - ETA: 0s - loss: 0.2359 - accuracy: 0.96 - ETA: 0s - loss: 0.2363 - accuracy: 0.95 - ETA: 0s - loss: 0.2280 - accuracy: 0.96 - 1s 47ms/step - loss: 0.2243 - accuracy: 0.9615 - val_loss: 1.3101 - val_accuracy: 0.5119\n",
      "Epoch 17/1000\n",
      "26/26 [==============================] - ETA: 0s - loss: 0.2295 - accuracy: 0.90 - ETA: 0s - loss: 0.2469 - accuracy: 0.94 - ETA: 0s - loss: 0.2177 - accuracy: 0.95 - ETA: 0s - loss: 0.2192 - accuracy: 0.95 - ETA: 0s - loss: 0.2121 - accuracy: 0.96 - 1s 35ms/step - loss: 0.2075 - accuracy: 0.9627 - val_loss: 1.3038 - val_accuracy: 0.4881\n"
     ]
    },
    {
     "data": {
      "text/html": [
       "<span style=\"color:#4527A0\"><h1 style=\"font-size:18px\">Trial complete</h1></span>"
      ],
      "text/plain": [
       "<IPython.core.display.HTML object>"
      ]
     },
     "metadata": {},
     "output_type": "display_data"
    },
    {
     "data": {
      "text/html": [
       "<span style=\"color:#4527A0\"><h1 style=\"font-size:18px\">Trial summary</h1></span>"
      ],
      "text/plain": [
       "<IPython.core.display.HTML object>"
      ]
     },
     "metadata": {},
     "output_type": "display_data"
    },
    {
     "data": {
      "text/html": [
       "<span style=\"color:cyan\"> |-Trial ID: 92a4b4525c3e607057c203a904e8c107</span>"
      ],
      "text/plain": [
       "<IPython.core.display.HTML object>"
      ]
     },
     "metadata": {},
     "output_type": "display_data"
    },
    {
     "data": {
      "text/html": [
       "<span style=\"color:cyan\"> |-Score: 0.5297619104385376</span>"
      ],
      "text/plain": [
       "<IPython.core.display.HTML object>"
      ]
     },
     "metadata": {},
     "output_type": "display_data"
    },
    {
     "data": {
      "text/html": [
       "<span style=\"color:cyan\"> |-Best step: 7</span>"
      ],
      "text/plain": [
       "<IPython.core.display.HTML object>"
      ]
     },
     "metadata": {},
     "output_type": "display_data"
    },
    {
     "data": {
      "text/html": [
       "<span style=\"color:#7E57C2\"><h2 style=\"font-size:16px\">Hyperparameters:</h2></span>"
      ],
      "text/plain": [
       "<IPython.core.display.HTML object>"
      ]
     },
     "metadata": {},
     "output_type": "display_data"
    },
    {
     "data": {
      "text/html": [
       "<span style=\"color:cyan\"> |-classification_head_1/dropout: 0</span>"
      ],
      "text/plain": [
       "<IPython.core.display.HTML object>"
      ]
     },
     "metadata": {},
     "output_type": "display_data"
    },
    {
     "data": {
      "text/html": [
       "<span style=\"color:blue\"> |-learning_rate: 0.001</span>"
      ],
      "text/plain": [
       "<IPython.core.display.HTML object>"
      ]
     },
     "metadata": {},
     "output_type": "display_data"
    },
    {
     "data": {
      "text/html": [
       "<span style=\"color:cyan\"> |-optimizer: adam</span>"
      ],
      "text/plain": [
       "<IPython.core.display.HTML object>"
      ]
     },
     "metadata": {},
     "output_type": "display_data"
    },
    {
     "data": {
      "text/html": [
       "<span style=\"color:blue\"> |-structured_data_block_1/dense_block_1/dropout: 0.0</span>"
      ],
      "text/plain": [
       "<IPython.core.display.HTML object>"
      ]
     },
     "metadata": {},
     "output_type": "display_data"
    },
    {
     "data": {
      "text/html": [
       "<span style=\"color:cyan\"> |-structured_data_block_1/dense_block_1/num_layers: 2</span>"
      ],
      "text/plain": [
       "<IPython.core.display.HTML object>"
      ]
     },
     "metadata": {},
     "output_type": "display_data"
    },
    {
     "data": {
      "text/html": [
       "<span style=\"color:blue\"> |-structured_data_block_1/dense_block_1/units_0: 64</span>"
      ],
      "text/plain": [
       "<IPython.core.display.HTML object>"
      ]
     },
     "metadata": {},
     "output_type": "display_data"
    },
    {
     "data": {
      "text/html": [
       "<span style=\"color:cyan\"> |-structured_data_block_1/dense_block_1/units_1: 64</span>"
      ],
      "text/plain": [
       "<IPython.core.display.HTML object>"
      ]
     },
     "metadata": {},
     "output_type": "display_data"
    },
    {
     "data": {
      "text/html": [
       "<span style=\"color:blue\"> |-structured_data_block_1/dense_block_1/units_2: 64</span>"
      ],
      "text/plain": [
       "<IPython.core.display.HTML object>"
      ]
     },
     "metadata": {},
     "output_type": "display_data"
    },
    {
     "data": {
      "text/html": [
       "<span style=\"color:cyan\"> |-structured_data_block_1/dense_block_1/use_batchnorm: True</span>"
      ],
      "text/plain": [
       "<IPython.core.display.HTML object>"
      ]
     },
     "metadata": {},
     "output_type": "display_data"
    },
    {
     "data": {
      "text/html": [
       "<span style=\"color:#4527A0\"><h1 style=\"font-size:18px\">Starting new trial</h1></span>"
      ],
      "text/plain": [
       "<IPython.core.display.HTML object>"
      ]
     },
     "metadata": {},
     "output_type": "display_data"
    },
    {
     "name": "stdout",
     "output_type": "stream",
     "text": [
      "Epoch 1/1000\n",
      "26/26 [==============================] - ETA: 0s - loss: 1.7167 - accuracy: 0.28 - ETA: 0s - loss: 1.4214 - accuracy: 0.36 - ETA: 0s - loss: 1.3564 - accuracy: 0.38 - ETA: 0s - loss: 1.3293 - accuracy: 0.39 - ETA: 0s - loss: 1.3082 - accuracy: 0.40 - 6s 217ms/step - loss: 1.2962 - accuracy: 0.4087 - val_loss: 1.3540 - val_accuracy: 0.3155\n",
      "Epoch 2/1000\n",
      "26/26 [==============================] - ETA: 0s - loss: 1.0327 - accuracy: 0.56 - ETA: 0s - loss: 1.0797 - accuracy: 0.57 - ETA: 0s - loss: 1.0417 - accuracy: 0.58 - ETA: 0s - loss: 1.0377 - accuracy: 0.58 - ETA: 0s - loss: 1.0348 - accuracy: 0.58 - 1s 49ms/step - loss: 1.0283 - accuracy: 0.5877 - val_loss: 1.2223 - val_accuracy: 0.3869\n",
      "Epoch 3/1000\n",
      "26/26 [==============================] - ETA: 0s - loss: 0.9263 - accuracy: 0.59 - ETA: 0s - loss: 0.9787 - accuracy: 0.62 - ETA: 0s - loss: 0.9482 - accuracy: 0.63 - ETA: 0s - loss: 0.9325 - accuracy: 0.65 - ETA: 0s - loss: 0.9238 - accuracy: 0.65 - 1s 43ms/step - loss: 0.9130 - accuracy: 0.6611 - val_loss: 1.1837 - val_accuracy: 0.4107\n",
      "Epoch 4/1000\n",
      "26/26 [==============================] - ETA: 0s - loss: 0.8383 - accuracy: 0.65 - ETA: 0s - loss: 0.8451 - accuracy: 0.69 - ETA: 0s - loss: 0.8073 - accuracy: 0.72 - ETA: 0s - loss: 0.8066 - accuracy: 0.72 - ETA: 0s - loss: 0.8031 - accuracy: 0.73 - 1s 45ms/step - loss: 0.7952 - accuracy: 0.7416 - val_loss: 1.1927 - val_accuracy: 0.4345\n",
      "Epoch 5/1000\n",
      "26/26 [==============================] - ETA: 0s - loss: 0.7457 - accuracy: 0.75 - ETA: 0s - loss: 0.7830 - accuracy: 0.73 - ETA: 0s - loss: 0.7264 - accuracy: 0.77 - ETA: 0s - loss: 0.7266 - accuracy: 0.77 - ETA: 0s - loss: 0.7179 - accuracy: 0.77 - 1s 52ms/step - loss: 0.7096 - accuracy: 0.7812 - val_loss: 1.1637 - val_accuracy: 0.4762\n",
      "Epoch 6/1000\n",
      "26/26 [==============================] - ETA: 0s - loss: 0.6790 - accuracy: 0.75 - ETA: 0s - loss: 0.6917 - accuracy: 0.75 - ETA: 0s - loss: 0.6407 - accuracy: 0.79 - ETA: 0s - loss: 0.6388 - accuracy: 0.80 - ETA: 0s - loss: 0.6335 - accuracy: 0.81 - 1s 44ms/step - loss: 0.6252 - accuracy: 0.8221 - val_loss: 1.1654 - val_accuracy: 0.4940\n",
      "Epoch 7/1000\n",
      "26/26 [==============================] - ETA: 0s - loss: 0.5890 - accuracy: 0.81 - ETA: 0s - loss: 0.6177 - accuracy: 0.81 - ETA: 0s - loss: 0.5758 - accuracy: 0.83 - ETA: 0s - loss: 0.5690 - accuracy: 0.83 - ETA: 0s - loss: 0.5640 - accuracy: 0.84 - 1s 44ms/step - loss: 0.5573 - accuracy: 0.8462 - val_loss: 1.1799 - val_accuracy: 0.4702\n",
      "Epoch 8/1000\n",
      "26/26 [==============================] - ETA: 0s - loss: 0.5615 - accuracy: 0.81 - ETA: 0s - loss: 0.5494 - accuracy: 0.86 - ETA: 0s - loss: 0.5094 - accuracy: 0.88 - ETA: 0s - loss: 0.5130 - accuracy: 0.87 - ETA: 0s - loss: 0.5012 - accuracy: 0.87 - 1s 43ms/step - loss: 0.4932 - accuracy: 0.8810 - val_loss: 1.2233 - val_accuracy: 0.4583\n",
      "Epoch 9/1000\n",
      "26/26 [==============================] - ETA: 0s - loss: 0.4815 - accuracy: 0.87 - ETA: 0s - loss: 0.5261 - accuracy: 0.88 - ETA: 0s - loss: 0.4776 - accuracy: 0.89 - ETA: 0s - loss: 0.4683 - accuracy: 0.89 - ETA: 0s - loss: 0.4713 - accuracy: 0.89 - 1s 35ms/step - loss: 0.4591 - accuracy: 0.9002 - val_loss: 1.2488 - val_accuracy: 0.4702\n",
      "Epoch 10/1000\n",
      "26/26 [==============================] - ETA: 0s - loss: 0.4805 - accuracy: 0.90 - ETA: 0s - loss: 0.4970 - accuracy: 0.88 - ETA: 0s - loss: 0.4404 - accuracy: 0.91 - ETA: 0s - loss: 0.4372 - accuracy: 0.90 - ETA: 0s - loss: 0.4271 - accuracy: 0.91 - 1s 46ms/step - loss: 0.4235 - accuracy: 0.9159 - val_loss: 1.2017 - val_accuracy: 0.4881\n",
      "Epoch 11/1000\n",
      "26/26 [==============================] - ETA: 0s - loss: 0.4438 - accuracy: 0.90 - ETA: 0s - loss: 0.4709 - accuracy: 0.88 - ETA: 0s - loss: 0.3992 - accuracy: 0.91 - ETA: 0s - loss: 0.3792 - accuracy: 0.91 - ETA: 0s - loss: 0.3810 - accuracy: 0.91 - 1s 51ms/step - loss: 0.3681 - accuracy: 0.9243 - val_loss: 1.2299 - val_accuracy: 0.4881\n",
      "Epoch 12/1000\n",
      "26/26 [==============================] - ETA: 0s - loss: 0.3452 - accuracy: 0.90 - ETA: 0s - loss: 0.4044 - accuracy: 0.90 - ETA: 0s - loss: 0.3587 - accuracy: 0.91 - ETA: 0s - loss: 0.3392 - accuracy: 0.93 - ETA: 0s - loss: 0.3325 - accuracy: 0.93 - ETA: 0s - loss: 0.3263 - accuracy: 0.93 - 1s 44ms/step - loss: 0.3181 - accuracy: 0.9387 - val_loss: 1.2496 - val_accuracy: 0.4940\n",
      "Epoch 13/1000\n",
      "26/26 [==============================] - ETA: 0s - loss: 0.3102 - accuracy: 0.93 - ETA: 0s - loss: 0.2956 - accuracy: 0.95 - ETA: 0s - loss: 0.2801 - accuracy: 0.95 - ETA: 0s - loss: 0.2761 - accuracy: 0.95 - ETA: 0s - loss: 0.2746 - accuracy: 0.96 - ETA: 0s - loss: 0.2688 - accuracy: 0.95 - 1s 41ms/step - loss: 0.2657 - accuracy: 0.9615 - val_loss: 1.2909 - val_accuracy: 0.4643\n",
      "Epoch 14/1000\n",
      "26/26 [==============================] - ETA: 0s - loss: 0.2857 - accuracy: 0.93 - ETA: 0s - loss: 0.2880 - accuracy: 0.94 - ETA: 0s - loss: 0.2501 - accuracy: 0.95 - ETA: 0s - loss: 0.2573 - accuracy: 0.95 - ETA: 0s - loss: 0.2527 - accuracy: 0.95 - 1s 36ms/step - loss: 0.2476 - accuracy: 0.9579 - val_loss: 1.2662 - val_accuracy: 0.5119\n",
      "Epoch 15/1000\n",
      "26/26 [==============================] - ETA: 0s - loss: 0.3380 - accuracy: 0.93 - ETA: 0s - loss: 0.2972 - accuracy: 0.93 - ETA: 0s - loss: 0.2580 - accuracy: 0.94 - ETA: 0s - loss: 0.2493 - accuracy: 0.95 - ETA: 0s - loss: 0.2509 - accuracy: 0.95 - 1s 38ms/step - loss: 0.2399 - accuracy: 0.9579 - val_loss: 1.3663 - val_accuracy: 0.4821\n"
     ]
    },
    {
     "data": {
      "text/html": [
       "<span style=\"color:#4527A0\"><h1 style=\"font-size:18px\">Trial complete</h1></span>"
      ],
      "text/plain": [
       "<IPython.core.display.HTML object>"
      ]
     },
     "metadata": {},
     "output_type": "display_data"
    },
    {
     "data": {
      "text/html": [
       "<span style=\"color:#4527A0\"><h1 style=\"font-size:18px\">Trial summary</h1></span>"
      ],
      "text/plain": [
       "<IPython.core.display.HTML object>"
      ]
     },
     "metadata": {},
     "output_type": "display_data"
    },
    {
     "data": {
      "text/html": [
       "<span style=\"color:cyan\"> |-Trial ID: 11be3eafbe450ffd7cad2755671df9c3</span>"
      ],
      "text/plain": [
       "<IPython.core.display.HTML object>"
      ]
     },
     "metadata": {},
     "output_type": "display_data"
    },
    {
     "data": {
      "text/html": [
       "<span style=\"color:cyan\"> |-Score: 0.511904776096344</span>"
      ],
      "text/plain": [
       "<IPython.core.display.HTML object>"
      ]
     },
     "metadata": {},
     "output_type": "display_data"
    },
    {
     "data": {
      "text/html": [
       "<span style=\"color:cyan\"> |-Best step: 13</span>"
      ],
      "text/plain": [
       "<IPython.core.display.HTML object>"
      ]
     },
     "metadata": {},
     "output_type": "display_data"
    },
    {
     "data": {
      "text/html": [
       "<span style=\"color:#7E57C2\"><h2 style=\"font-size:16px\">Hyperparameters:</h2></span>"
      ],
      "text/plain": [
       "<IPython.core.display.HTML object>"
      ]
     },
     "metadata": {},
     "output_type": "display_data"
    },
    {
     "data": {
      "text/html": [
       "<span style=\"color:cyan\"> |-classification_head_1/dropout: 0</span>"
      ],
      "text/plain": [
       "<IPython.core.display.HTML object>"
      ]
     },
     "metadata": {},
     "output_type": "display_data"
    },
    {
     "data": {
      "text/html": [
       "<span style=\"color:blue\"> |-learning_rate: 0.001</span>"
      ],
      "text/plain": [
       "<IPython.core.display.HTML object>"
      ]
     },
     "metadata": {},
     "output_type": "display_data"
    },
    {
     "data": {
      "text/html": [
       "<span style=\"color:cyan\"> |-optimizer: adam</span>"
      ],
      "text/plain": [
       "<IPython.core.display.HTML object>"
      ]
     },
     "metadata": {},
     "output_type": "display_data"
    },
    {
     "data": {
      "text/html": [
       "<span style=\"color:blue\"> |-structured_data_block_1/dense_block_1/dropout: 0.0</span>"
      ],
      "text/plain": [
       "<IPython.core.display.HTML object>"
      ]
     },
     "metadata": {},
     "output_type": "display_data"
    },
    {
     "data": {
      "text/html": [
       "<span style=\"color:cyan\"> |-structured_data_block_1/dense_block_1/num_layers: 2</span>"
      ],
      "text/plain": [
       "<IPython.core.display.HTML object>"
      ]
     },
     "metadata": {},
     "output_type": "display_data"
    },
    {
     "data": {
      "text/html": [
       "<span style=\"color:blue\"> |-structured_data_block_1/dense_block_1/units_0: 256</span>"
      ],
      "text/plain": [
       "<IPython.core.display.HTML object>"
      ]
     },
     "metadata": {},
     "output_type": "display_data"
    },
    {
     "data": {
      "text/html": [
       "<span style=\"color:cyan\"> |-structured_data_block_1/dense_block_1/units_1: 16</span>"
      ],
      "text/plain": [
       "<IPython.core.display.HTML object>"
      ]
     },
     "metadata": {},
     "output_type": "display_data"
    },
    {
     "data": {
      "text/html": [
       "<span style=\"color:blue\"> |-structured_data_block_1/dense_block_1/units_2: 16</span>"
      ],
      "text/plain": [
       "<IPython.core.display.HTML object>"
      ]
     },
     "metadata": {},
     "output_type": "display_data"
    },
    {
     "data": {
      "text/html": [
       "<span style=\"color:cyan\"> |-structured_data_block_1/dense_block_1/use_batchnorm: True</span>"
      ],
      "text/plain": [
       "<IPython.core.display.HTML object>"
      ]
     },
     "metadata": {},
     "output_type": "display_data"
    },
    {
     "data": {
      "text/html": [
       "<span style=\"color:#4527A0\"><h1 style=\"font-size:18px\">Starting new trial</h1></span>"
      ],
      "text/plain": [
       "<IPython.core.display.HTML object>"
      ]
     },
     "metadata": {},
     "output_type": "display_data"
    },
    {
     "name": "stdout",
     "output_type": "stream",
     "text": [
      "Epoch 1/1000\n",
      "26/26 [==============================] - ETA: 0s - loss: 1.8571 - accuracy: 0.18 - ETA: 0s - loss: 1.7516 - accuracy: 0.25 - ETA: 0s - loss: 1.6402 - accuracy: 0.30 - ETA: 0s - loss: 1.6629 - accuracy: 0.32 - ETA: 0s - loss: 1.6331 - accuracy: 0.34 - ETA: 0s - loss: 1.6045 - accuracy: 0.36 - 6s 229ms/step - loss: 1.5858 - accuracy: 0.3714 - val_loss: 1.9186 - val_accuracy: 0.3274\n",
      "Epoch 2/1000\n",
      "26/26 [==============================] - ETA: 0s - loss: 0.9852 - accuracy: 0.56 - ETA: 0s - loss: 1.1194 - accuracy: 0.53 - ETA: 0s - loss: 1.0877 - accuracy: 0.55 - ETA: 0s - loss: 1.0518 - accuracy: 0.56 - ETA: 0s - loss: 1.0576 - accuracy: 0.55 - ETA: 0s - loss: 1.1003 - accuracy: 0.55 - ETA: 0s - loss: 1.1187 - accuracy: 0.55 - 1s 43ms/step - loss: 1.1187 - accuracy: 0.5529 - val_loss: 1.5400 - val_accuracy: 0.3393\n",
      "Epoch 3/1000\n",
      "26/26 [==============================] - ETA: 0s - loss: 0.8517 - accuracy: 0.65 - ETA: 0s - loss: 0.9781 - accuracy: 0.60 - ETA: 0s - loss: 0.9112 - accuracy: 0.63 - ETA: 0s - loss: 0.8983 - accuracy: 0.62 - ETA: 0s - loss: 0.9167 - accuracy: 0.62 - ETA: 0s - loss: 0.9327 - accuracy: 0.60 - 1s 41ms/step - loss: 0.9302 - accuracy: 0.6142 - val_loss: 1.1898 - val_accuracy: 0.4524\n",
      "Epoch 4/1000\n",
      "26/26 [==============================] - ETA: 0s - loss: 0.6917 - accuracy: 0.71 - ETA: 0s - loss: 0.9665 - accuracy: 0.62 - ETA: 0s - loss: 0.8934 - accuracy: 0.64 - ETA: 0s - loss: 0.9163 - accuracy: 0.62 - ETA: 0s - loss: 0.9368 - accuracy: 0.61 - ETA: 0s - loss: 0.9314 - accuracy: 0.61 - 1s 40ms/step - loss: 0.9172 - accuracy: 0.6262 - val_loss: 1.1196 - val_accuracy: 0.5060\n",
      "Epoch 5/1000\n",
      "26/26 [==============================] - ETA: 0s - loss: 0.6680 - accuracy: 0.75 - ETA: 0s - loss: 0.8403 - accuracy: 0.66 - ETA: 0s - loss: 0.8202 - accuracy: 0.66 - ETA: 0s - loss: 0.8293 - accuracy: 0.66 - ETA: 0s - loss: 0.8330 - accuracy: 0.67 - ETA: 0s - loss: 0.8465 - accuracy: 0.66 - 1s 49ms/step - loss: 0.8360 - accuracy: 0.6695 - val_loss: 1.1112 - val_accuracy: 0.4643\n",
      "Epoch 6/1000\n",
      "26/26 [==============================] - ETA: 0s - loss: 0.8703 - accuracy: 0.65 - ETA: 0s - loss: 0.9434 - accuracy: 0.65 - ETA: 0s - loss: 0.8373 - accuracy: 0.69 - ETA: 0s - loss: 0.8040 - accuracy: 0.68 - ETA: 0s - loss: 0.7965 - accuracy: 0.69 - ETA: 0s - loss: 0.7966 - accuracy: 0.69 - 1s 46ms/step - loss: 0.7836 - accuracy: 0.6911 - val_loss: 1.0949 - val_accuracy: 0.5119\n",
      "Epoch 7/1000\n",
      "26/26 [==============================] - ETA: 0s - loss: 0.6662 - accuracy: 0.65 - ETA: 0s - loss: 0.8137 - accuracy: 0.66 - ETA: 0s - loss: 0.7511 - accuracy: 0.71 - ETA: 0s - loss: 0.7387 - accuracy: 0.71 - ETA: 0s - loss: 0.7349 - accuracy: 0.71 - ETA: 0s - loss: 0.7461 - accuracy: 0.70 - 1s 40ms/step - loss: 0.7270 - accuracy: 0.7139 - val_loss: 1.1088 - val_accuracy: 0.5357\n",
      "Epoch 8/1000\n",
      "26/26 [==============================] - ETA: 0s - loss: 0.6365 - accuracy: 0.81 - ETA: 0s - loss: 0.7081 - accuracy: 0.73 - ETA: 0s - loss: 0.6984 - accuracy: 0.76 - ETA: 0s - loss: 0.6650 - accuracy: 0.76 - ETA: 0s - loss: 0.7084 - accuracy: 0.74 - ETA: 0s - loss: 0.7129 - accuracy: 0.74 - 1s 46ms/step - loss: 0.7007 - accuracy: 0.7464 - val_loss: 1.2017 - val_accuracy: 0.5655\n",
      "Epoch 9/1000\n",
      "26/26 [==============================] - ETA: 0s - loss: 0.6632 - accuracy: 0.68 - ETA: 0s - loss: 0.6762 - accuracy: 0.73 - ETA: 0s - loss: 0.6581 - accuracy: 0.74 - ETA: 0s - loss: 0.6387 - accuracy: 0.75 - ETA: 0s - loss: 0.6419 - accuracy: 0.74 - ETA: 0s - loss: 0.6565 - accuracy: 0.74 - 1s 42ms/step - loss: 0.6481 - accuracy: 0.7440 - val_loss: 1.1019 - val_accuracy: 0.5595\n",
      "Epoch 10/1000\n",
      "26/26 [==============================] - ETA: 0s - loss: 0.6826 - accuracy: 0.71 - ETA: 0s - loss: 0.6234 - accuracy: 0.75 - ETA: 0s - loss: 0.6417 - accuracy: 0.78 - ETA: 0s - loss: 0.6015 - accuracy: 0.79 - ETA: 0s - loss: 0.6049 - accuracy: 0.78 - ETA: 0s - loss: 0.6305 - accuracy: 0.76 - ETA: 0s - loss: 0.6249 - accuracy: 0.76 - 1s 42ms/step - loss: 0.6249 - accuracy: 0.7656 - val_loss: 1.1027 - val_accuracy: 0.5655\n",
      "Epoch 11/1000\n",
      "26/26 [==============================] - ETA: 0s - loss: 0.6610 - accuracy: 0.87 - ETA: 0s - loss: 0.6894 - accuracy: 0.78 - ETA: 0s - loss: 0.6102 - accuracy: 0.80 - ETA: 0s - loss: 0.5840 - accuracy: 0.80 - ETA: 0s - loss: 0.5979 - accuracy: 0.79 - ETA: 0s - loss: 0.6130 - accuracy: 0.78 - 1s 53ms/step - loss: 0.5936 - accuracy: 0.7921 - val_loss: 1.1804 - val_accuracy: 0.5476\n",
      "Epoch 12/1000\n",
      "26/26 [==============================] - ETA: 0s - loss: 0.6649 - accuracy: 0.71 - ETA: 0s - loss: 0.6543 - accuracy: 0.78 - ETA: 0s - loss: 0.5872 - accuracy: 0.81 - ETA: 0s - loss: 0.5248 - accuracy: 0.83 - ETA: 0s - loss: 0.5325 - accuracy: 0.82 - ETA: 0s - loss: 0.5324 - accuracy: 0.81 - 1s 49ms/step - loss: 0.5257 - accuracy: 0.8137 - val_loss: 1.1610 - val_accuracy: 0.5060\n",
      "Epoch 13/1000\n",
      "26/26 [==============================] - ETA: 0s - loss: 0.4993 - accuracy: 0.81 - ETA: 0s - loss: 0.5745 - accuracy: 0.75 - ETA: 0s - loss: 0.5360 - accuracy: 0.79 - ETA: 0s - loss: 0.5150 - accuracy: 0.79 - ETA: 0s - loss: 0.5105 - accuracy: 0.80 - ETA: 0s - loss: 0.5169 - accuracy: 0.80 - 1s 40ms/step - loss: 0.5030 - accuracy: 0.8089 - val_loss: 1.1865 - val_accuracy: 0.5655\n",
      "Epoch 14/1000\n",
      "26/26 [==============================] - ETA: 0s - loss: 0.5138 - accuracy: 0.84 - ETA: 0s - loss: 0.5556 - accuracy: 0.80 - ETA: 0s - loss: 0.5091 - accuracy: 0.82 - ETA: 0s - loss: 0.4891 - accuracy: 0.82 - ETA: 0s - loss: 0.5041 - accuracy: 0.81 - ETA: 0s - loss: 0.5144 - accuracy: 0.80 - 1s 43ms/step - loss: 0.5040 - accuracy: 0.8125 - val_loss: 1.1801 - val_accuracy: 0.5417\n",
      "Epoch 15/1000\n",
      "26/26 [==============================] - ETA: 0s - loss: 0.7222 - accuracy: 0.81 - ETA: 0s - loss: 0.5170 - accuracy: 0.86 - ETA: 0s - loss: 0.4717 - accuracy: 0.86 - ETA: 0s - loss: 0.4604 - accuracy: 0.84 - ETA: 0s - loss: 0.4632 - accuracy: 0.84 - ETA: 0s - loss: 0.4623 - accuracy: 0.83 - 1s 46ms/step - loss: 0.4508 - accuracy: 0.8450 - val_loss: 1.1542 - val_accuracy: 0.5655\n",
      "Epoch 16/1000\n",
      "26/26 [==============================] - ETA: 0s - loss: 0.5453 - accuracy: 0.71 - ETA: 0s - loss: 0.4793 - accuracy: 0.81 - ETA: 0s - loss: 0.4820 - accuracy: 0.84 - ETA: 0s - loss: 0.4531 - accuracy: 0.84 - ETA: 0s - loss: 0.4698 - accuracy: 0.83 - ETA: 0s - loss: 0.4749 - accuracy: 0.82 - 1s 40ms/step - loss: 0.4644 - accuracy: 0.8353 - val_loss: 1.2542 - val_accuracy: 0.5536\n"
     ]
    },
    {
     "data": {
      "text/html": [
       "<span style=\"color:#4527A0\"><h1 style=\"font-size:18px\">Trial complete</h1></span>"
      ],
      "text/plain": [
       "<IPython.core.display.HTML object>"
      ]
     },
     "metadata": {},
     "output_type": "display_data"
    },
    {
     "data": {
      "text/html": [
       "<span style=\"color:#4527A0\"><h1 style=\"font-size:18px\">Trial summary</h1></span>"
      ],
      "text/plain": [
       "<IPython.core.display.HTML object>"
      ]
     },
     "metadata": {},
     "output_type": "display_data"
    },
    {
     "data": {
      "text/html": [
       "<span style=\"color:cyan\"> |-Trial ID: 93ae0d566d0f032036073005d759f825</span>"
      ],
      "text/plain": [
       "<IPython.core.display.HTML object>"
      ]
     },
     "metadata": {},
     "output_type": "display_data"
    },
    {
     "data": {
      "text/html": [
       "<span style=\"color:cyan\"> |-Score: 0.5654761791229248</span>"
      ],
      "text/plain": [
       "<IPython.core.display.HTML object>"
      ]
     },
     "metadata": {},
     "output_type": "display_data"
    },
    {
     "data": {
      "text/html": [
       "<span style=\"color:cyan\"> |-Best step: 7</span>"
      ],
      "text/plain": [
       "<IPython.core.display.HTML object>"
      ]
     },
     "metadata": {},
     "output_type": "display_data"
    },
    {
     "data": {
      "text/html": [
       "<span style=\"color:#7E57C2\"><h2 style=\"font-size:16px\">Hyperparameters:</h2></span>"
      ],
      "text/plain": [
       "<IPython.core.display.HTML object>"
      ]
     },
     "metadata": {},
     "output_type": "display_data"
    },
    {
     "data": {
      "text/html": [
       "<span style=\"color:cyan\"> |-classification_head_1/dropout: 0</span>"
      ],
      "text/plain": [
       "<IPython.core.display.HTML object>"
      ]
     },
     "metadata": {},
     "output_type": "display_data"
    },
    {
     "data": {
      "text/html": [
       "<span style=\"color:blue\"> |-learning_rate: 0.001</span>"
      ],
      "text/plain": [
       "<IPython.core.display.HTML object>"
      ]
     },
     "metadata": {},
     "output_type": "display_data"
    },
    {
     "data": {
      "text/html": [
       "<span style=\"color:cyan\"> |-optimizer: adam</span>"
      ],
      "text/plain": [
       "<IPython.core.display.HTML object>"
      ]
     },
     "metadata": {},
     "output_type": "display_data"
    },
    {
     "data": {
      "text/html": [
       "<span style=\"color:blue\"> |-structured_data_block_1/dense_block_1/dropout: 0.5</span>"
      ],
      "text/plain": [
       "<IPython.core.display.HTML object>"
      ]
     },
     "metadata": {},
     "output_type": "display_data"
    },
    {
     "data": {
      "text/html": [
       "<span style=\"color:cyan\"> |-structured_data_block_1/dense_block_1/num_layers: 1</span>"
      ],
      "text/plain": [
       "<IPython.core.display.HTML object>"
      ]
     },
     "metadata": {},
     "output_type": "display_data"
    },
    {
     "data": {
      "text/html": [
       "<span style=\"color:blue\"> |-structured_data_block_1/dense_block_1/units_0: 512</span>"
      ],
      "text/plain": [
       "<IPython.core.display.HTML object>"
      ]
     },
     "metadata": {},
     "output_type": "display_data"
    },
    {
     "data": {
      "text/html": [
       "<span style=\"color:cyan\"> |-structured_data_block_1/dense_block_1/units_1: 1024</span>"
      ],
      "text/plain": [
       "<IPython.core.display.HTML object>"
      ]
     },
     "metadata": {},
     "output_type": "display_data"
    },
    {
     "data": {
      "text/html": [
       "<span style=\"color:blue\"> |-structured_data_block_1/dense_block_1/units_2: 512</span>"
      ],
      "text/plain": [
       "<IPython.core.display.HTML object>"
      ]
     },
     "metadata": {},
     "output_type": "display_data"
    },
    {
     "data": {
      "text/html": [
       "<span style=\"color:cyan\"> |-structured_data_block_1/dense_block_1/use_batchnorm: True</span>"
      ],
      "text/plain": [
       "<IPython.core.display.HTML object>"
      ]
     },
     "metadata": {},
     "output_type": "display_data"
    },
    {
     "data": {
      "text/html": [
       "<span style=\"color:#4527A0\"><h1 style=\"font-size:18px\">Starting new trial</h1></span>"
      ],
      "text/plain": [
       "<IPython.core.display.HTML object>"
      ]
     },
     "metadata": {},
     "output_type": "display_data"
    },
    {
     "name": "stdout",
     "output_type": "stream",
     "text": [
      "Epoch 1/1000\n",
      "26/26 [==============================] - ETA: 0s - loss: 2.1297 - accuracy: 0.21 - ETA: 0s - loss: 1.8983 - accuracy: 0.22 - ETA: 0s - loss: 1.9578 - accuracy: 0.22 - ETA: 0s - loss: 1.9384 - accuracy: 0.23 - ETA: 0s - loss: 1.9170 - accuracy: 0.23 - ETA: 0s - loss: 1.8839 - accuracy: 0.24 - 6s 242ms/step - loss: 1.8839 - accuracy: 0.2464 - val_loss: 1.6381 - val_accuracy: 0.2857\n",
      "Epoch 2/1000\n",
      "26/26 [==============================] - ETA: 0s - loss: 1.3512 - accuracy: 0.43 - ETA: 0s - loss: 1.5366 - accuracy: 0.36 - ETA: 0s - loss: 1.5545 - accuracy: 0.31 - ETA: 0s - loss: 1.5698 - accuracy: 0.31 - ETA: 0s - loss: 1.5635 - accuracy: 0.32 - ETA: 0s - loss: 1.5192 - accuracy: 0.34 - 1s 37ms/step - loss: 1.5192 - accuracy: 0.3438 - val_loss: 1.3255 - val_accuracy: 0.3393\n",
      "Epoch 3/1000\n",
      "26/26 [==============================] - ETA: 0s - loss: 1.5976 - accuracy: 0.28 - ETA: 0s - loss: 1.4860 - accuracy: 0.36 - ETA: 0s - loss: 1.4232 - accuracy: 0.37 - ETA: 0s - loss: 1.4513 - accuracy: 0.35 - ETA: 0s - loss: 1.4471 - accuracy: 0.34 - ETA: 0s - loss: 1.4312 - accuracy: 0.35 - 1s 38ms/step - loss: 1.4312 - accuracy: 0.3594 - val_loss: 1.2365 - val_accuracy: 0.4226\n",
      "Epoch 4/1000\n",
      "26/26 [==============================] - ETA: 0s - loss: 1.5498 - accuracy: 0.25 - ETA: 0s - loss: 1.4443 - accuracy: 0.28 - ETA: 0s - loss: 1.3812 - accuracy: 0.35 - ETA: 0s - loss: 1.3848 - accuracy: 0.34 - ETA: 0s - loss: 1.3891 - accuracy: 0.35 - ETA: 0s - loss: 1.3712 - accuracy: 0.36 - 1s 55ms/step - loss: 1.3661 - accuracy: 0.3666 - val_loss: 1.2108 - val_accuracy: 0.4286\n",
      "Epoch 5/1000\n",
      "26/26 [==============================] - ETA: 0s - loss: 1.0543 - accuracy: 0.59 - ETA: 0s - loss: 1.2158 - accuracy: 0.46 - ETA: 0s - loss: 1.2265 - accuracy: 0.47 - ETA: 0s - loss: 1.2476 - accuracy: 0.46 - ETA: 0s - loss: 1.2684 - accuracy: 0.44 - ETA: 0s - loss: 1.2765 - accuracy: 0.43 - 1s 47ms/step - loss: 1.2765 - accuracy: 0.4315 - val_loss: 1.1929 - val_accuracy: 0.4524\n",
      "Epoch 6/1000\n",
      "26/26 [==============================] - ETA: 0s - loss: 1.1239 - accuracy: 0.46 - ETA: 0s - loss: 1.2368 - accuracy: 0.42 - ETA: 0s - loss: 1.2398 - accuracy: 0.42 - ETA: 0s - loss: 1.2334 - accuracy: 0.43 - ETA: 0s - loss: 1.2309 - accuracy: 0.44 - ETA: 0s - loss: 1.2045 - accuracy: 0.45 - 1s 41ms/step - loss: 1.2045 - accuracy: 0.4567 - val_loss: 1.1862 - val_accuracy: 0.4583\n",
      "Epoch 7/1000\n",
      "26/26 [==============================] - ETA: 0s - loss: 1.0253 - accuracy: 0.56 - ETA: 0s - loss: 1.2296 - accuracy: 0.47 - ETA: 0s - loss: 1.1976 - accuracy: 0.48 - ETA: 0s - loss: 1.1879 - accuracy: 0.48 - ETA: 0s - loss: 1.1704 - accuracy: 0.50 - ETA: 0s - loss: 1.1626 - accuracy: 0.49 - 1s 38ms/step - loss: 1.1626 - accuracy: 0.4964 - val_loss: 1.1702 - val_accuracy: 0.4821\n",
      "Epoch 8/1000\n",
      "26/26 [==============================] - ETA: 0s - loss: 1.2327 - accuracy: 0.56 - ETA: 0s - loss: 1.2341 - accuracy: 0.48 - ETA: 0s - loss: 1.2085 - accuracy: 0.52 - ETA: 0s - loss: 1.2073 - accuracy: 0.51 - ETA: 0s - loss: 1.2048 - accuracy: 0.51 - 1s 37ms/step - loss: 1.1938 - accuracy: 0.5132 - val_loss: 1.1489 - val_accuracy: 0.4940\n",
      "Epoch 9/1000\n",
      "26/26 [==============================] - ETA: 0s - loss: 1.0425 - accuracy: 0.50 - ETA: 0s - loss: 1.0926 - accuracy: 0.49 - ETA: 0s - loss: 1.0526 - accuracy: 0.51 - ETA: 0s - loss: 1.0684 - accuracy: 0.52 - ETA: 0s - loss: 1.0815 - accuracy: 0.51 - 1s 46ms/step - loss: 1.0823 - accuracy: 0.5168 - val_loss: 1.1410 - val_accuracy: 0.4940\n",
      "Epoch 10/1000\n",
      "26/26 [==============================] - ETA: 0s - loss: 1.0879 - accuracy: 0.50 - ETA: 0s - loss: 1.1887 - accuracy: 0.50 - ETA: 0s - loss: 1.1129 - accuracy: 0.54 - ETA: 0s - loss: 1.1221 - accuracy: 0.51 - ETA: 0s - loss: 1.0964 - accuracy: 0.51 - ETA: 0s - loss: 1.0968 - accuracy: 0.51 - 2s 66ms/step - loss: 1.0968 - accuracy: 0.5156 - val_loss: 1.1294 - val_accuracy: 0.5238\n",
      "Epoch 11/1000\n",
      "26/26 [==============================] - ETA: 0s - loss: 1.1696 - accuracy: 0.50 - ETA: 0s - loss: 1.1323 - accuracy: 0.51 - ETA: 0s - loss: 1.0845 - accuracy: 0.53 - ETA: 0s - loss: 1.0857 - accuracy: 0.51 - ETA: 0s - loss: 1.0762 - accuracy: 0.52 - ETA: 0s - loss: 1.0711 - accuracy: 0.53 - 1s 46ms/step - loss: 1.0711 - accuracy: 0.5312 - val_loss: 1.1336 - val_accuracy: 0.4762\n",
      "Epoch 12/1000\n",
      "26/26 [==============================] - ETA: 0s - loss: 0.9798 - accuracy: 0.59 - ETA: 0s - loss: 1.1585 - accuracy: 0.49 - ETA: 0s - loss: 1.0877 - accuracy: 0.52 - ETA: 0s - loss: 1.0495 - accuracy: 0.53 - ETA: 0s - loss: 1.0533 - accuracy: 0.52 - ETA: 0s - loss: 1.0279 - accuracy: 0.54 - 1s 44ms/step - loss: 1.0217 - accuracy: 0.5457 - val_loss: 1.1239 - val_accuracy: 0.5000\n",
      "Epoch 13/1000\n",
      "26/26 [==============================] - ETA: 0s - loss: 0.8680 - accuracy: 0.65 - ETA: 0s - loss: 1.0533 - accuracy: 0.54 - ETA: 0s - loss: 1.0003 - accuracy: 0.55 - ETA: 0s - loss: 0.9956 - accuracy: 0.55 - ETA: 0s - loss: 0.9887 - accuracy: 0.56 - 1s 44ms/step - loss: 0.9830 - accuracy: 0.5709 - val_loss: 1.1417 - val_accuracy: 0.4762\n",
      "Epoch 14/1000\n",
      "26/26 [==============================] - ETA: 0s - loss: 0.8197 - accuracy: 0.62 - ETA: 0s - loss: 1.0474 - accuracy: 0.49 - ETA: 0s - loss: 0.9807 - accuracy: 0.55 - ETA: 0s - loss: 0.9693 - accuracy: 0.55 - ETA: 0s - loss: 0.9610 - accuracy: 0.57 - ETA: 0s - loss: 0.9645 - accuracy: 0.57 - 1s 38ms/step - loss: 0.9645 - accuracy: 0.5757 - val_loss: 1.0827 - val_accuracy: 0.5060\n",
      "Epoch 15/1000\n",
      "26/26 [==============================] - ETA: 0s - loss: 0.9013 - accuracy: 0.56 - ETA: 0s - loss: 1.0630 - accuracy: 0.54 - ETA: 0s - loss: 0.9810 - accuracy: 0.59 - ETA: 0s - loss: 0.9490 - accuracy: 0.60 - ETA: 0s - loss: 0.9327 - accuracy: 0.61 - 1s 42ms/step - loss: 0.9312 - accuracy: 0.6094 - val_loss: 1.0943 - val_accuracy: 0.5119\n",
      "Epoch 16/1000\n",
      "26/26 [==============================] - ETA: 0s - loss: 0.9019 - accuracy: 0.71 - ETA: 0s - loss: 1.0131 - accuracy: 0.53 - ETA: 0s - loss: 0.9925 - accuracy: 0.55 - ETA: 0s - loss: 0.9697 - accuracy: 0.56 - ETA: 0s - loss: 0.9700 - accuracy: 0.58 - ETA: 0s - loss: 0.9548 - accuracy: 0.59 - 1s 49ms/step - loss: 0.9548 - accuracy: 0.5950 - val_loss: 1.1091 - val_accuracy: 0.4881\n",
      "Epoch 17/1000\n",
      "26/26 [==============================] - ETA: 0s - loss: 0.9643 - accuracy: 0.62 - ETA: 0s - loss: 1.0477 - accuracy: 0.52 - ETA: 0s - loss: 0.9716 - accuracy: 0.59 - ETA: 0s - loss: 0.9519 - accuracy: 0.60 - ETA: 0s - loss: 0.9474 - accuracy: 0.60 - ETA: 0s - loss: 0.9460 - accuracy: 0.60 - 1s 41ms/step - loss: 0.9356 - accuracy: 0.6142 - val_loss: 1.1033 - val_accuracy: 0.5119\n",
      "Epoch 18/1000\n",
      "26/26 [==============================] - ETA: 0s - loss: 1.0802 - accuracy: 0.56 - ETA: 0s - loss: 1.0307 - accuracy: 0.56 - ETA: 0s - loss: 0.9108 - accuracy: 0.62 - ETA: 0s - loss: 0.8815 - accuracy: 0.62 - ETA: 0s - loss: 0.8829 - accuracy: 0.64 - ETA: 0s - loss: 0.8774 - accuracy: 0.63 - 1s 42ms/step - loss: 0.8774 - accuracy: 0.6358 - val_loss: 1.1145 - val_accuracy: 0.4821\n",
      "Epoch 19/1000\n",
      "26/26 [==============================] - ETA: 0s - loss: 0.8725 - accuracy: 0.71 - ETA: 0s - loss: 0.9112 - accuracy: 0.63 - ETA: 0s - loss: 0.8893 - accuracy: 0.62 - ETA: 0s - loss: 0.8739 - accuracy: 0.62 - ETA: 0s - loss: 0.8784 - accuracy: 0.63 - ETA: 0s - loss: 0.8694 - accuracy: 0.62 - 1s 34ms/step - loss: 0.8694 - accuracy: 0.6298 - val_loss: 1.1444 - val_accuracy: 0.4940\n",
      "Epoch 20/1000\n",
      "26/26 [==============================] - ETA: 0s - loss: 0.8591 - accuracy: 0.59 - ETA: 0s - loss: 0.9919 - accuracy: 0.55 - ETA: 0s - loss: 0.8958 - accuracy: 0.61 - ETA: 0s - loss: 0.8819 - accuracy: 0.61 - ETA: 0s - loss: 0.8912 - accuracy: 0.61 - 1s 39ms/step - loss: 0.8711 - accuracy: 0.6322 - val_loss: 1.1532 - val_accuracy: 0.4762\n",
      "Epoch 21/1000\n",
      "26/26 [==============================] - ETA: 0s - loss: 0.8121 - accuracy: 0.65 - ETA: 0s - loss: 0.9038 - accuracy: 0.64 - ETA: 0s - loss: 0.8265 - accuracy: 0.67 - ETA: 0s - loss: 0.8338 - accuracy: 0.67 - ETA: 0s - loss: 0.8268 - accuracy: 0.67 - ETA: 0s - loss: 0.8143 - accuracy: 0.68 - 1s 34ms/step - loss: 0.8143 - accuracy: 0.6815 - val_loss: 1.1248 - val_accuracy: 0.5000\n",
      "Epoch 22/1000\n"
     ]
    },
    {
     "name": "stdout",
     "output_type": "stream",
     "text": [
      "26/26 [==============================] - ETA: 0s - loss: 0.9304 - accuracy: 0.56 - ETA: 0s - loss: 0.8624 - accuracy: 0.66 - ETA: 0s - loss: 0.8134 - accuracy: 0.67 - ETA: 0s - loss: 0.8116 - accuracy: 0.66 - ETA: 0s - loss: 0.8047 - accuracy: 0.67 - ETA: 0s - loss: 0.8236 - accuracy: 0.65 - 1s 50ms/step - loss: 0.8236 - accuracy: 0.6599 - val_loss: 1.1561 - val_accuracy: 0.4583\n",
      "Epoch 23/1000\n",
      "26/26 [==============================] - ETA: 0s - loss: 0.7102 - accuracy: 0.71 - ETA: 0s - loss: 0.9879 - accuracy: 0.60 - ETA: 0s - loss: 0.9021 - accuracy: 0.64 - ETA: 0s - loss: 0.8731 - accuracy: 0.65 - ETA: 0s - loss: 0.8454 - accuracy: 0.66 - 1s 38ms/step - loss: 0.8229 - accuracy: 0.6647 - val_loss: 1.1829 - val_accuracy: 0.4583\n",
      "Epoch 24/1000\n",
      "26/26 [==============================] - ETA: 0s - loss: 0.7601 - accuracy: 0.62 - ETA: 0s - loss: 0.8570 - accuracy: 0.67 - ETA: 0s - loss: 0.7996 - accuracy: 0.68 - ETA: 0s - loss: 0.8010 - accuracy: 0.67 - ETA: 0s - loss: 0.8116 - accuracy: 0.66 - ETA: 0s - loss: 0.7908 - accuracy: 0.67 - 1s 39ms/step - loss: 0.7908 - accuracy: 0.6779 - val_loss: 1.1501 - val_accuracy: 0.5119\n"
     ]
    },
    {
     "data": {
      "text/html": [
       "<span style=\"color:#4527A0\"><h1 style=\"font-size:18px\">Trial complete</h1></span>"
      ],
      "text/plain": [
       "<IPython.core.display.HTML object>"
      ]
     },
     "metadata": {},
     "output_type": "display_data"
    },
    {
     "data": {
      "text/html": [
       "<span style=\"color:#4527A0\"><h1 style=\"font-size:18px\">Trial summary</h1></span>"
      ],
      "text/plain": [
       "<IPython.core.display.HTML object>"
      ]
     },
     "metadata": {},
     "output_type": "display_data"
    },
    {
     "data": {
      "text/html": [
       "<span style=\"color:cyan\"> |-Trial ID: d2a6be03596c009544ecaa2256801598</span>"
      ],
      "text/plain": [
       "<IPython.core.display.HTML object>"
      ]
     },
     "metadata": {},
     "output_type": "display_data"
    },
    {
     "data": {
      "text/html": [
       "<span style=\"color:cyan\"> |-Score: 0.523809552192688</span>"
      ],
      "text/plain": [
       "<IPython.core.display.HTML object>"
      ]
     },
     "metadata": {},
     "output_type": "display_data"
    },
    {
     "data": {
      "text/html": [
       "<span style=\"color:cyan\"> |-Best step: 9</span>"
      ],
      "text/plain": [
       "<IPython.core.display.HTML object>"
      ]
     },
     "metadata": {},
     "output_type": "display_data"
    },
    {
     "data": {
      "text/html": [
       "<span style=\"color:#7E57C2\"><h2 style=\"font-size:16px\">Hyperparameters:</h2></span>"
      ],
      "text/plain": [
       "<IPython.core.display.HTML object>"
      ]
     },
     "metadata": {},
     "output_type": "display_data"
    },
    {
     "data": {
      "text/html": [
       "<span style=\"color:cyan\"> |-classification_head_1/dropout: 0.25</span>"
      ],
      "text/plain": [
       "<IPython.core.display.HTML object>"
      ]
     },
     "metadata": {},
     "output_type": "display_data"
    },
    {
     "data": {
      "text/html": [
       "<span style=\"color:blue\"> |-learning_rate: 0.001</span>"
      ],
      "text/plain": [
       "<IPython.core.display.HTML object>"
      ]
     },
     "metadata": {},
     "output_type": "display_data"
    },
    {
     "data": {
      "text/html": [
       "<span style=\"color:cyan\"> |-optimizer: adam</span>"
      ],
      "text/plain": [
       "<IPython.core.display.HTML object>"
      ]
     },
     "metadata": {},
     "output_type": "display_data"
    },
    {
     "data": {
      "text/html": [
       "<span style=\"color:blue\"> |-structured_data_block_1/dense_block_1/dropout: 0.25</span>"
      ],
      "text/plain": [
       "<IPython.core.display.HTML object>"
      ]
     },
     "metadata": {},
     "output_type": "display_data"
    },
    {
     "data": {
      "text/html": [
       "<span style=\"color:cyan\"> |-structured_data_block_1/dense_block_1/num_layers: 3</span>"
      ],
      "text/plain": [
       "<IPython.core.display.HTML object>"
      ]
     },
     "metadata": {},
     "output_type": "display_data"
    },
    {
     "data": {
      "text/html": [
       "<span style=\"color:blue\"> |-structured_data_block_1/dense_block_1/units_0: 128</span>"
      ],
      "text/plain": [
       "<IPython.core.display.HTML object>"
      ]
     },
     "metadata": {},
     "output_type": "display_data"
    },
    {
     "data": {
      "text/html": [
       "<span style=\"color:cyan\"> |-structured_data_block_1/dense_block_1/units_1: 64</span>"
      ],
      "text/plain": [
       "<IPython.core.display.HTML object>"
      ]
     },
     "metadata": {},
     "output_type": "display_data"
    },
    {
     "data": {
      "text/html": [
       "<span style=\"color:blue\"> |-structured_data_block_1/dense_block_1/units_2: 32</span>"
      ],
      "text/plain": [
       "<IPython.core.display.HTML object>"
      ]
     },
     "metadata": {},
     "output_type": "display_data"
    },
    {
     "data": {
      "text/html": [
       "<span style=\"color:cyan\"> |-structured_data_block_1/dense_block_1/use_batchnorm: True</span>"
      ],
      "text/plain": [
       "<IPython.core.display.HTML object>"
      ]
     },
     "metadata": {},
     "output_type": "display_data"
    },
    {
     "data": {
      "text/html": [
       "<span style=\"color:#4527A0\"><h1 style=\"font-size:18px\">Starting new trial</h1></span>"
      ],
      "text/plain": [
       "<IPython.core.display.HTML object>"
      ]
     },
     "metadata": {},
     "output_type": "display_data"
    },
    {
     "name": "stdout",
     "output_type": "stream",
     "text": [
      "Epoch 1/1000\n",
      "26/26 [==============================] - ETA: 0s - loss: 2001.6399 - accuracy: 0.343 - ETA: 0s - loss: 2614.9443 - accuracy: 0.239 - ETA: 0s - loss: 2357.6777 - accuracy: 0.252 - ETA: 0s - loss: 2086.8989 - accuracy: 0.276 - ETA: 0s - loss: 2097.9219 - accuracy: 0.261 - 6s 223ms/step - loss: 2094.0430 - accuracy: 0.2596 - val_loss: 674.4324 - val_accuracy: 0.2976\n",
      "Epoch 2/1000\n",
      "26/26 [==============================] - ETA: 0s - loss: 1488.1511 - accuracy: 0.281 - ETA: 0s - loss: 1290.8378 - accuracy: 0.321 - ETA: 0s - loss: 1123.0663 - accuracy: 0.331 - ETA: 0s - loss: 1082.9801 - accuracy: 0.343 - ETA: 0s - loss: 1001.1367 - accuracy: 0.360 - 1s 34ms/step - loss: 995.8105 - accuracy: 0.3606 - val_loss: 373.4753 - val_accuracy: 0.4643\n",
      "Epoch 3/1000\n",
      "26/26 [==============================] - ETA: 0s - loss: 722.7613 - accuracy: 0.37 - ETA: 0s - loss: 876.8997 - accuracy: 0.40 - ETA: 0s - loss: 658.4147 - accuracy: 0.40 - ETA: 0s - loss: 604.1883 - accuracy: 0.39 - ETA: 0s - loss: 547.2328 - accuracy: 0.40 - 1s 38ms/step - loss: 538.7881 - accuracy: 0.4026 - val_loss: 215.8009 - val_accuracy: 0.4762\n",
      "Epoch 4/1000\n",
      "26/26 [==============================] - ETA: 0s - loss: 317.6906 - accuracy: 0.53 - ETA: 0s - loss: 427.4818 - accuracy: 0.40 - ETA: 0s - loss: 330.1525 - accuracy: 0.41 - ETA: 0s - loss: 285.0250 - accuracy: 0.42 - ETA: 0s - loss: 286.0305 - accuracy: 0.42 - 1s 35ms/step - loss: 256.0128 - accuracy: 0.4279 - val_loss: 115.7090 - val_accuracy: 0.4643\n",
      "Epoch 5/1000\n",
      "26/26 [==============================] - ETA: 0s - loss: 125.1284 - accuracy: 0.53 - ETA: 0s - loss: 119.6238 - accuracy: 0.44 - ETA: 0s - loss: 116.5319 - accuracy: 0.43 - ETA: 0s - loss: 105.3596 - accuracy: 0.43 - ETA: 0s - loss: 126.7727 - accuracy: 0.43 - 1s 43ms/step - loss: 126.0184 - accuracy: 0.4375 - val_loss: 69.3218 - val_accuracy: 0.4286\n",
      "Epoch 6/1000\n",
      "26/26 [==============================] - ETA: 0s - loss: 96.2449 - accuracy: 0.281 - ETA: 0s - loss: 160.4644 - accuracy: 0.38 - ETA: 0s - loss: 105.8987 - accuracy: 0.39 - ETA: 0s - loss: 85.4464 - accuracy: 0.4030 - ETA: 0s - loss: 74.8209 - accuracy: 0.413 - 1s 47ms/step - loss: 73.8648 - accuracy: 0.4135 - val_loss: 43.6276 - val_accuracy: 0.3155\n",
      "Epoch 7/1000\n",
      "26/26 [==============================] - ETA: 0s - loss: 23.5486 - accuracy: 0.406 - ETA: 0s - loss: 171.3791 - accuracy: 0.38 - ETA: 0s - loss: 111.6657 - accuracy: 0.37 - ETA: 0s - loss: 84.3969 - accuracy: 0.3717 - ETA: 0s - loss: 68.9803 - accuracy: 0.373 - 1s 43ms/step - loss: 67.3313 - accuracy: 0.3798 - val_loss: 40.1379 - val_accuracy: 0.3452\n",
      "Epoch 8/1000\n",
      "26/26 [==============================] - ETA: 0s - loss: 25.9633 - accuracy: 0.312 - ETA: 0s - loss: 30.4588 - accuracy: 0.325 - ETA: 0s - loss: 24.0447 - accuracy: 0.353 - ETA: 0s - loss: 26.0076 - accuracy: 0.356 - ETA: 0s - loss: 24.2498 - accuracy: 0.352 - 1s 48ms/step - loss: 23.8293 - accuracy: 0.3570 - val_loss: 25.3755 - val_accuracy: 0.3095\n",
      "Epoch 9/1000\n",
      "26/26 [==============================] - ETA: 0s - loss: 25.3263 - accuracy: 0.343 - ETA: 0s - loss: 17.9235 - accuracy: 0.339 - ETA: 0s - loss: 21.9420 - accuracy: 0.351 - ETA: 0s - loss: 17.9136 - accuracy: 0.361 - ETA: 0s - loss: 18.2531 - accuracy: 0.357 - 1s 45ms/step - loss: 18.8032 - accuracy: 0.3570 - val_loss: 27.8982 - val_accuracy: 0.3036\n",
      "Epoch 10/1000\n",
      "26/26 [==============================] - ETA: 0s - loss: 25.6599 - accuracy: 0.343 - ETA: 0s - loss: 11.6472 - accuracy: 0.348 - ETA: 0s - loss: 9.5568 - accuracy: 0.353 - ETA: 0s - loss: 16.6372 - accuracy: 0.343 - ETA: 0s - loss: 14.6041 - accuracy: 0.351 - 1s 47ms/step - loss: 14.2789 - accuracy: 0.3498 - val_loss: 23.7863 - val_accuracy: 0.2679\n",
      "Epoch 11/1000\n",
      "26/26 [==============================] - ETA: 0s - loss: 13.7665 - accuracy: 0.312 - ETA: 0s - loss: 8.1233 - accuracy: 0.325 - ETA: 0s - loss: 7.2572 - accuracy: 0.32 - ETA: 0s - loss: 9.1704 - accuracy: 0.34 - ETA: 0s - loss: 12.4300 - accuracy: 0.343 - 1s 57ms/step - loss: 12.0976 - accuracy: 0.3462 - val_loss: 17.7217 - val_accuracy: 0.3155\n",
      "Epoch 12/1000\n",
      "26/26 [==============================] - ETA: 0s - loss: 13.3335 - accuracy: 0.468 - ETA: 0s - loss: 5.4933 - accuracy: 0.392 - ETA: 0s - loss: 4.5931 - accuracy: 0.36 - ETA: 0s - loss: 4.4965 - accuracy: 0.35 - ETA: 0s - loss: 5.2132 - accuracy: 0.36 - 1s 47ms/step - loss: 5.3275 - accuracy: 0.3678 - val_loss: 16.0796 - val_accuracy: 0.3155\n",
      "Epoch 13/1000\n",
      "26/26 [==============================] - ETA: 0s - loss: 8.8396 - accuracy: 0.43 - ETA: 0s - loss: 10.0391 - accuracy: 0.366 - ETA: 0s - loss: 7.6707 - accuracy: 0.356 - ETA: 0s - loss: 6.1600 - accuracy: 0.35 - ETA: 0s - loss: 6.0274 - accuracy: 0.35 - 1s 48ms/step - loss: 5.8605 - accuracy: 0.3570 - val_loss: 12.7975 - val_accuracy: 0.3214\n",
      "Epoch 14/1000\n",
      "26/26 [==============================] - ETA: 0s - loss: 9.2672 - accuracy: 0.34 - ETA: 0s - loss: 6.1434 - accuracy: 0.35 - ETA: 0s - loss: 13.3472 - accuracy: 0.330 - ETA: 0s - loss: 11.0010 - accuracy: 0.341 - ETA: 0s - loss: 13.4539 - accuracy: 0.343 - 1s 46ms/step - loss: 12.2408 - accuracy: 0.3462 - val_loss: 8.8381 - val_accuracy: 0.3393\n",
      "Epoch 15/1000\n",
      "26/26 [==============================] - ETA: 0s - loss: 21.2204 - accuracy: 0.312 - ETA: 0s - loss: 6.9370 - accuracy: 0.375 - ETA: 0s - loss: 5.8325 - accuracy: 0.36 - ETA: 0s - loss: 5.2320 - accuracy: 0.37 - ETA: 0s - loss: 4.6865 - accuracy: 0.37 - 1s 41ms/step - loss: 4.5495 - accuracy: 0.3738 - val_loss: 8.2148 - val_accuracy: 0.3631\n",
      "Epoch 16/1000\n",
      "26/26 [==============================] - ETA: 0s - loss: 14.7835 - accuracy: 0.312 - ETA: 0s - loss: 11.0549 - accuracy: 0.381 - ETA: 0s - loss: 7.1702 - accuracy: 0.400 - ETA: 0s - loss: 5.5015 - accuracy: 0.39 - ETA: 0s - loss: 7.4722 - accuracy: 0.39 - 1s 45ms/step - loss: 6.3813 - accuracy: 0.3966 - val_loss: 8.5360 - val_accuracy: 0.3452\n",
      "Epoch 17/1000\n",
      "26/26 [==============================] - ETA: 0s - loss: 2.2881 - accuracy: 0.21 - ETA: 0s - loss: 1.6069 - accuracy: 0.42 - ETA: 0s - loss: 2.3947 - accuracy: 0.42 - ETA: 0s - loss: 4.7219 - accuracy: 0.40 - ETA: 0s - loss: 3.9507 - accuracy: 0.39 - ETA: 0s - loss: 3.4653 - accuracy: 0.40 - 2s 60ms/step - loss: 3.4653 - accuracy: 0.4002 - val_loss: 8.7085 - val_accuracy: 0.3512\n",
      "Epoch 18/1000\n",
      "26/26 [==============================] - ETA: 0s - loss: 1.2031 - accuracy: 0.31 - ETA: 0s - loss: 2.1248 - accuracy: 0.44 - ETA: 0s - loss: 3.7309 - accuracy: 0.42 - ETA: 0s - loss: 3.9473 - accuracy: 0.40 - ETA: 0s - loss: 3.6073 - accuracy: 0.40 - 1s 42ms/step - loss: 3.3261 - accuracy: 0.4087 - val_loss: 8.6561 - val_accuracy: 0.3512\n",
      "Epoch 19/1000\n",
      "26/26 [==============================] - ETA: 0s - loss: 3.6010 - accuracy: 0.25 - ETA: 0s - loss: 2.4834 - accuracy: 0.40 - ETA: 0s - loss: 3.6695 - accuracy: 0.40 - ETA: 0s - loss: 3.0910 - accuracy: 0.39 - ETA: 0s - loss: 4.4425 - accuracy: 0.39 - 1s 40ms/step - loss: 4.2249 - accuracy: 0.3894 - val_loss: 9.4289 - val_accuracy: 0.3452\n",
      "Epoch 20/1000\n",
      "26/26 [==============================] - ETA: 0s - loss: 1.5946 - accuracy: 0.31 - ETA: 0s - loss: 1.3580 - accuracy: 0.42 - ETA: 0s - loss: 1.7144 - accuracy: 0.41 - ETA: 0s - loss: 2.1731 - accuracy: 0.40 - ETA: 0s - loss: 2.3383 - accuracy: 0.39 - 1s 50ms/step - loss: 2.3133 - accuracy: 0.3894 - val_loss: 8.6097 - val_accuracy: 0.3571\n",
      "Epoch 21/1000\n",
      "26/26 [==============================] - ETA: 0s - loss: 1.1249 - accuracy: 0.37 - ETA: 0s - loss: 3.1057 - accuracy: 0.42 - ETA: 0s - loss: 3.0842 - accuracy: 0.42 - ETA: 0s - loss: 2.7394 - accuracy: 0.40 - ETA: 0s - loss: 2.4144 - accuracy: 0.40 - 2s 61ms/step - loss: 2.3665 - accuracy: 0.3966 - val_loss: 8.1340 - val_accuracy: 0.3512\n",
      "Epoch 22/1000\n",
      "26/26 [==============================] - ETA: 0s - loss: 1.0198 - accuracy: 0.40 - ETA: 0s - loss: 1.1708 - accuracy: 0.46 - ETA: 0s - loss: 2.2518 - accuracy: 0.43 - ETA: 0s - loss: 2.0779 - accuracy: 0.41 - ETA: 0s - loss: 1.8943 - accuracy: 0.41 - 1s 48ms/step - loss: 1.8435 - accuracy: 0.4050 - val_loss: 8.4026 - val_accuracy: 0.3571\n",
      "Epoch 23/1000\n"
     ]
    },
    {
     "name": "stdout",
     "output_type": "stream",
     "text": [
      "26/26 [==============================] - ETA: 0s - loss: 3.1899 - accuracy: 0.34 - ETA: 0s - loss: 2.3714 - accuracy: 0.43 - ETA: 0s - loss: 2.5676 - accuracy: 0.41 - ETA: 0s - loss: 2.1165 - accuracy: 0.40 - ETA: 0s - loss: 2.0307 - accuracy: 0.40 - 2s 58ms/step - loss: 1.9980 - accuracy: 0.4050 - val_loss: 8.5732 - val_accuracy: 0.3571\n",
      "Epoch 24/1000\n",
      "26/26 [==============================] - ETA: 0s - loss: 1.0993 - accuracy: 0.40 - ETA: 0s - loss: 1.4518 - accuracy: 0.44 - ETA: 0s - loss: 1.6771 - accuracy: 0.43 - ETA: 0s - loss: 1.7647 - accuracy: 0.41 - ETA: 0s - loss: 1.8155 - accuracy: 0.40 - 1s 51ms/step - loss: 1.8346 - accuracy: 0.4026 - val_loss: 7.8560 - val_accuracy: 0.3512\n",
      "Epoch 25/1000\n",
      "26/26 [==============================] - ETA: 0s - loss: 5.1159 - accuracy: 0.28 - ETA: 0s - loss: 3.5358 - accuracy: 0.38 - ETA: 0s - loss: 2.4457 - accuracy: 0.40 - ETA: 0s - loss: 2.0881 - accuracy: 0.37 - ETA: 0s - loss: 1.8883 - accuracy: 0.37 - 1s 49ms/step - loss: 1.7870 - accuracy: 0.3738 - val_loss: 7.1774 - val_accuracy: 0.3452\n",
      "Epoch 26/1000\n",
      "26/26 [==============================] - ETA: 0s - loss: 1.0930 - accuracy: 0.40 - ETA: 0s - loss: 2.1944 - accuracy: 0.41 - ETA: 0s - loss: 1.8201 - accuracy: 0.39 - ETA: 0s - loss: 1.6493 - accuracy: 0.38 - ETA: 0s - loss: 1.5624 - accuracy: 0.38 - 1s 47ms/step - loss: 1.5857 - accuracy: 0.3810 - val_loss: 7.0808 - val_accuracy: 0.3393\n",
      "Epoch 27/1000\n",
      "26/26 [==============================] - ETA: 0s - loss: 3.0628 - accuracy: 0.25 - ETA: 0s - loss: 1.9444 - accuracy: 0.40 - ETA: 0s - loss: 1.6304 - accuracy: 0.38 - ETA: 0s - loss: 1.5346 - accuracy: 0.37 - ETA: 0s - loss: 1.9550 - accuracy: 0.37 - 1s 50ms/step - loss: 1.9615 - accuracy: 0.3714 - val_loss: 6.9917 - val_accuracy: 0.3393\n",
      "Epoch 28/1000\n",
      "26/26 [==============================] - ETA: 0s - loss: 1.0878 - accuracy: 0.37 - ETA: 0s - loss: 1.5747 - accuracy: 0.42 - ETA: 0s - loss: 1.4429 - accuracy: 0.40 - ETA: 0s - loss: 3.7351 - accuracy: 0.38 - ETA: 0s - loss: 3.1535 - accuracy: 0.38 - 1s 49ms/step - loss: 3.0776 - accuracy: 0.3810 - val_loss: 6.7674 - val_accuracy: 0.3393\n",
      "Epoch 29/1000\n",
      "26/26 [==============================] - ETA: 0s - loss: 1.2567 - accuracy: 0.25 - ETA: 0s - loss: 1.2764 - accuracy: 0.41 - ETA: 0s - loss: 2.5829 - accuracy: 0.42 - ETA: 0s - loss: 2.5430 - accuracy: 0.40 - ETA: 0s - loss: 2.2404 - accuracy: 0.38 - ETA: 0s - loss: 2.1531 - accuracy: 0.37 - 2s 64ms/step - loss: 2.1531 - accuracy: 0.3798 - val_loss: 6.2533 - val_accuracy: 0.3512\n",
      "Epoch 30/1000\n",
      "26/26 [==============================] - ETA: 0s - loss: 1.6489 - accuracy: 0.31 - ETA: 0s - loss: 1.9192 - accuracy: 0.37 - ETA: 0s - loss: 2.1685 - accuracy: 0.37 - ETA: 0s - loss: 1.8776 - accuracy: 0.36 - ETA: 0s - loss: 1.7287 - accuracy: 0.37 - 1s 50ms/step - loss: 1.7256 - accuracy: 0.3702 - val_loss: 8.1915 - val_accuracy: 0.3333\n",
      "Epoch 31/1000\n",
      "26/26 [==============================] - ETA: 0s - loss: 1.8493 - accuracy: 0.25 - ETA: 0s - loss: 1.3673 - accuracy: 0.39 - ETA: 0s - loss: 1.7064 - accuracy: 0.36 - ETA: 0s - loss: 1.6073 - accuracy: 0.35 - ETA: 0s - loss: 1.5331 - accuracy: 0.36 - 1s 47ms/step - loss: 1.5189 - accuracy: 0.3606 - val_loss: 6.3633 - val_accuracy: 0.3393\n",
      "Epoch 32/1000\n",
      "26/26 [==============================] - ETA: 0s - loss: 1.1050 - accuracy: 0.34 - ETA: 0s - loss: 5.6013 - accuracy: 0.39 - ETA: 0s - loss: 4.2462 - accuracy: 0.38 - ETA: 0s - loss: 3.2949 - accuracy: 0.37 - ETA: 0s - loss: 2.7940 - accuracy: 0.38 - 1s 49ms/step - loss: 2.7478 - accuracy: 0.3798 - val_loss: 7.1933 - val_accuracy: 0.3155\n",
      "Epoch 33/1000\n",
      "26/26 [==============================] - ETA: 0s - loss: 1.3797 - accuracy: 0.25 - ETA: 0s - loss: 3.1110 - accuracy: 0.38 - ETA: 0s - loss: 2.6568 - accuracy: 0.41 - ETA: 0s - loss: 2.1135 - accuracy: 0.39 - ETA: 0s - loss: 1.8941 - accuracy: 0.38 - 1s 48ms/step - loss: 1.8648 - accuracy: 0.3798 - val_loss: 7.1630 - val_accuracy: 0.3393\n",
      "Epoch 34/1000\n",
      "26/26 [==============================] - ETA: 0s - loss: 1.1071 - accuracy: 0.37 - ETA: 0s - loss: 1.7374 - accuracy: 0.42 - ETA: 0s - loss: 1.5644 - accuracy: 0.39 - ETA: 0s - loss: 1.4630 - accuracy: 0.38 - ETA: 0s - loss: 1.4096 - accuracy: 0.37 - 1s 44ms/step - loss: 1.4143 - accuracy: 0.3726 - val_loss: 7.9886 - val_accuracy: 0.3155\n",
      "Epoch 35/1000\n",
      "26/26 [==============================] - ETA: 0s - loss: 1.2269 - accuracy: 0.34 - ETA: 0s - loss: 2.6411 - accuracy: 0.39 - ETA: 0s - loss: 2.3367 - accuracy: 0.38 - ETA: 0s - loss: 1.9814 - accuracy: 0.37 - ETA: 0s - loss: 1.7918 - accuracy: 0.37 - 1s 53ms/step - loss: 1.7765 - accuracy: 0.3738 - val_loss: 8.3408 - val_accuracy: 0.3571\n",
      "Epoch 36/1000\n",
      "26/26 [==============================] - ETA: 0s - loss: 1.3272 - accuracy: 0.25 - ETA: 0s - loss: 1.3484 - accuracy: 0.41 - ETA: 0s - loss: 1.7926 - accuracy: 0.40 - ETA: 0s - loss: 1.8993 - accuracy: 0.39 - ETA: 0s - loss: 1.8172 - accuracy: 0.38 - 1s 42ms/step - loss: 1.7669 - accuracy: 0.3870 - val_loss: 7.7377 - val_accuracy: 0.3631\n",
      "Epoch 37/1000\n",
      "26/26 [==============================] - ETA: 0s - loss: 1.8401 - accuracy: 0.28 - ETA: 0s - loss: 1.5181 - accuracy: 0.41 - ETA: 0s - loss: 1.3280 - accuracy: 0.43 - ETA: 0s - loss: 1.2851 - accuracy: 0.41 - ETA: 0s - loss: 1.2949 - accuracy: 0.39 - ETA: 0s - loss: 1.2747 - accuracy: 0.40 - 1s 39ms/step - loss: 1.2747 - accuracy: 0.4014 - val_loss: 12.1701 - val_accuracy: 0.3452\n",
      "Epoch 38/1000\n",
      "26/26 [==============================] - ETA: 0s - loss: 1.1211 - accuracy: 0.34 - ETA: 0s - loss: 1.9133 - accuracy: 0.43 - ETA: 0s - loss: 1.6397 - accuracy: 0.42 - ETA: 0s - loss: 1.7779 - accuracy: 0.40 - ETA: 0s - loss: 1.7937 - accuracy: 0.40 - 1s 37ms/step - loss: 1.7686 - accuracy: 0.4014 - val_loss: 7.3667 - val_accuracy: 0.3631\n",
      "Epoch 39/1000\n",
      "26/26 [==============================] - ETA: 0s - loss: 1.7062 - accuracy: 0.31 - ETA: 0s - loss: 1.5625 - accuracy: 0.41 - ETA: 0s - loss: 1.3873 - accuracy: 0.41 - ETA: 0s - loss: 1.3390 - accuracy: 0.38 - ETA: 0s - loss: 1.3251 - accuracy: 0.39 - 1s 43ms/step - loss: 1.3200 - accuracy: 0.3894 - val_loss: 6.3731 - val_accuracy: 0.3571\n"
     ]
    },
    {
     "data": {
      "text/html": [
       "<span style=\"color:#4527A0\"><h1 style=\"font-size:18px\">Trial complete</h1></span>"
      ],
      "text/plain": [
       "<IPython.core.display.HTML object>"
      ]
     },
     "metadata": {},
     "output_type": "display_data"
    },
    {
     "data": {
      "text/html": [
       "<span style=\"color:#4527A0\"><h1 style=\"font-size:18px\">Trial summary</h1></span>"
      ],
      "text/plain": [
       "<IPython.core.display.HTML object>"
      ]
     },
     "metadata": {},
     "output_type": "display_data"
    },
    {
     "data": {
      "text/html": [
       "<span style=\"color:cyan\"> |-Trial ID: b36a11af0d515576897ced2a4ce89426</span>"
      ],
      "text/plain": [
       "<IPython.core.display.HTML object>"
      ]
     },
     "metadata": {},
     "output_type": "display_data"
    },
    {
     "data": {
      "text/html": [
       "<span style=\"color:cyan\"> |-Score: 0.4761904776096344</span>"
      ],
      "text/plain": [
       "<IPython.core.display.HTML object>"
      ]
     },
     "metadata": {},
     "output_type": "display_data"
    },
    {
     "data": {
      "text/html": [
       "<span style=\"color:cyan\"> |-Best step: 2</span>"
      ],
      "text/plain": [
       "<IPython.core.display.HTML object>"
      ]
     },
     "metadata": {},
     "output_type": "display_data"
    },
    {
     "data": {
      "text/html": [
       "<span style=\"color:#7E57C2\"><h2 style=\"font-size:16px\">Hyperparameters:</h2></span>"
      ],
      "text/plain": [
       "<IPython.core.display.HTML object>"
      ]
     },
     "metadata": {},
     "output_type": "display_data"
    },
    {
     "data": {
      "text/html": [
       "<span style=\"color:cyan\"> |-classification_head_1/dropout: 0</span>"
      ],
      "text/plain": [
       "<IPython.core.display.HTML object>"
      ]
     },
     "metadata": {},
     "output_type": "display_data"
    },
    {
     "data": {
      "text/html": [
       "<span style=\"color:blue\"> |-learning_rate: 0.001</span>"
      ],
      "text/plain": [
       "<IPython.core.display.HTML object>"
      ]
     },
     "metadata": {},
     "output_type": "display_data"
    },
    {
     "data": {
      "text/html": [
       "<span style=\"color:cyan\"> |-optimizer: adam</span>"
      ],
      "text/plain": [
       "<IPython.core.display.HTML object>"
      ]
     },
     "metadata": {},
     "output_type": "display_data"
    },
    {
     "data": {
      "text/html": [
       "<span style=\"color:blue\"> |-structured_data_block_1/dense_block_1/dropout: 0.5</span>"
      ],
      "text/plain": [
       "<IPython.core.display.HTML object>"
      ]
     },
     "metadata": {},
     "output_type": "display_data"
    },
    {
     "data": {
      "text/html": [
       "<span style=\"color:cyan\"> |-structured_data_block_1/dense_block_1/num_layers: 1</span>"
      ],
      "text/plain": [
       "<IPython.core.display.HTML object>"
      ]
     },
     "metadata": {},
     "output_type": "display_data"
    },
    {
     "data": {
      "text/html": [
       "<span style=\"color:blue\"> |-structured_data_block_1/dense_block_1/units_0: 128</span>"
      ],
      "text/plain": [
       "<IPython.core.display.HTML object>"
      ]
     },
     "metadata": {},
     "output_type": "display_data"
    },
    {
     "data": {
      "text/html": [
       "<span style=\"color:cyan\"> |-structured_data_block_1/dense_block_1/units_1: 32</span>"
      ],
      "text/plain": [
       "<IPython.core.display.HTML object>"
      ]
     },
     "metadata": {},
     "output_type": "display_data"
    },
    {
     "data": {
      "text/html": [
       "<span style=\"color:blue\"> |-structured_data_block_1/dense_block_1/units_2: 128</span>"
      ],
      "text/plain": [
       "<IPython.core.display.HTML object>"
      ]
     },
     "metadata": {},
     "output_type": "display_data"
    },
    {
     "data": {
      "text/html": [
       "<span style=\"color:cyan\"> |-structured_data_block_1/dense_block_1/use_batchnorm: False</span>"
      ],
      "text/plain": [
       "<IPython.core.display.HTML object>"
      ]
     },
     "metadata": {},
     "output_type": "display_data"
    },
    {
     "data": {
      "text/html": [
       "<span style=\"color:#4527A0\"><h1 style=\"font-size:18px\">Starting new trial</h1></span>"
      ],
      "text/plain": [
       "<IPython.core.display.HTML object>"
      ]
     },
     "metadata": {},
     "output_type": "display_data"
    },
    {
     "name": "stdout",
     "output_type": "stream",
     "text": [
      "Epoch 1/1000\n",
      "26/26 [==============================] - ETA: 0s - loss: 1.8087 - accuracy: 0.18 - ETA: 0s - loss: 1.6367 - accuracy: 0.35 - ETA: 0s - loss: 1.5180 - accuracy: 0.39 - ETA: 0s - loss: 1.5022 - accuracy: 0.41 - ETA: 0s - loss: 1.4894 - accuracy: 0.40 - ETA: 0s - loss: 1.4562 - accuracy: 0.40 - ETA: 0s - loss: 1.4477 - accuracy: 0.41 - 6s 226ms/step - loss: 1.4267 - accuracy: 0.4195 - val_loss: 1.3327 - val_accuracy: 0.3095\n",
      "Epoch 2/1000\n",
      "26/26 [==============================] - ETA: 0s - loss: 0.9581 - accuracy: 0.59 - ETA: 0s - loss: 1.0304 - accuracy: 0.59 - ETA: 0s - loss: 0.9430 - accuracy: 0.61 - ETA: 0s - loss: 0.9085 - accuracy: 0.64 - ETA: 0s - loss: 0.8933 - accuracy: 0.65 - ETA: 0s - loss: 0.8948 - accuracy: 0.64 - ETA: 0s - loss: 0.8832 - accuracy: 0.65 - 1s 44ms/step - loss: 0.8711 - accuracy: 0.6599 - val_loss: 1.3025 - val_accuracy: 0.3750\n",
      "Epoch 3/1000\n",
      "26/26 [==============================] - ETA: 0s - loss: 0.6184 - accuracy: 0.78 - ETA: 0s - loss: 0.7123 - accuracy: 0.73 - ETA: 0s - loss: 0.6684 - accuracy: 0.75 - ETA: 0s - loss: 0.6520 - accuracy: 0.75 - ETA: 0s - loss: 0.6260 - accuracy: 0.77 - ETA: 0s - loss: 0.6284 - accuracy: 0.76 - ETA: 0s - loss: 0.6322 - accuracy: 0.76 - 1s 55ms/step - loss: 0.6105 - accuracy: 0.7728 - val_loss: 1.2484 - val_accuracy: 0.3988\n",
      "Epoch 4/1000\n",
      "26/26 [==============================] - ETA: 0s - loss: 0.4698 - accuracy: 0.84 - ETA: 0s - loss: 0.4926 - accuracy: 0.81 - ETA: 0s - loss: 0.4459 - accuracy: 0.84 - ETA: 0s - loss: 0.4315 - accuracy: 0.85 - ETA: 0s - loss: 0.4341 - accuracy: 0.85 - ETA: 0s - loss: 0.4403 - accuracy: 0.84 - ETA: 0s - loss: 0.4353 - accuracy: 0.84 - 2s 60ms/step - loss: 0.4258 - accuracy: 0.8498 - val_loss: 1.2159 - val_accuracy: 0.4226\n",
      "Epoch 5/1000\n",
      "26/26 [==============================] - ETA: 0s - loss: 0.3007 - accuracy: 0.93 - ETA: 0s - loss: 0.3495 - accuracy: 0.88 - ETA: 0s - loss: 0.2993 - accuracy: 0.89 - ETA: 0s - loss: 0.3366 - accuracy: 0.88 - ETA: 0s - loss: 0.3347 - accuracy: 0.89 - ETA: 0s - loss: 0.3345 - accuracy: 0.89 - ETA: 0s - loss: 0.3197 - accuracy: 0.90 - 1s 50ms/step - loss: 0.3135 - accuracy: 0.9026 - val_loss: 1.2544 - val_accuracy: 0.3393\n",
      "Epoch 6/1000\n",
      "26/26 [==============================] - ETA: 0s - loss: 0.2760 - accuracy: 0.93 - ETA: 0s - loss: 0.2815 - accuracy: 0.92 - ETA: 0s - loss: 0.2502 - accuracy: 0.93 - ETA: 0s - loss: 0.2799 - accuracy: 0.92 - ETA: 0s - loss: 0.2795 - accuracy: 0.91 - ETA: 0s - loss: 0.2860 - accuracy: 0.91 - ETA: 0s - loss: 0.2940 - accuracy: 0.90 - 1s 42ms/step - loss: 0.2893 - accuracy: 0.9075 - val_loss: 1.1999 - val_accuracy: 0.4286\n",
      "Epoch 7/1000\n",
      "26/26 [==============================] - ETA: 0s - loss: 0.2720 - accuracy: 0.96 - ETA: 0s - loss: 0.2229 - accuracy: 0.95 - ETA: 0s - loss: 0.2126 - accuracy: 0.95 - ETA: 0s - loss: 0.2240 - accuracy: 0.94 - ETA: 0s - loss: 0.2583 - accuracy: 0.93 - ETA: 0s - loss: 0.2629 - accuracy: 0.94 - ETA: 0s - loss: 0.2533 - accuracy: 0.93 - 1s 49ms/step - loss: 0.2533 - accuracy: 0.9375 - val_loss: 1.2908 - val_accuracy: 0.4286\n",
      "Epoch 8/1000\n",
      "26/26 [==============================] - ETA: 0s - loss: 0.2265 - accuracy: 0.90 - ETA: 0s - loss: 0.3039 - accuracy: 0.89 - ETA: 0s - loss: 0.2582 - accuracy: 0.92 - ETA: 0s - loss: 0.2360 - accuracy: 0.93 - ETA: 0s - loss: 0.2421 - accuracy: 0.92 - ETA: 0s - loss: 0.2374 - accuracy: 0.92 - ETA: 0s - loss: 0.2354 - accuracy: 0.92 - 1s 50ms/step - loss: 0.2298 - accuracy: 0.9219 - val_loss: 1.2521 - val_accuracy: 0.4762\n",
      "Epoch 9/1000\n",
      "26/26 [==============================] - ETA: 0s - loss: 0.2473 - accuracy: 0.90 - ETA: 0s - loss: 0.1936 - accuracy: 0.93 - ETA: 0s - loss: 0.2095 - accuracy: 0.93 - ETA: 0s - loss: 0.1851 - accuracy: 0.94 - ETA: 0s - loss: 0.1721 - accuracy: 0.94 - ETA: 0s - loss: 0.1809 - accuracy: 0.94 - ETA: 0s - loss: 0.1843 - accuracy: 0.94 - 1s 45ms/step - loss: 0.1928 - accuracy: 0.9411 - val_loss: 1.5182 - val_accuracy: 0.4345\n",
      "Epoch 10/1000\n",
      "26/26 [==============================] - ETA: 0s - loss: 0.1589 - accuracy: 0.96 - ETA: 0s - loss: 0.1618 - accuracy: 0.94 - ETA: 0s - loss: 0.1823 - accuracy: 0.95 - ETA: 0s - loss: 0.1816 - accuracy: 0.94 - ETA: 0s - loss: 0.1993 - accuracy: 0.94 - ETA: 0s - loss: 0.1905 - accuracy: 0.94 - ETA: 0s - loss: 0.1827 - accuracy: 0.94 - 2s 58ms/step - loss: 0.1769 - accuracy: 0.9507 - val_loss: 1.9427 - val_accuracy: 0.4286\n",
      "Epoch 11/1000\n",
      "26/26 [==============================] - ETA: 0s - loss: 0.1232 - accuracy: 0.96 - ETA: 0s - loss: 0.1700 - accuracy: 0.95 - ETA: 0s - loss: 0.2103 - accuracy: 0.92 - ETA: 0s - loss: 0.1931 - accuracy: 0.93 - ETA: 0s - loss: 0.1917 - accuracy: 0.93 - ETA: 0s - loss: 0.2153 - accuracy: 0.92 - 1s 50ms/step - loss: 0.1994 - accuracy: 0.9351 - val_loss: 1.6882 - val_accuracy: 0.4821\n",
      "Epoch 12/1000\n",
      "26/26 [==============================] - ETA: 0s - loss: 0.0876 - accuracy: 0.96 - ETA: 0s - loss: 0.1493 - accuracy: 0.94 - ETA: 0s - loss: 0.1964 - accuracy: 0.93 - ETA: 0s - loss: 0.2094 - accuracy: 0.92 - ETA: 0s - loss: 0.1814 - accuracy: 0.93 - ETA: 0s - loss: 0.1734 - accuracy: 0.94 - ETA: 0s - loss: 0.1661 - accuracy: 0.94 - 1s 53ms/step - loss: 0.1614 - accuracy: 0.9495 - val_loss: 1.6762 - val_accuracy: 0.5060\n",
      "Epoch 13/1000\n",
      "26/26 [==============================] - ETA: 0s - loss: 0.1174 - accuracy: 0.96 - ETA: 0s - loss: 0.1360 - accuracy: 0.95 - ETA: 0s - loss: 0.1212 - accuracy: 0.96 - ETA: 0s - loss: 0.1168 - accuracy: 0.96 - ETA: 0s - loss: 0.1214 - accuracy: 0.96 - ETA: 0s - loss: 0.1203 - accuracy: 0.96 - ETA: 0s - loss: 0.1234 - accuracy: 0.96 - 1s 49ms/step - loss: 0.1197 - accuracy: 0.9651 - val_loss: 1.8634 - val_accuracy: 0.4881\n",
      "Epoch 14/1000\n",
      "26/26 [==============================] - ETA: 0s - loss: 0.0610 - accuracy: 1.00 - ETA: 0s - loss: 0.0968 - accuracy: 0.98 - ETA: 0s - loss: 0.1143 - accuracy: 0.97 - ETA: 0s - loss: 0.1209 - accuracy: 0.97 - ETA: 0s - loss: 0.1279 - accuracy: 0.96 - ETA: 0s - loss: 0.1359 - accuracy: 0.96 - ETA: 0s - loss: 0.1425 - accuracy: 0.96 - 1s 42ms/step - loss: 0.1408 - accuracy: 0.9615 - val_loss: 1.9486 - val_accuracy: 0.4881\n",
      "Epoch 15/1000\n",
      "26/26 [==============================] - ETA: 0s - loss: 0.4077 - accuracy: 0.90 - ETA: 0s - loss: 0.2440 - accuracy: 0.91 - ETA: 0s - loss: 0.1586 - accuracy: 0.95 - ETA: 0s - loss: 0.1802 - accuracy: 0.94 - ETA: 0s - loss: 0.1810 - accuracy: 0.94 - ETA: 0s - loss: 0.1836 - accuracy: 0.94 - ETA: 0s - loss: 0.1846 - accuracy: 0.94 - 1s 43ms/step - loss: 0.1794 - accuracy: 0.9435 - val_loss: 2.0039 - val_accuracy: 0.4762\n",
      "Epoch 16/1000\n",
      "26/26 [==============================] - ETA: 0s - loss: 0.1296 - accuracy: 0.93 - ETA: 0s - loss: 0.2034 - accuracy: 0.93 - ETA: 0s - loss: 0.1619 - accuracy: 0.94 - ETA: 0s - loss: 0.1970 - accuracy: 0.93 - ETA: 0s - loss: 0.1812 - accuracy: 0.94 - ETA: 0s - loss: 0.1763 - accuracy: 0.93 - ETA: 0s - loss: 0.1754 - accuracy: 0.93 - 1s 57ms/step - loss: 0.1715 - accuracy: 0.9387 - val_loss: 2.2110 - val_accuracy: 0.4464\n"
     ]
    },
    {
     "data": {
      "text/html": [
       "<span style=\"color:#4527A0\"><h1 style=\"font-size:18px\">Trial complete</h1></span>"
      ],
      "text/plain": [
       "<IPython.core.display.HTML object>"
      ]
     },
     "metadata": {},
     "output_type": "display_data"
    },
    {
     "data": {
      "text/html": [
       "<span style=\"color:#4527A0\"><h1 style=\"font-size:18px\">Trial summary</h1></span>"
      ],
      "text/plain": [
       "<IPython.core.display.HTML object>"
      ]
     },
     "metadata": {},
     "output_type": "display_data"
    },
    {
     "data": {
      "text/html": [
       "<span style=\"color:cyan\"> |-Trial ID: badd2fb4d7c820567f09593be054d362</span>"
      ],
      "text/plain": [
       "<IPython.core.display.HTML object>"
      ]
     },
     "metadata": {},
     "output_type": "display_data"
    },
    {
     "data": {
      "text/html": [
       "<span style=\"color:cyan\"> |-Score: 0.5059523582458496</span>"
      ],
      "text/plain": [
       "<IPython.core.display.HTML object>"
      ]
     },
     "metadata": {},
     "output_type": "display_data"
    },
    {
     "data": {
      "text/html": [
       "<span style=\"color:cyan\"> |-Best step: 11</span>"
      ],
      "text/plain": [
       "<IPython.core.display.HTML object>"
      ]
     },
     "metadata": {},
     "output_type": "display_data"
    },
    {
     "data": {
      "text/html": [
       "<span style=\"color:#7E57C2\"><h2 style=\"font-size:16px\">Hyperparameters:</h2></span>"
      ],
      "text/plain": [
       "<IPython.core.display.HTML object>"
      ]
     },
     "metadata": {},
     "output_type": "display_data"
    },
    {
     "data": {
      "text/html": [
       "<span style=\"color:cyan\"> |-classification_head_1/dropout: 0</span>"
      ],
      "text/plain": [
       "<IPython.core.display.HTML object>"
      ]
     },
     "metadata": {},
     "output_type": "display_data"
    },
    {
     "data": {
      "text/html": [
       "<span style=\"color:blue\"> |-learning_rate: 0.001</span>"
      ],
      "text/plain": [
       "<IPython.core.display.HTML object>"
      ]
     },
     "metadata": {},
     "output_type": "display_data"
    },
    {
     "data": {
      "text/html": [
       "<span style=\"color:cyan\"> |-optimizer: adam</span>"
      ],
      "text/plain": [
       "<IPython.core.display.HTML object>"
      ]
     },
     "metadata": {},
     "output_type": "display_data"
    },
    {
     "data": {
      "text/html": [
       "<span style=\"color:blue\"> |-structured_data_block_1/dense_block_1/dropout: 0.0</span>"
      ],
      "text/plain": [
       "<IPython.core.display.HTML object>"
      ]
     },
     "metadata": {},
     "output_type": "display_data"
    },
    {
     "data": {
      "text/html": [
       "<span style=\"color:cyan\"> |-structured_data_block_1/dense_block_1/num_layers: 3</span>"
      ],
      "text/plain": [
       "<IPython.core.display.HTML object>"
      ]
     },
     "metadata": {},
     "output_type": "display_data"
    },
    {
     "data": {
      "text/html": [
       "<span style=\"color:blue\"> |-structured_data_block_1/dense_block_1/units_0: 128</span>"
      ],
      "text/plain": [
       "<IPython.core.display.HTML object>"
      ]
     },
     "metadata": {},
     "output_type": "display_data"
    },
    {
     "data": {
      "text/html": [
       "<span style=\"color:cyan\"> |-structured_data_block_1/dense_block_1/units_1: 128</span>"
      ],
      "text/plain": [
       "<IPython.core.display.HTML object>"
      ]
     },
     "metadata": {},
     "output_type": "display_data"
    },
    {
     "data": {
      "text/html": [
       "<span style=\"color:blue\"> |-structured_data_block_1/dense_block_1/units_2: 1024</span>"
      ],
      "text/plain": [
       "<IPython.core.display.HTML object>"
      ]
     },
     "metadata": {},
     "output_type": "display_data"
    },
    {
     "data": {
      "text/html": [
       "<span style=\"color:cyan\"> |-structured_data_block_1/dense_block_1/use_batchnorm: True</span>"
      ],
      "text/plain": [
       "<IPython.core.display.HTML object>"
      ]
     },
     "metadata": {},
     "output_type": "display_data"
    },
    {
     "data": {
      "text/html": [
       "<span style=\"color:#4527A0\"><h1 style=\"font-size:18px\">Starting new trial</h1></span>"
      ],
      "text/plain": [
       "<IPython.core.display.HTML object>"
      ]
     },
     "metadata": {},
     "output_type": "display_data"
    },
    {
     "name": "stdout",
     "output_type": "stream",
     "text": [
      "Epoch 1/1000\n",
      "26/26 [==============================] - ETA: 0s - loss: 2.0853 - accuracy: 0.12 - ETA: 0s - loss: 1.7831 - accuracy: 0.27 - ETA: 0s - loss: 1.6245 - accuracy: 0.34 - ETA: 0s - loss: 1.5445 - accuracy: 0.35 - ETA: 0s - loss: 1.5087 - accuracy: 0.37 - 6s 230ms/step - loss: 1.4489 - accuracy: 0.3870 - val_loss: 2.0481 - val_accuracy: 0.3393\n",
      "Epoch 2/1000\n",
      "26/26 [==============================] - ETA: 0s - loss: 0.9495 - accuracy: 0.59 - ETA: 0s - loss: 1.0877 - accuracy: 0.49 - ETA: 0s - loss: 1.0372 - accuracy: 0.55 - ETA: 0s - loss: 1.0335 - accuracy: 0.56 - ETA: 0s - loss: 1.0470 - accuracy: 0.56 - ETA: 0s - loss: 1.0442 - accuracy: 0.56 - 1s 50ms/step - loss: 1.0442 - accuracy: 0.5649 - val_loss: 1.4146 - val_accuracy: 0.4107\n",
      "Epoch 3/1000\n",
      "26/26 [==============================] - ETA: 0s - loss: 0.8573 - accuracy: 0.62 - ETA: 0s - loss: 0.9808 - accuracy: 0.61 - ETA: 0s - loss: 0.8989 - accuracy: 0.63 - ETA: 0s - loss: 0.8924 - accuracy: 0.63 - ETA: 0s - loss: 0.9119 - accuracy: 0.62 - ETA: 0s - loss: 0.9070 - accuracy: 0.62 - 1s 54ms/step - loss: 0.9070 - accuracy: 0.6250 - val_loss: 1.2425 - val_accuracy: 0.4167\n",
      "Epoch 4/1000\n",
      "26/26 [==============================] - ETA: 0s - loss: 0.7673 - accuracy: 0.65 - ETA: 0s - loss: 0.8717 - accuracy: 0.65 - ETA: 0s - loss: 0.8066 - accuracy: 0.69 - ETA: 0s - loss: 0.7991 - accuracy: 0.68 - ETA: 0s - loss: 0.8182 - accuracy: 0.67 - ETA: 0s - loss: 0.8077 - accuracy: 0.67 - 1s 51ms/step - loss: 0.8077 - accuracy: 0.6791 - val_loss: 1.1817 - val_accuracy: 0.4286\n",
      "Epoch 5/1000\n",
      "26/26 [==============================] - ETA: 0s - loss: 0.7038 - accuracy: 0.68 - ETA: 0s - loss: 0.8183 - accuracy: 0.67 - ETA: 0s - loss: 0.7294 - accuracy: 0.72 - ETA: 0s - loss: 0.7286 - accuracy: 0.71 - ETA: 0s - loss: 0.7352 - accuracy: 0.72 - ETA: 0s - loss: 0.7245 - accuracy: 0.72 - 2s 58ms/step - loss: 0.7245 - accuracy: 0.7248 - val_loss: 1.1409 - val_accuracy: 0.4643\n",
      "Epoch 6/1000\n",
      "26/26 [==============================] - ETA: 0s - loss: 0.7943 - accuracy: 0.62 - ETA: 0s - loss: 0.7874 - accuracy: 0.71 - ETA: 0s - loss: 0.6955 - accuracy: 0.74 - ETA: 0s - loss: 0.6930 - accuracy: 0.73 - ETA: 0s - loss: 0.7097 - accuracy: 0.73 - ETA: 0s - loss: 0.7107 - accuracy: 0.73 - 1s 50ms/step - loss: 0.7107 - accuracy: 0.7392 - val_loss: 1.1038 - val_accuracy: 0.5298\n",
      "Epoch 7/1000\n",
      "26/26 [==============================] - ETA: 0s - loss: 0.6990 - accuracy: 0.65 - ETA: 0s - loss: 0.7245 - accuracy: 0.71 - ETA: 0s - loss: 0.6295 - accuracy: 0.76 - ETA: 0s - loss: 0.5980 - accuracy: 0.77 - ETA: 0s - loss: 0.6308 - accuracy: 0.75 - ETA: 0s - loss: 0.6421 - accuracy: 0.75 - 1s 57ms/step - loss: 0.6278 - accuracy: 0.7632 - val_loss: 1.1369 - val_accuracy: 0.5179\n",
      "Epoch 8/1000\n",
      "26/26 [==============================] - ETA: 0s - loss: 0.7161 - accuracy: 0.68 - ETA: 0s - loss: 0.6962 - accuracy: 0.74 - ETA: 0s - loss: 0.6081 - accuracy: 0.78 - ETA: 0s - loss: 0.6061 - accuracy: 0.78 - ETA: 0s - loss: 0.6153 - accuracy: 0.78 - ETA: 0s - loss: 0.5933 - accuracy: 0.78 - 1s 48ms/step - loss: 0.5933 - accuracy: 0.7861 - val_loss: 1.0956 - val_accuracy: 0.5595\n",
      "Epoch 9/1000\n",
      "26/26 [==============================] - ETA: 0s - loss: 0.6657 - accuracy: 0.68 - ETA: 0s - loss: 0.6659 - accuracy: 0.74 - ETA: 0s - loss: 0.5684 - accuracy: 0.79 - ETA: 0s - loss: 0.5492 - accuracy: 0.79 - ETA: 0s - loss: 0.5624 - accuracy: 0.79 - ETA: 0s - loss: 0.5532 - accuracy: 0.79 - 1s 54ms/step - loss: 0.5532 - accuracy: 0.7993 - val_loss: 1.1796 - val_accuracy: 0.5417\n",
      "Epoch 10/1000\n",
      "26/26 [==============================] - ETA: 0s - loss: 0.7555 - accuracy: 0.68 - ETA: 0s - loss: 0.6190 - accuracy: 0.78 - ETA: 0s - loss: 0.5528 - accuracy: 0.81 - ETA: 0s - loss: 0.5414 - accuracy: 0.80 - ETA: 0s - loss: 0.5426 - accuracy: 0.80 - ETA: 0s - loss: 0.5405 - accuracy: 0.80 - 1s 53ms/step - loss: 0.5405 - accuracy: 0.8065 - val_loss: 1.2068 - val_accuracy: 0.5179\n",
      "Epoch 11/1000\n",
      "26/26 [==============================] - ETA: 0s - loss: 0.5402 - accuracy: 0.71 - ETA: 0s - loss: 0.5487 - accuracy: 0.78 - ETA: 0s - loss: 0.5029 - accuracy: 0.82 - ETA: 0s - loss: 0.4895 - accuracy: 0.83 - ETA: 0s - loss: 0.5061 - accuracy: 0.82 - 2s 58ms/step - loss: 0.5009 - accuracy: 0.8269 - val_loss: 1.2253 - val_accuracy: 0.5536\n",
      "Epoch 12/1000\n",
      "26/26 [==============================] - ETA: 0s - loss: 0.4448 - accuracy: 0.81 - ETA: 0s - loss: 0.5518 - accuracy: 0.83 - ETA: 0s - loss: 0.4738 - accuracy: 0.86 - ETA: 0s - loss: 0.4508 - accuracy: 0.86 - ETA: 0s - loss: 0.4528 - accuracy: 0.86 - ETA: 0s - loss: 0.4441 - accuracy: 0.86 - 1s 47ms/step - loss: 0.4441 - accuracy: 0.8666 - val_loss: 1.1363 - val_accuracy: 0.5476\n",
      "Epoch 13/1000\n",
      "26/26 [==============================] - ETA: 0s - loss: 0.5607 - accuracy: 0.75 - ETA: 0s - loss: 0.5290 - accuracy: 0.83 - ETA: 0s - loss: 0.4558 - accuracy: 0.86 - ETA: 0s - loss: 0.4606 - accuracy: 0.84 - ETA: 0s - loss: 0.4568 - accuracy: 0.85 - 1s 46ms/step - loss: 0.4413 - accuracy: 0.8654 - val_loss: 1.2298 - val_accuracy: 0.5119\n",
      "Epoch 14/1000\n",
      "26/26 [==============================] - ETA: 0s - loss: 0.4562 - accuracy: 0.90 - ETA: 0s - loss: 0.4937 - accuracy: 0.84 - ETA: 0s - loss: 0.4212 - accuracy: 0.88 - ETA: 0s - loss: 0.4188 - accuracy: 0.87 - ETA: 0s - loss: 0.4301 - accuracy: 0.86 - 1s 51ms/step - loss: 0.4136 - accuracy: 0.8762 - val_loss: 1.2346 - val_accuracy: 0.5655\n",
      "Epoch 15/1000\n",
      "26/26 [==============================] - ETA: 0s - loss: 0.3630 - accuracy: 0.93 - ETA: 0s - loss: 0.4519 - accuracy: 0.88 - ETA: 0s - loss: 0.3745 - accuracy: 0.89 - ETA: 0s - loss: 0.3692 - accuracy: 0.90 - ETA: 0s - loss: 0.3775 - accuracy: 0.89 - 1s 45ms/step - loss: 0.3628 - accuracy: 0.9014 - val_loss: 1.2390 - val_accuracy: 0.5714\n",
      "Epoch 16/1000\n",
      "26/26 [==============================] - ETA: 0s - loss: 0.3827 - accuracy: 0.87 - ETA: 0s - loss: 0.4103 - accuracy: 0.89 - ETA: 0s - loss: 0.3415 - accuracy: 0.91 - ETA: 0s - loss: 0.3322 - accuracy: 0.91 - ETA: 0s - loss: 0.3431 - accuracy: 0.90 - ETA: 0s - loss: 0.3367 - accuracy: 0.90 - 1s 47ms/step - loss: 0.3367 - accuracy: 0.9087 - val_loss: 1.2166 - val_accuracy: 0.5417\n",
      "Epoch 17/1000\n",
      "26/26 [==============================] - ETA: 0s - loss: 0.4311 - accuracy: 0.87 - ETA: 0s - loss: 0.4225 - accuracy: 0.88 - ETA: 0s - loss: 0.3444 - accuracy: 0.90 - ETA: 0s - loss: 0.3325 - accuracy: 0.91 - ETA: 0s - loss: 0.3419 - accuracy: 0.91 - ETA: 0s - loss: 0.3319 - accuracy: 0.91 - 1s 57ms/step - loss: 0.3319 - accuracy: 0.9183 - val_loss: 1.1938 - val_accuracy: 0.5595\n",
      "Epoch 18/1000\n",
      "26/26 [==============================] - ETA: 0s - loss: 0.3602 - accuracy: 0.84 - ETA: 0s - loss: 0.4048 - accuracy: 0.88 - ETA: 0s - loss: 0.3334 - accuracy: 0.91 - ETA: 0s - loss: 0.3249 - accuracy: 0.91 - ETA: 0s - loss: 0.3263 - accuracy: 0.91 - ETA: 0s - loss: 0.3217 - accuracy: 0.91 - 1s 49ms/step - loss: 0.3217 - accuracy: 0.9135 - val_loss: 1.2040 - val_accuracy: 0.5179\n"
     ]
    },
    {
     "data": {
      "text/html": [
       "<span style=\"color:#4527A0\"><h1 style=\"font-size:18px\">Trial complete</h1></span>"
      ],
      "text/plain": [
       "<IPython.core.display.HTML object>"
      ]
     },
     "metadata": {},
     "output_type": "display_data"
    },
    {
     "data": {
      "text/html": [
       "<span style=\"color:#4527A0\"><h1 style=\"font-size:18px\">Trial summary</h1></span>"
      ],
      "text/plain": [
       "<IPython.core.display.HTML object>"
      ]
     },
     "metadata": {},
     "output_type": "display_data"
    },
    {
     "data": {
      "text/html": [
       "<span style=\"color:cyan\"> |-Trial ID: cce3deb7006c3c03ea0ea974612c582c</span>"
      ],
      "text/plain": [
       "<IPython.core.display.HTML object>"
      ]
     },
     "metadata": {},
     "output_type": "display_data"
    },
    {
     "data": {
      "text/html": [
       "<span style=\"color:cyan\"> |-Score: 0.5714285969734192</span>"
      ],
      "text/plain": [
       "<IPython.core.display.HTML object>"
      ]
     },
     "metadata": {},
     "output_type": "display_data"
    },
    {
     "data": {
      "text/html": [
       "<span style=\"color:cyan\"> |-Best step: 14</span>"
      ],
      "text/plain": [
       "<IPython.core.display.HTML object>"
      ]
     },
     "metadata": {},
     "output_type": "display_data"
    },
    {
     "data": {
      "text/html": [
       "<span style=\"color:#7E57C2\"><h2 style=\"font-size:16px\">Hyperparameters:</h2></span>"
      ],
      "text/plain": [
       "<IPython.core.display.HTML object>"
      ]
     },
     "metadata": {},
     "output_type": "display_data"
    },
    {
     "data": {
      "text/html": [
       "<span style=\"color:cyan\"> |-classification_head_1/dropout: 0</span>"
      ],
      "text/plain": [
       "<IPython.core.display.HTML object>"
      ]
     },
     "metadata": {},
     "output_type": "display_data"
    },
    {
     "data": {
      "text/html": [
       "<span style=\"color:blue\"> |-learning_rate: 0.001</span>"
      ],
      "text/plain": [
       "<IPython.core.display.HTML object>"
      ]
     },
     "metadata": {},
     "output_type": "display_data"
    },
    {
     "data": {
      "text/html": [
       "<span style=\"color:cyan\"> |-optimizer: adam</span>"
      ],
      "text/plain": [
       "<IPython.core.display.HTML object>"
      ]
     },
     "metadata": {},
     "output_type": "display_data"
    },
    {
     "data": {
      "text/html": [
       "<span style=\"color:blue\"> |-structured_data_block_1/dense_block_1/dropout: 0.25</span>"
      ],
      "text/plain": [
       "<IPython.core.display.HTML object>"
      ]
     },
     "metadata": {},
     "output_type": "display_data"
    },
    {
     "data": {
      "text/html": [
       "<span style=\"color:cyan\"> |-structured_data_block_1/dense_block_1/num_layers: 1</span>"
      ],
      "text/plain": [
       "<IPython.core.display.HTML object>"
      ]
     },
     "metadata": {},
     "output_type": "display_data"
    },
    {
     "data": {
      "text/html": [
       "<span style=\"color:blue\"> |-structured_data_block_1/dense_block_1/units_0: 256</span>"
      ],
      "text/plain": [
       "<IPython.core.display.HTML object>"
      ]
     },
     "metadata": {},
     "output_type": "display_data"
    },
    {
     "data": {
      "text/html": [
       "<span style=\"color:cyan\"> |-structured_data_block_1/dense_block_1/units_1: 1024</span>"
      ],
      "text/plain": [
       "<IPython.core.display.HTML object>"
      ]
     },
     "metadata": {},
     "output_type": "display_data"
    },
    {
     "data": {
      "text/html": [
       "<span style=\"color:blue\"> |-structured_data_block_1/dense_block_1/units_2: 64</span>"
      ],
      "text/plain": [
       "<IPython.core.display.HTML object>"
      ]
     },
     "metadata": {},
     "output_type": "display_data"
    },
    {
     "data": {
      "text/html": [
       "<span style=\"color:cyan\"> |-structured_data_block_1/dense_block_1/use_batchnorm: True</span>"
      ],
      "text/plain": [
       "<IPython.core.display.HTML object>"
      ]
     },
     "metadata": {},
     "output_type": "display_data"
    },
    {
     "data": {
      "text/html": [
       "<span style=\"color:#4527A0\"><h1 style=\"font-size:18px\">Starting new trial</h1></span>"
      ],
      "text/plain": [
       "<IPython.core.display.HTML object>"
      ]
     },
     "metadata": {},
     "output_type": "display_data"
    },
    {
     "name": "stdout",
     "output_type": "stream",
     "text": [
      "Epoch 1/1000\n",
      "26/26 [==============================] - ETA: 0s - loss: 4463.1479 - accuracy: 0.125 - ETA: 0s - loss: 2696.7114 - accuracy: 0.250 - ETA: 0s - loss: 2175.9275 - accuracy: 0.316 - ETA: 0s - loss: 1898.9536 - accuracy: 0.319 - ETA: 0s - loss: 1800.0442 - accuracy: 0.338 - ETA: 0s - loss: 1733.0302 - accuracy: 0.354 - ETA: 0s - loss: 1687.8071 - accuracy: 0.347 - 6s 241ms/step - loss: 1667.3452 - accuracy: 0.3474 - val_loss: 706.2755 - val_accuracy: 0.4167\n",
      "Epoch 2/1000\n",
      "26/26 [==============================] - ETA: 0s - loss: 846.9241 - accuracy: 0.43 - ETA: 0s - loss: 947.8994 - accuracy: 0.48 - ETA: 0s - loss: 879.5427 - accuracy: 0.48 - ETA: 0s - loss: 899.9476 - accuracy: 0.45 - ETA: 0s - loss: 909.0921 - accuracy: 0.44 - ETA: 0s - loss: 927.7368 - accuracy: 0.44 - ETA: 0s - loss: 994.4716 - accuracy: 0.43 - 1s 53ms/step - loss: 997.8105 - accuracy: 0.4411 - val_loss: 585.0069 - val_accuracy: 0.4643\n",
      "Epoch 3/1000\n",
      "26/26 [==============================] - ETA: 0s - loss: 729.3775 - accuracy: 0.56 - ETA: 0s - loss: 1067.1647 - accuracy: 0.437 - ETA: 0s - loss: 934.4690 - accuracy: 0.430 - ETA: 0s - loss: 945.8345 - accuracy: 0.44 - ETA: 0s - loss: 947.3708 - accuracy: 0.44 - ETA: 0s - loss: 953.9636 - accuracy: 0.44 - ETA: 0s - loss: 963.4468 - accuracy: 0.43 - 1s 48ms/step - loss: 938.7343 - accuracy: 0.4459 - val_loss: 714.0054 - val_accuracy: 0.4583\n",
      "Epoch 4/1000\n",
      "26/26 [==============================] - ETA: 0s - loss: 665.0373 - accuracy: 0.59 - ETA: 0s - loss: 779.4686 - accuracy: 0.48 - ETA: 0s - loss: 1091.7853 - accuracy: 0.482 - ETA: 0s - loss: 972.0208 - accuracy: 0.480 - ETA: 0s - loss: 872.2363 - accuracy: 0.49 - ETA: 0s - loss: 842.8120 - accuracy: 0.49 - ETA: 0s - loss: 805.2774 - accuracy: 0.50 - 1s 47ms/step - loss: 797.8027 - accuracy: 0.5024 - val_loss: 773.2230 - val_accuracy: 0.4702\n",
      "Epoch 5/1000\n",
      "26/26 [==============================] - ETA: 0s - loss: 383.8146 - accuracy: 0.62 - ETA: 0s - loss: 675.6358 - accuracy: 0.54 - ETA: 0s - loss: 603.0768 - accuracy: 0.53 - ETA: 0s - loss: 571.0026 - accuracy: 0.52 - ETA: 0s - loss: 513.9211 - accuracy: 0.55 - ETA: 0s - loss: 505.3183 - accuracy: 0.55 - ETA: 0s - loss: 509.0294 - accuracy: 0.54 - 1s 51ms/step - loss: 501.2017 - accuracy: 0.5505 - val_loss: 728.3741 - val_accuracy: 0.4940\n",
      "Epoch 6/1000\n",
      "26/26 [==============================] - ETA: 0s - loss: 450.9393 - accuracy: 0.56 - ETA: 0s - loss: 480.3450 - accuracy: 0.51 - ETA: 0s - loss: 407.4660 - accuracy: 0.57 - ETA: 0s - loss: 398.3481 - accuracy: 0.56 - ETA: 0s - loss: 410.7497 - accuracy: 0.56 - ETA: 0s - loss: 385.0715 - accuracy: 0.58 - ETA: 0s - loss: 386.3818 - accuracy: 0.56 - 2s 59ms/step - loss: 378.4286 - accuracy: 0.5733 - val_loss: 608.4635 - val_accuracy: 0.5000\n",
      "Epoch 7/1000\n",
      "26/26 [==============================] - ETA: 0s - loss: 479.1229 - accuracy: 0.59 - ETA: 0s - loss: 429.6633 - accuracy: 0.55 - ETA: 0s - loss: 366.0911 - accuracy: 0.56 - ETA: 0s - loss: 332.8565 - accuracy: 0.58 - ETA: 0s - loss: 331.6255 - accuracy: 0.58 - ETA: 0s - loss: 318.8537 - accuracy: 0.58 - ETA: 0s - loss: 313.7879 - accuracy: 0.57 - 1s 49ms/step - loss: 307.7396 - accuracy: 0.5793 - val_loss: 589.8929 - val_accuracy: 0.5000\n",
      "Epoch 8/1000\n",
      "26/26 [==============================] - ETA: 0s - loss: 360.9609 - accuracy: 0.46 - ETA: 0s - loss: 351.3012 - accuracy: 0.55 - ETA: 0s - loss: 310.0294 - accuracy: 0.60 - ETA: 0s - loss: 321.6901 - accuracy: 0.59 - ETA: 0s - loss: 300.7687 - accuracy: 0.61 - ETA: 0s - loss: 300.3980 - accuracy: 0.58 - ETA: 0s - loss: 300.3918 - accuracy: 0.58 - ETA: 0s - loss: 302.8121 - accuracy: 0.57 - 1s 50ms/step - loss: 299.3050 - accuracy: 0.5829 - val_loss: 471.8287 - val_accuracy: 0.5417\n",
      "Epoch 9/1000\n",
      "26/26 [==============================] - ETA: 0s - loss: 248.0009 - accuracy: 0.62 - ETA: 0s - loss: 223.2710 - accuracy: 0.60 - ETA: 0s - loss: 214.7722 - accuracy: 0.63 - ETA: 0s - loss: 228.6550 - accuracy: 0.64 - ETA: 0s - loss: 249.0771 - accuracy: 0.62 - ETA: 0s - loss: 246.0937 - accuracy: 0.62 - ETA: 0s - loss: 253.9429 - accuracy: 0.61 - 1s 54ms/step - loss: 255.3417 - accuracy: 0.6250 - val_loss: 535.9520 - val_accuracy: 0.4702\n",
      "Epoch 10/1000\n",
      "26/26 [==============================] - ETA: 0s - loss: 258.0190 - accuracy: 0.62 - ETA: 0s - loss: 205.1617 - accuracy: 0.63 - ETA: 0s - loss: 175.7507 - accuracy: 0.64 - ETA: 0s - loss: 164.4383 - accuracy: 0.65 - ETA: 0s - loss: 157.6071 - accuracy: 0.65 - ETA: 0s - loss: 152.3006 - accuracy: 0.66 - ETA: 0s - loss: 151.8100 - accuracy: 0.65 - 1s 46ms/step - loss: 151.8602 - accuracy: 0.6671 - val_loss: 583.5733 - val_accuracy: 0.4762\n",
      "Epoch 11/1000\n",
      "26/26 [==============================] - ETA: 0s - loss: 168.7719 - accuracy: 0.65 - ETA: 0s - loss: 153.8711 - accuracy: 0.69 - ETA: 0s - loss: 130.2609 - accuracy: 0.70 - ETA: 0s - loss: 131.4269 - accuracy: 0.70 - ETA: 0s - loss: 128.4180 - accuracy: 0.70 - ETA: 0s - loss: 120.0693 - accuracy: 0.71 - ETA: 0s - loss: 126.0030 - accuracy: 0.71 - 2s 64ms/step - loss: 120.1193 - accuracy: 0.7212 - val_loss: 581.1140 - val_accuracy: 0.5119\n",
      "Epoch 12/1000\n",
      "26/26 [==============================] - ETA: 0s - loss: 207.4992 - accuracy: 0.56 - ETA: 0s - loss: 170.2526 - accuracy: 0.69 - ETA: 0s - loss: 139.7203 - accuracy: 0.70 - ETA: 0s - loss: 133.0316 - accuracy: 0.70 - ETA: 0s - loss: 131.5760 - accuracy: 0.70 - ETA: 0s - loss: 134.4656 - accuracy: 0.68 - ETA: 0s - loss: 134.3446 - accuracy: 0.68 - ETA: 0s - loss: 130.4757 - accuracy: 0.68 - 1s 48ms/step - loss: 128.8895 - accuracy: 0.6911 - val_loss: 766.7505 - val_accuracy: 0.3988\n",
      "Epoch 13/1000\n",
      "26/26 [==============================] - ETA: 0s - loss: 192.7579 - accuracy: 0.65 - ETA: 0s - loss: 277.9781 - accuracy: 0.58 - ETA: 0s - loss: 190.2167 - accuracy: 0.68 - ETA: 0s - loss: 174.9446 - accuracy: 0.67 - ETA: 0s - loss: 171.9816 - accuracy: 0.67 - ETA: 0s - loss: 155.8166 - accuracy: 0.69 - ETA: 0s - loss: 149.6953 - accuracy: 0.68 - 2s 62ms/step - loss: 146.3639 - accuracy: 0.6875 - val_loss: 546.9727 - val_accuracy: 0.4821\n",
      "Epoch 14/1000\n",
      "26/26 [==============================] - ETA: 0s - loss: 142.5350 - accuracy: 0.68 - ETA: 0s - loss: 95.3816 - accuracy: 0.7312 - ETA: 0s - loss: 98.8478 - accuracy: 0.729 - ETA: 0s - loss: 88.0108 - accuracy: 0.730 - ETA: 0s - loss: 91.0250 - accuracy: 0.737 - ETA: 0s - loss: 91.8009 - accuracy: 0.735 - ETA: 0s - loss: 87.4700 - accuracy: 0.737 - 1s 53ms/step - loss: 84.4522 - accuracy: 0.7440 - val_loss: 469.0542 - val_accuracy: 0.4702\n",
      "Epoch 15/1000\n",
      "26/26 [==============================] - ETA: 0s - loss: 94.2389 - accuracy: 0.718 - ETA: 0s - loss: 93.7915 - accuracy: 0.700 - ETA: 0s - loss: 80.3183 - accuracy: 0.753 - ETA: 0s - loss: 89.3682 - accuracy: 0.728 - ETA: 0s - loss: 89.8815 - accuracy: 0.729 - ETA: 0s - loss: 100.7025 - accuracy: 0.71 - ETA: 0s - loss: 94.3300 - accuracy: 0.7163 - 1s 53ms/step - loss: 92.5753 - accuracy: 0.7212 - val_loss: 579.1403 - val_accuracy: 0.4524\n",
      "Epoch 16/1000\n",
      "26/26 [==============================] - ETA: 0s - loss: 57.5892 - accuracy: 0.687 - ETA: 0s - loss: 83.6304 - accuracy: 0.737 - ETA: 0s - loss: 66.4176 - accuracy: 0.781 - ETA: 0s - loss: 67.0683 - accuracy: 0.776 - ETA: 0s - loss: 62.0681 - accuracy: 0.792 - ETA: 0s - loss: 59.6787 - accuracy: 0.793 - ETA: 0s - loss: 59.3089 - accuracy: 0.791 - 1s 51ms/step - loss: 57.8397 - accuracy: 0.7957 - val_loss: 492.1579 - val_accuracy: 0.4405\n",
      "Epoch 17/1000\n",
      "26/26 [==============================] - ETA: 0s - loss: 49.5939 - accuracy: 0.812 - ETA: 0s - loss: 58.8759 - accuracy: 0.756 - ETA: 0s - loss: 54.4807 - accuracy: 0.763 - ETA: 0s - loss: 52.2984 - accuracy: 0.774 - ETA: 0s - loss: 58.6797 - accuracy: 0.768 - ETA: 0s - loss: 53.9671 - accuracy: 0.782 - ETA: 0s - loss: 55.1612 - accuracy: 0.780 - 2s 60ms/step - loss: 53.3599 - accuracy: 0.7849 - val_loss: 508.3950 - val_accuracy: 0.4762\n",
      "Epoch 18/1000\n"
     ]
    },
    {
     "name": "stdout",
     "output_type": "stream",
     "text": [
      "26/26 [==============================] - ETA: 0s - loss: 104.9858 - accuracy: 0.65 - ETA: 0s - loss: 71.5665 - accuracy: 0.7750 - ETA: 0s - loss: 53.6095 - accuracy: 0.816 - ETA: 0s - loss: 46.4145 - accuracy: 0.819 - ETA: 0s - loss: 52.2951 - accuracy: 0.807 - ETA: 0s - loss: 63.5092 - accuracy: 0.799 - ETA: 0s - loss: 65.9264 - accuracy: 0.786 - 1s 54ms/step - loss: 65.3840 - accuracy: 0.7897 - val_loss: 392.8901 - val_accuracy: 0.4524\n",
      "Epoch 19/1000\n",
      "26/26 [==============================] - ETA: 0s - loss: 55.0043 - accuracy: 0.750 - ETA: 0s - loss: 52.0874 - accuracy: 0.793 - ETA: 0s - loss: 47.8242 - accuracy: 0.809 - ETA: 0s - loss: 48.2214 - accuracy: 0.802 - ETA: 0s - loss: 60.1309 - accuracy: 0.805 - ETA: 0s - loss: 64.2450 - accuracy: 0.803 - ETA: 0s - loss: 72.3188 - accuracy: 0.788 - 1s 53ms/step - loss: 70.7120 - accuracy: 0.7873 - val_loss: 663.0162 - val_accuracy: 0.4643\n",
      "Epoch 20/1000\n",
      "26/26 [==============================] - ETA: 0s - loss: 67.7041 - accuracy: 0.750 - ETA: 0s - loss: 62.4933 - accuracy: 0.737 - ETA: 0s - loss: 45.0881 - accuracy: 0.798 - ETA: 0s - loss: 57.0528 - accuracy: 0.783 - ETA: 0s - loss: 52.4631 - accuracy: 0.797 - ETA: 0s - loss: 53.0742 - accuracy: 0.803 - ETA: 0s - loss: 50.9590 - accuracy: 0.801 - 1s 51ms/step - loss: 50.1041 - accuracy: 0.8029 - val_loss: 484.4455 - val_accuracy: 0.4464\n",
      "Epoch 21/1000\n",
      "26/26 [==============================] - ETA: 0s - loss: 33.5112 - accuracy: 0.875 - ETA: 0s - loss: 30.2864 - accuracy: 0.850 - ETA: 0s - loss: 24.8263 - accuracy: 0.861 - ETA: 0s - loss: 26.4237 - accuracy: 0.855 - ETA: 0s - loss: 30.5357 - accuracy: 0.854 - ETA: 0s - loss: 31.6896 - accuracy: 0.851 - ETA: 0s - loss: 32.3035 - accuracy: 0.843 - 1s 50ms/step - loss: 31.2205 - accuracy: 0.8462 - val_loss: 453.9882 - val_accuracy: 0.4464\n",
      "Epoch 22/1000\n",
      "26/26 [==============================] - ETA: 0s - loss: 42.6887 - accuracy: 0.843 - ETA: 0s - loss: 26.8886 - accuracy: 0.825 - ETA: 0s - loss: 21.7563 - accuracy: 0.840 - ETA: 0s - loss: 24.1268 - accuracy: 0.853 - ETA: 0s - loss: 25.8311 - accuracy: 0.845 - ETA: 0s - loss: 26.3479 - accuracy: 0.843 - ETA: 0s - loss: 27.9699 - accuracy: 0.833 - 1s 52ms/step - loss: 27.1671 - accuracy: 0.8389 - val_loss: 440.6577 - val_accuracy: 0.4226\n",
      "Epoch 23/1000\n",
      "26/26 [==============================] - ETA: 0s - loss: 27.6362 - accuracy: 0.750 - ETA: 0s - loss: 19.7783 - accuracy: 0.843 - ETA: 0s - loss: 20.4431 - accuracy: 0.857 - ETA: 0s - loss: 37.1143 - accuracy: 0.819 - ETA: 0s - loss: 39.0711 - accuracy: 0.810 - ETA: 0s - loss: 40.5496 - accuracy: 0.807 - ETA: 0s - loss: 44.4052 - accuracy: 0.798 - ETA: 0s - loss: 44.5714 - accuracy: 0.800 - 2s 65ms/step - loss: 44.5714 - accuracy: 0.8005 - val_loss: 467.1641 - val_accuracy: 0.4583\n",
      "Epoch 24/1000\n",
      "26/26 [==============================] - ETA: 0s - loss: 13.1779 - accuracy: 0.843 - ETA: 0s - loss: 17.9774 - accuracy: 0.859 - ETA: 0s - loss: 14.8314 - accuracy: 0.894 - ETA: 0s - loss: 21.4396 - accuracy: 0.885 - ETA: 0s - loss: 23.0398 - accuracy: 0.869 - ETA: 0s - loss: 20.8288 - accuracy: 0.870 - ETA: 0s - loss: 25.5885 - accuracy: 0.858 - 2s 76ms/step - loss: 27.7118 - accuracy: 0.8522 - val_loss: 460.6471 - val_accuracy: 0.4405\n",
      "Epoch 25/1000\n",
      "26/26 [==============================] - ETA: 0s - loss: 17.3519 - accuracy: 0.875 - ETA: 0s - loss: 59.3116 - accuracy: 0.851 - ETA: 0s - loss: 62.3872 - accuracy: 0.875 - ETA: 0s - loss: 57.5847 - accuracy: 0.849 - ETA: 0s - loss: 59.9670 - accuracy: 0.808 - ETA: 0s - loss: 55.3172 - accuracy: 0.826 - ETA: 0s - loss: 50.9138 - accuracy: 0.829 - ETA: 0s - loss: 48.7165 - accuracy: 0.829 - 1s 55ms/step - loss: 48.7165 - accuracy: 0.8293 - val_loss: 437.7113 - val_accuracy: 0.4167\n",
      "Epoch 26/1000\n",
      "26/26 [==============================] - ETA: 0s - loss: 53.3833 - accuracy: 0.750 - ETA: 0s - loss: 31.1208 - accuracy: 0.804 - ETA: 0s - loss: 20.9570 - accuracy: 0.863 - ETA: 0s - loss: 21.3525 - accuracy: 0.854 - ETA: 0s - loss: 27.9955 - accuracy: 0.830 - ETA: 0s - loss: 25.4935 - accuracy: 0.846 - ETA: 0s - loss: 25.3405 - accuracy: 0.847 - 1s 51ms/step - loss: 24.1295 - accuracy: 0.8534 - val_loss: 515.5594 - val_accuracy: 0.4107\n",
      "Epoch 27/1000\n",
      "26/26 [==============================] - ETA: 0s - loss: 72.9320 - accuracy: 0.781 - ETA: 0s - loss: 40.9709 - accuracy: 0.812 - ETA: 0s - loss: 28.4416 - accuracy: 0.850 - ETA: 0s - loss: 24.4284 - accuracy: 0.863 - ETA: 0s - loss: 25.0098 - accuracy: 0.858 - ETA: 0s - loss: 27.7864 - accuracy: 0.855 - ETA: 0s - loss: 27.5643 - accuracy: 0.851 - 2s 60ms/step - loss: 28.4838 - accuracy: 0.8498 - val_loss: 524.8279 - val_accuracy: 0.4167\n",
      "Epoch 28/1000\n",
      "26/26 [==============================] - ETA: 0s - loss: 19.3824 - accuracy: 0.843 - ETA: 0s - loss: 28.9271 - accuracy: 0.818 - ETA: 0s - loss: 23.5293 - accuracy: 0.857 - ETA: 0s - loss: 31.1111 - accuracy: 0.841 - ETA: 0s - loss: 33.0867 - accuracy: 0.821 - ETA: 0s - loss: 30.8791 - accuracy: 0.833 - ETA: 0s - loss: 28.3960 - accuracy: 0.830 - 1s 50ms/step - loss: 27.7826 - accuracy: 0.8305 - val_loss: 492.4281 - val_accuracy: 0.4643\n"
     ]
    },
    {
     "data": {
      "text/html": [
       "<span style=\"color:#4527A0\"><h1 style=\"font-size:18px\">Trial complete</h1></span>"
      ],
      "text/plain": [
       "<IPython.core.display.HTML object>"
      ]
     },
     "metadata": {},
     "output_type": "display_data"
    },
    {
     "data": {
      "text/html": [
       "<span style=\"color:#4527A0\"><h1 style=\"font-size:18px\">Trial summary</h1></span>"
      ],
      "text/plain": [
       "<IPython.core.display.HTML object>"
      ]
     },
     "metadata": {},
     "output_type": "display_data"
    },
    {
     "data": {
      "text/html": [
       "<span style=\"color:cyan\"> |-Trial ID: 7c45c64e97f944ac109fdba68c5eea64</span>"
      ],
      "text/plain": [
       "<IPython.core.display.HTML object>"
      ]
     },
     "metadata": {},
     "output_type": "display_data"
    },
    {
     "data": {
      "text/html": [
       "<span style=\"color:cyan\"> |-Score: 0.5416666865348816</span>"
      ],
      "text/plain": [
       "<IPython.core.display.HTML object>"
      ]
     },
     "metadata": {},
     "output_type": "display_data"
    },
    {
     "data": {
      "text/html": [
       "<span style=\"color:cyan\"> |-Best step: 7</span>"
      ],
      "text/plain": [
       "<IPython.core.display.HTML object>"
      ]
     },
     "metadata": {},
     "output_type": "display_data"
    },
    {
     "data": {
      "text/html": [
       "<span style=\"color:#7E57C2\"><h2 style=\"font-size:16px\">Hyperparameters:</h2></span>"
      ],
      "text/plain": [
       "<IPython.core.display.HTML object>"
      ]
     },
     "metadata": {},
     "output_type": "display_data"
    },
    {
     "data": {
      "text/html": [
       "<span style=\"color:cyan\"> |-classification_head_1/dropout: 0</span>"
      ],
      "text/plain": [
       "<IPython.core.display.HTML object>"
      ]
     },
     "metadata": {},
     "output_type": "display_data"
    },
    {
     "data": {
      "text/html": [
       "<span style=\"color:blue\"> |-learning_rate: 0.001</span>"
      ],
      "text/plain": [
       "<IPython.core.display.HTML object>"
      ]
     },
     "metadata": {},
     "output_type": "display_data"
    },
    {
     "data": {
      "text/html": [
       "<span style=\"color:cyan\"> |-optimizer: adam</span>"
      ],
      "text/plain": [
       "<IPython.core.display.HTML object>"
      ]
     },
     "metadata": {},
     "output_type": "display_data"
    },
    {
     "data": {
      "text/html": [
       "<span style=\"color:blue\"> |-structured_data_block_1/dense_block_1/dropout: 0.25</span>"
      ],
      "text/plain": [
       "<IPython.core.display.HTML object>"
      ]
     },
     "metadata": {},
     "output_type": "display_data"
    },
    {
     "data": {
      "text/html": [
       "<span style=\"color:cyan\"> |-structured_data_block_1/dense_block_1/num_layers: 1</span>"
      ],
      "text/plain": [
       "<IPython.core.display.HTML object>"
      ]
     },
     "metadata": {},
     "output_type": "display_data"
    },
    {
     "data": {
      "text/html": [
       "<span style=\"color:blue\"> |-structured_data_block_1/dense_block_1/units_0: 1024</span>"
      ],
      "text/plain": [
       "<IPython.core.display.HTML object>"
      ]
     },
     "metadata": {},
     "output_type": "display_data"
    },
    {
     "data": {
      "text/html": [
       "<span style=\"color:cyan\"> |-structured_data_block_1/dense_block_1/units_1: 64</span>"
      ],
      "text/plain": [
       "<IPython.core.display.HTML object>"
      ]
     },
     "metadata": {},
     "output_type": "display_data"
    },
    {
     "data": {
      "text/html": [
       "<span style=\"color:blue\"> |-structured_data_block_1/dense_block_1/units_2: 128</span>"
      ],
      "text/plain": [
       "<IPython.core.display.HTML object>"
      ]
     },
     "metadata": {},
     "output_type": "display_data"
    },
    {
     "data": {
      "text/html": [
       "<span style=\"color:cyan\"> |-structured_data_block_1/dense_block_1/use_batchnorm: False</span>"
      ],
      "text/plain": [
       "<IPython.core.display.HTML object>"
      ]
     },
     "metadata": {},
     "output_type": "display_data"
    },
    {
     "data": {
      "text/html": [
       "<span style=\"color:#4527A0\"><h1 style=\"font-size:18px\">Starting new trial</h1></span>"
      ],
      "text/plain": [
       "<IPython.core.display.HTML object>"
      ]
     },
     "metadata": {},
     "output_type": "display_data"
    },
    {
     "name": "stdout",
     "output_type": "stream",
     "text": [
      "Epoch 1/1000\n",
      "26/26 [==============================] - ETA: 0s - loss: 1.4550 - accuracy: 0.28 - ETA: 0s - loss: 1.8218 - accuracy: 0.21 - ETA: 0s - loss: 1.7591 - accuracy: 0.22 - ETA: 0s - loss: 1.7549 - accuracy: 0.23 - ETA: 0s - loss: 1.7053 - accuracy: 0.26 - ETA: 0s - loss: 1.6829 - accuracy: 0.27 - 6s 232ms/step - loss: 1.6829 - accuracy: 0.2716 - val_loss: 1.4081 - val_accuracy: 0.3631\n",
      "Epoch 2/1000\n",
      "26/26 [==============================] - ETA: 0s - loss: 1.4054 - accuracy: 0.37 - ETA: 0s - loss: 1.5296 - accuracy: 0.30 - ETA: 0s - loss: 1.5226 - accuracy: 0.32 - ETA: 0s - loss: 1.4532 - accuracy: 0.35 - ETA: 0s - loss: 1.4476 - accuracy: 0.35 - 1s 42ms/step - loss: 1.4306 - accuracy: 0.3606 - val_loss: 1.3120 - val_accuracy: 0.2976\n",
      "Epoch 3/1000\n",
      "26/26 [==============================] - ETA: 0s - loss: 1.3056 - accuracy: 0.40 - ETA: 0s - loss: 1.3784 - accuracy: 0.33 - ETA: 0s - loss: 1.3889 - accuracy: 0.33 - ETA: 0s - loss: 1.3803 - accuracy: 0.35 - ETA: 0s - loss: 1.3863 - accuracy: 0.36 - ETA: 0s - loss: 1.3835 - accuracy: 0.36 - 1s 42ms/step - loss: 1.3835 - accuracy: 0.3642 - val_loss: 1.2712 - val_accuracy: 0.3333\n",
      "Epoch 4/1000\n",
      "26/26 [==============================] - ETA: 0s - loss: 1.4065 - accuracy: 0.43 - ETA: 0s - loss: 1.4122 - accuracy: 0.41 - ETA: 0s - loss: 1.4004 - accuracy: 0.39 - ETA: 0s - loss: 1.3997 - accuracy: 0.38 - ETA: 0s - loss: 1.3685 - accuracy: 0.40 - ETA: 0s - loss: 1.3758 - accuracy: 0.40 - 1s 47ms/step - loss: 1.3758 - accuracy: 0.4002 - val_loss: 1.2565 - val_accuracy: 0.3929\n",
      "Epoch 5/1000\n",
      "26/26 [==============================] - ETA: 0s - loss: 1.0894 - accuracy: 0.43 - ETA: 0s - loss: 1.2285 - accuracy: 0.43 - ETA: 0s - loss: 1.2327 - accuracy: 0.42 - ETA: 0s - loss: 1.2771 - accuracy: 0.40 - ETA: 0s - loss: 1.2797 - accuracy: 0.40 - ETA: 0s - loss: 1.2826 - accuracy: 0.40 - 1s 49ms/step - loss: 1.2826 - accuracy: 0.4050 - val_loss: 1.2200 - val_accuracy: 0.4524\n",
      "Epoch 6/1000\n",
      "26/26 [==============================] - ETA: 0s - loss: 1.1961 - accuracy: 0.40 - ETA: 0s - loss: 1.2344 - accuracy: 0.46 - ETA: 0s - loss: 1.2289 - accuracy: 0.44 - ETA: 0s - loss: 1.2360 - accuracy: 0.44 - ETA: 0s - loss: 1.2151 - accuracy: 0.45 - ETA: 0s - loss: 1.2373 - accuracy: 0.45 - 1s 42ms/step - loss: 1.2347 - accuracy: 0.4495 - val_loss: 1.2165 - val_accuracy: 0.4345\n",
      "Epoch 7/1000\n",
      "26/26 [==============================] - ETA: 0s - loss: 1.0948 - accuracy: 0.62 - ETA: 0s - loss: 1.2047 - accuracy: 0.52 - ETA: 0s - loss: 1.1826 - accuracy: 0.51 - ETA: 0s - loss: 1.1562 - accuracy: 0.50 - ETA: 0s - loss: 1.1656 - accuracy: 0.48 - ETA: 0s - loss: 1.1766 - accuracy: 0.46 - 1s 46ms/step - loss: 1.1766 - accuracy: 0.4663 - val_loss: 1.1926 - val_accuracy: 0.4762\n",
      "Epoch 8/1000\n",
      "26/26 [==============================] - ETA: 0s - loss: 1.2324 - accuracy: 0.43 - ETA: 0s - loss: 1.1993 - accuracy: 0.43 - ETA: 0s - loss: 1.1826 - accuracy: 0.45 - ETA: 0s - loss: 1.1605 - accuracy: 0.46 - ETA: 0s - loss: 1.1432 - accuracy: 0.47 - 1s 47ms/step - loss: 1.1536 - accuracy: 0.4724 - val_loss: 1.1693 - val_accuracy: 0.4762\n",
      "Epoch 9/1000\n",
      "26/26 [==============================] - ETA: 0s - loss: 1.0552 - accuracy: 0.46 - ETA: 0s - loss: 1.2218 - accuracy: 0.43 - ETA: 0s - loss: 1.1440 - accuracy: 0.50 - ETA: 0s - loss: 1.1312 - accuracy: 0.49 - ETA: 0s - loss: 1.1149 - accuracy: 0.49 - 1s 34ms/step - loss: 1.1234 - accuracy: 0.4880 - val_loss: 1.1348 - val_accuracy: 0.5179\n",
      "Epoch 10/1000\n",
      "26/26 [==============================] - ETA: 0s - loss: 0.9795 - accuracy: 0.59 - ETA: 0s - loss: 1.1780 - accuracy: 0.48 - ETA: 0s - loss: 1.1461 - accuracy: 0.49 - ETA: 0s - loss: 1.1268 - accuracy: 0.49 - ETA: 0s - loss: 1.1304 - accuracy: 0.49 - ETA: 0s - loss: 1.1303 - accuracy: 0.49 - 1s 46ms/step - loss: 1.1303 - accuracy: 0.4928 - val_loss: 1.1146 - val_accuracy: 0.4762\n",
      "Epoch 11/1000\n",
      "26/26 [==============================] - ETA: 0s - loss: 0.9549 - accuracy: 0.68 - ETA: 0s - loss: 1.0435 - accuracy: 0.56 - ETA: 0s - loss: 1.0283 - accuracy: 0.56 - ETA: 0s - loss: 1.0553 - accuracy: 0.54 - ETA: 0s - loss: 1.0701 - accuracy: 0.52 - 1s 39ms/step - loss: 1.0726 - accuracy: 0.5240 - val_loss: 1.0782 - val_accuracy: 0.5476\n",
      "Epoch 12/1000\n",
      "26/26 [==============================] - ETA: 0s - loss: 1.2469 - accuracy: 0.50 - ETA: 0s - loss: 1.2663 - accuracy: 0.45 - ETA: 0s - loss: 1.1348 - accuracy: 0.51 - ETA: 0s - loss: 1.1395 - accuracy: 0.50 - ETA: 0s - loss: 1.1150 - accuracy: 0.51 - 1s 46ms/step - loss: 1.1070 - accuracy: 0.5168 - val_loss: 1.0844 - val_accuracy: 0.5357\n",
      "Epoch 13/1000\n",
      "26/26 [==============================] - ETA: 0s - loss: 1.1588 - accuracy: 0.46 - ETA: 0s - loss: 1.0922 - accuracy: 0.50 - ETA: 0s - loss: 1.0534 - accuracy: 0.52 - ETA: 0s - loss: 1.0593 - accuracy: 0.52 - ETA: 0s - loss: 1.0557 - accuracy: 0.53 - ETA: 0s - loss: 1.0521 - accuracy: 0.53 - 1s 42ms/step - loss: 1.0521 - accuracy: 0.5325 - val_loss: 1.0679 - val_accuracy: 0.5417\n",
      "Epoch 14/1000\n",
      "26/26 [==============================] - ETA: 0s - loss: 0.9895 - accuracy: 0.59 - ETA: 0s - loss: 1.1385 - accuracy: 0.48 - ETA: 0s - loss: 1.0616 - accuracy: 0.52 - ETA: 0s - loss: 1.0535 - accuracy: 0.52 - ETA: 0s - loss: 1.0606 - accuracy: 0.53 - 1s 47ms/step - loss: 1.0440 - accuracy: 0.5421 - val_loss: 1.0686 - val_accuracy: 0.5833\n",
      "Epoch 15/1000\n",
      "26/26 [==============================] - ETA: 0s - loss: 0.9213 - accuracy: 0.59 - ETA: 0s - loss: 1.1010 - accuracy: 0.54 - ETA: 0s - loss: 1.0506 - accuracy: 0.55 - ETA: 0s - loss: 1.0438 - accuracy: 0.56 - ETA: 0s - loss: 1.0376 - accuracy: 0.55 - ETA: 0s - loss: 1.0195 - accuracy: 0.56 - 1s 49ms/step - loss: 1.0195 - accuracy: 0.5649 - val_loss: 1.0395 - val_accuracy: 0.6131\n",
      "Epoch 16/1000\n",
      "26/26 [==============================] - ETA: 0s - loss: 1.0035 - accuracy: 0.59 - ETA: 0s - loss: 1.0316 - accuracy: 0.56 - ETA: 0s - loss: 0.9832 - accuracy: 0.58 - ETA: 0s - loss: 0.9729 - accuracy: 0.57 - ETA: 0s - loss: 0.9693 - accuracy: 0.58 - 1s 47ms/step - loss: 0.9635 - accuracy: 0.5805 - val_loss: 1.0434 - val_accuracy: 0.5893\n",
      "Epoch 17/1000\n",
      "26/26 [==============================] - ETA: 0s - loss: 0.8944 - accuracy: 0.65 - ETA: 0s - loss: 1.0265 - accuracy: 0.57 - ETA: 0s - loss: 0.9732 - accuracy: 0.60 - ETA: 0s - loss: 0.9657 - accuracy: 0.59 - ETA: 0s - loss: 0.9557 - accuracy: 0.60 - ETA: 0s - loss: 0.9482 - accuracy: 0.60 - 1s 42ms/step - loss: 0.9482 - accuracy: 0.6070 - val_loss: 1.0507 - val_accuracy: 0.5952\n",
      "Epoch 18/1000\n",
      "26/26 [==============================] - ETA: 0s - loss: 1.0690 - accuracy: 0.53 - ETA: 0s - loss: 0.9656 - accuracy: 0.59 - ETA: 0s - loss: 0.9400 - accuracy: 0.59 - ETA: 0s - loss: 0.9515 - accuracy: 0.57 - ETA: 0s - loss: 0.9508 - accuracy: 0.58 - ETA: 0s - loss: 0.9545 - accuracy: 0.57 - 1s 48ms/step - loss: 0.9545 - accuracy: 0.5793 - val_loss: 1.0223 - val_accuracy: 0.5655\n",
      "Epoch 19/1000\n",
      "26/26 [==============================] - ETA: 0s - loss: 0.7765 - accuracy: 0.71 - ETA: 0s - loss: 0.9731 - accuracy: 0.64 - ETA: 0s - loss: 0.9266 - accuracy: 0.64 - ETA: 0s - loss: 0.9210 - accuracy: 0.61 - ETA: 0s - loss: 0.9206 - accuracy: 0.61 - 1s 45ms/step - loss: 0.9088 - accuracy: 0.6142 - val_loss: 1.0498 - val_accuracy: 0.5774\n",
      "Epoch 20/1000\n",
      "26/26 [==============================] - ETA: 0s - loss: 0.8720 - accuracy: 0.59 - ETA: 0s - loss: 0.9808 - accuracy: 0.61 - ETA: 0s - loss: 0.9223 - accuracy: 0.59 - ETA: 0s - loss: 0.9466 - accuracy: 0.59 - ETA: 0s - loss: 0.9425 - accuracy: 0.58 - ETA: 0s - loss: 0.9295 - accuracy: 0.58 - 1s 40ms/step - loss: 0.9295 - accuracy: 0.5877 - val_loss: 1.0390 - val_accuracy: 0.5476\n",
      "Epoch 21/1000\n",
      "26/26 [==============================] - ETA: 0s - loss: 0.8726 - accuracy: 0.59 - ETA: 0s - loss: 0.9449 - accuracy: 0.57 - ETA: 0s - loss: 0.9043 - accuracy: 0.60 - ETA: 0s - loss: 0.9207 - accuracy: 0.60 - ETA: 0s - loss: 0.9075 - accuracy: 0.60 - 1s 46ms/step - loss: 0.8975 - accuracy: 0.6082 - val_loss: 1.0364 - val_accuracy: 0.5714\n",
      "Epoch 22/1000\n"
     ]
    },
    {
     "name": "stdout",
     "output_type": "stream",
     "text": [
      "26/26 [==============================] - ETA: 0s - loss: 0.8905 - accuracy: 0.59 - ETA: 0s - loss: 1.0053 - accuracy: 0.55 - ETA: 0s - loss: 0.9441 - accuracy: 0.59 - ETA: 0s - loss: 0.9261 - accuracy: 0.60 - ETA: 0s - loss: 0.9237 - accuracy: 0.61 - ETA: 0s - loss: 0.9073 - accuracy: 0.61 - 1s 52ms/step - loss: 0.9073 - accuracy: 0.6190 - val_loss: 1.0068 - val_accuracy: 0.5833\n",
      "Epoch 23/1000\n",
      "26/26 [==============================] - ETA: 0s - loss: 0.8509 - accuracy: 0.62 - ETA: 0s - loss: 0.9341 - accuracy: 0.61 - ETA: 0s - loss: 0.8990 - accuracy: 0.63 - ETA: 0s - loss: 0.8824 - accuracy: 0.63 - ETA: 0s - loss: 0.8751 - accuracy: 0.63 - ETA: 0s - loss: 0.8622 - accuracy: 0.63 - 1s 46ms/step - loss: 0.8622 - accuracy: 0.6382 - val_loss: 1.0014 - val_accuracy: 0.5833\n",
      "Epoch 24/1000\n",
      "26/26 [==============================] - ETA: 0s - loss: 0.7988 - accuracy: 0.62 - ETA: 0s - loss: 0.9043 - accuracy: 0.63 - ETA: 0s - loss: 0.8778 - accuracy: 0.65 - ETA: 0s - loss: 0.8950 - accuracy: 0.63 - ETA: 0s - loss: 0.8767 - accuracy: 0.64 - ETA: 0s - loss: 0.8820 - accuracy: 0.62 - 1s 47ms/step - loss: 0.8696 - accuracy: 0.6358 - val_loss: 1.0011 - val_accuracy: 0.6071\n",
      "Epoch 25/1000\n",
      "26/26 [==============================] - ETA: 0s - loss: 0.8971 - accuracy: 0.59 - ETA: 0s - loss: 1.0120 - accuracy: 0.57 - ETA: 0s - loss: 0.9123 - accuracy: 0.63 - ETA: 0s - loss: 0.8971 - accuracy: 0.63 - ETA: 0s - loss: 0.8883 - accuracy: 0.63 - 1s 45ms/step - loss: 0.8789 - accuracy: 0.6406 - val_loss: 1.0124 - val_accuracy: 0.5714\n",
      "Epoch 26/1000\n",
      "26/26 [==============================] - ETA: 0s - loss: 0.7430 - accuracy: 0.68 - ETA: 0s - loss: 0.9263 - accuracy: 0.60 - ETA: 0s - loss: 0.8574 - accuracy: 0.64 - ETA: 0s - loss: 0.8639 - accuracy: 0.63 - ETA: 0s - loss: 0.8747 - accuracy: 0.62 - 1s 51ms/step - loss: 0.8677 - accuracy: 0.6286 - val_loss: 1.0448 - val_accuracy: 0.5417\n",
      "Epoch 27/1000\n",
      "26/26 [==============================] - ETA: 0s - loss: 0.8835 - accuracy: 0.65 - ETA: 0s - loss: 0.8725 - accuracy: 0.64 - ETA: 0s - loss: 0.8379 - accuracy: 0.65 - ETA: 0s - loss: 0.8139 - accuracy: 0.67 - ETA: 0s - loss: 0.8115 - accuracy: 0.66 - 1s 44ms/step - loss: 0.8020 - accuracy: 0.6683 - val_loss: 1.0755 - val_accuracy: 0.5655\n",
      "Epoch 28/1000\n",
      "26/26 [==============================] - ETA: 0s - loss: 0.7778 - accuracy: 0.65 - ETA: 0s - loss: 0.9098 - accuracy: 0.60 - ETA: 0s - loss: 0.8313 - accuracy: 0.65 - ETA: 0s - loss: 0.8122 - accuracy: 0.65 - ETA: 0s - loss: 0.8125 - accuracy: 0.66 - ETA: 0s - loss: 0.8018 - accuracy: 0.65 - 2s 64ms/step - loss: 0.8018 - accuracy: 0.6599 - val_loss: 1.0577 - val_accuracy: 0.5833\n",
      "Epoch 29/1000\n",
      "26/26 [==============================] - ETA: 0s - loss: 0.9610 - accuracy: 0.53 - ETA: 0s - loss: 0.8994 - accuracy: 0.64 - ETA: 0s - loss: 0.7924 - accuracy: 0.67 - ETA: 0s - loss: 0.8193 - accuracy: 0.65 - ETA: 0s - loss: 0.8166 - accuracy: 0.65 - 1s 42ms/step - loss: 0.8038 - accuracy: 0.6671 - val_loss: 1.0328 - val_accuracy: 0.5655\n",
      "Epoch 30/1000\n",
      "26/26 [==============================] - ETA: 0s - loss: 0.8626 - accuracy: 0.65 - ETA: 0s - loss: 0.9552 - accuracy: 0.62 - ETA: 0s - loss: 0.8504 - accuracy: 0.65 - ETA: 0s - loss: 0.8418 - accuracy: 0.65 - ETA: 0s - loss: 0.8264 - accuracy: 0.66 - 1s 48ms/step - loss: 0.8059 - accuracy: 0.6707 - val_loss: 1.0332 - val_accuracy: 0.5714\n",
      "Epoch 31/1000\n",
      "26/26 [==============================] - ETA: 0s - loss: 0.7409 - accuracy: 0.59 - ETA: 0s - loss: 0.8000 - accuracy: 0.65 - ETA: 0s - loss: 0.7692 - accuracy: 0.67 - ETA: 0s - loss: 0.7915 - accuracy: 0.67 - ETA: 0s - loss: 0.8084 - accuracy: 0.66 - ETA: 0s - loss: 0.7905 - accuracy: 0.67 - 1s 48ms/step - loss: 0.7905 - accuracy: 0.6755 - val_loss: 1.0546 - val_accuracy: 0.5417\n",
      "Epoch 32/1000\n",
      "26/26 [==============================] - ETA: 0s - loss: 0.8144 - accuracy: 0.68 - ETA: 0s - loss: 0.8966 - accuracy: 0.65 - ETA: 0s - loss: 0.8571 - accuracy: 0.66 - ETA: 0s - loss: 0.8185 - accuracy: 0.65 - ETA: 0s - loss: 0.8087 - accuracy: 0.66 - ETA: 0s - loss: 0.7826 - accuracy: 0.67 - 1s 49ms/step - loss: 0.7826 - accuracy: 0.6755 - val_loss: 1.0575 - val_accuracy: 0.5595\n",
      "Epoch 33/1000\n",
      "26/26 [==============================] - ETA: 0s - loss: 0.9623 - accuracy: 0.62 - ETA: 0s - loss: 0.8972 - accuracy: 0.65 - ETA: 0s - loss: 0.7824 - accuracy: 0.69 - ETA: 0s - loss: 0.7787 - accuracy: 0.69 - ETA: 0s - loss: 0.7747 - accuracy: 0.69 - 1s 43ms/step - loss: 0.7629 - accuracy: 0.6923 - val_loss: 1.0962 - val_accuracy: 0.5060\n",
      "Epoch 34/1000\n",
      "26/26 [==============================] - ETA: 0s - loss: 0.9204 - accuracy: 0.50 - ETA: 0s - loss: 0.8648 - accuracy: 0.66 - ETA: 0s - loss: 0.7915 - accuracy: 0.68 - ETA: 0s - loss: 0.7747 - accuracy: 0.68 - ETA: 0s - loss: 0.7588 - accuracy: 0.68 - 1s 53ms/step - loss: 0.7490 - accuracy: 0.6887 - val_loss: 1.0841 - val_accuracy: 0.5476\n"
     ]
    },
    {
     "data": {
      "text/html": [
       "<span style=\"color:#4527A0\"><h1 style=\"font-size:18px\">Trial complete</h1></span>"
      ],
      "text/plain": [
       "<IPython.core.display.HTML object>"
      ]
     },
     "metadata": {},
     "output_type": "display_data"
    },
    {
     "data": {
      "text/html": [
       "<span style=\"color:#4527A0\"><h1 style=\"font-size:18px\">Trial summary</h1></span>"
      ],
      "text/plain": [
       "<IPython.core.display.HTML object>"
      ]
     },
     "metadata": {},
     "output_type": "display_data"
    },
    {
     "data": {
      "text/html": [
       "<span style=\"color:cyan\"> |-Trial ID: d78e07e1f38dfc536f57e15ee995d905</span>"
      ],
      "text/plain": [
       "<IPython.core.display.HTML object>"
      ]
     },
     "metadata": {},
     "output_type": "display_data"
    },
    {
     "data": {
      "text/html": [
       "<span style=\"color:cyan\"> |-Score: 0.613095223903656</span>"
      ],
      "text/plain": [
       "<IPython.core.display.HTML object>"
      ]
     },
     "metadata": {},
     "output_type": "display_data"
    },
    {
     "data": {
      "text/html": [
       "<span style=\"color:cyan\"> |-Best step: 14</span>"
      ],
      "text/plain": [
       "<IPython.core.display.HTML object>"
      ]
     },
     "metadata": {},
     "output_type": "display_data"
    },
    {
     "data": {
      "text/html": [
       "<span style=\"color:#7E57C2\"><h2 style=\"font-size:16px\">Hyperparameters:</h2></span>"
      ],
      "text/plain": [
       "<IPython.core.display.HTML object>"
      ]
     },
     "metadata": {},
     "output_type": "display_data"
    },
    {
     "data": {
      "text/html": [
       "<span style=\"color:cyan\"> |-classification_head_1/dropout: 0</span>"
      ],
      "text/plain": [
       "<IPython.core.display.HTML object>"
      ]
     },
     "metadata": {},
     "output_type": "display_data"
    },
    {
     "data": {
      "text/html": [
       "<span style=\"color:blue\"> |-learning_rate: 0.001</span>"
      ],
      "text/plain": [
       "<IPython.core.display.HTML object>"
      ]
     },
     "metadata": {},
     "output_type": "display_data"
    },
    {
     "data": {
      "text/html": [
       "<span style=\"color:cyan\"> |-optimizer: adam</span>"
      ],
      "text/plain": [
       "<IPython.core.display.HTML object>"
      ]
     },
     "metadata": {},
     "output_type": "display_data"
    },
    {
     "data": {
      "text/html": [
       "<span style=\"color:blue\"> |-structured_data_block_1/dense_block_1/dropout: 0.25</span>"
      ],
      "text/plain": [
       "<IPython.core.display.HTML object>"
      ]
     },
     "metadata": {},
     "output_type": "display_data"
    },
    {
     "data": {
      "text/html": [
       "<span style=\"color:cyan\"> |-structured_data_block_1/dense_block_1/num_layers: 3</span>"
      ],
      "text/plain": [
       "<IPython.core.display.HTML object>"
      ]
     },
     "metadata": {},
     "output_type": "display_data"
    },
    {
     "data": {
      "text/html": [
       "<span style=\"color:blue\"> |-structured_data_block_1/dense_block_1/units_0: 64</span>"
      ],
      "text/plain": [
       "<IPython.core.display.HTML object>"
      ]
     },
     "metadata": {},
     "output_type": "display_data"
    },
    {
     "data": {
      "text/html": [
       "<span style=\"color:cyan\"> |-structured_data_block_1/dense_block_1/units_1: 16</span>"
      ],
      "text/plain": [
       "<IPython.core.display.HTML object>"
      ]
     },
     "metadata": {},
     "output_type": "display_data"
    },
    {
     "data": {
      "text/html": [
       "<span style=\"color:blue\"> |-structured_data_block_1/dense_block_1/units_2: 64</span>"
      ],
      "text/plain": [
       "<IPython.core.display.HTML object>"
      ]
     },
     "metadata": {},
     "output_type": "display_data"
    },
    {
     "data": {
      "text/html": [
       "<span style=\"color:cyan\"> |-structured_data_block_1/dense_block_1/use_batchnorm: True</span>"
      ],
      "text/plain": [
       "<IPython.core.display.HTML object>"
      ]
     },
     "metadata": {},
     "output_type": "display_data"
    },
    {
     "data": {
      "text/html": [
       "<span style=\"color:#4527A0\"><h1 style=\"font-size:18px\">Starting new trial</h1></span>"
      ],
      "text/plain": [
       "<IPython.core.display.HTML object>"
      ]
     },
     "metadata": {},
     "output_type": "display_data"
    },
    {
     "name": "stdout",
     "output_type": "stream",
     "text": [
      "Epoch 1/1000\n",
      "26/26 [==============================] - ETA: 0s - loss: 2081.8047 - accuracy: 0.281 - ETA: 0s - loss: 4914.1851 - accuracy: 0.257 - ETA: 0s - loss: 4531.2466 - accuracy: 0.299 - ETA: 0s - loss: 3910.0464 - accuracy: 0.278 - ETA: 0s - loss: 3451.9919 - accuracy: 0.288 - ETA: 0s - loss: 3173.4011 - accuracy: 0.306 - ETA: 0s - loss: 2982.9131 - accuracy: 0.304 - ETA: 0s - loss: 2823.2185 - accuracy: 0.304 - ETA: 0s - loss: 2648.0269 - accuracy: 0.301 - 6s 246ms/step - loss: 2571.1313 - accuracy: 0.3065 - val_loss: 689.1660 - val_accuracy: 0.3214\n",
      "Epoch 2/1000\n",
      "26/26 [==============================] - ETA: 0s - loss: 677.2404 - accuracy: 0.25 - ETA: 0s - loss: 838.7632 - accuracy: 0.31 - ETA: 0s - loss: 828.4586 - accuracy: 0.33 - ETA: 0s - loss: 792.7814 - accuracy: 0.36 - ETA: 0s - loss: 777.7449 - accuracy: 0.35 - ETA: 0s - loss: 736.4594 - accuracy: 0.36 - ETA: 0s - loss: 756.0754 - accuracy: 0.35 - ETA: 0s - loss: 717.3552 - accuracy: 0.35 - ETA: 0s - loss: 686.5502 - accuracy: 0.35 - 1s 55ms/step - loss: 669.1599 - accuracy: 0.3654 - val_loss: 233.7303 - val_accuracy: 0.4167\n",
      "Epoch 3/1000\n",
      "26/26 [==============================] - ETA: 0s - loss: 239.0708 - accuracy: 0.46 - ETA: 0s - loss: 349.4261 - accuracy: 0.35 - ETA: 0s - loss: 285.5301 - accuracy: 0.41 - ETA: 0s - loss: 290.2875 - accuracy: 0.40 - ETA: 0s - loss: 258.9645 - accuracy: 0.41 - ETA: 0s - loss: 252.2915 - accuracy: 0.41 - ETA: 0s - loss: 238.8295 - accuracy: 0.42 - ETA: 0s - loss: 228.8966 - accuracy: 0.42 - ETA: 0s - loss: 237.7746 - accuracy: 0.41 - 2s 61ms/step - loss: 233.0515 - accuracy: 0.4183 - val_loss: 97.3267 - val_accuracy: 0.4107\n",
      "Epoch 4/1000\n",
      "26/26 [==============================] - ETA: 0s - loss: 180.1048 - accuracy: 0.37 - ETA: 0s - loss: 182.9502 - accuracy: 0.39 - ETA: 0s - loss: 170.1805 - accuracy: 0.43 - ETA: 0s - loss: 152.0617 - accuracy: 0.43 - ETA: 0s - loss: 144.3286 - accuracy: 0.42 - ETA: 0s - loss: 136.9212 - accuracy: 0.41 - ETA: 0s - loss: 128.8980 - accuracy: 0.41 - ETA: 0s - loss: 122.4564 - accuracy: 0.41 - ETA: 0s - loss: 123.3632 - accuracy: 0.41 - 2s 69ms/step - loss: 121.6220 - accuracy: 0.4159 - val_loss: 55.0350 - val_accuracy: 0.3571\n",
      "Epoch 5/1000\n",
      "26/26 [==============================] - ETA: 0s - loss: 58.8178 - accuracy: 0.468 - ETA: 0s - loss: 62.9227 - accuracy: 0.421 - ETA: 0s - loss: 66.3230 - accuracy: 0.392 - ETA: 0s - loss: 64.0294 - accuracy: 0.390 - ETA: 0s - loss: 60.8734 - accuracy: 0.370 - ETA: 0s - loss: 58.9091 - accuracy: 0.392 - ETA: 0s - loss: 61.8737 - accuracy: 0.379 - ETA: 0s - loss: 57.8327 - accuracy: 0.382 - ETA: 0s - loss: 55.2161 - accuracy: 0.376 - 2s 60ms/step - loss: 55.6348 - accuracy: 0.3822 - val_loss: 6.1262 - val_accuracy: 0.3036\n",
      "Epoch 6/1000\n",
      "26/26 [==============================] - ETA: 0s - loss: 46.9007 - accuracy: 0.375 - ETA: 0s - loss: 31.5176 - accuracy: 0.421 - ETA: 0s - loss: 33.6009 - accuracy: 0.433 - ETA: 0s - loss: 31.6111 - accuracy: 0.393 - ETA: 0s - loss: 30.0611 - accuracy: 0.380 - ETA: 0s - loss: 29.0899 - accuracy: 0.360 - ETA: 0s - loss: 26.9891 - accuracy: 0.385 - ETA: 0s - loss: 28.8327 - accuracy: 0.392 - ETA: 0s - loss: 27.5597 - accuracy: 0.381 - 2s 70ms/step - loss: 26.6108 - accuracy: 0.3750 - val_loss: 1.8221 - val_accuracy: 0.2857\n",
      "Epoch 7/1000\n",
      "26/26 [==============================] - ETA: 0s - loss: 8.7783 - accuracy: 0.40 - ETA: 0s - loss: 16.2984 - accuracy: 0.343 - ETA: 0s - loss: 16.3394 - accuracy: 0.339 - ETA: 0s - loss: 17.3812 - accuracy: 0.315 - ETA: 0s - loss: 15.1031 - accuracy: 0.305 - ETA: 0s - loss: 14.2172 - accuracy: 0.312 - ETA: 0s - loss: 13.2248 - accuracy: 0.317 - ETA: 0s - loss: 15.5524 - accuracy: 0.318 - ETA: 0s - loss: 14.3252 - accuracy: 0.316 - 2s 60ms/step - loss: 14.2687 - accuracy: 0.3161 - val_loss: 2.0354 - val_accuracy: 0.2440\n",
      "Epoch 8/1000\n",
      "26/26 [==============================] - ETA: 0s - loss: 11.8184 - accuracy: 0.375 - ETA: 0s - loss: 12.1033 - accuracy: 0.320 - ETA: 0s - loss: 11.3657 - accuracy: 0.330 - ETA: 0s - loss: 9.4121 - accuracy: 0.343 - ETA: 0s - loss: 10.0571 - accuracy: 0.331 - ETA: 0s - loss: 11.3057 - accuracy: 0.328 - ETA: 0s - loss: 10.9106 - accuracy: 0.337 - ETA: 0s - loss: 10.4535 - accuracy: 0.331 - ETA: 0s - loss: 9.5305 - accuracy: 0.325 - 2s 67ms/step - loss: 9.4961 - accuracy: 0.3257 - val_loss: 4.3595 - val_accuracy: 0.2500\n",
      "Epoch 9/1000\n",
      "26/26 [==============================] - ETA: 0s - loss: 1.8594 - accuracy: 0.43 - ETA: 0s - loss: 4.8268 - accuracy: 0.34 - ETA: 0s - loss: 5.6541 - accuracy: 0.35 - ETA: 0s - loss: 5.5373 - accuracy: 0.32 - ETA: 0s - loss: 4.8758 - accuracy: 0.30 - ETA: 0s - loss: 5.3985 - accuracy: 0.29 - ETA: 0s - loss: 5.3559 - accuracy: 0.30 - ETA: 0s - loss: 5.4245 - accuracy: 0.30 - ETA: 0s - loss: 5.3038 - accuracy: 0.30 - 2s 65ms/step - loss: 5.4296 - accuracy: 0.2993 - val_loss: 1.5346 - val_accuracy: 0.2440\n",
      "Epoch 10/1000\n",
      "26/26 [==============================] - ETA: 0s - loss: 1.6351 - accuracy: 0.34 - ETA: 0s - loss: 8.3703 - accuracy: 0.29 - ETA: 0s - loss: 5.7646 - accuracy: 0.33 - ETA: 0s - loss: 5.7652 - accuracy: 0.32 - ETA: 0s - loss: 5.3764 - accuracy: 0.30 - ETA: 0s - loss: 4.7261 - accuracy: 0.29 - ETA: 0s - loss: 6.1627 - accuracy: 0.30 - ETA: 0s - loss: 5.9242 - accuracy: 0.30 - ETA: 0s - loss: 5.5941 - accuracy: 0.30 - 2s 65ms/step - loss: 5.5882 - accuracy: 0.3065 - val_loss: 1.6057 - val_accuracy: 0.2440\n",
      "Epoch 11/1000\n",
      "26/26 [==============================] - ETA: 0s - loss: 4.2308 - accuracy: 0.34 - ETA: 0s - loss: 6.4788 - accuracy: 0.27 - ETA: 0s - loss: 5.7241 - accuracy: 0.30 - ETA: 0s - loss: 4.9425 - accuracy: 0.33 - ETA: 0s - loss: 5.6703 - accuracy: 0.30 - ETA: 0s - loss: 5.1031 - accuracy: 0.29 - ETA: 0s - loss: 4.5999 - accuracy: 0.28 - ETA: 0s - loss: 4.0984 - accuracy: 0.30 - ETA: 0s - loss: 4.0041 - accuracy: 0.31 - ETA: 0s - loss: 3.9734 - accuracy: 0.30 - 2s 83ms/step - loss: 3.8161 - accuracy: 0.3077 - val_loss: 1.3854 - val_accuracy: 0.2440\n",
      "Epoch 12/1000\n",
      "26/26 [==============================] - ETA: 0s - loss: 1.1627 - accuracy: 0.40 - ETA: 0s - loss: 3.2959 - accuracy: 0.32 - ETA: 0s - loss: 3.1389 - accuracy: 0.36 - ETA: 0s - loss: 3.5392 - accuracy: 0.33 - ETA: 0s - loss: 3.2131 - accuracy: 0.31 - ETA: 0s - loss: 3.3982 - accuracy: 0.29 - ETA: 0s - loss: 3.1262 - accuracy: 0.30 - ETA: 0s - loss: 3.2999 - accuracy: 0.31 - ETA: 0s - loss: 3.2750 - accuracy: 0.29 - 2s 75ms/step - loss: 3.2013 - accuracy: 0.3005 - val_loss: 1.3852 - val_accuracy: 0.2440\n",
      "Epoch 13/1000\n",
      "26/26 [==============================] - ETA: 0s - loss: 3.0250 - accuracy: 0.31 - ETA: 0s - loss: 1.8623 - accuracy: 0.30 - ETA: 0s - loss: 3.1256 - accuracy: 0.32 - ETA: 0s - loss: 3.3531 - accuracy: 0.30 - ETA: 0s - loss: 2.9856 - accuracy: 0.28 - ETA: 0s - loss: 3.2136 - accuracy: 0.27 - ETA: 0s - loss: 3.2434 - accuracy: 0.28 - ETA: 0s - loss: 3.1912 - accuracy: 0.28 - ETA: 0s - loss: 3.0841 - accuracy: 0.28 - 2s 78ms/step - loss: 3.0725 - accuracy: 0.2885 - val_loss: 4.4573 - val_accuracy: 0.2500\n",
      "Epoch 14/1000\n",
      "26/26 [==============================] - ETA: 0s - loss: 6.5059 - accuracy: 0.28 - ETA: 0s - loss: 4.5795 - accuracy: 0.28 - ETA: 0s - loss: 4.0096 - accuracy: 0.32 - ETA: 0s - loss: 4.2174 - accuracy: 0.31 - ETA: 0s - loss: 3.5454 - accuracy: 0.29 - ETA: 0s - loss: 3.2121 - accuracy: 0.30 - ETA: 0s - loss: 3.4741 - accuracy: 0.30 - ETA: 0s - loss: 3.3521 - accuracy: 0.30 - ETA: 0s - loss: 3.1423 - accuracy: 0.30 - 2s 63ms/step - loss: 3.0761 - accuracy: 0.3005 - val_loss: 1.3850 - val_accuracy: 0.2440\n",
      "Epoch 15/1000\n",
      "26/26 [==============================] - ETA: 0s - loss: 1.2438 - accuracy: 0.37 - ETA: 0s - loss: 2.6835 - accuracy: 0.31 - ETA: 0s - loss: 2.4015 - accuracy: 0.34 - ETA: 0s - loss: 2.2090 - accuracy: 0.32 - ETA: 0s - loss: 2.5455 - accuracy: 0.29 - ETA: 0s - loss: 2.3768 - accuracy: 0.28 - ETA: 0s - loss: 2.5284 - accuracy: 0.29 - ETA: 0s - loss: 2.8682 - accuracy: 0.29 - ETA: 0s - loss: 2.7150 - accuracy: 0.28 - 2s 69ms/step - loss: 2.6903 - accuracy: 0.2885 - val_loss: 1.3848 - val_accuracy: 0.2440\n",
      "Epoch 16/1000\n"
     ]
    },
    {
     "name": "stdout",
     "output_type": "stream",
     "text": [
      "26/26 [==============================] - ETA: 0s - loss: 9.7920 - accuracy: 0.25 - ETA: 0s - loss: 3.7959 - accuracy: 0.28 - ETA: 0s - loss: 3.2785 - accuracy: 0.31 - ETA: 0s - loss: 2.9341 - accuracy: 0.29 - ETA: 0s - loss: 5.5569 - accuracy: 0.28 - ETA: 0s - loss: 4.9845 - accuracy: 0.27 - ETA: 0s - loss: 4.4780 - accuracy: 0.26 - ETA: 0s - loss: 5.7640 - accuracy: 0.28 - ETA: 0s - loss: 9.1509 - accuracy: 0.28 - ETA: 0s - loss: 8.5372 - accuracy: 0.28 - ETA: 0s - loss: 8.1795 - accuracy: 0.27 - 2s 72ms/step - loss: 8.0949 - accuracy: 0.2788 - val_loss: 5.4459 - val_accuracy: 0.2440\n",
      "Epoch 17/1000\n",
      "26/26 [==============================] - ETA: 0s - loss: 3.4659 - accuracy: 0.31 - ETA: 0s - loss: 2.4639 - accuracy: 0.28 - ETA: 0s - loss: 2.0462 - accuracy: 0.32 - ETA: 0s - loss: 1.9523 - accuracy: 0.31 - ETA: 0s - loss: 1.8059 - accuracy: 0.29 - ETA: 0s - loss: 1.7977 - accuracy: 0.28 - ETA: 0s - loss: 2.3797 - accuracy: 0.28 - ETA: 0s - loss: 3.4587 - accuracy: 0.28 - ETA: 0s - loss: 3.2220 - accuracy: 0.28 - 2s 84ms/step - loss: 3.1514 - accuracy: 0.2849 - val_loss: 1.3787 - val_accuracy: 0.2440\n",
      "Epoch 18/1000\n",
      "26/26 [==============================] - ETA: 0s - loss: 1.3076 - accuracy: 0.34 - ETA: 0s - loss: 2.8223 - accuracy: 0.27 - ETA: 0s - loss: 2.6050 - accuracy: 0.30 - ETA: 0s - loss: 2.3358 - accuracy: 0.29 - ETA: 0s - loss: 2.1600 - accuracy: 0.26 - ETA: 0s - loss: 2.0823 - accuracy: 0.26 - ETA: 0s - loss: 2.0434 - accuracy: 0.27 - ETA: 0s - loss: 2.0746 - accuracy: 0.28 - ETA: 0s - loss: 1.9833 - accuracy: 0.28 - 2s 60ms/step - loss: 2.3083 - accuracy: 0.2812 - val_loss: 1.3844 - val_accuracy: 0.2440\n",
      "Epoch 19/1000\n",
      "26/26 [==============================] - ETA: 0s - loss: 1.3504 - accuracy: 0.31 - ETA: 0s - loss: 1.9773 - accuracy: 0.25 - ETA: 0s - loss: 1.8492 - accuracy: 0.29 - ETA: 0s - loss: 1.7200 - accuracy: 0.27 - ETA: 0s - loss: 1.6689 - accuracy: 0.28 - ETA: 0s - loss: 3.6085 - accuracy: 0.28 - ETA: 0s - loss: 3.3531 - accuracy: 0.28 - ETA: 0s - loss: 3.1042 - accuracy: 0.28 - ETA: 0s - loss: 2.9024 - accuracy: 0.28 - 2s 61ms/step - loss: 2.8445 - accuracy: 0.2861 - val_loss: 1.3844 - val_accuracy: 0.2798\n",
      "Epoch 20/1000\n",
      "26/26 [==============================] - ETA: 0s - loss: 1.3090 - accuracy: 0.25 - ETA: 0s - loss: 1.3324 - accuracy: 0.35 - ETA: 0s - loss: 2.7069 - accuracy: 0.34 - ETA: 0s - loss: 2.3246 - accuracy: 0.31 - ETA: 0s - loss: 2.2165 - accuracy: 0.31 - ETA: 0s - loss: 2.0982 - accuracy: 0.30 - ETA: 0s - loss: 2.2047 - accuracy: 0.30 - ETA: 0s - loss: 2.6756 - accuracy: 0.29 - ETA: 0s - loss: 2.5097 - accuracy: 0.29 - 2s 61ms/step - loss: 2.5181 - accuracy: 0.2933 - val_loss: 1.3843 - val_accuracy: 0.2798\n",
      "Epoch 21/1000\n",
      "26/26 [==============================] - ETA: 0s - loss: 8.1867 - accuracy: 0.18 - ETA: 0s - loss: 3.2267 - accuracy: 0.32 - ETA: 0s - loss: 3.1728 - accuracy: 0.32 - ETA: 0s - loss: 2.6593 - accuracy: 0.29 - ETA: 0s - loss: 2.4514 - accuracy: 0.31 - ETA: 0s - loss: 2.3657 - accuracy: 0.30 - ETA: 0s - loss: 2.1979 - accuracy: 0.29 - ETA: 0s - loss: 2.3602 - accuracy: 0.29 - ETA: 0s - loss: 2.2721 - accuracy: 0.29 - 2s 61ms/step - loss: 2.2367 - accuracy: 0.2945 - val_loss: 1.3843 - val_accuracy: 0.2798\n",
      "Epoch 22/1000\n",
      "26/26 [==============================] - ETA: 0s - loss: 1.3520 - accuracy: 0.21 - ETA: 0s - loss: 1.6156 - accuracy: 0.33 - ETA: 0s - loss: 1.8650 - accuracy: 0.31 - ETA: 0s - loss: 1.7111 - accuracy: 0.29 - ETA: 0s - loss: 1.6365 - accuracy: 0.30 - ETA: 0s - loss: 1.8647 - accuracy: 0.29 - ETA: 0s - loss: 1.8551 - accuracy: 0.28 - ETA: 0s - loss: 1.7839 - accuracy: 0.28 - ETA: 0s - loss: 1.7448 - accuracy: 0.29 - 2s 73ms/step - loss: 1.7312 - accuracy: 0.2897 - val_loss: 1.3842 - val_accuracy: 0.2798\n",
      "Epoch 23/1000\n",
      "26/26 [==============================] - ETA: 0s - loss: 1.3145 - accuracy: 0.25 - ETA: 0s - loss: 1.9488 - accuracy: 0.32 - ETA: 0s - loss: 1.7013 - accuracy: 0.32 - ETA: 0s - loss: 1.5953 - accuracy: 0.29 - ETA: 0s - loss: 1.7104 - accuracy: 0.30 - ETA: 0s - loss: 1.6717 - accuracy: 0.29 - ETA: 0s - loss: 1.6246 - accuracy: 0.29 - ETA: 0s - loss: 1.6207 - accuracy: 0.29 - ETA: 0s - loss: 1.6002 - accuracy: 0.29 - 2s 65ms/step - loss: 1.6062 - accuracy: 0.2921 - val_loss: 1.3842 - val_accuracy: 0.2798\n",
      "Epoch 24/1000\n",
      "26/26 [==============================] - ETA: 0s - loss: 1.5165 - accuracy: 0.21 - ETA: 0s - loss: 1.5661 - accuracy: 0.32 - ETA: 0s - loss: 1.5784 - accuracy: 0.33 - ETA: 0s - loss: 1.5175 - accuracy: 0.29 - ETA: 0s - loss: 1.4826 - accuracy: 0.30 - ETA: 0s - loss: 1.5565 - accuracy: 0.29 - ETA: 0s - loss: 1.5819 - accuracy: 0.29 - ETA: 0s - loss: 1.7521 - accuracy: 0.28 - ETA: 0s - loss: 1.7188 - accuracy: 0.29 - 2s 63ms/step - loss: 1.7087 - accuracy: 0.2885 - val_loss: 1.3841 - val_accuracy: 0.2798\n",
      "Epoch 25/1000\n",
      "26/26 [==============================] - ETA: 0s - loss: 1.2801 - accuracy: 0.28 - ETA: 0s - loss: 1.4530 - accuracy: 0.34 - ETA: 0s - loss: 2.2753 - accuracy: 0.33 - ETA: 0s - loss: 2.1903 - accuracy: 0.29 - ETA: 0s - loss: 2.0001 - accuracy: 0.30 - ETA: 0s - loss: 2.1312 - accuracy: 0.29 - ETA: 0s - loss: 2.1828 - accuracy: 0.28 - ETA: 0s - loss: 2.0959 - accuracy: 0.29 - ETA: 0s - loss: 2.1167 - accuracy: 0.29 - 2s 70ms/step - loss: 2.1252 - accuracy: 0.2921 - val_loss: 5.3418 - val_accuracy: 0.2798\n",
      "Epoch 26/1000\n",
      "26/26 [==============================] - ETA: 0s - loss: 5.6228 - accuracy: 0.18 - ETA: 0s - loss: 3.6174 - accuracy: 0.30 - ETA: 0s - loss: 29.4481 - accuracy: 0.303 - ETA: 0s - loss: 21.0712 - accuracy: 0.281 - ETA: 0s - loss: 17.8827 - accuracy: 0.300 - ETA: 0s - loss: 17.5382 - accuracy: 0.287 - ETA: 0s - loss: 16.9815 - accuracy: 0.284 - ETA: 0s - loss: 15.6681 - accuracy: 0.288 - ETA: 0s - loss: 14.3748 - accuracy: 0.292 - 2s 64ms/step - loss: 13.9724 - accuracy: 0.2885 - val_loss: 1.4805 - val_accuracy: 0.2857\n",
      "Epoch 27/1000\n",
      "26/26 [==============================] - ETA: 0s - loss: 3.1714 - accuracy: 0.25 - ETA: 0s - loss: 30.4565 - accuracy: 0.304 - ETA: 0s - loss: 18.2611 - accuracy: 0.321 - ETA: 0s - loss: 15.4162 - accuracy: 0.281 - ETA: 0s - loss: 12.3698 - accuracy: 0.295 - ETA: 0s - loss: 10.4769 - accuracy: 0.289 - ETA: 0s - loss: 9.4048 - accuracy: 0.281 - ETA: 0s - loss: 8.4107 - accuracy: 0.28 - ETA: 0s - loss: 7.5623 - accuracy: 0.28 - 2s 65ms/step - loss: 7.3250 - accuracy: 0.2825 - val_loss: 1.3841 - val_accuracy: 0.2798\n"
     ]
    },
    {
     "data": {
      "text/html": [
       "<span style=\"color:#4527A0\"><h1 style=\"font-size:18px\">Trial complete</h1></span>"
      ],
      "text/plain": [
       "<IPython.core.display.HTML object>"
      ]
     },
     "metadata": {},
     "output_type": "display_data"
    },
    {
     "data": {
      "text/html": [
       "<span style=\"color:#4527A0\"><h1 style=\"font-size:18px\">Trial summary</h1></span>"
      ],
      "text/plain": [
       "<IPython.core.display.HTML object>"
      ]
     },
     "metadata": {},
     "output_type": "display_data"
    },
    {
     "data": {
      "text/html": [
       "<span style=\"color:cyan\"> |-Trial ID: 57d21aed666e72714600ec513b57ee66</span>"
      ],
      "text/plain": [
       "<IPython.core.display.HTML object>"
      ]
     },
     "metadata": {},
     "output_type": "display_data"
    },
    {
     "data": {
      "text/html": [
       "<span style=\"color:cyan\"> |-Score: 0.4166666567325592</span>"
      ],
      "text/plain": [
       "<IPython.core.display.HTML object>"
      ]
     },
     "metadata": {},
     "output_type": "display_data"
    },
    {
     "data": {
      "text/html": [
       "<span style=\"color:cyan\"> |-Best step: 1</span>"
      ],
      "text/plain": [
       "<IPython.core.display.HTML object>"
      ]
     },
     "metadata": {},
     "output_type": "display_data"
    },
    {
     "data": {
      "text/html": [
       "<span style=\"color:#7E57C2\"><h2 style=\"font-size:16px\">Hyperparameters:</h2></span>"
      ],
      "text/plain": [
       "<IPython.core.display.HTML object>"
      ]
     },
     "metadata": {},
     "output_type": "display_data"
    },
    {
     "data": {
      "text/html": [
       "<span style=\"color:cyan\"> |-classification_head_1/dropout: 0</span>"
      ],
      "text/plain": [
       "<IPython.core.display.HTML object>"
      ]
     },
     "metadata": {},
     "output_type": "display_data"
    },
    {
     "data": {
      "text/html": [
       "<span style=\"color:blue\"> |-learning_rate: 0.001</span>"
      ],
      "text/plain": [
       "<IPython.core.display.HTML object>"
      ]
     },
     "metadata": {},
     "output_type": "display_data"
    },
    {
     "data": {
      "text/html": [
       "<span style=\"color:cyan\"> |-optimizer: adam</span>"
      ],
      "text/plain": [
       "<IPython.core.display.HTML object>"
      ]
     },
     "metadata": {},
     "output_type": "display_data"
    },
    {
     "data": {
      "text/html": [
       "<span style=\"color:blue\"> |-structured_data_block_1/dense_block_1/dropout: 0.25</span>"
      ],
      "text/plain": [
       "<IPython.core.display.HTML object>"
      ]
     },
     "metadata": {},
     "output_type": "display_data"
    },
    {
     "data": {
      "text/html": [
       "<span style=\"color:cyan\"> |-structured_data_block_1/dense_block_1/num_layers: 2</span>"
      ],
      "text/plain": [
       "<IPython.core.display.HTML object>"
      ]
     },
     "metadata": {},
     "output_type": "display_data"
    },
    {
     "data": {
      "text/html": [
       "<span style=\"color:blue\"> |-structured_data_block_1/dense_block_1/units_0: 1024</span>"
      ],
      "text/plain": [
       "<IPython.core.display.HTML object>"
      ]
     },
     "metadata": {},
     "output_type": "display_data"
    },
    {
     "data": {
      "text/html": [
       "<span style=\"color:cyan\"> |-structured_data_block_1/dense_block_1/units_1: 512</span>"
      ],
      "text/plain": [
       "<IPython.core.display.HTML object>"
      ]
     },
     "metadata": {},
     "output_type": "display_data"
    },
    {
     "data": {
      "text/html": [
       "<span style=\"color:blue\"> |-structured_data_block_1/dense_block_1/units_2: 256</span>"
      ],
      "text/plain": [
       "<IPython.core.display.HTML object>"
      ]
     },
     "metadata": {},
     "output_type": "display_data"
    },
    {
     "data": {
      "text/html": [
       "<span style=\"color:cyan\"> |-structured_data_block_1/dense_block_1/use_batchnorm: False</span>"
      ],
      "text/plain": [
       "<IPython.core.display.HTML object>"
      ]
     },
     "metadata": {},
     "output_type": "display_data"
    },
    {
     "data": {
      "text/html": [
       "<span style=\"color:#4527A0\"><h1 style=\"font-size:18px\">Starting new trial</h1></span>"
      ],
      "text/plain": [
       "<IPython.core.display.HTML object>"
      ]
     },
     "metadata": {},
     "output_type": "display_data"
    },
    {
     "name": "stdout",
     "output_type": "stream",
     "text": [
      "Epoch 1/1000\n",
      "26/26 [==============================] - ETA: 0s - loss: 2.2126 - accuracy: 0.21 - ETA: 0s - loss: 1.9080 - accuracy: 0.26 - ETA: 0s - loss: 1.9075 - accuracy: 0.29 - ETA: 0s - loss: 1.9308 - accuracy: 0.28 - ETA: 0s - loss: 1.8883 - accuracy: 0.29 - ETA: 0s - loss: 1.8385 - accuracy: 0.29 - ETA: 0s - loss: 1.8133 - accuracy: 0.30 - ETA: 0s - loss: 1.8017 - accuracy: 0.31 - ETA: 0s - loss: 1.7807 - accuracy: 0.31 - 6s 240ms/step - loss: 1.7659 - accuracy: 0.3161 - val_loss: 1.4612 - val_accuracy: 0.3393\n",
      "Epoch 2/1000\n",
      "26/26 [==============================] - ETA: 0s - loss: 1.5689 - accuracy: 0.34 - ETA: 0s - loss: 1.4479 - accuracy: 0.39 - ETA: 0s - loss: 1.4548 - accuracy: 0.39 - ETA: 0s - loss: 1.4660 - accuracy: 0.37 - ETA: 0s - loss: 1.4792 - accuracy: 0.36 - ETA: 0s - loss: 1.4588 - accuracy: 0.37 - ETA: 0s - loss: 1.4503 - accuracy: 0.37 - ETA: 0s - loss: 1.4602 - accuracy: 0.37 - ETA: 0s - loss: 1.4542 - accuracy: 0.38 - 1s 57ms/step - loss: 1.4467 - accuracy: 0.3798 - val_loss: 1.3627 - val_accuracy: 0.3750\n",
      "Epoch 3/1000\n",
      "26/26 [==============================] - ETA: 0s - loss: 1.2841 - accuracy: 0.37 - ETA: 0s - loss: 1.3414 - accuracy: 0.39 - ETA: 0s - loss: 1.3727 - accuracy: 0.38 - ETA: 0s - loss: 1.3583 - accuracy: 0.38 - ETA: 0s - loss: 1.3646 - accuracy: 0.37 - ETA: 0s - loss: 1.3638 - accuracy: 0.37 - ETA: 0s - loss: 1.3616 - accuracy: 0.38 - ETA: 0s - loss: 1.3465 - accuracy: 0.39 - ETA: 0s - loss: 1.3310 - accuracy: 0.39 - 1s 56ms/step - loss: 1.3237 - accuracy: 0.3990 - val_loss: 1.2670 - val_accuracy: 0.3929\n",
      "Epoch 4/1000\n",
      "26/26 [==============================] - ETA: 0s - loss: 1.2423 - accuracy: 0.40 - ETA: 0s - loss: 1.2652 - accuracy: 0.44 - ETA: 0s - loss: 1.2778 - accuracy: 0.45 - ETA: 0s - loss: 1.2558 - accuracy: 0.43 - ETA: 0s - loss: 1.2982 - accuracy: 0.41 - ETA: 0s - loss: 1.2934 - accuracy: 0.41 - ETA: 0s - loss: 1.2974 - accuracy: 0.41 - ETA: 0s - loss: 1.3069 - accuracy: 0.42 - ETA: 0s - loss: 1.3059 - accuracy: 0.42 - 2s 70ms/step - loss: 1.2954 - accuracy: 0.4303 - val_loss: 1.2567 - val_accuracy: 0.4048\n",
      "Epoch 5/1000\n",
      "26/26 [==============================] - ETA: 0s - loss: 1.1760 - accuracy: 0.37 - ETA: 0s - loss: 1.2463 - accuracy: 0.39 - ETA: 0s - loss: 1.2448 - accuracy: 0.41 - ETA: 0s - loss: 1.2275 - accuracy: 0.44 - ETA: 0s - loss: 1.2336 - accuracy: 0.44 - ETA: 0s - loss: 1.2243 - accuracy: 0.45 - ETA: 0s - loss: 1.2206 - accuracy: 0.45 - ETA: 0s - loss: 1.2199 - accuracy: 0.45 - ETA: 0s - loss: 1.2227 - accuracy: 0.46 - 2s 91ms/step - loss: 1.2097 - accuracy: 0.4748 - val_loss: 1.1902 - val_accuracy: 0.4464\n",
      "Epoch 6/1000\n",
      "26/26 [==============================] - ETA: 0s - loss: 1.3028 - accuracy: 0.43 - ETA: 0s - loss: 1.2871 - accuracy: 0.42 - ETA: 0s - loss: 1.2610 - accuracy: 0.41 - ETA: 0s - loss: 1.2459 - accuracy: 0.42 - ETA: 0s - loss: 1.2358 - accuracy: 0.44 - ETA: 0s - loss: 1.2258 - accuracy: 0.44 - ETA: 0s - loss: 1.2221 - accuracy: 0.44 - ETA: 0s - loss: 1.2156 - accuracy: 0.45 - ETA: 0s - loss: 1.2110 - accuracy: 0.45 - ETA: 0s - loss: 1.2114 - accuracy: 0.45 - 2s 69ms/step - loss: 1.1967 - accuracy: 0.4627 - val_loss: 1.1402 - val_accuracy: 0.4940\n",
      "Epoch 7/1000\n",
      "26/26 [==============================] - ETA: 0s - loss: 1.1662 - accuracy: 0.53 - ETA: 0s - loss: 1.1667 - accuracy: 0.47 - ETA: 0s - loss: 1.1758 - accuracy: 0.47 - ETA: 0s - loss: 1.1766 - accuracy: 0.46 - ETA: 0s - loss: 1.1788 - accuracy: 0.45 - ETA: 0s - loss: 1.1960 - accuracy: 0.44 - ETA: 0s - loss: 1.1791 - accuracy: 0.46 - ETA: 0s - loss: 1.1840 - accuracy: 0.46 - ETA: 0s - loss: 1.1939 - accuracy: 0.46 - 1s 58ms/step - loss: 1.1842 - accuracy: 0.4663 - val_loss: 1.1104 - val_accuracy: 0.5298\n",
      "Epoch 8/1000\n",
      "26/26 [==============================] - ETA: 0s - loss: 1.1843 - accuracy: 0.53 - ETA: 0s - loss: 1.1764 - accuracy: 0.48 - ETA: 0s - loss: 1.1735 - accuracy: 0.50 - ETA: 0s - loss: 1.1391 - accuracy: 0.50 - ETA: 0s - loss: 1.1424 - accuracy: 0.49 - ETA: 0s - loss: 1.1298 - accuracy: 0.50 - ETA: 0s - loss: 1.1267 - accuracy: 0.51 - ETA: 0s - loss: 1.1372 - accuracy: 0.50 - ETA: 0s - loss: 1.1415 - accuracy: 0.50 - 2s 67ms/step - loss: 1.1345 - accuracy: 0.5072 - val_loss: 1.1264 - val_accuracy: 0.5298\n",
      "Epoch 9/1000\n",
      "26/26 [==============================] - ETA: 0s - loss: 0.9760 - accuracy: 0.65 - ETA: 0s - loss: 1.1434 - accuracy: 0.53 - ETA: 0s - loss: 1.1690 - accuracy: 0.51 - ETA: 0s - loss: 1.1412 - accuracy: 0.51 - ETA: 0s - loss: 1.1212 - accuracy: 0.52 - ETA: 0s - loss: 1.1031 - accuracy: 0.52 - ETA: 0s - loss: 1.0862 - accuracy: 0.53 - ETA: 0s - loss: 1.0919 - accuracy: 0.53 - ETA: 0s - loss: 1.0940 - accuracy: 0.52 - 2s 62ms/step - loss: 1.0848 - accuracy: 0.5349 - val_loss: 1.1160 - val_accuracy: 0.5536\n",
      "Epoch 10/1000\n",
      "26/26 [==============================] - ETA: 0s - loss: 1.0731 - accuracy: 0.59 - ETA: 0s - loss: 1.2233 - accuracy: 0.46 - ETA: 0s - loss: 1.1575 - accuracy: 0.50 - ETA: 0s - loss: 1.1082 - accuracy: 0.49 - ETA: 0s - loss: 1.0926 - accuracy: 0.51 - ETA: 0s - loss: 1.0776 - accuracy: 0.52 - ETA: 0s - loss: 1.0749 - accuracy: 0.52 - ETA: 0s - loss: 1.0737 - accuracy: 0.52 - ETA: 0s - loss: 1.0787 - accuracy: 0.52 - 2s 70ms/step - loss: 1.0749 - accuracy: 0.5228 - val_loss: 1.1204 - val_accuracy: 0.5238\n",
      "Epoch 11/1000\n",
      "26/26 [==============================] - ETA: 0s - loss: 1.0368 - accuracy: 0.65 - ETA: 0s - loss: 1.1860 - accuracy: 0.50 - ETA: 0s - loss: 1.1079 - accuracy: 0.53 - ETA: 0s - loss: 1.0816 - accuracy: 0.52 - ETA: 0s - loss: 1.0732 - accuracy: 0.56 - ETA: 0s - loss: 1.0695 - accuracy: 0.55 - ETA: 0s - loss: 1.0707 - accuracy: 0.54 - ETA: 0s - loss: 1.0734 - accuracy: 0.54 - ETA: 0s - loss: 1.0824 - accuracy: 0.53 - 2s 58ms/step - loss: 1.0721 - accuracy: 0.5421 - val_loss: 1.0962 - val_accuracy: 0.5238\n",
      "Epoch 12/1000\n",
      "26/26 [==============================] - ETA: 0s - loss: 1.0810 - accuracy: 0.62 - ETA: 0s - loss: 1.1170 - accuracy: 0.49 - ETA: 0s - loss: 1.0920 - accuracy: 0.54 - ETA: 0s - loss: 1.0451 - accuracy: 0.56 - ETA: 0s - loss: 1.0395 - accuracy: 0.57 - ETA: 0s - loss: 1.0266 - accuracy: 0.56 - ETA: 0s - loss: 1.0313 - accuracy: 0.56 - ETA: 0s - loss: 1.0285 - accuracy: 0.56 - ETA: 0s - loss: 1.0352 - accuracy: 0.56 - 2s 66ms/step - loss: 1.0269 - accuracy: 0.5757 - val_loss: 1.0896 - val_accuracy: 0.5476\n",
      "Epoch 13/1000\n",
      "26/26 [==============================] - ETA: 0s - loss: 0.9542 - accuracy: 0.62 - ETA: 0s - loss: 1.1092 - accuracy: 0.54 - ETA: 0s - loss: 1.0689 - accuracy: 0.57 - ETA: 0s - loss: 1.0323 - accuracy: 0.56 - ETA: 0s - loss: 1.0273 - accuracy: 0.56 - ETA: 0s - loss: 1.0254 - accuracy: 0.55 - ETA: 0s - loss: 1.0297 - accuracy: 0.55 - ETA: 0s - loss: 1.0356 - accuracy: 0.55 - ETA: 0s - loss: 1.0278 - accuracy: 0.55 - 1s 56ms/step - loss: 1.0206 - accuracy: 0.5661 - val_loss: 1.1061 - val_accuracy: 0.5119\n",
      "Epoch 14/1000\n",
      "26/26 [==============================] - ETA: 0s - loss: 1.2095 - accuracy: 0.43 - ETA: 0s - loss: 1.0881 - accuracy: 0.50 - ETA: 0s - loss: 1.0168 - accuracy: 0.55 - ETA: 0s - loss: 0.9779 - accuracy: 0.59 - ETA: 0s - loss: 0.9806 - accuracy: 0.58 - ETA: 0s - loss: 0.9866 - accuracy: 0.58 - ETA: 0s - loss: 0.9879 - accuracy: 0.57 - ETA: 0s - loss: 0.9875 - accuracy: 0.57 - ETA: 0s - loss: 0.9926 - accuracy: 0.57 - 1s 56ms/step - loss: 0.9841 - accuracy: 0.5793 - val_loss: 1.0942 - val_accuracy: 0.5357\n",
      "Epoch 15/1000\n",
      "26/26 [==============================] - ETA: 0s - loss: 1.0327 - accuracy: 0.46 - ETA: 0s - loss: 1.0491 - accuracy: 0.51 - ETA: 0s - loss: 1.0219 - accuracy: 0.54 - ETA: 0s - loss: 0.9646 - accuracy: 0.57 - ETA: 0s - loss: 0.9644 - accuracy: 0.58 - ETA: 0s - loss: 0.9423 - accuracy: 0.59 - ETA: 0s - loss: 0.9387 - accuracy: 0.60 - ETA: 0s - loss: 0.9547 - accuracy: 0.60 - ETA: 0s - loss: 0.9643 - accuracy: 0.59 - 2s 62ms/step - loss: 0.9570 - accuracy: 0.6010 - val_loss: 1.0692 - val_accuracy: 0.5595\n",
      "Epoch 16/1000\n"
     ]
    },
    {
     "name": "stdout",
     "output_type": "stream",
     "text": [
      "26/26 [==============================] - ETA: 0s - loss: 0.8019 - accuracy: 0.65 - ETA: 0s - loss: 0.9627 - accuracy: 0.58 - ETA: 0s - loss: 0.9740 - accuracy: 0.62 - ETA: 0s - loss: 0.9181 - accuracy: 0.63 - ETA: 0s - loss: 0.9406 - accuracy: 0.62 - ETA: 0s - loss: 0.9655 - accuracy: 0.59 - ETA: 0s - loss: 0.9639 - accuracy: 0.59 - ETA: 0s - loss: 0.9489 - accuracy: 0.60 - ETA: 0s - loss: 0.9498 - accuracy: 0.60 - 2s 65ms/step - loss: 0.9424 - accuracy: 0.6070 - val_loss: 1.0956 - val_accuracy: 0.5476\n",
      "Epoch 17/1000\n",
      "26/26 [==============================] - ETA: 0s - loss: 1.0426 - accuracy: 0.43 - ETA: 0s - loss: 1.1141 - accuracy: 0.45 - ETA: 0s - loss: 1.0100 - accuracy: 0.55 - ETA: 0s - loss: 0.9428 - accuracy: 0.60 - ETA: 0s - loss: 0.9616 - accuracy: 0.58 - ETA: 0s - loss: 0.9428 - accuracy: 0.58 - ETA: 0s - loss: 0.9306 - accuracy: 0.60 - ETA: 0s - loss: 0.9390 - accuracy: 0.59 - ETA: 0s - loss: 0.9433 - accuracy: 0.59 - 1s 56ms/step - loss: 0.9381 - accuracy: 0.5998 - val_loss: 1.0888 - val_accuracy: 0.5417\n",
      "Epoch 18/1000\n",
      "26/26 [==============================] - ETA: 0s - loss: 1.0395 - accuracy: 0.46 - ETA: 0s - loss: 1.0323 - accuracy: 0.52 - ETA: 0s - loss: 0.9676 - accuracy: 0.58 - ETA: 0s - loss: 0.9067 - accuracy: 0.61 - ETA: 0s - loss: 0.9196 - accuracy: 0.61 - ETA: 0s - loss: 0.9245 - accuracy: 0.61 - ETA: 0s - loss: 0.9144 - accuracy: 0.62 - ETA: 0s - loss: 0.9206 - accuracy: 0.62 - ETA: 0s - loss: 0.9241 - accuracy: 0.61 - 2s 62ms/step - loss: 0.9132 - accuracy: 0.6202 - val_loss: 1.0796 - val_accuracy: 0.5476\n",
      "Epoch 19/1000\n",
      "26/26 [==============================] - ETA: 0s - loss: 0.8638 - accuracy: 0.65 - ETA: 0s - loss: 0.9762 - accuracy: 0.58 - ETA: 0s - loss: 0.9353 - accuracy: 0.61 - ETA: 0s - loss: 0.9359 - accuracy: 0.60 - ETA: 0s - loss: 0.8861 - accuracy: 0.64 - ETA: 0s - loss: 0.9007 - accuracy: 0.62 - ETA: 0s - loss: 0.8872 - accuracy: 0.62 - ETA: 0s - loss: 0.8726 - accuracy: 0.63 - ETA: 0s - loss: 0.8715 - accuracy: 0.63 - ETA: 0s - loss: 0.8766 - accuracy: 0.64 - ETA: 0s - loss: 0.8836 - accuracy: 0.64 - 2s 61ms/step - loss: 0.8755 - accuracy: 0.6442 - val_loss: 1.0641 - val_accuracy: 0.5179\n",
      "Epoch 20/1000\n",
      "26/26 [==============================] - ETA: 0s - loss: 0.9152 - accuracy: 0.43 - ETA: 0s - loss: 0.9299 - accuracy: 0.55 - ETA: 0s - loss: 0.9107 - accuracy: 0.59 - ETA: 0s - loss: 0.9378 - accuracy: 0.61 - ETA: 0s - loss: 0.9350 - accuracy: 0.62 - ETA: 0s - loss: 0.8981 - accuracy: 0.62 - ETA: 0s - loss: 0.8951 - accuracy: 0.63 - ETA: 0s - loss: 0.8866 - accuracy: 0.63 - ETA: 0s - loss: 0.8835 - accuracy: 0.63 - ETA: 0s - loss: 0.8799 - accuracy: 0.64 - 1s 52ms/step - loss: 0.8799 - accuracy: 0.6430 - val_loss: 1.0750 - val_accuracy: 0.5417\n",
      "Epoch 21/1000\n",
      "26/26 [==============================] - ETA: 0s - loss: 0.9969 - accuracy: 0.53 - ETA: 0s - loss: 0.9699 - accuracy: 0.57 - ETA: 0s - loss: 0.9128 - accuracy: 0.61 - ETA: 0s - loss: 0.8558 - accuracy: 0.62 - ETA: 0s - loss: 0.8449 - accuracy: 0.64 - ETA: 0s - loss: 0.8548 - accuracy: 0.65 - ETA: 0s - loss: 0.8626 - accuracy: 0.65 - ETA: 0s - loss: 0.8632 - accuracy: 0.65 - ETA: 0s - loss: 0.8543 - accuracy: 0.66 - 1s 53ms/step - loss: 0.8492 - accuracy: 0.6695 - val_loss: 1.0513 - val_accuracy: 0.5536\n",
      "Epoch 22/1000\n",
      "26/26 [==============================] - ETA: 0s - loss: 1.0582 - accuracy: 0.50 - ETA: 0s - loss: 0.9836 - accuracy: 0.59 - ETA: 0s - loss: 0.9172 - accuracy: 0.64 - ETA: 0s - loss: 0.8862 - accuracy: 0.67 - ETA: 0s - loss: 0.8822 - accuracy: 0.67 - ETA: 0s - loss: 0.8831 - accuracy: 0.66 - ETA: 0s - loss: 0.8764 - accuracy: 0.66 - ETA: 0s - loss: 0.8795 - accuracy: 0.65 - ETA: 0s - loss: 0.8704 - accuracy: 0.65 - 2s 67ms/step - loss: 0.8566 - accuracy: 0.6635 - val_loss: 1.0900 - val_accuracy: 0.5298\n",
      "Epoch 23/1000\n",
      "26/26 [==============================] - ETA: 0s - loss: 0.8592 - accuracy: 0.62 - ETA: 0s - loss: 0.9258 - accuracy: 0.60 - ETA: 0s - loss: 0.9289 - accuracy: 0.66 - ETA: 0s - loss: 0.8514 - accuracy: 0.68 - ETA: 0s - loss: 0.8696 - accuracy: 0.68 - ETA: 0s - loss: 0.8635 - accuracy: 0.66 - ETA: 0s - loss: 0.8622 - accuracy: 0.66 - ETA: 0s - loss: 0.8579 - accuracy: 0.66 - ETA: 0s - loss: 0.8492 - accuracy: 0.66 - 1s 57ms/step - loss: 0.8453 - accuracy: 0.6707 - val_loss: 1.1051 - val_accuracy: 0.5000\n",
      "Epoch 24/1000\n",
      "26/26 [==============================] - ETA: 0s - loss: 0.6993 - accuracy: 0.78 - ETA: 0s - loss: 0.8487 - accuracy: 0.69 - ETA: 0s - loss: 0.8444 - accuracy: 0.70 - ETA: 0s - loss: 0.7880 - accuracy: 0.72 - ETA: 0s - loss: 0.7988 - accuracy: 0.71 - ETA: 0s - loss: 0.8060 - accuracy: 0.69 - ETA: 0s - loss: 0.8038 - accuracy: 0.69 - ETA: 0s - loss: 0.8059 - accuracy: 0.68 - ETA: 0s - loss: 0.8053 - accuracy: 0.68 - 1s 54ms/step - loss: 0.7943 - accuracy: 0.6887 - val_loss: 1.1093 - val_accuracy: 0.5179\n",
      "Epoch 25/1000\n",
      "26/26 [==============================] - ETA: 0s - loss: 0.9794 - accuracy: 0.65 - ETA: 0s - loss: 0.8647 - accuracy: 0.64 - ETA: 0s - loss: 0.8506 - accuracy: 0.66 - ETA: 0s - loss: 0.7963 - accuracy: 0.68 - ETA: 0s - loss: 0.8049 - accuracy: 0.67 - ETA: 0s - loss: 0.8079 - accuracy: 0.66 - ETA: 0s - loss: 0.8004 - accuracy: 0.66 - ETA: 0s - loss: 0.8143 - accuracy: 0.65 - ETA: 0s - loss: 0.8080 - accuracy: 0.66 - 2s 61ms/step - loss: 0.7981 - accuracy: 0.6695 - val_loss: 1.0875 - val_accuracy: 0.5476\n",
      "Epoch 26/1000\n",
      "26/26 [==============================] - ETA: 0s - loss: 0.6638 - accuracy: 0.84 - ETA: 0s - loss: 0.8212 - accuracy: 0.60 - ETA: 0s - loss: 0.8101 - accuracy: 0.65 - ETA: 0s - loss: 0.7648 - accuracy: 0.66 - ETA: 0s - loss: 0.7708 - accuracy: 0.68 - ETA: 0s - loss: 0.7977 - accuracy: 0.67 - ETA: 0s - loss: 0.7884 - accuracy: 0.67 - ETA: 0s - loss: 0.7956 - accuracy: 0.66 - ETA: 0s - loss: 0.7976 - accuracy: 0.67 - ETA: 0s - loss: 0.8080 - accuracy: 0.66 - 2s 62ms/step - loss: 0.7974 - accuracy: 0.6707 - val_loss: 1.0897 - val_accuracy: 0.5179\n",
      "Epoch 27/1000\n",
      "26/26 [==============================] - ETA: 0s - loss: 0.6838 - accuracy: 0.81 - ETA: 0s - loss: 0.8053 - accuracy: 0.71 - ETA: 0s - loss: 0.7689 - accuracy: 0.73 - ETA: 0s - loss: 0.7540 - accuracy: 0.72 - ETA: 0s - loss: 0.7593 - accuracy: 0.71 - ETA: 0s - loss: 0.7596 - accuracy: 0.71 - ETA: 0s - loss: 0.7592 - accuracy: 0.70 - ETA: 0s - loss: 0.7628 - accuracy: 0.71 - ETA: 0s - loss: 0.7709 - accuracy: 0.70 - 2s 62ms/step - loss: 0.7617 - accuracy: 0.7103 - val_loss: 1.1192 - val_accuracy: 0.5060\n",
      "Epoch 28/1000\n",
      "26/26 [==============================] - ETA: 0s - loss: 1.0210 - accuracy: 0.62 - ETA: 0s - loss: 0.8008 - accuracy: 0.68 - ETA: 0s - loss: 0.7768 - accuracy: 0.69 - ETA: 0s - loss: 0.7618 - accuracy: 0.71 - ETA: 0s - loss: 0.7633 - accuracy: 0.70 - ETA: 0s - loss: 0.7744 - accuracy: 0.69 - ETA: 0s - loss: 0.7786 - accuracy: 0.68 - ETA: 0s - loss: 0.7895 - accuracy: 0.68 - ETA: 0s - loss: 0.7924 - accuracy: 0.68 - 2s 72ms/step - loss: 0.7834 - accuracy: 0.6863 - val_loss: 1.1383 - val_accuracy: 0.5119\n",
      "Epoch 29/1000\n",
      "26/26 [==============================] - ETA: 0s - loss: 0.6971 - accuracy: 0.68 - ETA: 0s - loss: 0.8277 - accuracy: 0.64 - ETA: 0s - loss: 0.8167 - accuracy: 0.65 - ETA: 0s - loss: 0.7777 - accuracy: 0.69 - ETA: 0s - loss: 0.7420 - accuracy: 0.70 - ETA: 0s - loss: 0.7519 - accuracy: 0.69 - ETA: 0s - loss: 0.7547 - accuracy: 0.70 - ETA: 0s - loss: 0.7520 - accuracy: 0.70 - ETA: 0s - loss: 0.7701 - accuracy: 0.69 - ETA: 0s - loss: 0.7669 - accuracy: 0.68 - ETA: 0s - loss: 0.7560 - accuracy: 0.69 - 2s 67ms/step - loss: 0.7505 - accuracy: 0.7031 - val_loss: 1.1029 - val_accuracy: 0.5179\n",
      "Epoch 30/1000\n",
      "26/26 [==============================] - ETA: 0s - loss: 0.7646 - accuracy: 0.78 - ETA: 0s - loss: 0.7617 - accuracy: 0.69 - ETA: 0s - loss: 0.7568 - accuracy: 0.72 - ETA: 0s - loss: 0.7003 - accuracy: 0.75 - ETA: 0s - loss: 0.7207 - accuracy: 0.73 - ETA: 0s - loss: 0.7231 - accuracy: 0.72 - ETA: 0s - loss: 0.7382 - accuracy: 0.71 - ETA: 0s - loss: 0.7470 - accuracy: 0.71 - ETA: 0s - loss: 0.7503 - accuracy: 0.71 - 2s 61ms/step - loss: 0.7389 - accuracy: 0.7212 - val_loss: 1.1129 - val_accuracy: 0.5179\n",
      "Epoch 31/1000\n"
     ]
    },
    {
     "name": "stdout",
     "output_type": "stream",
     "text": [
      "26/26 [==============================] - ETA: 0s - loss: 0.8685 - accuracy: 0.71 - ETA: 0s - loss: 0.8134 - accuracy: 0.66 - ETA: 0s - loss: 0.7547 - accuracy: 0.68 - ETA: 0s - loss: 0.7033 - accuracy: 0.71 - ETA: 0s - loss: 0.7226 - accuracy: 0.70 - ETA: 0s - loss: 0.7184 - accuracy: 0.71 - ETA: 0s - loss: 0.7134 - accuracy: 0.72 - ETA: 0s - loss: 0.7181 - accuracy: 0.71 - ETA: 0s - loss: 0.7100 - accuracy: 0.72 - 2s 58ms/step - loss: 0.7024 - accuracy: 0.7236 - val_loss: 1.1266 - val_accuracy: 0.5000\n"
     ]
    },
    {
     "data": {
      "text/html": [
       "<span style=\"color:#4527A0\"><h1 style=\"font-size:18px\">Trial complete</h1></span>"
      ],
      "text/plain": [
       "<IPython.core.display.HTML object>"
      ]
     },
     "metadata": {},
     "output_type": "display_data"
    },
    {
     "data": {
      "text/html": [
       "<span style=\"color:#4527A0\"><h1 style=\"font-size:18px\">Trial summary</h1></span>"
      ],
      "text/plain": [
       "<IPython.core.display.HTML object>"
      ]
     },
     "metadata": {},
     "output_type": "display_data"
    },
    {
     "data": {
      "text/html": [
       "<span style=\"color:cyan\"> |-Trial ID: a599663503f55deaf252628468b5108b</span>"
      ],
      "text/plain": [
       "<IPython.core.display.HTML object>"
      ]
     },
     "metadata": {},
     "output_type": "display_data"
    },
    {
     "data": {
      "text/html": [
       "<span style=\"color:cyan\"> |-Score: 0.5595238208770752</span>"
      ],
      "text/plain": [
       "<IPython.core.display.HTML object>"
      ]
     },
     "metadata": {},
     "output_type": "display_data"
    },
    {
     "data": {
      "text/html": [
       "<span style=\"color:cyan\"> |-Best step: 14</span>"
      ],
      "text/plain": [
       "<IPython.core.display.HTML object>"
      ]
     },
     "metadata": {},
     "output_type": "display_data"
    },
    {
     "data": {
      "text/html": [
       "<span style=\"color:#7E57C2\"><h2 style=\"font-size:16px\">Hyperparameters:</h2></span>"
      ],
      "text/plain": [
       "<IPython.core.display.HTML object>"
      ]
     },
     "metadata": {},
     "output_type": "display_data"
    },
    {
     "data": {
      "text/html": [
       "<span style=\"color:cyan\"> |-classification_head_1/dropout: 0</span>"
      ],
      "text/plain": [
       "<IPython.core.display.HTML object>"
      ]
     },
     "metadata": {},
     "output_type": "display_data"
    },
    {
     "data": {
      "text/html": [
       "<span style=\"color:blue\"> |-learning_rate: 0.001</span>"
      ],
      "text/plain": [
       "<IPython.core.display.HTML object>"
      ]
     },
     "metadata": {},
     "output_type": "display_data"
    },
    {
     "data": {
      "text/html": [
       "<span style=\"color:cyan\"> |-optimizer: adam</span>"
      ],
      "text/plain": [
       "<IPython.core.display.HTML object>"
      ]
     },
     "metadata": {},
     "output_type": "display_data"
    },
    {
     "data": {
      "text/html": [
       "<span style=\"color:blue\"> |-structured_data_block_1/dense_block_1/dropout: 0.5</span>"
      ],
      "text/plain": [
       "<IPython.core.display.HTML object>"
      ]
     },
     "metadata": {},
     "output_type": "display_data"
    },
    {
     "data": {
      "text/html": [
       "<span style=\"color:cyan\"> |-structured_data_block_1/dense_block_1/num_layers: 3</span>"
      ],
      "text/plain": [
       "<IPython.core.display.HTML object>"
      ]
     },
     "metadata": {},
     "output_type": "display_data"
    },
    {
     "data": {
      "text/html": [
       "<span style=\"color:blue\"> |-structured_data_block_1/dense_block_1/units_0: 512</span>"
      ],
      "text/plain": [
       "<IPython.core.display.HTML object>"
      ]
     },
     "metadata": {},
     "output_type": "display_data"
    },
    {
     "data": {
      "text/html": [
       "<span style=\"color:cyan\"> |-structured_data_block_1/dense_block_1/units_1: 1024</span>"
      ],
      "text/plain": [
       "<IPython.core.display.HTML object>"
      ]
     },
     "metadata": {},
     "output_type": "display_data"
    },
    {
     "data": {
      "text/html": [
       "<span style=\"color:blue\"> |-structured_data_block_1/dense_block_1/units_2: 16</span>"
      ],
      "text/plain": [
       "<IPython.core.display.HTML object>"
      ]
     },
     "metadata": {},
     "output_type": "display_data"
    },
    {
     "data": {
      "text/html": [
       "<span style=\"color:cyan\"> |-structured_data_block_1/dense_block_1/use_batchnorm: True</span>"
      ],
      "text/plain": [
       "<IPython.core.display.HTML object>"
      ]
     },
     "metadata": {},
     "output_type": "display_data"
    },
    {
     "data": {
      "text/html": [
       "<span style=\"color:#4527A0\"><h1 style=\"font-size:18px\">Starting new trial</h1></span>"
      ],
      "text/plain": [
       "<IPython.core.display.HTML object>"
      ]
     },
     "metadata": {},
     "output_type": "display_data"
    },
    {
     "name": "stdout",
     "output_type": "stream",
     "text": [
      "Epoch 1/1000\n",
      "26/26 [==============================] - ETA: 0s - loss: 1.8476 - accuracy: 0.21 - ETA: 0s - loss: 1.6372 - accuracy: 0.22 - ETA: 0s - loss: 1.5763 - accuracy: 0.24 - ETA: 0s - loss: 1.5146 - accuracy: 0.28 - ETA: 0s - loss: 1.4737 - accuracy: 0.30 - 6s 219ms/step - loss: 1.4512 - accuracy: 0.3149 - val_loss: 1.3617 - val_accuracy: 0.3214\n",
      "Epoch 2/1000\n",
      "26/26 [==============================] - ETA: 0s - loss: 1.1479 - accuracy: 0.50 - ETA: 0s - loss: 1.2035 - accuracy: 0.45 - ETA: 0s - loss: 1.1988 - accuracy: 0.47 - ETA: 0s - loss: 1.1675 - accuracy: 0.50 - ETA: 0s - loss: 1.1621 - accuracy: 0.51 - 1s 48ms/step - loss: 1.1501 - accuracy: 0.5132 - val_loss: 1.3139 - val_accuracy: 0.3810\n",
      "Epoch 3/1000\n",
      "26/26 [==============================] - ETA: 0s - loss: 1.0259 - accuracy: 0.53 - ETA: 0s - loss: 1.0867 - accuracy: 0.54 - ETA: 0s - loss: 1.0612 - accuracy: 0.56 - ETA: 0s - loss: 1.0439 - accuracy: 0.58 - ETA: 0s - loss: 1.0374 - accuracy: 0.59 - 1s 50ms/step - loss: 1.0279 - accuracy: 0.5974 - val_loss: 1.2831 - val_accuracy: 0.4345\n",
      "Epoch 4/1000\n",
      "26/26 [==============================] - ETA: 0s - loss: 0.9015 - accuracy: 0.65 - ETA: 0s - loss: 1.0118 - accuracy: 0.57 - ETA: 0s - loss: 0.9664 - accuracy: 0.59 - ETA: 0s - loss: 0.9542 - accuracy: 0.61 - ETA: 0s - loss: 0.9458 - accuracy: 0.62 - 2s 67ms/step - loss: 0.9342 - accuracy: 0.6370 - val_loss: 1.2551 - val_accuracy: 0.4405\n",
      "Epoch 5/1000\n",
      "26/26 [==============================] - ETA: 0s - loss: 0.8458 - accuracy: 0.68 - ETA: 0s - loss: 0.9639 - accuracy: 0.59 - ETA: 0s - loss: 0.8907 - accuracy: 0.64 - ETA: 0s - loss: 0.8794 - accuracy: 0.65 - ETA: 0s - loss: 0.8693 - accuracy: 0.67 - 1s 45ms/step - loss: 0.8525 - accuracy: 0.6839 - val_loss: 1.2287 - val_accuracy: 0.4940\n",
      "Epoch 6/1000\n",
      "26/26 [==============================] - ETA: 0s - loss: 0.7404 - accuracy: 0.84 - ETA: 0s - loss: 0.8551 - accuracy: 0.66 - ETA: 0s - loss: 0.8011 - accuracy: 0.70 - ETA: 0s - loss: 0.7906 - accuracy: 0.71 - ETA: 0s - loss: 0.7810 - accuracy: 0.72 - 1s 45ms/step - loss: 0.7712 - accuracy: 0.7272 - val_loss: 1.1958 - val_accuracy: 0.4702\n",
      "Epoch 7/1000\n",
      "26/26 [==============================] - ETA: 0s - loss: 0.6204 - accuracy: 0.90 - ETA: 0s - loss: 0.7797 - accuracy: 0.71 - ETA: 0s - loss: 0.7249 - accuracy: 0.73 - ETA: 0s - loss: 0.7181 - accuracy: 0.75 - ETA: 0s - loss: 0.7080 - accuracy: 0.75 - 1s 47ms/step - loss: 0.6999 - accuracy: 0.7608 - val_loss: 1.1983 - val_accuracy: 0.4881\n",
      "Epoch 8/1000\n",
      "26/26 [==============================] - ETA: 0s - loss: 0.5404 - accuracy: 0.90 - ETA: 0s - loss: 0.7002 - accuracy: 0.74 - ETA: 0s - loss: 0.6485 - accuracy: 0.77 - ETA: 0s - loss: 0.6397 - accuracy: 0.79 - ETA: 0s - loss: 0.6331 - accuracy: 0.79 - 1s 50ms/step - loss: 0.6254 - accuracy: 0.8005 - val_loss: 1.1938 - val_accuracy: 0.4643\n",
      "Epoch 9/1000\n",
      "26/26 [==============================] - ETA: 0s - loss: 0.5013 - accuracy: 0.87 - ETA: 0s - loss: 0.6369 - accuracy: 0.79 - ETA: 0s - loss: 0.5875 - accuracy: 0.80 - ETA: 0s - loss: 0.5831 - accuracy: 0.81 - ETA: 0s - loss: 0.5728 - accuracy: 0.82 - 1s 49ms/step - loss: 0.5614 - accuracy: 0.8269 - val_loss: 1.2031 - val_accuracy: 0.4464\n",
      "Epoch 10/1000\n",
      "26/26 [==============================] - ETA: 0s - loss: 0.4202 - accuracy: 0.90 - ETA: 0s - loss: 0.5805 - accuracy: 0.81 - ETA: 0s - loss: 0.5305 - accuracy: 0.83 - ETA: 0s - loss: 0.5166 - accuracy: 0.83 - ETA: 0s - loss: 0.5076 - accuracy: 0.84 - 1s 56ms/step - loss: 0.5008 - accuracy: 0.8438 - val_loss: 1.2488 - val_accuracy: 0.4226\n",
      "Epoch 11/1000\n",
      "26/26 [==============================] - ETA: 0s - loss: 0.4388 - accuracy: 0.90 - ETA: 0s - loss: 0.5025 - accuracy: 0.84 - ETA: 0s - loss: 0.4604 - accuracy: 0.86 - ETA: 0s - loss: 0.4474 - accuracy: 0.87 - ETA: 0s - loss: 0.4430 - accuracy: 0.87 - 1s 42ms/step - loss: 0.4372 - accuracy: 0.8774 - val_loss: 1.2400 - val_accuracy: 0.4405\n",
      "Epoch 12/1000\n",
      "26/26 [==============================] - ETA: 0s - loss: 0.4063 - accuracy: 0.90 - ETA: 0s - loss: 0.4772 - accuracy: 0.83 - ETA: 0s - loss: 0.4317 - accuracy: 0.87 - ETA: 0s - loss: 0.4209 - accuracy: 0.87 - ETA: 0s - loss: 0.4142 - accuracy: 0.87 - 1s 48ms/step - loss: 0.4086 - accuracy: 0.8798 - val_loss: 1.2250 - val_accuracy: 0.4762\n",
      "Epoch 13/1000\n",
      "26/26 [==============================] - ETA: 0s - loss: 0.3462 - accuracy: 0.90 - ETA: 0s - loss: 0.4328 - accuracy: 0.86 - ETA: 0s - loss: 0.3924 - accuracy: 0.87 - ETA: 0s - loss: 0.3803 - accuracy: 0.87 - ETA: 0s - loss: 0.3765 - accuracy: 0.87 - 1s 46ms/step - loss: 0.3695 - accuracy: 0.8810 - val_loss: 1.2658 - val_accuracy: 0.4643\n",
      "Epoch 14/1000\n",
      "26/26 [==============================] - ETA: 0s - loss: 0.3503 - accuracy: 0.87 - ETA: 0s - loss: 0.4155 - accuracy: 0.86 - ETA: 0s - loss: 0.3587 - accuracy: 0.89 - ETA: 0s - loss: 0.3572 - accuracy: 0.89 - ETA: 0s - loss: 0.3495 - accuracy: 0.89 - 1s 42ms/step - loss: 0.3431 - accuracy: 0.8990 - val_loss: 1.3057 - val_accuracy: 0.4524\n",
      "Epoch 15/1000\n",
      "26/26 [==============================] - ETA: 0s - loss: 0.3190 - accuracy: 0.93 - ETA: 0s - loss: 0.3774 - accuracy: 0.89 - ETA: 0s - loss: 0.3356 - accuracy: 0.91 - ETA: 0s - loss: 0.3168 - accuracy: 0.92 - ETA: 0s - loss: 0.3072 - accuracy: 0.92 - 1s 43ms/step - loss: 0.3019 - accuracy: 0.9219 - val_loss: 1.4552 - val_accuracy: 0.4345\n",
      "Epoch 16/1000\n",
      "26/26 [==============================] - ETA: 0s - loss: 0.2957 - accuracy: 0.90 - ETA: 0s - loss: 0.3293 - accuracy: 0.87 - ETA: 0s - loss: 0.3046 - accuracy: 0.89 - ETA: 0s - loss: 0.2918 - accuracy: 0.91 - ETA: 0s - loss: 0.2875 - accuracy: 0.91 - 1s 52ms/step - loss: 0.2818 - accuracy: 0.9147 - val_loss: 1.4268 - val_accuracy: 0.4821\n",
      "Epoch 17/1000\n",
      "26/26 [==============================] - ETA: 0s - loss: 0.2614 - accuracy: 0.87 - ETA: 0s - loss: 0.2868 - accuracy: 0.91 - ETA: 0s - loss: 0.2604 - accuracy: 0.92 - ETA: 0s - loss: 0.2547 - accuracy: 0.93 - ETA: 0s - loss: 0.2505 - accuracy: 0.93 - 1s 43ms/step - loss: 0.2447 - accuracy: 0.9387 - val_loss: 1.3600 - val_accuracy: 0.4881\n",
      "Epoch 18/1000\n",
      "26/26 [==============================] - ETA: 0s - loss: 0.4000 - accuracy: 0.93 - ETA: 0s - loss: 0.3007 - accuracy: 0.92 - ETA: 0s - loss: 0.2523 - accuracy: 0.94 - ETA: 0s - loss: 0.2457 - accuracy: 0.94 - ETA: 0s - loss: 0.2297 - accuracy: 0.95 - 1s 32ms/step - loss: 0.2246 - accuracy: 0.9531 - val_loss: 1.4885 - val_accuracy: 0.4762\n"
     ]
    },
    {
     "data": {
      "text/html": [
       "<span style=\"color:#4527A0\"><h1 style=\"font-size:18px\">Trial complete</h1></span>"
      ],
      "text/plain": [
       "<IPython.core.display.HTML object>"
      ]
     },
     "metadata": {},
     "output_type": "display_data"
    },
    {
     "data": {
      "text/html": [
       "<span style=\"color:#4527A0\"><h1 style=\"font-size:18px\">Trial summary</h1></span>"
      ],
      "text/plain": [
       "<IPython.core.display.HTML object>"
      ]
     },
     "metadata": {},
     "output_type": "display_data"
    },
    {
     "data": {
      "text/html": [
       "<span style=\"color:cyan\"> |-Trial ID: a94730523fc53be605b5d6d6da3238de</span>"
      ],
      "text/plain": [
       "<IPython.core.display.HTML object>"
      ]
     },
     "metadata": {},
     "output_type": "display_data"
    },
    {
     "data": {
      "text/html": [
       "<span style=\"color:cyan\"> |-Score: 0.494047611951828</span>"
      ],
      "text/plain": [
       "<IPython.core.display.HTML object>"
      ]
     },
     "metadata": {},
     "output_type": "display_data"
    },
    {
     "data": {
      "text/html": [
       "<span style=\"color:cyan\"> |-Best step: 4</span>"
      ],
      "text/plain": [
       "<IPython.core.display.HTML object>"
      ]
     },
     "metadata": {},
     "output_type": "display_data"
    },
    {
     "data": {
      "text/html": [
       "<span style=\"color:#7E57C2\"><h2 style=\"font-size:16px\">Hyperparameters:</h2></span>"
      ],
      "text/plain": [
       "<IPython.core.display.HTML object>"
      ]
     },
     "metadata": {},
     "output_type": "display_data"
    },
    {
     "data": {
      "text/html": [
       "<span style=\"color:cyan\"> |-classification_head_1/dropout: 0</span>"
      ],
      "text/plain": [
       "<IPython.core.display.HTML object>"
      ]
     },
     "metadata": {},
     "output_type": "display_data"
    },
    {
     "data": {
      "text/html": [
       "<span style=\"color:blue\"> |-learning_rate: 0.001</span>"
      ],
      "text/plain": [
       "<IPython.core.display.HTML object>"
      ]
     },
     "metadata": {},
     "output_type": "display_data"
    },
    {
     "data": {
      "text/html": [
       "<span style=\"color:cyan\"> |-optimizer: adam</span>"
      ],
      "text/plain": [
       "<IPython.core.display.HTML object>"
      ]
     },
     "metadata": {},
     "output_type": "display_data"
    },
    {
     "data": {
      "text/html": [
       "<span style=\"color:blue\"> |-structured_data_block_1/dense_block_1/dropout: 0.0</span>"
      ],
      "text/plain": [
       "<IPython.core.display.HTML object>"
      ]
     },
     "metadata": {},
     "output_type": "display_data"
    },
    {
     "data": {
      "text/html": [
       "<span style=\"color:cyan\"> |-structured_data_block_1/dense_block_1/num_layers: 3</span>"
      ],
      "text/plain": [
       "<IPython.core.display.HTML object>"
      ]
     },
     "metadata": {},
     "output_type": "display_data"
    },
    {
     "data": {
      "text/html": [
       "<span style=\"color:blue\"> |-structured_data_block_1/dense_block_1/units_0: 32</span>"
      ],
      "text/plain": [
       "<IPython.core.display.HTML object>"
      ]
     },
     "metadata": {},
     "output_type": "display_data"
    },
    {
     "data": {
      "text/html": [
       "<span style=\"color:cyan\"> |-structured_data_block_1/dense_block_1/units_1: 16</span>"
      ],
      "text/plain": [
       "<IPython.core.display.HTML object>"
      ]
     },
     "metadata": {},
     "output_type": "display_data"
    },
    {
     "data": {
      "text/html": [
       "<span style=\"color:blue\"> |-structured_data_block_1/dense_block_1/units_2: 64</span>"
      ],
      "text/plain": [
       "<IPython.core.display.HTML object>"
      ]
     },
     "metadata": {},
     "output_type": "display_data"
    },
    {
     "data": {
      "text/html": [
       "<span style=\"color:cyan\"> |-structured_data_block_1/dense_block_1/use_batchnorm: True</span>"
      ],
      "text/plain": [
       "<IPython.core.display.HTML object>"
      ]
     },
     "metadata": {},
     "output_type": "display_data"
    },
    {
     "data": {
      "text/html": [
       "<span style=\"color:#4527A0\"><h1 style=\"font-size:18px\">Starting new trial</h1></span>"
      ],
      "text/plain": [
       "<IPython.core.display.HTML object>"
      ]
     },
     "metadata": {},
     "output_type": "display_data"
    },
    {
     "name": "stdout",
     "output_type": "stream",
     "text": [
      "Epoch 1/1000\n",
      "26/26 [==============================] - ETA: 0s - loss: 1.9732 - accuracy: 0.25 - ETA: 0s - loss: 1.8187 - accuracy: 0.28 - ETA: 0s - loss: 1.6225 - accuracy: 0.31 - ETA: 0s - loss: 1.6055 - accuracy: 0.32 - ETA: 0s - loss: 1.6574 - accuracy: 0.33 - ETA: 0s - loss: 1.6626 - accuracy: 0.33 - ETA: 0s - loss: 1.6540 - accuracy: 0.32 - 6s 234ms/step - loss: 1.6521 - accuracy: 0.3293 - val_loss: 1.6529 - val_accuracy: 0.2560\n",
      "Epoch 2/1000\n",
      "26/26 [==============================] - ETA: 0s - loss: 1.2724 - accuracy: 0.59 - ETA: 0s - loss: 1.4830 - accuracy: 0.43 - ETA: 0s - loss: 1.4342 - accuracy: 0.43 - ETA: 0s - loss: 1.4229 - accuracy: 0.43 - ETA: 0s - loss: 1.4083 - accuracy: 0.45 - ETA: 0s - loss: 1.3824 - accuracy: 0.45 - ETA: 0s - loss: 1.3574 - accuracy: 0.46 - 1s 47ms/step - loss: 1.3449 - accuracy: 0.4724 - val_loss: 1.2318 - val_accuracy: 0.4167\n",
      "Epoch 3/1000\n",
      "26/26 [==============================] - ETA: 0s - loss: 1.0094 - accuracy: 0.59 - ETA: 0s - loss: 1.3197 - accuracy: 0.46 - ETA: 0s - loss: 1.3001 - accuracy: 0.42 - ETA: 0s - loss: 1.3180 - accuracy: 0.45 - ETA: 0s - loss: 1.2900 - accuracy: 0.45 - ETA: 0s - loss: 1.2959 - accuracy: 0.45 - ETA: 0s - loss: 1.2999 - accuracy: 0.45 - 1s 42ms/step - loss: 1.2797 - accuracy: 0.4579 - val_loss: 1.1991 - val_accuracy: 0.4345\n",
      "Epoch 4/1000\n",
      "26/26 [==============================] - ETA: 0s - loss: 1.1028 - accuracy: 0.53 - ETA: 0s - loss: 1.3278 - accuracy: 0.45 - ETA: 0s - loss: 1.2714 - accuracy: 0.47 - ETA: 0s - loss: 1.2668 - accuracy: 0.47 - ETA: 0s - loss: 1.2419 - accuracy: 0.48 - ETA: 0s - loss: 1.2338 - accuracy: 0.49 - ETA: 0s - loss: 1.2351 - accuracy: 0.48 - 1s 52ms/step - loss: 1.2351 - accuracy: 0.4844 - val_loss: 1.1347 - val_accuracy: 0.4702\n",
      "Epoch 5/1000\n",
      "26/26 [==============================] - ETA: 0s - loss: 1.4058 - accuracy: 0.46 - ETA: 0s - loss: 1.2547 - accuracy: 0.45 - ETA: 0s - loss: 1.1852 - accuracy: 0.49 - ETA: 0s - loss: 1.1899 - accuracy: 0.51 - ETA: 0s - loss: 1.1939 - accuracy: 0.52 - ETA: 0s - loss: 1.1940 - accuracy: 0.52 - ETA: 0s - loss: 1.2079 - accuracy: 0.51 - 1s 46ms/step - loss: 1.1967 - accuracy: 0.5228 - val_loss: 1.1073 - val_accuracy: 0.5357\n",
      "Epoch 6/1000\n",
      "26/26 [==============================] - ETA: 0s - loss: 1.0570 - accuracy: 0.56 - ETA: 0s - loss: 1.3123 - accuracy: 0.47 - ETA: 0s - loss: 1.1669 - accuracy: 0.50 - ETA: 0s - loss: 1.1782 - accuracy: 0.51 - ETA: 0s - loss: 1.1930 - accuracy: 0.50 - ETA: 0s - loss: 1.1730 - accuracy: 0.52 - ETA: 0s - loss: 1.1454 - accuracy: 0.54 - 1s 48ms/step - loss: 1.1454 - accuracy: 0.5409 - val_loss: 1.0872 - val_accuracy: 0.5655\n",
      "Epoch 7/1000\n",
      "26/26 [==============================] - ETA: 0s - loss: 0.9793 - accuracy: 0.53 - ETA: 0s - loss: 1.2404 - accuracy: 0.50 - ETA: 0s - loss: 1.1153 - accuracy: 0.54 - ETA: 0s - loss: 1.1131 - accuracy: 0.53 - ETA: 0s - loss: 1.0995 - accuracy: 0.55 - ETA: 0s - loss: 1.1142 - accuracy: 0.53 - ETA: 0s - loss: 1.0926 - accuracy: 0.54 - 1s 51ms/step - loss: 1.0926 - accuracy: 0.5457 - val_loss: 1.0662 - val_accuracy: 0.5714\n",
      "Epoch 8/1000\n",
      "26/26 [==============================] - ETA: 0s - loss: 0.8916 - accuracy: 0.68 - ETA: 0s - loss: 1.0668 - accuracy: 0.57 - ETA: 0s - loss: 1.0279 - accuracy: 0.58 - ETA: 0s - loss: 1.0328 - accuracy: 0.57 - ETA: 0s - loss: 1.0800 - accuracy: 0.56 - ETA: 0s - loss: 1.0835 - accuracy: 0.55 - 1s 51ms/step - loss: 1.0751 - accuracy: 0.5625 - val_loss: 1.0738 - val_accuracy: 0.5595\n",
      "Epoch 9/1000\n",
      "26/26 [==============================] - ETA: 0s - loss: 1.0097 - accuracy: 0.50 - ETA: 0s - loss: 1.1587 - accuracy: 0.55 - ETA: 0s - loss: 1.0651 - accuracy: 0.55 - ETA: 0s - loss: 1.0537 - accuracy: 0.57 - ETA: 0s - loss: 1.0596 - accuracy: 0.56 - ETA: 0s - loss: 1.0731 - accuracy: 0.54 - ETA: 0s - loss: 1.0539 - accuracy: 0.56 - 1s 39ms/step - loss: 1.0481 - accuracy: 0.5625 - val_loss: 1.1118 - val_accuracy: 0.5476\n",
      "Epoch 10/1000\n",
      "26/26 [==============================] - ETA: 0s - loss: 0.8092 - accuracy: 0.56 - ETA: 0s - loss: 1.0694 - accuracy: 0.55 - ETA: 0s - loss: 1.0124 - accuracy: 0.57 - ETA: 0s - loss: 1.0135 - accuracy: 0.58 - ETA: 0s - loss: 1.0216 - accuracy: 0.57 - ETA: 0s - loss: 1.0210 - accuracy: 0.57 - ETA: 0s - loss: 1.0196 - accuracy: 0.57 - 1s 41ms/step - loss: 1.0196 - accuracy: 0.5793 - val_loss: 1.0846 - val_accuracy: 0.5357\n",
      "Epoch 11/1000\n",
      "26/26 [==============================] - ETA: 0s - loss: 1.1592 - accuracy: 0.56 - ETA: 0s - loss: 1.0248 - accuracy: 0.57 - ETA: 0s - loss: 0.9777 - accuracy: 0.59 - ETA: 0s - loss: 0.9903 - accuracy: 0.59 - ETA: 0s - loss: 0.9806 - accuracy: 0.58 - ETA: 0s - loss: 0.9813 - accuracy: 0.57 - ETA: 0s - loss: 0.9649 - accuracy: 0.59 - 1s 49ms/step - loss: 0.9545 - accuracy: 0.5950 - val_loss: 1.1023 - val_accuracy: 0.5536\n",
      "Epoch 12/1000\n",
      "26/26 [==============================] - ETA: 0s - loss: 0.8080 - accuracy: 0.68 - ETA: 0s - loss: 1.0877 - accuracy: 0.56 - ETA: 0s - loss: 1.0048 - accuracy: 0.58 - ETA: 0s - loss: 1.0056 - accuracy: 0.59 - ETA: 0s - loss: 0.9889 - accuracy: 0.60 - ETA: 0s - loss: 0.9815 - accuracy: 0.59 - ETA: 0s - loss: 0.9765 - accuracy: 0.59 - 1s 54ms/step - loss: 0.9765 - accuracy: 0.5962 - val_loss: 1.1860 - val_accuracy: 0.5060\n",
      "Epoch 13/1000\n",
      "26/26 [==============================] - ETA: 0s - loss: 1.0087 - accuracy: 0.62 - ETA: 0s - loss: 1.1019 - accuracy: 0.58 - ETA: 0s - loss: 0.9723 - accuracy: 0.62 - ETA: 0s - loss: 0.9323 - accuracy: 0.63 - ETA: 0s - loss: 0.9328 - accuracy: 0.62 - ETA: 0s - loss: 0.9478 - accuracy: 0.61 - ETA: 0s - loss: 0.9510 - accuracy: 0.61 - 1s 44ms/step - loss: 0.9426 - accuracy: 0.6226 - val_loss: 1.0979 - val_accuracy: 0.5417\n",
      "Epoch 14/1000\n",
      "26/26 [==============================] - ETA: 0s - loss: 0.7551 - accuracy: 0.68 - ETA: 0s - loss: 0.8910 - accuracy: 0.63 - ETA: 0s - loss: 0.8429 - accuracy: 0.64 - ETA: 0s - loss: 0.8857 - accuracy: 0.64 - ETA: 0s - loss: 0.9056 - accuracy: 0.64 - ETA: 0s - loss: 0.9048 - accuracy: 0.63 - ETA: 0s - loss: 0.8965 - accuracy: 0.62 - 1s 46ms/step - loss: 0.8965 - accuracy: 0.6286 - val_loss: 1.1501 - val_accuracy: 0.5298\n",
      "Epoch 15/1000\n",
      "26/26 [==============================] - ETA: 0s - loss: 0.8215 - accuracy: 0.68 - ETA: 0s - loss: 1.0355 - accuracy: 0.58 - ETA: 0s - loss: 0.9230 - accuracy: 0.64 - ETA: 0s - loss: 0.8676 - accuracy: 0.66 - ETA: 0s - loss: 0.8511 - accuracy: 0.65 - ETA: 0s - loss: 0.8705 - accuracy: 0.64 - 1s 45ms/step - loss: 0.8553 - accuracy: 0.6466 - val_loss: 1.0769 - val_accuracy: 0.5774\n",
      "Epoch 16/1000\n",
      "26/26 [==============================] - ETA: 0s - loss: 0.9281 - accuracy: 0.59 - ETA: 0s - loss: 1.0921 - accuracy: 0.56 - ETA: 0s - loss: 0.9441 - accuracy: 0.61 - ETA: 0s - loss: 0.9202 - accuracy: 0.63 - ETA: 0s - loss: 0.9246 - accuracy: 0.63 - ETA: 0s - loss: 0.9160 - accuracy: 0.62 - ETA: 0s - loss: 0.8857 - accuracy: 0.63 - 2s 59ms/step - loss: 0.8857 - accuracy: 0.6358 - val_loss: 1.1101 - val_accuracy: 0.5536\n",
      "Epoch 17/1000\n",
      "26/26 [==============================] - ETA: 0s - loss: 0.8220 - accuracy: 0.62 - ETA: 0s - loss: 0.9401 - accuracy: 0.61 - ETA: 0s - loss: 0.8692 - accuracy: 0.63 - ETA: 0s - loss: 0.8831 - accuracy: 0.63 - ETA: 0s - loss: 0.8875 - accuracy: 0.62 - ETA: 0s - loss: 0.8602 - accuracy: 0.63 - ETA: 0s - loss: 0.8553 - accuracy: 0.64 - 1s 47ms/step - loss: 0.8488 - accuracy: 0.6454 - val_loss: 1.1358 - val_accuracy: 0.5536\n"
     ]
    },
    {
     "data": {
      "text/html": [
       "<span style=\"color:#4527A0\"><h1 style=\"font-size:18px\">Trial complete</h1></span>"
      ],
      "text/plain": [
       "<IPython.core.display.HTML object>"
      ]
     },
     "metadata": {},
     "output_type": "display_data"
    },
    {
     "data": {
      "text/html": [
       "<span style=\"color:#4527A0\"><h1 style=\"font-size:18px\">Trial summary</h1></span>"
      ],
      "text/plain": [
       "<IPython.core.display.HTML object>"
      ]
     },
     "metadata": {},
     "output_type": "display_data"
    },
    {
     "data": {
      "text/html": [
       "<span style=\"color:cyan\"> |-Trial ID: 78ea55755b3f366f570511fec7980932</span>"
      ],
      "text/plain": [
       "<IPython.core.display.HTML object>"
      ]
     },
     "metadata": {},
     "output_type": "display_data"
    },
    {
     "data": {
      "text/html": [
       "<span style=\"color:cyan\"> |-Score: 0.5773809552192688</span>"
      ],
      "text/plain": [
       "<IPython.core.display.HTML object>"
      ]
     },
     "metadata": {},
     "output_type": "display_data"
    },
    {
     "data": {
      "text/html": [
       "<span style=\"color:cyan\"> |-Best step: 14</span>"
      ],
      "text/plain": [
       "<IPython.core.display.HTML object>"
      ]
     },
     "metadata": {},
     "output_type": "display_data"
    },
    {
     "data": {
      "text/html": [
       "<span style=\"color:#7E57C2\"><h2 style=\"font-size:16px\">Hyperparameters:</h2></span>"
      ],
      "text/plain": [
       "<IPython.core.display.HTML object>"
      ]
     },
     "metadata": {},
     "output_type": "display_data"
    },
    {
     "data": {
      "text/html": [
       "<span style=\"color:cyan\"> |-classification_head_1/dropout: 0</span>"
      ],
      "text/plain": [
       "<IPython.core.display.HTML object>"
      ]
     },
     "metadata": {},
     "output_type": "display_data"
    },
    {
     "data": {
      "text/html": [
       "<span style=\"color:blue\"> |-learning_rate: 0.001</span>"
      ],
      "text/plain": [
       "<IPython.core.display.HTML object>"
      ]
     },
     "metadata": {},
     "output_type": "display_data"
    },
    {
     "data": {
      "text/html": [
       "<span style=\"color:cyan\"> |-optimizer: adam</span>"
      ],
      "text/plain": [
       "<IPython.core.display.HTML object>"
      ]
     },
     "metadata": {},
     "output_type": "display_data"
    },
    {
     "data": {
      "text/html": [
       "<span style=\"color:blue\"> |-structured_data_block_1/dense_block_1/dropout: 0.5</span>"
      ],
      "text/plain": [
       "<IPython.core.display.HTML object>"
      ]
     },
     "metadata": {},
     "output_type": "display_data"
    },
    {
     "data": {
      "text/html": [
       "<span style=\"color:cyan\"> |-structured_data_block_1/dense_block_1/num_layers: 2</span>"
      ],
      "text/plain": [
       "<IPython.core.display.HTML object>"
      ]
     },
     "metadata": {},
     "output_type": "display_data"
    },
    {
     "data": {
      "text/html": [
       "<span style=\"color:blue\"> |-structured_data_block_1/dense_block_1/units_0: 128</span>"
      ],
      "text/plain": [
       "<IPython.core.display.HTML object>"
      ]
     },
     "metadata": {},
     "output_type": "display_data"
    },
    {
     "data": {
      "text/html": [
       "<span style=\"color:cyan\"> |-structured_data_block_1/dense_block_1/units_1: 512</span>"
      ],
      "text/plain": [
       "<IPython.core.display.HTML object>"
      ]
     },
     "metadata": {},
     "output_type": "display_data"
    },
    {
     "data": {
      "text/html": [
       "<span style=\"color:blue\"> |-structured_data_block_1/dense_block_1/units_2: 1024</span>"
      ],
      "text/plain": [
       "<IPython.core.display.HTML object>"
      ]
     },
     "metadata": {},
     "output_type": "display_data"
    },
    {
     "data": {
      "text/html": [
       "<span style=\"color:cyan\"> |-structured_data_block_1/dense_block_1/use_batchnorm: True</span>"
      ],
      "text/plain": [
       "<IPython.core.display.HTML object>"
      ]
     },
     "metadata": {},
     "output_type": "display_data"
    },
    {
     "data": {
      "text/html": [
       "<span style=\"color:#4527A0\"><h1 style=\"font-size:18px\">Starting new trial</h1></span>"
      ],
      "text/plain": [
       "<IPython.core.display.HTML object>"
      ]
     },
     "metadata": {},
     "output_type": "display_data"
    },
    {
     "name": "stdout",
     "output_type": "stream",
     "text": [
      "Epoch 1/1000\n",
      "26/26 [==============================] - ETA: 0s - loss: 1.8636 - accuracy: 0.25 - ETA: 0s - loss: 1.8554 - accuracy: 0.22 - ETA: 0s - loss: 1.6834 - accuracy: 0.28 - ETA: 0s - loss: 1.5671 - accuracy: 0.31 - ETA: 0s - loss: 1.5074 - accuracy: 0.33 - ETA: 0s - loss: 1.4593 - accuracy: 0.35 - 6s 237ms/step - loss: 1.4593 - accuracy: 0.3546 - val_loss: 1.4152 - val_accuracy: 0.3274\n",
      "Epoch 2/1000\n",
      "26/26 [==============================] - ETA: 0s - loss: 0.9425 - accuracy: 0.71 - ETA: 0s - loss: 1.1223 - accuracy: 0.52 - ETA: 0s - loss: 1.0785 - accuracy: 0.53 - ETA: 0s - loss: 1.0577 - accuracy: 0.55 - ETA: 0s - loss: 1.0386 - accuracy: 0.56 - 1s 37ms/step - loss: 1.0301 - accuracy: 0.5757 - val_loss: 1.3246 - val_accuracy: 0.3810\n",
      "Epoch 3/1000\n",
      "26/26 [==============================] - ETA: 0s - loss: 0.8047 - accuracy: 0.75 - ETA: 0s - loss: 0.9651 - accuracy: 0.61 - ETA: 0s - loss: 0.9138 - accuracy: 0.63 - ETA: 0s - loss: 0.8869 - accuracy: 0.65 - ETA: 0s - loss: 0.8896 - accuracy: 0.65 - 1s 37ms/step - loss: 0.8813 - accuracy: 0.6599 - val_loss: 1.2612 - val_accuracy: 0.4405\n",
      "Epoch 4/1000\n",
      "26/26 [==============================] - ETA: 0s - loss: 0.7123 - accuracy: 0.75 - ETA: 0s - loss: 0.8367 - accuracy: 0.68 - ETA: 0s - loss: 0.7917 - accuracy: 0.71 - ETA: 0s - loss: 0.7768 - accuracy: 0.72 - ETA: 0s - loss: 0.7689 - accuracy: 0.73 - 1s 45ms/step - loss: 0.7693 - accuracy: 0.7260 - val_loss: 1.2347 - val_accuracy: 0.4167\n",
      "Epoch 5/1000\n",
      "26/26 [==============================] - ETA: 0s - loss: 0.6392 - accuracy: 0.81 - ETA: 0s - loss: 0.7518 - accuracy: 0.74 - ETA: 0s - loss: 0.7057 - accuracy: 0.75 - ETA: 0s - loss: 0.6923 - accuracy: 0.76 - ETA: 0s - loss: 0.6835 - accuracy: 0.77 - ETA: 0s - loss: 0.6907 - accuracy: 0.76 - 2s 66ms/step - loss: 0.6816 - accuracy: 0.7728 - val_loss: 1.2063 - val_accuracy: 0.4226\n",
      "Epoch 6/1000\n",
      "26/26 [==============================] - ETA: 0s - loss: 0.5666 - accuracy: 0.78 - ETA: 0s - loss: 0.6750 - accuracy: 0.78 - ETA: 0s - loss: 0.6230 - accuracy: 0.80 - ETA: 0s - loss: 0.6101 - accuracy: 0.81 - ETA: 0s - loss: 0.6085 - accuracy: 0.81 - 1s 39ms/step - loss: 0.6027 - accuracy: 0.8173 - val_loss: 1.1889 - val_accuracy: 0.4226\n",
      "Epoch 7/1000\n",
      "26/26 [==============================] - ETA: 0s - loss: 0.5086 - accuracy: 0.87 - ETA: 0s - loss: 0.6005 - accuracy: 0.82 - ETA: 0s - loss: 0.5533 - accuracy: 0.84 - ETA: 0s - loss: 0.5453 - accuracy: 0.84 - ETA: 0s - loss: 0.5367 - accuracy: 0.84 - 1s 43ms/step - loss: 0.5310 - accuracy: 0.8570 - val_loss: 1.1831 - val_accuracy: 0.4345\n",
      "Epoch 8/1000\n",
      "26/26 [==============================] - ETA: 0s - loss: 0.4402 - accuracy: 0.90 - ETA: 0s - loss: 0.5408 - accuracy: 0.87 - ETA: 0s - loss: 0.4909 - accuracy: 0.88 - ETA: 0s - loss: 0.4825 - accuracy: 0.87 - ETA: 0s - loss: 0.4755 - accuracy: 0.88 - 1s 44ms/step - loss: 0.4693 - accuracy: 0.8846 - val_loss: 1.1699 - val_accuracy: 0.4345\n",
      "Epoch 9/1000\n",
      "26/26 [==============================] - ETA: 0s - loss: 0.4111 - accuracy: 0.87 - ETA: 0s - loss: 0.4688 - accuracy: 0.88 - ETA: 0s - loss: 0.4281 - accuracy: 0.90 - ETA: 0s - loss: 0.4141 - accuracy: 0.90 - ETA: 0s - loss: 0.4120 - accuracy: 0.91 - 1s 50ms/step - loss: 0.4049 - accuracy: 0.9123 - val_loss: 1.1677 - val_accuracy: 0.4583\n",
      "Epoch 10/1000\n",
      "26/26 [==============================] - ETA: 0s - loss: 0.3593 - accuracy: 0.90 - ETA: 0s - loss: 0.4061 - accuracy: 0.89 - ETA: 0s - loss: 0.3684 - accuracy: 0.91 - ETA: 0s - loss: 0.3552 - accuracy: 0.92 - ETA: 0s - loss: 0.3545 - accuracy: 0.92 - 2s 59ms/step - loss: 0.3482 - accuracy: 0.9291 - val_loss: 1.1884 - val_accuracy: 0.4583\n",
      "Epoch 11/1000\n",
      "26/26 [==============================] - ETA: 0s - loss: 0.3200 - accuracy: 0.90 - ETA: 0s - loss: 0.3596 - accuracy: 0.91 - ETA: 0s - loss: 0.3211 - accuracy: 0.92 - ETA: 0s - loss: 0.3194 - accuracy: 0.93 - ETA: 0s - loss: 0.3169 - accuracy: 0.93 - ETA: 0s - loss: 0.3077 - accuracy: 0.94 - 1s 48ms/step - loss: 0.3020 - accuracy: 0.9435 - val_loss: 1.1988 - val_accuracy: 0.4524\n",
      "Epoch 12/1000\n",
      "26/26 [==============================] - ETA: 0s - loss: 0.2706 - accuracy: 1.00 - ETA: 0s - loss: 0.3276 - accuracy: 0.93 - ETA: 0s - loss: 0.2838 - accuracy: 0.95 - ETA: 0s - loss: 0.2804 - accuracy: 0.94 - ETA: 0s - loss: 0.2728 - accuracy: 0.95 - 1s 42ms/step - loss: 0.2632 - accuracy: 0.9567 - val_loss: 1.2554 - val_accuracy: 0.4762\n",
      "Epoch 13/1000\n",
      "26/26 [==============================] - ETA: 0s - loss: 0.2642 - accuracy: 0.96 - ETA: 0s - loss: 0.2736 - accuracy: 0.94 - ETA: 0s - loss: 0.2550 - accuracy: 0.95 - ETA: 0s - loss: 0.2434 - accuracy: 0.95 - ETA: 0s - loss: 0.2380 - accuracy: 0.95 - 1s 43ms/step - loss: 0.2306 - accuracy: 0.9639 - val_loss: 1.2891 - val_accuracy: 0.4762\n",
      "Epoch 14/1000\n",
      "26/26 [==============================] - ETA: 0s - loss: 0.2281 - accuracy: 1.00 - ETA: 0s - loss: 0.2286 - accuracy: 0.97 - ETA: 0s - loss: 0.2283 - accuracy: 0.96 - ETA: 0s - loss: 0.2256 - accuracy: 0.95 - ETA: 0s - loss: 0.2193 - accuracy: 0.96 - ETA: 0s - loss: 0.2062 - accuracy: 0.96 - 1s 42ms/step - loss: 0.2062 - accuracy: 0.9675 - val_loss: 1.3563 - val_accuracy: 0.4881\n",
      "Epoch 15/1000\n",
      "26/26 [==============================] - ETA: 0s - loss: 0.1689 - accuracy: 1.00 - ETA: 0s - loss: 0.2058 - accuracy: 0.98 - ETA: 0s - loss: 0.1925 - accuracy: 0.97 - ETA: 0s - loss: 0.1862 - accuracy: 0.97 - ETA: 0s - loss: 0.1759 - accuracy: 0.97 - 1s 38ms/step - loss: 0.1698 - accuracy: 0.9784 - val_loss: 1.3923 - val_accuracy: 0.4702\n",
      "Epoch 16/1000\n",
      "26/26 [==============================] - ETA: 0s - loss: 0.1782 - accuracy: 0.96 - ETA: 0s - loss: 0.2195 - accuracy: 0.96 - ETA: 0s - loss: 0.1718 - accuracy: 0.97 - ETA: 0s - loss: 0.1678 - accuracy: 0.97 - ETA: 0s - loss: 0.1632 - accuracy: 0.97 - 1s 47ms/step - loss: 0.1565 - accuracy: 0.9760 - val_loss: 1.5348 - val_accuracy: 0.4583\n",
      "Epoch 17/1000\n",
      "26/26 [==============================] - ETA: 0s - loss: 0.1702 - accuracy: 0.96 - ETA: 0s - loss: 0.2197 - accuracy: 0.97 - ETA: 0s - loss: 0.1822 - accuracy: 0.97 - ETA: 0s - loss: 0.1698 - accuracy: 0.97 - ETA: 0s - loss: 0.1618 - accuracy: 0.97 - 1s 36ms/step - loss: 0.1536 - accuracy: 0.9760 - val_loss: 1.5545 - val_accuracy: 0.4762\n",
      "Epoch 18/1000\n",
      "26/26 [==============================] - ETA: 0s - loss: 0.1286 - accuracy: 1.00 - ETA: 0s - loss: 0.1684 - accuracy: 0.97 - ETA: 0s - loss: 0.1415 - accuracy: 0.97 - ETA: 0s - loss: 0.1373 - accuracy: 0.97 - ETA: 0s - loss: 0.1459 - accuracy: 0.97 - ETA: 0s - loss: 0.1500 - accuracy: 0.97 - 1s 38ms/step - loss: 0.1478 - accuracy: 0.9724 - val_loss: 1.7244 - val_accuracy: 0.4167\n",
      "Epoch 19/1000\n",
      "26/26 [==============================] - ETA: 0s - loss: 0.1925 - accuracy: 0.93 - ETA: 0s - loss: 0.1590 - accuracy: 0.97 - ETA: 0s - loss: 0.1489 - accuracy: 0.97 - ETA: 0s - loss: 0.1749 - accuracy: 0.96 - ETA: 0s - loss: 0.1726 - accuracy: 0.96 - 1s 36ms/step - loss: 0.1755 - accuracy: 0.9603 - val_loss: 1.6860 - val_accuracy: 0.4167\n"
     ]
    },
    {
     "data": {
      "text/html": [
       "<span style=\"color:#4527A0\"><h1 style=\"font-size:18px\">Trial complete</h1></span>"
      ],
      "text/plain": [
       "<IPython.core.display.HTML object>"
      ]
     },
     "metadata": {},
     "output_type": "display_data"
    },
    {
     "data": {
      "text/html": [
       "<span style=\"color:#4527A0\"><h1 style=\"font-size:18px\">Trial summary</h1></span>"
      ],
      "text/plain": [
       "<IPython.core.display.HTML object>"
      ]
     },
     "metadata": {},
     "output_type": "display_data"
    },
    {
     "data": {
      "text/html": [
       "<span style=\"color:cyan\"> |-Trial ID: c6107fc7ee06b677f88be072ac0dae18</span>"
      ],
      "text/plain": [
       "<IPython.core.display.HTML object>"
      ]
     },
     "metadata": {},
     "output_type": "display_data"
    },
    {
     "data": {
      "text/html": [
       "<span style=\"color:cyan\"> |-Score: 0.488095223903656</span>"
      ],
      "text/plain": [
       "<IPython.core.display.HTML object>"
      ]
     },
     "metadata": {},
     "output_type": "display_data"
    },
    {
     "data": {
      "text/html": [
       "<span style=\"color:cyan\"> |-Best step: 13</span>"
      ],
      "text/plain": [
       "<IPython.core.display.HTML object>"
      ]
     },
     "metadata": {},
     "output_type": "display_data"
    },
    {
     "data": {
      "text/html": [
       "<span style=\"color:#7E57C2\"><h2 style=\"font-size:16px\">Hyperparameters:</h2></span>"
      ],
      "text/plain": [
       "<IPython.core.display.HTML object>"
      ]
     },
     "metadata": {},
     "output_type": "display_data"
    },
    {
     "data": {
      "text/html": [
       "<span style=\"color:cyan\"> |-classification_head_1/dropout: 0</span>"
      ],
      "text/plain": [
       "<IPython.core.display.HTML object>"
      ]
     },
     "metadata": {},
     "output_type": "display_data"
    },
    {
     "data": {
      "text/html": [
       "<span style=\"color:blue\"> |-learning_rate: 0.001</span>"
      ],
      "text/plain": [
       "<IPython.core.display.HTML object>"
      ]
     },
     "metadata": {},
     "output_type": "display_data"
    },
    {
     "data": {
      "text/html": [
       "<span style=\"color:cyan\"> |-optimizer: adam</span>"
      ],
      "text/plain": [
       "<IPython.core.display.HTML object>"
      ]
     },
     "metadata": {},
     "output_type": "display_data"
    },
    {
     "data": {
      "text/html": [
       "<span style=\"color:blue\"> |-structured_data_block_1/dense_block_1/dropout: 0.0</span>"
      ],
      "text/plain": [
       "<IPython.core.display.HTML object>"
      ]
     },
     "metadata": {},
     "output_type": "display_data"
    },
    {
     "data": {
      "text/html": [
       "<span style=\"color:cyan\"> |-structured_data_block_1/dense_block_1/num_layers: 3</span>"
      ],
      "text/plain": [
       "<IPython.core.display.HTML object>"
      ]
     },
     "metadata": {},
     "output_type": "display_data"
    },
    {
     "data": {
      "text/html": [
       "<span style=\"color:blue\"> |-structured_data_block_1/dense_block_1/units_0: 32</span>"
      ],
      "text/plain": [
       "<IPython.core.display.HTML object>"
      ]
     },
     "metadata": {},
     "output_type": "display_data"
    },
    {
     "data": {
      "text/html": [
       "<span style=\"color:cyan\"> |-structured_data_block_1/dense_block_1/units_1: 128</span>"
      ],
      "text/plain": [
       "<IPython.core.display.HTML object>"
      ]
     },
     "metadata": {},
     "output_type": "display_data"
    },
    {
     "data": {
      "text/html": [
       "<span style=\"color:blue\"> |-structured_data_block_1/dense_block_1/units_2: 64</span>"
      ],
      "text/plain": [
       "<IPython.core.display.HTML object>"
      ]
     },
     "metadata": {},
     "output_type": "display_data"
    },
    {
     "data": {
      "text/html": [
       "<span style=\"color:cyan\"> |-structured_data_block_1/dense_block_1/use_batchnorm: True</span>"
      ],
      "text/plain": [
       "<IPython.core.display.HTML object>"
      ]
     },
     "metadata": {},
     "output_type": "display_data"
    },
    {
     "data": {
      "text/html": [
       "<span style=\"color:#4527A0\"><h1 style=\"font-size:18px\">Starting new trial</h1></span>"
      ],
      "text/plain": [
       "<IPython.core.display.HTML object>"
      ]
     },
     "metadata": {},
     "output_type": "display_data"
    },
    {
     "name": "stdout",
     "output_type": "stream",
     "text": [
      "Epoch 1/1000\n",
      "26/26 [==============================] - ETA: 0s - loss: 2043.0883 - accuracy: 0.406 - ETA: 0s - loss: 2399.0176 - accuracy: 0.237 - ETA: 0s - loss: 2546.8110 - accuracy: 0.269 - ETA: 0s - loss: 2089.8643 - accuracy: 0.278 - ETA: 0s - loss: 1962.6924 - accuracy: 0.307 - ETA: 0s - loss: 1783.9263 - accuracy: 0.322 - 6s 230ms/step - loss: 1750.7871 - accuracy: 0.3269 - val_loss: 758.7485 - val_accuracy: 0.4524\n",
      "Epoch 2/1000\n",
      "26/26 [==============================] - ETA: 0s - loss: 1033.9001 - accuracy: 0.343 - ETA: 0s - loss: 976.7935 - accuracy: 0.380 - ETA: 0s - loss: 841.2989 - accuracy: 0.42 - ETA: 0s - loss: 851.1995 - accuracy: 0.41 - ETA: 0s - loss: 892.0809 - accuracy: 0.41 - ETA: 0s - loss: 903.3711 - accuracy: 0.41 - 1s 37ms/step - loss: 903.3711 - accuracy: 0.4147 - val_loss: 625.0443 - val_accuracy: 0.5000\n",
      "Epoch 3/1000\n",
      "26/26 [==============================] - ETA: 0s - loss: 587.1277 - accuracy: 0.56 - ETA: 0s - loss: 734.6426 - accuracy: 0.44 - ETA: 0s - loss: 578.5729 - accuracy: 0.46 - ETA: 0s - loss: 606.6442 - accuracy: 0.44 - ETA: 0s - loss: 610.7921 - accuracy: 0.46 - ETA: 0s - loss: 601.2178 - accuracy: 0.46 - 1s 44ms/step - loss: 601.2178 - accuracy: 0.4651 - val_loss: 398.8759 - val_accuracy: 0.5595\n",
      "Epoch 4/1000\n",
      "26/26 [==============================] - ETA: 0s - loss: 453.2446 - accuracy: 0.56 - ETA: 0s - loss: 612.3088 - accuracy: 0.42 - ETA: 0s - loss: 584.4057 - accuracy: 0.46 - ETA: 0s - loss: 530.9903 - accuracy: 0.48 - ETA: 0s - loss: 529.1313 - accuracy: 0.49 - ETA: 0s - loss: 503.8262 - accuracy: 0.49 - 1s 47ms/step - loss: 503.8262 - accuracy: 0.4988 - val_loss: 440.7292 - val_accuracy: 0.4702\n",
      "Epoch 5/1000\n",
      "26/26 [==============================] - ETA: 0s - loss: 843.1172 - accuracy: 0.40 - ETA: 0s - loss: 463.1193 - accuracy: 0.51 - ETA: 0s - loss: 405.3188 - accuracy: 0.52 - ETA: 0s - loss: 379.6845 - accuracy: 0.53 - ETA: 0s - loss: 399.0170 - accuracy: 0.53 - ETA: 0s - loss: 391.2870 - accuracy: 0.54 - 1s 50ms/step - loss: 391.2870 - accuracy: 0.5409 - val_loss: 347.0139 - val_accuracy: 0.5060\n",
      "Epoch 6/1000\n",
      "26/26 [==============================] - ETA: 0s - loss: 430.9705 - accuracy: 0.40 - ETA: 0s - loss: 392.1357 - accuracy: 0.43 - ETA: 0s - loss: 323.5387 - accuracy: 0.51 - ETA: 0s - loss: 299.3091 - accuracy: 0.52 - ETA: 0s - loss: 280.0720 - accuracy: 0.54 - ETA: 0s - loss: 273.0870 - accuracy: 0.54 - 2s 59ms/step - loss: 273.0870 - accuracy: 0.5409 - val_loss: 355.7277 - val_accuracy: 0.5060\n",
      "Epoch 7/1000\n",
      "26/26 [==============================] - ETA: 0s - loss: 229.7901 - accuracy: 0.62 - ETA: 0s - loss: 243.1432 - accuracy: 0.57 - ETA: 0s - loss: 201.1839 - accuracy: 0.56 - ETA: 0s - loss: 193.8175 - accuracy: 0.57 - ETA: 0s - loss: 191.3351 - accuracy: 0.58 - ETA: 0s - loss: 181.2466 - accuracy: 0.59 - 1s 45ms/step - loss: 181.2466 - accuracy: 0.5925 - val_loss: 346.1895 - val_accuracy: 0.5119\n",
      "Epoch 8/1000\n",
      "26/26 [==============================] - ETA: 0s - loss: 149.7146 - accuracy: 0.62 - ETA: 0s - loss: 154.2977 - accuracy: 0.61 - ETA: 0s - loss: 140.1025 - accuracy: 0.63 - ETA: 0s - loss: 136.7328 - accuracy: 0.62 - ETA: 0s - loss: 133.9346 - accuracy: 0.62 - ETA: 0s - loss: 157.2545 - accuracy: 0.61 - 1s 44ms/step - loss: 152.2569 - accuracy: 0.6142 - val_loss: 277.2914 - val_accuracy: 0.4881\n",
      "Epoch 9/1000\n",
      "26/26 [==============================] - ETA: 0s - loss: 260.5668 - accuracy: 0.46 - ETA: 0s - loss: 157.1824 - accuracy: 0.58 - ETA: 0s - loss: 137.6436 - accuracy: 0.60 - ETA: 0s - loss: 128.7849 - accuracy: 0.62 - ETA: 0s - loss: 129.9377 - accuracy: 0.63 - ETA: 0s - loss: 128.4431 - accuracy: 0.62 - 1s 50ms/step - loss: 128.4431 - accuracy: 0.6286 - val_loss: 268.0842 - val_accuracy: 0.4762\n",
      "Epoch 10/1000\n",
      "26/26 [==============================] - ETA: 0s - loss: 184.5515 - accuracy: 0.53 - ETA: 0s - loss: 79.2633 - accuracy: 0.6406 - ETA: 0s - loss: 92.8004 - accuracy: 0.636 - ETA: 0s - loss: 105.5697 - accuracy: 0.61 - ETA: 0s - loss: 99.6484 - accuracy: 0.6205 - 1s 42ms/step - loss: 94.4649 - accuracy: 0.6250 - val_loss: 244.8808 - val_accuracy: 0.4940\n",
      "Epoch 11/1000\n",
      "26/26 [==============================] - ETA: 0s - loss: 92.2155 - accuracy: 0.562 - ETA: 0s - loss: 76.8080 - accuracy: 0.614 - ETA: 0s - loss: 71.7075 - accuracy: 0.661 - ETA: 0s - loss: 79.7501 - accuracy: 0.646 - ETA: 0s - loss: 79.3460 - accuracy: 0.659 - ETA: 0s - loss: 75.4691 - accuracy: 0.657 - 1s 53ms/step - loss: 75.4691 - accuracy: 0.6575 - val_loss: 284.9843 - val_accuracy: 0.4821\n",
      "Epoch 12/1000\n",
      "26/26 [==============================] - ETA: 0s - loss: 170.1440 - accuracy: 0.53 - ETA: 0s - loss: 86.1067 - accuracy: 0.6198 - ETA: 0s - loss: 62.3966 - accuracy: 0.676 - ETA: 0s - loss: 63.3448 - accuracy: 0.660 - ETA: 0s - loss: 61.2479 - accuracy: 0.663 - ETA: 0s - loss: 60.8751 - accuracy: 0.657 - 1s 45ms/step - loss: 60.8751 - accuracy: 0.6575 - val_loss: 261.4332 - val_accuracy: 0.4702\n",
      "Epoch 13/1000\n",
      "26/26 [==============================] - ETA: 0s - loss: 103.7056 - accuracy: 0.59 - ETA: 0s - loss: 59.2206 - accuracy: 0.6667 - ETA: 0s - loss: 42.1005 - accuracy: 0.710 - ETA: 0s - loss: 42.8274 - accuracy: 0.705 - ETA: 0s - loss: 42.7209 - accuracy: 0.687 - 1s 41ms/step - loss: 40.2280 - accuracy: 0.6971 - val_loss: 233.5974 - val_accuracy: 0.5000\n",
      "Epoch 14/1000\n",
      "26/26 [==============================] - ETA: 0s - loss: 29.5438 - accuracy: 0.656 - ETA: 0s - loss: 40.9722 - accuracy: 0.614 - ETA: 0s - loss: 39.3532 - accuracy: 0.684 - ETA: 0s - loss: 36.6283 - accuracy: 0.687 - ETA: 0s - loss: 34.2312 - accuracy: 0.696 - ETA: 0s - loss: 34.1268 - accuracy: 0.687 - 1s 53ms/step - loss: 33.7839 - accuracy: 0.6875 - val_loss: 194.0920 - val_accuracy: 0.4286\n",
      "Epoch 15/1000\n",
      "26/26 [==============================] - ETA: 0s - loss: 57.5620 - accuracy: 0.625 - ETA: 0s - loss: 26.7172 - accuracy: 0.708 - ETA: 0s - loss: 23.7551 - accuracy: 0.761 - ETA: 0s - loss: 23.6168 - accuracy: 0.742 - ETA: 0s - loss: 23.5599 - accuracy: 0.744 - ETA: 0s - loss: 23.7976 - accuracy: 0.742 - 1s 45ms/step - loss: 23.7976 - accuracy: 0.7428 - val_loss: 201.6603 - val_accuracy: 0.4405\n",
      "Epoch 16/1000\n",
      "26/26 [==============================] - ETA: 0s - loss: 71.1846 - accuracy: 0.593 - ETA: 0s - loss: 37.0440 - accuracy: 0.703 - ETA: 0s - loss: 31.4673 - accuracy: 0.715 - ETA: 0s - loss: 28.8377 - accuracy: 0.712 - ETA: 0s - loss: 27.0110 - accuracy: 0.729 - ETA: 0s - loss: 25.8859 - accuracy: 0.728 - 1s 43ms/step - loss: 25.8859 - accuracy: 0.7284 - val_loss: 138.9156 - val_accuracy: 0.4345\n",
      "Epoch 17/1000\n",
      "26/26 [==============================] - ETA: 0s - loss: 26.6057 - accuracy: 0.656 - ETA: 0s - loss: 21.8549 - accuracy: 0.718 - ETA: 0s - loss: 19.0738 - accuracy: 0.713 - ETA: 0s - loss: 19.8964 - accuracy: 0.718 - ETA: 0s - loss: 17.7692 - accuracy: 0.735 - ETA: 0s - loss: 17.6554 - accuracy: 0.734 - 2s 58ms/step - loss: 17.6554 - accuracy: 0.7344 - val_loss: 163.3694 - val_accuracy: 0.4286\n",
      "Epoch 18/1000\n",
      "26/26 [==============================] - ETA: 0s - loss: 27.3878 - accuracy: 0.750 - ETA: 0s - loss: 18.8531 - accuracy: 0.724 - ETA: 0s - loss: 16.4895 - accuracy: 0.765 - ETA: 0s - loss: 16.7462 - accuracy: 0.743 - ETA: 0s - loss: 15.3626 - accuracy: 0.753 - ETA: 0s - loss: 15.0472 - accuracy: 0.740 - 1s 47ms/step - loss: 14.2691 - accuracy: 0.7452 - val_loss: 151.1470 - val_accuracy: 0.4524\n",
      "Epoch 19/1000\n",
      "26/26 [==============================] - ETA: 0s - loss: 38.8593 - accuracy: 0.687 - ETA: 0s - loss: 13.7118 - accuracy: 0.755 - ETA: 0s - loss: 12.6811 - accuracy: 0.764 - ETA: 0s - loss: 12.9212 - accuracy: 0.752 - ETA: 0s - loss: 12.2579 - accuracy: 0.750 - ETA: 0s - loss: 11.6559 - accuracy: 0.753 - 1s 39ms/step - loss: 11.6559 - accuracy: 0.7536 - val_loss: 141.5983 - val_accuracy: 0.4107\n",
      "Epoch 20/1000\n",
      "26/26 [==============================] - ETA: 0s - loss: 14.1617 - accuracy: 0.718 - ETA: 0s - loss: 12.3296 - accuracy: 0.744 - ETA: 0s - loss: 12.1034 - accuracy: 0.741 - ETA: 0s - loss: 12.1789 - accuracy: 0.742 - ETA: 0s - loss: 10.8956 - accuracy: 0.756 - ETA: 0s - loss: 10.4944 - accuracy: 0.754 - 1s 39ms/step - loss: 10.4944 - accuracy: 0.7548 - val_loss: 147.6832 - val_accuracy: 0.3929\n",
      "Epoch 21/1000\n"
     ]
    },
    {
     "name": "stdout",
     "output_type": "stream",
     "text": [
      "26/26 [==============================] - ETA: 0s - loss: 18.1946 - accuracy: 0.625 - ETA: 0s - loss: 6.7400 - accuracy: 0.750 - ETA: 0s - loss: 6.2769 - accuracy: 0.76 - ETA: 0s - loss: 6.7031 - accuracy: 0.76 - ETA: 0s - loss: 7.3614 - accuracy: 0.75 - 1s 37ms/step - loss: 7.7250 - accuracy: 0.7608 - val_loss: 203.6575 - val_accuracy: 0.4405\n",
      "Epoch 22/1000\n",
      "26/26 [==============================] - ETA: 0s - loss: 22.8562 - accuracy: 0.687 - ETA: 0s - loss: 8.2168 - accuracy: 0.767 - ETA: 0s - loss: 8.4025 - accuracy: 0.77 - ETA: 0s - loss: 10.2175 - accuracy: 0.772 - ETA: 0s - loss: 9.3397 - accuracy: 0.768 - 1s 35ms/step - loss: 9.3959 - accuracy: 0.7716 - val_loss: 176.9577 - val_accuracy: 0.4226\n",
      "Epoch 23/1000\n",
      "26/26 [==============================] - ETA: 0s - loss: 4.0499 - accuracy: 0.81 - ETA: 0s - loss: 8.4284 - accuracy: 0.79 - ETA: 0s - loss: 7.4012 - accuracy: 0.77 - ETA: 0s - loss: 7.2704 - accuracy: 0.77 - ETA: 0s - loss: 8.0440 - accuracy: 0.77 - ETA: 0s - loss: 8.8053 - accuracy: 0.77 - 1s 47ms/step - loss: 8.7191 - accuracy: 0.7764 - val_loss: 167.5492 - val_accuracy: 0.4345\n",
      "Epoch 24/1000\n",
      "26/26 [==============================] - ETA: 0s - loss: 3.0424 - accuracy: 0.62 - ETA: 0s - loss: 5.1818 - accuracy: 0.72 - ETA: 0s - loss: 4.5059 - accuracy: 0.74 - ETA: 0s - loss: 8.7046 - accuracy: 0.75 - ETA: 0s - loss: 8.0179 - accuracy: 0.74 - 1s 34ms/step - loss: 7.5357 - accuracy: 0.7536 - val_loss: 173.1301 - val_accuracy: 0.4167\n",
      "Epoch 25/1000\n",
      "26/26 [==============================] - ETA: 0s - loss: 2.7023 - accuracy: 0.68 - ETA: 0s - loss: 12.3960 - accuracy: 0.666 - ETA: 0s - loss: 16.5414 - accuracy: 0.716 - ETA: 0s - loss: 13.1773 - accuracy: 0.729 - ETA: 0s - loss: 12.1027 - accuracy: 0.742 - 1s 36ms/step - loss: 11.6657 - accuracy: 0.7416 - val_loss: 196.9822 - val_accuracy: 0.4464\n",
      "Epoch 26/1000\n",
      "26/26 [==============================] - ETA: 0s - loss: 4.5154 - accuracy: 0.68 - ETA: 0s - loss: 9.9045 - accuracy: 0.72 - ETA: 0s - loss: 20.2822 - accuracy: 0.744 - ETA: 0s - loss: 17.0421 - accuracy: 0.730 - ETA: 0s - loss: 13.3712 - accuracy: 0.747 - 1s 36ms/step - loss: 12.0204 - accuracy: 0.7416 - val_loss: 174.8630 - val_accuracy: 0.4048\n"
     ]
    },
    {
     "data": {
      "text/html": [
       "<span style=\"color:#4527A0\"><h1 style=\"font-size:18px\">Trial complete</h1></span>"
      ],
      "text/plain": [
       "<IPython.core.display.HTML object>"
      ]
     },
     "metadata": {},
     "output_type": "display_data"
    },
    {
     "data": {
      "text/html": [
       "<span style=\"color:#4527A0\"><h1 style=\"font-size:18px\">Trial summary</h1></span>"
      ],
      "text/plain": [
       "<IPython.core.display.HTML object>"
      ]
     },
     "metadata": {},
     "output_type": "display_data"
    },
    {
     "data": {
      "text/html": [
       "<span style=\"color:cyan\"> |-Trial ID: 8b7f86daef8111301456f092a979ff56</span>"
      ],
      "text/plain": [
       "<IPython.core.display.HTML object>"
      ]
     },
     "metadata": {},
     "output_type": "display_data"
    },
    {
     "data": {
      "text/html": [
       "<span style=\"color:cyan\"> |-Score: 0.5595238208770752</span>"
      ],
      "text/plain": [
       "<IPython.core.display.HTML object>"
      ]
     },
     "metadata": {},
     "output_type": "display_data"
    },
    {
     "data": {
      "text/html": [
       "<span style=\"color:cyan\"> |-Best step: 2</span>"
      ],
      "text/plain": [
       "<IPython.core.display.HTML object>"
      ]
     },
     "metadata": {},
     "output_type": "display_data"
    },
    {
     "data": {
      "text/html": [
       "<span style=\"color:#7E57C2\"><h2 style=\"font-size:16px\">Hyperparameters:</h2></span>"
      ],
      "text/plain": [
       "<IPython.core.display.HTML object>"
      ]
     },
     "metadata": {},
     "output_type": "display_data"
    },
    {
     "data": {
      "text/html": [
       "<span style=\"color:cyan\"> |-classification_head_1/dropout: 0</span>"
      ],
      "text/plain": [
       "<IPython.core.display.HTML object>"
      ]
     },
     "metadata": {},
     "output_type": "display_data"
    },
    {
     "data": {
      "text/html": [
       "<span style=\"color:blue\"> |-learning_rate: 0.001</span>"
      ],
      "text/plain": [
       "<IPython.core.display.HTML object>"
      ]
     },
     "metadata": {},
     "output_type": "display_data"
    },
    {
     "data": {
      "text/html": [
       "<span style=\"color:cyan\"> |-optimizer: adam</span>"
      ],
      "text/plain": [
       "<IPython.core.display.HTML object>"
      ]
     },
     "metadata": {},
     "output_type": "display_data"
    },
    {
     "data": {
      "text/html": [
       "<span style=\"color:blue\"> |-structured_data_block_1/dense_block_1/dropout: 0.25</span>"
      ],
      "text/plain": [
       "<IPython.core.display.HTML object>"
      ]
     },
     "metadata": {},
     "output_type": "display_data"
    },
    {
     "data": {
      "text/html": [
       "<span style=\"color:cyan\"> |-structured_data_block_1/dense_block_1/num_layers: 1</span>"
      ],
      "text/plain": [
       "<IPython.core.display.HTML object>"
      ]
     },
     "metadata": {},
     "output_type": "display_data"
    },
    {
     "data": {
      "text/html": [
       "<span style=\"color:blue\"> |-structured_data_block_1/dense_block_1/units_0: 256</span>"
      ],
      "text/plain": [
       "<IPython.core.display.HTML object>"
      ]
     },
     "metadata": {},
     "output_type": "display_data"
    },
    {
     "data": {
      "text/html": [
       "<span style=\"color:cyan\"> |-structured_data_block_1/dense_block_1/units_1: 512</span>"
      ],
      "text/plain": [
       "<IPython.core.display.HTML object>"
      ]
     },
     "metadata": {},
     "output_type": "display_data"
    },
    {
     "data": {
      "text/html": [
       "<span style=\"color:blue\"> |-structured_data_block_1/dense_block_1/units_2: 256</span>"
      ],
      "text/plain": [
       "<IPython.core.display.HTML object>"
      ]
     },
     "metadata": {},
     "output_type": "display_data"
    },
    {
     "data": {
      "text/html": [
       "<span style=\"color:cyan\"> |-structured_data_block_1/dense_block_1/use_batchnorm: False</span>"
      ],
      "text/plain": [
       "<IPython.core.display.HTML object>"
      ]
     },
     "metadata": {},
     "output_type": "display_data"
    },
    {
     "data": {
      "text/html": [
       "<span style=\"color:#4527A0\"><h1 style=\"font-size:18px\">Starting new trial</h1></span>"
      ],
      "text/plain": [
       "<IPython.core.display.HTML object>"
      ]
     },
     "metadata": {},
     "output_type": "display_data"
    },
    {
     "name": "stdout",
     "output_type": "stream",
     "text": [
      "Epoch 1/1000\n",
      "26/26 [==============================] - ETA: 0s - loss: 315.0247 - accuracy: 0.31 - ETA: 0s - loss: 367.5783 - accuracy: 0.25 - ETA: 0s - loss: 321.2728 - accuracy: 0.30 - ETA: 0s - loss: 275.1092 - accuracy: 0.29 - ETA: 0s - loss: 226.9533 - accuracy: 0.30 - ETA: 0s - loss: 184.3377 - accuracy: 0.30 - ETA: 0s - loss: 164.5269 - accuracy: 0.30 - 6s 230ms/step - loss: 164.5269 - accuracy: 0.3053 - val_loss: 18.9175 - val_accuracy: 0.3512\n",
      "Epoch 2/1000\n",
      "26/26 [==============================] - ETA: 0s - loss: 19.3406 - accuracy: 0.312 - ETA: 0s - loss: 19.2988 - accuracy: 0.287 - ETA: 0s - loss: 52.3196 - accuracy: 0.281 - ETA: 0s - loss: 46.0306 - accuracy: 0.259 - ETA: 0s - loss: 37.6896 - accuracy: 0.262 - ETA: 0s - loss: 31.0817 - accuracy: 0.275 - ETA: 0s - loss: 30.7343 - accuracy: 0.263 - 1s 40ms/step - loss: 29.6759 - accuracy: 0.2644 - val_loss: 2.8849 - val_accuracy: 0.2560\n",
      "Epoch 3/1000\n",
      "26/26 [==============================] - ETA: 0s - loss: 1.3519 - accuracy: 0.31 - ETA: 0s - loss: 2.0966 - accuracy: 0.27 - ETA: 0s - loss: 126.6292 - accuracy: 0.28 - ETA: 0s - loss: 88.0821 - accuracy: 0.2692 - ETA: 0s - loss: 71.8944 - accuracy: 0.273 - ETA: 0s - loss: 58.8380 - accuracy: 0.284 - ETA: 0s - loss: 49.9278 - accuracy: 0.278 - 1s 51ms/step - loss: 46.5067 - accuracy: 0.2740 - val_loss: 2.3746 - val_accuracy: 0.2560\n",
      "Epoch 4/1000\n",
      "26/26 [==============================] - ETA: 0s - loss: 1.3961 - accuracy: 0.28 - ETA: 0s - loss: 4.3289 - accuracy: 0.25 - ETA: 0s - loss: 4.2786 - accuracy: 0.26 - ETA: 0s - loss: 6.5126 - accuracy: 0.25 - ETA: 0s - loss: 5.5315 - accuracy: 0.24 - ETA: 0s - loss: 6.4887 - accuracy: 0.25 - ETA: 0s - loss: 5.6703 - accuracy: 0.25 - 1s 43ms/step - loss: 5.5056 - accuracy: 0.2548 - val_loss: 1.3841 - val_accuracy: 0.2500\n",
      "Epoch 5/1000\n",
      "26/26 [==============================] - ETA: 0s - loss: 1.3925 - accuracy: 0.25 - ETA: 0s - loss: 1.3685 - accuracy: 0.28 - ETA: 0s - loss: 80.4739 - accuracy: 0.281 - ETA: 0s - loss: 57.5537 - accuracy: 0.257 - ETA: 0s - loss: 44.3869 - accuracy: 0.244 - ETA: 0s - loss: 36.1941 - accuracy: 0.235 - ETA: 0s - loss: 33.7546 - accuracy: 0.228 - 1s 53ms/step - loss: 32.5262 - accuracy: 0.2296 - val_loss: 2.5368 - val_accuracy: 0.2619\n",
      "Epoch 6/1000\n",
      "26/26 [==============================] - ETA: 0s - loss: 1.3480 - accuracy: 0.28 - ETA: 0s - loss: 2.1841 - accuracy: 0.28 - ETA: 0s - loss: 9.7710 - accuracy: 0.30 - ETA: 0s - loss: 7.8793 - accuracy: 0.27 - ETA: 0s - loss: 6.4314 - accuracy: 0.26 - ETA: 0s - loss: 10.4526 - accuracy: 0.269 - ETA: 0s - loss: 9.2398 - accuracy: 0.263 - 1s 44ms/step - loss: 8.9377 - accuracy: 0.2620 - val_loss: 1.3849 - val_accuracy: 0.2440\n",
      "Epoch 7/1000\n",
      "26/26 [==============================] - ETA: 0s - loss: 1.3902 - accuracy: 0.31 - ETA: 0s - loss: 1.7192 - accuracy: 0.24 - ETA: 0s - loss: 1.6607 - accuracy: 0.25 - ETA: 0s - loss: 8.8013 - accuracy: 0.25 - ETA: 0s - loss: 7.0548 - accuracy: 0.24 - ETA: 0s - loss: 6.2729 - accuracy: 0.23 - ETA: 0s - loss: 12.8231 - accuracy: 0.237 - 1s 44ms/step - loss: 12.3831 - accuracy: 0.2392 - val_loss: 1.3850 - val_accuracy: 0.2440\n",
      "Epoch 8/1000\n",
      "26/26 [==============================] - ETA: 0s - loss: 1.3917 - accuracy: 0.31 - ETA: 0s - loss: 1.3751 - accuracy: 0.28 - ETA: 0s - loss: 1.3799 - accuracy: 0.28 - ETA: 0s - loss: 2.7336 - accuracy: 0.26 - ETA: 0s - loss: 3.1621 - accuracy: 0.27 - ETA: 0s - loss: 2.8052 - accuracy: 0.26 - 1s 42ms/step - loss: 2.7506 - accuracy: 0.2656 - val_loss: 1.3850 - val_accuracy: 0.2440\n",
      "Epoch 9/1000\n",
      "26/26 [==============================] - ETA: 0s - loss: 1.3899 - accuracy: 0.21 - ETA: 0s - loss: 1.3839 - accuracy: 0.27 - ETA: 0s - loss: 1.3789 - accuracy: 0.27 - ETA: 0s - loss: 1.9838 - accuracy: 0.26 - ETA: 0s - loss: 1.8431 - accuracy: 0.25 - ETA: 0s - loss: 1.8348 - accuracy: 0.25 - ETA: 0s - loss: 1.7611 - accuracy: 0.26 - 1s 43ms/step - loss: 1.7465 - accuracy: 0.2656 - val_loss: 1.3848 - val_accuracy: 0.2798\n",
      "Epoch 10/1000\n",
      "26/26 [==============================] - ETA: 0s - loss: 1.3927 - accuracy: 0.28 - ETA: 0s - loss: 1.3848 - accuracy: 0.29 - ETA: 0s - loss: 1.3769 - accuracy: 0.27 - ETA: 0s - loss: 1.3762 - accuracy: 0.28 - ETA: 0s - loss: 1.3767 - accuracy: 0.27 - ETA: 0s - loss: 1.3784 - accuracy: 0.26 - ETA: 0s - loss: 3.3848 - accuracy: 0.27 - 1s 43ms/step - loss: 3.3079 - accuracy: 0.2740 - val_loss: 1.3847 - val_accuracy: 0.2798\n",
      "Epoch 11/1000\n",
      "26/26 [==============================] - ETA: 0s - loss: 1.3925 - accuracy: 0.12 - ETA: 0s - loss: 1.3847 - accuracy: 0.26 - ETA: 0s - loss: 1.3784 - accuracy: 0.27 - ETA: 0s - loss: 1.3779 - accuracy: 0.27 - ETA: 0s - loss: 1.3807 - accuracy: 0.26 - ETA: 0s - loss: 1.3819 - accuracy: 0.26 - ETA: 0s - loss: 1.3825 - accuracy: 0.26 - 1s 54ms/step - loss: 1.3825 - accuracy: 0.2620 - val_loss: 1.3848 - val_accuracy: 0.2798\n",
      "Epoch 12/1000\n",
      "26/26 [==============================] - ETA: 0s - loss: 1.3922 - accuracy: 0.21 - ETA: 0s - loss: 1.3731 - accuracy: 0.32 - ETA: 0s - loss: 1.3795 - accuracy: 0.28 - ETA: 0s - loss: 1.3840 - accuracy: 0.28 - ETA: 0s - loss: 1.3845 - accuracy: 0.27 - ETA: 0s - loss: 1.3825 - accuracy: 0.27 - 1s 50ms/step - loss: 1.3819 - accuracy: 0.2728 - val_loss: 1.3847 - val_accuracy: 0.2798\n",
      "Epoch 13/1000\n",
      "26/26 [==============================] - ETA: 0s - loss: 1.3914 - accuracy: 0.18 - ETA: 0s - loss: 1.3824 - accuracy: 0.30 - ETA: 0s - loss: 1.3788 - accuracy: 0.29 - ETA: 0s - loss: 1.9148 - accuracy: 0.28 - ETA: 0s - loss: 1.7915 - accuracy: 0.27 - ETA: 0s - loss: 1.7120 - accuracy: 0.26 - ETA: 0s - loss: 1.6581 - accuracy: 0.27 - 1s 44ms/step - loss: 1.6476 - accuracy: 0.2680 - val_loss: 1.3846 - val_accuracy: 0.2798\n",
      "Epoch 14/1000\n",
      "26/26 [==============================] - ETA: 0s - loss: 1.3914 - accuracy: 0.18 - ETA: 0s - loss: 1.3830 - accuracy: 0.28 - ETA: 0s - loss: 1.4026 - accuracy: 0.27 - ETA: 0s - loss: 1.3924 - accuracy: 0.27 - ETA: 0s - loss: 1.3920 - accuracy: 0.26 - ETA: 0s - loss: 1.3913 - accuracy: 0.25 - ETA: 0s - loss: 1.3900 - accuracy: 0.26 - 1s 45ms/step - loss: 1.3899 - accuracy: 0.2632 - val_loss: 1.3846 - val_accuracy: 0.2798\n"
     ]
    },
    {
     "data": {
      "text/html": [
       "<span style=\"color:#4527A0\"><h1 style=\"font-size:18px\">Trial complete</h1></span>"
      ],
      "text/plain": [
       "<IPython.core.display.HTML object>"
      ]
     },
     "metadata": {},
     "output_type": "display_data"
    },
    {
     "data": {
      "text/html": [
       "<span style=\"color:#4527A0\"><h1 style=\"font-size:18px\">Trial summary</h1></span>"
      ],
      "text/plain": [
       "<IPython.core.display.HTML object>"
      ]
     },
     "metadata": {},
     "output_type": "display_data"
    },
    {
     "data": {
      "text/html": [
       "<span style=\"color:cyan\"> |-Trial ID: caf7bda1d4b805683c6e5621f0d57440</span>"
      ],
      "text/plain": [
       "<IPython.core.display.HTML object>"
      ]
     },
     "metadata": {},
     "output_type": "display_data"
    },
    {
     "data": {
      "text/html": [
       "<span style=\"color:cyan\"> |-Score: 0.3511904776096344</span>"
      ],
      "text/plain": [
       "<IPython.core.display.HTML object>"
      ]
     },
     "metadata": {},
     "output_type": "display_data"
    },
    {
     "data": {
      "text/html": [
       "<span style=\"color:cyan\"> |-Best step: 0</span>"
      ],
      "text/plain": [
       "<IPython.core.display.HTML object>"
      ]
     },
     "metadata": {},
     "output_type": "display_data"
    },
    {
     "data": {
      "text/html": [
       "<span style=\"color:#7E57C2\"><h2 style=\"font-size:16px\">Hyperparameters:</h2></span>"
      ],
      "text/plain": [
       "<IPython.core.display.HTML object>"
      ]
     },
     "metadata": {},
     "output_type": "display_data"
    },
    {
     "data": {
      "text/html": [
       "<span style=\"color:cyan\"> |-classification_head_1/dropout: 0</span>"
      ],
      "text/plain": [
       "<IPython.core.display.HTML object>"
      ]
     },
     "metadata": {},
     "output_type": "display_data"
    },
    {
     "data": {
      "text/html": [
       "<span style=\"color:blue\"> |-learning_rate: 0.001</span>"
      ],
      "text/plain": [
       "<IPython.core.display.HTML object>"
      ]
     },
     "metadata": {},
     "output_type": "display_data"
    },
    {
     "data": {
      "text/html": [
       "<span style=\"color:cyan\"> |-optimizer: adam</span>"
      ],
      "text/plain": [
       "<IPython.core.display.HTML object>"
      ]
     },
     "metadata": {},
     "output_type": "display_data"
    },
    {
     "data": {
      "text/html": [
       "<span style=\"color:blue\"> |-structured_data_block_1/dense_block_1/dropout: 0.5</span>"
      ],
      "text/plain": [
       "<IPython.core.display.HTML object>"
      ]
     },
     "metadata": {},
     "output_type": "display_data"
    },
    {
     "data": {
      "text/html": [
       "<span style=\"color:cyan\"> |-structured_data_block_1/dense_block_1/num_layers: 3</span>"
      ],
      "text/plain": [
       "<IPython.core.display.HTML object>"
      ]
     },
     "metadata": {},
     "output_type": "display_data"
    },
    {
     "data": {
      "text/html": [
       "<span style=\"color:blue\"> |-structured_data_block_1/dense_block_1/units_0: 16</span>"
      ],
      "text/plain": [
       "<IPython.core.display.HTML object>"
      ]
     },
     "metadata": {},
     "output_type": "display_data"
    },
    {
     "data": {
      "text/html": [
       "<span style=\"color:cyan\"> |-structured_data_block_1/dense_block_1/units_1: 512</span>"
      ],
      "text/plain": [
       "<IPython.core.display.HTML object>"
      ]
     },
     "metadata": {},
     "output_type": "display_data"
    },
    {
     "data": {
      "text/html": [
       "<span style=\"color:blue\"> |-structured_data_block_1/dense_block_1/units_2: 512</span>"
      ],
      "text/plain": [
       "<IPython.core.display.HTML object>"
      ]
     },
     "metadata": {},
     "output_type": "display_data"
    },
    {
     "data": {
      "text/html": [
       "<span style=\"color:cyan\"> |-structured_data_block_1/dense_block_1/use_batchnorm: False</span>"
      ],
      "text/plain": [
       "<IPython.core.display.HTML object>"
      ]
     },
     "metadata": {},
     "output_type": "display_data"
    },
    {
     "data": {
      "text/html": [
       "<span style=\"color:#4527A0\"><h1 style=\"font-size:18px\">Starting new trial</h1></span>"
      ],
      "text/plain": [
       "<IPython.core.display.HTML object>"
      ]
     },
     "metadata": {},
     "output_type": "display_data"
    },
    {
     "name": "stdout",
     "output_type": "stream",
     "text": [
      "Epoch 1/1000\n",
      "26/26 [==============================] - ETA: 0s - loss: 1.5282 - accuracy: 0.31 - ETA: 0s - loss: 1.7519 - accuracy: 0.30 - ETA: 0s - loss: 1.7440 - accuracy: 0.26 - ETA: 0s - loss: 1.7331 - accuracy: 0.26 - ETA: 0s - loss: 1.7349 - accuracy: 0.26 - 6s 224ms/step - loss: 1.7265 - accuracy: 0.2632 - val_loss: 1.8266 - val_accuracy: 0.2262\n",
      "Epoch 2/1000\n",
      "26/26 [==============================] - ETA: 0s - loss: 1.3037 - accuracy: 0.34 - ETA: 0s - loss: 1.7055 - accuracy: 0.28 - ETA: 0s - loss: 1.7352 - accuracy: 0.28 - ETA: 0s - loss: 1.7687 - accuracy: 0.25 - ETA: 0s - loss: 1.7279 - accuracy: 0.26 - ETA: 0s - loss: 1.7379 - accuracy: 0.25 - 1s 39ms/step - loss: 1.7379 - accuracy: 0.2596 - val_loss: 1.5890 - val_accuracy: 0.2083\n",
      "Epoch 3/1000\n",
      "26/26 [==============================] - ETA: 0s - loss: 1.4485 - accuracy: 0.25 - ETA: 0s - loss: 1.6667 - accuracy: 0.24 - ETA: 0s - loss: 1.7253 - accuracy: 0.23 - ETA: 0s - loss: 1.7521 - accuracy: 0.23 - ETA: 0s - loss: 1.7166 - accuracy: 0.25 - 1s 43ms/step - loss: 1.7154 - accuracy: 0.2548 - val_loss: 1.5151 - val_accuracy: 0.2083\n",
      "Epoch 4/1000\n",
      "26/26 [==============================] - ETA: 0s - loss: 1.3054 - accuracy: 0.34 - ETA: 0s - loss: 1.6896 - accuracy: 0.28 - ETA: 0s - loss: 1.7176 - accuracy: 0.26 - ETA: 0s - loss: 1.7671 - accuracy: 0.26 - ETA: 0s - loss: 1.7624 - accuracy: 0.27 - 1s 47ms/step - loss: 1.7483 - accuracy: 0.2776 - val_loss: 1.4834 - val_accuracy: 0.2143\n",
      "Epoch 5/1000\n",
      "26/26 [==============================] - ETA: 0s - loss: 1.2578 - accuracy: 0.31 - ETA: 0s - loss: 1.6485 - accuracy: 0.31 - ETA: 0s - loss: 1.6878 - accuracy: 0.28 - ETA: 0s - loss: 1.7057 - accuracy: 0.28 - ETA: 0s - loss: 1.7004 - accuracy: 0.28 - 2s 59ms/step - loss: 1.7122 - accuracy: 0.2861 - val_loss: 1.4661 - val_accuracy: 0.2560\n",
      "Epoch 6/1000\n",
      "26/26 [==============================] - ETA: 0s - loss: 1.4956 - accuracy: 0.43 - ETA: 0s - loss: 1.6266 - accuracy: 0.32 - ETA: 0s - loss: 1.6987 - accuracy: 0.28 - ETA: 0s - loss: 1.7028 - accuracy: 0.26 - ETA: 0s - loss: 1.7153 - accuracy: 0.26 - 1s 49ms/step - loss: 1.7162 - accuracy: 0.2680 - val_loss: 1.4606 - val_accuracy: 0.2917\n",
      "Epoch 7/1000\n",
      "26/26 [==============================] - ETA: 0s - loss: 1.5775 - accuracy: 0.31 - ETA: 0s - loss: 1.8528 - accuracy: 0.22 - ETA: 0s - loss: 1.7870 - accuracy: 0.24 - ETA: 0s - loss: 1.7899 - accuracy: 0.22 - ETA: 0s - loss: 1.7403 - accuracy: 0.24 - 1s 41ms/step - loss: 1.7190 - accuracy: 0.2560 - val_loss: 1.4615 - val_accuracy: 0.2976\n",
      "Epoch 8/1000\n",
      "26/26 [==============================] - ETA: 0s - loss: 1.4184 - accuracy: 0.31 - ETA: 0s - loss: 1.6978 - accuracy: 0.28 - ETA: 0s - loss: 1.7531 - accuracy: 0.25 - ETA: 0s - loss: 1.7129 - accuracy: 0.27 - ETA: 0s - loss: 1.7059 - accuracy: 0.26 - 1s 39ms/step - loss: 1.7051 - accuracy: 0.2596 - val_loss: 1.4643 - val_accuracy: 0.3155\n",
      "Epoch 9/1000\n",
      "26/26 [==============================] - ETA: 0s - loss: 1.2811 - accuracy: 0.43 - ETA: 0s - loss: 1.5460 - accuracy: 0.32 - ETA: 0s - loss: 1.6560 - accuracy: 0.26 - ETA: 0s - loss: 1.6917 - accuracy: 0.26 - ETA: 0s - loss: 1.7156 - accuracy: 0.26 - 1s 48ms/step - loss: 1.7034 - accuracy: 0.2596 - val_loss: 1.4666 - val_accuracy: 0.3155\n",
      "Epoch 10/1000\n",
      "26/26 [==============================] - ETA: 0s - loss: 1.4251 - accuracy: 0.37 - ETA: 0s - loss: 1.6426 - accuracy: 0.34 - ETA: 0s - loss: 1.6889 - accuracy: 0.31 - ETA: 0s - loss: 1.7152 - accuracy: 0.29 - ETA: 0s - loss: 1.6895 - accuracy: 0.30 - 2s 58ms/step - loss: 1.6890 - accuracy: 0.2897 - val_loss: 1.4704 - val_accuracy: 0.3095\n",
      "Epoch 11/1000\n",
      "26/26 [==============================] - ETA: 0s - loss: 1.4488 - accuracy: 0.31 - ETA: 0s - loss: 1.6768 - accuracy: 0.25 - ETA: 0s - loss: 1.7407 - accuracy: 0.23 - ETA: 0s - loss: 1.7539 - accuracy: 0.24 - ETA: 0s - loss: 1.7263 - accuracy: 0.26 - 1s 54ms/step - loss: 1.7243 - accuracy: 0.2560 - val_loss: 1.4721 - val_accuracy: 0.3095\n",
      "Epoch 12/1000\n",
      "26/26 [==============================] - ETA: 0s - loss: 1.5145 - accuracy: 0.34 - ETA: 0s - loss: 1.6346 - accuracy: 0.29 - ETA: 0s - loss: 1.6627 - accuracy: 0.27 - ETA: 0s - loss: 1.6756 - accuracy: 0.26 - ETA: 0s - loss: 1.6959 - accuracy: 0.26 - 1s 45ms/step - loss: 1.6893 - accuracy: 0.2632 - val_loss: 1.4710 - val_accuracy: 0.3036\n",
      "Epoch 13/1000\n",
      "26/26 [==============================] - ETA: 0s - loss: 1.3286 - accuracy: 0.37 - ETA: 0s - loss: 1.6814 - accuracy: 0.29 - ETA: 0s - loss: 1.7360 - accuracy: 0.26 - ETA: 0s - loss: 1.7429 - accuracy: 0.25 - ETA: 0s - loss: 1.7012 - accuracy: 0.25 - ETA: 0s - loss: 1.6982 - accuracy: 0.25 - 1s 46ms/step - loss: 1.6982 - accuracy: 0.2536 - val_loss: 1.4705 - val_accuracy: 0.3214\n",
      "Epoch 14/1000\n",
      "26/26 [==============================] - ETA: 0s - loss: 1.3210 - accuracy: 0.43 - ETA: 0s - loss: 1.7432 - accuracy: 0.29 - ETA: 0s - loss: 1.7750 - accuracy: 0.26 - ETA: 0s - loss: 1.7825 - accuracy: 0.26 - ETA: 0s - loss: 1.7635 - accuracy: 0.25 - 1s 50ms/step - loss: 1.7215 - accuracy: 0.2596 - val_loss: 1.4697 - val_accuracy: 0.3274\n",
      "Epoch 15/1000\n",
      "26/26 [==============================] - ETA: 0s - loss: 1.4416 - accuracy: 0.40 - ETA: 0s - loss: 1.6301 - accuracy: 0.28 - ETA: 0s - loss: 1.7479 - accuracy: 0.24 - ETA: 0s - loss: 1.7558 - accuracy: 0.23 - ETA: 0s - loss: 1.7482 - accuracy: 0.25 - 1s 47ms/step - loss: 1.7168 - accuracy: 0.2632 - val_loss: 1.4704 - val_accuracy: 0.3155\n",
      "Epoch 16/1000\n",
      "26/26 [==============================] - ETA: 0s - loss: 1.4763 - accuracy: 0.31 - ETA: 0s - loss: 1.5964 - accuracy: 0.31 - ETA: 0s - loss: 1.6467 - accuracy: 0.29 - ETA: 0s - loss: 1.6301 - accuracy: 0.27 - ETA: 0s - loss: 1.6170 - accuracy: 0.27 - ETA: 0s - loss: 1.6282 - accuracy: 0.27 - 2s 60ms/step - loss: 1.6288 - accuracy: 0.2752 - val_loss: 1.4675 - val_accuracy: 0.3333\n"
     ]
    },
    {
     "data": {
      "text/html": [
       "<span style=\"color:#4527A0\"><h1 style=\"font-size:18px\">Trial complete</h1></span>"
      ],
      "text/plain": [
       "<IPython.core.display.HTML object>"
      ]
     },
     "metadata": {},
     "output_type": "display_data"
    },
    {
     "data": {
      "text/html": [
       "<span style=\"color:#4527A0\"><h1 style=\"font-size:18px\">Trial summary</h1></span>"
      ],
      "text/plain": [
       "<IPython.core.display.HTML object>"
      ]
     },
     "metadata": {},
     "output_type": "display_data"
    },
    {
     "data": {
      "text/html": [
       "<span style=\"color:cyan\"> |-Trial ID: eb5dae9830e8f0986bb8de1eb8a8ff2e</span>"
      ],
      "text/plain": [
       "<IPython.core.display.HTML object>"
      ]
     },
     "metadata": {},
     "output_type": "display_data"
    },
    {
     "data": {
      "text/html": [
       "<span style=\"color:cyan\"> |-Score: 0.3333333432674408</span>"
      ],
      "text/plain": [
       "<IPython.core.display.HTML object>"
      ]
     },
     "metadata": {},
     "output_type": "display_data"
    },
    {
     "data": {
      "text/html": [
       "<span style=\"color:cyan\"> |-Best step: 15</span>"
      ],
      "text/plain": [
       "<IPython.core.display.HTML object>"
      ]
     },
     "metadata": {},
     "output_type": "display_data"
    },
    {
     "data": {
      "text/html": [
       "<span style=\"color:#7E57C2\"><h2 style=\"font-size:16px\">Hyperparameters:</h2></span>"
      ],
      "text/plain": [
       "<IPython.core.display.HTML object>"
      ]
     },
     "metadata": {},
     "output_type": "display_data"
    },
    {
     "data": {
      "text/html": [
       "<span style=\"color:cyan\"> |-classification_head_1/dropout: 0</span>"
      ],
      "text/plain": [
       "<IPython.core.display.HTML object>"
      ]
     },
     "metadata": {},
     "output_type": "display_data"
    },
    {
     "data": {
      "text/html": [
       "<span style=\"color:blue\"> |-learning_rate: 1e-05</span>"
      ],
      "text/plain": [
       "<IPython.core.display.HTML object>"
      ]
     },
     "metadata": {},
     "output_type": "display_data"
    },
    {
     "data": {
      "text/html": [
       "<span style=\"color:cyan\"> |-optimizer: adam</span>"
      ],
      "text/plain": [
       "<IPython.core.display.HTML object>"
      ]
     },
     "metadata": {},
     "output_type": "display_data"
    },
    {
     "data": {
      "text/html": [
       "<span style=\"color:blue\"> |-structured_data_block_1/dense_block_1/dropout: 0.25</span>"
      ],
      "text/plain": [
       "<IPython.core.display.HTML object>"
      ]
     },
     "metadata": {},
     "output_type": "display_data"
    },
    {
     "data": {
      "text/html": [
       "<span style=\"color:cyan\"> |-structured_data_block_1/dense_block_1/num_layers: 3</span>"
      ],
      "text/plain": [
       "<IPython.core.display.HTML object>"
      ]
     },
     "metadata": {},
     "output_type": "display_data"
    },
    {
     "data": {
      "text/html": [
       "<span style=\"color:blue\"> |-structured_data_block_1/dense_block_1/units_0: 64</span>"
      ],
      "text/plain": [
       "<IPython.core.display.HTML object>"
      ]
     },
     "metadata": {},
     "output_type": "display_data"
    },
    {
     "data": {
      "text/html": [
       "<span style=\"color:cyan\"> |-structured_data_block_1/dense_block_1/units_1: 16</span>"
      ],
      "text/plain": [
       "<IPython.core.display.HTML object>"
      ]
     },
     "metadata": {},
     "output_type": "display_data"
    },
    {
     "data": {
      "text/html": [
       "<span style=\"color:blue\"> |-structured_data_block_1/dense_block_1/units_2: 64</span>"
      ],
      "text/plain": [
       "<IPython.core.display.HTML object>"
      ]
     },
     "metadata": {},
     "output_type": "display_data"
    },
    {
     "data": {
      "text/html": [
       "<span style=\"color:cyan\"> |-structured_data_block_1/dense_block_1/use_batchnorm: True</span>"
      ],
      "text/plain": [
       "<IPython.core.display.HTML object>"
      ]
     },
     "metadata": {},
     "output_type": "display_data"
    },
    {
     "data": {
      "text/html": [
       "<span style=\"color:#4527A0\"><h1 style=\"font-size:18px\">Starting new trial</h1></span>"
      ],
      "text/plain": [
       "<IPython.core.display.HTML object>"
      ]
     },
     "metadata": {},
     "output_type": "display_data"
    },
    {
     "name": "stdout",
     "output_type": "stream",
     "text": [
      "Epoch 1/1000\n",
      "26/26 [==============================] - ETA: 0s - loss: 2.0468 - accuracy: 0.06 - ETA: 0s - loss: 1.6461 - accuracy: 0.25 - ETA: 0s - loss: 1.4634 - accuracy: 0.34 - ETA: 0s - loss: 1.3937 - accuracy: 0.37 - ETA: 0s - loss: 1.3745 - accuracy: 0.39 - ETA: 0s - loss: 1.3478 - accuracy: 0.40 - ETA: 0s - loss: 1.3301 - accuracy: 0.41 - ETA: 0s - loss: 1.3142 - accuracy: 0.41 - ETA: 0s - loss: 1.2971 - accuracy: 0.42 - 6s 246ms/step - loss: 1.2799 - accuracy: 0.4327 - val_loss: 2.0078 - val_accuracy: 0.3750\n",
      "Epoch 2/1000\n",
      "26/26 [==============================] - ETA: 0s - loss: 0.8296 - accuracy: 0.68 - ETA: 0s - loss: 0.9478 - accuracy: 0.59 - ETA: 0s - loss: 0.9411 - accuracy: 0.61 - ETA: 0s - loss: 0.8950 - accuracy: 0.65 - ETA: 0s - loss: 0.8864 - accuracy: 0.65 - ETA: 0s - loss: 0.8807 - accuracy: 0.65 - ETA: 0s - loss: 0.8877 - accuracy: 0.65 - ETA: 0s - loss: 0.8965 - accuracy: 0.65 - ETA: 0s - loss: 0.8842 - accuracy: 0.66 - 1s 54ms/step - loss: 0.8842 - accuracy: 0.6635 - val_loss: 1.2869 - val_accuracy: 0.4464\n",
      "Epoch 3/1000\n",
      "26/26 [==============================] - ETA: 0s - loss: 0.7444 - accuracy: 0.71 - ETA: 0s - loss: 0.7825 - accuracy: 0.71 - ETA: 0s - loss: 0.7636 - accuracy: 0.72 - ETA: 0s - loss: 0.7146 - accuracy: 0.75 - ETA: 0s - loss: 0.6991 - accuracy: 0.75 - ETA: 0s - loss: 0.6996 - accuracy: 0.75 - ETA: 0s - loss: 0.7018 - accuracy: 0.75 - ETA: 0s - loss: 0.7122 - accuracy: 0.74 - ETA: 0s - loss: 0.7065 - accuracy: 0.75 - 1s 52ms/step - loss: 0.6962 - accuracy: 0.7596 - val_loss: 1.1469 - val_accuracy: 0.4821\n",
      "Epoch 4/1000\n",
      "26/26 [==============================] - ETA: 0s - loss: 0.6466 - accuracy: 0.71 - ETA: 0s - loss: 0.6442 - accuracy: 0.76 - ETA: 0s - loss: 0.6288 - accuracy: 0.78 - ETA: 0s - loss: 0.5775 - accuracy: 0.81 - ETA: 0s - loss: 0.5608 - accuracy: 0.81 - ETA: 0s - loss: 0.5595 - accuracy: 0.82 - ETA: 0s - loss: 0.5612 - accuracy: 0.82 - ETA: 0s - loss: 0.5671 - accuracy: 0.82 - ETA: 0s - loss: 0.5596 - accuracy: 0.82 - 1s 51ms/step - loss: 0.5491 - accuracy: 0.8293 - val_loss: 1.1518 - val_accuracy: 0.4524\n",
      "Epoch 5/1000\n",
      "26/26 [==============================] - ETA: 0s - loss: 0.5027 - accuracy: 0.75 - ETA: 0s - loss: 0.5091 - accuracy: 0.83 - ETA: 0s - loss: 0.5085 - accuracy: 0.83 - ETA: 0s - loss: 0.4536 - accuracy: 0.86 - ETA: 0s - loss: 0.4390 - accuracy: 0.87 - ETA: 0s - loss: 0.4398 - accuracy: 0.87 - ETA: 0s - loss: 0.4379 - accuracy: 0.88 - ETA: 0s - loss: 0.4374 - accuracy: 0.88 - ETA: 0s - loss: 0.4302 - accuracy: 0.88 - 2s 61ms/step - loss: 0.4213 - accuracy: 0.8918 - val_loss: 1.1405 - val_accuracy: 0.5119\n",
      "Epoch 6/1000\n",
      "26/26 [==============================] - ETA: 0s - loss: 0.3741 - accuracy: 0.90 - ETA: 0s - loss: 0.3838 - accuracy: 0.90 - ETA: 0s - loss: 0.4013 - accuracy: 0.90 - ETA: 0s - loss: 0.3476 - accuracy: 0.92 - ETA: 0s - loss: 0.3496 - accuracy: 0.92 - ETA: 0s - loss: 0.3545 - accuracy: 0.91 - ETA: 0s - loss: 0.3565 - accuracy: 0.92 - ETA: 0s - loss: 0.3545 - accuracy: 0.93 - 1s 51ms/step - loss: 0.3387 - accuracy: 0.9375 - val_loss: 1.1757 - val_accuracy: 0.5179\n",
      "Epoch 7/1000\n",
      "26/26 [==============================] - ETA: 0s - loss: 0.3077 - accuracy: 0.93 - ETA: 0s - loss: 0.3296 - accuracy: 0.92 - ETA: 0s - loss: 0.3576 - accuracy: 0.92 - ETA: 0s - loss: 0.3112 - accuracy: 0.94 - ETA: 0s - loss: 0.3094 - accuracy: 0.93 - ETA: 0s - loss: 0.3249 - accuracy: 0.92 - ETA: 0s - loss: 0.3342 - accuracy: 0.92 - ETA: 0s - loss: 0.3400 - accuracy: 0.91 - ETA: 0s - loss: 0.3479 - accuracy: 0.91 - 1s 56ms/step - loss: 0.3394 - accuracy: 0.9183 - val_loss: 1.1590 - val_accuracy: 0.5298\n",
      "Epoch 8/1000\n",
      "26/26 [==============================] - ETA: 0s - loss: 0.3019 - accuracy: 0.93 - ETA: 0s - loss: 0.3352 - accuracy: 0.89 - ETA: 0s - loss: 0.3594 - accuracy: 0.90 - ETA: 0s - loss: 0.3299 - accuracy: 0.91 - ETA: 0s - loss: 0.3289 - accuracy: 0.90 - ETA: 0s - loss: 0.3283 - accuracy: 0.91 - ETA: 0s - loss: 0.3310 - accuracy: 0.91 - ETA: 0s - loss: 0.3257 - accuracy: 0.91 - ETA: 0s - loss: 0.3159 - accuracy: 0.92 - 2s 58ms/step - loss: 0.3082 - accuracy: 0.9267 - val_loss: 1.2116 - val_accuracy: 0.4821\n",
      "Epoch 9/1000\n",
      "26/26 [==============================] - ETA: 0s - loss: 0.2525 - accuracy: 0.96 - ETA: 0s - loss: 0.3094 - accuracy: 0.91 - ETA: 0s - loss: 0.3269 - accuracy: 0.92 - ETA: 0s - loss: 0.2786 - accuracy: 0.94 - ETA: 0s - loss: 0.2797 - accuracy: 0.93 - ETA: 0s - loss: 0.2784 - accuracy: 0.93 - ETA: 0s - loss: 0.2747 - accuracy: 0.93 - ETA: 0s - loss: 0.2713 - accuracy: 0.93 - 2s 63ms/step - loss: 0.2561 - accuracy: 0.9459 - val_loss: 1.2969 - val_accuracy: 0.4881\n",
      "Epoch 10/1000\n",
      "26/26 [==============================] - ETA: 0s - loss: 0.1777 - accuracy: 1.00 - ETA: 0s - loss: 0.2057 - accuracy: 0.99 - ETA: 0s - loss: 0.2402 - accuracy: 0.97 - ETA: 0s - loss: 0.2181 - accuracy: 0.97 - ETA: 0s - loss: 0.2161 - accuracy: 0.96 - ETA: 0s - loss: 0.2154 - accuracy: 0.96 - ETA: 0s - loss: 0.2167 - accuracy: 0.95 - ETA: 0s - loss: 0.2227 - accuracy: 0.95 - ETA: 0s - loss: 0.2174 - accuracy: 0.95 - 2s 64ms/step - loss: 0.2125 - accuracy: 0.9579 - val_loss: 1.3096 - val_accuracy: 0.5000\n",
      "Epoch 11/1000\n",
      "26/26 [==============================] - ETA: 0s - loss: 0.2406 - accuracy: 0.96 - ETA: 0s - loss: 0.2013 - accuracy: 0.97 - ETA: 0s - loss: 0.2164 - accuracy: 0.96 - ETA: 0s - loss: 0.1933 - accuracy: 0.96 - ETA: 0s - loss: 0.1906 - accuracy: 0.96 - ETA: 0s - loss: 0.1895 - accuracy: 0.96 - ETA: 0s - loss: 0.1903 - accuracy: 0.96 - 2s 74ms/step - loss: 0.1854 - accuracy: 0.9615 - val_loss: 1.3641 - val_accuracy: 0.5000\n",
      "Epoch 12/1000\n",
      "26/26 [==============================] - ETA: 0s - loss: 0.1861 - accuracy: 0.93 - ETA: 0s - loss: 0.2019 - accuracy: 0.95 - ETA: 0s - loss: 0.1962 - accuracy: 0.96 - ETA: 0s - loss: 0.1796 - accuracy: 0.96 - ETA: 0s - loss: 0.1802 - accuracy: 0.95 - ETA: 0s - loss: 0.1734 - accuracy: 0.96 - ETA: 0s - loss: 0.1712 - accuracy: 0.96 - ETA: 0s - loss: 0.1670 - accuracy: 0.96 - ETA: 0s - loss: 0.1631 - accuracy: 0.96 - 2s 61ms/step - loss: 0.1631 - accuracy: 0.9651 - val_loss: 1.4989 - val_accuracy: 0.4524\n",
      "Epoch 13/1000\n",
      "26/26 [==============================] - ETA: 0s - loss: 0.1382 - accuracy: 1.00 - ETA: 0s - loss: 0.1663 - accuracy: 0.97 - ETA: 0s - loss: 0.1634 - accuracy: 0.97 - ETA: 0s - loss: 0.1372 - accuracy: 0.98 - ETA: 0s - loss: 0.1474 - accuracy: 0.97 - ETA: 0s - loss: 0.1497 - accuracy: 0.97 - ETA: 0s - loss: 0.1493 - accuracy: 0.97 - ETA: 0s - loss: 0.1504 - accuracy: 0.96 - ETA: 0s - loss: 0.1483 - accuracy: 0.96 - 2s 60ms/step - loss: 0.1454 - accuracy: 0.9675 - val_loss: 1.7526 - val_accuracy: 0.4405\n",
      "Epoch 14/1000\n",
      "26/26 [==============================] - ETA: 0s - loss: 0.1251 - accuracy: 1.00 - ETA: 0s - loss: 0.1644 - accuracy: 0.96 - ETA: 0s - loss: 0.1935 - accuracy: 0.96 - ETA: 0s - loss: 0.1621 - accuracy: 0.97 - ETA: 0s - loss: 0.1555 - accuracy: 0.97 - ETA: 0s - loss: 0.1518 - accuracy: 0.97 - ETA: 0s - loss: 0.1571 - accuracy: 0.96 - ETA: 0s - loss: 0.1641 - accuracy: 0.96 - ETA: 0s - loss: 0.1559 - accuracy: 0.96 - 2s 65ms/step - loss: 0.1559 - accuracy: 0.9688 - val_loss: 1.4351 - val_accuracy: 0.5000\n",
      "Epoch 15/1000\n",
      "26/26 [==============================] - ETA: 0s - loss: 0.1263 - accuracy: 1.00 - ETA: 0s - loss: 0.1828 - accuracy: 0.95 - ETA: 0s - loss: 0.1874 - accuracy: 0.97 - ETA: 0s - loss: 0.1585 - accuracy: 0.97 - ETA: 0s - loss: 0.1585 - accuracy: 0.97 - ETA: 0s - loss: 0.1576 - accuracy: 0.97 - ETA: 0s - loss: 0.1560 - accuracy: 0.97 - ETA: 0s - loss: 0.1635 - accuracy: 0.97 - ETA: 0s - loss: 0.1596 - accuracy: 0.97 - 2s 65ms/step - loss: 0.1553 - accuracy: 0.9712 - val_loss: 1.3953 - val_accuracy: 0.4702\n"
     ]
    },
    {
     "data": {
      "text/html": [
       "<span style=\"color:#4527A0\"><h1 style=\"font-size:18px\">Trial complete</h1></span>"
      ],
      "text/plain": [
       "<IPython.core.display.HTML object>"
      ]
     },
     "metadata": {},
     "output_type": "display_data"
    },
    {
     "data": {
      "text/html": [
       "<span style=\"color:#4527A0\"><h1 style=\"font-size:18px\">Trial summary</h1></span>"
      ],
      "text/plain": [
       "<IPython.core.display.HTML object>"
      ]
     },
     "metadata": {},
     "output_type": "display_data"
    },
    {
     "data": {
      "text/html": [
       "<span style=\"color:cyan\"> |-Trial ID: d7c97d7efebfb97d502dda806266746f</span>"
      ],
      "text/plain": [
       "<IPython.core.display.HTML object>"
      ]
     },
     "metadata": {},
     "output_type": "display_data"
    },
    {
     "data": {
      "text/html": [
       "<span style=\"color:cyan\"> |-Score: 0.5297619104385376</span>"
      ],
      "text/plain": [
       "<IPython.core.display.HTML object>"
      ]
     },
     "metadata": {},
     "output_type": "display_data"
    },
    {
     "data": {
      "text/html": [
       "<span style=\"color:cyan\"> |-Best step: 6</span>"
      ],
      "text/plain": [
       "<IPython.core.display.HTML object>"
      ]
     },
     "metadata": {},
     "output_type": "display_data"
    },
    {
     "data": {
      "text/html": [
       "<span style=\"color:#7E57C2\"><h2 style=\"font-size:16px\">Hyperparameters:</h2></span>"
      ],
      "text/plain": [
       "<IPython.core.display.HTML object>"
      ]
     },
     "metadata": {},
     "output_type": "display_data"
    },
    {
     "data": {
      "text/html": [
       "<span style=\"color:cyan\"> |-classification_head_1/dropout: 0</span>"
      ],
      "text/plain": [
       "<IPython.core.display.HTML object>"
      ]
     },
     "metadata": {},
     "output_type": "display_data"
    },
    {
     "data": {
      "text/html": [
       "<span style=\"color:blue\"> |-learning_rate: 0.001</span>"
      ],
      "text/plain": [
       "<IPython.core.display.HTML object>"
      ]
     },
     "metadata": {},
     "output_type": "display_data"
    },
    {
     "data": {
      "text/html": [
       "<span style=\"color:cyan\"> |-optimizer: adam</span>"
      ],
      "text/plain": [
       "<IPython.core.display.HTML object>"
      ]
     },
     "metadata": {},
     "output_type": "display_data"
    },
    {
     "data": {
      "text/html": [
       "<span style=\"color:blue\"> |-structured_data_block_1/dense_block_1/dropout: 0.0</span>"
      ],
      "text/plain": [
       "<IPython.core.display.HTML object>"
      ]
     },
     "metadata": {},
     "output_type": "display_data"
    },
    {
     "data": {
      "text/html": [
       "<span style=\"color:cyan\"> |-structured_data_block_1/dense_block_1/num_layers: 2</span>"
      ],
      "text/plain": [
       "<IPython.core.display.HTML object>"
      ]
     },
     "metadata": {},
     "output_type": "display_data"
    },
    {
     "data": {
      "text/html": [
       "<span style=\"color:blue\"> |-structured_data_block_1/dense_block_1/units_0: 1024</span>"
      ],
      "text/plain": [
       "<IPython.core.display.HTML object>"
      ]
     },
     "metadata": {},
     "output_type": "display_data"
    },
    {
     "data": {
      "text/html": [
       "<span style=\"color:cyan\"> |-structured_data_block_1/dense_block_1/units_1: 64</span>"
      ],
      "text/plain": [
       "<IPython.core.display.HTML object>"
      ]
     },
     "metadata": {},
     "output_type": "display_data"
    },
    {
     "data": {
      "text/html": [
       "<span style=\"color:blue\"> |-structured_data_block_1/dense_block_1/units_2: 512</span>"
      ],
      "text/plain": [
       "<IPython.core.display.HTML object>"
      ]
     },
     "metadata": {},
     "output_type": "display_data"
    },
    {
     "data": {
      "text/html": [
       "<span style=\"color:cyan\"> |-structured_data_block_1/dense_block_1/use_batchnorm: True</span>"
      ],
      "text/plain": [
       "<IPython.core.display.HTML object>"
      ]
     },
     "metadata": {},
     "output_type": "display_data"
    },
    {
     "data": {
      "text/html": [
       "<span style=\"color:#4527A0\"><h1 style=\"font-size:18px\">Starting new trial</h1></span>"
      ],
      "text/plain": [
       "<IPython.core.display.HTML object>"
      ]
     },
     "metadata": {},
     "output_type": "display_data"
    },
    {
     "name": "stdout",
     "output_type": "stream",
     "text": [
      "Epoch 1/1000\n",
      "26/26 [==============================] - ETA: 0s - loss: 1.7650 - accuracy: 0.34 - ETA: 0s - loss: 1.6798 - accuracy: 0.28 - ETA: 0s - loss: 1.6844 - accuracy: 0.30 - ETA: 0s - loss: 1.6707 - accuracy: 0.30 - ETA: 0s - loss: 1.6448 - accuracy: 0.31 - 6s 238ms/step - loss: 1.6359 - accuracy: 0.3077 - val_loss: 1.6532 - val_accuracy: 0.3214\n",
      "Epoch 2/1000\n",
      "26/26 [==============================] - ETA: 0s - loss: 1.4159 - accuracy: 0.28 - ETA: 0s - loss: 1.3978 - accuracy: 0.36 - ETA: 0s - loss: 1.4459 - accuracy: 0.35 - ETA: 0s - loss: 1.4459 - accuracy: 0.35 - ETA: 0s - loss: 1.4473 - accuracy: 0.36 - 1s 43ms/step - loss: 1.4415 - accuracy: 0.3642 - val_loss: 1.4014 - val_accuracy: 0.2738\n",
      "Epoch 3/1000\n",
      "26/26 [==============================] - ETA: 0s - loss: 1.2521 - accuracy: 0.50 - ETA: 0s - loss: 1.3015 - accuracy: 0.42 - ETA: 0s - loss: 1.3576 - accuracy: 0.38 - ETA: 0s - loss: 1.3713 - accuracy: 0.38 - ETA: 0s - loss: 1.3818 - accuracy: 0.39 - 1s 41ms/step - loss: 1.3786 - accuracy: 0.3954 - val_loss: 1.3845 - val_accuracy: 0.3393\n",
      "Epoch 4/1000\n",
      "26/26 [==============================] - ETA: 0s - loss: 1.1435 - accuracy: 0.56 - ETA: 0s - loss: 1.2714 - accuracy: 0.46 - ETA: 0s - loss: 1.2493 - accuracy: 0.45 - ETA: 0s - loss: 1.2556 - accuracy: 0.44 - ETA: 0s - loss: 1.2558 - accuracy: 0.44 - 1s 44ms/step - loss: 1.2482 - accuracy: 0.4375 - val_loss: 1.3029 - val_accuracy: 0.4048\n",
      "Epoch 5/1000\n",
      "26/26 [==============================] - ETA: 0s - loss: 1.1178 - accuracy: 0.53 - ETA: 0s - loss: 1.2759 - accuracy: 0.41 - ETA: 0s - loss: 1.2412 - accuracy: 0.44 - ETA: 0s - loss: 1.2486 - accuracy: 0.43 - ETA: 0s - loss: 1.2363 - accuracy: 0.44 - 2s 59ms/step - loss: 1.2255 - accuracy: 0.4459 - val_loss: 1.2124 - val_accuracy: 0.4643\n",
      "Epoch 6/1000\n",
      "26/26 [==============================] - ETA: 0s - loss: 1.0962 - accuracy: 0.43 - ETA: 0s - loss: 1.2501 - accuracy: 0.40 - ETA: 0s - loss: 1.2400 - accuracy: 0.42 - ETA: 0s - loss: 1.2348 - accuracy: 0.45 - ETA: 0s - loss: 1.2173 - accuracy: 0.45 - 1s 42ms/step - loss: 1.2049 - accuracy: 0.4579 - val_loss: 1.1632 - val_accuracy: 0.5060\n",
      "Epoch 7/1000\n",
      "26/26 [==============================] - ETA: 0s - loss: 1.1513 - accuracy: 0.50 - ETA: 0s - loss: 1.2161 - accuracy: 0.45 - ETA: 0s - loss: 1.2112 - accuracy: 0.44 - ETA: 0s - loss: 1.2216 - accuracy: 0.44 - ETA: 0s - loss: 1.2029 - accuracy: 0.45 - 1s 30ms/step - loss: 1.1938 - accuracy: 0.4663 - val_loss: 1.1520 - val_accuracy: 0.5000\n",
      "Epoch 8/1000\n",
      "26/26 [==============================] - ETA: 0s - loss: 1.0647 - accuracy: 0.50 - ETA: 0s - loss: 1.1391 - accuracy: 0.47 - ETA: 0s - loss: 1.1314 - accuracy: 0.50 - ETA: 0s - loss: 1.1247 - accuracy: 0.49 - ETA: 0s - loss: 1.1300 - accuracy: 0.49 - 1s 32ms/step - loss: 1.1252 - accuracy: 0.4952 - val_loss: 1.1499 - val_accuracy: 0.5357\n",
      "Epoch 9/1000\n",
      "26/26 [==============================] - ETA: 0s - loss: 1.1328 - accuracy: 0.50 - ETA: 0s - loss: 1.2018 - accuracy: 0.47 - ETA: 0s - loss: 1.1711 - accuracy: 0.50 - ETA: 0s - loss: 1.1576 - accuracy: 0.49 - ETA: 0s - loss: 1.1423 - accuracy: 0.50 - 1s 33ms/step - loss: 1.1343 - accuracy: 0.5060 - val_loss: 1.1131 - val_accuracy: 0.5595\n",
      "Epoch 10/1000\n",
      "26/26 [==============================] - ETA: 0s - loss: 1.1305 - accuracy: 0.40 - ETA: 0s - loss: 1.1446 - accuracy: 0.47 - ETA: 0s - loss: 1.1225 - accuracy: 0.48 - ETA: 0s - loss: 1.1341 - accuracy: 0.48 - ETA: 0s - loss: 1.1406 - accuracy: 0.48 - 1s 43ms/step - loss: 1.1291 - accuracy: 0.4916 - val_loss: 1.1193 - val_accuracy: 0.5119\n",
      "Epoch 11/1000\n",
      "26/26 [==============================] - ETA: 0s - loss: 1.0760 - accuracy: 0.46 - ETA: 0s - loss: 1.1396 - accuracy: 0.51 - ETA: 0s - loss: 1.0912 - accuracy: 0.52 - ETA: 0s - loss: 1.0994 - accuracy: 0.51 - ETA: 0s - loss: 1.0803 - accuracy: 0.52 - 1s 45ms/step - loss: 1.0803 - accuracy: 0.5264 - val_loss: 1.1204 - val_accuracy: 0.5417\n",
      "Epoch 12/1000\n",
      "26/26 [==============================] - ETA: 0s - loss: 1.0123 - accuracy: 0.50 - ETA: 0s - loss: 1.0667 - accuracy: 0.53 - ETA: 0s - loss: 1.0285 - accuracy: 0.55 - ETA: 0s - loss: 1.0312 - accuracy: 0.54 - ETA: 0s - loss: 1.0530 - accuracy: 0.54 - 1s 39ms/step - loss: 1.0511 - accuracy: 0.5457 - val_loss: 1.0997 - val_accuracy: 0.5417\n",
      "Epoch 13/1000\n",
      "26/26 [==============================] - ETA: 0s - loss: 0.8335 - accuracy: 0.65 - ETA: 0s - loss: 1.0324 - accuracy: 0.57 - ETA: 0s - loss: 1.0183 - accuracy: 0.55 - ETA: 0s - loss: 1.0257 - accuracy: 0.55 - ETA: 0s - loss: 1.0306 - accuracy: 0.56 - 1s 45ms/step - loss: 1.0311 - accuracy: 0.5625 - val_loss: 1.1260 - val_accuracy: 0.5536\n",
      "Epoch 14/1000\n",
      "26/26 [==============================] - ETA: 0s - loss: 0.8713 - accuracy: 0.62 - ETA: 0s - loss: 1.0757 - accuracy: 0.56 - ETA: 0s - loss: 1.0242 - accuracy: 0.55 - ETA: 0s - loss: 1.0184 - accuracy: 0.54 - ETA: 0s - loss: 1.0290 - accuracy: 0.54 - 1s 44ms/step - loss: 1.0211 - accuracy: 0.5421 - val_loss: 1.1849 - val_accuracy: 0.4821\n",
      "Epoch 15/1000\n",
      "26/26 [==============================] - ETA: 0s - loss: 0.9662 - accuracy: 0.50 - ETA: 0s - loss: 1.0990 - accuracy: 0.52 - ETA: 0s - loss: 1.0107 - accuracy: 0.57 - ETA: 0s - loss: 1.0057 - accuracy: 0.57 - ETA: 0s - loss: 1.0071 - accuracy: 0.56 - 1s 49ms/step - loss: 0.9836 - accuracy: 0.5829 - val_loss: 1.1381 - val_accuracy: 0.5536\n",
      "Epoch 16/1000\n",
      "26/26 [==============================] - ETA: 0s - loss: 0.8850 - accuracy: 0.56 - ETA: 0s - loss: 1.0152 - accuracy: 0.58 - ETA: 0s - loss: 0.9778 - accuracy: 0.57 - ETA: 0s - loss: 0.9898 - accuracy: 0.56 - ETA: 0s - loss: 0.9991 - accuracy: 0.56 - 1s 50ms/step - loss: 0.9854 - accuracy: 0.5781 - val_loss: 1.1637 - val_accuracy: 0.5595\n",
      "Epoch 17/1000\n",
      "26/26 [==============================] - ETA: 0s - loss: 0.9979 - accuracy: 0.62 - ETA: 0s - loss: 1.0025 - accuracy: 0.58 - ETA: 0s - loss: 0.9495 - accuracy: 0.60 - ETA: 0s - loss: 0.9757 - accuracy: 0.58 - ETA: 0s - loss: 0.9875 - accuracy: 0.56 - 1s 55ms/step - loss: 0.9789 - accuracy: 0.5733 - val_loss: 1.1614 - val_accuracy: 0.5298\n",
      "Epoch 18/1000\n",
      "26/26 [==============================] - ETA: 0s - loss: 0.9304 - accuracy: 0.68 - ETA: 0s - loss: 0.9956 - accuracy: 0.60 - ETA: 0s - loss: 0.9597 - accuracy: 0.59 - ETA: 0s - loss: 0.9633 - accuracy: 0.58 - ETA: 0s - loss: 0.9754 - accuracy: 0.58 - 1s 44ms/step - loss: 0.9673 - accuracy: 0.5853 - val_loss: 1.1223 - val_accuracy: 0.5714\n",
      "Epoch 19/1000\n",
      "26/26 [==============================] - ETA: 0s - loss: 0.9378 - accuracy: 0.46 - ETA: 0s - loss: 0.9602 - accuracy: 0.59 - ETA: 0s - loss: 0.9261 - accuracy: 0.61 - ETA: 0s - loss: 0.9472 - accuracy: 0.59 - ETA: 0s - loss: 0.9498 - accuracy: 0.59 - 1s 50ms/step - loss: 0.9427 - accuracy: 0.6022 - val_loss: 1.1130 - val_accuracy: 0.5833\n",
      "Epoch 20/1000\n",
      "26/26 [==============================] - ETA: 0s - loss: 1.0188 - accuracy: 0.53 - ETA: 0s - loss: 1.0232 - accuracy: 0.57 - ETA: 0s - loss: 0.9697 - accuracy: 0.58 - ETA: 0s - loss: 0.9778 - accuracy: 0.58 - ETA: 0s - loss: 0.9792 - accuracy: 0.58 - 1s 38ms/step - loss: 0.9695 - accuracy: 0.5841 - val_loss: 1.1262 - val_accuracy: 0.5298\n",
      "Epoch 21/1000\n",
      "26/26 [==============================] - ETA: 0s - loss: 1.0022 - accuracy: 0.50 - ETA: 0s - loss: 1.0083 - accuracy: 0.55 - ETA: 0s - loss: 0.9433 - accuracy: 0.57 - ETA: 0s - loss: 0.9422 - accuracy: 0.57 - ETA: 0s - loss: 0.9503 - accuracy: 0.57 - 1s 46ms/step - loss: 0.9411 - accuracy: 0.5793 - val_loss: 1.1504 - val_accuracy: 0.5893\n",
      "Epoch 22/1000\n",
      "26/26 [==============================] - ETA: 0s - loss: 0.8693 - accuracy: 0.62 - ETA: 0s - loss: 0.9799 - accuracy: 0.59 - ETA: 0s - loss: 0.9302 - accuracy: 0.60 - ETA: 0s - loss: 0.9484 - accuracy: 0.59 - ETA: 0s - loss: 0.9393 - accuracy: 0.60 - 1s 41ms/step - loss: 0.9288 - accuracy: 0.6142 - val_loss: 1.1605 - val_accuracy: 0.5714\n"
     ]
    },
    {
     "data": {
      "text/html": [
       "<span style=\"color:#4527A0\"><h1 style=\"font-size:18px\">Trial complete</h1></span>"
      ],
      "text/plain": [
       "<IPython.core.display.HTML object>"
      ]
     },
     "metadata": {},
     "output_type": "display_data"
    },
    {
     "data": {
      "text/html": [
       "<span style=\"color:#4527A0\"><h1 style=\"font-size:18px\">Trial summary</h1></span>"
      ],
      "text/plain": [
       "<IPython.core.display.HTML object>"
      ]
     },
     "metadata": {},
     "output_type": "display_data"
    },
    {
     "data": {
      "text/html": [
       "<span style=\"color:cyan\"> |-Trial ID: 5d899d9272ad07b176ee9daad5d415e9</span>"
      ],
      "text/plain": [
       "<IPython.core.display.HTML object>"
      ]
     },
     "metadata": {},
     "output_type": "display_data"
    },
    {
     "data": {
      "text/html": [
       "<span style=\"color:cyan\"> |-Score: 0.5892857313156128</span>"
      ],
      "text/plain": [
       "<IPython.core.display.HTML object>"
      ]
     },
     "metadata": {},
     "output_type": "display_data"
    },
    {
     "data": {
      "text/html": [
       "<span style=\"color:cyan\"> |-Best step: 20</span>"
      ],
      "text/plain": [
       "<IPython.core.display.HTML object>"
      ]
     },
     "metadata": {},
     "output_type": "display_data"
    },
    {
     "data": {
      "text/html": [
       "<span style=\"color:#7E57C2\"><h2 style=\"font-size:16px\">Hyperparameters:</h2></span>"
      ],
      "text/plain": [
       "<IPython.core.display.HTML object>"
      ]
     },
     "metadata": {},
     "output_type": "display_data"
    },
    {
     "data": {
      "text/html": [
       "<span style=\"color:cyan\"> |-classification_head_1/dropout: 0</span>"
      ],
      "text/plain": [
       "<IPython.core.display.HTML object>"
      ]
     },
     "metadata": {},
     "output_type": "display_data"
    },
    {
     "data": {
      "text/html": [
       "<span style=\"color:blue\"> |-learning_rate: 0.001</span>"
      ],
      "text/plain": [
       "<IPython.core.display.HTML object>"
      ]
     },
     "metadata": {},
     "output_type": "display_data"
    },
    {
     "data": {
      "text/html": [
       "<span style=\"color:cyan\"> |-optimizer: adam</span>"
      ],
      "text/plain": [
       "<IPython.core.display.HTML object>"
      ]
     },
     "metadata": {},
     "output_type": "display_data"
    },
    {
     "data": {
      "text/html": [
       "<span style=\"color:blue\"> |-structured_data_block_1/dense_block_1/dropout: 0.25</span>"
      ],
      "text/plain": [
       "<IPython.core.display.HTML object>"
      ]
     },
     "metadata": {},
     "output_type": "display_data"
    },
    {
     "data": {
      "text/html": [
       "<span style=\"color:cyan\"> |-structured_data_block_1/dense_block_1/num_layers: 2</span>"
      ],
      "text/plain": [
       "<IPython.core.display.HTML object>"
      ]
     },
     "metadata": {},
     "output_type": "display_data"
    },
    {
     "data": {
      "text/html": [
       "<span style=\"color:blue\"> |-structured_data_block_1/dense_block_1/units_0: 16</span>"
      ],
      "text/plain": [
       "<IPython.core.display.HTML object>"
      ]
     },
     "metadata": {},
     "output_type": "display_data"
    },
    {
     "data": {
      "text/html": [
       "<span style=\"color:cyan\"> |-structured_data_block_1/dense_block_1/units_1: 32</span>"
      ],
      "text/plain": [
       "<IPython.core.display.HTML object>"
      ]
     },
     "metadata": {},
     "output_type": "display_data"
    },
    {
     "data": {
      "text/html": [
       "<span style=\"color:blue\"> |-structured_data_block_1/dense_block_1/units_2: 32</span>"
      ],
      "text/plain": [
       "<IPython.core.display.HTML object>"
      ]
     },
     "metadata": {},
     "output_type": "display_data"
    },
    {
     "data": {
      "text/html": [
       "<span style=\"color:cyan\"> |-structured_data_block_1/dense_block_1/use_batchnorm: True</span>"
      ],
      "text/plain": [
       "<IPython.core.display.HTML object>"
      ]
     },
     "metadata": {},
     "output_type": "display_data"
    },
    {
     "data": {
      "text/html": [
       "<span style=\"color:#4527A0\"><h1 style=\"font-size:18px\">Starting new trial</h1></span>"
      ],
      "text/plain": [
       "<IPython.core.display.HTML object>"
      ]
     },
     "metadata": {},
     "output_type": "display_data"
    },
    {
     "name": "stdout",
     "output_type": "stream",
     "text": [
      "Epoch 1/1000\n",
      "26/26 [==============================] - ETA: 0s - loss: 1.4383 - accuracy: 0.37 - ETA: 0s - loss: 1.5567 - accuracy: 0.25 - ETA: 0s - loss: 1.5213 - accuracy: 0.26 - ETA: 0s - loss: 1.5051 - accuracy: 0.28 - ETA: 0s - loss: 1.4816 - accuracy: 0.30 - ETA: 0s - loss: 1.4723 - accuracy: 0.30 - ETA: 0s - loss: 1.4748 - accuracy: 0.30 - 6s 223ms/step - loss: 1.4510 - accuracy: 0.3149 - val_loss: 1.3330 - val_accuracy: 0.3155\n",
      "Epoch 2/1000\n",
      "26/26 [==============================] - ETA: 0s - loss: 1.2288 - accuracy: 0.43 - ETA: 0s - loss: 1.2647 - accuracy: 0.40 - ETA: 0s - loss: 1.2428 - accuracy: 0.42 - ETA: 0s - loss: 1.2590 - accuracy: 0.41 - ETA: 0s - loss: 1.2333 - accuracy: 0.43 - ETA: 0s - loss: 1.2427 - accuracy: 0.44 - 1s 50ms/step - loss: 1.2341 - accuracy: 0.4435 - val_loss: 1.3073 - val_accuracy: 0.4464\n",
      "Epoch 3/1000\n",
      "26/26 [==============================] - ETA: 0s - loss: 1.2106 - accuracy: 0.53 - ETA: 0s - loss: 1.2485 - accuracy: 0.46 - ETA: 0s - loss: 1.1996 - accuracy: 0.49 - ETA: 0s - loss: 1.1956 - accuracy: 0.47 - ETA: 0s - loss: 1.1820 - accuracy: 0.47 - ETA: 0s - loss: 1.1730 - accuracy: 0.47 - ETA: 0s - loss: 1.1669 - accuracy: 0.47 - 1s 47ms/step - loss: 1.1669 - accuracy: 0.4772 - val_loss: 1.2672 - val_accuracy: 0.4583\n",
      "Epoch 4/1000\n",
      "26/26 [==============================] - ETA: 0s - loss: 1.0516 - accuracy: 0.56 - ETA: 0s - loss: 1.1735 - accuracy: 0.50 - ETA: 0s - loss: 1.1673 - accuracy: 0.50 - ETA: 0s - loss: 1.1621 - accuracy: 0.50 - ETA: 0s - loss: 1.1565 - accuracy: 0.49 - ETA: 0s - loss: 1.1430 - accuracy: 0.48 - ETA: 0s - loss: 1.1602 - accuracy: 0.48 - 1s 41ms/step - loss: 1.1520 - accuracy: 0.4856 - val_loss: 1.2578 - val_accuracy: 0.4643\n",
      "Epoch 5/1000\n",
      "26/26 [==============================] - ETA: 0s - loss: 0.9668 - accuracy: 0.65 - ETA: 0s - loss: 1.1450 - accuracy: 0.49 - ETA: 0s - loss: 1.1096 - accuracy: 0.51 - ETA: 0s - loss: 1.1087 - accuracy: 0.51 - ETA: 0s - loss: 1.0918 - accuracy: 0.51 - ETA: 0s - loss: 1.0873 - accuracy: 0.51 - ETA: 0s - loss: 1.0966 - accuracy: 0.51 - 2s 62ms/step - loss: 1.0859 - accuracy: 0.5144 - val_loss: 1.2143 - val_accuracy: 0.5119\n",
      "Epoch 6/1000\n",
      "26/26 [==============================] - ETA: 0s - loss: 0.8844 - accuracy: 0.50 - ETA: 0s - loss: 1.0323 - accuracy: 0.55 - ETA: 0s - loss: 0.9791 - accuracy: 0.57 - ETA: 0s - loss: 1.0080 - accuracy: 0.56 - ETA: 0s - loss: 1.0176 - accuracy: 0.56 - ETA: 0s - loss: 1.0444 - accuracy: 0.55 - ETA: 0s - loss: 1.0341 - accuracy: 0.56 - 1s 55ms/step - loss: 1.0341 - accuracy: 0.5613 - val_loss: 1.1841 - val_accuracy: 0.4702\n",
      "Epoch 7/1000\n",
      "26/26 [==============================] - ETA: 0s - loss: 0.8491 - accuracy: 0.71 - ETA: 0s - loss: 1.0346 - accuracy: 0.55 - ETA: 0s - loss: 1.0053 - accuracy: 0.54 - ETA: 0s - loss: 0.9930 - accuracy: 0.54 - ETA: 0s - loss: 0.9983 - accuracy: 0.54 - ETA: 0s - loss: 0.9930 - accuracy: 0.55 - ETA: 0s - loss: 1.0086 - accuracy: 0.55 - 1s 55ms/step - loss: 1.0009 - accuracy: 0.5613 - val_loss: 1.1664 - val_accuracy: 0.5060\n",
      "Epoch 8/1000\n",
      "26/26 [==============================] - ETA: 0s - loss: 0.9703 - accuracy: 0.53 - ETA: 0s - loss: 1.0708 - accuracy: 0.51 - ETA: 0s - loss: 1.0172 - accuracy: 0.55 - ETA: 0s - loss: 1.0021 - accuracy: 0.57 - ETA: 0s - loss: 1.0069 - accuracy: 0.57 - ETA: 0s - loss: 1.0007 - accuracy: 0.56 - 1s 50ms/step - loss: 0.9907 - accuracy: 0.5733 - val_loss: 1.1668 - val_accuracy: 0.4821\n",
      "Epoch 9/1000\n",
      "26/26 [==============================] - ETA: 0s - loss: 0.8943 - accuracy: 0.62 - ETA: 0s - loss: 1.0145 - accuracy: 0.59 - ETA: 0s - loss: 0.9765 - accuracy: 0.58 - ETA: 0s - loss: 0.9937 - accuracy: 0.56 - ETA: 0s - loss: 0.9888 - accuracy: 0.56 - ETA: 0s - loss: 0.9803 - accuracy: 0.56 - ETA: 0s - loss: 0.9860 - accuracy: 0.56 - 1s 56ms/step - loss: 0.9723 - accuracy: 0.5697 - val_loss: 1.1650 - val_accuracy: 0.4643\n",
      "Epoch 10/1000\n",
      "26/26 [==============================] - ETA: 0s - loss: 0.8509 - accuracy: 0.65 - ETA: 0s - loss: 0.9650 - accuracy: 0.57 - ETA: 0s - loss: 0.9342 - accuracy: 0.59 - ETA: 0s - loss: 0.9454 - accuracy: 0.57 - ETA: 0s - loss: 0.9377 - accuracy: 0.58 - ETA: 0s - loss: 0.9407 - accuracy: 0.58 - ETA: 0s - loss: 0.9530 - accuracy: 0.57 - 2s 67ms/step - loss: 0.9373 - accuracy: 0.5853 - val_loss: 1.1721 - val_accuracy: 0.4643\n",
      "Epoch 11/1000\n",
      "26/26 [==============================] - ETA: 0s - loss: 0.8390 - accuracy: 0.65 - ETA: 0s - loss: 0.9277 - accuracy: 0.59 - ETA: 0s - loss: 0.8702 - accuracy: 0.63 - ETA: 0s - loss: 0.8945 - accuracy: 0.62 - ETA: 0s - loss: 0.9132 - accuracy: 0.60 - ETA: 0s - loss: 0.9076 - accuracy: 0.60 - ETA: 0s - loss: 0.9088 - accuracy: 0.60 - 1s 50ms/step - loss: 0.9043 - accuracy: 0.6082 - val_loss: 1.1718 - val_accuracy: 0.5060\n",
      "Epoch 12/1000\n",
      "26/26 [==============================] - ETA: 0s - loss: 0.8151 - accuracy: 0.68 - ETA: 0s - loss: 0.9690 - accuracy: 0.61 - ETA: 0s - loss: 0.9030 - accuracy: 0.61 - ETA: 0s - loss: 0.9001 - accuracy: 0.61 - ETA: 0s - loss: 0.9154 - accuracy: 0.62 - ETA: 0s - loss: 0.9079 - accuracy: 0.62 - ETA: 0s - loss: 0.9137 - accuracy: 0.61 - 1s 53ms/step - loss: 0.8996 - accuracy: 0.6262 - val_loss: 1.1770 - val_accuracy: 0.4881\n",
      "Epoch 13/1000\n",
      "26/26 [==============================] - ETA: 0s - loss: 0.8456 - accuracy: 0.68 - ETA: 0s - loss: 0.9191 - accuracy: 0.61 - ETA: 0s - loss: 0.8628 - accuracy: 0.63 - ETA: 0s - loss: 0.8612 - accuracy: 0.62 - ETA: 0s - loss: 0.8642 - accuracy: 0.61 - ETA: 0s - loss: 0.8654 - accuracy: 0.62 - ETA: 0s - loss: 0.8636 - accuracy: 0.62 - 1s 47ms/step - loss: 0.8519 - accuracy: 0.6334 - val_loss: 1.1900 - val_accuracy: 0.4762\n",
      "Epoch 14/1000\n",
      "26/26 [==============================] - ETA: 0s - loss: 0.7974 - accuracy: 0.68 - ETA: 0s - loss: 0.9014 - accuracy: 0.65 - ETA: 0s - loss: 0.8920 - accuracy: 0.66 - ETA: 0s - loss: 0.8670 - accuracy: 0.67 - ETA: 0s - loss: 0.8753 - accuracy: 0.65 - ETA: 0s - loss: 0.8644 - accuracy: 0.64 - ETA: 0s - loss: 0.8584 - accuracy: 0.65 - 1s 40ms/step - loss: 0.8478 - accuracy: 0.6575 - val_loss: 1.1174 - val_accuracy: 0.4940\n",
      "Epoch 15/1000\n",
      "26/26 [==============================] - ETA: 0s - loss: 0.8533 - accuracy: 0.62 - ETA: 0s - loss: 0.9811 - accuracy: 0.58 - ETA: 0s - loss: 0.8697 - accuracy: 0.62 - ETA: 0s - loss: 0.8411 - accuracy: 0.63 - ETA: 0s - loss: 0.8348 - accuracy: 0.64 - ETA: 0s - loss: 0.8353 - accuracy: 0.64 - ETA: 0s - loss: 0.8198 - accuracy: 0.65 - 1s 46ms/step - loss: 0.8198 - accuracy: 0.6550 - val_loss: 1.1297 - val_accuracy: 0.5238\n",
      "Epoch 16/1000\n",
      "26/26 [==============================] - ETA: 0s - loss: 0.8246 - accuracy: 0.68 - ETA: 0s - loss: 0.8929 - accuracy: 0.60 - ETA: 0s - loss: 0.8168 - accuracy: 0.66 - ETA: 0s - loss: 0.8331 - accuracy: 0.64 - ETA: 0s - loss: 0.8191 - accuracy: 0.65 - ETA: 0s - loss: 0.8081 - accuracy: 0.66 - ETA: 0s - loss: 0.8075 - accuracy: 0.65 - 1s 49ms/step - loss: 0.7906 - accuracy: 0.6695 - val_loss: 1.1789 - val_accuracy: 0.5000\n",
      "Epoch 17/1000\n",
      "26/26 [==============================] - ETA: 0s - loss: 0.7666 - accuracy: 0.75 - ETA: 0s - loss: 0.8327 - accuracy: 0.67 - ETA: 0s - loss: 0.7999 - accuracy: 0.67 - ETA: 0s - loss: 0.8111 - accuracy: 0.66 - ETA: 0s - loss: 0.7976 - accuracy: 0.67 - ETA: 0s - loss: 0.8047 - accuracy: 0.67 - ETA: 0s - loss: 0.7818 - accuracy: 0.68 - 1s 43ms/step - loss: 0.7818 - accuracy: 0.6803 - val_loss: 1.1342 - val_accuracy: 0.5357\n",
      "Epoch 18/1000\n",
      "26/26 [==============================] - ETA: 0s - loss: 0.7397 - accuracy: 0.65 - ETA: 0s - loss: 0.8342 - accuracy: 0.61 - ETA: 0s - loss: 0.7726 - accuracy: 0.65 - ETA: 0s - loss: 0.7784 - accuracy: 0.66 - ETA: 0s - loss: 0.7875 - accuracy: 0.66 - ETA: 0s - loss: 0.7826 - accuracy: 0.67 - ETA: 0s - loss: 0.7709 - accuracy: 0.67 - 1s 41ms/step - loss: 0.7709 - accuracy: 0.6767 - val_loss: 1.1729 - val_accuracy: 0.5119\n",
      "Epoch 19/1000\n",
      "26/26 [==============================] - ETA: 0s - loss: 0.7568 - accuracy: 0.62 - ETA: 0s - loss: 0.8072 - accuracy: 0.66 - ETA: 0s - loss: 0.7532 - accuracy: 0.69 - ETA: 0s - loss: 0.7533 - accuracy: 0.69 - ETA: 0s - loss: 0.7621 - accuracy: 0.69 - ETA: 0s - loss: 0.7561 - accuracy: 0.69 - ETA: 0s - loss: 0.7481 - accuracy: 0.69 - 1s 47ms/step - loss: 0.7371 - accuracy: 0.7007 - val_loss: 1.1653 - val_accuracy: 0.5119\n"
     ]
    },
    {
     "name": "stdout",
     "output_type": "stream",
     "text": [
      "Epoch 20/1000\n",
      "26/26 [==============================] - ETA: 0s - loss: 0.8829 - accuracy: 0.68 - ETA: 0s - loss: 0.7901 - accuracy: 0.68 - ETA: 0s - loss: 0.7626 - accuracy: 0.70 - ETA: 0s - loss: 0.7745 - accuracy: 0.70 - ETA: 0s - loss: 0.7540 - accuracy: 0.71 - ETA: 0s - loss: 0.7442 - accuracy: 0.72 - ETA: 0s - loss: 0.7330 - accuracy: 0.72 - 1s 38ms/step - loss: 0.7218 - accuracy: 0.7248 - val_loss: 1.1753 - val_accuracy: 0.5238\n",
      "Epoch 21/1000\n",
      "26/26 [==============================] - ETA: 0s - loss: 0.8039 - accuracy: 0.65 - ETA: 0s - loss: 0.8039 - accuracy: 0.65 - ETA: 0s - loss: 0.7482 - accuracy: 0.70 - ETA: 0s - loss: 0.7352 - accuracy: 0.70 - ETA: 0s - loss: 0.7395 - accuracy: 0.70 - ETA: 0s - loss: 0.7423 - accuracy: 0.71 - ETA: 0s - loss: 0.7366 - accuracy: 0.70 - 1s 40ms/step - loss: 0.7244 - accuracy: 0.7127 - val_loss: 1.2048 - val_accuracy: 0.5179\n",
      "Epoch 22/1000\n",
      "26/26 [==============================] - ETA: 0s - loss: 0.6679 - accuracy: 0.71 - ETA: 0s - loss: 0.7706 - accuracy: 0.68 - ETA: 0s - loss: 0.6871 - accuracy: 0.73 - ETA: 0s - loss: 0.7022 - accuracy: 0.71 - ETA: 0s - loss: 0.6957 - accuracy: 0.71 - ETA: 0s - loss: 0.7011 - accuracy: 0.71 - ETA: 0s - loss: 0.7011 - accuracy: 0.71 - 1s 53ms/step - loss: 0.6831 - accuracy: 0.7284 - val_loss: 1.2410 - val_accuracy: 0.4940\n",
      "Epoch 23/1000\n",
      "26/26 [==============================] - ETA: 0s - loss: 0.7850 - accuracy: 0.71 - ETA: 0s - loss: 0.8015 - accuracy: 0.68 - ETA: 0s - loss: 0.7393 - accuracy: 0.70 - ETA: 0s - loss: 0.7338 - accuracy: 0.70 - ETA: 0s - loss: 0.7182 - accuracy: 0.70 - ETA: 0s - loss: 0.7065 - accuracy: 0.70 - ETA: 0s - loss: 0.7036 - accuracy: 0.71 - 1s 44ms/step - loss: 0.6921 - accuracy: 0.7163 - val_loss: 1.3370 - val_accuracy: 0.5000\n",
      "Epoch 24/1000\n",
      "26/26 [==============================] - ETA: 0s - loss: 0.8235 - accuracy: 0.59 - ETA: 0s - loss: 0.7406 - accuracy: 0.70 - ETA: 0s - loss: 0.6919 - accuracy: 0.72 - ETA: 0s - loss: 0.7000 - accuracy: 0.72 - ETA: 0s - loss: 0.6939 - accuracy: 0.72 - ETA: 0s - loss: 0.6877 - accuracy: 0.72 - ETA: 0s - loss: 0.6717 - accuracy: 0.73 - 1s 46ms/step - loss: 0.6629 - accuracy: 0.7368 - val_loss: 1.2351 - val_accuracy: 0.4702\n"
     ]
    },
    {
     "data": {
      "text/html": [
       "<span style=\"color:#4527A0\"><h1 style=\"font-size:18px\">Trial complete</h1></span>"
      ],
      "text/plain": [
       "<IPython.core.display.HTML object>"
      ]
     },
     "metadata": {},
     "output_type": "display_data"
    },
    {
     "data": {
      "text/html": [
       "<span style=\"color:#4527A0\"><h1 style=\"font-size:18px\">Trial summary</h1></span>"
      ],
      "text/plain": [
       "<IPython.core.display.HTML object>"
      ]
     },
     "metadata": {},
     "output_type": "display_data"
    },
    {
     "data": {
      "text/html": [
       "<span style=\"color:cyan\"> |-Trial ID: 8adf212f0193a1b5b41b3b64be4c0a0e</span>"
      ],
      "text/plain": [
       "<IPython.core.display.HTML object>"
      ]
     },
     "metadata": {},
     "output_type": "display_data"
    },
    {
     "data": {
      "text/html": [
       "<span style=\"color:cyan\"> |-Score: 0.5357142686843872</span>"
      ],
      "text/plain": [
       "<IPython.core.display.HTML object>"
      ]
     },
     "metadata": {},
     "output_type": "display_data"
    },
    {
     "data": {
      "text/html": [
       "<span style=\"color:cyan\"> |-Best step: 16</span>"
      ],
      "text/plain": [
       "<IPython.core.display.HTML object>"
      ]
     },
     "metadata": {},
     "output_type": "display_data"
    },
    {
     "data": {
      "text/html": [
       "<span style=\"color:#7E57C2\"><h2 style=\"font-size:16px\">Hyperparameters:</h2></span>"
      ],
      "text/plain": [
       "<IPython.core.display.HTML object>"
      ]
     },
     "metadata": {},
     "output_type": "display_data"
    },
    {
     "data": {
      "text/html": [
       "<span style=\"color:cyan\"> |-classification_head_1/dropout: 0</span>"
      ],
      "text/plain": [
       "<IPython.core.display.HTML object>"
      ]
     },
     "metadata": {},
     "output_type": "display_data"
    },
    {
     "data": {
      "text/html": [
       "<span style=\"color:blue\"> |-learning_rate: 0.001</span>"
      ],
      "text/plain": [
       "<IPython.core.display.HTML object>"
      ]
     },
     "metadata": {},
     "output_type": "display_data"
    },
    {
     "data": {
      "text/html": [
       "<span style=\"color:cyan\"> |-optimizer: adam</span>"
      ],
      "text/plain": [
       "<IPython.core.display.HTML object>"
      ]
     },
     "metadata": {},
     "output_type": "display_data"
    },
    {
     "data": {
      "text/html": [
       "<span style=\"color:blue\"> |-structured_data_block_1/dense_block_1/dropout: 0.25</span>"
      ],
      "text/plain": [
       "<IPython.core.display.HTML object>"
      ]
     },
     "metadata": {},
     "output_type": "display_data"
    },
    {
     "data": {
      "text/html": [
       "<span style=\"color:cyan\"> |-structured_data_block_1/dense_block_1/num_layers: 3</span>"
      ],
      "text/plain": [
       "<IPython.core.display.HTML object>"
      ]
     },
     "metadata": {},
     "output_type": "display_data"
    },
    {
     "data": {
      "text/html": [
       "<span style=\"color:blue\"> |-structured_data_block_1/dense_block_1/units_0: 32</span>"
      ],
      "text/plain": [
       "<IPython.core.display.HTML object>"
      ]
     },
     "metadata": {},
     "output_type": "display_data"
    },
    {
     "data": {
      "text/html": [
       "<span style=\"color:cyan\"> |-structured_data_block_1/dense_block_1/units_1: 512</span>"
      ],
      "text/plain": [
       "<IPython.core.display.HTML object>"
      ]
     },
     "metadata": {},
     "output_type": "display_data"
    },
    {
     "data": {
      "text/html": [
       "<span style=\"color:blue\"> |-structured_data_block_1/dense_block_1/units_2: 32</span>"
      ],
      "text/plain": [
       "<IPython.core.display.HTML object>"
      ]
     },
     "metadata": {},
     "output_type": "display_data"
    },
    {
     "data": {
      "text/html": [
       "<span style=\"color:cyan\"> |-structured_data_block_1/dense_block_1/use_batchnorm: True</span>"
      ],
      "text/plain": [
       "<IPython.core.display.HTML object>"
      ]
     },
     "metadata": {},
     "output_type": "display_data"
    },
    {
     "data": {
      "text/html": [
       "<span style=\"color:#4527A0\"><h1 style=\"font-size:18px\">Starting new trial</h1></span>"
      ],
      "text/plain": [
       "<IPython.core.display.HTML object>"
      ]
     },
     "metadata": {},
     "output_type": "display_data"
    },
    {
     "name": "stdout",
     "output_type": "stream",
     "text": [
      "Epoch 1/1000\n",
      "26/26 [==============================] - ETA: 0s - loss: 1002.0450 - accuracy: 0.250 - ETA: 0s - loss: 1306.3356 - accuracy: 0.265 - ETA: 0s - loss: 966.6783 - accuracy: 0.292 - ETA: 0s - loss: 770.1268 - accuracy: 0.36 - ETA: 0s - loss: 687.7321 - accuracy: 0.37 - 6s 224ms/step - loss: 644.2593 - accuracy: 0.3870 - val_loss: 244.4734 - val_accuracy: 0.5179\n",
      "Epoch 2/1000\n",
      "26/26 [==============================] - ETA: 0s - loss: 219.7695 - accuracy: 0.50 - ETA: 0s - loss: 213.1322 - accuracy: 0.45 - ETA: 0s - loss: 192.4377 - accuracy: 0.47 - ETA: 0s - loss: 233.9222 - accuracy: 0.46 - ETA: 0s - loss: 243.8005 - accuracy: 0.46 - 1s 52ms/step - loss: 237.7523 - accuracy: 0.4712 - val_loss: 329.6873 - val_accuracy: 0.3988\n",
      "Epoch 3/1000\n",
      "26/26 [==============================] - ETA: 0s - loss: 253.5602 - accuracy: 0.34 - ETA: 0s - loss: 184.1681 - accuracy: 0.46 - ETA: 0s - loss: 161.2816 - accuracy: 0.49 - ETA: 0s - loss: 166.0629 - accuracy: 0.47 - ETA: 0s - loss: 172.2329 - accuracy: 0.48 - 1s 45ms/step - loss: 170.2513 - accuracy: 0.4916 - val_loss: 388.4032 - val_accuracy: 0.4583\n",
      "Epoch 4/1000\n",
      "26/26 [==============================] - ETA: 0s - loss: 211.6766 - accuracy: 0.40 - ETA: 0s - loss: 179.6928 - accuracy: 0.47 - ETA: 0s - loss: 154.7978 - accuracy: 0.48 - ETA: 0s - loss: 144.7804 - accuracy: 0.48 - ETA: 0s - loss: 147.0598 - accuracy: 0.49 - 1s 44ms/step - loss: 145.5658 - accuracy: 0.4976 - val_loss: 310.9545 - val_accuracy: 0.4345\n",
      "Epoch 5/1000\n",
      "26/26 [==============================] - ETA: 0s - loss: 131.7155 - accuracy: 0.59 - ETA: 0s - loss: 117.7191 - accuracy: 0.55 - ETA: 0s - loss: 108.1738 - accuracy: 0.55 - ETA: 0s - loss: 98.9359 - accuracy: 0.5677 - ETA: 0s - loss: 102.0483 - accuracy: 0.55 - 1s 52ms/step - loss: 99.3651 - accuracy: 0.5673 - val_loss: 271.7439 - val_accuracy: 0.4643\n",
      "Epoch 6/1000\n",
      "26/26 [==============================] - ETA: 0s - loss: 81.8182 - accuracy: 0.562 - ETA: 0s - loss: 73.1247 - accuracy: 0.557 - ETA: 0s - loss: 72.2214 - accuracy: 0.588 - ETA: 0s - loss: 65.1183 - accuracy: 0.619 - ETA: 0s - loss: 69.0807 - accuracy: 0.615 - 2s 62ms/step - loss: 69.9847 - accuracy: 0.6166 - val_loss: 296.1727 - val_accuracy: 0.4286\n",
      "Epoch 7/1000\n",
      "26/26 [==============================] - ETA: 0s - loss: 118.7623 - accuracy: 0.50 - ETA: 0s - loss: 72.3924 - accuracy: 0.6384 - ETA: 0s - loss: 80.7302 - accuracy: 0.639 - ETA: 0s - loss: 73.2568 - accuracy: 0.667 - ETA: 0s - loss: 73.8718 - accuracy: 0.661 - 1s 46ms/step - loss: 73.8332 - accuracy: 0.6599 - val_loss: 269.3658 - val_accuracy: 0.4048\n",
      "Epoch 8/1000\n",
      "26/26 [==============================] - ETA: 0s - loss: 112.5452 - accuracy: 0.46 - ETA: 0s - loss: 64.8381 - accuracy: 0.6161 - ETA: 0s - loss: 79.7942 - accuracy: 0.608 - ETA: 0s - loss: 81.6531 - accuracy: 0.605 - ETA: 0s - loss: 85.8774 - accuracy: 0.601 - 1s 45ms/step - loss: 88.7318 - accuracy: 0.6034 - val_loss: 316.9564 - val_accuracy: 0.4583\n",
      "Epoch 9/1000\n",
      "26/26 [==============================] - ETA: 0s - loss: 154.2400 - accuracy: 0.56 - ETA: 0s - loss: 63.6031 - accuracy: 0.6741 - ETA: 0s - loss: 50.5311 - accuracy: 0.694 - ETA: 0s - loss: 52.4250 - accuracy: 0.684 - ETA: 0s - loss: 62.0718 - accuracy: 0.668 - 1s 54ms/step - loss: 61.5090 - accuracy: 0.6719 - val_loss: 347.3777 - val_accuracy: 0.3929\n",
      "Epoch 10/1000\n",
      "26/26 [==============================] - ETA: 0s - loss: 147.4677 - accuracy: 0.62 - ETA: 0s - loss: 101.5143 - accuracy: 0.58 - ETA: 0s - loss: 96.4830 - accuracy: 0.6302 - ETA: 0s - loss: 80.6483 - accuracy: 0.640 - ETA: 0s - loss: 77.2723 - accuracy: 0.648 - 1s 53ms/step - loss: 73.5285 - accuracy: 0.6538 - val_loss: 326.7660 - val_accuracy: 0.4107\n",
      "Epoch 11/1000\n",
      "26/26 [==============================] - ETA: 0s - loss: 71.8469 - accuracy: 0.562 - ETA: 0s - loss: 41.8322 - accuracy: 0.696 - ETA: 0s - loss: 37.5476 - accuracy: 0.721 - ETA: 0s - loss: 37.2640 - accuracy: 0.713 - ETA: 0s - loss: 46.6010 - accuracy: 0.705 - 2s 59ms/step - loss: 45.7198 - accuracy: 0.7091 - val_loss: 396.9953 - val_accuracy: 0.3988\n"
     ]
    },
    {
     "data": {
      "text/html": [
       "<span style=\"color:#4527A0\"><h1 style=\"font-size:18px\">Trial complete</h1></span>"
      ],
      "text/plain": [
       "<IPython.core.display.HTML object>"
      ]
     },
     "metadata": {},
     "output_type": "display_data"
    },
    {
     "data": {
      "text/html": [
       "<span style=\"color:#4527A0\"><h1 style=\"font-size:18px\">Trial summary</h1></span>"
      ],
      "text/plain": [
       "<IPython.core.display.HTML object>"
      ]
     },
     "metadata": {},
     "output_type": "display_data"
    },
    {
     "data": {
      "text/html": [
       "<span style=\"color:cyan\"> |-Trial ID: 3ba5bd24a1af8d46c9a9e8c7345892f2</span>"
      ],
      "text/plain": [
       "<IPython.core.display.HTML object>"
      ]
     },
     "metadata": {},
     "output_type": "display_data"
    },
    {
     "data": {
      "text/html": [
       "<span style=\"color:cyan\"> |-Score: 0.5178571343421936</span>"
      ],
      "text/plain": [
       "<IPython.core.display.HTML object>"
      ]
     },
     "metadata": {},
     "output_type": "display_data"
    },
    {
     "data": {
      "text/html": [
       "<span style=\"color:cyan\"> |-Best step: 0</span>"
      ],
      "text/plain": [
       "<IPython.core.display.HTML object>"
      ]
     },
     "metadata": {},
     "output_type": "display_data"
    },
    {
     "data": {
      "text/html": [
       "<span style=\"color:#7E57C2\"><h2 style=\"font-size:16px\">Hyperparameters:</h2></span>"
      ],
      "text/plain": [
       "<IPython.core.display.HTML object>"
      ]
     },
     "metadata": {},
     "output_type": "display_data"
    },
    {
     "data": {
      "text/html": [
       "<span style=\"color:cyan\"> |-classification_head_1/dropout: 0</span>"
      ],
      "text/plain": [
       "<IPython.core.display.HTML object>"
      ]
     },
     "metadata": {},
     "output_type": "display_data"
    },
    {
     "data": {
      "text/html": [
       "<span style=\"color:blue\"> |-learning_rate: 0.001</span>"
      ],
      "text/plain": [
       "<IPython.core.display.HTML object>"
      ]
     },
     "metadata": {},
     "output_type": "display_data"
    },
    {
     "data": {
      "text/html": [
       "<span style=\"color:cyan\"> |-optimizer: adam</span>"
      ],
      "text/plain": [
       "<IPython.core.display.HTML object>"
      ]
     },
     "metadata": {},
     "output_type": "display_data"
    },
    {
     "data": {
      "text/html": [
       "<span style=\"color:blue\"> |-structured_data_block_1/dense_block_1/dropout: 0.0</span>"
      ],
      "text/plain": [
       "<IPython.core.display.HTML object>"
      ]
     },
     "metadata": {},
     "output_type": "display_data"
    },
    {
     "data": {
      "text/html": [
       "<span style=\"color:cyan\"> |-structured_data_block_1/dense_block_1/num_layers: 2</span>"
      ],
      "text/plain": [
       "<IPython.core.display.HTML object>"
      ]
     },
     "metadata": {},
     "output_type": "display_data"
    },
    {
     "data": {
      "text/html": [
       "<span style=\"color:blue\"> |-structured_data_block_1/dense_block_1/units_0: 128</span>"
      ],
      "text/plain": [
       "<IPython.core.display.HTML object>"
      ]
     },
     "metadata": {},
     "output_type": "display_data"
    },
    {
     "data": {
      "text/html": [
       "<span style=\"color:cyan\"> |-structured_data_block_1/dense_block_1/units_1: 64</span>"
      ],
      "text/plain": [
       "<IPython.core.display.HTML object>"
      ]
     },
     "metadata": {},
     "output_type": "display_data"
    },
    {
     "data": {
      "text/html": [
       "<span style=\"color:blue\"> |-structured_data_block_1/dense_block_1/units_2: 1024</span>"
      ],
      "text/plain": [
       "<IPython.core.display.HTML object>"
      ]
     },
     "metadata": {},
     "output_type": "display_data"
    },
    {
     "data": {
      "text/html": [
       "<span style=\"color:cyan\"> |-structured_data_block_1/dense_block_1/use_batchnorm: False</span>"
      ],
      "text/plain": [
       "<IPython.core.display.HTML object>"
      ]
     },
     "metadata": {},
     "output_type": "display_data"
    },
    {
     "data": {
      "text/html": [
       "<span style=\"color:#4527A0\"><h1 style=\"font-size:18px\">Starting new trial</h1></span>"
      ],
      "text/plain": [
       "<IPython.core.display.HTML object>"
      ]
     },
     "metadata": {},
     "output_type": "display_data"
    },
    {
     "name": "stdout",
     "output_type": "stream",
     "text": [
      "Epoch 1/1000\n",
      "26/26 [==============================] - ETA: 0s - loss: 1.6743 - accuracy: 0.28 - ETA: 0s - loss: 1.6535 - accuracy: 0.23 - ETA: 0s - loss: 1.6224 - accuracy: 0.23 - ETA: 0s - loss: 1.6337 - accuracy: 0.25 - ETA: 0s - loss: 1.6182 - accuracy: 0.26 - ETA: 0s - loss: 1.6373 - accuracy: 0.26 - 6s 222ms/step - loss: 1.6373 - accuracy: 0.2632 - val_loss: 1.6058 - val_accuracy: 0.2143\n",
      "Epoch 2/1000\n",
      "26/26 [==============================] - ETA: 0s - loss: 1.3928 - accuracy: 0.31 - ETA: 0s - loss: 1.6284 - accuracy: 0.23 - ETA: 0s - loss: 1.6736 - accuracy: 0.25 - ETA: 0s - loss: 1.6695 - accuracy: 0.26 - ETA: 0s - loss: 1.6452 - accuracy: 0.27 - 1s 41ms/step - loss: 1.6385 - accuracy: 0.2752 - val_loss: 1.4936 - val_accuracy: 0.1964\n",
      "Epoch 3/1000\n",
      "26/26 [==============================] - ETA: 0s - loss: 1.6019 - accuracy: 0.21 - ETA: 0s - loss: 1.6812 - accuracy: 0.26 - ETA: 0s - loss: 1.7111 - accuracy: 0.24 - ETA: 0s - loss: 1.6680 - accuracy: 0.27 - ETA: 0s - loss: 1.6708 - accuracy: 0.27 - ETA: 0s - loss: 1.6739 - accuracy: 0.28 - 1s 44ms/step - loss: 1.6739 - accuracy: 0.2825 - val_loss: 1.4459 - val_accuracy: 0.2381\n",
      "Epoch 4/1000\n",
      "26/26 [==============================] - ETA: 0s - loss: 1.4065 - accuracy: 0.31 - ETA: 0s - loss: 1.6213 - accuracy: 0.26 - ETA: 0s - loss: 1.6283 - accuracy: 0.30 - ETA: 0s - loss: 1.6204 - accuracy: 0.30 - ETA: 0s - loss: 1.6045 - accuracy: 0.29 - ETA: 0s - loss: 1.6036 - accuracy: 0.29 - 1s 44ms/step - loss: 1.6036 - accuracy: 0.2945 - val_loss: 1.4258 - val_accuracy: 0.2560\n",
      "Epoch 5/1000\n",
      "26/26 [==============================] - ETA: 0s - loss: 1.5181 - accuracy: 0.31 - ETA: 0s - loss: 1.5376 - accuracy: 0.25 - ETA: 0s - loss: 1.5667 - accuracy: 0.25 - ETA: 0s - loss: 1.5740 - accuracy: 0.26 - ETA: 0s - loss: 1.5589 - accuracy: 0.28 - ETA: 0s - loss: 1.5761 - accuracy: 0.28 - 1s 35ms/step - loss: 1.5761 - accuracy: 0.2873 - val_loss: 1.4193 - val_accuracy: 0.2738\n",
      "Epoch 6/1000\n",
      "26/26 [==============================] - ETA: 0s - loss: 1.4672 - accuracy: 0.28 - ETA: 0s - loss: 1.6155 - accuracy: 0.22 - ETA: 0s - loss: 1.5979 - accuracy: 0.25 - ETA: 0s - loss: 1.5892 - accuracy: 0.27 - ETA: 0s - loss: 1.5990 - accuracy: 0.26 - ETA: 0s - loss: 1.6120 - accuracy: 0.26 - 1s 35ms/step - loss: 1.6120 - accuracy: 0.2620 - val_loss: 1.4150 - val_accuracy: 0.2917\n",
      "Epoch 7/1000\n",
      "26/26 [==============================] - ETA: 0s - loss: 1.5491 - accuracy: 0.18 - ETA: 0s - loss: 1.6711 - accuracy: 0.22 - ETA: 0s - loss: 1.6700 - accuracy: 0.26 - ETA: 0s - loss: 1.6365 - accuracy: 0.26 - ETA: 0s - loss: 1.6494 - accuracy: 0.26 - 1s 37ms/step - loss: 1.6479 - accuracy: 0.2632 - val_loss: 1.4094 - val_accuracy: 0.2917\n",
      "Epoch 8/1000\n",
      "26/26 [==============================] - ETA: 0s - loss: 1.4657 - accuracy: 0.34 - ETA: 0s - loss: 1.6746 - accuracy: 0.22 - ETA: 0s - loss: 1.6741 - accuracy: 0.25 - ETA: 0s - loss: 1.6602 - accuracy: 0.25 - ETA: 0s - loss: 1.6340 - accuracy: 0.26 - ETA: 0s - loss: 1.6254 - accuracy: 0.26 - 1s 38ms/step - loss: 1.6254 - accuracy: 0.2644 - val_loss: 1.4060 - val_accuracy: 0.2976\n",
      "Epoch 9/1000\n",
      "26/26 [==============================] - ETA: 0s - loss: 1.7561 - accuracy: 0.21 - ETA: 0s - loss: 1.7593 - accuracy: 0.23 - ETA: 0s - loss: 1.7375 - accuracy: 0.26 - ETA: 0s - loss: 1.7339 - accuracy: 0.26 - ETA: 0s - loss: 1.6739 - accuracy: 0.26 - ETA: 0s - loss: 1.6764 - accuracy: 0.25 - 1s 41ms/step - loss: 1.6675 - accuracy: 0.2560 - val_loss: 1.4026 - val_accuracy: 0.3214\n",
      "Epoch 10/1000\n",
      "26/26 [==============================] - ETA: 0s - loss: 1.5319 - accuracy: 0.37 - ETA: 0s - loss: 1.7517 - accuracy: 0.25 - ETA: 0s - loss: 1.6963 - accuracy: 0.26 - ETA: 0s - loss: 1.6556 - accuracy: 0.27 - ETA: 0s - loss: 1.6463 - accuracy: 0.27 - ETA: 0s - loss: 1.6392 - accuracy: 0.27 - 1s 44ms/step - loss: 1.6392 - accuracy: 0.2764 - val_loss: 1.3991 - val_accuracy: 0.3274\n",
      "Epoch 11/1000\n",
      "26/26 [==============================] - ETA: 0s - loss: 1.6066 - accuracy: 0.25 - ETA: 0s - loss: 1.7136 - accuracy: 0.22 - ETA: 0s - loss: 1.6806 - accuracy: 0.22 - ETA: 0s - loss: 1.6580 - accuracy: 0.24 - ETA: 0s - loss: 1.6164 - accuracy: 0.25 - ETA: 0s - loss: 1.6136 - accuracy: 0.26 - 1s 38ms/step - loss: 1.6206 - accuracy: 0.2620 - val_loss: 1.3980 - val_accuracy: 0.3393\n",
      "Epoch 12/1000\n",
      "26/26 [==============================] - ETA: 0s - loss: 1.7362 - accuracy: 0.18 - ETA: 0s - loss: 1.6650 - accuracy: 0.25 - ETA: 0s - loss: 1.6576 - accuracy: 0.29 - ETA: 0s - loss: 1.6575 - accuracy: 0.28 - ETA: 0s - loss: 1.6440 - accuracy: 0.28 - ETA: 0s - loss: 1.6200 - accuracy: 0.28 - 1s 33ms/step - loss: 1.6200 - accuracy: 0.2849 - val_loss: 1.3972 - val_accuracy: 0.3393\n",
      "Epoch 13/1000\n",
      "26/26 [==============================] - ETA: 0s - loss: 1.8834 - accuracy: 0.28 - ETA: 0s - loss: 1.7012 - accuracy: 0.28 - ETA: 0s - loss: 1.6733 - accuracy: 0.26 - ETA: 0s - loss: 1.6104 - accuracy: 0.28 - ETA: 0s - loss: 1.6314 - accuracy: 0.26 - ETA: 0s - loss: 1.6175 - accuracy: 0.27 - 1s 37ms/step - loss: 1.6080 - accuracy: 0.2752 - val_loss: 1.3976 - val_accuracy: 0.3393\n",
      "Epoch 14/1000\n",
      "26/26 [==============================] - ETA: 0s - loss: 1.4677 - accuracy: 0.31 - ETA: 0s - loss: 1.6339 - accuracy: 0.29 - ETA: 0s - loss: 1.6535 - accuracy: 0.25 - ETA: 0s - loss: 1.6341 - accuracy: 0.27 - ETA: 0s - loss: 1.6306 - accuracy: 0.27 - ETA: 0s - loss: 1.6086 - accuracy: 0.27 - 1s 42ms/step - loss: 1.6086 - accuracy: 0.2788 - val_loss: 1.3985 - val_accuracy: 0.3452\n",
      "Epoch 15/1000\n",
      "26/26 [==============================] - ETA: 0s - loss: 1.5472 - accuracy: 0.28 - ETA: 0s - loss: 1.6383 - accuracy: 0.29 - ETA: 0s - loss: 1.5978 - accuracy: 0.31 - ETA: 0s - loss: 1.6190 - accuracy: 0.29 - ETA: 0s - loss: 1.6071 - accuracy: 0.30 - ETA: 0s - loss: 1.5795 - accuracy: 0.31 - 1s 35ms/step - loss: 1.5795 - accuracy: 0.3101 - val_loss: 1.3970 - val_accuracy: 0.3333\n",
      "Epoch 16/1000\n",
      "26/26 [==============================] - ETA: 0s - loss: 1.6471 - accuracy: 0.28 - ETA: 0s - loss: 1.6942 - accuracy: 0.23 - ETA: 0s - loss: 1.7125 - accuracy: 0.25 - ETA: 0s - loss: 1.6997 - accuracy: 0.25 - ETA: 0s - loss: 1.6699 - accuracy: 0.27 - ETA: 0s - loss: 1.6501 - accuracy: 0.27 - 1s 43ms/step - loss: 1.6501 - accuracy: 0.2728 - val_loss: 1.3969 - val_accuracy: 0.3333\n",
      "Epoch 17/1000\n",
      "26/26 [==============================] - ETA: 0s - loss: 1.3955 - accuracy: 0.37 - ETA: 0s - loss: 1.6430 - accuracy: 0.28 - ETA: 0s - loss: 1.6178 - accuracy: 0.28 - ETA: 0s - loss: 1.5840 - accuracy: 0.28 - ETA: 0s - loss: 1.5963 - accuracy: 0.27 - 1s 38ms/step - loss: 1.6085 - accuracy: 0.2800 - val_loss: 1.3964 - val_accuracy: 0.3393\n",
      "Epoch 18/1000\n",
      "26/26 [==============================] - ETA: 0s - loss: 1.4536 - accuracy: 0.34 - ETA: 0s - loss: 1.6046 - accuracy: 0.27 - ETA: 0s - loss: 1.6072 - accuracy: 0.29 - ETA: 0s - loss: 1.6221 - accuracy: 0.28 - ETA: 0s - loss: 1.5960 - accuracy: 0.29 - ETA: 0s - loss: 1.5826 - accuracy: 0.29 - 1s 36ms/step - loss: 1.5826 - accuracy: 0.2969 - val_loss: 1.3955 - val_accuracy: 0.3452\n",
      "Epoch 19/1000\n",
      "26/26 [==============================] - ETA: 0s - loss: 1.3507 - accuracy: 0.34 - ETA: 0s - loss: 1.6961 - accuracy: 0.26 - ETA: 0s - loss: 1.6938 - accuracy: 0.27 - ETA: 0s - loss: 1.6672 - accuracy: 0.27 - ETA: 0s - loss: 1.6424 - accuracy: 0.27 - ETA: 0s - loss: 1.6298 - accuracy: 0.27 - 1s 36ms/step - loss: 1.6298 - accuracy: 0.2716 - val_loss: 1.3955 - val_accuracy: 0.3393\n",
      "Epoch 20/1000\n",
      "26/26 [==============================] - ETA: 0s - loss: 1.6061 - accuracy: 0.31 - ETA: 0s - loss: 1.6429 - accuracy: 0.23 - ETA: 0s - loss: 1.6316 - accuracy: 0.22 - ETA: 0s - loss: 1.6168 - accuracy: 0.24 - ETA: 0s - loss: 1.6110 - accuracy: 0.24 - ETA: 0s - loss: 1.6007 - accuracy: 0.24 - 1s 34ms/step - loss: 1.6007 - accuracy: 0.2488 - val_loss: 1.3956 - val_accuracy: 0.3452\n",
      "Epoch 21/1000\n",
      "26/26 [==============================] - ETA: 0s - loss: 1.4652 - accuracy: 0.43 - ETA: 0s - loss: 1.5780 - accuracy: 0.32 - ETA: 0s - loss: 1.5538 - accuracy: 0.31 - ETA: 0s - loss: 1.5565 - accuracy: 0.30 - ETA: 0s - loss: 1.5447 - accuracy: 0.30 - ETA: 0s - loss: 1.5524 - accuracy: 0.30 - 1s 36ms/step - loss: 1.5524 - accuracy: 0.3017 - val_loss: 1.3938 - val_accuracy: 0.3393\n"
     ]
    },
    {
     "name": "stdout",
     "output_type": "stream",
     "text": [
      "Epoch 22/1000\n",
      "26/26 [==============================] - ETA: 0s - loss: 1.5329 - accuracy: 0.40 - ETA: 0s - loss: 1.5703 - accuracy: 0.30 - ETA: 0s - loss: 1.5506 - accuracy: 0.31 - ETA: 0s - loss: 1.5428 - accuracy: 0.31 - ETA: 0s - loss: 1.5302 - accuracy: 0.30 - ETA: 0s - loss: 1.5395 - accuracy: 0.30 - 1s 51ms/step - loss: 1.5395 - accuracy: 0.3017 - val_loss: 1.3918 - val_accuracy: 0.3333\n",
      "Epoch 23/1000\n",
      "26/26 [==============================] - ETA: 0s - loss: 1.4360 - accuracy: 0.31 - ETA: 0s - loss: 1.5452 - accuracy: 0.28 - ETA: 0s - loss: 1.5490 - accuracy: 0.31 - ETA: 0s - loss: 1.5559 - accuracy: 0.30 - ETA: 0s - loss: 1.5720 - accuracy: 0.29 - ETA: 0s - loss: 1.5713 - accuracy: 0.28 - 1s 32ms/step - loss: 1.5713 - accuracy: 0.2885 - val_loss: 1.3894 - val_accuracy: 0.3393\n",
      "Epoch 24/1000\n",
      "26/26 [==============================] - ETA: 0s - loss: 1.3968 - accuracy: 0.37 - ETA: 0s - loss: 1.6585 - accuracy: 0.31 - ETA: 0s - loss: 1.6207 - accuracy: 0.34 - ETA: 0s - loss: 1.6214 - accuracy: 0.33 - ETA: 0s - loss: 1.5939 - accuracy: 0.32 - ETA: 0s - loss: 1.6097 - accuracy: 0.31 - 1s 37ms/step - loss: 1.6097 - accuracy: 0.3137 - val_loss: 1.3878 - val_accuracy: 0.3393\n",
      "Epoch 25/1000\n",
      "26/26 [==============================] - ETA: 0s - loss: 1.6063 - accuracy: 0.28 - ETA: 0s - loss: 1.6641 - accuracy: 0.25 - ETA: 0s - loss: 1.6958 - accuracy: 0.25 - ETA: 0s - loss: 1.6561 - accuracy: 0.26 - ETA: 0s - loss: 1.6534 - accuracy: 0.26 - ETA: 0s - loss: 1.6385 - accuracy: 0.27 - 1s 39ms/step - loss: 1.6385 - accuracy: 0.2740 - val_loss: 1.3868 - val_accuracy: 0.3452\n",
      "Epoch 26/1000\n",
      "26/26 [==============================] - ETA: 0s - loss: 1.4450 - accuracy: 0.31 - ETA: 0s - loss: 1.5921 - accuracy: 0.30 - ETA: 0s - loss: 1.5943 - accuracy: 0.29 - ETA: 0s - loss: 1.5955 - accuracy: 0.28 - ETA: 0s - loss: 1.5866 - accuracy: 0.28 - ETA: 0s - loss: 1.5766 - accuracy: 0.29 - 1s 32ms/step - loss: 1.5766 - accuracy: 0.2957 - val_loss: 1.3861 - val_accuracy: 0.3393\n",
      "Epoch 27/1000\n",
      "26/26 [==============================] - ETA: 0s - loss: 1.4774 - accuracy: 0.34 - ETA: 0s - loss: 1.5743 - accuracy: 0.25 - ETA: 0s - loss: 1.5457 - accuracy: 0.29 - ETA: 0s - loss: 1.5507 - accuracy: 0.30 - ETA: 0s - loss: 1.5473 - accuracy: 0.30 - ETA: 0s - loss: 1.5526 - accuracy: 0.29 - 1s 36ms/step - loss: 1.5526 - accuracy: 0.2945 - val_loss: 1.3835 - val_accuracy: 0.3512\n",
      "Epoch 28/1000\n",
      "26/26 [==============================] - ETA: 0s - loss: 1.4413 - accuracy: 0.31 - ETA: 0s - loss: 1.6283 - accuracy: 0.28 - ETA: 0s - loss: 1.5790 - accuracy: 0.29 - ETA: 0s - loss: 1.5564 - accuracy: 0.30 - ETA: 0s - loss: 1.5446 - accuracy: 0.30 - ETA: 0s - loss: 1.5470 - accuracy: 0.30 - 1s 43ms/step - loss: 1.5470 - accuracy: 0.3041 - val_loss: 1.3804 - val_accuracy: 0.3393\n",
      "Epoch 29/1000\n",
      "26/26 [==============================] - ETA: 0s - loss: 1.5322 - accuracy: 0.18 - ETA: 0s - loss: 1.6335 - accuracy: 0.25 - ETA: 0s - loss: 1.6383 - accuracy: 0.26 - ETA: 0s - loss: 1.6456 - accuracy: 0.26 - ETA: 0s - loss: 1.6157 - accuracy: 0.28 - ETA: 0s - loss: 1.6023 - accuracy: 0.28 - 1s 37ms/step - loss: 1.6023 - accuracy: 0.2885 - val_loss: 1.3779 - val_accuracy: 0.3452\n",
      "Epoch 30/1000\n",
      "26/26 [==============================] - ETA: 0s - loss: 1.7068 - accuracy: 0.06 - ETA: 0s - loss: 1.6971 - accuracy: 0.20 - ETA: 0s - loss: 1.6846 - accuracy: 0.22 - ETA: 0s - loss: 1.5857 - accuracy: 0.27 - ETA: 0s - loss: 1.5729 - accuracy: 0.27 - ETA: 0s - loss: 1.5531 - accuracy: 0.29 - 1s 39ms/step - loss: 1.5531 - accuracy: 0.2945 - val_loss: 1.3785 - val_accuracy: 0.3571\n",
      "Epoch 31/1000\n",
      "26/26 [==============================] - ETA: 0s - loss: 1.5600 - accuracy: 0.25 - ETA: 0s - loss: 1.6036 - accuracy: 0.32 - ETA: 0s - loss: 1.5994 - accuracy: 0.29 - ETA: 0s - loss: 1.5967 - accuracy: 0.28 - ETA: 0s - loss: 1.5848 - accuracy: 0.29 - ETA: 0s - loss: 1.5798 - accuracy: 0.28 - 1s 36ms/step - loss: 1.5798 - accuracy: 0.2873 - val_loss: 1.3754 - val_accuracy: 0.3571\n",
      "Epoch 32/1000\n",
      "26/26 [==============================] - ETA: 0s - loss: 1.5077 - accuracy: 0.31 - ETA: 0s - loss: 1.6197 - accuracy: 0.28 - ETA: 0s - loss: 1.6097 - accuracy: 0.29 - ETA: 0s - loss: 1.5802 - accuracy: 0.29 - ETA: 0s - loss: 1.5726 - accuracy: 0.29 - ETA: 0s - loss: 1.5687 - accuracy: 0.30 - 1s 34ms/step - loss: 1.5687 - accuracy: 0.3005 - val_loss: 1.3736 - val_accuracy: 0.3512\n",
      "Epoch 33/1000\n",
      "26/26 [==============================] - ETA: 0s - loss: 1.3457 - accuracy: 0.40 - ETA: 0s - loss: 1.5401 - accuracy: 0.28 - ETA: 0s - loss: 1.5250 - accuracy: 0.28 - ETA: 0s - loss: 1.5271 - accuracy: 0.30 - ETA: 0s - loss: 1.5317 - accuracy: 0.31 - 1s 35ms/step - loss: 1.5435 - accuracy: 0.3125 - val_loss: 1.3721 - val_accuracy: 0.3512\n",
      "Epoch 34/1000\n",
      "26/26 [==============================] - ETA: 0s - loss: 1.6281 - accuracy: 0.25 - ETA: 0s - loss: 1.5519 - accuracy: 0.34 - ETA: 0s - loss: 1.5866 - accuracy: 0.32 - ETA: 0s - loss: 1.5416 - accuracy: 0.31 - ETA: 0s - loss: 1.5217 - accuracy: 0.32 - ETA: 0s - loss: 1.5278 - accuracy: 0.32 - 1s 43ms/step - loss: 1.5278 - accuracy: 0.3245 - val_loss: 1.3704 - val_accuracy: 0.3571\n",
      "Epoch 35/1000\n",
      "26/26 [==============================] - ETA: 0s - loss: 1.6167 - accuracy: 0.21 - ETA: 0s - loss: 1.5825 - accuracy: 0.28 - ETA: 0s - loss: 1.6239 - accuracy: 0.27 - ETA: 0s - loss: 1.6024 - accuracy: 0.27 - ETA: 0s - loss: 1.5863 - accuracy: 0.26 - ETA: 0s - loss: 1.5646 - accuracy: 0.28 - 1s 36ms/step - loss: 1.5646 - accuracy: 0.2800 - val_loss: 1.3686 - val_accuracy: 0.3452\n",
      "Epoch 36/1000\n",
      "26/26 [==============================] - ETA: 0s - loss: 1.4839 - accuracy: 0.21 - ETA: 0s - loss: 1.5462 - accuracy: 0.27 - ETA: 0s - loss: 1.6051 - accuracy: 0.28 - ETA: 0s - loss: 1.5732 - accuracy: 0.28 - ETA: 0s - loss: 1.5771 - accuracy: 0.27 - ETA: 0s - loss: 1.5401 - accuracy: 0.29 - 1s 37ms/step - loss: 1.5401 - accuracy: 0.2933 - val_loss: 1.3703 - val_accuracy: 0.3333\n",
      "Epoch 37/1000\n",
      "26/26 [==============================] - ETA: 0s - loss: 1.5193 - accuracy: 0.31 - ETA: 0s - loss: 1.6469 - accuracy: 0.25 - ETA: 0s - loss: 1.5731 - accuracy: 0.29 - ETA: 0s - loss: 1.5852 - accuracy: 0.30 - ETA: 0s - loss: 1.5627 - accuracy: 0.30 - ETA: 0s - loss: 1.5721 - accuracy: 0.30 - 1s 38ms/step - loss: 1.5721 - accuracy: 0.3077 - val_loss: 1.3704 - val_accuracy: 0.3393\n",
      "Epoch 38/1000\n",
      "26/26 [==============================] - ETA: 0s - loss: 1.5949 - accuracy: 0.28 - ETA: 0s - loss: 1.6832 - accuracy: 0.26 - ETA: 0s - loss: 1.5771 - accuracy: 0.30 - ETA: 0s - loss: 1.5823 - accuracy: 0.27 - ETA: 0s - loss: 1.5484 - accuracy: 0.28 - ETA: 0s - loss: 1.5593 - accuracy: 0.28 - 1s 40ms/step - loss: 1.5593 - accuracy: 0.2837 - val_loss: 1.3685 - val_accuracy: 0.3512\n",
      "Epoch 39/1000\n",
      "26/26 [==============================] - ETA: 0s - loss: 1.2638 - accuracy: 0.43 - ETA: 0s - loss: 1.5713 - accuracy: 0.26 - ETA: 0s - loss: 1.5916 - accuracy: 0.28 - ETA: 0s - loss: 1.5924 - accuracy: 0.29 - ETA: 0s - loss: 1.6002 - accuracy: 0.29 - ETA: 0s - loss: 1.5566 - accuracy: 0.31 - 1s 41ms/step - loss: 1.5566 - accuracy: 0.3149 - val_loss: 1.3675 - val_accuracy: 0.3571\n",
      "Epoch 40/1000\n",
      "26/26 [==============================] - ETA: 0s - loss: 1.6001 - accuracy: 0.21 - ETA: 0s - loss: 1.5602 - accuracy: 0.31 - ETA: 0s - loss: 1.5152 - accuracy: 0.29 - ETA: 0s - loss: 1.5145 - accuracy: 0.31 - ETA: 0s - loss: 1.5205 - accuracy: 0.30 - ETA: 0s - loss: 1.5355 - accuracy: 0.30 - 1s 49ms/step - loss: 1.5355 - accuracy: 0.3065 - val_loss: 1.3665 - val_accuracy: 0.3452\n",
      "Epoch 41/1000\n",
      "26/26 [==============================] - ETA: 0s - loss: 1.6456 - accuracy: 0.34 - ETA: 0s - loss: 1.5845 - accuracy: 0.31 - ETA: 0s - loss: 1.5789 - accuracy: 0.27 - ETA: 0s - loss: 1.5812 - accuracy: 0.27 - ETA: 0s - loss: 1.5574 - accuracy: 0.27 - 1s 38ms/step - loss: 1.5558 - accuracy: 0.2800 - val_loss: 1.3642 - val_accuracy: 0.3631\n",
      "Epoch 42/1000\n",
      "26/26 [==============================] - ETA: 0s - loss: 1.2850 - accuracy: 0.37 - ETA: 0s - loss: 1.5207 - accuracy: 0.30 - ETA: 0s - loss: 1.5435 - accuracy: 0.30 - ETA: 0s - loss: 1.5370 - accuracy: 0.30 - ETA: 0s - loss: 1.5223 - accuracy: 0.31 - ETA: 0s - loss: 1.5163 - accuracy: 0.30 - 1s 35ms/step - loss: 1.5163 - accuracy: 0.3041 - val_loss: 1.3627 - val_accuracy: 0.3631\n"
     ]
    },
    {
     "name": "stdout",
     "output_type": "stream",
     "text": [
      "Epoch 43/1000\n",
      "26/26 [==============================] - ETA: 0s - loss: 1.3673 - accuracy: 0.34 - ETA: 0s - loss: 1.5489 - accuracy: 0.23 - ETA: 0s - loss: 1.5774 - accuracy: 0.26 - ETA: 0s - loss: 1.5395 - accuracy: 0.27 - ETA: 0s - loss: 1.5646 - accuracy: 0.27 - 1s 35ms/step - loss: 1.5542 - accuracy: 0.2873 - val_loss: 1.3608 - val_accuracy: 0.3631\n",
      "Epoch 44/1000\n",
      "26/26 [==============================] - ETA: 0s - loss: 1.4999 - accuracy: 0.21 - ETA: 0s - loss: 1.6272 - accuracy: 0.30 - ETA: 0s - loss: 1.5710 - accuracy: 0.31 - ETA: 0s - loss: 1.5584 - accuracy: 0.31 - ETA: 0s - loss: 1.5337 - accuracy: 0.30 - ETA: 0s - loss: 1.5267 - accuracy: 0.30 - 1s 35ms/step - loss: 1.5267 - accuracy: 0.3089 - val_loss: 1.3605 - val_accuracy: 0.3571\n",
      "Epoch 45/1000\n",
      "26/26 [==============================] - ETA: 0s - loss: 1.4253 - accuracy: 0.25 - ETA: 0s - loss: 1.4967 - accuracy: 0.26 - ETA: 0s - loss: 1.5166 - accuracy: 0.29 - ETA: 0s - loss: 1.5353 - accuracy: 0.28 - ETA: 0s - loss: 1.5247 - accuracy: 0.29 - ETA: 0s - loss: 1.5314 - accuracy: 0.29 - 1s 35ms/step - loss: 1.5314 - accuracy: 0.2921 - val_loss: 1.3599 - val_accuracy: 0.3452\n",
      "Epoch 46/1000\n",
      "26/26 [==============================] - ETA: 0s - loss: 1.3767 - accuracy: 0.34 - ETA: 0s - loss: 1.4752 - accuracy: 0.35 - ETA: 0s - loss: 1.4959 - accuracy: 0.32 - ETA: 0s - loss: 1.5038 - accuracy: 0.32 - ETA: 0s - loss: 1.5090 - accuracy: 0.31 - 1s 49ms/step - loss: 1.5173 - accuracy: 0.3089 - val_loss: 1.3591 - val_accuracy: 0.3571\n",
      "Epoch 47/1000\n",
      "26/26 [==============================] - ETA: 0s - loss: 1.5098 - accuracy: 0.34 - ETA: 0s - loss: 1.5437 - accuracy: 0.26 - ETA: 0s - loss: 1.5497 - accuracy: 0.25 - ETA: 0s - loss: 1.5506 - accuracy: 0.25 - ETA: 0s - loss: 1.5391 - accuracy: 0.25 - ETA: 0s - loss: 1.5340 - accuracy: 0.27 - 1s 36ms/step - loss: 1.5340 - accuracy: 0.2704 - val_loss: 1.3596 - val_accuracy: 0.3571\n",
      "Epoch 48/1000\n",
      "26/26 [==============================] - ETA: 0s - loss: 1.3031 - accuracy: 0.40 - ETA: 0s - loss: 1.6079 - accuracy: 0.25 - ETA: 0s - loss: 1.5790 - accuracy: 0.28 - ETA: 0s - loss: 1.5673 - accuracy: 0.29 - ETA: 0s - loss: 1.5291 - accuracy: 0.31 - ETA: 0s - loss: 1.5111 - accuracy: 0.31 - 1s 37ms/step - loss: 1.5031 - accuracy: 0.3233 - val_loss: 1.3607 - val_accuracy: 0.3512\n",
      "Epoch 49/1000\n",
      "26/26 [==============================] - ETA: 0s - loss: 1.5401 - accuracy: 0.25 - ETA: 0s - loss: 1.6099 - accuracy: 0.27 - ETA: 0s - loss: 1.5679 - accuracy: 0.29 - ETA: 0s - loss: 1.5581 - accuracy: 0.28 - ETA: 0s - loss: 1.5502 - accuracy: 0.27 - ETA: 0s - loss: 1.5304 - accuracy: 0.29 - 1s 42ms/step - loss: 1.5304 - accuracy: 0.2969 - val_loss: 1.3590 - val_accuracy: 0.3512\n",
      "Epoch 50/1000\n",
      "26/26 [==============================] - ETA: 0s - loss: 1.5667 - accuracy: 0.21 - ETA: 0s - loss: 1.5519 - accuracy: 0.29 - ETA: 0s - loss: 1.5587 - accuracy: 0.28 - ETA: 0s - loss: 1.5473 - accuracy: 0.27 - ETA: 0s - loss: 1.5607 - accuracy: 0.27 - ETA: 0s - loss: 1.5467 - accuracy: 0.28 - 1s 36ms/step - loss: 1.5467 - accuracy: 0.2825 - val_loss: 1.3560 - val_accuracy: 0.3452\n",
      "Epoch 51/1000\n",
      "26/26 [==============================] - ETA: 0s - loss: 1.5319 - accuracy: 0.37 - ETA: 0s - loss: 1.6457 - accuracy: 0.26 - ETA: 0s - loss: 1.5826 - accuracy: 0.29 - ETA: 0s - loss: 1.5757 - accuracy: 0.30 - ETA: 0s - loss: 1.5742 - accuracy: 0.29 - ETA: 0s - loss: 1.5710 - accuracy: 0.28 - 1s 46ms/step - loss: 1.5710 - accuracy: 0.2837 - val_loss: 1.3560 - val_accuracy: 0.3512\n",
      "Epoch 52/1000\n",
      "26/26 [==============================] - ETA: 0s - loss: 1.3961 - accuracy: 0.40 - ETA: 0s - loss: 1.5693 - accuracy: 0.28 - ETA: 0s - loss: 1.5132 - accuracy: 0.31 - ETA: 0s - loss: 1.4885 - accuracy: 0.31 - ETA: 0s - loss: 1.4947 - accuracy: 0.31 - ETA: 0s - loss: 1.4791 - accuracy: 0.31 - 1s 36ms/step - loss: 1.4791 - accuracy: 0.3125 - val_loss: 1.3532 - val_accuracy: 0.3512\n",
      "Epoch 53/1000\n",
      "26/26 [==============================] - ETA: 0s - loss: 1.3540 - accuracy: 0.37 - ETA: 0s - loss: 1.4174 - accuracy: 0.33 - ETA: 0s - loss: 1.4059 - accuracy: 0.35 - ETA: 0s - loss: 1.4454 - accuracy: 0.33 - ETA: 0s - loss: 1.4701 - accuracy: 0.31 - ETA: 0s - loss: 1.4635 - accuracy: 0.31 - 1s 39ms/step - loss: 1.4567 - accuracy: 0.3197 - val_loss: 1.3517 - val_accuracy: 0.3512\n",
      "Epoch 54/1000\n",
      "26/26 [==============================] - ETA: 0s - loss: 1.4076 - accuracy: 0.25 - ETA: 0s - loss: 1.4754 - accuracy: 0.35 - ETA: 0s - loss: 1.5197 - accuracy: 0.32 - ETA: 0s - loss: 1.4943 - accuracy: 0.32 - ETA: 0s - loss: 1.4916 - accuracy: 0.32 - ETA: 0s - loss: 1.4831 - accuracy: 0.32 - 1s 37ms/step - loss: 1.4831 - accuracy: 0.3293 - val_loss: 1.3517 - val_accuracy: 0.3512\n",
      "Epoch 55/1000\n",
      "26/26 [==============================] - ETA: 0s - loss: 1.7033 - accuracy: 0.21 - ETA: 0s - loss: 1.5451 - accuracy: 0.33 - ETA: 0s - loss: 1.5237 - accuracy: 0.32 - ETA: 0s - loss: 1.5022 - accuracy: 0.33 - ETA: 0s - loss: 1.5030 - accuracy: 0.31 - ETA: 0s - loss: 1.5171 - accuracy: 0.31 - 1s 37ms/step - loss: 1.5171 - accuracy: 0.3173 - val_loss: 1.3528 - val_accuracy: 0.3571\n",
      "Epoch 56/1000\n",
      "26/26 [==============================] - ETA: 0s - loss: 1.2297 - accuracy: 0.34 - ETA: 0s - loss: 1.4857 - accuracy: 0.30 - ETA: 0s - loss: 1.5071 - accuracy: 0.33 - ETA: 0s - loss: 1.4757 - accuracy: 0.33 - ETA: 0s - loss: 1.4730 - accuracy: 0.31 - ETA: 0s - loss: 1.4754 - accuracy: 0.31 - 1s 36ms/step - loss: 1.4754 - accuracy: 0.3173 - val_loss: 1.3489 - val_accuracy: 0.3512\n",
      "Epoch 57/1000\n",
      "26/26 [==============================] - ETA: 0s - loss: 1.3798 - accuracy: 0.28 - ETA: 0s - loss: 1.4901 - accuracy: 0.30 - ETA: 0s - loss: 1.5398 - accuracy: 0.30 - ETA: 0s - loss: 1.5236 - accuracy: 0.30 - ETA: 0s - loss: 1.5078 - accuracy: 0.31 - ETA: 0s - loss: 1.5099 - accuracy: 0.31 - 1s 49ms/step - loss: 1.5099 - accuracy: 0.3161 - val_loss: 1.3476 - val_accuracy: 0.3512\n",
      "Epoch 58/1000\n",
      "26/26 [==============================] - ETA: 0s - loss: 1.4809 - accuracy: 0.28 - ETA: 0s - loss: 1.5762 - accuracy: 0.25 - ETA: 0s - loss: 1.5509 - accuracy: 0.29 - ETA: 0s - loss: 1.5185 - accuracy: 0.30 - ETA: 0s - loss: 1.4920 - accuracy: 0.30 - ETA: 0s - loss: 1.5295 - accuracy: 0.29 - 1s 38ms/step - loss: 1.5183 - accuracy: 0.3029 - val_loss: 1.3442 - val_accuracy: 0.3512\n",
      "Epoch 59/1000\n",
      "26/26 [==============================] - ETA: 0s - loss: 1.5060 - accuracy: 0.21 - ETA: 0s - loss: 1.5576 - accuracy: 0.28 - ETA: 0s - loss: 1.5362 - accuracy: 0.30 - ETA: 0s - loss: 1.5192 - accuracy: 0.31 - ETA: 0s - loss: 1.4983 - accuracy: 0.32 - ETA: 0s - loss: 1.4989 - accuracy: 0.31 - 1s 44ms/step - loss: 1.4989 - accuracy: 0.3173 - val_loss: 1.3443 - val_accuracy: 0.3512\n",
      "Epoch 60/1000\n",
      "26/26 [==============================] - ETA: 0s - loss: 1.5540 - accuracy: 0.34 - ETA: 0s - loss: 1.4467 - accuracy: 0.32 - ETA: 0s - loss: 1.4986 - accuracy: 0.29 - ETA: 0s - loss: 1.4797 - accuracy: 0.30 - ETA: 0s - loss: 1.4935 - accuracy: 0.29 - ETA: 0s - loss: 1.4828 - accuracy: 0.30 - 1s 39ms/step - loss: 1.4828 - accuracy: 0.3065 - val_loss: 1.3433 - val_accuracy: 0.3512\n",
      "Epoch 61/1000\n",
      "26/26 [==============================] - ETA: 0s - loss: 1.2144 - accuracy: 0.37 - ETA: 0s - loss: 1.4562 - accuracy: 0.31 - ETA: 0s - loss: 1.4666 - accuracy: 0.35 - ETA: 0s - loss: 1.4849 - accuracy: 0.34 - ETA: 0s - loss: 1.5021 - accuracy: 0.33 - ETA: 0s - loss: 1.4973 - accuracy: 0.33 - 1s 40ms/step - loss: 1.4973 - accuracy: 0.3389 - val_loss: 1.3423 - val_accuracy: 0.3571\n",
      "Epoch 62/1000\n",
      "26/26 [==============================] - ETA: 0s - loss: 1.4119 - accuracy: 0.28 - ETA: 0s - loss: 1.4916 - accuracy: 0.31 - ETA: 0s - loss: 1.4555 - accuracy: 0.31 - ETA: 0s - loss: 1.4628 - accuracy: 0.31 - ETA: 0s - loss: 1.4837 - accuracy: 0.32 - ETA: 0s - loss: 1.4866 - accuracy: 0.34 - 1s 38ms/step - loss: 1.4866 - accuracy: 0.3425 - val_loss: 1.3412 - val_accuracy: 0.3631\n",
      "Epoch 63/1000\n",
      "26/26 [==============================] - ETA: 0s - loss: 1.5330 - accuracy: 0.25 - ETA: 0s - loss: 1.5149 - accuracy: 0.30 - ETA: 0s - loss: 1.4713 - accuracy: 0.32 - ETA: 0s - loss: 1.4772 - accuracy: 0.31 - ETA: 0s - loss: 1.4826 - accuracy: 0.31 - ETA: 0s - loss: 1.4934 - accuracy: 0.30 - 2s 58ms/step - loss: 1.4876 - accuracy: 0.3113 - val_loss: 1.3411 - val_accuracy: 0.3631\n"
     ]
    },
    {
     "name": "stdout",
     "output_type": "stream",
     "text": [
      "Epoch 64/1000\n",
      "26/26 [==============================] - ETA: 0s - loss: 1.2380 - accuracy: 0.50 - ETA: 0s - loss: 1.4720 - accuracy: 0.38 - ETA: 0s - loss: 1.4917 - accuracy: 0.34 - ETA: 0s - loss: 1.4877 - accuracy: 0.33 - ETA: 0s - loss: 1.4694 - accuracy: 0.33 - ETA: 0s - loss: 1.4620 - accuracy: 0.33 - 1s 39ms/step - loss: 1.4620 - accuracy: 0.3341 - val_loss: 1.3410 - val_accuracy: 0.3571\n",
      "Epoch 65/1000\n",
      "26/26 [==============================] - ETA: 0s - loss: 1.4412 - accuracy: 0.31 - ETA: 0s - loss: 1.4585 - accuracy: 0.28 - ETA: 0s - loss: 1.4804 - accuracy: 0.27 - ETA: 0s - loss: 1.4876 - accuracy: 0.28 - ETA: 0s - loss: 1.5019 - accuracy: 0.27 - ETA: 0s - loss: 1.4925 - accuracy: 0.29 - 1s 38ms/step - loss: 1.4844 - accuracy: 0.2969 - val_loss: 1.3399 - val_accuracy: 0.3690\n",
      "Epoch 66/1000\n",
      "26/26 [==============================] - ETA: 0s - loss: 1.2749 - accuracy: 0.40 - ETA: 0s - loss: 1.5310 - accuracy: 0.28 - ETA: 0s - loss: 1.5043 - accuracy: 0.30 - ETA: 0s - loss: 1.5010 - accuracy: 0.32 - ETA: 0s - loss: 1.4917 - accuracy: 0.33 - ETA: 0s - loss: 1.4890 - accuracy: 0.33 - 1s 38ms/step - loss: 1.4890 - accuracy: 0.3317 - val_loss: 1.3398 - val_accuracy: 0.3631\n",
      "Epoch 67/1000\n",
      "26/26 [==============================] - ETA: 0s - loss: 1.5339 - accuracy: 0.28 - ETA: 0s - loss: 1.5509 - accuracy: 0.26 - ETA: 0s - loss: 1.4659 - accuracy: 0.32 - ETA: 0s - loss: 1.4820 - accuracy: 0.31 - ETA: 0s - loss: 1.4608 - accuracy: 0.32 - ETA: 0s - loss: 1.4492 - accuracy: 0.33 - 1s 38ms/step - loss: 1.4492 - accuracy: 0.3341 - val_loss: 1.3401 - val_accuracy: 0.3631\n",
      "Epoch 68/1000\n",
      "26/26 [==============================] - ETA: 0s - loss: 1.3007 - accuracy: 0.50 - ETA: 0s - loss: 1.5075 - accuracy: 0.33 - ETA: 0s - loss: 1.4699 - accuracy: 0.36 - ETA: 0s - loss: 1.4770 - accuracy: 0.36 - ETA: 0s - loss: 1.4717 - accuracy: 0.35 - 1s 38ms/step - loss: 1.4682 - accuracy: 0.3546 - val_loss: 1.3385 - val_accuracy: 0.3631\n",
      "Epoch 69/1000\n",
      "26/26 [==============================] - ETA: 0s - loss: 1.5051 - accuracy: 0.31 - ETA: 0s - loss: 1.4961 - accuracy: 0.30 - ETA: 0s - loss: 1.5043 - accuracy: 0.30 - ETA: 0s - loss: 1.4805 - accuracy: 0.31 - ETA: 0s - loss: 1.4622 - accuracy: 0.34 - ETA: 0s - loss: 1.4632 - accuracy: 0.34 - 1s 48ms/step - loss: 1.4632 - accuracy: 0.3425 - val_loss: 1.3383 - val_accuracy: 0.3631\n",
      "Epoch 70/1000\n",
      "26/26 [==============================] - ETA: 0s - loss: 1.4986 - accuracy: 0.28 - ETA: 0s - loss: 1.4956 - accuracy: 0.29 - ETA: 0s - loss: 1.4739 - accuracy: 0.34 - ETA: 0s - loss: 1.4777 - accuracy: 0.33 - ETA: 0s - loss: 1.4802 - accuracy: 0.33 - ETA: 0s - loss: 1.4828 - accuracy: 0.33 - 1s 39ms/step - loss: 1.4828 - accuracy: 0.3377 - val_loss: 1.3356 - val_accuracy: 0.3750\n",
      "Epoch 71/1000\n",
      "26/26 [==============================] - ETA: 0s - loss: 1.4351 - accuracy: 0.28 - ETA: 0s - loss: 1.5416 - accuracy: 0.33 - ETA: 0s - loss: 1.5267 - accuracy: 0.34 - ETA: 0s - loss: 1.5140 - accuracy: 0.33 - ETA: 0s - loss: 1.5075 - accuracy: 0.32 - ETA: 0s - loss: 1.5015 - accuracy: 0.32 - 1s 43ms/step - loss: 1.4940 - accuracy: 0.3245 - val_loss: 1.3331 - val_accuracy: 0.3750\n",
      "Epoch 72/1000\n",
      "26/26 [==============================] - ETA: 0s - loss: 1.5938 - accuracy: 0.21 - ETA: 0s - loss: 1.5040 - accuracy: 0.29 - ETA: 0s - loss: 1.5097 - accuracy: 0.30 - ETA: 0s - loss: 1.4859 - accuracy: 0.31 - ETA: 0s - loss: 1.4714 - accuracy: 0.31 - ETA: 0s - loss: 1.4534 - accuracy: 0.31 - 1s 43ms/step - loss: 1.4519 - accuracy: 0.3221 - val_loss: 1.3332 - val_accuracy: 0.3690\n",
      "Epoch 73/1000\n",
      "26/26 [==============================] - ETA: 0s - loss: 1.5380 - accuracy: 0.21 - ETA: 0s - loss: 1.4878 - accuracy: 0.28 - ETA: 0s - loss: 1.5093 - accuracy: 0.32 - ETA: 0s - loss: 1.4794 - accuracy: 0.34 - ETA: 0s - loss: 1.4776 - accuracy: 0.33 - ETA: 0s - loss: 1.4680 - accuracy: 0.33 - 1s 46ms/step - loss: 1.4680 - accuracy: 0.3365 - val_loss: 1.3321 - val_accuracy: 0.3690\n",
      "Epoch 74/1000\n",
      "26/26 [==============================] - ETA: 0s - loss: 1.2105 - accuracy: 0.43 - ETA: 0s - loss: 1.4606 - accuracy: 0.32 - ETA: 0s - loss: 1.4521 - accuracy: 0.34 - ETA: 0s - loss: 1.4807 - accuracy: 0.32 - ETA: 0s - loss: 1.4631 - accuracy: 0.32 - 1s 38ms/step - loss: 1.4740 - accuracy: 0.3209 - val_loss: 1.3310 - val_accuracy: 0.3810\n",
      "Epoch 75/1000\n",
      "26/26 [==============================] - ETA: 0s - loss: 1.3919 - accuracy: 0.37 - ETA: 0s - loss: 1.5038 - accuracy: 0.33 - ETA: 0s - loss: 1.4766 - accuracy: 0.32 - ETA: 0s - loss: 1.4573 - accuracy: 0.33 - ETA: 0s - loss: 1.4618 - accuracy: 0.31 - ETA: 0s - loss: 1.4757 - accuracy: 0.31 - 1s 50ms/step - loss: 1.4757 - accuracy: 0.3173 - val_loss: 1.3305 - val_accuracy: 0.3750\n",
      "Epoch 76/1000\n",
      "26/26 [==============================] - ETA: 0s - loss: 1.3796 - accuracy: 0.31 - ETA: 0s - loss: 1.4550 - accuracy: 0.35 - ETA: 0s - loss: 1.4282 - accuracy: 0.36 - ETA: 0s - loss: 1.4419 - accuracy: 0.36 - ETA: 0s - loss: 1.4385 - accuracy: 0.35 - 1s 35ms/step - loss: 1.4315 - accuracy: 0.3462 - val_loss: 1.3312 - val_accuracy: 0.3810\n",
      "Epoch 77/1000\n",
      "26/26 [==============================] - ETA: 0s - loss: 1.4056 - accuracy: 0.31 - ETA: 0s - loss: 1.4917 - accuracy: 0.28 - ETA: 0s - loss: 1.4366 - accuracy: 0.32 - ETA: 0s - loss: 1.4482 - accuracy: 0.33 - ETA: 0s - loss: 1.4300 - accuracy: 0.34 - ETA: 0s - loss: 1.4454 - accuracy: 0.33 - 1s 38ms/step - loss: 1.4430 - accuracy: 0.3341 - val_loss: 1.3293 - val_accuracy: 0.3690\n",
      "Epoch 78/1000\n",
      "26/26 [==============================] - ETA: 0s - loss: 1.3035 - accuracy: 0.46 - ETA: 0s - loss: 1.4498 - accuracy: 0.36 - ETA: 0s - loss: 1.4512 - accuracy: 0.34 - ETA: 0s - loss: 1.4474 - accuracy: 0.34 - ETA: 0s - loss: 1.4634 - accuracy: 0.33 - ETA: 0s - loss: 1.4663 - accuracy: 0.32 - 1s 45ms/step - loss: 1.4663 - accuracy: 0.3221 - val_loss: 1.3281 - val_accuracy: 0.3750\n",
      "Epoch 79/1000\n",
      "26/26 [==============================] - ETA: 0s - loss: 1.4092 - accuracy: 0.37 - ETA: 0s - loss: 1.4427 - accuracy: 0.32 - ETA: 0s - loss: 1.4932 - accuracy: 0.30 - ETA: 0s - loss: 1.4868 - accuracy: 0.32 - ETA: 0s - loss: 1.4872 - accuracy: 0.30 - ETA: 0s - loss: 1.4744 - accuracy: 0.32 - 1s 48ms/step - loss: 1.4744 - accuracy: 0.3245 - val_loss: 1.3260 - val_accuracy: 0.3810\n",
      "Epoch 80/1000\n",
      "26/26 [==============================] - ETA: 0s - loss: 1.2549 - accuracy: 0.43 - ETA: 0s - loss: 1.5908 - accuracy: 0.25 - ETA: 0s - loss: 1.5146 - accuracy: 0.32 - ETA: 0s - loss: 1.4914 - accuracy: 0.32 - ETA: 0s - loss: 1.4927 - accuracy: 0.31 - ETA: 0s - loss: 1.4796 - accuracy: 0.31 - 1s 46ms/step - loss: 1.4796 - accuracy: 0.3173 - val_loss: 1.3264 - val_accuracy: 0.3750\n",
      "Epoch 81/1000\n",
      "26/26 [==============================] - ETA: 0s - loss: 1.4246 - accuracy: 0.40 - ETA: 0s - loss: 1.4387 - accuracy: 0.32 - ETA: 0s - loss: 1.4870 - accuracy: 0.31 - ETA: 0s - loss: 1.4884 - accuracy: 0.30 - ETA: 0s - loss: 1.4879 - accuracy: 0.30 - ETA: 0s - loss: 1.4782 - accuracy: 0.30 - 2s 59ms/step - loss: 1.4782 - accuracy: 0.3041 - val_loss: 1.3269 - val_accuracy: 0.3869\n",
      "Epoch 82/1000\n",
      "26/26 [==============================] - ETA: 0s - loss: 1.3824 - accuracy: 0.34 - ETA: 0s - loss: 1.4677 - accuracy: 0.32 - ETA: 0s - loss: 1.4092 - accuracy: 0.34 - ETA: 0s - loss: 1.4005 - accuracy: 0.35 - ETA: 0s - loss: 1.4178 - accuracy: 0.35 - ETA: 0s - loss: 1.4292 - accuracy: 0.35 - 1s 47ms/step - loss: 1.4292 - accuracy: 0.3534 - val_loss: 1.3260 - val_accuracy: 0.3750\n",
      "Epoch 83/1000\n",
      "26/26 [==============================] - ETA: 0s - loss: 1.4226 - accuracy: 0.18 - ETA: 0s - loss: 1.4870 - accuracy: 0.22 - ETA: 0s - loss: 1.4330 - accuracy: 0.30 - ETA: 0s - loss: 1.4286 - accuracy: 0.32 - ETA: 0s - loss: 1.4687 - accuracy: 0.30 - ETA: 0s - loss: 1.4626 - accuracy: 0.31 - 1s 47ms/step - loss: 1.4626 - accuracy: 0.3113 - val_loss: 1.3252 - val_accuracy: 0.3810\n",
      "Epoch 84/1000\n",
      "26/26 [==============================] - ETA: 0s - loss: 1.5911 - accuracy: 0.21 - ETA: 0s - loss: 1.5936 - accuracy: 0.32 - ETA: 0s - loss: 1.5295 - accuracy: 0.32 - ETA: 0s - loss: 1.5197 - accuracy: 0.31 - ETA: 0s - loss: 1.5178 - accuracy: 0.31 - ETA: 0s - loss: 1.5189 - accuracy: 0.32 - 1s 47ms/step - loss: 1.5189 - accuracy: 0.3269 - val_loss: 1.3255 - val_accuracy: 0.3810\n"
     ]
    },
    {
     "name": "stdout",
     "output_type": "stream",
     "text": [
      "Epoch 85/1000\n",
      "26/26 [==============================] - ETA: 0s - loss: 1.3276 - accuracy: 0.43 - ETA: 0s - loss: 1.4281 - accuracy: 0.36 - ETA: 0s - loss: 1.5002 - accuracy: 0.33 - ETA: 0s - loss: 1.5053 - accuracy: 0.31 - ETA: 0s - loss: 1.4741 - accuracy: 0.33 - ETA: 0s - loss: 1.4532 - accuracy: 0.34 - 1s 47ms/step - loss: 1.4532 - accuracy: 0.3462 - val_loss: 1.3257 - val_accuracy: 0.3869\n",
      "Epoch 86/1000\n",
      "26/26 [==============================] - ETA: 0s - loss: 1.4202 - accuracy: 0.31 - ETA: 0s - loss: 1.4463 - accuracy: 0.33 - ETA: 0s - loss: 1.4045 - accuracy: 0.36 - ETA: 0s - loss: 1.4464 - accuracy: 0.35 - ETA: 0s - loss: 1.4433 - accuracy: 0.35 - ETA: 0s - loss: 1.4616 - accuracy: 0.35 - 1s 47ms/step - loss: 1.4616 - accuracy: 0.3510 - val_loss: 1.3240 - val_accuracy: 0.3869\n",
      "Epoch 87/1000\n",
      "26/26 [==============================] - ETA: 0s - loss: 1.5333 - accuracy: 0.40 - ETA: 0s - loss: 1.5645 - accuracy: 0.31 - ETA: 0s - loss: 1.4851 - accuracy: 0.32 - ETA: 0s - loss: 1.4588 - accuracy: 0.32 - ETA: 0s - loss: 1.4563 - accuracy: 0.32 - ETA: 0s - loss: 1.4511 - accuracy: 0.32 - 1s 57ms/step - loss: 1.4511 - accuracy: 0.3245 - val_loss: 1.3236 - val_accuracy: 0.3869\n",
      "Epoch 88/1000\n",
      "26/26 [==============================] - ETA: 0s - loss: 1.4296 - accuracy: 0.31 - ETA: 0s - loss: 1.5067 - accuracy: 0.30 - ETA: 0s - loss: 1.5057 - accuracy: 0.33 - ETA: 0s - loss: 1.4529 - accuracy: 0.34 - ETA: 0s - loss: 1.4713 - accuracy: 0.33 - ETA: 0s - loss: 1.4625 - accuracy: 0.34 - 1s 46ms/step - loss: 1.4625 - accuracy: 0.3413 - val_loss: 1.3224 - val_accuracy: 0.3869\n",
      "Epoch 89/1000\n",
      "26/26 [==============================] - ETA: 0s - loss: 1.5170 - accuracy: 0.28 - ETA: 0s - loss: 1.4992 - accuracy: 0.32 - ETA: 0s - loss: 1.4337 - accuracy: 0.36 - ETA: 0s - loss: 1.4487 - accuracy: 0.34 - ETA: 0s - loss: 1.4638 - accuracy: 0.33 - ETA: 0s - loss: 1.4617 - accuracy: 0.34 - 1s 44ms/step - loss: 1.4617 - accuracy: 0.3450 - val_loss: 1.3219 - val_accuracy: 0.3929\n",
      "Epoch 90/1000\n",
      "26/26 [==============================] - ETA: 0s - loss: 1.3977 - accuracy: 0.34 - ETA: 0s - loss: 1.5154 - accuracy: 0.28 - ETA: 0s - loss: 1.4761 - accuracy: 0.33 - ETA: 0s - loss: 1.4595 - accuracy: 0.33 - ETA: 0s - loss: 1.4751 - accuracy: 0.32 - ETA: 0s - loss: 1.4641 - accuracy: 0.32 - 1s 44ms/step - loss: 1.4641 - accuracy: 0.3293 - val_loss: 1.3220 - val_accuracy: 0.3988\n",
      "Epoch 91/1000\n",
      "26/26 [==============================] - ETA: 0s - loss: 1.2648 - accuracy: 0.34 - ETA: 0s - loss: 1.4091 - accuracy: 0.33 - ETA: 0s - loss: 1.4393 - accuracy: 0.32 - ETA: 0s - loss: 1.4162 - accuracy: 0.34 - ETA: 0s - loss: 1.4436 - accuracy: 0.34 - ETA: 0s - loss: 1.4397 - accuracy: 0.34 - 1s 43ms/step - loss: 1.4397 - accuracy: 0.3462 - val_loss: 1.3207 - val_accuracy: 0.3988\n",
      "Epoch 92/1000\n",
      "26/26 [==============================] - ETA: 0s - loss: 1.2466 - accuracy: 0.34 - ETA: 0s - loss: 1.4042 - accuracy: 0.35 - ETA: 0s - loss: 1.4307 - accuracy: 0.34 - ETA: 0s - loss: 1.4302 - accuracy: 0.33 - ETA: 0s - loss: 1.4414 - accuracy: 0.33 - ETA: 0s - loss: 1.4404 - accuracy: 0.33 - 1s 40ms/step - loss: 1.4404 - accuracy: 0.3317 - val_loss: 1.3190 - val_accuracy: 0.3988\n",
      "Epoch 93/1000\n",
      "26/26 [==============================] - ETA: 0s - loss: 1.4586 - accuracy: 0.34 - ETA: 0s - loss: 1.4580 - accuracy: 0.34 - ETA: 0s - loss: 1.4958 - accuracy: 0.32 - ETA: 0s - loss: 1.4964 - accuracy: 0.32 - ETA: 0s - loss: 1.5075 - accuracy: 0.32 - ETA: 0s - loss: 1.4880 - accuracy: 0.32 - 1s 51ms/step - loss: 1.4880 - accuracy: 0.3245 - val_loss: 1.3187 - val_accuracy: 0.3929\n",
      "Epoch 94/1000\n",
      "26/26 [==============================] - ETA: 0s - loss: 1.3402 - accuracy: 0.43 - ETA: 0s - loss: 1.4547 - accuracy: 0.33 - ETA: 0s - loss: 1.4635 - accuracy: 0.31 - ETA: 0s - loss: 1.4556 - accuracy: 0.32 - ETA: 0s - loss: 1.4638 - accuracy: 0.32 - ETA: 0s - loss: 1.4550 - accuracy: 0.32 - 1s 43ms/step - loss: 1.4428 - accuracy: 0.3293 - val_loss: 1.3189 - val_accuracy: 0.4048\n",
      "Epoch 95/1000\n",
      "26/26 [==============================] - ETA: 0s - loss: 1.5005 - accuracy: 0.28 - ETA: 0s - loss: 1.4869 - accuracy: 0.33 - ETA: 0s - loss: 1.4502 - accuracy: 0.36 - ETA: 0s - loss: 1.4492 - accuracy: 0.36 - ETA: 0s - loss: 1.4470 - accuracy: 0.36 - ETA: 0s - loss: 1.4389 - accuracy: 0.36 - 1s 50ms/step - loss: 1.4389 - accuracy: 0.3666 - val_loss: 1.3166 - val_accuracy: 0.4048\n",
      "Epoch 96/1000\n",
      "26/26 [==============================] - ETA: 0s - loss: 1.2251 - accuracy: 0.43 - ETA: 0s - loss: 1.4238 - accuracy: 0.34 - ETA: 0s - loss: 1.4356 - accuracy: 0.34 - ETA: 0s - loss: 1.4711 - accuracy: 0.32 - ETA: 0s - loss: 1.4650 - accuracy: 0.31 - ETA: 0s - loss: 1.4474 - accuracy: 0.31 - 1s 44ms/step - loss: 1.4474 - accuracy: 0.3197 - val_loss: 1.3171 - val_accuracy: 0.3929\n",
      "Epoch 97/1000\n",
      "26/26 [==============================] - ETA: 0s - loss: 1.4275 - accuracy: 0.37 - ETA: 0s - loss: 1.5581 - accuracy: 0.25 - ETA: 0s - loss: 1.4794 - accuracy: 0.31 - ETA: 0s - loss: 1.4702 - accuracy: 0.33 - ETA: 0s - loss: 1.4479 - accuracy: 0.34 - ETA: 0s - loss: 1.4523 - accuracy: 0.34 - 1s 33ms/step - loss: 1.4523 - accuracy: 0.3401 - val_loss: 1.3159 - val_accuracy: 0.4048\n",
      "Epoch 98/1000\n",
      "26/26 [==============================] - ETA: 0s - loss: 1.3908 - accuracy: 0.37 - ETA: 0s - loss: 1.4275 - accuracy: 0.34 - ETA: 0s - loss: 1.3972 - accuracy: 0.36 - ETA: 0s - loss: 1.4378 - accuracy: 0.35 - ETA: 0s - loss: 1.4263 - accuracy: 0.34 - ETA: 0s - loss: 1.4442 - accuracy: 0.34 - 1s 33ms/step - loss: 1.4442 - accuracy: 0.3438 - val_loss: 1.3156 - val_accuracy: 0.4048\n",
      "Epoch 99/1000\n",
      "26/26 [==============================] - ETA: 0s - loss: 1.4030 - accuracy: 0.28 - ETA: 0s - loss: 1.4455 - accuracy: 0.30 - ETA: 0s - loss: 1.3879 - accuracy: 0.34 - ETA: 0s - loss: 1.4031 - accuracy: 0.33 - ETA: 0s - loss: 1.3987 - accuracy: 0.34 - ETA: 0s - loss: 1.4069 - accuracy: 0.36 - 1s 46ms/step - loss: 1.4022 - accuracy: 0.3654 - val_loss: 1.3145 - val_accuracy: 0.3929\n",
      "Epoch 100/1000\n",
      "26/26 [==============================] - ETA: 0s - loss: 1.3827 - accuracy: 0.40 - ETA: 0s - loss: 1.4790 - accuracy: 0.35 - ETA: 0s - loss: 1.4772 - accuracy: 0.34 - ETA: 0s - loss: 1.4411 - accuracy: 0.36 - ETA: 0s - loss: 1.4507 - accuracy: 0.36 - ETA: 0s - loss: 1.4344 - accuracy: 0.36 - 1s 48ms/step - loss: 1.4344 - accuracy: 0.3642 - val_loss: 1.3138 - val_accuracy: 0.3988\n",
      "Epoch 101/1000\n",
      "26/26 [==============================] - ETA: 0s - loss: 1.3479 - accuracy: 0.40 - ETA: 0s - loss: 1.4617 - accuracy: 0.35 - ETA: 0s - loss: 1.4545 - accuracy: 0.35 - ETA: 0s - loss: 1.4964 - accuracy: 0.33 - ETA: 0s - loss: 1.4750 - accuracy: 0.33 - ETA: 0s - loss: 1.4603 - accuracy: 0.34 - 1s 43ms/step - loss: 1.4603 - accuracy: 0.3413 - val_loss: 1.3143 - val_accuracy: 0.3988\n",
      "Epoch 102/1000\n",
      "26/26 [==============================] - ETA: 0s - loss: 1.3636 - accuracy: 0.34 - ETA: 0s - loss: 1.4873 - accuracy: 0.27 - ETA: 0s - loss: 1.4677 - accuracy: 0.30 - ETA: 0s - loss: 1.4476 - accuracy: 0.32 - ETA: 0s - loss: 1.4492 - accuracy: 0.32 - ETA: 0s - loss: 1.4569 - accuracy: 0.33 - 1s 42ms/step - loss: 1.4569 - accuracy: 0.3341 - val_loss: 1.3119 - val_accuracy: 0.4107\n",
      "Epoch 103/1000\n",
      "26/26 [==============================] - ETA: 0s - loss: 1.3607 - accuracy: 0.34 - ETA: 0s - loss: 1.5635 - accuracy: 0.30 - ETA: 0s - loss: 1.4888 - accuracy: 0.33 - ETA: 0s - loss: 1.4545 - accuracy: 0.33 - ETA: 0s - loss: 1.4428 - accuracy: 0.32 - ETA: 0s - loss: 1.4372 - accuracy: 0.34 - 1s 44ms/step - loss: 1.4372 - accuracy: 0.3401 - val_loss: 1.3114 - val_accuracy: 0.4167\n",
      "Epoch 104/1000\n",
      "26/26 [==============================] - ETA: 0s - loss: 1.5807 - accuracy: 0.34 - ETA: 0s - loss: 1.4725 - accuracy: 0.35 - ETA: 0s - loss: 1.4686 - accuracy: 0.34 - ETA: 0s - loss: 1.4561 - accuracy: 0.35 - ETA: 0s - loss: 1.4548 - accuracy: 0.34 - ETA: 0s - loss: 1.4399 - accuracy: 0.34 - 1s 41ms/step - loss: 1.4399 - accuracy: 0.3438 - val_loss: 1.3109 - val_accuracy: 0.4107\n",
      "Epoch 105/1000\n"
     ]
    },
    {
     "name": "stdout",
     "output_type": "stream",
     "text": [
      "26/26 [==============================] - ETA: 0s - loss: 1.4009 - accuracy: 0.25 - ETA: 0s - loss: 1.4882 - accuracy: 0.30 - ETA: 0s - loss: 1.4824 - accuracy: 0.32 - ETA: 0s - loss: 1.4574 - accuracy: 0.33 - ETA: 0s - loss: 1.4779 - accuracy: 0.33 - ETA: 0s - loss: 1.4756 - accuracy: 0.33 - 2s 62ms/step - loss: 1.4756 - accuracy: 0.3329 - val_loss: 1.3103 - val_accuracy: 0.4167\n",
      "Epoch 106/1000\n",
      "26/26 [==============================] - ETA: 0s - loss: 1.2893 - accuracy: 0.50 - ETA: 0s - loss: 1.6083 - accuracy: 0.34 - ETA: 0s - loss: 1.4841 - accuracy: 0.36 - ETA: 0s - loss: 1.4707 - accuracy: 0.36 - ETA: 0s - loss: 1.4591 - accuracy: 0.35 - ETA: 0s - loss: 1.4502 - accuracy: 0.35 - 1s 44ms/step - loss: 1.4502 - accuracy: 0.3546 - val_loss: 1.3100 - val_accuracy: 0.4167\n",
      "Epoch 107/1000\n",
      "26/26 [==============================] - ETA: 0s - loss: 1.3394 - accuracy: 0.46 - ETA: 0s - loss: 1.4037 - accuracy: 0.39 - ETA: 0s - loss: 1.4054 - accuracy: 0.36 - ETA: 0s - loss: 1.4136 - accuracy: 0.35 - ETA: 0s - loss: 1.4278 - accuracy: 0.33 - ETA: 0s - loss: 1.4412 - accuracy: 0.33 - 1s 44ms/step - loss: 1.4412 - accuracy: 0.3377 - val_loss: 1.3079 - val_accuracy: 0.4167\n",
      "Epoch 108/1000\n",
      "26/26 [==============================] - ETA: 0s - loss: 1.3294 - accuracy: 0.40 - ETA: 0s - loss: 1.4870 - accuracy: 0.40 - ETA: 0s - loss: 1.4780 - accuracy: 0.36 - ETA: 0s - loss: 1.4603 - accuracy: 0.34 - ETA: 0s - loss: 1.4522 - accuracy: 0.33 - ETA: 0s - loss: 1.4315 - accuracy: 0.34 - 1s 44ms/step - loss: 1.4315 - accuracy: 0.3462 - val_loss: 1.3068 - val_accuracy: 0.4167\n",
      "Epoch 109/1000\n",
      "26/26 [==============================] - ETA: 0s - loss: 1.4879 - accuracy: 0.28 - ETA: 0s - loss: 1.5013 - accuracy: 0.27 - ETA: 0s - loss: 1.4402 - accuracy: 0.32 - ETA: 0s - loss: 1.4381 - accuracy: 0.33 - ETA: 0s - loss: 1.4389 - accuracy: 0.33 - 1s 50ms/step - loss: 1.4168 - accuracy: 0.3341 - val_loss: 1.3065 - val_accuracy: 0.4167\n",
      "Epoch 110/1000\n",
      "26/26 [==============================] - ETA: 0s - loss: 1.4097 - accuracy: 0.34 - ETA: 0s - loss: 1.4175 - accuracy: 0.33 - ETA: 0s - loss: 1.4064 - accuracy: 0.33 - ETA: 0s - loss: 1.3953 - accuracy: 0.35 - ETA: 0s - loss: 1.3976 - accuracy: 0.34 - ETA: 0s - loss: 1.3798 - accuracy: 0.35 - 1s 44ms/step - loss: 1.3798 - accuracy: 0.3594 - val_loss: 1.3058 - val_accuracy: 0.4107\n",
      "Epoch 111/1000\n",
      "26/26 [==============================] - ETA: 0s - loss: 1.4138 - accuracy: 0.40 - ETA: 0s - loss: 1.4928 - accuracy: 0.32 - ETA: 0s - loss: 1.4501 - accuracy: 0.35 - ETA: 0s - loss: 1.4067 - accuracy: 0.38 - ETA: 0s - loss: 1.4068 - accuracy: 0.38 - ETA: 0s - loss: 1.4187 - accuracy: 0.37 - 1s 55ms/step - loss: 1.4187 - accuracy: 0.3738 - val_loss: 1.3039 - val_accuracy: 0.4167\n",
      "Epoch 112/1000\n",
      "26/26 [==============================] - ETA: 0s - loss: 1.7504 - accuracy: 0.28 - ETA: 0s - loss: 1.4996 - accuracy: 0.33 - ETA: 0s - loss: 1.4804 - accuracy: 0.32 - ETA: 0s - loss: 1.4573 - accuracy: 0.35 - ETA: 0s - loss: 1.4397 - accuracy: 0.34 - 1s 43ms/step - loss: 1.4327 - accuracy: 0.3486 - val_loss: 1.3028 - val_accuracy: 0.4107\n",
      "Epoch 113/1000\n",
      "26/26 [==============================] - ETA: 0s - loss: 1.3114 - accuracy: 0.50 - ETA: 0s - loss: 1.4249 - accuracy: 0.35 - ETA: 0s - loss: 1.4145 - accuracy: 0.35 - ETA: 0s - loss: 1.4412 - accuracy: 0.34 - ETA: 0s - loss: 1.4528 - accuracy: 0.34 - ETA: 0s - loss: 1.4572 - accuracy: 0.34 - 1s 49ms/step - loss: 1.4572 - accuracy: 0.3425 - val_loss: 1.3032 - val_accuracy: 0.4107\n",
      "Epoch 114/1000\n",
      "26/26 [==============================] - ETA: 0s - loss: 1.3113 - accuracy: 0.46 - ETA: 0s - loss: 1.4464 - accuracy: 0.33 - ETA: 0s - loss: 1.4263 - accuracy: 0.34 - ETA: 0s - loss: 1.4494 - accuracy: 0.35 - ETA: 0s - loss: 1.4316 - accuracy: 0.36 - ETA: 0s - loss: 1.4208 - accuracy: 0.36 - 1s 44ms/step - loss: 1.4208 - accuracy: 0.3654 - val_loss: 1.3035 - val_accuracy: 0.4107\n",
      "Epoch 115/1000\n",
      "26/26 [==============================] - ETA: 0s - loss: 1.3748 - accuracy: 0.37 - ETA: 0s - loss: 1.5012 - accuracy: 0.36 - ETA: 0s - loss: 1.4420 - accuracy: 0.37 - ETA: 0s - loss: 1.4340 - accuracy: 0.38 - ETA: 0s - loss: 1.4286 - accuracy: 0.36 - ETA: 0s - loss: 1.4131 - accuracy: 0.37 - 1s 46ms/step - loss: 1.4131 - accuracy: 0.3750 - val_loss: 1.3035 - val_accuracy: 0.4107\n",
      "Epoch 116/1000\n",
      "26/26 [==============================] - ETA: 0s - loss: 1.3869 - accuracy: 0.28 - ETA: 0s - loss: 1.3835 - accuracy: 0.31 - ETA: 0s - loss: 1.3813 - accuracy: 0.32 - ETA: 0s - loss: 1.3873 - accuracy: 0.33 - ETA: 0s - loss: 1.4365 - accuracy: 0.32 - ETA: 0s - loss: 1.4402 - accuracy: 0.33 - 1s 58ms/step - loss: 1.4373 - accuracy: 0.3389 - val_loss: 1.3031 - val_accuracy: 0.4048\n",
      "Epoch 117/1000\n",
      "26/26 [==============================] - ETA: 0s - loss: 1.5754 - accuracy: 0.53 - ETA: 0s - loss: 1.4259 - accuracy: 0.34 - ETA: 0s - loss: 1.4362 - accuracy: 0.33 - ETA: 0s - loss: 1.4208 - accuracy: 0.34 - ETA: 0s - loss: 1.4182 - accuracy: 0.35 - ETA: 0s - loss: 1.4200 - accuracy: 0.35 - 1s 49ms/step - loss: 1.4200 - accuracy: 0.3522 - val_loss: 1.3039 - val_accuracy: 0.4048\n",
      "Epoch 118/1000\n",
      "26/26 [==============================] - ETA: 0s - loss: 1.4058 - accuracy: 0.34 - ETA: 0s - loss: 1.5093 - accuracy: 0.32 - ETA: 0s - loss: 1.4106 - accuracy: 0.38 - ETA: 0s - loss: 1.3836 - accuracy: 0.38 - ETA: 0s - loss: 1.4039 - accuracy: 0.37 - ETA: 0s - loss: 1.4008 - accuracy: 0.37 - 1s 46ms/step - loss: 1.4008 - accuracy: 0.3702 - val_loss: 1.3004 - val_accuracy: 0.4048\n",
      "Epoch 119/1000\n",
      "26/26 [==============================] - ETA: 0s - loss: 1.2710 - accuracy: 0.37 - ETA: 0s - loss: 1.4787 - accuracy: 0.31 - ETA: 0s - loss: 1.4532 - accuracy: 0.33 - ETA: 0s - loss: 1.4520 - accuracy: 0.33 - ETA: 0s - loss: 1.4587 - accuracy: 0.33 - ETA: 0s - loss: 1.4506 - accuracy: 0.32 - 1s 45ms/step - loss: 1.4506 - accuracy: 0.3293 - val_loss: 1.2993 - val_accuracy: 0.4107\n",
      "Epoch 120/1000\n",
      "26/26 [==============================] - ETA: 0s - loss: 1.3944 - accuracy: 0.31 - ETA: 0s - loss: 1.5092 - accuracy: 0.36 - ETA: 0s - loss: 1.4597 - accuracy: 0.35 - ETA: 0s - loss: 1.4782 - accuracy: 0.35 - ETA: 0s - loss: 1.4466 - accuracy: 0.36 - ETA: 0s - loss: 1.4320 - accuracy: 0.36 - 1s 43ms/step - loss: 1.4320 - accuracy: 0.3654 - val_loss: 1.2978 - val_accuracy: 0.4107\n",
      "Epoch 121/1000\n",
      "26/26 [==============================] - ETA: 0s - loss: 1.3269 - accuracy: 0.43 - ETA: 0s - loss: 1.4062 - accuracy: 0.36 - ETA: 0s - loss: 1.3893 - accuracy: 0.37 - ETA: 0s - loss: 1.3756 - accuracy: 0.39 - ETA: 0s - loss: 1.3719 - accuracy: 0.39 - ETA: 0s - loss: 1.3511 - accuracy: 0.39 - 1s 36ms/step - loss: 1.3511 - accuracy: 0.3978 - val_loss: 1.2971 - val_accuracy: 0.4048\n",
      "Epoch 122/1000\n",
      "26/26 [==============================] - ETA: 0s - loss: 1.2755 - accuracy: 0.40 - ETA: 0s - loss: 1.5730 - accuracy: 0.33 - ETA: 0s - loss: 1.4887 - accuracy: 0.35 - ETA: 0s - loss: 1.4342 - accuracy: 0.36 - ETA: 0s - loss: 1.4625 - accuracy: 0.35 - ETA: 0s - loss: 1.4436 - accuracy: 0.36 - 1s 52ms/step - loss: 1.4436 - accuracy: 0.3654 - val_loss: 1.2968 - val_accuracy: 0.4048\n",
      "Epoch 123/1000\n",
      "26/26 [==============================] - ETA: 0s - loss: 1.4519 - accuracy: 0.28 - ETA: 0s - loss: 1.4465 - accuracy: 0.32 - ETA: 0s - loss: 1.4398 - accuracy: 0.33 - ETA: 0s - loss: 1.4224 - accuracy: 0.35 - ETA: 0s - loss: 1.4284 - accuracy: 0.34 - ETA: 0s - loss: 1.4122 - accuracy: 0.34 - 1s 41ms/step - loss: 1.4122 - accuracy: 0.3474 - val_loss: 1.2959 - val_accuracy: 0.4048\n",
      "Epoch 124/1000\n",
      "26/26 [==============================] - ETA: 0s - loss: 1.4121 - accuracy: 0.18 - ETA: 0s - loss: 1.4657 - accuracy: 0.25 - ETA: 0s - loss: 1.4194 - accuracy: 0.31 - ETA: 0s - loss: 1.4094 - accuracy: 0.31 - ETA: 0s - loss: 1.4042 - accuracy: 0.31 - ETA: 0s - loss: 1.4110 - accuracy: 0.31 - 1s 46ms/step - loss: 1.4110 - accuracy: 0.3173 - val_loss: 1.2955 - val_accuracy: 0.4048\n",
      "Epoch 125/1000\n",
      "26/26 [==============================] - ETA: 0s - loss: 1.3982 - accuracy: 0.37 - ETA: 0s - loss: 1.4620 - accuracy: 0.34 - ETA: 0s - loss: 1.4212 - accuracy: 0.35 - ETA: 0s - loss: 1.4362 - accuracy: 0.34 - ETA: 0s - loss: 1.4147 - accuracy: 0.35 - ETA: 0s - loss: 1.4057 - accuracy: 0.34 - 1s 54ms/step - loss: 1.4100 - accuracy: 0.3522 - val_loss: 1.2947 - val_accuracy: 0.4048\n"
     ]
    },
    {
     "name": "stdout",
     "output_type": "stream",
     "text": [
      "Epoch 126/1000\n",
      "26/26 [==============================] - ETA: 0s - loss: 1.3903 - accuracy: 0.37 - ETA: 0s - loss: 1.3784 - accuracy: 0.36 - ETA: 0s - loss: 1.3513 - accuracy: 0.39 - ETA: 0s - loss: 1.3531 - accuracy: 0.39 - ETA: 0s - loss: 1.3738 - accuracy: 0.38 - ETA: 0s - loss: 1.3786 - accuracy: 0.37 - 1s 47ms/step - loss: 1.3736 - accuracy: 0.3726 - val_loss: 1.2943 - val_accuracy: 0.4107\n",
      "Epoch 127/1000\n",
      "26/26 [==============================] - ETA: 0s - loss: 1.3859 - accuracy: 0.34 - ETA: 0s - loss: 1.5202 - accuracy: 0.30 - ETA: 0s - loss: 1.4673 - accuracy: 0.34 - ETA: 0s - loss: 1.4814 - accuracy: 0.33 - ETA: 0s - loss: 1.4654 - accuracy: 0.33 - ETA: 0s - loss: 1.4608 - accuracy: 0.34 - 1s 49ms/step - loss: 1.4594 - accuracy: 0.3450 - val_loss: 1.2941 - val_accuracy: 0.4107\n",
      "Epoch 128/1000\n",
      "26/26 [==============================] - ETA: 0s - loss: 1.4257 - accuracy: 0.25 - ETA: 0s - loss: 1.4212 - accuracy: 0.31 - ETA: 0s - loss: 1.3918 - accuracy: 0.30 - ETA: 0s - loss: 1.4051 - accuracy: 0.31 - ETA: 0s - loss: 1.4043 - accuracy: 0.32 - ETA: 0s - loss: 1.4071 - accuracy: 0.32 - 2s 58ms/step - loss: 1.4008 - accuracy: 0.3353 - val_loss: 1.2943 - val_accuracy: 0.4286\n",
      "Epoch 129/1000\n",
      "26/26 [==============================] - ETA: 0s - loss: 1.5030 - accuracy: 0.28 - ETA: 0s - loss: 1.4250 - accuracy: 0.34 - ETA: 0s - loss: 1.4015 - accuracy: 0.33 - ETA: 0s - loss: 1.4027 - accuracy: 0.34 - ETA: 0s - loss: 1.3927 - accuracy: 0.34 - ETA: 0s - loss: 1.3796 - accuracy: 0.35 - 1s 49ms/step - loss: 1.3796 - accuracy: 0.3534 - val_loss: 1.2928 - val_accuracy: 0.4048\n",
      "Epoch 130/1000\n",
      "26/26 [==============================] - ETA: 0s - loss: 1.3968 - accuracy: 0.28 - ETA: 0s - loss: 1.4845 - accuracy: 0.31 - ETA: 0s - loss: 1.4877 - accuracy: 0.32 - ETA: 0s - loss: 1.4695 - accuracy: 0.33 - ETA: 0s - loss: 1.4570 - accuracy: 0.32 - ETA: 0s - loss: 1.4524 - accuracy: 0.33 - 1s 50ms/step - loss: 1.4524 - accuracy: 0.3329 - val_loss: 1.2923 - val_accuracy: 0.4107\n",
      "Epoch 131/1000\n",
      "26/26 [==============================] - ETA: 0s - loss: 1.3300 - accuracy: 0.46 - ETA: 0s - loss: 1.5108 - accuracy: 0.34 - ETA: 0s - loss: 1.4456 - accuracy: 0.35 - ETA: 0s - loss: 1.4195 - accuracy: 0.35 - ETA: 0s - loss: 1.4326 - accuracy: 0.34 - ETA: 0s - loss: 1.4084 - accuracy: 0.35 - 1s 47ms/step - loss: 1.4084 - accuracy: 0.3570 - val_loss: 1.2916 - val_accuracy: 0.4226\n",
      "Epoch 132/1000\n",
      "26/26 [==============================] - ETA: 0s - loss: 1.3363 - accuracy: 0.31 - ETA: 0s - loss: 1.4876 - accuracy: 0.31 - ETA: 0s - loss: 1.4494 - accuracy: 0.36 - ETA: 0s - loss: 1.4243 - accuracy: 0.37 - ETA: 0s - loss: 1.4385 - accuracy: 0.35 - ETA: 0s - loss: 1.4194 - accuracy: 0.35 - 1s 47ms/step - loss: 1.4194 - accuracy: 0.3558 - val_loss: 1.2897 - val_accuracy: 0.4048\n",
      "Epoch 133/1000\n",
      "26/26 [==============================] - ETA: 0s - loss: 1.3427 - accuracy: 0.43 - ETA: 0s - loss: 1.3929 - accuracy: 0.37 - ETA: 0s - loss: 1.3505 - accuracy: 0.37 - ETA: 0s - loss: 1.3587 - accuracy: 0.36 - ETA: 0s - loss: 1.3669 - accuracy: 0.37 - 1s 46ms/step - loss: 1.3586 - accuracy: 0.3750 - val_loss: 1.2894 - val_accuracy: 0.4048\n",
      "Epoch 134/1000\n",
      "26/26 [==============================] - ETA: 0s - loss: 1.6320 - accuracy: 0.31 - ETA: 0s - loss: 1.6504 - accuracy: 0.27 - ETA: 0s - loss: 1.5368 - accuracy: 0.30 - ETA: 0s - loss: 1.4994 - accuracy: 0.31 - ETA: 0s - loss: 1.4981 - accuracy: 0.31 - ETA: 0s - loss: 1.4771 - accuracy: 0.33 - 1s 56ms/step - loss: 1.4771 - accuracy: 0.3305 - val_loss: 1.2886 - val_accuracy: 0.4167\n",
      "Epoch 135/1000\n",
      "26/26 [==============================] - ETA: 0s - loss: 1.3229 - accuracy: 0.40 - ETA: 0s - loss: 1.4183 - accuracy: 0.39 - ETA: 0s - loss: 1.4212 - accuracy: 0.36 - ETA: 0s - loss: 1.3957 - accuracy: 0.35 - ETA: 0s - loss: 1.3890 - accuracy: 0.36 - ETA: 0s - loss: 1.3956 - accuracy: 0.35 - 1s 46ms/step - loss: 1.3956 - accuracy: 0.3546 - val_loss: 1.2884 - val_accuracy: 0.4226\n",
      "Epoch 136/1000\n",
      "26/26 [==============================] - ETA: 0s - loss: 1.3055 - accuracy: 0.37 - ETA: 0s - loss: 1.3777 - accuracy: 0.36 - ETA: 0s - loss: 1.3674 - accuracy: 0.36 - ETA: 0s - loss: 1.3823 - accuracy: 0.37 - ETA: 0s - loss: 1.4073 - accuracy: 0.36 - ETA: 0s - loss: 1.4034 - accuracy: 0.35 - 1s 51ms/step - loss: 1.4034 - accuracy: 0.3594 - val_loss: 1.2864 - val_accuracy: 0.3988\n",
      "Epoch 137/1000\n",
      "26/26 [==============================] - ETA: 0s - loss: 1.3794 - accuracy: 0.43 - ETA: 0s - loss: 1.4458 - accuracy: 0.36 - ETA: 0s - loss: 1.4162 - accuracy: 0.38 - ETA: 0s - loss: 1.3938 - accuracy: 0.38 - ETA: 0s - loss: 1.4117 - accuracy: 0.37 - 1s 51ms/step - loss: 1.4022 - accuracy: 0.3666 - val_loss: 1.2865 - val_accuracy: 0.4048\n",
      "Epoch 138/1000\n",
      "26/26 [==============================] - ETA: 0s - loss: 1.1828 - accuracy: 0.46 - ETA: 0s - loss: 1.4388 - accuracy: 0.34 - ETA: 0s - loss: 1.3993 - accuracy: 0.37 - ETA: 0s - loss: 1.3991 - accuracy: 0.36 - ETA: 0s - loss: 1.3898 - accuracy: 0.37 - ETA: 0s - loss: 1.4024 - accuracy: 0.37 - 1s 47ms/step - loss: 1.4024 - accuracy: 0.3786 - val_loss: 1.2860 - val_accuracy: 0.4048\n",
      "Epoch 139/1000\n",
      "26/26 [==============================] - ETA: 0s - loss: 1.3910 - accuracy: 0.34 - ETA: 0s - loss: 1.4606 - accuracy: 0.29 - ETA: 0s - loss: 1.4151 - accuracy: 0.32 - ETA: 0s - loss: 1.4224 - accuracy: 0.33 - ETA: 0s - loss: 1.3937 - accuracy: 0.33 - ETA: 0s - loss: 1.3999 - accuracy: 0.34 - 1s 50ms/step - loss: 1.3999 - accuracy: 0.3462 - val_loss: 1.2858 - val_accuracy: 0.4167\n",
      "Epoch 140/1000\n",
      "26/26 [==============================] - ETA: 0s - loss: 1.3606 - accuracy: 0.43 - ETA: 0s - loss: 1.3950 - accuracy: 0.37 - ETA: 0s - loss: 1.3823 - accuracy: 0.37 - ETA: 0s - loss: 1.3884 - accuracy: 0.37 - ETA: 0s - loss: 1.3836 - accuracy: 0.38 - ETA: 0s - loss: 1.3688 - accuracy: 0.38 - 2s 62ms/step - loss: 1.3688 - accuracy: 0.3894 - val_loss: 1.2857 - val_accuracy: 0.4167\n",
      "Epoch 141/1000\n",
      "26/26 [==============================] - ETA: 0s - loss: 1.3573 - accuracy: 0.37 - ETA: 0s - loss: 1.4118 - accuracy: 0.34 - ETA: 0s - loss: 1.4418 - accuracy: 0.32 - ETA: 0s - loss: 1.4527 - accuracy: 0.33 - ETA: 0s - loss: 1.4573 - accuracy: 0.32 - ETA: 0s - loss: 1.4354 - accuracy: 0.33 - 1s 39ms/step - loss: 1.4354 - accuracy: 0.3377 - val_loss: 1.2857 - val_accuracy: 0.4167\n",
      "Epoch 142/1000\n",
      "26/26 [==============================] - ETA: 0s - loss: 1.2856 - accuracy: 0.34 - ETA: 0s - loss: 1.3751 - accuracy: 0.39 - ETA: 0s - loss: 1.3818 - accuracy: 0.39 - ETA: 0s - loss: 1.3777 - accuracy: 0.39 - ETA: 0s - loss: 1.3587 - accuracy: 0.39 - ETA: 0s - loss: 1.3653 - accuracy: 0.39 - 1s 41ms/step - loss: 1.3653 - accuracy: 0.3978 - val_loss: 1.2851 - val_accuracy: 0.4167\n",
      "Epoch 143/1000\n",
      "26/26 [==============================] - ETA: 0s - loss: 1.3689 - accuracy: 0.31 - ETA: 0s - loss: 1.5020 - accuracy: 0.35 - ETA: 0s - loss: 1.4276 - accuracy: 0.35 - ETA: 0s - loss: 1.4042 - accuracy: 0.36 - ETA: 0s - loss: 1.3887 - accuracy: 0.36 - ETA: 0s - loss: 1.3916 - accuracy: 0.36 - 1s 40ms/step - loss: 1.3916 - accuracy: 0.3606 - val_loss: 1.2847 - val_accuracy: 0.4226\n",
      "Epoch 144/1000\n",
      "26/26 [==============================] - ETA: 0s - loss: 1.1968 - accuracy: 0.46 - ETA: 0s - loss: 1.4005 - accuracy: 0.36 - ETA: 0s - loss: 1.3997 - accuracy: 0.36 - ETA: 0s - loss: 1.3714 - accuracy: 0.36 - ETA: 0s - loss: 1.3778 - accuracy: 0.35 - ETA: 0s - loss: 1.3857 - accuracy: 0.36 - 1s 43ms/step - loss: 1.3857 - accuracy: 0.3606 - val_loss: 1.2835 - val_accuracy: 0.4286\n",
      "Epoch 145/1000\n",
      "26/26 [==============================] - ETA: 0s - loss: 1.3734 - accuracy: 0.34 - ETA: 0s - loss: 1.3010 - accuracy: 0.40 - ETA: 0s - loss: 1.3331 - accuracy: 0.38 - ETA: 0s - loss: 1.3349 - accuracy: 0.37 - ETA: 0s - loss: 1.3496 - accuracy: 0.36 - ETA: 0s - loss: 1.3518 - accuracy: 0.36 - 1s 45ms/step - loss: 1.3518 - accuracy: 0.3654 - val_loss: 1.2832 - val_accuracy: 0.4286\n",
      "Epoch 146/1000\n",
      "26/26 [==============================] - ETA: 0s - loss: 1.5119 - accuracy: 0.25 - ETA: 0s - loss: 1.4963 - accuracy: 0.26 - ETA: 0s - loss: 1.4641 - accuracy: 0.30 - ETA: 0s - loss: 1.4523 - accuracy: 0.31 - ETA: 0s - loss: 1.4486 - accuracy: 0.31 - ETA: 0s - loss: 1.4100 - accuracy: 0.33 - 1s 56ms/step - loss: 1.4100 - accuracy: 0.3389 - val_loss: 1.2833 - val_accuracy: 0.4286\n"
     ]
    },
    {
     "name": "stdout",
     "output_type": "stream",
     "text": [
      "Epoch 147/1000\n",
      "26/26 [==============================] - ETA: 0s - loss: 1.1602 - accuracy: 0.37 - ETA: 0s - loss: 1.3849 - accuracy: 0.34 - ETA: 0s - loss: 1.3996 - accuracy: 0.36 - ETA: 0s - loss: 1.4029 - accuracy: 0.35 - ETA: 0s - loss: 1.4018 - accuracy: 0.35 - ETA: 0s - loss: 1.3840 - accuracy: 0.36 - 1s 44ms/step - loss: 1.3840 - accuracy: 0.3678 - val_loss: 1.2824 - val_accuracy: 0.4226\n",
      "Epoch 148/1000\n",
      "26/26 [==============================] - ETA: 0s - loss: 1.3649 - accuracy: 0.31 - ETA: 0s - loss: 1.4956 - accuracy: 0.35 - ETA: 0s - loss: 1.4674 - accuracy: 0.34 - ETA: 0s - loss: 1.4378 - accuracy: 0.35 - ETA: 0s - loss: 1.4249 - accuracy: 0.35 - ETA: 0s - loss: 1.4282 - accuracy: 0.34 - 1s 39ms/step - loss: 1.4282 - accuracy: 0.3486 - val_loss: 1.2816 - val_accuracy: 0.4286\n",
      "Epoch 149/1000\n",
      "26/26 [==============================] - ETA: 0s - loss: 1.2814 - accuracy: 0.37 - ETA: 0s - loss: 1.4315 - accuracy: 0.34 - ETA: 0s - loss: 1.3789 - accuracy: 0.34 - ETA: 0s - loss: 1.3694 - accuracy: 0.34 - ETA: 0s - loss: 1.3537 - accuracy: 0.37 - ETA: 0s - loss: 1.3626 - accuracy: 0.37 - 1s 39ms/step - loss: 1.3626 - accuracy: 0.3774 - val_loss: 1.2794 - val_accuracy: 0.4286\n",
      "Epoch 150/1000\n",
      "26/26 [==============================] - ETA: 0s - loss: 1.1687 - accuracy: 0.50 - ETA: 0s - loss: 1.3173 - accuracy: 0.40 - ETA: 0s - loss: 1.3622 - accuracy: 0.40 - ETA: 0s - loss: 1.3657 - accuracy: 0.37 - ETA: 0s - loss: 1.3811 - accuracy: 0.36 - 1s 48ms/step - loss: 1.3666 - accuracy: 0.3810 - val_loss: 1.2785 - val_accuracy: 0.4167\n",
      "Epoch 151/1000\n",
      "26/26 [==============================] - ETA: 0s - loss: 1.4004 - accuracy: 0.34 - ETA: 0s - loss: 1.3504 - accuracy: 0.33 - ETA: 0s - loss: 1.3098 - accuracy: 0.34 - ETA: 0s - loss: 1.3205 - accuracy: 0.34 - ETA: 0s - loss: 1.3290 - accuracy: 0.35 - ETA: 0s - loss: 1.3363 - accuracy: 0.35 - 1s 41ms/step - loss: 1.3286 - accuracy: 0.3750 - val_loss: 1.2790 - val_accuracy: 0.4226\n",
      "Epoch 152/1000\n",
      "26/26 [==============================] - ETA: 0s - loss: 1.2948 - accuracy: 0.37 - ETA: 0s - loss: 1.3647 - accuracy: 0.39 - ETA: 0s - loss: 1.3773 - accuracy: 0.38 - ETA: 0s - loss: 1.3757 - accuracy: 0.37 - ETA: 0s - loss: 1.3625 - accuracy: 0.37 - ETA: 0s - loss: 1.3616 - accuracy: 0.38 - 1s 53ms/step - loss: 1.3616 - accuracy: 0.3810 - val_loss: 1.2792 - val_accuracy: 0.4226\n",
      "Epoch 153/1000\n",
      "26/26 [==============================] - ETA: 0s - loss: 1.3766 - accuracy: 0.40 - ETA: 0s - loss: 1.3537 - accuracy: 0.38 - ETA: 0s - loss: 1.3446 - accuracy: 0.39 - ETA: 0s - loss: 1.4046 - accuracy: 0.35 - ETA: 0s - loss: 1.4107 - accuracy: 0.35 - ETA: 0s - loss: 1.4052 - accuracy: 0.35 - 1s 46ms/step - loss: 1.4014 - accuracy: 0.3558 - val_loss: 1.2778 - val_accuracy: 0.4405\n",
      "Epoch 154/1000\n",
      "26/26 [==============================] - ETA: 0s - loss: 1.4258 - accuracy: 0.28 - ETA: 0s - loss: 1.4455 - accuracy: 0.28 - ETA: 0s - loss: 1.3999 - accuracy: 0.35 - ETA: 0s - loss: 1.4025 - accuracy: 0.34 - ETA: 0s - loss: 1.4025 - accuracy: 0.34 - ETA: 0s - loss: 1.3861 - accuracy: 0.35 - ETA: 0s - loss: 1.3756 - accuracy: 0.36 - 1s 44ms/step - loss: 1.3786 - accuracy: 0.3642 - val_loss: 1.2770 - val_accuracy: 0.4345\n",
      "Epoch 155/1000\n",
      "26/26 [==============================] - ETA: 0s - loss: 1.1713 - accuracy: 0.50 - ETA: 0s - loss: 1.3730 - accuracy: 0.34 - ETA: 0s - loss: 1.4240 - accuracy: 0.34 - ETA: 0s - loss: 1.3892 - accuracy: 0.35 - ETA: 0s - loss: 1.3809 - accuracy: 0.36 - ETA: 0s - loss: 1.3728 - accuracy: 0.38 - 1s 38ms/step - loss: 1.3728 - accuracy: 0.3834 - val_loss: 1.2769 - val_accuracy: 0.4226\n",
      "Epoch 156/1000\n",
      "26/26 [==============================] - ETA: 0s - loss: 1.1717 - accuracy: 0.43 - ETA: 0s - loss: 1.4687 - accuracy: 0.34 - ETA: 0s - loss: 1.4181 - accuracy: 0.37 - ETA: 0s - loss: 1.4430 - accuracy: 0.35 - ETA: 0s - loss: 1.4319 - accuracy: 0.36 - ETA: 0s - loss: 1.4106 - accuracy: 0.36 - 1s 43ms/step - loss: 1.4106 - accuracy: 0.3642 - val_loss: 1.2770 - val_accuracy: 0.4107\n",
      "Epoch 157/1000\n",
      "26/26 [==============================] - ETA: 0s - loss: 1.3495 - accuracy: 0.31 - ETA: 0s - loss: 1.3615 - accuracy: 0.38 - ETA: 0s - loss: 1.3863 - accuracy: 0.38 - ETA: 0s - loss: 1.3700 - accuracy: 0.37 - ETA: 0s - loss: 1.3581 - accuracy: 0.37 - ETA: 0s - loss: 1.3849 - accuracy: 0.37 - 1s 39ms/step - loss: 1.3849 - accuracy: 0.3714 - val_loss: 1.2765 - val_accuracy: 0.4226\n",
      "Epoch 158/1000\n",
      "26/26 [==============================] - ETA: 0s - loss: 1.3562 - accuracy: 0.31 - ETA: 0s - loss: 1.3678 - accuracy: 0.35 - ETA: 0s - loss: 1.3564 - accuracy: 0.37 - ETA: 0s - loss: 1.3636 - accuracy: 0.36 - ETA: 0s - loss: 1.3490 - accuracy: 0.36 - ETA: 0s - loss: 1.3437 - accuracy: 0.36 - 1s 49ms/step - loss: 1.3437 - accuracy: 0.3654 - val_loss: 1.2770 - val_accuracy: 0.4107\n",
      "Epoch 159/1000\n",
      "26/26 [==============================] - ETA: 0s - loss: 1.2332 - accuracy: 0.40 - ETA: 0s - loss: 1.3568 - accuracy: 0.42 - ETA: 0s - loss: 1.3532 - accuracy: 0.39 - ETA: 0s - loss: 1.3429 - accuracy: 0.38 - ETA: 0s - loss: 1.3644 - accuracy: 0.37 - 1s 44ms/step - loss: 1.3620 - accuracy: 0.3810 - val_loss: 1.2764 - val_accuracy: 0.4107\n",
      "Epoch 160/1000\n",
      "26/26 [==============================] - ETA: 0s - loss: 1.4931 - accuracy: 0.46 - ETA: 0s - loss: 1.4736 - accuracy: 0.37 - ETA: 0s - loss: 1.3827 - accuracy: 0.40 - ETA: 0s - loss: 1.3832 - accuracy: 0.39 - ETA: 0s - loss: 1.3773 - accuracy: 0.39 - ETA: 0s - loss: 1.3722 - accuracy: 0.38 - 1s 51ms/step - loss: 1.3787 - accuracy: 0.3810 - val_loss: 1.2762 - val_accuracy: 0.4167\n",
      "Epoch 161/1000\n",
      "26/26 [==============================] - ETA: 0s - loss: 1.3978 - accuracy: 0.34 - ETA: 0s - loss: 1.4462 - accuracy: 0.34 - ETA: 0s - loss: 1.4271 - accuracy: 0.38 - ETA: 0s - loss: 1.4151 - accuracy: 0.38 - ETA: 0s - loss: 1.4061 - accuracy: 0.39 - ETA: 0s - loss: 1.3938 - accuracy: 0.38 - 1s 45ms/step - loss: 1.3938 - accuracy: 0.3822 - val_loss: 1.2750 - val_accuracy: 0.4167\n",
      "Epoch 162/1000\n",
      "26/26 [==============================] - ETA: 0s - loss: 1.3367 - accuracy: 0.31 - ETA: 0s - loss: 1.4000 - accuracy: 0.33 - ETA: 0s - loss: 1.3651 - accuracy: 0.35 - ETA: 0s - loss: 1.3793 - accuracy: 0.35 - ETA: 0s - loss: 1.3510 - accuracy: 0.37 - ETA: 0s - loss: 1.3662 - accuracy: 0.37 - 1s 46ms/step - loss: 1.3637 - accuracy: 0.3810 - val_loss: 1.2743 - val_accuracy: 0.4048\n",
      "Epoch 163/1000\n",
      "26/26 [==============================] - ETA: 0s - loss: 1.2496 - accuracy: 0.43 - ETA: 0s - loss: 1.4718 - accuracy: 0.33 - ETA: 0s - loss: 1.4345 - accuracy: 0.33 - ETA: 0s - loss: 1.4012 - accuracy: 0.37 - ETA: 0s - loss: 1.4199 - accuracy: 0.37 - ETA: 0s - loss: 1.4046 - accuracy: 0.37 - ETA: 0s - loss: 1.3961 - accuracy: 0.38 - 1s 47ms/step - loss: 1.3999 - accuracy: 0.3798 - val_loss: 1.2736 - val_accuracy: 0.4286\n",
      "Epoch 164/1000\n",
      "26/26 [==============================] - ETA: 0s - loss: 1.3402 - accuracy: 0.50 - ETA: 0s - loss: 1.4519 - accuracy: 0.36 - ETA: 0s - loss: 1.4343 - accuracy: 0.37 - ETA: 0s - loss: 1.4091 - accuracy: 0.36 - ETA: 0s - loss: 1.4010 - accuracy: 0.37 - ETA: 0s - loss: 1.3848 - accuracy: 0.37 - 1s 56ms/step - loss: 1.3848 - accuracy: 0.3798 - val_loss: 1.2741 - val_accuracy: 0.4226\n",
      "Epoch 165/1000\n",
      "26/26 [==============================] - ETA: 0s - loss: 1.2896 - accuracy: 0.37 - ETA: 0s - loss: 1.3964 - accuracy: 0.31 - ETA: 0s - loss: 1.3735 - accuracy: 0.35 - ETA: 0s - loss: 1.3635 - accuracy: 0.37 - ETA: 0s - loss: 1.3720 - accuracy: 0.38 - ETA: 0s - loss: 1.3549 - accuracy: 0.37 - 1s 46ms/step - loss: 1.3549 - accuracy: 0.3786 - val_loss: 1.2743 - val_accuracy: 0.4286\n",
      "Epoch 166/1000\n",
      "26/26 [==============================] - ETA: 0s - loss: 1.3394 - accuracy: 0.37 - ETA: 0s - loss: 1.4233 - accuracy: 0.33 - ETA: 0s - loss: 1.3802 - accuracy: 0.36 - ETA: 0s - loss: 1.3839 - accuracy: 0.35 - ETA: 0s - loss: 1.3914 - accuracy: 0.34 - ETA: 0s - loss: 1.3776 - accuracy: 0.35 - 1s 46ms/step - loss: 1.3776 - accuracy: 0.3558 - val_loss: 1.2741 - val_accuracy: 0.4345\n",
      "Epoch 167/1000\n"
     ]
    },
    {
     "name": "stdout",
     "output_type": "stream",
     "text": [
      "26/26 [==============================] - ETA: 0s - loss: 1.2636 - accuracy: 0.43 - ETA: 0s - loss: 1.4237 - accuracy: 0.35 - ETA: 0s - loss: 1.3637 - accuracy: 0.36 - ETA: 0s - loss: 1.3468 - accuracy: 0.38 - ETA: 0s - loss: 1.3447 - accuracy: 0.37 - ETA: 0s - loss: 1.3614 - accuracy: 0.38 - 1s 52ms/step - loss: 1.3652 - accuracy: 0.3762 - val_loss: 1.2734 - val_accuracy: 0.4286\n",
      "Epoch 168/1000\n",
      "26/26 [==============================] - ETA: 0s - loss: 1.3804 - accuracy: 0.34 - ETA: 0s - loss: 1.4363 - accuracy: 0.33 - ETA: 0s - loss: 1.4081 - accuracy: 0.35 - ETA: 0s - loss: 1.4212 - accuracy: 0.33 - ETA: 0s - loss: 1.3939 - accuracy: 0.35 - ETA: 0s - loss: 1.3713 - accuracy: 0.36 - 1s 47ms/step - loss: 1.3621 - accuracy: 0.3714 - val_loss: 1.2722 - val_accuracy: 0.4286\n",
      "Epoch 169/1000\n",
      "26/26 [==============================] - ETA: 0s - loss: 1.3625 - accuracy: 0.37 - ETA: 0s - loss: 1.3766 - accuracy: 0.40 - ETA: 0s - loss: 1.3639 - accuracy: 0.40 - ETA: 0s - loss: 1.3590 - accuracy: 0.37 - ETA: 0s - loss: 1.3673 - accuracy: 0.36 - ETA: 0s - loss: 1.3714 - accuracy: 0.36 - 1s 45ms/step - loss: 1.3714 - accuracy: 0.3654 - val_loss: 1.2707 - val_accuracy: 0.4226\n",
      "Epoch 170/1000\n",
      "26/26 [==============================] - ETA: 0s - loss: 1.3142 - accuracy: 0.50 - ETA: 0s - loss: 1.4002 - accuracy: 0.33 - ETA: 0s - loss: 1.3837 - accuracy: 0.36 - ETA: 0s - loss: 1.3686 - accuracy: 0.37 - ETA: 0s - loss: 1.3688 - accuracy: 0.36 - ETA: 0s - loss: 1.3699 - accuracy: 0.37 - 1s 57ms/step - loss: 1.3699 - accuracy: 0.3726 - val_loss: 1.2706 - val_accuracy: 0.4226\n",
      "Epoch 171/1000\n",
      "26/26 [==============================] - ETA: 0s - loss: 1.2690 - accuracy: 0.43 - ETA: 0s - loss: 1.3984 - accuracy: 0.41 - ETA: 0s - loss: 1.3565 - accuracy: 0.41 - ETA: 0s - loss: 1.3580 - accuracy: 0.41 - ETA: 0s - loss: 1.3598 - accuracy: 0.41 - ETA: 0s - loss: 1.3493 - accuracy: 0.41 - 1s 48ms/step - loss: 1.3464 - accuracy: 0.4147 - val_loss: 1.2702 - val_accuracy: 0.4226\n",
      "Epoch 172/1000\n",
      "26/26 [==============================] - ETA: 0s - loss: 1.4223 - accuracy: 0.28 - ETA: 0s - loss: 1.4577 - accuracy: 0.32 - ETA: 0s - loss: 1.3778 - accuracy: 0.34 - ETA: 0s - loss: 1.3884 - accuracy: 0.35 - ETA: 0s - loss: 1.3866 - accuracy: 0.36 - ETA: 0s - loss: 1.3588 - accuracy: 0.38 - 1s 35ms/step - loss: 1.3588 - accuracy: 0.3810 - val_loss: 1.2697 - val_accuracy: 0.4286\n",
      "Epoch 173/1000\n",
      "26/26 [==============================] - ETA: 0s - loss: 1.4703 - accuracy: 0.31 - ETA: 0s - loss: 1.4256 - accuracy: 0.36 - ETA: 0s - loss: 1.3325 - accuracy: 0.39 - ETA: 0s - loss: 1.3647 - accuracy: 0.38 - ETA: 0s - loss: 1.3552 - accuracy: 0.39 - ETA: 0s - loss: 1.3547 - accuracy: 0.40 - 1s 41ms/step - loss: 1.3547 - accuracy: 0.4014 - val_loss: 1.2710 - val_accuracy: 0.4286\n",
      "Epoch 174/1000\n",
      "26/26 [==============================] - ETA: 0s - loss: 1.3046 - accuracy: 0.34 - ETA: 0s - loss: 1.4191 - accuracy: 0.34 - ETA: 0s - loss: 1.3977 - accuracy: 0.37 - ETA: 0s - loss: 1.3765 - accuracy: 0.38 - ETA: 0s - loss: 1.3629 - accuracy: 0.37 - ETA: 0s - loss: 1.3564 - accuracy: 0.38 - 1s 34ms/step - loss: 1.3564 - accuracy: 0.3822 - val_loss: 1.2703 - val_accuracy: 0.4226\n",
      "Epoch 175/1000\n",
      "26/26 [==============================] - ETA: 0s - loss: 1.2403 - accuracy: 0.50 - ETA: 0s - loss: 1.3168 - accuracy: 0.44 - ETA: 0s - loss: 1.3178 - accuracy: 0.41 - ETA: 0s - loss: 1.3422 - accuracy: 0.39 - ETA: 0s - loss: 1.3434 - accuracy: 0.38 - ETA: 0s - loss: 1.3558 - accuracy: 0.38 - 1s 37ms/step - loss: 1.3507 - accuracy: 0.3930 - val_loss: 1.2707 - val_accuracy: 0.4167\n",
      "Epoch 176/1000\n",
      "26/26 [==============================] - ETA: 0s - loss: 1.4525 - accuracy: 0.31 - ETA: 0s - loss: 1.4703 - accuracy: 0.33 - ETA: 0s - loss: 1.4091 - accuracy: 0.35 - ETA: 0s - loss: 1.4062 - accuracy: 0.35 - ETA: 0s - loss: 1.3850 - accuracy: 0.35 - ETA: 0s - loss: 1.3862 - accuracy: 0.36 - 2s 70ms/step - loss: 1.3801 - accuracy: 0.3654 - val_loss: 1.2698 - val_accuracy: 0.4226\n",
      "Epoch 177/1000\n",
      "26/26 [==============================] - ETA: 0s - loss: 1.1491 - accuracy: 0.53 - ETA: 0s - loss: 1.3757 - accuracy: 0.41 - ETA: 0s - loss: 1.3303 - accuracy: 0.39 - ETA: 0s - loss: 1.3179 - accuracy: 0.39 - ETA: 0s - loss: 1.3228 - accuracy: 0.38 - ETA: 0s - loss: 1.3454 - accuracy: 0.37 - 1s 47ms/step - loss: 1.3333 - accuracy: 0.3738 - val_loss: 1.2696 - val_accuracy: 0.4167\n",
      "Epoch 178/1000\n",
      "26/26 [==============================] - ETA: 0s - loss: 1.3775 - accuracy: 0.28 - ETA: 0s - loss: 1.4314 - accuracy: 0.35 - ETA: 0s - loss: 1.3941 - accuracy: 0.35 - ETA: 0s - loss: 1.4029 - accuracy: 0.35 - ETA: 0s - loss: 1.3938 - accuracy: 0.36 - ETA: 0s - loss: 1.3844 - accuracy: 0.37 - 1s 51ms/step - loss: 1.3844 - accuracy: 0.3786 - val_loss: 1.2690 - val_accuracy: 0.4286\n",
      "Epoch 179/1000\n",
      "26/26 [==============================] - ETA: 0s - loss: 1.2690 - accuracy: 0.34 - ETA: 0s - loss: 1.3910 - accuracy: 0.34 - ETA: 0s - loss: 1.3766 - accuracy: 0.36 - ETA: 0s - loss: 1.3723 - accuracy: 0.36 - ETA: 0s - loss: 1.3732 - accuracy: 0.38 - ETA: 0s - loss: 1.3779 - accuracy: 0.37 - 1s 51ms/step - loss: 1.3779 - accuracy: 0.3774 - val_loss: 1.2685 - val_accuracy: 0.4286\n",
      "Epoch 180/1000\n",
      "26/26 [==============================] - ETA: 0s - loss: 1.2835 - accuracy: 0.37 - ETA: 0s - loss: 1.4340 - accuracy: 0.32 - ETA: 0s - loss: 1.3890 - accuracy: 0.35 - ETA: 0s - loss: 1.3588 - accuracy: 0.37 - ETA: 0s - loss: 1.3586 - accuracy: 0.37 - ETA: 0s - loss: 1.3599 - accuracy: 0.37 - 1s 57ms/step - loss: 1.3577 - accuracy: 0.3762 - val_loss: 1.2674 - val_accuracy: 0.4286\n",
      "Epoch 181/1000\n",
      "26/26 [==============================] - ETA: 0s - loss: 1.2976 - accuracy: 0.53 - ETA: 0s - loss: 1.3699 - accuracy: 0.42 - ETA: 0s - loss: 1.3517 - accuracy: 0.41 - ETA: 0s - loss: 1.3574 - accuracy: 0.39 - ETA: 0s - loss: 1.3610 - accuracy: 0.39 - ETA: 0s - loss: 1.3541 - accuracy: 0.38 - 1s 47ms/step - loss: 1.3476 - accuracy: 0.3954 - val_loss: 1.2666 - val_accuracy: 0.4167\n",
      "Epoch 182/1000\n",
      "26/26 [==============================] - ETA: 0s - loss: 1.4060 - accuracy: 0.37 - ETA: 0s - loss: 1.3756 - accuracy: 0.37 - ETA: 0s - loss: 1.3574 - accuracy: 0.38 - ETA: 0s - loss: 1.3368 - accuracy: 0.38 - ETA: 0s - loss: 1.3313 - accuracy: 0.38 - ETA: 0s - loss: 1.3210 - accuracy: 0.39 - 2s 61ms/step - loss: 1.3210 - accuracy: 0.3918 - val_loss: 1.2665 - val_accuracy: 0.4226\n",
      "Epoch 183/1000\n",
      "26/26 [==============================] - ETA: 0s - loss: 1.2553 - accuracy: 0.43 - ETA: 0s - loss: 1.3499 - accuracy: 0.34 - ETA: 0s - loss: 1.3334 - accuracy: 0.37 - ETA: 0s - loss: 1.3726 - accuracy: 0.36 - ETA: 0s - loss: 1.3819 - accuracy: 0.36 - ETA: 0s - loss: 1.3669 - accuracy: 0.36 - 1s 47ms/step - loss: 1.3669 - accuracy: 0.3678 - val_loss: 1.2654 - val_accuracy: 0.4226\n",
      "Epoch 184/1000\n",
      "26/26 [==============================] - ETA: 0s - loss: 1.4915 - accuracy: 0.40 - ETA: 0s - loss: 1.4044 - accuracy: 0.39 - ETA: 0s - loss: 1.3849 - accuracy: 0.38 - ETA: 0s - loss: 1.3542 - accuracy: 0.39 - ETA: 0s - loss: 1.3542 - accuracy: 0.38 - ETA: 0s - loss: 1.3603 - accuracy: 0.38 - 1s 49ms/step - loss: 1.3603 - accuracy: 0.3882 - val_loss: 1.2652 - val_accuracy: 0.4286\n",
      "Epoch 185/1000\n",
      "26/26 [==============================] - ETA: 0s - loss: 1.1523 - accuracy: 0.50 - ETA: 0s - loss: 1.3918 - accuracy: 0.40 - ETA: 0s - loss: 1.3637 - accuracy: 0.40 - ETA: 0s - loss: 1.3661 - accuracy: 0.39 - ETA: 0s - loss: 1.3561 - accuracy: 0.40 - ETA: 0s - loss: 1.3620 - accuracy: 0.39 - 1s 46ms/step - loss: 1.3620 - accuracy: 0.3942 - val_loss: 1.2636 - val_accuracy: 0.4286\n",
      "Epoch 186/1000\n",
      "26/26 [==============================] - ETA: 0s - loss: 1.2477 - accuracy: 0.40 - ETA: 0s - loss: 1.3530 - accuracy: 0.40 - ETA: 0s - loss: 1.3377 - accuracy: 0.39 - ETA: 0s - loss: 1.3520 - accuracy: 0.38 - ETA: 0s - loss: 1.3384 - accuracy: 0.38 - ETA: 0s - loss: 1.3487 - accuracy: 0.38 - 1s 47ms/step - loss: 1.3511 - accuracy: 0.3858 - val_loss: 1.2636 - val_accuracy: 0.4286\n",
      "Epoch 187/1000\n"
     ]
    },
    {
     "name": "stdout",
     "output_type": "stream",
     "text": [
      "26/26 [==============================] - ETA: 0s - loss: 1.2916 - accuracy: 0.43 - ETA: 0s - loss: 1.3741 - accuracy: 0.35 - ETA: 0s - loss: 1.3853 - accuracy: 0.34 - ETA: 0s - loss: 1.3886 - accuracy: 0.35 - ETA: 0s - loss: 1.4042 - accuracy: 0.34 - ETA: 0s - loss: 1.3950 - accuracy: 0.36 - 1s 48ms/step - loss: 1.3950 - accuracy: 0.3618 - val_loss: 1.2635 - val_accuracy: 0.4286\n",
      "Epoch 188/1000\n",
      "26/26 [==============================] - ETA: 0s - loss: 1.3501 - accuracy: 0.40 - ETA: 0s - loss: 1.3910 - accuracy: 0.35 - ETA: 0s - loss: 1.3212 - accuracy: 0.37 - ETA: 0s - loss: 1.3256 - accuracy: 0.36 - ETA: 0s - loss: 1.3234 - accuracy: 0.37 - 1s 58ms/step - loss: 1.3306 - accuracy: 0.3762 - val_loss: 1.2622 - val_accuracy: 0.4226\n",
      "Epoch 189/1000\n",
      "26/26 [==============================] - ETA: 0s - loss: 1.4676 - accuracy: 0.28 - ETA: 0s - loss: 1.4237 - accuracy: 0.34 - ETA: 0s - loss: 1.3686 - accuracy: 0.38 - ETA: 0s - loss: 1.3623 - accuracy: 0.38 - ETA: 0s - loss: 1.3770 - accuracy: 0.36 - ETA: 0s - loss: 1.3811 - accuracy: 0.37 - 1s 47ms/step - loss: 1.3739 - accuracy: 0.3858 - val_loss: 1.2607 - val_accuracy: 0.4226\n",
      "Epoch 190/1000\n",
      "26/26 [==============================] - ETA: 0s - loss: 1.4236 - accuracy: 0.34 - ETA: 0s - loss: 1.3804 - accuracy: 0.35 - ETA: 0s - loss: 1.3647 - accuracy: 0.36 - ETA: 0s - loss: 1.3668 - accuracy: 0.35 - ETA: 0s - loss: 1.3776 - accuracy: 0.35 - ETA: 0s - loss: 1.3734 - accuracy: 0.36 - 1s 45ms/step - loss: 1.3734 - accuracy: 0.3678 - val_loss: 1.2598 - val_accuracy: 0.4167\n",
      "Epoch 191/1000\n",
      "26/26 [==============================] - ETA: 0s - loss: 1.2503 - accuracy: 0.40 - ETA: 0s - loss: 1.4411 - accuracy: 0.34 - ETA: 0s - loss: 1.4027 - accuracy: 0.36 - ETA: 0s - loss: 1.3685 - accuracy: 0.37 - ETA: 0s - loss: 1.3798 - accuracy: 0.36 - ETA: 0s - loss: 1.3574 - accuracy: 0.37 - 1s 51ms/step - loss: 1.3574 - accuracy: 0.3774 - val_loss: 1.2601 - val_accuracy: 0.4107\n",
      "Epoch 192/1000\n",
      "26/26 [==============================] - ETA: 0s - loss: 1.3670 - accuracy: 0.31 - ETA: 0s - loss: 1.3933 - accuracy: 0.34 - ETA: 0s - loss: 1.3627 - accuracy: 0.35 - ETA: 0s - loss: 1.3855 - accuracy: 0.34 - ETA: 0s - loss: 1.3629 - accuracy: 0.37 - 1s 49ms/step - loss: 1.3451 - accuracy: 0.3870 - val_loss: 1.2607 - val_accuracy: 0.4167\n",
      "Epoch 193/1000\n",
      "26/26 [==============================] - ETA: 0s - loss: 1.2951 - accuracy: 0.25 - ETA: 0s - loss: 1.3837 - accuracy: 0.33 - ETA: 0s - loss: 1.3441 - accuracy: 0.37 - ETA: 0s - loss: 1.3105 - accuracy: 0.38 - ETA: 0s - loss: 1.3179 - accuracy: 0.37 - ETA: 0s - loss: 1.3207 - accuracy: 0.38 - 1s 49ms/step - loss: 1.3122 - accuracy: 0.3954 - val_loss: 1.2611 - val_accuracy: 0.4107\n",
      "Epoch 194/1000\n",
      "26/26 [==============================] - ETA: 0s - loss: 1.3832 - accuracy: 0.31 - ETA: 0s - loss: 1.4125 - accuracy: 0.32 - ETA: 0s - loss: 1.3671 - accuracy: 0.34 - ETA: 0s - loss: 1.3652 - accuracy: 0.35 - ETA: 0s - loss: 1.3383 - accuracy: 0.37 - ETA: 0s - loss: 1.3404 - accuracy: 0.37 - 1s 57ms/step - loss: 1.3404 - accuracy: 0.3774 - val_loss: 1.2613 - val_accuracy: 0.4167\n",
      "Epoch 195/1000\n",
      "26/26 [==============================] - ETA: 0s - loss: 1.3826 - accuracy: 0.31 - ETA: 0s - loss: 1.4835 - accuracy: 0.33 - ETA: 0s - loss: 1.4149 - accuracy: 0.37 - ETA: 0s - loss: 1.3886 - accuracy: 0.36 - ETA: 0s - loss: 1.3916 - accuracy: 0.36 - ETA: 0s - loss: 1.3721 - accuracy: 0.37 - 1s 46ms/step - loss: 1.3721 - accuracy: 0.3786 - val_loss: 1.2620 - val_accuracy: 0.4107\n",
      "Epoch 196/1000\n",
      "26/26 [==============================] - ETA: 0s - loss: 1.4617 - accuracy: 0.28 - ETA: 0s - loss: 1.3700 - accuracy: 0.36 - ETA: 0s - loss: 1.3287 - accuracy: 0.41 - ETA: 0s - loss: 1.3366 - accuracy: 0.40 - ETA: 0s - loss: 1.3220 - accuracy: 0.41 - 1s 37ms/step - loss: 1.3220 - accuracy: 0.4183 - val_loss: 1.2606 - val_accuracy: 0.4167\n",
      "Epoch 197/1000\n",
      "26/26 [==============================] - ETA: 0s - loss: 1.4711 - accuracy: 0.34 - ETA: 0s - loss: 1.3932 - accuracy: 0.36 - ETA: 0s - loss: 1.3876 - accuracy: 0.37 - ETA: 0s - loss: 1.3410 - accuracy: 0.39 - ETA: 0s - loss: 1.3457 - accuracy: 0.38 - ETA: 0s - loss: 1.3350 - accuracy: 0.39 - 1s 41ms/step - loss: 1.3350 - accuracy: 0.3930 - val_loss: 1.2599 - val_accuracy: 0.4107\n",
      "Epoch 198/1000\n",
      "26/26 [==============================] - ETA: 0s - loss: 1.2500 - accuracy: 0.40 - ETA: 0s - loss: 1.3662 - accuracy: 0.37 - ETA: 0s - loss: 1.3085 - accuracy: 0.38 - ETA: 0s - loss: 1.3038 - accuracy: 0.39 - ETA: 0s - loss: 1.3153 - accuracy: 0.39 - ETA: 0s - loss: 1.3243 - accuracy: 0.39 - 1s 43ms/step - loss: 1.3243 - accuracy: 0.3930 - val_loss: 1.2597 - val_accuracy: 0.4167\n",
      "Epoch 199/1000\n",
      "26/26 [==============================] - ETA: 0s - loss: 1.3484 - accuracy: 0.40 - ETA: 0s - loss: 1.3343 - accuracy: 0.41 - ETA: 0s - loss: 1.2851 - accuracy: 0.42 - ETA: 0s - loss: 1.3137 - accuracy: 0.40 - ETA: 0s - loss: 1.3159 - accuracy: 0.39 - ETA: 0s - loss: 1.3117 - accuracy: 0.40 - 1s 48ms/step - loss: 1.3117 - accuracy: 0.4075 - val_loss: 1.2597 - val_accuracy: 0.4167\n",
      "Epoch 200/1000\n",
      "26/26 [==============================] - ETA: 0s - loss: 1.1859 - accuracy: 0.43 - ETA: 0s - loss: 1.3634 - accuracy: 0.35 - ETA: 0s - loss: 1.3500 - accuracy: 0.38 - ETA: 0s - loss: 1.3426 - accuracy: 0.39 - ETA: 0s - loss: 1.3117 - accuracy: 0.41 - ETA: 0s - loss: 1.3098 - accuracy: 0.40 - 2s 64ms/step - loss: 1.3098 - accuracy: 0.4099 - val_loss: 1.2589 - val_accuracy: 0.4167\n",
      "Epoch 201/1000\n",
      "26/26 [==============================] - ETA: 0s - loss: 1.2764 - accuracy: 0.37 - ETA: 0s - loss: 1.4502 - accuracy: 0.34 - ETA: 0s - loss: 1.3817 - accuracy: 0.38 - ETA: 0s - loss: 1.3563 - accuracy: 0.39 - ETA: 0s - loss: 1.3478 - accuracy: 0.40 - ETA: 0s - loss: 1.3378 - accuracy: 0.40 - 1s 51ms/step - loss: 1.3378 - accuracy: 0.4099 - val_loss: 1.2594 - val_accuracy: 0.4167\n",
      "Epoch 202/1000\n",
      "26/26 [==============================] - ETA: 0s - loss: 1.2432 - accuracy: 0.28 - ETA: 0s - loss: 1.3618 - accuracy: 0.41 - ETA: 0s - loss: 1.2987 - accuracy: 0.43 - ETA: 0s - loss: 1.2989 - accuracy: 0.43 - ETA: 0s - loss: 1.2922 - accuracy: 0.43 - ETA: 0s - loss: 1.2854 - accuracy: 0.43 - 1s 48ms/step - loss: 1.2854 - accuracy: 0.4339 - val_loss: 1.2598 - val_accuracy: 0.4167\n",
      "Epoch 203/1000\n",
      "26/26 [==============================] - ETA: 0s - loss: 1.5118 - accuracy: 0.31 - ETA: 0s - loss: 1.3976 - accuracy: 0.39 - ETA: 0s - loss: 1.3628 - accuracy: 0.38 - ETA: 0s - loss: 1.3435 - accuracy: 0.39 - ETA: 0s - loss: 1.3413 - accuracy: 0.40 - 1s 48ms/step - loss: 1.3260 - accuracy: 0.4123 - val_loss: 1.2598 - val_accuracy: 0.4167\n",
      "Epoch 204/1000\n",
      "26/26 [==============================] - ETA: 0s - loss: 1.3491 - accuracy: 0.40 - ETA: 0s - loss: 1.3009 - accuracy: 0.43 - ETA: 0s - loss: 1.3306 - accuracy: 0.39 - ETA: 0s - loss: 1.3313 - accuracy: 0.38 - ETA: 0s - loss: 1.3219 - accuracy: 0.39 - ETA: 0s - loss: 1.3309 - accuracy: 0.38 - 1s 51ms/step - loss: 1.3297 - accuracy: 0.3906 - val_loss: 1.2586 - val_accuracy: 0.4107\n",
      "Epoch 205/1000\n",
      "26/26 [==============================] - ETA: 0s - loss: 1.3295 - accuracy: 0.46 - ETA: 0s - loss: 1.4647 - accuracy: 0.32 - ETA: 0s - loss: 1.3749 - accuracy: 0.35 - ETA: 0s - loss: 1.3669 - accuracy: 0.36 - ETA: 0s - loss: 1.3680 - accuracy: 0.36 - ETA: 0s - loss: 1.3603 - accuracy: 0.37 - 1s 50ms/step - loss: 1.3603 - accuracy: 0.3798 - val_loss: 1.2578 - val_accuracy: 0.4167\n",
      "Epoch 206/1000\n",
      "26/26 [==============================] - ETA: 0s - loss: 1.2169 - accuracy: 0.43 - ETA: 0s - loss: 1.2616 - accuracy: 0.43 - ETA: 0s - loss: 1.2753 - accuracy: 0.42 - ETA: 0s - loss: 1.3208 - accuracy: 0.40 - ETA: 0s - loss: 1.3137 - accuracy: 0.40 - ETA: 0s - loss: 1.3237 - accuracy: 0.40 - 1s 57ms/step - loss: 1.3237 - accuracy: 0.4002 - val_loss: 1.2570 - val_accuracy: 0.4167\n",
      "Epoch 207/1000\n",
      "26/26 [==============================] - ETA: 0s - loss: 1.1872 - accuracy: 0.53 - ETA: 0s - loss: 1.3630 - accuracy: 0.40 - ETA: 0s - loss: 1.3112 - accuracy: 0.40 - ETA: 0s - loss: 1.3075 - accuracy: 0.41 - ETA: 0s - loss: 1.3262 - accuracy: 0.40 - ETA: 0s - loss: 1.3320 - accuracy: 0.41 - 1s 45ms/step - loss: 1.3320 - accuracy: 0.4159 - val_loss: 1.2576 - val_accuracy: 0.4167\n",
      "Epoch 208/1000\n"
     ]
    },
    {
     "name": "stdout",
     "output_type": "stream",
     "text": [
      "26/26 [==============================] - ETA: 0s - loss: 1.1812 - accuracy: 0.46 - ETA: 0s - loss: 1.4497 - accuracy: 0.36 - ETA: 0s - loss: 1.3922 - accuracy: 0.38 - ETA: 0s - loss: 1.3774 - accuracy: 0.37 - ETA: 0s - loss: 1.3792 - accuracy: 0.37 - ETA: 0s - loss: 1.3741 - accuracy: 0.36 - 1s 49ms/step - loss: 1.3648 - accuracy: 0.3738 - val_loss: 1.2569 - val_accuracy: 0.4107\n",
      "Epoch 209/1000\n",
      "26/26 [==============================] - ETA: 0s - loss: 1.3088 - accuracy: 0.34 - ETA: 0s - loss: 1.3649 - accuracy: 0.38 - ETA: 0s - loss: 1.3371 - accuracy: 0.41 - ETA: 0s - loss: 1.3112 - accuracy: 0.41 - ETA: 0s - loss: 1.3237 - accuracy: 0.40 - ETA: 0s - loss: 1.3408 - accuracy: 0.40 - 1s 46ms/step - loss: 1.3408 - accuracy: 0.4050 - val_loss: 1.2558 - val_accuracy: 0.4167\n",
      "Epoch 210/1000\n",
      "26/26 [==============================] - ETA: 0s - loss: 1.3816 - accuracy: 0.40 - ETA: 0s - loss: 1.3785 - accuracy: 0.38 - ETA: 0s - loss: 1.3061 - accuracy: 0.42 - ETA: 0s - loss: 1.3018 - accuracy: 0.41 - ETA: 0s - loss: 1.3230 - accuracy: 0.41 - ETA: 0s - loss: 1.3301 - accuracy: 0.42 - 1s 47ms/step - loss: 1.3309 - accuracy: 0.4207 - val_loss: 1.2557 - val_accuracy: 0.4167\n",
      "Epoch 211/1000\n",
      "26/26 [==============================] - ETA: 0s - loss: 1.5711 - accuracy: 0.25 - ETA: 0s - loss: 1.4558 - accuracy: 0.41 - ETA: 0s - loss: 1.4071 - accuracy: 0.40 - ETA: 0s - loss: 1.3959 - accuracy: 0.39 - ETA: 0s - loss: 1.3767 - accuracy: 0.40 - ETA: 0s - loss: 1.3633 - accuracy: 0.39 - 2s 59ms/step - loss: 1.3633 - accuracy: 0.3990 - val_loss: 1.2551 - val_accuracy: 0.4226\n",
      "Epoch 212/1000\n",
      "26/26 [==============================] - ETA: 0s - loss: 1.2153 - accuracy: 0.50 - ETA: 0s - loss: 1.4001 - accuracy: 0.34 - ETA: 0s - loss: 1.3277 - accuracy: 0.40 - ETA: 0s - loss: 1.3327 - accuracy: 0.38 - ETA: 0s - loss: 1.3146 - accuracy: 0.39 - ETA: 0s - loss: 1.3208 - accuracy: 0.39 - 1s 48ms/step - loss: 1.3025 - accuracy: 0.4075 - val_loss: 1.2544 - val_accuracy: 0.4167\n",
      "Epoch 213/1000\n",
      "26/26 [==============================] - ETA: 0s - loss: 1.3557 - accuracy: 0.25 - ETA: 0s - loss: 1.4677 - accuracy: 0.33 - ETA: 0s - loss: 1.3950 - accuracy: 0.38 - ETA: 0s - loss: 1.3743 - accuracy: 0.37 - ETA: 0s - loss: 1.3793 - accuracy: 0.37 - ETA: 0s - loss: 1.3474 - accuracy: 0.39 - 1s 51ms/step - loss: 1.3474 - accuracy: 0.3954 - val_loss: 1.2531 - val_accuracy: 0.4167\n",
      "Epoch 214/1000\n",
      "26/26 [==============================] - ETA: 0s - loss: 1.2709 - accuracy: 0.43 - ETA: 0s - loss: 1.3688 - accuracy: 0.39 - ETA: 0s - loss: 1.3436 - accuracy: 0.41 - ETA: 0s - loss: 1.3279 - accuracy: 0.40 - ETA: 0s - loss: 1.3267 - accuracy: 0.38 - ETA: 0s - loss: 1.3189 - accuracy: 0.39 - 1s 49ms/step - loss: 1.3189 - accuracy: 0.3954 - val_loss: 1.2539 - val_accuracy: 0.4226\n",
      "Epoch 215/1000\n",
      "26/26 [==============================] - ETA: 0s - loss: 1.4610 - accuracy: 0.28 - ETA: 0s - loss: 1.4214 - accuracy: 0.31 - ETA: 0s - loss: 1.3603 - accuracy: 0.34 - ETA: 0s - loss: 1.3386 - accuracy: 0.36 - ETA: 0s - loss: 1.3481 - accuracy: 0.36 - ETA: 0s - loss: 1.3297 - accuracy: 0.37 - 1s 47ms/step - loss: 1.3297 - accuracy: 0.3798 - val_loss: 1.2537 - val_accuracy: 0.4167\n",
      "Epoch 216/1000\n",
      "26/26 [==============================] - ETA: 0s - loss: 1.3286 - accuracy: 0.37 - ETA: 0s - loss: 1.3668 - accuracy: 0.36 - ETA: 0s - loss: 1.3627 - accuracy: 0.37 - ETA: 0s - loss: 1.3501 - accuracy: 0.38 - ETA: 0s - loss: 1.3587 - accuracy: 0.37 - ETA: 0s - loss: 1.3439 - accuracy: 0.38 - 1s 46ms/step - loss: 1.3469 - accuracy: 0.3834 - val_loss: 1.2522 - val_accuracy: 0.4226\n",
      "Epoch 217/1000\n",
      "26/26 [==============================] - ETA: 0s - loss: 1.2479 - accuracy: 0.37 - ETA: 0s - loss: 1.4025 - accuracy: 0.36 - ETA: 0s - loss: 1.3753 - accuracy: 0.38 - ETA: 0s - loss: 1.3603 - accuracy: 0.39 - ETA: 0s - loss: 1.3625 - accuracy: 0.39 - ETA: 0s - loss: 1.3538 - accuracy: 0.39 - 2s 62ms/step - loss: 1.3538 - accuracy: 0.3966 - val_loss: 1.2515 - val_accuracy: 0.4226\n",
      "Epoch 218/1000\n",
      "26/26 [==============================] - ETA: 0s - loss: 1.4599 - accuracy: 0.43 - ETA: 0s - loss: 1.2829 - accuracy: 0.43 - ETA: 0s - loss: 1.2906 - accuracy: 0.43 - ETA: 0s - loss: 1.3057 - accuracy: 0.43 - ETA: 0s - loss: 1.3396 - accuracy: 0.42 - ETA: 0s - loss: 1.3355 - accuracy: 0.42 - 1s 45ms/step - loss: 1.3355 - accuracy: 0.4219 - val_loss: 1.2500 - val_accuracy: 0.4286\n",
      "Epoch 219/1000\n",
      "26/26 [==============================] - ETA: 0s - loss: 1.3679 - accuracy: 0.31 - ETA: 0s - loss: 1.3697 - accuracy: 0.39 - ETA: 0s - loss: 1.3373 - accuracy: 0.40 - ETA: 0s - loss: 1.3321 - accuracy: 0.38 - ETA: 0s - loss: 1.3631 - accuracy: 0.37 - ETA: 0s - loss: 1.3578 - accuracy: 0.36 - 1s 44ms/step - loss: 1.3578 - accuracy: 0.3678 - val_loss: 1.2515 - val_accuracy: 0.4345\n",
      "Epoch 220/1000\n",
      "26/26 [==============================] - ETA: 0s - loss: 1.3953 - accuracy: 0.31 - ETA: 0s - loss: 1.3588 - accuracy: 0.37 - ETA: 0s - loss: 1.3006 - accuracy: 0.41 - ETA: 0s - loss: 1.3248 - accuracy: 0.39 - ETA: 0s - loss: 1.3115 - accuracy: 0.40 - ETA: 0s - loss: 1.3130 - accuracy: 0.41 - 1s 48ms/step - loss: 1.3130 - accuracy: 0.4147 - val_loss: 1.2504 - val_accuracy: 0.4405\n",
      "Epoch 221/1000\n",
      "26/26 [==============================] - ETA: 0s - loss: 1.3955 - accuracy: 0.37 - ETA: 0s - loss: 1.4291 - accuracy: 0.37 - ETA: 0s - loss: 1.3515 - accuracy: 0.40 - ETA: 0s - loss: 1.3396 - accuracy: 0.41 - ETA: 0s - loss: 1.3131 - accuracy: 0.41 - ETA: 0s - loss: 1.3194 - accuracy: 0.41 - 1s 46ms/step - loss: 1.3194 - accuracy: 0.4195 - val_loss: 1.2488 - val_accuracy: 0.4405\n",
      "Epoch 222/1000\n",
      "26/26 [==============================] - ETA: 0s - loss: 1.4315 - accuracy: 0.34 - ETA: 0s - loss: 1.3465 - accuracy: 0.40 - ETA: 0s - loss: 1.3160 - accuracy: 0.38 - ETA: 0s - loss: 1.3043 - accuracy: 0.40 - ETA: 0s - loss: 1.2996 - accuracy: 0.40 - ETA: 0s - loss: 1.2972 - accuracy: 0.39 - 1s 52ms/step - loss: 1.2994 - accuracy: 0.4014 - val_loss: 1.2479 - val_accuracy: 0.4405\n",
      "Epoch 223/1000\n",
      "26/26 [==============================] - ETA: 0s - loss: 1.2577 - accuracy: 0.37 - ETA: 0s - loss: 1.3619 - accuracy: 0.36 - ETA: 0s - loss: 1.3690 - accuracy: 0.36 - ETA: 0s - loss: 1.3417 - accuracy: 0.38 - ETA: 0s - loss: 1.3291 - accuracy: 0.37 - ETA: 0s - loss: 1.3365 - accuracy: 0.38 - 2s 58ms/step - loss: 1.3365 - accuracy: 0.3846 - val_loss: 1.2485 - val_accuracy: 0.4226\n",
      "Epoch 224/1000\n",
      "26/26 [==============================] - ETA: 0s - loss: 1.5024 - accuracy: 0.28 - ETA: 0s - loss: 1.3975 - accuracy: 0.32 - ETA: 0s - loss: 1.3386 - accuracy: 0.38 - ETA: 0s - loss: 1.3406 - accuracy: 0.39 - ETA: 0s - loss: 1.3259 - accuracy: 0.41 - ETA: 0s - loss: 1.3310 - accuracy: 0.41 - 1s 47ms/step - loss: 1.3230 - accuracy: 0.4147 - val_loss: 1.2471 - val_accuracy: 0.4107\n",
      "Epoch 225/1000\n",
      "26/26 [==============================] - ETA: 0s - loss: 1.2113 - accuracy: 0.43 - ETA: 0s - loss: 1.3015 - accuracy: 0.42 - ETA: 0s - loss: 1.3020 - accuracy: 0.42 - ETA: 0s - loss: 1.2809 - accuracy: 0.43 - ETA: 0s - loss: 1.2856 - accuracy: 0.43 - ETA: 0s - loss: 1.2921 - accuracy: 0.43 - 1s 43ms/step - loss: 1.2921 - accuracy: 0.4339 - val_loss: 1.2468 - val_accuracy: 0.4226\n",
      "Epoch 226/1000\n",
      "26/26 [==============================] - ETA: 0s - loss: 1.2700 - accuracy: 0.40 - ETA: 0s - loss: 1.3930 - accuracy: 0.36 - ETA: 0s - loss: 1.3429 - accuracy: 0.38 - ETA: 0s - loss: 1.3443 - accuracy: 0.39 - ETA: 0s - loss: 1.3270 - accuracy: 0.40 - ETA: 0s - loss: 1.3400 - accuracy: 0.40 - 1s 46ms/step - loss: 1.3350 - accuracy: 0.4135 - val_loss: 1.2475 - val_accuracy: 0.4405\n",
      "Epoch 227/1000\n",
      "26/26 [==============================] - ETA: 0s - loss: 1.2755 - accuracy: 0.43 - ETA: 0s - loss: 1.4140 - accuracy: 0.35 - ETA: 0s - loss: 1.3375 - accuracy: 0.41 - ETA: 0s - loss: 1.3219 - accuracy: 0.39 - ETA: 0s - loss: 1.3108 - accuracy: 0.40 - ETA: 0s - loss: 1.3051 - accuracy: 0.40 - 1s 48ms/step - loss: 1.3051 - accuracy: 0.4014 - val_loss: 1.2468 - val_accuracy: 0.4345\n",
      "Epoch 228/1000\n"
     ]
    },
    {
     "name": "stdout",
     "output_type": "stream",
     "text": [
      "26/26 [==============================] - ETA: 0s - loss: 1.1568 - accuracy: 0.53 - ETA: 0s - loss: 1.3452 - accuracy: 0.39 - ETA: 0s - loss: 1.3475 - accuracy: 0.40 - ETA: 0s - loss: 1.3525 - accuracy: 0.38 - ETA: 0s - loss: 1.3425 - accuracy: 0.39 - ETA: 0s - loss: 1.3402 - accuracy: 0.39 - 1s 49ms/step - loss: 1.3370 - accuracy: 0.3906 - val_loss: 1.2461 - val_accuracy: 0.4345\n",
      "Epoch 229/1000\n",
      "26/26 [==============================] - ETA: 0s - loss: 1.3310 - accuracy: 0.37 - ETA: 0s - loss: 1.3919 - accuracy: 0.39 - ETA: 0s - loss: 1.3477 - accuracy: 0.40 - ETA: 0s - loss: 1.3393 - accuracy: 0.39 - ETA: 0s - loss: 1.3164 - accuracy: 0.40 - ETA: 0s - loss: 1.3059 - accuracy: 0.40 - 2s 65ms/step - loss: 1.2991 - accuracy: 0.4123 - val_loss: 1.2458 - val_accuracy: 0.4286\n",
      "Epoch 230/1000\n",
      "26/26 [==============================] - ETA: 0s - loss: 1.2166 - accuracy: 0.37 - ETA: 0s - loss: 1.3669 - accuracy: 0.34 - ETA: 0s - loss: 1.3368 - accuracy: 0.37 - ETA: 0s - loss: 1.3400 - accuracy: 0.37 - ETA: 0s - loss: 1.3471 - accuracy: 0.37 - ETA: 0s - loss: 1.3469 - accuracy: 0.37 - 1s 45ms/step - loss: 1.3469 - accuracy: 0.3774 - val_loss: 1.2450 - val_accuracy: 0.4345\n",
      "Epoch 231/1000\n",
      "26/26 [==============================] - ETA: 0s - loss: 1.3403 - accuracy: 0.46 - ETA: 0s - loss: 1.3230 - accuracy: 0.39 - ETA: 0s - loss: 1.3173 - accuracy: 0.40 - ETA: 0s - loss: 1.3158 - accuracy: 0.40 - ETA: 0s - loss: 1.2926 - accuracy: 0.41 - ETA: 0s - loss: 1.2955 - accuracy: 0.41 - 1s 45ms/step - loss: 1.2903 - accuracy: 0.4159 - val_loss: 1.2439 - val_accuracy: 0.4345\n",
      "Epoch 232/1000\n",
      "26/26 [==============================] - ETA: 0s - loss: 1.2781 - accuracy: 0.34 - ETA: 0s - loss: 1.3748 - accuracy: 0.36 - ETA: 0s - loss: 1.3916 - accuracy: 0.35 - ETA: 0s - loss: 1.3703 - accuracy: 0.35 - ETA: 0s - loss: 1.3657 - accuracy: 0.36 - ETA: 0s - loss: 1.3537 - accuracy: 0.37 - 1s 48ms/step - loss: 1.3537 - accuracy: 0.3726 - val_loss: 1.2440 - val_accuracy: 0.4345\n",
      "Epoch 233/1000\n",
      "26/26 [==============================] - ETA: 0s - loss: 1.3934 - accuracy: 0.43 - ETA: 0s - loss: 1.4013 - accuracy: 0.35 - ETA: 0s - loss: 1.3472 - accuracy: 0.38 - ETA: 0s - loss: 1.3133 - accuracy: 0.39 - ETA: 0s - loss: 1.3234 - accuracy: 0.39 - ETA: 0s - loss: 1.3143 - accuracy: 0.40 - 1s 45ms/step - loss: 1.3143 - accuracy: 0.4075 - val_loss: 1.2439 - val_accuracy: 0.4345\n",
      "Epoch 234/1000\n",
      "26/26 [==============================] - ETA: 0s - loss: 1.3523 - accuracy: 0.37 - ETA: 0s - loss: 1.3527 - accuracy: 0.38 - ETA: 0s - loss: 1.3115 - accuracy: 0.40 - ETA: 0s - loss: 1.3407 - accuracy: 0.38 - ETA: 0s - loss: 1.3377 - accuracy: 0.38 - ETA: 0s - loss: 1.3231 - accuracy: 0.39 - 1s 46ms/step - loss: 1.3231 - accuracy: 0.3966 - val_loss: 1.2433 - val_accuracy: 0.4345\n",
      "Epoch 235/1000\n",
      "26/26 [==============================] - ETA: 0s - loss: 1.4312 - accuracy: 0.18 - ETA: 0s - loss: 1.3885 - accuracy: 0.32 - ETA: 0s - loss: 1.3681 - accuracy: 0.39 - ETA: 0s - loss: 1.3012 - accuracy: 0.41 - ETA: 0s - loss: 1.3212 - accuracy: 0.40 - ETA: 0s - loss: 1.3142 - accuracy: 0.40 - 2s 58ms/step - loss: 1.3142 - accuracy: 0.4075 - val_loss: 1.2432 - val_accuracy: 0.4286\n",
      "Epoch 236/1000\n",
      "26/26 [==============================] - ETA: 0s - loss: 1.2737 - accuracy: 0.46 - ETA: 0s - loss: 1.3254 - accuracy: 0.45 - ETA: 0s - loss: 1.3340 - accuracy: 0.43 - ETA: 0s - loss: 1.3024 - accuracy: 0.42 - ETA: 0s - loss: 1.3364 - accuracy: 0.40 - ETA: 0s - loss: 1.3164 - accuracy: 0.41 - 1s 49ms/step - loss: 1.3164 - accuracy: 0.4111 - val_loss: 1.2435 - val_accuracy: 0.4226\n",
      "Epoch 237/1000\n",
      "26/26 [==============================] - ETA: 0s - loss: 1.4298 - accuracy: 0.37 - ETA: 0s - loss: 1.2811 - accuracy: 0.42 - ETA: 0s - loss: 1.2381 - accuracy: 0.45 - ETA: 0s - loss: 1.2559 - accuracy: 0.43 - ETA: 0s - loss: 1.2594 - accuracy: 0.43 - ETA: 0s - loss: 1.2594 - accuracy: 0.43 - 1s 45ms/step - loss: 1.2571 - accuracy: 0.4351 - val_loss: 1.2431 - val_accuracy: 0.4345\n",
      "Epoch 238/1000\n",
      "26/26 [==============================] - ETA: 0s - loss: 1.3228 - accuracy: 0.37 - ETA: 0s - loss: 1.3354 - accuracy: 0.33 - ETA: 0s - loss: 1.3127 - accuracy: 0.36 - ETA: 0s - loss: 1.3381 - accuracy: 0.37 - ETA: 0s - loss: 1.3356 - accuracy: 0.37 - ETA: 0s - loss: 1.3289 - accuracy: 0.37 - 1s 49ms/step - loss: 1.3289 - accuracy: 0.3798 - val_loss: 1.2419 - val_accuracy: 0.4345\n",
      "Epoch 239/1000\n",
      "26/26 [==============================] - ETA: 0s - loss: 1.3815 - accuracy: 0.34 - ETA: 0s - loss: 1.3024 - accuracy: 0.41 - ETA: 0s - loss: 1.2989 - accuracy: 0.42 - ETA: 0s - loss: 1.2765 - accuracy: 0.41 - ETA: 0s - loss: 1.2938 - accuracy: 0.39 - ETA: 0s - loss: 1.3002 - accuracy: 0.39 - 1s 44ms/step - loss: 1.3002 - accuracy: 0.3930 - val_loss: 1.2423 - val_accuracy: 0.4345\n",
      "Epoch 240/1000\n",
      "26/26 [==============================] - ETA: 0s - loss: 1.4249 - accuracy: 0.40 - ETA: 0s - loss: 1.3422 - accuracy: 0.42 - ETA: 0s - loss: 1.3006 - accuracy: 0.42 - ETA: 0s - loss: 1.3107 - accuracy: 0.41 - ETA: 0s - loss: 1.3092 - accuracy: 0.40 - ETA: 0s - loss: 1.2944 - accuracy: 0.40 - 1s 45ms/step - loss: 1.2944 - accuracy: 0.4099 - val_loss: 1.2420 - val_accuracy: 0.4286\n",
      "Epoch 241/1000\n",
      "26/26 [==============================] - ETA: 0s - loss: 1.3574 - accuracy: 0.31 - ETA: 0s - loss: 1.3299 - accuracy: 0.40 - ETA: 0s - loss: 1.3067 - accuracy: 0.40 - ETA: 0s - loss: 1.3170 - accuracy: 0.41 - ETA: 0s - loss: 1.3019 - accuracy: 0.41 - ETA: 0s - loss: 1.3115 - accuracy: 0.41 - 2s 64ms/step - loss: 1.3115 - accuracy: 0.4123 - val_loss: 1.2412 - val_accuracy: 0.4286\n",
      "Epoch 242/1000\n",
      "26/26 [==============================] - ETA: 0s - loss: 1.3149 - accuracy: 0.50 - ETA: 0s - loss: 1.2851 - accuracy: 0.40 - ETA: 0s - loss: 1.2947 - accuracy: 0.41 - ETA: 0s - loss: 1.2792 - accuracy: 0.42 - ETA: 0s - loss: 1.2802 - accuracy: 0.42 - ETA: 0s - loss: 1.2936 - accuracy: 0.42 - 1s 45ms/step - loss: 1.2936 - accuracy: 0.4207 - val_loss: 1.2417 - val_accuracy: 0.4286\n",
      "Epoch 243/1000\n",
      "26/26 [==============================] - ETA: 0s - loss: 1.1520 - accuracy: 0.46 - ETA: 0s - loss: 1.3529 - accuracy: 0.35 - ETA: 0s - loss: 1.3447 - accuracy: 0.37 - ETA: 0s - loss: 1.3305 - accuracy: 0.38 - ETA: 0s - loss: 1.3239 - accuracy: 0.38 - ETA: 0s - loss: 1.3166 - accuracy: 0.39 - 1s 45ms/step - loss: 1.3166 - accuracy: 0.3918 - val_loss: 1.2408 - val_accuracy: 0.4286\n",
      "Epoch 244/1000\n",
      "26/26 [==============================] - ETA: 0s - loss: 1.2992 - accuracy: 0.37 - ETA: 0s - loss: 1.3933 - accuracy: 0.39 - ETA: 0s - loss: 1.3634 - accuracy: 0.39 - ETA: 0s - loss: 1.3375 - accuracy: 0.38 - ETA: 0s - loss: 1.3269 - accuracy: 0.38 - ETA: 0s - loss: 1.3213 - accuracy: 0.38 - 1s 43ms/step - loss: 1.3213 - accuracy: 0.3894 - val_loss: 1.2396 - val_accuracy: 0.4405\n",
      "Epoch 245/1000\n",
      "26/26 [==============================] - ETA: 0s - loss: 1.2807 - accuracy: 0.40 - ETA: 0s - loss: 1.3799 - accuracy: 0.42 - ETA: 0s - loss: 1.3073 - accuracy: 0.42 - ETA: 0s - loss: 1.3041 - accuracy: 0.41 - ETA: 0s - loss: 1.3135 - accuracy: 0.39 - ETA: 0s - loss: 1.3173 - accuracy: 0.39 - 1s 42ms/step - loss: 1.3173 - accuracy: 0.3918 - val_loss: 1.2388 - val_accuracy: 0.4464\n",
      "Epoch 246/1000\n",
      "26/26 [==============================] - ETA: 0s - loss: 1.3478 - accuracy: 0.43 - ETA: 0s - loss: 1.3643 - accuracy: 0.43 - ETA: 0s - loss: 1.3480 - accuracy: 0.40 - ETA: 0s - loss: 1.3109 - accuracy: 0.41 - ETA: 0s - loss: 1.3198 - accuracy: 0.40 - ETA: 0s - loss: 1.2991 - accuracy: 0.42 - 1s 52ms/step - loss: 1.2991 - accuracy: 0.4207 - val_loss: 1.2381 - val_accuracy: 0.4345\n",
      "Epoch 247/1000\n",
      "26/26 [==============================] - ETA: 0s - loss: 1.2566 - accuracy: 0.53 - ETA: 0s - loss: 1.3026 - accuracy: 0.41 - ETA: 0s - loss: 1.3103 - accuracy: 0.41 - ETA: 0s - loss: 1.3026 - accuracy: 0.40 - ETA: 0s - loss: 1.2963 - accuracy: 0.40 - ETA: 0s - loss: 1.2947 - accuracy: 0.40 - 1s 56ms/step - loss: 1.2892 - accuracy: 0.4147 - val_loss: 1.2379 - val_accuracy: 0.4405\n",
      "Epoch 248/1000\n"
     ]
    },
    {
     "name": "stdout",
     "output_type": "stream",
     "text": [
      "26/26 [==============================] - ETA: 0s - loss: 1.2452 - accuracy: 0.46 - ETA: 0s - loss: 1.3054 - accuracy: 0.37 - ETA: 0s - loss: 1.2702 - accuracy: 0.39 - ETA: 0s - loss: 1.2668 - accuracy: 0.40 - ETA: 0s - loss: 1.2771 - accuracy: 0.41 - ETA: 0s - loss: 1.2670 - accuracy: 0.41 - 1s 42ms/step - loss: 1.2670 - accuracy: 0.4147 - val_loss: 1.2379 - val_accuracy: 0.4464\n",
      "Epoch 249/1000\n",
      "26/26 [==============================] - ETA: 0s - loss: 1.2489 - accuracy: 0.37 - ETA: 0s - loss: 1.3465 - accuracy: 0.38 - ETA: 0s - loss: 1.3588 - accuracy: 0.40 - ETA: 0s - loss: 1.3122 - accuracy: 0.42 - ETA: 0s - loss: 1.2987 - accuracy: 0.41 - 1s 43ms/step - loss: 1.2854 - accuracy: 0.4291 - val_loss: 1.2379 - val_accuracy: 0.4405\n",
      "Epoch 250/1000\n",
      "26/26 [==============================] - ETA: 0s - loss: 1.1805 - accuracy: 0.37 - ETA: 0s - loss: 1.2919 - accuracy: 0.42 - ETA: 0s - loss: 1.2808 - accuracy: 0.42 - ETA: 0s - loss: 1.2803 - accuracy: 0.41 - ETA: 0s - loss: 1.2969 - accuracy: 0.39 - ETA: 0s - loss: 1.3068 - accuracy: 0.38 - 1s 42ms/step - loss: 1.3068 - accuracy: 0.3858 - val_loss: 1.2383 - val_accuracy: 0.4345\n",
      "Epoch 251/1000\n",
      "26/26 [==============================] - ETA: 0s - loss: 1.3371 - accuracy: 0.37 - ETA: 0s - loss: 1.3540 - accuracy: 0.38 - ETA: 0s - loss: 1.2937 - accuracy: 0.40 - ETA: 0s - loss: 1.2878 - accuracy: 0.40 - ETA: 0s - loss: 1.3031 - accuracy: 0.40 - ETA: 0s - loss: 1.3001 - accuracy: 0.40 - 1s 42ms/step - loss: 1.3001 - accuracy: 0.4099 - val_loss: 1.2369 - val_accuracy: 0.4464\n",
      "Epoch 252/1000\n",
      "26/26 [==============================] - ETA: 0s - loss: 1.3188 - accuracy: 0.40 - ETA: 0s - loss: 1.3803 - accuracy: 0.36 - ETA: 0s - loss: 1.3797 - accuracy: 0.37 - ETA: 0s - loss: 1.3519 - accuracy: 0.38 - ETA: 0s - loss: 1.3305 - accuracy: 0.40 - ETA: 0s - loss: 1.3216 - accuracy: 0.41 - 1s 43ms/step - loss: 1.3216 - accuracy: 0.4135 - val_loss: 1.2379 - val_accuracy: 0.4286\n",
      "Epoch 253/1000\n",
      "26/26 [==============================] - ETA: 0s - loss: 1.2699 - accuracy: 0.37 - ETA: 0s - loss: 1.2739 - accuracy: 0.42 - ETA: 0s - loss: 1.2958 - accuracy: 0.41 - ETA: 0s - loss: 1.2850 - accuracy: 0.42 - ETA: 0s - loss: 1.2875 - accuracy: 0.42 - ETA: 0s - loss: 1.2784 - accuracy: 0.42 - 1s 56ms/step - loss: 1.2784 - accuracy: 0.4279 - val_loss: 1.2377 - val_accuracy: 0.4226\n",
      "Epoch 254/1000\n",
      "26/26 [==============================] - ETA: 0s - loss: 1.3370 - accuracy: 0.34 - ETA: 0s - loss: 1.3636 - accuracy: 0.36 - ETA: 0s - loss: 1.3286 - accuracy: 0.39 - ETA: 0s - loss: 1.3044 - accuracy: 0.41 - ETA: 0s - loss: 1.3036 - accuracy: 0.39 - ETA: 0s - loss: 1.3031 - accuracy: 0.39 - 1s 43ms/step - loss: 1.3031 - accuracy: 0.3918 - val_loss: 1.2381 - val_accuracy: 0.4226\n",
      "Epoch 255/1000\n",
      "26/26 [==============================] - ETA: 0s - loss: 1.1961 - accuracy: 0.46 - ETA: 0s - loss: 1.3449 - accuracy: 0.39 - ETA: 0s - loss: 1.3077 - accuracy: 0.40 - ETA: 0s - loss: 1.3180 - accuracy: 0.38 - ETA: 0s - loss: 1.3207 - accuracy: 0.39 - ETA: 0s - loss: 1.3134 - accuracy: 0.40 - 1s 44ms/step - loss: 1.3134 - accuracy: 0.4038 - val_loss: 1.2375 - val_accuracy: 0.4286\n",
      "Epoch 256/1000\n",
      "26/26 [==============================] - ETA: 0s - loss: 1.4703 - accuracy: 0.34 - ETA: 0s - loss: 1.3891 - accuracy: 0.39 - ETA: 0s - loss: 1.3434 - accuracy: 0.40 - ETA: 0s - loss: 1.3147 - accuracy: 0.40 - ETA: 0s - loss: 1.3137 - accuracy: 0.40 - ETA: 0s - loss: 1.3128 - accuracy: 0.40 - 1s 45ms/step - loss: 1.3128 - accuracy: 0.4099 - val_loss: 1.2369 - val_accuracy: 0.4226\n",
      "Epoch 257/1000\n",
      "26/26 [==============================] - ETA: 0s - loss: 1.3446 - accuracy: 0.37 - ETA: 0s - loss: 1.3828 - accuracy: 0.35 - ETA: 0s - loss: 1.3546 - accuracy: 0.39 - ETA: 0s - loss: 1.3240 - accuracy: 0.40 - ETA: 0s - loss: 1.3227 - accuracy: 0.40 - ETA: 0s - loss: 1.3095 - accuracy: 0.41 - 1s 35ms/step - loss: 1.3095 - accuracy: 0.4111 - val_loss: 1.2360 - val_accuracy: 0.4286\n",
      "Epoch 258/1000\n",
      "26/26 [==============================] - ETA: 0s - loss: 1.1329 - accuracy: 0.46 - ETA: 0s - loss: 1.3280 - accuracy: 0.39 - ETA: 0s - loss: 1.2957 - accuracy: 0.42 - ETA: 0s - loss: 1.3334 - accuracy: 0.40 - ETA: 0s - loss: 1.3032 - accuracy: 0.41 - ETA: 0s - loss: 1.3156 - accuracy: 0.41 - 1s 43ms/step - loss: 1.3079 - accuracy: 0.4123 - val_loss: 1.2358 - val_accuracy: 0.4405\n",
      "Epoch 259/1000\n",
      "26/26 [==============================] - ETA: 0s - loss: 1.3215 - accuracy: 0.31 - ETA: 0s - loss: 1.3548 - accuracy: 0.38 - ETA: 0s - loss: 1.3146 - accuracy: 0.42 - ETA: 0s - loss: 1.2733 - accuracy: 0.42 - ETA: 0s - loss: 1.2808 - accuracy: 0.41 - ETA: 0s - loss: 1.2831 - accuracy: 0.41 - 1s 51ms/step - loss: 1.2831 - accuracy: 0.4135 - val_loss: 1.2357 - val_accuracy: 0.4405\n",
      "Epoch 260/1000\n",
      "26/26 [==============================] - ETA: 0s - loss: 1.4811 - accuracy: 0.21 - ETA: 0s - loss: 1.3118 - accuracy: 0.33 - ETA: 0s - loss: 1.3203 - accuracy: 0.35 - ETA: 0s - loss: 1.3141 - accuracy: 0.36 - ETA: 0s - loss: 1.3117 - accuracy: 0.38 - ETA: 0s - loss: 1.3137 - accuracy: 0.38 - 1s 45ms/step - loss: 1.3137 - accuracy: 0.3810 - val_loss: 1.2357 - val_accuracy: 0.4464\n",
      "Epoch 261/1000\n",
      "26/26 [==============================] - ETA: 0s - loss: 1.3348 - accuracy: 0.40 - ETA: 0s - loss: 1.3676 - accuracy: 0.38 - ETA: 0s - loss: 1.2867 - accuracy: 0.41 - ETA: 0s - loss: 1.2939 - accuracy: 0.40 - ETA: 0s - loss: 1.2906 - accuracy: 0.41 - ETA: 0s - loss: 1.2868 - accuracy: 0.42 - 1s 50ms/step - loss: 1.2868 - accuracy: 0.4207 - val_loss: 1.2367 - val_accuracy: 0.4464\n",
      "Epoch 262/1000\n",
      "26/26 [==============================] - ETA: 0s - loss: 1.3580 - accuracy: 0.46 - ETA: 0s - loss: 1.3449 - accuracy: 0.40 - ETA: 0s - loss: 1.3258 - accuracy: 0.41 - ETA: 0s - loss: 1.3265 - accuracy: 0.41 - ETA: 0s - loss: 1.3109 - accuracy: 0.40 - ETA: 0s - loss: 1.3207 - accuracy: 0.39 - 1s 50ms/step - loss: 1.3020 - accuracy: 0.4062 - val_loss: 1.2357 - val_accuracy: 0.4405\n",
      "Epoch 263/1000\n",
      "26/26 [==============================] - ETA: 0s - loss: 1.3963 - accuracy: 0.31 - ETA: 0s - loss: 1.3625 - accuracy: 0.36 - ETA: 0s - loss: 1.2651 - accuracy: 0.42 - ETA: 0s - loss: 1.2539 - accuracy: 0.42 - ETA: 0s - loss: 1.2623 - accuracy: 0.41 - ETA: 0s - loss: 1.2606 - accuracy: 0.41 - 1s 44ms/step - loss: 1.2606 - accuracy: 0.4183 - val_loss: 1.2353 - val_accuracy: 0.4345\n",
      "Epoch 264/1000\n",
      "26/26 [==============================] - ETA: 0s - loss: 1.3089 - accuracy: 0.46 - ETA: 0s - loss: 1.3888 - accuracy: 0.41 - ETA: 0s - loss: 1.3409 - accuracy: 0.40 - ETA: 0s - loss: 1.3272 - accuracy: 0.41 - ETA: 0s - loss: 1.3134 - accuracy: 0.41 - ETA: 0s - loss: 1.3135 - accuracy: 0.40 - 1s 48ms/step - loss: 1.3135 - accuracy: 0.4050 - val_loss: 1.2354 - val_accuracy: 0.4405\n",
      "Epoch 265/1000\n",
      "26/26 [==============================] - ETA: 0s - loss: 1.3686 - accuracy: 0.50 - ETA: 0s - loss: 1.3797 - accuracy: 0.41 - ETA: 0s - loss: 1.2962 - accuracy: 0.45 - ETA: 0s - loss: 1.2827 - accuracy: 0.43 - ETA: 0s - loss: 1.2938 - accuracy: 0.43 - ETA: 0s - loss: 1.2864 - accuracy: 0.43 - 2s 59ms/step - loss: 1.2864 - accuracy: 0.4327 - val_loss: 1.2350 - val_accuracy: 0.4464\n",
      "Epoch 266/1000\n",
      "26/26 [==============================] - ETA: 0s - loss: 1.3342 - accuracy: 0.37 - ETA: 0s - loss: 1.4102 - accuracy: 0.34 - ETA: 0s - loss: 1.3257 - accuracy: 0.40 - ETA: 0s - loss: 1.2963 - accuracy: 0.41 - ETA: 0s - loss: 1.2863 - accuracy: 0.43 - ETA: 0s - loss: 1.2986 - accuracy: 0.43 - ETA: 0s - loss: 1.2925 - accuracy: 0.43 - 1s 57ms/step - loss: 1.2925 - accuracy: 0.4351 - val_loss: 1.2336 - val_accuracy: 0.4405\n",
      "Epoch 267/1000\n",
      "26/26 [==============================] - ETA: 0s - loss: 1.2941 - accuracy: 0.40 - ETA: 0s - loss: 1.3461 - accuracy: 0.38 - ETA: 0s - loss: 1.3464 - accuracy: 0.39 - ETA: 0s - loss: 1.2922 - accuracy: 0.41 - ETA: 0s - loss: 1.2990 - accuracy: 0.40 - ETA: 0s - loss: 1.3015 - accuracy: 0.40 - 1s 49ms/step - loss: 1.3015 - accuracy: 0.4050 - val_loss: 1.2335 - val_accuracy: 0.4345\n",
      "Epoch 268/1000\n"
     ]
    },
    {
     "name": "stdout",
     "output_type": "stream",
     "text": [
      "26/26 [==============================] - ETA: 0s - loss: 1.3318 - accuracy: 0.31 - ETA: 0s - loss: 1.3094 - accuracy: 0.41 - ETA: 0s - loss: 1.2828 - accuracy: 0.42 - ETA: 0s - loss: 1.2804 - accuracy: 0.41 - ETA: 0s - loss: 1.2516 - accuracy: 0.42 - ETA: 0s - loss: 1.2582 - accuracy: 0.42 - 1s 47ms/step - loss: 1.2582 - accuracy: 0.4207 - val_loss: 1.2322 - val_accuracy: 0.4345\n",
      "Epoch 269/1000\n",
      "26/26 [==============================] - ETA: 0s - loss: 1.4052 - accuracy: 0.40 - ETA: 0s - loss: 1.4020 - accuracy: 0.34 - ETA: 0s - loss: 1.3668 - accuracy: 0.37 - ETA: 0s - loss: 1.3393 - accuracy: 0.38 - ETA: 0s - loss: 1.3347 - accuracy: 0.38 - ETA: 0s - loss: 1.3235 - accuracy: 0.38 - 1s 47ms/step - loss: 1.3235 - accuracy: 0.3834 - val_loss: 1.2309 - val_accuracy: 0.4345\n",
      "Epoch 270/1000\n",
      "26/26 [==============================] - ETA: 0s - loss: 1.2506 - accuracy: 0.40 - ETA: 0s - loss: 1.3631 - accuracy: 0.39 - ETA: 0s - loss: 1.2843 - accuracy: 0.40 - ETA: 0s - loss: 1.2933 - accuracy: 0.41 - ETA: 0s - loss: 1.2933 - accuracy: 0.40 - ETA: 0s - loss: 1.2916 - accuracy: 0.40 - 1s 45ms/step - loss: 1.2826 - accuracy: 0.4147 - val_loss: 1.2309 - val_accuracy: 0.4345\n",
      "Epoch 271/1000\n",
      "26/26 [==============================] - ETA: 0s - loss: 1.3329 - accuracy: 0.46 - ETA: 0s - loss: 1.3705 - accuracy: 0.38 - ETA: 0s - loss: 1.3344 - accuracy: 0.41 - ETA: 0s - loss: 1.3153 - accuracy: 0.41 - ETA: 0s - loss: 1.3257 - accuracy: 0.40 - ETA: 0s - loss: 1.3115 - accuracy: 0.40 - 2s 59ms/step - loss: 1.3115 - accuracy: 0.4050 - val_loss: 1.2310 - val_accuracy: 0.4345\n",
      "Epoch 272/1000\n",
      "26/26 [==============================] - ETA: 0s - loss: 1.2485 - accuracy: 0.50 - ETA: 0s - loss: 1.3614 - accuracy: 0.40 - ETA: 0s - loss: 1.2869 - accuracy: 0.42 - ETA: 0s - loss: 1.2878 - accuracy: 0.41 - ETA: 0s - loss: 1.2761 - accuracy: 0.41 - ETA: 0s - loss: 1.2848 - accuracy: 0.40 - 1s 44ms/step - loss: 1.2848 - accuracy: 0.4026 - val_loss: 1.2302 - val_accuracy: 0.4405\n",
      "Epoch 273/1000\n",
      "26/26 [==============================] - ETA: 0s - loss: 1.2752 - accuracy: 0.37 - ETA: 0s - loss: 1.3230 - accuracy: 0.40 - ETA: 0s - loss: 1.3202 - accuracy: 0.39 - ETA: 0s - loss: 1.2772 - accuracy: 0.39 - ETA: 0s - loss: 1.2731 - accuracy: 0.39 - ETA: 0s - loss: 1.2837 - accuracy: 0.39 - 1s 44ms/step - loss: 1.2837 - accuracy: 0.3978 - val_loss: 1.2284 - val_accuracy: 0.4345\n",
      "Epoch 274/1000\n",
      "26/26 [==============================] - ETA: 0s - loss: 1.3390 - accuracy: 0.37 - ETA: 0s - loss: 1.3087 - accuracy: 0.39 - ETA: 0s - loss: 1.2936 - accuracy: 0.41 - ETA: 0s - loss: 1.3047 - accuracy: 0.40 - ETA: 0s - loss: 1.2954 - accuracy: 0.40 - ETA: 0s - loss: 1.3009 - accuracy: 0.39 - 1s 44ms/step - loss: 1.3009 - accuracy: 0.3978 - val_loss: 1.2289 - val_accuracy: 0.4286\n",
      "Epoch 275/1000\n",
      "26/26 [==============================] - ETA: 0s - loss: 1.0859 - accuracy: 0.50 - ETA: 0s - loss: 1.2559 - accuracy: 0.45 - ETA: 0s - loss: 1.2575 - accuracy: 0.43 - ETA: 0s - loss: 1.2807 - accuracy: 0.42 - ETA: 0s - loss: 1.2701 - accuracy: 0.42 - ETA: 0s - loss: 1.2701 - accuracy: 0.42 - 1s 39ms/step - loss: 1.2701 - accuracy: 0.4207 - val_loss: 1.2273 - val_accuracy: 0.4286\n",
      "Epoch 276/1000\n",
      "26/26 [==============================] - ETA: 0s - loss: 1.4318 - accuracy: 0.34 - ETA: 0s - loss: 1.4387 - accuracy: 0.40 - ETA: 0s - loss: 1.3591 - accuracy: 0.40 - ETA: 0s - loss: 1.3341 - accuracy: 0.41 - ETA: 0s - loss: 1.3127 - accuracy: 0.41 - ETA: 0s - loss: 1.2948 - accuracy: 0.41 - 1s 39ms/step - loss: 1.2948 - accuracy: 0.4171 - val_loss: 1.2278 - val_accuracy: 0.4226\n",
      "Epoch 277/1000\n",
      "26/26 [==============================] - ETA: 0s - loss: 1.3200 - accuracy: 0.34 - ETA: 0s - loss: 1.3382 - accuracy: 0.41 - ETA: 0s - loss: 1.2902 - accuracy: 0.43 - ETA: 0s - loss: 1.2941 - accuracy: 0.41 - ETA: 0s - loss: 1.2885 - accuracy: 0.41 - ETA: 0s - loss: 1.2947 - accuracy: 0.40 - 1s 52ms/step - loss: 1.2947 - accuracy: 0.4050 - val_loss: 1.2266 - val_accuracy: 0.4345\n",
      "Epoch 278/1000\n",
      "26/26 [==============================] - ETA: 0s - loss: 1.3578 - accuracy: 0.40 - ETA: 0s - loss: 1.3648 - accuracy: 0.41 - ETA: 0s - loss: 1.3208 - accuracy: 0.44 - ETA: 0s - loss: 1.3132 - accuracy: 0.42 - ETA: 0s - loss: 1.3116 - accuracy: 0.42 - ETA: 0s - loss: 1.2905 - accuracy: 0.43 - 1s 41ms/step - loss: 1.2905 - accuracy: 0.4399 - val_loss: 1.2262 - val_accuracy: 0.4405\n",
      "Epoch 279/1000\n",
      "26/26 [==============================] - ETA: 0s - loss: 1.2036 - accuracy: 0.50 - ETA: 0s - loss: 1.2910 - accuracy: 0.37 - ETA: 0s - loss: 1.2846 - accuracy: 0.41 - ETA: 0s - loss: 1.3205 - accuracy: 0.39 - ETA: 0s - loss: 1.3307 - accuracy: 0.38 - ETA: 0s - loss: 1.3030 - accuracy: 0.40 - ETA: 0s - loss: 1.2885 - accuracy: 0.40 - 2s 58ms/step - loss: 1.2882 - accuracy: 0.4123 - val_loss: 1.2273 - val_accuracy: 0.4405\n",
      "Epoch 280/1000\n",
      "26/26 [==============================] - ETA: 0s - loss: 1.2235 - accuracy: 0.40 - ETA: 0s - loss: 1.2720 - accuracy: 0.36 - ETA: 0s - loss: 1.2853 - accuracy: 0.41 - ETA: 0s - loss: 1.2792 - accuracy: 0.41 - ETA: 0s - loss: 1.2832 - accuracy: 0.41 - ETA: 0s - loss: 1.2871 - accuracy: 0.40 - 1s 51ms/step - loss: 1.2777 - accuracy: 0.4135 - val_loss: 1.2269 - val_accuracy: 0.4464\n",
      "Epoch 281/1000\n",
      "26/26 [==============================] - ETA: 0s - loss: 1.1718 - accuracy: 0.46 - ETA: 0s - loss: 1.3161 - accuracy: 0.41 - ETA: 0s - loss: 1.2690 - accuracy: 0.44 - ETA: 0s - loss: 1.2556 - accuracy: 0.44 - ETA: 0s - loss: 1.2649 - accuracy: 0.44 - ETA: 0s - loss: 1.2680 - accuracy: 0.42 - 1s 51ms/step - loss: 1.2680 - accuracy: 0.4255 - val_loss: 1.2273 - val_accuracy: 0.4464\n",
      "Epoch 282/1000\n",
      "26/26 [==============================] - ETA: 0s - loss: 1.1726 - accuracy: 0.40 - ETA: 0s - loss: 1.2857 - accuracy: 0.43 - ETA: 0s - loss: 1.2720 - accuracy: 0.43 - ETA: 0s - loss: 1.2513 - accuracy: 0.44 - ETA: 0s - loss: 1.2666 - accuracy: 0.44 - ETA: 0s - loss: 1.2852 - accuracy: 0.43 - 1s 48ms/step - loss: 1.2852 - accuracy: 0.4387 - val_loss: 1.2278 - val_accuracy: 0.4405\n",
      "Epoch 283/1000\n",
      "26/26 [==============================] - ETA: 0s - loss: 1.3680 - accuracy: 0.43 - ETA: 0s - loss: 1.3170 - accuracy: 0.42 - ETA: 0s - loss: 1.2995 - accuracy: 0.41 - ETA: 0s - loss: 1.2935 - accuracy: 0.39 - ETA: 0s - loss: 1.2858 - accuracy: 0.39 - ETA: 0s - loss: 1.2790 - accuracy: 0.40 - 2s 65ms/step - loss: 1.2790 - accuracy: 0.4099 - val_loss: 1.2274 - val_accuracy: 0.4405\n",
      "Epoch 284/1000\n",
      "26/26 [==============================] - ETA: 0s - loss: 1.2119 - accuracy: 0.53 - ETA: 0s - loss: 1.3135 - accuracy: 0.37 - ETA: 0s - loss: 1.2683 - accuracy: 0.39 - ETA: 0s - loss: 1.2650 - accuracy: 0.40 - ETA: 0s - loss: 1.2731 - accuracy: 0.41 - ETA: 0s - loss: 1.2770 - accuracy: 0.41 - 1s 49ms/step - loss: 1.2770 - accuracy: 0.4135 - val_loss: 1.2275 - val_accuracy: 0.4405\n",
      "Epoch 285/1000\n",
      "26/26 [==============================] - ETA: 0s - loss: 1.2818 - accuracy: 0.37 - ETA: 0s - loss: 1.4022 - accuracy: 0.38 - ETA: 0s - loss: 1.3187 - accuracy: 0.42 - ETA: 0s - loss: 1.3157 - accuracy: 0.42 - ETA: 0s - loss: 1.3035 - accuracy: 0.42 - ETA: 0s - loss: 1.2924 - accuracy: 0.42 - 1s 51ms/step - loss: 1.2924 - accuracy: 0.4291 - val_loss: 1.2263 - val_accuracy: 0.4345\n",
      "Epoch 286/1000\n",
      "26/26 [==============================] - ETA: 0s - loss: 1.3109 - accuracy: 0.37 - ETA: 0s - loss: 1.3930 - accuracy: 0.38 - ETA: 0s - loss: 1.3281 - accuracy: 0.42 - ETA: 0s - loss: 1.3015 - accuracy: 0.42 - ETA: 0s - loss: 1.3202 - accuracy: 0.41 - ETA: 0s - loss: 1.3072 - accuracy: 0.40 - 1s 38ms/step - loss: 1.3072 - accuracy: 0.4099 - val_loss: 1.2254 - val_accuracy: 0.4345\n",
      "Epoch 287/1000\n",
      "26/26 [==============================] - ETA: 0s - loss: 1.4101 - accuracy: 0.46 - ETA: 0s - loss: 1.3117 - accuracy: 0.46 - ETA: 0s - loss: 1.2879 - accuracy: 0.44 - ETA: 0s - loss: 1.2706 - accuracy: 0.44 - ETA: 0s - loss: 1.2947 - accuracy: 0.43 - ETA: 0s - loss: 1.2893 - accuracy: 0.43 - 1s 39ms/step - loss: 1.2808 - accuracy: 0.4387 - val_loss: 1.2242 - val_accuracy: 0.4286\n",
      "Epoch 288/1000\n"
     ]
    },
    {
     "name": "stdout",
     "output_type": "stream",
     "text": [
      "26/26 [==============================] - ETA: 0s - loss: 1.2035 - accuracy: 0.40 - ETA: 0s - loss: 1.2731 - accuracy: 0.38 - ETA: 0s - loss: 1.2959 - accuracy: 0.40 - ETA: 0s - loss: 1.2988 - accuracy: 0.38 - ETA: 0s - loss: 1.2772 - accuracy: 0.39 - ETA: 0s - loss: 1.2755 - accuracy: 0.40 - 2s 59ms/step - loss: 1.2755 - accuracy: 0.4026 - val_loss: 1.2247 - val_accuracy: 0.4286\n",
      "Epoch 289/1000\n",
      "26/26 [==============================] - ETA: 0s - loss: 1.4803 - accuracy: 0.31 - ETA: 0s - loss: 1.3408 - accuracy: 0.36 - ETA: 0s - loss: 1.3360 - accuracy: 0.37 - ETA: 0s - loss: 1.2980 - accuracy: 0.39 - ETA: 0s - loss: 1.2921 - accuracy: 0.41 - ETA: 0s - loss: 1.2923 - accuracy: 0.41 - 1s 42ms/step - loss: 1.2923 - accuracy: 0.4159 - val_loss: 1.2246 - val_accuracy: 0.4286\n",
      "Epoch 290/1000\n",
      "26/26 [==============================] - ETA: 0s - loss: 1.3648 - accuracy: 0.31 - ETA: 0s - loss: 1.4156 - accuracy: 0.35 - ETA: 0s - loss: 1.3013 - accuracy: 0.43 - ETA: 0s - loss: 1.3134 - accuracy: 0.41 - ETA: 0s - loss: 1.3073 - accuracy: 0.40 - ETA: 0s - loss: 1.2899 - accuracy: 0.40 - 1s 46ms/step - loss: 1.2899 - accuracy: 0.4062 - val_loss: 1.2248 - val_accuracy: 0.4286\n",
      "Epoch 291/1000\n",
      "26/26 [==============================] - ETA: 0s - loss: 1.3209 - accuracy: 0.37 - ETA: 0s - loss: 1.3700 - accuracy: 0.39 - ETA: 0s - loss: 1.3059 - accuracy: 0.41 - ETA: 0s - loss: 1.3011 - accuracy: 0.41 - ETA: 0s - loss: 1.2999 - accuracy: 0.41 - ETA: 0s - loss: 1.2978 - accuracy: 0.41 - 1s 54ms/step - loss: 1.2985 - accuracy: 0.4195 - val_loss: 1.2244 - val_accuracy: 0.4345\n",
      "Epoch 292/1000\n",
      "26/26 [==============================] - ETA: 0s - loss: 1.2847 - accuracy: 0.50 - ETA: 0s - loss: 1.3667 - accuracy: 0.38 - ETA: 0s - loss: 1.3109 - accuracy: 0.38 - ETA: 0s - loss: 1.2849 - accuracy: 0.39 - ETA: 0s - loss: 1.3004 - accuracy: 0.39 - ETA: 0s - loss: 1.2972 - accuracy: 0.39 - 1s 40ms/step - loss: 1.2972 - accuracy: 0.3930 - val_loss: 1.2231 - val_accuracy: 0.4405\n",
      "Epoch 293/1000\n",
      "26/26 [==============================] - ETA: 0s - loss: 1.1522 - accuracy: 0.46 - ETA: 0s - loss: 1.3381 - accuracy: 0.37 - ETA: 0s - loss: 1.2860 - accuracy: 0.42 - ETA: 0s - loss: 1.2660 - accuracy: 0.41 - ETA: 0s - loss: 1.2656 - accuracy: 0.41 - ETA: 0s - loss: 1.2592 - accuracy: 0.42 - 1s 47ms/step - loss: 1.2592 - accuracy: 0.4291 - val_loss: 1.2227 - val_accuracy: 0.4405\n",
      "Epoch 294/1000\n",
      "26/26 [==============================] - ETA: 0s - loss: 1.2160 - accuracy: 0.56 - ETA: 0s - loss: 1.3451 - accuracy: 0.42 - ETA: 0s - loss: 1.3017 - accuracy: 0.42 - ETA: 0s - loss: 1.2898 - accuracy: 0.43 - ETA: 0s - loss: 1.2905 - accuracy: 0.43 - ETA: 0s - loss: 1.2909 - accuracy: 0.42 - 1s 58ms/step - loss: 1.2909 - accuracy: 0.4267 - val_loss: 1.2235 - val_accuracy: 0.4405\n",
      "Epoch 295/1000\n",
      "26/26 [==============================] - ETA: 0s - loss: 1.3656 - accuracy: 0.37 - ETA: 0s - loss: 1.3179 - accuracy: 0.41 - ETA: 0s - loss: 1.2710 - accuracy: 0.45 - ETA: 0s - loss: 1.2990 - accuracy: 0.41 - ETA: 0s - loss: 1.2801 - accuracy: 0.41 - ETA: 0s - loss: 1.2895 - accuracy: 0.40 - 1s 51ms/step - loss: 1.2875 - accuracy: 0.4050 - val_loss: 1.2228 - val_accuracy: 0.4345\n",
      "Epoch 296/1000\n",
      "26/26 [==============================] - ETA: 0s - loss: 1.2614 - accuracy: 0.46 - ETA: 0s - loss: 1.3391 - accuracy: 0.42 - ETA: 0s - loss: 1.2751 - accuracy: 0.43 - ETA: 0s - loss: 1.2587 - accuracy: 0.44 - ETA: 0s - loss: 1.2641 - accuracy: 0.44 - ETA: 0s - loss: 1.2654 - accuracy: 0.43 - 1s 41ms/step - loss: 1.2573 - accuracy: 0.4339 - val_loss: 1.2226 - val_accuracy: 0.4345\n",
      "Epoch 297/1000\n",
      "26/26 [==============================] - ETA: 0s - loss: 1.2077 - accuracy: 0.34 - ETA: 0s - loss: 1.2835 - accuracy: 0.41 - ETA: 0s - loss: 1.2575 - accuracy: 0.44 - ETA: 0s - loss: 1.2525 - accuracy: 0.43 - ETA: 0s - loss: 1.2503 - accuracy: 0.43 - ETA: 0s - loss: 1.2594 - accuracy: 0.42 - 1s 47ms/step - loss: 1.2594 - accuracy: 0.4231 - val_loss: 1.2208 - val_accuracy: 0.4464\n",
      "Epoch 298/1000\n",
      "26/26 [==============================] - ETA: 0s - loss: 1.1803 - accuracy: 0.46 - ETA: 0s - loss: 1.2189 - accuracy: 0.45 - ETA: 0s - loss: 1.2382 - accuracy: 0.44 - ETA: 0s - loss: 1.2315 - accuracy: 0.44 - ETA: 0s - loss: 1.2546 - accuracy: 0.42 - ETA: 0s - loss: 1.2568 - accuracy: 0.42 - 1s 48ms/step - loss: 1.2568 - accuracy: 0.4279 - val_loss: 1.2198 - val_accuracy: 0.4345\n",
      "Epoch 299/1000\n",
      "26/26 [==============================] - ETA: 0s - loss: 1.2183 - accuracy: 0.34 - ETA: 0s - loss: 1.4143 - accuracy: 0.36 - ETA: 0s - loss: 1.3226 - accuracy: 0.41 - ETA: 0s - loss: 1.3142 - accuracy: 0.39 - ETA: 0s - loss: 1.3114 - accuracy: 0.38 - ETA: 0s - loss: 1.2982 - accuracy: 0.39 - 1s 51ms/step - loss: 1.2982 - accuracy: 0.3930 - val_loss: 1.2200 - val_accuracy: 0.4345\n",
      "Epoch 300/1000\n",
      "26/26 [==============================] - ETA: 0s - loss: 1.0778 - accuracy: 0.56 - ETA: 0s - loss: 1.2663 - accuracy: 0.45 - ETA: 0s - loss: 1.2514 - accuracy: 0.44 - ETA: 0s - loss: 1.2603 - accuracy: 0.44 - ETA: 0s - loss: 1.2616 - accuracy: 0.44 - ETA: 0s - loss: 1.2758 - accuracy: 0.43 - 2s 58ms/step - loss: 1.2758 - accuracy: 0.4303 - val_loss: 1.2192 - val_accuracy: 0.4345\n",
      "Epoch 301/1000\n",
      "26/26 [==============================] - ETA: 0s - loss: 1.1504 - accuracy: 0.56 - ETA: 0s - loss: 1.3787 - accuracy: 0.41 - ETA: 0s - loss: 1.3318 - accuracy: 0.43 - ETA: 0s - loss: 1.3026 - accuracy: 0.44 - ETA: 0s - loss: 1.2921 - accuracy: 0.44 - ETA: 0s - loss: 1.2892 - accuracy: 0.42 - 1s 51ms/step - loss: 1.2892 - accuracy: 0.4279 - val_loss: 1.2182 - val_accuracy: 0.4345\n",
      "Epoch 302/1000\n",
      "26/26 [==============================] - ETA: 0s - loss: 1.2253 - accuracy: 0.43 - ETA: 0s - loss: 1.3974 - accuracy: 0.36 - ETA: 0s - loss: 1.3269 - accuracy: 0.39 - ETA: 0s - loss: 1.3299 - accuracy: 0.38 - ETA: 0s - loss: 1.3349 - accuracy: 0.38 - ETA: 0s - loss: 1.3050 - accuracy: 0.40 - 1s 50ms/step - loss: 1.3050 - accuracy: 0.4038 - val_loss: 1.2192 - val_accuracy: 0.4345\n",
      "Epoch 303/1000\n",
      "26/26 [==============================] - ETA: 0s - loss: 1.3291 - accuracy: 0.40 - ETA: 0s - loss: 1.4213 - accuracy: 0.38 - ETA: 0s - loss: 1.3621 - accuracy: 0.40 - ETA: 0s - loss: 1.3326 - accuracy: 0.40 - ETA: 0s - loss: 1.3301 - accuracy: 0.41 - ETA: 0s - loss: 1.3360 - accuracy: 0.40 - 2s 59ms/step - loss: 1.3225 - accuracy: 0.4147 - val_loss: 1.2198 - val_accuracy: 0.4286\n",
      "Epoch 304/1000\n",
      "26/26 [==============================] - ETA: 0s - loss: 1.2817 - accuracy: 0.37 - ETA: 0s - loss: 1.3441 - accuracy: 0.39 - ETA: 0s - loss: 1.3065 - accuracy: 0.41 - ETA: 0s - loss: 1.2806 - accuracy: 0.41 - ETA: 0s - loss: 1.2763 - accuracy: 0.41 - ETA: 0s - loss: 1.2685 - accuracy: 0.41 - 1s 38ms/step - loss: 1.2685 - accuracy: 0.4171 - val_loss: 1.2189 - val_accuracy: 0.4405\n",
      "Epoch 305/1000\n",
      "26/26 [==============================] - ETA: 0s - loss: 1.4677 - accuracy: 0.25 - ETA: 0s - loss: 1.3977 - accuracy: 0.33 - ETA: 0s - loss: 1.3819 - accuracy: 0.35 - ETA: 0s - loss: 1.3515 - accuracy: 0.37 - ETA: 0s - loss: 1.3323 - accuracy: 0.38 - ETA: 0s - loss: 1.2964 - accuracy: 0.41 - 1s 37ms/step - loss: 1.2964 - accuracy: 0.4111 - val_loss: 1.2187 - val_accuracy: 0.4464\n",
      "Epoch 306/1000\n",
      "26/26 [==============================] - ETA: 0s - loss: 1.1507 - accuracy: 0.62 - ETA: 0s - loss: 1.3629 - accuracy: 0.38 - ETA: 0s - loss: 1.2992 - accuracy: 0.41 - ETA: 0s - loss: 1.2733 - accuracy: 0.41 - ETA: 0s - loss: 1.2806 - accuracy: 0.41 - 1s 47ms/step - loss: 1.2656 - accuracy: 0.4159 - val_loss: 1.2180 - val_accuracy: 0.4405\n",
      "Epoch 307/1000\n",
      "26/26 [==============================] - ETA: 0s - loss: 1.2578 - accuracy: 0.43 - ETA: 0s - loss: 1.3823 - accuracy: 0.36 - ETA: 0s - loss: 1.3141 - accuracy: 0.40 - ETA: 0s - loss: 1.2998 - accuracy: 0.41 - ETA: 0s - loss: 1.3027 - accuracy: 0.41 - ETA: 0s - loss: 1.2900 - accuracy: 0.42 - 1s 39ms/step - loss: 1.2900 - accuracy: 0.4243 - val_loss: 1.2178 - val_accuracy: 0.4286\n",
      "Epoch 308/1000\n",
      "26/26 [==============================] - ETA: 0s - loss: 1.4411 - accuracy: 0.37 - ETA: 0s - loss: 1.4049 - accuracy: 0.37 - ETA: 0s - loss: 1.3211 - accuracy: 0.42 - ETA: 0s - loss: 1.2891 - accuracy: 0.41 - ETA: 0s - loss: 1.2750 - accuracy: 0.41 - 1s 53ms/step - loss: 1.2768 - accuracy: 0.4147 - val_loss: 1.2189 - val_accuracy: 0.4345\n"
     ]
    },
    {
     "name": "stdout",
     "output_type": "stream",
     "text": [
      "Epoch 309/1000\n",
      "26/26 [==============================] - ETA: 0s - loss: 1.1943 - accuracy: 0.43 - ETA: 0s - loss: 1.3542 - accuracy: 0.34 - ETA: 0s - loss: 1.3221 - accuracy: 0.40 - ETA: 0s - loss: 1.2745 - accuracy: 0.41 - ETA: 0s - loss: 1.2707 - accuracy: 0.41 - ETA: 0s - loss: 1.2594 - accuracy: 0.41 - 1s 43ms/step - loss: 1.2594 - accuracy: 0.4195 - val_loss: 1.2172 - val_accuracy: 0.4345\n",
      "Epoch 310/1000\n",
      "26/26 [==============================] - ETA: 0s - loss: 1.2690 - accuracy: 0.37 - ETA: 0s - loss: 1.3550 - accuracy: 0.35 - ETA: 0s - loss: 1.3166 - accuracy: 0.37 - ETA: 0s - loss: 1.2922 - accuracy: 0.37 - ETA: 0s - loss: 1.2972 - accuracy: 0.39 - ETA: 0s - loss: 1.2776 - accuracy: 0.40 - 1s 37ms/step - loss: 1.2776 - accuracy: 0.4062 - val_loss: 1.2169 - val_accuracy: 0.4345\n",
      "Epoch 311/1000\n",
      "26/26 [==============================] - ETA: 0s - loss: 1.2501 - accuracy: 0.50 - ETA: 0s - loss: 1.2950 - accuracy: 0.43 - ETA: 0s - loss: 1.3045 - accuracy: 0.40 - ETA: 0s - loss: 1.2891 - accuracy: 0.40 - ETA: 0s - loss: 1.2664 - accuracy: 0.42 - ETA: 0s - loss: 1.2623 - accuracy: 0.42 - 1s 39ms/step - loss: 1.2623 - accuracy: 0.4279 - val_loss: 1.2161 - val_accuracy: 0.4345\n",
      "Epoch 312/1000\n",
      "26/26 [==============================] - ETA: 0s - loss: 1.3245 - accuracy: 0.34 - ETA: 0s - loss: 1.3880 - accuracy: 0.36 - ETA: 0s - loss: 1.3008 - accuracy: 0.40 - ETA: 0s - loss: 1.2919 - accuracy: 0.40 - ETA: 0s - loss: 1.2966 - accuracy: 0.39 - ETA: 0s - loss: 1.2829 - accuracy: 0.41 - 1s 57ms/step - loss: 1.2829 - accuracy: 0.4111 - val_loss: 1.2153 - val_accuracy: 0.4345\n",
      "Epoch 313/1000\n",
      "26/26 [==============================] - ETA: 0s - loss: 1.1605 - accuracy: 0.53 - ETA: 0s - loss: 1.2399 - accuracy: 0.42 - ETA: 0s - loss: 1.2856 - accuracy: 0.42 - ETA: 0s - loss: 1.2995 - accuracy: 0.41 - ETA: 0s - loss: 1.3064 - accuracy: 0.41 - ETA: 0s - loss: 1.2872 - accuracy: 0.43 - 1s 37ms/step - loss: 1.2872 - accuracy: 0.4303 - val_loss: 1.2151 - val_accuracy: 0.4405\n",
      "Epoch 314/1000\n",
      "26/26 [==============================] - ETA: 0s - loss: 1.4555 - accuracy: 0.28 - ETA: 0s - loss: 1.3727 - accuracy: 0.35 - ETA: 0s - loss: 1.3232 - accuracy: 0.41 - ETA: 0s - loss: 1.2902 - accuracy: 0.43 - ETA: 0s - loss: 1.3038 - accuracy: 0.42 - ETA: 0s - loss: 1.2875 - accuracy: 0.43 - 1s 47ms/step - loss: 1.2875 - accuracy: 0.4303 - val_loss: 1.2157 - val_accuracy: 0.4464\n",
      "Epoch 315/1000\n",
      "26/26 [==============================] - ETA: 0s - loss: 1.2330 - accuracy: 0.37 - ETA: 0s - loss: 1.2712 - accuracy: 0.41 - ETA: 0s - loss: 1.2417 - accuracy: 0.43 - ETA: 0s - loss: 1.2354 - accuracy: 0.44 - ETA: 0s - loss: 1.2301 - accuracy: 0.45 - ETA: 0s - loss: 1.2511 - accuracy: 0.44 - 1s 47ms/step - loss: 1.2511 - accuracy: 0.4411 - val_loss: 1.2147 - val_accuracy: 0.4405\n",
      "Epoch 316/1000\n",
      "26/26 [==============================] - ETA: 0s - loss: 1.3995 - accuracy: 0.28 - ETA: 0s - loss: 1.3404 - accuracy: 0.36 - ETA: 0s - loss: 1.3244 - accuracy: 0.38 - ETA: 0s - loss: 1.3059 - accuracy: 0.40 - ETA: 0s - loss: 1.2995 - accuracy: 0.40 - ETA: 0s - loss: 1.2968 - accuracy: 0.40 - 1s 55ms/step - loss: 1.2968 - accuracy: 0.4075 - val_loss: 1.2145 - val_accuracy: 0.4345\n",
      "Epoch 317/1000\n",
      "26/26 [==============================] - ETA: 0s - loss: 1.1229 - accuracy: 0.46 - ETA: 0s - loss: 1.2786 - accuracy: 0.42 - ETA: 0s - loss: 1.2381 - accuracy: 0.44 - ETA: 0s - loss: 1.2562 - accuracy: 0.43 - ETA: 0s - loss: 1.2399 - accuracy: 0.44 - ETA: 0s - loss: 1.2376 - accuracy: 0.45 - 1s 42ms/step - loss: 1.2376 - accuracy: 0.4555 - val_loss: 1.2150 - val_accuracy: 0.4345\n",
      "Epoch 318/1000\n",
      "26/26 [==============================] - ETA: 0s - loss: 1.2482 - accuracy: 0.43 - ETA: 0s - loss: 1.3581 - accuracy: 0.36 - ETA: 0s - loss: 1.2959 - accuracy: 0.42 - ETA: 0s - loss: 1.2672 - accuracy: 0.41 - ETA: 0s - loss: 1.2884 - accuracy: 0.40 - ETA: 0s - loss: 1.2863 - accuracy: 0.40 - 1s 55ms/step - loss: 1.2863 - accuracy: 0.4075 - val_loss: 1.2134 - val_accuracy: 0.4345\n",
      "Epoch 319/1000\n",
      "26/26 [==============================] - ETA: 0s - loss: 1.2759 - accuracy: 0.46 - ETA: 0s - loss: 1.3555 - accuracy: 0.40 - ETA: 0s - loss: 1.3035 - accuracy: 0.45 - ETA: 0s - loss: 1.3157 - accuracy: 0.43 - ETA: 0s - loss: 1.3073 - accuracy: 0.45 - ETA: 0s - loss: 1.3098 - accuracy: 0.43 - 1s 49ms/step - loss: 1.3098 - accuracy: 0.4399 - val_loss: 1.2118 - val_accuracy: 0.4345\n",
      "Epoch 320/1000\n",
      "26/26 [==============================] - ETA: 0s - loss: 1.2246 - accuracy: 0.43 - ETA: 0s - loss: 1.2251 - accuracy: 0.43 - ETA: 0s - loss: 1.2216 - accuracy: 0.44 - ETA: 0s - loss: 1.2228 - accuracy: 0.45 - ETA: 0s - loss: 1.2326 - accuracy: 0.44 - ETA: 0s - loss: 1.2297 - accuracy: 0.45 - 1s 56ms/step - loss: 1.2297 - accuracy: 0.4567 - val_loss: 1.2120 - val_accuracy: 0.4405\n",
      "Epoch 321/1000\n",
      "26/26 [==============================] - ETA: 0s - loss: 1.3891 - accuracy: 0.43 - ETA: 0s - loss: 1.3852 - accuracy: 0.37 - ETA: 0s - loss: 1.3528 - accuracy: 0.40 - ETA: 0s - loss: 1.3101 - accuracy: 0.41 - ETA: 0s - loss: 1.2982 - accuracy: 0.41 - ETA: 0s - loss: 1.2813 - accuracy: 0.43 - 1s 42ms/step - loss: 1.2813 - accuracy: 0.4303 - val_loss: 1.2114 - val_accuracy: 0.4345\n",
      "Epoch 322/1000\n",
      "26/26 [==============================] - ETA: 0s - loss: 1.1326 - accuracy: 0.43 - ETA: 0s - loss: 1.2342 - accuracy: 0.44 - ETA: 0s - loss: 1.2422 - accuracy: 0.44 - ETA: 0s - loss: 1.2168 - accuracy: 0.45 - ETA: 0s - loss: 1.2411 - accuracy: 0.44 - ETA: 0s - loss: 1.2634 - accuracy: 0.44 - 1s 51ms/step - loss: 1.2634 - accuracy: 0.4435 - val_loss: 1.2104 - val_accuracy: 0.4405\n",
      "Epoch 323/1000\n",
      "26/26 [==============================] - ETA: 0s - loss: 1.1809 - accuracy: 0.46 - ETA: 0s - loss: 1.2831 - accuracy: 0.42 - ETA: 0s - loss: 1.2349 - accuracy: 0.45 - ETA: 0s - loss: 1.2145 - accuracy: 0.45 - ETA: 0s - loss: 1.2081 - accuracy: 0.47 - ETA: 0s - loss: 1.2142 - accuracy: 0.45 - 1s 48ms/step - loss: 1.2142 - accuracy: 0.4543 - val_loss: 1.2118 - val_accuracy: 0.4405\n",
      "Epoch 324/1000\n",
      "26/26 [==============================] - ETA: 0s - loss: 1.0526 - accuracy: 0.46 - ETA: 0s - loss: 1.2501 - accuracy: 0.40 - ETA: 0s - loss: 1.1972 - accuracy: 0.42 - ETA: 0s - loss: 1.2251 - accuracy: 0.42 - ETA: 0s - loss: 1.2468 - accuracy: 0.41 - 1s 51ms/step - loss: 1.2427 - accuracy: 0.4255 - val_loss: 1.2109 - val_accuracy: 0.4464\n",
      "Epoch 325/1000\n",
      "26/26 [==============================] - ETA: 0s - loss: 1.2209 - accuracy: 0.43 - ETA: 0s - loss: 1.3329 - accuracy: 0.39 - ETA: 0s - loss: 1.2734 - accuracy: 0.40 - ETA: 0s - loss: 1.2523 - accuracy: 0.41 - ETA: 0s - loss: 1.2597 - accuracy: 0.42 - ETA: 0s - loss: 1.2526 - accuracy: 0.42 - 1s 45ms/step - loss: 1.2526 - accuracy: 0.4279 - val_loss: 1.2120 - val_accuracy: 0.4345\n",
      "Epoch 326/1000\n",
      "26/26 [==============================] - ETA: 0s - loss: 1.1766 - accuracy: 0.50 - ETA: 0s - loss: 1.3073 - accuracy: 0.40 - ETA: 0s - loss: 1.2597 - accuracy: 0.42 - ETA: 0s - loss: 1.2843 - accuracy: 0.42 - ETA: 0s - loss: 1.2776 - accuracy: 0.42 - ETA: 0s - loss: 1.2805 - accuracy: 0.42 - 1s 39ms/step - loss: 1.2805 - accuracy: 0.4255 - val_loss: 1.2115 - val_accuracy: 0.4345\n",
      "Epoch 327/1000\n",
      "26/26 [==============================] - ETA: 0s - loss: 1.2687 - accuracy: 0.43 - ETA: 0s - loss: 1.3629 - accuracy: 0.39 - ETA: 0s - loss: 1.2984 - accuracy: 0.43 - ETA: 0s - loss: 1.2882 - accuracy: 0.42 - ETA: 0s - loss: 1.2738 - accuracy: 0.42 - ETA: 0s - loss: 1.2640 - accuracy: 0.42 - 1s 38ms/step - loss: 1.2640 - accuracy: 0.4267 - val_loss: 1.2122 - val_accuracy: 0.4345\n",
      "Epoch 328/1000\n",
      "26/26 [==============================] - ETA: 0s - loss: 1.2184 - accuracy: 0.59 - ETA: 0s - loss: 1.3029 - accuracy: 0.45 - ETA: 0s - loss: 1.2763 - accuracy: 0.46 - ETA: 0s - loss: 1.2894 - accuracy: 0.43 - ETA: 0s - loss: 1.2801 - accuracy: 0.42 - ETA: 0s - loss: 1.2731 - accuracy: 0.42 - 1s 41ms/step - loss: 1.2731 - accuracy: 0.4291 - val_loss: 1.2122 - val_accuracy: 0.4345\n",
      "Epoch 329/1000\n"
     ]
    },
    {
     "name": "stdout",
     "output_type": "stream",
     "text": [
      "26/26 [==============================] - ETA: 0s - loss: 1.2611 - accuracy: 0.37 - ETA: 0s - loss: 1.3116 - accuracy: 0.38 - ETA: 0s - loss: 1.2652 - accuracy: 0.41 - ETA: 0s - loss: 1.2707 - accuracy: 0.40 - ETA: 0s - loss: 1.2585 - accuracy: 0.41 - ETA: 0s - loss: 1.2666 - accuracy: 0.41 - ETA: 0s - loss: 1.2536 - accuracy: 0.43 - 2s 59ms/step - loss: 1.2461 - accuracy: 0.4351 - val_loss: 1.2124 - val_accuracy: 0.4405\n",
      "Epoch 330/1000\n",
      "26/26 [==============================] - ETA: 0s - loss: 1.1629 - accuracy: 0.43 - ETA: 0s - loss: 1.3057 - accuracy: 0.37 - ETA: 0s - loss: 1.2426 - accuracy: 0.43 - ETA: 0s - loss: 1.2511 - accuracy: 0.45 - ETA: 0s - loss: 1.2406 - accuracy: 0.45 - ETA: 0s - loss: 1.2490 - accuracy: 0.44 - 2s 62ms/step - loss: 1.2490 - accuracy: 0.4459 - val_loss: 1.2125 - val_accuracy: 0.4405\n",
      "Epoch 331/1000\n",
      "26/26 [==============================] - ETA: 0s - loss: 1.1907 - accuracy: 0.37 - ETA: 0s - loss: 1.3076 - accuracy: 0.39 - ETA: 0s - loss: 1.2818 - accuracy: 0.38 - ETA: 0s - loss: 1.2761 - accuracy: 0.41 - ETA: 0s - loss: 1.2664 - accuracy: 0.43 - ETA: 0s - loss: 1.2667 - accuracy: 0.43 - 1s 50ms/step - loss: 1.2667 - accuracy: 0.4327 - val_loss: 1.2105 - val_accuracy: 0.4286\n",
      "Epoch 332/1000\n",
      "26/26 [==============================] - ETA: 0s - loss: 1.2320 - accuracy: 0.50 - ETA: 0s - loss: 1.2763 - accuracy: 0.43 - ETA: 0s - loss: 1.2497 - accuracy: 0.42 - ETA: 0s - loss: 1.2584 - accuracy: 0.41 - ETA: 0s - loss: 1.2613 - accuracy: 0.41 - ETA: 0s - loss: 1.2715 - accuracy: 0.42 - 1s 52ms/step - loss: 1.2715 - accuracy: 0.4243 - val_loss: 1.2107 - val_accuracy: 0.4464\n"
     ]
    },
    {
     "data": {
      "text/html": [
       "<span style=\"color:#4527A0\"><h1 style=\"font-size:18px\">Trial complete</h1></span>"
      ],
      "text/plain": [
       "<IPython.core.display.HTML object>"
      ]
     },
     "metadata": {},
     "output_type": "display_data"
    },
    {
     "data": {
      "text/html": [
       "<span style=\"color:#4527A0\"><h1 style=\"font-size:18px\">Trial summary</h1></span>"
      ],
      "text/plain": [
       "<IPython.core.display.HTML object>"
      ]
     },
     "metadata": {},
     "output_type": "display_data"
    },
    {
     "data": {
      "text/html": [
       "<span style=\"color:cyan\"> |-Trial ID: a65fb8a243f6dad0e96b44de77c618a0</span>"
      ],
      "text/plain": [
       "<IPython.core.display.HTML object>"
      ]
     },
     "metadata": {},
     "output_type": "display_data"
    },
    {
     "data": {
      "text/html": [
       "<span style=\"color:cyan\"> |-Score: 0.4464285671710968</span>"
      ],
      "text/plain": [
       "<IPython.core.display.HTML object>"
      ]
     },
     "metadata": {},
     "output_type": "display_data"
    },
    {
     "data": {
      "text/html": [
       "<span style=\"color:cyan\"> |-Best step: 244</span>"
      ],
      "text/plain": [
       "<IPython.core.display.HTML object>"
      ]
     },
     "metadata": {},
     "output_type": "display_data"
    },
    {
     "data": {
      "text/html": [
       "<span style=\"color:#7E57C2\"><h2 style=\"font-size:16px\">Hyperparameters:</h2></span>"
      ],
      "text/plain": [
       "<IPython.core.display.HTML object>"
      ]
     },
     "metadata": {},
     "output_type": "display_data"
    },
    {
     "data": {
      "text/html": [
       "<span style=\"color:cyan\"> |-classification_head_1/dropout: 0</span>"
      ],
      "text/plain": [
       "<IPython.core.display.HTML object>"
      ]
     },
     "metadata": {},
     "output_type": "display_data"
    },
    {
     "data": {
      "text/html": [
       "<span style=\"color:blue\"> |-learning_rate: 0.01</span>"
      ],
      "text/plain": [
       "<IPython.core.display.HTML object>"
      ]
     },
     "metadata": {},
     "output_type": "display_data"
    },
    {
     "data": {
      "text/html": [
       "<span style=\"color:cyan\"> |-optimizer: adadelta</span>"
      ],
      "text/plain": [
       "<IPython.core.display.HTML object>"
      ]
     },
     "metadata": {},
     "output_type": "display_data"
    },
    {
     "data": {
      "text/html": [
       "<span style=\"color:blue\"> |-structured_data_block_1/dense_block_1/dropout: 0.25</span>"
      ],
      "text/plain": [
       "<IPython.core.display.HTML object>"
      ]
     },
     "metadata": {},
     "output_type": "display_data"
    },
    {
     "data": {
      "text/html": [
       "<span style=\"color:cyan\"> |-structured_data_block_1/dense_block_1/num_layers: 3</span>"
      ],
      "text/plain": [
       "<IPython.core.display.HTML object>"
      ]
     },
     "metadata": {},
     "output_type": "display_data"
    },
    {
     "data": {
      "text/html": [
       "<span style=\"color:blue\"> |-structured_data_block_1/dense_block_1/units_0: 64</span>"
      ],
      "text/plain": [
       "<IPython.core.display.HTML object>"
      ]
     },
     "metadata": {},
     "output_type": "display_data"
    },
    {
     "data": {
      "text/html": [
       "<span style=\"color:cyan\"> |-structured_data_block_1/dense_block_1/units_1: 16</span>"
      ],
      "text/plain": [
       "<IPython.core.display.HTML object>"
      ]
     },
     "metadata": {},
     "output_type": "display_data"
    },
    {
     "data": {
      "text/html": [
       "<span style=\"color:blue\"> |-structured_data_block_1/dense_block_1/units_2: 64</span>"
      ],
      "text/plain": [
       "<IPython.core.display.HTML object>"
      ]
     },
     "metadata": {},
     "output_type": "display_data"
    },
    {
     "data": {
      "text/html": [
       "<span style=\"color:cyan\"> |-structured_data_block_1/dense_block_1/use_batchnorm: True</span>"
      ],
      "text/plain": [
       "<IPython.core.display.HTML object>"
      ]
     },
     "metadata": {},
     "output_type": "display_data"
    },
    {
     "data": {
      "text/html": [
       "<span style=\"color:#4527A0\"><h1 style=\"font-size:18px\">Starting new trial</h1></span>"
      ],
      "text/plain": [
       "<IPython.core.display.HTML object>"
      ]
     },
     "metadata": {},
     "output_type": "display_data"
    },
    {
     "name": "stdout",
     "output_type": "stream",
     "text": [
      "Epoch 1/1000\n",
      "26/26 [==============================] - ETA: 0s - loss: 1.4951 - accuracy: 0.43 - ETA: 0s - loss: 1.7319 - accuracy: 0.33 - ETA: 0s - loss: 1.7238 - accuracy: 0.29 - ETA: 0s - loss: 1.6634 - accuracy: 0.31 - ETA: 0s - loss: 1.7041 - accuracy: 0.30 - ETA: 0s - loss: 1.6750 - accuracy: 0.32 - ETA: 0s - loss: 1.6676 - accuracy: 0.32 - ETA: 0s - loss: 1.6613 - accuracy: 0.32 - ETA: 0s - loss: 1.6551 - accuracy: 0.33 - 6s 246ms/step - loss: 1.6516 - accuracy: 0.3317 - val_loss: 2.5441 - val_accuracy: 0.2321\n",
      "Epoch 2/1000\n",
      "26/26 [==============================] - ETA: 0s - loss: 1.2403 - accuracy: 0.43 - ETA: 0s - loss: 1.4033 - accuracy: 0.42 - ETA: 0s - loss: 1.4102 - accuracy: 0.43 - ETA: 0s - loss: 1.3790 - accuracy: 0.44 - ETA: 0s - loss: 1.3960 - accuracy: 0.42 - ETA: 0s - loss: 1.3752 - accuracy: 0.43 - ETA: 0s - loss: 1.3802 - accuracy: 0.43 - ETA: 0s - loss: 1.3946 - accuracy: 0.43 - ETA: 0s - loss: 1.3964 - accuracy: 0.43 - 1s 57ms/step - loss: 1.3806 - accuracy: 0.4327 - val_loss: 1.4545 - val_accuracy: 0.3333\n",
      "Epoch 3/1000\n",
      "26/26 [==============================] - ETA: 0s - loss: 1.4283 - accuracy: 0.34 - ETA: 0s - loss: 1.4460 - accuracy: 0.38 - ETA: 0s - loss: 1.4223 - accuracy: 0.40 - ETA: 0s - loss: 1.4090 - accuracy: 0.40 - ETA: 0s - loss: 1.3770 - accuracy: 0.42 - ETA: 0s - loss: 1.3456 - accuracy: 0.44 - ETA: 0s - loss: 1.3133 - accuracy: 0.45 - ETA: 0s - loss: 1.3123 - accuracy: 0.45 - ETA: 0s - loss: 1.3028 - accuracy: 0.45 - 1s 57ms/step - loss: 1.2918 - accuracy: 0.4555 - val_loss: 1.2697 - val_accuracy: 0.3988\n",
      "Epoch 4/1000\n",
      "26/26 [==============================] - ETA: 0s - loss: 1.2000 - accuracy: 0.53 - ETA: 0s - loss: 1.3265 - accuracy: 0.46 - ETA: 0s - loss: 1.3326 - accuracy: 0.46 - ETA: 0s - loss: 1.3013 - accuracy: 0.45 - ETA: 0s - loss: 1.2959 - accuracy: 0.45 - ETA: 0s - loss: 1.3011 - accuracy: 0.45 - ETA: 0s - loss: 1.2792 - accuracy: 0.44 - ETA: 0s - loss: 1.2863 - accuracy: 0.44 - ETA: 0s - loss: 1.2807 - accuracy: 0.45 - 2s 59ms/step - loss: 1.2786 - accuracy: 0.4495 - val_loss: 1.1627 - val_accuracy: 0.4226\n",
      "Epoch 5/1000\n",
      "26/26 [==============================] - ETA: 0s - loss: 1.1530 - accuracy: 0.56 - ETA: 0s - loss: 1.2762 - accuracy: 0.49 - ETA: 0s - loss: 1.2557 - accuracy: 0.47 - ETA: 0s - loss: 1.2250 - accuracy: 0.48 - ETA: 0s - loss: 1.2400 - accuracy: 0.49 - ETA: 0s - loss: 1.2482 - accuracy: 0.49 - ETA: 0s - loss: 1.2349 - accuracy: 0.49 - ETA: 0s - loss: 1.2323 - accuracy: 0.48 - ETA: 0s - loss: 1.2181 - accuracy: 0.48 - 2s 69ms/step - loss: 1.2100 - accuracy: 0.4904 - val_loss: 1.1419 - val_accuracy: 0.4762\n",
      "Epoch 6/1000\n",
      "26/26 [==============================] - ETA: 0s - loss: 1.1522 - accuracy: 0.53 - ETA: 0s - loss: 1.2703 - accuracy: 0.49 - ETA: 0s - loss: 1.2381 - accuracy: 0.51 - ETA: 0s - loss: 1.1922 - accuracy: 0.51 - ETA: 0s - loss: 1.1828 - accuracy: 0.51 - ETA: 0s - loss: 1.1782 - accuracy: 0.50 - ETA: 0s - loss: 1.1805 - accuracy: 0.49 - ETA: 0s - loss: 1.1961 - accuracy: 0.48 - ETA: 0s - loss: 1.1949 - accuracy: 0.48 - 2s 64ms/step - loss: 1.1863 - accuracy: 0.4928 - val_loss: 1.0955 - val_accuracy: 0.5298\n",
      "Epoch 7/1000\n",
      "26/26 [==============================] - ETA: 0s - loss: 1.0178 - accuracy: 0.50 - ETA: 0s - loss: 1.2150 - accuracy: 0.48 - ETA: 0s - loss: 1.2344 - accuracy: 0.48 - ETA: 0s - loss: 1.1590 - accuracy: 0.50 - ETA: 0s - loss: 1.1472 - accuracy: 0.51 - ETA: 0s - loss: 1.1404 - accuracy: 0.51 - ETA: 0s - loss: 1.1274 - accuracy: 0.51 - ETA: 0s - loss: 1.1158 - accuracy: 0.52 - ETA: 0s - loss: 1.1133 - accuracy: 0.52 - 2s 71ms/step - loss: 1.1029 - accuracy: 0.5276 - val_loss: 1.1306 - val_accuracy: 0.5595\n",
      "Epoch 8/1000\n",
      "26/26 [==============================] - ETA: 0s - loss: 0.9823 - accuracy: 0.56 - ETA: 0s - loss: 1.1966 - accuracy: 0.47 - ETA: 0s - loss: 1.1767 - accuracy: 0.49 - ETA: 0s - loss: 1.1019 - accuracy: 0.53 - ETA: 0s - loss: 1.0914 - accuracy: 0.53 - ETA: 0s - loss: 1.0775 - accuracy: 0.52 - ETA: 0s - loss: 1.0781 - accuracy: 0.51 - ETA: 0s - loss: 1.0975 - accuracy: 0.50 - 1s 55ms/step - loss: 1.0971 - accuracy: 0.5000 - val_loss: 1.0884 - val_accuracy: 0.5655\n",
      "Epoch 9/1000\n",
      "26/26 [==============================] - ETA: 0s - loss: 1.0779 - accuracy: 0.53 - ETA: 0s - loss: 1.1432 - accuracy: 0.53 - ETA: 0s - loss: 1.0737 - accuracy: 0.55 - ETA: 0s - loss: 1.0804 - accuracy: 0.54 - ETA: 0s - loss: 1.0771 - accuracy: 0.54 - ETA: 0s - loss: 1.0765 - accuracy: 0.55 - ETA: 0s - loss: 1.0754 - accuracy: 0.54 - ETA: 0s - loss: 1.0941 - accuracy: 0.53 - ETA: 0s - loss: 1.0839 - accuracy: 0.53 - 1s 52ms/step - loss: 1.0686 - accuracy: 0.5469 - val_loss: 1.0725 - val_accuracy: 0.5774\n",
      "Epoch 10/1000\n",
      "26/26 [==============================] - ETA: 0s - loss: 0.9624 - accuracy: 0.50 - ETA: 0s - loss: 1.1184 - accuracy: 0.48 - ETA: 0s - loss: 1.0508 - accuracy: 0.53 - ETA: 0s - loss: 1.0298 - accuracy: 0.54 - ETA: 0s - loss: 1.0256 - accuracy: 0.56 - ETA: 0s - loss: 1.0439 - accuracy: 0.54 - ETA: 0s - loss: 1.0304 - accuracy: 0.56 - ETA: 0s - loss: 1.0268 - accuracy: 0.55 - ETA: 0s - loss: 1.0248 - accuracy: 0.55 - ETA: 0s - loss: 1.0166 - accuracy: 0.55 - 1s 54ms/step - loss: 1.0166 - accuracy: 0.5505 - val_loss: 1.0851 - val_accuracy: 0.5357\n",
      "Epoch 11/1000\n",
      "26/26 [==============================] - ETA: 0s - loss: 0.9278 - accuracy: 0.62 - ETA: 0s - loss: 1.1050 - accuracy: 0.51 - ETA: 0s - loss: 1.0354 - accuracy: 0.54 - ETA: 0s - loss: 0.9697 - accuracy: 0.59 - ETA: 0s - loss: 0.9931 - accuracy: 0.56 - ETA: 0s - loss: 0.9971 - accuracy: 0.56 - ETA: 0s - loss: 1.0089 - accuracy: 0.56 - ETA: 0s - loss: 0.9997 - accuracy: 0.56 - ETA: 0s - loss: 0.9965 - accuracy: 0.57 - 2s 69ms/step - loss: 0.9875 - accuracy: 0.5781 - val_loss: 1.0804 - val_accuracy: 0.5238\n",
      "Epoch 12/1000\n",
      "26/26 [==============================] - ETA: 0s - loss: 1.0045 - accuracy: 0.56 - ETA: 0s - loss: 1.1471 - accuracy: 0.49 - ETA: 0s - loss: 1.1084 - accuracy: 0.50 - ETA: 0s - loss: 1.0478 - accuracy: 0.54 - ETA: 0s - loss: 1.0437 - accuracy: 0.54 - ETA: 0s - loss: 1.0399 - accuracy: 0.54 - ETA: 0s - loss: 1.0194 - accuracy: 0.54 - ETA: 0s - loss: 1.0120 - accuracy: 0.55 - ETA: 0s - loss: 1.0127 - accuracy: 0.56 - 1s 54ms/step - loss: 0.9962 - accuracy: 0.5721 - val_loss: 1.0923 - val_accuracy: 0.5238\n",
      "Epoch 13/1000\n",
      "26/26 [==============================] - ETA: 0s - loss: 0.8718 - accuracy: 0.65 - ETA: 0s - loss: 1.0519 - accuracy: 0.54 - ETA: 0s - loss: 1.0288 - accuracy: 0.54 - ETA: 0s - loss: 0.9970 - accuracy: 0.58 - ETA: 0s - loss: 0.9660 - accuracy: 0.58 - ETA: 0s - loss: 0.9718 - accuracy: 0.58 - ETA: 0s - loss: 0.9692 - accuracy: 0.57 - ETA: 0s - loss: 0.9751 - accuracy: 0.57 - ETA: 0s - loss: 0.9812 - accuracy: 0.57 - 2s 64ms/step - loss: 0.9703 - accuracy: 0.5865 - val_loss: 1.0691 - val_accuracy: 0.5238\n",
      "Epoch 14/1000\n",
      "26/26 [==============================] - ETA: 0s - loss: 1.0689 - accuracy: 0.53 - ETA: 0s - loss: 1.0140 - accuracy: 0.55 - ETA: 0s - loss: 1.0123 - accuracy: 0.54 - ETA: 0s - loss: 0.9780 - accuracy: 0.56 - ETA: 0s - loss: 0.9716 - accuracy: 0.58 - ETA: 0s - loss: 0.9636 - accuracy: 0.57 - ETA: 0s - loss: 0.9557 - accuracy: 0.58 - ETA: 0s - loss: 0.9613 - accuracy: 0.58 - ETA: 0s - loss: 0.9618 - accuracy: 0.57 - 2s 60ms/step - loss: 0.9489 - accuracy: 0.5877 - val_loss: 1.0901 - val_accuracy: 0.5298\n",
      "Epoch 15/1000\n",
      "26/26 [==============================] - ETA: 0s - loss: 0.9381 - accuracy: 0.62 - ETA: 0s - loss: 1.0376 - accuracy: 0.53 - ETA: 0s - loss: 0.9654 - accuracy: 0.57 - ETA: 0s - loss: 0.9310 - accuracy: 0.59 - ETA: 0s - loss: 0.9350 - accuracy: 0.59 - ETA: 0s - loss: 0.9536 - accuracy: 0.57 - ETA: 0s - loss: 0.9533 - accuracy: 0.58 - ETA: 0s - loss: 0.9594 - accuracy: 0.57 - ETA: 0s - loss: 0.9491 - accuracy: 0.58 - 2s 60ms/step - loss: 0.9388 - accuracy: 0.5962 - val_loss: 1.0456 - val_accuracy: 0.5833\n",
      "Epoch 16/1000\n"
     ]
    },
    {
     "name": "stdout",
     "output_type": "stream",
     "text": [
      "26/26 [==============================] - ETA: 0s - loss: 0.8231 - accuracy: 0.68 - ETA: 0s - loss: 1.0243 - accuracy: 0.51 - ETA: 0s - loss: 0.9966 - accuracy: 0.54 - ETA: 0s - loss: 0.9176 - accuracy: 0.59 - ETA: 0s - loss: 0.9295 - accuracy: 0.58 - ETA: 0s - loss: 0.9415 - accuracy: 0.58 - ETA: 0s - loss: 0.9415 - accuracy: 0.58 - ETA: 0s - loss: 0.9324 - accuracy: 0.58 - ETA: 0s - loss: 0.9148 - accuracy: 0.60 - 2s 76ms/step - loss: 0.9028 - accuracy: 0.6130 - val_loss: 1.0668 - val_accuracy: 0.5417\n",
      "Epoch 17/1000\n",
      "26/26 [==============================] - ETA: 0s - loss: 0.7899 - accuracy: 0.68 - ETA: 0s - loss: 0.9951 - accuracy: 0.61 - ETA: 0s - loss: 0.9493 - accuracy: 0.65 - ETA: 0s - loss: 0.8949 - accuracy: 0.66 - ETA: 0s - loss: 0.8948 - accuracy: 0.65 - ETA: 0s - loss: 0.9016 - accuracy: 0.64 - ETA: 0s - loss: 0.8973 - accuracy: 0.64 - ETA: 0s - loss: 0.9124 - accuracy: 0.62 - ETA: 0s - loss: 0.9056 - accuracy: 0.62 - 2s 64ms/step - loss: 0.8986 - accuracy: 0.6322 - val_loss: 1.0949 - val_accuracy: 0.5238\n",
      "Epoch 18/1000\n",
      "26/26 [==============================] - ETA: 0s - loss: 0.9457 - accuracy: 0.59 - ETA: 0s - loss: 0.9478 - accuracy: 0.56 - ETA: 0s - loss: 0.9132 - accuracy: 0.60 - ETA: 0s - loss: 0.8528 - accuracy: 0.63 - ETA: 0s - loss: 0.8556 - accuracy: 0.63 - ETA: 0s - loss: 0.8581 - accuracy: 0.62 - ETA: 0s - loss: 0.8582 - accuracy: 0.63 - ETA: 0s - loss: 0.8642 - accuracy: 0.63 - ETA: 0s - loss: 0.8600 - accuracy: 0.63 - 2s 60ms/step - loss: 0.8483 - accuracy: 0.6370 - val_loss: 1.0837 - val_accuracy: 0.5417\n",
      "Epoch 19/1000\n",
      "26/26 [==============================] - ETA: 0s - loss: 0.9203 - accuracy: 0.62 - ETA: 0s - loss: 0.9502 - accuracy: 0.64 - ETA: 0s - loss: 0.8870 - accuracy: 0.66 - ETA: 0s - loss: 0.8521 - accuracy: 0.67 - ETA: 0s - loss: 0.8259 - accuracy: 0.67 - ETA: 0s - loss: 0.8356 - accuracy: 0.65 - ETA: 0s - loss: 0.8397 - accuracy: 0.65 - ETA: 0s - loss: 0.8517 - accuracy: 0.64 - ETA: 0s - loss: 0.8494 - accuracy: 0.64 - 2s 64ms/step - loss: 0.8378 - accuracy: 0.6562 - val_loss: 1.1043 - val_accuracy: 0.5298\n",
      "Epoch 20/1000\n",
      "26/26 [==============================] - ETA: 0s - loss: 0.9814 - accuracy: 0.62 - ETA: 0s - loss: 0.9338 - accuracy: 0.60 - ETA: 0s - loss: 0.8610 - accuracy: 0.64 - ETA: 0s - loss: 0.8209 - accuracy: 0.65 - ETA: 0s - loss: 0.8292 - accuracy: 0.65 - ETA: 0s - loss: 0.8365 - accuracy: 0.66 - ETA: 0s - loss: 0.8254 - accuracy: 0.66 - ETA: 0s - loss: 0.8209 - accuracy: 0.65 - ETA: 0s - loss: 0.8165 - accuracy: 0.66 - 2s 62ms/step - loss: 0.8070 - accuracy: 0.6707 - val_loss: 1.0630 - val_accuracy: 0.5595\n",
      "Epoch 21/1000\n",
      "26/26 [==============================] - ETA: 0s - loss: 0.8347 - accuracy: 0.59 - ETA: 0s - loss: 0.8976 - accuracy: 0.60 - ETA: 0s - loss: 0.8525 - accuracy: 0.64 - ETA: 0s - loss: 0.7995 - accuracy: 0.68 - ETA: 0s - loss: 0.8165 - accuracy: 0.66 - ETA: 0s - loss: 0.8366 - accuracy: 0.64 - ETA: 0s - loss: 0.8240 - accuracy: 0.65 - ETA: 0s - loss: 0.8205 - accuracy: 0.65 - ETA: 0s - loss: 0.8081 - accuracy: 0.66 - 2s 64ms/step - loss: 0.8007 - accuracy: 0.6671 - val_loss: 1.0891 - val_accuracy: 0.5476\n",
      "Epoch 22/1000\n",
      "26/26 [==============================] - ETA: 0s - loss: 0.8520 - accuracy: 0.68 - ETA: 0s - loss: 0.8729 - accuracy: 0.64 - ETA: 0s - loss: 0.8600 - accuracy: 0.65 - ETA: 0s - loss: 0.7962 - accuracy: 0.69 - ETA: 0s - loss: 0.7824 - accuracy: 0.69 - ETA: 0s - loss: 0.7918 - accuracy: 0.69 - ETA: 0s - loss: 0.7769 - accuracy: 0.69 - ETA: 0s - loss: 0.7843 - accuracy: 0.68 - ETA: 0s - loss: 0.7765 - accuracy: 0.69 - 2s 71ms/step - loss: 0.7662 - accuracy: 0.6995 - val_loss: 1.0760 - val_accuracy: 0.5476\n",
      "Epoch 23/1000\n",
      "26/26 [==============================] - ETA: 0s - loss: 0.7836 - accuracy: 0.71 - ETA: 0s - loss: 0.8213 - accuracy: 0.67 - ETA: 0s - loss: 0.8437 - accuracy: 0.63 - ETA: 0s - loss: 0.7771 - accuracy: 0.67 - ETA: 0s - loss: 0.8120 - accuracy: 0.65 - ETA: 0s - loss: 0.8098 - accuracy: 0.65 - ETA: 0s - loss: 0.8015 - accuracy: 0.66 - ETA: 0s - loss: 0.8166 - accuracy: 0.66 - ETA: 0s - loss: 0.8103 - accuracy: 0.66 - 1s 57ms/step - loss: 0.8051 - accuracy: 0.6695 - val_loss: 1.0612 - val_accuracy: 0.5893\n",
      "Epoch 24/1000\n",
      "26/26 [==============================] - ETA: 0s - loss: 0.7925 - accuracy: 0.56 - ETA: 0s - loss: 0.8552 - accuracy: 0.67 - ETA: 0s - loss: 0.8417 - accuracy: 0.67 - ETA: 0s - loss: 0.7574 - accuracy: 0.72 - ETA: 0s - loss: 0.7658 - accuracy: 0.70 - ETA: 0s - loss: 0.7725 - accuracy: 0.70 - ETA: 0s - loss: 0.7676 - accuracy: 0.70 - ETA: 0s - loss: 0.7674 - accuracy: 0.70 - ETA: 0s - loss: 0.7680 - accuracy: 0.71 - 2s 63ms/step - loss: 0.7624 - accuracy: 0.7127 - val_loss: 1.0686 - val_accuracy: 0.5774\n",
      "Epoch 25/1000\n",
      "26/26 [==============================] - ETA: 0s - loss: 0.8826 - accuracy: 0.62 - ETA: 0s - loss: 0.8277 - accuracy: 0.67 - ETA: 0s - loss: 0.8122 - accuracy: 0.68 - ETA: 0s - loss: 0.7443 - accuracy: 0.71 - ETA: 0s - loss: 0.7758 - accuracy: 0.69 - ETA: 0s - loss: 0.7777 - accuracy: 0.69 - ETA: 0s - loss: 0.7684 - accuracy: 0.69 - ETA: 0s - loss: 0.7677 - accuracy: 0.69 - ETA: 0s - loss: 0.7610 - accuracy: 0.69 - 2s 60ms/step - loss: 0.7502 - accuracy: 0.7019 - val_loss: 1.0863 - val_accuracy: 0.5893\n"
     ]
    },
    {
     "data": {
      "text/html": [
       "<span style=\"color:#4527A0\"><h1 style=\"font-size:18px\">Trial complete</h1></span>"
      ],
      "text/plain": [
       "<IPython.core.display.HTML object>"
      ]
     },
     "metadata": {},
     "output_type": "display_data"
    },
    {
     "data": {
      "text/html": [
       "<span style=\"color:#4527A0\"><h1 style=\"font-size:18px\">Trial summary</h1></span>"
      ],
      "text/plain": [
       "<IPython.core.display.HTML object>"
      ]
     },
     "metadata": {},
     "output_type": "display_data"
    },
    {
     "data": {
      "text/html": [
       "<span style=\"color:cyan\"> |-Trial ID: 16d42c5d5cd4cffa9f696d0cb29a7657</span>"
      ],
      "text/plain": [
       "<IPython.core.display.HTML object>"
      ]
     },
     "metadata": {},
     "output_type": "display_data"
    },
    {
     "data": {
      "text/html": [
       "<span style=\"color:cyan\"> |-Score: 0.5892857313156128</span>"
      ],
      "text/plain": [
       "<IPython.core.display.HTML object>"
      ]
     },
     "metadata": {},
     "output_type": "display_data"
    },
    {
     "data": {
      "text/html": [
       "<span style=\"color:cyan\"> |-Best step: 22</span>"
      ],
      "text/plain": [
       "<IPython.core.display.HTML object>"
      ]
     },
     "metadata": {},
     "output_type": "display_data"
    },
    {
     "data": {
      "text/html": [
       "<span style=\"color:#7E57C2\"><h2 style=\"font-size:16px\">Hyperparameters:</h2></span>"
      ],
      "text/plain": [
       "<IPython.core.display.HTML object>"
      ]
     },
     "metadata": {},
     "output_type": "display_data"
    },
    {
     "data": {
      "text/html": [
       "<span style=\"color:cyan\"> |-classification_head_1/dropout: 0</span>"
      ],
      "text/plain": [
       "<IPython.core.display.HTML object>"
      ]
     },
     "metadata": {},
     "output_type": "display_data"
    },
    {
     "data": {
      "text/html": [
       "<span style=\"color:blue\"> |-learning_rate: 0.001</span>"
      ],
      "text/plain": [
       "<IPython.core.display.HTML object>"
      ]
     },
     "metadata": {},
     "output_type": "display_data"
    },
    {
     "data": {
      "text/html": [
       "<span style=\"color:cyan\"> |-optimizer: adam</span>"
      ],
      "text/plain": [
       "<IPython.core.display.HTML object>"
      ]
     },
     "metadata": {},
     "output_type": "display_data"
    },
    {
     "data": {
      "text/html": [
       "<span style=\"color:blue\"> |-structured_data_block_1/dense_block_1/dropout: 0.5</span>"
      ],
      "text/plain": [
       "<IPython.core.display.HTML object>"
      ]
     },
     "metadata": {},
     "output_type": "display_data"
    },
    {
     "data": {
      "text/html": [
       "<span style=\"color:cyan\"> |-structured_data_block_1/dense_block_1/num_layers: 3</span>"
      ],
      "text/plain": [
       "<IPython.core.display.HTML object>"
      ]
     },
     "metadata": {},
     "output_type": "display_data"
    },
    {
     "data": {
      "text/html": [
       "<span style=\"color:blue\"> |-structured_data_block_1/dense_block_1/units_0: 512</span>"
      ],
      "text/plain": [
       "<IPython.core.display.HTML object>"
      ]
     },
     "metadata": {},
     "output_type": "display_data"
    },
    {
     "data": {
      "text/html": [
       "<span style=\"color:cyan\"> |-structured_data_block_1/dense_block_1/units_1: 512</span>"
      ],
      "text/plain": [
       "<IPython.core.display.HTML object>"
      ]
     },
     "metadata": {},
     "output_type": "display_data"
    },
    {
     "data": {
      "text/html": [
       "<span style=\"color:blue\"> |-structured_data_block_1/dense_block_1/units_2: 32</span>"
      ],
      "text/plain": [
       "<IPython.core.display.HTML object>"
      ]
     },
     "metadata": {},
     "output_type": "display_data"
    },
    {
     "data": {
      "text/html": [
       "<span style=\"color:cyan\"> |-structured_data_block_1/dense_block_1/use_batchnorm: True</span>"
      ],
      "text/plain": [
       "<IPython.core.display.HTML object>"
      ]
     },
     "metadata": {},
     "output_type": "display_data"
    },
    {
     "data": {
      "text/html": [
       "<span style=\"color:#4527A0\"><h1 style=\"font-size:18px\">Starting new trial</h1></span>"
      ],
      "text/plain": [
       "<IPython.core.display.HTML object>"
      ]
     },
     "metadata": {},
     "output_type": "display_data"
    },
    {
     "name": "stdout",
     "output_type": "stream",
     "text": [
      "Epoch 1/1000\n",
      "26/26 [==============================] - ETA: 0s - loss: 2365.3921 - accuracy: 0.375 - ETA: 0s - loss: 2482.8501 - accuracy: 0.289 - ETA: 0s - loss: 2357.7500 - accuracy: 0.290 - ETA: 0s - loss: 2274.4429 - accuracy: 0.287 - ETA: 0s - loss: 2151.7048 - accuracy: 0.288 - ETA: 0s - loss: 2119.6895 - accuracy: 0.285 - ETA: 0s - loss: 2089.0208 - accuracy: 0.292 - ETA: 0s - loss: 2035.1259 - accuracy: 0.292 - ETA: 0s - loss: 1939.9675 - accuracy: 0.288 - 6s 245ms/step - loss: 1923.5159 - accuracy: 0.2837 - val_loss: 376.1493 - val_accuracy: 0.3333\n",
      "Epoch 2/1000\n",
      "26/26 [==============================] - ETA: 0s - loss: 1479.4570 - accuracy: 0.156 - ETA: 0s - loss: 1032.5114 - accuracy: 0.296 - ETA: 0s - loss: 967.3101 - accuracy: 0.348 - ETA: 0s - loss: 943.5205 - accuracy: 0.34 - ETA: 0s - loss: 886.2479 - accuracy: 0.35 - ETA: 0s - loss: 875.0565 - accuracy: 0.33 - ETA: 0s - loss: 861.3126 - accuracy: 0.32 - ETA: 0s - loss: 872.6505 - accuracy: 0.31 - ETA: 0s - loss: 841.3197 - accuracy: 0.31 - 2s 58ms/step - loss: 831.4193 - accuracy: 0.3113 - val_loss: 109.0131 - val_accuracy: 0.3929\n",
      "Epoch 3/1000\n",
      "26/26 [==============================] - ETA: 0s - loss: 600.2338 - accuracy: 0.28 - ETA: 0s - loss: 704.2954 - accuracy: 0.24 - ETA: 0s - loss: 781.8083 - accuracy: 0.25 - ETA: 0s - loss: 703.6849 - accuracy: 0.26 - ETA: 0s - loss: 645.1002 - accuracy: 0.28 - ETA: 0s - loss: 628.2099 - accuracy: 0.27 - ETA: 0s - loss: 647.2286 - accuracy: 0.27 - ETA: 0s - loss: 629.7837 - accuracy: 0.27 - ETA: 0s - loss: 614.9715 - accuracy: 0.27 - 2s 67ms/step - loss: 608.7780 - accuracy: 0.2776 - val_loss: 34.8744 - val_accuracy: 0.3929\n",
      "Epoch 4/1000\n",
      "26/26 [==============================] - ETA: 0s - loss: 214.7295 - accuracy: 0.34 - ETA: 0s - loss: 292.6047 - accuracy: 0.31 - ETA: 0s - loss: 561.6090 - accuracy: 0.31 - ETA: 0s - loss: 478.4956 - accuracy: 0.32 - ETA: 0s - loss: 442.0002 - accuracy: 0.31 - ETA: 0s - loss: 438.8001 - accuracy: 0.29 - ETA: 0s - loss: 424.2240 - accuracy: 0.30 - ETA: 0s - loss: 405.2426 - accuracy: 0.30 - ETA: 0s - loss: 396.9090 - accuracy: 0.29 - 2s 60ms/step - loss: 392.0552 - accuracy: 0.3005 - val_loss: 15.0619 - val_accuracy: 0.3631\n",
      "Epoch 5/1000\n",
      "26/26 [==============================] - ETA: 0s - loss: 206.8443 - accuracy: 0.25 - ETA: 0s - loss: 242.1679 - accuracy: 0.27 - ETA: 0s - loss: 199.4020 - accuracy: 0.29 - ETA: 0s - loss: 225.9948 - accuracy: 0.30 - ETA: 0s - loss: 213.7660 - accuracy: 0.31 - ETA: 0s - loss: 218.1063 - accuracy: 0.31 - ETA: 0s - loss: 220.9317 - accuracy: 0.30 - ETA: 0s - loss: 215.2357 - accuracy: 0.30 - ETA: 0s - loss: 216.2962 - accuracy: 0.30 - 2s 67ms/step - loss: 213.5872 - accuracy: 0.3017 - val_loss: 5.1089 - val_accuracy: 0.2679\n",
      "Epoch 6/1000\n",
      "26/26 [==============================] - ETA: 0s - loss: 183.0788 - accuracy: 0.18 - ETA: 0s - loss: 173.4532 - accuracy: 0.19 - ETA: 0s - loss: 402.0809 - accuracy: 0.26 - ETA: 0s - loss: 318.9335 - accuracy: 0.26 - ETA: 0s - loss: 270.7428 - accuracy: 0.28 - ETA: 0s - loss: 243.2003 - accuracy: 0.29 - ETA: 0s - loss: 229.8159 - accuracy: 0.28 - ETA: 0s - loss: 219.9319 - accuracy: 0.27 - ETA: 0s - loss: 215.2008 - accuracy: 0.28 - 2s 64ms/step - loss: 211.5941 - accuracy: 0.2800 - val_loss: 3.2539 - val_accuracy: 0.2560\n",
      "Epoch 7/1000\n",
      "26/26 [==============================] - ETA: 0s - loss: 81.9588 - accuracy: 0.312 - ETA: 0s - loss: 87.2126 - accuracy: 0.335 - ETA: 0s - loss: 107.6588 - accuracy: 0.28 - ETA: 0s - loss: 105.6028 - accuracy: 0.28 - ETA: 0s - loss: 95.3962 - accuracy: 0.2644 - ETA: 0s - loss: 100.4374 - accuracy: 0.26 - ETA: 0s - loss: 101.2104 - accuracy: 0.26 - ETA: 0s - loss: 106.9771 - accuracy: 0.27 - ETA: 0s - loss: 102.0479 - accuracy: 0.27 - 2s 63ms/step - loss: 103.9056 - accuracy: 0.2740 - val_loss: 1.4778 - val_accuracy: 0.2440\n",
      "Epoch 8/1000\n",
      "26/26 [==============================] - ETA: 0s - loss: 22.3504 - accuracy: 0.375 - ETA: 0s - loss: 49.3022 - accuracy: 0.250 - ETA: 0s - loss: 106.7947 - accuracy: 0.22 - ETA: 0s - loss: 89.3308 - accuracy: 0.2375 - ETA: 0s - loss: 77.2533 - accuracy: 0.240 - ETA: 0s - loss: 77.2366 - accuracy: 0.238 - ETA: 0s - loss: 75.7495 - accuracy: 0.246 - ETA: 0s - loss: 72.6622 - accuracy: 0.257 - ETA: 0s - loss: 75.1438 - accuracy: 0.253 - 2s 60ms/step - loss: 76.1242 - accuracy: 0.2500 - val_loss: 1.4357 - val_accuracy: 0.2440\n",
      "Epoch 9/1000\n",
      "26/26 [==============================] - ETA: 0s - loss: 37.1731 - accuracy: 0.250 - ETA: 0s - loss: 27.2722 - accuracy: 0.273 - ETA: 0s - loss: 26.1501 - accuracy: 0.276 - ETA: 0s - loss: 33.7455 - accuracy: 0.265 - ETA: 0s - loss: 41.9498 - accuracy: 0.242 - ETA: 0s - loss: 39.3900 - accuracy: 0.248 - ETA: 0s - loss: 36.2981 - accuracy: 0.258 - ETA: 0s - loss: 37.4885 - accuracy: 0.264 - ETA: 0s - loss: 35.6623 - accuracy: 0.268 - 2s 59ms/step - loss: 35.4736 - accuracy: 0.2680 - val_loss: 1.3911 - val_accuracy: 0.2440\n",
      "Epoch 10/1000\n",
      "26/26 [==============================] - ETA: 0s - loss: 29.4490 - accuracy: 0.281 - ETA: 0s - loss: 19.0023 - accuracy: 0.234 - ETA: 0s - loss: 126.5184 - accuracy: 0.26 - ETA: 0s - loss: 95.7454 - accuracy: 0.2594 - ETA: 0s - loss: 78.2695 - accuracy: 0.250 - ETA: 0s - loss: 71.5143 - accuracy: 0.255 - ETA: 0s - loss: 69.2065 - accuracy: 0.258 - ETA: 0s - loss: 66.5110 - accuracy: 0.262 - ETA: 0s - loss: 61.6072 - accuracy: 0.256 - 1s 57ms/step - loss: 60.6443 - accuracy: 0.2584 - val_loss: 1.3906 - val_accuracy: 0.2440\n",
      "Epoch 11/1000\n",
      "26/26 [==============================] - ETA: 0s - loss: 9.4140 - accuracy: 0.28 - ETA: 0s - loss: 17.2161 - accuracy: 0.296 - ETA: 0s - loss: 15.1871 - accuracy: 0.308 - ETA: 0s - loss: 21.9430 - accuracy: 0.300 - ETA: 0s - loss: 17.8769 - accuracy: 0.281 - ETA: 0s - loss: 19.6706 - accuracy: 0.277 - ETA: 0s - loss: 22.4079 - accuracy: 0.279 - ETA: 0s - loss: 20.6493 - accuracy: 0.284 - ETA: 0s - loss: 24.1606 - accuracy: 0.276 - 2s 72ms/step - loss: 23.9725 - accuracy: 0.2764 - val_loss: 1.3906 - val_accuracy: 0.2440\n",
      "Epoch 12/1000\n",
      "26/26 [==============================] - ETA: 0s - loss: 6.9091 - accuracy: 0.25 - ETA: 0s - loss: 20.3336 - accuracy: 0.242 - ETA: 0s - loss: 16.2272 - accuracy: 0.250 - ETA: 0s - loss: 13.6650 - accuracy: 0.250 - ETA: 0s - loss: 16.4971 - accuracy: 0.233 - ETA: 0s - loss: 14.8334 - accuracy: 0.236 - ETA: 0s - loss: 15.9502 - accuracy: 0.245 - ETA: 0s - loss: 15.2140 - accuracy: 0.245 - ETA: 0s - loss: 15.7225 - accuracy: 0.245 - 2s 59ms/step - loss: 15.7616 - accuracy: 0.2476 - val_loss: 1.3896 - val_accuracy: 0.2440\n",
      "Epoch 13/1000\n",
      "26/26 [==============================] - ETA: 0s - loss: 15.3422 - accuracy: 0.250 - ETA: 0s - loss: 6.6427 - accuracy: 0.257 - ETA: 0s - loss: 40.3297 - accuracy: 0.258 - ETA: 0s - loss: 30.1198 - accuracy: 0.259 - ETA: 0s - loss: 25.7627 - accuracy: 0.242 - ETA: 0s - loss: 24.8402 - accuracy: 0.236 - ETA: 0s - loss: 23.1235 - accuracy: 0.243 - ETA: 0s - loss: 21.2471 - accuracy: 0.250 - ETA: 0s - loss: 23.4901 - accuracy: 0.245 - 2s 59ms/step - loss: 24.2913 - accuracy: 0.2464 - val_loss: 1.3888 - val_accuracy: 0.2440\n",
      "Epoch 14/1000\n",
      "26/26 [==============================] - ETA: 0s - loss: 11.8989 - accuracy: 0.250 - ETA: 0s - loss: 5.3846 - accuracy: 0.265 - ETA: 0s - loss: 6.7996 - accuracy: 0.29 - ETA: 0s - loss: 7.2258 - accuracy: 0.28 - ETA: 0s - loss: 6.8465 - accuracy: 0.26 - ETA: 0s - loss: 6.1696 - accuracy: 0.25 - ETA: 0s - loss: 6.1155 - accuracy: 0.26 - ETA: 0s - loss: 5.9361 - accuracy: 0.27 - ETA: 0s - loss: 5.6153 - accuracy: 0.26 - 1s 57ms/step - loss: 5.9642 - accuracy: 0.2704 - val_loss: 1.3885 - val_accuracy: 0.2440\n",
      "Epoch 15/1000\n",
      "26/26 [==============================] - ETA: 0s - loss: 1.3094 - accuracy: 0.34 - ETA: 0s - loss: 9.0260 - accuracy: 0.28 - ETA: 0s - loss: 121.3167 - accuracy: 0.29 - ETA: 0s - loss: 88.9941 - accuracy: 0.2812 - ETA: 0s - loss: 69.3065 - accuracy: 0.264 - ETA: 0s - loss: 58.9635 - accuracy: 0.263 - ETA: 0s - loss: 51.7295 - accuracy: 0.264 - ETA: 0s - loss: 49.4785 - accuracy: 0.265 - ETA: 0s - loss: 48.3592 - accuracy: 0.257 - 2s 59ms/step - loss: 47.2320 - accuracy: 0.2584 - val_loss: 1.3880 - val_accuracy: 0.2440\n",
      "Epoch 16/1000\n"
     ]
    },
    {
     "name": "stdout",
     "output_type": "stream",
     "text": [
      "26/26 [==============================] - ETA: 0s - loss: 10.5418 - accuracy: 0.281 - ETA: 0s - loss: 5.9842 - accuracy: 0.281 - ETA: 0s - loss: 13.6963 - accuracy: 0.294 - ETA: 0s - loss: 12.9200 - accuracy: 0.278 - ETA: 0s - loss: 13.6513 - accuracy: 0.257 - ETA: 0s - loss: 14.0032 - accuracy: 0.245 - ETA: 0s - loss: 12.5913 - accuracy: 0.267 - ETA: 0s - loss: 11.6449 - accuracy: 0.273 - ETA: 0s - loss: 10.4336 - accuracy: 0.266 - 2s 64ms/step - loss: 11.3398 - accuracy: 0.2644 - val_loss: 1.3878 - val_accuracy: 0.2440\n",
      "Epoch 17/1000\n",
      "26/26 [==============================] - ETA: 0s - loss: 10.0674 - accuracy: 0.250 - ETA: 0s - loss: 12.5297 - accuracy: 0.250 - ETA: 0s - loss: 8.3451 - accuracy: 0.290 - ETA: 0s - loss: 6.7447 - accuracy: 0.27 - ETA: 0s - loss: 7.0238 - accuracy: 0.25 - ETA: 0s - loss: 6.6370 - accuracy: 0.25 - ETA: 0s - loss: 8.6719 - accuracy: 0.25 - ETA: 0s - loss: 8.0653 - accuracy: 0.26 - ETA: 0s - loss: 7.4707 - accuracy: 0.26 - 2s 73ms/step - loss: 7.4571 - accuracy: 0.2620 - val_loss: 1.3874 - val_accuracy: 0.2440\n",
      "Epoch 18/1000\n",
      "26/26 [==============================] - ETA: 0s - loss: 13.8449 - accuracy: 0.281 - ETA: 0s - loss: 6.4125 - accuracy: 0.265 - ETA: 0s - loss: 9.3567 - accuracy: 0.28 - ETA: 0s - loss: 8.7016 - accuracy: 0.28 - ETA: 0s - loss: 8.5951 - accuracy: 0.26 - ETA: 0s - loss: 8.1273 - accuracy: 0.26 - ETA: 0s - loss: 7.0687 - accuracy: 0.26 - ETA: 0s - loss: 7.2378 - accuracy: 0.27 - ETA: 0s - loss: 8.4674 - accuracy: 0.26 - 2s 65ms/step - loss: 8.2011 - accuracy: 0.2704 - val_loss: 1.3871 - val_accuracy: 0.2440\n",
      "Epoch 19/1000\n",
      "26/26 [==============================] - ETA: 0s - loss: 8.8843 - accuracy: 0.28 - ETA: 0s - loss: 4.3800 - accuracy: 0.25 - ETA: 0s - loss: 5.8117 - accuracy: 0.27 - ETA: 0s - loss: 6.0094 - accuracy: 0.26 - ETA: 0s - loss: 5.5831 - accuracy: 0.24 - ETA: 0s - loss: 5.0158 - accuracy: 0.23 - ETA: 0s - loss: 6.0212 - accuracy: 0.24 - ETA: 0s - loss: 5.6463 - accuracy: 0.26 - ETA: 0s - loss: 6.9332 - accuracy: 0.25 - ETA: 0s - loss: 6.4895 - accuracy: 0.25 - 2s 63ms/step - loss: 6.4895 - accuracy: 0.2560 - val_loss: 1.3870 - val_accuracy: 0.2440\n",
      "Epoch 20/1000\n",
      "26/26 [==============================] - ETA: 0s - loss: 3.9336 - accuracy: 0.28 - ETA: 0s - loss: 7.8525 - accuracy: 0.24 - ETA: 0s - loss: 8.3684 - accuracy: 0.27 - ETA: 0s - loss: 6.3700 - accuracy: 0.26 - ETA: 0s - loss: 5.5439 - accuracy: 0.24 - ETA: 0s - loss: 4.8123 - accuracy: 0.24 - ETA: 0s - loss: 7.5852 - accuracy: 0.25 - ETA: 0s - loss: 7.5061 - accuracy: 0.25 - ETA: 0s - loss: 6.7893 - accuracy: 0.25 - 2s 65ms/step - loss: 6.5820 - accuracy: 0.2536 - val_loss: 1.3866 - val_accuracy: 0.2440\n",
      "Epoch 21/1000\n",
      "26/26 [==============================] - ETA: 0s - loss: 14.2064 - accuracy: 0.281 - ETA: 0s - loss: 5.1306 - accuracy: 0.250 - ETA: 0s - loss: 4.0187 - accuracy: 0.28 - ETA: 0s - loss: 3.8870 - accuracy: 0.27 - ETA: 0s - loss: 4.2556 - accuracy: 0.25 - ETA: 0s - loss: 3.7808 - accuracy: 0.25 - ETA: 0s - loss: 3.5203 - accuracy: 0.25 - ETA: 0s - loss: 3.5457 - accuracy: 0.26 - ETA: 0s - loss: 3.5994 - accuracy: 0.26 - 2s 65ms/step - loss: 3.5994 - accuracy: 0.2608 - val_loss: 1.3864 - val_accuracy: 0.2440\n",
      "Epoch 22/1000\n",
      "26/26 [==============================] - ETA: 0s - loss: 4.5236 - accuracy: 0.28 - ETA: 0s - loss: 2.4819 - accuracy: 0.27 - ETA: 0s - loss: 27.1733 - accuracy: 0.285 - ETA: 0s - loss: 19.8522 - accuracy: 0.268 - ETA: 0s - loss: 15.6088 - accuracy: 0.250 - ETA: 0s - loss: 13.4008 - accuracy: 0.244 - ETA: 0s - loss: 13.4209 - accuracy: 0.250 - ETA: 0s - loss: 12.6757 - accuracy: 0.254 - ETA: 0s - loss: 11.3196 - accuracy: 0.250 - 2s 61ms/step - loss: 10.9573 - accuracy: 0.2524 - val_loss: 1.3863 - val_accuracy: 0.2440\n",
      "Epoch 23/1000\n",
      "26/26 [==============================] - ETA: 0s - loss: 16.2760 - accuracy: 0.250 - ETA: 0s - loss: 7.9737 - accuracy: 0.257 - ETA: 0s - loss: 5.3057 - accuracy: 0.28 - ETA: 0s - loss: 6.2655 - accuracy: 0.27 - ETA: 0s - loss: 6.2639 - accuracy: 0.25 - ETA: 0s - loss: 5.5024 - accuracy: 0.24 - ETA: 0s - loss: 5.1710 - accuracy: 0.25 - ETA: 0s - loss: 5.5844 - accuracy: 0.25 - ETA: 0s - loss: 7.6764 - accuracy: 0.25 - 2s 69ms/step - loss: 7.4345 - accuracy: 0.2560 - val_loss: 1.3862 - val_accuracy: 0.2440\n",
      "Epoch 24/1000\n",
      "26/26 [==============================] - ETA: 0s - loss: 1.4128 - accuracy: 0.25 - ETA: 0s - loss: 11.1285 - accuracy: 0.257 - ETA: 0s - loss: 9.6840 - accuracy: 0.285 - ETA: 0s - loss: 7.4571 - accuracy: 0.27 - ETA: 0s - loss: 6.0512 - accuracy: 0.25 - ETA: 0s - loss: 5.3433 - accuracy: 0.25 - ETA: 0s - loss: 4.7277 - accuracy: 0.25 - ETA: 0s - loss: 4.6565 - accuracy: 0.25 - ETA: 0s - loss: 4.2722 - accuracy: 0.25 - 2s 60ms/step - loss: 4.5239 - accuracy: 0.2584 - val_loss: 1.3861 - val_accuracy: 0.2440\n",
      "Epoch 25/1000\n",
      "26/26 [==============================] - ETA: 0s - loss: 1.6455 - accuracy: 0.28 - ETA: 0s - loss: 4.6511 - accuracy: 0.26 - ETA: 0s - loss: 3.3503 - accuracy: 0.29 - ETA: 0s - loss: 2.7618 - accuracy: 0.27 - ETA: 0s - loss: 3.9286 - accuracy: 0.25 - ETA: 0s - loss: 3.6172 - accuracy: 0.24 - ETA: 0s - loss: 3.2895 - accuracy: 0.25 - ETA: 0s - loss: 3.0457 - accuracy: 0.25 - ETA: 0s - loss: 2.8860 - accuracy: 0.25 - 2s 62ms/step - loss: 2.8282 - accuracy: 0.2548 - val_loss: 1.3860 - val_accuracy: 0.2440\n",
      "Epoch 26/1000\n",
      "26/26 [==============================] - ETA: 0s - loss: 1.5139 - accuracy: 0.28 - ETA: 0s - loss: 1.7082 - accuracy: 0.25 - ETA: 0s - loss: 1.9217 - accuracy: 0.28 - ETA: 0s - loss: 2.3601 - accuracy: 0.26 - ETA: 0s - loss: 5.9931 - accuracy: 0.25 - ETA: 0s - loss: 5.3329 - accuracy: 0.23 - ETA: 0s - loss: 4.6950 - accuracy: 0.25 - ETA: 0s - loss: 4.7303 - accuracy: 0.26 - ETA: 0s - loss: 4.2674 - accuracy: 0.25 - 2s 58ms/step - loss: 4.1564 - accuracy: 0.2548 - val_loss: 1.3860 - val_accuracy: 0.2440\n",
      "Epoch 27/1000\n",
      "26/26 [==============================] - ETA: 0s - loss: 1.3894 - accuracy: 0.28 - ETA: 0s - loss: 2.5128 - accuracy: 0.25 - ETA: 0s - loss: 2.0218 - accuracy: 0.28 - ETA: 0s - loss: 1.9987 - accuracy: 0.26 - ETA: 0s - loss: 2.1007 - accuracy: 0.25 - ETA: 0s - loss: 2.1874 - accuracy: 0.24 - ETA: 0s - loss: 2.2712 - accuracy: 0.25 - ETA: 0s - loss: 2.1517 - accuracy: 0.25 - ETA: 0s - loss: 4.8189 - accuracy: 0.25 - 2s 59ms/step - loss: 4.6868 - accuracy: 0.2548 - val_loss: 1.3859 - val_accuracy: 0.2440\n",
      "Epoch 28/1000\n",
      "26/26 [==============================] - ETA: 0s - loss: 1.3888 - accuracy: 0.28 - ETA: 0s - loss: 3.3940 - accuracy: 0.25 - ETA: 0s - loss: 2.6630 - accuracy: 0.28 - ETA: 0s - loss: 2.4076 - accuracy: 0.27 - ETA: 0s - loss: 6.5051 - accuracy: 0.24 - ETA: 0s - loss: 5.9628 - accuracy: 0.23 - ETA: 0s - loss: 5.3336 - accuracy: 0.24 - ETA: 0s - loss: 4.9735 - accuracy: 0.25 - ETA: 0s - loss: 11.4548 - accuracy: 0.245 - 1s 54ms/step - loss: 11.0675 - accuracy: 0.2476 - val_loss: 1.3858 - val_accuracy: 0.2440\n",
      "Epoch 29/1000\n",
      "26/26 [==============================] - ETA: 0s - loss: 3.2356 - accuracy: 0.25 - ETA: 0s - loss: 2.4357 - accuracy: 0.25 - ETA: 0s - loss: 2.1370 - accuracy: 0.27 - ETA: 0s - loss: 2.4402 - accuracy: 0.25 - ETA: 0s - loss: 2.2782 - accuracy: 0.23 - ETA: 0s - loss: 2.1911 - accuracy: 0.25 - ETA: 0s - loss: 2.3367 - accuracy: 0.25 - 2s 77ms/step - loss: 2.2269 - accuracy: 0.2524 - val_loss: 1.3857 - val_accuracy: 0.2440\n",
      "Epoch 30/1000\n",
      "26/26 [==============================] - ETA: 0s - loss: 1.3898 - accuracy: 0.28 - ETA: 0s - loss: 1.5262 - accuracy: 0.25 - ETA: 0s - loss: 3.9092 - accuracy: 0.27 - ETA: 0s - loss: 3.1491 - accuracy: 0.26 - ETA: 0s - loss: 2.7394 - accuracy: 0.25 - ETA: 0s - loss: 2.4836 - accuracy: 0.24 - ETA: 0s - loss: 2.3187 - accuracy: 0.25 - ETA: 0s - loss: 2.2811 - accuracy: 0.25 - ETA: 0s - loss: 2.4692 - accuracy: 0.25 - 2s 59ms/step - loss: 2.4274 - accuracy: 0.2548 - val_loss: 1.3856 - val_accuracy: 0.2440\n",
      "Epoch 31/1000\n"
     ]
    },
    {
     "name": "stdout",
     "output_type": "stream",
     "text": [
      "26/26 [==============================] - ETA: 0s - loss: 1.3897 - accuracy: 0.28 - ETA: 0s - loss: 1.3565 - accuracy: 0.26 - ETA: 0s - loss: 3.2910 - accuracy: 0.28 - ETA: 0s - loss: 2.8174 - accuracy: 0.27 - ETA: 0s - loss: 2.4829 - accuracy: 0.25 - ETA: 0s - loss: 2.2729 - accuracy: 0.25 - ETA: 0s - loss: 2.1329 - accuracy: 0.25 - ETA: 0s - loss: 2.0642 - accuracy: 0.26 - ETA: 0s - loss: 1.9813 - accuracy: 0.25 - 2s 60ms/step - loss: 1.9583 - accuracy: 0.2608 - val_loss: 1.3855 - val_accuracy: 0.2440\n",
      "Epoch 32/1000\n",
      "26/26 [==============================] - ETA: 0s - loss: 2.2616 - accuracy: 0.28 - ETA: 0s - loss: 4.1023 - accuracy: 0.25 - ETA: 0s - loss: 3.1928 - accuracy: 0.27 - ETA: 0s - loss: 2.5862 - accuracy: 0.26 - ETA: 0s - loss: 2.2868 - accuracy: 0.25 - ETA: 0s - loss: 2.1077 - accuracy: 0.24 - ETA: 0s - loss: 2.1617 - accuracy: 0.25 - ETA: 0s - loss: 2.1199 - accuracy: 0.25 - ETA: 0s - loss: 2.1022 - accuracy: 0.25 - 2s 64ms/step - loss: 2.1022 - accuracy: 0.2572 - val_loss: 1.3854 - val_accuracy: 0.2440\n",
      "Epoch 33/1000\n",
      "26/26 [==============================] - ETA: 0s - loss: 1.3903 - accuracy: 0.28 - ETA: 0s - loss: 3.1247 - accuracy: 0.25 - ETA: 0s - loss: 2.5857 - accuracy: 0.28 - ETA: 0s - loss: 2.4378 - accuracy: 0.27 - ETA: 0s - loss: 2.4095 - accuracy: 0.24 - ETA: 0s - loss: 2.3465 - accuracy: 0.24 - ETA: 0s - loss: 2.3524 - accuracy: 0.25 - ETA: 0s - loss: 2.2183 - accuracy: 0.25 - ETA: 0s - loss: 2.1167 - accuracy: 0.25 - 1s 57ms/step - loss: 2.2715 - accuracy: 0.2560 - val_loss: 1.3853 - val_accuracy: 0.2440\n",
      "Epoch 34/1000\n",
      "26/26 [==============================] - ETA: 0s - loss: 1.3886 - accuracy: 0.28 - ETA: 0s - loss: 2.1728 - accuracy: 0.25 - ETA: 0s - loss: 2.2446 - accuracy: 0.28 - ETA: 0s - loss: 1.9992 - accuracy: 0.27 - ETA: 0s - loss: 1.8989 - accuracy: 0.25 - ETA: 0s - loss: 1.9209 - accuracy: 0.24 - ETA: 0s - loss: 1.9622 - accuracy: 0.25 - ETA: 0s - loss: 1.8813 - accuracy: 0.25 - ETA: 0s - loss: 1.8218 - accuracy: 0.25 - 2s 59ms/step - loss: 1.8049 - accuracy: 0.2548 - val_loss: 1.3852 - val_accuracy: 0.2440\n",
      "Epoch 35/1000\n",
      "26/26 [==============================] - ETA: 0s - loss: 1.3891 - accuracy: 0.28 - ETA: 0s - loss: 1.3820 - accuracy: 0.25 - ETA: 0s - loss: 1.3695 - accuracy: 0.29 - ETA: 0s - loss: 1.3758 - accuracy: 0.28 - ETA: 0s - loss: 1.4030 - accuracy: 0.25 - ETA: 0s - loss: 1.5900 - accuracy: 0.25 - ETA: 0s - loss: 1.7424 - accuracy: 0.26 - ETA: 0s - loss: 1.6933 - accuracy: 0.26 - ETA: 0s - loss: 1.9150 - accuracy: 0.26 - 2s 71ms/step - loss: 1.9118 - accuracy: 0.2644 - val_loss: 1.3852 - val_accuracy: 0.2440\n",
      "Epoch 36/1000\n",
      "26/26 [==============================] - ETA: 0s - loss: 1.3909 - accuracy: 0.28 - ETA: 0s - loss: 1.3814 - accuracy: 0.26 - ETA: 0s - loss: 1.3752 - accuracy: 0.29 - ETA: 0s - loss: 1.3755 - accuracy: 0.28 - ETA: 0s - loss: 1.5262 - accuracy: 0.25 - ETA: 0s - loss: 2.0538 - accuracy: 0.24 - ETA: 0s - loss: 2.2264 - accuracy: 0.25 - ETA: 0s - loss: 2.1585 - accuracy: 0.25 - ETA: 0s - loss: 2.0640 - accuracy: 0.25 - 1s 56ms/step - loss: 2.0379 - accuracy: 0.2560 - val_loss: 1.3851 - val_accuracy: 0.2440\n",
      "Epoch 37/1000\n",
      "26/26 [==============================] - ETA: 0s - loss: 1.3903 - accuracy: 0.31 - ETA: 0s - loss: 4.0092 - accuracy: 0.28 - ETA: 0s - loss: 2.9159 - accuracy: 0.30 - ETA: 0s - loss: 2.4580 - accuracy: 0.27 - ETA: 0s - loss: 2.2107 - accuracy: 0.26 - ETA: 0s - loss: 2.5987 - accuracy: 0.26 - ETA: 0s - loss: 2.4051 - accuracy: 0.25 - ETA: 0s - loss: 2.2657 - accuracy: 0.25 - ETA: 0s - loss: 2.1567 - accuracy: 0.25 - 1s 58ms/step - loss: 2.1270 - accuracy: 0.2584 - val_loss: 1.3850 - val_accuracy: 0.2440\n",
      "Epoch 38/1000\n",
      "26/26 [==============================] - ETA: 0s - loss: 1.3923 - accuracy: 0.21 - ETA: 0s - loss: 1.3715 - accuracy: 0.26 - ETA: 0s - loss: 1.3571 - accuracy: 0.29 - ETA: 0s - loss: 1.3670 - accuracy: 0.27 - ETA: 0s - loss: 1.8368 - accuracy: 0.27 - ETA: 0s - loss: 1.7503 - accuracy: 0.25 - ETA: 0s - loss: 1.6931 - accuracy: 0.24 - ETA: 0s - loss: 1.6471 - accuracy: 0.24 - ETA: 0s - loss: 1.6192 - accuracy: 0.25 - 2s 59ms/step - loss: 1.6102 - accuracy: 0.2560 - val_loss: 1.3849 - val_accuracy: 0.2798\n",
      "Epoch 39/1000\n",
      "26/26 [==============================] - ETA: 0s - loss: 2.0596 - accuracy: 0.21 - ETA: 0s - loss: 1.8309 - accuracy: 0.31 - ETA: 0s - loss: 1.6314 - accuracy: 0.31 - ETA: 0s - loss: 1.5547 - accuracy: 0.29 - ETA: 0s - loss: 1.8601 - accuracy: 0.28 - ETA: 0s - loss: 2.0896 - accuracy: 0.27 - ETA: 0s - loss: 1.9722 - accuracy: 0.27 - ETA: 0s - loss: 2.3191 - accuracy: 0.27 - ETA: 0s - loss: 2.2292 - accuracy: 0.27 - 2s 61ms/step - loss: 2.1968 - accuracy: 0.2716 - val_loss: 1.3849 - val_accuracy: 0.2798\n",
      "Epoch 40/1000\n",
      "26/26 [==============================] - ETA: 0s - loss: 1.3918 - accuracy: 0.15 - ETA: 0s - loss: 1.3818 - accuracy: 0.29 - ETA: 0s - loss: 1.3750 - accuracy: 0.29 - ETA: 0s - loss: 2.5467 - accuracy: 0.26 - ETA: 0s - loss: 2.8170 - accuracy: 0.27 - ETA: 0s - loss: 2.5468 - accuracy: 0.26 - ETA: 0s - loss: 2.3636 - accuracy: 0.26 - ETA: 0s - loss: 2.2274 - accuracy: 0.26 - ETA: 0s - loss: 3.2202 - accuracy: 0.26 - 2s 69ms/step - loss: 3.1497 - accuracy: 0.2656 - val_loss: 1.3849 - val_accuracy: 0.2798\n",
      "Epoch 41/1000\n",
      "26/26 [==============================] - ETA: 0s - loss: 4.8120 - accuracy: 0.18 - ETA: 0s - loss: 2.2369 - accuracy: 0.30 - ETA: 0s - loss: 1.9213 - accuracy: 0.29 - ETA: 0s - loss: 1.7622 - accuracy: 0.27 - ETA: 0s - loss: 2.1864 - accuracy: 0.28 - ETA: 0s - loss: 2.7919 - accuracy: 0.27 - ETA: 0s - loss: 2.5681 - accuracy: 0.26 - ETA: 0s - loss: 2.7265 - accuracy: 0.26 - ETA: 0s - loss: 2.6347 - accuracy: 0.27 - 2s 59ms/step - loss: 2.5867 - accuracy: 0.2668 - val_loss: 1.3848 - val_accuracy: 0.2798\n",
      "Epoch 42/1000\n",
      "26/26 [==============================] - ETA: 0s - loss: 3.7046 - accuracy: 0.18 - ETA: 0s - loss: 1.9574 - accuracy: 0.30 - ETA: 0s - loss: 1.7040 - accuracy: 0.29 - ETA: 0s - loss: 1.6059 - accuracy: 0.27 - ETA: 0s - loss: 1.6565 - accuracy: 0.28 - ETA: 0s - loss: 1.6066 - accuracy: 0.27 - ETA: 0s - loss: 1.5787 - accuracy: 0.26 - ETA: 0s - loss: 1.5501 - accuracy: 0.26 - ETA: 0s - loss: 2.6498 - accuracy: 0.27 - 2s 63ms/step - loss: 2.6012 - accuracy: 0.2680 - val_loss: 1.3848 - val_accuracy: 0.2798\n",
      "Epoch 43/1000\n",
      "26/26 [==============================] - ETA: 0s - loss: 1.3920 - accuracy: 0.18 - ETA: 0s - loss: 1.5880 - accuracy: 0.30 - ETA: 0s - loss: 1.6325 - accuracy: 0.29 - ETA: 0s - loss: 2.3980 - accuracy: 0.26 - ETA: 0s - loss: 2.2295 - accuracy: 0.28 - ETA: 0s - loss: 4.6258 - accuracy: 0.27 - ETA: 0s - loss: 4.0852 - accuracy: 0.27 - ETA: 0s - loss: 4.1435 - accuracy: 0.26 - ETA: 0s - loss: 3.7984 - accuracy: 0.26 - 2s 58ms/step - loss: 3.6129 - accuracy: 0.2680 - val_loss: 1.3848 - val_accuracy: 0.2798\n",
      "Epoch 44/1000\n",
      "26/26 [==============================] - ETA: 0s - loss: 1.3908 - accuracy: 0.18 - ETA: 0s - loss: 1.9706 - accuracy: 0.30 - ETA: 0s - loss: 1.7109 - accuracy: 0.29 - ETA: 0s - loss: 1.6149 - accuracy: 0.27 - ETA: 0s - loss: 3.2229 - accuracy: 0.29 - ETA: 0s - loss: 2.8764 - accuracy: 0.28 - ETA: 0s - loss: 2.7237 - accuracy: 0.27 - ETA: 0s - loss: 2.5513 - accuracy: 0.26 - ETA: 0s - loss: 2.4080 - accuracy: 0.27 - 1s 57ms/step - loss: 2.3683 - accuracy: 0.2752 - val_loss: 1.3848 - val_accuracy: 0.2798\n",
      "Epoch 45/1000\n",
      "26/26 [==============================] - ETA: 0s - loss: 1.3901 - accuracy: 0.18 - ETA: 0s - loss: 1.3706 - accuracy: 0.31 - ETA: 0s - loss: 2.2922 - accuracy: 0.30 - ETA: 0s - loss: 2.0336 - accuracy: 0.27 - ETA: 0s - loss: 1.8855 - accuracy: 0.29 - ETA: 0s - loss: 2.0636 - accuracy: 0.27 - ETA: 0s - loss: 1.9568 - accuracy: 0.26 - ETA: 0s - loss: 2.3393 - accuracy: 0.26 - ETA: 0s - loss: 2.2230 - accuracy: 0.27 - 2s 60ms/step - loss: 2.5067 - accuracy: 0.2728 - val_loss: 1.3847 - val_accuracy: 0.2798\n",
      "Epoch 46/1000\n"
     ]
    },
    {
     "name": "stdout",
     "output_type": "stream",
     "text": [
      "26/26 [==============================] - ETA: 0s - loss: 6.5739 - accuracy: 0.18 - ETA: 0s - loss: 3.1769 - accuracy: 0.30 - ETA: 0s - loss: 2.4005 - accuracy: 0.29 - ETA: 0s - loss: 2.0978 - accuracy: 0.27 - ETA: 0s - loss: 1.9801 - accuracy: 0.28 - ETA: 0s - loss: 1.8642 - accuracy: 0.27 - ETA: 0s - loss: 1.8145 - accuracy: 0.27 - ETA: 0s - loss: 1.7559 - accuracy: 0.26 - ETA: 0s - loss: 1.7192 - accuracy: 0.27 - 2s 64ms/step - loss: 1.7063 - accuracy: 0.2704 - val_loss: 1.3848 - val_accuracy: 0.2798\n",
      "Epoch 47/1000\n",
      "26/26 [==============================] - ETA: 0s - loss: 1.3924 - accuracy: 0.18 - ETA: 0s - loss: 1.3782 - accuracy: 0.32 - ETA: 0s - loss: 1.3725 - accuracy: 0.30 - ETA: 0s - loss: 1.3783 - accuracy: 0.27 - ETA: 0s - loss: 1.3797 - accuracy: 0.29 - ETA: 0s - loss: 1.5951 - accuracy: 0.27 - ETA: 0s - loss: 1.5625 - accuracy: 0.26 - ETA: 0s - loss: 1.5620 - accuracy: 0.26 - ETA: 0s - loss: 1.5407 - accuracy: 0.27 - 2s 58ms/step - loss: 1.5347 - accuracy: 0.2704 - val_loss: 1.3848 - val_accuracy: 0.2798\n",
      "Epoch 48/1000\n",
      "26/26 [==============================] - ETA: 0s - loss: 1.3916 - accuracy: 0.18 - ETA: 0s - loss: 2.4378 - accuracy: 0.30 - ETA: 0s - loss: 1.9789 - accuracy: 0.29 - ETA: 0s - loss: 1.8022 - accuracy: 0.26 - ETA: 0s - loss: 1.7060 - accuracy: 0.28 - ETA: 0s - loss: 1.6442 - accuracy: 0.27 - ETA: 0s - loss: 1.6016 - accuracy: 0.26 - ETA: 0s - loss: 1.5719 - accuracy: 0.26 - ETA: 0s - loss: 1.5537 - accuracy: 0.27 - 2s 60ms/step - loss: 1.5455 - accuracy: 0.2716 - val_loss: 1.3848 - val_accuracy: 0.2798\n",
      "Epoch 49/1000\n",
      "26/26 [==============================] - ETA: 0s - loss: 1.3915 - accuracy: 0.18 - ETA: 0s - loss: 1.3799 - accuracy: 0.31 - ETA: 0s - loss: 224.1000 - accuracy: 0.29 - ETA: 0s - loss: 161.2880 - accuracy: 0.26 - ETA: 0s - loss: 124.3871 - accuracy: 0.28 - ETA: 0s - loss: 101.3451 - accuracy: 0.27 - ETA: 0s - loss: 86.6921 - accuracy: 0.2664 - ETA: 0s - loss: 75.1412 - accuracy: 0.265 - ETA: 0s - loss: 66.6447 - accuracy: 0.270 - 2s 64ms/step - loss: 64.1348 - accuracy: 0.2680 - val_loss: 1.3847 - val_accuracy: 0.2798\n",
      "Epoch 50/1000\n",
      "26/26 [==============================] - ETA: 0s - loss: 1.3920 - accuracy: 0.18 - ETA: 0s - loss: 1.3780 - accuracy: 0.31 - ETA: 0s - loss: 1.3728 - accuracy: 0.30 - ETA: 0s - loss: 1.7882 - accuracy: 0.27 - ETA: 0s - loss: 1.6952 - accuracy: 0.28 - ETA: 0s - loss: 1.6380 - accuracy: 0.27 - ETA: 0s - loss: 1.5986 - accuracy: 0.26 - ETA: 0s - loss: 1.5786 - accuracy: 0.26 - ETA: 0s - loss: 1.7965 - accuracy: 0.27 - 2s 60ms/step - loss: 1.7807 - accuracy: 0.2692 - val_loss: 1.3847 - val_accuracy: 0.2798\n",
      "Epoch 51/1000\n",
      "26/26 [==============================] - ETA: 0s - loss: 1.3918 - accuracy: 0.18 - ETA: 0s - loss: 7.3088 - accuracy: 0.31 - ETA: 0s - loss: 5.2162 - accuracy: 0.30 - ETA: 0s - loss: 6.9957 - accuracy: 0.27 - ETA: 0s - loss: 5.7009 - accuracy: 0.28 - ETA: 0s - loss: 4.8897 - accuracy: 0.27 - ETA: 0s - loss: 4.4639 - accuracy: 0.26 - ETA: 0s - loss: 4.0418 - accuracy: 0.26 - ETA: 0s - loss: 3.7228 - accuracy: 0.27 - 1s 54ms/step - loss: 3.6329 - accuracy: 0.2704 - val_loss: 1.3848 - val_accuracy: 0.2798\n",
      "Epoch 52/1000\n",
      "26/26 [==============================] - ETA: 0s - loss: 1.5610 - accuracy: 0.18 - ETA: 0s - loss: 1.4223 - accuracy: 0.31 - ETA: 0s - loss: 1.7463 - accuracy: 0.28 - ETA: 0s - loss: 1.6472 - accuracy: 0.29 - ETA: 0s - loss: 1.5796 - accuracy: 0.28 - ETA: 0s - loss: 1.6832 - accuracy: 0.26 - ETA: 0s - loss: 1.6429 - accuracy: 0.26 - ETA: 0s - loss: 1.6117 - accuracy: 0.27 - 2s 74ms/step - loss: 1.6031 - accuracy: 0.2704 - val_loss: 1.3848 - val_accuracy: 0.2798\n",
      "Epoch 53/1000\n",
      "26/26 [==============================] - ETA: 0s - loss: 1.3508 - accuracy: 0.18 - ETA: 0s - loss: 1.3499 - accuracy: 0.32 - ETA: 0s - loss: 1.3568 - accuracy: 0.31 - ETA: 0s - loss: 1.3624 - accuracy: 0.28 - ETA: 0s - loss: 1.3676 - accuracy: 0.29 - ETA: 0s - loss: 2.6925 - accuracy: 0.28 - ETA: 0s - loss: 2.4865 - accuracy: 0.27 - ETA: 0s - loss: 2.3636 - accuracy: 0.27 - ETA: 0s - loss: 2.2462 - accuracy: 0.27 - 2s 59ms/step - loss: 2.2131 - accuracy: 0.2740 - val_loss: 1.3848 - val_accuracy: 0.2798\n",
      "Epoch 54/1000\n",
      "26/26 [==============================] - ETA: 0s - loss: 2.2246 - accuracy: 0.18 - ETA: 0s - loss: 1.5886 - accuracy: 0.31 - ETA: 0s - loss: 1.4926 - accuracy: 0.30 - ETA: 0s - loss: 1.4623 - accuracy: 0.27 - ETA: 0s - loss: 1.4411 - accuracy: 0.28 - ETA: 0s - loss: 2.6387 - accuracy: 0.27 - ETA: 0s - loss: 2.6570 - accuracy: 0.26 - ETA: 0s - loss: 2.4996 - accuracy: 0.26 - ETA: 0s - loss: 2.3640 - accuracy: 0.27 - 1s 55ms/step - loss: 2.3263 - accuracy: 0.2692 - val_loss: 1.3848 - val_accuracy: 0.2798\n",
      "Epoch 55/1000\n",
      "26/26 [==============================] - ETA: 0s - loss: 1.3884 - accuracy: 0.18 - ETA: 0s - loss: 1.3785 - accuracy: 0.31 - ETA: 0s - loss: 1.3664 - accuracy: 0.30 - ETA: 0s - loss: 1.4817 - accuracy: 0.27 - ETA: 0s - loss: 1.5517 - accuracy: 0.29 - ETA: 0s - loss: 1.5189 - accuracy: 0.28 - ETA: 0s - loss: 1.4981 - accuracy: 0.27 - ETA: 0s - loss: 1.4783 - accuracy: 0.26 - 1s 55ms/step - loss: 1.4659 - accuracy: 0.2716 - val_loss: 1.3848 - val_accuracy: 0.2798\n",
      "Epoch 56/1000\n",
      "26/26 [==============================] - ETA: 0s - loss: 1.3915 - accuracy: 0.18 - ETA: 0s - loss: 1.3802 - accuracy: 0.31 - ETA: 0s - loss: 27.8588 - accuracy: 0.299 - ETA: 0s - loss: 19.9219 - accuracy: 0.275 - ETA: 0s - loss: 16.7231 - accuracy: 0.290 - ETA: 0s - loss: 18.0267 - accuracy: 0.279 - ETA: 0s - loss: 15.5031 - accuracy: 0.269 - ETA: 0s - loss: 13.5738 - accuracy: 0.269 - ETA: 0s - loss: 13.1144 - accuracy: 0.273 - 2s 58ms/step - loss: 12.6632 - accuracy: 0.2716 - val_loss: 1.3849 - val_accuracy: 0.2798\n",
      "Epoch 57/1000\n",
      "26/26 [==============================] - ETA: 0s - loss: 1.3905 - accuracy: 0.18 - ETA: 0s - loss: 1.4057 - accuracy: 0.31 - ETA: 0s - loss: 1.3883 - accuracy: 0.30 - ETA: 0s - loss: 1.4101 - accuracy: 0.27 - ETA: 0s - loss: 1.4044 - accuracy: 0.28 - ETA: 0s - loss: 1.4020 - accuracy: 0.27 - ETA: 0s - loss: 1.4067 - accuracy: 0.26 - ETA: 0s - loss: 1.4751 - accuracy: 0.26 - ETA: 0s - loss: 1.4625 - accuracy: 0.27 - 1s 55ms/step - loss: 1.4594 - accuracy: 0.2704 - val_loss: 1.3850 - val_accuracy: 0.2798\n",
      "Epoch 58/1000\n",
      "26/26 [==============================] - ETA: 0s - loss: 1.3902 - accuracy: 0.21 - ETA: 0s - loss: 1.3694 - accuracy: 0.32 - ETA: 0s - loss: 1.3676 - accuracy: 0.31 - ETA: 0s - loss: 1.4308 - accuracy: 0.28 - ETA: 0s - loss: 4.0242 - accuracy: 0.29 - ETA: 0s - loss: 7.7321 - accuracy: 0.28 - ETA: 0s - loss: 6.7303 - accuracy: 0.27 - ETA: 0s - loss: 6.2415 - accuracy: 0.27 - ETA: 0s - loss: 5.6589 - accuracy: 0.27 - 2s 70ms/step - loss: 5.4930 - accuracy: 0.2716 - val_loss: 1.3851 - val_accuracy: 0.2798\n",
      "Epoch 59/1000\n",
      "26/26 [==============================] - ETA: 0s - loss: 1.3903 - accuracy: 0.18 - ETA: 0s - loss: 1.9074 - accuracy: 0.32 - ETA: 0s - loss: 1.6751 - accuracy: 0.31 - ETA: 0s - loss: 1.6789 - accuracy: 0.30 - ETA: 0s - loss: 1.6031 - accuracy: 0.28 - ETA: 0s - loss: 1.6529 - accuracy: 0.27 - ETA: 0s - loss: 1.6157 - accuracy: 0.26 - ETA: 0s - loss: 1.5881 - accuracy: 0.27 - 1s 57ms/step - loss: 1.5803 - accuracy: 0.2692 - val_loss: 1.3851 - val_accuracy: 0.2798\n"
     ]
    },
    {
     "data": {
      "text/html": [
       "<span style=\"color:#4527A0\"><h1 style=\"font-size:18px\">Trial complete</h1></span>"
      ],
      "text/plain": [
       "<IPython.core.display.HTML object>"
      ]
     },
     "metadata": {},
     "output_type": "display_data"
    },
    {
     "data": {
      "text/html": [
       "<span style=\"color:#4527A0\"><h1 style=\"font-size:18px\">Trial summary</h1></span>"
      ],
      "text/plain": [
       "<IPython.core.display.HTML object>"
      ]
     },
     "metadata": {},
     "output_type": "display_data"
    },
    {
     "data": {
      "text/html": [
       "<span style=\"color:cyan\"> |-Trial ID: b4f1c9745fe9833a4281f71d00e8d7a5</span>"
      ],
      "text/plain": [
       "<IPython.core.display.HTML object>"
      ]
     },
     "metadata": {},
     "output_type": "display_data"
    },
    {
     "data": {
      "text/html": [
       "<span style=\"color:cyan\"> |-Score: 0.3928571343421936</span>"
      ],
      "text/plain": [
       "<IPython.core.display.HTML object>"
      ]
     },
     "metadata": {},
     "output_type": "display_data"
    },
    {
     "data": {
      "text/html": [
       "<span style=\"color:cyan\"> |-Best step: 1</span>"
      ],
      "text/plain": [
       "<IPython.core.display.HTML object>"
      ]
     },
     "metadata": {},
     "output_type": "display_data"
    },
    {
     "data": {
      "text/html": [
       "<span style=\"color:#7E57C2\"><h2 style=\"font-size:16px\">Hyperparameters:</h2></span>"
      ],
      "text/plain": [
       "<IPython.core.display.HTML object>"
      ]
     },
     "metadata": {},
     "output_type": "display_data"
    },
    {
     "data": {
      "text/html": [
       "<span style=\"color:cyan\"> |-classification_head_1/dropout: 0</span>"
      ],
      "text/plain": [
       "<IPython.core.display.HTML object>"
      ]
     },
     "metadata": {},
     "output_type": "display_data"
    },
    {
     "data": {
      "text/html": [
       "<span style=\"color:blue\"> |-learning_rate: 0.001</span>"
      ],
      "text/plain": [
       "<IPython.core.display.HTML object>"
      ]
     },
     "metadata": {},
     "output_type": "display_data"
    },
    {
     "data": {
      "text/html": [
       "<span style=\"color:cyan\"> |-optimizer: adam</span>"
      ],
      "text/plain": [
       "<IPython.core.display.HTML object>"
      ]
     },
     "metadata": {},
     "output_type": "display_data"
    },
    {
     "data": {
      "text/html": [
       "<span style=\"color:blue\"> |-structured_data_block_1/dense_block_1/dropout: 0.5</span>"
      ],
      "text/plain": [
       "<IPython.core.display.HTML object>"
      ]
     },
     "metadata": {},
     "output_type": "display_data"
    },
    {
     "data": {
      "text/html": [
       "<span style=\"color:cyan\"> |-structured_data_block_1/dense_block_1/num_layers: 3</span>"
      ],
      "text/plain": [
       "<IPython.core.display.HTML object>"
      ]
     },
     "metadata": {},
     "output_type": "display_data"
    },
    {
     "data": {
      "text/html": [
       "<span style=\"color:blue\"> |-structured_data_block_1/dense_block_1/units_0: 512</span>"
      ],
      "text/plain": [
       "<IPython.core.display.HTML object>"
      ]
     },
     "metadata": {},
     "output_type": "display_data"
    },
    {
     "data": {
      "text/html": [
       "<span style=\"color:cyan\"> |-structured_data_block_1/dense_block_1/units_1: 256</span>"
      ],
      "text/plain": [
       "<IPython.core.display.HTML object>"
      ]
     },
     "metadata": {},
     "output_type": "display_data"
    },
    {
     "data": {
      "text/html": [
       "<span style=\"color:blue\"> |-structured_data_block_1/dense_block_1/units_2: 512</span>"
      ],
      "text/plain": [
       "<IPython.core.display.HTML object>"
      ]
     },
     "metadata": {},
     "output_type": "display_data"
    },
    {
     "data": {
      "text/html": [
       "<span style=\"color:cyan\"> |-structured_data_block_1/dense_block_1/use_batchnorm: False</span>"
      ],
      "text/plain": [
       "<IPython.core.display.HTML object>"
      ]
     },
     "metadata": {},
     "output_type": "display_data"
    },
    {
     "data": {
      "text/html": [
       "<span style=\"color:#4527A0\"><h1 style=\"font-size:18px\">Starting new trial</h1></span>"
      ],
      "text/plain": [
       "<IPython.core.display.HTML object>"
      ]
     },
     "metadata": {},
     "output_type": "display_data"
    },
    {
     "name": "stdout",
     "output_type": "stream",
     "text": [
      "Epoch 1/1000\n",
      "26/26 [==============================] - ETA: 0s - loss: 1.6305 - accuracy: 0.25 - ETA: 0s - loss: 1.5023 - accuracy: 0.29 - ETA: 0s - loss: 1.4098 - accuracy: 0.31 - ETA: 0s - loss: 1.4015 - accuracy: 0.35 - ETA: 0s - loss: 1.3811 - accuracy: 0.37 - 6s 215ms/step - loss: 1.3561 - accuracy: 0.3918 - val_loss: 1.5702 - val_accuracy: 0.3452\n",
      "Epoch 2/1000\n",
      "26/26 [==============================] - ETA: 0s - loss: 0.8316 - accuracy: 0.62 - ETA: 0s - loss: 1.0654 - accuracy: 0.56 - ETA: 0s - loss: 1.0046 - accuracy: 0.58 - ETA: 0s - loss: 0.9979 - accuracy: 0.59 - ETA: 0s - loss: 1.0131 - accuracy: 0.58 - ETA: 0s - loss: 1.0091 - accuracy: 0.58 - 1s 48ms/step - loss: 1.0091 - accuracy: 0.5865 - val_loss: 1.2780 - val_accuracy: 0.4405\n",
      "Epoch 3/1000\n",
      "26/26 [==============================] - ETA: 0s - loss: 0.8278 - accuracy: 0.59 - ETA: 0s - loss: 0.9337 - accuracy: 0.62 - ETA: 0s - loss: 0.8692 - accuracy: 0.65 - ETA: 0s - loss: 0.8881 - accuracy: 0.63 - ETA: 0s - loss: 0.9024 - accuracy: 0.63 - ETA: 0s - loss: 0.9035 - accuracy: 0.62 - 1s 55ms/step - loss: 0.9035 - accuracy: 0.6298 - val_loss: 1.1702 - val_accuracy: 0.4702\n",
      "Epoch 4/1000\n",
      "26/26 [==============================] - ETA: 0s - loss: 0.7935 - accuracy: 0.65 - ETA: 0s - loss: 0.8746 - accuracy: 0.62 - ETA: 0s - loss: 0.7980 - accuracy: 0.67 - ETA: 0s - loss: 0.7905 - accuracy: 0.67 - ETA: 0s - loss: 0.8145 - accuracy: 0.67 - ETA: 0s - loss: 0.8079 - accuracy: 0.67 - 1s 50ms/step - loss: 0.7912 - accuracy: 0.6863 - val_loss: 1.1322 - val_accuracy: 0.4881\n",
      "Epoch 5/1000\n",
      "26/26 [==============================] - ETA: 0s - loss: 0.6845 - accuracy: 0.71 - ETA: 0s - loss: 0.8645 - accuracy: 0.66 - ETA: 0s - loss: 0.7620 - accuracy: 0.70 - ETA: 0s - loss: 0.7485 - accuracy: 0.69 - ETA: 0s - loss: 0.7547 - accuracy: 0.69 - ETA: 0s - loss: 0.7790 - accuracy: 0.68 - 2s 65ms/step - loss: 0.7598 - accuracy: 0.6983 - val_loss: 1.0901 - val_accuracy: 0.4940\n",
      "Epoch 6/1000\n",
      "26/26 [==============================] - ETA: 0s - loss: 0.6960 - accuracy: 0.68 - ETA: 0s - loss: 0.7801 - accuracy: 0.71 - ETA: 0s - loss: 0.6730 - accuracy: 0.78 - ETA: 0s - loss: 0.6759 - accuracy: 0.75 - ETA: 0s - loss: 0.6754 - accuracy: 0.75 - ETA: 0s - loss: 0.6586 - accuracy: 0.76 - 1s 50ms/step - loss: 0.6586 - accuracy: 0.7620 - val_loss: 1.0911 - val_accuracy: 0.5298\n",
      "Epoch 7/1000\n",
      "26/26 [==============================] - ETA: 0s - loss: 0.6266 - accuracy: 0.71 - ETA: 0s - loss: 0.7117 - accuracy: 0.73 - ETA: 0s - loss: 0.6299 - accuracy: 0.76 - ETA: 0s - loss: 0.6214 - accuracy: 0.76 - ETA: 0s - loss: 0.6402 - accuracy: 0.76 - ETA: 0s - loss: 0.6286 - accuracy: 0.76 - 1s 56ms/step - loss: 0.6286 - accuracy: 0.7668 - val_loss: 1.0757 - val_accuracy: 0.5595\n",
      "Epoch 8/1000\n",
      "26/26 [==============================] - ETA: 0s - loss: 0.5659 - accuracy: 0.81 - ETA: 0s - loss: 0.6568 - accuracy: 0.78 - ETA: 0s - loss: 0.5832 - accuracy: 0.80 - ETA: 0s - loss: 0.5822 - accuracy: 0.79 - ETA: 0s - loss: 0.5990 - accuracy: 0.77 - ETA: 0s - loss: 0.5888 - accuracy: 0.78 - 1s 45ms/step - loss: 0.5888 - accuracy: 0.7885 - val_loss: 1.0636 - val_accuracy: 0.5655\n",
      "Epoch 9/1000\n",
      "26/26 [==============================] - ETA: 0s - loss: 0.5694 - accuracy: 0.68 - ETA: 0s - loss: 0.6351 - accuracy: 0.76 - ETA: 0s - loss: 0.5782 - accuracy: 0.80 - ETA: 0s - loss: 0.5605 - accuracy: 0.80 - ETA: 0s - loss: 0.5739 - accuracy: 0.80 - ETA: 0s - loss: 0.5642 - accuracy: 0.80 - 1s 54ms/step - loss: 0.5567 - accuracy: 0.8101 - val_loss: 1.0488 - val_accuracy: 0.5952\n",
      "Epoch 10/1000\n",
      "26/26 [==============================] - ETA: 0s - loss: 0.5496 - accuracy: 0.78 - ETA: 0s - loss: 0.6371 - accuracy: 0.77 - ETA: 0s - loss: 0.5451 - accuracy: 0.81 - ETA: 0s - loss: 0.5268 - accuracy: 0.82 - ETA: 0s - loss: 0.5445 - accuracy: 0.82 - ETA: 0s - loss: 0.5374 - accuracy: 0.82 - 1s 49ms/step - loss: 0.5284 - accuracy: 0.8329 - val_loss: 1.1485 - val_accuracy: 0.5476\n",
      "Epoch 11/1000\n",
      "26/26 [==============================] - ETA: 0s - loss: 0.4798 - accuracy: 0.84 - ETA: 0s - loss: 0.5638 - accuracy: 0.82 - ETA: 0s - loss: 0.4875 - accuracy: 0.84 - ETA: 0s - loss: 0.4851 - accuracy: 0.83 - ETA: 0s - loss: 0.4952 - accuracy: 0.83 - 2s 70ms/step - loss: 0.4893 - accuracy: 0.8353 - val_loss: 1.1002 - val_accuracy: 0.5595\n",
      "Epoch 12/1000\n",
      "26/26 [==============================] - ETA: 0s - loss: 0.4763 - accuracy: 0.87 - ETA: 0s - loss: 0.5157 - accuracy: 0.85 - ETA: 0s - loss: 0.4461 - accuracy: 0.89 - ETA: 0s - loss: 0.4390 - accuracy: 0.87 - ETA: 0s - loss: 0.4600 - accuracy: 0.86 - ETA: 0s - loss: 0.4492 - accuracy: 0.87 - 1s 54ms/step - loss: 0.4424 - accuracy: 0.8726 - val_loss: 1.0991 - val_accuracy: 0.5655\n",
      "Epoch 13/1000\n",
      "26/26 [==============================] - ETA: 0s - loss: 0.4227 - accuracy: 0.93 - ETA: 0s - loss: 0.4670 - accuracy: 0.86 - ETA: 0s - loss: 0.4499 - accuracy: 0.87 - ETA: 0s - loss: 0.4294 - accuracy: 0.87 - ETA: 0s - loss: 0.4415 - accuracy: 0.86 - ETA: 0s - loss: 0.4319 - accuracy: 0.87 - 1s 48ms/step - loss: 0.4224 - accuracy: 0.8810 - val_loss: 1.1237 - val_accuracy: 0.5595\n",
      "Epoch 14/1000\n",
      "26/26 [==============================] - ETA: 0s - loss: 0.5732 - accuracy: 0.84 - ETA: 0s - loss: 0.5309 - accuracy: 0.90 - ETA: 0s - loss: 0.4476 - accuracy: 0.91 - ETA: 0s - loss: 0.4191 - accuracy: 0.90 - ETA: 0s - loss: 0.4268 - accuracy: 0.89 - ETA: 0s - loss: 0.4203 - accuracy: 0.89 - 1s 52ms/step - loss: 0.4133 - accuracy: 0.8966 - val_loss: 1.1010 - val_accuracy: 0.5536\n",
      "Epoch 15/1000\n",
      "26/26 [==============================] - ETA: 0s - loss: 0.3981 - accuracy: 0.84 - ETA: 0s - loss: 0.4744 - accuracy: 0.88 - ETA: 0s - loss: 0.3924 - accuracy: 0.90 - ETA: 0s - loss: 0.3876 - accuracy: 0.89 - ETA: 0s - loss: 0.3897 - accuracy: 0.89 - ETA: 0s - loss: 0.3817 - accuracy: 0.89 - 2s 59ms/step - loss: 0.3817 - accuracy: 0.8918 - val_loss: 1.1410 - val_accuracy: 0.5417\n",
      "Epoch 16/1000\n",
      "26/26 [==============================] - ETA: 0s - loss: 0.4181 - accuracy: 0.84 - ETA: 0s - loss: 0.4018 - accuracy: 0.88 - ETA: 0s - loss: 0.3852 - accuracy: 0.89 - ETA: 0s - loss: 0.3586 - accuracy: 0.90 - ETA: 0s - loss: 0.3794 - accuracy: 0.89 - ETA: 0s - loss: 0.3652 - accuracy: 0.90 - 1s 52ms/step - loss: 0.3557 - accuracy: 0.9038 - val_loss: 1.1163 - val_accuracy: 0.5655\n",
      "Epoch 17/1000\n",
      "26/26 [==============================] - ETA: 0s - loss: 0.3982 - accuracy: 0.90 - ETA: 0s - loss: 0.3570 - accuracy: 0.91 - ETA: 0s - loss: 0.3574 - accuracy: 0.91 - ETA: 0s - loss: 0.3406 - accuracy: 0.90 - ETA: 0s - loss: 0.3630 - accuracy: 0.90 - ETA: 0s - loss: 0.3525 - accuracy: 0.90 - 2s 65ms/step - loss: 0.3473 - accuracy: 0.9111 - val_loss: 1.2396 - val_accuracy: 0.5298\n",
      "Epoch 18/1000\n",
      "26/26 [==============================] - ETA: 0s - loss: 0.4564 - accuracy: 0.84 - ETA: 0s - loss: 0.5123 - accuracy: 0.82 - ETA: 0s - loss: 0.3992 - accuracy: 0.87 - ETA: 0s - loss: 0.3670 - accuracy: 0.88 - ETA: 0s - loss: 0.3703 - accuracy: 0.88 - ETA: 0s - loss: 0.3543 - accuracy: 0.89 - 1s 49ms/step - loss: 0.3543 - accuracy: 0.8954 - val_loss: 1.1905 - val_accuracy: 0.5595\n",
      "Epoch 19/1000\n",
      "26/26 [==============================] - ETA: 0s - loss: 0.3338 - accuracy: 0.93 - ETA: 0s - loss: 0.4207 - accuracy: 0.88 - ETA: 0s - loss: 0.3429 - accuracy: 0.89 - ETA: 0s - loss: 0.3256 - accuracy: 0.90 - ETA: 0s - loss: 0.3267 - accuracy: 0.89 - ETA: 0s - loss: 0.3154 - accuracy: 0.90 - 1s 50ms/step - loss: 0.3154 - accuracy: 0.9075 - val_loss: 1.1750 - val_accuracy: 0.5417\n"
     ]
    },
    {
     "data": {
      "text/html": [
       "<span style=\"color:#4527A0\"><h1 style=\"font-size:18px\">Trial complete</h1></span>"
      ],
      "text/plain": [
       "<IPython.core.display.HTML object>"
      ]
     },
     "metadata": {},
     "output_type": "display_data"
    },
    {
     "data": {
      "text/html": [
       "<span style=\"color:#4527A0\"><h1 style=\"font-size:18px\">Trial summary</h1></span>"
      ],
      "text/plain": [
       "<IPython.core.display.HTML object>"
      ]
     },
     "metadata": {},
     "output_type": "display_data"
    },
    {
     "data": {
      "text/html": [
       "<span style=\"color:cyan\"> |-Trial ID: f6cec4f7b2512706d7d4d8b2197ac925</span>"
      ],
      "text/plain": [
       "<IPython.core.display.HTML object>"
      ]
     },
     "metadata": {},
     "output_type": "display_data"
    },
    {
     "data": {
      "text/html": [
       "<span style=\"color:cyan\"> |-Score: 0.5952380895614624</span>"
      ],
      "text/plain": [
       "<IPython.core.display.HTML object>"
      ]
     },
     "metadata": {},
     "output_type": "display_data"
    },
    {
     "data": {
      "text/html": [
       "<span style=\"color:cyan\"> |-Best step: 8</span>"
      ],
      "text/plain": [
       "<IPython.core.display.HTML object>"
      ]
     },
     "metadata": {},
     "output_type": "display_data"
    },
    {
     "data": {
      "text/html": [
       "<span style=\"color:#7E57C2\"><h2 style=\"font-size:16px\">Hyperparameters:</h2></span>"
      ],
      "text/plain": [
       "<IPython.core.display.HTML object>"
      ]
     },
     "metadata": {},
     "output_type": "display_data"
    },
    {
     "data": {
      "text/html": [
       "<span style=\"color:cyan\"> |-classification_head_1/dropout: 0</span>"
      ],
      "text/plain": [
       "<IPython.core.display.HTML object>"
      ]
     },
     "metadata": {},
     "output_type": "display_data"
    },
    {
     "data": {
      "text/html": [
       "<span style=\"color:blue\"> |-learning_rate: 0.001</span>"
      ],
      "text/plain": [
       "<IPython.core.display.HTML object>"
      ]
     },
     "metadata": {},
     "output_type": "display_data"
    },
    {
     "data": {
      "text/html": [
       "<span style=\"color:cyan\"> |-optimizer: adam</span>"
      ],
      "text/plain": [
       "<IPython.core.display.HTML object>"
      ]
     },
     "metadata": {},
     "output_type": "display_data"
    },
    {
     "data": {
      "text/html": [
       "<span style=\"color:blue\"> |-structured_data_block_1/dense_block_1/dropout: 0.25</span>"
      ],
      "text/plain": [
       "<IPython.core.display.HTML object>"
      ]
     },
     "metadata": {},
     "output_type": "display_data"
    },
    {
     "data": {
      "text/html": [
       "<span style=\"color:cyan\"> |-structured_data_block_1/dense_block_1/num_layers: 1</span>"
      ],
      "text/plain": [
       "<IPython.core.display.HTML object>"
      ]
     },
     "metadata": {},
     "output_type": "display_data"
    },
    {
     "data": {
      "text/html": [
       "<span style=\"color:blue\"> |-structured_data_block_1/dense_block_1/units_0: 256</span>"
      ],
      "text/plain": [
       "<IPython.core.display.HTML object>"
      ]
     },
     "metadata": {},
     "output_type": "display_data"
    },
    {
     "data": {
      "text/html": [
       "<span style=\"color:cyan\"> |-structured_data_block_1/dense_block_1/units_1: 128</span>"
      ],
      "text/plain": [
       "<IPython.core.display.HTML object>"
      ]
     },
     "metadata": {},
     "output_type": "display_data"
    },
    {
     "data": {
      "text/html": [
       "<span style=\"color:blue\"> |-structured_data_block_1/dense_block_1/units_2: 64</span>"
      ],
      "text/plain": [
       "<IPython.core.display.HTML object>"
      ]
     },
     "metadata": {},
     "output_type": "display_data"
    },
    {
     "data": {
      "text/html": [
       "<span style=\"color:cyan\"> |-structured_data_block_1/dense_block_1/use_batchnorm: True</span>"
      ],
      "text/plain": [
       "<IPython.core.display.HTML object>"
      ]
     },
     "metadata": {},
     "output_type": "display_data"
    },
    {
     "data": {
      "text/html": [
       "<span style=\"color:#4527A0\"><h1 style=\"font-size:18px\">Starting new trial</h1></span>"
      ],
      "text/plain": [
       "<IPython.core.display.HTML object>"
      ]
     },
     "metadata": {},
     "output_type": "display_data"
    },
    {
     "name": "stdout",
     "output_type": "stream",
     "text": [
      "Epoch 1/1000\n",
      "26/26 [==============================] - ETA: 0s - loss: 690.8748 - accuracy: 0.43 - ETA: 0s - loss: 950.0992 - accuracy: 0.29 - ETA: 0s - loss: 749.7695 - accuracy: 0.25 - ETA: 0s - loss: 631.6335 - accuracy: 0.25 - ETA: 0s - loss: 545.0711 - accuracy: 0.24 - 6s 218ms/step - loss: 496.5207 - accuracy: 0.2500 - val_loss: 39.8186 - val_accuracy: 0.2619\n",
      "Epoch 2/1000\n",
      "26/26 [==============================] - ETA: 0s - loss: 253.2592 - accuracy: 0.25 - ETA: 0s - loss: 164.5757 - accuracy: 0.28 - ETA: 0s - loss: 142.2554 - accuracy: 0.28 - ETA: 0s - loss: 141.2175 - accuracy: 0.27 - ETA: 0s - loss: 132.3676 - accuracy: 0.26 - 1s 43ms/step - loss: 129.7012 - accuracy: 0.2656 - val_loss: 6.3569 - val_accuracy: 0.3155\n",
      "Epoch 3/1000\n",
      "26/26 [==============================] - ETA: 0s - loss: 68.1057 - accuracy: 0.187 - ETA: 0s - loss: 72.2228 - accuracy: 0.213 - ETA: 0s - loss: 70.5681 - accuracy: 0.221 - ETA: 0s - loss: 67.9923 - accuracy: 0.230 - ETA: 0s - loss: 67.1108 - accuracy: 0.243 - 1s 49ms/step - loss: 65.6846 - accuracy: 0.2380 - val_loss: 2.5849 - val_accuracy: 0.2857\n",
      "Epoch 4/1000\n",
      "26/26 [==============================] - ETA: 0s - loss: 44.9887 - accuracy: 0.125 - ETA: 0s - loss: 83.5611 - accuracy: 0.232 - ETA: 0s - loss: 66.9850 - accuracy: 0.257 - ETA: 0s - loss: 64.4847 - accuracy: 0.255 - ETA: 0s - loss: 59.1482 - accuracy: 0.263 - 1s 41ms/step - loss: 56.7857 - accuracy: 0.2656 - val_loss: 1.7709 - val_accuracy: 0.2976\n",
      "Epoch 5/1000\n",
      "26/26 [==============================] - ETA: 0s - loss: 24.1604 - accuracy: 0.250 - ETA: 0s - loss: 48.1011 - accuracy: 0.224 - ETA: 0s - loss: 41.3207 - accuracy: 0.261 - ETA: 0s - loss: 39.8079 - accuracy: 0.270 - ETA: 0s - loss: 44.8921 - accuracy: 0.263 - 1s 52ms/step - loss: 43.6860 - accuracy: 0.2644 - val_loss: 1.5778 - val_accuracy: 0.2738\n",
      "Epoch 6/1000\n",
      "26/26 [==============================] - ETA: 0s - loss: 76.6513 - accuracy: 0.156 - ETA: 0s - loss: 33.7961 - accuracy: 0.209 - ETA: 0s - loss: 33.1002 - accuracy: 0.226 - ETA: 0s - loss: 31.0941 - accuracy: 0.240 - ETA: 0s - loss: 31.8478 - accuracy: 0.240 - 1s 44ms/step - loss: 31.6710 - accuracy: 0.2404 - val_loss: 1.8508 - val_accuracy: 0.2619\n",
      "Epoch 7/1000\n",
      "26/26 [==============================] - ETA: 0s - loss: 17.3339 - accuracy: 0.156 - ETA: 0s - loss: 15.4693 - accuracy: 0.218 - ETA: 0s - loss: 20.6691 - accuracy: 0.240 - ETA: 0s - loss: 25.4039 - accuracy: 0.236 - ETA: 0s - loss: 24.0539 - accuracy: 0.245 - 1s 39ms/step - loss: 24.3976 - accuracy: 0.2440 - val_loss: 1.6349 - val_accuracy: 0.2440\n",
      "Epoch 8/1000\n",
      "26/26 [==============================] - ETA: 0s - loss: 70.5842 - accuracy: 0.156 - ETA: 0s - loss: 50.3694 - accuracy: 0.187 - ETA: 0s - loss: 37.3790 - accuracy: 0.243 - ETA: 0s - loss: 30.5573 - accuracy: 0.241 - ETA: 0s - loss: 26.9707 - accuracy: 0.235 - ETA: 0s - loss: 23.9403 - accuracy: 0.235 - 1s 42ms/step - loss: 23.7590 - accuracy: 0.2308 - val_loss: 1.6629 - val_accuracy: 0.2679\n",
      "Epoch 9/1000\n",
      "26/26 [==============================] - ETA: 0s - loss: 10.1352 - accuracy: 0.250 - ETA: 0s - loss: 24.6581 - accuracy: 0.236 - ETA: 0s - loss: 20.8065 - accuracy: 0.242 - ETA: 0s - loss: 19.6750 - accuracy: 0.250 - ETA: 0s - loss: 20.3706 - accuracy: 0.257 - 1s 49ms/step - loss: 20.0220 - accuracy: 0.2572 - val_loss: 1.4972 - val_accuracy: 0.2500\n",
      "Epoch 10/1000\n",
      "26/26 [==============================] - ETA: 0s - loss: 19.7593 - accuracy: 0.343 - ETA: 0s - loss: 16.6490 - accuracy: 0.270 - ETA: 0s - loss: 16.6852 - accuracy: 0.231 - ETA: 0s - loss: 15.6613 - accuracy: 0.244 - ETA: 0s - loss: 16.0885 - accuracy: 0.243 - 1s 40ms/step - loss: 16.4590 - accuracy: 0.2404 - val_loss: 1.4441 - val_accuracy: 0.2381\n",
      "Epoch 11/1000\n",
      "26/26 [==============================] - ETA: 0s - loss: 14.0894 - accuracy: 0.250 - ETA: 0s - loss: 10.7948 - accuracy: 0.250 - ETA: 0s - loss: 9.8327 - accuracy: 0.247 - ETA: 0s - loss: 11.4142 - accuracy: 0.251 - ETA: 0s - loss: 10.7995 - accuracy: 0.248 - 1s 44ms/step - loss: 10.8588 - accuracy: 0.2524 - val_loss: 1.5464 - val_accuracy: 0.2619\n",
      "Epoch 12/1000\n",
      "26/26 [==============================] - ETA: 0s - loss: 11.9717 - accuracy: 0.312 - ETA: 0s - loss: 8.6994 - accuracy: 0.303 - ETA: 0s - loss: 8.8184 - accuracy: 0.25 - ETA: 0s - loss: 9.5049 - accuracy: 0.27 - ETA: 0s - loss: 9.0096 - accuracy: 0.27 - 1s 33ms/step - loss: 9.0465 - accuracy: 0.2704 - val_loss: 1.3973 - val_accuracy: 0.2500\n",
      "Epoch 13/1000\n",
      "26/26 [==============================] - ETA: 0s - loss: 10.5112 - accuracy: 0.312 - ETA: 0s - loss: 4.3183 - accuracy: 0.276 - ETA: 0s - loss: 6.4088 - accuracy: 0.28 - ETA: 0s - loss: 8.0816 - accuracy: 0.25 - ETA: 0s - loss: 11.5333 - accuracy: 0.267 - 1s 36ms/step - loss: 10.3980 - accuracy: 0.2644 - val_loss: 1.3881 - val_accuracy: 0.2500\n",
      "Epoch 14/1000\n",
      "26/26 [==============================] - ETA: 0s - loss: 20.9474 - accuracy: 0.312 - ETA: 0s - loss: 10.2602 - accuracy: 0.276 - ETA: 0s - loss: 8.4926 - accuracy: 0.238 - ETA: 0s - loss: 8.7371 - accuracy: 0.25 - ETA: 0s - loss: 10.0160 - accuracy: 0.248 - 1s 35ms/step - loss: 9.9598 - accuracy: 0.2512 - val_loss: 1.3845 - val_accuracy: 0.2500\n",
      "Epoch 15/1000\n",
      "26/26 [==============================] - ETA: 0s - loss: 9.4819 - accuracy: 0.31 - ETA: 0s - loss: 6.7096 - accuracy: 0.26 - ETA: 0s - loss: 6.3221 - accuracy: 0.24 - ETA: 0s - loss: 6.3239 - accuracy: 0.25 - ETA: 0s - loss: 5.8564 - accuracy: 0.25 - 1s 35ms/step - loss: 5.7717 - accuracy: 0.2644 - val_loss: 1.3990 - val_accuracy: 0.2560\n",
      "Epoch 16/1000\n",
      "26/26 [==============================] - ETA: 0s - loss: 8.7634 - accuracy: 0.28 - ETA: 0s - loss: 23.9804 - accuracy: 0.236 - ETA: 0s - loss: 16.6899 - accuracy: 0.229 - ETA: 0s - loss: 12.8874 - accuracy: 0.243 - ETA: 0s - loss: 11.1587 - accuracy: 0.247 - 1s 35ms/step - loss: 10.7606 - accuracy: 0.2464 - val_loss: 1.3870 - val_accuracy: 0.2500\n",
      "Epoch 17/1000\n",
      "26/26 [==============================] - ETA: 0s - loss: 3.0913 - accuracy: 0.28 - ETA: 0s - loss: 9.5260 - accuracy: 0.27 - ETA: 0s - loss: 7.5378 - accuracy: 0.26 - ETA: 0s - loss: 7.4235 - accuracy: 0.26 - ETA: 0s - loss: 7.8615 - accuracy: 0.26 - 1s 47ms/step - loss: 7.6398 - accuracy: 0.2632 - val_loss: 1.5504 - val_accuracy: 0.2440\n",
      "Epoch 18/1000\n",
      "26/26 [==============================] - ETA: 0s - loss: 8.6141 - accuracy: 0.31 - ETA: 0s - loss: 5.9352 - accuracy: 0.28 - ETA: 0s - loss: 5.1170 - accuracy: 0.26 - ETA: 0s - loss: 4.9799 - accuracy: 0.25 - ETA: 0s - loss: 5.2689 - accuracy: 0.26 - 1s 36ms/step - loss: 5.3490 - accuracy: 0.2644 - val_loss: 1.5620 - val_accuracy: 0.2321\n",
      "Epoch 19/1000\n",
      "26/26 [==============================] - ETA: 0s - loss: 11.8595 - accuracy: 0.281 - ETA: 0s - loss: 4.9454 - accuracy: 0.255 - ETA: 0s - loss: 5.8408 - accuracy: 0.25 - ETA: 0s - loss: 5.8237 - accuracy: 0.24 - ETA: 0s - loss: 5.8347 - accuracy: 0.25 - 1s 34ms/step - loss: 6.0685 - accuracy: 0.2632 - val_loss: 1.3767 - val_accuracy: 0.2440\n",
      "Epoch 20/1000\n",
      "26/26 [==============================] - ETA: 0s - loss: 3.4577 - accuracy: 0.31 - ETA: 0s - loss: 5.3125 - accuracy: 0.30 - ETA: 0s - loss: 4.3501 - accuracy: 0.26 - ETA: 0s - loss: 4.3789 - accuracy: 0.26 - ETA: 0s - loss: 5.0120 - accuracy: 0.27 - 1s 36ms/step - loss: 4.9873 - accuracy: 0.2704 - val_loss: 1.3810 - val_accuracy: 0.2381\n",
      "Epoch 21/1000\n",
      "26/26 [==============================] - ETA: 0s - loss: 5.2359 - accuracy: 0.31 - ETA: 0s - loss: 31.3570 - accuracy: 0.276 - ETA: 0s - loss: 19.0851 - accuracy: 0.266 - ETA: 0s - loss: 15.2739 - accuracy: 0.260 - ETA: 0s - loss: 12.6612 - accuracy: 0.258 - 1s 35ms/step - loss: 11.6784 - accuracy: 0.2608 - val_loss: 1.3764 - val_accuracy: 0.2440\n",
      "Epoch 22/1000\n",
      "26/26 [==============================] - ETA: 0s - loss: 3.0699 - accuracy: 0.18 - ETA: 0s - loss: 4.5467 - accuracy: 0.25 - ETA: 0s - loss: 3.8659 - accuracy: 0.22 - ETA: 0s - loss: 3.8239 - accuracy: 0.24 - ETA: 0s - loss: 4.0063 - accuracy: 0.24 - 1s 34ms/step - loss: 3.9613 - accuracy: 0.2500 - val_loss: 1.3827 - val_accuracy: 0.2500\n",
      "Epoch 23/1000\n"
     ]
    },
    {
     "name": "stdout",
     "output_type": "stream",
     "text": [
      "26/26 [==============================] - ETA: 0s - loss: 12.4315 - accuracy: 0.343 - ETA: 0s - loss: 4.4438 - accuracy: 0.303 - ETA: 0s - loss: 5.8917 - accuracy: 0.26 - ETA: 0s - loss: 5.1521 - accuracy: 0.26 - ETA: 0s - loss: 5.4374 - accuracy: 0.26 - 1s 47ms/step - loss: 5.3347 - accuracy: 0.2656 - val_loss: 1.4119 - val_accuracy: 0.2500\n",
      "Epoch 24/1000\n",
      "26/26 [==============================] - ETA: 0s - loss: 4.1191 - accuracy: 0.25 - ETA: 0s - loss: 2.3884 - accuracy: 0.30 - ETA: 0s - loss: 2.6042 - accuracy: 0.26 - ETA: 0s - loss: 5.2291 - accuracy: 0.24 - ETA: 0s - loss: 5.5930 - accuracy: 0.26 - 1s 39ms/step - loss: 5.2734 - accuracy: 0.2620 - val_loss: 1.3740 - val_accuracy: 0.2500\n",
      "Epoch 25/1000\n",
      "26/26 [==============================] - ETA: 0s - loss: 6.7647 - accuracy: 0.21 - ETA: 0s - loss: 2.9459 - accuracy: 0.25 - ETA: 0s - loss: 3.0170 - accuracy: 0.23 - ETA: 0s - loss: 3.4752 - accuracy: 0.25 - ETA: 0s - loss: 3.9616 - accuracy: 0.25 - 1s 41ms/step - loss: 3.9907 - accuracy: 0.2548 - val_loss: 1.3692 - val_accuracy: 0.2560\n",
      "Epoch 26/1000\n",
      "26/26 [==============================] - ETA: 0s - loss: 9.2224 - accuracy: 0.28 - ETA: 0s - loss: 3.4900 - accuracy: 0.29 - ETA: 0s - loss: 3.4292 - accuracy: 0.25 - ETA: 0s - loss: 3.2184 - accuracy: 0.25 - ETA: 0s - loss: 3.0888 - accuracy: 0.25 - 1s 37ms/step - loss: 3.0485 - accuracy: 0.2584 - val_loss: 1.3617 - val_accuracy: 0.2560\n",
      "Epoch 27/1000\n",
      "26/26 [==============================] - ETA: 0s - loss: 4.3508 - accuracy: 0.31 - ETA: 0s - loss: 2.5290 - accuracy: 0.28 - ETA: 0s - loss: 3.1119 - accuracy: 0.28 - ETA: 0s - loss: 3.4146 - accuracy: 0.27 - ETA: 0s - loss: 3.2232 - accuracy: 0.27 - 1s 37ms/step - loss: 3.1970 - accuracy: 0.2740 - val_loss: 1.3583 - val_accuracy: 0.2679\n",
      "Epoch 28/1000\n",
      "26/26 [==============================] - ETA: 0s - loss: 3.7331 - accuracy: 0.37 - ETA: 0s - loss: 2.7792 - accuracy: 0.31 - ETA: 0s - loss: 2.4616 - accuracy: 0.28 - ETA: 0s - loss: 2.3773 - accuracy: 0.26 - ETA: 0s - loss: 2.5517 - accuracy: 0.26 - 1s 41ms/step - loss: 2.6993 - accuracy: 0.2656 - val_loss: 1.3588 - val_accuracy: 0.2619\n",
      "Epoch 29/1000\n",
      "26/26 [==============================] - ETA: 0s - loss: 1.3051 - accuracy: 0.31 - ETA: 0s - loss: 2.5582 - accuracy: 0.31 - ETA: 0s - loss: 2.4953 - accuracy: 0.28 - ETA: 0s - loss: 2.9557 - accuracy: 0.27 - ETA: 0s - loss: 4.1245 - accuracy: 0.27 - 1s 46ms/step - loss: 3.9951 - accuracy: 0.2680 - val_loss: 1.3688 - val_accuracy: 0.2619\n",
      "Epoch 30/1000\n",
      "26/26 [==============================] - ETA: 0s - loss: 2.0243 - accuracy: 0.25 - ETA: 0s - loss: 2.7361 - accuracy: 0.28 - ETA: 0s - loss: 2.5599 - accuracy: 0.25 - ETA: 0s - loss: 2.5556 - accuracy: 0.24 - ETA: 0s - loss: 2.5655 - accuracy: 0.24 - 1s 35ms/step - loss: 2.5413 - accuracy: 0.2404 - val_loss: 1.3608 - val_accuracy: 0.2679\n",
      "Epoch 31/1000\n",
      "26/26 [==============================] - ETA: 0s - loss: 1.4315 - accuracy: 0.37 - ETA: 0s - loss: 1.5443 - accuracy: 0.33 - ETA: 0s - loss: 2.6278 - accuracy: 0.28 - ETA: 0s - loss: 2.5333 - accuracy: 0.28 - ETA: 0s - loss: 2.5174 - accuracy: 0.27 - 1s 36ms/step - loss: 2.6147 - accuracy: 0.2716 - val_loss: 1.3669 - val_accuracy: 0.2619\n",
      "Epoch 32/1000\n",
      "26/26 [==============================] - ETA: 0s - loss: 1.5960 - accuracy: 0.25 - ETA: 0s - loss: 1.9235 - accuracy: 0.27 - ETA: 0s - loss: 1.9174 - accuracy: 0.23 - ETA: 0s - loss: 2.3368 - accuracy: 0.24 - ETA: 0s - loss: 2.2089 - accuracy: 0.25 - 1s 35ms/step - loss: 2.1771 - accuracy: 0.2572 - val_loss: 1.3736 - val_accuracy: 0.2560\n",
      "Epoch 33/1000\n",
      "26/26 [==============================] - ETA: 0s - loss: 1.7093 - accuracy: 0.31 - ETA: 0s - loss: 1.8653 - accuracy: 0.31 - ETA: 0s - loss: 2.0829 - accuracy: 0.26 - ETA: 0s - loss: 1.8896 - accuracy: 0.26 - ETA: 0s - loss: 2.0005 - accuracy: 0.26 - 1s 39ms/step - loss: 1.9863 - accuracy: 0.2644 - val_loss: 1.3614 - val_accuracy: 0.2679\n",
      "Epoch 34/1000\n",
      "26/26 [==============================] - ETA: 0s - loss: 1.5976 - accuracy: 0.25 - ETA: 0s - loss: 2.0857 - accuracy: 0.26 - ETA: 0s - loss: 1.8905 - accuracy: 0.25 - ETA: 0s - loss: 2.0727 - accuracy: 0.24 - ETA: 0s - loss: 2.7037 - accuracy: 0.24 - 1s 34ms/step - loss: 2.6845 - accuracy: 0.2512 - val_loss: 1.3594 - val_accuracy: 0.2679\n",
      "Epoch 35/1000\n",
      "26/26 [==============================] - ETA: 0s - loss: 2.4165 - accuracy: 0.28 - ETA: 0s - loss: 2.0094 - accuracy: 0.27 - ETA: 0s - loss: 2.2534 - accuracy: 0.25 - ETA: 0s - loss: 2.2451 - accuracy: 0.26 - ETA: 0s - loss: 2.8995 - accuracy: 0.26 - 1s 45ms/step - loss: 2.9978 - accuracy: 0.2560 - val_loss: 1.3612 - val_accuracy: 0.2619\n",
      "Epoch 36/1000\n",
      "26/26 [==============================] - ETA: 0s - loss: 1.3902 - accuracy: 0.28 - ETA: 0s - loss: 3.2976 - accuracy: 0.30 - ETA: 0s - loss: 2.5590 - accuracy: 0.26 - ETA: 0s - loss: 2.4755 - accuracy: 0.25 - ETA: 0s - loss: 3.1589 - accuracy: 0.25 - 1s 43ms/step - loss: 3.0307 - accuracy: 0.2548 - val_loss: 1.3720 - val_accuracy: 0.2619\n",
      "Epoch 37/1000\n",
      "26/26 [==============================] - ETA: 0s - loss: 2.2516 - accuracy: 0.25 - ETA: 0s - loss: 2.2099 - accuracy: 0.29 - ETA: 0s - loss: 2.0325 - accuracy: 0.26 - ETA: 0s - loss: 2.2310 - accuracy: 0.26 - ETA: 0s - loss: 2.3873 - accuracy: 0.25 - 1s 43ms/step - loss: 2.3767 - accuracy: 0.2608 - val_loss: 1.3771 - val_accuracy: 0.2679\n"
     ]
    },
    {
     "data": {
      "text/html": [
       "<span style=\"color:#4527A0\"><h1 style=\"font-size:18px\">Trial complete</h1></span>"
      ],
      "text/plain": [
       "<IPython.core.display.HTML object>"
      ]
     },
     "metadata": {},
     "output_type": "display_data"
    },
    {
     "data": {
      "text/html": [
       "<span style=\"color:#4527A0\"><h1 style=\"font-size:18px\">Trial summary</h1></span>"
      ],
      "text/plain": [
       "<IPython.core.display.HTML object>"
      ]
     },
     "metadata": {},
     "output_type": "display_data"
    },
    {
     "data": {
      "text/html": [
       "<span style=\"color:cyan\"> |-Trial ID: 91baab896fb64f27d2cef1c385026dcd</span>"
      ],
      "text/plain": [
       "<IPython.core.display.HTML object>"
      ]
     },
     "metadata": {},
     "output_type": "display_data"
    },
    {
     "data": {
      "text/html": [
       "<span style=\"color:cyan\"> |-Score: 0.3154761791229248</span>"
      ],
      "text/plain": [
       "<IPython.core.display.HTML object>"
      ]
     },
     "metadata": {},
     "output_type": "display_data"
    },
    {
     "data": {
      "text/html": [
       "<span style=\"color:cyan\"> |-Best step: 1</span>"
      ],
      "text/plain": [
       "<IPython.core.display.HTML object>"
      ]
     },
     "metadata": {},
     "output_type": "display_data"
    },
    {
     "data": {
      "text/html": [
       "<span style=\"color:#7E57C2\"><h2 style=\"font-size:16px\">Hyperparameters:</h2></span>"
      ],
      "text/plain": [
       "<IPython.core.display.HTML object>"
      ]
     },
     "metadata": {},
     "output_type": "display_data"
    },
    {
     "data": {
      "text/html": [
       "<span style=\"color:cyan\"> |-classification_head_1/dropout: 0</span>"
      ],
      "text/plain": [
       "<IPython.core.display.HTML object>"
      ]
     },
     "metadata": {},
     "output_type": "display_data"
    },
    {
     "data": {
      "text/html": [
       "<span style=\"color:blue\"> |-learning_rate: 0.001</span>"
      ],
      "text/plain": [
       "<IPython.core.display.HTML object>"
      ]
     },
     "metadata": {},
     "output_type": "display_data"
    },
    {
     "data": {
      "text/html": [
       "<span style=\"color:cyan\"> |-optimizer: adam</span>"
      ],
      "text/plain": [
       "<IPython.core.display.HTML object>"
      ]
     },
     "metadata": {},
     "output_type": "display_data"
    },
    {
     "data": {
      "text/html": [
       "<span style=\"color:blue\"> |-structured_data_block_1/dense_block_1/dropout: 0.25</span>"
      ],
      "text/plain": [
       "<IPython.core.display.HTML object>"
      ]
     },
     "metadata": {},
     "output_type": "display_data"
    },
    {
     "data": {
      "text/html": [
       "<span style=\"color:cyan\"> |-structured_data_block_1/dense_block_1/num_layers: 3</span>"
      ],
      "text/plain": [
       "<IPython.core.display.HTML object>"
      ]
     },
     "metadata": {},
     "output_type": "display_data"
    },
    {
     "data": {
      "text/html": [
       "<span style=\"color:blue\"> |-structured_data_block_1/dense_block_1/units_0: 32</span>"
      ],
      "text/plain": [
       "<IPython.core.display.HTML object>"
      ]
     },
     "metadata": {},
     "output_type": "display_data"
    },
    {
     "data": {
      "text/html": [
       "<span style=\"color:cyan\"> |-structured_data_block_1/dense_block_1/units_1: 16</span>"
      ],
      "text/plain": [
       "<IPython.core.display.HTML object>"
      ]
     },
     "metadata": {},
     "output_type": "display_data"
    },
    {
     "data": {
      "text/html": [
       "<span style=\"color:blue\"> |-structured_data_block_1/dense_block_1/units_2: 128</span>"
      ],
      "text/plain": [
       "<IPython.core.display.HTML object>"
      ]
     },
     "metadata": {},
     "output_type": "display_data"
    },
    {
     "data": {
      "text/html": [
       "<span style=\"color:cyan\"> |-structured_data_block_1/dense_block_1/use_batchnorm: False</span>"
      ],
      "text/plain": [
       "<IPython.core.display.HTML object>"
      ]
     },
     "metadata": {},
     "output_type": "display_data"
    },
    {
     "data": {
      "text/html": [
       "<span style=\"color:#4527A0\"><h1 style=\"font-size:18px\">Starting new trial</h1></span>"
      ],
      "text/plain": [
       "<IPython.core.display.HTML object>"
      ]
     },
     "metadata": {},
     "output_type": "display_data"
    },
    {
     "name": "stdout",
     "output_type": "stream",
     "text": [
      "Epoch 1/1000\n",
      "26/26 [==============================] - ETA: 0s - loss: 2.2751 - accuracy: 0.28 - ETA: 0s - loss: 1.6893 - accuracy: 0.29 - ETA: 0s - loss: 1.5902 - accuracy: 0.29 - ETA: 0s - loss: 1.5569 - accuracy: 0.29 - ETA: 0s - loss: 1.5138 - accuracy: 0.32 - ETA: 0s - loss: 1.4946 - accuracy: 0.32 - 6s 223ms/step - loss: 1.4833 - accuracy: 0.3365 - val_loss: 1.3195 - val_accuracy: 0.3274\n",
      "Epoch 2/1000\n",
      "26/26 [==============================] - ETA: 0s - loss: 1.3280 - accuracy: 0.37 - ETA: 0s - loss: 1.3745 - accuracy: 0.37 - ETA: 0s - loss: 1.3191 - accuracy: 0.39 - ETA: 0s - loss: 1.3001 - accuracy: 0.41 - ETA: 0s - loss: 1.2753 - accuracy: 0.43 - ETA: 0s - loss: 1.2533 - accuracy: 0.43 - 1s 47ms/step - loss: 1.2533 - accuracy: 0.4387 - val_loss: 1.2596 - val_accuracy: 0.3333\n",
      "Epoch 3/1000\n",
      "26/26 [==============================] - ETA: 0s - loss: 1.1121 - accuracy: 0.59 - ETA: 0s - loss: 1.2269 - accuracy: 0.46 - ETA: 0s - loss: 1.1833 - accuracy: 0.48 - ETA: 0s - loss: 1.1834 - accuracy: 0.47 - ETA: 0s - loss: 1.1667 - accuracy: 0.48 - ETA: 0s - loss: 1.1477 - accuracy: 0.49 - 1s 43ms/step - loss: 1.1477 - accuracy: 0.4952 - val_loss: 1.1683 - val_accuracy: 0.4345\n",
      "Epoch 4/1000\n",
      "26/26 [==============================] - ETA: 0s - loss: 1.0174 - accuracy: 0.50 - ETA: 0s - loss: 1.2095 - accuracy: 0.42 - ETA: 0s - loss: 1.1082 - accuracy: 0.50 - ETA: 0s - loss: 1.0949 - accuracy: 0.50 - ETA: 0s - loss: 1.1095 - accuracy: 0.48 - ETA: 0s - loss: 1.1102 - accuracy: 0.48 - ETA: 0s - loss: 1.1040 - accuracy: 0.48 - 1s 51ms/step - loss: 1.0913 - accuracy: 0.4940 - val_loss: 1.1251 - val_accuracy: 0.5298\n",
      "Epoch 5/1000\n",
      "26/26 [==============================] - ETA: 0s - loss: 0.9720 - accuracy: 0.46 - ETA: 0s - loss: 1.1290 - accuracy: 0.50 - ETA: 0s - loss: 1.0804 - accuracy: 0.54 - ETA: 0s - loss: 1.0811 - accuracy: 0.52 - ETA: 0s - loss: 1.0693 - accuracy: 0.52 - ETA: 0s - loss: 1.0728 - accuracy: 0.51 - 2s 63ms/step - loss: 1.0526 - accuracy: 0.5276 - val_loss: 1.0796 - val_accuracy: 0.5417\n",
      "Epoch 6/1000\n",
      "26/26 [==============================] - ETA: 0s - loss: 0.9258 - accuracy: 0.59 - ETA: 0s - loss: 1.0952 - accuracy: 0.53 - ETA: 0s - loss: 1.0517 - accuracy: 0.52 - ETA: 0s - loss: 1.0479 - accuracy: 0.53 - ETA: 0s - loss: 1.0378 - accuracy: 0.56 - ETA: 0s - loss: 1.0350 - accuracy: 0.55 - 1s 48ms/step - loss: 1.0350 - accuracy: 0.5505 - val_loss: 1.0875 - val_accuracy: 0.5595\n",
      "Epoch 7/1000\n",
      "26/26 [==============================] - ETA: 0s - loss: 1.1147 - accuracy: 0.59 - ETA: 0s - loss: 1.0945 - accuracy: 0.56 - ETA: 0s - loss: 1.0457 - accuracy: 0.55 - ETA: 0s - loss: 1.0538 - accuracy: 0.54 - ETA: 0s - loss: 1.0463 - accuracy: 0.54 - ETA: 0s - loss: 1.0318 - accuracy: 0.55 - 1s 51ms/step - loss: 1.0157 - accuracy: 0.5601 - val_loss: 1.1120 - val_accuracy: 0.5000\n",
      "Epoch 8/1000\n",
      "26/26 [==============================] - ETA: 0s - loss: 0.8593 - accuracy: 0.65 - ETA: 0s - loss: 1.0378 - accuracy: 0.56 - ETA: 0s - loss: 0.9977 - accuracy: 0.57 - ETA: 0s - loss: 0.9746 - accuracy: 0.57 - ETA: 0s - loss: 0.9653 - accuracy: 0.58 - 1s 48ms/step - loss: 0.9398 - accuracy: 0.6022 - val_loss: 1.0595 - val_accuracy: 0.5476\n",
      "Epoch 9/1000\n",
      "26/26 [==============================] - ETA: 0s - loss: 0.8472 - accuracy: 0.56 - ETA: 0s - loss: 1.0282 - accuracy: 0.57 - ETA: 0s - loss: 0.9429 - accuracy: 0.60 - ETA: 0s - loss: 0.9470 - accuracy: 0.58 - ETA: 0s - loss: 0.9403 - accuracy: 0.60 - ETA: 0s - loss: 0.9365 - accuracy: 0.60 - 1s 53ms/step - loss: 0.9218 - accuracy: 0.6094 - val_loss: 1.0686 - val_accuracy: 0.5238\n",
      "Epoch 10/1000\n",
      "26/26 [==============================] - ETA: 0s - loss: 1.0292 - accuracy: 0.59 - ETA: 0s - loss: 0.9815 - accuracy: 0.58 - ETA: 0s - loss: 0.8777 - accuracy: 0.64 - ETA: 0s - loss: 0.8916 - accuracy: 0.62 - ETA: 0s - loss: 0.8831 - accuracy: 0.64 - ETA: 0s - loss: 0.9010 - accuracy: 0.63 - 1s 37ms/step - loss: 0.8892 - accuracy: 0.6346 - val_loss: 1.1324 - val_accuracy: 0.4524\n",
      "Epoch 11/1000\n",
      "26/26 [==============================] - ETA: 0s - loss: 0.8262 - accuracy: 0.59 - ETA: 0s - loss: 0.9831 - accuracy: 0.57 - ETA: 0s - loss: 0.8905 - accuracy: 0.61 - ETA: 0s - loss: 0.8915 - accuracy: 0.61 - ETA: 0s - loss: 0.8906 - accuracy: 0.61 - ETA: 0s - loss: 0.8960 - accuracy: 0.60 - 1s 48ms/step - loss: 0.8749 - accuracy: 0.6214 - val_loss: 1.1426 - val_accuracy: 0.5119\n",
      "Epoch 12/1000\n",
      "26/26 [==============================] - ETA: 0s - loss: 0.8307 - accuracy: 0.65 - ETA: 0s - loss: 1.0329 - accuracy: 0.56 - ETA: 0s - loss: 0.9363 - accuracy: 0.59 - ETA: 0s - loss: 0.9072 - accuracy: 0.61 - ETA: 0s - loss: 0.9147 - accuracy: 0.61 - ETA: 0s - loss: 0.9106 - accuracy: 0.61 - 1s 45ms/step - loss: 0.8931 - accuracy: 0.6178 - val_loss: 1.1436 - val_accuracy: 0.4881\n",
      "Epoch 13/1000\n",
      "26/26 [==============================] - ETA: 0s - loss: 0.8998 - accuracy: 0.62 - ETA: 0s - loss: 0.9930 - accuracy: 0.58 - ETA: 0s - loss: 0.8900 - accuracy: 0.63 - ETA: 0s - loss: 0.8750 - accuracy: 0.62 - ETA: 0s - loss: 0.8725 - accuracy: 0.63 - ETA: 0s - loss: 0.8560 - accuracy: 0.65 - 1s 39ms/step - loss: 0.8560 - accuracy: 0.6575 - val_loss: 1.1899 - val_accuracy: 0.5060\n",
      "Epoch 14/1000\n",
      "26/26 [==============================] - ETA: 0s - loss: 0.7540 - accuracy: 0.68 - ETA: 0s - loss: 0.9286 - accuracy: 0.62 - ETA: 0s - loss: 0.8334 - accuracy: 0.65 - ETA: 0s - loss: 0.8611 - accuracy: 0.64 - ETA: 0s - loss: 0.8420 - accuracy: 0.65 - ETA: 0s - loss: 0.8215 - accuracy: 0.65 - 1s 41ms/step - loss: 0.8215 - accuracy: 0.6587 - val_loss: 1.1860 - val_accuracy: 0.5000\n",
      "Epoch 15/1000\n",
      "26/26 [==============================] - ETA: 0s - loss: 0.6975 - accuracy: 0.75 - ETA: 0s - loss: 0.8897 - accuracy: 0.64 - ETA: 0s - loss: 0.8092 - accuracy: 0.65 - ETA: 0s - loss: 0.8305 - accuracy: 0.64 - ETA: 0s - loss: 0.8227 - accuracy: 0.64 - ETA: 0s - loss: 0.8092 - accuracy: 0.65 - 1s 37ms/step - loss: 0.8092 - accuracy: 0.6562 - val_loss: 1.1894 - val_accuracy: 0.4583\n",
      "Epoch 16/1000\n",
      "26/26 [==============================] - ETA: 0s - loss: 0.7476 - accuracy: 0.62 - ETA: 0s - loss: 0.8411 - accuracy: 0.65 - ETA: 0s - loss: 0.7911 - accuracy: 0.67 - ETA: 0s - loss: 0.7962 - accuracy: 0.66 - ETA: 0s - loss: 0.8106 - accuracy: 0.65 - ETA: 0s - loss: 0.7970 - accuracy: 0.65 - 1s 47ms/step - loss: 0.7840 - accuracy: 0.6635 - val_loss: 1.2007 - val_accuracy: 0.5357\n",
      "Epoch 17/1000\n",
      "26/26 [==============================] - ETA: 0s - loss: 0.7926 - accuracy: 0.68 - ETA: 0s - loss: 0.9191 - accuracy: 0.65 - ETA: 0s - loss: 0.8122 - accuracy: 0.68 - ETA: 0s - loss: 0.8272 - accuracy: 0.67 - ETA: 0s - loss: 0.8171 - accuracy: 0.68 - ETA: 0s - loss: 0.8132 - accuracy: 0.68 - 1s 38ms/step - loss: 0.8068 - accuracy: 0.6875 - val_loss: 1.2243 - val_accuracy: 0.4762\n",
      "Epoch 18/1000\n",
      "26/26 [==============================] - ETA: 0s - loss: 0.6571 - accuracy: 0.65 - ETA: 0s - loss: 0.8569 - accuracy: 0.62 - ETA: 0s - loss: 0.7827 - accuracy: 0.66 - ETA: 0s - loss: 0.7947 - accuracy: 0.67 - ETA: 0s - loss: 0.7810 - accuracy: 0.68 - ETA: 0s - loss: 0.7621 - accuracy: 0.69 - 1s 37ms/step - loss: 0.7621 - accuracy: 0.6911 - val_loss: 1.2133 - val_accuracy: 0.4167\n"
     ]
    },
    {
     "data": {
      "text/html": [
       "<span style=\"color:#4527A0\"><h1 style=\"font-size:18px\">Trial complete</h1></span>"
      ],
      "text/plain": [
       "<IPython.core.display.HTML object>"
      ]
     },
     "metadata": {},
     "output_type": "display_data"
    },
    {
     "data": {
      "text/html": [
       "<span style=\"color:#4527A0\"><h1 style=\"font-size:18px\">Trial summary</h1></span>"
      ],
      "text/plain": [
       "<IPython.core.display.HTML object>"
      ]
     },
     "metadata": {},
     "output_type": "display_data"
    },
    {
     "data": {
      "text/html": [
       "<span style=\"color:cyan\"> |-Trial ID: d6ec4a37626ab0b935168345fe465c63</span>"
      ],
      "text/plain": [
       "<IPython.core.display.HTML object>"
      ]
     },
     "metadata": {},
     "output_type": "display_data"
    },
    {
     "data": {
      "text/html": [
       "<span style=\"color:cyan\"> |-Score: 0.5595238208770752</span>"
      ],
      "text/plain": [
       "<IPython.core.display.HTML object>"
      ]
     },
     "metadata": {},
     "output_type": "display_data"
    },
    {
     "data": {
      "text/html": [
       "<span style=\"color:cyan\"> |-Best step: 5</span>"
      ],
      "text/plain": [
       "<IPython.core.display.HTML object>"
      ]
     },
     "metadata": {},
     "output_type": "display_data"
    },
    {
     "data": {
      "text/html": [
       "<span style=\"color:#7E57C2\"><h2 style=\"font-size:16px\">Hyperparameters:</h2></span>"
      ],
      "text/plain": [
       "<IPython.core.display.HTML object>"
      ]
     },
     "metadata": {},
     "output_type": "display_data"
    },
    {
     "data": {
      "text/html": [
       "<span style=\"color:cyan\"> |-classification_head_1/dropout: 0</span>"
      ],
      "text/plain": [
       "<IPython.core.display.HTML object>"
      ]
     },
     "metadata": {},
     "output_type": "display_data"
    },
    {
     "data": {
      "text/html": [
       "<span style=\"color:blue\"> |-learning_rate: 0.01</span>"
      ],
      "text/plain": [
       "<IPython.core.display.HTML object>"
      ]
     },
     "metadata": {},
     "output_type": "display_data"
    },
    {
     "data": {
      "text/html": [
       "<span style=\"color:cyan\"> |-optimizer: adam</span>"
      ],
      "text/plain": [
       "<IPython.core.display.HTML object>"
      ]
     },
     "metadata": {},
     "output_type": "display_data"
    },
    {
     "data": {
      "text/html": [
       "<span style=\"color:blue\"> |-structured_data_block_1/dense_block_1/dropout: 0.25</span>"
      ],
      "text/plain": [
       "<IPython.core.display.HTML object>"
      ]
     },
     "metadata": {},
     "output_type": "display_data"
    },
    {
     "data": {
      "text/html": [
       "<span style=\"color:cyan\"> |-structured_data_block_1/dense_block_1/num_layers: 3</span>"
      ],
      "text/plain": [
       "<IPython.core.display.HTML object>"
      ]
     },
     "metadata": {},
     "output_type": "display_data"
    },
    {
     "data": {
      "text/html": [
       "<span style=\"color:blue\"> |-structured_data_block_1/dense_block_1/units_0: 64</span>"
      ],
      "text/plain": [
       "<IPython.core.display.HTML object>"
      ]
     },
     "metadata": {},
     "output_type": "display_data"
    },
    {
     "data": {
      "text/html": [
       "<span style=\"color:cyan\"> |-structured_data_block_1/dense_block_1/units_1: 16</span>"
      ],
      "text/plain": [
       "<IPython.core.display.HTML object>"
      ]
     },
     "metadata": {},
     "output_type": "display_data"
    },
    {
     "data": {
      "text/html": [
       "<span style=\"color:blue\"> |-structured_data_block_1/dense_block_1/units_2: 64</span>"
      ],
      "text/plain": [
       "<IPython.core.display.HTML object>"
      ]
     },
     "metadata": {},
     "output_type": "display_data"
    },
    {
     "data": {
      "text/html": [
       "<span style=\"color:cyan\"> |-structured_data_block_1/dense_block_1/use_batchnorm: True</span>"
      ],
      "text/plain": [
       "<IPython.core.display.HTML object>"
      ]
     },
     "metadata": {},
     "output_type": "display_data"
    },
    {
     "data": {
      "text/html": [
       "<span style=\"color:#4527A0\"><h1 style=\"font-size:18px\">Starting new trial</h1></span>"
      ],
      "text/plain": [
       "<IPython.core.display.HTML object>"
      ]
     },
     "metadata": {},
     "output_type": "display_data"
    },
    {
     "name": "stdout",
     "output_type": "stream",
     "text": [
      "Epoch 1/1000\n",
      "26/26 [==============================] - ETA: 0s - loss: 1.8977 - accuracy: 0.21 - ETA: 0s - loss: 1.8547 - accuracy: 0.21 - ETA: 0s - loss: 1.8511 - accuracy: 0.22 - ETA: 0s - loss: 1.8104 - accuracy: 0.25 - ETA: 0s - loss: 1.7908 - accuracy: 0.24 - ETA: 0s - loss: 1.7851 - accuracy: 0.23 - 6s 234ms/step - loss: 1.7851 - accuracy: 0.2368 - val_loss: 1.8300 - val_accuracy: 0.2500\n",
      "Epoch 2/1000\n",
      "26/26 [==============================] - ETA: 0s - loss: 1.7596 - accuracy: 0.25 - ETA: 0s - loss: 1.8792 - accuracy: 0.16 - ETA: 0s - loss: 1.8911 - accuracy: 0.17 - ETA: 0s - loss: 1.8125 - accuracy: 0.21 - ETA: 0s - loss: 1.8054 - accuracy: 0.22 - 1s 45ms/step - loss: 1.7891 - accuracy: 0.2308 - val_loss: 1.5920 - val_accuracy: 0.2738\n",
      "Epoch 3/1000\n",
      "26/26 [==============================] - ETA: 0s - loss: 1.8739 - accuracy: 0.18 - ETA: 0s - loss: 1.7654 - accuracy: 0.23 - ETA: 0s - loss: 1.7929 - accuracy: 0.23 - ETA: 0s - loss: 1.7229 - accuracy: 0.23 - ETA: 0s - loss: 1.6950 - accuracy: 0.24 - ETA: 0s - loss: 1.6864 - accuracy: 0.25 - 1s 46ms/step - loss: 1.6864 - accuracy: 0.2524 - val_loss: 1.5199 - val_accuracy: 0.2798\n",
      "Epoch 4/1000\n",
      "26/26 [==============================] - ETA: 0s - loss: 1.7907 - accuracy: 0.21 - ETA: 0s - loss: 1.7568 - accuracy: 0.25 - ETA: 0s - loss: 1.7230 - accuracy: 0.25 - ETA: 0s - loss: 1.6817 - accuracy: 0.26 - ETA: 0s - loss: 1.6577 - accuracy: 0.27 - 1s 45ms/step - loss: 1.6634 - accuracy: 0.2656 - val_loss: 1.4731 - val_accuracy: 0.2857\n",
      "Epoch 5/1000\n",
      "26/26 [==============================] - ETA: 0s - loss: 1.6824 - accuracy: 0.21 - ETA: 0s - loss: 1.7207 - accuracy: 0.22 - ETA: 0s - loss: 1.6585 - accuracy: 0.26 - ETA: 0s - loss: 1.6164 - accuracy: 0.28 - ETA: 0s - loss: 1.6163 - accuracy: 0.28 - 1s 54ms/step - loss: 1.6244 - accuracy: 0.2752 - val_loss: 1.4378 - val_accuracy: 0.2679\n",
      "Epoch 6/1000\n",
      "26/26 [==============================] - ETA: 0s - loss: 1.4106 - accuracy: 0.31 - ETA: 0s - loss: 1.6576 - accuracy: 0.26 - ETA: 0s - loss: 1.6631 - accuracy: 0.25 - ETA: 0s - loss: 1.6274 - accuracy: 0.26 - ETA: 0s - loss: 1.6371 - accuracy: 0.26 - ETA: 0s - loss: 1.6377 - accuracy: 0.25 - 1s 47ms/step - loss: 1.6428 - accuracy: 0.2572 - val_loss: 1.4345 - val_accuracy: 0.2976\n",
      "Epoch 7/1000\n",
      "26/26 [==============================] - ETA: 0s - loss: 1.6602 - accuracy: 0.28 - ETA: 0s - loss: 1.7812 - accuracy: 0.22 - ETA: 0s - loss: 1.7292 - accuracy: 0.21 - ETA: 0s - loss: 1.6655 - accuracy: 0.24 - ETA: 0s - loss: 1.6383 - accuracy: 0.25 - 1s 40ms/step - loss: 1.6322 - accuracy: 0.2548 - val_loss: 1.4230 - val_accuracy: 0.3036\n",
      "Epoch 8/1000\n",
      "26/26 [==============================] - ETA: 0s - loss: 1.4997 - accuracy: 0.25 - ETA: 0s - loss: 1.6747 - accuracy: 0.21 - ETA: 0s - loss: 1.6284 - accuracy: 0.24 - ETA: 0s - loss: 1.5761 - accuracy: 0.28 - ETA: 0s - loss: 1.5911 - accuracy: 0.27 - 1s 47ms/step - loss: 1.5739 - accuracy: 0.2825 - val_loss: 1.4024 - val_accuracy: 0.2917\n",
      "Epoch 9/1000\n",
      "26/26 [==============================] - ETA: 0s - loss: 1.7117 - accuracy: 0.21 - ETA: 0s - loss: 1.7025 - accuracy: 0.22 - ETA: 0s - loss: 1.6428 - accuracy: 0.25 - ETA: 0s - loss: 1.6045 - accuracy: 0.26 - ETA: 0s - loss: 1.5901 - accuracy: 0.27 - 1s 43ms/step - loss: 1.5805 - accuracy: 0.2788 - val_loss: 1.3837 - val_accuracy: 0.2679\n",
      "Epoch 10/1000\n",
      "26/26 [==============================] - ETA: 0s - loss: 1.4956 - accuracy: 0.34 - ETA: 0s - loss: 1.5929 - accuracy: 0.27 - ETA: 0s - loss: 1.5604 - accuracy: 0.28 - ETA: 0s - loss: 1.5396 - accuracy: 0.29 - ETA: 0s - loss: 1.5413 - accuracy: 0.29 - 1s 45ms/step - loss: 1.5382 - accuracy: 0.2981 - val_loss: 1.3638 - val_accuracy: 0.2619\n",
      "Epoch 11/1000\n",
      "26/26 [==============================] - ETA: 0s - loss: 1.4511 - accuracy: 0.25 - ETA: 0s - loss: 1.6475 - accuracy: 0.26 - ETA: 0s - loss: 1.5821 - accuracy: 0.28 - ETA: 0s - loss: 1.5639 - accuracy: 0.27 - ETA: 0s - loss: 1.5577 - accuracy: 0.27 - ETA: 0s - loss: 1.5603 - accuracy: 0.27 - 2s 64ms/step - loss: 1.5567 - accuracy: 0.2704 - val_loss: 1.3567 - val_accuracy: 0.2560\n",
      "Epoch 12/1000\n",
      "26/26 [==============================] - ETA: 0s - loss: 1.4737 - accuracy: 0.31 - ETA: 0s - loss: 1.6173 - accuracy: 0.28 - ETA: 0s - loss: 1.5697 - accuracy: 0.28 - ETA: 0s - loss: 1.5517 - accuracy: 0.29 - ETA: 0s - loss: 1.5215 - accuracy: 0.31 - ETA: 0s - loss: 1.5257 - accuracy: 0.30 - 1s 40ms/step - loss: 1.5257 - accuracy: 0.3089 - val_loss: 1.3475 - val_accuracy: 0.3095\n",
      "Epoch 13/1000\n",
      "26/26 [==============================] - ETA: 0s - loss: 1.4387 - accuracy: 0.31 - ETA: 0s - loss: 1.5437 - accuracy: 0.23 - ETA: 0s - loss: 1.4893 - accuracy: 0.27 - ETA: 0s - loss: 1.4813 - accuracy: 0.28 - ETA: 0s - loss: 1.4921 - accuracy: 0.28 - 1s 39ms/step - loss: 1.4871 - accuracy: 0.2885 - val_loss: 1.3601 - val_accuracy: 0.2798\n",
      "Epoch 14/1000\n",
      "26/26 [==============================] - ETA: 0s - loss: 1.1831 - accuracy: 0.37 - ETA: 0s - loss: 1.4621 - accuracy: 0.26 - ETA: 0s - loss: 1.5062 - accuracy: 0.27 - ETA: 0s - loss: 1.4758 - accuracy: 0.31 - ETA: 0s - loss: 1.4700 - accuracy: 0.31 - 1s 39ms/step - loss: 1.4679 - accuracy: 0.3209 - val_loss: 1.3627 - val_accuracy: 0.3095\n",
      "Epoch 15/1000\n",
      "26/26 [==============================] - ETA: 0s - loss: 1.3371 - accuracy: 0.37 - ETA: 0s - loss: 1.4563 - accuracy: 0.31 - ETA: 0s - loss: 1.4408 - accuracy: 0.34 - ETA: 0s - loss: 1.4689 - accuracy: 0.33 - ETA: 0s - loss: 1.4635 - accuracy: 0.30 - ETA: 0s - loss: 1.4826 - accuracy: 0.30 - 1s 42ms/step - loss: 1.4766 - accuracy: 0.3113 - val_loss: 1.3575 - val_accuracy: 0.3631\n",
      "Epoch 16/1000\n",
      "26/26 [==============================] - ETA: 0s - loss: 1.4249 - accuracy: 0.25 - ETA: 0s - loss: 1.5172 - accuracy: 0.28 - ETA: 0s - loss: 1.5071 - accuracy: 0.31 - ETA: 0s - loss: 1.4920 - accuracy: 0.32 - ETA: 0s - loss: 1.5071 - accuracy: 0.31 - 1s 40ms/step - loss: 1.5023 - accuracy: 0.3125 - val_loss: 1.3589 - val_accuracy: 0.3512\n",
      "Epoch 17/1000\n",
      "26/26 [==============================] - ETA: 0s - loss: 1.5760 - accuracy: 0.18 - ETA: 0s - loss: 1.6199 - accuracy: 0.21 - ETA: 0s - loss: 1.5103 - accuracy: 0.28 - ETA: 0s - loss: 1.4844 - accuracy: 0.32 - ETA: 0s - loss: 1.4576 - accuracy: 0.33 - 1s 54ms/step - loss: 1.4650 - accuracy: 0.3401 - val_loss: 1.3433 - val_accuracy: 0.3690\n",
      "Epoch 18/1000\n",
      "26/26 [==============================] - ETA: 0s - loss: 1.4211 - accuracy: 0.25 - ETA: 0s - loss: 1.5078 - accuracy: 0.30 - ETA: 0s - loss: 1.5238 - accuracy: 0.30 - ETA: 0s - loss: 1.5137 - accuracy: 0.30 - ETA: 0s - loss: 1.5041 - accuracy: 0.30 - 1s 35ms/step - loss: 1.5132 - accuracy: 0.3053 - val_loss: 1.3456 - val_accuracy: 0.3631\n",
      "Epoch 19/1000\n",
      "26/26 [==============================] - ETA: 0s - loss: 1.4628 - accuracy: 0.40 - ETA: 0s - loss: 1.5639 - accuracy: 0.31 - ETA: 0s - loss: 1.5399 - accuracy: 0.34 - ETA: 0s - loss: 1.5019 - accuracy: 0.34 - ETA: 0s - loss: 1.4851 - accuracy: 0.32 - 1s 36ms/step - loss: 1.4756 - accuracy: 0.3341 - val_loss: 1.3341 - val_accuracy: 0.3571\n",
      "Epoch 20/1000\n",
      "26/26 [==============================] - ETA: 0s - loss: 1.3125 - accuracy: 0.28 - ETA: 0s - loss: 1.4365 - accuracy: 0.32 - ETA: 0s - loss: 1.4327 - accuracy: 0.34 - ETA: 0s - loss: 1.4388 - accuracy: 0.33 - ETA: 0s - loss: 1.4378 - accuracy: 0.34 - 1s 45ms/step - loss: 1.4267 - accuracy: 0.3522 - val_loss: 1.3413 - val_accuracy: 0.3512\n",
      "Epoch 21/1000\n",
      "26/26 [==============================] - ETA: 0s - loss: 1.4731 - accuracy: 0.31 - ETA: 0s - loss: 1.4648 - accuracy: 0.30 - ETA: 0s - loss: 1.3960 - accuracy: 0.36 - ETA: 0s - loss: 1.3971 - accuracy: 0.34 - ETA: 0s - loss: 1.3961 - accuracy: 0.33 - ETA: 0s - loss: 1.4161 - accuracy: 0.33 - 1s 43ms/step - loss: 1.4161 - accuracy: 0.3377 - val_loss: 1.3416 - val_accuracy: 0.3631\n",
      "Epoch 22/1000\n",
      "26/26 [==============================] - ETA: 0s - loss: 1.3868 - accuracy: 0.25 - ETA: 0s - loss: 1.3822 - accuracy: 0.28 - ETA: 0s - loss: 1.4110 - accuracy: 0.29 - ETA: 0s - loss: 1.4009 - accuracy: 0.31 - ETA: 0s - loss: 1.4082 - accuracy: 0.33 - 1s 45ms/step - loss: 1.4012 - accuracy: 0.3438 - val_loss: 1.3438 - val_accuracy: 0.3512\n",
      "Epoch 23/1000\n"
     ]
    },
    {
     "name": "stdout",
     "output_type": "stream",
     "text": [
      "26/26 [==============================] - ETA: 0s - loss: 1.2951 - accuracy: 0.34 - ETA: 0s - loss: 1.3934 - accuracy: 0.34 - ETA: 0s - loss: 1.4392 - accuracy: 0.34 - ETA: 0s - loss: 1.4269 - accuracy: 0.35 - ETA: 0s - loss: 1.3966 - accuracy: 0.37 - 1s 48ms/step - loss: 1.3981 - accuracy: 0.3762 - val_loss: 1.3296 - val_accuracy: 0.3810\n",
      "Epoch 24/1000\n",
      "26/26 [==============================] - ETA: 0s - loss: 1.4324 - accuracy: 0.34 - ETA: 0s - loss: 1.4230 - accuracy: 0.35 - ETA: 0s - loss: 1.4300 - accuracy: 0.34 - ETA: 0s - loss: 1.4370 - accuracy: 0.34 - ETA: 0s - loss: 1.4198 - accuracy: 0.35 - 1s 46ms/step - loss: 1.4237 - accuracy: 0.3498 - val_loss: 1.3364 - val_accuracy: 0.3631\n",
      "Epoch 25/1000\n",
      "26/26 [==============================] - ETA: 0s - loss: 1.4125 - accuracy: 0.31 - ETA: 0s - loss: 1.4004 - accuracy: 0.35 - ETA: 0s - loss: 1.4516 - accuracy: 0.33 - ETA: 0s - loss: 1.4781 - accuracy: 0.33 - ETA: 0s - loss: 1.4750 - accuracy: 0.33 - ETA: 0s - loss: 1.4600 - accuracy: 0.33 - 1s 43ms/step - loss: 1.4600 - accuracy: 0.3317 - val_loss: 1.3433 - val_accuracy: 0.3393\n",
      "Epoch 26/1000\n",
      "26/26 [==============================] - ETA: 0s - loss: 1.3121 - accuracy: 0.34 - ETA: 0s - loss: 1.4806 - accuracy: 0.29 - ETA: 0s - loss: 1.5016 - accuracy: 0.32 - ETA: 0s - loss: 1.4665 - accuracy: 0.31 - ETA: 0s - loss: 1.4356 - accuracy: 0.33 - 1s 45ms/step - loss: 1.4366 - accuracy: 0.3281 - val_loss: 1.3472 - val_accuracy: 0.3810\n",
      "Epoch 27/1000\n",
      "26/26 [==============================] - ETA: 0s - loss: 1.2649 - accuracy: 0.37 - ETA: 0s - loss: 1.4100 - accuracy: 0.29 - ETA: 0s - loss: 1.3674 - accuracy: 0.33 - ETA: 0s - loss: 1.3715 - accuracy: 0.34 - ETA: 0s - loss: 1.3756 - accuracy: 0.34 - 1s 45ms/step - loss: 1.3697 - accuracy: 0.3630 - val_loss: 1.3450 - val_accuracy: 0.3571\n",
      "Epoch 28/1000\n",
      "26/26 [==============================] - ETA: 0s - loss: 1.3462 - accuracy: 0.40 - ETA: 0s - loss: 1.4338 - accuracy: 0.33 - ETA: 0s - loss: 1.4348 - accuracy: 0.30 - ETA: 0s - loss: 1.4105 - accuracy: 0.32 - ETA: 0s - loss: 1.3969 - accuracy: 0.32 - 1s 44ms/step - loss: 1.4048 - accuracy: 0.3269 - val_loss: 1.3381 - val_accuracy: 0.3452\n",
      "Epoch 29/1000\n",
      "26/26 [==============================] - ETA: 0s - loss: 1.3419 - accuracy: 0.25 - ETA: 0s - loss: 1.4259 - accuracy: 0.32 - ETA: 0s - loss: 1.4491 - accuracy: 0.34 - ETA: 0s - loss: 1.3981 - accuracy: 0.36 - ETA: 0s - loss: 1.3840 - accuracy: 0.37 - 1s 54ms/step - loss: 1.3954 - accuracy: 0.3618 - val_loss: 1.3271 - val_accuracy: 0.3631\n",
      "Epoch 30/1000\n",
      "26/26 [==============================] - ETA: 0s - loss: 1.3745 - accuracy: 0.43 - ETA: 0s - loss: 1.4072 - accuracy: 0.38 - ETA: 0s - loss: 1.4213 - accuracy: 0.35 - ETA: 0s - loss: 1.4335 - accuracy: 0.36 - ETA: 0s - loss: 1.4155 - accuracy: 0.36 - 1s 37ms/step - loss: 1.4095 - accuracy: 0.3630 - val_loss: 1.3230 - val_accuracy: 0.3810\n",
      "Epoch 31/1000\n",
      "26/26 [==============================] - ETA: 0s - loss: 1.3541 - accuracy: 0.43 - ETA: 0s - loss: 1.4593 - accuracy: 0.32 - ETA: 0s - loss: 1.3992 - accuracy: 0.34 - ETA: 0s - loss: 1.3925 - accuracy: 0.36 - ETA: 0s - loss: 1.4045 - accuracy: 0.35 - 1s 40ms/step - loss: 1.3940 - accuracy: 0.3654 - val_loss: 1.3092 - val_accuracy: 0.3810\n",
      "Epoch 32/1000\n",
      "26/26 [==============================] - ETA: 0s - loss: 1.2860 - accuracy: 0.43 - ETA: 0s - loss: 1.3450 - accuracy: 0.40 - ETA: 0s - loss: 1.3460 - accuracy: 0.40 - ETA: 0s - loss: 1.3522 - accuracy: 0.38 - ETA: 0s - loss: 1.3588 - accuracy: 0.37 - 1s 40ms/step - loss: 1.3628 - accuracy: 0.3762 - val_loss: 1.3132 - val_accuracy: 0.3750\n",
      "Epoch 33/1000\n",
      "26/26 [==============================] - ETA: 0s - loss: 1.3183 - accuracy: 0.40 - ETA: 0s - loss: 1.4183 - accuracy: 0.38 - ETA: 0s - loss: 1.4176 - accuracy: 0.35 - ETA: 0s - loss: 1.4224 - accuracy: 0.36 - ETA: 0s - loss: 1.4349 - accuracy: 0.34 - 1s 43ms/step - loss: 1.4228 - accuracy: 0.3450 - val_loss: 1.3147 - val_accuracy: 0.3869\n",
      "Epoch 34/1000\n",
      "26/26 [==============================] - ETA: 0s - loss: 1.2708 - accuracy: 0.37 - ETA: 0s - loss: 1.3616 - accuracy: 0.39 - ETA: 0s - loss: 1.3935 - accuracy: 0.39 - ETA: 0s - loss: 1.3888 - accuracy: 0.38 - ETA: 0s - loss: 1.3792 - accuracy: 0.38 - 1s 53ms/step - loss: 1.3839 - accuracy: 0.3750 - val_loss: 1.3194 - val_accuracy: 0.3631\n",
      "Epoch 35/1000\n",
      "26/26 [==============================] - ETA: 0s - loss: 1.4041 - accuracy: 0.40 - ETA: 0s - loss: 1.3940 - accuracy: 0.37 - ETA: 0s - loss: 1.3716 - accuracy: 0.39 - ETA: 0s - loss: 1.3620 - accuracy: 0.37 - ETA: 0s - loss: 1.3691 - accuracy: 0.37 - 1s 50ms/step - loss: 1.3587 - accuracy: 0.3798 - val_loss: 1.3230 - val_accuracy: 0.3631\n",
      "Epoch 36/1000\n",
      "26/26 [==============================] - ETA: 0s - loss: 1.3773 - accuracy: 0.40 - ETA: 0s - loss: 1.3249 - accuracy: 0.42 - ETA: 0s - loss: 1.4179 - accuracy: 0.35 - ETA: 0s - loss: 1.3942 - accuracy: 0.36 - ETA: 0s - loss: 1.3817 - accuracy: 0.38 - 1s 46ms/step - loss: 1.3770 - accuracy: 0.3798 - val_loss: 1.3096 - val_accuracy: 0.3690\n",
      "Epoch 37/1000\n",
      "26/26 [==============================] - ETA: 0s - loss: 1.5323 - accuracy: 0.34 - ETA: 0s - loss: 1.4420 - accuracy: 0.40 - ETA: 0s - loss: 1.4473 - accuracy: 0.36 - ETA: 0s - loss: 1.4350 - accuracy: 0.36 - ETA: 0s - loss: 1.4251 - accuracy: 0.37 - 1s 43ms/step - loss: 1.4176 - accuracy: 0.3666 - val_loss: 1.3034 - val_accuracy: 0.3750\n",
      "Epoch 38/1000\n",
      "26/26 [==============================] - ETA: 0s - loss: 1.4602 - accuracy: 0.34 - ETA: 0s - loss: 1.4179 - accuracy: 0.33 - ETA: 0s - loss: 1.3884 - accuracy: 0.36 - ETA: 0s - loss: 1.3874 - accuracy: 0.36 - ETA: 0s - loss: 1.3995 - accuracy: 0.35 - 1s 40ms/step - loss: 1.3740 - accuracy: 0.3630 - val_loss: 1.2944 - val_accuracy: 0.3929\n",
      "Epoch 39/1000\n",
      "26/26 [==============================] - ETA: 0s - loss: 1.4003 - accuracy: 0.25 - ETA: 0s - loss: 1.4366 - accuracy: 0.38 - ETA: 0s - loss: 1.4174 - accuracy: 0.36 - ETA: 0s - loss: 1.4155 - accuracy: 0.36 - ETA: 0s - loss: 1.4047 - accuracy: 0.36 - ETA: 0s - loss: 1.3963 - accuracy: 0.37 - 1s 46ms/step - loss: 1.3963 - accuracy: 0.3702 - val_loss: 1.2949 - val_accuracy: 0.3690\n",
      "Epoch 40/1000\n",
      "26/26 [==============================] - ETA: 0s - loss: 1.6294 - accuracy: 0.31 - ETA: 0s - loss: 1.4345 - accuracy: 0.39 - ETA: 0s - loss: 1.4513 - accuracy: 0.36 - ETA: 0s - loss: 1.3994 - accuracy: 0.37 - ETA: 0s - loss: 1.3888 - accuracy: 0.38 - 1s 53ms/step - loss: 1.3804 - accuracy: 0.3810 - val_loss: 1.2984 - val_accuracy: 0.3750\n",
      "Epoch 41/1000\n",
      "26/26 [==============================] - ETA: 0s - loss: 1.4113 - accuracy: 0.28 - ETA: 0s - loss: 1.3921 - accuracy: 0.35 - ETA: 0s - loss: 1.3420 - accuracy: 0.37 - ETA: 0s - loss: 1.3422 - accuracy: 0.37 - ETA: 0s - loss: 1.3388 - accuracy: 0.37 - 1s 44ms/step - loss: 1.3298 - accuracy: 0.3870 - val_loss: 1.2897 - val_accuracy: 0.3988\n",
      "Epoch 42/1000\n",
      "26/26 [==============================] - ETA: 0s - loss: 1.2280 - accuracy: 0.46 - ETA: 0s - loss: 1.4392 - accuracy: 0.38 - ETA: 0s - loss: 1.3915 - accuracy: 0.36 - ETA: 0s - loss: 1.3715 - accuracy: 0.38 - ETA: 0s - loss: 1.3540 - accuracy: 0.38 - ETA: 0s - loss: 1.3598 - accuracy: 0.37 - 1s 37ms/step - loss: 1.3598 - accuracy: 0.3714 - val_loss: 1.2831 - val_accuracy: 0.3869\n",
      "Epoch 43/1000\n",
      "26/26 [==============================] - ETA: 0s - loss: 1.3466 - accuracy: 0.34 - ETA: 0s - loss: 1.3298 - accuracy: 0.36 - ETA: 0s - loss: 1.3596 - accuracy: 0.37 - ETA: 0s - loss: 1.3424 - accuracy: 0.38 - ETA: 0s - loss: 1.3301 - accuracy: 0.39 - ETA: 0s - loss: 1.3369 - accuracy: 0.39 - 1s 39ms/step - loss: 1.3369 - accuracy: 0.3942 - val_loss: 1.2847 - val_accuracy: 0.3690\n",
      "Epoch 44/1000\n",
      "26/26 [==============================] - ETA: 0s - loss: 1.4640 - accuracy: 0.25 - ETA: 0s - loss: 1.3982 - accuracy: 0.34 - ETA: 0s - loss: 1.3784 - accuracy: 0.35 - ETA: 0s - loss: 1.3795 - accuracy: 0.35 - ETA: 0s - loss: 1.3976 - accuracy: 0.36 - 1s 43ms/step - loss: 1.3850 - accuracy: 0.3738 - val_loss: 1.2807 - val_accuracy: 0.3988\n",
      "Epoch 45/1000\n"
     ]
    },
    {
     "name": "stdout",
     "output_type": "stream",
     "text": [
      "26/26 [==============================] - ETA: 0s - loss: 1.3038 - accuracy: 0.46 - ETA: 0s - loss: 1.3578 - accuracy: 0.38 - ETA: 0s - loss: 1.3680 - accuracy: 0.37 - ETA: 0s - loss: 1.3222 - accuracy: 0.38 - ETA: 0s - loss: 1.3250 - accuracy: 0.38 - 1s 43ms/step - loss: 1.3214 - accuracy: 0.3882 - val_loss: 1.2738 - val_accuracy: 0.3810\n",
      "Epoch 46/1000\n",
      "26/26 [==============================] - ETA: 0s - loss: 1.2317 - accuracy: 0.50 - ETA: 0s - loss: 1.3470 - accuracy: 0.39 - ETA: 0s - loss: 1.3368 - accuracy: 0.41 - ETA: 0s - loss: 1.3467 - accuracy: 0.42 - ETA: 0s - loss: 1.3247 - accuracy: 0.42 - 1s 44ms/step - loss: 1.3341 - accuracy: 0.4171 - val_loss: 1.2794 - val_accuracy: 0.3810\n",
      "Epoch 47/1000\n",
      "26/26 [==============================] - ETA: 0s - loss: 1.3662 - accuracy: 0.46 - ETA: 0s - loss: 1.3688 - accuracy: 0.39 - ETA: 0s - loss: 1.3491 - accuracy: 0.42 - ETA: 0s - loss: 1.3311 - accuracy: 0.42 - ETA: 0s - loss: 1.3295 - accuracy: 0.41 - 1s 50ms/step - loss: 1.3273 - accuracy: 0.4111 - val_loss: 1.2801 - val_accuracy: 0.3810\n",
      "Epoch 48/1000\n",
      "26/26 [==============================] - ETA: 0s - loss: 1.3433 - accuracy: 0.28 - ETA: 0s - loss: 1.4216 - accuracy: 0.33 - ETA: 0s - loss: 1.4209 - accuracy: 0.35 - ETA: 0s - loss: 1.3686 - accuracy: 0.39 - ETA: 0s - loss: 1.3450 - accuracy: 0.38 - 1s 33ms/step - loss: 1.3414 - accuracy: 0.3894 - val_loss: 1.2955 - val_accuracy: 0.3988\n",
      "Epoch 49/1000\n",
      "26/26 [==============================] - ETA: 0s - loss: 1.4213 - accuracy: 0.40 - ETA: 0s - loss: 1.3898 - accuracy: 0.34 - ETA: 0s - loss: 1.3374 - accuracy: 0.37 - ETA: 0s - loss: 1.3276 - accuracy: 0.38 - ETA: 0s - loss: 1.3179 - accuracy: 0.38 - 1s 35ms/step - loss: 1.3253 - accuracy: 0.3834 - val_loss: 1.2927 - val_accuracy: 0.3810\n",
      "Epoch 50/1000\n",
      "26/26 [==============================] - ETA: 0s - loss: 1.2969 - accuracy: 0.37 - ETA: 0s - loss: 1.4047 - accuracy: 0.33 - ETA: 0s - loss: 1.4071 - accuracy: 0.35 - ETA: 0s - loss: 1.3761 - accuracy: 0.36 - ETA: 0s - loss: 1.3953 - accuracy: 0.37 - ETA: 0s - loss: 1.3825 - accuracy: 0.38 - 1s 37ms/step - loss: 1.3825 - accuracy: 0.3894 - val_loss: 1.2816 - val_accuracy: 0.3869\n",
      "Epoch 51/1000\n",
      "26/26 [==============================] - ETA: 0s - loss: 1.4117 - accuracy: 0.31 - ETA: 0s - loss: 1.4591 - accuracy: 0.35 - ETA: 0s - loss: 1.4003 - accuracy: 0.36 - ETA: 0s - loss: 1.4090 - accuracy: 0.34 - ETA: 0s - loss: 1.3950 - accuracy: 0.35 - ETA: 0s - loss: 1.3795 - accuracy: 0.35 - 1s 38ms/step - loss: 1.3689 - accuracy: 0.3534 - val_loss: 1.2752 - val_accuracy: 0.4048\n",
      "Epoch 52/1000\n",
      "26/26 [==============================] - ETA: 0s - loss: 1.3278 - accuracy: 0.37 - ETA: 0s - loss: 1.3061 - accuracy: 0.36 - ETA: 0s - loss: 1.2912 - accuracy: 0.39 - ETA: 0s - loss: 1.3089 - accuracy: 0.37 - ETA: 0s - loss: 1.3064 - accuracy: 0.38 - ETA: 0s - loss: 1.3048 - accuracy: 0.39 - 1s 49ms/step - loss: 1.3003 - accuracy: 0.3978 - val_loss: 1.2742 - val_accuracy: 0.4048\n",
      "Epoch 53/1000\n",
      "26/26 [==============================] - ETA: 0s - loss: 1.3390 - accuracy: 0.28 - ETA: 0s - loss: 1.3247 - accuracy: 0.39 - ETA: 0s - loss: 1.3330 - accuracy: 0.43 - ETA: 0s - loss: 1.3144 - accuracy: 0.43 - ETA: 0s - loss: 1.3090 - accuracy: 0.42 - 1s 39ms/step - loss: 1.3168 - accuracy: 0.4219 - val_loss: 1.2699 - val_accuracy: 0.4048\n",
      "Epoch 54/1000\n",
      "26/26 [==============================] - ETA: 0s - loss: 1.3316 - accuracy: 0.43 - ETA: 0s - loss: 1.3954 - accuracy: 0.33 - ETA: 0s - loss: 1.4011 - accuracy: 0.36 - ETA: 0s - loss: 1.3873 - accuracy: 0.35 - ETA: 0s - loss: 1.3521 - accuracy: 0.38 - ETA: 0s - loss: 1.3585 - accuracy: 0.37 - 1s 37ms/step - loss: 1.3446 - accuracy: 0.3798 - val_loss: 1.2695 - val_accuracy: 0.4048\n",
      "Epoch 55/1000\n",
      "26/26 [==============================] - ETA: 0s - loss: 1.2735 - accuracy: 0.34 - ETA: 0s - loss: 1.3387 - accuracy: 0.36 - ETA: 0s - loss: 1.3006 - accuracy: 0.40 - ETA: 0s - loss: 1.2907 - accuracy: 0.40 - ETA: 0s - loss: 1.3203 - accuracy: 0.41 - 1s 35ms/step - loss: 1.3198 - accuracy: 0.4195 - val_loss: 1.2729 - val_accuracy: 0.3810\n",
      "Epoch 56/1000\n",
      "26/26 [==============================] - ETA: 0s - loss: 1.3002 - accuracy: 0.37 - ETA: 0s - loss: 1.3710 - accuracy: 0.35 - ETA: 0s - loss: 1.3527 - accuracy: 0.35 - ETA: 0s - loss: 1.3200 - accuracy: 0.38 - ETA: 0s - loss: 1.3084 - accuracy: 0.39 - 1s 35ms/step - loss: 1.2969 - accuracy: 0.4014 - val_loss: 1.2796 - val_accuracy: 0.3869\n",
      "Epoch 57/1000\n",
      "26/26 [==============================] - ETA: 0s - loss: 1.1385 - accuracy: 0.46 - ETA: 0s - loss: 1.3528 - accuracy: 0.38 - ETA: 0s - loss: 1.3581 - accuracy: 0.39 - ETA: 0s - loss: 1.3503 - accuracy: 0.39 - ETA: 0s - loss: 1.3362 - accuracy: 0.41 - ETA: 0s - loss: 1.3439 - accuracy: 0.40 - 1s 41ms/step - loss: 1.3355 - accuracy: 0.4111 - val_loss: 1.2686 - val_accuracy: 0.4167\n",
      "Epoch 58/1000\n",
      "26/26 [==============================] - ETA: 0s - loss: 1.1589 - accuracy: 0.40 - ETA: 0s - loss: 1.3032 - accuracy: 0.38 - ETA: 0s - loss: 1.3269 - accuracy: 0.38 - ETA: 0s - loss: 1.3267 - accuracy: 0.38 - ETA: 0s - loss: 1.3163 - accuracy: 0.39 - 1s 42ms/step - loss: 1.3200 - accuracy: 0.3762 - val_loss: 1.2656 - val_accuracy: 0.4345\n",
      "Epoch 59/1000\n",
      "26/26 [==============================] - ETA: 0s - loss: 1.3926 - accuracy: 0.31 - ETA: 0s - loss: 1.3683 - accuracy: 0.35 - ETA: 0s - loss: 1.3432 - accuracy: 0.38 - ETA: 0s - loss: 1.3393 - accuracy: 0.39 - ETA: 0s - loss: 1.3499 - accuracy: 0.39 - 1s 49ms/step - loss: 1.3297 - accuracy: 0.4075 - val_loss: 1.2776 - val_accuracy: 0.4167\n",
      "Epoch 60/1000\n",
      "26/26 [==============================] - ETA: 0s - loss: 1.5440 - accuracy: 0.37 - ETA: 0s - loss: 1.3730 - accuracy: 0.40 - ETA: 0s - loss: 1.3620 - accuracy: 0.41 - ETA: 0s - loss: 1.3606 - accuracy: 0.40 - ETA: 0s - loss: 1.3504 - accuracy: 0.40 - ETA: 0s - loss: 1.3387 - accuracy: 0.39 - 1s 39ms/step - loss: 1.3387 - accuracy: 0.3954 - val_loss: 1.2791 - val_accuracy: 0.4107\n",
      "Epoch 61/1000\n",
      "26/26 [==============================] - ETA: 0s - loss: 1.2961 - accuracy: 0.50 - ETA: 0s - loss: 1.2732 - accuracy: 0.39 - ETA: 0s - loss: 1.3291 - accuracy: 0.38 - ETA: 0s - loss: 1.3149 - accuracy: 0.40 - ETA: 0s - loss: 1.3029 - accuracy: 0.40 - 1s 39ms/step - loss: 1.3056 - accuracy: 0.4087 - val_loss: 1.2733 - val_accuracy: 0.4226\n",
      "Epoch 62/1000\n",
      "26/26 [==============================] - ETA: 0s - loss: 1.2731 - accuracy: 0.46 - ETA: 0s - loss: 1.4096 - accuracy: 0.35 - ETA: 0s - loss: 1.3341 - accuracy: 0.39 - ETA: 0s - loss: 1.3248 - accuracy: 0.40 - ETA: 0s - loss: 1.3163 - accuracy: 0.40 - ETA: 0s - loss: 1.3156 - accuracy: 0.39 - 1s 47ms/step - loss: 1.3204 - accuracy: 0.3966 - val_loss: 1.2714 - val_accuracy: 0.4226\n",
      "Epoch 63/1000\n",
      "26/26 [==============================] - ETA: 0s - loss: 1.3469 - accuracy: 0.34 - ETA: 0s - loss: 1.3212 - accuracy: 0.39 - ETA: 0s - loss: 1.2904 - accuracy: 0.38 - ETA: 0s - loss: 1.3033 - accuracy: 0.37 - ETA: 0s - loss: 1.2951 - accuracy: 0.40 - ETA: 0s - loss: 1.2888 - accuracy: 0.41 - 1s 35ms/step - loss: 1.2809 - accuracy: 0.4135 - val_loss: 1.2671 - val_accuracy: 0.4286\n",
      "Epoch 64/1000\n",
      "26/26 [==============================] - ETA: 0s - loss: 1.2527 - accuracy: 0.37 - ETA: 0s - loss: 1.3000 - accuracy: 0.40 - ETA: 0s - loss: 1.3076 - accuracy: 0.39 - ETA: 0s - loss: 1.2946 - accuracy: 0.39 - ETA: 0s - loss: 1.3222 - accuracy: 0.38 - 1s 44ms/step - loss: 1.3148 - accuracy: 0.3978 - val_loss: 1.2662 - val_accuracy: 0.4226\n",
      "Epoch 65/1000\n",
      "26/26 [==============================] - ETA: 0s - loss: 1.2462 - accuracy: 0.56 - ETA: 0s - loss: 1.3393 - accuracy: 0.43 - ETA: 0s - loss: 1.3484 - accuracy: 0.40 - ETA: 0s - loss: 1.3187 - accuracy: 0.40 - ETA: 0s - loss: 1.3123 - accuracy: 0.40 - ETA: 0s - loss: 1.3084 - accuracy: 0.40 - 1s 45ms/step - loss: 1.3069 - accuracy: 0.4111 - val_loss: 1.2642 - val_accuracy: 0.4107\n",
      "Epoch 66/1000\n",
      "26/26 [==============================] - ETA: 0s - loss: 1.2186 - accuracy: 0.34 - ETA: 0s - loss: 1.2521 - accuracy: 0.41 - ETA: 0s - loss: 1.2385 - accuracy: 0.42 - ETA: 0s - loss: 1.2293 - accuracy: 0.43 - ETA: 0s - loss: 1.2259 - accuracy: 0.44 - ETA: 0s - loss: 1.2389 - accuracy: 0.42 - 1s 49ms/step - loss: 1.2389 - accuracy: 0.4279 - val_loss: 1.2683 - val_accuracy: 0.4286\n"
     ]
    },
    {
     "name": "stdout",
     "output_type": "stream",
     "text": [
      "Epoch 67/1000\n",
      "26/26 [==============================] - ETA: 0s - loss: 1.1854 - accuracy: 0.46 - ETA: 0s - loss: 1.2853 - accuracy: 0.38 - ETA: 0s - loss: 1.2736 - accuracy: 0.39 - ETA: 0s - loss: 1.2643 - accuracy: 0.39 - ETA: 0s - loss: 1.2661 - accuracy: 0.40 - 1s 50ms/step - loss: 1.2700 - accuracy: 0.4159 - val_loss: 1.2572 - val_accuracy: 0.4286\n",
      "Epoch 68/1000\n",
      "26/26 [==============================] - ETA: 0s - loss: 1.3395 - accuracy: 0.31 - ETA: 0s - loss: 1.3938 - accuracy: 0.37 - ETA: 0s - loss: 1.3478 - accuracy: 0.38 - ETA: 0s - loss: 1.3210 - accuracy: 0.39 - ETA: 0s - loss: 1.3044 - accuracy: 0.39 - 1s 37ms/step - loss: 1.2948 - accuracy: 0.4050 - val_loss: 1.2612 - val_accuracy: 0.4226\n",
      "Epoch 69/1000\n",
      "26/26 [==============================] - ETA: 0s - loss: 1.1127 - accuracy: 0.53 - ETA: 0s - loss: 1.2873 - accuracy: 0.44 - ETA: 0s - loss: 1.2411 - accuracy: 0.45 - ETA: 0s - loss: 1.2407 - accuracy: 0.45 - ETA: 0s - loss: 1.2382 - accuracy: 0.44 - 1s 43ms/step - loss: 1.2400 - accuracy: 0.4339 - val_loss: 1.2519 - val_accuracy: 0.4345\n",
      "Epoch 70/1000\n",
      "26/26 [==============================] - ETA: 0s - loss: 1.2496 - accuracy: 0.43 - ETA: 0s - loss: 1.2997 - accuracy: 0.39 - ETA: 0s - loss: 1.2768 - accuracy: 0.43 - ETA: 0s - loss: 1.2849 - accuracy: 0.42 - ETA: 0s - loss: 1.2925 - accuracy: 0.42 - 1s 46ms/step - loss: 1.2978 - accuracy: 0.4231 - val_loss: 1.2545 - val_accuracy: 0.4345\n",
      "Epoch 71/1000\n",
      "26/26 [==============================] - ETA: 0s - loss: 1.1547 - accuracy: 0.50 - ETA: 0s - loss: 1.3546 - accuracy: 0.40 - ETA: 0s - loss: 1.3452 - accuracy: 0.39 - ETA: 0s - loss: 1.3443 - accuracy: 0.36 - ETA: 0s - loss: 1.3239 - accuracy: 0.38 - 1s 57ms/step - loss: 1.3170 - accuracy: 0.3870 - val_loss: 1.2442 - val_accuracy: 0.4405\n",
      "Epoch 72/1000\n",
      "26/26 [==============================] - ETA: 0s - loss: 1.2446 - accuracy: 0.40 - ETA: 0s - loss: 1.3208 - accuracy: 0.38 - ETA: 0s - loss: 1.3097 - accuracy: 0.40 - ETA: 0s - loss: 1.3222 - accuracy: 0.38 - ETA: 0s - loss: 1.3142 - accuracy: 0.40 - ETA: 0s - loss: 1.3063 - accuracy: 0.40 - 1s 46ms/step - loss: 1.3063 - accuracy: 0.4050 - val_loss: 1.2475 - val_accuracy: 0.4286\n",
      "Epoch 73/1000\n",
      "26/26 [==============================] - ETA: 0s - loss: 1.2758 - accuracy: 0.40 - ETA: 0s - loss: 1.3356 - accuracy: 0.39 - ETA: 0s - loss: 1.2890 - accuracy: 0.40 - ETA: 0s - loss: 1.2768 - accuracy: 0.41 - ETA: 0s - loss: 1.2750 - accuracy: 0.42 - 1s 44ms/step - loss: 1.2569 - accuracy: 0.4279 - val_loss: 1.2442 - val_accuracy: 0.4226\n",
      "Epoch 74/1000\n",
      "26/26 [==============================] - ETA: 0s - loss: 1.4274 - accuracy: 0.37 - ETA: 0s - loss: 1.3656 - accuracy: 0.43 - ETA: 0s - loss: 1.3246 - accuracy: 0.43 - ETA: 0s - loss: 1.3030 - accuracy: 0.43 - ETA: 0s - loss: 1.3067 - accuracy: 0.43 - 1s 46ms/step - loss: 1.2970 - accuracy: 0.4351 - val_loss: 1.2385 - val_accuracy: 0.4405\n",
      "Epoch 75/1000\n",
      "26/26 [==============================] - ETA: 0s - loss: 1.2230 - accuracy: 0.43 - ETA: 0s - loss: 1.3347 - accuracy: 0.39 - ETA: 0s - loss: 1.3027 - accuracy: 0.40 - ETA: 0s - loss: 1.3212 - accuracy: 0.39 - ETA: 0s - loss: 1.3105 - accuracy: 0.41 - ETA: 0s - loss: 1.3112 - accuracy: 0.40 - 1s 48ms/step - loss: 1.3025 - accuracy: 0.4111 - val_loss: 1.2481 - val_accuracy: 0.4286\n",
      "Epoch 76/1000\n",
      "26/26 [==============================] - ETA: 0s - loss: 1.4472 - accuracy: 0.43 - ETA: 0s - loss: 1.3477 - accuracy: 0.38 - ETA: 0s - loss: 1.3000 - accuracy: 0.38 - ETA: 0s - loss: 1.2932 - accuracy: 0.41 - ETA: 0s - loss: 1.2836 - accuracy: 0.43 - ETA: 0s - loss: 1.2836 - accuracy: 0.43 - 1s 56ms/step - loss: 1.2836 - accuracy: 0.4339 - val_loss: 1.2346 - val_accuracy: 0.4464\n",
      "Epoch 77/1000\n",
      "26/26 [==============================] - ETA: 0s - loss: 1.2594 - accuracy: 0.37 - ETA: 0s - loss: 1.3364 - accuracy: 0.41 - ETA: 0s - loss: 1.3037 - accuracy: 0.44 - ETA: 0s - loss: 1.2746 - accuracy: 0.43 - ETA: 0s - loss: 1.2721 - accuracy: 0.44 - 1s 46ms/step - loss: 1.2760 - accuracy: 0.4339 - val_loss: 1.2434 - val_accuracy: 0.4286\n",
      "Epoch 78/1000\n",
      "26/26 [==============================] - ETA: 0s - loss: 1.4588 - accuracy: 0.37 - ETA: 0s - loss: 1.3191 - accuracy: 0.41 - ETA: 0s - loss: 1.2779 - accuracy: 0.41 - ETA: 0s - loss: 1.2563 - accuracy: 0.44 - ETA: 0s - loss: 1.2615 - accuracy: 0.44 - 1s 46ms/step - loss: 1.2484 - accuracy: 0.4471 - val_loss: 1.2446 - val_accuracy: 0.4464\n",
      "Epoch 79/1000\n",
      "26/26 [==============================] - ETA: 0s - loss: 1.3198 - accuracy: 0.40 - ETA: 0s - loss: 1.3979 - accuracy: 0.38 - ETA: 0s - loss: 1.3593 - accuracy: 0.40 - ETA: 0s - loss: 1.3462 - accuracy: 0.39 - ETA: 0s - loss: 1.3323 - accuracy: 0.38 - ETA: 0s - loss: 1.3274 - accuracy: 0.40 - ETA: 0s - loss: 1.3249 - accuracy: 0.39 - 1s 49ms/step - loss: 1.3200 - accuracy: 0.3954 - val_loss: 1.2546 - val_accuracy: 0.4286\n",
      "Epoch 80/1000\n",
      "26/26 [==============================] - ETA: 0s - loss: 1.1626 - accuracy: 0.50 - ETA: 0s - loss: 1.3021 - accuracy: 0.41 - ETA: 0s - loss: 1.2631 - accuracy: 0.40 - ETA: 0s - loss: 1.2458 - accuracy: 0.41 - ETA: 0s - loss: 1.2546 - accuracy: 0.41 - ETA: 0s - loss: 1.2591 - accuracy: 0.41 - 1s 41ms/step - loss: 1.2591 - accuracy: 0.4195 - val_loss: 1.2496 - val_accuracy: 0.4405\n",
      "Epoch 81/1000\n",
      "26/26 [==============================] - ETA: 0s - loss: 1.3694 - accuracy: 0.37 - ETA: 0s - loss: 1.3087 - accuracy: 0.40 - ETA: 0s - loss: 1.2780 - accuracy: 0.42 - ETA: 0s - loss: 1.2838 - accuracy: 0.42 - ETA: 0s - loss: 1.2757 - accuracy: 0.43 - ETA: 0s - loss: 1.2851 - accuracy: 0.43 - 1s 46ms/step - loss: 1.2851 - accuracy: 0.4327 - val_loss: 1.2498 - val_accuracy: 0.4345\n",
      "Epoch 82/1000\n",
      "26/26 [==============================] - ETA: 0s - loss: 1.2376 - accuracy: 0.40 - ETA: 0s - loss: 1.2682 - accuracy: 0.43 - ETA: 0s - loss: 1.2917 - accuracy: 0.40 - ETA: 0s - loss: 1.2985 - accuracy: 0.41 - ETA: 0s - loss: 1.2815 - accuracy: 0.41 - ETA: 0s - loss: 1.2849 - accuracy: 0.41 - 1s 53ms/step - loss: 1.2849 - accuracy: 0.4147 - val_loss: 1.2326 - val_accuracy: 0.4405\n",
      "Epoch 83/1000\n",
      "26/26 [==============================] - ETA: 0s - loss: 1.2755 - accuracy: 0.34 - ETA: 0s - loss: 1.2918 - accuracy: 0.40 - ETA: 0s - loss: 1.2957 - accuracy: 0.40 - ETA: 0s - loss: 1.2616 - accuracy: 0.41 - ETA: 0s - loss: 1.2480 - accuracy: 0.42 - 2s 62ms/step - loss: 1.2647 - accuracy: 0.4195 - val_loss: 1.2346 - val_accuracy: 0.4226\n",
      "Epoch 84/1000\n",
      "26/26 [==============================] - ETA: 0s - loss: 1.3471 - accuracy: 0.34 - ETA: 0s - loss: 1.3279 - accuracy: 0.39 - ETA: 0s - loss: 1.2841 - accuracy: 0.41 - ETA: 0s - loss: 1.2617 - accuracy: 0.42 - ETA: 0s - loss: 1.2438 - accuracy: 0.44 - ETA: 0s - loss: 1.2344 - accuracy: 0.44 - 1s 48ms/step - loss: 1.2344 - accuracy: 0.4471 - val_loss: 1.2279 - val_accuracy: 0.4405\n",
      "Epoch 85/1000\n",
      "26/26 [==============================] - ETA: 0s - loss: 1.5583 - accuracy: 0.34 - ETA: 0s - loss: 1.3547 - accuracy: 0.40 - ETA: 0s - loss: 1.2854 - accuracy: 0.43 - ETA: 0s - loss: 1.2757 - accuracy: 0.44 - ETA: 0s - loss: 1.2629 - accuracy: 0.45 - ETA: 0s - loss: 1.2588 - accuracy: 0.44 - 1s 48ms/step - loss: 1.2588 - accuracy: 0.4471 - val_loss: 1.2305 - val_accuracy: 0.4226\n",
      "Epoch 86/1000\n",
      "26/26 [==============================] - ETA: 0s - loss: 1.2034 - accuracy: 0.50 - ETA: 0s - loss: 1.2974 - accuracy: 0.42 - ETA: 0s - loss: 1.2383 - accuracy: 0.44 - ETA: 0s - loss: 1.2499 - accuracy: 0.43 - ETA: 0s - loss: 1.2473 - accuracy: 0.44 - ETA: 0s - loss: 1.2476 - accuracy: 0.43 - 1s 46ms/step - loss: 1.2476 - accuracy: 0.4399 - val_loss: 1.2240 - val_accuracy: 0.4345\n",
      "Epoch 87/1000\n",
      "26/26 [==============================] - ETA: 0s - loss: 1.2225 - accuracy: 0.50 - ETA: 0s - loss: 1.2669 - accuracy: 0.43 - ETA: 0s - loss: 1.2681 - accuracy: 0.42 - ETA: 0s - loss: 1.2596 - accuracy: 0.42 - ETA: 0s - loss: 1.2498 - accuracy: 0.43 - ETA: 0s - loss: 1.2348 - accuracy: 0.44 - 1s 49ms/step - loss: 1.2348 - accuracy: 0.4423 - val_loss: 1.2223 - val_accuracy: 0.4167\n",
      "Epoch 88/1000\n"
     ]
    },
    {
     "name": "stdout",
     "output_type": "stream",
     "text": [
      "26/26 [==============================] - ETA: 0s - loss: 1.2662 - accuracy: 0.34 - ETA: 0s - loss: 1.3105 - accuracy: 0.40 - ETA: 0s - loss: 1.3355 - accuracy: 0.40 - ETA: 0s - loss: 1.2941 - accuracy: 0.41 - ETA: 0s - loss: 1.2827 - accuracy: 0.41 - 2s 58ms/step - loss: 1.2772 - accuracy: 0.4279 - val_loss: 1.2284 - val_accuracy: 0.4286\n",
      "Epoch 89/1000\n",
      "26/26 [==============================] - ETA: 0s - loss: 1.2955 - accuracy: 0.46 - ETA: 0s - loss: 1.3251 - accuracy: 0.41 - ETA: 0s - loss: 1.2702 - accuracy: 0.45 - ETA: 0s - loss: 1.2606 - accuracy: 0.45 - ETA: 0s - loss: 1.2354 - accuracy: 0.46 - 1s 47ms/step - loss: 1.2426 - accuracy: 0.4567 - val_loss: 1.2378 - val_accuracy: 0.4226\n",
      "Epoch 90/1000\n",
      "26/26 [==============================] - ETA: 0s - loss: 1.2801 - accuracy: 0.40 - ETA: 0s - loss: 1.2803 - accuracy: 0.39 - ETA: 0s - loss: 1.2681 - accuracy: 0.43 - ETA: 0s - loss: 1.2617 - accuracy: 0.42 - ETA: 0s - loss: 1.2448 - accuracy: 0.43 - ETA: 0s - loss: 1.2469 - accuracy: 0.42 - 1s 48ms/step - loss: 1.2365 - accuracy: 0.4351 - val_loss: 1.2363 - val_accuracy: 0.4167\n",
      "Epoch 91/1000\n",
      "26/26 [==============================] - ETA: 0s - loss: 1.2634 - accuracy: 0.28 - ETA: 0s - loss: 1.2932 - accuracy: 0.42 - ETA: 0s - loss: 1.2661 - accuracy: 0.45 - ETA: 0s - loss: 1.2292 - accuracy: 0.48 - ETA: 0s - loss: 1.2376 - accuracy: 0.47 - ETA: 0s - loss: 1.2295 - accuracy: 0.47 - 1s 52ms/step - loss: 1.2264 - accuracy: 0.4663 - val_loss: 1.2259 - val_accuracy: 0.4345\n",
      "Epoch 92/1000\n",
      "26/26 [==============================] - ETA: 0s - loss: 1.3311 - accuracy: 0.34 - ETA: 0s - loss: 1.3261 - accuracy: 0.41 - ETA: 0s - loss: 1.2747 - accuracy: 0.43 - ETA: 0s - loss: 1.2648 - accuracy: 0.45 - ETA: 0s - loss: 1.2519 - accuracy: 0.45 - 1s 46ms/step - loss: 1.2521 - accuracy: 0.4399 - val_loss: 1.2294 - val_accuracy: 0.4345\n",
      "Epoch 93/1000\n",
      "26/26 [==============================] - ETA: 0s - loss: 1.1388 - accuracy: 0.46 - ETA: 0s - loss: 1.2882 - accuracy: 0.43 - ETA: 0s - loss: 1.2611 - accuracy: 0.42 - ETA: 0s - loss: 1.2745 - accuracy: 0.43 - ETA: 0s - loss: 1.2647 - accuracy: 0.45 - 1s 47ms/step - loss: 1.2576 - accuracy: 0.4471 - val_loss: 1.2300 - val_accuracy: 0.4345\n",
      "Epoch 94/1000\n",
      "26/26 [==============================] - ETA: 0s - loss: 1.1219 - accuracy: 0.37 - ETA: 0s - loss: 1.2573 - accuracy: 0.41 - ETA: 0s - loss: 1.2643 - accuracy: 0.41 - ETA: 0s - loss: 1.2469 - accuracy: 0.43 - ETA: 0s - loss: 1.2410 - accuracy: 0.44 - 1s 46ms/step - loss: 1.2384 - accuracy: 0.4483 - val_loss: 1.2399 - val_accuracy: 0.4345\n",
      "Epoch 95/1000\n",
      "26/26 [==============================] - ETA: 0s - loss: 1.2357 - accuracy: 0.43 - ETA: 0s - loss: 1.3190 - accuracy: 0.40 - ETA: 0s - loss: 1.2886 - accuracy: 0.42 - ETA: 0s - loss: 1.2540 - accuracy: 0.43 - ETA: 0s - loss: 1.2542 - accuracy: 0.44 - ETA: 0s - loss: 1.2533 - accuracy: 0.44 - 2s 60ms/step - loss: 1.2533 - accuracy: 0.4423 - val_loss: 1.2373 - val_accuracy: 0.4226\n",
      "Epoch 96/1000\n",
      "26/26 [==============================] - ETA: 0s - loss: 1.1612 - accuracy: 0.46 - ETA: 0s - loss: 1.3207 - accuracy: 0.41 - ETA: 0s - loss: 1.2834 - accuracy: 0.40 - ETA: 0s - loss: 1.2734 - accuracy: 0.41 - ETA: 0s - loss: 1.2599 - accuracy: 0.43 - ETA: 0s - loss: 1.2604 - accuracy: 0.43 - 1s 45ms/step - loss: 1.2604 - accuracy: 0.4339 - val_loss: 1.2293 - val_accuracy: 0.4405\n",
      "Epoch 97/1000\n",
      "26/26 [==============================] - ETA: 0s - loss: 1.3257 - accuracy: 0.34 - ETA: 0s - loss: 1.3839 - accuracy: 0.35 - ETA: 0s - loss: 1.2998 - accuracy: 0.40 - ETA: 0s - loss: 1.2900 - accuracy: 0.39 - ETA: 0s - loss: 1.2622 - accuracy: 0.40 - ETA: 0s - loss: 1.2684 - accuracy: 0.41 - 1s 45ms/step - loss: 1.2655 - accuracy: 0.4159 - val_loss: 1.2343 - val_accuracy: 0.4345\n"
     ]
    },
    {
     "data": {
      "text/html": [
       "<span style=\"color:#4527A0\"><h1 style=\"font-size:18px\">Trial complete</h1></span>"
      ],
      "text/plain": [
       "<IPython.core.display.HTML object>"
      ]
     },
     "metadata": {},
     "output_type": "display_data"
    },
    {
     "data": {
      "text/html": [
       "<span style=\"color:#4527A0\"><h1 style=\"font-size:18px\">Trial summary</h1></span>"
      ],
      "text/plain": [
       "<IPython.core.display.HTML object>"
      ]
     },
     "metadata": {},
     "output_type": "display_data"
    },
    {
     "data": {
      "text/html": [
       "<span style=\"color:cyan\"> |-Trial ID: bb1aed9091d817e08c6b45131578d38c</span>"
      ],
      "text/plain": [
       "<IPython.core.display.HTML object>"
      ]
     },
     "metadata": {},
     "output_type": "display_data"
    },
    {
     "data": {
      "text/html": [
       "<span style=\"color:cyan\"> |-Score: 0.4464285671710968</span>"
      ],
      "text/plain": [
       "<IPython.core.display.HTML object>"
      ]
     },
     "metadata": {},
     "output_type": "display_data"
    },
    {
     "data": {
      "text/html": [
       "<span style=\"color:cyan\"> |-Best step: 75</span>"
      ],
      "text/plain": [
       "<IPython.core.display.HTML object>"
      ]
     },
     "metadata": {},
     "output_type": "display_data"
    },
    {
     "data": {
      "text/html": [
       "<span style=\"color:#7E57C2\"><h2 style=\"font-size:16px\">Hyperparameters:</h2></span>"
      ],
      "text/plain": [
       "<IPython.core.display.HTML object>"
      ]
     },
     "metadata": {},
     "output_type": "display_data"
    },
    {
     "data": {
      "text/html": [
       "<span style=\"color:cyan\"> |-classification_head_1/dropout: 0</span>"
      ],
      "text/plain": [
       "<IPython.core.display.HTML object>"
      ]
     },
     "metadata": {},
     "output_type": "display_data"
    },
    {
     "data": {
      "text/html": [
       "<span style=\"color:blue\"> |-learning_rate: 0.001</span>"
      ],
      "text/plain": [
       "<IPython.core.display.HTML object>"
      ]
     },
     "metadata": {},
     "output_type": "display_data"
    },
    {
     "data": {
      "text/html": [
       "<span style=\"color:cyan\"> |-optimizer: sgd</span>"
      ],
      "text/plain": [
       "<IPython.core.display.HTML object>"
      ]
     },
     "metadata": {},
     "output_type": "display_data"
    },
    {
     "data": {
      "text/html": [
       "<span style=\"color:blue\"> |-structured_data_block_1/dense_block_1/dropout: 0.25</span>"
      ],
      "text/plain": [
       "<IPython.core.display.HTML object>"
      ]
     },
     "metadata": {},
     "output_type": "display_data"
    },
    {
     "data": {
      "text/html": [
       "<span style=\"color:cyan\"> |-structured_data_block_1/dense_block_1/num_layers: 3</span>"
      ],
      "text/plain": [
       "<IPython.core.display.HTML object>"
      ]
     },
     "metadata": {},
     "output_type": "display_data"
    },
    {
     "data": {
      "text/html": [
       "<span style=\"color:blue\"> |-structured_data_block_1/dense_block_1/units_0: 64</span>"
      ],
      "text/plain": [
       "<IPython.core.display.HTML object>"
      ]
     },
     "metadata": {},
     "output_type": "display_data"
    },
    {
     "data": {
      "text/html": [
       "<span style=\"color:cyan\"> |-structured_data_block_1/dense_block_1/units_1: 16</span>"
      ],
      "text/plain": [
       "<IPython.core.display.HTML object>"
      ]
     },
     "metadata": {},
     "output_type": "display_data"
    },
    {
     "data": {
      "text/html": [
       "<span style=\"color:blue\"> |-structured_data_block_1/dense_block_1/units_2: 64</span>"
      ],
      "text/plain": [
       "<IPython.core.display.HTML object>"
      ]
     },
     "metadata": {},
     "output_type": "display_data"
    },
    {
     "data": {
      "text/html": [
       "<span style=\"color:cyan\"> |-structured_data_block_1/dense_block_1/use_batchnorm: True</span>"
      ],
      "text/plain": [
       "<IPython.core.display.HTML object>"
      ]
     },
     "metadata": {},
     "output_type": "display_data"
    },
    {
     "data": {
      "text/html": [
       "<span style=\"color:#4527A0\"><h1 style=\"font-size:18px\">Starting new trial</h1></span>"
      ],
      "text/plain": [
       "<IPython.core.display.HTML object>"
      ]
     },
     "metadata": {},
     "output_type": "display_data"
    },
    {
     "name": "stdout",
     "output_type": "stream",
     "text": [
      "Epoch 1/1000\n",
      "26/26 [==============================] - ETA: 0s - loss: 1.6225 - accuracy: 0.37 - ETA: 0s - loss: 1.7063 - accuracy: 0.32 - ETA: 0s - loss: 1.5993 - accuracy: 0.36 - ETA: 0s - loss: 1.6047 - accuracy: 0.37 - ETA: 0s - loss: 1.5898 - accuracy: 0.38 - ETA: 0s - loss: 1.5923 - accuracy: 0.37 - ETA: 0s - loss: 1.5664 - accuracy: 0.38 - 6s 234ms/step - loss: 1.5519 - accuracy: 0.3882 - val_loss: 1.9122 - val_accuracy: 0.3512\n",
      "Epoch 2/1000\n",
      "26/26 [==============================] - ETA: 0s - loss: 0.9901 - accuracy: 0.59 - ETA: 0s - loss: 1.1119 - accuracy: 0.55 - ETA: 0s - loss: 1.0728 - accuracy: 0.56 - ETA: 0s - loss: 1.0459 - accuracy: 0.58 - ETA: 0s - loss: 1.0571 - accuracy: 0.55 - ETA: 0s - loss: 1.0736 - accuracy: 0.55 - ETA: 0s - loss: 1.1162 - accuracy: 0.53 - 2s 58ms/step - loss: 1.1031 - accuracy: 0.5469 - val_loss: 1.4025 - val_accuracy: 0.3750\n",
      "Epoch 3/1000\n",
      "26/26 [==============================] - ETA: 0s - loss: 0.6572 - accuracy: 0.78 - ETA: 0s - loss: 1.0205 - accuracy: 0.58 - ETA: 0s - loss: 0.9646 - accuracy: 0.61 - ETA: 0s - loss: 0.9788 - accuracy: 0.60 - ETA: 0s - loss: 0.9874 - accuracy: 0.59 - ETA: 0s - loss: 0.9872 - accuracy: 0.59 - ETA: 0s - loss: 0.9770 - accuracy: 0.60 - ETA: 0s - loss: 0.9644 - accuracy: 0.61 - 1s 57ms/step - loss: 0.9644 - accuracy: 0.6106 - val_loss: 1.2279 - val_accuracy: 0.4524\n",
      "Epoch 4/1000\n",
      "26/26 [==============================] - ETA: 0s - loss: 0.8902 - accuracy: 0.59 - ETA: 0s - loss: 1.0164 - accuracy: 0.60 - ETA: 0s - loss: 0.8936 - accuracy: 0.66 - ETA: 0s - loss: 0.9192 - accuracy: 0.66 - ETA: 0s - loss: 0.9138 - accuracy: 0.66 - ETA: 0s - loss: 0.9030 - accuracy: 0.65 - ETA: 0s - loss: 0.9164 - accuracy: 0.65 - 1s 50ms/step - loss: 0.8970 - accuracy: 0.6611 - val_loss: 1.1938 - val_accuracy: 0.4762\n",
      "Epoch 5/1000\n",
      "26/26 [==============================] - ETA: 0s - loss: 0.9067 - accuracy: 0.62 - ETA: 0s - loss: 0.9396 - accuracy: 0.65 - ETA: 0s - loss: 0.9129 - accuracy: 0.69 - ETA: 0s - loss: 0.8802 - accuracy: 0.69 - ETA: 0s - loss: 0.8588 - accuracy: 0.69 - ETA: 0s - loss: 0.8493 - accuracy: 0.68 - ETA: 0s - loss: 0.8404 - accuracy: 0.67 - 1s 51ms/step - loss: 0.8389 - accuracy: 0.6743 - val_loss: 1.1193 - val_accuracy: 0.5238\n",
      "Epoch 6/1000\n",
      "26/26 [==============================] - ETA: 0s - loss: 0.6569 - accuracy: 0.65 - ETA: 0s - loss: 0.8704 - accuracy: 0.62 - ETA: 0s - loss: 0.7802 - accuracy: 0.69 - ETA: 0s - loss: 0.7462 - accuracy: 0.69 - ETA: 0s - loss: 0.7768 - accuracy: 0.69 - ETA: 0s - loss: 0.7729 - accuracy: 0.68 - ETA: 0s - loss: 0.7702 - accuracy: 0.69 - 2s 65ms/step - loss: 0.7549 - accuracy: 0.6983 - val_loss: 1.0985 - val_accuracy: 0.5179\n",
      "Epoch 7/1000\n",
      "26/26 [==============================] - ETA: 0s - loss: 0.7281 - accuracy: 0.75 - ETA: 0s - loss: 0.8516 - accuracy: 0.69 - ETA: 0s - loss: 0.7640 - accuracy: 0.72 - ETA: 0s - loss: 0.7254 - accuracy: 0.73 - ETA: 0s - loss: 0.7215 - accuracy: 0.71 - ETA: 0s - loss: 0.7194 - accuracy: 0.72 - ETA: 0s - loss: 0.7342 - accuracy: 0.71 - 1s 51ms/step - loss: 0.7193 - accuracy: 0.7260 - val_loss: 1.0926 - val_accuracy: 0.5774\n",
      "Epoch 8/1000\n",
      "26/26 [==============================] - ETA: 0s - loss: 0.7488 - accuracy: 0.68 - ETA: 0s - loss: 0.8727 - accuracy: 0.63 - ETA: 0s - loss: 0.8327 - accuracy: 0.67 - ETA: 0s - loss: 0.7750 - accuracy: 0.70 - ETA: 0s - loss: 0.7272 - accuracy: 0.71 - ETA: 0s - loss: 0.7117 - accuracy: 0.70 - ETA: 0s - loss: 0.7191 - accuracy: 0.70 - ETA: 0s - loss: 0.6978 - accuracy: 0.71 - 2s 59ms/step - loss: 0.6978 - accuracy: 0.7151 - val_loss: 1.0918 - val_accuracy: 0.5476\n",
      "Epoch 9/1000\n",
      "26/26 [==============================] - ETA: 0s - loss: 0.5652 - accuracy: 0.71 - ETA: 0s - loss: 0.7026 - accuracy: 0.73 - ETA: 0s - loss: 0.6183 - accuracy: 0.77 - ETA: 0s - loss: 0.6038 - accuracy: 0.77 - ETA: 0s - loss: 0.6069 - accuracy: 0.76 - ETA: 0s - loss: 0.6266 - accuracy: 0.76 - ETA: 0s - loss: 0.6334 - accuracy: 0.75 - ETA: 0s - loss: 0.6173 - accuracy: 0.77 - 1s 54ms/step - loss: 0.6173 - accuracy: 0.7704 - val_loss: 1.1598 - val_accuracy: 0.5655\n",
      "Epoch 10/1000\n",
      "26/26 [==============================] - ETA: 0s - loss: 0.6569 - accuracy: 0.78 - ETA: 0s - loss: 0.6615 - accuracy: 0.75 - ETA: 0s - loss: 0.6353 - accuracy: 0.75 - ETA: 0s - loss: 0.6215 - accuracy: 0.74 - ETA: 0s - loss: 0.6242 - accuracy: 0.74 - ETA: 0s - loss: 0.6313 - accuracy: 0.74 - ETA: 0s - loss: 0.6312 - accuracy: 0.74 - 1s 54ms/step - loss: 0.6194 - accuracy: 0.7500 - val_loss: 1.0812 - val_accuracy: 0.6012\n",
      "Epoch 11/1000\n",
      "26/26 [==============================] - ETA: 0s - loss: 0.5465 - accuracy: 0.84 - ETA: 0s - loss: 0.6346 - accuracy: 0.74 - ETA: 0s - loss: 0.5762 - accuracy: 0.78 - ETA: 0s - loss: 0.5522 - accuracy: 0.79 - ETA: 0s - loss: 0.5539 - accuracy: 0.79 - ETA: 0s - loss: 0.5658 - accuracy: 0.78 - ETA: 0s - loss: 0.5668 - accuracy: 0.78 - 2s 59ms/step - loss: 0.5586 - accuracy: 0.7909 - val_loss: 1.0966 - val_accuracy: 0.5833\n",
      "Epoch 12/1000\n",
      "26/26 [==============================] - ETA: 0s - loss: 0.8772 - accuracy: 0.71 - ETA: 0s - loss: 0.6829 - accuracy: 0.76 - ETA: 0s - loss: 0.6328 - accuracy: 0.79 - ETA: 0s - loss: 0.5977 - accuracy: 0.80 - ETA: 0s - loss: 0.6070 - accuracy: 0.80 - ETA: 0s - loss: 0.6049 - accuracy: 0.79 - ETA: 0s - loss: 0.5932 - accuracy: 0.80 - 2s 59ms/step - loss: 0.5819 - accuracy: 0.8077 - val_loss: 1.1297 - val_accuracy: 0.5774\n",
      "Epoch 13/1000\n",
      "26/26 [==============================] - ETA: 0s - loss: 0.6717 - accuracy: 0.71 - ETA: 0s - loss: 0.5677 - accuracy: 0.80 - ETA: 0s - loss: 0.5299 - accuracy: 0.83 - ETA: 0s - loss: 0.5130 - accuracy: 0.83 - ETA: 0s - loss: 0.5152 - accuracy: 0.82 - ETA: 0s - loss: 0.5279 - accuracy: 0.81 - ETA: 0s - loss: 0.5240 - accuracy: 0.81 - 1s 54ms/step - loss: 0.5174 - accuracy: 0.8221 - val_loss: 1.1093 - val_accuracy: 0.5536\n",
      "Epoch 14/1000\n",
      "26/26 [==============================] - ETA: 0s - loss: 0.4779 - accuracy: 0.81 - ETA: 0s - loss: 0.5481 - accuracy: 0.80 - ETA: 0s - loss: 0.5675 - accuracy: 0.81 - ETA: 0s - loss: 0.4990 - accuracy: 0.84 - ETA: 0s - loss: 0.4838 - accuracy: 0.84 - ETA: 0s - loss: 0.4859 - accuracy: 0.83 - ETA: 0s - loss: 0.4910 - accuracy: 0.83 - ETA: 0s - loss: 0.4920 - accuracy: 0.83 - 1s 56ms/step - loss: 0.4819 - accuracy: 0.8353 - val_loss: 1.1620 - val_accuracy: 0.5595\n",
      "Epoch 15/1000\n",
      "26/26 [==============================] - ETA: 0s - loss: 0.4329 - accuracy: 0.81 - ETA: 0s - loss: 0.5781 - accuracy: 0.79 - ETA: 0s - loss: 0.4895 - accuracy: 0.82 - ETA: 0s - loss: 0.4739 - accuracy: 0.82 - ETA: 0s - loss: 0.4631 - accuracy: 0.83 - ETA: 0s - loss: 0.4692 - accuracy: 0.83 - ETA: 0s - loss: 0.4657 - accuracy: 0.83 - 1s 53ms/step - loss: 0.4557 - accuracy: 0.8401 - val_loss: 1.1865 - val_accuracy: 0.5417\n",
      "Epoch 16/1000\n",
      "26/26 [==============================] - ETA: 0s - loss: 0.4961 - accuracy: 0.75 - ETA: 0s - loss: 0.5152 - accuracy: 0.80 - ETA: 0s - loss: 0.4771 - accuracy: 0.83 - ETA: 0s - loss: 0.4717 - accuracy: 0.84 - ETA: 0s - loss: 0.4692 - accuracy: 0.84 - ETA: 0s - loss: 0.4710 - accuracy: 0.84 - ETA: 0s - loss: 0.4542 - accuracy: 0.85 - 1s 52ms/step - loss: 0.4451 - accuracy: 0.8570 - val_loss: 1.1979 - val_accuracy: 0.5655\n",
      "Epoch 17/1000\n",
      "26/26 [==============================] - ETA: 0s - loss: 0.6219 - accuracy: 0.81 - ETA: 0s - loss: 0.4789 - accuracy: 0.82 - ETA: 0s - loss: 0.4419 - accuracy: 0.85 - ETA: 0s - loss: 0.4176 - accuracy: 0.87 - ETA: 0s - loss: 0.4303 - accuracy: 0.86 - ETA: 0s - loss: 0.4295 - accuracy: 0.86 - ETA: 0s - loss: 0.4305 - accuracy: 0.86 - 2s 60ms/step - loss: 0.4214 - accuracy: 0.8666 - val_loss: 1.1113 - val_accuracy: 0.5714\n",
      "Epoch 18/1000\n",
      "26/26 [==============================] - ETA: 0s - loss: 0.3065 - accuracy: 0.90 - ETA: 0s - loss: 0.4177 - accuracy: 0.85 - ETA: 0s - loss: 0.4359 - accuracy: 0.86 - ETA: 0s - loss: 0.4278 - accuracy: 0.85 - ETA: 0s - loss: 0.4357 - accuracy: 0.84 - ETA: 0s - loss: 0.4384 - accuracy: 0.84 - ETA: 0s - loss: 0.4306 - accuracy: 0.85 - 1s 48ms/step - loss: 0.4267 - accuracy: 0.8510 - val_loss: 1.1574 - val_accuracy: 0.5714\n",
      "Epoch 19/1000\n"
     ]
    },
    {
     "name": "stdout",
     "output_type": "stream",
     "text": [
      "26/26 [==============================] - ETA: 0s - loss: 0.3296 - accuracy: 0.87 - ETA: 0s - loss: 0.3876 - accuracy: 0.87 - ETA: 0s - loss: 0.4996 - accuracy: 0.85 - ETA: 0s - loss: 0.4308 - accuracy: 0.88 - ETA: 0s - loss: 0.4198 - accuracy: 0.86 - ETA: 0s - loss: 0.4230 - accuracy: 0.86 - ETA: 0s - loss: 0.4231 - accuracy: 0.86 - 1s 48ms/step - loss: 0.4067 - accuracy: 0.8690 - val_loss: 1.2633 - val_accuracy: 0.5357\n",
      "Epoch 20/1000\n",
      "26/26 [==============================] - ETA: 0s - loss: 0.4679 - accuracy: 0.90 - ETA: 0s - loss: 0.4314 - accuracy: 0.87 - ETA: 0s - loss: 0.4286 - accuracy: 0.87 - ETA: 0s - loss: 0.4156 - accuracy: 0.87 - ETA: 0s - loss: 0.4030 - accuracy: 0.87 - ETA: 0s - loss: 0.4150 - accuracy: 0.86 - ETA: 0s - loss: 0.4046 - accuracy: 0.86 - 1s 44ms/step - loss: 0.3949 - accuracy: 0.8690 - val_loss: 1.2814 - val_accuracy: 0.5536\n"
     ]
    },
    {
     "data": {
      "text/html": [
       "<span style=\"color:#4527A0\"><h1 style=\"font-size:18px\">Trial complete</h1></span>"
      ],
      "text/plain": [
       "<IPython.core.display.HTML object>"
      ]
     },
     "metadata": {},
     "output_type": "display_data"
    },
    {
     "data": {
      "text/html": [
       "<span style=\"color:#4527A0\"><h1 style=\"font-size:18px\">Trial summary</h1></span>"
      ],
      "text/plain": [
       "<IPython.core.display.HTML object>"
      ]
     },
     "metadata": {},
     "output_type": "display_data"
    },
    {
     "data": {
      "text/html": [
       "<span style=\"color:cyan\"> |-Trial ID: d6259e81fbd1528e7d2f683f0d0bd75c</span>"
      ],
      "text/plain": [
       "<IPython.core.display.HTML object>"
      ]
     },
     "metadata": {},
     "output_type": "display_data"
    },
    {
     "data": {
      "text/html": [
       "<span style=\"color:cyan\"> |-Score: 0.601190447807312</span>"
      ],
      "text/plain": [
       "<IPython.core.display.HTML object>"
      ]
     },
     "metadata": {},
     "output_type": "display_data"
    },
    {
     "data": {
      "text/html": [
       "<span style=\"color:cyan\"> |-Best step: 9</span>"
      ],
      "text/plain": [
       "<IPython.core.display.HTML object>"
      ]
     },
     "metadata": {},
     "output_type": "display_data"
    },
    {
     "data": {
      "text/html": [
       "<span style=\"color:#7E57C2\"><h2 style=\"font-size:16px\">Hyperparameters:</h2></span>"
      ],
      "text/plain": [
       "<IPython.core.display.HTML object>"
      ]
     },
     "metadata": {},
     "output_type": "display_data"
    },
    {
     "data": {
      "text/html": [
       "<span style=\"color:cyan\"> |-classification_head_1/dropout: 0</span>"
      ],
      "text/plain": [
       "<IPython.core.display.HTML object>"
      ]
     },
     "metadata": {},
     "output_type": "display_data"
    },
    {
     "data": {
      "text/html": [
       "<span style=\"color:blue\"> |-learning_rate: 0.001</span>"
      ],
      "text/plain": [
       "<IPython.core.display.HTML object>"
      ]
     },
     "metadata": {},
     "output_type": "display_data"
    },
    {
     "data": {
      "text/html": [
       "<span style=\"color:cyan\"> |-optimizer: adam</span>"
      ],
      "text/plain": [
       "<IPython.core.display.HTML object>"
      ]
     },
     "metadata": {},
     "output_type": "display_data"
    },
    {
     "data": {
      "text/html": [
       "<span style=\"color:blue\"> |-structured_data_block_1/dense_block_1/dropout: 0.5</span>"
      ],
      "text/plain": [
       "<IPython.core.display.HTML object>"
      ]
     },
     "metadata": {},
     "output_type": "display_data"
    },
    {
     "data": {
      "text/html": [
       "<span style=\"color:cyan\"> |-structured_data_block_1/dense_block_1/num_layers: 1</span>"
      ],
      "text/plain": [
       "<IPython.core.display.HTML object>"
      ]
     },
     "metadata": {},
     "output_type": "display_data"
    },
    {
     "data": {
      "text/html": [
       "<span style=\"color:blue\"> |-structured_data_block_1/dense_block_1/units_0: 512</span>"
      ],
      "text/plain": [
       "<IPython.core.display.HTML object>"
      ]
     },
     "metadata": {},
     "output_type": "display_data"
    },
    {
     "data": {
      "text/html": [
       "<span style=\"color:cyan\"> |-structured_data_block_1/dense_block_1/units_1: 16</span>"
      ],
      "text/plain": [
       "<IPython.core.display.HTML object>"
      ]
     },
     "metadata": {},
     "output_type": "display_data"
    },
    {
     "data": {
      "text/html": [
       "<span style=\"color:blue\"> |-structured_data_block_1/dense_block_1/units_2: 64</span>"
      ],
      "text/plain": [
       "<IPython.core.display.HTML object>"
      ]
     },
     "metadata": {},
     "output_type": "display_data"
    },
    {
     "data": {
      "text/html": [
       "<span style=\"color:cyan\"> |-structured_data_block_1/dense_block_1/use_batchnorm: True</span>"
      ],
      "text/plain": [
       "<IPython.core.display.HTML object>"
      ]
     },
     "metadata": {},
     "output_type": "display_data"
    },
    {
     "name": "stdout",
     "output_type": "stream",
     "text": [
      "INFO:tensorflow:Oracle triggered exit\n",
      "Epoch 1/34\n",
      "32/32 [==============================] - ETA: 0s - loss: 1.5850 - accuracy: 0.25 - ETA: 0s - loss: 1.9219 - accuracy: 0.24 - ETA: 0s - loss: 1.8173 - accuracy: 0.24 - ETA: 0s - loss: 1.7685 - accuracy: 0.25 - ETA: 0s - loss: 1.7143 - accuracy: 0.26 - ETA: 0s - loss: 1.6882 - accuracy: 0.25 - ETA: 0s - loss: 1.6638 - accuracy: 0.27 - 0s 11ms/step - loss: 1.6591 - accuracy: 0.2760\n",
      "Epoch 2/34\n",
      "32/32 [==============================] - ETA: 0s - loss: 1.3322 - accuracy: 0.40 - ETA: 0s - loss: 1.5056 - accuracy: 0.34 - ETA: 0s - loss: 1.4695 - accuracy: 0.34 - ETA: 0s - loss: 1.4427 - accuracy: 0.35 - ETA: 0s - loss: 1.4457 - accuracy: 0.35 - ETA: 0s - loss: 1.4389 - accuracy: 0.34 - ETA: 0s - loss: 1.4347 - accuracy: 0.34 - 0s 11ms/step - loss: 1.4383 - accuracy: 0.3470\n",
      "Epoch 3/34\n",
      "32/32 [==============================] - ETA: 0s - loss: 1.2208 - accuracy: 0.34 - ETA: 0s - loss: 1.3655 - accuracy: 0.33 - ETA: 0s - loss: 1.4036 - accuracy: 0.31 - ETA: 0s - loss: 1.3720 - accuracy: 0.33 - ETA: 0s - loss: 1.3597 - accuracy: 0.35 - ETA: 0s - loss: 1.3441 - accuracy: 0.36 - ETA: 0s - loss: 1.3378 - accuracy: 0.36 - 0s 11ms/step - loss: 1.3323 - accuracy: 0.3630\n",
      "Epoch 4/34\n",
      "32/32 [==============================] - ETA: 0s - loss: 1.2264 - accuracy: 0.34 - ETA: 0s - loss: 1.3419 - accuracy: 0.39 - ETA: 0s - loss: 1.3262 - accuracy: 0.37 - ETA: 0s - loss: 1.2980 - accuracy: 0.39 - ETA: 0s - loss: 1.2831 - accuracy: 0.41 - ETA: 0s - loss: 1.2817 - accuracy: 0.40 - ETA: 0s - loss: 1.2788 - accuracy: 0.40 - 0s 11ms/step - loss: 1.2780 - accuracy: 0.4090\n",
      "Epoch 5/34\n",
      "32/32 [==============================] - ETA: 0s - loss: 1.2706 - accuracy: 0.34 - ETA: 0s - loss: 1.2986 - accuracy: 0.41 - ETA: 0s - loss: 1.2626 - accuracy: 0.42 - ETA: 0s - loss: 1.2445 - accuracy: 0.42 - ETA: 0s - loss: 1.2489 - accuracy: 0.43 - ETA: 0s - loss: 1.2405 - accuracy: 0.44 - ETA: 0s - loss: 1.2398 - accuracy: 0.44 - 0s 11ms/step - loss: 1.2338 - accuracy: 0.4460\n",
      "Epoch 6/34\n",
      "32/32 [==============================] - ETA: 0s - loss: 1.1131 - accuracy: 0.46 - ETA: 0s - loss: 1.2844 - accuracy: 0.42 - ETA: 0s - loss: 1.2446 - accuracy: 0.44 - ETA: 0s - loss: 1.2218 - accuracy: 0.45 - ETA: 0s - loss: 1.2122 - accuracy: 0.45 - ETA: 0s - loss: 1.2143 - accuracy: 0.44 - ETA: 0s - loss: 1.2132 - accuracy: 0.44 - 0s 11ms/step - loss: 1.2100 - accuracy: 0.4430\n",
      "Epoch 7/34\n",
      "32/32 [==============================] - ETA: 0s - loss: 1.1144 - accuracy: 0.50 - ETA: 0s - loss: 1.1817 - accuracy: 0.43 - ETA: 0s - loss: 1.1760 - accuracy: 0.44 - ETA: 0s - loss: 1.1722 - accuracy: 0.45 - ETA: 0s - loss: 1.1654 - accuracy: 0.47 - ETA: 0s - loss: 1.1651 - accuracy: 0.47 - ETA: 0s - loss: 1.1557 - accuracy: 0.48 - 0s 11ms/step - loss: 1.1481 - accuracy: 0.4890\n",
      "Epoch 8/34\n",
      "32/32 [==============================] - ETA: 0s - loss: 1.1058 - accuracy: 0.50 - ETA: 0s - loss: 1.1828 - accuracy: 0.50 - ETA: 0s - loss: 1.1479 - accuracy: 0.49 - ETA: 0s - loss: 1.1442 - accuracy: 0.47 - ETA: 0s - loss: 1.1388 - accuracy: 0.48 - ETA: 0s - loss: 1.1354 - accuracy: 0.49 - ETA: 0s - loss: 1.1375 - accuracy: 0.49 - 0s 11ms/step - loss: 1.1363 - accuracy: 0.4890\n",
      "Epoch 9/34\n",
      "32/32 [==============================] - ETA: 0s - loss: 1.0947 - accuracy: 0.50 - ETA: 0s - loss: 1.1428 - accuracy: 0.55 - ETA: 0s - loss: 1.1298 - accuracy: 0.51 - ETA: 0s - loss: 1.1321 - accuracy: 0.50 - ETA: 0s - loss: 1.1160 - accuracy: 0.52 - ETA: 0s - loss: 1.1069 - accuracy: 0.52 - ETA: 0s - loss: 1.1148 - accuracy: 0.51 - ETA: 0s - loss: 1.1184 - accuracy: 0.52 - 0s 12ms/step - loss: 1.1184 - accuracy: 0.5210\n",
      "Epoch 10/34\n",
      "32/32 [==============================] - ETA: 0s - loss: 1.1203 - accuracy: 0.40 - ETA: 0s - loss: 1.1622 - accuracy: 0.45 - ETA: 0s - loss: 1.1384 - accuracy: 0.47 - ETA: 0s - loss: 1.1238 - accuracy: 0.47 - ETA: 0s - loss: 1.1090 - accuracy: 0.48 - ETA: 0s - loss: 1.0973 - accuracy: 0.49 - ETA: 0s - loss: 1.0906 - accuracy: 0.49 - 0s 11ms/step - loss: 1.0870 - accuracy: 0.5030\n",
      "Epoch 11/34\n",
      "32/32 [==============================] - ETA: 0s - loss: 1.0079 - accuracy: 0.46 - ETA: 0s - loss: 1.0923 - accuracy: 0.48 - ETA: 0s - loss: 1.0648 - accuracy: 0.48 - ETA: 0s - loss: 1.0747 - accuracy: 0.46 - ETA: 0s - loss: 1.0835 - accuracy: 0.48 - ETA: 0s - loss: 1.0795 - accuracy: 0.49 - ETA: 0s - loss: 1.0800 - accuracy: 0.50 - 0s 11ms/step - loss: 1.0735 - accuracy: 0.5050\n",
      "Epoch 12/34\n",
      "32/32 [==============================] - ETA: 0s - loss: 1.0368 - accuracy: 0.53 - ETA: 0s - loss: 1.1371 - accuracy: 0.52 - ETA: 0s - loss: 1.0433 - accuracy: 0.56 - ETA: 0s - loss: 1.0470 - accuracy: 0.53 - ETA: 0s - loss: 1.0403 - accuracy: 0.54 - ETA: 0s - loss: 1.0416 - accuracy: 0.54 - ETA: 0s - loss: 1.0560 - accuracy: 0.54 - 0s 11ms/step - loss: 1.0405 - accuracy: 0.5510\n",
      "Epoch 13/34\n",
      "32/32 [==============================] - ETA: 0s - loss: 1.0303 - accuracy: 0.46 - ETA: 0s - loss: 1.0734 - accuracy: 0.53 - ETA: 0s - loss: 1.0593 - accuracy: 0.52 - ETA: 0s - loss: 1.0550 - accuracy: 0.51 - ETA: 0s - loss: 1.0366 - accuracy: 0.53 - ETA: 0s - loss: 1.0192 - accuracy: 0.55 - ETA: 0s - loss: 1.0208 - accuracy: 0.54 - 0s 11ms/step - loss: 1.0192 - accuracy: 0.5520\n",
      "Epoch 14/34\n",
      "32/32 [==============================] - ETA: 0s - loss: 0.9267 - accuracy: 0.62 - ETA: 0s - loss: 1.1057 - accuracy: 0.55 - ETA: 0s - loss: 1.0516 - accuracy: 0.54 - ETA: 0s - loss: 1.0489 - accuracy: 0.54 - ETA: 0s - loss: 1.0441 - accuracy: 0.55 - ETA: 0s - loss: 1.0285 - accuracy: 0.56 - ETA: 0s - loss: 1.0305 - accuracy: 0.55 - 0s 11ms/step - loss: 1.0178 - accuracy: 0.5660\n",
      "Epoch 15/34\n",
      "32/32 [==============================] - ETA: 0s - loss: 0.8436 - accuracy: 0.68 - ETA: 0s - loss: 1.0733 - accuracy: 0.60 - ETA: 0s - loss: 1.0062 - accuracy: 0.60 - ETA: 0s - loss: 1.0021 - accuracy: 0.59 - ETA: 0s - loss: 1.0057 - accuracy: 0.59 - ETA: 0s - loss: 0.9920 - accuracy: 0.59 - ETA: 0s - loss: 0.9966 - accuracy: 0.59 - 0s 11ms/step - loss: 0.9921 - accuracy: 0.5890\n",
      "Epoch 16/34\n",
      "32/32 [==============================] - ETA: 0s - loss: 0.9773 - accuracy: 0.65 - ETA: 0s - loss: 1.0164 - accuracy: 0.55 - ETA: 0s - loss: 0.9565 - accuracy: 0.57 - ETA: 0s - loss: 0.9702 - accuracy: 0.57 - ETA: 0s - loss: 0.9590 - accuracy: 0.58 - ETA: 0s - loss: 0.9503 - accuracy: 0.59 - ETA: 0s - loss: 0.9565 - accuracy: 0.58 - 0s 11ms/step - loss: 0.9486 - accuracy: 0.5930\n",
      "Epoch 17/34\n",
      "32/32 [==============================] - ETA: 0s - loss: 0.8429 - accuracy: 0.62 - ETA: 0s - loss: 0.9835 - accuracy: 0.58 - ETA: 0s - loss: 0.9370 - accuracy: 0.60 - ETA: 0s - loss: 0.9362 - accuracy: 0.60 - ETA: 0s - loss: 0.9336 - accuracy: 0.60 - ETA: 0s - loss: 0.9273 - accuracy: 0.60 - ETA: 0s - loss: 0.9331 - accuracy: 0.60 - 0s 11ms/step - loss: 0.9306 - accuracy: 0.6050\n",
      "Epoch 18/34\n",
      "32/32 [==============================] - ETA: 0s - loss: 0.8945 - accuracy: 0.59 - ETA: 0s - loss: 0.9945 - accuracy: 0.54 - ETA: 0s - loss: 0.9374 - accuracy: 0.59 - ETA: 0s - loss: 0.9536 - accuracy: 0.57 - ETA: 0s - loss: 0.9415 - accuracy: 0.58 - ETA: 0s - loss: 0.9360 - accuracy: 0.59 - ETA: 0s - loss: 0.9359 - accuracy: 0.59 - 0s 11ms/step - loss: 0.9314 - accuracy: 0.5960\n",
      "Epoch 19/34\n",
      "32/32 [==============================] - ETA: 0s - loss: 0.8926 - accuracy: 0.56 - ETA: 0s - loss: 0.9462 - accuracy: 0.57 - ETA: 0s - loss: 0.9020 - accuracy: 0.61 - ETA: 0s - loss: 0.8976 - accuracy: 0.61 - ETA: 0s - loss: 0.8987 - accuracy: 0.61 - ETA: 0s - loss: 0.8913 - accuracy: 0.61 - ETA: 0s - loss: 0.8891 - accuracy: 0.62 - 0s 11ms/step - loss: 0.8890 - accuracy: 0.6230\n",
      "Epoch 20/34\n",
      "32/32 [==============================] - ETA: 0s - loss: 0.9648 - accuracy: 0.56 - ETA: 0s - loss: 0.9125 - accuracy: 0.61 - ETA: 0s - loss: 0.8784 - accuracy: 0.61 - ETA: 0s - loss: 0.8725 - accuracy: 0.61 - ETA: 0s - loss: 0.8820 - accuracy: 0.61 - ETA: 0s - loss: 0.8728 - accuracy: 0.61 - ETA: 0s - loss: 0.8914 - accuracy: 0.61 - 0s 11ms/step - loss: 0.8824 - accuracy: 0.6190\n",
      "Epoch 21/34\n"
     ]
    },
    {
     "name": "stdout",
     "output_type": "stream",
     "text": [
      "32/32 [==============================] - ETA: 0s - loss: 1.0922 - accuracy: 0.53 - ETA: 0s - loss: 0.9244 - accuracy: 0.65 - ETA: 0s - loss: 0.8949 - accuracy: 0.65 - ETA: 0s - loss: 0.8929 - accuracy: 0.64 - ETA: 0s - loss: 0.8934 - accuracy: 0.63 - ETA: 0s - loss: 0.8838 - accuracy: 0.64 - ETA: 0s - loss: 0.8893 - accuracy: 0.64 - 0s 11ms/step - loss: 0.8831 - accuracy: 0.6470\n",
      "Epoch 22/34\n",
      "32/32 [==============================] - ETA: 0s - loss: 1.0031 - accuracy: 0.56 - ETA: 0s - loss: 0.9333 - accuracy: 0.60 - ETA: 0s - loss: 0.8810 - accuracy: 0.61 - ETA: 0s - loss: 0.8917 - accuracy: 0.60 - ETA: 0s - loss: 0.8828 - accuracy: 0.62 - ETA: 0s - loss: 0.8704 - accuracy: 0.62 - ETA: 0s - loss: 0.8759 - accuracy: 0.62 - ETA: 0s - loss: 0.8799 - accuracy: 0.62 - 0s 12ms/step - loss: 0.8799 - accuracy: 0.6220\n",
      "Epoch 23/34\n",
      "32/32 [==============================] - ETA: 0s - loss: 0.8681 - accuracy: 0.59 - ETA: 0s - loss: 0.9004 - accuracy: 0.60 - ETA: 0s - loss: 0.8641 - accuracy: 0.62 - ETA: 0s - loss: 0.8892 - accuracy: 0.60 - ETA: 0s - loss: 0.8612 - accuracy: 0.62 - ETA: 0s - loss: 0.8515 - accuracy: 0.62 - ETA: 0s - loss: 0.8652 - accuracy: 0.62 - 0s 12ms/step - loss: 0.8609 - accuracy: 0.6240\n",
      "Epoch 24/34\n",
      "32/32 [==============================] - ETA: 0s - loss: 0.8567 - accuracy: 0.65 - ETA: 0s - loss: 0.8996 - accuracy: 0.64 - ETA: 0s - loss: 0.8688 - accuracy: 0.63 - ETA: 0s - loss: 0.8826 - accuracy: 0.61 - ETA: 0s - loss: 0.8596 - accuracy: 0.63 - ETA: 0s - loss: 0.8533 - accuracy: 0.63 - ETA: 0s - loss: 0.8549 - accuracy: 0.64 - 0s 11ms/step - loss: 0.8521 - accuracy: 0.6460\n",
      "Epoch 25/34\n",
      "32/32 [==============================] - ETA: 0s - loss: 0.6816 - accuracy: 0.68 - ETA: 0s - loss: 0.8840 - accuracy: 0.63 - ETA: 0s - loss: 0.8722 - accuracy: 0.64 - ETA: 0s - loss: 0.8832 - accuracy: 0.62 - ETA: 0s - loss: 0.8955 - accuracy: 0.62 - ETA: 0s - loss: 0.8662 - accuracy: 0.63 - ETA: 0s - loss: 0.8819 - accuracy: 0.62 - 0s 11ms/step - loss: 0.8749 - accuracy: 0.6320\n",
      "Epoch 26/34\n",
      "32/32 [==============================] - ETA: 0s - loss: 1.0370 - accuracy: 0.56 - ETA: 0s - loss: 0.9920 - accuracy: 0.61 - ETA: 0s - loss: 0.9027 - accuracy: 0.62 - ETA: 0s - loss: 0.8861 - accuracy: 0.63 - ETA: 0s - loss: 0.8810 - accuracy: 0.63 - ETA: 0s - loss: 0.8527 - accuracy: 0.64 - ETA: 0s - loss: 0.8506 - accuracy: 0.64 - 0s 11ms/step - loss: 0.8388 - accuracy: 0.6500\n",
      "Epoch 27/34\n",
      "32/32 [==============================] - ETA: 0s - loss: 0.8603 - accuracy: 0.62 - ETA: 0s - loss: 0.9931 - accuracy: 0.56 - ETA: 0s - loss: 0.8857 - accuracy: 0.62 - ETA: 0s - loss: 0.8546 - accuracy: 0.64 - ETA: 0s - loss: 0.8395 - accuracy: 0.65 - ETA: 0s - loss: 0.8194 - accuracy: 0.65 - ETA: 0s - loss: 0.8202 - accuracy: 0.65 - 0s 11ms/step - loss: 0.8139 - accuracy: 0.6580\n",
      "Epoch 28/34\n",
      "32/32 [==============================] - ETA: 0s - loss: 0.8058 - accuracy: 0.65 - ETA: 0s - loss: 0.9329 - accuracy: 0.64 - ETA: 0s - loss: 0.8632 - accuracy: 0.65 - ETA: 0s - loss: 0.8705 - accuracy: 0.65 - ETA: 0s - loss: 0.8688 - accuracy: 0.65 - ETA: 0s - loss: 0.8685 - accuracy: 0.64 - ETA: 0s - loss: 0.8625 - accuracy: 0.64 - 0s 11ms/step - loss: 0.8489 - accuracy: 0.6480\n",
      "Epoch 29/34\n",
      "32/32 [==============================] - ETA: 0s - loss: 0.7892 - accuracy: 0.62 - ETA: 0s - loss: 0.8924 - accuracy: 0.63 - ETA: 0s - loss: 0.8385 - accuracy: 0.66 - ETA: 0s - loss: 0.8360 - accuracy: 0.64 - ETA: 0s - loss: 0.8147 - accuracy: 0.65 - ETA: 0s - loss: 0.7967 - accuracy: 0.66 - ETA: 0s - loss: 0.8050 - accuracy: 0.65 - 0s 11ms/step - loss: 0.7996 - accuracy: 0.6620\n",
      "Epoch 30/34\n",
      "32/32 [==============================] - ETA: 0s - loss: 0.6710 - accuracy: 0.75 - ETA: 0s - loss: 0.9454 - accuracy: 0.63 - ETA: 0s - loss: 0.8726 - accuracy: 0.63 - ETA: 0s - loss: 0.8437 - accuracy: 0.64 - ETA: 0s - loss: 0.8263 - accuracy: 0.64 - ETA: 0s - loss: 0.8195 - accuracy: 0.64 - ETA: 0s - loss: 0.8158 - accuracy: 0.64 - 0s 11ms/step - loss: 0.8058 - accuracy: 0.6540\n",
      "Epoch 31/34\n",
      "32/32 [==============================] - ETA: 0s - loss: 0.7524 - accuracy: 0.71 - ETA: 0s - loss: 0.8965 - accuracy: 0.68 - ETA: 0s - loss: 0.8516 - accuracy: 0.66 - ETA: 0s - loss: 0.8317 - accuracy: 0.66 - ETA: 0s - loss: 0.8127 - accuracy: 0.66 - ETA: 0s - loss: 0.7864 - accuracy: 0.67 - ETA: 0s - loss: 0.7995 - accuracy: 0.67 - 0s 11ms/step - loss: 0.7915 - accuracy: 0.6710\n",
      "Epoch 32/34\n",
      "32/32 [==============================] - ETA: 0s - loss: 0.8248 - accuracy: 0.65 - ETA: 0s - loss: 0.8711 - accuracy: 0.65 - ETA: 0s - loss: 0.8151 - accuracy: 0.67 - ETA: 0s - loss: 0.8281 - accuracy: 0.68 - ETA: 0s - loss: 0.8192 - accuracy: 0.67 - ETA: 0s - loss: 0.8018 - accuracy: 0.67 - ETA: 0s - loss: 0.8044 - accuracy: 0.67 - 0s 11ms/step - loss: 0.7950 - accuracy: 0.6790\n",
      "Epoch 33/34\n",
      "32/32 [==============================] - ETA: 0s - loss: 0.6509 - accuracy: 0.78 - ETA: 0s - loss: 0.8298 - accuracy: 0.72 - ETA: 0s - loss: 0.8079 - accuracy: 0.70 - ETA: 0s - loss: 0.7782 - accuracy: 0.70 - ETA: 0s - loss: 0.7720 - accuracy: 0.70 - ETA: 0s - loss: 0.7605 - accuracy: 0.70 - ETA: 0s - loss: 0.7750 - accuracy: 0.70 - 0s 11ms/step - loss: 0.7651 - accuracy: 0.7070\n",
      "Epoch 34/34\n",
      "32/32 [==============================] - ETA: 0s - loss: 0.8144 - accuracy: 0.59 - ETA: 0s - loss: 0.8148 - accuracy: 0.65 - ETA: 0s - loss: 0.7697 - accuracy: 0.67 - ETA: 0s - loss: 0.7769 - accuracy: 0.66 - ETA: 0s - loss: 0.7767 - accuracy: 0.66 - ETA: 0s - loss: 0.7531 - accuracy: 0.67 - ETA: 0s - loss: 0.7563 - accuracy: 0.68 - 0s 11ms/step - loss: 0.7484 - accuracy: 0.6800\n"
     ]
    }
   ],
   "source": [
    "model_finder.fit(X_train, y_train)"
   ]
  },
  {
   "cell_type": "code",
   "execution_count": null,
   "metadata": {},
   "outputs": [],
   "source": [
    "model_finder.evaluate(X_test, y_test)"
   ]
  },
  {
   "cell_type": "code",
   "execution_count": null,
   "metadata": {},
   "outputs": [],
   "source": [
    "end_time = time.time()"
   ]
  },
  {
   "cell_type": "code",
   "execution_count": null,
   "metadata": {
    "tags": []
   },
   "outputs": [],
   "source": [
    "print(\"Time spent\", end_time - start_time)"
   ]
  },
  {
   "cell_type": "code",
   "execution_count": null,
   "metadata": {},
   "outputs": [],
   "source": []
  }
 ],
 "metadata": {
  "kernelspec": {
   "display_name": "Python 3.8.3 64-bit ('auto_keras')",
   "language": "python",
   "name": "python_defaultSpec_1601304873895"
  },
  "language_info": {
   "codemirror_mode": {
    "name": "ipython",
    "version": 3
   },
   "file_extension": ".py",
   "mimetype": "text/x-python",
   "name": "python",
   "nbconvert_exporter": "python",
   "pygments_lexer": "ipython3",
   "version": "3.8.3-candidate"
  }
 },
 "nbformat": 4,
 "nbformat_minor": 4
}