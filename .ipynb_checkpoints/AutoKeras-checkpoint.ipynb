{
 "cells": [
  {
   "cell_type": "code",
   "execution_count": 1,
   "metadata": {},
   "outputs": [],
   "source": [
    "import autokeras as ak\n",
    "from pandas import read_csv\n",
    "import pandas as pd\n",
    "from sklearn.model_selection import train_test_split"
   ]
  },
  {
   "cell_type": "code",
   "execution_count": 2,
   "metadata": {
    "tags": []
   },
   "outputs": [
    {
     "name": "stdout",
     "output_type": "stream",
     "text": [
      "[name: \"/device:CPU:0\"\n",
      "device_type: \"CPU\"\n",
      "memory_limit: 268435456\n",
      "locality {\n",
      "}\n",
      "incarnation: 2750373563339236325\n",
      ", name: \"/device:XLA_CPU:0\"\n",
      "device_type: \"XLA_CPU\"\n",
      "memory_limit: 17179869184\n",
      "locality {\n",
      "}\n",
      "incarnation: 4639411053449985296\n",
      "physical_device_desc: \"device: XLA_CPU device\"\n",
      ", name: \"/device:XLA_GPU:0\"\n",
      "device_type: \"XLA_GPU\"\n",
      "memory_limit: 17179869184\n",
      "locality {\n",
      "}\n",
      "incarnation: 7829365950096138178\n",
      "physical_device_desc: \"device: XLA_GPU device\"\n",
      "]\n"
     ]
    }
   ],
   "source": [
    "from tensorflow.python.client import device_lib\n",
    "print(device_lib.list_local_devices())"
   ]
  },
  {
   "cell_type": "code",
   "execution_count": 3,
   "metadata": {},
   "outputs": [],
   "source": [
    "test = read_csv(\"NTI_data/test.csv\")\n",
    "train_target = read_csv(\"NTI_data/train_target.csv\")\n",
    "transactions_test = read_csv(\"NTI_data/transactions_test.csv\")\n",
    "transactions_train = read_csv(\"NTI_data/transactions_train.csv\")"
   ]
  },
  {
   "cell_type": "code",
   "execution_count": 4,
   "metadata": {},
   "outputs": [],
   "source": [
    "#Train\n",
    "#Признаки, связанные с суммой покупки\n",
    "agg_features=transactions_train.groupby('client_id')['amount_rur'].agg(['sum','mean','max']).reset_index()\n",
    "\n",
    "#Количество в каждой категории\n",
    "amount_of_purchase=transactions_train.groupby(['client_id','small_group'])['amount_rur'].count()\n",
    "counts_train=amount_of_purchase.reset_index().pivot(index='client_id', \\\n",
    "                                                      columns='small_group',values='amount_rur')\n",
    "counts_train=counts_train.fillna(0)\n",
    "counts_train.columns=['small_group_' + str(i) for i in counts_train.columns]\n",
    "\n",
    "#Сумма в каждой категории\n",
    "sum_of_group=transactions_train.groupby(['client_id','small_group'])['amount_rur'].sum()\n",
    "sum_train=sum_of_group.reset_index().pivot(index='client_id', \\\n",
    "                                                      columns='small_group',values='amount_rur')\n",
    "sum_train=sum_train.fillna(0)\n",
    "sum_train.columns=['small_group_sum_'+str(i) for i in sum_train.columns]\n",
    "\n",
    "#Минимум в каждой категории\n",
    "min_of_group=transactions_train.groupby(['client_id','small_group'])['amount_rur'].min()\n",
    "min_train=sum_of_group.reset_index().pivot(index='client_id', \\\n",
    "                                                      columns='small_group',values='amount_rur')\n",
    "min_train=min_train.fillna(0)\n",
    "min_train.columns=['small_group_min_'+str(i) for i in min_train.columns]\n",
    "\n",
    "#Максимум в каждой категории\n",
    "max_of_group=transactions_train.groupby(['client_id','small_group'])['amount_rur'].min()\n",
    "max_train=sum_of_group.reset_index().pivot(index='client_id', \\\n",
    "                                                      columns='small_group',values='amount_rur')\n",
    "max_train=max_train.fillna(0)\n",
    "max_train.columns=['small_group_max_'+str(i) for i in max_train.columns]\n",
    "\n",
    "#Средняя сумма в каждой категории\n",
    "avg_of_group=transactions_train.groupby(['client_id','small_group'])['amount_rur'].mean()\n",
    "avg_train=avg_of_group.reset_index().pivot(index='client_id', \\\n",
    "                                                      columns='small_group',values='amount_rur')\n",
    "avg_train=avg_train.fillna(0)\n",
    "avg_train.columns=['small_group_avg_'+str(i) for i in avg_train.columns]\n",
    "\n",
    "#Соединим все в одну таблицу\n",
    "counts_train=pd.merge(sum_train,counts_train,on='client_id')\n",
    "counts_train=pd.merge(avg_train,counts_train,on='client_id')\n",
    "counts_train=pd.merge(min_train,counts_train,on='client_id')\n",
    "counts_train=pd.merge(max_train,counts_train,on='client_id')\n",
    "train=pd.merge(train_target,agg_features,on='client_id')\n",
    "train=pd.merge(train,counts_train.reset_index(),on='client_id')"
   ]
  },
  {
   "cell_type": "code",
   "execution_count": 5,
   "metadata": {},
   "outputs": [],
   "source": [
    "train_data = train.head(1000)\n",
    "test_data = train.tail(1000)"
   ]
  },
  {
   "cell_type": "code",
   "execution_count": 6,
   "metadata": {},
   "outputs": [],
   "source": [
    "import time\n",
    "start_time = time.time()"
   ]
  },
  {
   "cell_type": "code",
   "execution_count": 7,
   "metadata": {},
   "outputs": [],
   "source": [
    "model_finder = ak.StructuredDataClassifier(overwrite=True, max_trials=50)\n",
    "X_train = train_data.drop('bins', 1)\n",
    "y_train = train_data['bins']\n",
    "X_test = test_data.drop('bins', 1)\n",
    "y_test = test_data['bins']"
   ]
  },
  {
   "cell_type": "code",
   "execution_count": 8,
   "metadata": {
    "tags": [
     "outputPrepend"
    ]
   },
   "outputs": [
    {
     "data": {
      "text/html": [
       "<span style=\"color:#4527A0\"><h1 style=\"font-size:18px\">Starting new trial</h1></span>"
      ],
      "text/plain": [
       "<IPython.core.display.HTML object>"
      ]
     },
     "metadata": {},
     "output_type": "display_data"
    },
    {
     "name": "stdout",
     "output_type": "stream",
     "text": [
      "Epoch 1/1000\n",
      "26/26 [==============================] - ETA: 0s - loss: 1.9716 - accuracy: 0.18 - ETA: 0s - loss: 1.5583 - accuracy: 0.29 - ETA: 0s - loss: 1.4822 - accuracy: 0.36 - ETA: 0s - loss: 1.4588 - accuracy: 0.38 - ETA: 0s - loss: 1.4339 - accuracy: 0.39 - 6s 225ms/step - loss: 1.3952 - accuracy: 0.4195 - val_loss: 2.0363 - val_accuracy: 0.3631\n",
      "Epoch 2/1000\n",
      "26/26 [==============================] - ETA: 0s - loss: 0.8681 - accuracy: 0.68 - ETA: 0s - loss: 1.0417 - accuracy: 0.59 - ETA: 0s - loss: 0.9851 - accuracy: 0.60 - ETA: 0s - loss: 0.9890 - accuracy: 0.58 - ETA: 0s - loss: 1.0009 - accuracy: 0.58 - 1s 45ms/step - loss: 0.9918 - accuracy: 0.5901 - val_loss: 1.4189 - val_accuracy: 0.3869\n",
      "Epoch 3/1000\n",
      "26/26 [==============================] - ETA: 0s - loss: 0.6896 - accuracy: 0.68 - ETA: 0s - loss: 0.8926 - accuracy: 0.64 - ETA: 0s - loss: 0.7902 - accuracy: 0.68 - ETA: 0s - loss: 0.7947 - accuracy: 0.67 - ETA: 0s - loss: 0.8163 - accuracy: 0.67 - 1s 47ms/step - loss: 0.8090 - accuracy: 0.6719 - val_loss: 1.2024 - val_accuracy: 0.4643\n",
      "Epoch 4/1000\n",
      "26/26 [==============================] - ETA: 0s - loss: 0.6700 - accuracy: 0.75 - ETA: 0s - loss: 0.7987 - accuracy: 0.72 - ETA: 0s - loss: 0.7233 - accuracy: 0.73 - ETA: 0s - loss: 0.7207 - accuracy: 0.72 - ETA: 0s - loss: 0.7267 - accuracy: 0.72 - 1s 53ms/step - loss: 0.7238 - accuracy: 0.7200 - val_loss: 1.1515 - val_accuracy: 0.4881\n",
      "Epoch 5/1000\n",
      "26/26 [==============================] - ETA: 0s - loss: 0.6823 - accuracy: 0.71 - ETA: 0s - loss: 0.7030 - accuracy: 0.73 - ETA: 0s - loss: 0.6491 - accuracy: 0.75 - ETA: 0s - loss: 0.6577 - accuracy: 0.74 - ETA: 0s - loss: 0.6762 - accuracy: 0.75 - 2s 67ms/step - loss: 0.6597 - accuracy: 0.7620 - val_loss: 1.1133 - val_accuracy: 0.5000\n",
      "Epoch 6/1000\n",
      "26/26 [==============================] - ETA: 0s - loss: 0.6021 - accuracy: 0.68 - ETA: 0s - loss: 0.6971 - accuracy: 0.74 - ETA: 0s - loss: 0.6015 - accuracy: 0.78 - ETA: 0s - loss: 0.6100 - accuracy: 0.76 - ETA: 0s - loss: 0.6093 - accuracy: 0.77 - 1s 40ms/step - loss: 0.6009 - accuracy: 0.7776 - val_loss: 1.1023 - val_accuracy: 0.5119\n",
      "Epoch 7/1000\n",
      "26/26 [==============================] - ETA: 0s - loss: 0.6100 - accuracy: 0.75 - ETA: 0s - loss: 0.6258 - accuracy: 0.82 - ETA: 0s - loss: 0.5537 - accuracy: 0.84 - ETA: 0s - loss: 0.5438 - accuracy: 0.83 - ETA: 0s - loss: 0.5514 - accuracy: 0.82 - 1s 55ms/step - loss: 0.5476 - accuracy: 0.8245 - val_loss: 1.1420 - val_accuracy: 0.5357\n",
      "Epoch 8/1000\n",
      "26/26 [==============================] - ETA: 0s - loss: 0.4767 - accuracy: 0.75 - ETA: 0s - loss: 0.5347 - accuracy: 0.82 - ETA: 0s - loss: 0.4941 - accuracy: 0.83 - ETA: 0s - loss: 0.4825 - accuracy: 0.84 - ETA: 0s - loss: 0.4988 - accuracy: 0.83 - 1s 55ms/step - loss: 0.4872 - accuracy: 0.8413 - val_loss: 1.1675 - val_accuracy: 0.5655\n",
      "Epoch 9/1000\n",
      "26/26 [==============================] - ETA: 0s - loss: 0.4848 - accuracy: 0.81 - ETA: 0s - loss: 0.5300 - accuracy: 0.83 - ETA: 0s - loss: 0.4386 - accuracy: 0.88 - ETA: 0s - loss: 0.4337 - accuracy: 0.86 - ETA: 0s - loss: 0.4471 - accuracy: 0.85 - 1s 46ms/step - loss: 0.4381 - accuracy: 0.8690 - val_loss: 1.1663 - val_accuracy: 0.5476\n",
      "Epoch 10/1000\n",
      "26/26 [==============================] - ETA: 0s - loss: 0.4599 - accuracy: 0.84 - ETA: 0s - loss: 0.5466 - accuracy: 0.85 - ETA: 0s - loss: 0.4419 - accuracy: 0.89 - ETA: 0s - loss: 0.4392 - accuracy: 0.87 - ETA: 0s - loss: 0.4400 - accuracy: 0.87 - 1s 55ms/step - loss: 0.4260 - accuracy: 0.8858 - val_loss: 1.1984 - val_accuracy: 0.5417\n",
      "Epoch 11/1000\n",
      "26/26 [==============================] - ETA: 0s - loss: 0.4136 - accuracy: 0.87 - ETA: 0s - loss: 0.5445 - accuracy: 0.87 - ETA: 0s - loss: 0.4302 - accuracy: 0.89 - ETA: 0s - loss: 0.4189 - accuracy: 0.88 - ETA: 0s - loss: 0.4211 - accuracy: 0.87 - 1s 39ms/step - loss: 0.4148 - accuracy: 0.8774 - val_loss: 1.1634 - val_accuracy: 0.5357\n",
      "Epoch 12/1000\n",
      "26/26 [==============================] - ETA: 0s - loss: 0.3393 - accuracy: 0.90 - ETA: 0s - loss: 0.4701 - accuracy: 0.85 - ETA: 0s - loss: 0.3945 - accuracy: 0.89 - ETA: 0s - loss: 0.3884 - accuracy: 0.89 - ETA: 0s - loss: 0.3862 - accuracy: 0.90 - 1s 46ms/step - loss: 0.3694 - accuracy: 0.9075 - val_loss: 1.1930 - val_accuracy: 0.5298\n",
      "Epoch 13/1000\n",
      "26/26 [==============================] - ETA: 0s - loss: 0.4037 - accuracy: 0.81 - ETA: 0s - loss: 0.4456 - accuracy: 0.86 - ETA: 0s - loss: 0.3657 - accuracy: 0.89 - ETA: 0s - loss: 0.3386 - accuracy: 0.90 - ETA: 0s - loss: 0.3527 - accuracy: 0.89 - 1s 41ms/step - loss: 0.3368 - accuracy: 0.9075 - val_loss: 1.1771 - val_accuracy: 0.5536\n",
      "Epoch 14/1000\n",
      "26/26 [==============================] - ETA: 0s - loss: 0.3507 - accuracy: 0.90 - ETA: 0s - loss: 0.3650 - accuracy: 0.92 - ETA: 0s - loss: 0.3098 - accuracy: 0.93 - ETA: 0s - loss: 0.3004 - accuracy: 0.92 - ETA: 0s - loss: 0.3023 - accuracy: 0.93 - 1s 50ms/step - loss: 0.2908 - accuracy: 0.9375 - val_loss: 1.2111 - val_accuracy: 0.5476\n",
      "Epoch 15/1000\n",
      "26/26 [==============================] - ETA: 0s - loss: 0.4366 - accuracy: 0.87 - ETA: 0s - loss: 0.3897 - accuracy: 0.90 - ETA: 0s - loss: 0.3011 - accuracy: 0.93 - ETA: 0s - loss: 0.2972 - accuracy: 0.92 - ETA: 0s - loss: 0.2996 - accuracy: 0.92 - 1s 52ms/step - loss: 0.2892 - accuracy: 0.9303 - val_loss: 1.2989 - val_accuracy: 0.5238\n",
      "Epoch 16/1000\n",
      "26/26 [==============================] - ETA: 0s - loss: 0.3617 - accuracy: 0.84 - ETA: 0s - loss: 0.3922 - accuracy: 0.91 - ETA: 0s - loss: 0.2986 - accuracy: 0.93 - ETA: 0s - loss: 0.2813 - accuracy: 0.93 - ETA: 0s - loss: 0.2919 - accuracy: 0.93 - 1s 41ms/step - loss: 0.2828 - accuracy: 0.9339 - val_loss: 1.2806 - val_accuracy: 0.5536\n"
     ]
    },
    {
     "data": {
      "text/html": [
       "<span style=\"color:#4527A0\"><h1 style=\"font-size:18px\">Trial complete</h1></span>"
      ],
      "text/plain": [
       "<IPython.core.display.HTML object>"
      ]
     },
     "metadata": {},
     "output_type": "display_data"
    },
    {
     "data": {
      "text/html": [
       "<span style=\"color:#4527A0\"><h1 style=\"font-size:18px\">Trial summary</h1></span>"
      ],
      "text/plain": [
       "<IPython.core.display.HTML object>"
      ]
     },
     "metadata": {},
     "output_type": "display_data"
    },
    {
     "data": {
      "text/html": [
       "<span style=\"color:cyan\"> |-Trial ID: a9146bf6c8753d740b6a4fa5d7716568</span>"
      ],
      "text/plain": [
       "<IPython.core.display.HTML object>"
      ]
     },
     "metadata": {},
     "output_type": "display_data"
    },
    {
     "data": {
      "text/html": [
       "<span style=\"color:cyan\"> |-Score: 0.5654761791229248</span>"
      ],
      "text/plain": [
       "<IPython.core.display.HTML object>"
      ]
     },
     "metadata": {},
     "output_type": "display_data"
    },
    {
     "data": {
      "text/html": [
       "<span style=\"color:cyan\"> |-Best step: 7</span>"
      ],
      "text/plain": [
       "<IPython.core.display.HTML object>"
      ]
     },
     "metadata": {},
     "output_type": "display_data"
    },
    {
     "data": {
      "text/html": [
       "<span style=\"color:#7E57C2\"><h2 style=\"font-size:16px\">Hyperparameters:</h2></span>"
      ],
      "text/plain": [
       "<IPython.core.display.HTML object>"
      ]
     },
     "metadata": {},
     "output_type": "display_data"
    },
    {
     "data": {
      "text/html": [
       "<span style=\"color:cyan\"> |-classification_head_1/dropout: 0</span>"
      ],
      "text/plain": [
       "<IPython.core.display.HTML object>"
      ]
     },
     "metadata": {},
     "output_type": "display_data"
    },
    {
     "data": {
      "text/html": [
       "<span style=\"color:blue\"> |-learning_rate: 0.001</span>"
      ],
      "text/plain": [
       "<IPython.core.display.HTML object>"
      ]
     },
     "metadata": {},
     "output_type": "display_data"
    },
    {
     "data": {
      "text/html": [
       "<span style=\"color:cyan\"> |-optimizer: adam</span>"
      ],
      "text/plain": [
       "<IPython.core.display.HTML object>"
      ]
     },
     "metadata": {},
     "output_type": "display_data"
    },
    {
     "data": {
      "text/html": [
       "<span style=\"color:blue\"> |-structured_data_block_1/dense_block_1/dropout: 0.25</span>"
      ],
      "text/plain": [
       "<IPython.core.display.HTML object>"
      ]
     },
     "metadata": {},
     "output_type": "display_data"
    },
    {
     "data": {
      "text/html": [
       "<span style=\"color:cyan\"> |-structured_data_block_1/dense_block_1/num_layers: 1</span>"
      ],
      "text/plain": [
       "<IPython.core.display.HTML object>"
      ]
     },
     "metadata": {},
     "output_type": "display_data"
    },
    {
     "data": {
      "text/html": [
       "<span style=\"color:blue\"> |-structured_data_block_1/dense_block_1/units_0: 512</span>"
      ],
      "text/plain": [
       "<IPython.core.display.HTML object>"
      ]
     },
     "metadata": {},
     "output_type": "display_data"
    },
    {
     "data": {
      "text/html": [
       "<span style=\"color:cyan\"> |-structured_data_block_1/dense_block_1/units_1: 1024</span>"
      ],
      "text/plain": [
       "<IPython.core.display.HTML object>"
      ]
     },
     "metadata": {},
     "output_type": "display_data"
    },
    {
     "data": {
      "text/html": [
       "<span style=\"color:blue\"> |-structured_data_block_1/dense_block_1/use_batchnorm: True</span>"
      ],
      "text/plain": [
       "<IPython.core.display.HTML object>"
      ]
     },
     "metadata": {},
     "output_type": "display_data"
    },
    {
     "data": {
      "text/html": [
       "<span style=\"color:#4527A0\"><h1 style=\"font-size:18px\">Starting new trial</h1></span>"
      ],
      "text/plain": [
       "<IPython.core.display.HTML object>"
      ]
     },
     "metadata": {},
     "output_type": "display_data"
    },
    {
     "name": "stdout",
     "output_type": "stream",
     "text": [
      "Epoch 1/1000\n",
      "26/26 [==============================] - ETA: 0s - loss: 2123.4033 - accuracy: 0.187 - ETA: 0s - loss: 9188.4961 - accuracy: 0.218 - ETA: 0s - loss: 8413.1104 - accuracy: 0.241 - ETA: 0s - loss: 6345.8379 - accuracy: 0.259 - ETA: 0s - loss: 5370.6567 - accuracy: 0.281 - ETA: 0s - loss: 4664.7739 - accuracy: 0.277 - ETA: 0s - loss: 4103.6055 - accuracy: 0.287 - ETA: 0s - loss: 3696.0750 - accuracy: 0.299 - ETA: 0s - loss: 3375.9407 - accuracy: 0.298 - 6s 241ms/step - loss: 3264.3528 - accuracy: 0.3005 - val_loss: 412.8200 - val_accuracy: 0.3631\n",
      "Epoch 2/1000\n",
      "26/26 [==============================] - ETA: 0s - loss: 543.3967 - accuracy: 0.31 - ETA: 0s - loss: 571.6462 - accuracy: 0.39 - ETA: 0s - loss: 560.1625 - accuracy: 0.36 - ETA: 0s - loss: 461.9028 - accuracy: 0.39 - ETA: 0s - loss: 423.6829 - accuracy: 0.39 - ETA: 0s - loss: 378.8203 - accuracy: 0.41 - ETA: 0s - loss: 355.9117 - accuracy: 0.42 - ETA: 0s - loss: 331.5689 - accuracy: 0.42 - ETA: 0s - loss: 314.7641 - accuracy: 0.42 - 2s 68ms/step - loss: 307.2674 - accuracy: 0.4267 - val_loss: 177.1682 - val_accuracy: 0.4524\n",
      "Epoch 3/1000\n",
      "26/26 [==============================] - ETA: 0s - loss: 76.5584 - accuracy: 0.437 - ETA: 0s - loss: 148.6013 - accuracy: 0.47 - ETA: 0s - loss: 126.9418 - accuracy: 0.51 - ETA: 0s - loss: 109.5705 - accuracy: 0.52 - ETA: 0s - loss: 108.6489 - accuracy: 0.50 - ETA: 0s - loss: 98.8096 - accuracy: 0.5176 - ETA: 0s - loss: 95.6546 - accuracy: 0.529 - ETA: 0s - loss: 92.3113 - accuracy: 0.534 - ETA: 0s - loss: 88.1889 - accuracy: 0.528 - 2s 69ms/step - loss: 85.7741 - accuracy: 0.5349 - val_loss: 120.6242 - val_accuracy: 0.3810\n",
      "Epoch 4/1000\n",
      "26/26 [==============================] - ETA: 0s - loss: 71.5322 - accuracy: 0.375 - ETA: 0s - loss: 92.6164 - accuracy: 0.460 - ETA: 0s - loss: 68.4729 - accuracy: 0.531 - ETA: 0s - loss: 56.0413 - accuracy: 0.584 - ETA: 0s - loss: 51.2680 - accuracy: 0.579 - ETA: 0s - loss: 50.8927 - accuracy: 0.584 - ETA: 0s - loss: 48.0335 - accuracy: 0.592 - ETA: 0s - loss: 47.8853 - accuracy: 0.598 - ETA: 0s - loss: 46.5376 - accuracy: 0.596 - 2s 66ms/step - loss: 46.3998 - accuracy: 0.5962 - val_loss: 84.3178 - val_accuracy: 0.4524\n",
      "Epoch 5/1000\n",
      "26/26 [==============================] - ETA: 0s - loss: 54.6888 - accuracy: 0.531 - ETA: 0s - loss: 40.5695 - accuracy: 0.617 - ETA: 0s - loss: 36.4215 - accuracy: 0.638 - ETA: 0s - loss: 36.6370 - accuracy: 0.659 - ETA: 0s - loss: 34.9896 - accuracy: 0.644 - ETA: 0s - loss: 34.9525 - accuracy: 0.638 - ETA: 0s - loss: 35.1737 - accuracy: 0.634 - ETA: 0s - loss: 36.8930 - accuracy: 0.632 - ETA: 0s - loss: 37.6794 - accuracy: 0.620 - 2s 71ms/step - loss: 37.5384 - accuracy: 0.6250 - val_loss: 115.7598 - val_accuracy: 0.4226\n",
      "Epoch 6/1000\n",
      "26/26 [==============================] - ETA: 0s - loss: 32.1544 - accuracy: 0.593 - ETA: 0s - loss: 34.6924 - accuracy: 0.593 - ETA: 0s - loss: 30.9399 - accuracy: 0.647 - ETA: 0s - loss: 29.6135 - accuracy: 0.668 - ETA: 0s - loss: 30.2355 - accuracy: 0.646 - ETA: 0s - loss: 30.6360 - accuracy: 0.636 - ETA: 0s - loss: 31.1466 - accuracy: 0.623 - ETA: 0s - loss: 33.8106 - accuracy: 0.617 - ETA: 0s - loss: 33.9270 - accuracy: 0.618 - 2s 73ms/step - loss: 34.1363 - accuracy: 0.6202 - val_loss: 119.6903 - val_accuracy: 0.3988\n",
      "Epoch 7/1000\n",
      "26/26 [==============================] - ETA: 0s - loss: 66.8135 - accuracy: 0.468 - ETA: 0s - loss: 48.8006 - accuracy: 0.585 - ETA: 0s - loss: 39.7046 - accuracy: 0.638 - ETA: 0s - loss: 47.0633 - accuracy: 0.634 - ETA: 0s - loss: 47.0612 - accuracy: 0.625 - ETA: 0s - loss: 44.7793 - accuracy: 0.632 - ETA: 0s - loss: 41.9233 - accuracy: 0.626 - ETA: 0s - loss: 43.1541 - accuracy: 0.623 - ETA: 0s - loss: 44.4293 - accuracy: 0.622 - 2s 85ms/step - loss: 45.1222 - accuracy: 0.6130 - val_loss: 132.7939 - val_accuracy: 0.3452\n",
      "Epoch 8/1000\n",
      "26/26 [==============================] - ETA: 0s - loss: 85.8749 - accuracy: 0.375 - ETA: 0s - loss: 58.7871 - accuracy: 0.570 - ETA: 0s - loss: 46.8823 - accuracy: 0.607 - ETA: 0s - loss: 44.4734 - accuracy: 0.631 - ETA: 0s - loss: 43.7029 - accuracy: 0.644 - ETA: 0s - loss: 41.8684 - accuracy: 0.648 - ETA: 0s - loss: 40.1807 - accuracy: 0.633 - ETA: 0s - loss: 39.7830 - accuracy: 0.633 - ETA: 0s - loss: 39.9580 - accuracy: 0.622 - 2s 67ms/step - loss: 38.8336 - accuracy: 0.6334 - val_loss: 124.1832 - val_accuracy: 0.3393\n",
      "Epoch 9/1000\n",
      "26/26 [==============================] - ETA: 0s - loss: 50.3473 - accuracy: 0.562 - ETA: 0s - loss: 43.3824 - accuracy: 0.625 - ETA: 0s - loss: 31.8939 - accuracy: 0.692 - ETA: 0s - loss: 30.4915 - accuracy: 0.709 - ETA: 0s - loss: 30.5441 - accuracy: 0.694 - ETA: 0s - loss: 28.5473 - accuracy: 0.707 - ETA: 0s - loss: 29.1870 - accuracy: 0.692 - ETA: 0s - loss: 32.7737 - accuracy: 0.667 - ETA: 0s - loss: 31.6982 - accuracy: 0.662 - 2s 74ms/step - loss: 31.2582 - accuracy: 0.6683 - val_loss: 137.1779 - val_accuracy: 0.4048\n",
      "Epoch 10/1000\n",
      "26/26 [==============================] - ETA: 0s - loss: 47.1105 - accuracy: 0.656 - ETA: 0s - loss: 35.1667 - accuracy: 0.585 - ETA: 0s - loss: 26.5508 - accuracy: 0.633 - ETA: 0s - loss: 26.7578 - accuracy: 0.637 - ETA: 0s - loss: 25.2721 - accuracy: 0.663 - ETA: 0s - loss: 25.3581 - accuracy: 0.673 - ETA: 0s - loss: 23.5701 - accuracy: 0.685 - ETA: 0s - loss: 24.0445 - accuracy: 0.693 - ETA: 0s - loss: 23.8355 - accuracy: 0.693 - 2s 70ms/step - loss: 23.8703 - accuracy: 0.6947 - val_loss: 92.1760 - val_accuracy: 0.4286\n",
      "Epoch 11/1000\n",
      "26/26 [==============================] - ETA: 0s - loss: 21.5648 - accuracy: 0.750 - ETA: 0s - loss: 24.5575 - accuracy: 0.710 - ETA: 0s - loss: 19.3008 - accuracy: 0.718 - ETA: 0s - loss: 18.0439 - accuracy: 0.743 - ETA: 0s - loss: 17.0569 - accuracy: 0.752 - ETA: 0s - loss: 18.9786 - accuracy: 0.738 - ETA: 0s - loss: 17.8600 - accuracy: 0.740 - ETA: 0s - loss: 18.5142 - accuracy: 0.747 - ETA: 0s - loss: 18.1265 - accuracy: 0.746 - 2s 71ms/step - loss: 17.5449 - accuracy: 0.7536 - val_loss: 103.8370 - val_accuracy: 0.3810\n",
      "Epoch 12/1000\n",
      "26/26 [==============================] - ETA: 0s - loss: 20.5896 - accuracy: 0.687 - ETA: 0s - loss: 21.3358 - accuracy: 0.710 - ETA: 0s - loss: 16.5414 - accuracy: 0.745 - ETA: 0s - loss: 14.0457 - accuracy: 0.771 - ETA: 0s - loss: 16.1303 - accuracy: 0.764 - ETA: 0s - loss: 15.8026 - accuracy: 0.759 - ETA: 0s - loss: 15.6412 - accuracy: 0.750 - ETA: 0s - loss: 16.3593 - accuracy: 0.744 - ETA: 0s - loss: 16.1911 - accuracy: 0.742 - 2s 83ms/step - loss: 16.7913 - accuracy: 0.7452 - val_loss: 77.6172 - val_accuracy: 0.3869\n",
      "Epoch 13/1000\n",
      "26/26 [==============================] - ETA: 0s - loss: 11.8867 - accuracy: 0.812 - ETA: 0s - loss: 11.9555 - accuracy: 0.734 - ETA: 0s - loss: 12.0898 - accuracy: 0.723 - ETA: 0s - loss: 13.2898 - accuracy: 0.746 - ETA: 0s - loss: 16.9770 - accuracy: 0.730 - ETA: 0s - loss: 17.9203 - accuracy: 0.726 - ETA: 0s - loss: 20.2774 - accuracy: 0.692 - ETA: 0s - loss: 20.3081 - accuracy: 0.696 - ETA: 0s - loss: 21.5105 - accuracy: 0.692 - 2s 62ms/step - loss: 22.2398 - accuracy: 0.6983 - val_loss: 113.5218 - val_accuracy: 0.4048\n",
      "Epoch 14/1000\n",
      "26/26 [==============================] - ETA: 0s - loss: 31.2184 - accuracy: 0.718 - ETA: 0s - loss: 23.7108 - accuracy: 0.710 - ETA: 0s - loss: 20.3727 - accuracy: 0.736 - ETA: 0s - loss: 21.7132 - accuracy: 0.734 - ETA: 0s - loss: 21.6259 - accuracy: 0.713 - ETA: 0s - loss: 21.2539 - accuracy: 0.722 - ETA: 0s - loss: 19.3319 - accuracy: 0.735 - ETA: 0s - loss: 19.6117 - accuracy: 0.733 - ETA: 0s - loss: 19.8568 - accuracy: 0.728 - 2s 61ms/step - loss: 19.2563 - accuracy: 0.7344 - val_loss: 80.1833 - val_accuracy: 0.4464\n",
      "Epoch 15/1000\n",
      "26/26 [==============================] - ETA: 0s - loss: 20.2923 - accuracy: 0.687 - ETA: 0s - loss: 16.3495 - accuracy: 0.718 - ETA: 0s - loss: 12.7290 - accuracy: 0.781 - ETA: 0s - loss: 11.3058 - accuracy: 0.787 - ETA: 0s - loss: 11.3044 - accuracy: 0.793 - ETA: 0s - loss: 10.5931 - accuracy: 0.791 - ETA: 0s - loss: 9.6641 - accuracy: 0.792 - ETA: 0s - loss: 8.9681 - accuracy: 0.80 - ETA: 0s - loss: 8.2181 - accuracy: 0.82 - 2s 59ms/step - loss: 7.9594 - accuracy: 0.8257 - val_loss: 70.3284 - val_accuracy: 0.4881\n",
      "Epoch 16/1000\n"
     ]
    },
    {
     "name": "stdout",
     "output_type": "stream",
     "text": [
      "26/26 [==============================] - ETA: 0s - loss: 5.0727 - accuracy: 0.81 - ETA: 0s - loss: 6.1561 - accuracy: 0.82 - ETA: 0s - loss: 4.0600 - accuracy: 0.87 - ETA: 0s - loss: 3.2944 - accuracy: 0.89 - ETA: 0s - loss: 4.2609 - accuracy: 0.88 - ETA: 0s - loss: 4.2044 - accuracy: 0.87 - ETA: 0s - loss: 4.7687 - accuracy: 0.87 - ETA: 0s - loss: 5.0063 - accuracy: 0.86 - ETA: 0s - loss: 4.7129 - accuracy: 0.87 - 2s 69ms/step - loss: 4.5317 - accuracy: 0.8774 - val_loss: 74.2537 - val_accuracy: 0.4464\n",
      "Epoch 17/1000\n",
      "26/26 [==============================] - ETA: 0s - loss: 4.0031 - accuracy: 0.84 - ETA: 0s - loss: 11.4339 - accuracy: 0.802 - ETA: 0s - loss: 6.3087 - accuracy: 0.875 - ETA: 0s - loss: 4.7442 - accuracy: 0.89 - ETA: 0s - loss: 4.1637 - accuracy: 0.90 - ETA: 0s - loss: 3.5218 - accuracy: 0.90 - ETA: 0s - loss: 3.3036 - accuracy: 0.91 - ETA: 0s - loss: 3.6255 - accuracy: 0.91 - ETA: 0s - loss: 3.6458 - accuracy: 0.89 - 2s 76ms/step - loss: 3.4727 - accuracy: 0.9014 - val_loss: 71.7970 - val_accuracy: 0.4940\n",
      "Epoch 18/1000\n",
      "26/26 [==============================] - ETA: 0s - loss: 3.2603 - accuracy: 0.90 - ETA: 0s - loss: 2.3676 - accuracy: 0.93 - ETA: 0s - loss: 2.2389 - accuracy: 0.93 - ETA: 0s - loss: 2.8565 - accuracy: 0.92 - ETA: 0s - loss: 2.5850 - accuracy: 0.92 - ETA: 0s - loss: 2.5497 - accuracy: 0.92 - ETA: 0s - loss: 2.2881 - accuracy: 0.92 - ETA: 0s - loss: 2.8594 - accuracy: 0.90 - ETA: 0s - loss: 2.7077 - accuracy: 0.91 - 2s 70ms/step - loss: 2.6912 - accuracy: 0.9135 - val_loss: 78.5821 - val_accuracy: 0.4405\n",
      "Epoch 19/1000\n",
      "26/26 [==============================] - ETA: 0s - loss: 3.6417 - accuracy: 0.87 - ETA: 0s - loss: 5.4446 - accuracy: 0.89 - ETA: 0s - loss: 3.4974 - accuracy: 0.91 - ETA: 0s - loss: 4.2666 - accuracy: 0.89 - ETA: 0s - loss: 3.8410 - accuracy: 0.87 - ETA: 0s - loss: 3.4513 - accuracy: 0.87 - ETA: 0s - loss: 3.6520 - accuracy: 0.87 - ETA: 0s - loss: 3.6938 - accuracy: 0.87 - ETA: 0s - loss: 3.2770 - accuracy: 0.88 - 2s 67ms/step - loss: 3.1509 - accuracy: 0.8882 - val_loss: 85.0233 - val_accuracy: 0.4226\n",
      "Epoch 20/1000\n",
      "26/26 [==============================] - ETA: 0s - loss: 20.8633 - accuracy: 0.843 - ETA: 0s - loss: 8.1137 - accuracy: 0.898 - ETA: 0s - loss: 5.6247 - accuracy: 0.91 - ETA: 0s - loss: 4.8552 - accuracy: 0.91 - ETA: 0s - loss: 4.3832 - accuracy: 0.92 - ETA: 0s - loss: 4.2082 - accuracy: 0.90 - ETA: 0s - loss: 4.1452 - accuracy: 0.90 - ETA: 0s - loss: 4.8938 - accuracy: 0.89 - ETA: 0s - loss: 5.4611 - accuracy: 0.89 - 2s 71ms/step - loss: 5.2990 - accuracy: 0.8942 - val_loss: 61.7084 - val_accuracy: 0.4821\n",
      "Epoch 21/1000\n",
      "26/26 [==============================] - ETA: 0s - loss: 4.4737 - accuracy: 0.96 - ETA: 0s - loss: 3.1464 - accuracy: 0.94 - ETA: 0s - loss: 2.6620 - accuracy: 0.94 - ETA: 0s - loss: 3.7161 - accuracy: 0.92 - ETA: 0s - loss: 3.4512 - accuracy: 0.91 - ETA: 0s - loss: 3.3420 - accuracy: 0.91 - ETA: 0s - loss: 3.3298 - accuracy: 0.90 - ETA: 0s - loss: 3.4581 - accuracy: 0.89 - ETA: 0s - loss: 3.4672 - accuracy: 0.89 - 2s 62ms/step - loss: 3.5222 - accuracy: 0.8990 - val_loss: 70.9932 - val_accuracy: 0.4702\n",
      "Epoch 22/1000\n",
      "26/26 [==============================] - ETA: 0s - loss: 1.8951 - accuracy: 0.84 - ETA: 0s - loss: 1.8165 - accuracy: 0.89 - ETA: 0s - loss: 1.5412 - accuracy: 0.90 - ETA: 0s - loss: 1.7817 - accuracy: 0.90 - ETA: 0s - loss: 2.7757 - accuracy: 0.88 - ETA: 0s - loss: 2.7837 - accuracy: 0.89 - ETA: 0s - loss: 3.3138 - accuracy: 0.89 - ETA: 0s - loss: 3.1323 - accuracy: 0.89 - ETA: 0s - loss: 2.8360 - accuracy: 0.89 - 2s 75ms/step - loss: 2.7067 - accuracy: 0.9038 - val_loss: 80.6329 - val_accuracy: 0.4345\n",
      "Epoch 23/1000\n",
      "26/26 [==============================] - ETA: 0s - loss: 3.5038 - accuracy: 0.90 - ETA: 0s - loss: 1.6549 - accuracy: 0.92 - ETA: 0s - loss: 1.2179 - accuracy: 0.95 - ETA: 0s - loss: 1.2793 - accuracy: 0.95 - ETA: 0s - loss: 1.5558 - accuracy: 0.93 - ETA: 0s - loss: 2.0405 - accuracy: 0.92 - ETA: 0s - loss: 1.8601 - accuracy: 0.93 - ETA: 0s - loss: 1.9616 - accuracy: 0.92 - ETA: 0s - loss: 2.1247 - accuracy: 0.91 - 2s 65ms/step - loss: 2.0430 - accuracy: 0.9183 - val_loss: 77.7800 - val_accuracy: 0.4048\n",
      "Epoch 24/1000\n",
      "26/26 [==============================] - ETA: 0s - loss: 0.8310 - accuracy: 0.93 - ETA: 0s - loss: 0.6757 - accuracy: 0.94 - ETA: 0s - loss: 0.5030 - accuracy: 0.95 - ETA: 0s - loss: 0.8740 - accuracy: 0.93 - ETA: 0s - loss: 0.8583 - accuracy: 0.93 - ETA: 0s - loss: 1.4399 - accuracy: 0.92 - ETA: 0s - loss: 1.3593 - accuracy: 0.92 - ETA: 0s - loss: 1.6318 - accuracy: 0.91 - ETA: 0s - loss: 1.8008 - accuracy: 0.91 - 2s 66ms/step - loss: 1.8041 - accuracy: 0.9135 - val_loss: 76.3465 - val_accuracy: 0.4524\n",
      "Epoch 25/1000\n",
      "26/26 [==============================] - ETA: 0s - loss: 0.8015 - accuracy: 0.90 - ETA: 0s - loss: 0.3722 - accuracy: 0.96 - ETA: 0s - loss: 0.6544 - accuracy: 0.95 - ETA: 0s - loss: 1.3722 - accuracy: 0.95 - ETA: 0s - loss: 2.1936 - accuracy: 0.93 - ETA: 0s - loss: 2.4422 - accuracy: 0.93 - ETA: 0s - loss: 2.1040 - accuracy: 0.93 - ETA: 0s - loss: 2.1564 - accuracy: 0.93 - ETA: 0s - loss: 2.4141 - accuracy: 0.92 - 2s 58ms/step - loss: 2.3685 - accuracy: 0.9267 - val_loss: 74.4975 - val_accuracy: 0.4226\n",
      "Epoch 26/1000\n",
      "26/26 [==============================] - ETA: 0s - loss: 1.7042 - accuracy: 0.93 - ETA: 0s - loss: 0.5238 - accuracy: 0.96 - ETA: 0s - loss: 0.4698 - accuracy: 0.96 - ETA: 0s - loss: 0.5975 - accuracy: 0.95 - ETA: 0s - loss: 0.9378 - accuracy: 0.93 - ETA: 0s - loss: 1.3924 - accuracy: 0.92 - ETA: 0s - loss: 1.2519 - accuracy: 0.93 - ETA: 0s - loss: 1.2640 - accuracy: 0.92 - ETA: 0s - loss: 1.8282 - accuracy: 0.91 - 2s 62ms/step - loss: 1.7878 - accuracy: 0.9135 - val_loss: 89.0349 - val_accuracy: 0.3690\n",
      "Epoch 27/1000\n",
      "26/26 [==============================] - ETA: 0s - loss: 7.6548 - accuracy: 0.78 - ETA: 0s - loss: 3.4593 - accuracy: 0.86 - ETA: 0s - loss: 2.5339 - accuracy: 0.89 - ETA: 0s - loss: 2.2582 - accuracy: 0.90 - ETA: 0s - loss: 3.2948 - accuracy: 0.88 - ETA: 0s - loss: 3.5636 - accuracy: 0.88 - ETA: 0s - loss: 3.1150 - accuracy: 0.89 - ETA: 0s - loss: 2.9462 - accuracy: 0.89 - ETA: 0s - loss: 2.9897 - accuracy: 0.89 - 2s 71ms/step - loss: 2.9229 - accuracy: 0.8918 - val_loss: 86.7005 - val_accuracy: 0.3988\n",
      "Epoch 28/1000\n",
      "26/26 [==============================] - ETA: 0s - loss: 4.9873 - accuracy: 0.84 - ETA: 0s - loss: 4.1849 - accuracy: 0.89 - ETA: 0s - loss: 2.5826 - accuracy: 0.91 - ETA: 0s - loss: 2.4683 - accuracy: 0.91 - ETA: 0s - loss: 2.7535 - accuracy: 0.91 - ETA: 0s - loss: 3.3729 - accuracy: 0.90 - ETA: 0s - loss: 3.0259 - accuracy: 0.90 - ETA: 0s - loss: 3.3712 - accuracy: 0.90 - ETA: 0s - loss: 3.2144 - accuracy: 0.90 - 2s 69ms/step - loss: 3.1338 - accuracy: 0.9050 - val_loss: 86.9347 - val_accuracy: 0.3690\n",
      "Epoch 29/1000\n",
      "26/26 [==============================] - ETA: 0s - loss: 6.5129 - accuracy: 0.75 - ETA: 0s - loss: 5.7665 - accuracy: 0.80 - ETA: 0s - loss: 3.7111 - accuracy: 0.86 - ETA: 0s - loss: 3.6153 - accuracy: 0.88 - ETA: 0s - loss: 3.4699 - accuracy: 0.88 - ETA: 0s - loss: 4.2125 - accuracy: 0.87 - ETA: 0s - loss: 3.7338 - accuracy: 0.88 - ETA: 0s - loss: 3.4798 - accuracy: 0.89 - ETA: 0s - loss: 3.4535 - accuracy: 0.89 - 2s 62ms/step - loss: 3.3948 - accuracy: 0.8990 - val_loss: 81.3276 - val_accuracy: 0.3869\n",
      "Epoch 30/1000\n",
      "26/26 [==============================] - ETA: 0s - loss: 0.8433 - accuracy: 0.96 - ETA: 0s - loss: 2.9865 - accuracy: 0.89 - ETA: 0s - loss: 3.5476 - accuracy: 0.87 - ETA: 0s - loss: 4.7629 - accuracy: 0.89 - ETA: 0s - loss: 4.1249 - accuracy: 0.90 - ETA: 0s - loss: 4.5197 - accuracy: 0.89 - ETA: 0s - loss: 4.4163 - accuracy: 0.89 - ETA: 0s - loss: 4.3457 - accuracy: 0.89 - ETA: 0s - loss: 3.9680 - accuracy: 0.89 - 2s 64ms/step - loss: 3.8639 - accuracy: 0.9002 - val_loss: 92.4623 - val_accuracy: 0.3631\n"
     ]
    },
    {
     "data": {
      "text/html": [
       "<span style=\"color:#4527A0\"><h1 style=\"font-size:18px\">Trial complete</h1></span>"
      ],
      "text/plain": [
       "<IPython.core.display.HTML object>"
      ]
     },
     "metadata": {},
     "output_type": "display_data"
    },
    {
     "data": {
      "text/html": [
       "<span style=\"color:#4527A0\"><h1 style=\"font-size:18px\">Trial summary</h1></span>"
      ],
      "text/plain": [
       "<IPython.core.display.HTML object>"
      ]
     },
     "metadata": {},
     "output_type": "display_data"
    },
    {
     "data": {
      "text/html": [
       "<span style=\"color:cyan\"> |-Trial ID: 6d760e614a54639b55a04c939f203e89</span>"
      ],
      "text/plain": [
       "<IPython.core.display.HTML object>"
      ]
     },
     "metadata": {},
     "output_type": "display_data"
    },
    {
     "data": {
      "text/html": [
       "<span style=\"color:cyan\"> |-Score: 0.494047611951828</span>"
      ],
      "text/plain": [
       "<IPython.core.display.HTML object>"
      ]
     },
     "metadata": {},
     "output_type": "display_data"
    },
    {
     "data": {
      "text/html": [
       "<span style=\"color:cyan\"> |-Best step: 16</span>"
      ],
      "text/plain": [
       "<IPython.core.display.HTML object>"
      ]
     },
     "metadata": {},
     "output_type": "display_data"
    },
    {
     "data": {
      "text/html": [
       "<span style=\"color:#7E57C2\"><h2 style=\"font-size:16px\">Hyperparameters:</h2></span>"
      ],
      "text/plain": [
       "<IPython.core.display.HTML object>"
      ]
     },
     "metadata": {},
     "output_type": "display_data"
    },
    {
     "data": {
      "text/html": [
       "<span style=\"color:cyan\"> |-classification_head_1/dropout: 0</span>"
      ],
      "text/plain": [
       "<IPython.core.display.HTML object>"
      ]
     },
     "metadata": {},
     "output_type": "display_data"
    },
    {
     "data": {
      "text/html": [
       "<span style=\"color:blue\"> |-learning_rate: 0.001</span>"
      ],
      "text/plain": [
       "<IPython.core.display.HTML object>"
      ]
     },
     "metadata": {},
     "output_type": "display_data"
    },
    {
     "data": {
      "text/html": [
       "<span style=\"color:cyan\"> |-optimizer: adam</span>"
      ],
      "text/plain": [
       "<IPython.core.display.HTML object>"
      ]
     },
     "metadata": {},
     "output_type": "display_data"
    },
    {
     "data": {
      "text/html": [
       "<span style=\"color:blue\"> |-structured_data_block_1/dense_block_1/dropout: 0.0</span>"
      ],
      "text/plain": [
       "<IPython.core.display.HTML object>"
      ]
     },
     "metadata": {},
     "output_type": "display_data"
    },
    {
     "data": {
      "text/html": [
       "<span style=\"color:cyan\"> |-structured_data_block_1/dense_block_1/num_layers: 2</span>"
      ],
      "text/plain": [
       "<IPython.core.display.HTML object>"
      ]
     },
     "metadata": {},
     "output_type": "display_data"
    },
    {
     "data": {
      "text/html": [
       "<span style=\"color:blue\"> |-structured_data_block_1/dense_block_1/units_0: 1024</span>"
      ],
      "text/plain": [
       "<IPython.core.display.HTML object>"
      ]
     },
     "metadata": {},
     "output_type": "display_data"
    },
    {
     "data": {
      "text/html": [
       "<span style=\"color:cyan\"> |-structured_data_block_1/dense_block_1/units_1: 1024</span>"
      ],
      "text/plain": [
       "<IPython.core.display.HTML object>"
      ]
     },
     "metadata": {},
     "output_type": "display_data"
    },
    {
     "data": {
      "text/html": [
       "<span style=\"color:blue\"> |-structured_data_block_1/dense_block_1/use_batchnorm: False</span>"
      ],
      "text/plain": [
       "<IPython.core.display.HTML object>"
      ]
     },
     "metadata": {},
     "output_type": "display_data"
    },
    {
     "data": {
      "text/html": [
       "<span style=\"color:#4527A0\"><h1 style=\"font-size:18px\">Starting new trial</h1></span>"
      ],
      "text/plain": [
       "<IPython.core.display.HTML object>"
      ]
     },
     "metadata": {},
     "output_type": "display_data"
    },
    {
     "name": "stdout",
     "output_type": "stream",
     "text": [
      "Epoch 1/1000\n",
      "26/26 [==============================] - ETA: 0s - loss: 1.9926 - accuracy: 0.15 - ETA: 0s - loss: 1.4669 - accuracy: 0.36 - ETA: 0s - loss: 1.4076 - accuracy: 0.39 - ETA: 0s - loss: 1.3703 - accuracy: 0.41 - ETA: 0s - loss: 1.3290 - accuracy: 0.41 - 5s 206ms/step - loss: 1.3290 - accuracy: 0.4171 - val_loss: 1.4232 - val_accuracy: 0.3512\n",
      "Epoch 2/1000\n",
      "26/26 [==============================] - ETA: 0s - loss: 0.8225 - accuracy: 0.81 - ETA: 0s - loss: 0.9754 - accuracy: 0.59 - ETA: 0s - loss: 0.9112 - accuracy: 0.63 - ETA: 0s - loss: 0.9059 - accuracy: 0.63 - ETA: 0s - loss: 0.8996 - accuracy: 0.64 - 1s 49ms/step - loss: 0.8996 - accuracy: 0.6466 - val_loss: 1.2341 - val_accuracy: 0.4226\n",
      "Epoch 3/1000\n",
      "26/26 [==============================] - ETA: 0s - loss: 0.7307 - accuracy: 0.75 - ETA: 0s - loss: 0.7969 - accuracy: 0.70 - ETA: 0s - loss: 0.7269 - accuracy: 0.71 - ETA: 0s - loss: 0.7264 - accuracy: 0.72 - ETA: 0s - loss: 0.7181 - accuracy: 0.73 - 1s 35ms/step - loss: 0.7181 - accuracy: 0.7332 - val_loss: 1.1876 - val_accuracy: 0.4405\n",
      "Epoch 4/1000\n",
      "26/26 [==============================] - ETA: 0s - loss: 0.6272 - accuracy: 0.75 - ETA: 0s - loss: 0.6717 - accuracy: 0.75 - ETA: 0s - loss: 0.5944 - accuracy: 0.80 - ETA: 0s - loss: 0.5950 - accuracy: 0.81 - ETA: 0s - loss: 0.5977 - accuracy: 0.81 - 1s 43ms/step - loss: 0.5881 - accuracy: 0.8161 - val_loss: 1.1427 - val_accuracy: 0.4762\n",
      "Epoch 5/1000\n",
      "26/26 [==============================] - ETA: 0s - loss: 0.5310 - accuracy: 0.84 - ETA: 0s - loss: 0.5598 - accuracy: 0.82 - ETA: 0s - loss: 0.4785 - accuracy: 0.86 - ETA: 0s - loss: 0.4878 - accuracy: 0.86 - 1s 49ms/step - loss: 0.4775 - accuracy: 0.8690 - val_loss: 1.1305 - val_accuracy: 0.5060\n",
      "Epoch 6/1000\n",
      "26/26 [==============================] - ETA: 0s - loss: 0.4355 - accuracy: 0.90 - ETA: 0s - loss: 0.4913 - accuracy: 0.87 - ETA: 0s - loss: 0.4074 - accuracy: 0.89 - ETA: 0s - loss: 0.4102 - accuracy: 0.89 - 1s 49ms/step - loss: 0.3963 - accuracy: 0.9014 - val_loss: 1.1151 - val_accuracy: 0.5357\n",
      "Epoch 7/1000\n",
      "26/26 [==============================] - ETA: 0s - loss: 0.3568 - accuracy: 0.90 - ETA: 0s - loss: 0.3823 - accuracy: 0.90 - ETA: 0s - loss: 0.3170 - accuracy: 0.92 - ETA: 0s - loss: 0.3195 - accuracy: 0.93 - ETA: 0s - loss: 0.3088 - accuracy: 0.93 - 1s 56ms/step - loss: 0.3088 - accuracy: 0.9339 - val_loss: 1.1640 - val_accuracy: 0.5119\n",
      "Epoch 8/1000\n",
      "26/26 [==============================] - ETA: 0s - loss: 0.2912 - accuracy: 0.96 - ETA: 0s - loss: 0.3044 - accuracy: 0.94 - ETA: 0s - loss: 0.2552 - accuracy: 0.95 - ETA: 0s - loss: 0.2592 - accuracy: 0.95 - 1s 54ms/step - loss: 0.2423 - accuracy: 0.9627 - val_loss: 1.2152 - val_accuracy: 0.5238\n",
      "Epoch 9/1000\n",
      "26/26 [==============================] - ETA: 0s - loss: 0.2267 - accuracy: 0.96 - ETA: 0s - loss: 0.2237 - accuracy: 0.96 - ETA: 0s - loss: 0.2038 - accuracy: 0.96 - ETA: 0s - loss: 0.2024 - accuracy: 0.97 - 1s 45ms/step - loss: 0.1955 - accuracy: 0.9748 - val_loss: 1.3189 - val_accuracy: 0.5179\n",
      "Epoch 10/1000\n",
      "26/26 [==============================] - ETA: 0s - loss: 0.1927 - accuracy: 0.96 - ETA: 0s - loss: 0.2229 - accuracy: 0.96 - ETA: 0s - loss: 0.1779 - accuracy: 0.97 - ETA: 0s - loss: 0.1751 - accuracy: 0.97 - 2s 62ms/step - loss: 0.1637 - accuracy: 0.9820 - val_loss: 1.3087 - val_accuracy: 0.5000\n",
      "Epoch 11/1000\n",
      "26/26 [==============================] - ETA: 0s - loss: 0.1332 - accuracy: 1.00 - ETA: 0s - loss: 0.1812 - accuracy: 0.97 - ETA: 0s - loss: 0.1503 - accuracy: 0.97 - ETA: 0s - loss: 0.1544 - accuracy: 0.97 - 1s 51ms/step - loss: 0.1492 - accuracy: 0.9772 - val_loss: 1.3001 - val_accuracy: 0.4643\n",
      "Epoch 12/1000\n",
      "26/26 [==============================] - ETA: 0s - loss: 0.1541 - accuracy: 0.96 - ETA: 0s - loss: 0.1932 - accuracy: 0.95 - ETA: 0s - loss: 0.1630 - accuracy: 0.97 - ETA: 0s - loss: 0.1739 - accuracy: 0.97 - 1s 56ms/step - loss: 0.1683 - accuracy: 0.9700 - val_loss: 1.4406 - val_accuracy: 0.4702\n",
      "Epoch 13/1000\n",
      "26/26 [==============================] - ETA: 0s - loss: 0.1451 - accuracy: 0.96 - ETA: 0s - loss: 0.1864 - accuracy: 0.96 - ETA: 0s - loss: 0.1592 - accuracy: 0.97 - ETA: 0s - loss: 0.1863 - accuracy: 0.96 - 1s 45ms/step - loss: 0.1727 - accuracy: 0.9651 - val_loss: 1.3812 - val_accuracy: 0.4762\n",
      "Epoch 14/1000\n",
      "26/26 [==============================] - ETA: 0s - loss: 0.1250 - accuracy: 1.00 - ETA: 0s - loss: 0.1530 - accuracy: 0.97 - ETA: 0s - loss: 0.1444 - accuracy: 0.97 - ETA: 0s - loss: 0.1504 - accuracy: 0.97 - 1s 41ms/step - loss: 0.1453 - accuracy: 0.9724 - val_loss: 1.4443 - val_accuracy: 0.4643\n",
      "Epoch 15/1000\n",
      "26/26 [==============================] - ETA: 0s - loss: 0.2832 - accuracy: 0.93 - ETA: 0s - loss: 0.2004 - accuracy: 0.95 - ETA: 0s - loss: 0.1713 - accuracy: 0.96 - ETA: 0s - loss: 0.1777 - accuracy: 0.95 - 1s 42ms/step - loss: 0.1882 - accuracy: 0.9495 - val_loss: 1.7108 - val_accuracy: 0.4702\n",
      "Epoch 16/1000\n",
      "26/26 [==============================] - ETA: 0s - loss: 0.3793 - accuracy: 0.87 - ETA: 0s - loss: 0.2559 - accuracy: 0.94 - ETA: 0s - loss: 0.2970 - accuracy: 0.92 - ETA: 0s - loss: 0.2721 - accuracy: 0.93 - 1s 51ms/step - loss: 0.2603 - accuracy: 0.9411 - val_loss: 1.7515 - val_accuracy: 0.4464\n"
     ]
    },
    {
     "data": {
      "text/html": [
       "<span style=\"color:#4527A0\"><h1 style=\"font-size:18px\">Trial complete</h1></span>"
      ],
      "text/plain": [
       "<IPython.core.display.HTML object>"
      ]
     },
     "metadata": {},
     "output_type": "display_data"
    },
    {
     "data": {
      "text/html": [
       "<span style=\"color:#4527A0\"><h1 style=\"font-size:18px\">Trial summary</h1></span>"
      ],
      "text/plain": [
       "<IPython.core.display.HTML object>"
      ]
     },
     "metadata": {},
     "output_type": "display_data"
    },
    {
     "data": {
      "text/html": [
       "<span style=\"color:cyan\"> |-Trial ID: 39d618889abb3325e6f424594b89c5d5</span>"
      ],
      "text/plain": [
       "<IPython.core.display.HTML object>"
      ]
     },
     "metadata": {},
     "output_type": "display_data"
    },
    {
     "data": {
      "text/html": [
       "<span style=\"color:cyan\"> |-Score: 0.5357142686843872</span>"
      ],
      "text/plain": [
       "<IPython.core.display.HTML object>"
      ]
     },
     "metadata": {},
     "output_type": "display_data"
    },
    {
     "data": {
      "text/html": [
       "<span style=\"color:cyan\"> |-Best step: 5</span>"
      ],
      "text/plain": [
       "<IPython.core.display.HTML object>"
      ]
     },
     "metadata": {},
     "output_type": "display_data"
    },
    {
     "data": {
      "text/html": [
       "<span style=\"color:#7E57C2\"><h2 style=\"font-size:16px\">Hyperparameters:</h2></span>"
      ],
      "text/plain": [
       "<IPython.core.display.HTML object>"
      ]
     },
     "metadata": {},
     "output_type": "display_data"
    },
    {
     "data": {
      "text/html": [
       "<span style=\"color:cyan\"> |-classification_head_1/dropout: 0</span>"
      ],
      "text/plain": [
       "<IPython.core.display.HTML object>"
      ]
     },
     "metadata": {},
     "output_type": "display_data"
    },
    {
     "data": {
      "text/html": [
       "<span style=\"color:blue\"> |-learning_rate: 0.001</span>"
      ],
      "text/plain": [
       "<IPython.core.display.HTML object>"
      ]
     },
     "metadata": {},
     "output_type": "display_data"
    },
    {
     "data": {
      "text/html": [
       "<span style=\"color:cyan\"> |-optimizer: adam</span>"
      ],
      "text/plain": [
       "<IPython.core.display.HTML object>"
      ]
     },
     "metadata": {},
     "output_type": "display_data"
    },
    {
     "data": {
      "text/html": [
       "<span style=\"color:blue\"> |-structured_data_block_1/dense_block_1/dropout: 0.0</span>"
      ],
      "text/plain": [
       "<IPython.core.display.HTML object>"
      ]
     },
     "metadata": {},
     "output_type": "display_data"
    },
    {
     "data": {
      "text/html": [
       "<span style=\"color:cyan\"> |-structured_data_block_1/dense_block_1/num_layers: 2</span>"
      ],
      "text/plain": [
       "<IPython.core.display.HTML object>"
      ]
     },
     "metadata": {},
     "output_type": "display_data"
    },
    {
     "data": {
      "text/html": [
       "<span style=\"color:blue\"> |-structured_data_block_1/dense_block_1/units_0: 128</span>"
      ],
      "text/plain": [
       "<IPython.core.display.HTML object>"
      ]
     },
     "metadata": {},
     "output_type": "display_data"
    },
    {
     "data": {
      "text/html": [
       "<span style=\"color:cyan\"> |-structured_data_block_1/dense_block_1/units_1: 256</span>"
      ],
      "text/plain": [
       "<IPython.core.display.HTML object>"
      ]
     },
     "metadata": {},
     "output_type": "display_data"
    },
    {
     "data": {
      "text/html": [
       "<span style=\"color:blue\"> |-structured_data_block_1/dense_block_1/use_batchnorm: True</span>"
      ],
      "text/plain": [
       "<IPython.core.display.HTML object>"
      ]
     },
     "metadata": {},
     "output_type": "display_data"
    },
    {
     "data": {
      "text/html": [
       "<span style=\"color:#4527A0\"><h1 style=\"font-size:18px\">Starting new trial</h1></span>"
      ],
      "text/plain": [
       "<IPython.core.display.HTML object>"
      ]
     },
     "metadata": {},
     "output_type": "display_data"
    },
    {
     "name": "stdout",
     "output_type": "stream",
     "text": [
      "Epoch 1/1000\n",
      "26/26 [==============================] - ETA: 0s - loss: 1.8903 - accuracy: 0.28 - ETA: 0s - loss: 1.5948 - accuracy: 0.32 - ETA: 0s - loss: 1.6173 - accuracy: 0.33 - ETA: 0s - loss: 1.6294 - accuracy: 0.35 - ETA: 0s - loss: 1.5904 - accuracy: 0.37 - 6s 246ms/step - loss: 1.5338 - accuracy: 0.3942 - val_loss: 2.2131 - val_accuracy: 0.3214\n",
      "Epoch 2/1000\n",
      "26/26 [==============================] - ETA: 0s - loss: 0.9562 - accuracy: 0.56 - ETA: 0s - loss: 1.1099 - accuracy: 0.53 - ETA: 0s - loss: 1.0756 - accuracy: 0.54 - ETA: 0s - loss: 1.0719 - accuracy: 0.55 - ETA: 0s - loss: 1.0664 - accuracy: 0.55 - 1s 39ms/step - loss: 1.0635 - accuracy: 0.5553 - val_loss: 1.7066 - val_accuracy: 0.3333\n",
      "Epoch 3/1000\n",
      "26/26 [==============================] - ETA: 0s - loss: 0.9722 - accuracy: 0.56 - ETA: 0s - loss: 1.0356 - accuracy: 0.56 - ETA: 0s - loss: 0.9820 - accuracy: 0.59 - ETA: 0s - loss: 0.9523 - accuracy: 0.60 - ETA: 0s - loss: 0.9646 - accuracy: 0.60 - ETA: 0s - loss: 0.9578 - accuracy: 0.60 - 1s 47ms/step - loss: 0.9578 - accuracy: 0.6010 - val_loss: 1.2836 - val_accuracy: 0.4345\n",
      "Epoch 4/1000\n",
      "26/26 [==============================] - ETA: 0s - loss: 0.8491 - accuracy: 0.65 - ETA: 0s - loss: 0.9097 - accuracy: 0.62 - ETA: 0s - loss: 0.7909 - accuracy: 0.67 - ETA: 0s - loss: 0.8075 - accuracy: 0.67 - ETA: 0s - loss: 0.8149 - accuracy: 0.67 - ETA: 0s - loss: 0.8055 - accuracy: 0.67 - 1s 35ms/step - loss: 0.8055 - accuracy: 0.6779 - val_loss: 1.1939 - val_accuracy: 0.4464\n",
      "Epoch 5/1000\n",
      "26/26 [==============================] - ETA: 0s - loss: 0.8267 - accuracy: 0.59 - ETA: 0s - loss: 0.8311 - accuracy: 0.70 - ETA: 0s - loss: 0.7478 - accuracy: 0.71 - ETA: 0s - loss: 0.7605 - accuracy: 0.69 - ETA: 0s - loss: 0.7628 - accuracy: 0.69 - 1s 57ms/step - loss: 0.7568 - accuracy: 0.6899 - val_loss: 1.1317 - val_accuracy: 0.4940\n",
      "Epoch 6/1000\n",
      "26/26 [==============================] - ETA: 0s - loss: 0.8293 - accuracy: 0.65 - ETA: 0s - loss: 0.7593 - accuracy: 0.71 - ETA: 0s - loss: 0.7123 - accuracy: 0.71 - ETA: 0s - loss: 0.6989 - accuracy: 0.71 - ETA: 0s - loss: 0.7094 - accuracy: 0.72 - ETA: 0s - loss: 0.7069 - accuracy: 0.72 - 1s 38ms/step - loss: 0.7000 - accuracy: 0.7308 - val_loss: 1.1018 - val_accuracy: 0.5000\n",
      "Epoch 7/1000\n",
      "26/26 [==============================] - ETA: 0s - loss: 0.6799 - accuracy: 0.71 - ETA: 0s - loss: 0.6964 - accuracy: 0.75 - ETA: 0s - loss: 0.6222 - accuracy: 0.76 - ETA: 0s - loss: 0.6179 - accuracy: 0.76 - ETA: 0s - loss: 0.6315 - accuracy: 0.76 - 1s 41ms/step - loss: 0.6174 - accuracy: 0.7692 - val_loss: 1.0804 - val_accuracy: 0.5357\n",
      "Epoch 8/1000\n",
      "26/26 [==============================] - ETA: 0s - loss: 0.5771 - accuracy: 0.81 - ETA: 0s - loss: 0.7381 - accuracy: 0.72 - ETA: 0s - loss: 0.6353 - accuracy: 0.75 - ETA: 0s - loss: 0.6243 - accuracy: 0.75 - ETA: 0s - loss: 0.6268 - accuracy: 0.75 - ETA: 0s - loss: 0.6236 - accuracy: 0.76 - 1s 50ms/step - loss: 0.6128 - accuracy: 0.7644 - val_loss: 1.0987 - val_accuracy: 0.5595\n",
      "Epoch 9/1000\n",
      "26/26 [==============================] - ETA: 0s - loss: 0.5094 - accuracy: 0.78 - ETA: 0s - loss: 0.6635 - accuracy: 0.76 - ETA: 0s - loss: 0.5917 - accuracy: 0.80 - ETA: 0s - loss: 0.5778 - accuracy: 0.80 - ETA: 0s - loss: 0.5913 - accuracy: 0.79 - ETA: 0s - loss: 0.5830 - accuracy: 0.79 - 1s 45ms/step - loss: 0.5830 - accuracy: 0.7909 - val_loss: 1.1278 - val_accuracy: 0.5774\n",
      "Epoch 10/1000\n",
      "26/26 [==============================] - ETA: 0s - loss: 0.5538 - accuracy: 0.78 - ETA: 0s - loss: 0.6224 - accuracy: 0.78 - ETA: 0s - loss: 0.5388 - accuracy: 0.81 - ETA: 0s - loss: 0.5492 - accuracy: 0.80 - ETA: 0s - loss: 0.5571 - accuracy: 0.79 - 1s 46ms/step - loss: 0.5378 - accuracy: 0.8137 - val_loss: 1.1370 - val_accuracy: 0.5714\n",
      "Epoch 11/1000\n",
      "26/26 [==============================] - ETA: 0s - loss: 0.5365 - accuracy: 0.78 - ETA: 0s - loss: 0.6607 - accuracy: 0.76 - ETA: 0s - loss: 0.5426 - accuracy: 0.80 - ETA: 0s - loss: 0.5298 - accuracy: 0.80 - ETA: 0s - loss: 0.5359 - accuracy: 0.79 - ETA: 0s - loss: 0.5367 - accuracy: 0.80 - 1s 52ms/step - loss: 0.5367 - accuracy: 0.8005 - val_loss: 1.1419 - val_accuracy: 0.5476\n",
      "Epoch 12/1000\n",
      "26/26 [==============================] - ETA: 0s - loss: 0.6072 - accuracy: 0.75 - ETA: 0s - loss: 0.5673 - accuracy: 0.82 - ETA: 0s - loss: 0.4743 - accuracy: 0.84 - ETA: 0s - loss: 0.4739 - accuracy: 0.83 - ETA: 0s - loss: 0.4885 - accuracy: 0.83 - ETA: 0s - loss: 0.4712 - accuracy: 0.84 - 1s 53ms/step - loss: 0.4712 - accuracy: 0.8450 - val_loss: 1.1072 - val_accuracy: 0.5833\n",
      "Epoch 13/1000\n",
      "26/26 [==============================] - ETA: 0s - loss: 0.5502 - accuracy: 0.75 - ETA: 0s - loss: 0.5762 - accuracy: 0.79 - ETA: 0s - loss: 0.5181 - accuracy: 0.81 - ETA: 0s - loss: 0.4746 - accuracy: 0.82 - ETA: 0s - loss: 0.4807 - accuracy: 0.82 - ETA: 0s - loss: 0.4697 - accuracy: 0.83 - 1s 45ms/step - loss: 0.4697 - accuracy: 0.8317 - val_loss: 1.1700 - val_accuracy: 0.5833\n",
      "Epoch 14/1000\n",
      "26/26 [==============================] - ETA: 0s - loss: 0.5064 - accuracy: 0.75 - ETA: 0s - loss: 0.5358 - accuracy: 0.82 - ETA: 0s - loss: 0.4410 - accuracy: 0.86 - ETA: 0s - loss: 0.4444 - accuracy: 0.85 - ETA: 0s - loss: 0.4457 - accuracy: 0.86 - 1s 37ms/step - loss: 0.4407 - accuracy: 0.8570 - val_loss: 1.1330 - val_accuracy: 0.5833\n",
      "Epoch 15/1000\n",
      "26/26 [==============================] - ETA: 0s - loss: 0.6474 - accuracy: 0.78 - ETA: 0s - loss: 0.4973 - accuracy: 0.85 - ETA: 0s - loss: 0.4435 - accuracy: 0.86 - ETA: 0s - loss: 0.4358 - accuracy: 0.85 - ETA: 0s - loss: 0.4458 - accuracy: 0.84 - 1s 39ms/step - loss: 0.4245 - accuracy: 0.8546 - val_loss: 1.1168 - val_accuracy: 0.5893\n",
      "Epoch 16/1000\n",
      "26/26 [==============================] - ETA: 0s - loss: 0.5187 - accuracy: 0.78 - ETA: 0s - loss: 0.4932 - accuracy: 0.82 - ETA: 0s - loss: 0.4143 - accuracy: 0.86 - ETA: 0s - loss: 0.3932 - accuracy: 0.87 - ETA: 0s - loss: 0.3975 - accuracy: 0.86 - 1s 54ms/step - loss: 0.3981 - accuracy: 0.8666 - val_loss: 1.1470 - val_accuracy: 0.5714\n",
      "Epoch 17/1000\n",
      "26/26 [==============================] - ETA: 0s - loss: 0.4328 - accuracy: 0.81 - ETA: 0s - loss: 0.5061 - accuracy: 0.83 - ETA: 0s - loss: 0.4099 - accuracy: 0.88 - ETA: 0s - loss: 0.3792 - accuracy: 0.88 - ETA: 0s - loss: 0.3837 - accuracy: 0.88 - ETA: 0s - loss: 0.3705 - accuracy: 0.88 - 1s 53ms/step - loss: 0.3705 - accuracy: 0.8834 - val_loss: 1.2371 - val_accuracy: 0.5536\n"
     ]
    },
    {
     "data": {
      "text/html": [
       "<span style=\"color:#4527A0\"><h1 style=\"font-size:18px\">Trial complete</h1></span>"
      ],
      "text/plain": [
       "<IPython.core.display.HTML object>"
      ]
     },
     "metadata": {},
     "output_type": "display_data"
    },
    {
     "data": {
      "text/html": [
       "<span style=\"color:#4527A0\"><h1 style=\"font-size:18px\">Trial summary</h1></span>"
      ],
      "text/plain": [
       "<IPython.core.display.HTML object>"
      ]
     },
     "metadata": {},
     "output_type": "display_data"
    },
    {
     "data": {
      "text/html": [
       "<span style=\"color:cyan\"> |-Trial ID: 6717497d9a2b4ff1ad51b08d9074da4d</span>"
      ],
      "text/plain": [
       "<IPython.core.display.HTML object>"
      ]
     },
     "metadata": {},
     "output_type": "display_data"
    },
    {
     "data": {
      "text/html": [
       "<span style=\"color:cyan\"> |-Score: 0.5892857313156128</span>"
      ],
      "text/plain": [
       "<IPython.core.display.HTML object>"
      ]
     },
     "metadata": {},
     "output_type": "display_data"
    },
    {
     "data": {
      "text/html": [
       "<span style=\"color:cyan\"> |-Best step: 14</span>"
      ],
      "text/plain": [
       "<IPython.core.display.HTML object>"
      ]
     },
     "metadata": {},
     "output_type": "display_data"
    },
    {
     "data": {
      "text/html": [
       "<span style=\"color:#7E57C2\"><h2 style=\"font-size:16px\">Hyperparameters:</h2></span>"
      ],
      "text/plain": [
       "<IPython.core.display.HTML object>"
      ]
     },
     "metadata": {},
     "output_type": "display_data"
    },
    {
     "data": {
      "text/html": [
       "<span style=\"color:cyan\"> |-classification_head_1/dropout: 0.25</span>"
      ],
      "text/plain": [
       "<IPython.core.display.HTML object>"
      ]
     },
     "metadata": {},
     "output_type": "display_data"
    },
    {
     "data": {
      "text/html": [
       "<span style=\"color:blue\"> |-learning_rate: 0.001</span>"
      ],
      "text/plain": [
       "<IPython.core.display.HTML object>"
      ]
     },
     "metadata": {},
     "output_type": "display_data"
    },
    {
     "data": {
      "text/html": [
       "<span style=\"color:cyan\"> |-optimizer: adam</span>"
      ],
      "text/plain": [
       "<IPython.core.display.HTML object>"
      ]
     },
     "metadata": {},
     "output_type": "display_data"
    },
    {
     "data": {
      "text/html": [
       "<span style=\"color:blue\"> |-structured_data_block_1/dense_block_1/dropout: 0.25</span>"
      ],
      "text/plain": [
       "<IPython.core.display.HTML object>"
      ]
     },
     "metadata": {},
     "output_type": "display_data"
    },
    {
     "data": {
      "text/html": [
       "<span style=\"color:cyan\"> |-structured_data_block_1/dense_block_1/num_layers: 1</span>"
      ],
      "text/plain": [
       "<IPython.core.display.HTML object>"
      ]
     },
     "metadata": {},
     "output_type": "display_data"
    },
    {
     "data": {
      "text/html": [
       "<span style=\"color:blue\"> |-structured_data_block_1/dense_block_1/units_0: 512</span>"
      ],
      "text/plain": [
       "<IPython.core.display.HTML object>"
      ]
     },
     "metadata": {},
     "output_type": "display_data"
    },
    {
     "data": {
      "text/html": [
       "<span style=\"color:cyan\"> |-structured_data_block_1/dense_block_1/units_1: 1024</span>"
      ],
      "text/plain": [
       "<IPython.core.display.HTML object>"
      ]
     },
     "metadata": {},
     "output_type": "display_data"
    },
    {
     "data": {
      "text/html": [
       "<span style=\"color:blue\"> |-structured_data_block_1/dense_block_1/use_batchnorm: True</span>"
      ],
      "text/plain": [
       "<IPython.core.display.HTML object>"
      ]
     },
     "metadata": {},
     "output_type": "display_data"
    },
    {
     "data": {
      "text/html": [
       "<span style=\"color:#4527A0\"><h1 style=\"font-size:18px\">Starting new trial</h1></span>"
      ],
      "text/plain": [
       "<IPython.core.display.HTML object>"
      ]
     },
     "metadata": {},
     "output_type": "display_data"
    },
    {
     "name": "stdout",
     "output_type": "stream",
     "text": [
      "Epoch 1/1000\n",
      "26/26 [==============================] - ETA: 0s - loss: 1.4570 - accuracy: 0.43 - ETA: 0s - loss: 1.8437 - accuracy: 0.26 - ETA: 0s - loss: 1.9313 - accuracy: 0.25 - ETA: 0s - loss: 1.8737 - accuracy: 0.25 - ETA: 0s - loss: 1.8821 - accuracy: 0.24 - 5s 206ms/step - loss: 1.8821 - accuracy: 0.2476 - val_loss: 1.5361 - val_accuracy: 0.2083\n",
      "Epoch 2/1000\n",
      "26/26 [==============================] - ETA: 0s - loss: 1.6738 - accuracy: 0.34 - ETA: 0s - loss: 1.7988 - accuracy: 0.29 - ETA: 0s - loss: 1.8845 - accuracy: 0.26 - ETA: 0s - loss: 1.8568 - accuracy: 0.24 - ETA: 0s - loss: 1.8857 - accuracy: 0.23 - 1s 36ms/step - loss: 1.8857 - accuracy: 0.2320 - val_loss: 1.4206 - val_accuracy: 0.2440\n",
      "Epoch 3/1000\n",
      "26/26 [==============================] - ETA: 0s - loss: 2.0248 - accuracy: 0.18 - ETA: 0s - loss: 1.8977 - accuracy: 0.22 - ETA: 0s - loss: 1.7847 - accuracy: 0.27 - ETA: 0s - loss: 1.7885 - accuracy: 0.27 - ETA: 0s - loss: 1.7586 - accuracy: 0.27 - 1s 29ms/step - loss: 1.7519 - accuracy: 0.2788 - val_loss: 1.3833 - val_accuracy: 0.2738\n",
      "Epoch 4/1000\n",
      "26/26 [==============================] - ETA: 0s - loss: 1.7049 - accuracy: 0.28 - ETA: 0s - loss: 1.7171 - accuracy: 0.27 - ETA: 0s - loss: 1.7168 - accuracy: 0.26 - ETA: 0s - loss: 1.6617 - accuracy: 0.27 - ETA: 0s - loss: 1.6611 - accuracy: 0.28 - 1s 50ms/step - loss: 1.6636 - accuracy: 0.2800 - val_loss: 1.3542 - val_accuracy: 0.3095\n",
      "Epoch 5/1000\n",
      "26/26 [==============================] - ETA: 0s - loss: 1.5665 - accuracy: 0.28 - ETA: 0s - loss: 1.7099 - accuracy: 0.29 - ETA: 0s - loss: 1.6464 - accuracy: 0.31 - ETA: 0s - loss: 1.6513 - accuracy: 0.30 - ETA: 0s - loss: 1.6489 - accuracy: 0.28 - 1s 35ms/step - loss: 1.6489 - accuracy: 0.2885 - val_loss: 1.3529 - val_accuracy: 0.3333\n",
      "Epoch 6/1000\n",
      "26/26 [==============================] - ETA: 0s - loss: 1.3511 - accuracy: 0.28 - ETA: 0s - loss: 1.6008 - accuracy: 0.28 - ETA: 0s - loss: 1.6099 - accuracy: 0.29 - ETA: 0s - loss: 1.6149 - accuracy: 0.29 - 1s 30ms/step - loss: 1.6071 - accuracy: 0.2981 - val_loss: 1.3479 - val_accuracy: 0.3810\n",
      "Epoch 7/1000\n",
      "26/26 [==============================] - ETA: 0s - loss: 1.1531 - accuracy: 0.50 - ETA: 0s - loss: 1.5167 - accuracy: 0.31 - ETA: 0s - loss: 1.5834 - accuracy: 0.31 - ETA: 0s - loss: 1.5513 - accuracy: 0.30 - ETA: 0s - loss: 1.5443 - accuracy: 0.30 - 1s 32ms/step - loss: 1.5443 - accuracy: 0.3017 - val_loss: 1.3387 - val_accuracy: 0.3571\n",
      "Epoch 8/1000\n",
      "26/26 [==============================] - ETA: 0s - loss: 1.4842 - accuracy: 0.43 - ETA: 0s - loss: 1.4998 - accuracy: 0.32 - ETA: 0s - loss: 1.5366 - accuracy: 0.31 - ETA: 0s - loss: 1.5301 - accuracy: 0.30 - ETA: 0s - loss: 1.5128 - accuracy: 0.31 - 1s 46ms/step - loss: 1.5128 - accuracy: 0.3113 - val_loss: 1.3308 - val_accuracy: 0.3810\n",
      "Epoch 9/1000\n",
      "26/26 [==============================] - ETA: 0s - loss: 1.4026 - accuracy: 0.37 - ETA: 0s - loss: 1.4303 - accuracy: 0.34 - ETA: 0s - loss: 1.4904 - accuracy: 0.29 - ETA: 0s - loss: 1.4837 - accuracy: 0.30 - ETA: 0s - loss: 1.4680 - accuracy: 0.32 - 1s 33ms/step - loss: 1.4680 - accuracy: 0.3245 - val_loss: 1.3172 - val_accuracy: 0.3750\n",
      "Epoch 10/1000\n",
      "26/26 [==============================] - ETA: 0s - loss: 1.4186 - accuracy: 0.28 - ETA: 0s - loss: 1.4689 - accuracy: 0.31 - ETA: 0s - loss: 1.4844 - accuracy: 0.32 - ETA: 0s - loss: 1.4779 - accuracy: 0.32 - ETA: 0s - loss: 1.4863 - accuracy: 0.32 - 1s 43ms/step - loss: 1.4841 - accuracy: 0.3197 - val_loss: 1.2934 - val_accuracy: 0.4286\n",
      "Epoch 11/1000\n",
      "26/26 [==============================] - ETA: 0s - loss: 1.3339 - accuracy: 0.43 - ETA: 0s - loss: 1.4519 - accuracy: 0.30 - ETA: 0s - loss: 1.4707 - accuracy: 0.30 - ETA: 0s - loss: 1.4377 - accuracy: 0.31 - 1s 39ms/step - loss: 1.4415 - accuracy: 0.3209 - val_loss: 1.2797 - val_accuracy: 0.4226\n",
      "Epoch 12/1000\n",
      "26/26 [==============================] - ETA: 0s - loss: 1.2329 - accuracy: 0.34 - ETA: 0s - loss: 1.3646 - accuracy: 0.36 - ETA: 0s - loss: 1.4231 - accuracy: 0.32 - ETA: 0s - loss: 1.4055 - accuracy: 0.33 - ETA: 0s - loss: 1.4040 - accuracy: 0.34 - 1s 40ms/step - loss: 1.4061 - accuracy: 0.3474 - val_loss: 1.2671 - val_accuracy: 0.4345\n",
      "Epoch 13/1000\n",
      "26/26 [==============================] - ETA: 0s - loss: 1.4269 - accuracy: 0.31 - ETA: 0s - loss: 1.3860 - accuracy: 0.36 - ETA: 0s - loss: 1.3597 - accuracy: 0.36 - ETA: 0s - loss: 1.3568 - accuracy: 0.36 - 1s 39ms/step - loss: 1.3559 - accuracy: 0.3618 - val_loss: 1.2509 - val_accuracy: 0.4286\n",
      "Epoch 14/1000\n",
      "26/26 [==============================] - ETA: 0s - loss: 1.4158 - accuracy: 0.34 - ETA: 0s - loss: 1.4114 - accuracy: 0.31 - ETA: 0s - loss: 1.3731 - accuracy: 0.34 - ETA: 0s - loss: 1.3315 - accuracy: 0.37 - ETA: 0s - loss: 1.3216 - accuracy: 0.38 - 1s 45ms/step - loss: 1.3199 - accuracy: 0.3822 - val_loss: 1.2256 - val_accuracy: 0.4583\n",
      "Epoch 15/1000\n",
      "26/26 [==============================] - ETA: 0s - loss: 1.3025 - accuracy: 0.43 - ETA: 0s - loss: 1.3205 - accuracy: 0.42 - ETA: 0s - loss: 1.3373 - accuracy: 0.40 - ETA: 0s - loss: 1.3387 - accuracy: 0.40 - 1s 38ms/step - loss: 1.3364 - accuracy: 0.4014 - val_loss: 1.2140 - val_accuracy: 0.4643\n",
      "Epoch 16/1000\n",
      "26/26 [==============================] - ETA: 0s - loss: 1.2283 - accuracy: 0.40 - ETA: 0s - loss: 1.3773 - accuracy: 0.35 - ETA: 0s - loss: 1.3506 - accuracy: 0.37 - ETA: 0s - loss: 1.3471 - accuracy: 0.37 - 2s 62ms/step - loss: 1.3475 - accuracy: 0.3678 - val_loss: 1.2173 - val_accuracy: 0.4821\n",
      "Epoch 17/1000\n",
      "26/26 [==============================] - ETA: 0s - loss: 1.2619 - accuracy: 0.46 - ETA: 0s - loss: 1.3573 - accuracy: 0.38 - ETA: 0s - loss: 1.3139 - accuracy: 0.39 - ETA: 0s - loss: 1.3019 - accuracy: 0.38 - ETA: 0s - loss: 1.3107 - accuracy: 0.39 - 1s 46ms/step - loss: 1.3107 - accuracy: 0.3978 - val_loss: 1.2188 - val_accuracy: 0.4583\n",
      "Epoch 18/1000\n",
      "26/26 [==============================] - ETA: 0s - loss: 1.3797 - accuracy: 0.21 - ETA: 0s - loss: 1.3086 - accuracy: 0.36 - ETA: 0s - loss: 1.3273 - accuracy: 0.35 - ETA: 0s - loss: 1.3185 - accuracy: 0.36 - ETA: 0s - loss: 1.3191 - accuracy: 0.37 - 1s 40ms/step - loss: 1.3154 - accuracy: 0.3798 - val_loss: 1.2032 - val_accuracy: 0.4821\n",
      "Epoch 19/1000\n",
      "26/26 [==============================] - ETA: 0s - loss: 1.1985 - accuracy: 0.34 - ETA: 0s - loss: 1.2915 - accuracy: 0.40 - ETA: 0s - loss: 1.3294 - accuracy: 0.40 - ETA: 0s - loss: 1.2808 - accuracy: 0.40 - ETA: 0s - loss: 1.2902 - accuracy: 0.39 - 1s 35ms/step - loss: 1.2902 - accuracy: 0.3978 - val_loss: 1.1922 - val_accuracy: 0.4583\n",
      "Epoch 20/1000\n",
      "26/26 [==============================] - ETA: 0s - loss: 1.1263 - accuracy: 0.43 - ETA: 0s - loss: 1.2360 - accuracy: 0.48 - ETA: 0s - loss: 1.2053 - accuracy: 0.49 - ETA: 0s - loss: 1.2240 - accuracy: 0.45 - ETA: 0s - loss: 1.2448 - accuracy: 0.42 - 1s 40ms/step - loss: 1.2448 - accuracy: 0.4231 - val_loss: 1.1861 - val_accuracy: 0.4583\n",
      "Epoch 21/1000\n",
      "26/26 [==============================] - ETA: 0s - loss: 1.2717 - accuracy: 0.40 - ETA: 0s - loss: 1.3711 - accuracy: 0.34 - ETA: 0s - loss: 1.3213 - accuracy: 0.36 - ETA: 0s - loss: 1.2669 - accuracy: 0.40 - ETA: 0s - loss: 1.2609 - accuracy: 0.40 - 1s 39ms/step - loss: 1.2609 - accuracy: 0.4002 - val_loss: 1.1832 - val_accuracy: 0.4524\n",
      "Epoch 22/1000\n",
      "26/26 [==============================] - ETA: 0s - loss: 1.2596 - accuracy: 0.46 - ETA: 0s - loss: 1.2719 - accuracy: 0.46 - ETA: 0s - loss: 1.2502 - accuracy: 0.44 - ETA: 0s - loss: 1.2310 - accuracy: 0.45 - ETA: 0s - loss: 1.2387 - accuracy: 0.44 - 1s 44ms/step - loss: 1.2281 - accuracy: 0.4483 - val_loss: 1.1758 - val_accuracy: 0.4643\n",
      "Epoch 23/1000\n",
      "26/26 [==============================] - ETA: 0s - loss: 1.2535 - accuracy: 0.50 - ETA: 0s - loss: 1.2789 - accuracy: 0.41 - ETA: 0s - loss: 1.2360 - accuracy: 0.41 - ETA: 0s - loss: 1.2150 - accuracy: 0.43 - ETA: 0s - loss: 1.2260 - accuracy: 0.43 - 1s 34ms/step - loss: 1.2190 - accuracy: 0.4351 - val_loss: 1.1737 - val_accuracy: 0.4821\n",
      "Epoch 24/1000\n",
      "26/26 [==============================] - ETA: 0s - loss: 1.1590 - accuracy: 0.43 - ETA: 0s - loss: 1.2411 - accuracy: 0.41 - ETA: 0s - loss: 1.2196 - accuracy: 0.41 - ETA: 0s - loss: 1.2215 - accuracy: 0.42 - ETA: 0s - loss: 1.2198 - accuracy: 0.41 - 1s 35ms/step - loss: 1.2198 - accuracy: 0.4183 - val_loss: 1.1818 - val_accuracy: 0.4821\n"
     ]
    },
    {
     "name": "stdout",
     "output_type": "stream",
     "text": [
      "Epoch 25/1000\n",
      "26/26 [==============================] - ETA: 0s - loss: 1.1965 - accuracy: 0.37 - ETA: 0s - loss: 1.2586 - accuracy: 0.41 - ETA: 0s - loss: 1.2346 - accuracy: 0.41 - ETA: 0s - loss: 1.1997 - accuracy: 0.45 - ETA: 0s - loss: 1.2013 - accuracy: 0.44 - 1s 35ms/step - loss: 1.2013 - accuracy: 0.4495 - val_loss: 1.1783 - val_accuracy: 0.4940\n",
      "Epoch 26/1000\n",
      "26/26 [==============================] - ETA: 0s - loss: 1.2210 - accuracy: 0.40 - ETA: 0s - loss: 1.2500 - accuracy: 0.41 - ETA: 0s - loss: 1.1952 - accuracy: 0.43 - ETA: 0s - loss: 1.2016 - accuracy: 0.43 - ETA: 0s - loss: 1.2095 - accuracy: 0.45 - 1s 38ms/step - loss: 1.2095 - accuracy: 0.4507 - val_loss: 1.1678 - val_accuracy: 0.4821\n",
      "Epoch 27/1000\n",
      "26/26 [==============================] - ETA: 0s - loss: 1.1009 - accuracy: 0.46 - ETA: 0s - loss: 1.2007 - accuracy: 0.44 - ETA: 0s - loss: 1.2034 - accuracy: 0.43 - ETA: 0s - loss: 1.1645 - accuracy: 0.45 - 1s 45ms/step - loss: 1.1699 - accuracy: 0.4471 - val_loss: 1.1642 - val_accuracy: 0.5000\n",
      "Epoch 28/1000\n",
      "26/26 [==============================] - ETA: 0s - loss: 1.1782 - accuracy: 0.37 - ETA: 0s - loss: 1.1615 - accuracy: 0.48 - ETA: 0s - loss: 1.1922 - accuracy: 0.46 - ETA: 0s - loss: 1.1732 - accuracy: 0.47 - 1s 36ms/step - loss: 1.1720 - accuracy: 0.4688 - val_loss: 1.1544 - val_accuracy: 0.4821\n",
      "Epoch 29/1000\n",
      "26/26 [==============================] - ETA: 0s - loss: 1.1550 - accuracy: 0.56 - ETA: 0s - loss: 1.1970 - accuracy: 0.46 - ETA: 0s - loss: 1.1756 - accuracy: 0.45 - ETA: 0s - loss: 1.1568 - accuracy: 0.46 - 1s 32ms/step - loss: 1.1686 - accuracy: 0.4591 - val_loss: 1.1478 - val_accuracy: 0.4762\n",
      "Epoch 30/1000\n",
      "26/26 [==============================] - ETA: 0s - loss: 1.1941 - accuracy: 0.56 - ETA: 0s - loss: 1.2204 - accuracy: 0.45 - ETA: 0s - loss: 1.1799 - accuracy: 0.45 - ETA: 0s - loss: 1.1638 - accuracy: 0.47 - 1s 39ms/step - loss: 1.1603 - accuracy: 0.4736 - val_loss: 1.1620 - val_accuracy: 0.5179\n",
      "Epoch 31/1000\n",
      "26/26 [==============================] - ETA: 0s - loss: 1.1192 - accuracy: 0.34 - ETA: 0s - loss: 1.1852 - accuracy: 0.42 - ETA: 0s - loss: 1.1579 - accuracy: 0.44 - ETA: 0s - loss: 1.1537 - accuracy: 0.47 - ETA: 0s - loss: 1.1565 - accuracy: 0.47 - 1s 46ms/step - loss: 1.1504 - accuracy: 0.4736 - val_loss: 1.1542 - val_accuracy: 0.5119\n",
      "Epoch 32/1000\n",
      "26/26 [==============================] - ETA: 0s - loss: 1.0662 - accuracy: 0.53 - ETA: 0s - loss: 1.1814 - accuracy: 0.48 - ETA: 0s - loss: 1.1450 - accuracy: 0.48 - ETA: 0s - loss: 1.1318 - accuracy: 0.48 - 1s 42ms/step - loss: 1.1469 - accuracy: 0.4712 - val_loss: 1.1531 - val_accuracy: 0.5179\n",
      "Epoch 33/1000\n",
      "26/26 [==============================] - ETA: 0s - loss: 1.1357 - accuracy: 0.46 - ETA: 0s - loss: 1.1690 - accuracy: 0.45 - ETA: 0s - loss: 1.1329 - accuracy: 0.46 - ETA: 0s - loss: 1.1136 - accuracy: 0.48 - ETA: 0s - loss: 1.1381 - accuracy: 0.47 - 1s 53ms/step - loss: 1.1381 - accuracy: 0.4772 - val_loss: 1.1456 - val_accuracy: 0.5060\n",
      "Epoch 34/1000\n",
      "26/26 [==============================] - ETA: 0s - loss: 1.0869 - accuracy: 0.59 - ETA: 0s - loss: 1.1583 - accuracy: 0.45 - ETA: 0s - loss: 1.1213 - accuracy: 0.47 - ETA: 0s - loss: 1.1194 - accuracy: 0.49 - 1s 38ms/step - loss: 1.1217 - accuracy: 0.4892 - val_loss: 1.1355 - val_accuracy: 0.5238\n",
      "Epoch 35/1000\n",
      "26/26 [==============================] - ETA: 0s - loss: 1.1207 - accuracy: 0.53 - ETA: 0s - loss: 1.1692 - accuracy: 0.44 - ETA: 0s - loss: 1.1444 - accuracy: 0.46 - ETA: 0s - loss: 1.1241 - accuracy: 0.47 - 1s 46ms/step - loss: 1.1220 - accuracy: 0.4784 - val_loss: 1.1301 - val_accuracy: 0.5179\n",
      "Epoch 36/1000\n",
      "26/26 [==============================] - ETA: 0s - loss: 1.0735 - accuracy: 0.56 - ETA: 0s - loss: 1.1921 - accuracy: 0.45 - ETA: 0s - loss: 1.1458 - accuracy: 0.47 - ETA: 0s - loss: 1.1246 - accuracy: 0.48 - 1s 35ms/step - loss: 1.1236 - accuracy: 0.4736 - val_loss: 1.1184 - val_accuracy: 0.5298\n",
      "Epoch 37/1000\n",
      "26/26 [==============================] - ETA: 0s - loss: 1.1021 - accuracy: 0.46 - ETA: 0s - loss: 1.1134 - accuracy: 0.49 - ETA: 0s - loss: 1.1187 - accuracy: 0.49 - ETA: 0s - loss: 1.0932 - accuracy: 0.50 - 1s 39ms/step - loss: 1.1021 - accuracy: 0.4988 - val_loss: 1.1113 - val_accuracy: 0.5298\n",
      "Epoch 38/1000\n",
      "26/26 [==============================] - ETA: 0s - loss: 0.9906 - accuracy: 0.59 - ETA: 0s - loss: 1.1094 - accuracy: 0.51 - ETA: 0s - loss: 1.0983 - accuracy: 0.50 - ETA: 0s - loss: 1.0843 - accuracy: 0.51 - ETA: 0s - loss: 1.0915 - accuracy: 0.51 - 1s 39ms/step - loss: 1.0915 - accuracy: 0.5156 - val_loss: 1.1175 - val_accuracy: 0.5179\n",
      "Epoch 39/1000\n",
      "26/26 [==============================] - ETA: 0s - loss: 1.1466 - accuracy: 0.50 - ETA: 0s - loss: 1.1641 - accuracy: 0.53 - ETA: 0s - loss: 1.0850 - accuracy: 0.52 - ETA: 0s - loss: 1.0754 - accuracy: 0.52 - ETA: 0s - loss: 1.0770 - accuracy: 0.52 - 1s 49ms/step - loss: 1.0770 - accuracy: 0.5204 - val_loss: 1.1158 - val_accuracy: 0.5357\n",
      "Epoch 40/1000\n",
      "26/26 [==============================] - ETA: 0s - loss: 1.0526 - accuracy: 0.46 - ETA: 0s - loss: 1.0792 - accuracy: 0.49 - ETA: 0s - loss: 1.0622 - accuracy: 0.49 - ETA: 0s - loss: 1.0831 - accuracy: 0.49 - 1s 48ms/step - loss: 1.0900 - accuracy: 0.4988 - val_loss: 1.1035 - val_accuracy: 0.5417\n",
      "Epoch 41/1000\n",
      "26/26 [==============================] - ETA: 0s - loss: 1.0914 - accuracy: 0.43 - ETA: 0s - loss: 1.1602 - accuracy: 0.43 - ETA: 0s - loss: 1.1219 - accuracy: 0.46 - ETA: 0s - loss: 1.1087 - accuracy: 0.47 - ETA: 0s - loss: 1.1026 - accuracy: 0.48 - 1s 53ms/step - loss: 1.1026 - accuracy: 0.4868 - val_loss: 1.1011 - val_accuracy: 0.5536\n",
      "Epoch 42/1000\n",
      "26/26 [==============================] - ETA: 0s - loss: 0.9579 - accuracy: 0.56 - ETA: 0s - loss: 1.1426 - accuracy: 0.43 - ETA: 0s - loss: 1.1022 - accuracy: 0.48 - ETA: 0s - loss: 1.0989 - accuracy: 0.48 - ETA: 0s - loss: 1.1061 - accuracy: 0.48 - 1s 31ms/step - loss: 1.1061 - accuracy: 0.4832 - val_loss: 1.0982 - val_accuracy: 0.5595\n",
      "Epoch 43/1000\n",
      "26/26 [==============================] - ETA: 0s - loss: 1.0042 - accuracy: 0.59 - ETA: 0s - loss: 1.1061 - accuracy: 0.50 - ETA: 0s - loss: 1.0761 - accuracy: 0.48 - ETA: 0s - loss: 1.0670 - accuracy: 0.51 - ETA: 0s - loss: 1.0577 - accuracy: 0.50 - 1s 35ms/step - loss: 1.0577 - accuracy: 0.5084 - val_loss: 1.1032 - val_accuracy: 0.5179\n",
      "Epoch 44/1000\n",
      "26/26 [==============================] - ETA: 0s - loss: 0.8851 - accuracy: 0.62 - ETA: 0s - loss: 1.0473 - accuracy: 0.51 - ETA: 0s - loss: 1.0305 - accuracy: 0.53 - ETA: 0s - loss: 1.0482 - accuracy: 0.52 - 1s 37ms/step - loss: 1.0525 - accuracy: 0.5325 - val_loss: 1.1385 - val_accuracy: 0.5060\n",
      "Epoch 45/1000\n",
      "26/26 [==============================] - ETA: 0s - loss: 1.0505 - accuracy: 0.56 - ETA: 0s - loss: 1.1311 - accuracy: 0.48 - ETA: 0s - loss: 1.0740 - accuracy: 0.52 - ETA: 0s - loss: 1.0730 - accuracy: 0.52 - ETA: 0s - loss: 1.0648 - accuracy: 0.53 - 1s 55ms/step - loss: 1.0648 - accuracy: 0.5300 - val_loss: 1.1239 - val_accuracy: 0.5000\n",
      "Epoch 46/1000\n",
      "26/26 [==============================] - ETA: 0s - loss: 1.0726 - accuracy: 0.46 - ETA: 0s - loss: 1.1303 - accuracy: 0.49 - ETA: 0s - loss: 1.0755 - accuracy: 0.50 - ETA: 0s - loss: 1.0743 - accuracy: 0.50 - 1s 38ms/step - loss: 1.0700 - accuracy: 0.5000 - val_loss: 1.0976 - val_accuracy: 0.5060\n",
      "Epoch 47/1000\n",
      "26/26 [==============================] - ETA: 0s - loss: 0.9328 - accuracy: 0.50 - ETA: 0s - loss: 1.1305 - accuracy: 0.50 - ETA: 0s - loss: 1.0897 - accuracy: 0.50 - ETA: 0s - loss: 1.0701 - accuracy: 0.52 - 1s 35ms/step - loss: 1.0620 - accuracy: 0.5240 - val_loss: 1.0972 - val_accuracy: 0.5238\n",
      "Epoch 48/1000\n",
      "26/26 [==============================] - ETA: 0s - loss: 1.0308 - accuracy: 0.56 - ETA: 0s - loss: 1.1027 - accuracy: 0.50 - ETA: 0s - loss: 1.1075 - accuracy: 0.52 - ETA: 0s - loss: 1.0754 - accuracy: 0.51 - ETA: 0s - loss: 1.0670 - accuracy: 0.53 - 1s 31ms/step - loss: 1.0580 - accuracy: 0.5397 - val_loss: 1.0896 - val_accuracy: 0.5536\n",
      "Epoch 49/1000\n",
      "26/26 [==============================] - ETA: 0s - loss: 1.0615 - accuracy: 0.53 - ETA: 0s - loss: 1.0716 - accuracy: 0.50 - ETA: 0s - loss: 1.0687 - accuracy: 0.50 - ETA: 0s - loss: 1.0595 - accuracy: 0.52 - 1s 37ms/step - loss: 1.0520 - accuracy: 0.5349 - val_loss: 1.0810 - val_accuracy: 0.5595\n"
     ]
    },
    {
     "name": "stdout",
     "output_type": "stream",
     "text": [
      "Epoch 50/1000\n",
      "26/26 [==============================] - ETA: 0s - loss: 0.9930 - accuracy: 0.46 - ETA: 0s - loss: 1.0804 - accuracy: 0.50 - ETA: 0s - loss: 1.0543 - accuracy: 0.51 - ETA: 0s - loss: 1.0409 - accuracy: 0.53 - ETA: 0s - loss: 1.0236 - accuracy: 0.53 - 1s 38ms/step - loss: 1.0236 - accuracy: 0.5397 - val_loss: 1.0868 - val_accuracy: 0.5417\n",
      "Epoch 51/1000\n",
      "26/26 [==============================] - ETA: 0s - loss: 1.0199 - accuracy: 0.53 - ETA: 0s - loss: 1.0775 - accuracy: 0.53 - ETA: 0s - loss: 1.0778 - accuracy: 0.51 - ETA: 0s - loss: 1.0510 - accuracy: 0.52 - 1s 47ms/step - loss: 1.0467 - accuracy: 0.5276 - val_loss: 1.0816 - val_accuracy: 0.5476\n",
      "Epoch 52/1000\n",
      "26/26 [==============================] - ETA: 0s - loss: 0.8767 - accuracy: 0.59 - ETA: 0s - loss: 1.0693 - accuracy: 0.53 - ETA: 0s - loss: 1.0379 - accuracy: 0.52 - ETA: 0s - loss: 1.0324 - accuracy: 0.52 - 1s 38ms/step - loss: 1.0402 - accuracy: 0.5325 - val_loss: 1.0809 - val_accuracy: 0.5536\n",
      "Epoch 53/1000\n",
      "26/26 [==============================] - ETA: 0s - loss: 1.0227 - accuracy: 0.53 - ETA: 0s - loss: 1.0900 - accuracy: 0.50 - ETA: 0s - loss: 1.0494 - accuracy: 0.50 - ETA: 0s - loss: 1.0337 - accuracy: 0.50 - ETA: 0s - loss: 1.0253 - accuracy: 0.51 - 1s 30ms/step - loss: 1.0253 - accuracy: 0.5132 - val_loss: 1.0800 - val_accuracy: 0.5476\n",
      "Epoch 54/1000\n",
      "26/26 [==============================] - ETA: 0s - loss: 1.1388 - accuracy: 0.62 - ETA: 0s - loss: 1.0869 - accuracy: 0.50 - ETA: 0s - loss: 1.0505 - accuracy: 0.51 - ETA: 0s - loss: 1.0352 - accuracy: 0.52 - 1s 32ms/step - loss: 1.0269 - accuracy: 0.5288 - val_loss: 1.0849 - val_accuracy: 0.5357\n",
      "Epoch 55/1000\n",
      "26/26 [==============================] - ETA: 0s - loss: 0.9144 - accuracy: 0.56 - ETA: 0s - loss: 1.0742 - accuracy: 0.52 - ETA: 0s - loss: 1.0222 - accuracy: 0.52 - ETA: 0s - loss: 1.0227 - accuracy: 0.54 - ETA: 0s - loss: 1.0050 - accuracy: 0.55 - 1s 37ms/step - loss: 1.0050 - accuracy: 0.5553 - val_loss: 1.0776 - val_accuracy: 0.5417\n",
      "Epoch 56/1000\n",
      "26/26 [==============================] - ETA: 0s - loss: 0.9463 - accuracy: 0.53 - ETA: 0s - loss: 1.1168 - accuracy: 0.50 - ETA: 0s - loss: 1.0679 - accuracy: 0.52 - ETA: 0s - loss: 1.0353 - accuracy: 0.53 - ETA: 0s - loss: 1.0130 - accuracy: 0.55 - 1s 39ms/step - loss: 1.0130 - accuracy: 0.5541 - val_loss: 1.0720 - val_accuracy: 0.5595\n",
      "Epoch 57/1000\n",
      "26/26 [==============================] - ETA: 0s - loss: 0.9829 - accuracy: 0.50 - ETA: 0s - loss: 1.0459 - accuracy: 0.49 - ETA: 0s - loss: 1.0060 - accuracy: 0.54 - ETA: 0s - loss: 1.0202 - accuracy: 0.54 - 1s 46ms/step - loss: 1.0285 - accuracy: 0.5312 - val_loss: 1.0755 - val_accuracy: 0.5298\n",
      "Epoch 58/1000\n",
      "26/26 [==============================] - ETA: 0s - loss: 0.9074 - accuracy: 0.53 - ETA: 0s - loss: 1.0864 - accuracy: 0.52 - ETA: 0s - loss: 1.0232 - accuracy: 0.54 - ETA: 0s - loss: 1.0157 - accuracy: 0.56 - 1s 35ms/step - loss: 1.0277 - accuracy: 0.5553 - val_loss: 1.0810 - val_accuracy: 0.5357\n",
      "Epoch 59/1000\n",
      "26/26 [==============================] - ETA: 0s - loss: 0.9806 - accuracy: 0.71 - ETA: 0s - loss: 1.1108 - accuracy: 0.52 - ETA: 0s - loss: 1.0484 - accuracy: 0.53 - ETA: 0s - loss: 1.0251 - accuracy: 0.56 - 1s 37ms/step - loss: 1.0156 - accuracy: 0.5637 - val_loss: 1.0853 - val_accuracy: 0.5357\n",
      "Epoch 60/1000\n",
      "26/26 [==============================] - ETA: 0s - loss: 1.0899 - accuracy: 0.43 - ETA: 0s - loss: 1.0926 - accuracy: 0.54 - ETA: 0s - loss: 1.0318 - accuracy: 0.55 - ETA: 0s - loss: 1.0166 - accuracy: 0.56 - ETA: 0s - loss: 1.0113 - accuracy: 0.56 - 1s 35ms/step - loss: 1.0113 - accuracy: 0.5613 - val_loss: 1.0839 - val_accuracy: 0.5357\n",
      "Epoch 61/1000\n",
      "26/26 [==============================] - ETA: 0s - loss: 1.0288 - accuracy: 0.53 - ETA: 0s - loss: 1.0900 - accuracy: 0.58 - ETA: 0s - loss: 1.0497 - accuracy: 0.55 - ETA: 0s - loss: 1.0232 - accuracy: 0.55 - ETA: 0s - loss: 1.0013 - accuracy: 0.55 - 1s 41ms/step - loss: 1.0013 - accuracy: 0.5589 - val_loss: 1.0883 - val_accuracy: 0.5476\n",
      "Epoch 62/1000\n",
      "26/26 [==============================] - ETA: 0s - loss: 0.9659 - accuracy: 0.65 - ETA: 0s - loss: 1.0421 - accuracy: 0.56 - ETA: 0s - loss: 1.0016 - accuracy: 0.58 - ETA: 0s - loss: 1.0047 - accuracy: 0.56 - 1s 37ms/step - loss: 1.0064 - accuracy: 0.5721 - val_loss: 1.0894 - val_accuracy: 0.5357\n",
      "Epoch 63/1000\n",
      "26/26 [==============================] - ETA: 0s - loss: 0.9254 - accuracy: 0.75 - ETA: 0s - loss: 1.0400 - accuracy: 0.57 - ETA: 0s - loss: 1.0452 - accuracy: 0.55 - ETA: 0s - loss: 1.0226 - accuracy: 0.55 - 1s 49ms/step - loss: 1.0242 - accuracy: 0.5553 - val_loss: 1.0887 - val_accuracy: 0.5417\n",
      "Epoch 64/1000\n",
      "26/26 [==============================] - ETA: 0s - loss: 0.9205 - accuracy: 0.65 - ETA: 0s - loss: 1.0066 - accuracy: 0.51 - ETA: 0s - loss: 0.9886 - accuracy: 0.53 - ETA: 0s - loss: 0.9736 - accuracy: 0.55 - 1s 33ms/step - loss: 0.9803 - accuracy: 0.5481 - val_loss: 1.0994 - val_accuracy: 0.5238\n",
      "Epoch 65/1000\n",
      "26/26 [==============================] - ETA: 0s - loss: 0.9252 - accuracy: 0.62 - ETA: 0s - loss: 0.9695 - accuracy: 0.57 - ETA: 0s - loss: 0.9618 - accuracy: 0.56 - ETA: 0s - loss: 0.9772 - accuracy: 0.55 - 1s 36ms/step - loss: 0.9674 - accuracy: 0.5613 - val_loss: 1.0908 - val_accuracy: 0.5595\n",
      "Epoch 66/1000\n",
      "26/26 [==============================] - ETA: 0s - loss: 1.1294 - accuracy: 0.56 - ETA: 0s - loss: 1.0593 - accuracy: 0.54 - ETA: 0s - loss: 1.0200 - accuracy: 0.55 - ETA: 0s - loss: 0.9853 - accuracy: 0.56 - ETA: 0s - loss: 0.9858 - accuracy: 0.56 - 1s 44ms/step - loss: 0.9790 - accuracy: 0.5685 - val_loss: 1.0849 - val_accuracy: 0.5536\n"
     ]
    },
    {
     "data": {
      "text/html": [
       "<span style=\"color:#4527A0\"><h1 style=\"font-size:18px\">Trial complete</h1></span>"
      ],
      "text/plain": [
       "<IPython.core.display.HTML object>"
      ]
     },
     "metadata": {},
     "output_type": "display_data"
    },
    {
     "data": {
      "text/html": [
       "<span style=\"color:#4527A0\"><h1 style=\"font-size:18px\">Trial summary</h1></span>"
      ],
      "text/plain": [
       "<IPython.core.display.HTML object>"
      ]
     },
     "metadata": {},
     "output_type": "display_data"
    },
    {
     "data": {
      "text/html": [
       "<span style=\"color:cyan\"> |-Trial ID: 7f633632886e0e15de5cb106cd8bcad5</span>"
      ],
      "text/plain": [
       "<IPython.core.display.HTML object>"
      ]
     },
     "metadata": {},
     "output_type": "display_data"
    },
    {
     "data": {
      "text/html": [
       "<span style=\"color:cyan\"> |-Score: 0.5595238208770752</span>"
      ],
      "text/plain": [
       "<IPython.core.display.HTML object>"
      ]
     },
     "metadata": {},
     "output_type": "display_data"
    },
    {
     "data": {
      "text/html": [
       "<span style=\"color:cyan\"> |-Best step: 41</span>"
      ],
      "text/plain": [
       "<IPython.core.display.HTML object>"
      ]
     },
     "metadata": {},
     "output_type": "display_data"
    },
    {
     "data": {
      "text/html": [
       "<span style=\"color:#7E57C2\"><h2 style=\"font-size:16px\">Hyperparameters:</h2></span>"
      ],
      "text/plain": [
       "<IPython.core.display.HTML object>"
      ]
     },
     "metadata": {},
     "output_type": "display_data"
    },
    {
     "data": {
      "text/html": [
       "<span style=\"color:cyan\"> |-classification_head_1/dropout: 0.25</span>"
      ],
      "text/plain": [
       "<IPython.core.display.HTML object>"
      ]
     },
     "metadata": {},
     "output_type": "display_data"
    },
    {
     "data": {
      "text/html": [
       "<span style=\"color:blue\"> |-learning_rate: 0.001</span>"
      ],
      "text/plain": [
       "<IPython.core.display.HTML object>"
      ]
     },
     "metadata": {},
     "output_type": "display_data"
    },
    {
     "data": {
      "text/html": [
       "<span style=\"color:cyan\"> |-optimizer: adam</span>"
      ],
      "text/plain": [
       "<IPython.core.display.HTML object>"
      ]
     },
     "metadata": {},
     "output_type": "display_data"
    },
    {
     "data": {
      "text/html": [
       "<span style=\"color:blue\"> |-structured_data_block_1/dense_block_1/dropout: 0.5</span>"
      ],
      "text/plain": [
       "<IPython.core.display.HTML object>"
      ]
     },
     "metadata": {},
     "output_type": "display_data"
    },
    {
     "data": {
      "text/html": [
       "<span style=\"color:cyan\"> |-structured_data_block_1/dense_block_1/num_layers: 3</span>"
      ],
      "text/plain": [
       "<IPython.core.display.HTML object>"
      ]
     },
     "metadata": {},
     "output_type": "display_data"
    },
    {
     "data": {
      "text/html": [
       "<span style=\"color:blue\"> |-structured_data_block_1/dense_block_1/units_0: 32</span>"
      ],
      "text/plain": [
       "<IPython.core.display.HTML object>"
      ]
     },
     "metadata": {},
     "output_type": "display_data"
    },
    {
     "data": {
      "text/html": [
       "<span style=\"color:cyan\"> |-structured_data_block_1/dense_block_1/units_1: 64</span>"
      ],
      "text/plain": [
       "<IPython.core.display.HTML object>"
      ]
     },
     "metadata": {},
     "output_type": "display_data"
    },
    {
     "data": {
      "text/html": [
       "<span style=\"color:blue\"> |-structured_data_block_1/dense_block_1/units_2: 32</span>"
      ],
      "text/plain": [
       "<IPython.core.display.HTML object>"
      ]
     },
     "metadata": {},
     "output_type": "display_data"
    },
    {
     "data": {
      "text/html": [
       "<span style=\"color:cyan\"> |-structured_data_block_1/dense_block_1/use_batchnorm: True</span>"
      ],
      "text/plain": [
       "<IPython.core.display.HTML object>"
      ]
     },
     "metadata": {},
     "output_type": "display_data"
    },
    {
     "data": {
      "text/html": [
       "<span style=\"color:#4527A0\"><h1 style=\"font-size:18px\">Starting new trial</h1></span>"
      ],
      "text/plain": [
       "<IPython.core.display.HTML object>"
      ]
     },
     "metadata": {},
     "output_type": "display_data"
    },
    {
     "name": "stdout",
     "output_type": "stream",
     "text": [
      "Epoch 1/1000\n",
      "26/26 [==============================] - ETA: 0s - loss: 1.9141 - accuracy: 0.31 - ETA: 0s - loss: 1.6981 - accuracy: 0.29 - ETA: 0s - loss: 1.6880 - accuracy: 0.33 - ETA: 0s - loss: 1.7012 - accuracy: 0.34 - ETA: 0s - loss: 1.6322 - accuracy: 0.34 - ETA: 0s - loss: 1.6015 - accuracy: 0.35 - 6s 214ms/step - loss: 1.6015 - accuracy: 0.3570 - val_loss: 2.0465 - val_accuracy: 0.3452\n",
      "Epoch 2/1000\n",
      "26/26 [==============================] - ETA: 0s - loss: 0.9146 - accuracy: 0.62 - ETA: 0s - loss: 1.3161 - accuracy: 0.48 - ETA: 0s - loss: 1.2116 - accuracy: 0.50 - ETA: 0s - loss: 1.2333 - accuracy: 0.50 - ETA: 0s - loss: 1.2231 - accuracy: 0.50 - ETA: 0s - loss: 1.2122 - accuracy: 0.50 - 1s 51ms/step - loss: 1.2122 - accuracy: 0.5036 - val_loss: 1.4542 - val_accuracy: 0.3810\n",
      "Epoch 3/1000\n",
      "26/26 [==============================] - ETA: 0s - loss: 0.8975 - accuracy: 0.65 - ETA: 0s - loss: 1.3277 - accuracy: 0.47 - ETA: 0s - loss: 1.2150 - accuracy: 0.50 - ETA: 0s - loss: 1.1614 - accuracy: 0.52 - ETA: 0s - loss: 1.1914 - accuracy: 0.51 - ETA: 0s - loss: 1.1960 - accuracy: 0.51 - 1s 50ms/step - loss: 1.1797 - accuracy: 0.5228 - val_loss: 1.2066 - val_accuracy: 0.4405\n",
      "Epoch 4/1000\n",
      "26/26 [==============================] - ETA: 0s - loss: 1.1889 - accuracy: 0.59 - ETA: 0s - loss: 1.1051 - accuracy: 0.57 - ETA: 0s - loss: 0.9824 - accuracy: 0.60 - ETA: 0s - loss: 0.9819 - accuracy: 0.61 - ETA: 0s - loss: 0.9855 - accuracy: 0.61 - ETA: 0s - loss: 0.9631 - accuracy: 0.61 - 1s 44ms/step - loss: 0.9631 - accuracy: 0.6190 - val_loss: 1.1803 - val_accuracy: 0.4405\n",
      "Epoch 5/1000\n",
      "26/26 [==============================] - ETA: 0s - loss: 0.7904 - accuracy: 0.65 - ETA: 0s - loss: 0.9575 - accuracy: 0.61 - ETA: 0s - loss: 0.9075 - accuracy: 0.64 - ETA: 0s - loss: 0.8995 - accuracy: 0.63 - ETA: 0s - loss: 0.9245 - accuracy: 0.62 - ETA: 0s - loss: 0.9434 - accuracy: 0.62 - 1s 57ms/step - loss: 0.9434 - accuracy: 0.6286 - val_loss: 1.1208 - val_accuracy: 0.5060\n",
      "Epoch 6/1000\n",
      "26/26 [==============================] - ETA: 0s - loss: 0.9324 - accuracy: 0.75 - ETA: 0s - loss: 0.9788 - accuracy: 0.65 - ETA: 0s - loss: 0.8962 - accuracy: 0.68 - ETA: 0s - loss: 0.9049 - accuracy: 0.66 - ETA: 0s - loss: 0.9354 - accuracy: 0.65 - ETA: 0s - loss: 0.9304 - accuracy: 0.65 - 1s 54ms/step - loss: 0.9304 - accuracy: 0.6526 - val_loss: 1.1330 - val_accuracy: 0.5238\n",
      "Epoch 7/1000\n",
      "26/26 [==============================] - ETA: 0s - loss: 0.7727 - accuracy: 0.68 - ETA: 0s - loss: 0.8992 - accuracy: 0.66 - ETA: 0s - loss: 0.8068 - accuracy: 0.69 - ETA: 0s - loss: 0.8220 - accuracy: 0.68 - ETA: 0s - loss: 0.8571 - accuracy: 0.67 - ETA: 0s - loss: 0.8677 - accuracy: 0.66 - 1s 48ms/step - loss: 0.8584 - accuracy: 0.6611 - val_loss: 1.1001 - val_accuracy: 0.5298\n",
      "Epoch 8/1000\n",
      "26/26 [==============================] - ETA: 0s - loss: 0.6357 - accuracy: 0.71 - ETA: 0s - loss: 0.8470 - accuracy: 0.63 - ETA: 0s - loss: 0.7795 - accuracy: 0.67 - ETA: 0s - loss: 0.7771 - accuracy: 0.67 - ETA: 0s - loss: 0.8089 - accuracy: 0.66 - ETA: 0s - loss: 0.7860 - accuracy: 0.68 - 1s 50ms/step - loss: 0.7860 - accuracy: 0.6827 - val_loss: 1.1045 - val_accuracy: 0.5417\n",
      "Epoch 9/1000\n",
      "26/26 [==============================] - ETA: 0s - loss: 0.6959 - accuracy: 0.71 - ETA: 0s - loss: 0.8691 - accuracy: 0.67 - ETA: 0s - loss: 0.8115 - accuracy: 0.69 - ETA: 0s - loss: 0.7831 - accuracy: 0.69 - ETA: 0s - loss: 0.7723 - accuracy: 0.69 - ETA: 0s - loss: 0.7653 - accuracy: 0.69 - 1s 38ms/step - loss: 0.7653 - accuracy: 0.6983 - val_loss: 1.0904 - val_accuracy: 0.5595\n",
      "Epoch 10/1000\n",
      "26/26 [==============================] - ETA: 0s - loss: 0.6391 - accuracy: 0.68 - ETA: 0s - loss: 0.7918 - accuracy: 0.66 - ETA: 0s - loss: 0.7543 - accuracy: 0.68 - ETA: 0s - loss: 0.7404 - accuracy: 0.69 - ETA: 0s - loss: 0.7270 - accuracy: 0.70 - ETA: 0s - loss: 0.7058 - accuracy: 0.70 - 1s 55ms/step - loss: 0.7058 - accuracy: 0.7055 - val_loss: 1.0912 - val_accuracy: 0.5536\n",
      "Epoch 11/1000\n",
      "26/26 [==============================] - ETA: 0s - loss: 0.7667 - accuracy: 0.62 - ETA: 0s - loss: 0.8597 - accuracy: 0.67 - ETA: 0s - loss: 0.7325 - accuracy: 0.71 - ETA: 0s - loss: 0.6923 - accuracy: 0.72 - ETA: 0s - loss: 0.6853 - accuracy: 0.72 - ETA: 0s - loss: 0.6658 - accuracy: 0.72 - 1s 46ms/step - loss: 0.6658 - accuracy: 0.7296 - val_loss: 1.1003 - val_accuracy: 0.5595\n",
      "Epoch 12/1000\n",
      "26/26 [==============================] - ETA: 0s - loss: 0.6660 - accuracy: 0.65 - ETA: 0s - loss: 0.7582 - accuracy: 0.69 - ETA: 0s - loss: 0.7092 - accuracy: 0.73 - ETA: 0s - loss: 0.6975 - accuracy: 0.73 - ETA: 0s - loss: 0.6948 - accuracy: 0.73 - ETA: 0s - loss: 0.6642 - accuracy: 0.75 - 1s 50ms/step - loss: 0.6642 - accuracy: 0.7500 - val_loss: 1.1208 - val_accuracy: 0.5357\n",
      "Epoch 13/1000\n",
      "26/26 [==============================] - ETA: 0s - loss: 0.5558 - accuracy: 0.75 - ETA: 0s - loss: 0.7389 - accuracy: 0.73 - ETA: 0s - loss: 0.6515 - accuracy: 0.75 - ETA: 0s - loss: 0.6592 - accuracy: 0.75 - ETA: 0s - loss: 0.6710 - accuracy: 0.74 - ETA: 0s - loss: 0.6632 - accuracy: 0.74 - 1s 41ms/step - loss: 0.6632 - accuracy: 0.7428 - val_loss: 1.1225 - val_accuracy: 0.5536\n",
      "Epoch 14/1000\n",
      "26/26 [==============================] - ETA: 0s - loss: 0.6173 - accuracy: 0.75 - ETA: 0s - loss: 0.7122 - accuracy: 0.73 - ETA: 0s - loss: 0.6582 - accuracy: 0.74 - ETA: 0s - loss: 0.6496 - accuracy: 0.75 - ETA: 0s - loss: 0.6436 - accuracy: 0.75 - ETA: 0s - loss: 0.6320 - accuracy: 0.76 - 1s 44ms/step - loss: 0.6320 - accuracy: 0.7656 - val_loss: 1.1078 - val_accuracy: 0.5595\n",
      "Epoch 15/1000\n",
      "26/26 [==============================] - ETA: 0s - loss: 0.5865 - accuracy: 0.75 - ETA: 0s - loss: 0.8042 - accuracy: 0.68 - ETA: 0s - loss: 0.7010 - accuracy: 0.72 - ETA: 0s - loss: 0.6609 - accuracy: 0.74 - ETA: 0s - loss: 0.6590 - accuracy: 0.74 - ETA: 0s - loss: 0.6398 - accuracy: 0.75 - 1s 41ms/step - loss: 0.6398 - accuracy: 0.7584 - val_loss: 1.1600 - val_accuracy: 0.5655\n",
      "Epoch 16/1000\n",
      "26/26 [==============================] - ETA: 0s - loss: 0.7670 - accuracy: 0.59 - ETA: 0s - loss: 0.7919 - accuracy: 0.69 - ETA: 0s - loss: 0.6735 - accuracy: 0.76 - ETA: 0s - loss: 0.6214 - accuracy: 0.77 - ETA: 0s - loss: 0.6296 - accuracy: 0.76 - ETA: 0s - loss: 0.6142 - accuracy: 0.77 - 1s 54ms/step - loss: 0.6215 - accuracy: 0.7704 - val_loss: 1.1609 - val_accuracy: 0.5714\n",
      "Epoch 17/1000\n",
      "26/26 [==============================] - ETA: 0s - loss: 0.6836 - accuracy: 0.78 - ETA: 0s - loss: 0.6473 - accuracy: 0.77 - ETA: 0s - loss: 0.5683 - accuracy: 0.80 - ETA: 0s - loss: 0.5515 - accuracy: 0.80 - ETA: 0s - loss: 0.5581 - accuracy: 0.80 - ETA: 0s - loss: 0.5552 - accuracy: 0.79 - 1s 46ms/step - loss: 0.5552 - accuracy: 0.7969 - val_loss: 1.1879 - val_accuracy: 0.5655\n",
      "Epoch 18/1000\n",
      "26/26 [==============================] - ETA: 0s - loss: 0.6160 - accuracy: 0.78 - ETA: 0s - loss: 0.6816 - accuracy: 0.77 - ETA: 0s - loss: 0.5673 - accuracy: 0.79 - ETA: 0s - loss: 0.5783 - accuracy: 0.78 - ETA: 0s - loss: 0.5824 - accuracy: 0.77 - ETA: 0s - loss: 0.5634 - accuracy: 0.78 - 1s 47ms/step - loss: 0.5634 - accuracy: 0.7873 - val_loss: 1.2404 - val_accuracy: 0.5595\n",
      "Epoch 19/1000\n",
      "26/26 [==============================] - ETA: 0s - loss: 0.4258 - accuracy: 0.81 - ETA: 0s - loss: 0.5951 - accuracy: 0.78 - ETA: 0s - loss: 0.5252 - accuracy: 0.79 - ETA: 0s - loss: 0.5066 - accuracy: 0.80 - ETA: 0s - loss: 0.5145 - accuracy: 0.80 - ETA: 0s - loss: 0.5060 - accuracy: 0.81 - 1s 43ms/step - loss: 0.5060 - accuracy: 0.8113 - val_loss: 1.2162 - val_accuracy: 0.5179\n"
     ]
    },
    {
     "data": {
      "text/html": [
       "<span style=\"color:#4527A0\"><h1 style=\"font-size:18px\">Trial complete</h1></span>"
      ],
      "text/plain": [
       "<IPython.core.display.HTML object>"
      ]
     },
     "metadata": {},
     "output_type": "display_data"
    },
    {
     "data": {
      "text/html": [
       "<span style=\"color:#4527A0\"><h1 style=\"font-size:18px\">Trial summary</h1></span>"
      ],
      "text/plain": [
       "<IPython.core.display.HTML object>"
      ]
     },
     "metadata": {},
     "output_type": "display_data"
    },
    {
     "data": {
      "text/html": [
       "<span style=\"color:cyan\"> |-Trial ID: 9607e67c8dcd00ac061fde94f89fb1f2</span>"
      ],
      "text/plain": [
       "<IPython.core.display.HTML object>"
      ]
     },
     "metadata": {},
     "output_type": "display_data"
    },
    {
     "data": {
      "text/html": [
       "<span style=\"color:cyan\"> |-Score: 0.5714285969734192</span>"
      ],
      "text/plain": [
       "<IPython.core.display.HTML object>"
      ]
     },
     "metadata": {},
     "output_type": "display_data"
    },
    {
     "data": {
      "text/html": [
       "<span style=\"color:cyan\"> |-Best step: 15</span>"
      ],
      "text/plain": [
       "<IPython.core.display.HTML object>"
      ]
     },
     "metadata": {},
     "output_type": "display_data"
    },
    {
     "data": {
      "text/html": [
       "<span style=\"color:#7E57C2\"><h2 style=\"font-size:16px\">Hyperparameters:</h2></span>"
      ],
      "text/plain": [
       "<IPython.core.display.HTML object>"
      ]
     },
     "metadata": {},
     "output_type": "display_data"
    },
    {
     "data": {
      "text/html": [
       "<span style=\"color:cyan\"> |-classification_head_1/dropout: 0.5</span>"
      ],
      "text/plain": [
       "<IPython.core.display.HTML object>"
      ]
     },
     "metadata": {},
     "output_type": "display_data"
    },
    {
     "data": {
      "text/html": [
       "<span style=\"color:blue\"> |-learning_rate: 0.001</span>"
      ],
      "text/plain": [
       "<IPython.core.display.HTML object>"
      ]
     },
     "metadata": {},
     "output_type": "display_data"
    },
    {
     "data": {
      "text/html": [
       "<span style=\"color:cyan\"> |-optimizer: adam</span>"
      ],
      "text/plain": [
       "<IPython.core.display.HTML object>"
      ]
     },
     "metadata": {},
     "output_type": "display_data"
    },
    {
     "data": {
      "text/html": [
       "<span style=\"color:blue\"> |-structured_data_block_1/dense_block_1/dropout: 0.25</span>"
      ],
      "text/plain": [
       "<IPython.core.display.HTML object>"
      ]
     },
     "metadata": {},
     "output_type": "display_data"
    },
    {
     "data": {
      "text/html": [
       "<span style=\"color:cyan\"> |-structured_data_block_1/dense_block_1/num_layers: 1</span>"
      ],
      "text/plain": [
       "<IPython.core.display.HTML object>"
      ]
     },
     "metadata": {},
     "output_type": "display_data"
    },
    {
     "data": {
      "text/html": [
       "<span style=\"color:blue\"> |-structured_data_block_1/dense_block_1/units_0: 512</span>"
      ],
      "text/plain": [
       "<IPython.core.display.HTML object>"
      ]
     },
     "metadata": {},
     "output_type": "display_data"
    },
    {
     "data": {
      "text/html": [
       "<span style=\"color:cyan\"> |-structured_data_block_1/dense_block_1/units_1: 1024</span>"
      ],
      "text/plain": [
       "<IPython.core.display.HTML object>"
      ]
     },
     "metadata": {},
     "output_type": "display_data"
    },
    {
     "data": {
      "text/html": [
       "<span style=\"color:blue\"> |-structured_data_block_1/dense_block_1/use_batchnorm: True</span>"
      ],
      "text/plain": [
       "<IPython.core.display.HTML object>"
      ]
     },
     "metadata": {},
     "output_type": "display_data"
    },
    {
     "data": {
      "text/html": [
       "<span style=\"color:#4527A0\"><h1 style=\"font-size:18px\">Starting new trial</h1></span>"
      ],
      "text/plain": [
       "<IPython.core.display.HTML object>"
      ]
     },
     "metadata": {},
     "output_type": "display_data"
    },
    {
     "name": "stdout",
     "output_type": "stream",
     "text": [
      "Epoch 1/1000\n",
      "26/26 [==============================] - ETA: 0s - loss: 1.9039 - accuracy: 0.25 - ETA: 0s - loss: 1.9619 - accuracy: 0.26 - ETA: 0s - loss: 1.9517 - accuracy: 0.27 - ETA: 0s - loss: 1.9028 - accuracy: 0.27 - 5s 209ms/step - loss: 1.8868 - accuracy: 0.2825 - val_loss: 1.6904 - val_accuracy: 0.2440\n",
      "Epoch 2/1000\n",
      "26/26 [==============================] - ETA: 0s - loss: 1.8626 - accuracy: 0.28 - ETA: 0s - loss: 1.8152 - accuracy: 0.26 - ETA: 0s - loss: 1.7459 - accuracy: 0.29 - ETA: 0s - loss: 1.6994 - accuracy: 0.28 - 1s 38ms/step - loss: 1.7136 - accuracy: 0.2812 - val_loss: 1.4901 - val_accuracy: 0.2381\n",
      "Epoch 3/1000\n",
      "26/26 [==============================] - ETA: 0s - loss: 1.4859 - accuracy: 0.34 - ETA: 0s - loss: 1.7181 - accuracy: 0.31 - ETA: 0s - loss: 1.7097 - accuracy: 0.30 - ETA: 0s - loss: 1.6688 - accuracy: 0.32 - 1s 36ms/step - loss: 1.6429 - accuracy: 0.3269 - val_loss: 1.3939 - val_accuracy: 0.3214\n",
      "Epoch 4/1000\n",
      "26/26 [==============================] - ETA: 0s - loss: 1.5517 - accuracy: 0.28 - ETA: 0s - loss: 1.5710 - accuracy: 0.32 - ETA: 0s - loss: 1.5704 - accuracy: 0.33 - ETA: 0s - loss: 1.5876 - accuracy: 0.33 - 1s 42ms/step - loss: 1.5748 - accuracy: 0.3341 - val_loss: 1.3499 - val_accuracy: 0.3690\n",
      "Epoch 5/1000\n",
      "26/26 [==============================] - ETA: 0s - loss: 1.5751 - accuracy: 0.43 - ETA: 0s - loss: 1.5787 - accuracy: 0.34 - ETA: 0s - loss: 1.6111 - accuracy: 0.31 - ETA: 0s - loss: 1.6014 - accuracy: 0.31 - 1s 42ms/step - loss: 1.5661 - accuracy: 0.3221 - val_loss: 1.3202 - val_accuracy: 0.3929\n",
      "Epoch 6/1000\n",
      "26/26 [==============================] - ETA: 0s - loss: 1.2618 - accuracy: 0.43 - ETA: 0s - loss: 1.4707 - accuracy: 0.38 - ETA: 0s - loss: 1.4739 - accuracy: 0.37 - ETA: 0s - loss: 1.4721 - accuracy: 0.37 - 1s 38ms/step - loss: 1.4428 - accuracy: 0.3930 - val_loss: 1.2729 - val_accuracy: 0.4583\n",
      "Epoch 7/1000\n",
      "26/26 [==============================] - ETA: 0s - loss: 1.2497 - accuracy: 0.43 - ETA: 0s - loss: 1.4058 - accuracy: 0.38 - ETA: 0s - loss: 1.4434 - accuracy: 0.39 - ETA: 0s - loss: 1.4611 - accuracy: 0.38 - 1s 42ms/step - loss: 1.4549 - accuracy: 0.3894 - val_loss: 1.2386 - val_accuracy: 0.5179\n",
      "Epoch 8/1000\n",
      "26/26 [==============================] - ETA: 0s - loss: 1.4664 - accuracy: 0.37 - ETA: 0s - loss: 1.4753 - accuracy: 0.39 - ETA: 0s - loss: 1.4065 - accuracy: 0.39 - ETA: 0s - loss: 1.4049 - accuracy: 0.39 - 1s 36ms/step - loss: 1.3746 - accuracy: 0.4038 - val_loss: 1.2266 - val_accuracy: 0.5060\n",
      "Epoch 9/1000\n",
      "26/26 [==============================] - ETA: 0s - loss: 1.1496 - accuracy: 0.34 - ETA: 0s - loss: 1.4489 - accuracy: 0.33 - ETA: 0s - loss: 1.4448 - accuracy: 0.34 - ETA: 0s - loss: 1.4444 - accuracy: 0.35 - 1s 43ms/step - loss: 1.4031 - accuracy: 0.3618 - val_loss: 1.2079 - val_accuracy: 0.5298\n",
      "Epoch 10/1000\n",
      "26/26 [==============================] - ETA: 0s - loss: 1.4157 - accuracy: 0.40 - ETA: 0s - loss: 1.4613 - accuracy: 0.35 - ETA: 0s - loss: 1.3837 - accuracy: 0.40 - ETA: 0s - loss: 1.3792 - accuracy: 0.39 - 1s 55ms/step - loss: 1.3700 - accuracy: 0.3978 - val_loss: 1.2012 - val_accuracy: 0.5536\n",
      "Epoch 11/1000\n",
      "26/26 [==============================] - ETA: 0s - loss: 1.3173 - accuracy: 0.40 - ETA: 0s - loss: 1.4773 - accuracy: 0.34 - ETA: 0s - loss: 1.4238 - accuracy: 0.36 - ETA: 0s - loss: 1.4000 - accuracy: 0.36 - ETA: 0s - loss: 1.4186 - accuracy: 0.36 - 1s 39ms/step - loss: 1.4105 - accuracy: 0.3726 - val_loss: 1.2021 - val_accuracy: 0.5357\n",
      "Epoch 12/1000\n",
      "26/26 [==============================] - ETA: 0s - loss: 1.0993 - accuracy: 0.56 - ETA: 0s - loss: 1.3419 - accuracy: 0.39 - ETA: 0s - loss: 1.3204 - accuracy: 0.41 - ETA: 0s - loss: 1.3237 - accuracy: 0.41 - 1s 55ms/step - loss: 1.3203 - accuracy: 0.4111 - val_loss: 1.1965 - val_accuracy: 0.5119\n",
      "Epoch 13/1000\n",
      "26/26 [==============================] - ETA: 0s - loss: 1.0583 - accuracy: 0.62 - ETA: 0s - loss: 1.4038 - accuracy: 0.46 - ETA: 0s - loss: 1.3419 - accuracy: 0.45 - ETA: 0s - loss: 1.3433 - accuracy: 0.43 - 1s 38ms/step - loss: 1.3350 - accuracy: 0.4315 - val_loss: 1.1875 - val_accuracy: 0.5000\n",
      "Epoch 14/1000\n",
      "26/26 [==============================] - ETA: 0s - loss: 1.1225 - accuracy: 0.46 - ETA: 0s - loss: 1.2404 - accuracy: 0.42 - ETA: 0s - loss: 1.2623 - accuracy: 0.41 - ETA: 0s - loss: 1.2511 - accuracy: 0.42 - ETA: 0s - loss: 1.2576 - accuracy: 0.41 - 1s 40ms/step - loss: 1.2538 - accuracy: 0.4219 - val_loss: 1.1719 - val_accuracy: 0.5476\n",
      "Epoch 15/1000\n",
      "26/26 [==============================] - ETA: 0s - loss: 1.1588 - accuracy: 0.50 - ETA: 0s - loss: 1.3202 - accuracy: 0.40 - ETA: 0s - loss: 1.2809 - accuracy: 0.43 - ETA: 0s - loss: 1.3186 - accuracy: 0.43 - ETA: 0s - loss: 1.2891 - accuracy: 0.43 - 1s 39ms/step - loss: 1.2891 - accuracy: 0.4375 - val_loss: 1.1580 - val_accuracy: 0.5536\n",
      "Epoch 16/1000\n",
      "26/26 [==============================] - ETA: 0s - loss: 1.3313 - accuracy: 0.40 - ETA: 0s - loss: 1.3362 - accuracy: 0.37 - ETA: 0s - loss: 1.2667 - accuracy: 0.42 - ETA: 0s - loss: 1.2366 - accuracy: 0.44 - ETA: 0s - loss: 1.2330 - accuracy: 0.44 - 1s 45ms/step - loss: 1.2312 - accuracy: 0.4483 - val_loss: 1.1940 - val_accuracy: 0.5060\n",
      "Epoch 17/1000\n",
      "26/26 [==============================] - ETA: 0s - loss: 1.1426 - accuracy: 0.50 - ETA: 0s - loss: 1.2897 - accuracy: 0.44 - ETA: 0s - loss: 1.2532 - accuracy: 0.43 - ETA: 0s - loss: 1.2503 - accuracy: 0.44 - 1s 41ms/step - loss: 1.2530 - accuracy: 0.4447 - val_loss: 1.1642 - val_accuracy: 0.5417\n",
      "Epoch 18/1000\n",
      "26/26 [==============================] - ETA: 0s - loss: 1.0488 - accuracy: 0.43 - ETA: 0s - loss: 1.2151 - accuracy: 0.43 - ETA: 0s - loss: 1.2090 - accuracy: 0.43 - ETA: 0s - loss: 1.2375 - accuracy: 0.42 - 1s 33ms/step - loss: 1.2133 - accuracy: 0.4243 - val_loss: 1.1881 - val_accuracy: 0.5476\n",
      "Epoch 19/1000\n",
      "26/26 [==============================] - ETA: 0s - loss: 1.1712 - accuracy: 0.37 - ETA: 0s - loss: 1.2423 - accuracy: 0.42 - ETA: 0s - loss: 1.2079 - accuracy: 0.44 - ETA: 0s - loss: 1.2087 - accuracy: 0.45 - 1s 37ms/step - loss: 1.2159 - accuracy: 0.4435 - val_loss: 1.1905 - val_accuracy: 0.5000\n",
      "Epoch 20/1000\n",
      "26/26 [==============================] - ETA: 0s - loss: 1.1522 - accuracy: 0.50 - ETA: 0s - loss: 1.2110 - accuracy: 0.46 - ETA: 0s - loss: 1.2129 - accuracy: 0.45 - ETA: 0s - loss: 1.2159 - accuracy: 0.44 - 1s 37ms/step - loss: 1.2168 - accuracy: 0.4531 - val_loss: 1.1712 - val_accuracy: 0.5238\n",
      "Epoch 21/1000\n",
      "26/26 [==============================] - ETA: 0s - loss: 1.2387 - accuracy: 0.37 - ETA: 0s - loss: 1.2654 - accuracy: 0.46 - ETA: 0s - loss: 1.2150 - accuracy: 0.44 - ETA: 0s - loss: 1.2206 - accuracy: 0.43 - ETA: 0s - loss: 1.2105 - accuracy: 0.44 - 1s 42ms/step - loss: 1.1997 - accuracy: 0.4459 - val_loss: 1.1760 - val_accuracy: 0.5238\n",
      "Epoch 22/1000\n",
      "26/26 [==============================] - ETA: 0s - loss: 1.1279 - accuracy: 0.37 - ETA: 0s - loss: 1.1635 - accuracy: 0.45 - ETA: 0s - loss: 1.1657 - accuracy: 0.45 - ETA: 0s - loss: 1.1481 - accuracy: 0.47 - 1s 43ms/step - loss: 1.1472 - accuracy: 0.4724 - val_loss: 1.1828 - val_accuracy: 0.5476\n",
      "Epoch 23/1000\n",
      "26/26 [==============================] - ETA: 0s - loss: 1.1562 - accuracy: 0.53 - ETA: 0s - loss: 1.2257 - accuracy: 0.48 - ETA: 0s - loss: 1.1716 - accuracy: 0.46 - ETA: 0s - loss: 1.1629 - accuracy: 0.47 - 1s 34ms/step - loss: 1.1610 - accuracy: 0.4724 - val_loss: 1.1534 - val_accuracy: 0.5476\n",
      "Epoch 24/1000\n",
      "26/26 [==============================] - ETA: 0s - loss: 1.0680 - accuracy: 0.46 - ETA: 0s - loss: 1.1851 - accuracy: 0.44 - ETA: 0s - loss: 1.1425 - accuracy: 0.46 - ETA: 0s - loss: 1.1395 - accuracy: 0.48 - 1s 39ms/step - loss: 1.1315 - accuracy: 0.4796 - val_loss: 1.1660 - val_accuracy: 0.5476\n",
      "Epoch 25/1000\n",
      "26/26 [==============================] - ETA: 0s - loss: 1.0077 - accuracy: 0.40 - ETA: 0s - loss: 1.2185 - accuracy: 0.40 - ETA: 0s - loss: 1.1962 - accuracy: 0.41 - ETA: 0s - loss: 1.1612 - accuracy: 0.44 - 1s 29ms/step - loss: 1.1517 - accuracy: 0.4543 - val_loss: 1.1420 - val_accuracy: 0.5417\n",
      "Epoch 26/1000\n"
     ]
    },
    {
     "name": "stdout",
     "output_type": "stream",
     "text": [
      "26/26 [==============================] - ETA: 0s - loss: 1.1169 - accuracy: 0.50 - ETA: 0s - loss: 1.1647 - accuracy: 0.49 - ETA: 0s - loss: 1.1509 - accuracy: 0.47 - ETA: 0s - loss: 1.1268 - accuracy: 0.50 - 1s 38ms/step - loss: 1.1279 - accuracy: 0.4892 - val_loss: 1.1518 - val_accuracy: 0.5119\n",
      "Epoch 27/1000\n",
      "26/26 [==============================] - ETA: 0s - loss: 1.1598 - accuracy: 0.59 - ETA: 0s - loss: 1.1890 - accuracy: 0.47 - ETA: 0s - loss: 1.2015 - accuracy: 0.46 - ETA: 0s - loss: 1.1657 - accuracy: 0.47 - 1s 37ms/step - loss: 1.1531 - accuracy: 0.4712 - val_loss: 1.1552 - val_accuracy: 0.5536\n",
      "Epoch 28/1000\n",
      "26/26 [==============================] - ETA: 0s - loss: 1.0628 - accuracy: 0.40 - ETA: 0s - loss: 1.1728 - accuracy: 0.44 - ETA: 0s - loss: 1.1353 - accuracy: 0.45 - ETA: 0s - loss: 1.1171 - accuracy: 0.47 - 1s 46ms/step - loss: 1.1088 - accuracy: 0.4784 - val_loss: 1.1635 - val_accuracy: 0.5774\n",
      "Epoch 29/1000\n",
      "26/26 [==============================] - ETA: 0s - loss: 1.0115 - accuracy: 0.53 - ETA: 0s - loss: 1.1134 - accuracy: 0.48 - ETA: 0s - loss: 1.0888 - accuracy: 0.51 - ETA: 0s - loss: 1.0849 - accuracy: 0.52 - 1s 37ms/step - loss: 1.0768 - accuracy: 0.5240 - val_loss: 1.1532 - val_accuracy: 0.5536\n",
      "Epoch 30/1000\n",
      "26/26 [==============================] - ETA: 0s - loss: 1.0522 - accuracy: 0.46 - ETA: 0s - loss: 1.1435 - accuracy: 0.49 - ETA: 0s - loss: 1.1494 - accuracy: 0.47 - ETA: 0s - loss: 1.1261 - accuracy: 0.48 - 1s 41ms/step - loss: 1.1112 - accuracy: 0.4928 - val_loss: 1.1486 - val_accuracy: 0.5536\n",
      "Epoch 31/1000\n",
      "26/26 [==============================] - ETA: 0s - loss: 1.0598 - accuracy: 0.46 - ETA: 0s - loss: 1.1410 - accuracy: 0.51 - ETA: 0s - loss: 1.1048 - accuracy: 0.51 - ETA: 0s - loss: 1.0973 - accuracy: 0.51 - 1s 44ms/step - loss: 1.0943 - accuracy: 0.5192 - val_loss: 1.1493 - val_accuracy: 0.5833\n",
      "Epoch 32/1000\n",
      "26/26 [==============================] - ETA: 0s - loss: 1.1420 - accuracy: 0.46 - ETA: 0s - loss: 1.0976 - accuracy: 0.48 - ETA: 0s - loss: 1.0898 - accuracy: 0.48 - ETA: 0s - loss: 1.0632 - accuracy: 0.50 - 1s 36ms/step - loss: 1.0738 - accuracy: 0.5084 - val_loss: 1.1369 - val_accuracy: 0.6131\n",
      "Epoch 33/1000\n",
      "26/26 [==============================] - ETA: 0s - loss: 1.0547 - accuracy: 0.46 - ETA: 0s - loss: 1.1318 - accuracy: 0.50 - ETA: 0s - loss: 1.1218 - accuracy: 0.47 - ETA: 0s - loss: 1.0943 - accuracy: 0.49 - 1s 39ms/step - loss: 1.0730 - accuracy: 0.5072 - val_loss: 1.1661 - val_accuracy: 0.5536\n",
      "Epoch 34/1000\n",
      "26/26 [==============================] - ETA: 0s - loss: 0.9339 - accuracy: 0.59 - ETA: 0s - loss: 1.1346 - accuracy: 0.50 - ETA: 0s - loss: 1.0864 - accuracy: 0.50 - ETA: 0s - loss: 1.0662 - accuracy: 0.51 - 1s 47ms/step - loss: 1.0525 - accuracy: 0.5204 - val_loss: 1.1271 - val_accuracy: 0.5833\n",
      "Epoch 35/1000\n",
      "26/26 [==============================] - ETA: 0s - loss: 0.9443 - accuracy: 0.56 - ETA: 0s - loss: 1.0657 - accuracy: 0.53 - ETA: 0s - loss: 1.0440 - accuracy: 0.52 - ETA: 0s - loss: 1.0272 - accuracy: 0.53 - 1s 37ms/step - loss: 1.0349 - accuracy: 0.5349 - val_loss: 1.1132 - val_accuracy: 0.6012\n",
      "Epoch 36/1000\n",
      "26/26 [==============================] - ETA: 0s - loss: 1.0814 - accuracy: 0.46 - ETA: 0s - loss: 1.0931 - accuracy: 0.53 - ETA: 0s - loss: 1.0667 - accuracy: 0.53 - ETA: 0s - loss: 1.0445 - accuracy: 0.54 - ETA: 0s - loss: 1.0365 - accuracy: 0.55 - 1s 35ms/step - loss: 1.0365 - accuracy: 0.5565 - val_loss: 1.1216 - val_accuracy: 0.5833\n",
      "Epoch 37/1000\n",
      "26/26 [==============================] - ETA: 0s - loss: 0.9665 - accuracy: 0.59 - ETA: 0s - loss: 1.1664 - accuracy: 0.47 - ETA: 0s - loss: 1.1120 - accuracy: 0.50 - ETA: 0s - loss: 1.0742 - accuracy: 0.51 - 1s 46ms/step - loss: 1.0532 - accuracy: 0.5276 - val_loss: 1.1526 - val_accuracy: 0.6190\n",
      "Epoch 38/1000\n",
      "26/26 [==============================] - ETA: 0s - loss: 0.9504 - accuracy: 0.53 - ETA: 0s - loss: 1.0809 - accuracy: 0.52 - ETA: 0s - loss: 1.0632 - accuracy: 0.50 - ETA: 0s - loss: 1.0513 - accuracy: 0.52 - 1s 49ms/step - loss: 1.0563 - accuracy: 0.5264 - val_loss: 1.1246 - val_accuracy: 0.6012\n",
      "Epoch 39/1000\n",
      "26/26 [==============================] - ETA: 0s - loss: 0.9786 - accuracy: 0.56 - ETA: 0s - loss: 1.0782 - accuracy: 0.51 - ETA: 0s - loss: 1.0534 - accuracy: 0.51 - ETA: 0s - loss: 1.0455 - accuracy: 0.52 - 1s 37ms/step - loss: 1.0392 - accuracy: 0.5385 - val_loss: 1.1465 - val_accuracy: 0.5833\n",
      "Epoch 40/1000\n",
      "26/26 [==============================] - ETA: 0s - loss: 1.1289 - accuracy: 0.50 - ETA: 0s - loss: 1.1252 - accuracy: 0.50 - ETA: 0s - loss: 1.0669 - accuracy: 0.53 - ETA: 0s - loss: 1.0337 - accuracy: 0.54 - 1s 47ms/step - loss: 1.0172 - accuracy: 0.5493 - val_loss: 1.1366 - val_accuracy: 0.5714\n",
      "Epoch 41/1000\n",
      "26/26 [==============================] - ETA: 0s - loss: 1.0514 - accuracy: 0.50 - ETA: 0s - loss: 1.0824 - accuracy: 0.49 - ETA: 0s - loss: 1.0385 - accuracy: 0.53 - ETA: 0s - loss: 1.0218 - accuracy: 0.53 - 1s 33ms/step - loss: 1.0228 - accuracy: 0.5433 - val_loss: 1.1673 - val_accuracy: 0.5595\n",
      "Epoch 42/1000\n",
      "26/26 [==============================] - ETA: 0s - loss: 1.0200 - accuracy: 0.53 - ETA: 0s - loss: 1.0356 - accuracy: 0.52 - ETA: 0s - loss: 1.0347 - accuracy: 0.54 - ETA: 0s - loss: 1.0046 - accuracy: 0.55 - 1s 29ms/step - loss: 1.0021 - accuracy: 0.5541 - val_loss: 1.1229 - val_accuracy: 0.5833\n",
      "Epoch 43/1000\n",
      "26/26 [==============================] - ETA: 0s - loss: 1.1016 - accuracy: 0.59 - ETA: 0s - loss: 1.0810 - accuracy: 0.55 - ETA: 0s - loss: 1.0479 - accuracy: 0.55 - ETA: 0s - loss: 1.0341 - accuracy: 0.56 - 1s 42ms/step - loss: 1.0234 - accuracy: 0.5601 - val_loss: 1.1344 - val_accuracy: 0.5833\n",
      "Epoch 44/1000\n",
      "26/26 [==============================] - ETA: 0s - loss: 1.0857 - accuracy: 0.59 - ETA: 0s - loss: 1.0464 - accuracy: 0.51 - ETA: 0s - loss: 1.0143 - accuracy: 0.51 - ETA: 0s - loss: 1.0184 - accuracy: 0.52 - 1s 38ms/step - loss: 1.0056 - accuracy: 0.5312 - val_loss: 1.1556 - val_accuracy: 0.5714\n",
      "Epoch 45/1000\n",
      "26/26 [==============================] - ETA: 0s - loss: 0.9628 - accuracy: 0.68 - ETA: 0s - loss: 1.0204 - accuracy: 0.54 - ETA: 0s - loss: 0.9961 - accuracy: 0.54 - ETA: 0s - loss: 0.9969 - accuracy: 0.55 - 1s 36ms/step - loss: 0.9988 - accuracy: 0.5565 - val_loss: 1.1270 - val_accuracy: 0.5714\n"
     ]
    },
    {
     "data": {
      "text/html": [
       "<span style=\"color:#4527A0\"><h1 style=\"font-size:18px\">Trial complete</h1></span>"
      ],
      "text/plain": [
       "<IPython.core.display.HTML object>"
      ]
     },
     "metadata": {},
     "output_type": "display_data"
    },
    {
     "data": {
      "text/html": [
       "<span style=\"color:#4527A0\"><h1 style=\"font-size:18px\">Trial summary</h1></span>"
      ],
      "text/plain": [
       "<IPython.core.display.HTML object>"
      ]
     },
     "metadata": {},
     "output_type": "display_data"
    },
    {
     "data": {
      "text/html": [
       "<span style=\"color:cyan\"> |-Trial ID: 59c5ab81d54310e60bb48d7f05cc7594</span>"
      ],
      "text/plain": [
       "<IPython.core.display.HTML object>"
      ]
     },
     "metadata": {},
     "output_type": "display_data"
    },
    {
     "data": {
      "text/html": [
       "<span style=\"color:cyan\"> |-Score: 0.6190476417541504</span>"
      ],
      "text/plain": [
       "<IPython.core.display.HTML object>"
      ]
     },
     "metadata": {},
     "output_type": "display_data"
    },
    {
     "data": {
      "text/html": [
       "<span style=\"color:cyan\"> |-Best step: 36</span>"
      ],
      "text/plain": [
       "<IPython.core.display.HTML object>"
      ]
     },
     "metadata": {},
     "output_type": "display_data"
    },
    {
     "data": {
      "text/html": [
       "<span style=\"color:#7E57C2\"><h2 style=\"font-size:16px\">Hyperparameters:</h2></span>"
      ],
      "text/plain": [
       "<IPython.core.display.HTML object>"
      ]
     },
     "metadata": {},
     "output_type": "display_data"
    },
    {
     "data": {
      "text/html": [
       "<span style=\"color:cyan\"> |-classification_head_1/dropout: 0.25</span>"
      ],
      "text/plain": [
       "<IPython.core.display.HTML object>"
      ]
     },
     "metadata": {},
     "output_type": "display_data"
    },
    {
     "data": {
      "text/html": [
       "<span style=\"color:blue\"> |-learning_rate: 0.001</span>"
      ],
      "text/plain": [
       "<IPython.core.display.HTML object>"
      ]
     },
     "metadata": {},
     "output_type": "display_data"
    },
    {
     "data": {
      "text/html": [
       "<span style=\"color:cyan\"> |-optimizer: adam</span>"
      ],
      "text/plain": [
       "<IPython.core.display.HTML object>"
      ]
     },
     "metadata": {},
     "output_type": "display_data"
    },
    {
     "data": {
      "text/html": [
       "<span style=\"color:blue\"> |-structured_data_block_1/dense_block_1/dropout: 0.5</span>"
      ],
      "text/plain": [
       "<IPython.core.display.HTML object>"
      ]
     },
     "metadata": {},
     "output_type": "display_data"
    },
    {
     "data": {
      "text/html": [
       "<span style=\"color:cyan\"> |-structured_data_block_1/dense_block_1/num_layers: 2</span>"
      ],
      "text/plain": [
       "<IPython.core.display.HTML object>"
      ]
     },
     "metadata": {},
     "output_type": "display_data"
    },
    {
     "data": {
      "text/html": [
       "<span style=\"color:blue\"> |-structured_data_block_1/dense_block_1/units_0: 16</span>"
      ],
      "text/plain": [
       "<IPython.core.display.HTML object>"
      ]
     },
     "metadata": {},
     "output_type": "display_data"
    },
    {
     "data": {
      "text/html": [
       "<span style=\"color:cyan\"> |-structured_data_block_1/dense_block_1/units_1: 64</span>"
      ],
      "text/plain": [
       "<IPython.core.display.HTML object>"
      ]
     },
     "metadata": {},
     "output_type": "display_data"
    },
    {
     "data": {
      "text/html": [
       "<span style=\"color:blue\"> |-structured_data_block_1/dense_block_1/units_2: 1024</span>"
      ],
      "text/plain": [
       "<IPython.core.display.HTML object>"
      ]
     },
     "metadata": {},
     "output_type": "display_data"
    },
    {
     "data": {
      "text/html": [
       "<span style=\"color:cyan\"> |-structured_data_block_1/dense_block_1/use_batchnorm: True</span>"
      ],
      "text/plain": [
       "<IPython.core.display.HTML object>"
      ]
     },
     "metadata": {},
     "output_type": "display_data"
    },
    {
     "data": {
      "text/html": [
       "<span style=\"color:#4527A0\"><h1 style=\"font-size:18px\">Starting new trial</h1></span>"
      ],
      "text/plain": [
       "<IPython.core.display.HTML object>"
      ]
     },
     "metadata": {},
     "output_type": "display_data"
    },
    {
     "name": "stdout",
     "output_type": "stream",
     "text": [
      "Epoch 1/1000\n",
      "26/26 [==============================] - ETA: 0s - loss: 1.3613 - accuracy: 0.31 - ETA: 0s - loss: 1.4951 - accuracy: 0.31 - ETA: 0s - loss: 1.4636 - accuracy: 0.30 - ETA: 0s - loss: 1.4351 - accuracy: 0.34 - ETA: 0s - loss: 1.4318 - accuracy: 0.35 - 6s 215ms/step - loss: 1.4144 - accuracy: 0.3702 - val_loss: 1.6482 - val_accuracy: 0.3274\n",
      "Epoch 2/1000\n",
      "26/26 [==============================] - ETA: 0s - loss: 0.8847 - accuracy: 0.62 - ETA: 0s - loss: 1.1263 - accuracy: 0.54 - ETA: 0s - loss: 1.0966 - accuracy: 0.55 - ETA: 0s - loss: 1.1088 - accuracy: 0.52 - 1s 39ms/step - loss: 1.0932 - accuracy: 0.5361 - val_loss: 1.3391 - val_accuracy: 0.3750\n",
      "Epoch 3/1000\n",
      "26/26 [==============================] - ETA: 0s - loss: 0.8799 - accuracy: 0.56 - ETA: 0s - loss: 1.0568 - accuracy: 0.57 - ETA: 0s - loss: 0.9954 - accuracy: 0.59 - ETA: 0s - loss: 0.9866 - accuracy: 0.59 - ETA: 0s - loss: 0.9828 - accuracy: 0.60 - 1s 36ms/step - loss: 0.9828 - accuracy: 0.6046 - val_loss: 1.2240 - val_accuracy: 0.4405\n",
      "Epoch 4/1000\n",
      "26/26 [==============================] - ETA: 0s - loss: 0.7846 - accuracy: 0.68 - ETA: 0s - loss: 0.9608 - accuracy: 0.66 - ETA: 0s - loss: 0.8741 - accuracy: 0.66 - ETA: 0s - loss: 0.8849 - accuracy: 0.64 - 1s 43ms/step - loss: 0.8826 - accuracy: 0.6502 - val_loss: 1.1403 - val_accuracy: 0.4940\n",
      "Epoch 5/1000\n",
      "26/26 [==============================] - ETA: 0s - loss: 0.7518 - accuracy: 0.71 - ETA: 0s - loss: 0.8649 - accuracy: 0.66 - ETA: 0s - loss: 0.8371 - accuracy: 0.67 - ETA: 0s - loss: 0.8523 - accuracy: 0.66 - 1s 43ms/step - loss: 0.8401 - accuracy: 0.6671 - val_loss: 1.1188 - val_accuracy: 0.4583\n",
      "Epoch 6/1000\n",
      "26/26 [==============================] - ETA: 0s - loss: 0.6598 - accuracy: 0.71 - ETA: 0s - loss: 0.8240 - accuracy: 0.68 - ETA: 0s - loss: 0.7904 - accuracy: 0.68 - ETA: 0s - loss: 0.7965 - accuracy: 0.68 - 1s 39ms/step - loss: 0.7835 - accuracy: 0.6959 - val_loss: 1.0905 - val_accuracy: 0.5119\n",
      "Epoch 7/1000\n",
      "26/26 [==============================] - ETA: 0s - loss: 0.6130 - accuracy: 0.81 - ETA: 0s - loss: 0.7947 - accuracy: 0.70 - ETA: 0s - loss: 0.7357 - accuracy: 0.71 - ETA: 0s - loss: 0.7601 - accuracy: 0.69 - 1s 40ms/step - loss: 0.7483 - accuracy: 0.7043 - val_loss: 1.0827 - val_accuracy: 0.5417\n",
      "Epoch 8/1000\n",
      "26/26 [==============================] - ETA: 0s - loss: 0.6643 - accuracy: 0.78 - ETA: 0s - loss: 0.7392 - accuracy: 0.77 - ETA: 0s - loss: 0.7000 - accuracy: 0.76 - ETA: 0s - loss: 0.7197 - accuracy: 0.74 - 1s 46ms/step - loss: 0.7008 - accuracy: 0.7512 - val_loss: 1.1076 - val_accuracy: 0.5655\n",
      "Epoch 9/1000\n",
      "26/26 [==============================] - ETA: 0s - loss: 0.6125 - accuracy: 0.81 - ETA: 0s - loss: 0.7182 - accuracy: 0.76 - ETA: 0s - loss: 0.6616 - accuracy: 0.77 - ETA: 0s - loss: 0.6812 - accuracy: 0.75 - 1s 42ms/step - loss: 0.6668 - accuracy: 0.7656 - val_loss: 1.0820 - val_accuracy: 0.5893\n",
      "Epoch 10/1000\n",
      "26/26 [==============================] - ETA: 0s - loss: 0.5941 - accuracy: 0.71 - ETA: 0s - loss: 0.6792 - accuracy: 0.76 - ETA: 0s - loss: 0.6182 - accuracy: 0.77 - ETA: 0s - loss: 0.6384 - accuracy: 0.76 - 1s 40ms/step - loss: 0.6227 - accuracy: 0.7861 - val_loss: 1.1367 - val_accuracy: 0.5655\n",
      "Epoch 11/1000\n",
      "26/26 [==============================] - ETA: 0s - loss: 0.5654 - accuracy: 0.84 - ETA: 0s - loss: 0.6404 - accuracy: 0.80 - ETA: 0s - loss: 0.6002 - accuracy: 0.79 - ETA: 0s - loss: 0.6210 - accuracy: 0.78 - 2s 59ms/step - loss: 0.6080 - accuracy: 0.7885 - val_loss: 1.0884 - val_accuracy: 0.5833\n",
      "Epoch 12/1000\n",
      "26/26 [==============================] - ETA: 0s - loss: 0.5842 - accuracy: 0.78 - ETA: 0s - loss: 0.6429 - accuracy: 0.77 - ETA: 0s - loss: 0.5654 - accuracy: 0.80 - ETA: 0s - loss: 0.5932 - accuracy: 0.78 - 1s 45ms/step - loss: 0.5815 - accuracy: 0.7945 - val_loss: 1.1236 - val_accuracy: 0.5714\n",
      "Epoch 13/1000\n",
      "26/26 [==============================] - ETA: 0s - loss: 0.5200 - accuracy: 0.78 - ETA: 0s - loss: 0.6434 - accuracy: 0.80 - ETA: 0s - loss: 0.5623 - accuracy: 0.82 - ETA: 0s - loss: 0.5691 - accuracy: 0.81 - 1s 45ms/step - loss: 0.5591 - accuracy: 0.8209 - val_loss: 1.1353 - val_accuracy: 0.5714\n",
      "Epoch 14/1000\n",
      "26/26 [==============================] - ETA: 0s - loss: 0.5355 - accuracy: 0.78 - ETA: 0s - loss: 0.5093 - accuracy: 0.85 - ETA: 0s - loss: 0.5016 - accuracy: 0.85 - ETA: 0s - loss: 0.5250 - accuracy: 0.83 - 1s 43ms/step - loss: 0.5157 - accuracy: 0.8474 - val_loss: 1.1602 - val_accuracy: 0.5536\n",
      "Epoch 15/1000\n",
      "26/26 [==============================] - ETA: 0s - loss: 0.5468 - accuracy: 0.81 - ETA: 0s - loss: 0.5459 - accuracy: 0.83 - ETA: 0s - loss: 0.5200 - accuracy: 0.82 - ETA: 0s - loss: 0.5354 - accuracy: 0.81 - 1s 47ms/step - loss: 0.5188 - accuracy: 0.8305 - val_loss: 1.1811 - val_accuracy: 0.5774\n",
      "Epoch 16/1000\n",
      "26/26 [==============================] - ETA: 0s - loss: 0.4977 - accuracy: 0.78 - ETA: 0s - loss: 0.5291 - accuracy: 0.84 - ETA: 0s - loss: 0.4714 - accuracy: 0.84 - ETA: 0s - loss: 0.4875 - accuracy: 0.83 - 2s 59ms/step - loss: 0.4626 - accuracy: 0.8534 - val_loss: 1.2069 - val_accuracy: 0.5833\n",
      "Epoch 17/1000\n",
      "26/26 [==============================] - ETA: 0s - loss: 0.4375 - accuracy: 0.87 - ETA: 0s - loss: 0.5132 - accuracy: 0.85 - ETA: 0s - loss: 0.4532 - accuracy: 0.85 - ETA: 0s - loss: 0.4612 - accuracy: 0.85 - 1s 49ms/step - loss: 0.4476 - accuracy: 0.8642 - val_loss: 1.2064 - val_accuracy: 0.5655\n",
      "Epoch 18/1000\n",
      "26/26 [==============================] - ETA: 0s - loss: 0.4265 - accuracy: 0.81 - ETA: 0s - loss: 0.5135 - accuracy: 0.82 - ETA: 0s - loss: 0.4314 - accuracy: 0.85 - ETA: 0s - loss: 0.4523 - accuracy: 0.85 - 1s 51ms/step - loss: 0.4429 - accuracy: 0.8594 - val_loss: 1.2093 - val_accuracy: 0.5417\n",
      "Epoch 19/1000\n",
      "26/26 [==============================] - ETA: 0s - loss: 0.4575 - accuracy: 0.87 - ETA: 0s - loss: 0.5056 - accuracy: 0.84 - ETA: 0s - loss: 0.4408 - accuracy: 0.87 - ETA: 0s - loss: 0.4588 - accuracy: 0.85 - ETA: 0s - loss: 0.4517 - accuracy: 0.85 - 1s 50ms/step - loss: 0.4430 - accuracy: 0.8618 - val_loss: 1.2349 - val_accuracy: 0.5536\n"
     ]
    },
    {
     "data": {
      "text/html": [
       "<span style=\"color:#4527A0\"><h1 style=\"font-size:18px\">Trial complete</h1></span>"
      ],
      "text/plain": [
       "<IPython.core.display.HTML object>"
      ]
     },
     "metadata": {},
     "output_type": "display_data"
    },
    {
     "data": {
      "text/html": [
       "<span style=\"color:#4527A0\"><h1 style=\"font-size:18px\">Trial summary</h1></span>"
      ],
      "text/plain": [
       "<IPython.core.display.HTML object>"
      ]
     },
     "metadata": {},
     "output_type": "display_data"
    },
    {
     "data": {
      "text/html": [
       "<span style=\"color:cyan\"> |-Trial ID: b5246be8909dfc1574f8c7af05c3a751</span>"
      ],
      "text/plain": [
       "<IPython.core.display.HTML object>"
      ]
     },
     "metadata": {},
     "output_type": "display_data"
    },
    {
     "data": {
      "text/html": [
       "<span style=\"color:cyan\"> |-Score: 0.5892857313156128</span>"
      ],
      "text/plain": [
       "<IPython.core.display.HTML object>"
      ]
     },
     "metadata": {},
     "output_type": "display_data"
    },
    {
     "data": {
      "text/html": [
       "<span style=\"color:cyan\"> |-Best step: 8</span>"
      ],
      "text/plain": [
       "<IPython.core.display.HTML object>"
      ]
     },
     "metadata": {},
     "output_type": "display_data"
    },
    {
     "data": {
      "text/html": [
       "<span style=\"color:#7E57C2\"><h2 style=\"font-size:16px\">Hyperparameters:</h2></span>"
      ],
      "text/plain": [
       "<IPython.core.display.HTML object>"
      ]
     },
     "metadata": {},
     "output_type": "display_data"
    },
    {
     "data": {
      "text/html": [
       "<span style=\"color:cyan\"> |-classification_head_1/dropout: 0.25</span>"
      ],
      "text/plain": [
       "<IPython.core.display.HTML object>"
      ]
     },
     "metadata": {},
     "output_type": "display_data"
    },
    {
     "data": {
      "text/html": [
       "<span style=\"color:blue\"> |-learning_rate: 0.001</span>"
      ],
      "text/plain": [
       "<IPython.core.display.HTML object>"
      ]
     },
     "metadata": {},
     "output_type": "display_data"
    },
    {
     "data": {
      "text/html": [
       "<span style=\"color:cyan\"> |-optimizer: adam</span>"
      ],
      "text/plain": [
       "<IPython.core.display.HTML object>"
      ]
     },
     "metadata": {},
     "output_type": "display_data"
    },
    {
     "data": {
      "text/html": [
       "<span style=\"color:blue\"> |-structured_data_block_1/dense_block_1/dropout: 0.0</span>"
      ],
      "text/plain": [
       "<IPython.core.display.HTML object>"
      ]
     },
     "metadata": {},
     "output_type": "display_data"
    },
    {
     "data": {
      "text/html": [
       "<span style=\"color:cyan\"> |-structured_data_block_1/dense_block_1/num_layers: 1</span>"
      ],
      "text/plain": [
       "<IPython.core.display.HTML object>"
      ]
     },
     "metadata": {},
     "output_type": "display_data"
    },
    {
     "data": {
      "text/html": [
       "<span style=\"color:blue\"> |-structured_data_block_1/dense_block_1/units_0: 128</span>"
      ],
      "text/plain": [
       "<IPython.core.display.HTML object>"
      ]
     },
     "metadata": {},
     "output_type": "display_data"
    },
    {
     "data": {
      "text/html": [
       "<span style=\"color:cyan\"> |-structured_data_block_1/dense_block_1/units_1: 64</span>"
      ],
      "text/plain": [
       "<IPython.core.display.HTML object>"
      ]
     },
     "metadata": {},
     "output_type": "display_data"
    },
    {
     "data": {
      "text/html": [
       "<span style=\"color:blue\"> |-structured_data_block_1/dense_block_1/units_2: 16</span>"
      ],
      "text/plain": [
       "<IPython.core.display.HTML object>"
      ]
     },
     "metadata": {},
     "output_type": "display_data"
    },
    {
     "data": {
      "text/html": [
       "<span style=\"color:cyan\"> |-structured_data_block_1/dense_block_1/use_batchnorm: True</span>"
      ],
      "text/plain": [
       "<IPython.core.display.HTML object>"
      ]
     },
     "metadata": {},
     "output_type": "display_data"
    },
    {
     "data": {
      "text/html": [
       "<span style=\"color:#4527A0\"><h1 style=\"font-size:18px\">Starting new trial</h1></span>"
      ],
      "text/plain": [
       "<IPython.core.display.HTML object>"
      ]
     },
     "metadata": {},
     "output_type": "display_data"
    },
    {
     "name": "stdout",
     "output_type": "stream",
     "text": [
      "Epoch 1/1000\n",
      "26/26 [==============================] - ETA: 0s - loss: 3137.3870 - accuracy: 0.218 - ETA: 0s - loss: 3416.8760 - accuracy: 0.289 - ETA: 0s - loss: 2522.8394 - accuracy: 0.287 - ETA: 0s - loss: 2143.1377 - accuracy: 0.294 - 5s 206ms/step - loss: 1917.5499 - accuracy: 0.2873 - val_loss: 414.6767 - val_accuracy: 0.3214\n",
      "Epoch 2/1000\n",
      "26/26 [==============================] - ETA: 0s - loss: 367.7766 - accuracy: 0.43 - ETA: 0s - loss: 380.3892 - accuracy: 0.33 - ETA: 0s - loss: 239.4187 - accuracy: 0.31 - ETA: 0s - loss: 190.8597 - accuracy: 0.30 - 1s 38ms/step - loss: 179.4937 - accuracy: 0.2981 - val_loss: 46.0728 - val_accuracy: 0.2083\n",
      "Epoch 3/1000\n",
      "26/26 [==============================] - ETA: 0s - loss: 59.6965 - accuracy: 0.375 - ETA: 0s - loss: 483.5410 - accuracy: 0.26 - ETA: 0s - loss: 266.3986 - accuracy: 0.25 - ETA: 0s - loss: 187.5697 - accuracy: 0.25 - 1s 37ms/step - loss: 162.5789 - accuracy: 0.2560 - val_loss: 7.1546 - val_accuracy: 0.2024\n",
      "Epoch 4/1000\n",
      "26/26 [==============================] - ETA: 0s - loss: 24.6396 - accuracy: 0.375 - ETA: 0s - loss: 533.8746 - accuracy: 0.24 - ETA: 0s - loss: 286.2076 - accuracy: 0.24 - ETA: 0s - loss: 206.9311 - accuracy: 0.24 - 1s 36ms/step - loss: 178.6928 - accuracy: 0.2488 - val_loss: 2.3102 - val_accuracy: 0.2202\n",
      "Epoch 5/1000\n",
      "26/26 [==============================] - ETA: 0s - loss: 1.3799 - accuracy: 0.37 - ETA: 0s - loss: 540.3552 - accuracy: 0.25 - ETA: 0s - loss: 289.5352 - accuracy: 0.25 - ETA: 0s - loss: 197.6173 - accuracy: 0.25 - 2s 59ms/step - loss: 174.9754 - accuracy: 0.2512 - val_loss: 2.8419 - val_accuracy: 0.2202\n",
      "Epoch 6/1000\n",
      "26/26 [==============================] - ETA: 0s - loss: 1.5544 - accuracy: 0.34 - ETA: 0s - loss: 329.2320 - accuracy: 0.24 - ETA: 0s - loss: 176.2295 - accuracy: 0.24 - ETA: 0s - loss: 121.6381 - accuracy: 0.24 - 1s 45ms/step - loss: 103.4721 - accuracy: 0.2452 - val_loss: 2.2186 - val_accuracy: 0.2202\n",
      "Epoch 7/1000\n",
      "26/26 [==============================] - ETA: 0s - loss: 1.3808 - accuracy: 0.37 - ETA: 0s - loss: 1.4429 - accuracy: 0.25 - ETA: 0s - loss: 1.8509 - accuracy: 0.24 - ETA: 0s - loss: 1.8975 - accuracy: 0.24 - 1s 39ms/step - loss: 4.1983 - accuracy: 0.2440 - val_loss: 2.3104 - val_accuracy: 0.2202\n",
      "Epoch 8/1000\n",
      "26/26 [==============================] - ETA: 0s - loss: 1.4987 - accuracy: 0.34 - ETA: 0s - loss: 1.3943 - accuracy: 0.24 - ETA: 0s - loss: 1.3852 - accuracy: 0.24 - ETA: 0s - loss: 1.7248 - accuracy: 0.25 - 1s 43ms/step - loss: 1.6842 - accuracy: 0.2476 - val_loss: 2.2653 - val_accuracy: 0.2202\n",
      "Epoch 9/1000\n",
      "26/26 [==============================] - ETA: 0s - loss: 1.3816 - accuracy: 0.37 - ETA: 0s - loss: 1.3786 - accuracy: 0.25 - ETA: 0s - loss: 1.3802 - accuracy: 0.24 - ETA: 0s - loss: 1.5314 - accuracy: 0.24 - 1s 44ms/step - loss: 3.9918 - accuracy: 0.2464 - val_loss: 2.2620 - val_accuracy: 0.2738\n",
      "Epoch 10/1000\n",
      "26/26 [==============================] - ETA: 0s - loss: 1.3821 - accuracy: 0.18 - ETA: 0s - loss: 1.3769 - accuracy: 0.30 - ETA: 0s - loss: 1.3777 - accuracy: 0.29 - ETA: 0s - loss: 1.3743 - accuracy: 0.27 - 1s 50ms/step - loss: 4.1653 - accuracy: 0.2752 - val_loss: 2.2617 - val_accuracy: 0.2738\n",
      "Epoch 11/1000\n",
      "26/26 [==============================] - ETA: 0s - loss: 1.3826 - accuracy: 0.18 - ETA: 0s - loss: 1.3781 - accuracy: 0.28 - ETA: 0s - loss: 1.5930 - accuracy: 0.28 - ETA: 0s - loss: 1.5230 - accuracy: 0.27 - 1s 52ms/step - loss: 2.3704 - accuracy: 0.2752 - val_loss: 2.2615 - val_accuracy: 0.2738\n",
      "Epoch 12/1000\n",
      "26/26 [==============================] - ETA: 0s - loss: 1.3830 - accuracy: 0.18 - ETA: 0s - loss: 1.3779 - accuracy: 0.28 - ETA: 0s - loss: 1.3770 - accuracy: 0.28 - ETA: 0s - loss: 1.4552 - accuracy: 0.27 - 1s 45ms/step - loss: 3.9203 - accuracy: 0.2728 - val_loss: 2.2613 - val_accuracy: 0.2738\n",
      "Epoch 13/1000\n",
      "26/26 [==============================] - ETA: 0s - loss: 1.3834 - accuracy: 0.18 - ETA: 0s - loss: 1.3777 - accuracy: 0.28 - ETA: 0s - loss: 4.6001 - accuracy: 0.28 - ETA: 0s - loss: 3.5733 - accuracy: 0.26 - 1s 41ms/step - loss: 4.4493 - accuracy: 0.2728 - val_loss: 2.2612 - val_accuracy: 0.2738\n",
      "Epoch 14/1000\n",
      "26/26 [==============================] - ETA: 0s - loss: 1.3838 - accuracy: 0.18 - ETA: 0s - loss: 121.2214 - accuracy: 0.28 - ETA: 0s - loss: 75.3231 - accuracy: 0.2861 - ETA: 0s - loss: 51.9726 - accuracy: 0.268 - ETA: 0s - loss: 38.7385 - accuracy: 0.271 - 1s 46ms/step - loss: 38.7385 - accuracy: 0.2716 - val_loss: 3.3472 - val_accuracy: 0.2679\n",
      "Epoch 15/1000\n",
      "26/26 [==============================] - ETA: 0s - loss: 1.3842 - accuracy: 0.18 - ETA: 0s - loss: 1.3826 - accuracy: 0.28 - ETA: 0s - loss: 1.3796 - accuracy: 0.28 - ETA: 0s - loss: 1.3814 - accuracy: 0.26 - 1s 45ms/step - loss: 2.9694 - accuracy: 0.2716 - val_loss: 3.5316 - val_accuracy: 0.2679\n",
      "Epoch 16/1000\n",
      "26/26 [==============================] - ETA: 0s - loss: 1.3846 - accuracy: 0.18 - ETA: 0s - loss: 1.3825 - accuracy: 0.28 - ETA: 0s - loss: 1.4800 - accuracy: 0.28 - ETA: 0s - loss: 1.4511 - accuracy: 0.26 - 2s 64ms/step - loss: 1.4419 - accuracy: 0.2728 - val_loss: 3.5439 - val_accuracy: 0.2679\n"
     ]
    },
    {
     "data": {
      "text/html": [
       "<span style=\"color:#4527A0\"><h1 style=\"font-size:18px\">Trial complete</h1></span>"
      ],
      "text/plain": [
       "<IPython.core.display.HTML object>"
      ]
     },
     "metadata": {},
     "output_type": "display_data"
    },
    {
     "data": {
      "text/html": [
       "<span style=\"color:#4527A0\"><h1 style=\"font-size:18px\">Trial summary</h1></span>"
      ],
      "text/plain": [
       "<IPython.core.display.HTML object>"
      ]
     },
     "metadata": {},
     "output_type": "display_data"
    },
    {
     "data": {
      "text/html": [
       "<span style=\"color:cyan\"> |-Trial ID: c4d757f03754ceedeeb09ae929e220f9</span>"
      ],
      "text/plain": [
       "<IPython.core.display.HTML object>"
      ]
     },
     "metadata": {},
     "output_type": "display_data"
    },
    {
     "data": {
      "text/html": [
       "<span style=\"color:cyan\"> |-Score: 0.3214285671710968</span>"
      ],
      "text/plain": [
       "<IPython.core.display.HTML object>"
      ]
     },
     "metadata": {},
     "output_type": "display_data"
    },
    {
     "data": {
      "text/html": [
       "<span style=\"color:cyan\"> |-Best step: 0</span>"
      ],
      "text/plain": [
       "<IPython.core.display.HTML object>"
      ]
     },
     "metadata": {},
     "output_type": "display_data"
    },
    {
     "data": {
      "text/html": [
       "<span style=\"color:#7E57C2\"><h2 style=\"font-size:16px\">Hyperparameters:</h2></span>"
      ],
      "text/plain": [
       "<IPython.core.display.HTML object>"
      ]
     },
     "metadata": {},
     "output_type": "display_data"
    },
    {
     "data": {
      "text/html": [
       "<span style=\"color:cyan\"> |-classification_head_1/dropout: 0.25</span>"
      ],
      "text/plain": [
       "<IPython.core.display.HTML object>"
      ]
     },
     "metadata": {},
     "output_type": "display_data"
    },
    {
     "data": {
      "text/html": [
       "<span style=\"color:blue\"> |-learning_rate: 0.001</span>"
      ],
      "text/plain": [
       "<IPython.core.display.HTML object>"
      ]
     },
     "metadata": {},
     "output_type": "display_data"
    },
    {
     "data": {
      "text/html": [
       "<span style=\"color:cyan\"> |-optimizer: adam</span>"
      ],
      "text/plain": [
       "<IPython.core.display.HTML object>"
      ]
     },
     "metadata": {},
     "output_type": "display_data"
    },
    {
     "data": {
      "text/html": [
       "<span style=\"color:blue\"> |-structured_data_block_1/dense_block_1/dropout: 0.25</span>"
      ],
      "text/plain": [
       "<IPython.core.display.HTML object>"
      ]
     },
     "metadata": {},
     "output_type": "display_data"
    },
    {
     "data": {
      "text/html": [
       "<span style=\"color:cyan\"> |-structured_data_block_1/dense_block_1/num_layers: 1</span>"
      ],
      "text/plain": [
       "<IPython.core.display.HTML object>"
      ]
     },
     "metadata": {},
     "output_type": "display_data"
    },
    {
     "data": {
      "text/html": [
       "<span style=\"color:blue\"> |-structured_data_block_1/dense_block_1/units_0: 16</span>"
      ],
      "text/plain": [
       "<IPython.core.display.HTML object>"
      ]
     },
     "metadata": {},
     "output_type": "display_data"
    },
    {
     "data": {
      "text/html": [
       "<span style=\"color:cyan\"> |-structured_data_block_1/dense_block_1/units_1: 1024</span>"
      ],
      "text/plain": [
       "<IPython.core.display.HTML object>"
      ]
     },
     "metadata": {},
     "output_type": "display_data"
    },
    {
     "data": {
      "text/html": [
       "<span style=\"color:blue\"> |-structured_data_block_1/dense_block_1/units_2: 256</span>"
      ],
      "text/plain": [
       "<IPython.core.display.HTML object>"
      ]
     },
     "metadata": {},
     "output_type": "display_data"
    },
    {
     "data": {
      "text/html": [
       "<span style=\"color:cyan\"> |-structured_data_block_1/dense_block_1/use_batchnorm: False</span>"
      ],
      "text/plain": [
       "<IPython.core.display.HTML object>"
      ]
     },
     "metadata": {},
     "output_type": "display_data"
    },
    {
     "data": {
      "text/html": [
       "<span style=\"color:#4527A0\"><h1 style=\"font-size:18px\">Starting new trial</h1></span>"
      ],
      "text/plain": [
       "<IPython.core.display.HTML object>"
      ]
     },
     "metadata": {},
     "output_type": "display_data"
    },
    {
     "name": "stdout",
     "output_type": "stream",
     "text": [
      "Epoch 1/1000\n",
      "26/26 [==============================] - ETA: 0s - loss: 1176.6863 - accuracy: 0.250 - ETA: 0s - loss: 3020.7195 - accuracy: 0.250 - ETA: 0s - loss: 2201.4985 - accuracy: 0.281 - ETA: 0s - loss: 1839.7970 - accuracy: 0.298 - ETA: 0s - loss: 1575.1215 - accuracy: 0.293 - ETA: 0s - loss: 1397.0907 - accuracy: 0.295 - 6s 219ms/step - loss: 1397.0907 - accuracy: 0.2957 - val_loss: 448.1341 - val_accuracy: 0.3690\n",
      "Epoch 2/1000\n",
      "26/26 [==============================] - ETA: 0s - loss: 213.4589 - accuracy: 0.43 - ETA: 0s - loss: 480.2823 - accuracy: 0.36 - ETA: 0s - loss: 371.6166 - accuracy: 0.40 - ETA: 0s - loss: 335.9206 - accuracy: 0.40 - ETA: 0s - loss: 331.8105 - accuracy: 0.41 - ETA: 0s - loss: 317.0029 - accuracy: 0.41 - 1s 48ms/step - loss: 302.7989 - accuracy: 0.4147 - val_loss: 144.8335 - val_accuracy: 0.4167\n",
      "Epoch 3/1000\n",
      "26/26 [==============================] - ETA: 0s - loss: 308.5671 - accuracy: 0.40 - ETA: 0s - loss: 229.6075 - accuracy: 0.40 - ETA: 0s - loss: 196.9076 - accuracy: 0.43 - ETA: 0s - loss: 179.5929 - accuracy: 0.43 - ETA: 0s - loss: 168.9795 - accuracy: 0.43 - ETA: 0s - loss: 164.8380 - accuracy: 0.43 - 1s 47ms/step - loss: 164.8380 - accuracy: 0.4351 - val_loss: 100.8866 - val_accuracy: 0.4464\n",
      "Epoch 4/1000\n",
      "26/26 [==============================] - ETA: 0s - loss: 140.8406 - accuracy: 0.46 - ETA: 0s - loss: 112.0372 - accuracy: 0.45 - ETA: 0s - loss: 95.8994 - accuracy: 0.4858 - ETA: 0s - loss: 91.3835 - accuracy: 0.498 - ETA: 0s - loss: 88.3687 - accuracy: 0.498 - ETA: 0s - loss: 88.5472 - accuracy: 0.478 - 1s 49ms/step - loss: 88.5472 - accuracy: 0.4784 - val_loss: 95.1786 - val_accuracy: 0.4167\n",
      "Epoch 5/1000\n",
      "26/26 [==============================] - ETA: 0s - loss: 57.0301 - accuracy: 0.531 - ETA: 0s - loss: 66.9806 - accuracy: 0.474 - ETA: 0s - loss: 59.9993 - accuracy: 0.491 - ETA: 0s - loss: 56.6335 - accuracy: 0.486 - ETA: 0s - loss: 53.2794 - accuracy: 0.511 - ETA: 0s - loss: 52.7081 - accuracy: 0.516 - 2s 63ms/step - loss: 52.7081 - accuracy: 0.5168 - val_loss: 87.3820 - val_accuracy: 0.5000\n",
      "Epoch 6/1000\n",
      "26/26 [==============================] - ETA: 0s - loss: 49.4291 - accuracy: 0.531 - ETA: 0s - loss: 47.7379 - accuracy: 0.588 - ETA: 0s - loss: 45.0979 - accuracy: 0.568 - ETA: 0s - loss: 43.2344 - accuracy: 0.556 - ETA: 0s - loss: 43.9733 - accuracy: 0.567 - ETA: 0s - loss: 44.5463 - accuracy: 0.562 - 1s 53ms/step - loss: 43.3976 - accuracy: 0.5709 - val_loss: 96.6765 - val_accuracy: 0.4226\n",
      "Epoch 7/1000\n",
      "26/26 [==============================] - ETA: 0s - loss: 35.7649 - accuracy: 0.531 - ETA: 0s - loss: 30.1498 - accuracy: 0.562 - ETA: 0s - loss: 30.2626 - accuracy: 0.585 - ETA: 0s - loss: 31.0374 - accuracy: 0.589 - ETA: 0s - loss: 31.2965 - accuracy: 0.592 - ETA: 0s - loss: 31.1542 - accuracy: 0.586 - 1s 54ms/step - loss: 31.1542 - accuracy: 0.5865 - val_loss: 87.9405 - val_accuracy: 0.4286\n",
      "Epoch 8/1000\n",
      "26/26 [==============================] - ETA: 0s - loss: 31.2758 - accuracy: 0.593 - ETA: 0s - loss: 31.4187 - accuracy: 0.552 - ETA: 0s - loss: 24.8735 - accuracy: 0.610 - ETA: 0s - loss: 24.4083 - accuracy: 0.591 - ETA: 0s - loss: 21.9710 - accuracy: 0.607 - ETA: 0s - loss: 21.7853 - accuracy: 0.602 - 1s 55ms/step - loss: 21.7853 - accuracy: 0.6022 - val_loss: 92.6031 - val_accuracy: 0.4286\n",
      "Epoch 9/1000\n",
      "26/26 [==============================] - ETA: 0s - loss: 16.3032 - accuracy: 0.687 - ETA: 0s - loss: 13.2424 - accuracy: 0.713 - ETA: 0s - loss: 11.3226 - accuracy: 0.718 - ETA: 0s - loss: 14.5967 - accuracy: 0.673 - ETA: 0s - loss: 15.1062 - accuracy: 0.678 - ETA: 0s - loss: 15.9911 - accuracy: 0.671 - 1s 42ms/step - loss: 15.9911 - accuracy: 0.6719 - val_loss: 78.4747 - val_accuracy: 0.4226\n",
      "Epoch 10/1000\n",
      "26/26 [==============================] - ETA: 0s - loss: 7.5196 - accuracy: 0.68 - ETA: 0s - loss: 12.5105 - accuracy: 0.631 - ETA: 0s - loss: 11.3258 - accuracy: 0.678 - ETA: 0s - loss: 12.2173 - accuracy: 0.671 - ETA: 0s - loss: 13.6788 - accuracy: 0.671 - ETA: 0s - loss: 13.5596 - accuracy: 0.668 - 2s 64ms/step - loss: 13.6800 - accuracy: 0.6707 - val_loss: 80.2744 - val_accuracy: 0.4107\n",
      "Epoch 11/1000\n",
      "26/26 [==============================] - ETA: 0s - loss: 13.4815 - accuracy: 0.718 - ETA: 0s - loss: 17.9220 - accuracy: 0.668 - ETA: 0s - loss: 13.1796 - accuracy: 0.693 - ETA: 0s - loss: 14.3284 - accuracy: 0.672 - ETA: 0s - loss: 13.9543 - accuracy: 0.675 - ETA: 0s - loss: 13.9445 - accuracy: 0.668 - 1s 55ms/step - loss: 13.8249 - accuracy: 0.6707 - val_loss: 72.7822 - val_accuracy: 0.3988\n",
      "Epoch 12/1000\n",
      "26/26 [==============================] - ETA: 0s - loss: 5.7542 - accuracy: 0.78 - ETA: 0s - loss: 8.1830 - accuracy: 0.72 - ETA: 0s - loss: 8.8564 - accuracy: 0.71 - ETA: 0s - loss: 9.2228 - accuracy: 0.71 - ETA: 0s - loss: 8.6036 - accuracy: 0.72 - ETA: 0s - loss: 8.8029 - accuracy: 0.72 - 1s 51ms/step - loss: 8.6404 - accuracy: 0.7260 - val_loss: 82.3541 - val_accuracy: 0.3690\n",
      "Epoch 13/1000\n",
      "26/26 [==============================] - ETA: 0s - loss: 33.1654 - accuracy: 0.562 - ETA: 0s - loss: 16.8011 - accuracy: 0.640 - ETA: 0s - loss: 11.7069 - accuracy: 0.721 - ETA: 0s - loss: 10.6527 - accuracy: 0.720 - ETA: 0s - loss: 10.9198 - accuracy: 0.718 - ETA: 0s - loss: 9.8935 - accuracy: 0.721 - 1s 51ms/step - loss: 9.5807 - accuracy: 0.7308 - val_loss: 87.1934 - val_accuracy: 0.4167\n",
      "Epoch 14/1000\n",
      "26/26 [==============================] - ETA: 0s - loss: 9.2278 - accuracy: 0.78 - ETA: 0s - loss: 8.9471 - accuracy: 0.70 - ETA: 0s - loss: 8.1092 - accuracy: 0.75 - ETA: 0s - loss: 7.9995 - accuracy: 0.74 - ETA: 0s - loss: 7.2667 - accuracy: 0.75 - ETA: 0s - loss: 7.2886 - accuracy: 0.74 - 1s 50ms/step - loss: 7.3139 - accuracy: 0.7488 - val_loss: 67.9810 - val_accuracy: 0.3988\n",
      "Epoch 15/1000\n",
      "26/26 [==============================] - ETA: 0s - loss: 9.8768 - accuracy: 0.71 - ETA: 0s - loss: 7.1038 - accuracy: 0.75 - ETA: 0s - loss: 6.7493 - accuracy: 0.75 - ETA: 0s - loss: 7.8336 - accuracy: 0.74 - ETA: 0s - loss: 7.2998 - accuracy: 0.74 - ETA: 0s - loss: 6.9592 - accuracy: 0.75 - 2s 62ms/step - loss: 6.9592 - accuracy: 0.7548 - val_loss: 83.7423 - val_accuracy: 0.4107\n",
      "Epoch 16/1000\n",
      "26/26 [==============================] - ETA: 0s - loss: 5.8618 - accuracy: 0.71 - ETA: 0s - loss: 5.6504 - accuracy: 0.78 - ETA: 0s - loss: 4.9270 - accuracy: 0.80 - ETA: 0s - loss: 5.6827 - accuracy: 0.78 - ETA: 0s - loss: 5.1562 - accuracy: 0.79 - ETA: 0s - loss: 5.0584 - accuracy: 0.78 - 2s 61ms/step - loss: 5.0584 - accuracy: 0.7885 - val_loss: 74.1422 - val_accuracy: 0.3869\n",
      "Epoch 17/1000\n",
      "26/26 [==============================] - ETA: 0s - loss: 1.6434 - accuracy: 0.81 - ETA: 0s - loss: 4.6280 - accuracy: 0.76 - ETA: 0s - loss: 4.4105 - accuracy: 0.78 - ETA: 0s - loss: 5.0920 - accuracy: 0.77 - ETA: 0s - loss: 5.1852 - accuracy: 0.77 - ETA: 0s - loss: 6.7269 - accuracy: 0.77 - ETA: 0s - loss: 7.6205 - accuracy: 0.76 - 2s 61ms/step - loss: 7.5781 - accuracy: 0.7620 - val_loss: 62.1314 - val_accuracy: 0.4048\n",
      "Epoch 18/1000\n",
      "26/26 [==============================] - ETA: 0s - loss: 5.4128 - accuracy: 0.75 - ETA: 0s - loss: 6.5555 - accuracy: 0.74 - ETA: 0s - loss: 8.1071 - accuracy: 0.74 - ETA: 0s - loss: 8.3480 - accuracy: 0.75 - ETA: 0s - loss: 9.6230 - accuracy: 0.75 - ETA: 0s - loss: 13.2777 - accuracy: 0.735 - 1s 48ms/step - loss: 13.2777 - accuracy: 0.7356 - val_loss: 88.1252 - val_accuracy: 0.4286\n",
      "Epoch 19/1000\n",
      "26/26 [==============================] - ETA: 0s - loss: 2.6791 - accuracy: 0.84 - ETA: 0s - loss: 8.9015 - accuracy: 0.70 - ETA: 0s - loss: 9.0852 - accuracy: 0.74 - ETA: 0s - loss: 9.1741 - accuracy: 0.72 - ETA: 0s - loss: 8.4637 - accuracy: 0.72 - ETA: 0s - loss: 7.8916 - accuracy: 0.74 - 1s 51ms/step - loss: 7.5982 - accuracy: 0.7548 - val_loss: 84.3750 - val_accuracy: 0.3750\n",
      "Epoch 20/1000\n",
      "26/26 [==============================] - ETA: 0s - loss: 3.2557 - accuracy: 0.78 - ETA: 0s - loss: 4.8985 - accuracy: 0.75 - ETA: 0s - loss: 4.5370 - accuracy: 0.77 - ETA: 0s - loss: 4.1276 - accuracy: 0.80 - ETA: 0s - loss: 4.0916 - accuracy: 0.81 - ETA: 0s - loss: 4.8815 - accuracy: 0.80 - 1s 50ms/step - loss: 4.7872 - accuracy: 0.8113 - val_loss: 92.6788 - val_accuracy: 0.3631\n",
      "Epoch 21/1000\n"
     ]
    },
    {
     "name": "stdout",
     "output_type": "stream",
     "text": [
      "26/26 [==============================] - ETA: 0s - loss: 3.1178 - accuracy: 0.78 - ETA: 0s - loss: 5.0753 - accuracy: 0.77 - ETA: 0s - loss: 5.2946 - accuracy: 0.79 - ETA: 0s - loss: 5.5201 - accuracy: 0.77 - ETA: 0s - loss: 5.5917 - accuracy: 0.78 - ETA: 0s - loss: 5.5239 - accuracy: 0.78 - 1s 46ms/step - loss: 5.3496 - accuracy: 0.7909 - val_loss: 71.5988 - val_accuracy: 0.4107\n",
      "Epoch 22/1000\n",
      "26/26 [==============================] - ETA: 0s - loss: 2.0218 - accuracy: 0.93 - ETA: 0s - loss: 4.4374 - accuracy: 0.82 - ETA: 0s - loss: 4.2477 - accuracy: 0.82 - ETA: 0s - loss: 4.0626 - accuracy: 0.81 - ETA: 0s - loss: 3.6608 - accuracy: 0.83 - ETA: 0s - loss: 3.6866 - accuracy: 0.82 - 1s 56ms/step - loss: 3.7829 - accuracy: 0.8293 - val_loss: 60.2294 - val_accuracy: 0.4345\n",
      "Epoch 23/1000\n",
      "26/26 [==============================] - ETA: 0s - loss: 0.0388 - accuracy: 1.00 - ETA: 0s - loss: 2.0611 - accuracy: 0.84 - ETA: 0s - loss: 2.8406 - accuracy: 0.82 - ETA: 0s - loss: 2.6230 - accuracy: 0.83 - ETA: 0s - loss: 2.8368 - accuracy: 0.82 - ETA: 0s - loss: 2.7252 - accuracy: 0.82 - 1s 42ms/step - loss: 2.7252 - accuracy: 0.8293 - val_loss: 59.7494 - val_accuracy: 0.4107\n",
      "Epoch 24/1000\n",
      "26/26 [==============================] - ETA: 0s - loss: 2.3643 - accuracy: 0.93 - ETA: 0s - loss: 3.1061 - accuracy: 0.83 - ETA: 0s - loss: 2.2775 - accuracy: 0.85 - ETA: 0s - loss: 2.7771 - accuracy: 0.84 - ETA: 0s - loss: 2.5648 - accuracy: 0.84 - ETA: 0s - loss: 2.5561 - accuracy: 0.84 - 1s 48ms/step - loss: 2.5561 - accuracy: 0.8450 - val_loss: 65.4913 - val_accuracy: 0.3690\n",
      "Epoch 25/1000\n",
      "26/26 [==============================] - ETA: 0s - loss: 1.7452 - accuracy: 0.84 - ETA: 0s - loss: 1.9558 - accuracy: 0.82 - ETA: 0s - loss: 2.3685 - accuracy: 0.84 - ETA: 0s - loss: 2.4845 - accuracy: 0.85 - ETA: 0s - loss: 2.4449 - accuracy: 0.84 - ETA: 0s - loss: 2.4318 - accuracy: 0.83 - ETA: 0s - loss: 2.3297 - accuracy: 0.84 - 1s 47ms/step - loss: 2.3297 - accuracy: 0.8462 - val_loss: 58.0251 - val_accuracy: 0.4286\n",
      "Epoch 26/1000\n",
      "26/26 [==============================] - ETA: 0s - loss: 0.2698 - accuracy: 0.96 - ETA: 0s - loss: 2.2212 - accuracy: 0.83 - ETA: 0s - loss: 1.9587 - accuracy: 0.86 - ETA: 0s - loss: 1.8878 - accuracy: 0.85 - ETA: 0s - loss: 2.1389 - accuracy: 0.85 - ETA: 0s - loss: 2.0472 - accuracy: 0.85 - 1s 42ms/step - loss: 2.0472 - accuracy: 0.8570 - val_loss: 64.3593 - val_accuracy: 0.4226\n",
      "Epoch 27/1000\n",
      "26/26 [==============================] - ETA: 0s - loss: 0.7281 - accuracy: 0.81 - ETA: 0s - loss: 2.4753 - accuracy: 0.82 - ETA: 0s - loss: 2.3429 - accuracy: 0.84 - ETA: 0s - loss: 2.1704 - accuracy: 0.85 - ETA: 0s - loss: 1.8615 - accuracy: 0.87 - ETA: 0s - loss: 2.0297 - accuracy: 0.86 - 2s 65ms/step - loss: 2.0297 - accuracy: 0.8654 - val_loss: 58.7441 - val_accuracy: 0.3810\n",
      "Epoch 28/1000\n",
      "26/26 [==============================] - ETA: 0s - loss: 2.8898 - accuracy: 0.78 - ETA: 0s - loss: 2.1191 - accuracy: 0.84 - ETA: 0s - loss: 1.9432 - accuracy: 0.85 - ETA: 0s - loss: 2.0870 - accuracy: 0.85 - ETA: 0s - loss: 2.1167 - accuracy: 0.86 - ETA: 0s - loss: 1.9921 - accuracy: 0.87 - 1s 52ms/step - loss: 1.9921 - accuracy: 0.8714 - val_loss: 66.6356 - val_accuracy: 0.3810\n",
      "Epoch 29/1000\n",
      "26/26 [==============================] - ETA: 0s - loss: 0.5330 - accuracy: 0.93 - ETA: 0s - loss: 2.0366 - accuracy: 0.89 - ETA: 0s - loss: 2.0256 - accuracy: 0.88 - ETA: 0s - loss: 2.0255 - accuracy: 0.88 - ETA: 0s - loss: 1.7985 - accuracy: 0.88 - ETA: 0s - loss: 1.7625 - accuracy: 0.87 - 1s 51ms/step - loss: 1.8854 - accuracy: 0.8870 - val_loss: 71.9438 - val_accuracy: 0.3810\n",
      "Epoch 30/1000\n",
      "26/26 [==============================] - ETA: 0s - loss: 0.5307 - accuracy: 0.90 - ETA: 0s - loss: 1.2831 - accuracy: 0.83 - ETA: 0s - loss: 1.4604 - accuracy: 0.86 - ETA: 0s - loss: 1.5549 - accuracy: 0.86 - ETA: 0s - loss: 1.4269 - accuracy: 0.86 - ETA: 0s - loss: 1.5159 - accuracy: 0.86 - 1s 46ms/step - loss: 1.5159 - accuracy: 0.8630 - val_loss: 62.9724 - val_accuracy: 0.3750\n",
      "Epoch 31/1000\n",
      "26/26 [==============================] - ETA: 0s - loss: 3.0152 - accuracy: 0.90 - ETA: 0s - loss: 2.3471 - accuracy: 0.85 - ETA: 0s - loss: 2.2627 - accuracy: 0.86 - ETA: 0s - loss: 1.9960 - accuracy: 0.86 - ETA: 0s - loss: 1.7542 - accuracy: 0.86 - ETA: 0s - loss: 1.5948 - accuracy: 0.87 - 1s 47ms/step - loss: 1.5948 - accuracy: 0.8750 - val_loss: 64.0232 - val_accuracy: 0.3571\n",
      "Epoch 32/1000\n",
      "26/26 [==============================] - ETA: 0s - loss: 0.2165 - accuracy: 0.93 - ETA: 0s - loss: 1.3096 - accuracy: 0.89 - ETA: 0s - loss: 1.0244 - accuracy: 0.90 - ETA: 0s - loss: 1.1481 - accuracy: 0.90 - ETA: 0s - loss: 1.2422 - accuracy: 0.89 - ETA: 0s - loss: 1.2229 - accuracy: 0.89 - 1s 36ms/step - loss: 1.2229 - accuracy: 0.8990 - val_loss: 65.1107 - val_accuracy: 0.3929\n",
      "Epoch 33/1000\n",
      "26/26 [==============================] - ETA: 0s - loss: 0.6940 - accuracy: 0.90 - ETA: 0s - loss: 0.9786 - accuracy: 0.89 - ETA: 0s - loss: 0.8260 - accuracy: 0.90 - ETA: 0s - loss: 1.0398 - accuracy: 0.90 - ETA: 0s - loss: 0.9974 - accuracy: 0.90 - ETA: 0s - loss: 0.9554 - accuracy: 0.90 - 1s 51ms/step - loss: 0.9554 - accuracy: 0.9014 - val_loss: 64.3249 - val_accuracy: 0.4226\n",
      "Epoch 34/1000\n",
      "26/26 [==============================] - ETA: 0s - loss: 0.0280 - accuracy: 1.00 - ETA: 0s - loss: 1.2695 - accuracy: 0.88 - ETA: 0s - loss: 1.2699 - accuracy: 0.88 - ETA: 0s - loss: 1.1721 - accuracy: 0.88 - ETA: 0s - loss: 1.2670 - accuracy: 0.88 - ETA: 0s - loss: 1.0819 - accuracy: 0.89 - 1s 57ms/step - loss: 1.0819 - accuracy: 0.8930 - val_loss: 67.3077 - val_accuracy: 0.3869\n",
      "Epoch 35/1000\n",
      "26/26 [==============================] - ETA: 0s - loss: 0.0358 - accuracy: 1.00 - ETA: 0s - loss: 0.6611 - accuracy: 0.91 - ETA: 0s - loss: 0.8715 - accuracy: 0.90 - ETA: 0s - loss: 1.1578 - accuracy: 0.89 - ETA: 0s - loss: 1.0740 - accuracy: 0.90 - ETA: 0s - loss: 1.0349 - accuracy: 0.90 - 1s 40ms/step - loss: 1.0349 - accuracy: 0.9038 - val_loss: 67.9534 - val_accuracy: 0.3750\n"
     ]
    },
    {
     "data": {
      "text/html": [
       "<span style=\"color:#4527A0\"><h1 style=\"font-size:18px\">Trial complete</h1></span>"
      ],
      "text/plain": [
       "<IPython.core.display.HTML object>"
      ]
     },
     "metadata": {},
     "output_type": "display_data"
    },
    {
     "data": {
      "text/html": [
       "<span style=\"color:#4527A0\"><h1 style=\"font-size:18px\">Trial summary</h1></span>"
      ],
      "text/plain": [
       "<IPython.core.display.HTML object>"
      ]
     },
     "metadata": {},
     "output_type": "display_data"
    },
    {
     "data": {
      "text/html": [
       "<span style=\"color:cyan\"> |-Trial ID: bb9e97f03d0b201c33a2447b2f36e8c0</span>"
      ],
      "text/plain": [
       "<IPython.core.display.HTML object>"
      ]
     },
     "metadata": {},
     "output_type": "display_data"
    },
    {
     "data": {
      "text/html": [
       "<span style=\"color:cyan\"> |-Score: 0.5</span>"
      ],
      "text/plain": [
       "<IPython.core.display.HTML object>"
      ]
     },
     "metadata": {},
     "output_type": "display_data"
    },
    {
     "data": {
      "text/html": [
       "<span style=\"color:cyan\"> |-Best step: 4</span>"
      ],
      "text/plain": [
       "<IPython.core.display.HTML object>"
      ]
     },
     "metadata": {},
     "output_type": "display_data"
    },
    {
     "data": {
      "text/html": [
       "<span style=\"color:#7E57C2\"><h2 style=\"font-size:16px\">Hyperparameters:</h2></span>"
      ],
      "text/plain": [
       "<IPython.core.display.HTML object>"
      ]
     },
     "metadata": {},
     "output_type": "display_data"
    },
    {
     "data": {
      "text/html": [
       "<span style=\"color:cyan\"> |-classification_head_1/dropout: 0.25</span>"
      ],
      "text/plain": [
       "<IPython.core.display.HTML object>"
      ]
     },
     "metadata": {},
     "output_type": "display_data"
    },
    {
     "data": {
      "text/html": [
       "<span style=\"color:blue\"> |-learning_rate: 0.001</span>"
      ],
      "text/plain": [
       "<IPython.core.display.HTML object>"
      ]
     },
     "metadata": {},
     "output_type": "display_data"
    },
    {
     "data": {
      "text/html": [
       "<span style=\"color:cyan\"> |-optimizer: adam</span>"
      ],
      "text/plain": [
       "<IPython.core.display.HTML object>"
      ]
     },
     "metadata": {},
     "output_type": "display_data"
    },
    {
     "data": {
      "text/html": [
       "<span style=\"color:blue\"> |-structured_data_block_1/dense_block_1/dropout: 0.0</span>"
      ],
      "text/plain": [
       "<IPython.core.display.HTML object>"
      ]
     },
     "metadata": {},
     "output_type": "display_data"
    },
    {
     "data": {
      "text/html": [
       "<span style=\"color:cyan\"> |-structured_data_block_1/dense_block_1/num_layers: 2</span>"
      ],
      "text/plain": [
       "<IPython.core.display.HTML object>"
      ]
     },
     "metadata": {},
     "output_type": "display_data"
    },
    {
     "data": {
      "text/html": [
       "<span style=\"color:blue\"> |-structured_data_block_1/dense_block_1/units_0: 256</span>"
      ],
      "text/plain": [
       "<IPython.core.display.HTML object>"
      ]
     },
     "metadata": {},
     "output_type": "display_data"
    },
    {
     "data": {
      "text/html": [
       "<span style=\"color:cyan\"> |-structured_data_block_1/dense_block_1/units_1: 1024</span>"
      ],
      "text/plain": [
       "<IPython.core.display.HTML object>"
      ]
     },
     "metadata": {},
     "output_type": "display_data"
    },
    {
     "data": {
      "text/html": [
       "<span style=\"color:blue\"> |-structured_data_block_1/dense_block_1/units_2: 32</span>"
      ],
      "text/plain": [
       "<IPython.core.display.HTML object>"
      ]
     },
     "metadata": {},
     "output_type": "display_data"
    },
    {
     "data": {
      "text/html": [
       "<span style=\"color:cyan\"> |-structured_data_block_1/dense_block_1/use_batchnorm: False</span>"
      ],
      "text/plain": [
       "<IPython.core.display.HTML object>"
      ]
     },
     "metadata": {},
     "output_type": "display_data"
    },
    {
     "data": {
      "text/html": [
       "<span style=\"color:#4527A0\"><h1 style=\"font-size:18px\">Starting new trial</h1></span>"
      ],
      "text/plain": [
       "<IPython.core.display.HTML object>"
      ]
     },
     "metadata": {},
     "output_type": "display_data"
    },
    {
     "name": "stdout",
     "output_type": "stream",
     "text": [
      "Epoch 1/1000\n",
      "26/26 [==============================] - ETA: 0s - loss: 1.5911 - accuracy: 0.34 - ETA: 0s - loss: 1.6207 - accuracy: 0.29 - ETA: 0s - loss: 1.5405 - accuracy: 0.33 - ETA: 0s - loss: 1.5226 - accuracy: 0.34 - ETA: 0s - loss: 1.5115 - accuracy: 0.34 - 6s 212ms/step - loss: 1.4975 - accuracy: 0.3534 - val_loss: 1.4665 - val_accuracy: 0.3095\n",
      "Epoch 2/1000\n",
      "26/26 [==============================] - ETA: 0s - loss: 1.2543 - accuracy: 0.40 - ETA: 0s - loss: 1.2501 - accuracy: 0.44 - ETA: 0s - loss: 1.2733 - accuracy: 0.44 - ETA: 0s - loss: 1.2575 - accuracy: 0.45 - ETA: 0s - loss: 1.2632 - accuracy: 0.45 - 1s 40ms/step - loss: 1.2571 - accuracy: 0.4603 - val_loss: 1.3313 - val_accuracy: 0.3214\n",
      "Epoch 3/1000\n",
      "26/26 [==============================] - ETA: 0s - loss: 1.3248 - accuracy: 0.46 - ETA: 0s - loss: 1.2632 - accuracy: 0.45 - ETA: 0s - loss: 1.1758 - accuracy: 0.50 - ETA: 0s - loss: 1.1551 - accuracy: 0.50 - ETA: 0s - loss: 1.1465 - accuracy: 0.50 - 1s 36ms/step - loss: 1.1423 - accuracy: 0.5096 - val_loss: 1.2438 - val_accuracy: 0.4464\n",
      "Epoch 4/1000\n",
      "26/26 [==============================] - ETA: 0s - loss: 1.0090 - accuracy: 0.53 - ETA: 0s - loss: 1.1437 - accuracy: 0.46 - ETA: 0s - loss: 1.1430 - accuracy: 0.48 - ETA: 0s - loss: 1.1491 - accuracy: 0.49 - ETA: 0s - loss: 1.1423 - accuracy: 0.50 - 1s 46ms/step - loss: 1.1301 - accuracy: 0.5108 - val_loss: 1.2393 - val_accuracy: 0.4821\n",
      "Epoch 5/1000\n",
      "26/26 [==============================] - ETA: 0s - loss: 0.8936 - accuracy: 0.62 - ETA: 0s - loss: 1.1307 - accuracy: 0.53 - ETA: 0s - loss: 1.0853 - accuracy: 0.56 - ETA: 0s - loss: 1.0562 - accuracy: 0.57 - ETA: 0s - loss: 1.0542 - accuracy: 0.57 - 2s 58ms/step - loss: 1.0402 - accuracy: 0.5817 - val_loss: 1.1697 - val_accuracy: 0.4583\n",
      "Epoch 6/1000\n",
      "26/26 [==============================] - ETA: 0s - loss: 0.8097 - accuracy: 0.71 - ETA: 0s - loss: 1.0276 - accuracy: 0.56 - ETA: 0s - loss: 0.9991 - accuracy: 0.60 - ETA: 0s - loss: 1.0086 - accuracy: 0.59 - ETA: 0s - loss: 1.0138 - accuracy: 0.58 - 1s 42ms/step - loss: 0.9928 - accuracy: 0.5901 - val_loss: 1.1046 - val_accuracy: 0.5417\n",
      "Epoch 7/1000\n",
      "26/26 [==============================] - ETA: 0s - loss: 0.8409 - accuracy: 0.62 - ETA: 0s - loss: 0.9759 - accuracy: 0.59 - ETA: 0s - loss: 0.9237 - accuracy: 0.61 - ETA: 0s - loss: 0.9405 - accuracy: 0.61 - ETA: 0s - loss: 0.9482 - accuracy: 0.60 - 1s 42ms/step - loss: 0.9378 - accuracy: 0.6130 - val_loss: 1.0845 - val_accuracy: 0.5417\n",
      "Epoch 8/1000\n",
      "26/26 [==============================] - ETA: 0s - loss: 1.0492 - accuracy: 0.68 - ETA: 0s - loss: 0.9806 - accuracy: 0.61 - ETA: 0s - loss: 0.9346 - accuracy: 0.63 - ETA: 0s - loss: 0.9458 - accuracy: 0.63 - ETA: 0s - loss: 0.9548 - accuracy: 0.62 - 1s 42ms/step - loss: 0.9395 - accuracy: 0.6346 - val_loss: 1.0808 - val_accuracy: 0.5595\n",
      "Epoch 9/1000\n",
      "26/26 [==============================] - ETA: 0s - loss: 0.9264 - accuracy: 0.68 - ETA: 0s - loss: 0.9210 - accuracy: 0.65 - ETA: 0s - loss: 0.8741 - accuracy: 0.67 - ETA: 0s - loss: 0.8782 - accuracy: 0.65 - ETA: 0s - loss: 0.8809 - accuracy: 0.65 - 1s 45ms/step - loss: 0.8715 - accuracy: 0.6587 - val_loss: 1.0851 - val_accuracy: 0.5536\n",
      "Epoch 10/1000\n",
      "26/26 [==============================] - ETA: 0s - loss: 0.9360 - accuracy: 0.59 - ETA: 0s - loss: 1.0689 - accuracy: 0.58 - ETA: 0s - loss: 0.9250 - accuracy: 0.62 - ETA: 0s - loss: 0.9203 - accuracy: 0.62 - ETA: 0s - loss: 0.8983 - accuracy: 0.63 - 1s 51ms/step - loss: 0.8851 - accuracy: 0.6430 - val_loss: 1.0942 - val_accuracy: 0.5774\n",
      "Epoch 11/1000\n",
      "26/26 [==============================] - ETA: 0s - loss: 0.7532 - accuracy: 0.65 - ETA: 0s - loss: 0.8908 - accuracy: 0.67 - ETA: 0s - loss: 0.8226 - accuracy: 0.69 - ETA: 0s - loss: 0.8292 - accuracy: 0.68 - ETA: 0s - loss: 0.8466 - accuracy: 0.67 - 1s 48ms/step - loss: 0.8303 - accuracy: 0.6851 - val_loss: 1.0799 - val_accuracy: 0.5655\n",
      "Epoch 12/1000\n",
      "26/26 [==============================] - ETA: 0s - loss: 0.8004 - accuracy: 0.65 - ETA: 0s - loss: 0.8795 - accuracy: 0.66 - ETA: 0s - loss: 0.8140 - accuracy: 0.69 - ETA: 0s - loss: 0.8200 - accuracy: 0.66 - ETA: 0s - loss: 0.8084 - accuracy: 0.66 - 1s 49ms/step - loss: 0.7987 - accuracy: 0.6767 - val_loss: 1.1069 - val_accuracy: 0.5774\n",
      "Epoch 13/1000\n",
      "26/26 [==============================] - ETA: 0s - loss: 0.7936 - accuracy: 0.65 - ETA: 0s - loss: 0.8199 - accuracy: 0.67 - ETA: 0s - loss: 0.7424 - accuracy: 0.72 - ETA: 0s - loss: 0.7516 - accuracy: 0.70 - ETA: 0s - loss: 0.7628 - accuracy: 0.70 - 1s 44ms/step - loss: 0.7489 - accuracy: 0.7079 - val_loss: 1.0914 - val_accuracy: 0.5833\n",
      "Epoch 14/1000\n",
      "26/26 [==============================] - ETA: 0s - loss: 0.6775 - accuracy: 0.71 - ETA: 0s - loss: 0.8030 - accuracy: 0.69 - ETA: 0s - loss: 0.7802 - accuracy: 0.70 - ETA: 0s - loss: 0.7799 - accuracy: 0.69 - ETA: 0s - loss: 0.7746 - accuracy: 0.70 - 1s 51ms/step - loss: 0.7600 - accuracy: 0.7127 - val_loss: 1.1383 - val_accuracy: 0.5774\n",
      "Epoch 15/1000\n",
      "26/26 [==============================] - ETA: 0s - loss: 0.7162 - accuracy: 0.75 - ETA: 0s - loss: 0.8385 - accuracy: 0.66 - ETA: 0s - loss: 0.7912 - accuracy: 0.68 - ETA: 0s - loss: 0.7563 - accuracy: 0.71 - ETA: 0s - loss: 0.7451 - accuracy: 0.71 - 1s 44ms/step - loss: 0.7328 - accuracy: 0.7212 - val_loss: 1.0644 - val_accuracy: 0.5774\n",
      "Epoch 16/1000\n",
      "26/26 [==============================] - ETA: 0s - loss: 0.7802 - accuracy: 0.65 - ETA: 0s - loss: 0.8167 - accuracy: 0.66 - ETA: 0s - loss: 0.7286 - accuracy: 0.69 - ETA: 0s - loss: 0.7345 - accuracy: 0.68 - ETA: 0s - loss: 0.7317 - accuracy: 0.69 - 2s 70ms/step - loss: 0.7235 - accuracy: 0.6983 - val_loss: 1.1278 - val_accuracy: 0.5833\n",
      "Epoch 17/1000\n",
      "26/26 [==============================] - ETA: 0s - loss: 0.6257 - accuracy: 0.71 - ETA: 0s - loss: 0.8699 - accuracy: 0.67 - ETA: 0s - loss: 0.7419 - accuracy: 0.71 - ETA: 0s - loss: 0.7256 - accuracy: 0.71 - ETA: 0s - loss: 0.7070 - accuracy: 0.72 - 1s 49ms/step - loss: 0.6993 - accuracy: 0.7284 - val_loss: 1.1390 - val_accuracy: 0.5774\n",
      "Epoch 18/1000\n",
      "26/26 [==============================] - ETA: 0s - loss: 0.7482 - accuracy: 0.75 - ETA: 0s - loss: 0.7470 - accuracy: 0.75 - ETA: 0s - loss: 0.6765 - accuracy: 0.75 - ETA: 0s - loss: 0.6821 - accuracy: 0.74 - ETA: 0s - loss: 0.6698 - accuracy: 0.75 - 1s 47ms/step - loss: 0.6605 - accuracy: 0.7584 - val_loss: 1.1220 - val_accuracy: 0.5774\n",
      "Epoch 19/1000\n",
      "26/26 [==============================] - ETA: 0s - loss: 0.6800 - accuracy: 0.65 - ETA: 0s - loss: 0.6913 - accuracy: 0.71 - ETA: 0s - loss: 0.6464 - accuracy: 0.75 - ETA: 0s - loss: 0.6465 - accuracy: 0.76 - ETA: 0s - loss: 0.6415 - accuracy: 0.77 - 1s 47ms/step - loss: 0.6319 - accuracy: 0.7776 - val_loss: 1.1038 - val_accuracy: 0.6071\n",
      "Epoch 20/1000\n",
      "26/26 [==============================] - ETA: 0s - loss: 0.7163 - accuracy: 0.75 - ETA: 0s - loss: 0.6862 - accuracy: 0.72 - ETA: 0s - loss: 0.6299 - accuracy: 0.76 - ETA: 0s - loss: 0.6366 - accuracy: 0.75 - ETA: 0s - loss: 0.6356 - accuracy: 0.76 - 1s 50ms/step - loss: 0.6275 - accuracy: 0.7608 - val_loss: 1.1371 - val_accuracy: 0.5298\n",
      "Epoch 21/1000\n",
      "26/26 [==============================] - ETA: 0s - loss: 0.5725 - accuracy: 0.78 - ETA: 0s - loss: 0.6038 - accuracy: 0.78 - ETA: 0s - loss: 0.6120 - accuracy: 0.78 - ETA: 0s - loss: 0.6236 - accuracy: 0.77 - ETA: 0s - loss: 0.6244 - accuracy: 0.77 - 1s 47ms/step - loss: 0.6143 - accuracy: 0.7788 - val_loss: 1.1434 - val_accuracy: 0.5417\n",
      "Epoch 22/1000\n",
      "26/26 [==============================] - ETA: 0s - loss: 0.7057 - accuracy: 0.75 - ETA: 0s - loss: 0.6701 - accuracy: 0.78 - ETA: 0s - loss: 0.6114 - accuracy: 0.78 - ETA: 0s - loss: 0.6103 - accuracy: 0.76 - ETA: 0s - loss: 0.5980 - accuracy: 0.78 - 2s 61ms/step - loss: 0.5875 - accuracy: 0.7861 - val_loss: 1.1299 - val_accuracy: 0.5298\n",
      "Epoch 23/1000\n",
      "26/26 [==============================] - ETA: 0s - loss: 0.5819 - accuracy: 0.75 - ETA: 0s - loss: 0.6141 - accuracy: 0.77 - ETA: 0s - loss: 0.5631 - accuracy: 0.79 - ETA: 0s - loss: 0.5822 - accuracy: 0.78 - ETA: 0s - loss: 0.5929 - accuracy: 0.77 - 1s 43ms/step - loss: 0.5805 - accuracy: 0.7800 - val_loss: 1.1723 - val_accuracy: 0.5774\n",
      "Epoch 24/1000\n"
     ]
    },
    {
     "name": "stdout",
     "output_type": "stream",
     "text": [
      "26/26 [==============================] - ETA: 0s - loss: 0.6561 - accuracy: 0.75 - ETA: 0s - loss: 0.5989 - accuracy: 0.78 - ETA: 0s - loss: 0.5467 - accuracy: 0.80 - ETA: 0s - loss: 0.5454 - accuracy: 0.81 - ETA: 0s - loss: 0.5549 - accuracy: 0.80 - 1s 48ms/step - loss: 0.5456 - accuracy: 0.8089 - val_loss: 1.1597 - val_accuracy: 0.5714\n",
      "Epoch 25/1000\n",
      "26/26 [==============================] - ETA: 0s - loss: 0.5858 - accuracy: 0.75 - ETA: 0s - loss: 0.5611 - accuracy: 0.79 - ETA: 0s - loss: 0.5237 - accuracy: 0.81 - ETA: 0s - loss: 0.5367 - accuracy: 0.79 - ETA: 0s - loss: 0.5448 - accuracy: 0.80 - 1s 45ms/step - loss: 0.5351 - accuracy: 0.8053 - val_loss: 1.1279 - val_accuracy: 0.5536\n"
     ]
    },
    {
     "data": {
      "text/html": [
       "<span style=\"color:#4527A0\"><h1 style=\"font-size:18px\">Trial complete</h1></span>"
      ],
      "text/plain": [
       "<IPython.core.display.HTML object>"
      ]
     },
     "metadata": {},
     "output_type": "display_data"
    },
    {
     "data": {
      "text/html": [
       "<span style=\"color:#4527A0\"><h1 style=\"font-size:18px\">Trial summary</h1></span>"
      ],
      "text/plain": [
       "<IPython.core.display.HTML object>"
      ]
     },
     "metadata": {},
     "output_type": "display_data"
    },
    {
     "data": {
      "text/html": [
       "<span style=\"color:cyan\"> |-Trial ID: 1b0e9a4b959f9467b6869cb3ce047184</span>"
      ],
      "text/plain": [
       "<IPython.core.display.HTML object>"
      ]
     },
     "metadata": {},
     "output_type": "display_data"
    },
    {
     "data": {
      "text/html": [
       "<span style=\"color:cyan\"> |-Score: 0.6071428656578064</span>"
      ],
      "text/plain": [
       "<IPython.core.display.HTML object>"
      ]
     },
     "metadata": {},
     "output_type": "display_data"
    },
    {
     "data": {
      "text/html": [
       "<span style=\"color:cyan\"> |-Best step: 18</span>"
      ],
      "text/plain": [
       "<IPython.core.display.HTML object>"
      ]
     },
     "metadata": {},
     "output_type": "display_data"
    },
    {
     "data": {
      "text/html": [
       "<span style=\"color:#7E57C2\"><h2 style=\"font-size:16px\">Hyperparameters:</h2></span>"
      ],
      "text/plain": [
       "<IPython.core.display.HTML object>"
      ]
     },
     "metadata": {},
     "output_type": "display_data"
    },
    {
     "data": {
      "text/html": [
       "<span style=\"color:cyan\"> |-classification_head_1/dropout: 0.25</span>"
      ],
      "text/plain": [
       "<IPython.core.display.HTML object>"
      ]
     },
     "metadata": {},
     "output_type": "display_data"
    },
    {
     "data": {
      "text/html": [
       "<span style=\"color:blue\"> |-learning_rate: 0.001</span>"
      ],
      "text/plain": [
       "<IPython.core.display.HTML object>"
      ]
     },
     "metadata": {},
     "output_type": "display_data"
    },
    {
     "data": {
      "text/html": [
       "<span style=\"color:cyan\"> |-optimizer: adam</span>"
      ],
      "text/plain": [
       "<IPython.core.display.HTML object>"
      ]
     },
     "metadata": {},
     "output_type": "display_data"
    },
    {
     "data": {
      "text/html": [
       "<span style=\"color:blue\"> |-structured_data_block_1/dense_block_1/dropout: 0.25</span>"
      ],
      "text/plain": [
       "<IPython.core.display.HTML object>"
      ]
     },
     "metadata": {},
     "output_type": "display_data"
    },
    {
     "data": {
      "text/html": [
       "<span style=\"color:cyan\"> |-structured_data_block_1/dense_block_1/num_layers: 2</span>"
      ],
      "text/plain": [
       "<IPython.core.display.HTML object>"
      ]
     },
     "metadata": {},
     "output_type": "display_data"
    },
    {
     "data": {
      "text/html": [
       "<span style=\"color:blue\"> |-structured_data_block_1/dense_block_1/units_0: 256</span>"
      ],
      "text/plain": [
       "<IPython.core.display.HTML object>"
      ]
     },
     "metadata": {},
     "output_type": "display_data"
    },
    {
     "data": {
      "text/html": [
       "<span style=\"color:cyan\"> |-structured_data_block_1/dense_block_1/units_1: 32</span>"
      ],
      "text/plain": [
       "<IPython.core.display.HTML object>"
      ]
     },
     "metadata": {},
     "output_type": "display_data"
    },
    {
     "data": {
      "text/html": [
       "<span style=\"color:blue\"> |-structured_data_block_1/dense_block_1/units_2: 128</span>"
      ],
      "text/plain": [
       "<IPython.core.display.HTML object>"
      ]
     },
     "metadata": {},
     "output_type": "display_data"
    },
    {
     "data": {
      "text/html": [
       "<span style=\"color:cyan\"> |-structured_data_block_1/dense_block_1/use_batchnorm: True</span>"
      ],
      "text/plain": [
       "<IPython.core.display.HTML object>"
      ]
     },
     "metadata": {},
     "output_type": "display_data"
    },
    {
     "data": {
      "text/html": [
       "<span style=\"color:#4527A0\"><h1 style=\"font-size:18px\">Starting new trial</h1></span>"
      ],
      "text/plain": [
       "<IPython.core.display.HTML object>"
      ]
     },
     "metadata": {},
     "output_type": "display_data"
    },
    {
     "name": "stdout",
     "output_type": "stream",
     "text": [
      "Epoch 1/1000\n",
      "26/26 [==============================] - ETA: 0s - loss: 1002.0349 - accuracy: 0.250 - ETA: 0s - loss: 1653.4608 - accuracy: 0.236 - ETA: 0s - loss: 1272.9188 - accuracy: 0.240 - ETA: 0s - loss: 1077.6396 - accuracy: 0.258 - ETA: 0s - loss: 968.3492 - accuracy: 0.266 - 6s 229ms/step - loss: 950.7177 - accuracy: 0.2716 - val_loss: 348.3092 - val_accuracy: 0.4048\n",
      "Epoch 2/1000\n",
      "26/26 [==============================] - ETA: 0s - loss: 461.4546 - accuracy: 0.40 - ETA: 0s - loss: 413.2868 - accuracy: 0.40 - ETA: 0s - loss: 354.4339 - accuracy: 0.43 - ETA: 0s - loss: 343.3036 - accuracy: 0.44 - ETA: 0s - loss: 335.6820 - accuracy: 0.43 - 1s 40ms/step - loss: 334.8164 - accuracy: 0.4303 - val_loss: 182.5113 - val_accuracy: 0.4524\n",
      "Epoch 3/1000\n",
      "26/26 [==============================] - ETA: 0s - loss: 307.5869 - accuracy: 0.34 - ETA: 0s - loss: 207.7063 - accuracy: 0.40 - ETA: 0s - loss: 193.8531 - accuracy: 0.42 - ETA: 0s - loss: 186.7211 - accuracy: 0.44 - ETA: 0s - loss: 188.8819 - accuracy: 0.43 - 1s 47ms/step - loss: 187.0053 - accuracy: 0.4483 - val_loss: 113.4157 - val_accuracy: 0.4405\n",
      "Epoch 4/1000\n",
      "26/26 [==============================] - ETA: 0s - loss: 128.9033 - accuracy: 0.50 - ETA: 0s - loss: 139.3481 - accuracy: 0.45 - ETA: 0s - loss: 129.3228 - accuracy: 0.47 - ETA: 0s - loss: 128.9723 - accuracy: 0.48 - ETA: 0s - loss: 126.3663 - accuracy: 0.48 - 1s 52ms/step - loss: 124.8975 - accuracy: 0.4868 - val_loss: 144.1727 - val_accuracy: 0.4405\n",
      "Epoch 5/1000\n",
      "26/26 [==============================] - ETA: 0s - loss: 105.2470 - accuracy: 0.50 - ETA: 0s - loss: 101.6500 - accuracy: 0.51 - ETA: 0s - loss: 92.4787 - accuracy: 0.5216 - ETA: 0s - loss: 95.9413 - accuracy: 0.521 - ETA: 0s - loss: 91.4431 - accuracy: 0.527 - 2s 63ms/step - loss: 90.5434 - accuracy: 0.5337 - val_loss: 80.4150 - val_accuracy: 0.4643\n",
      "Epoch 6/1000\n",
      "26/26 [==============================] - ETA: 0s - loss: 67.2610 - accuracy: 0.593 - ETA: 0s - loss: 87.3906 - accuracy: 0.531 - ETA: 0s - loss: 77.4618 - accuracy: 0.552 - ETA: 0s - loss: 76.2648 - accuracy: 0.536 - ETA: 0s - loss: 77.3430 - accuracy: 0.532 - 1s 50ms/step - loss: 77.0738 - accuracy: 0.5361 - val_loss: 120.3521 - val_accuracy: 0.4762\n",
      "Epoch 7/1000\n",
      "26/26 [==============================] - ETA: 0s - loss: 49.7124 - accuracy: 0.718 - ETA: 0s - loss: 62.0922 - accuracy: 0.598 - ETA: 0s - loss: 50.9561 - accuracy: 0.625 - ETA: 0s - loss: 52.8332 - accuracy: 0.608 - ETA: 0s - loss: 57.3150 - accuracy: 0.590 - 1s 35ms/step - loss: 56.0713 - accuracy: 0.5998 - val_loss: 83.5826 - val_accuracy: 0.4702\n",
      "Epoch 8/1000\n",
      "26/26 [==============================] - ETA: 0s - loss: 38.1994 - accuracy: 0.687 - ETA: 0s - loss: 48.4783 - accuracy: 0.607 - ETA: 0s - loss: 46.6074 - accuracy: 0.603 - ETA: 0s - loss: 50.4860 - accuracy: 0.598 - ETA: 0s - loss: 46.0024 - accuracy: 0.603 - 1s 41ms/step - loss: 45.9185 - accuracy: 0.6058 - val_loss: 102.3704 - val_accuracy: 0.4643\n",
      "Epoch 9/1000\n",
      "26/26 [==============================] - ETA: 0s - loss: 35.1628 - accuracy: 0.562 - ETA: 0s - loss: 42.1167 - accuracy: 0.567 - ETA: 0s - loss: 42.9746 - accuracy: 0.586 - ETA: 0s - loss: 41.7934 - accuracy: 0.588 - ETA: 0s - loss: 41.6144 - accuracy: 0.587 - 1s 46ms/step - loss: 42.8778 - accuracy: 0.5841 - val_loss: 82.0740 - val_accuracy: 0.4405\n",
      "Epoch 10/1000\n",
      "26/26 [==============================] - ETA: 0s - loss: 62.9253 - accuracy: 0.656 - ETA: 0s - loss: 29.2795 - accuracy: 0.669 - ETA: 0s - loss: 29.1244 - accuracy: 0.673 - ETA: 0s - loss: 27.0194 - accuracy: 0.677 - ETA: 0s - loss: 30.2527 - accuracy: 0.672 - 1s 51ms/step - loss: 30.5264 - accuracy: 0.6707 - val_loss: 76.7872 - val_accuracy: 0.4643\n",
      "Epoch 11/1000\n",
      "26/26 [==============================] - ETA: 0s - loss: 33.5344 - accuracy: 0.562 - ETA: 0s - loss: 27.6314 - accuracy: 0.660 - ETA: 0s - loss: 35.9260 - accuracy: 0.687 - ETA: 0s - loss: 37.1136 - accuracy: 0.669 - ETA: 0s - loss: 36.7729 - accuracy: 0.651 - 1s 50ms/step - loss: 36.7790 - accuracy: 0.6514 - val_loss: 54.7563 - val_accuracy: 0.4464\n",
      "Epoch 12/1000\n",
      "26/26 [==============================] - ETA: 0s - loss: 24.0588 - accuracy: 0.625 - ETA: 0s - loss: 22.6913 - accuracy: 0.660 - ETA: 0s - loss: 22.3816 - accuracy: 0.692 - ETA: 0s - loss: 20.9475 - accuracy: 0.687 - ETA: 0s - loss: 20.4787 - accuracy: 0.695 - 1s 41ms/step - loss: 20.5299 - accuracy: 0.6995 - val_loss: 52.6559 - val_accuracy: 0.5000\n",
      "Epoch 13/1000\n",
      "26/26 [==============================] - ETA: 0s - loss: 16.0983 - accuracy: 0.656 - ETA: 0s - loss: 17.1333 - accuracy: 0.683 - ETA: 0s - loss: 15.5622 - accuracy: 0.707 - ETA: 0s - loss: 16.5310 - accuracy: 0.707 - ETA: 0s - loss: 16.1404 - accuracy: 0.711 - 1s 35ms/step - loss: 16.1404 - accuracy: 0.7115 - val_loss: 69.8016 - val_accuracy: 0.4702\n",
      "Epoch 14/1000\n",
      "26/26 [==============================] - ETA: 0s - loss: 15.3936 - accuracy: 0.750 - ETA: 0s - loss: 16.5168 - accuracy: 0.705 - ETA: 0s - loss: 14.1794 - accuracy: 0.729 - ETA: 0s - loss: 14.4387 - accuracy: 0.724 - ETA: 0s - loss: 19.9595 - accuracy: 0.699 - 1s 36ms/step - loss: 19.8352 - accuracy: 0.7007 - val_loss: 53.5313 - val_accuracy: 0.4583\n",
      "Epoch 15/1000\n",
      "26/26 [==============================] - ETA: 0s - loss: 6.8278 - accuracy: 0.78 - ETA: 0s - loss: 19.0398 - accuracy: 0.692 - ETA: 0s - loss: 17.0172 - accuracy: 0.687 - ETA: 0s - loss: 19.4676 - accuracy: 0.674 - ETA: 0s - loss: 19.5847 - accuracy: 0.668 - 1s 41ms/step - loss: 19.5842 - accuracy: 0.6731 - val_loss: 56.7225 - val_accuracy: 0.4405\n",
      "Epoch 16/1000\n",
      "26/26 [==============================] - ETA: 0s - loss: 14.3765 - accuracy: 0.812 - ETA: 0s - loss: 14.2155 - accuracy: 0.692 - ETA: 0s - loss: 12.4297 - accuracy: 0.723 - ETA: 0s - loss: 12.4465 - accuracy: 0.700 - ETA: 0s - loss: 12.4065 - accuracy: 0.698 - 1s 48ms/step - loss: 12.8401 - accuracy: 0.7007 - val_loss: 51.3894 - val_accuracy: 0.4524\n",
      "Epoch 17/1000\n",
      "26/26 [==============================] - ETA: 0s - loss: 15.0753 - accuracy: 0.625 - ETA: 0s - loss: 11.6022 - accuracy: 0.696 - ETA: 0s - loss: 12.1782 - accuracy: 0.706 - ETA: 0s - loss: 12.1844 - accuracy: 0.710 - ETA: 0s - loss: 11.2230 - accuracy: 0.728 - 1s 47ms/step - loss: 10.9111 - accuracy: 0.7356 - val_loss: 53.7379 - val_accuracy: 0.4643\n",
      "Epoch 18/1000\n",
      "26/26 [==============================] - ETA: 0s - loss: 6.3906 - accuracy: 0.75 - ETA: 0s - loss: 7.0438 - accuracy: 0.72 - ETA: 0s - loss: 6.5679 - accuracy: 0.76 - ETA: 0s - loss: 6.6965 - accuracy: 0.76 - ETA: 0s - loss: 7.9996 - accuracy: 0.75 - 1s 44ms/step - loss: 8.1517 - accuracy: 0.7584 - val_loss: 83.7816 - val_accuracy: 0.4345\n",
      "Epoch 19/1000\n",
      "26/26 [==============================] - ETA: 0s - loss: 20.5267 - accuracy: 0.656 - ETA: 0s - loss: 11.5561 - accuracy: 0.718 - ETA: 0s - loss: 10.5716 - accuracy: 0.733 - ETA: 0s - loss: 9.7776 - accuracy: 0.746 - ETA: 0s - loss: 10.8293 - accuracy: 0.737 - 1s 43ms/step - loss: 10.8980 - accuracy: 0.7380 - val_loss: 86.5523 - val_accuracy: 0.4226\n",
      "Epoch 20/1000\n",
      "26/26 [==============================] - ETA: 0s - loss: 5.6343 - accuracy: 0.81 - ETA: 0s - loss: 9.2685 - accuracy: 0.73 - ETA: 0s - loss: 8.3116 - accuracy: 0.74 - ETA: 0s - loss: 7.3743 - accuracy: 0.75 - ETA: 0s - loss: 6.5362 - accuracy: 0.77 - 1s 39ms/step - loss: 6.5658 - accuracy: 0.7740 - val_loss: 79.5445 - val_accuracy: 0.4821\n",
      "Epoch 21/1000\n",
      "26/26 [==============================] - ETA: 0s - loss: 7.3307 - accuracy: 0.78 - ETA: 0s - loss: 6.0312 - accuracy: 0.79 - ETA: 0s - loss: 5.8647 - accuracy: 0.78 - ETA: 0s - loss: 6.6161 - accuracy: 0.78 - ETA: 0s - loss: 6.4756 - accuracy: 0.77 - 1s 41ms/step - loss: 6.3111 - accuracy: 0.7788 - val_loss: 76.4426 - val_accuracy: 0.4702\n",
      "Epoch 22/1000\n",
      "26/26 [==============================] - ETA: 0s - loss: 9.0873 - accuracy: 0.78 - ETA: 0s - loss: 4.9073 - accuracy: 0.82 - ETA: 0s - loss: 5.6693 - accuracy: 0.81 - ETA: 0s - loss: 6.2060 - accuracy: 0.79 - ETA: 0s - loss: 6.4646 - accuracy: 0.78 - 1s 45ms/step - loss: 6.3930 - accuracy: 0.7909 - val_loss: 81.6283 - val_accuracy: 0.4762\n",
      "Epoch 23/1000\n"
     ]
    },
    {
     "name": "stdout",
     "output_type": "stream",
     "text": [
      "26/26 [==============================] - ETA: 0s - loss: 2.2210 - accuracy: 0.84 - ETA: 0s - loss: 7.0469 - accuracy: 0.76 - ETA: 0s - loss: 5.4824 - accuracy: 0.79 - ETA: 0s - loss: 6.0884 - accuracy: 0.78 - ETA: 0s - loss: 6.2544 - accuracy: 0.77 - 1s 44ms/step - loss: 6.3749 - accuracy: 0.7812 - val_loss: 71.3380 - val_accuracy: 0.4762\n",
      "Epoch 24/1000\n",
      "26/26 [==============================] - ETA: 0s - loss: 4.3533 - accuracy: 0.81 - ETA: 0s - loss: 5.0139 - accuracy: 0.84 - ETA: 0s - loss: 4.6130 - accuracy: 0.83 - ETA: 0s - loss: 4.9677 - accuracy: 0.81 - ETA: 0s - loss: 5.3153 - accuracy: 0.81 - 1s 41ms/step - loss: 5.1927 - accuracy: 0.8125 - val_loss: 67.6562 - val_accuracy: 0.5060\n",
      "Epoch 25/1000\n",
      "26/26 [==============================] - ETA: 0s - loss: 12.1311 - accuracy: 0.750 - ETA: 0s - loss: 8.0960 - accuracy: 0.758 - ETA: 0s - loss: 7.7838 - accuracy: 0.77 - ETA: 0s - loss: 6.9284 - accuracy: 0.78 - ETA: 0s - loss: 7.0592 - accuracy: 0.78 - 1s 40ms/step - loss: 7.0194 - accuracy: 0.7861 - val_loss: 70.8576 - val_accuracy: 0.4464\n",
      "Epoch 26/1000\n",
      "26/26 [==============================] - ETA: 0s - loss: 3.9113 - accuracy: 0.75 - ETA: 0s - loss: 4.8054 - accuracy: 0.79 - ETA: 0s - loss: 4.4707 - accuracy: 0.78 - ETA: 0s - loss: 3.7593 - accuracy: 0.80 - ETA: 0s - loss: 3.5810 - accuracy: 0.81 - 1s 37ms/step - loss: 3.6105 - accuracy: 0.8113 - val_loss: 63.6261 - val_accuracy: 0.4583\n"
     ]
    },
    {
     "data": {
      "text/html": [
       "<span style=\"color:#4527A0\"><h1 style=\"font-size:18px\">Trial complete</h1></span>"
      ],
      "text/plain": [
       "<IPython.core.display.HTML object>"
      ]
     },
     "metadata": {},
     "output_type": "display_data"
    },
    {
     "data": {
      "text/html": [
       "<span style=\"color:#4527A0\"><h1 style=\"font-size:18px\">Trial summary</h1></span>"
      ],
      "text/plain": [
       "<IPython.core.display.HTML object>"
      ]
     },
     "metadata": {},
     "output_type": "display_data"
    },
    {
     "data": {
      "text/html": [
       "<span style=\"color:cyan\"> |-Trial ID: fa32bb6c4659827f60bbdb22d975188c</span>"
      ],
      "text/plain": [
       "<IPython.core.display.HTML object>"
      ]
     },
     "metadata": {},
     "output_type": "display_data"
    },
    {
     "data": {
      "text/html": [
       "<span style=\"color:cyan\"> |-Score: 0.5059523582458496</span>"
      ],
      "text/plain": [
       "<IPython.core.display.HTML object>"
      ]
     },
     "metadata": {},
     "output_type": "display_data"
    },
    {
     "data": {
      "text/html": [
       "<span style=\"color:cyan\"> |-Best step: 23</span>"
      ],
      "text/plain": [
       "<IPython.core.display.HTML object>"
      ]
     },
     "metadata": {},
     "output_type": "display_data"
    },
    {
     "data": {
      "text/html": [
       "<span style=\"color:#7E57C2\"><h2 style=\"font-size:16px\">Hyperparameters:</h2></span>"
      ],
      "text/plain": [
       "<IPython.core.display.HTML object>"
      ]
     },
     "metadata": {},
     "output_type": "display_data"
    },
    {
     "data": {
      "text/html": [
       "<span style=\"color:cyan\"> |-classification_head_1/dropout: 0.25</span>"
      ],
      "text/plain": [
       "<IPython.core.display.HTML object>"
      ]
     },
     "metadata": {},
     "output_type": "display_data"
    },
    {
     "data": {
      "text/html": [
       "<span style=\"color:blue\"> |-learning_rate: 0.001</span>"
      ],
      "text/plain": [
       "<IPython.core.display.HTML object>"
      ]
     },
     "metadata": {},
     "output_type": "display_data"
    },
    {
     "data": {
      "text/html": [
       "<span style=\"color:cyan\"> |-optimizer: adam</span>"
      ],
      "text/plain": [
       "<IPython.core.display.HTML object>"
      ]
     },
     "metadata": {},
     "output_type": "display_data"
    },
    {
     "data": {
      "text/html": [
       "<span style=\"color:blue\"> |-structured_data_block_1/dense_block_1/dropout: 0.0</span>"
      ],
      "text/plain": [
       "<IPython.core.display.HTML object>"
      ]
     },
     "metadata": {},
     "output_type": "display_data"
    },
    {
     "data": {
      "text/html": [
       "<span style=\"color:cyan\"> |-structured_data_block_1/dense_block_1/num_layers: 2</span>"
      ],
      "text/plain": [
       "<IPython.core.display.HTML object>"
      ]
     },
     "metadata": {},
     "output_type": "display_data"
    },
    {
     "data": {
      "text/html": [
       "<span style=\"color:blue\"> |-structured_data_block_1/dense_block_1/units_0: 128</span>"
      ],
      "text/plain": [
       "<IPython.core.display.HTML object>"
      ]
     },
     "metadata": {},
     "output_type": "display_data"
    },
    {
     "data": {
      "text/html": [
       "<span style=\"color:cyan\"> |-structured_data_block_1/dense_block_1/units_1: 256</span>"
      ],
      "text/plain": [
       "<IPython.core.display.HTML object>"
      ]
     },
     "metadata": {},
     "output_type": "display_data"
    },
    {
     "data": {
      "text/html": [
       "<span style=\"color:blue\"> |-structured_data_block_1/dense_block_1/units_2: 256</span>"
      ],
      "text/plain": [
       "<IPython.core.display.HTML object>"
      ]
     },
     "metadata": {},
     "output_type": "display_data"
    },
    {
     "data": {
      "text/html": [
       "<span style=\"color:cyan\"> |-structured_data_block_1/dense_block_1/use_batchnorm: False</span>"
      ],
      "text/plain": [
       "<IPython.core.display.HTML object>"
      ]
     },
     "metadata": {},
     "output_type": "display_data"
    },
    {
     "data": {
      "text/html": [
       "<span style=\"color:#4527A0\"><h1 style=\"font-size:18px\">Starting new trial</h1></span>"
      ],
      "text/plain": [
       "<IPython.core.display.HTML object>"
      ]
     },
     "metadata": {},
     "output_type": "display_data"
    },
    {
     "name": "stdout",
     "output_type": "stream",
     "text": [
      "Epoch 1/1000\n",
      "26/26 [==============================] - ETA: 0s - loss: 1.9516 - accuracy: 0.18 - ETA: 0s - loss: 1.7267 - accuracy: 0.31 - ETA: 0s - loss: 1.7127 - accuracy: 0.31 - ETA: 0s - loss: 1.7860 - accuracy: 0.32 - ETA: 0s - loss: 1.7922 - accuracy: 0.33 - ETA: 0s - loss: 1.7242 - accuracy: 0.34 - ETA: 0s - loss: 1.6994 - accuracy: 0.35 - 6s 218ms/step - loss: 1.6836 - accuracy: 0.3618 - val_loss: 2.0040 - val_accuracy: 0.2976\n",
      "Epoch 2/1000\n",
      "26/26 [==============================] - ETA: 0s - loss: 1.5641 - accuracy: 0.46 - ETA: 0s - loss: 1.4694 - accuracy: 0.46 - ETA: 0s - loss: 1.4335 - accuracy: 0.43 - ETA: 0s - loss: 1.4330 - accuracy: 0.43 - ETA: 0s - loss: 1.4210 - accuracy: 0.42 - ETA: 0s - loss: 1.4399 - accuracy: 0.42 - 1s 44ms/step - loss: 1.4199 - accuracy: 0.4351 - val_loss: 1.4607 - val_accuracy: 0.3810\n",
      "Epoch 3/1000\n",
      "26/26 [==============================] - ETA: 0s - loss: 1.1696 - accuracy: 0.53 - ETA: 0s - loss: 1.2632 - accuracy: 0.47 - ETA: 0s - loss: 1.2752 - accuracy: 0.44 - ETA: 0s - loss: 1.2922 - accuracy: 0.44 - ETA: 0s - loss: 1.2912 - accuracy: 0.44 - ETA: 0s - loss: 1.2897 - accuracy: 0.45 - ETA: 0s - loss: 1.2936 - accuracy: 0.45 - 1s 52ms/step - loss: 1.2740 - accuracy: 0.4675 - val_loss: 1.2371 - val_accuracy: 0.4524\n",
      "Epoch 4/1000\n",
      "26/26 [==============================] - ETA: 0s - loss: 0.7800 - accuracy: 0.62 - ETA: 0s - loss: 1.1698 - accuracy: 0.55 - ETA: 0s - loss: 1.1250 - accuracy: 0.57 - ETA: 0s - loss: 1.1539 - accuracy: 0.56 - ETA: 0s - loss: 1.1707 - accuracy: 0.55 - ETA: 0s - loss: 1.1760 - accuracy: 0.54 - ETA: 0s - loss: 1.1769 - accuracy: 0.53 - 2s 65ms/step - loss: 1.1640 - accuracy: 0.5421 - val_loss: 1.1276 - val_accuracy: 0.4821\n",
      "Epoch 5/1000\n",
      "26/26 [==============================] - ETA: 0s - loss: 1.0184 - accuracy: 0.59 - ETA: 0s - loss: 1.3510 - accuracy: 0.51 - ETA: 0s - loss: 1.2574 - accuracy: 0.54 - ETA: 0s - loss: 1.2348 - accuracy: 0.53 - ETA: 0s - loss: 1.2197 - accuracy: 0.51 - ETA: 0s - loss: 1.2294 - accuracy: 0.51 - ETA: 0s - loss: 1.2104 - accuracy: 0.51 - 1s 48ms/step - loss: 1.2104 - accuracy: 0.5144 - val_loss: 1.0919 - val_accuracy: 0.5238\n",
      "Epoch 6/1000\n",
      "26/26 [==============================] - ETA: 0s - loss: 1.0739 - accuracy: 0.56 - ETA: 0s - loss: 1.1917 - accuracy: 0.52 - ETA: 0s - loss: 1.0461 - accuracy: 0.59 - ETA: 0s - loss: 1.0878 - accuracy: 0.57 - ETA: 0s - loss: 1.0897 - accuracy: 0.57 - ETA: 0s - loss: 1.0960 - accuracy: 0.54 - ETA: 0s - loss: 1.1222 - accuracy: 0.54 - 1s 45ms/step - loss: 1.1048 - accuracy: 0.5541 - val_loss: 1.0800 - val_accuracy: 0.5000\n",
      "Epoch 7/1000\n",
      "26/26 [==============================] - ETA: 0s - loss: 1.0754 - accuracy: 0.56 - ETA: 0s - loss: 1.2449 - accuracy: 0.51 - ETA: 0s - loss: 1.0750 - accuracy: 0.56 - ETA: 0s - loss: 1.0711 - accuracy: 0.56 - ETA: 0s - loss: 1.0792 - accuracy: 0.56 - ETA: 0s - loss: 1.0613 - accuracy: 0.56 - ETA: 0s - loss: 1.0582 - accuracy: 0.56 - 1s 52ms/step - loss: 1.0467 - accuracy: 0.5721 - val_loss: 1.1247 - val_accuracy: 0.5357\n",
      "Epoch 8/1000\n",
      "26/26 [==============================] - ETA: 0s - loss: 1.1637 - accuracy: 0.56 - ETA: 0s - loss: 0.9897 - accuracy: 0.58 - ETA: 0s - loss: 0.9499 - accuracy: 0.59 - ETA: 0s - loss: 0.9740 - accuracy: 0.60 - ETA: 0s - loss: 1.0079 - accuracy: 0.59 - ETA: 0s - loss: 1.0011 - accuracy: 0.58 - ETA: 0s - loss: 1.0075 - accuracy: 0.58 - 1s 52ms/step - loss: 0.9942 - accuracy: 0.5901 - val_loss: 1.1284 - val_accuracy: 0.5357\n",
      "Epoch 9/1000\n",
      "26/26 [==============================] - ETA: 0s - loss: 0.6839 - accuracy: 0.75 - ETA: 0s - loss: 1.1137 - accuracy: 0.58 - ETA: 0s - loss: 1.0032 - accuracy: 0.59 - ETA: 0s - loss: 1.0078 - accuracy: 0.60 - ETA: 0s - loss: 0.9652 - accuracy: 0.61 - ETA: 0s - loss: 0.9608 - accuracy: 0.60 - ETA: 0s - loss: 0.9548 - accuracy: 0.61 - 1s 48ms/step - loss: 0.9367 - accuracy: 0.6238 - val_loss: 1.0652 - val_accuracy: 0.5536\n",
      "Epoch 10/1000\n",
      "26/26 [==============================] - ETA: 0s - loss: 1.0385 - accuracy: 0.68 - ETA: 0s - loss: 1.0330 - accuracy: 0.60 - ETA: 0s - loss: 0.9268 - accuracy: 0.65 - ETA: 0s - loss: 0.9371 - accuracy: 0.65 - ETA: 0s - loss: 0.9222 - accuracy: 0.65 - ETA: 0s - loss: 0.9120 - accuracy: 0.64 - ETA: 0s - loss: 0.9298 - accuracy: 0.63 - 2s 61ms/step - loss: 0.9167 - accuracy: 0.6358 - val_loss: 1.1074 - val_accuracy: 0.5655\n",
      "Epoch 11/1000\n",
      "26/26 [==============================] - ETA: 0s - loss: 0.8362 - accuracy: 0.59 - ETA: 0s - loss: 0.9066 - accuracy: 0.61 - ETA: 0s - loss: 0.8850 - accuracy: 0.63 - ETA: 0s - loss: 0.9114 - accuracy: 0.64 - ETA: 0s - loss: 0.8883 - accuracy: 0.62 - ETA: 0s - loss: 0.8848 - accuracy: 0.63 - ETA: 0s - loss: 0.8643 - accuracy: 0.63 - 1s 50ms/step - loss: 0.8643 - accuracy: 0.6382 - val_loss: 1.1283 - val_accuracy: 0.5833\n",
      "Epoch 12/1000\n",
      "26/26 [==============================] - ETA: 0s - loss: 0.8077 - accuracy: 0.62 - ETA: 0s - loss: 0.8916 - accuracy: 0.62 - ETA: 0s - loss: 0.8379 - accuracy: 0.67 - ETA: 0s - loss: 0.8691 - accuracy: 0.65 - ETA: 0s - loss: 0.8854 - accuracy: 0.65 - ETA: 0s - loss: 0.8756 - accuracy: 0.65 - ETA: 0s - loss: 0.8641 - accuracy: 0.65 - 1s 54ms/step - loss: 0.8499 - accuracy: 0.6635 - val_loss: 1.0741 - val_accuracy: 0.5893\n",
      "Epoch 13/1000\n",
      "26/26 [==============================] - ETA: 0s - loss: 0.7682 - accuracy: 0.62 - ETA: 0s - loss: 0.8234 - accuracy: 0.62 - ETA: 0s - loss: 0.8374 - accuracy: 0.66 - ETA: 0s - loss: 0.7894 - accuracy: 0.68 - ETA: 0s - loss: 0.8031 - accuracy: 0.67 - ETA: 0s - loss: 0.8088 - accuracy: 0.66 - 1s 46ms/step - loss: 0.8004 - accuracy: 0.6767 - val_loss: 1.0835 - val_accuracy: 0.5655\n",
      "Epoch 14/1000\n",
      "26/26 [==============================] - ETA: 0s - loss: 0.7396 - accuracy: 0.78 - ETA: 0s - loss: 0.7901 - accuracy: 0.70 - ETA: 0s - loss: 0.7397 - accuracy: 0.70 - ETA: 0s - loss: 0.7365 - accuracy: 0.70 - ETA: 0s - loss: 0.7615 - accuracy: 0.68 - ETA: 0s - loss: 0.7828 - accuracy: 0.68 - ETA: 0s - loss: 0.7838 - accuracy: 0.67 - 1s 43ms/step - loss: 0.7701 - accuracy: 0.6827 - val_loss: 1.0646 - val_accuracy: 0.5714\n",
      "Epoch 15/1000\n",
      "26/26 [==============================] - ETA: 0s - loss: 0.9018 - accuracy: 0.65 - ETA: 0s - loss: 0.8488 - accuracy: 0.68 - ETA: 0s - loss: 0.7999 - accuracy: 0.69 - ETA: 0s - loss: 0.8170 - accuracy: 0.68 - ETA: 0s - loss: 0.8297 - accuracy: 0.69 - ETA: 0s - loss: 0.8155 - accuracy: 0.69 - ETA: 0s - loss: 0.8139 - accuracy: 0.69 - 1s 45ms/step - loss: 0.7986 - accuracy: 0.6971 - val_loss: 1.1317 - val_accuracy: 0.5536\n",
      "Epoch 16/1000\n",
      "26/26 [==============================] - ETA: 0s - loss: 0.7689 - accuracy: 0.71 - ETA: 0s - loss: 0.8384 - accuracy: 0.65 - ETA: 0s - loss: 0.7614 - accuracy: 0.69 - ETA: 0s - loss: 0.7463 - accuracy: 0.70 - ETA: 0s - loss: 0.7464 - accuracy: 0.70 - ETA: 0s - loss: 0.7547 - accuracy: 0.69 - ETA: 0s - loss: 0.7395 - accuracy: 0.70 - 2s 59ms/step - loss: 0.7246 - accuracy: 0.7091 - val_loss: 1.1580 - val_accuracy: 0.5179\n",
      "Epoch 17/1000\n",
      "26/26 [==============================] - ETA: 0s - loss: 0.7975 - accuracy: 0.68 - ETA: 0s - loss: 0.7701 - accuracy: 0.70 - ETA: 0s - loss: 0.7081 - accuracy: 0.73 - ETA: 0s - loss: 0.7370 - accuracy: 0.71 - ETA: 0s - loss: 0.7512 - accuracy: 0.70 - ETA: 0s - loss: 0.7200 - accuracy: 0.71 - ETA: 0s - loss: 0.7335 - accuracy: 0.70 - 1s 41ms/step - loss: 0.7236 - accuracy: 0.7055 - val_loss: 1.1165 - val_accuracy: 0.5476\n",
      "Epoch 18/1000\n",
      "26/26 [==============================] - ETA: 0s - loss: 1.0367 - accuracy: 0.56 - ETA: 0s - loss: 0.8459 - accuracy: 0.64 - ETA: 0s - loss: 0.7294 - accuracy: 0.69 - ETA: 0s - loss: 0.7417 - accuracy: 0.68 - ETA: 0s - loss: 0.7453 - accuracy: 0.69 - ETA: 0s - loss: 0.7508 - accuracy: 0.69 - ETA: 0s - loss: 0.7466 - accuracy: 0.69 - 1s 51ms/step - loss: 0.7312 - accuracy: 0.7007 - val_loss: 1.1640 - val_accuracy: 0.5060\n",
      "Epoch 19/1000\n",
      "26/26 [==============================] - ETA: 0s - loss: 0.6776 - accuracy: 0.75 - ETA: 0s - loss: 0.7059 - accuracy: 0.75 - ETA: 0s - loss: 0.6676 - accuracy: 0.76 - ETA: 0s - loss: 0.6363 - accuracy: 0.78 - ETA: 0s - loss: 0.6624 - accuracy: 0.77 - ETA: 0s - loss: 0.6700 - accuracy: 0.75 - ETA: 0s - loss: 0.6758 - accuracy: 0.74 - 1s 47ms/step - loss: 0.6672 - accuracy: 0.7416 - val_loss: 1.1244 - val_accuracy: 0.5655\n"
     ]
    },
    {
     "name": "stdout",
     "output_type": "stream",
     "text": [
      "Epoch 20/1000\n",
      "26/26 [==============================] - ETA: 0s - loss: 0.5243 - accuracy: 0.78 - ETA: 0s - loss: 0.6762 - accuracy: 0.73 - ETA: 0s - loss: 0.6042 - accuracy: 0.76 - ETA: 0s - loss: 0.6134 - accuracy: 0.76 - ETA: 0s - loss: 0.6236 - accuracy: 0.76 - ETA: 0s - loss: 0.6236 - accuracy: 0.76 - ETA: 0s - loss: 0.6377 - accuracy: 0.75 - 1s 45ms/step - loss: 0.6251 - accuracy: 0.7620 - val_loss: 1.1681 - val_accuracy: 0.5238\n",
      "Epoch 21/1000\n",
      "26/26 [==============================] - ETA: 0s - loss: 0.7558 - accuracy: 0.59 - ETA: 0s - loss: 0.5848 - accuracy: 0.78 - ETA: 0s - loss: 0.6013 - accuracy: 0.78 - ETA: 0s - loss: 0.5863 - accuracy: 0.78 - ETA: 0s - loss: 0.5885 - accuracy: 0.78 - ETA: 0s - loss: 0.5968 - accuracy: 0.77 - ETA: 0s - loss: 0.6075 - accuracy: 0.75 - 1s 44ms/step - loss: 0.5949 - accuracy: 0.7620 - val_loss: 1.1704 - val_accuracy: 0.5119\n",
      "Epoch 22/1000\n",
      "26/26 [==============================] - ETA: 0s - loss: 0.4385 - accuracy: 0.81 - ETA: 0s - loss: 0.6297 - accuracy: 0.76 - ETA: 0s - loss: 0.6151 - accuracy: 0.77 - ETA: 0s - loss: 0.6013 - accuracy: 0.76 - ETA: 0s - loss: 0.5872 - accuracy: 0.76 - ETA: 0s - loss: 0.6066 - accuracy: 0.75 - ETA: 0s - loss: 0.5829 - accuracy: 0.76 - 1s 55ms/step - loss: 0.5772 - accuracy: 0.7716 - val_loss: 1.1917 - val_accuracy: 0.5238\n",
      "Epoch 23/1000\n",
      "26/26 [==============================] - ETA: 0s - loss: 0.5821 - accuracy: 0.78 - ETA: 0s - loss: 0.6606 - accuracy: 0.76 - ETA: 0s - loss: 0.5928 - accuracy: 0.78 - ETA: 0s - loss: 0.5997 - accuracy: 0.78 - ETA: 0s - loss: 0.6068 - accuracy: 0.77 - ETA: 0s - loss: 0.6023 - accuracy: 0.76 - 1s 48ms/step - loss: 0.5891 - accuracy: 0.7704 - val_loss: 1.1945 - val_accuracy: 0.5357\n",
      "Epoch 24/1000\n",
      "26/26 [==============================] - ETA: 0s - loss: 0.6829 - accuracy: 0.62 - ETA: 0s - loss: 0.6223 - accuracy: 0.74 - ETA: 0s - loss: 0.6058 - accuracy: 0.76 - ETA: 0s - loss: 0.5987 - accuracy: 0.76 - ETA: 0s - loss: 0.6034 - accuracy: 0.76 - ETA: 0s - loss: 0.5960 - accuracy: 0.76 - ETA: 0s - loss: 0.5842 - accuracy: 0.76 - 1s 47ms/step - loss: 0.5797 - accuracy: 0.7680 - val_loss: 1.2048 - val_accuracy: 0.5298\n"
     ]
    },
    {
     "data": {
      "text/html": [
       "<span style=\"color:#4527A0\"><h1 style=\"font-size:18px\">Trial complete</h1></span>"
      ],
      "text/plain": [
       "<IPython.core.display.HTML object>"
      ]
     },
     "metadata": {},
     "output_type": "display_data"
    },
    {
     "data": {
      "text/html": [
       "<span style=\"color:#4527A0\"><h1 style=\"font-size:18px\">Trial summary</h1></span>"
      ],
      "text/plain": [
       "<IPython.core.display.HTML object>"
      ]
     },
     "metadata": {},
     "output_type": "display_data"
    },
    {
     "data": {
      "text/html": [
       "<span style=\"color:cyan\"> |-Trial ID: e912862369672faa1f8e116045a69943</span>"
      ],
      "text/plain": [
       "<IPython.core.display.HTML object>"
      ]
     },
     "metadata": {},
     "output_type": "display_data"
    },
    {
     "data": {
      "text/html": [
       "<span style=\"color:cyan\"> |-Score: 0.5892857313156128</span>"
      ],
      "text/plain": [
       "<IPython.core.display.HTML object>"
      ]
     },
     "metadata": {},
     "output_type": "display_data"
    },
    {
     "data": {
      "text/html": [
       "<span style=\"color:cyan\"> |-Best step: 11</span>"
      ],
      "text/plain": [
       "<IPython.core.display.HTML object>"
      ]
     },
     "metadata": {},
     "output_type": "display_data"
    },
    {
     "data": {
      "text/html": [
       "<span style=\"color:#7E57C2\"><h2 style=\"font-size:16px\">Hyperparameters:</h2></span>"
      ],
      "text/plain": [
       "<IPython.core.display.HTML object>"
      ]
     },
     "metadata": {},
     "output_type": "display_data"
    },
    {
     "data": {
      "text/html": [
       "<span style=\"color:cyan\"> |-classification_head_1/dropout: 0.25</span>"
      ],
      "text/plain": [
       "<IPython.core.display.HTML object>"
      ]
     },
     "metadata": {},
     "output_type": "display_data"
    },
    {
     "data": {
      "text/html": [
       "<span style=\"color:blue\"> |-learning_rate: 0.001</span>"
      ],
      "text/plain": [
       "<IPython.core.display.HTML object>"
      ]
     },
     "metadata": {},
     "output_type": "display_data"
    },
    {
     "data": {
      "text/html": [
       "<span style=\"color:cyan\"> |-optimizer: adam</span>"
      ],
      "text/plain": [
       "<IPython.core.display.HTML object>"
      ]
     },
     "metadata": {},
     "output_type": "display_data"
    },
    {
     "data": {
      "text/html": [
       "<span style=\"color:blue\"> |-structured_data_block_1/dense_block_1/dropout: 0.5</span>"
      ],
      "text/plain": [
       "<IPython.core.display.HTML object>"
      ]
     },
     "metadata": {},
     "output_type": "display_data"
    },
    {
     "data": {
      "text/html": [
       "<span style=\"color:cyan\"> |-structured_data_block_1/dense_block_1/num_layers: 2</span>"
      ],
      "text/plain": [
       "<IPython.core.display.HTML object>"
      ]
     },
     "metadata": {},
     "output_type": "display_data"
    },
    {
     "data": {
      "text/html": [
       "<span style=\"color:blue\"> |-structured_data_block_1/dense_block_1/units_0: 512</span>"
      ],
      "text/plain": [
       "<IPython.core.display.HTML object>"
      ]
     },
     "metadata": {},
     "output_type": "display_data"
    },
    {
     "data": {
      "text/html": [
       "<span style=\"color:cyan\"> |-structured_data_block_1/dense_block_1/units_1: 512</span>"
      ],
      "text/plain": [
       "<IPython.core.display.HTML object>"
      ]
     },
     "metadata": {},
     "output_type": "display_data"
    },
    {
     "data": {
      "text/html": [
       "<span style=\"color:blue\"> |-structured_data_block_1/dense_block_1/units_2: 32</span>"
      ],
      "text/plain": [
       "<IPython.core.display.HTML object>"
      ]
     },
     "metadata": {},
     "output_type": "display_data"
    },
    {
     "data": {
      "text/html": [
       "<span style=\"color:cyan\"> |-structured_data_block_1/dense_block_1/use_batchnorm: True</span>"
      ],
      "text/plain": [
       "<IPython.core.display.HTML object>"
      ]
     },
     "metadata": {},
     "output_type": "display_data"
    },
    {
     "data": {
      "text/html": [
       "<span style=\"color:#4527A0\"><h1 style=\"font-size:18px\">Starting new trial</h1></span>"
      ],
      "text/plain": [
       "<IPython.core.display.HTML object>"
      ]
     },
     "metadata": {},
     "output_type": "display_data"
    },
    {
     "name": "stdout",
     "output_type": "stream",
     "text": [
      "Epoch 1/1000\n",
      "26/26 [==============================] - ETA: 0s - loss: 2.1332 - accuracy: 0.28 - ETA: 0s - loss: 1.6214 - accuracy: 0.33 - ETA: 0s - loss: 1.5728 - accuracy: 0.29 - ETA: 0s - loss: 1.5299 - accuracy: 0.32 - ETA: 0s - loss: 1.5188 - accuracy: 0.32 - 6s 225ms/step - loss: 1.5029 - accuracy: 0.3389 - val_loss: 1.4163 - val_accuracy: 0.3036\n",
      "Epoch 2/1000\n",
      "26/26 [==============================] - ETA: 0s - loss: 1.3335 - accuracy: 0.43 - ETA: 0s - loss: 1.2458 - accuracy: 0.46 - ETA: 0s - loss: 1.2417 - accuracy: 0.46 - ETA: 0s - loss: 1.2164 - accuracy: 0.47 - ETA: 0s - loss: 1.2102 - accuracy: 0.47 - 1s 42ms/step - loss: 1.2102 - accuracy: 0.4772 - val_loss: 1.3118 - val_accuracy: 0.3393\n",
      "Epoch 3/1000\n",
      "26/26 [==============================] - ETA: 0s - loss: 1.2907 - accuracy: 0.43 - ETA: 0s - loss: 1.1383 - accuracy: 0.52 - ETA: 0s - loss: 1.1023 - accuracy: 0.52 - ETA: 0s - loss: 1.0899 - accuracy: 0.52 - ETA: 0s - loss: 1.0764 - accuracy: 0.53 - 1s 50ms/step - loss: 1.0764 - accuracy: 0.5373 - val_loss: 1.2484 - val_accuracy: 0.4107\n",
      "Epoch 4/1000\n",
      "26/26 [==============================] - ETA: 0s - loss: 1.0039 - accuracy: 0.50 - ETA: 0s - loss: 1.0997 - accuracy: 0.54 - ETA: 0s - loss: 1.0205 - accuracy: 0.56 - ETA: 0s - loss: 1.0001 - accuracy: 0.58 - ETA: 0s - loss: 1.0054 - accuracy: 0.57 - 1s 47ms/step - loss: 1.0054 - accuracy: 0.5769 - val_loss: 1.2102 - val_accuracy: 0.4702\n",
      "Epoch 5/1000\n",
      "26/26 [==============================] - ETA: 0s - loss: 0.8109 - accuracy: 0.65 - ETA: 0s - loss: 1.0253 - accuracy: 0.58 - ETA: 0s - loss: 0.9494 - accuracy: 0.61 - ETA: 0s - loss: 0.9442 - accuracy: 0.62 - ETA: 0s - loss: 0.9288 - accuracy: 0.62 - 2s 58ms/step - loss: 0.9288 - accuracy: 0.6226 - val_loss: 1.1990 - val_accuracy: 0.4702\n",
      "Epoch 6/1000\n",
      "26/26 [==============================] - ETA: 0s - loss: 0.8429 - accuracy: 0.65 - ETA: 0s - loss: 0.9452 - accuracy: 0.58 - ETA: 0s - loss: 0.8835 - accuracy: 0.63 - ETA: 0s - loss: 0.8871 - accuracy: 0.62 - ETA: 0s - loss: 0.8845 - accuracy: 0.64 - 1s 46ms/step - loss: 0.8845 - accuracy: 0.6406 - val_loss: 1.1576 - val_accuracy: 0.5238\n",
      "Epoch 7/1000\n",
      "26/26 [==============================] - ETA: 0s - loss: 0.8587 - accuracy: 0.62 - ETA: 0s - loss: 0.8832 - accuracy: 0.64 - ETA: 0s - loss: 0.8257 - accuracy: 0.67 - ETA: 0s - loss: 0.8333 - accuracy: 0.66 - 1s 50ms/step - loss: 0.8103 - accuracy: 0.6875 - val_loss: 1.1342 - val_accuracy: 0.5119\n",
      "Epoch 8/1000\n",
      "26/26 [==============================] - ETA: 0s - loss: 0.7197 - accuracy: 0.75 - ETA: 0s - loss: 0.8041 - accuracy: 0.69 - ETA: 0s - loss: 0.7767 - accuracy: 0.70 - ETA: 0s - loss: 0.7725 - accuracy: 0.70 - 1s 46ms/step - loss: 0.7499 - accuracy: 0.7175 - val_loss: 1.1745 - val_accuracy: 0.4940\n",
      "Epoch 9/1000\n",
      "26/26 [==============================] - ETA: 0s - loss: 0.6948 - accuracy: 0.71 - ETA: 0s - loss: 0.7530 - accuracy: 0.70 - ETA: 0s - loss: 0.7091 - accuracy: 0.72 - ETA: 0s - loss: 0.7093 - accuracy: 0.72 - 1s 44ms/step - loss: 0.7019 - accuracy: 0.7344 - val_loss: 1.1234 - val_accuracy: 0.5417\n",
      "Epoch 10/1000\n",
      "26/26 [==============================] - ETA: 0s - loss: 0.6252 - accuracy: 0.78 - ETA: 0s - loss: 0.7692 - accuracy: 0.71 - ETA: 0s - loss: 0.6848 - accuracy: 0.75 - ETA: 0s - loss: 0.6736 - accuracy: 0.76 - 1s 45ms/step - loss: 0.6727 - accuracy: 0.7560 - val_loss: 1.1301 - val_accuracy: 0.5357\n",
      "Epoch 11/1000\n",
      "26/26 [==============================] - ETA: 0s - loss: 0.6392 - accuracy: 0.84 - ETA: 0s - loss: 0.7314 - accuracy: 0.76 - ETA: 0s - loss: 0.6569 - accuracy: 0.77 - ETA: 0s - loss: 0.6428 - accuracy: 0.78 - 1s 43ms/step - loss: 0.6366 - accuracy: 0.7800 - val_loss: 1.1445 - val_accuracy: 0.5417\n",
      "Epoch 12/1000\n",
      "26/26 [==============================] - ETA: 0s - loss: 0.6762 - accuracy: 0.75 - ETA: 0s - loss: 0.7008 - accuracy: 0.74 - ETA: 0s - loss: 0.6321 - accuracy: 0.78 - ETA: 0s - loss: 0.6367 - accuracy: 0.77 - ETA: 0s - loss: 0.6156 - accuracy: 0.78 - 1s 38ms/step - loss: 0.6156 - accuracy: 0.7885 - val_loss: 1.1505 - val_accuracy: 0.5655\n",
      "Epoch 13/1000\n",
      "26/26 [==============================] - ETA: 0s - loss: 0.5815 - accuracy: 0.78 - ETA: 0s - loss: 0.6338 - accuracy: 0.80 - ETA: 0s - loss: 0.5856 - accuracy: 0.82 - ETA: 0s - loss: 0.5908 - accuracy: 0.80 - 1s 42ms/step - loss: 0.5769 - accuracy: 0.8101 - val_loss: 1.1372 - val_accuracy: 0.5298\n",
      "Epoch 14/1000\n",
      "26/26 [==============================] - ETA: 0s - loss: 0.5525 - accuracy: 0.71 - ETA: 0s - loss: 0.6114 - accuracy: 0.79 - ETA: 0s - loss: 0.5410 - accuracy: 0.82 - ETA: 0s - loss: 0.5377 - accuracy: 0.81 - ETA: 0s - loss: 0.5254 - accuracy: 0.82 - 1s 39ms/step - loss: 0.5254 - accuracy: 0.8281 - val_loss: 1.1396 - val_accuracy: 0.5119\n",
      "Epoch 15/1000\n",
      "26/26 [==============================] - ETA: 0s - loss: 0.5950 - accuracy: 0.75 - ETA: 0s - loss: 0.5195 - accuracy: 0.83 - ETA: 0s - loss: 0.4874 - accuracy: 0.84 - ETA: 0s - loss: 0.4890 - accuracy: 0.84 - ETA: 0s - loss: 0.4826 - accuracy: 0.85 - 1s 43ms/step - loss: 0.4753 - accuracy: 0.8534 - val_loss: 1.1800 - val_accuracy: 0.5119\n",
      "Epoch 16/1000\n",
      "26/26 [==============================] - ETA: 0s - loss: 0.5581 - accuracy: 0.75 - ETA: 0s - loss: 0.5066 - accuracy: 0.85 - ETA: 0s - loss: 0.4844 - accuracy: 0.86 - ETA: 0s - loss: 0.4645 - accuracy: 0.86 - ETA: 0s - loss: 0.4538 - accuracy: 0.86 - 1s 53ms/step - loss: 0.4538 - accuracy: 0.8654 - val_loss: 1.1620 - val_accuracy: 0.5179\n",
      "Epoch 17/1000\n",
      "26/26 [==============================] - ETA: 0s - loss: 0.4813 - accuracy: 0.81 - ETA: 0s - loss: 0.4791 - accuracy: 0.87 - ETA: 0s - loss: 0.4366 - accuracy: 0.88 - ETA: 0s - loss: 0.4350 - accuracy: 0.87 - 1s 37ms/step - loss: 0.4365 - accuracy: 0.8714 - val_loss: 1.2043 - val_accuracy: 0.4583\n",
      "Epoch 18/1000\n",
      "26/26 [==============================] - ETA: 0s - loss: 0.4746 - accuracy: 0.81 - ETA: 0s - loss: 0.4988 - accuracy: 0.84 - ETA: 0s - loss: 0.4460 - accuracy: 0.87 - ETA: 0s - loss: 0.4372 - accuracy: 0.87 - ETA: 0s - loss: 0.4177 - accuracy: 0.88 - 1s 38ms/step - loss: 0.4177 - accuracy: 0.8858 - val_loss: 1.2306 - val_accuracy: 0.4583\n",
      "Epoch 19/1000\n",
      "26/26 [==============================] - ETA: 0s - loss: 0.4305 - accuracy: 0.84 - ETA: 0s - loss: 0.4511 - accuracy: 0.86 - ETA: 0s - loss: 0.4186 - accuracy: 0.87 - ETA: 0s - loss: 0.4193 - accuracy: 0.87 - ETA: 0s - loss: 0.4111 - accuracy: 0.87 - 1s 41ms/step - loss: 0.4111 - accuracy: 0.8786 - val_loss: 1.3289 - val_accuracy: 0.3810\n"
     ]
    },
    {
     "data": {
      "text/html": [
       "<span style=\"color:#4527A0\"><h1 style=\"font-size:18px\">Trial complete</h1></span>"
      ],
      "text/plain": [
       "<IPython.core.display.HTML object>"
      ]
     },
     "metadata": {},
     "output_type": "display_data"
    },
    {
     "data": {
      "text/html": [
       "<span style=\"color:#4527A0\"><h1 style=\"font-size:18px\">Trial summary</h1></span>"
      ],
      "text/plain": [
       "<IPython.core.display.HTML object>"
      ]
     },
     "metadata": {},
     "output_type": "display_data"
    },
    {
     "data": {
      "text/html": [
       "<span style=\"color:cyan\"> |-Trial ID: 90e778f4ad75ffa09fb6d8ef81fc474a</span>"
      ],
      "text/plain": [
       "<IPython.core.display.HTML object>"
      ]
     },
     "metadata": {},
     "output_type": "display_data"
    },
    {
     "data": {
      "text/html": [
       "<span style=\"color:cyan\"> |-Score: 0.5654761791229248</span>"
      ],
      "text/plain": [
       "<IPython.core.display.HTML object>"
      ]
     },
     "metadata": {},
     "output_type": "display_data"
    },
    {
     "data": {
      "text/html": [
       "<span style=\"color:cyan\"> |-Best step: 11</span>"
      ],
      "text/plain": [
       "<IPython.core.display.HTML object>"
      ]
     },
     "metadata": {},
     "output_type": "display_data"
    },
    {
     "data": {
      "text/html": [
       "<span style=\"color:#7E57C2\"><h2 style=\"font-size:16px\">Hyperparameters:</h2></span>"
      ],
      "text/plain": [
       "<IPython.core.display.HTML object>"
      ]
     },
     "metadata": {},
     "output_type": "display_data"
    },
    {
     "data": {
      "text/html": [
       "<span style=\"color:cyan\"> |-classification_head_1/dropout: 0.25</span>"
      ],
      "text/plain": [
       "<IPython.core.display.HTML object>"
      ]
     },
     "metadata": {},
     "output_type": "display_data"
    },
    {
     "data": {
      "text/html": [
       "<span style=\"color:blue\"> |-learning_rate: 0.001</span>"
      ],
      "text/plain": [
       "<IPython.core.display.HTML object>"
      ]
     },
     "metadata": {},
     "output_type": "display_data"
    },
    {
     "data": {
      "text/html": [
       "<span style=\"color:cyan\"> |-optimizer: adam</span>"
      ],
      "text/plain": [
       "<IPython.core.display.HTML object>"
      ]
     },
     "metadata": {},
     "output_type": "display_data"
    },
    {
     "data": {
      "text/html": [
       "<span style=\"color:blue\"> |-structured_data_block_1/dense_block_1/dropout: 0.0</span>"
      ],
      "text/plain": [
       "<IPython.core.display.HTML object>"
      ]
     },
     "metadata": {},
     "output_type": "display_data"
    },
    {
     "data": {
      "text/html": [
       "<span style=\"color:cyan\"> |-structured_data_block_1/dense_block_1/num_layers: 2</span>"
      ],
      "text/plain": [
       "<IPython.core.display.HTML object>"
      ]
     },
     "metadata": {},
     "output_type": "display_data"
    },
    {
     "data": {
      "text/html": [
       "<span style=\"color:blue\"> |-structured_data_block_1/dense_block_1/units_0: 64</span>"
      ],
      "text/plain": [
       "<IPython.core.display.HTML object>"
      ]
     },
     "metadata": {},
     "output_type": "display_data"
    },
    {
     "data": {
      "text/html": [
       "<span style=\"color:cyan\"> |-structured_data_block_1/dense_block_1/units_1: 32</span>"
      ],
      "text/plain": [
       "<IPython.core.display.HTML object>"
      ]
     },
     "metadata": {},
     "output_type": "display_data"
    },
    {
     "data": {
      "text/html": [
       "<span style=\"color:blue\"> |-structured_data_block_1/dense_block_1/units_2: 256</span>"
      ],
      "text/plain": [
       "<IPython.core.display.HTML object>"
      ]
     },
     "metadata": {},
     "output_type": "display_data"
    },
    {
     "data": {
      "text/html": [
       "<span style=\"color:cyan\"> |-structured_data_block_1/dense_block_1/use_batchnorm: True</span>"
      ],
      "text/plain": [
       "<IPython.core.display.HTML object>"
      ]
     },
     "metadata": {},
     "output_type": "display_data"
    },
    {
     "data": {
      "text/html": [
       "<span style=\"color:#4527A0\"><h1 style=\"font-size:18px\">Starting new trial</h1></span>"
      ],
      "text/plain": [
       "<IPython.core.display.HTML object>"
      ]
     },
     "metadata": {},
     "output_type": "display_data"
    },
    {
     "name": "stdout",
     "output_type": "stream",
     "text": [
      "Epoch 1/1000\n",
      "26/26 [==============================] - ETA: 0s - loss: 1.9534 - accuracy: 0.34 - ETA: 0s - loss: 1.9128 - accuracy: 0.34 - ETA: 0s - loss: 1.7936 - accuracy: 0.37 - ETA: 0s - loss: 1.8376 - accuracy: 0.36 - ETA: 0s - loss: 1.8610 - accuracy: 0.35 - ETA: 0s - loss: 1.8351 - accuracy: 0.35 - ETA: 0s - loss: 1.7969 - accuracy: 0.37 - 6s 212ms/step - loss: 1.7969 - accuracy: 0.3750 - val_loss: 1.8289 - val_accuracy: 0.3452\n",
      "Epoch 2/1000\n",
      "26/26 [==============================] - ETA: 0s - loss: 0.9965 - accuracy: 0.56 - ETA: 0s - loss: 1.5087 - accuracy: 0.46 - ETA: 0s - loss: 1.3903 - accuracy: 0.48 - ETA: 0s - loss: 1.4355 - accuracy: 0.45 - ETA: 0s - loss: 1.4747 - accuracy: 0.46 - ETA: 0s - loss: 1.4740 - accuracy: 0.44 - ETA: 0s - loss: 1.4780 - accuracy: 0.44 - 1s 54ms/step - loss: 1.4588 - accuracy: 0.4519 - val_loss: 1.3238 - val_accuracy: 0.3988\n",
      "Epoch 3/1000\n",
      "26/26 [==============================] - ETA: 0s - loss: 1.2336 - accuracy: 0.43 - ETA: 0s - loss: 1.4070 - accuracy: 0.47 - ETA: 0s - loss: 1.3927 - accuracy: 0.47 - ETA: 0s - loss: 1.4139 - accuracy: 0.45 - ETA: 0s - loss: 1.3661 - accuracy: 0.47 - ETA: 0s - loss: 1.3602 - accuracy: 0.48 - ETA: 0s - loss: 1.3686 - accuracy: 0.47 - 2s 63ms/step - loss: 1.3529 - accuracy: 0.4832 - val_loss: 1.2470 - val_accuracy: 0.4226\n",
      "Epoch 4/1000\n",
      "26/26 [==============================] - ETA: 0s - loss: 1.3194 - accuracy: 0.50 - ETA: 0s - loss: 1.5093 - accuracy: 0.48 - ETA: 0s - loss: 1.4300 - accuracy: 0.46 - ETA: 0s - loss: 1.3985 - accuracy: 0.46 - ETA: 0s - loss: 1.3635 - accuracy: 0.47 - ETA: 0s - loss: 1.3612 - accuracy: 0.47 - ETA: 0s - loss: 1.3323 - accuracy: 0.49 - 2s 60ms/step - loss: 1.3091 - accuracy: 0.5000 - val_loss: 1.1596 - val_accuracy: 0.4702\n",
      "Epoch 5/1000\n",
      "26/26 [==============================] - ETA: 0s - loss: 1.1133 - accuracy: 0.46 - ETA: 0s - loss: 1.4047 - accuracy: 0.46 - ETA: 0s - loss: 1.2780 - accuracy: 0.50 - ETA: 0s - loss: 1.3223 - accuracy: 0.49 - ETA: 0s - loss: 1.3471 - accuracy: 0.48 - ETA: 0s - loss: 1.3117 - accuracy: 0.49 - ETA: 0s - loss: 1.3007 - accuracy: 0.49 - 2s 68ms/step - loss: 1.2900 - accuracy: 0.5036 - val_loss: 1.0912 - val_accuracy: 0.5119\n",
      "Epoch 6/1000\n",
      "26/26 [==============================] - ETA: 0s - loss: 1.5215 - accuracy: 0.50 - ETA: 0s - loss: 1.2725 - accuracy: 0.54 - ETA: 0s - loss: 1.2826 - accuracy: 0.54 - ETA: 0s - loss: 1.2449 - accuracy: 0.54 - ETA: 0s - loss: 1.2529 - accuracy: 0.52 - ETA: 0s - loss: 1.2135 - accuracy: 0.52 - ETA: 0s - loss: 1.2076 - accuracy: 0.52 - 2s 58ms/step - loss: 1.1857 - accuracy: 0.5325 - val_loss: 1.0690 - val_accuracy: 0.5238\n",
      "Epoch 7/1000\n",
      "26/26 [==============================] - ETA: 0s - loss: 1.1464 - accuracy: 0.46 - ETA: 0s - loss: 1.2061 - accuracy: 0.52 - ETA: 0s - loss: 1.1634 - accuracy: 0.53 - ETA: 0s - loss: 1.1389 - accuracy: 0.52 - ETA: 0s - loss: 1.1448 - accuracy: 0.53 - ETA: 0s - loss: 1.1315 - accuracy: 0.53 - ETA: 0s - loss: 1.1199 - accuracy: 0.53 - 1s 57ms/step - loss: 1.1023 - accuracy: 0.5409 - val_loss: 1.0581 - val_accuracy: 0.5714\n",
      "Epoch 8/1000\n",
      "26/26 [==============================] - ETA: 0s - loss: 1.2963 - accuracy: 0.56 - ETA: 0s - loss: 1.2748 - accuracy: 0.51 - ETA: 0s - loss: 1.1173 - accuracy: 0.55 - ETA: 0s - loss: 1.1031 - accuracy: 0.56 - ETA: 0s - loss: 1.1246 - accuracy: 0.54 - ETA: 0s - loss: 1.1148 - accuracy: 0.54 - ETA: 0s - loss: 1.1040 - accuracy: 0.55 - 1s 52ms/step - loss: 1.0828 - accuracy: 0.5601 - val_loss: 1.0630 - val_accuracy: 0.5476\n",
      "Epoch 9/1000\n",
      "26/26 [==============================] - ETA: 0s - loss: 0.9106 - accuracy: 0.62 - ETA: 0s - loss: 1.0609 - accuracy: 0.58 - ETA: 0s - loss: 1.0346 - accuracy: 0.58 - ETA: 0s - loss: 1.0288 - accuracy: 0.59 - ETA: 0s - loss: 1.0342 - accuracy: 0.59 - ETA: 0s - loss: 1.0124 - accuracy: 0.60 - ETA: 0s - loss: 1.0180 - accuracy: 0.60 - 2s 63ms/step - loss: 1.0036 - accuracy: 0.6082 - val_loss: 1.0253 - val_accuracy: 0.6250\n",
      "Epoch 10/1000\n",
      "26/26 [==============================] - ETA: 0s - loss: 0.8700 - accuracy: 0.68 - ETA: 0s - loss: 1.0374 - accuracy: 0.58 - ETA: 0s - loss: 0.9979 - accuracy: 0.59 - ETA: 0s - loss: 0.9821 - accuracy: 0.60 - ETA: 0s - loss: 1.0047 - accuracy: 0.59 - ETA: 0s - loss: 0.9819 - accuracy: 0.60 - ETA: 0s - loss: 0.9855 - accuracy: 0.59 - 2s 62ms/step - loss: 0.9808 - accuracy: 0.5974 - val_loss: 1.0122 - val_accuracy: 0.6071\n",
      "Epoch 11/1000\n",
      "26/26 [==============================] - ETA: 0s - loss: 0.7514 - accuracy: 0.59 - ETA: 0s - loss: 0.9827 - accuracy: 0.63 - ETA: 0s - loss: 0.9392 - accuracy: 0.62 - ETA: 0s - loss: 0.9484 - accuracy: 0.63 - ETA: 0s - loss: 0.8813 - accuracy: 0.64 - ETA: 0s - loss: 0.8997 - accuracy: 0.62 - ETA: 0s - loss: 0.9236 - accuracy: 0.61 - 1s 57ms/step - loss: 0.9045 - accuracy: 0.6238 - val_loss: 1.0541 - val_accuracy: 0.5833\n",
      "Epoch 12/1000\n",
      "26/26 [==============================] - ETA: 0s - loss: 0.7341 - accuracy: 0.75 - ETA: 0s - loss: 1.0385 - accuracy: 0.62 - ETA: 0s - loss: 0.9332 - accuracy: 0.66 - ETA: 0s - loss: 0.9133 - accuracy: 0.67 - ETA: 0s - loss: 0.8887 - accuracy: 0.67 - ETA: 0s - loss: 0.9081 - accuracy: 0.66 - ETA: 0s - loss: 0.8923 - accuracy: 0.66 - 1s 55ms/step - loss: 0.8923 - accuracy: 0.6695 - val_loss: 1.0275 - val_accuracy: 0.6250\n",
      "Epoch 13/1000\n",
      "26/26 [==============================] - ETA: 0s - loss: 0.7614 - accuracy: 0.71 - ETA: 0s - loss: 0.9080 - accuracy: 0.61 - ETA: 0s - loss: 0.9216 - accuracy: 0.63 - ETA: 0s - loss: 0.9384 - accuracy: 0.63 - ETA: 0s - loss: 0.9177 - accuracy: 0.63 - ETA: 0s - loss: 0.9091 - accuracy: 0.62 - 1s 48ms/step - loss: 0.8934 - accuracy: 0.6238 - val_loss: 1.0622 - val_accuracy: 0.5893\n",
      "Epoch 14/1000\n",
      "26/26 [==============================] - ETA: 0s - loss: 0.9708 - accuracy: 0.68 - ETA: 0s - loss: 0.9496 - accuracy: 0.65 - ETA: 0s - loss: 0.8371 - accuracy: 0.67 - ETA: 0s - loss: 0.8235 - accuracy: 0.67 - ETA: 0s - loss: 0.8134 - accuracy: 0.67 - ETA: 0s - loss: 0.8120 - accuracy: 0.67 - ETA: 0s - loss: 0.7904 - accuracy: 0.68 - 1s 52ms/step - loss: 0.7904 - accuracy: 0.6839 - val_loss: 1.0303 - val_accuracy: 0.6190\n",
      "Epoch 15/1000\n",
      "26/26 [==============================] - ETA: 0s - loss: 1.1466 - accuracy: 0.59 - ETA: 0s - loss: 0.9051 - accuracy: 0.64 - ETA: 0s - loss: 0.7951 - accuracy: 0.68 - ETA: 0s - loss: 0.8031 - accuracy: 0.68 - ETA: 0s - loss: 0.7853 - accuracy: 0.68 - ETA: 0s - loss: 0.7904 - accuracy: 0.68 - ETA: 0s - loss: 0.8190 - accuracy: 0.68 - 1s 50ms/step - loss: 0.7906 - accuracy: 0.6887 - val_loss: 1.1046 - val_accuracy: 0.5417\n",
      "Epoch 16/1000\n",
      "26/26 [==============================] - ETA: 0s - loss: 0.7075 - accuracy: 0.62 - ETA: 0s - loss: 0.7886 - accuracy: 0.63 - ETA: 0s - loss: 0.8052 - accuracy: 0.66 - ETA: 0s - loss: 0.8226 - accuracy: 0.67 - ETA: 0s - loss: 0.7979 - accuracy: 0.68 - ETA: 0s - loss: 0.7845 - accuracy: 0.68 - ETA: 0s - loss: 0.7830 - accuracy: 0.68 - 2s 59ms/step - loss: 0.7666 - accuracy: 0.6959 - val_loss: 1.1277 - val_accuracy: 0.5655\n",
      "Epoch 17/1000\n",
      "26/26 [==============================] - ETA: 0s - loss: 0.7094 - accuracy: 0.71 - ETA: 0s - loss: 0.9272 - accuracy: 0.65 - ETA: 0s - loss: 0.8451 - accuracy: 0.67 - ETA: 0s - loss: 0.8422 - accuracy: 0.67 - ETA: 0s - loss: 0.8083 - accuracy: 0.69 - ETA: 0s - loss: 0.8008 - accuracy: 0.69 - ETA: 0s - loss: 0.7724 - accuracy: 0.70 - 1s 54ms/step - loss: 0.7724 - accuracy: 0.7007 - val_loss: 1.1551 - val_accuracy: 0.5476\n",
      "Epoch 18/1000\n",
      "26/26 [==============================] - ETA: 0s - loss: 0.7897 - accuracy: 0.65 - ETA: 0s - loss: 0.8542 - accuracy: 0.66 - ETA: 0s - loss: 0.7840 - accuracy: 0.69 - ETA: 0s - loss: 0.7943 - accuracy: 0.69 - ETA: 0s - loss: 0.8134 - accuracy: 0.68 - ETA: 0s - loss: 0.7807 - accuracy: 0.69 - ETA: 0s - loss: 0.7828 - accuracy: 0.69 - 1s 48ms/step - loss: 0.7747 - accuracy: 0.6911 - val_loss: 1.1411 - val_accuracy: 0.5952\n",
      "Epoch 19/1000\n",
      "26/26 [==============================] - ETA: 0s - loss: 0.9141 - accuracy: 0.56 - ETA: 0s - loss: 0.8382 - accuracy: 0.70 - ETA: 0s - loss: 0.8234 - accuracy: 0.73 - ETA: 0s - loss: 0.7851 - accuracy: 0.72 - ETA: 0s - loss: 0.7423 - accuracy: 0.73 - ETA: 0s - loss: 0.7445 - accuracy: 0.73 - ETA: 0s - loss: 0.7266 - accuracy: 0.72 - 1s 53ms/step - loss: 0.7266 - accuracy: 0.7296 - val_loss: 1.1726 - val_accuracy: 0.5595\n"
     ]
    },
    {
     "name": "stdout",
     "output_type": "stream",
     "text": [
      "Epoch 20/1000\n",
      "26/26 [==============================] - ETA: 0s - loss: 0.6861 - accuracy: 0.68 - ETA: 0s - loss: 0.7687 - accuracy: 0.71 - ETA: 0s - loss: 0.6908 - accuracy: 0.72 - ETA: 0s - loss: 0.6804 - accuracy: 0.73 - ETA: 0s - loss: 0.6645 - accuracy: 0.73 - ETA: 0s - loss: 0.6982 - accuracy: 0.72 - 1s 48ms/step - loss: 0.6758 - accuracy: 0.7344 - val_loss: 1.0985 - val_accuracy: 0.6012\n"
     ]
    },
    {
     "data": {
      "text/html": [
       "<span style=\"color:#4527A0\"><h1 style=\"font-size:18px\">Trial complete</h1></span>"
      ],
      "text/plain": [
       "<IPython.core.display.HTML object>"
      ]
     },
     "metadata": {},
     "output_type": "display_data"
    },
    {
     "data": {
      "text/html": [
       "<span style=\"color:#4527A0\"><h1 style=\"font-size:18px\">Trial summary</h1></span>"
      ],
      "text/plain": [
       "<IPython.core.display.HTML object>"
      ]
     },
     "metadata": {},
     "output_type": "display_data"
    },
    {
     "data": {
      "text/html": [
       "<span style=\"color:cyan\"> |-Trial ID: bbfc259c74d58f4ee5fbb5d3003da87e</span>"
      ],
      "text/plain": [
       "<IPython.core.display.HTML object>"
      ]
     },
     "metadata": {},
     "output_type": "display_data"
    },
    {
     "data": {
      "text/html": [
       "<span style=\"color:cyan\"> |-Score: 0.625</span>"
      ],
      "text/plain": [
       "<IPython.core.display.HTML object>"
      ]
     },
     "metadata": {},
     "output_type": "display_data"
    },
    {
     "data": {
      "text/html": [
       "<span style=\"color:cyan\"> |-Best step: 8</span>"
      ],
      "text/plain": [
       "<IPython.core.display.HTML object>"
      ]
     },
     "metadata": {},
     "output_type": "display_data"
    },
    {
     "data": {
      "text/html": [
       "<span style=\"color:#7E57C2\"><h2 style=\"font-size:16px\">Hyperparameters:</h2></span>"
      ],
      "text/plain": [
       "<IPython.core.display.HTML object>"
      ]
     },
     "metadata": {},
     "output_type": "display_data"
    },
    {
     "data": {
      "text/html": [
       "<span style=\"color:cyan\"> |-classification_head_1/dropout: 0.25</span>"
      ],
      "text/plain": [
       "<IPython.core.display.HTML object>"
      ]
     },
     "metadata": {},
     "output_type": "display_data"
    },
    {
     "data": {
      "text/html": [
       "<span style=\"color:blue\"> |-learning_rate: 0.001</span>"
      ],
      "text/plain": [
       "<IPython.core.display.HTML object>"
      ]
     },
     "metadata": {},
     "output_type": "display_data"
    },
    {
     "data": {
      "text/html": [
       "<span style=\"color:cyan\"> |-optimizer: adam</span>"
      ],
      "text/plain": [
       "<IPython.core.display.HTML object>"
      ]
     },
     "metadata": {},
     "output_type": "display_data"
    },
    {
     "data": {
      "text/html": [
       "<span style=\"color:blue\"> |-structured_data_block_1/dense_block_1/dropout: 0.5</span>"
      ],
      "text/plain": [
       "<IPython.core.display.HTML object>"
      ]
     },
     "metadata": {},
     "output_type": "display_data"
    },
    {
     "data": {
      "text/html": [
       "<span style=\"color:cyan\"> |-structured_data_block_1/dense_block_1/num_layers: 2</span>"
      ],
      "text/plain": [
       "<IPython.core.display.HTML object>"
      ]
     },
     "metadata": {},
     "output_type": "display_data"
    },
    {
     "data": {
      "text/html": [
       "<span style=\"color:blue\"> |-structured_data_block_1/dense_block_1/units_0: 256</span>"
      ],
      "text/plain": [
       "<IPython.core.display.HTML object>"
      ]
     },
     "metadata": {},
     "output_type": "display_data"
    },
    {
     "data": {
      "text/html": [
       "<span style=\"color:cyan\"> |-structured_data_block_1/dense_block_1/units_1: 1024</span>"
      ],
      "text/plain": [
       "<IPython.core.display.HTML object>"
      ]
     },
     "metadata": {},
     "output_type": "display_data"
    },
    {
     "data": {
      "text/html": [
       "<span style=\"color:blue\"> |-structured_data_block_1/dense_block_1/units_2: 64</span>"
      ],
      "text/plain": [
       "<IPython.core.display.HTML object>"
      ]
     },
     "metadata": {},
     "output_type": "display_data"
    },
    {
     "data": {
      "text/html": [
       "<span style=\"color:cyan\"> |-structured_data_block_1/dense_block_1/use_batchnorm: True</span>"
      ],
      "text/plain": [
       "<IPython.core.display.HTML object>"
      ]
     },
     "metadata": {},
     "output_type": "display_data"
    },
    {
     "data": {
      "text/html": [
       "<span style=\"color:#4527A0\"><h1 style=\"font-size:18px\">Starting new trial</h1></span>"
      ],
      "text/plain": [
       "<IPython.core.display.HTML object>"
      ]
     },
     "metadata": {},
     "output_type": "display_data"
    },
    {
     "name": "stdout",
     "output_type": "stream",
     "text": [
      "Epoch 1/1000\n",
      "26/26 [==============================] - ETA: 0s - loss: 1.3895 - accuracy: 0.28 - ETA: 0s - loss: 1.5735 - accuracy: 0.33 - ETA: 0s - loss: 1.4601 - accuracy: 0.40 - ETA: 0s - loss: 1.4511 - accuracy: 0.40 - ETA: 0s - loss: 1.4456 - accuracy: 0.39 - ETA: 0s - loss: 1.4237 - accuracy: 0.40 - 6s 227ms/step - loss: 1.4237 - accuracy: 0.4038 - val_loss: 1.6811 - val_accuracy: 0.3333\n",
      "Epoch 2/1000\n",
      "26/26 [==============================] - ETA: 0s - loss: 0.7217 - accuracy: 0.68 - ETA: 0s - loss: 1.0402 - accuracy: 0.57 - ETA: 0s - loss: 0.9627 - accuracy: 0.58 - ETA: 0s - loss: 0.9346 - accuracy: 0.58 - ETA: 0s - loss: 0.9536 - accuracy: 0.59 - ETA: 0s - loss: 0.9577 - accuracy: 0.58 - 1s 45ms/step - loss: 0.9577 - accuracy: 0.5877 - val_loss: 1.3236 - val_accuracy: 0.3929\n",
      "Epoch 3/1000\n",
      "26/26 [==============================] - ETA: 0s - loss: 0.7632 - accuracy: 0.75 - ETA: 0s - loss: 0.9098 - accuracy: 0.65 - ETA: 0s - loss: 0.8199 - accuracy: 0.68 - ETA: 0s - loss: 0.8295 - accuracy: 0.68 - ETA: 0s - loss: 0.8564 - accuracy: 0.68 - ETA: 0s - loss: 0.8543 - accuracy: 0.67 - 1s 47ms/step - loss: 0.8543 - accuracy: 0.6731 - val_loss: 1.2206 - val_accuracy: 0.4762\n",
      "Epoch 4/1000\n",
      "26/26 [==============================] - ETA: 0s - loss: 0.7494 - accuracy: 0.68 - ETA: 0s - loss: 0.8501 - accuracy: 0.68 - ETA: 0s - loss: 0.7640 - accuracy: 0.70 - ETA: 0s - loss: 0.7415 - accuracy: 0.71 - ETA: 0s - loss: 0.7544 - accuracy: 0.70 - ETA: 0s - loss: 0.7664 - accuracy: 0.69 - 1s 52ms/step - loss: 0.7473 - accuracy: 0.7103 - val_loss: 1.1723 - val_accuracy: 0.4524\n",
      "Epoch 5/1000\n",
      "26/26 [==============================] - ETA: 0s - loss: 0.6256 - accuracy: 0.71 - ETA: 0s - loss: 0.7484 - accuracy: 0.68 - ETA: 0s - loss: 0.6634 - accuracy: 0.73 - ETA: 0s - loss: 0.6736 - accuracy: 0.70 - ETA: 0s - loss: 0.6831 - accuracy: 0.70 - ETA: 0s - loss: 0.6739 - accuracy: 0.71 - 1s 58ms/step - loss: 0.6739 - accuracy: 0.7163 - val_loss: 1.1183 - val_accuracy: 0.4881\n",
      "Epoch 6/1000\n",
      "26/26 [==============================] - ETA: 0s - loss: 0.6345 - accuracy: 0.75 - ETA: 0s - loss: 0.6996 - accuracy: 0.73 - ETA: 0s - loss: 0.5955 - accuracy: 0.78 - ETA: 0s - loss: 0.5900 - accuracy: 0.78 - ETA: 0s - loss: 0.6053 - accuracy: 0.77 - ETA: 0s - loss: 0.5933 - accuracy: 0.78 - 1s 54ms/step - loss: 0.5933 - accuracy: 0.7849 - val_loss: 1.1357 - val_accuracy: 0.4881\n",
      "Epoch 7/1000\n",
      "26/26 [==============================] - ETA: 0s - loss: 0.5250 - accuracy: 0.81 - ETA: 0s - loss: 0.6484 - accuracy: 0.79 - ETA: 0s - loss: 0.5629 - accuracy: 0.82 - ETA: 0s - loss: 0.5594 - accuracy: 0.81 - ETA: 0s - loss: 0.5650 - accuracy: 0.81 - ETA: 0s - loss: 0.5512 - accuracy: 0.81 - 1s 45ms/step - loss: 0.5512 - accuracy: 0.8185 - val_loss: 1.1552 - val_accuracy: 0.5119\n",
      "Epoch 8/1000\n",
      "26/26 [==============================] - ETA: 0s - loss: 0.6016 - accuracy: 0.78 - ETA: 0s - loss: 0.5704 - accuracy: 0.80 - ETA: 0s - loss: 0.5195 - accuracy: 0.82 - ETA: 0s - loss: 0.5157 - accuracy: 0.82 - ETA: 0s - loss: 0.5348 - accuracy: 0.82 - ETA: 0s - loss: 0.5288 - accuracy: 0.81 - 1s 46ms/step - loss: 0.5177 - accuracy: 0.8209 - val_loss: 1.1417 - val_accuracy: 0.5476\n",
      "Epoch 9/1000\n",
      "26/26 [==============================] - ETA: 0s - loss: 0.5137 - accuracy: 0.78 - ETA: 0s - loss: 0.5372 - accuracy: 0.81 - ETA: 0s - loss: 0.4449 - accuracy: 0.86 - ETA: 0s - loss: 0.4407 - accuracy: 0.85 - ETA: 0s - loss: 0.4504 - accuracy: 0.85 - ETA: 0s - loss: 0.4352 - accuracy: 0.86 - 1s 47ms/step - loss: 0.4352 - accuracy: 0.8618 - val_loss: 1.1363 - val_accuracy: 0.5714\n",
      "Epoch 10/1000\n",
      "26/26 [==============================] - ETA: 0s - loss: 0.4295 - accuracy: 0.87 - ETA: 0s - loss: 0.4956 - accuracy: 0.86 - ETA: 0s - loss: 0.4181 - accuracy: 0.89 - ETA: 0s - loss: 0.4168 - accuracy: 0.88 - ETA: 0s - loss: 0.4317 - accuracy: 0.87 - ETA: 0s - loss: 0.4280 - accuracy: 0.87 - 1s 42ms/step - loss: 0.4280 - accuracy: 0.8714 - val_loss: 1.2000 - val_accuracy: 0.5476\n",
      "Epoch 11/1000\n",
      "26/26 [==============================] - ETA: 0s - loss: 0.3924 - accuracy: 0.87 - ETA: 0s - loss: 0.4789 - accuracy: 0.83 - ETA: 0s - loss: 0.3977 - accuracy: 0.88 - ETA: 0s - loss: 0.3871 - accuracy: 0.87 - ETA: 0s - loss: 0.3989 - accuracy: 0.87 - ETA: 0s - loss: 0.3842 - accuracy: 0.88 - 1s 52ms/step - loss: 0.3842 - accuracy: 0.8894 - val_loss: 1.2754 - val_accuracy: 0.5179\n",
      "Epoch 12/1000\n",
      "26/26 [==============================] - ETA: 0s - loss: 0.3797 - accuracy: 0.90 - ETA: 0s - loss: 0.4438 - accuracy: 0.88 - ETA: 0s - loss: 0.3638 - accuracy: 0.91 - ETA: 0s - loss: 0.3492 - accuracy: 0.90 - ETA: 0s - loss: 0.3621 - accuracy: 0.90 - ETA: 0s - loss: 0.3505 - accuracy: 0.90 - 1s 57ms/step - loss: 0.3505 - accuracy: 0.9087 - val_loss: 1.2567 - val_accuracy: 0.5298\n",
      "Epoch 13/1000\n",
      "26/26 [==============================] - ETA: 0s - loss: 0.3447 - accuracy: 0.90 - ETA: 0s - loss: 0.4090 - accuracy: 0.90 - ETA: 0s - loss: 0.3280 - accuracy: 0.92 - ETA: 0s - loss: 0.3171 - accuracy: 0.92 - ETA: 0s - loss: 0.3320 - accuracy: 0.91 - ETA: 0s - loss: 0.3239 - accuracy: 0.91 - 1s 46ms/step - loss: 0.3239 - accuracy: 0.9195 - val_loss: 1.3276 - val_accuracy: 0.5238\n",
      "Epoch 14/1000\n",
      "26/26 [==============================] - ETA: 0s - loss: 0.2966 - accuracy: 0.93 - ETA: 0s - loss: 0.4082 - accuracy: 0.90 - ETA: 0s - loss: 0.3421 - accuracy: 0.91 - ETA: 0s - loss: 0.3173 - accuracy: 0.92 - ETA: 0s - loss: 0.3282 - accuracy: 0.92 - ETA: 0s - loss: 0.3199 - accuracy: 0.92 - 1s 44ms/step - loss: 0.3199 - accuracy: 0.9291 - val_loss: 1.3851 - val_accuracy: 0.5357\n",
      "Epoch 15/1000\n",
      "26/26 [==============================] - ETA: 0s - loss: 0.3589 - accuracy: 0.84 - ETA: 0s - loss: 0.3609 - accuracy: 0.91 - ETA: 0s - loss: 0.2881 - accuracy: 0.93 - ETA: 0s - loss: 0.2843 - accuracy: 0.92 - ETA: 0s - loss: 0.2945 - accuracy: 0.92 - ETA: 0s - loss: 0.2872 - accuracy: 0.92 - 1s 52ms/step - loss: 0.2872 - accuracy: 0.9279 - val_loss: 1.3285 - val_accuracy: 0.5119\n"
     ]
    },
    {
     "data": {
      "text/html": [
       "<span style=\"color:#4527A0\"><h1 style=\"font-size:18px\">Trial complete</h1></span>"
      ],
      "text/plain": [
       "<IPython.core.display.HTML object>"
      ]
     },
     "metadata": {},
     "output_type": "display_data"
    },
    {
     "data": {
      "text/html": [
       "<span style=\"color:#4527A0\"><h1 style=\"font-size:18px\">Trial summary</h1></span>"
      ],
      "text/plain": [
       "<IPython.core.display.HTML object>"
      ]
     },
     "metadata": {},
     "output_type": "display_data"
    },
    {
     "data": {
      "text/html": [
       "<span style=\"color:cyan\"> |-Trial ID: 0bc0ffdbdef1f6f8aaf2d42ed955503e</span>"
      ],
      "text/plain": [
       "<IPython.core.display.HTML object>"
      ]
     },
     "metadata": {},
     "output_type": "display_data"
    },
    {
     "data": {
      "text/html": [
       "<span style=\"color:cyan\"> |-Score: 0.5714285969734192</span>"
      ],
      "text/plain": [
       "<IPython.core.display.HTML object>"
      ]
     },
     "metadata": {},
     "output_type": "display_data"
    },
    {
     "data": {
      "text/html": [
       "<span style=\"color:cyan\"> |-Best step: 8</span>"
      ],
      "text/plain": [
       "<IPython.core.display.HTML object>"
      ]
     },
     "metadata": {},
     "output_type": "display_data"
    },
    {
     "data": {
      "text/html": [
       "<span style=\"color:#7E57C2\"><h2 style=\"font-size:16px\">Hyperparameters:</h2></span>"
      ],
      "text/plain": [
       "<IPython.core.display.HTML object>"
      ]
     },
     "metadata": {},
     "output_type": "display_data"
    },
    {
     "data": {
      "text/html": [
       "<span style=\"color:cyan\"> |-classification_head_1/dropout: 0.25</span>"
      ],
      "text/plain": [
       "<IPython.core.display.HTML object>"
      ]
     },
     "metadata": {},
     "output_type": "display_data"
    },
    {
     "data": {
      "text/html": [
       "<span style=\"color:blue\"> |-learning_rate: 0.001</span>"
      ],
      "text/plain": [
       "<IPython.core.display.HTML object>"
      ]
     },
     "metadata": {},
     "output_type": "display_data"
    },
    {
     "data": {
      "text/html": [
       "<span style=\"color:cyan\"> |-optimizer: adam</span>"
      ],
      "text/plain": [
       "<IPython.core.display.HTML object>"
      ]
     },
     "metadata": {},
     "output_type": "display_data"
    },
    {
     "data": {
      "text/html": [
       "<span style=\"color:blue\"> |-structured_data_block_1/dense_block_1/dropout: 0.0</span>"
      ],
      "text/plain": [
       "<IPython.core.display.HTML object>"
      ]
     },
     "metadata": {},
     "output_type": "display_data"
    },
    {
     "data": {
      "text/html": [
       "<span style=\"color:cyan\"> |-structured_data_block_1/dense_block_1/num_layers: 1</span>"
      ],
      "text/plain": [
       "<IPython.core.display.HTML object>"
      ]
     },
     "metadata": {},
     "output_type": "display_data"
    },
    {
     "data": {
      "text/html": [
       "<span style=\"color:blue\"> |-structured_data_block_1/dense_block_1/units_0: 512</span>"
      ],
      "text/plain": [
       "<IPython.core.display.HTML object>"
      ]
     },
     "metadata": {},
     "output_type": "display_data"
    },
    {
     "data": {
      "text/html": [
       "<span style=\"color:cyan\"> |-structured_data_block_1/dense_block_1/units_1: 128</span>"
      ],
      "text/plain": [
       "<IPython.core.display.HTML object>"
      ]
     },
     "metadata": {},
     "output_type": "display_data"
    },
    {
     "data": {
      "text/html": [
       "<span style=\"color:blue\"> |-structured_data_block_1/dense_block_1/units_2: 64</span>"
      ],
      "text/plain": [
       "<IPython.core.display.HTML object>"
      ]
     },
     "metadata": {},
     "output_type": "display_data"
    },
    {
     "data": {
      "text/html": [
       "<span style=\"color:cyan\"> |-structured_data_block_1/dense_block_1/use_batchnorm: True</span>"
      ],
      "text/plain": [
       "<IPython.core.display.HTML object>"
      ]
     },
     "metadata": {},
     "output_type": "display_data"
    },
    {
     "data": {
      "text/html": [
       "<span style=\"color:#4527A0\"><h1 style=\"font-size:18px\">Starting new trial</h1></span>"
      ],
      "text/plain": [
       "<IPython.core.display.HTML object>"
      ]
     },
     "metadata": {},
     "output_type": "display_data"
    },
    {
     "name": "stdout",
     "output_type": "stream",
     "text": [
      "Epoch 1/1000\n",
      "26/26 [==============================] - ETA: 0s - loss: 1.5885 - accuracy: 0.25 - ETA: 0s - loss: 1.6503 - accuracy: 0.30 - ETA: 0s - loss: 1.5647 - accuracy: 0.36 - ETA: 0s - loss: 1.6167 - accuracy: 0.37 - ETA: 0s - loss: 1.6383 - accuracy: 0.38 - ETA: 0s - loss: 1.6423 - accuracy: 0.36 - ETA: 0s - loss: 1.6182 - accuracy: 0.37 - 6s 221ms/step - loss: 1.6112 - accuracy: 0.3822 - val_loss: 2.0201 - val_accuracy: 0.3155\n",
      "Epoch 2/1000\n",
      "26/26 [==============================] - ETA: 0s - loss: 1.1413 - accuracy: 0.46 - ETA: 0s - loss: 1.4583 - accuracy: 0.42 - ETA: 0s - loss: 1.4396 - accuracy: 0.43 - ETA: 0s - loss: 1.4605 - accuracy: 0.43 - ETA: 0s - loss: 1.4785 - accuracy: 0.44 - ETA: 0s - loss: 1.4620 - accuracy: 0.44 - ETA: 0s - loss: 1.4409 - accuracy: 0.45 - 1s 43ms/step - loss: 1.4296 - accuracy: 0.4543 - val_loss: 1.2564 - val_accuracy: 0.4345\n",
      "Epoch 3/1000\n",
      "26/26 [==============================] - ETA: 0s - loss: 1.3623 - accuracy: 0.40 - ETA: 0s - loss: 1.4340 - accuracy: 0.43 - ETA: 0s - loss: 1.3929 - accuracy: 0.46 - ETA: 0s - loss: 1.3355 - accuracy: 0.48 - ETA: 0s - loss: 1.3739 - accuracy: 0.48 - ETA: 0s - loss: 1.3741 - accuracy: 0.47 - ETA: 0s - loss: 1.3683 - accuracy: 0.47 - 1s 38ms/step - loss: 1.3595 - accuracy: 0.4736 - val_loss: 1.2515 - val_accuracy: 0.5000\n",
      "Epoch 4/1000\n",
      "26/26 [==============================] - ETA: 0s - loss: 1.2334 - accuracy: 0.56 - ETA: 0s - loss: 1.3597 - accuracy: 0.48 - ETA: 0s - loss: 1.2346 - accuracy: 0.52 - ETA: 0s - loss: 1.2329 - accuracy: 0.53 - ETA: 0s - loss: 1.2076 - accuracy: 0.53 - ETA: 0s - loss: 1.1806 - accuracy: 0.53 - ETA: 0s - loss: 1.1841 - accuracy: 0.53 - 2s 64ms/step - loss: 1.1623 - accuracy: 0.5421 - val_loss: 1.3039 - val_accuracy: 0.4464\n",
      "Epoch 5/1000\n",
      "26/26 [==============================] - ETA: 0s - loss: 0.7988 - accuracy: 0.65 - ETA: 0s - loss: 1.0819 - accuracy: 0.57 - ETA: 0s - loss: 0.9720 - accuracy: 0.61 - ETA: 0s - loss: 1.0321 - accuracy: 0.59 - ETA: 0s - loss: 1.0338 - accuracy: 0.58 - ETA: 0s - loss: 1.0417 - accuracy: 0.57 - ETA: 0s - loss: 1.0678 - accuracy: 0.56 - 1s 37ms/step - loss: 1.0531 - accuracy: 0.5721 - val_loss: 1.1634 - val_accuracy: 0.5179\n",
      "Epoch 6/1000\n",
      "26/26 [==============================] - ETA: 0s - loss: 1.0845 - accuracy: 0.59 - ETA: 0s - loss: 1.1367 - accuracy: 0.55 - ETA: 0s - loss: 1.0457 - accuracy: 0.59 - ETA: 0s - loss: 1.0927 - accuracy: 0.56 - ETA: 0s - loss: 1.0995 - accuracy: 0.56 - ETA: 0s - loss: 1.0768 - accuracy: 0.56 - ETA: 0s - loss: 1.0687 - accuracy: 0.56 - 1s 47ms/step - loss: 1.0575 - accuracy: 0.5709 - val_loss: 1.1310 - val_accuracy: 0.5000\n",
      "Epoch 7/1000\n",
      "26/26 [==============================] - ETA: 0s - loss: 1.0969 - accuracy: 0.59 - ETA: 0s - loss: 1.0947 - accuracy: 0.56 - ETA: 0s - loss: 0.9706 - accuracy: 0.60 - ETA: 0s - loss: 1.0291 - accuracy: 0.59 - ETA: 0s - loss: 1.0674 - accuracy: 0.59 - ETA: 0s - loss: 1.0413 - accuracy: 0.58 - ETA: 0s - loss: 1.0480 - accuracy: 0.58 - 1s 48ms/step - loss: 1.0337 - accuracy: 0.5853 - val_loss: 1.0993 - val_accuracy: 0.5000\n",
      "Epoch 8/1000\n",
      "26/26 [==============================] - ETA: 0s - loss: 0.8977 - accuracy: 0.68 - ETA: 0s - loss: 1.0583 - accuracy: 0.55 - ETA: 0s - loss: 0.9751 - accuracy: 0.57 - ETA: 0s - loss: 0.9565 - accuracy: 0.59 - ETA: 0s - loss: 0.9664 - accuracy: 0.58 - ETA: 0s - loss: 0.9489 - accuracy: 0.59 - ETA: 0s - loss: 0.9588 - accuracy: 0.59 - 1s 48ms/step - loss: 0.9526 - accuracy: 0.5938 - val_loss: 1.1527 - val_accuracy: 0.5417\n",
      "Epoch 9/1000\n",
      "26/26 [==============================] - ETA: 0s - loss: 1.0093 - accuracy: 0.50 - ETA: 0s - loss: 1.0207 - accuracy: 0.60 - ETA: 0s - loss: 0.9002 - accuracy: 0.64 - ETA: 0s - loss: 0.9188 - accuracy: 0.62 - ETA: 0s - loss: 0.9388 - accuracy: 0.61 - ETA: 0s - loss: 0.9313 - accuracy: 0.61 - ETA: 0s - loss: 0.9391 - accuracy: 0.60 - 1s 50ms/step - loss: 0.9258 - accuracy: 0.6154 - val_loss: 1.1754 - val_accuracy: 0.5536\n",
      "Epoch 10/1000\n",
      "26/26 [==============================] - ETA: 0s - loss: 1.0441 - accuracy: 0.59 - ETA: 0s - loss: 1.0384 - accuracy: 0.60 - ETA: 0s - loss: 0.9410 - accuracy: 0.61 - ETA: 0s - loss: 0.9434 - accuracy: 0.62 - ETA: 0s - loss: 0.9516 - accuracy: 0.62 - ETA: 0s - loss: 0.9429 - accuracy: 0.62 - ETA: 0s - loss: 0.9665 - accuracy: 0.62 - 1s 58ms/step - loss: 0.9468 - accuracy: 0.6274 - val_loss: 1.1457 - val_accuracy: 0.5774\n",
      "Epoch 11/1000\n",
      "26/26 [==============================] - ETA: 0s - loss: 0.8914 - accuracy: 0.68 - ETA: 0s - loss: 0.9879 - accuracy: 0.61 - ETA: 0s - loss: 0.9931 - accuracy: 0.62 - ETA: 0s - loss: 0.9694 - accuracy: 0.64 - ETA: 0s - loss: 0.9318 - accuracy: 0.64 - ETA: 0s - loss: 0.9048 - accuracy: 0.64 - ETA: 0s - loss: 0.9018 - accuracy: 0.64 - 1s 48ms/step - loss: 0.8817 - accuracy: 0.6490 - val_loss: 1.1680 - val_accuracy: 0.5714\n",
      "Epoch 12/1000\n",
      "26/26 [==============================] - ETA: 0s - loss: 0.9980 - accuracy: 0.65 - ETA: 0s - loss: 0.9300 - accuracy: 0.62 - ETA: 0s - loss: 0.7955 - accuracy: 0.68 - ETA: 0s - loss: 0.7771 - accuracy: 0.70 - ETA: 0s - loss: 0.8035 - accuracy: 0.68 - ETA: 0s - loss: 0.8015 - accuracy: 0.69 - ETA: 0s - loss: 0.8055 - accuracy: 0.68 - 2s 60ms/step - loss: 0.7945 - accuracy: 0.6875 - val_loss: 1.1574 - val_accuracy: 0.6071\n",
      "Epoch 13/1000\n",
      "26/26 [==============================] - ETA: 0s - loss: 0.7831 - accuracy: 0.56 - ETA: 0s - loss: 0.8678 - accuracy: 0.62 - ETA: 0s - loss: 0.8084 - accuracy: 0.65 - ETA: 0s - loss: 0.8270 - accuracy: 0.66 - ETA: 0s - loss: 0.8387 - accuracy: 0.65 - ETA: 0s - loss: 0.8448 - accuracy: 0.66 - ETA: 0s - loss: 0.8580 - accuracy: 0.66 - 1s 56ms/step - loss: 0.8395 - accuracy: 0.6719 - val_loss: 1.1245 - val_accuracy: 0.5476\n",
      "Epoch 14/1000\n",
      "26/26 [==============================] - ETA: 0s - loss: 0.9457 - accuracy: 0.65 - ETA: 0s - loss: 1.0138 - accuracy: 0.61 - ETA: 0s - loss: 0.8486 - accuracy: 0.68 - ETA: 0s - loss: 0.8336 - accuracy: 0.68 - ETA: 0s - loss: 0.8507 - accuracy: 0.69 - ETA: 0s - loss: 0.8379 - accuracy: 0.67 - ETA: 0s - loss: 0.8126 - accuracy: 0.67 - 1s 49ms/step - loss: 0.8126 - accuracy: 0.6779 - val_loss: 1.2191 - val_accuracy: 0.5714\n",
      "Epoch 15/1000\n",
      "26/26 [==============================] - ETA: 0s - loss: 0.7150 - accuracy: 0.68 - ETA: 0s - loss: 0.7587 - accuracy: 0.68 - ETA: 0s - loss: 0.7349 - accuracy: 0.71 - ETA: 0s - loss: 0.7296 - accuracy: 0.72 - ETA: 0s - loss: 0.7370 - accuracy: 0.72 - ETA: 0s - loss: 0.7347 - accuracy: 0.71 - ETA: 0s - loss: 0.7388 - accuracy: 0.71 - 1s 46ms/step - loss: 0.7243 - accuracy: 0.7151 - val_loss: 1.2032 - val_accuracy: 0.5298\n",
      "Epoch 16/1000\n",
      "26/26 [==============================] - ETA: 0s - loss: 0.7522 - accuracy: 0.71 - ETA: 0s - loss: 0.7507 - accuracy: 0.69 - ETA: 0s - loss: 0.6937 - accuracy: 0.73 - ETA: 0s - loss: 0.6879 - accuracy: 0.74 - ETA: 0s - loss: 0.6797 - accuracy: 0.74 - ETA: 0s - loss: 0.6934 - accuracy: 0.72 - ETA: 0s - loss: 0.6980 - accuracy: 0.73 - 1s 57ms/step - loss: 0.6869 - accuracy: 0.7380 - val_loss: 1.2060 - val_accuracy: 0.5655\n",
      "Epoch 17/1000\n",
      "26/26 [==============================] - ETA: 0s - loss: 0.8450 - accuracy: 0.65 - ETA: 0s - loss: 0.7454 - accuracy: 0.66 - ETA: 0s - loss: 0.7312 - accuracy: 0.71 - ETA: 0s - loss: 0.7173 - accuracy: 0.72 - ETA: 0s - loss: 0.7642 - accuracy: 0.71 - ETA: 0s - loss: 0.7427 - accuracy: 0.72 - ETA: 0s - loss: 0.7533 - accuracy: 0.70 - 1s 38ms/step - loss: 0.7390 - accuracy: 0.7139 - val_loss: 1.1746 - val_accuracy: 0.5536\n"
     ]
    },
    {
     "data": {
      "text/html": [
       "<span style=\"color:#4527A0\"><h1 style=\"font-size:18px\">Trial complete</h1></span>"
      ],
      "text/plain": [
       "<IPython.core.display.HTML object>"
      ]
     },
     "metadata": {},
     "output_type": "display_data"
    },
    {
     "data": {
      "text/html": [
       "<span style=\"color:#4527A0\"><h1 style=\"font-size:18px\">Trial summary</h1></span>"
      ],
      "text/plain": [
       "<IPython.core.display.HTML object>"
      ]
     },
     "metadata": {},
     "output_type": "display_data"
    },
    {
     "data": {
      "text/html": [
       "<span style=\"color:cyan\"> |-Trial ID: e82eaed0a78f2abdb05481652cfa4416</span>"
      ],
      "text/plain": [
       "<IPython.core.display.HTML object>"
      ]
     },
     "metadata": {},
     "output_type": "display_data"
    },
    {
     "data": {
      "text/html": [
       "<span style=\"color:cyan\"> |-Score: 0.6071428656578064</span>"
      ],
      "text/plain": [
       "<IPython.core.display.HTML object>"
      ]
     },
     "metadata": {},
     "output_type": "display_data"
    },
    {
     "data": {
      "text/html": [
       "<span style=\"color:cyan\"> |-Best step: 11</span>"
      ],
      "text/plain": [
       "<IPython.core.display.HTML object>"
      ]
     },
     "metadata": {},
     "output_type": "display_data"
    },
    {
     "data": {
      "text/html": [
       "<span style=\"color:#7E57C2\"><h2 style=\"font-size:16px\">Hyperparameters:</h2></span>"
      ],
      "text/plain": [
       "<IPython.core.display.HTML object>"
      ]
     },
     "metadata": {},
     "output_type": "display_data"
    },
    {
     "data": {
      "text/html": [
       "<span style=\"color:cyan\"> |-classification_head_1/dropout: 0.0</span>"
      ],
      "text/plain": [
       "<IPython.core.display.HTML object>"
      ]
     },
     "metadata": {},
     "output_type": "display_data"
    },
    {
     "data": {
      "text/html": [
       "<span style=\"color:blue\"> |-learning_rate: 0.001</span>"
      ],
      "text/plain": [
       "<IPython.core.display.HTML object>"
      ]
     },
     "metadata": {},
     "output_type": "display_data"
    },
    {
     "data": {
      "text/html": [
       "<span style=\"color:cyan\"> |-optimizer: adam</span>"
      ],
      "text/plain": [
       "<IPython.core.display.HTML object>"
      ]
     },
     "metadata": {},
     "output_type": "display_data"
    },
    {
     "data": {
      "text/html": [
       "<span style=\"color:blue\"> |-structured_data_block_1/dense_block_1/dropout: 0.5</span>"
      ],
      "text/plain": [
       "<IPython.core.display.HTML object>"
      ]
     },
     "metadata": {},
     "output_type": "display_data"
    },
    {
     "data": {
      "text/html": [
       "<span style=\"color:cyan\"> |-structured_data_block_1/dense_block_1/num_layers: 2</span>"
      ],
      "text/plain": [
       "<IPython.core.display.HTML object>"
      ]
     },
     "metadata": {},
     "output_type": "display_data"
    },
    {
     "data": {
      "text/html": [
       "<span style=\"color:blue\"> |-structured_data_block_1/dense_block_1/units_0: 256</span>"
      ],
      "text/plain": [
       "<IPython.core.display.HTML object>"
      ]
     },
     "metadata": {},
     "output_type": "display_data"
    },
    {
     "data": {
      "text/html": [
       "<span style=\"color:cyan\"> |-structured_data_block_1/dense_block_1/units_1: 1024</span>"
      ],
      "text/plain": [
       "<IPython.core.display.HTML object>"
      ]
     },
     "metadata": {},
     "output_type": "display_data"
    },
    {
     "data": {
      "text/html": [
       "<span style=\"color:blue\"> |-structured_data_block_1/dense_block_1/units_2: 64</span>"
      ],
      "text/plain": [
       "<IPython.core.display.HTML object>"
      ]
     },
     "metadata": {},
     "output_type": "display_data"
    },
    {
     "data": {
      "text/html": [
       "<span style=\"color:cyan\"> |-structured_data_block_1/dense_block_1/use_batchnorm: True</span>"
      ],
      "text/plain": [
       "<IPython.core.display.HTML object>"
      ]
     },
     "metadata": {},
     "output_type": "display_data"
    },
    {
     "data": {
      "text/html": [
       "<span style=\"color:#4527A0\"><h1 style=\"font-size:18px\">Starting new trial</h1></span>"
      ],
      "text/plain": [
       "<IPython.core.display.HTML object>"
      ]
     },
     "metadata": {},
     "output_type": "display_data"
    },
    {
     "name": "stdout",
     "output_type": "stream",
     "text": [
      "Epoch 1/1000\n",
      "26/26 [==============================] - ETA: 0s - loss: 2733.9519 - accuracy: 0.250 - ETA: 0s - loss: 2607.4778 - accuracy: 0.312 - ETA: 0s - loss: 2344.2734 - accuracy: 0.296 - ETA: 0s - loss: 2364.3086 - accuracy: 0.298 - 6s 222ms/step - loss: 2161.1079 - accuracy: 0.3089 - val_loss: 689.1539 - val_accuracy: 0.3988\n",
      "Epoch 2/1000\n",
      "26/26 [==============================] - ETA: 0s - loss: 1217.1431 - accuracy: 0.437 - ETA: 0s - loss: 1372.3942 - accuracy: 0.367 - ETA: 0s - loss: 1151.0275 - accuracy: 0.392 - ETA: 0s - loss: 1097.5115 - accuracy: 0.394 - 1s 43ms/step - loss: 1073.0649 - accuracy: 0.3906 - val_loss: 495.6361 - val_accuracy: 0.4464\n",
      "Epoch 3/1000\n",
      "26/26 [==============================] - ETA: 0s - loss: 860.5339 - accuracy: 0.40 - ETA: 0s - loss: 816.4020 - accuracy: 0.39 - ETA: 0s - loss: 654.6977 - accuracy: 0.42 - ETA: 0s - loss: 631.5605 - accuracy: 0.41 - 1s 44ms/step - loss: 596.4349 - accuracy: 0.4075 - val_loss: 311.7050 - val_accuracy: 0.4643\n",
      "Epoch 4/1000\n",
      "26/26 [==============================] - ETA: 0s - loss: 357.2305 - accuracy: 0.43 - ETA: 0s - loss: 327.0676 - accuracy: 0.44 - ETA: 0s - loss: 308.4958 - accuracy: 0.43 - ETA: 0s - loss: 280.6560 - accuracy: 0.44 - ETA: 0s - loss: 288.0627 - accuracy: 0.43 - 1s 49ms/step - loss: 282.2716 - accuracy: 0.4231 - val_loss: 203.4471 - val_accuracy: 0.3869\n",
      "Epoch 5/1000\n",
      "26/26 [==============================] - ETA: 0s - loss: 293.4187 - accuracy: 0.37 - ETA: 0s - loss: 163.8530 - accuracy: 0.43 - ETA: 0s - loss: 163.9928 - accuracy: 0.47 - ETA: 0s - loss: 148.7391 - accuracy: 0.46 - ETA: 0s - loss: 154.5505 - accuracy: 0.45 - 2s 69ms/step - loss: 152.8063 - accuracy: 0.4591 - val_loss: 139.9054 - val_accuracy: 0.3690\n",
      "Epoch 6/1000\n",
      "26/26 [==============================] - ETA: 0s - loss: 195.4195 - accuracy: 0.40 - ETA: 0s - loss: 111.9933 - accuracy: 0.40 - ETA: 0s - loss: 102.2880 - accuracy: 0.41 - ETA: 0s - loss: 87.7407 - accuracy: 0.4406 - 1s 45ms/step - loss: 84.1978 - accuracy: 0.4351 - val_loss: 125.9429 - val_accuracy: 0.3393\n",
      "Epoch 7/1000\n",
      "26/26 [==============================] - ETA: 0s - loss: 103.3338 - accuracy: 0.50 - ETA: 0s - loss: 50.7658 - accuracy: 0.4297 - ETA: 0s - loss: 43.8166 - accuracy: 0.406 - ETA: 0s - loss: 43.0857 - accuracy: 0.413 - 1s 49ms/step - loss: 43.0783 - accuracy: 0.4050 - val_loss: 101.4224 - val_accuracy: 0.3690\n",
      "Epoch 8/1000\n",
      "26/26 [==============================] - ETA: 0s - loss: 119.8170 - accuracy: 0.56 - ETA: 0s - loss: 52.0608 - accuracy: 0.4107 - ETA: 0s - loss: 43.1814 - accuracy: 0.375 - ETA: 0s - loss: 37.4308 - accuracy: 0.391 - 1s 35ms/step - loss: 32.7722 - accuracy: 0.4002 - val_loss: 94.1419 - val_accuracy: 0.3393\n",
      "Epoch 9/1000\n",
      "26/26 [==============================] - ETA: 0s - loss: 28.4878 - accuracy: 0.625 - ETA: 0s - loss: 290.1689 - accuracy: 0.43 - ETA: 0s - loss: 172.9788 - accuracy: 0.40 - ETA: 0s - loss: 119.0734 - accuracy: 0.41 - 1s 36ms/step - loss: 96.3881 - accuracy: 0.4026 - val_loss: 76.3967 - val_accuracy: 0.2679\n",
      "Epoch 10/1000\n",
      "26/26 [==============================] - ETA: 0s - loss: 52.5629 - accuracy: 0.375 - ETA: 0s - loss: 21.2329 - accuracy: 0.370 - ETA: 0s - loss: 16.8681 - accuracy: 0.354 - ETA: 0s - loss: 18.3138 - accuracy: 0.366 - 1s 47ms/step - loss: 17.6736 - accuracy: 0.3594 - val_loss: 53.4650 - val_accuracy: 0.2738\n",
      "Epoch 11/1000\n",
      "26/26 [==============================] - ETA: 0s - loss: 15.1117 - accuracy: 0.562 - ETA: 0s - loss: 14.1239 - accuracy: 0.415 - ETA: 0s - loss: 14.3429 - accuracy: 0.372 - ETA: 0s - loss: 14.5705 - accuracy: 0.367 - ETA: 0s - loss: 16.2407 - accuracy: 0.365 - 1s 54ms/step - loss: 16.8703 - accuracy: 0.3642 - val_loss: 47.2071 - val_accuracy: 0.3036\n",
      "Epoch 12/1000\n",
      "26/26 [==============================] - ETA: 0s - loss: 17.3217 - accuracy: 0.531 - ETA: 0s - loss: 10.2830 - accuracy: 0.419 - ETA: 0s - loss: 9.3260 - accuracy: 0.399 - ETA: 0s - loss: 14.5649 - accuracy: 0.389 - 1s 45ms/step - loss: 13.6109 - accuracy: 0.3978 - val_loss: 41.6124 - val_accuracy: 0.2857\n",
      "Epoch 13/1000\n",
      "26/26 [==============================] - ETA: 0s - loss: 53.1909 - accuracy: 0.312 - ETA: 0s - loss: 15.7296 - accuracy: 0.388 - ETA: 0s - loss: 10.7446 - accuracy: 0.375 - ETA: 0s - loss: 12.6025 - accuracy: 0.385 - 1s 39ms/step - loss: 10.9158 - accuracy: 0.3918 - val_loss: 35.0926 - val_accuracy: 0.2976\n",
      "Epoch 14/1000\n",
      "26/26 [==============================] - ETA: 0s - loss: 15.0375 - accuracy: 0.406 - ETA: 0s - loss: 13.1586 - accuracy: 0.425 - ETA: 0s - loss: 8.4227 - accuracy: 0.404 - ETA: 0s - loss: 8.0701 - accuracy: 0.39 - 1s 41ms/step - loss: 7.0239 - accuracy: 0.4026 - val_loss: 34.6176 - val_accuracy: 0.3036\n",
      "Epoch 15/1000\n",
      "26/26 [==============================] - ETA: 0s - loss: 16.4897 - accuracy: 0.343 - ETA: 0s - loss: 5.0158 - accuracy: 0.419 - ETA: 0s - loss: 4.1800 - accuracy: 0.40 - ETA: 0s - loss: 5.4797 - accuracy: 0.38 - ETA: 0s - loss: 5.4366 - accuracy: 0.38 - 1s 33ms/step - loss: 5.4366 - accuracy: 0.3894 - val_loss: 30.7066 - val_accuracy: 0.3155\n",
      "Epoch 16/1000\n",
      "26/26 [==============================] - ETA: 0s - loss: 8.9125 - accuracy: 0.34 - ETA: 0s - loss: 8.4295 - accuracy: 0.40 - ETA: 0s - loss: 6.1805 - accuracy: 0.39 - ETA: 0s - loss: 6.2831 - accuracy: 0.37 - 1s 41ms/step - loss: 5.4008 - accuracy: 0.3882 - val_loss: 26.6333 - val_accuracy: 0.3036\n",
      "Epoch 17/1000\n",
      "26/26 [==============================] - ETA: 0s - loss: 5.4155 - accuracy: 0.37 - ETA: 0s - loss: 2.4133 - accuracy: 0.42 - ETA: 0s - loss: 2.5746 - accuracy: 0.39 - ETA: 0s - loss: 3.2068 - accuracy: 0.38 - ETA: 0s - loss: 3.1067 - accuracy: 0.38 - 1s 52ms/step - loss: 3.1067 - accuracy: 0.3858 - val_loss: 25.3053 - val_accuracy: 0.2976\n",
      "Epoch 18/1000\n",
      "26/26 [==============================] - ETA: 0s - loss: 2.3688 - accuracy: 0.34 - ETA: 0s - loss: 3.0246 - accuracy: 0.40 - ETA: 0s - loss: 2.1756 - accuracy: 0.38 - ETA: 0s - loss: 3.0082 - accuracy: 0.38 - 1s 39ms/step - loss: 2.7827 - accuracy: 0.3834 - val_loss: 26.9435 - val_accuracy: 0.2917\n",
      "Epoch 19/1000\n",
      "26/26 [==============================] - ETA: 0s - loss: 14.9276 - accuracy: 0.281 - ETA: 0s - loss: 3.8141 - accuracy: 0.406 - ETA: 0s - loss: 5.8884 - accuracy: 0.39 - ETA: 0s - loss: 5.0937 - accuracy: 0.39 - 1s 35ms/step - loss: 4.8265 - accuracy: 0.3906 - val_loss: 35.1193 - val_accuracy: 0.2798\n",
      "Epoch 20/1000\n",
      "26/26 [==============================] - ETA: 0s - loss: 2.2108 - accuracy: 0.34 - ETA: 0s - loss: 2.1527 - accuracy: 0.39 - ETA: 0s - loss: 1.8529 - accuracy: 0.37 - ETA: 0s - loss: 2.0365 - accuracy: 0.38 - 1s 44ms/step - loss: 1.9809 - accuracy: 0.3846 - val_loss: 33.6095 - val_accuracy: 0.2798\n",
      "Epoch 21/1000\n",
      "26/26 [==============================] - ETA: 0s - loss: 1.4444 - accuracy: 0.31 - ETA: 0s - loss: 1.8299 - accuracy: 0.38 - ETA: 0s - loss: 2.2230 - accuracy: 0.35 - ETA: 0s - loss: 2.3728 - accuracy: 0.36 - 1s 52ms/step - loss: 2.3945 - accuracy: 0.3630 - val_loss: 29.3117 - val_accuracy: 0.2857\n",
      "Epoch 22/1000\n",
      "26/26 [==============================] - ETA: 0s - loss: 1.1029 - accuracy: 0.37 - ETA: 0s - loss: 1.1412 - accuracy: 0.43 - ETA: 0s - loss: 1.3182 - accuracy: 0.40 - ETA: 0s - loss: 1.4076 - accuracy: 0.39 - 1s 40ms/step - loss: 1.5984 - accuracy: 0.3882 - val_loss: 26.2765 - val_accuracy: 0.2857\n",
      "Epoch 23/1000\n",
      "26/26 [==============================] - ETA: 0s - loss: 1.1182 - accuracy: 0.37 - ETA: 0s - loss: 1.2141 - accuracy: 0.45 - ETA: 0s - loss: 1.3786 - accuracy: 0.40 - ETA: 0s - loss: 1.6880 - accuracy: 0.38 - 1s 46ms/step - loss: 1.6656 - accuracy: 0.3822 - val_loss: 25.7605 - val_accuracy: 0.2976\n",
      "Epoch 24/1000\n",
      "26/26 [==============================] - ETA: 0s - loss: 1.0931 - accuracy: 0.37 - ETA: 0s - loss: 2.4506 - accuracy: 0.41 - ETA: 0s - loss: 2.0195 - accuracy: 0.39 - ETA: 0s - loss: 1.9720 - accuracy: 0.39 - 1s 41ms/step - loss: 1.9328 - accuracy: 0.3882 - val_loss: 23.8670 - val_accuracy: 0.3036\n",
      "Epoch 25/1000\n",
      "26/26 [==============================] - ETA: 0s - loss: 1.0534 - accuracy: 0.40 - ETA: 0s - loss: 1.7112 - accuracy: 0.41 - ETA: 0s - loss: 1.6754 - accuracy: 0.39 - ETA: 0s - loss: 2.0318 - accuracy: 0.37 - ETA: 0s - loss: 1.9619 - accuracy: 0.38 - 1s 38ms/step - loss: 1.9367 - accuracy: 0.3786 - val_loss: 22.9996 - val_accuracy: 0.2976\n"
     ]
    },
    {
     "name": "stdout",
     "output_type": "stream",
     "text": [
      "Epoch 26/1000\n",
      "26/26 [==============================] - ETA: 0s - loss: 1.1338 - accuracy: 0.34 - ETA: 0s - loss: 2.6094 - accuracy: 0.42 - ETA: 0s - loss: 2.2661 - accuracy: 0.38 - ETA: 0s - loss: 1.9878 - accuracy: 0.37 - 1s 38ms/step - loss: 1.8570 - accuracy: 0.3858 - val_loss: 37.4552 - val_accuracy: 0.2976\n",
      "Epoch 27/1000\n",
      "26/26 [==============================] - ETA: 0s - loss: 1.2976 - accuracy: 0.34 - ETA: 0s - loss: 1.6576 - accuracy: 0.41 - ETA: 0s - loss: 1.8559 - accuracy: 0.38 - ETA: 0s - loss: 2.3382 - accuracy: 0.37 - 1s 38ms/step - loss: 2.2436 - accuracy: 0.3750 - val_loss: 26.5291 - val_accuracy: 0.3155\n",
      "Epoch 28/1000\n",
      "26/26 [==============================] - ETA: 0s - loss: 1.7433 - accuracy: 0.37 - ETA: 0s - loss: 1.7960 - accuracy: 0.43 - ETA: 0s - loss: 4.1859 - accuracy: 0.40 - ETA: 0s - loss: 3.4513 - accuracy: 0.38 - ETA: 0s - loss: 2.8968 - accuracy: 0.39 - 1s 40ms/step - loss: 2.8968 - accuracy: 0.3918 - val_loss: 22.4327 - val_accuracy: 0.2917\n",
      "Epoch 29/1000\n",
      "26/26 [==============================] - ETA: 0s - loss: 4.2935 - accuracy: 0.34 - ETA: 0s - loss: 4.0455 - accuracy: 0.41 - ETA: 0s - loss: 2.9285 - accuracy: 0.39 - ETA: 0s - loss: 2.9117 - accuracy: 0.38 - 2s 59ms/step - loss: 2.6374 - accuracy: 0.3798 - val_loss: 20.0099 - val_accuracy: 0.2738\n",
      "Epoch 30/1000\n",
      "26/26 [==============================] - ETA: 0s - loss: 13.5707 - accuracy: 0.343 - ETA: 0s - loss: 3.9689 - accuracy: 0.410 - ETA: 0s - loss: 2.5926 - accuracy: 0.39 - ETA: 0s - loss: 2.1794 - accuracy: 0.38 - 1s 33ms/step - loss: 2.3725 - accuracy: 0.3894 - val_loss: 20.7170 - val_accuracy: 0.2798\n",
      "Epoch 31/1000\n",
      "26/26 [==============================] - ETA: 0s - loss: 1.1941 - accuracy: 0.31 - ETA: 0s - loss: 1.4935 - accuracy: 0.39 - ETA: 0s - loss: 1.3842 - accuracy: 0.37 - ETA: 0s - loss: 1.9664 - accuracy: 0.36 - 1s 44ms/step - loss: 1.9424 - accuracy: 0.3726 - val_loss: 24.1391 - val_accuracy: 0.3036\n",
      "Epoch 32/1000\n",
      "26/26 [==============================] - ETA: 0s - loss: 1.1655 - accuracy: 0.37 - ETA: 0s - loss: 2.5136 - accuracy: 0.41 - ETA: 0s - loss: 2.2857 - accuracy: 0.38 - ETA: 0s - loss: 3.7827 - accuracy: 0.37 - 1s 42ms/step - loss: 3.5033 - accuracy: 0.3834 - val_loss: 22.4047 - val_accuracy: 0.3036\n",
      "Epoch 33/1000\n",
      "26/26 [==============================] - ETA: 0s - loss: 1.2373 - accuracy: 0.34 - ETA: 0s - loss: 2.9666 - accuracy: 0.40 - ETA: 0s - loss: 2.1794 - accuracy: 0.37 - ETA: 0s - loss: 1.9000 - accuracy: 0.37 - 1s 39ms/step - loss: 1.8567 - accuracy: 0.3858 - val_loss: 19.7844 - val_accuracy: 0.2917\n",
      "Epoch 34/1000\n",
      "26/26 [==============================] - ETA: 0s - loss: 5.6338 - accuracy: 0.31 - ETA: 0s - loss: 3.0116 - accuracy: 0.40 - ETA: 0s - loss: 2.1711 - accuracy: 0.39 - ETA: 0s - loss: 1.8600 - accuracy: 0.39 - ETA: 0s - loss: 1.7181 - accuracy: 0.39 - 2s 58ms/step - loss: 1.7006 - accuracy: 0.3894 - val_loss: 19.2516 - val_accuracy: 0.2976\n",
      "Epoch 35/1000\n",
      "26/26 [==============================] - ETA: 0s - loss: 1.4492 - accuracy: 0.28 - ETA: 0s - loss: 1.2108 - accuracy: 0.41 - ETA: 0s - loss: 1.2645 - accuracy: 0.39 - ETA: 0s - loss: 1.2430 - accuracy: 0.37 - ETA: 0s - loss: 1.2562 - accuracy: 0.37 - 1s 40ms/step - loss: 1.2562 - accuracy: 0.3762 - val_loss: 18.8141 - val_accuracy: 0.2976\n",
      "Epoch 36/1000\n",
      "26/26 [==============================] - ETA: 0s - loss: 1.1919 - accuracy: 0.31 - ETA: 0s - loss: 1.1708 - accuracy: 0.41 - ETA: 0s - loss: 1.2263 - accuracy: 0.38 - ETA: 0s - loss: 3.5628 - accuracy: 0.38 - 1s 42ms/step - loss: 3.1148 - accuracy: 0.3774 - val_loss: 28.2163 - val_accuracy: 0.3036\n",
      "Epoch 37/1000\n",
      "26/26 [==============================] - ETA: 0s - loss: 8.7987 - accuracy: 0.31 - ETA: 0s - loss: 3.7801 - accuracy: 0.39 - ETA: 0s - loss: 2.4787 - accuracy: 0.39 - ETA: 0s - loss: 2.5649 - accuracy: 0.38 - 1s 35ms/step - loss: 9.4532 - accuracy: 0.3894 - val_loss: 27.0390 - val_accuracy: 0.2917\n",
      "Epoch 38/1000\n",
      "26/26 [==============================] - ETA: 0s - loss: 1.1508 - accuracy: 0.34 - ETA: 0s - loss: 1.1678 - accuracy: 0.41 - ETA: 0s - loss: 1.3105 - accuracy: 0.39 - ETA: 0s - loss: 1.4257 - accuracy: 0.38 - 1s 41ms/step - loss: 1.4785 - accuracy: 0.3834 - val_loss: 16.3798 - val_accuracy: 0.2679\n",
      "Epoch 39/1000\n",
      "26/26 [==============================] - ETA: 0s - loss: 2.1716 - accuracy: 0.31 - ETA: 0s - loss: 1.3321 - accuracy: 0.40 - ETA: 0s - loss: 1.3852 - accuracy: 0.37 - ETA: 0s - loss: 1.3177 - accuracy: 0.37 - 1s 43ms/step - loss: 1.4091 - accuracy: 0.3786 - val_loss: 15.9617 - val_accuracy: 0.2917\n",
      "Epoch 40/1000\n",
      "26/26 [==============================] - ETA: 0s - loss: 1.3063 - accuracy: 0.28 - ETA: 0s - loss: 1.1962 - accuracy: 0.40 - ETA: 0s - loss: 1.2198 - accuracy: 0.38 - ETA: 0s - loss: 1.2064 - accuracy: 0.38 - 1s 43ms/step - loss: 1.2279 - accuracy: 0.3762 - val_loss: 15.9217 - val_accuracy: 0.2917\n",
      "Epoch 41/1000\n",
      "26/26 [==============================] - ETA: 0s - loss: 2.0054 - accuracy: 0.28 - ETA: 0s - loss: 1.3368 - accuracy: 0.40 - ETA: 0s - loss: 1.4023 - accuracy: 0.37 - ETA: 0s - loss: 1.8914 - accuracy: 0.37 - 1s 39ms/step - loss: 1.7632 - accuracy: 0.3798 - val_loss: 15.7722 - val_accuracy: 0.2857\n",
      "Epoch 42/1000\n",
      "26/26 [==============================] - ETA: 0s - loss: 1.6415 - accuracy: 0.25 - ETA: 0s - loss: 1.2762 - accuracy: 0.40 - ETA: 0s - loss: 1.2551 - accuracy: 0.39 - ETA: 0s - loss: 1.4131 - accuracy: 0.37 - ETA: 0s - loss: 1.3675 - accuracy: 0.37 - 1s 34ms/step - loss: 1.3581 - accuracy: 0.3702 - val_loss: 15.8692 - val_accuracy: 0.2798\n",
      "Epoch 43/1000\n",
      "26/26 [==============================] - ETA: 0s - loss: 3.7230 - accuracy: 0.28 - ETA: 0s - loss: 1.5356 - accuracy: 0.41 - ETA: 0s - loss: 1.4103 - accuracy: 0.39 - ETA: 0s - loss: 1.3393 - accuracy: 0.38 - 1s 39ms/step - loss: 1.5718 - accuracy: 0.3858 - val_loss: 16.1729 - val_accuracy: 0.2798\n",
      "Epoch 44/1000\n",
      "26/26 [==============================] - ETA: 0s - loss: 1.5370 - accuracy: 0.28 - ETA: 0s - loss: 2.0576 - accuracy: 0.41 - ETA: 0s - loss: 1.8609 - accuracy: 0.40 - ETA: 0s - loss: 1.6516 - accuracy: 0.38 - ETA: 0s - loss: 1.5965 - accuracy: 0.37 - 1s 46ms/step - loss: 1.5965 - accuracy: 0.3750 - val_loss: 16.3859 - val_accuracy: 0.2798\n",
      "Epoch 45/1000\n",
      "26/26 [==============================] - ETA: 0s - loss: 1.5885 - accuracy: 0.28 - ETA: 0s - loss: 1.3414 - accuracy: 0.41 - ETA: 0s - loss: 1.2713 - accuracy: 0.41 - ETA: 0s - loss: 1.4695 - accuracy: 0.38 - 1s 33ms/step - loss: 1.4191 - accuracy: 0.3786 - val_loss: 16.4512 - val_accuracy: 0.2917\n",
      "Epoch 46/1000\n",
      "26/26 [==============================] - ETA: 0s - loss: 1.2373 - accuracy: 0.28 - ETA: 0s - loss: 2.2200 - accuracy: 0.41 - ETA: 0s - loss: 1.7817 - accuracy: 0.38 - ETA: 0s - loss: 1.6058 - accuracy: 0.37 - ETA: 0s - loss: 1.5031 - accuracy: 0.37 - 1s 53ms/step - loss: 1.5031 - accuracy: 0.3762 - val_loss: 16.3628 - val_accuracy: 0.2917\n",
      "Epoch 47/1000\n",
      "26/26 [==============================] - ETA: 0s - loss: 1.2385 - accuracy: 0.28 - ETA: 0s - loss: 1.4214 - accuracy: 0.41 - ETA: 0s - loss: 1.3289 - accuracy: 0.38 - ETA: 0s - loss: 1.2826 - accuracy: 0.37 - 1s 41ms/step - loss: 1.2761 - accuracy: 0.3798 - val_loss: 16.3349 - val_accuracy: 0.2976\n",
      "Epoch 48/1000\n",
      "26/26 [==============================] - ETA: 0s - loss: 1.5262 - accuracy: 0.28 - ETA: 0s - loss: 1.5188 - accuracy: 0.39 - ETA: 0s - loss: 1.4155 - accuracy: 0.36 - ETA: 0s - loss: 1.3419 - accuracy: 0.37 - 1s 43ms/step - loss: 1.3379 - accuracy: 0.3702 - val_loss: 16.4449 - val_accuracy: 0.2798\n",
      "Epoch 49/1000\n",
      "26/26 [==============================] - ETA: 0s - loss: 1.2369 - accuracy: 0.31 - ETA: 0s - loss: 1.2325 - accuracy: 0.39 - ETA: 0s - loss: 1.2636 - accuracy: 0.39 - ETA: 0s - loss: 1.2532 - accuracy: 0.37 - ETA: 0s - loss: 1.3209 - accuracy: 0.37 - 1s 39ms/step - loss: 1.3209 - accuracy: 0.3714 - val_loss: 16.4810 - val_accuracy: 0.2798\n",
      "Epoch 50/1000\n",
      "26/26 [==============================] - ETA: 0s - loss: 1.2418 - accuracy: 0.31 - ETA: 0s - loss: 4.1230 - accuracy: 0.39 - ETA: 0s - loss: 2.8185 - accuracy: 0.38 - ETA: 0s - loss: 2.4451 - accuracy: 0.37 - ETA: 0s - loss: 2.1768 - accuracy: 0.37 - 1s 44ms/step - loss: 2.1768 - accuracy: 0.3714 - val_loss: 16.3833 - val_accuracy: 0.2917\n",
      "Epoch 51/1000\n"
     ]
    },
    {
     "name": "stdout",
     "output_type": "stream",
     "text": [
      "26/26 [==============================] - ETA: 0s - loss: 1.2807 - accuracy: 0.28 - ETA: 0s - loss: 1.2147 - accuracy: 0.38 - ETA: 0s - loss: 1.2325 - accuracy: 0.36 - ETA: 0s - loss: 1.4742 - accuracy: 0.36 - 1s 47ms/step - loss: 1.4414 - accuracy: 0.3654 - val_loss: 16.3440 - val_accuracy: 0.2976\n"
     ]
    },
    {
     "data": {
      "text/html": [
       "<span style=\"color:#4527A0\"><h1 style=\"font-size:18px\">Trial complete</h1></span>"
      ],
      "text/plain": [
       "<IPython.core.display.HTML object>"
      ]
     },
     "metadata": {},
     "output_type": "display_data"
    },
    {
     "data": {
      "text/html": [
       "<span style=\"color:#4527A0\"><h1 style=\"font-size:18px\">Trial summary</h1></span>"
      ],
      "text/plain": [
       "<IPython.core.display.HTML object>"
      ]
     },
     "metadata": {},
     "output_type": "display_data"
    },
    {
     "data": {
      "text/html": [
       "<span style=\"color:cyan\"> |-Trial ID: 573bee4bd94b2cfe927088b23ec0b254</span>"
      ],
      "text/plain": [
       "<IPython.core.display.HTML object>"
      ]
     },
     "metadata": {},
     "output_type": "display_data"
    },
    {
     "data": {
      "text/html": [
       "<span style=\"color:cyan\"> |-Score: 0.4642857015132904</span>"
      ],
      "text/plain": [
       "<IPython.core.display.HTML object>"
      ]
     },
     "metadata": {},
     "output_type": "display_data"
    },
    {
     "data": {
      "text/html": [
       "<span style=\"color:cyan\"> |-Best step: 2</span>"
      ],
      "text/plain": [
       "<IPython.core.display.HTML object>"
      ]
     },
     "metadata": {},
     "output_type": "display_data"
    },
    {
     "data": {
      "text/html": [
       "<span style=\"color:#7E57C2\"><h2 style=\"font-size:16px\">Hyperparameters:</h2></span>"
      ],
      "text/plain": [
       "<IPython.core.display.HTML object>"
      ]
     },
     "metadata": {},
     "output_type": "display_data"
    },
    {
     "data": {
      "text/html": [
       "<span style=\"color:cyan\"> |-classification_head_1/dropout: 0.25</span>"
      ],
      "text/plain": [
       "<IPython.core.display.HTML object>"
      ]
     },
     "metadata": {},
     "output_type": "display_data"
    },
    {
     "data": {
      "text/html": [
       "<span style=\"color:blue\"> |-learning_rate: 0.001</span>"
      ],
      "text/plain": [
       "<IPython.core.display.HTML object>"
      ]
     },
     "metadata": {},
     "output_type": "display_data"
    },
    {
     "data": {
      "text/html": [
       "<span style=\"color:cyan\"> |-optimizer: adam</span>"
      ],
      "text/plain": [
       "<IPython.core.display.HTML object>"
      ]
     },
     "metadata": {},
     "output_type": "display_data"
    },
    {
     "data": {
      "text/html": [
       "<span style=\"color:blue\"> |-structured_data_block_1/dense_block_1/dropout: 0.25</span>"
      ],
      "text/plain": [
       "<IPython.core.display.HTML object>"
      ]
     },
     "metadata": {},
     "output_type": "display_data"
    },
    {
     "data": {
      "text/html": [
       "<span style=\"color:cyan\"> |-structured_data_block_1/dense_block_1/num_layers: 1</span>"
      ],
      "text/plain": [
       "<IPython.core.display.HTML object>"
      ]
     },
     "metadata": {},
     "output_type": "display_data"
    },
    {
     "data": {
      "text/html": [
       "<span style=\"color:blue\"> |-structured_data_block_1/dense_block_1/units_0: 128</span>"
      ],
      "text/plain": [
       "<IPython.core.display.HTML object>"
      ]
     },
     "metadata": {},
     "output_type": "display_data"
    },
    {
     "data": {
      "text/html": [
       "<span style=\"color:cyan\"> |-structured_data_block_1/dense_block_1/units_1: 512</span>"
      ],
      "text/plain": [
       "<IPython.core.display.HTML object>"
      ]
     },
     "metadata": {},
     "output_type": "display_data"
    },
    {
     "data": {
      "text/html": [
       "<span style=\"color:blue\"> |-structured_data_block_1/dense_block_1/units_2: 16</span>"
      ],
      "text/plain": [
       "<IPython.core.display.HTML object>"
      ]
     },
     "metadata": {},
     "output_type": "display_data"
    },
    {
     "data": {
      "text/html": [
       "<span style=\"color:cyan\"> |-structured_data_block_1/dense_block_1/use_batchnorm: False</span>"
      ],
      "text/plain": [
       "<IPython.core.display.HTML object>"
      ]
     },
     "metadata": {},
     "output_type": "display_data"
    },
    {
     "data": {
      "text/html": [
       "<span style=\"color:#4527A0\"><h1 style=\"font-size:18px\">Starting new trial</h1></span>"
      ],
      "text/plain": [
       "<IPython.core.display.HTML object>"
      ]
     },
     "metadata": {},
     "output_type": "display_data"
    },
    {
     "name": "stdout",
     "output_type": "stream",
     "text": [
      "Epoch 1/1000\n",
      "26/26 [==============================] - ETA: 0s - loss: 3636.5981 - accuracy: 0.218 - ETA: 0s - loss: 2865.1118 - accuracy: 0.196 - ETA: 0s - loss: 2259.1479 - accuracy: 0.252 - ETA: 0s - loss: 2104.7715 - accuracy: 0.261 - ETA: 0s - loss: 1952.1541 - accuracy: 0.268 - 6s 219ms/step - loss: 1951.5099 - accuracy: 0.2716 - val_loss: 669.3846 - val_accuracy: 0.3750\n",
      "Epoch 2/1000\n",
      "26/26 [==============================] - ETA: 0s - loss: 1513.6655 - accuracy: 0.250 - ETA: 0s - loss: 981.2914 - accuracy: 0.366 - ETA: 0s - loss: 871.7106 - accuracy: 0.35 - ETA: 0s - loss: 887.6907 - accuracy: 0.35 - ETA: 0s - loss: 845.3878 - accuracy: 0.36 - 1s 43ms/step - loss: 845.3878 - accuracy: 0.3678 - val_loss: 475.0143 - val_accuracy: 0.4464\n",
      "Epoch 3/1000\n",
      "26/26 [==============================] - ETA: 0s - loss: 701.3711 - accuracy: 0.25 - ETA: 0s - loss: 559.0181 - accuracy: 0.37 - ETA: 0s - loss: 504.6083 - accuracy: 0.37 - ETA: 0s - loss: 498.8731 - accuracy: 0.37 - ETA: 0s - loss: 491.2416 - accuracy: 0.37 - 1s 50ms/step - loss: 491.2416 - accuracy: 0.3714 - val_loss: 303.2144 - val_accuracy: 0.4762\n",
      "Epoch 4/1000\n",
      "26/26 [==============================] - ETA: 0s - loss: 346.7996 - accuracy: 0.37 - ETA: 0s - loss: 332.2276 - accuracy: 0.41 - ETA: 0s - loss: 298.1654 - accuracy: 0.41 - ETA: 0s - loss: 282.2286 - accuracy: 0.43 - ETA: 0s - loss: 264.8221 - accuracy: 0.43 - 1s 42ms/step - loss: 259.8550 - accuracy: 0.4339 - val_loss: 203.4405 - val_accuracy: 0.4405\n",
      "Epoch 5/1000\n",
      "26/26 [==============================] - ETA: 0s - loss: 305.4755 - accuracy: 0.50 - ETA: 0s - loss: 393.6481 - accuracy: 0.43 - ETA: 0s - loss: 253.2162 - accuracy: 0.45 - ETA: 0s - loss: 216.7889 - accuracy: 0.46 - ETA: 0s - loss: 213.9958 - accuracy: 0.45 - 2s 61ms/step - loss: 204.4944 - accuracy: 0.4615 - val_loss: 124.4197 - val_accuracy: 0.4583\n",
      "Epoch 6/1000\n",
      "26/26 [==============================] - ETA: 0s - loss: 162.2144 - accuracy: 0.40 - ETA: 0s - loss: 85.6291 - accuracy: 0.4643 - ETA: 0s - loss: 81.3950 - accuracy: 0.451 - ETA: 0s - loss: 72.5665 - accuracy: 0.452 - ETA: 0s - loss: 67.3777 - accuracy: 0.436 - 1s 51ms/step - loss: 67.4663 - accuracy: 0.4399 - val_loss: 86.5472 - val_accuracy: 0.3690\n",
      "Epoch 7/1000\n",
      "26/26 [==============================] - ETA: 0s - loss: 109.1685 - accuracy: 0.46 - ETA: 0s - loss: 52.0865 - accuracy: 0.3973 - ETA: 0s - loss: 49.5666 - accuracy: 0.444 - ETA: 0s - loss: 46.3885 - accuracy: 0.453 - ETA: 0s - loss: 42.9605 - accuracy: 0.438 - 1s 44ms/step - loss: 42.9605 - accuracy: 0.4387 - val_loss: 55.3950 - val_accuracy: 0.3869\n",
      "Epoch 8/1000\n",
      "26/26 [==============================] - ETA: 0s - loss: 72.7454 - accuracy: 0.406 - ETA: 0s - loss: 32.3501 - accuracy: 0.433 - ETA: 0s - loss: 27.0880 - accuracy: 0.432 - ETA: 0s - loss: 27.7930 - accuracy: 0.419 - ETA: 0s - loss: 27.1302 - accuracy: 0.412 - 1s 48ms/step - loss: 26.7088 - accuracy: 0.4171 - val_loss: 40.4675 - val_accuracy: 0.3690\n",
      "Epoch 9/1000\n",
      "26/26 [==============================] - ETA: 0s - loss: 42.8277 - accuracy: 0.468 - ETA: 0s - loss: 24.1948 - accuracy: 0.364 - ETA: 0s - loss: 18.5008 - accuracy: 0.394 - ETA: 0s - loss: 15.2938 - accuracy: 0.397 - ETA: 0s - loss: 16.9412 - accuracy: 0.384 - 1s 54ms/step - loss: 15.7984 - accuracy: 0.3834 - val_loss: 34.5252 - val_accuracy: 0.3571\n",
      "Epoch 10/1000\n",
      "26/26 [==============================] - ETA: 0s - loss: 34.2487 - accuracy: 0.375 - ETA: 0s - loss: 13.5066 - accuracy: 0.330 - ETA: 0s - loss: 11.2780 - accuracy: 0.334 - ETA: 0s - loss: 11.8289 - accuracy: 0.358 - ETA: 0s - loss: 12.2832 - accuracy: 0.362 - 1s 37ms/step - loss: 12.1770 - accuracy: 0.3618 - val_loss: 31.7003 - val_accuracy: 0.3333\n",
      "Epoch 11/1000\n",
      "26/26 [==============================] - ETA: 0s - loss: 30.8791 - accuracy: 0.343 - ETA: 0s - loss: 15.5887 - accuracy: 0.334 - ETA: 0s - loss: 11.8238 - accuracy: 0.343 - ETA: 0s - loss: 9.9575 - accuracy: 0.370 - 1s 56ms/step - loss: 9.3330 - accuracy: 0.3654 - val_loss: 32.9111 - val_accuracy: 0.3452\n",
      "Epoch 12/1000\n",
      "26/26 [==============================] - ETA: 0s - loss: 27.2593 - accuracy: 0.312 - ETA: 0s - loss: 278.3409 - accuracy: 0.34 - ETA: 0s - loss: 152.8011 - accuracy: 0.34 - ETA: 0s - loss: 103.1801 - accuracy: 0.36 - 1s 51ms/step - loss: 81.2344 - accuracy: 0.3570 - val_loss: 21.8761 - val_accuracy: 0.3631\n",
      "Epoch 13/1000\n",
      "26/26 [==============================] - ETA: 0s - loss: 4.8029 - accuracy: 0.43 - ETA: 0s - loss: 8.5337 - accuracy: 0.39 - ETA: 0s - loss: 6.7443 - accuracy: 0.36 - ETA: 0s - loss: 10.0979 - accuracy: 0.361 - ETA: 0s - loss: 9.5073 - accuracy: 0.375 - 1s 54ms/step - loss: 9.0487 - accuracy: 0.3678 - val_loss: 26.1760 - val_accuracy: 0.3452\n",
      "Epoch 14/1000\n",
      "26/26 [==============================] - ETA: 0s - loss: 7.1741 - accuracy: 0.40 - ETA: 0s - loss: 43.8560 - accuracy: 0.379 - ETA: 0s - loss: 25.4238 - accuracy: 0.365 - ETA: 0s - loss: 20.4456 - accuracy: 0.363 - ETA: 0s - loss: 16.0808 - accuracy: 0.366 - 1s 40ms/step - loss: 16.0808 - accuracy: 0.3666 - val_loss: 22.0224 - val_accuracy: 0.3393\n",
      "Epoch 15/1000\n",
      "26/26 [==============================] - ETA: 0s - loss: 17.8829 - accuracy: 0.437 - ETA: 0s - loss: 5.9405 - accuracy: 0.397 - ETA: 0s - loss: 4.4743 - accuracy: 0.37 - ETA: 0s - loss: 3.7341 - accuracy: 0.39 - ETA: 0s - loss: 3.9625 - accuracy: 0.37 - 1s 44ms/step - loss: 3.9625 - accuracy: 0.3786 - val_loss: 18.1504 - val_accuracy: 0.3274\n",
      "Epoch 16/1000\n",
      "26/26 [==============================] - ETA: 0s - loss: 9.8261 - accuracy: 0.37 - ETA: 0s - loss: 3.5110 - accuracy: 0.36 - ETA: 0s - loss: 7.1672 - accuracy: 0.34 - ETA: 0s - loss: 5.8209 - accuracy: 0.36 - 1s 48ms/step - loss: 5.3218 - accuracy: 0.3582 - val_loss: 15.6798 - val_accuracy: 0.3214\n",
      "Epoch 17/1000\n",
      "26/26 [==============================] - ETA: 0s - loss: 20.6705 - accuracy: 0.437 - ETA: 0s - loss: 8.9128 - accuracy: 0.385 - ETA: 0s - loss: 5.4145 - accuracy: 0.37 - ETA: 0s - loss: 4.3618 - accuracy: 0.36 - ETA: 0s - loss: 4.1188 - accuracy: 0.37 - 1s 51ms/step - loss: 3.8501 - accuracy: 0.3678 - val_loss: 15.0391 - val_accuracy: 0.3333\n",
      "Epoch 18/1000\n",
      "26/26 [==============================] - ETA: 0s - loss: 1.6724 - accuracy: 0.46 - ETA: 0s - loss: 2.3269 - accuracy: 0.38 - ETA: 0s - loss: 2.8257 - accuracy: 0.37 - ETA: 0s - loss: 2.4772 - accuracy: 0.35 - ETA: 0s - loss: 2.3083 - accuracy: 0.36 - 1s 41ms/step - loss: 2.2205 - accuracy: 0.3642 - val_loss: 14.8392 - val_accuracy: 0.2976\n",
      "Epoch 19/1000\n",
      "26/26 [==============================] - ETA: 0s - loss: 1.8712 - accuracy: 0.43 - ETA: 0s - loss: 3.4242 - accuracy: 0.37 - ETA: 0s - loss: 3.2813 - accuracy: 0.35 - ETA: 0s - loss: 2.6592 - accuracy: 0.36 - ETA: 0s - loss: 2.4425 - accuracy: 0.36 - 1s 41ms/step - loss: 2.4230 - accuracy: 0.3666 - val_loss: 14.4117 - val_accuracy: 0.2857\n",
      "Epoch 20/1000\n",
      "26/26 [==============================] - ETA: 0s - loss: 1.2958 - accuracy: 0.46 - ETA: 0s - loss: 1.4466 - accuracy: 0.39 - ETA: 0s - loss: 3.5872 - accuracy: 0.35 - ETA: 0s - loss: 3.3798 - accuracy: 0.34 - ETA: 0s - loss: 2.9342 - accuracy: 0.34 - 1s 40ms/step - loss: 2.9342 - accuracy: 0.3438 - val_loss: 13.3104 - val_accuracy: 0.3512\n",
      "Epoch 21/1000\n",
      "26/26 [==============================] - ETA: 0s - loss: 1.0789 - accuracy: 0.40 - ETA: 0s - loss: 1.1701 - accuracy: 0.35 - ETA: 0s - loss: 1.2719 - accuracy: 0.37 - ETA: 0s - loss: 2.0908 - accuracy: 0.37 - 1s 35ms/step - loss: 1.9944 - accuracy: 0.3738 - val_loss: 13.1898 - val_accuracy: 0.3452\n",
      "Epoch 22/1000\n",
      "26/26 [==============================] - ETA: 0s - loss: 9.6380 - accuracy: 0.40 - ETA: 0s - loss: 4.5466 - accuracy: 0.44 - ETA: 0s - loss: 5.1045 - accuracy: 0.40 - ETA: 0s - loss: 3.8957 - accuracy: 0.38 - ETA: 0s - loss: 3.2332 - accuracy: 0.38 - 1s 44ms/step - loss: 3.2332 - accuracy: 0.3894 - val_loss: 15.4584 - val_accuracy: 0.3631\n",
      "Epoch 23/1000\n",
      "26/26 [==============================] - ETA: 0s - loss: 1.5376 - accuracy: 0.31 - ETA: 0s - loss: 1.4742 - accuracy: 0.42 - ETA: 0s - loss: 2.0099 - accuracy: 0.40 - ETA: 0s - loss: 2.5687 - accuracy: 0.40 - ETA: 0s - loss: 2.3456 - accuracy: 0.40 - 1s 48ms/step - loss: 2.3456 - accuracy: 0.4014 - val_loss: 15.8084 - val_accuracy: 0.3631\n",
      "Epoch 24/1000\n"
     ]
    },
    {
     "name": "stdout",
     "output_type": "stream",
     "text": [
      "26/26 [==============================] - ETA: 0s - loss: 6.2170 - accuracy: 0.40 - ETA: 0s - loss: 2.0377 - accuracy: 0.44 - ETA: 0s - loss: 1.7323 - accuracy: 0.40 - ETA: 0s - loss: 1.5530 - accuracy: 0.40 - ETA: 0s - loss: 1.7272 - accuracy: 0.40 - 1s 36ms/step - loss: 1.7272 - accuracy: 0.4038 - val_loss: 15.4774 - val_accuracy: 0.3512\n",
      "Epoch 25/1000\n",
      "26/26 [==============================] - ETA: 0s - loss: 1.0239 - accuracy: 0.40 - ETA: 0s - loss: 2.2654 - accuracy: 0.41 - ETA: 0s - loss: 1.8314 - accuracy: 0.39 - ETA: 0s - loss: 2.2573 - accuracy: 0.39 - ETA: 0s - loss: 2.0376 - accuracy: 0.38 - 1s 47ms/step - loss: 2.0376 - accuracy: 0.3858 - val_loss: 14.7303 - val_accuracy: 0.3512\n",
      "Epoch 26/1000\n",
      "26/26 [==============================] - ETA: 0s - loss: 1.4607 - accuracy: 0.37 - ETA: 0s - loss: 1.4555 - accuracy: 0.40 - ETA: 0s - loss: 1.3220 - accuracy: 0.39 - ETA: 0s - loss: 1.2674 - accuracy: 0.39 - ETA: 0s - loss: 1.2964 - accuracy: 0.39 - 1s 41ms/step - loss: 1.2964 - accuracy: 0.3906 - val_loss: 14.2057 - val_accuracy: 0.3571\n",
      "Epoch 27/1000\n",
      "26/26 [==============================] - ETA: 0s - loss: 1.0772 - accuracy: 0.40 - ETA: 0s - loss: 1.4468 - accuracy: 0.41 - ETA: 0s - loss: 1.3114 - accuracy: 0.39 - ETA: 0s - loss: 1.2811 - accuracy: 0.38 - ETA: 0s - loss: 1.2791 - accuracy: 0.38 - 1s 42ms/step - loss: 1.2751 - accuracy: 0.3858 - val_loss: 14.1757 - val_accuracy: 0.3631\n",
      "Epoch 28/1000\n",
      "26/26 [==============================] - ETA: 0s - loss: 1.0106 - accuracy: 0.43 - ETA: 0s - loss: 1.1940 - accuracy: 0.41 - ETA: 0s - loss: 1.3596 - accuracy: 0.39 - ETA: 0s - loss: 1.3009 - accuracy: 0.40 - 1s 42ms/step - loss: 1.2950 - accuracy: 0.3966 - val_loss: 14.2375 - val_accuracy: 0.3512\n",
      "Epoch 29/1000\n",
      "26/26 [==============================] - ETA: 0s - loss: 1.0628 - accuracy: 0.40 - ETA: 0s - loss: 1.2332 - accuracy: 0.41 - ETA: 0s - loss: 1.2168 - accuracy: 0.39 - ETA: 0s - loss: 1.4278 - accuracy: 0.39 - 1s 41ms/step - loss: 1.3908 - accuracy: 0.3966 - val_loss: 14.2220 - val_accuracy: 0.3631\n",
      "Epoch 30/1000\n",
      "26/26 [==============================] - ETA: 0s - loss: 1.8705 - accuracy: 0.34 - ETA: 0s - loss: 1.9748 - accuracy: 0.38 - ETA: 0s - loss: 1.7022 - accuracy: 0.38 - ETA: 0s - loss: 2.1411 - accuracy: 0.38 - 1s 47ms/step - loss: 1.9449 - accuracy: 0.3906 - val_loss: 13.6061 - val_accuracy: 0.3631\n",
      "Epoch 31/1000\n",
      "26/26 [==============================] - ETA: 0s - loss: 1.0257 - accuracy: 0.43 - ETA: 0s - loss: 1.9123 - accuracy: 0.42 - ETA: 0s - loss: 2.1237 - accuracy: 0.39 - ETA: 0s - loss: 1.8325 - accuracy: 0.38 - ETA: 0s - loss: 1.6892 - accuracy: 0.39 - 1s 35ms/step - loss: 1.7738 - accuracy: 0.3894 - val_loss: 13.5243 - val_accuracy: 0.3690\n"
     ]
    },
    {
     "data": {
      "text/html": [
       "<span style=\"color:#4527A0\"><h1 style=\"font-size:18px\">Trial complete</h1></span>"
      ],
      "text/plain": [
       "<IPython.core.display.HTML object>"
      ]
     },
     "metadata": {},
     "output_type": "display_data"
    },
    {
     "data": {
      "text/html": [
       "<span style=\"color:#4527A0\"><h1 style=\"font-size:18px\">Trial summary</h1></span>"
      ],
      "text/plain": [
       "<IPython.core.display.HTML object>"
      ]
     },
     "metadata": {},
     "output_type": "display_data"
    },
    {
     "data": {
      "text/html": [
       "<span style=\"color:cyan\"> |-Trial ID: 9aebc61f140a3a1a1b204c8ec9d19340</span>"
      ],
      "text/plain": [
       "<IPython.core.display.HTML object>"
      ]
     },
     "metadata": {},
     "output_type": "display_data"
    },
    {
     "data": {
      "text/html": [
       "<span style=\"color:cyan\"> |-Score: 0.4761904776096344</span>"
      ],
      "text/plain": [
       "<IPython.core.display.HTML object>"
      ]
     },
     "metadata": {},
     "output_type": "display_data"
    },
    {
     "data": {
      "text/html": [
       "<span style=\"color:cyan\"> |-Best step: 2</span>"
      ],
      "text/plain": [
       "<IPython.core.display.HTML object>"
      ]
     },
     "metadata": {},
     "output_type": "display_data"
    },
    {
     "data": {
      "text/html": [
       "<span style=\"color:#7E57C2\"><h2 style=\"font-size:16px\">Hyperparameters:</h2></span>"
      ],
      "text/plain": [
       "<IPython.core.display.HTML object>"
      ]
     },
     "metadata": {},
     "output_type": "display_data"
    },
    {
     "data": {
      "text/html": [
       "<span style=\"color:cyan\"> |-classification_head_1/dropout: 0.25</span>"
      ],
      "text/plain": [
       "<IPython.core.display.HTML object>"
      ]
     },
     "metadata": {},
     "output_type": "display_data"
    },
    {
     "data": {
      "text/html": [
       "<span style=\"color:blue\"> |-learning_rate: 0.001</span>"
      ],
      "text/plain": [
       "<IPython.core.display.HTML object>"
      ]
     },
     "metadata": {},
     "output_type": "display_data"
    },
    {
     "data": {
      "text/html": [
       "<span style=\"color:cyan\"> |-optimizer: adam</span>"
      ],
      "text/plain": [
       "<IPython.core.display.HTML object>"
      ]
     },
     "metadata": {},
     "output_type": "display_data"
    },
    {
     "data": {
      "text/html": [
       "<span style=\"color:blue\"> |-structured_data_block_1/dense_block_1/dropout: 0.25</span>"
      ],
      "text/plain": [
       "<IPython.core.display.HTML object>"
      ]
     },
     "metadata": {},
     "output_type": "display_data"
    },
    {
     "data": {
      "text/html": [
       "<span style=\"color:cyan\"> |-structured_data_block_1/dense_block_1/num_layers: 1</span>"
      ],
      "text/plain": [
       "<IPython.core.display.HTML object>"
      ]
     },
     "metadata": {},
     "output_type": "display_data"
    },
    {
     "data": {
      "text/html": [
       "<span style=\"color:blue\"> |-structured_data_block_1/dense_block_1/units_0: 128</span>"
      ],
      "text/plain": [
       "<IPython.core.display.HTML object>"
      ]
     },
     "metadata": {},
     "output_type": "display_data"
    },
    {
     "data": {
      "text/html": [
       "<span style=\"color:cyan\"> |-structured_data_block_1/dense_block_1/units_1: 512</span>"
      ],
      "text/plain": [
       "<IPython.core.display.HTML object>"
      ]
     },
     "metadata": {},
     "output_type": "display_data"
    },
    {
     "data": {
      "text/html": [
       "<span style=\"color:blue\"> |-structured_data_block_1/dense_block_1/units_2: 256</span>"
      ],
      "text/plain": [
       "<IPython.core.display.HTML object>"
      ]
     },
     "metadata": {},
     "output_type": "display_data"
    },
    {
     "data": {
      "text/html": [
       "<span style=\"color:cyan\"> |-structured_data_block_1/dense_block_1/use_batchnorm: False</span>"
      ],
      "text/plain": [
       "<IPython.core.display.HTML object>"
      ]
     },
     "metadata": {},
     "output_type": "display_data"
    },
    {
     "data": {
      "text/html": [
       "<span style=\"color:#4527A0\"><h1 style=\"font-size:18px\">Starting new trial</h1></span>"
      ],
      "text/plain": [
       "<IPython.core.display.HTML object>"
      ]
     },
     "metadata": {},
     "output_type": "display_data"
    },
    {
     "name": "stdout",
     "output_type": "stream",
     "text": [
      "Epoch 1/1000\n",
      "26/26 [==============================] - ETA: 0s - loss: 1.6417 - accuracy: 0.28 - ETA: 0s - loss: 1.6371 - accuracy: 0.31 - ETA: 0s - loss: 1.5528 - accuracy: 0.34 - ETA: 0s - loss: 1.5482 - accuracy: 0.34 - ETA: 0s - loss: 1.5144 - accuracy: 0.35 - 6s 219ms/step - loss: 1.4933 - accuracy: 0.3606 - val_loss: 2.0679 - val_accuracy: 0.2798\n",
      "Epoch 2/1000\n",
      "26/26 [==============================] - ETA: 0s - loss: 1.1290 - accuracy: 0.53 - ETA: 0s - loss: 1.2467 - accuracy: 0.48 - ETA: 0s - loss: 1.2306 - accuracy: 0.48 - ETA: 0s - loss: 1.2064 - accuracy: 0.49 - ETA: 0s - loss: 1.2068 - accuracy: 0.48 - 1s 29ms/step - loss: 1.1947 - accuracy: 0.4940 - val_loss: 1.4051 - val_accuracy: 0.3571\n",
      "Epoch 3/1000\n",
      "26/26 [==============================] - ETA: 0s - loss: 1.0377 - accuracy: 0.59 - ETA: 0s - loss: 1.1264 - accuracy: 0.53 - ETA: 0s - loss: 1.0699 - accuracy: 0.55 - ETA: 0s - loss: 1.0566 - accuracy: 0.56 - ETA: 0s - loss: 1.0797 - accuracy: 0.54 - 1s 42ms/step - loss: 1.0696 - accuracy: 0.5517 - val_loss: 1.2556 - val_accuracy: 0.3929\n",
      "Epoch 4/1000\n",
      "26/26 [==============================] - ETA: 0s - loss: 0.9662 - accuracy: 0.62 - ETA: 0s - loss: 1.1267 - accuracy: 0.56 - ETA: 0s - loss: 1.0569 - accuracy: 0.58 - ETA: 0s - loss: 1.0323 - accuracy: 0.57 - ETA: 0s - loss: 1.0339 - accuracy: 0.56 - 1s 38ms/step - loss: 1.0339 - accuracy: 0.5625 - val_loss: 1.1765 - val_accuracy: 0.4405\n",
      "Epoch 5/1000\n",
      "26/26 [==============================] - ETA: 0s - loss: 1.0024 - accuracy: 0.53 - ETA: 0s - loss: 1.0142 - accuracy: 0.62 - ETA: 0s - loss: 0.9392 - accuracy: 0.62 - ETA: 0s - loss: 0.9340 - accuracy: 0.61 - ETA: 0s - loss: 0.9478 - accuracy: 0.60 - 2s 59ms/step - loss: 0.9391 - accuracy: 0.6142 - val_loss: 1.1452 - val_accuracy: 0.4583\n",
      "Epoch 6/1000\n",
      "26/26 [==============================] - ETA: 0s - loss: 1.0375 - accuracy: 0.62 - ETA: 0s - loss: 0.9676 - accuracy: 0.58 - ETA: 0s - loss: 0.9309 - accuracy: 0.61 - ETA: 0s - loss: 0.9232 - accuracy: 0.61 - ETA: 0s - loss: 0.9213 - accuracy: 0.62 - 1s 35ms/step - loss: 0.9213 - accuracy: 0.6202 - val_loss: 1.1368 - val_accuracy: 0.5119\n",
      "Epoch 7/1000\n",
      "26/26 [==============================] - ETA: 0s - loss: 0.8656 - accuracy: 0.71 - ETA: 0s - loss: 0.8890 - accuracy: 0.62 - ETA: 0s - loss: 0.8687 - accuracy: 0.62 - ETA: 0s - loss: 0.8706 - accuracy: 0.63 - 1s 41ms/step - loss: 0.8646 - accuracy: 0.6370 - val_loss: 1.1296 - val_accuracy: 0.4940\n",
      "Epoch 8/1000\n",
      "26/26 [==============================] - ETA: 0s - loss: 0.7633 - accuracy: 0.62 - ETA: 0s - loss: 0.8905 - accuracy: 0.64 - ETA: 0s - loss: 0.8242 - accuracy: 0.67 - ETA: 0s - loss: 0.8195 - accuracy: 0.67 - ETA: 0s - loss: 0.8217 - accuracy: 0.67 - 1s 41ms/step - loss: 0.8217 - accuracy: 0.6755 - val_loss: 1.1401 - val_accuracy: 0.5476\n",
      "Epoch 9/1000\n",
      "26/26 [==============================] - ETA: 0s - loss: 0.7739 - accuracy: 0.68 - ETA: 0s - loss: 0.8276 - accuracy: 0.66 - ETA: 0s - loss: 0.7818 - accuracy: 0.67 - ETA: 0s - loss: 0.7925 - accuracy: 0.68 - 1s 44ms/step - loss: 0.7850 - accuracy: 0.6863 - val_loss: 1.1555 - val_accuracy: 0.5298\n",
      "Epoch 10/1000\n",
      "26/26 [==============================] - ETA: 0s - loss: 0.7299 - accuracy: 0.78 - ETA: 0s - loss: 0.8018 - accuracy: 0.71 - ETA: 0s - loss: 0.7574 - accuracy: 0.71 - ETA: 0s - loss: 0.7501 - accuracy: 0.70 - 1s 36ms/step - loss: 0.7504 - accuracy: 0.7079 - val_loss: 1.1530 - val_accuracy: 0.5238\n",
      "Epoch 11/1000\n",
      "26/26 [==============================] - ETA: 0s - loss: 0.8174 - accuracy: 0.62 - ETA: 0s - loss: 0.7673 - accuracy: 0.71 - ETA: 0s - loss: 0.7144 - accuracy: 0.73 - ETA: 0s - loss: 0.7313 - accuracy: 0.72 - ETA: 0s - loss: 0.7236 - accuracy: 0.73 - 1s 56ms/step - loss: 0.7236 - accuracy: 0.7320 - val_loss: 1.2032 - val_accuracy: 0.4940\n",
      "Epoch 12/1000\n",
      "26/26 [==============================] - ETA: 0s - loss: 0.6559 - accuracy: 0.78 - ETA: 0s - loss: 0.7864 - accuracy: 0.71 - ETA: 0s - loss: 0.7115 - accuracy: 0.74 - ETA: 0s - loss: 0.7305 - accuracy: 0.72 - ETA: 0s - loss: 0.7453 - accuracy: 0.71 - 1s 34ms/step - loss: 0.7303 - accuracy: 0.7248 - val_loss: 1.1925 - val_accuracy: 0.5179\n",
      "Epoch 13/1000\n",
      "26/26 [==============================] - ETA: 0s - loss: 0.8367 - accuracy: 0.68 - ETA: 0s - loss: 0.7770 - accuracy: 0.74 - ETA: 0s - loss: 0.7020 - accuracy: 0.74 - ETA: 0s - loss: 0.6904 - accuracy: 0.74 - ETA: 0s - loss: 0.6950 - accuracy: 0.74 - 1s 35ms/step - loss: 0.6950 - accuracy: 0.7464 - val_loss: 1.2273 - val_accuracy: 0.5000\n",
      "Epoch 14/1000\n",
      "26/26 [==============================] - ETA: 0s - loss: 0.6720 - accuracy: 0.78 - ETA: 0s - loss: 0.7459 - accuracy: 0.73 - ETA: 0s - loss: 0.6991 - accuracy: 0.74 - ETA: 0s - loss: 0.7069 - accuracy: 0.73 - 1s 38ms/step - loss: 0.6942 - accuracy: 0.7308 - val_loss: 1.1716 - val_accuracy: 0.5179\n",
      "Epoch 15/1000\n",
      "26/26 [==============================] - ETA: 0s - loss: 0.7801 - accuracy: 0.65 - ETA: 0s - loss: 0.7190 - accuracy: 0.73 - ETA: 0s - loss: 0.6720 - accuracy: 0.74 - ETA: 0s - loss: 0.6759 - accuracy: 0.74 - 1s 45ms/step - loss: 0.6552 - accuracy: 0.7512 - val_loss: 1.2114 - val_accuracy: 0.5119\n",
      "Epoch 16/1000\n",
      "26/26 [==============================] - ETA: 0s - loss: 0.6736 - accuracy: 0.68 - ETA: 0s - loss: 0.6972 - accuracy: 0.79 - ETA: 0s - loss: 0.6665 - accuracy: 0.78 - ETA: 0s - loss: 0.6485 - accuracy: 0.78 - ETA: 0s - loss: 0.6542 - accuracy: 0.77 - 1s 54ms/step - loss: 0.6393 - accuracy: 0.7861 - val_loss: 1.1785 - val_accuracy: 0.5357\n",
      "Epoch 17/1000\n",
      "26/26 [==============================] - ETA: 0s - loss: 0.6905 - accuracy: 0.62 - ETA: 0s - loss: 0.6652 - accuracy: 0.77 - ETA: 0s - loss: 0.6268 - accuracy: 0.78 - ETA: 0s - loss: 0.6227 - accuracy: 0.78 - ETA: 0s - loss: 0.6074 - accuracy: 0.79 - 1s 50ms/step - loss: 0.6074 - accuracy: 0.7981 - val_loss: 1.2935 - val_accuracy: 0.5000\n"
     ]
    },
    {
     "data": {
      "text/html": [
       "<span style=\"color:#4527A0\"><h1 style=\"font-size:18px\">Trial complete</h1></span>"
      ],
      "text/plain": [
       "<IPython.core.display.HTML object>"
      ]
     },
     "metadata": {},
     "output_type": "display_data"
    },
    {
     "data": {
      "text/html": [
       "<span style=\"color:#4527A0\"><h1 style=\"font-size:18px\">Trial summary</h1></span>"
      ],
      "text/plain": [
       "<IPython.core.display.HTML object>"
      ]
     },
     "metadata": {},
     "output_type": "display_data"
    },
    {
     "data": {
      "text/html": [
       "<span style=\"color:cyan\"> |-Trial ID: 9a9504e7fde0656e2f0cdbe5d2c5c93c</span>"
      ],
      "text/plain": [
       "<IPython.core.display.HTML object>"
      ]
     },
     "metadata": {},
     "output_type": "display_data"
    },
    {
     "data": {
      "text/html": [
       "<span style=\"color:cyan\"> |-Score: 0.5476190447807312</span>"
      ],
      "text/plain": [
       "<IPython.core.display.HTML object>"
      ]
     },
     "metadata": {},
     "output_type": "display_data"
    },
    {
     "data": {
      "text/html": [
       "<span style=\"color:cyan\"> |-Best step: 7</span>"
      ],
      "text/plain": [
       "<IPython.core.display.HTML object>"
      ]
     },
     "metadata": {},
     "output_type": "display_data"
    },
    {
     "data": {
      "text/html": [
       "<span style=\"color:#7E57C2\"><h2 style=\"font-size:16px\">Hyperparameters:</h2></span>"
      ],
      "text/plain": [
       "<IPython.core.display.HTML object>"
      ]
     },
     "metadata": {},
     "output_type": "display_data"
    },
    {
     "data": {
      "text/html": [
       "<span style=\"color:cyan\"> |-classification_head_1/dropout: 0.25</span>"
      ],
      "text/plain": [
       "<IPython.core.display.HTML object>"
      ]
     },
     "metadata": {},
     "output_type": "display_data"
    },
    {
     "data": {
      "text/html": [
       "<span style=\"color:blue\"> |-learning_rate: 0.001</span>"
      ],
      "text/plain": [
       "<IPython.core.display.HTML object>"
      ]
     },
     "metadata": {},
     "output_type": "display_data"
    },
    {
     "data": {
      "text/html": [
       "<span style=\"color:cyan\"> |-optimizer: adam</span>"
      ],
      "text/plain": [
       "<IPython.core.display.HTML object>"
      ]
     },
     "metadata": {},
     "output_type": "display_data"
    },
    {
     "data": {
      "text/html": [
       "<span style=\"color:blue\"> |-structured_data_block_1/dense_block_1/dropout: 0.0</span>"
      ],
      "text/plain": [
       "<IPython.core.display.HTML object>"
      ]
     },
     "metadata": {},
     "output_type": "display_data"
    },
    {
     "data": {
      "text/html": [
       "<span style=\"color:cyan\"> |-structured_data_block_1/dense_block_1/num_layers: 1</span>"
      ],
      "text/plain": [
       "<IPython.core.display.HTML object>"
      ]
     },
     "metadata": {},
     "output_type": "display_data"
    },
    {
     "data": {
      "text/html": [
       "<span style=\"color:blue\"> |-structured_data_block_1/dense_block_1/units_0: 64</span>"
      ],
      "text/plain": [
       "<IPython.core.display.HTML object>"
      ]
     },
     "metadata": {},
     "output_type": "display_data"
    },
    {
     "data": {
      "text/html": [
       "<span style=\"color:cyan\"> |-structured_data_block_1/dense_block_1/units_1: 128</span>"
      ],
      "text/plain": [
       "<IPython.core.display.HTML object>"
      ]
     },
     "metadata": {},
     "output_type": "display_data"
    },
    {
     "data": {
      "text/html": [
       "<span style=\"color:blue\"> |-structured_data_block_1/dense_block_1/units_2: 512</span>"
      ],
      "text/plain": [
       "<IPython.core.display.HTML object>"
      ]
     },
     "metadata": {},
     "output_type": "display_data"
    },
    {
     "data": {
      "text/html": [
       "<span style=\"color:cyan\"> |-structured_data_block_1/dense_block_1/use_batchnorm: True</span>"
      ],
      "text/plain": [
       "<IPython.core.display.HTML object>"
      ]
     },
     "metadata": {},
     "output_type": "display_data"
    },
    {
     "name": "stdout",
     "output_type": "stream",
     "text": [
      "INFO:tensorflow:Oracle triggered exit\n",
      "Epoch 1/20\n",
      "32/32 [==============================] - ETA: 0s - loss: 1.7430 - accuracy: 0.18 - ETA: 0s - loss: 1.8729 - accuracy: 0.25 - ETA: 0s - loss: 1.8057 - accuracy: 0.29 - ETA: 0s - loss: 1.7787 - accuracy: 0.32 - ETA: 0s - loss: 1.7803 - accuracy: 0.34 - ETA: 0s - loss: 1.7671 - accuracy: 0.33 - ETA: 0s - loss: 1.7656 - accuracy: 0.34 - ETA: 0s - loss: 1.7271 - accuracy: 0.35 - ETA: 0s - loss: 1.7250 - accuracy: 0.36 - 0s 14ms/step - loss: 1.7250 - accuracy: 0.3690\n",
      "Epoch 2/20\n",
      "32/32 [==============================] - ETA: 0s - loss: 1.4371 - accuracy: 0.40 - ETA: 0s - loss: 1.5957 - accuracy: 0.37 - ETA: 0s - loss: 1.5585 - accuracy: 0.40 - ETA: 0s - loss: 1.5314 - accuracy: 0.43 - ETA: 0s - loss: 1.5617 - accuracy: 0.42 - ETA: 0s - loss: 1.5927 - accuracy: 0.41 - ETA: 0s - loss: 1.6088 - accuracy: 0.41 - ETA: 0s - loss: 1.5693 - accuracy: 0.42 - 0s 13ms/step - loss: 1.5699 - accuracy: 0.4260\n",
      "Epoch 3/20\n",
      "32/32 [==============================] - ETA: 0s - loss: 1.4944 - accuracy: 0.53 - ETA: 0s - loss: 1.4851 - accuracy: 0.46 - ETA: 0s - loss: 1.4789 - accuracy: 0.45 - ETA: 0s - loss: 1.4410 - accuracy: 0.45 - ETA: 0s - loss: 1.4540 - accuracy: 0.44 - ETA: 0s - loss: 1.4183 - accuracy: 0.45 - ETA: 0s - loss: 1.4243 - accuracy: 0.44 - ETA: 0s - loss: 1.4053 - accuracy: 0.44 - 0s 13ms/step - loss: 1.3988 - accuracy: 0.4580\n",
      "Epoch 4/20\n",
      "32/32 [==============================] - ETA: 0s - loss: 1.3224 - accuracy: 0.53 - ETA: 0s - loss: 1.4054 - accuracy: 0.46 - ETA: 0s - loss: 1.3150 - accuracy: 0.53 - ETA: 0s - loss: 1.3529 - accuracy: 0.50 - ETA: 0s - loss: 1.3378 - accuracy: 0.49 - ETA: 0s - loss: 1.3430 - accuracy: 0.49 - ETA: 0s - loss: 1.3276 - accuracy: 0.49 - ETA: 0s - loss: 1.3187 - accuracy: 0.49 - 0s 13ms/step - loss: 1.3039 - accuracy: 0.4950\n",
      "Epoch 5/20\n",
      "32/32 [==============================] - ETA: 0s - loss: 1.1275 - accuracy: 0.53 - ETA: 0s - loss: 1.3632 - accuracy: 0.46 - ETA: 0s - loss: 1.2385 - accuracy: 0.47 - ETA: 0s - loss: 1.2219 - accuracy: 0.49 - ETA: 0s - loss: 1.2641 - accuracy: 0.49 - ETA: 0s - loss: 1.2547 - accuracy: 0.49 - ETA: 0s - loss: 1.2518 - accuracy: 0.49 - ETA: 0s - loss: 1.2282 - accuracy: 0.50 - 0s 13ms/step - loss: 1.2354 - accuracy: 0.4970\n",
      "Epoch 6/20\n",
      "32/32 [==============================] - ETA: 0s - loss: 1.2598 - accuracy: 0.50 - ETA: 0s - loss: 1.2188 - accuracy: 0.48 - ETA: 0s - loss: 1.1622 - accuracy: 0.51 - ETA: 0s - loss: 1.2150 - accuracy: 0.53 - ETA: 0s - loss: 1.2232 - accuracy: 0.51 - ETA: 0s - loss: 1.2146 - accuracy: 0.51 - ETA: 0s - loss: 1.2123 - accuracy: 0.52 - ETA: 0s - loss: 1.1880 - accuracy: 0.53 - 0s 13ms/step - loss: 1.1738 - accuracy: 0.5380\n",
      "Epoch 7/20\n",
      "32/32 [==============================] - ETA: 0s - loss: 0.8842 - accuracy: 0.59 - ETA: 0s - loss: 1.1847 - accuracy: 0.50 - ETA: 0s - loss: 1.1816 - accuracy: 0.52 - ETA: 0s - loss: 1.1928 - accuracy: 0.52 - ETA: 0s - loss: 1.1699 - accuracy: 0.52 - ETA: 0s - loss: 1.1630 - accuracy: 0.51 - ETA: 0s - loss: 1.1786 - accuracy: 0.51 - ETA: 0s - loss: 1.1856 - accuracy: 0.51 - ETA: 0s - loss: 1.1863 - accuracy: 0.51 - 0s 15ms/step - loss: 1.1863 - accuracy: 0.5100\n",
      "Epoch 8/20\n",
      "32/32 [==============================] - ETA: 0s - loss: 0.9716 - accuracy: 0.65 - ETA: 0s - loss: 1.3344 - accuracy: 0.53 - ETA: 0s - loss: 1.1139 - accuracy: 0.59 - ETA: 0s - loss: 1.1004 - accuracy: 0.59 - ETA: 0s - loss: 1.0901 - accuracy: 0.58 - ETA: 0s - loss: 1.0964 - accuracy: 0.56 - ETA: 0s - loss: 1.0784 - accuracy: 0.57 - ETA: 0s - loss: 1.0767 - accuracy: 0.57 - 0s 13ms/step - loss: 1.0786 - accuracy: 0.5780\n",
      "Epoch 9/20\n",
      "32/32 [==============================] - ETA: 0s - loss: 0.9041 - accuracy: 0.59 - ETA: 0s - loss: 1.0910 - accuracy: 0.55 - ETA: 0s - loss: 1.0450 - accuracy: 0.57 - ETA: 0s - loss: 1.0508 - accuracy: 0.58 - ETA: 0s - loss: 1.0367 - accuracy: 0.59 - ETA: 0s - loss: 1.0448 - accuracy: 0.59 - ETA: 0s - loss: 1.0513 - accuracy: 0.59 - ETA: 0s - loss: 1.0447 - accuracy: 0.58 - 0s 13ms/step - loss: 1.0391 - accuracy: 0.5910\n",
      "Epoch 10/20\n",
      "32/32 [==============================] - ETA: 0s - loss: 1.0473 - accuracy: 0.65 - ETA: 0s - loss: 1.0362 - accuracy: 0.67 - ETA: 0s - loss: 0.9443 - accuracy: 0.67 - ETA: 0s - loss: 0.9383 - accuracy: 0.67 - ETA: 0s - loss: 0.9589 - accuracy: 0.64 - ETA: 0s - loss: 0.9792 - accuracy: 0.63 - ETA: 0s - loss: 0.9651 - accuracy: 0.63 - ETA: 0s - loss: 0.9671 - accuracy: 0.63 - 0s 13ms/step - loss: 0.9683 - accuracy: 0.6280\n",
      "Epoch 11/20\n",
      "32/32 [==============================] - ETA: 0s - loss: 0.8910 - accuracy: 0.62 - ETA: 0s - loss: 1.0375 - accuracy: 0.59 - ETA: 0s - loss: 0.9165 - accuracy: 0.62 - ETA: 0s - loss: 0.9173 - accuracy: 0.61 - ETA: 0s - loss: 0.9002 - accuracy: 0.62 - ETA: 0s - loss: 0.9135 - accuracy: 0.61 - ETA: 0s - loss: 0.9237 - accuracy: 0.62 - ETA: 0s - loss: 0.9344 - accuracy: 0.61 - 0s 13ms/step - loss: 0.9275 - accuracy: 0.6140\n",
      "Epoch 12/20\n",
      "32/32 [==============================] - ETA: 0s - loss: 1.0550 - accuracy: 0.53 - ETA: 0s - loss: 1.0150 - accuracy: 0.53 - ETA: 0s - loss: 0.8680 - accuracy: 0.61 - ETA: 0s - loss: 0.8735 - accuracy: 0.61 - ETA: 0s - loss: 0.8709 - accuracy: 0.61 - ETA: 0s - loss: 0.8609 - accuracy: 0.62 - ETA: 0s - loss: 0.8582 - accuracy: 0.62 - ETA: 0s - loss: 0.8735 - accuracy: 0.62 - 0s 13ms/step - loss: 0.8664 - accuracy: 0.6270\n",
      "Epoch 13/20\n",
      "32/32 [==============================] - ETA: 0s - loss: 0.8018 - accuracy: 0.56 - ETA: 0s - loss: 1.0724 - accuracy: 0.59 - ETA: 0s - loss: 0.8764 - accuracy: 0.66 - ETA: 0s - loss: 0.8596 - accuracy: 0.66 - ETA: 0s - loss: 0.8750 - accuracy: 0.65 - ETA: 0s - loss: 0.8770 - accuracy: 0.64 - ETA: 0s - loss: 0.8563 - accuracy: 0.65 - ETA: 0s - loss: 0.8667 - accuracy: 0.64 - 0s 13ms/step - loss: 0.8667 - accuracy: 0.6490\n",
      "Epoch 14/20\n",
      "32/32 [==============================] - ETA: 0s - loss: 0.6947 - accuracy: 0.65 - ETA: 0s - loss: 0.9661 - accuracy: 0.57 - ETA: 0s - loss: 0.8676 - accuracy: 0.62 - ETA: 0s - loss: 0.8919 - accuracy: 0.63 - ETA: 0s - loss: 0.8902 - accuracy: 0.63 - ETA: 0s - loss: 0.8842 - accuracy: 0.63 - ETA: 0s - loss: 0.8696 - accuracy: 0.63 - 0s 12ms/step - loss: 0.8624 - accuracy: 0.6380\n",
      "Epoch 15/20\n",
      "32/32 [==============================] - ETA: 0s - loss: 0.8109 - accuracy: 0.68 - ETA: 0s - loss: 0.9647 - accuracy: 0.63 - ETA: 0s - loss: 0.9162 - accuracy: 0.63 - ETA: 0s - loss: 0.8809 - accuracy: 0.64 - ETA: 0s - loss: 0.8892 - accuracy: 0.65 - ETA: 0s - loss: 0.8939 - accuracy: 0.63 - ETA: 0s - loss: 0.8793 - accuracy: 0.64 - ETA: 0s - loss: 0.8808 - accuracy: 0.64 - 0s 13ms/step - loss: 0.8804 - accuracy: 0.6490\n",
      "Epoch 16/20\n",
      "32/32 [==============================] - ETA: 0s - loss: 0.8891 - accuracy: 0.68 - ETA: 0s - loss: 0.8500 - accuracy: 0.68 - ETA: 0s - loss: 0.8690 - accuracy: 0.67 - ETA: 0s - loss: 0.8341 - accuracy: 0.67 - ETA: 0s - loss: 0.8353 - accuracy: 0.66 - ETA: 0s - loss: 0.8154 - accuracy: 0.67 - ETA: 0s - loss: 0.8298 - accuracy: 0.66 - ETA: 0s - loss: 0.8206 - accuracy: 0.66 - 0s 13ms/step - loss: 0.8042 - accuracy: 0.6700\n",
      "Epoch 17/20\n",
      "32/32 [==============================] - ETA: 0s - loss: 0.6405 - accuracy: 0.71 - ETA: 0s - loss: 0.9804 - accuracy: 0.62 - ETA: 0s - loss: 0.9010 - accuracy: 0.65 - ETA: 0s - loss: 0.8867 - accuracy: 0.67 - ETA: 0s - loss: 0.8985 - accuracy: 0.66 - ETA: 0s - loss: 0.8732 - accuracy: 0.66 - ETA: 0s - loss: 0.8651 - accuracy: 0.64 - ETA: 0s - loss: 0.8520 - accuracy: 0.65 - 0s 13ms/step - loss: 0.8361 - accuracy: 0.6630\n",
      "Epoch 18/20\n",
      "32/32 [==============================] - ETA: 0s - loss: 0.7085 - accuracy: 0.68 - ETA: 0s - loss: 0.9106 - accuracy: 0.62 - ETA: 0s - loss: 0.8433 - accuracy: 0.66 - ETA: 0s - loss: 0.8993 - accuracy: 0.66 - ETA: 0s - loss: 0.8535 - accuracy: 0.68 - ETA: 0s - loss: 0.8549 - accuracy: 0.67 - ETA: 0s - loss: 0.8441 - accuracy: 0.67 - ETA: 0s - loss: 0.8258 - accuracy: 0.67 - ETA: 0s - loss: 0.8212 - accuracy: 0.67 - 0s 14ms/step - loss: 0.8172 - accuracy: 0.6790\n",
      "Epoch 19/20\n"
     ]
    },
    {
     "name": "stdout",
     "output_type": "stream",
     "text": [
      "32/32 [==============================] - ETA: 0s - loss: 0.5328 - accuracy: 0.78 - ETA: 0s - loss: 0.7589 - accuracy: 0.66 - ETA: 0s - loss: 0.6651 - accuracy: 0.72 - ETA: 0s - loss: 0.6623 - accuracy: 0.73 - ETA: 0s - loss: 0.6947 - accuracy: 0.72 - ETA: 0s - loss: 0.7154 - accuracy: 0.71 - ETA: 0s - loss: 0.7419 - accuracy: 0.70 - 0s 12ms/step - loss: 0.7375 - accuracy: 0.7040\n",
      "Epoch 20/20\n",
      "32/32 [==============================] - ETA: 0s - loss: 0.7726 - accuracy: 0.62 - ETA: 0s - loss: 0.8042 - accuracy: 0.65 - ETA: 0s - loss: 0.7353 - accuracy: 0.70 - ETA: 0s - loss: 0.7214 - accuracy: 0.71 - ETA: 0s - loss: 0.7408 - accuracy: 0.71 - ETA: 0s - loss: 0.7369 - accuracy: 0.71 - ETA: 0s - loss: 0.7207 - accuracy: 0.70 - ETA: 0s - loss: 0.7229 - accuracy: 0.70 - 0s 13ms/step - loss: 0.7191 - accuracy: 0.7100\n"
     ]
    }
   ],
   "source": [
    "model_finder.fit(X_train, y_train)"
   ]
  },
  {
   "cell_type": "code",
   "execution_count": 9,
   "metadata": {},
   "outputs": [
    {
     "name": "stdout",
     "output_type": "stream",
     "text": [
      "32/32 [==============================] - ETA: 0s - loss: 1.2712 - accuracy: 0.53 - ETA: 0s - loss: 1.1446 - accuracy: 0.54 - ETA: 0s - loss: 1.2304 - accuracy: 0.52 - ETA: 0s - loss: 1.1981 - accuracy: 0.52 - ETA: 0s - loss: 1.1907 - accuracy: 0.51 - 0s 8ms/step - loss: 1.1931 - accuracy: 0.5140\n"
     ]
    },
    {
     "data": {
      "text/plain": [
       "[1.1931403875350952, 0.5139999985694885]"
      ]
     },
     "execution_count": 9,
     "metadata": {},
     "output_type": "execute_result"
    }
   ],
   "source": [
    "model_finder.evaluate(X_test, y_test)"
   ]
  },
  {
   "cell_type": "code",
   "execution_count": 10,
   "metadata": {},
   "outputs": [],
   "source": [
    "end_time = time.time()"
   ]
  },
  {
   "cell_type": "code",
   "execution_count": 11,
   "metadata": {
    "tags": []
   },
   "outputs": [
    {
     "name": "stdout",
     "output_type": "stream",
     "text": [
      "Time spent 1857.601753950119\n"
     ]
    }
   ],
   "source": [
    "print(\"Time spent\", end_time - start_time)"
   ]
  },
  {
   "cell_type": "code",
   "execution_count": null,
   "metadata": {},
   "outputs": [],
   "source": []
  }
 ],
 "metadata": {
  "kernelspec": {
   "display_name": "Python 3",
   "language": "python",
   "name": "python3"
  },
  "language_info": {
   "codemirror_mode": {
    "name": "ipython",
    "version": 3
   },
   "file_extension": ".py",
   "mimetype": "text/x-python",
   "name": "python",
   "nbconvert_exporter": "python",
   "pygments_lexer": "ipython3",
   "version": "3.8.3rc1"
  }
 },
 "nbformat": 4,
 "nbformat_minor": 4
}
