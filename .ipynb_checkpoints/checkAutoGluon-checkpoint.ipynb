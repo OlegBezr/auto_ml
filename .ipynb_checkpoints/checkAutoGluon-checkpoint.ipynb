{
 "cells": [
  {
   "cell_type": "code",
   "execution_count": 1,
   "metadata": {},
   "outputs": [
    {
     "name": "stdout",
     "output_type": "stream",
     "text": [
      "Requirement already satisfied: mxnet in d:\\gitprojects\\machinelearning\\auto_ml\\auto_gluon\\lib\\site-packages (1.6.0)"
     ]
    },
    {
     "name": "stderr",
     "output_type": "stream",
     "text": [
      "WARNING: You are using pip version 19.2.3, however version 20.1.1 is available.\n",
      "You should consider upgrading via the 'python -m pip install --upgrade pip' command.\n"
     ]
    },
    {
     "name": "stdout",
     "output_type": "stream",
     "text": [
      "\n",
      "Requirement already satisfied: numpy<1.17.0,>=1.8.2 in d:\\gitprojects\\machinelearning\\auto_ml\\auto_gluon\\lib\\site-packages (from mxnet) (1.16.6)\n",
      "Requirement already satisfied: requests<2.19.0,>=2.18.4 in d:\\gitprojects\\machinelearning\\auto_ml\\auto_gluon\\lib\\site-packages (from mxnet) (2.18.4)\n",
      "Requirement already satisfied: graphviz<0.9.0,>=0.8.1 in d:\\gitprojects\\machinelearning\\auto_ml\\auto_gluon\\lib\\site-packages (from mxnet) (0.8.4)\n",
      "Requirement already satisfied: chardet<3.1.0,>=3.0.2 in d:\\gitprojects\\machinelearning\\auto_ml\\auto_gluon\\lib\\site-packages (from requests<2.19.0,>=2.18.4->mxnet) (3.0.4)\n",
      "Requirement already satisfied: certifi>=2017.4.17 in d:\\gitprojects\\machinelearning\\auto_ml\\auto_gluon\\lib\\site-packages (from requests<2.19.0,>=2.18.4->mxnet) (2020.6.20)\n",
      "Requirement already satisfied: idna<2.7,>=2.5 in d:\\gitprojects\\machinelearning\\auto_ml\\auto_gluon\\lib\\site-packages (from requests<2.19.0,>=2.18.4->mxnet) (2.6)\n",
      "Requirement already satisfied: urllib3<1.23,>=1.21.1 in d:\\gitprojects\\machinelearning\\auto_ml\\auto_gluon\\lib\\site-packages (from requests<2.19.0,>=2.18.4->mxnet) (1.22)\n"
     ]
    }
   ],
   "source": [
    "!pip install mxnet"
   ]
  },
  {
   "cell_type": "code",
   "execution_count": 1,
   "metadata": {},
   "outputs": [
    {
     "name": "stderr",
     "output_type": "stream",
     "text": [
      "d:\\gitprojects\\machinelearning\\auto_ml\\auto_gluon\\lib\\site-packages\\mxnet\\optimizer\\optimizer.py:163: UserWarning: WARNING: New optimizer gluonnlp.optimizer.lamb.LAMB is overriding existing optimizer mxnet.optimizer.optimizer.LAMB\n",
      "  warnings.warn('WARNING: New optimizer %s.%s is overriding '\n"
     ]
    }
   ],
   "source": [
    "from pandas import read_csv\n",
    "import pandas as pd\n",
    "from sklearn.model_selection import train_test_split\n",
    "import autogluon as ag\n",
    "from autogluon import TabularPrediction as task"
   ]
  },
  {
   "cell_type": "code",
   "execution_count": 2,
   "metadata": {},
   "outputs": [],
   "source": [
    "test = read_csv(\"NTI_data/test.csv\")\n",
    "train_target = read_csv(\"NTI_data/train_target.csv\")\n",
    "transactions_test = read_csv(\"NTI_data/transactions_test.csv\")\n",
    "transactions_train = read_csv(\"NTI_data/transactions_train.csv\")"
   ]
  },
  {
   "cell_type": "code",
   "execution_count": 3,
   "metadata": {},
   "outputs": [],
   "source": [
    "#Train\n",
    "#Признаки, связанные с суммой покупки\n",
    "agg_features=transactions_train.groupby('client_id')['amount_rur'].agg(['sum','mean','max']).reset_index()\n",
    "\n",
    "#Количество в каждой категории\n",
    "amount_of_purchase=transactions_train.groupby(['client_id','small_group'])['amount_rur'].count()\n",
    "counts_train=amount_of_purchase.reset_index().pivot(index='client_id', \\\n",
    "                                                      columns='small_group',values='amount_rur')\n",
    "counts_train=counts_train.fillna(0)\n",
    "counts_train.columns=['small_group_' + str(i) for i in counts_train.columns]\n",
    "\n",
    "#Сумма в каждой категории\n",
    "sum_of_group=transactions_train.groupby(['client_id','small_group'])['amount_rur'].sum()\n",
    "sum_train=sum_of_group.reset_index().pivot(index='client_id', \\\n",
    "                                                      columns='small_group',values='amount_rur')\n",
    "sum_train=sum_train.fillna(0)\n",
    "sum_train.columns=['small_group_sum_'+str(i) for i in sum_train.columns]\n",
    "\n",
    "#Минимум в каждой категории\n",
    "min_of_group=transactions_train.groupby(['client_id','small_group'])['amount_rur'].min()\n",
    "min_train=sum_of_group.reset_index().pivot(index='client_id', \\\n",
    "                                                      columns='small_group',values='amount_rur')\n",
    "min_train=min_train.fillna(0)\n",
    "min_train.columns=['small_group_min_'+str(i) for i in min_train.columns]\n",
    "\n",
    "#Максимум в каждой категории\n",
    "max_of_group=transactions_train.groupby(['client_id','small_group'])['amount_rur'].min()\n",
    "max_train=sum_of_group.reset_index().pivot(index='client_id', \\\n",
    "                                                      columns='small_group',values='amount_rur')\n",
    "max_train=max_train.fillna(0)\n",
    "max_train.columns=['small_group_max_'+str(i) for i in max_train.columns]\n",
    "\n",
    "#Средняя сумма в каждой категории\n",
    "avg_of_group=transactions_train.groupby(['client_id','small_group'])['amount_rur'].mean()\n",
    "avg_train=avg_of_group.reset_index().pivot(index='client_id', \\\n",
    "                                                      columns='small_group',values='amount_rur')\n",
    "avg_train=avg_train.fillna(0)\n",
    "avg_train.columns=['small_group_avg_'+str(i) for i in avg_train.columns]\n",
    "\n",
    "#Соединим все в одну таблицу\n",
    "counts_train=pd.merge(sum_train,counts_train,on='client_id')\n",
    "counts_train=pd.merge(avg_train,counts_train,on='client_id')\n",
    "counts_train=pd.merge(min_train,counts_train,on='client_id')\n",
    "counts_train=pd.merge(max_train,counts_train,on='client_id')\n",
    "train=pd.merge(train_target,agg_features,on='client_id')\n",
    "train=pd.merge(train,counts_train.reset_index(),on='client_id')"
   ]
  },
  {
   "cell_type": "code",
   "execution_count": 4,
   "metadata": {},
   "outputs": [],
   "source": [
    "train_data = train.head(250)\n",
    "test_data = train.tail(50)"
   ]
  },
  {
   "cell_type": "code",
   "execution_count": null,
   "metadata": {
    "pycharm": {
     "is_executing": false
    }
   },
   "outputs": [
    {
     "name": "stderr",
     "output_type": "stream",
     "text": [
      "No output_directory specified. Models will be saved in: AutogluonModels/ag-20200725_155641\\\n",
      "Beginning AutoGluon training ...\n",
      "AutoGluon will save models to AutogluonModels/ag-20200725_155641\\\n",
      "Train Data Rows:    25000\n",
      "Train Data Columns: 1015\n",
      "Preprocessing data ...\n",
      "Train Data Class Count: 4\n",
      "Feature Generator processed 25000 data points with 1009 features\n",
      "Original Features:\n",
      "\tint features: 1\n",
      "\tfloat features: 1008\n",
      "\tobject features: 0\n",
      "Generated Features:\n",
      "\tint features: 0\n",
      "All Features:\n",
      "\tint features: 1\n",
      "\tfloat features: 1008\n",
      "\tobject features: 0\n",
      "Total time taken in fit_transform: 3.9462108612060547\n",
      "\tData preprocessing and feature engineering runtime = 4.72s ...\n",
      "AutoGluon will gauge predictive performance using evaluation metric: accuracy\n",
      "To change this, specify the eval_metric argument of fit()\n",
      "AutoGluon will early stop models using evaluation metric: accuracy\n",
      "Saving AutogluonModels/ag-20200725_155641\\learner.pkl\n",
      "Saving AutogluonModels/ag-20200725_155641\\utils\\data\\X_train.pkl\n",
      "Saving AutogluonModels/ag-20200725_155641\\utils\\data\\y_train.pkl\n",
      "Fitting model: RandomForestClassifierGini_STACKER_l0 ...\n",
      "Saving AutogluonModels/ag-20200725_155641\\models\\RandomForestClassifierGini_STACKER_l0\\utils\\model_template.pkl\n"
     ]
    }
   ],
   "source": [
    "predictor = task.fit(train_data=train_data, label='bins', problem_type=\"multiclass\", auto_stack=True, verbosity=4)\n",
    "performance = predictor.evaluate(test_data)"
   ]
  },
  {
   "cell_type": "code",
   "execution_count": null,
   "metadata": {},
   "outputs": [],
   "source": []
  }
 ],
 "metadata": {
  "kernelspec": {
   "display_name": "Python 3",
   "language": "python",
   "name": "python3"
  },
  "language_info": {
   "codemirror_mode": {
    "name": "ipython",
    "version": 3
   },
   "file_extension": ".py",
   "mimetype": "text/x-python",
   "name": "python",
   "nbconvert_exporter": "python",
   "pygments_lexer": "ipython3",
   "version": "3.8.3rc1"
  }
 },
 "nbformat": 4,
 "nbformat_minor": 4
}
