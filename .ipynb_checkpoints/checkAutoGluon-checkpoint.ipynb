{
 "cells": [
  {
   "cell_type": "code",
   "execution_count": 2,
   "metadata": {},
   "outputs": [],
   "source": [
    "from pandas import read_csv\n",
    "import pandas as pd\n",
    "from sklearn.model_selection import train_test_split\n",
    "\n",
    "test = read_csv(\"NTI_data/test.csv\")\n",
    "train_target = read_csv(\"NTI_data/train_target.csv\")\n",
    "transactions_test = read_csv(\"NTI_data/transactions_test.csv\")\n",
    "transactions_train = read_csv(\"NTI_data/transactions_train.csv\")"
   ]
  },
  {
   "cell_type": "code",
   "execution_count": 3,
   "metadata": {},
   "outputs": [],
   "source": [
    "#Train\n",
    "#Признаки, связанные с суммой покупки\n",
    "agg_features=transactions_train.groupby('client_id')['amount_rur'].agg(['sum','mean','max']).reset_index()\n",
    "\n",
    "#Количество в каждой категории\n",
    "amount_of_purchase=transactions_train.groupby(['client_id','small_group'])['amount_rur'].count()\n",
    "counts_train=amount_of_purchase.reset_index().pivot(index='client_id', \\\n",
    "                                                      columns='small_group',values='amount_rur')\n",
    "counts_train=counts_train.fillna(0)\n",
    "counts_train.columns=['small_group_' + str(i) for i in counts_train.columns]\n",
    "\n",
    "#Сумма в каждой категории\n",
    "sum_of_group=transactions_train.groupby(['client_id','small_group'])['amount_rur'].sum()\n",
    "sum_train=sum_of_group.reset_index().pivot(index='client_id', \\\n",
    "                                                      columns='small_group',values='amount_rur')\n",
    "sum_train=sum_train.fillna(0)\n",
    "sum_train.columns=['small_group_sum_'+str(i) for i in sum_train.columns]\n",
    "\n",
    "#Минимум в каждой категории\n",
    "min_of_group=transactions_train.groupby(['client_id','small_group'])['amount_rur'].min()\n",
    "min_train=sum_of_group.reset_index().pivot(index='client_id', \\\n",
    "                                                      columns='small_group',values='amount_rur')\n",
    "min_train=min_train.fillna(0)\n",
    "min_train.columns=['small_group_min_'+str(i) for i in min_train.columns]\n",
    "\n",
    "#Максимум в каждой категории\n",
    "max_of_group=transactions_train.groupby(['client_id','small_group'])['amount_rur'].min()\n",
    "max_train=sum_of_group.reset_index().pivot(index='client_id', \\\n",
    "                                                      columns='small_group',values='amount_rur')\n",
    "max_train=max_train.fillna(0)\n",
    "max_train.columns=['small_group_max_'+str(i) for i in max_train.columns]\n",
    "\n",
    "#Средняя сумма в каждой категории\n",
    "avg_of_group=transactions_train.groupby(['client_id','small_group'])['amount_rur'].mean()\n",
    "avg_train=avg_of_group.reset_index().pivot(index='client_id', \\\n",
    "                                                      columns='small_group',values='amount_rur')\n",
    "avg_train=avg_train.fillna(0)\n",
    "avg_train.columns=['small_group_avg_'+str(i) for i in avg_train.columns]\n",
    "\n",
    "#Соединим все в одну таблицу\n",
    "counts_train=pd.merge(sum_train,counts_train,on='client_id')\n",
    "counts_train=pd.merge(avg_train,counts_train,on='client_id')\n",
    "counts_train=pd.merge(min_train,counts_train,on='client_id')\n",
    "counts_train=pd.merge(max_train,counts_train,on='client_id')\n",
    "train=pd.merge(train_target,agg_features,on='client_id')\n",
    "train=pd.merge(train,counts_train.reset_index(),on='client_id')"
   ]
  },
  {
   "cell_type": "code",
   "execution_count": 4,
   "metadata": {},
   "outputs": [],
   "source": [
    "train_data = train.head(25000)"
   ]
  },
  {
   "cell_type": "code",
   "execution_count": 5,
   "metadata": {},
   "outputs": [],
   "source": [
    "test_data = train.tail(5000)"
   ]
  },
  {
   "cell_type": "code",
   "execution_count": 7,
   "metadata": {
    "pycharm": {
     "is_executing": false
    }
   },
   "outputs": [
    {
     "ename": "ModuleNotFoundError",
     "evalue": "No module named 'autogluon'",
     "output_type": "error",
     "traceback": [
      "\u001b[1;31m---------------------------------------------------------------------------\u001b[0m",
      "\u001b[1;31mModuleNotFoundError\u001b[0m                       Traceback (most recent call last)",
      "\u001b[1;32m<ipython-input-7-b4d6230e5f8c>\u001b[0m in \u001b[0;36m<module>\u001b[1;34m\u001b[0m\n\u001b[1;32m----> 1\u001b[1;33m \u001b[1;32mimport\u001b[0m \u001b[0mautogluon\u001b[0m \u001b[1;32mas\u001b[0m \u001b[0mag\u001b[0m\u001b[1;33m\u001b[0m\u001b[1;33m\u001b[0m\u001b[0m\n\u001b[0m\u001b[0;32m      2\u001b[0m \u001b[1;32mfrom\u001b[0m \u001b[0mautogluon\u001b[0m \u001b[1;32mimport\u001b[0m \u001b[0mTabularPrediction\u001b[0m \u001b[1;32mas\u001b[0m \u001b[0mtask\u001b[0m\u001b[1;33m\u001b[0m\u001b[1;33m\u001b[0m\u001b[0m\n\u001b[0;32m      3\u001b[0m \u001b[0mpredictor\u001b[0m \u001b[1;33m=\u001b[0m \u001b[0mtask\u001b[0m\u001b[1;33m.\u001b[0m\u001b[0mfit\u001b[0m\u001b[1;33m(\u001b[0m\u001b[0mtrain_data\u001b[0m\u001b[1;33m=\u001b[0m\u001b[0mtrain_data\u001b[0m\u001b[1;33m,\u001b[0m \u001b[0mlabel\u001b[0m\u001b[1;33m=\u001b[0m\u001b[1;34m'bins'\u001b[0m\u001b[1;33m,\u001b[0m \u001b[0mproblem_type\u001b[0m\u001b[1;33m=\u001b[0m\u001b[1;34m\"multiclass\"\u001b[0m\u001b[1;33m,\u001b[0m \u001b[0mauto_stack\u001b[0m\u001b[1;33m=\u001b[0m\u001b[1;32mTrue\u001b[0m\u001b[1;33m)\u001b[0m\u001b[1;33m\u001b[0m\u001b[1;33m\u001b[0m\u001b[0m\n\u001b[0;32m      4\u001b[0m \u001b[0mperformance\u001b[0m \u001b[1;33m=\u001b[0m \u001b[0mpredictor\u001b[0m\u001b[1;33m.\u001b[0m\u001b[0mevaluate\u001b[0m\u001b[1;33m(\u001b[0m\u001b[0mtest_data\u001b[0m\u001b[1;33m)\u001b[0m\u001b[1;33m\u001b[0m\u001b[1;33m\u001b[0m\u001b[0m\n",
      "\u001b[1;31mModuleNotFoundError\u001b[0m: No module named 'autogluon'"
     ]
    }
   ],
   "source": [
    "import autogluon as ag\n",
    "from autogluon import TabularPrediction as task\n",
    "predictor = task.fit(train_data=train_data, label='bins', problem_type=\"multiclass\", auto_stack=True)\n",
    "performance = predictor.evaluate(test_data)"
   ]
  },
  {
   "cell_type": "code",
   "execution_count": null,
   "metadata": {},
   "outputs": [],
   "source": []
  }
 ],
 "metadata": {
  "kernelspec": {
   "display_name": "Python 3",
   "language": "python",
   "name": "python3"
  },
  "language_info": {
   "codemirror_mode": {
    "name": "ipython",
    "version": 3
   },
   "file_extension": ".py",
   "mimetype": "text/x-python",
   "name": "python",
   "nbconvert_exporter": "python",
   "pygments_lexer": "ipython3",
   "version": "3.7.4"
  }
 },
 "nbformat": 4,
 "nbformat_minor": 1
}
